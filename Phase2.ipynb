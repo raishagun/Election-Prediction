{
  "nbformat": 4,
  "nbformat_minor": 0,
  "metadata": {
    "colab": {
      "name": "Phase2.ipynb",
      "provenance": [],
      "authorship_tag": "ABX9TyPFrh+sMKXzWU8DLVCGXSh+",
      "include_colab_link": true
    },
    "kernelspec": {
      "name": "python3",
      "display_name": "Python 3"
    }
  },
  "cells": [
    {
      "cell_type": "markdown",
      "metadata": {
        "id": "view-in-github",
        "colab_type": "text"
      },
      "source": [
        "<a href=\"https://colab.research.google.com/github/raishagun/Election-Prediction/blob/master/Phase2.ipynb\" target=\"_parent\"><img src=\"https://colab.research.google.com/assets/colab-badge.svg\" alt=\"Open In Colab\"/></a>"
      ]
    },
    {
      "cell_type": "code",
      "metadata": {
        "id": "bJpq5ADNjMym",
        "outputId": "23aecce8-a2e6-4ec4-e7f2-a242b7317cbe",
        "colab": {
          "base_uri": "https://localhost:8080/"
        }
      },
      "source": [
        "!git clone https://github.com/raishagun/Election-Prediction.git"
      ],
      "execution_count": 1,
      "outputs": [
        {
          "output_type": "stream",
          "text": [
            "Cloning into 'Election-Prediction'...\n",
            "remote: Enumerating objects: 41, done.\u001b[K\n",
            "remote: Counting objects: 100% (41/41), done.\u001b[K\n",
            "remote: Compressing objects: 100% (34/34), done.\u001b[K\n",
            "remote: Total 41 (delta 10), reused 0 (delta 0), pack-reused 0\u001b[K\n",
            "Unpacking objects: 100% (41/41), done.\n"
          ],
          "name": "stdout"
        }
      ]
    },
    {
      "cell_type": "code",
      "metadata": {
        "id": "FeIdFrZZAG5Z",
        "outputId": "951077a9-1cfa-4315-d9cc-d0ff10a6cfa5",
        "colab": {
          "resources": {
            "http://localhost:8080/nbextensions/google.colab/files.js": {
              "data": "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",
              "ok": true,
              "headers": [
                [
                  "content-type",
                  "application/javascript"
                ]
              ],
              "status": 200,
              "status_text": ""
            }
          },
          "base_uri": "https://localhost:8080/",
          "height": 89
        }
      },
      "source": [
        "import pandas as pd\n",
        "from google.colab import files\n",
        "uploaded = files.upload()"
      ],
      "execution_count": 6,
      "outputs": [
        {
          "output_type": "display_data",
          "data": {
            "text/html": [
              "\n",
              "     <input type=\"file\" id=\"files-37896eff-4c17-4f01-8998-1465626aedd5\" name=\"files[]\" multiple disabled\n",
              "        style=\"border:none\" />\n",
              "     <output id=\"result-37896eff-4c17-4f01-8998-1465626aedd5\">\n",
              "      Upload widget is only available when the cell has been executed in the\n",
              "      current browser session. Please rerun this cell to enable.\n",
              "      </output>\n",
              "      <script src=\"/nbextensions/google.colab/files.js\"></script> "
            ],
            "text/plain": [
              "<IPython.core.display.HTML object>"
            ]
          },
          "metadata": {
            "tags": []
          }
        },
        {
          "output_type": "stream",
          "text": [
            "Saving election19_1.csv to election19_1.csv\n"
          ],
          "name": "stdout"
        }
      ]
    },
    {
      "cell_type": "code",
      "metadata": {
        "id": "05q-0r3YDqhn",
        "outputId": "d9801821-38ae-42da-9a8d-392ea9afc3ad",
        "colab": {
          "base_uri": "https://localhost:8080/"
        }
      },
      "source": [
        "for fn in uploaded.keys():\n",
        "  print('User uploaded file \"{name}\" with length {length} bytes'.format(name=fn, length=len(uploaded[fn])))"
      ],
      "execution_count": 8,
      "outputs": [
        {
          "output_type": "stream",
          "text": [
            "User uploaded file \"election19_1.csv\" with length 26660 bytes\n"
          ],
          "name": "stdout"
        }
      ]
    },
    {
      "cell_type": "code",
      "metadata": {
        "id": "xARXFSuOEGsC",
        "outputId": "3e9e914c-fc82-40d6-bf2e-96296473618c",
        "colab": {
          "base_uri": "https://localhost:8080/"
        }
      },
      "source": [
        "uploaded"
      ],
      "execution_count": 9,
      "outputs": [
        {
          "output_type": "execute_result",
          "data": {
            "text/plain": [
              "{'election19_1.csv': b'RT @kapsology: Stop watching news till elections are over.  Stop forwarding any communal message on whatsapp till elections are over.  Join\\xe2\\x80\\xa6\\nRT @dpradhanbjp: #ModiGovt asked the Odisha Govt to share the details of farmers to transfer the benefits to farmers under PM KISAN Yojana \\xe2\\x80\\xa6\\nRT @davidfrawleyved: With the 2019 Lok Sabha elections approaching a powerful new Modi wave is arising to carry him to a second term. Is th\\xe2\\x80\\xa6\\nRT @IndiaToday: Rahul Gandhi is more popular than the Prime Minister among Scheduled Castes (SC) and Muslim communities  the #PoliticalStoc\\xe2\\x80\\xa6\\nRT @OmarAbdullah: First time since 1996 Assembly elections in J&amp;K are not being held on time. Remember this the next time you are praising\\xe2\\x80\\xa6\\nRT @PChidambaram_IN: My  @IndianExpress Column | #AcrosstheAisle :  Will constitutional values survive elections?  https://t.co/dTYqTmezX1\\nRT @Vidyakailankaje: What these ppl eat..? What is filled inside their skull?  Do the ppl of Cong hv a part called Brain in their body.?!\\xe2\\x80\\xa6\\nRT @Babu_Bhaiyaa: In some states BJP doing so good that.. they will not lose elections.. even if they appoint Prakash Javadekar ji or Mukht\\xe2\\x80\\xa6\\nRT @squintneon: Elections are a  huge waste of money and time for a poor  country like  India .  Can we just already declare Modi ji as the\\xe2\\x80\\xa6\\n@ArvindKejriwal Dear @ArvindKejriwal  sir Plz  Stop Fooling #delhi people .u r no longer Representative of Common m\\xe2\\x80\\xa6 https://t.co/yA4S1iyqhk\\nRT @MahapatPravat: Must read: India elections 2019: Last word on Congress-Aam Admi Party tie-up yet to be said. Congress and Kejriwal reali\\xe2\\x80\\xa6\\nRT @rishibagree: @RahulGandhi How did #NiravModi get loans under Modi Govt in 2011 &amp; went on becoming a billionaire featuring in Forbes Mag\\xe2\\x80\\xa6\\nRT @ashokepandit: It is the festival of democracy and within 2 months... it will be the Diwali of democracy when the Pradhan Sevak @narendr\\xe2\\x80\\xa6\\nRT @indiatvnews: With BJP at 238  NDA predicted to win 285 seats in #LokSabhaElections2019 : India TV-CNX Opinion poll https://t.co/OJ9n4DC\\xe2\\x80\\xa6\\nRT @IndiaToday: Violation of EC\\'s guidelines has already begun ahead of 2019 Lok Sabha elections. IAF\\'s wing commander Abhinandan\\'s photogr\\xe2\\x80\\xa6\\nRT @cpimspeak: Election Commission slaps BJP\\'s shameless use of the Military &amp; Photos of Defense Personnel such as #Abhinandan for its Elec\\xe2\\x80\\xa6\\nRT @Airavta: Thank you Modi Ji for allowing Elections to happen in India.\\n@RifatJawaid how many seats are in Jammu and Kashmir 6 or 8\\nRT @indiatvnews: With BJP at 238  NDA predicted to win 285 seats in #LokSabhaElections2019 : India TV-CNX Opinion poll https://t.co/OJ9n4DC\\xe2\\x80\\xa6\\nRT @Babu_Bhaiyaa: In some states BJP doing so good that.. they will not lose elections.. even if they appoint Prakash Javadekar ji or Mukht\\xe2\\x80\\xa6\\nRT @squintneon: Elections are a  huge waste of money and time for a poor  country like  India .  Can we just already declare Modi ji as the\\xe2\\x80\\xa6\\nRT @dpradhanbjp: Impossible is now possible under the #ModiGovt. Urged party karyakartas to work harder and public to re-elect @narendramod\\xe2\\x80\\xa6\\nRT @IndiaToday: Violation of EC\\'s guidelines has already begun ahead of 2019 Lok Sabha elections. IAF\\'s wing commander Abhinandan\\'s photogr\\xe2\\x80\\xa6\\nRT @rahulroushan: Elections in West Bengal tend to be violent and one-sided  but here is why Modi magic might work in Mamata\\xe2\\x80\\x99s bastion http\\xe2\\x80\\xa6\\nRT @squintneon: Elections are a  huge waste of money and time for a poor  country like  India .  Can we just already declare Modi ji as the\\xe2\\x80\\xa6\\nRT @Airavta: Thank you Modi Ji for allowing Elections to happen in India.\\n#PhirEkBaarModiSarkar becomes Modi\\xe2\\x80\\x99s latest poll push after EC announces election dates | Elections News  The India\\xe2\\x80\\xa6 https://t.co/Omsso5IFQs\\nRT @republic: NEW LOW IN POLITICS |  Congress leader compares PM Narendra Modi to a terrorist as Rahul Gandhi watches on https://t.co/meL4F\\xe2\\x80\\xa6\\nRT @muglikar_: Have you observed  Modi is inaugurating a lot of projects before Model Code of Conduct  especially the ones he had announced\\xe2\\x80\\xa6\\nLooking forward for Lok Sabha elections 2019..!! All BJP Karyakarta\\'s excited and ready to work for return of Modi\\xe2\\x80\\xa6 https://t.co/aWuH0kgHNg\\nRT @skash336: @ArvindKejriwal Dear @ArvindKejriwal  sir Plz  Stop Fooling #delhi people .u r no longer Representative of Common men .Bjp k\\xe2\\x80\\xa6\\nRT @squintneon: Elections are a  huge waste of money and time for a poor  country like  India .  Can we just already declare Modi ji as the\\xe2\\x80\\xa6\\nRT @anirbanganguly: Friends  join in for a special address by Smt @SushmaSwaraj ji on:   India\\'s World: #ModiGovt\\'s Foreign Policy.  Amb As\\xe2\\x80\\xa6\\nRT @squintneon: Elections are a  huge waste of money and time for a poor  country like  India .  Can we just already declare Modi ji as the\\xe2\\x80\\xa6\\nRT @India_Resists: Modi can engineer another attack to win elections  says Raj Thackrey. https://t.co/QKQrLhk6Q7\\nRT @republic: #May23WithArnab | WATCH: \"No doubt BJP will win over 74 seats  including Amethi &amp; Azamgarh\": Yogi Adityanath eyes massive res\\xe2\\x80\\xa6\\nRT @Drpratiksha1: These are the kinds who give the credit of their birth to doctor instead of their Parents. \\xf0\\x9f\\x98\\x80 https://t.co/pEO0syBWUc\\nRT @Airavta: Thank you Modi Ji for allowing Elections to happen in India.\\nRT @ashokepandit: It is the festival of democracy and within 2 months... it will be the Diwali of democracy when the Pradhan Sevak @narendr\\xe2\\x80\\xa6\\nKashmiri based parties want early elections but India deprived them the basics of democracy. Keeping the peoples ex\\xe2\\x80\\xa6 https://t.co/qPkXVp4Xqw\\nRT @squintneon: Elections are a  huge waste of money and time for a poor  country like  India .  Can we just already declare Modi ji as the\\xe2\\x80\\xa6\\nlanat wasuh modi ko ... his game plan will also falied.. \\xd8\\xaa\\xdb\\x81\\xd9\\x88 \\xda\\xaf\\xd8\\xb3\\xd9\\x88 \\xd9\\x88\\xda\\x86\\xda\\xbe\\xd8\\xa7 \\xd9\\x86 \\xdb\\x94\\xdb\\x94\\xdb\\x94\\nRT @India_Resists: Modi can engineer another attack to win elections  says Raj Thackrey. https://t.co/QKQrLhk6Q7\\nSita somehow sounds BJP as soon he starts surfing in BongCPM pond .. \\xf0\\x9f\\x98\\x82\\nRT @squintneon: Elections are a  huge waste of money and time for a poor  country like  India .  Can we just already declare Modi ji as the\\xe2\\x80\\xa6\\nRT @dpradhanbjp: #ModiGovt asked the Odisha Govt to share the details of farmers to transfer the benefits to farmers under PM KISAN Yojana \\xe2\\x80\\xa6\\nRT @kapsology: Stop watching news till elections are over.  Stop forwarding any communal message on whatsapp till elections are over.  Join\\xe2\\x80\\xa6\\nRT @ashokepandit: It is the festival of democracy and within 2 months... it will be the Diwali of democracy when the Pradhan Sevak @narendr\\xe2\\x80\\xa6\\nRT @EconomicTimes: Sarma while talking to media persons said that in Assam #BJP will win 9 to 11 seats. Assam has 14 #LokSabha seats. . #Lo\\xe2\\x80\\xa6\\nRT @squintneon: Elections are a  huge waste of money and time for a poor  country like  India .  Can we just already declare Modi ji as the\\xe2\\x80\\xa6\\nRT @dpradhanbjp: Impossible is now possible under the #ModiGovt. Urged party karyakartas to work harder and public to re-elect @narendramod\\xe2\\x80\\xa6\\nRT @Airavta: Thank you Modi Ji for allowing Elections to happen in India.\\nRT @Airavta: Thank you Modi Ji for allowing Elections to happen in India.\\nRT @dpradhanbjp: Impossible is now possible under the #ModiGovt. Urged party karyakartas to work harder and public to re-elect @narendramod\\xe2\\x80\\xa6\\nHere We Go #Pakistan. Here We Go.  #BJP CASHING IN #AbhiNandan FOR ELECTIONS.   Posters across #India springing up.\\xe2\\x80\\xa6 https://t.co/gVVh05WcbH\\nHope you remember how desperately NC pleaded before EC to postpone polls. But PDP as \\xe2\\x80\\x98you accuse them of mishandlin\\xe2\\x80\\xa6 https://t.co/UPSH61fNyB\\nRT @squintneon: Elections are a  huge waste of money and time for a poor  country like  India .  Can we just already declare Modi ji as the\\xe2\\x80\\xa6\\nRT @ashokepandit: It is the festival of democracy and within 2 months... it will be the Diwali of democracy when the Pradhan Sevak @narendr\\xe2\\x80\\xa6\\nRT @squintneon: Elections are a  huge waste of money and time for a poor  country like  India .  Can we just already declare Modi ji as the\\xe2\\x80\\xa6\\nRT @Awhadspeaks: @narendramodi We will discuss also on the promises given by #Modi in 2014 elections also we are thankfull to the #Election\\xe2\\x80\\xa6\\nRT @squintneon: Elections are a  huge waste of money and time for a poor  country like  India .  Can we just already declare Modi ji as the\\xe2\\x80\\xa6\\nJust like Rajiv Gandhi got Indira Gandhi assassinated to win over 400 seats.grrrr\\nRT @Airavta: Thank you Modi Ji for allowing Elections to happen in India.\\nRT @Engihumor: Just 2 months left for Rahul Gandhi to work hard and attain another Moral victory in elections by losing to Modi.  #LokSabha\\xe2\\x80\\xa6\\nRT @SitaramYechury: There are serious concerns over funding enabled by opaque Electoral bonds brought in by this govt and excessive spendin\\xe2\\x80\\xa6\\nRT @drsanjaymayukh: Positive Outlook! #ModiGovt expects economic growth to accelerate to 7.5% in 2019-20 from 7.2% projected for the curren\\xe2\\x80\\xa6\\nRT @dpradhanbjp: Impossible is now possible under the #ModiGovt. Urged party karyakartas to work harder and public to re-elect @narendramod\\xe2\\x80\\xa6\\nRT @ashokepandit: It is the festival of democracy and within 2 months... it will be the Diwali of democracy when the Pradhan Sevak @narendr\\xe2\\x80\\xa6\\nRT @davidfrawleyved: With the 2019 Lok Sabha elections approaching a powerful new Modi wave is arising to carry him to a second term. Is th\\xe2\\x80\\xa6\\nRT @priyankaghatak: Difference betwn @RahulGandhi &amp; @narendramodi - Modi calls elections a festival of democracy  while Rahul sulks forgett\\xe2\\x80\\xa6\\n@arungiri @MehekF You nailed it.with the end of every phase the godi media will try to portray that bjp is coming b\\xe2\\x80\\xa6 https://t.co/9Pwa4ho6e5\\nRT @OpIndia_com: Elections in West Bengal tend to be violent and one-sided  but here is why Modi magic might work in Mamata\\xe2\\x80\\x99s bastion https\\xe2\\x80\\xa6\\nRT @India_Resists: Modi can engineer another attack to win elections  says Raj Thackrey. https://t.co/QKQrLhk6Q7\\nRT @republic: #May23WithArnab | Lok Sabha Elections 2019: \\'Festival of democracy is here\\'  says PM Modi urging voters to participate active\\xe2\\x80\\xa6\\nRT @SitaramYechury: With announcement of General Elections  the Model code of conduct comes into force. It will end the unfair use of govt\\xe2\\x80\\xa6\\nRT @IndiaToday: Violation of EC\\'s guidelines has already begun ahead of 2019 Lok Sabha elections. IAF\\'s wing commander Abhinandan\\'s photogr\\xe2\\x80\\xa6\\nRT @neo_pac: #BabuBajrangi was sentenced to life in jail for killing 100 people in the #NarodaPatiya Massacre of Muslims in Guj 2002  when\\xe2\\x80\\xa6\\nRT @squintneon: Elections are a  huge waste of money and time for a poor  country like  India .  Can we just already declare Modi ji as the\\xe2\\x80\\xa6\\nRT @OmarAbdullah: First time since 1996 Assembly elections in J&amp;K are not being held on time. Remember this the next time you are praising\\xe2\\x80\\xa6\\nRT @OmarAbdullah: First time since 1996 Assembly elections in J&amp;K are not being held on time. Remember this the next time you are praising\\xe2\\x80\\xa6\\nRT @MirMAKOfficial: Here We Go #Pakistan. Here We Go.  #BJP CASHING IN #AbhiNandan FOR ELECTIONS.   Posters across #India springing up. The\\xe2\\x80\\xa6\\nRT @EconomicTimes: Sarma while talking to media persons said that in Assam #BJP will win 9 to 11 seats. Assam has 14 #LokSabha seats. . #Lo\\xe2\\x80\\xa6\\nRT @anirbanganguly: Friends  join in for a special address by Smt @SushmaSwaraj ji on:   India\\'s World: #ModiGovt\\'s Foreign Policy.  Amb As\\xe2\\x80\\xa6\\nRT @SitaramYechury: With announcement of General Elections  the Model code of conduct comes into force. It will end the unfair use of govt\\xe2\\x80\\xa6\\nRT @dpradhanbjp: #ModiGovt asked the Odisha Govt to share the details of farmers to transfer the benefits to farmers under PM KISAN Yojana \\xe2\\x80\\xa6\\nRT @OmarAbdullah: In 2014 we had Lok Sabha elections on time &amp; assembly elections on schedule even after the most devastating floods. Shows\\xe2\\x80\\xa6\\nRT @Airavta: Thank you Modi Ji for allowing Elections to happen in India.\\nRT @dpradhanbjp: #ModiGovt asked the Odisha Govt to share the details of farmers to transfer the benefits to farmers under PM KISAN Yojana \\xe2\\x80\\xa6\\nRT @AmbedkarCaravan: Putting elections in UP in 7 phases is a clear indication that BJP is scared so to give its candidates more time and p\\xe2\\x80\\xa6\\nRT @SitaramYechury: There are serious concerns over funding enabled by opaque Electoral bonds brought in by this govt and excessive spendin\\xe2\\x80\\xa6\\nRT @IndiaToday: Violation of EC\\'s guidelines has already begun ahead of 2019 Lok Sabha elections. IAF\\'s wing commander Abhinandan\\'s photogr\\xe2\\x80\\xa6\\nRT @Airavta: Thank you Modi Ji for allowing Elections to happen in India.\\nToo much of desperation  Omar Saheb. Any news about the Uncles and Aunties? \\xf0\\x9f\\xa4\\xad\\nRT @OriginalAnmol: So Election Commission has announced the dates for elections. The day of counting is 23rd May whom do you want to see as\\xe2\\x80\\xa6\\nRT @davidfrawleyved: With the 2019 Lok Sabha elections approaching a powerful new Modi wave is arising to carry him to a second term. Is th\\xe2\\x80\\xa6\\nHope you remember how desperately NC pleaded before EC to postpone polls in 2014. But PDP as \\xe2\\x80\\x98you accuse them of mi\\xe2\\x80\\xa6 https://t.co/lokntlwQT8\\nRT @OmarAbdullah: With the amount of international attention elections in J&amp;K attract I never thought PM Modi would be willing to confess h\\xe2\\x80\\xa6\\nRT @anirbanganguly: Friends  join in for a special address by Smt @SushmaSwaraj ji on:   India\\'s World: #ModiGovt\\'s Foreign Policy.  Amb As\\xe2\\x80\\xa6\\nRT @IndiaToday: Violation of EC\\'s guidelines has already begun ahead of 2019 Lok Sabha elections. IAF\\'s wing commander Abhinandan\\'s photogr\\xe2\\x80\\xa6\\nRT @shrikanth_krish: Modi\\'s persistent references to first-time voters is under-appreciated  Young people under 35 are much more drawn to B\\xe2\\x80\\xa6\\nRT @RanaAyyub: BJP is set to launch a line of new sarees  with pictures of army soldiers  fighter jets and Prime Minister Modi printed over\\xe2\\x80\\xa6\\nRT @IndiaToday: Violation of EC\\'s guidelines has already begun ahead of 2019 Lok Sabha elections. IAF\\'s wing commander Abhinandan\\'s photogr\\xe2\\x80\\xa6\\nRT @ashokepandit: It is the festival of democracy and within 2 months... it will be the Diwali of democracy when the Pradhan Sevak @narendr\\xe2\\x80\\xa6\\nyess\\xf0\\x9f\\xa4\\x98\\nRT @davidfrawleyved: With the 2019 Lok Sabha elections approaching a powerful new Modi wave is arising to carry him to a second term. Is th\\xe2\\x80\\xa6\\nRT @davidfrawleyved: With the 2019 Lok Sabha elections approaching a powerful new Modi wave is arising to carry him to a second term. Is th\\xe2\\x80\\xa6\\nRT @Airavta: Thank you Modi Ji for allowing Elections to happen in India.\\n@SreenivasanJain Modi style is so predictable now   Many had predicted this to happen before general elections\\nRT @OriginalAnmol: So Election Commission has announced the dates for elections. The day of counting is 23rd May whom do you want to see as\\xe2\\x80\\xa6\\nRT @RifatJawaid: Elections for Jammu and Kashmir\\'s 8 seats to be held in 5 phases. Shows just how much Modi government has contributed to t\\xe2\\x80\\xa6\\nelected representatives have ditched Poor/MId class kashmiris..asked them 2 throw stones   get killed but im yet 2\\xe2\\x80\\xa6 https://t.co/QAIwIzuHCt\\nRT @davidfrawleyved: With the 2019 Lok Sabha elections approaching a powerful new Modi wave is arising to carry him to a second term. Is th\\xe2\\x80\\xa6\\nRT @davidfrawleyved: With the 2019 Lok Sabha elections approaching a powerful new Modi wave is arising to carry him to a second term. Is th\\xe2\\x80\\xa6\\nRT @OmarAbdullah: In 2014 we had Lok Sabha elections on time &amp; assembly elections on schedule even after the most devastating floods. Shows\\xe2\\x80\\xa6\\nRT @OmarAbdullah: First time since 1996 Assembly elections in J&amp;K are not being held on time. Remember this the next time you are praising\\xe2\\x80\\xa6\\nRT @IndiaToday: Rahul Gandhi is more popular than the Prime Minister among Scheduled Castes (SC) and Muslim communities  the #PoliticalStoc\\xe2\\x80\\xa6\\nRT @squintneon: Elections are a  huge waste of money and time for a poor  country like  India .  Can we just already declare Modi ji as the\\xe2\\x80\\xa6\\nIt\\'s time to erect a monument for the author alive.\\nRT @IndiaToday: Violation of EC\\'s guidelines has already begun ahead of 2019 Lok Sabha elections. IAF\\'s wing commander Abhinandan\\'s photogr\\xe2\\x80\\xa6\\nRT @SitaramYechury: With announcement of General Elections  the Model code of conduct comes into force. It will end the unfair use of govt\\xe2\\x80\\xa6\\nRT @Airavta: Thank you Modi Ji for allowing Elections to happen in India.\\nRT @RifatJawaid: Elections for Jammu and Kashmir\\'s 8 seats to be held in 5 phases. Shows just how much Modi government has contributed to t\\xe2\\x80\\xa6\\nRT @NaIna0806: Who is going to win 2019 Elections \\xe2\\x9d\\x93 Watch what the People of Country think about Pappu Pager\\'s Capabilities   Pappu Pager i\\xe2\\x80\\xa6\\nRT @Babu_Bhaiyaa: In some states BJP doing so good that.. they will not lose elections.. even if they appoint Prakash Javadekar ji or Mukht\\xe2\\x80\\xa6\\n@umarshad1 @vikash_shukla8 @AnkitLal @AamAadmiParty @pankajgupta @aapkaprithvi @aapakhi @AAPBangalore @AAPDelhi\\xe2\\x80\\xa6 https://t.co/rWkyvhOS82\\nRT @Rudra_Aksh09: \\xe2\\x80\\x98Festival of democracy is here\\': PM Modi tweets after EC announces poll dates; asks first-time voters to come out in larg\\xe2\\x80\\xa6\\nRT @squintneon: Elections are a  huge waste of money and time for a poor  country like  India .  Can we just already declare Modi ji as the\\xe2\\x80\\xa6\\nRT @Drpratiksha1: These are the kinds who give the credit of their birth to doctor instead of their Parents. \\xf0\\x9f\\x98\\x80 https://t.co/pEO0syBWUc\\nRT @RifatJawaid: Elections for Jammu and Kashmir\\'s 8 seats to be held in 5 phases. Shows just how much Modi government has contributed to t\\xe2\\x80\\xa6\\nRT @davidfrawleyved: With the 2019 Lok Sabha elections approaching a powerful new Modi wave is arising to carry him to a second term. Is th\\xe2\\x80\\xa6\\nRT @OriginalAnmol: So Election Commission has announced the dates for elections. The day of counting is 23rd May whom do you want to see as\\xe2\\x80\\xa6\\nRT @Engihumor: Just 2 months left for Rahul Gandhi to work hard and attain another Moral victory in elections by losing to Modi.  #LokSabha\\xe2\\x80\\xa6\\nRT @sidbishnoi: Lok Sabha #elections in #Haryana confirmed for Phase 6 (polling on 12 May). Time to exchange the #Beparwah #Jumlebaaz #Part\\xe2\\x80\\xa6\\nJ-Diamond Case will bury the political career of TTV  Rumours are that he may be arrested before the polls and made\\xe2\\x80\\xa6 https://t.co/qKFvYyTLk6\\nRT @indiatvnews: With BJP at 238  NDA predicted to win 285 seats in #LokSabhaElections2019 : India TV-CNX Opinion poll https://t.co/OJ9n4DC\\xe2\\x80\\xa6\\nRT @jayasreenair1: Ahead of Lok Sabha elections  \\'Modi saree\\' a hit among women. Would love to buy  if available #FirEkBarModiSarkar https:\\xe2\\x80\\xa6\\nRT @IndiaToday: Violation of EC\\'s guidelines has already begun ahead of 2019 Lok Sabha elections. IAF\\'s wing commander Abhinandan\\'s photogr\\xe2\\x80\\xa6\\nRT @ParulSood19: #PhirEkBaarModiSarkar I raise my Hand in support of my better future and better life and only @narendramodi ji can provide\\xe2\\x80\\xa6\\nRT @AmbedkarCaravan: Putting elections in UP in 7 phases is a clear indication that BJP is scared so to give its candidates more time and p\\xe2\\x80\\xa6\\nRT @rishibagree: @RahulGandhi How did #NiravModi get loans under Modi Govt in 2011 &amp; went on becoming a billionaire featuring in Forbes Mag\\xe2\\x80\\xa6\\nRT @GauravPandhi: Since #ElectionCommission has deferred the elections to Jammu &amp; Kashmir legislative assembly due to \\'security reasons\\'  i\\xe2\\x80\\xa6\\nRT @squintneon: Elections are a  huge waste of money and time for a poor  country like  India .  Can we just already declare Modi ji as the\\xe2\\x80\\xa6\\n@geetv79 @RahulGandhi Modis unkept promises! His lies!  Rafale scam! Ambani! Adani! Demonitisation! Gst!  Above fac\\xe2\\x80\\xa6 https://t.co/7wyTCn8XI7\\nWe have two options this elections to choose from \\xe2\\x80\\xa6 A) *Lotus* \\xe2\\x80\\xa6 B) *Loot-us* Modi for vision..Rahul for division..\\xe2\\x80\\xa6 https://t.co/Custh7rAhj\\nRT @Airavta: Thank you Modi Ji for allowing Elections to happen in India.\\nRT @SitaramYechury: With announcement of General Elections  the Model code of conduct comes into force. It will end the unfair use of govt\\xe2\\x80\\xa6\\nRT @OriginalAnmol: So Election Commission has announced the dates for elections. The day of counting is 23rd May whom do you want to see as\\xe2\\x80\\xa6\\nRT @100men4: #PhirEkBaarModiSarkar Modi sir pls don\\'t worry about elections.....Go ahead 2 make plns 4 nxt 5 yrs.... Because we all know yo\\xe2\\x80\\xa6\\nRT @kapsology: Stop watching news till elections are over.  Stop forwarding any communal message on whatsapp till elections are over.  Join\\xe2\\x80\\xa6\\nRT @davidfrawleyved: With the 2019 Lok Sabha elections approaching a powerful new Modi wave is arising to carry him to a second term. Is th\\xe2\\x80\\xa6\\nRT @squintneon: Elections are a  huge waste of money and time for a poor  country like  India .  Can we just already declare Modi ji as the\\xe2\\x80\\xa6\\nRT @Babu_Bhaiyaa: In some states BJP doing so good that.. they will not lose elections.. even if they appoint Prakash Javadekar ji or Mukht\\xe2\\x80\\xa6\\nRT @SakshikapoorDun: Since election dates hv been announced we need to get in action. Sensitise ppl and convince them to cast their vote.vo\\xe2\\x80\\xa6\\nRT @Babu_Bhaiyaa: In some states BJP doing so good that.. they will not lose elections.. even if they appoint Prakash Javadekar ji or Mukht\\xe2\\x80\\xa6\\nRT @dpradhanbjp: #ModiGovt asked the Odisha Govt to share the details of farmers to transfer the benefits to farmers under PM KISAN Yojana \\xe2\\x80\\xa6\\nI hope @OmarAbdullah sticks to his decision n doesn\\xe2\\x80\\x99t contest Loksabha elections let bjp win\\nYou thank less you are alive because of you BJP had to release terrorist \\nhere goes:  My Lok Sabha constituency: Secundrabad.  My Assembly constituency: Amberpet.   My MLA- no idea was Kish\\xe2\\x80\\xa6 https://t.co/Qw93WvfMeK\\nRT @davidfrawleyved: With the 2019 Lok Sabha elections approaching a powerful new Modi wave is arising to carry him to a second term. Is th\\xe2\\x80\\xa6\\nRT @dpradhanbjp: Impossible is now possible under the #ModiGovt. Urged party karyakartas to work harder and public to re-elect @narendramod\\xe2\\x80\\xa6\\nRT @Pradeep_Mahaur: With the announcement of Lok Sabha Elections the public is empowered to re-elect Modi\\'ji as their Prime Minister. #Phir\\xe2\\x80\\xa6\\nRT @Babu_Bhaiyaa: In some states BJP doing so good that.. they will not lose elections.. even if they appoint Prakash Javadekar ji or Mukht\\xe2\\x80\\xa6\\nwhy the  Sarcasm\\nRT @republic: #May23WithArnab | WATCH: \"No doubt BJP will win over 74 seats  including Amethi &amp; Azamgarh\": Yogi Adityanath eyes massive res\\xe2\\x80\\xa6\\nElections r postponed in Kashmir shows  how lightly Modi is taking the seriousness of valley boys r jobless ppl r s\\xe2\\x80\\xa6 https://t.co/HtCGD78MJU\\nRT @MahapatPravat: Must read: India elections 2019: Last word on Congress-Aam Admi Party tie-up yet to be said. Congress and Kejriwal reali\\xe2\\x80\\xa6\\nRT @indiatvnews: With BJP at 238  NDA predicted to win 285 seats in #LokSabhaElections2019 : India TV-CNX Opinion poll https://t.co/OJ9n4DC\\xe2\\x80\\xa6\\n@Mayavi101 @htTweets @myogiadityanath 2018..Pappu won 3 states out of 5  Modi with 5 - 0 rout whats worse Modi gave\\xe2\\x80\\xa6 https://t.co/qWoAy4JsfS\\nRT @SitaramYechury: There are serious concerns over funding enabled by opaque Electoral bonds brought in by this govt and excessive spendin\\xe2\\x80\\xa6\\nRT @squintneon: Elections are a  huge waste of money and time for a poor  country like  India .  Can we just already declare Modi ji as the\\xe2\\x80\\xa6\\nRT @dpradhanbjp: Impossible is now possible under the #ModiGovt. Urged party karyakartas to work harder and public to re-elect @narendramod\\xe2\\x80\\xa6\\nRT @Naz57019474: Elections r postponed in Kashmir shows  how lightly Modi is taking the seriousness of valley boys r jobless ppl r starving\\xe2\\x80\\xa6\\nRT @OmarAbdullah: First time since 1996 Assembly elections in J&amp;K are not being held on time. Remember this the next time you are praising\\xe2\\x80\\xa6\\nRT @Babu_Bhaiyaa: In some states BJP doing so good that.. they will not lose elections.. even if they appoint Prakash Javadekar ji or Mukht\\xe2\\x80\\xa6\\n@AmitShah @BJP4India @narendramodi We have two options this elections to choose from \\xe2\\x80\\xa6 A) *Lotus* \\xe2\\x80\\xa6 B) *Loot-us* Mo\\xe2\\x80\\xa6 https://t.co/4vGr9H2zd0\\nRT @Cdipra: Elections in West Bengal tend to be violent and one-sided  but here is why Modi magic might work in Mamata\\'s bastion https://t.\\xe2\\x80\\xa6\\nRT @RifatJawaid: Elections for Jammu and Kashmir\\'s 8 seats to be held in 5 phases. Shows just how much Modi government has contributed to t\\xe2\\x80\\xa6\\nRT @dpradhanbjp: Impossible is now possible under the #ModiGovt. Urged party karyakartas to work harder and public to re-elect @narendramod\\xe2\\x80\\xa6\\nRT @dpradhanbjp: #ModiGovt asked the Odisha Govt to share the details of farmers to transfer the benefits to farmers under PM KISAN Yojana \\xe2\\x80\\xa6\\nRT @dpradhanbjp: #ModiGovt asked the Odisha Govt to share the details of farmers to transfer the benefits to farmers under PM KISAN Yojana \\xe2\\x80\\xa6\\n#PhirEkBaarModiSarkar becomes Modi\\xe2\\x80\\x99s latest poll push after EC announces election dates | Elections News  The India\\xe2\\x80\\xa6 https://t.co/lvLK64J8hY\\nRT @Airavta: Thank you Modi Ji for allowing Elections to happen in India.\\nRT @dpradhanbjp: Impossible is now possible under the #ModiGovt. Urged party karyakartas to work harder and public to re-elect @narendramod\\xe2\\x80\\xa6\\nRT @indiatvnews: With BJP at 238  NDA predicted to win 285 seats in #LokSabhaElections2019 : India TV-CNX Opinion poll https://t.co/OJ9n4DC\\xe2\\x80\\xa6\\nRT @SitaramYechury: With announcement of General Elections  the Model code of conduct comes into force. It will end the unfair use of govt\\xe2\\x80\\xa6\\nRT @khatvaanga: here goes:  My Lok Sabha constituency: Secundrabad.  My Assembly constituency: Amberpet.   My MLA- no idea was Kishan Reddy\\xe2\\x80\\xa6\\nRT @squintneon: Elections are a  huge waste of money and time for a poor  country like  India .  Can we just already declare Modi ji as the\\xe2\\x80\\xa6\\nRT @Prof_Hariom: Dear @OmarAbdullah   PM @narendramodi will listen to the victims of Jihad and not those who created  promoted and Shielded\\xe2\\x80\\xa6\\nModi is taking anticipatory bail.\\nRT @dpradhanbjp: #ModiGovt asked the Odisha Govt to share the details of farmers to transfer the benefits to farmers under PM KISAN Yojana \\xe2\\x80\\xa6\\nRT @IndiaToday: Violation of EC\\'s guidelines has already begun ahead of 2019 Lok Sabha elections. IAF\\'s wing commander Abhinandan\\'s photogr\\xe2\\x80\\xa6\\nRT @OriginalAnmol: So Election Commission has announced the dates for elections. The day of counting is 23rd May whom do you want to see as\\xe2\\x80\\xa6\\nRT @SitaramYechury: With announcement of General Elections  the Model code of conduct comes into force. It will end the unfair use of govt\\xe2\\x80\\xa6\\nRT @Airavta: Thank you Modi Ji for allowing Elections to happen in India.\\nRT @Airavta: Thank you Modi Ji for allowing Elections to happen in India.\\nRT @squintneon: Elections are a  huge waste of money and time for a poor  country like  India .  Can we just already declare Modi ji as the\\xe2\\x80\\xa6\\nRT @squintneon: Elections are a  huge waste of money and time for a poor  country like  India .  Can we just already declare Modi ji as the\\xe2\\x80\\xa6\\nRT @squintneon: Elections are a  huge waste of money and time for a poor  country like  India .  Can we just already declare Modi ji as the\\xe2\\x80\\xa6\\nRT @dpradhanbjp: #ModiGovt asked the Odisha Govt to share the details of farmers to transfer the benefits to farmers under PM KISAN Yojana \\xe2\\x80\\xa6\\nRT @electionaddaEN: Sharad Pawar &amp; Supriya Sule May Win Lok Sabha Elections But It Will Not be a Cake-Walk as BJP Keeping Track on All Such\\xe2\\x80\\xa6\\n'}"
            ]
          },
          "metadata": {
            "tags": []
          },
          "execution_count": 9
        }
      ]
    },
    {
      "cell_type": "code",
      "metadata": {
        "id": "9RbGAVzUExd3"
      },
      "source": [
        "import io"
      ],
      "execution_count": 10,
      "outputs": []
    },
    {
      "cell_type": "code",
      "metadata": {
        "id": "otZp6AAgE0cr"
      },
      "source": [
        "sample_df=pd.read_csv(io.StringIO(uploaded['election19_1.csv'].decode('utf-8')))"
      ],
      "execution_count": 12,
      "outputs": []
    },
    {
      "cell_type": "code",
      "metadata": {
        "id": "qDHBHkEXFIU0",
        "outputId": "c2e2eb83-07ab-4091-8175-43642df01010",
        "colab": {
          "base_uri": "https://localhost:8080/",
          "height": 221
        }
      },
      "source": [
        "sample_df.head()"
      ],
      "execution_count": 13,
      "outputs": [
        {
          "output_type": "execute_result",
          "data": {
            "text/html": [
              "<div>\n",
              "<style scoped>\n",
              "    .dataframe tbody tr th:only-of-type {\n",
              "        vertical-align: middle;\n",
              "    }\n",
              "\n",
              "    .dataframe tbody tr th {\n",
              "        vertical-align: top;\n",
              "    }\n",
              "\n",
              "    .dataframe thead th {\n",
              "        text-align: right;\n",
              "    }\n",
              "</style>\n",
              "<table border=\"1\" class=\"dataframe\">\n",
              "  <thead>\n",
              "    <tr style=\"text-align: right;\">\n",
              "      <th></th>\n",
              "      <th>RT @kapsology: Stop watching news till elections are over.  Stop forwarding any communal message on whatsapp till elections are over.  Join…</th>\n",
              "    </tr>\n",
              "  </thead>\n",
              "  <tbody>\n",
              "    <tr>\n",
              "      <th>0</th>\n",
              "      <td>RT @dpradhanbjp: #ModiGovt asked the Odisha Go...</td>\n",
              "    </tr>\n",
              "    <tr>\n",
              "      <th>1</th>\n",
              "      <td>RT @davidfrawleyved: With the 2019 Lok Sabha e...</td>\n",
              "    </tr>\n",
              "    <tr>\n",
              "      <th>2</th>\n",
              "      <td>RT @IndiaToday: Rahul Gandhi is more popular t...</td>\n",
              "    </tr>\n",
              "    <tr>\n",
              "      <th>3</th>\n",
              "      <td>RT @OmarAbdullah: First time since 1996 Assemb...</td>\n",
              "    </tr>\n",
              "    <tr>\n",
              "      <th>4</th>\n",
              "      <td>RT @PChidambaram_IN: My  @IndianExpress Column...</td>\n",
              "    </tr>\n",
              "  </tbody>\n",
              "</table>\n",
              "</div>"
            ],
            "text/plain": [
              "  RT @kapsology: Stop watching news till elections are over.  Stop forwarding any communal message on whatsapp till elections are over.  Join…\n",
              "0  RT @dpradhanbjp: #ModiGovt asked the Odisha Go...                                                                                          \n",
              "1  RT @davidfrawleyved: With the 2019 Lok Sabha e...                                                                                          \n",
              "2  RT @IndiaToday: Rahul Gandhi is more popular t...                                                                                          \n",
              "3  RT @OmarAbdullah: First time since 1996 Assemb...                                                                                          \n",
              "4  RT @PChidambaram_IN: My  @IndianExpress Column...                                                                                          "
            ]
          },
          "metadata": {
            "tags": []
          },
          "execution_count": 13
        }
      ]
    }
  ]
}