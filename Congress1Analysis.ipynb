{
  "nbformat": 4,
  "nbformat_minor": 0,
  "metadata": {
    "colab": {
      "name": "Congress1Analysis.ipynb",
      "provenance": [],
      "collapsed_sections": [],
      "authorship_tag": "ABX9TyOUS0ptCVyVfvYWhNbOhoDr",
      "include_colab_link": true
    },
    "kernelspec": {
      "name": "python3",
      "display_name": "Python 3"
    }
  },
  "cells": [
    {
      "cell_type": "markdown",
      "metadata": {
        "id": "view-in-github",
        "colab_type": "text"
      },
      "source": [
        "<a href=\"https://colab.research.google.com/github/raishagun/Election-Prediction/blob/master/Congress1Analysis.ipynb\" target=\"_parent\"><img src=\"https://colab.research.google.com/assets/colab-badge.svg\" alt=\"Open In Colab\"/></a>"
      ]
    },
    {
      "cell_type": "code",
      "metadata": {
        "id": "W5BY5xIcARpB",
        "outputId": "dc69adf7-b6fb-4b03-e1d4-fe3d6c85bf2f",
        "colab": {
          "base_uri": "https://localhost:8080/"
        }
      },
      "source": [
        "!git clone https://github.com/raishagun/Election-Prediction.git"
      ],
      "execution_count": 1,
      "outputs": [
        {
          "output_type": "stream",
          "text": [
            "Cloning into 'Election-Prediction'...\n",
            "remote: Enumerating objects: 126, done.\u001b[K\n",
            "remote: Counting objects: 100% (126/126), done.\u001b[K\n",
            "remote: Compressing objects: 100% (110/110), done.\u001b[K\n",
            "remote: Total 126 (delta 39), reused 0 (delta 0), pack-reused 0\u001b[K\n",
            "Receiving objects: 100% (126/126), 14.97 MiB | 16.77 MiB/s, done.\n",
            "Resolving deltas: 100% (39/39), done.\n"
          ],
          "name": "stdout"
        }
      ]
    },
    {
      "cell_type": "code",
      "metadata": {
        "id": "5MQiYRT2AqyL",
        "outputId": "f59d2b4e-f3d9-46d0-d3db-87cbe88f16a3",
        "colab": {
          "base_uri": "https://localhost:8080/"
        }
      },
      "source": [
        "import tweepy \n",
        "import pandas as pd\n",
        "from tweepy import OAuthHandler\n",
        "\n",
        "consumer_key= \"DLhoHkK6uOGz3Ni9ybuoruiLm\"\n",
        "consumer_secret  = \"jKyrDR68msnbmgZMNNJdSJwadGoed11imKV1jdlNYNczL9HvEk\"\n",
        "access_token =\"1289037463684489217-5PddOsmU9h5deRwOhdigvhg32FEgID\"\n",
        "access_token_secret= \"cAPevFduWkiNP3juu8WGAwZm69vgv8C4s8RPz0WE8MJFK\"\n",
        "\n",
        "auth = tweepy.OAuthHandler(consumer_key, consumer_secret) \n",
        "# authentication of access token and secret \n",
        "auth.set_access_token(access_token, access_token_secret) \n",
        "api = tweepy.API(auth,wait_on_rate_limit = True)\n",
        "\n",
        "\n",
        "date1 = \"2020-02-01\"\n",
        "date2 = \"2020-11-09\"\n",
        "\n",
        "\n",
        "text = []\n",
        "\n",
        "\n",
        "def get_tweets(date1,date2,word):\n",
        "    count = 0\n",
        "    for tweet in tweepy.Cursor(api.search , q=word,count =1000,lang=\"en\",since_id = date1,until = date2).items():\n",
        "        print(tweet.text)\n",
        "        text.append(tweet.text)\n",
        "        print('<--------------------------------------------------->')\n",
        "        count+=1\n",
        "        print(count)\n",
        "    \n",
        "get_tweets(date1,date2,\"#congress bihar\")  \n",
        "           \n",
        "data1 = list(zip(text))\n",
        "df = pd.DataFrame(data =data1, columns =[\"Tweet\"])\n",
        "\n",
        "df.to_csv('cong.csv') "
      ],
      "execution_count": 3,
      "outputs": [
        {
          "output_type": "stream",
          "text": [
            "Bihar Exit Polls says RJD  congress alliance  wins people mandate - Click to see also ☛  https://t.co/XwatuZy8uE… https://t.co/Zmq7QeUMr5\n",
            "<--------------------------------------------------->\n",
            "1\n",
            "Yeh toh vote dene se phale sochna chahiye ki aap kis ko power de rahai hai , #Bihar election predictions suggest th… https://t.co/ljPuCK7nVs\n",
            "<--------------------------------------------------->\n",
            "2\n",
            "Karnataka CM BS Yediyurappa Will Be Changed After Bihar Poll Results, Says Congress Leader Siddaramaiah… https://t.co/yUTp3FXVQR\n",
            "<--------------------------------------------------->\n",
            "3\n",
            "#Congress terms #Bihar #ExitPolls a slap on #NDA's face... https://t.co/7n7H7mvLXw via @YahooIndia \n",
            "Following the d… https://t.co/Pl9Xjyhe8n\n",
            "<--------------------------------------------------->\n",
            "4\n",
            "#india #bjp #Congress #BiharElections2020 #BiharPolls If BJP contested the elections in Punjab, Maharashtra and Bih… https://t.co/Cb4M68jtQj\n",
            "<--------------------------------------------------->\n",
            "5\n",
            "So MGB is expected to win Bihar. \n",
            "\n",
            "Now all we need to hope is that \n",
            "\n",
            "1. May the EVM machines please work fine. \n",
            "\n",
            "2.… https://t.co/IAjfK7dtsp\n",
            "<--------------------------------------------------->\n",
            "6\n",
            "@IndiaPacl @rajnathsingh Rajasthan govt not complanice GOI constitutional order on PACL Dec 2015 to till in this ti… https://t.co/q6KGj20g94\n",
            "<--------------------------------------------------->\n",
            "7\n",
            "@MinhazMerchant Sheer bad luck that #Bihar didn't find a good alternative to the scamster family that put them in t… https://t.co/kpJ44ZZ6UZ\n",
            "<--------------------------------------------------->\n",
            "8\n",
            "RT @FinancialXpress: #Biharelection2020: The proactive step from the #Congress party comes in view of exit polls predicting a close fight b…\n",
            "<--------------------------------------------------->\n",
            "9\n",
            "#Biharelection2020: The proactive step from the #Congress party comes in view of exit polls predicting a close figh… https://t.co/2Z7rTuhb3m\n",
            "<--------------------------------------------------->\n",
            "10\n",
            "@ashokgehlot51 governemnt need to serioualy think how to deal with this menace.\n",
            "otherwise after #bihar ..#rajasthan… https://t.co/4PJdrGEEyt\n",
            "<--------------------------------------------------->\n",
            "11\n",
            "@republic @narendramodi @AmitShah Very wrong calculation done by the think tanks of @BJP4India to keep silence so t… https://t.co/ef5O0PDKGt\n",
            "<--------------------------------------------------->\n",
            "12\n",
            "#Congress must learn from #TejaswiYadav. He has fought the election in Bihar by changing narrative to economic issu… https://t.co/zZXmnZeyml\n",
            "<--------------------------------------------------->\n",
            "13\n",
            "#Congress President Sonia Gandhi appoints Congress General Secretaries Randeep Singh Surjewala &amp; Avinash Pandey as… https://t.co/VIio6X3h3K\n",
            "<--------------------------------------------------->\n",
            "14\n",
            "@FellowcitizenES @EsBeing @INCIndia @srivatsayb @RahulGandhi @rohanrgupta @priyankagandhi @ashokgehlot51… https://t.co/jdWu7S5CZl\n",
            "<--------------------------------------------------->\n",
            "15\n",
            "#EPaper\n",
            "For a detailed Version. Please log on to\n",
            "https://t.co/56uXNInheu\n",
            "#फिल्मी_फेक्टस \n",
            "#Happy_Sunday \n",
            " #Congress… https://t.co/RkJUojCKv0\n",
            "<--------------------------------------------------->\n",
            "16\n",
            "#Congress applauding the possible arrival of #JungleRaj2 in Bihar after election 2020,\n",
            "An inexperienced kid who can… https://t.co/n6fDj00BiK\n",
            "<--------------------------------------------------->\n",
            "17\n",
            "RT @narain41: What a decline of the #Congress, once a giant, under #SoniaGandhi and her childreni!\n",
            "\n",
            "#RahulGandhi had to play younger brothe…\n",
            "<--------------------------------------------------->\n",
            "18\n",
            "What a decline of the #Congress, once a giant, under #SoniaGandhi and her childreni!\n",
            "\n",
            "#RahulGandhi had to play youn… https://t.co/RApeSxAYjo\n",
            "<--------------------------------------------------->\n",
            "19\n",
            "RT @tehseenp: On 16th October here on @TimesNow I told @navikakumar ma'am, \" I just returned 4am this morning from Bihar &amp; something has ch…\n",
            "<--------------------------------------------------->\n",
            "20\n",
            "#ExitPolls\n",
            "Next CM of #Bihar will be from #BJP supported by #Congress . On 10th of Nov all #MLA shifted to bjp.\n",
            "<--------------------------------------------------->\n",
            "21\n",
            "What a coincidence! \n",
            "Trump in USA! \n",
            "Modi in Bihar..!!🤭\n",
            "Best Friends Forever!🤞🏻 #BiharExitPolls #ByeByeTrump… https://t.co/YBOIRvUd2U\n",
            "<--------------------------------------------------->\n",
            "22\n",
            "RT @tehseenp: On 16th October here on @TimesNow I told @navikakumar ma'am, \" I just returned 4am this morning from Bihar &amp; something has ch…\n",
            "<--------------------------------------------------->\n",
            "23\n",
            "As per @sardesairajdeep election book 2014, bihar 2010 election played a crucial role in @RahulGandhi electoral car… https://t.co/tapmfFeqoO\n",
            "<--------------------------------------------------->\n",
            "24\n",
            "Today was among best days for #Congress:\n",
            "\n",
            "1. Exit Polls show advantage Mahagathbandhan.\n",
            "\n",
            "2. Arnab Goswami didn't ge… https://t.co/GjY4ExhClF\n",
            "<--------------------------------------------------->\n",
            "25\n",
            "RT @tehseenp: On 16th October here on @TimesNow I told @navikakumar ma'am, \" I just returned 4am this morning from Bihar &amp; something has ch…\n",
            "<--------------------------------------------------->\n",
            "26\n",
            "RT @idnani_nandini: @narendramodi Must listen for people of #Bihar this game plan of opp. &amp; #Congress flopped permanently by Modi Govt as J…\n",
            "<--------------------------------------------------->\n",
            "27\n",
            "RT @idnani_nandini: @narendramodi Must listen for people of #Bihar this game plan of opp. &amp; #Congress flopped permanently by Modi Govt as J…\n",
            "<--------------------------------------------------->\n",
            "28\n",
            "RT @tehseenp: On 16th October here on @TimesNow I told @navikakumar ma'am, \" I just returned 4am this morning from Bihar &amp; something has ch…\n",
            "<--------------------------------------------------->\n",
            "29\n",
            "RT @tehseenp: On 16th October here on @TimesNow I told @navikakumar ma'am, \" I just returned 4am this morning from Bihar &amp; something has ch…\n",
            "<--------------------------------------------------->\n",
            "30\n",
            "RT @tehseenp: On 16th October here on @TimesNow I told @navikakumar ma'am, \" I just returned 4am this morning from Bihar &amp; something has ch…\n",
            "<--------------------------------------------------->\n",
            "31\n",
            "RT @tehseenp: On 16th October here on @TimesNow I told @navikakumar ma'am, \" I just returned 4am this morning from Bihar &amp; something has ch…\n",
            "<--------------------------------------------------->\n",
            "32\n",
            "RT @tehseenp: On 16th October here on @TimesNow I told @navikakumar ma'am, \" I just returned 4am this morning from Bihar &amp; something has ch…\n",
            "<--------------------------------------------------->\n",
            "33\n",
            "RT @tehseenp: On 16th October here on @TimesNow I told @navikakumar ma'am, \" I just returned 4am this morning from Bihar &amp; something has ch…\n",
            "<--------------------------------------------------->\n",
            "34\n",
            "On 16th October here on @TimesNow I told @navikakumar ma'am, \" I just returned 4am this morning from Bihar &amp; someth… https://t.co/jXZi9gnGqP\n",
            "<--------------------------------------------------->\n",
            "35\n",
            "If #ExitPolls of #Bihar comes true on 10 nov.\n",
            "\n",
            "1. #Congress will be in power after 30 year.\n",
            "2. #JDU will be in cris… https://t.co/JvsbwEJHZN\n",
            "<--------------------------------------------------->\n",
            "36\n",
            "So @rohini_sgh from @thewire_in people of #Bihar has chosen the uneducated @yadavtejashwi . But whatece be the numb… https://t.co/m33SOaJN4p\n",
            "<--------------------------------------------------->\n",
            "37\n",
            "Exit Poll Results of Bihar Assembly Elections 2020: India Today-Axis My India Predicts Win For Mahagathbandhan With… https://t.co/4EozLTWAeh\n",
            "<--------------------------------------------------->\n",
            "38\n",
            "Tough fight in Bihar between RJD-Cong+ or JDU- BJP+.\n",
            "Mahagathbandhan is clearly leading in all exit polls. Hope Evm… https://t.co/bejKmRJlps\n",
            "<--------------------------------------------------->\n",
            "39\n",
            "4. Small alliances or other parties, out of #NDA and #GrandAlliance, couldn't make much impact on the ground.\n",
            "5. Al… https://t.co/xRfxkslSWo\n",
            "<--------------------------------------------------->\n",
            "40\n",
            "Today's Chanakya exit polls predict #RJD &amp; #congress government in Bihar. #BiharElections #BiharElection2020\n",
            "<--------------------------------------------------->\n",
            "41\n",
            "Most important issue for Bihar Election\n",
            "\n",
            "Development : 42%\n",
            "Unemployment : 30%\n",
            "Inflation : 11%\n",
            "PM Modi : 3%\n",
            "Politica… https://t.co/Z72yte6CBf\n",
            "<--------------------------------------------------->\n",
            "42\n",
            "My prediction for Bihar is a hung assembly. Let's see how it plays out! #ExitPolls #BiharPolls #BattlegroundState… https://t.co/pQzPmMRdFo\n",
            "<--------------------------------------------------->\n",
            "43\n",
            "Going to be an interesting night with exit polls of the battleground Bihar and also couple of other states with byp… https://t.co/czo6YfGuIP\n",
            "<--------------------------------------------------->\n",
            "44\n",
            "This is called HABITUAL .\n",
            "WHEN CONGRESSMAN SCINDIA JOINS BJP.\n",
            "\n",
            "#Bihar #Congress #BJP # https://t.co/3mWjhV0l6S\n",
            "<--------------------------------------------------->\n",
            "45\n",
            "RT @idnani_nandini: @narendramodi Must listen for people of #Bihar this game plan of opp. &amp; #Congress flopped permanently by Modi Govt as J…\n",
            "<--------------------------------------------------->\n",
            "46\n",
            "Finally, I have voted for the change in Bihar. ✌️\n",
            "\n",
            "#BiharElections #BiharElection2020 #BiharPolls… https://t.co/laIwgbrKL3\n",
            "<--------------------------------------------------->\n",
            "47\n",
            "RT @iamnikhilnanda: #EVM bashing has started. First sure sign that #MahaGathBandhan #Congress is staring at defeat. In the same breath #RaG…\n",
            "<--------------------------------------------------->\n",
            "48\n",
            "RT @idnani_nandini: @narendramodi Must listen for people of #Bihar this game plan of opp. &amp; #Congress flopped permanently by Modi Govt as J…\n",
            "<--------------------------------------------------->\n",
            "49\n",
            "Congress for high level probe into Munger police firing incident: Sameer\n",
            "\n",
            "#MungerPoliceFiringInident… https://t.co/dcPJXwHXzl\n",
            "<--------------------------------------------------->\n",
            "50\n",
            "@indiatvnews It is our time ,we r the winner we r going to change Bihar and then India. India will see a  youngest… https://t.co/nWrjt32Ctz\n",
            "<--------------------------------------------------->\n",
            "51\n",
            "RT @iamnikhilnanda: #EVM bashing has started. First sure sign that #MahaGathBandhan #Congress is staring at defeat. In the same breath #RaG…\n",
            "<--------------------------------------------------->\n",
            "52\n",
            "RT @idnani_nandini: @narendramodi Must listen for people of #Bihar this game plan of opp. &amp; #Congress flopped permanently by Modi Govt as J…\n",
            "<--------------------------------------------------->\n",
            "53\n",
            "RT @idnani_nandini: @narendramodi Must listen for people of #Bihar this game plan of opp. &amp; #Congress flopped permanently by Modi Govt as J…\n",
            "<--------------------------------------------------->\n",
            "54\n",
            "RT @idnani_nandini: @narendramodi Must listen for people of #Bihar this game plan of opp. &amp; #Congress flopped permanently by Modi Govt as J…\n",
            "<--------------------------------------------------->\n",
            "55\n",
            "RT @moneycontrolcom: #MCOpinion: As the JD(U) is facing a tough contest in 71 seats &amp; the Congress in 37, both these parties will be hoping…\n",
            "<--------------------------------------------------->\n",
            "56\n",
            "Bihar Assembly Elections 2020: Local in Muzaffarpur Build Temporary Bridge to Help People to Cast Vote in Phase 3 P… https://t.co/xCDbU8s7x0\n",
            "<--------------------------------------------------->\n",
            "57\n",
            "RT @NamitaS10443904: #BiharElections\n",
            "Data of Public Meetings in #BiharElection2020:\n",
            "#PMModi..12\n",
            "#NitishKumar..161 (6 with #PM)\n",
            "#TejashwiYad…\n",
            "<--------------------------------------------------->\n",
            "58\n",
            "#MCOpinion: As the JD(U) is facing a tough contest in 71 seats &amp; the Congress in 37, both these parties will be hop… https://t.co/NVU2LTc5Ft\n",
            "<--------------------------------------------------->\n",
            "59\n",
            "@pushpampc13 Ji. Can u please tell “Bihar” how your party is different from #AAP ? Today #AAP #congress means appea… https://t.co/mYWla9VWyv\n",
            "<--------------------------------------------------->\n",
            "60\n",
            "RT @idnani_nandini: @narendramodi Must listen for people of #Bihar this game plan of opp. &amp; #Congress flopped permanently by Modi Govt as J…\n",
            "<--------------------------------------------------->\n",
            "61\n",
            "RT @idnani_nandini: @narendramodi Must listen for people of #Bihar this game plan of opp. &amp; #Congress flopped permanently by Modi Govt as J…\n",
            "<--------------------------------------------------->\n",
            "62\n",
            "#bihar_congress #bihar_in-charge_md #congress #found_corona_positive #gohil_is_afflicted_with_corona #liked… https://t.co/xu8pZPrp5k\n",
            "<--------------------------------------------------->\n",
            "63\n",
            "RT @idnani_nandini: @narendramodi Must listen for people of #Bihar this game plan of opp. &amp; #Congress flopped permanently by Modi Govt as J…\n",
            "<--------------------------------------------------->\n",
            "64\n",
            "RT @idnani_nandini: @narendramodi Must listen for people of #Bihar this game plan of opp. &amp; #Congress flopped permanently by Modi Govt as J…\n",
            "<--------------------------------------------------->\n",
            "65\n",
            "RT @idnani_nandini: @narendramodi Must listen for people of #Bihar this game plan of opp. &amp; #Congress flopped permanently by Modi Govt as J…\n",
            "<--------------------------------------------------->\n",
            "66\n",
            "RT @idnani_nandini: @narendramodi Must listen for people of #Bihar this game plan of opp. &amp; #Congress flopped permanently by Modi Govt as J…\n",
            "<--------------------------------------------------->\n",
            "67\n",
            "RT @idnani_nandini: @narendramodi Must listen for people of #Bihar this game plan of opp. &amp; #Congress flopped permanently by Modi Govt as J…\n",
            "<--------------------------------------------------->\n",
            "68\n",
            "RT @idnani_nandini: @narendramodi Must listen for people of #Bihar this game plan of opp. &amp; #Congress flopped permanently by Modi Govt as J…\n",
            "<--------------------------------------------------->\n",
            "69\n",
            "Come on #Bihar your one vote can make a big difference, \n",
            "Vote For Change..\n",
            "Vote For #Congress… https://t.co/H7EcPWcwb2\n",
            "<--------------------------------------------------->\n",
            "70\n",
            "Come on #Bihar your one vote can make a big difference, \n",
            "Vote For Change..\n",
            "Vote For #Congress… https://t.co/38zsDuOVjs\n",
            "<--------------------------------------------------->\n",
            "71\n",
            "#Bihar\n",
            "Loktantrik Janata Dal (#LJD) chief #SharadYadav  daughter Subhashini Raj Rao casts her vote at a polling boo… https://t.co/NBEkF7pxjG\n",
            "<--------------------------------------------------->\n",
            "72\n",
            "TODAY BIHAR WILL VOTE FOR NATION\n",
            "\n",
            "#Mahagathbandhan\n",
            "#Congress\n",
            "#development\n",
            "<--------------------------------------------------->\n",
            "73\n",
            "RT @idnani_nandini: @narendramodi Must listen for people of #Bihar this game plan of opp. &amp; #Congress flopped permanently by Modi Govt as J…\n",
            "<--------------------------------------------------->\n",
            "74\n",
            "RT @idnani_nandini: @narendramodi Must listen for people of #Bihar this game plan of opp. &amp; #Congress flopped permanently by Modi Govt as J…\n",
            "<--------------------------------------------------->\n",
            "75\n",
            "RT @idnani_nandini: @narendramodi Must listen for people of #Bihar this game plan of opp. &amp; #Congress flopped permanently by Modi Govt as J…\n",
            "<--------------------------------------------------->\n",
            "76\n",
            "@arunasthana Nobody cares? Bihar elex more imp than poison in air. #BiharElections2020 #AirQuality  #DelhiPollution #Congress #पराली\n",
            "<--------------------------------------------------->\n",
            "77\n",
            "RT @souravconnects: There is no alternative of #Congress and @INCIndia led UPA or #mahagathbandhan government. #Bihar knows that and this t…\n",
            "<--------------------------------------------------->\n",
            "78\n",
            "RT @souravconnects: There is no alternative of #Congress and @INCIndia led UPA or #mahagathbandhan government. #Bihar knows that and this t…\n",
            "<--------------------------------------------------->\n",
            "79\n",
            "RT @idnani_nandini: @narendramodi Must listen for people of #Bihar this game plan of opp. &amp; #Congress flopped permanently by Modi Govt as J…\n",
            "<--------------------------------------------------->\n",
            "80\n",
            "#BiharElections\n",
            "Data of Public Meetings in #BiharElection2020:\n",
            "#PMModi..12\n",
            "#NitishKumar..161 (6 with #PM)… https://t.co/w80DrBUDqF\n",
            "<--------------------------------------------------->\n",
            "81\n",
            "RT @idnani_nandini: @narendramodi Must listen for people of #Bihar this game plan of opp. &amp; #Congress flopped permanently by Modi Govt as J…\n",
            "<--------------------------------------------------->\n",
            "82\n",
            "RT @idnani_nandini: @narendramodi Must listen for people of #Bihar this game plan of opp. &amp; #Congress flopped permanently by Modi Govt as J…\n",
            "<--------------------------------------------------->\n",
            "83\n",
            "RT @idnani_nandini: @narendramodi Must listen for people of #Bihar this game plan of opp. &amp; #Congress flopped permanently by Modi Govt as J…\n",
            "<--------------------------------------------------->\n",
            "84\n",
            "RT @idnani_nandini: @narendramodi Must listen for people of #Bihar this game plan of opp. &amp; #Congress flopped permanently by Modi Govt as J…\n",
            "<--------------------------------------------------->\n",
            "85\n",
            "@narendramodi Must listen for people of #Bihar this game plan of opp. &amp; #Congress flopped permanently by Modi Govt… https://t.co/agQgjE0liL\n",
            "<--------------------------------------------------->\n",
            "86\n",
            "RT @souravconnects: There is no alternative of #Congress and @INCIndia led UPA or #mahagathbandhan government. #Bihar knows that and this t…\n",
            "<--------------------------------------------------->\n",
            "87\n",
            "There is no alternative of #Congress and @INCIndia led UPA or #mahagathbandhan government. #Bihar knows that and th… https://t.co/1P86DKiVGI\n",
            "<--------------------------------------------------->\n",
            "88\n",
            "Bihar, you know whom elect right? Don't make a mistake. Give young man a chance. He has dreams, he has conviction.… https://t.co/YlQIN0bzsW\n",
            "<--------------------------------------------------->\n",
            "89\n",
            "#bihar_assembly_election #bihar_election_2020 #bihar_news #bjp #congress #nda Bihar Chunav: The Congress...\n",
            "https://t.co/GY5KAnELsz\n",
            "<--------------------------------------------------->\n",
            "90\n",
            "Jobless youth and middle class indians - please help us!!🙏\n",
            "\n",
            "👉Congress - NO \n",
            "\n",
            "👉BJP - NO 🇮🇳🧡🕉️ \n",
            "\n",
            "#BJP\n",
            "#India #Congress #Bihar #BiharElections\n",
            "<--------------------------------------------------->\n",
            "91\n",
            "Get your daily dose of Gujarati  breaking news, latest political and entertainment updates from Gujarat and India o… https://t.co/TJz2GlvAHN\n",
            "<--------------------------------------------------->\n",
            "92\n",
            "RT @FellowcitizenES: The BJP government had hatched a conspiracy to attack the farmers by turning the Corona epidemic into an opportunity.…\n",
            "<--------------------------------------------------->\n",
            "93\n",
            "RT @FellowcitizenES: The BJP government had hatched a conspiracy to attack the farmers by turning the Corona epidemic into an opportunity.…\n",
            "<--------------------------------------------------->\n",
            "94\n",
            "Bihar voter are going to Vote for #Sustainable_Socio_economic development.\n",
            "#BiharElections2020 \n",
            "#Congress \n",
            "#mahagathbandhan\n",
            "<--------------------------------------------------->\n",
            "95\n",
            "RT @FellowcitizenES: The BJP government had hatched a conspiracy to attack the farmers by turning the Corona epidemic into an opportunity.…\n",
            "<--------------------------------------------------->\n",
            "96\n",
            "@anilpricha @RahulGandhi This country takes revenge of #BJP with Non violence with Love and respect by giving valua… https://t.co/d5OfdtpQ9A\n",
            "<--------------------------------------------------->\n",
            "97\n",
            "RT @SevadalAMD: #BiharElections #Congress #rjd #RahulGandhi #Tejaswiyadav #Bihar time to get rid of #BjpProtectsMurdererArnab #jdu #NDA #Vo…\n",
            "<--------------------------------------------------->\n",
            "98\n",
            "RT @FellowcitizenES: The BJP government had hatched a conspiracy to attack the farmers by turning the Corona epidemic into an opportunity.…\n",
            "<--------------------------------------------------->\n",
            "99\n",
            "RT @FellowcitizenES: The BJP government had hatched a conspiracy to attack the farmers by turning the Corona epidemic into an opportunity.…\n",
            "<--------------------------------------------------->\n",
            "100\n",
            "RT @Aryan_warlord: Must point out here that the AIUDF &amp; #BadruddinAjmal continue to remain major allies of the @INCIndia &amp; #RahulGandhi .\n",
            "#…\n",
            "<--------------------------------------------------->\n",
            "101\n",
            "RT @Aryan_warlord: Must point out here that the AIUDF &amp; #BadruddinAjmal continue to remain major allies of the @INCIndia &amp; #RahulGandhi .\n",
            "#…\n",
            "<--------------------------------------------------->\n",
            "102\n",
            "RT @IndiaAheadNews: #Congress slams #Bihar CM @NitishKumar, says he has conceded defeat\n",
            "#BiharElections #BiharElections2020\n",
            "@palaksharmanew…\n",
            "<--------------------------------------------------->\n",
            "103\n",
            "RT @FellowcitizenES: The BJP government had hatched a conspiracy to attack the farmers by turning the Corona epidemic into an opportunity.…\n",
            "<--------------------------------------------------->\n",
            "104\n",
            "RT @Aryan_warlord: Must point out here that the AIUDF &amp; #BadruddinAjmal continue to remain major allies of the @INCIndia &amp; #RahulGandhi .\n",
            "#…\n",
            "<--------------------------------------------------->\n",
            "105\n",
            "RT @FellowcitizenES: The BJP government had hatched a conspiracy to attack the farmers by turning the Corona epidemic into an opportunity.…\n",
            "<--------------------------------------------------->\n",
            "106\n",
            "RT @Aryan_warlord: Must point out here that the AIUDF &amp; #BadruddinAjmal continue to remain major allies of the @INCIndia &amp; #RahulGandhi .\n",
            "#…\n",
            "<--------------------------------------------------->\n",
            "107\n",
            "RT @FellowcitizenES: The BJP government had hatched a conspiracy to attack the farmers by turning the Corona epidemic into an opportunity.…\n",
            "<--------------------------------------------------->\n",
            "108\n",
            "RT @Aryan_warlord: Must point out here that the AIUDF &amp; #BadruddinAjmal continue to remain major allies of the @INCIndia &amp; #RahulGandhi .\n",
            "#…\n",
            "<--------------------------------------------------->\n",
            "109\n",
            "RT @Aryan_warlord: Must point out here that the AIUDF &amp; #BadruddinAjmal continue to remain major allies of the @INCIndia &amp; #RahulGandhi .\n",
            "#…\n",
            "<--------------------------------------------------->\n",
            "110\n",
            "RT @Aryan_warlord: Must point out here that the AIUDF &amp; #BadruddinAjmal continue to remain major allies of the @INCIndia &amp; #RahulGandhi .\n",
            "#…\n",
            "<--------------------------------------------------->\n",
            "111\n",
            "Must point out here that the AIUDF &amp; #BadruddinAjmal continue to remain major allies of the @INCIndia &amp;… https://t.co/Pvcb4JikfF\n",
            "<--------------------------------------------------->\n",
            "112\n",
            "Who Will Win Bihar ?\n",
            "\n",
            "#Bihar #BiharElections #BiharElections2020 #biharopinionpoll #biharexitpolls #Katihar #EVM… https://t.co/jhQwKI5sxt\n",
            "<--------------------------------------------------->\n",
            "113\n",
            "RT @FellowcitizenES: The BJP government had hatched a conspiracy to attack the farmers by turning the Corona epidemic into an opportunity.…\n",
            "<--------------------------------------------------->\n",
            "114\n",
            "RT @SevadalAMD: #BiharElections #Congress #rjd #RahulGandhi #Tejaswiyadav #Bihar time to get rid of #BjpProtectsMurdererArnab #jdu #NDA #Vo…\n",
            "<--------------------------------------------------->\n",
            "115\n",
            "RT @SevadalAMD: #BiharElections #Congress #rjd #RahulGandhi #Tejaswiyadav #Bihar time to get rid of #BjpProtectsMurdererArnab #jdu #NDA #Vo…\n",
            "<--------------------------------------------------->\n",
            "116\n",
            "#BiharElections #Congress #rjd #RahulGandhi #Tejaswiyadav #Bihar time to get rid of #BjpProtectsMurdererArnab #jdu… https://t.co/9DCVKZY8GN\n",
            "<--------------------------------------------------->\n",
            "117\n",
            "RT @FellowcitizenES: The BJP government had hatched a conspiracy to attack the farmers by turning the Corona epidemic into an opportunity.…\n",
            "<--------------------------------------------------->\n",
            "118\n",
            "RT @FellowcitizenES: The BJP government had hatched a conspiracy to attack the farmers by turning the Corona epidemic into an opportunity.…\n",
            "<--------------------------------------------------->\n",
            "119\n",
            "RT @FellowcitizenES: The BJP government had hatched a conspiracy to attack the farmers by turning the Corona epidemic into an opportunity.…\n",
            "<--------------------------------------------------->\n",
            "120\n",
            "RT @FellowcitizenES: The BJP government had hatched a conspiracy to attack the farmers by turning the Corona epidemic into an opportunity.…\n",
            "<--------------------------------------------------->\n",
            "121\n",
            "RT @FellowcitizenES: The BJP government had hatched a conspiracy to attack the farmers by turning the Corona epidemic into an opportunity.…\n",
            "<--------------------------------------------------->\n",
            "122\n",
            "The BJP government had hatched a conspiracy to attack the farmers by turning the Corona epidemic into an opportunit… https://t.co/z4hHdWs9FR\n",
            "<--------------------------------------------------->\n",
            "123\n",
            "RT @iamnikhilnanda: #EVM bashing has started. First sure sign that #MahaGathBandhan #Congress is staring at defeat. In the same breath #RaG…\n",
            "<--------------------------------------------------->\n",
            "124\n",
            "@DrLuttapi I would say Bihar should vote for BJP/JDU because - Bad is better than worse. Example what we are seeing… https://t.co/6M0tDD7Hgx\n",
            "<--------------------------------------------------->\n",
            "125\n",
            "@htTweets @RahulGandhi I m bit apprehensive what #RahulGandhi is mentioning. Is he promising to change Bihar to ano… https://t.co/UNOGX7DDVU\n",
            "<--------------------------------------------------->\n",
            "126\n",
            "@vikramjeet_vick Do you really think Lalu, his sons and #RJD will uplift the oppressed ppl. Remember during #Lalu a… https://t.co/PvdTAS087S\n",
            "<--------------------------------------------------->\n",
            "127\n",
            "#Congress slams #Bihar CM @NitishKumar, says he has conceded defeat\n",
            "#BiharElections #BiharElections2020… https://t.co/fvrcDSVWII\n",
            "<--------------------------------------------------->\n",
            "128\n",
            "#Congress leader #PChidambaram on Thursday claimed #Bihar chief minister #NitishKumar has conceded defeat by declar… https://t.co/aRsrqO9g1t\n",
            "<--------------------------------------------------->\n",
            "129\n",
            "Nitish accepted defeat when he said this Bihar election is his last electoral battle : Surjewala… https://t.co/M9JkgjPnDQ\n",
            "<--------------------------------------------------->\n",
            "130\n",
            "America has done it now it's India that needs to get rid of it's fools.. #ElectionResults2020 #Election2020… https://t.co/JrAMgY42PS\n",
            "<--------------------------------------------------->\n",
            "131\n",
            "RT @ABPNews: WATCH | #NitishKumar has accepted his defeat: #Congress.\n",
            "\n",
            "#BiharElections2020 #Bihar \n",
            "https://t.co/AcZJLvIMuO\n",
            "<--------------------------------------------------->\n",
            "132\n",
            "RT @iamnikhilnanda: #EVM bashing has started. First sure sign that #MahaGathBandhan #Congress is staring at defeat. In the same breath #RaG…\n",
            "<--------------------------------------------------->\n",
            "133\n",
            "RT @iamnikhilnanda: #EVM bashing has started. First sure sign that #MahaGathBandhan #Congress is staring at defeat. In the same breath #RaG…\n",
            "<--------------------------------------------------->\n",
            "134\n",
            "RT @ABPNews: WATCH | #NitishKumar has accepted his defeat: #Congress.\n",
            "\n",
            "#BiharElections2020 #Bihar \n",
            "https://t.co/AcZJLvIMuO\n",
            "<--------------------------------------------------->\n",
            "135\n",
            "RT @ABPNews: WATCH | #NitishKumar has accepted his defeat: #Congress.\n",
            "\n",
            "#BiharElections2020 #Bihar \n",
            "https://t.co/AcZJLvIMuO\n",
            "<--------------------------------------------------->\n",
            "136\n",
            "RT @ABPNews: WATCH | #NitishKumar has accepted his defeat: #Congress.\n",
            "\n",
            "#BiharElections2020 #Bihar \n",
            "https://t.co/AcZJLvIMuO\n",
            "<--------------------------------------------------->\n",
            "137\n",
            "RT @ABPNews: WATCH | #NitishKumar has accepted his defeat: #Congress.\n",
            "\n",
            "#BiharElections2020 #Bihar \n",
            "https://t.co/AcZJLvIMuO\n",
            "<--------------------------------------------------->\n",
            "138\n",
            "WATCH | #NitishKumar has accepted his defeat: #Congress.\n",
            "\n",
            "#BiharElections2020 #Bihar \n",
            "https://t.co/AcZJLvIMuO\n",
            "<--------------------------------------------------->\n",
            "139\n",
            "RT @NH_India: #Congress’ Bihar unit chief #MadanMohanJha on Thursday accused the #AsaduddinOwaisi-led party of colluding with the #BJP, but…\n",
            "<--------------------------------------------------->\n",
            "140\n",
            "RT @iamnikhilnanda: #EVM bashing has started. First sure sign that #MahaGathBandhan #Congress is staring at defeat. In the same breath #RaG…\n",
            "<--------------------------------------------------->\n",
            "141\n",
            "Who will win the #BiharElections2020? \n",
            "\n",
            "#BiharElections2020 \n",
            "#BJP #congress  #CountTheVotes #bihar #biharindia… https://t.co/kCfOqMD1h3\n",
            "<--------------------------------------------------->\n",
            "142\n",
            "Ahead of the final phase of polling in Bihar on November 7, the Congress has targeted AIMIM leader Asaduddin Owaisi… https://t.co/J6BosiQF2M\n",
            "<--------------------------------------------------->\n",
            "143\n",
            "Rahul targets BJP-JD(U) combine on migrants issue https://t.co/rfJFQCoN5W\n",
            "\n",
            "#RahulGandhi #Congress #BJPJDU #Migrants #Bihar\n",
            "<--------------------------------------------------->\n",
            "144\n",
            "RT @iamnikhilnanda: #EVM bashing has started. First sure sign that #MahaGathBandhan #Congress is staring at defeat. In the same breath #RaG…\n",
            "<--------------------------------------------------->\n",
            "145\n",
            "Dubbing the #AIMIM as the #BJP's \"B-team\", #Congress' #Bihar unit chief Madan Mohan Jha on Thursday accused the… https://t.co/J9hQCpqfRR\n",
            "<--------------------------------------------------->\n",
            "146\n",
            "RT @iamnikhilnanda: #EVM bashing has started. First sure sign that #MahaGathBandhan #Congress is staring at defeat. In the same breath #RaG…\n",
            "<--------------------------------------------------->\n",
            "147\n",
            "#Congress' #Bihar unit chief #MadanMohanJha on Thursday accused the #AIMIM of colluding with the #BJP, but said it… https://t.co/mMtWa8rebd\n",
            "<--------------------------------------------------->\n",
            "148\n",
            "RT @iamnikhilnanda: #EVM bashing has started. First sure sign that #MahaGathBandhan #Congress is staring at defeat. In the same breath #RaG…\n",
            "<--------------------------------------------------->\n",
            "149\n",
            "#EVM bashing has started. First sure sign that #MahaGathBandhan #Congress is staring at defeat. In the same breath… https://t.co/CAIH77V09h\n",
            "<--------------------------------------------------->\n",
            "150\n",
            "Cong terms Owaisi 'B Team' of BJP ahead of final phase in Bihar #BiharAssemblyElections #Congress https://t.co/rSEhriKYCz\n",
            "<--------------------------------------------------->\n",
            "151\n",
            "RT @NH_India: #Congress’ Bihar unit chief #MadanMohanJha on Thursday accused the #AsaduddinOwaisi-led party of colluding with the #BJP, but…\n",
            "<--------------------------------------------------->\n",
            "152\n",
            "RT @NH_India: #Congress’ Bihar unit chief #MadanMohanJha on Thursday accused the #AsaduddinOwaisi-led party of colluding with the #BJP, but…\n",
            "<--------------------------------------------------->\n",
            "153\n",
            "RT @NH_India: #Congress’ Bihar unit chief #MadanMohanJha on Thursday accused the #AsaduddinOwaisi-led party of colluding with the #BJP, but…\n",
            "<--------------------------------------------------->\n",
            "154\n",
            "RT @NH_India: #Congress’ Bihar unit chief #MadanMohanJha on Thursday accused the #AsaduddinOwaisi-led party of colluding with the #BJP, but…\n",
            "<--------------------------------------------------->\n",
            "155\n",
            "RT @NH_India: #Congress’ Bihar unit chief #MadanMohanJha on Thursday accused the #AsaduddinOwaisi-led party of colluding with the #BJP, but…\n",
            "<--------------------------------------------------->\n",
            "156\n",
            "RT @NH_India: #Congress’ Bihar unit chief #MadanMohanJha on Thursday accused the #AsaduddinOwaisi-led party of colluding with the #BJP, but…\n",
            "<--------------------------------------------------->\n",
            "157\n",
            "#Congress’ Bihar unit chief #MadanMohanJha on Thursday accused the #AsaduddinOwaisi-led party of colluding with the… https://t.co/tY64CpWksI\n",
            "<--------------------------------------------------->\n",
            "158\n",
            "Story 72 from #Bihar- \n",
            "\n",
            "Congress, allies questioning EVM show they have accepted defeat: Chirag Paswan… https://t.co/xmWX23zQxU\n",
            "<--------------------------------------------------->\n",
            "159\n",
            "Not scared of ‘Modi Voting Machine’ or Modiji’s media: Rahul Gandhi during Bihar elections\n",
            "\n",
            "https://t.co/cVL3ks0iM7… https://t.co/fXvB2nat4K\n",
            "<--------------------------------------------------->\n",
            "160\n",
            "@ANI #RahulGandhi #BiharPolls #Congress   He is already hinting of a poor performance by his party and the allies i… https://t.co/6P7uPUXGGG\n",
            "<--------------------------------------------------->\n",
            "161\n",
            "Congress leader Rahul Gandhi during a poll campaign in Araria has come out with spin-off of Electronic Voting Machi… https://t.co/brn1FH2ZAR\n",
            "<--------------------------------------------------->\n",
            "162\n",
            "#jungleraj was removed fm Bihar by @NitishKumar w BJP, but it seems it travelled to #Maharashtra .The state on whic… https://t.co/NhDb4rmuqL\n",
            "<--------------------------------------------------->\n",
            "163\n",
            "@INCIndia @RahulGandhi We want development in bihar... That's why this time only #CONGRESS  !!\n",
            "<--------------------------------------------------->\n",
            "164\n",
            "RT @NH_India: Describing #electronicvoting machine as ‘Modi Voting Machine’ (MVM), #Congress leader #RahulGandhi on Wednesday said he is no…\n",
            "<--------------------------------------------------->\n",
            "165\n",
            "Bihar: Rahul Gandhi asked Votes for Sharad Yadav's Daughter, said - He is like our Guru\n",
            "#Congress #RahulGandhi… https://t.co/MzEkKBHs8p\n",
            "<--------------------------------------------------->\n",
            "166\n"
          ],
          "name": "stdout"
        }
      ]
    },
    {
      "cell_type": "markdown",
      "metadata": {
        "id": "Yj-f10OwDLlk"
      },
      "source": [
        "# **Importing Libraries**\n"
      ]
    },
    {
      "cell_type": "code",
      "metadata": {
        "id": "onmGgSgRCmn0"
      },
      "source": [
        "import re\n",
        "import numpy as np\n",
        "\n",
        "import matplotlib.pyplot as plt\n",
        "import seaborn as sns\n",
        "\n",
        "import pandas as pd\n",
        "\n",
        "import datetime as dt\n",
        "from collections import Counter\n",
        "\n",
        "import nltk\n",
        "from nltk.tokenize import sent_tokenize\n",
        "from nltk.tokenize import TweetTokenizer\n",
        "from nltk.tokenize import word_tokenize\n",
        "from nltk.corpus import words\n",
        "from nltk.corpus import stopwords\n",
        "from nltk.stem import PorterStemmer\n",
        "from nltk.stem import WordNetLemmatizer"
      ],
      "execution_count": 4,
      "outputs": []
    },
    {
      "cell_type": "markdown",
      "metadata": {
        "id": "uCbokGdFEFCn"
      },
      "source": [
        "# **CLEANING CONGRESS DATASET 1**"
      ]
    },
    {
      "cell_type": "code",
      "metadata": {
        "id": "JUKjKdfREGfH",
        "outputId": "247bd0f6-23aa-46c3-9c60-ce6f890dbc5a",
        "colab": {
          "base_uri": "https://localhost:8080/"
        }
      },
      "source": [
        "tweets_list = df['Tweet'].tolist()\n",
        "len(tweets_list)"
      ],
      "execution_count": 5,
      "outputs": [
        {
          "output_type": "execute_result",
          "data": {
            "text/plain": [
              "166"
            ]
          },
          "metadata": {
            "tags": []
          },
          "execution_count": 5
        }
      ]
    },
    {
      "cell_type": "markdown",
      "metadata": {
        "id": "F3RA2-mJGdVl"
      },
      "source": [
        "\n",
        "\n",
        "> **Removing duplicates tweets if any.**\n",
        "\n"
      ]
    },
    {
      "cell_type": "code",
      "metadata": {
        "id": "iFtIgdhUDa2Z",
        "outputId": "8f223132-0b62-44a7-c72f-1f9594c76237",
        "colab": {
          "base_uri": "https://localhost:8080/"
        }
      },
      "source": [
        "tweets_list_updated = set(tweets_list)\n",
        "len(tweets_list_updated)"
      ],
      "execution_count": 6,
      "outputs": [
        {
          "output_type": "execute_result",
          "data": {
            "text/plain": [
              "95"
            ]
          },
          "metadata": {
            "tags": []
          },
          "execution_count": 6
        }
      ]
    },
    {
      "cell_type": "code",
      "metadata": {
        "id": "LAtc6kRhHVMm",
        "outputId": "5347751d-c599-4043-c576-2b9f2d73228f",
        "colab": {
          "base_uri": "https://localhost:8080/"
        }
      },
      "source": [
        "df['Tweet'].duplicated().sum()"
      ],
      "execution_count": 7,
      "outputs": [
        {
          "output_type": "execute_result",
          "data": {
            "text/plain": [
              "71"
            ]
          },
          "metadata": {
            "tags": []
          },
          "execution_count": 7
        }
      ]
    },
    {
      "cell_type": "markdown",
      "metadata": {
        "id": "m0Sw_RO-G9rc"
      },
      "source": [
        "```\n",
        "Number of duplicates tweets\n",
        "```\n",
        "\n"
      ]
    },
    {
      "cell_type": "code",
      "metadata": {
        "id": "1yAMQi-4HocN",
        "outputId": "0253e16c-4d1f-4b5f-bca9-d8e112d50f0b",
        "colab": {
          "base_uri": "https://localhost:8080/"
        }
      },
      "source": [
        "df = df.drop_duplicates(subset = 'Tweet', keep = 'first',ignore_index = True)\n",
        "df.shape"
      ],
      "execution_count": 8,
      "outputs": [
        {
          "output_type": "execute_result",
          "data": {
            "text/plain": [
              "(95, 1)"
            ]
          },
          "metadata": {
            "tags": []
          },
          "execution_count": 8
        }
      ]
    },
    {
      "cell_type": "markdown",
      "metadata": {
        "id": "sXpzDQABH0Kd"
      },
      "source": [
        "\n",
        "\n",
        "```\n",
        "Removed all the duplicate tweets\n",
        "```\n",
        "\n"
      ]
    },
    {
      "cell_type": "markdown",
      "metadata": {
        "id": "BEmQi-BZIRKI"
      },
      "source": [
        "\n",
        "\n",
        "> **Removing emojis**\n",
        "\n"
      ]
    },
    {
      "cell_type": "code",
      "metadata": {
        "id": "YaynKA-QH-Oe"
      },
      "source": [
        "def remove_emoji(tweet):\n",
        "    emoji_pattern = re.compile(\"[\"\n",
        "            u\"\\U0001F600-\\U0001F64F\"  # emoticons\n",
        "            u\"\\U0001F300-\\U0001F5FF\"  # symbols & pictographs\n",
        "            u\"\\U0001F680-\\U0001F6FF\"  # transport & map symbols\n",
        "            u\"\\U0001F1E0-\\U0001F1FF\"  # flags (iOS)\n",
        "                               \"]+\", flags=re.UNICODE)\n",
        "    return emoji_pattern.sub(r'', tweet)\n",
        "\n",
        "df['Processed_Tweet']=df.Tweet.apply(remove_emoji)"
      ],
      "execution_count": 9,
      "outputs": []
    },
    {
      "cell_type": "markdown",
      "metadata": {
        "id": "s8CsSz4WItY5"
      },
      "source": [
        "\n",
        "\n",
        "```\n",
        "From now on, all the preprocessing & modelling on tweets will be stored in the data column called 'Processed_Tweet' \n",
        "```\n",
        "\n"
      ]
    },
    {
      "cell_type": "code",
      "metadata": {
        "id": "0Or2ltPCIpUk",
        "outputId": "40f57a7d-8de5-4d04-e1b2-1032a95bba4d",
        "colab": {
          "base_uri": "https://localhost:8080/"
        }
      },
      "source": [
        "count = 0\n",
        "for i in df['Processed_Tweet']:\n",
        "    if re.match(r'^RT', i):  #remove any rows that contain RT\n",
        "        df.drop(df.loc[df['Processed_Tweet']==i].index,inplace = True)\n",
        "        count+=1\n",
        "    \n",
        "count"
      ],
      "execution_count": 10,
      "outputs": [
        {
          "output_type": "execute_result",
          "data": {
            "text/plain": [
              "15"
            ]
          },
          "metadata": {
            "tags": []
          },
          "execution_count": 10
        }
      ]
    },
    {
      "cell_type": "code",
      "metadata": {
        "id": "l7oS-TiyI25f",
        "outputId": "17010923-54d4-441a-bbaf-8fd1cfc492e9",
        "colab": {
          "base_uri": "https://localhost:8080/"
        }
      },
      "source": [
        "df.shape"
      ],
      "execution_count": 11,
      "outputs": [
        {
          "output_type": "execute_result",
          "data": {
            "text/plain": [
              "(80, 2)"
            ]
          },
          "metadata": {
            "tags": []
          },
          "execution_count": 11
        }
      ]
    },
    {
      "cell_type": "code",
      "metadata": {
        "id": "DwnC13U6JcP1",
        "outputId": "4dbb7459-c138-499f-c743-20c543336826",
        "colab": {
          "base_uri": "https://localhost:8080/"
        }
      },
      "source": [
        "df['Processed_Tweet']"
      ],
      "execution_count": 12,
      "outputs": [
        {
          "output_type": "execute_result",
          "data": {
            "text/plain": [
              "0     Bihar Exit Polls says RJD  congress alliance  ...\n",
              "1     Yeh toh vote dene se phale sochna chahiye ki a...\n",
              "2     Karnataka CM BS Yediyurappa Will Be Changed Af...\n",
              "3     #Congress terms #Bihar #ExitPolls a slap on #N...\n",
              "4     #india #bjp #Congress #BiharElections2020 #Bih...\n",
              "                            ...                        \n",
              "89    @ANI #RahulGandhi #BiharPolls #Congress   He i...\n",
              "90    Congress leader Rahul Gandhi during a poll cam...\n",
              "91    #jungleraj was removed fm Bihar by @NitishKuma...\n",
              "92    @INCIndia @RahulGandhi We want development in ...\n",
              "94    Bihar: Rahul Gandhi asked Votes for Sharad Yad...\n",
              "Name: Processed_Tweet, Length: 80, dtype: object"
            ]
          },
          "metadata": {
            "tags": []
          },
          "execution_count": 12
        }
      ]
    },
    {
      "cell_type": "markdown",
      "metadata": {
        "id": "y2z8xzKKJumQ"
      },
      "source": [
        "\n",
        "\n",
        ">**Removing username**\n",
        "\n"
      ]
    },
    {
      "cell_type": "code",
      "metadata": {
        "id": "D7QnpHwNJki3",
        "outputId": "89850cdf-cf48-4a60-f8b0-f0e2e05ac8b2",
        "colab": {
          "base_uri": "https://localhost:8080/"
        }
      },
      "source": [
        "df['Processed_Tweet'] = [re.sub('@[^\\s]+', ' ', i) for i in df['Processed_Tweet']] #remove usernames\n",
        "df['Processed_Tweet']"
      ],
      "execution_count": 13,
      "outputs": [
        {
          "output_type": "execute_result",
          "data": {
            "text/plain": [
              "0     Bihar Exit Polls says RJD  congress alliance  ...\n",
              "1     Yeh toh vote dene se phale sochna chahiye ki a...\n",
              "2     Karnataka CM BS Yediyurappa Will Be Changed Af...\n",
              "3     #Congress terms #Bihar #ExitPolls a slap on #N...\n",
              "4     #india #bjp #Congress #BiharElections2020 #Bih...\n",
              "                            ...                        \n",
              "89      #RahulGandhi #BiharPolls #Congress   He is a...\n",
              "90    Congress leader Rahul Gandhi during a poll cam...\n",
              "91    #jungleraj was removed fm Bihar by   w BJP, bu...\n",
              "92        We want development in bihar... That's why...\n",
              "94    Bihar: Rahul Gandhi asked Votes for Sharad Yad...\n",
              "Name: Processed_Tweet, Length: 80, dtype: object"
            ]
          },
          "metadata": {
            "tags": []
          },
          "execution_count": 13
        }
      ]
    },
    {
      "cell_type": "markdown",
      "metadata": {
        "id": "qr_8TqFMKWwm"
      },
      "source": [
        "\n",
        "\n",
        "> **Removing URL, if any**\n",
        "\n"
      ]
    },
    {
      "cell_type": "code",
      "metadata": {
        "id": "FgsV3OuqKCfs",
        "outputId": "32f42a0a-8183-42d4-9cfa-e1f1573a115f",
        "colab": {
          "base_uri": "https://localhost:8080/"
        }
      },
      "source": [
        "df['Processed_Tweet'] = [re.sub('((www\\.[^\\s]+)|(https?://[^\\s]+))', '', i) for i in df['Processed_Tweet']] #Remove urls\n",
        "df['Processed_Tweet']"
      ],
      "execution_count": 14,
      "outputs": [
        {
          "output_type": "execute_result",
          "data": {
            "text/plain": [
              "0     Bihar Exit Polls says RJD  congress alliance  ...\n",
              "1     Yeh toh vote dene se phale sochna chahiye ki a...\n",
              "2     Karnataka CM BS Yediyurappa Will Be Changed Af...\n",
              "3     #Congress terms #Bihar #ExitPolls a slap on #N...\n",
              "4     #india #bjp #Congress #BiharElections2020 #Bih...\n",
              "                            ...                        \n",
              "89      #RahulGandhi #BiharPolls #Congress   He is a...\n",
              "90    Congress leader Rahul Gandhi during a poll cam...\n",
              "91    #jungleraj was removed fm Bihar by   w BJP, bu...\n",
              "92        We want development in bihar... That's why...\n",
              "94    Bihar: Rahul Gandhi asked Votes for Sharad Yad...\n",
              "Name: Processed_Tweet, Length: 80, dtype: object"
            ]
          },
          "metadata": {
            "tags": []
          },
          "execution_count": 14
        }
      ]
    },
    {
      "cell_type": "markdown",
      "metadata": {
        "id": "pGn9qweZK5aZ"
      },
      "source": [
        "\n",
        "\n",
        "> **Removing Hashtags but keeping the word**\n",
        "\n"
      ]
    },
    {
      "cell_type": "code",
      "metadata": {
        "id": "9I-Od_zTK4x6",
        "outputId": "47ec1e48-63be-44d6-be62-91e4ec5f1efd",
        "colab": {
          "base_uri": "https://localhost:8080/"
        }
      },
      "source": [
        "df['Processed_Tweet'] = [re.sub(r'#([^\\s]+)', r'\\1', i) for i in df['Processed_Tweet']] # remove the # in #hashtag\n",
        "df['Processed_Tweet']"
      ],
      "execution_count": 15,
      "outputs": [
        {
          "output_type": "execute_result",
          "data": {
            "text/plain": [
              "0     Bihar Exit Polls says RJD  congress alliance  ...\n",
              "1     Yeh toh vote dene se phale sochna chahiye ki a...\n",
              "2     Karnataka CM BS Yediyurappa Will Be Changed Af...\n",
              "3     Congress terms Bihar ExitPolls a slap on NDA's...\n",
              "4     india bjp Congress BiharElections2020 BiharPol...\n",
              "                            ...                        \n",
              "89      RahulGandhi BiharPolls Congress   He is alre...\n",
              "90    Congress leader Rahul Gandhi during a poll cam...\n",
              "91    jungleraj was removed fm Bihar by   w BJP, but...\n",
              "92        We want development in bihar... That's why...\n",
              "94    Bihar: Rahul Gandhi asked Votes for Sharad Yad...\n",
              "Name: Processed_Tweet, Length: 80, dtype: object"
            ]
          },
          "metadata": {
            "tags": []
          },
          "execution_count": 15
        }
      ]
    },
    {
      "cell_type": "markdown",
      "metadata": {
        "id": "0MfgevSaLLRo"
      },
      "source": [
        "\n",
        "\n",
        "> **Using Preprocessor library**\n",
        "\n"
      ]
    },
    {
      "cell_type": "code",
      "metadata": {
        "id": "o41w8DD7LLhA",
        "outputId": "ee8be076-61f0-4cd6-d2fc-0b0aba823662",
        "colab": {
          "base_uri": "https://localhost:8080/"
        }
      },
      "source": [
        "!pip install tweet-preprocessor"
      ],
      "execution_count": 16,
      "outputs": [
        {
          "output_type": "stream",
          "text": [
            "Collecting tweet-preprocessor\n",
            "  Downloading https://files.pythonhosted.org/packages/17/9d/71bd016a9edcef8860c607e531f30bd09b13103c7951ae73dd2bf174163c/tweet_preprocessor-0.6.0-py3-none-any.whl\n",
            "Installing collected packages: tweet-preprocessor\n",
            "Successfully installed tweet-preprocessor-0.6.0\n"
          ],
          "name": "stdout"
        }
      ]
    },
    {
      "cell_type": "code",
      "metadata": {
        "id": "yAx0Y2kXLdwn",
        "outputId": "a9c690b1-3071-4ef5-ea91-20a87e52271b",
        "colab": {
          "base_uri": "https://localhost:8080/"
        }
      },
      "source": [
        "import preprocessor as p #Module for faster preprocessing specifically for tweets\n",
        "df['Processed_Tweet'] = [p.clean(i) for i in df['Processed_Tweet']]\n",
        "df['Processed_Tweet']"
      ],
      "execution_count": 18,
      "outputs": [
        {
          "output_type": "execute_result",
          "data": {
            "text/plain": [
              "0     Bihar Exit Polls says RJD congress alliance wi...\n",
              "1     Yeh toh vote dene se phale sochna chahiye ki a...\n",
              "2     Karnataka CM BS Yediyurappa Will Be Changed Af...\n",
              "3     Congress terms Bihar ExitPolls a slap on NDA's...\n",
              "4     india bjp Congress BiharElections2020 BiharPol...\n",
              "                            ...                        \n",
              "89    RahulGandhi BiharPolls Congress He is already ...\n",
              "90    Congress leader Rahul Gandhi during a poll cam...\n",
              "91    jungleraj was removed fm Bihar by w BJP, but i...\n",
              "92    We want development in bihar... That's why thi...\n",
              "94    Bihar: Rahul Gandhi asked Votes for Sharad Yad...\n",
              "Name: Processed_Tweet, Length: 80, dtype: object"
            ]
          },
          "metadata": {
            "tags": []
          },
          "execution_count": 18
        }
      ]
    },
    {
      "cell_type": "markdown",
      "metadata": {
        "id": "x61seOvDLnBS"
      },
      "source": [
        "> **Removing any special characters, numbers, punctuations,etc..**"
      ]
    },
    {
      "cell_type": "code",
      "metadata": {
        "id": "aJYIQywNLmFW",
        "outputId": "8e80fd88-b9a3-4fb2-ce04-2653350af99b",
        "colab": {
          "base_uri": "https://localhost:8080/"
        }
      },
      "source": [
        "df.Processed_Tweet = df.Processed_Tweet.str.replace(\"[^a-zA-Z]\", \" \")\n",
        "df[\"Processed_Tweet\"]"
      ],
      "execution_count": 19,
      "outputs": [
        {
          "output_type": "execute_result",
          "data": {
            "text/plain": [
              "0     Bihar Exit Polls says RJD congress alliance wi...\n",
              "1     Yeh toh vote dene se phale sochna chahiye ki a...\n",
              "2     Karnataka CM BS Yediyurappa Will Be Changed Af...\n",
              "3     Congress terms Bihar ExitPolls a slap on NDA s...\n",
              "4     india bjp Congress BiharElections     BiharPol...\n",
              "                            ...                        \n",
              "89    RahulGandhi BiharPolls Congress He is already ...\n",
              "90    Congress leader Rahul Gandhi during a poll cam...\n",
              "91    jungleraj was removed fm Bihar by w BJP  but i...\n",
              "92    We want development in bihar    That s why thi...\n",
              "94    Bihar  Rahul Gandhi asked Votes for Sharad Yad...\n",
              "Name: Processed_Tweet, Length: 80, dtype: object"
            ]
          },
          "metadata": {
            "tags": []
          },
          "execution_count": 19
        }
      ]
    },
    {
      "cell_type": "markdown",
      "metadata": {
        "id": "aqjAi106Mvvh"
      },
      "source": [
        "> **Converting to lowercase**"
      ]
    },
    {
      "cell_type": "code",
      "metadata": {
        "id": "trA4DZWeMvgZ",
        "outputId": "7dadd5f8-cf24-418e-d452-4696b7bf3e9e",
        "colab": {
          "base_uri": "https://localhost:8080/"
        }
      },
      "source": [
        "df.Processed_Tweet = [low.lower() for low in df.Processed_Tweet] #Converting into lower case\n",
        "df[\"Processed_Tweet\"]"
      ],
      "execution_count": 20,
      "outputs": [
        {
          "output_type": "execute_result",
          "data": {
            "text/plain": [
              "0     bihar exit polls says rjd congress alliance wi...\n",
              "1     yeh toh vote dene se phale sochna chahiye ki a...\n",
              "2     karnataka cm bs yediyurappa will be changed af...\n",
              "3     congress terms bihar exitpolls a slap on nda s...\n",
              "4     india bjp congress biharelections     biharpol...\n",
              "                            ...                        \n",
              "89    rahulgandhi biharpolls congress he is already ...\n",
              "90    congress leader rahul gandhi during a poll cam...\n",
              "91    jungleraj was removed fm bihar by w bjp  but i...\n",
              "92    we want development in bihar    that s why thi...\n",
              "94    bihar  rahul gandhi asked votes for sharad yad...\n",
              "Name: Processed_Tweet, Length: 80, dtype: object"
            ]
          },
          "metadata": {
            "tags": []
          },
          "execution_count": 20
        }
      ]
    },
    {
      "cell_type": "markdown",
      "metadata": {
        "id": "qmD04sX0M6q1"
      },
      "source": [
        "\n",
        "\n",
        "```\n",
        "We still have to remove stopwords, perform lemmatization & do stemming. So let us proceed with that\n",
        "```\n",
        "\n"
      ]
    },
    {
      "cell_type": "code",
      "metadata": {
        "id": "_9-e-bxaM6d-"
      },
      "source": [
        "from wordcloud import WordCloud\n",
        "tokenizer = TweetTokenizer()"
      ],
      "execution_count": 21,
      "outputs": []
    },
    {
      "cell_type": "markdown",
      "metadata": {
        "id": "LoEyIgJROeKY"
      },
      "source": [
        "\n",
        "\n",
        "> **Removing Stop Words**\n",
        "\n"
      ]
    },
    {
      "cell_type": "code",
      "metadata": {
        "id": "J_z-4cVLOoR6",
        "outputId": "6ba753ef-d333-4ee1-9dfb-f423bb51dc92",
        "colab": {
          "base_uri": "https://localhost:8080/"
        }
      },
      "source": [
        "nltk.download('stopwords')"
      ],
      "execution_count": 22,
      "outputs": [
        {
          "output_type": "stream",
          "text": [
            "[nltk_data] Downloading package stopwords to /root/nltk_data...\n",
            "[nltk_data]   Unzipping corpora/stopwords.zip.\n"
          ],
          "name": "stdout"
        },
        {
          "output_type": "execute_result",
          "data": {
            "text/plain": [
              "True"
            ]
          },
          "metadata": {
            "tags": []
          },
          "execution_count": 22
        }
      ]
    },
    {
      "cell_type": "code",
      "metadata": {
        "id": "s56CvCHLPNwl",
        "outputId": "52670e75-5659-4a90-94c4-16b0f6b9595c",
        "colab": {
          "base_uri": "https://localhost:8080/"
        }
      },
      "source": [
        "stop_words = set(stopwords.words('english')) \n",
        "stop_words = list(stop_words)\n",
        "print(stop_words)"
      ],
      "execution_count": 23,
      "outputs": [
        {
          "output_type": "stream",
          "text": [
            "['the', 'too', 'off', 'below', 'who', 'until', 'what', 'for', 'is', 'ourselves', 't', 'been', 'doing', \"that'll\", 'most', 'him', 'in', 'was', 'll', 'itself', 'you', 'each', 'further', \"couldn't\", 'all', \"weren't\", 'few', 'over', 'under', 'its', 'didn', 'himself', 'her', 'theirs', 'were', 'with', 'no', 'should', 'myself', 'which', 'why', \"don't\", 'very', 'our', 'yours', 'had', 'being', \"you'd\", 'after', 'ma', 'm', 's', 'that', \"she's\", 'd', 'ours', 'there', \"hadn't\", 'did', 'on', \"aren't\", 'herself', 'nor', 'those', 'into', 'by', 'against', 'other', 'ain', \"shan't\", \"isn't\", 'don', \"haven't\", 'a', 'it', 'wasn', \"wouldn't\", 'shan', 'are', 'here', 'haven', 'to', \"wasn't\", 'she', \"mightn't\", 'while', 've', \"it's\", 'yourself', \"needn't\", 'then', 'if', 'as', 'out', 'again', 'some', 'i', 'his', 'weren', 'at', 'won', 'but', 'y', 'of', 'shouldn', 'couldn', 'before', 'than', 'more', \"won't\", 'where', 'mustn', 'he', 'does', 'isn', 'from', 'wouldn', 'own', \"you're\", 'just', 'am', 'aren', 'once', 'up', 'me', 'have', 'both', 'about', 'hasn', 'during', 'now', 'my', 'they', 'their', 'doesn', 'be', 'and', 'when', 'do', 'your', 'we', 'has', 'themselves', 'yourselves', 'an', \"hasn't\", 'above', 'this', 'through', \"you'll\", 'not', \"shouldn't\", 're', 'can', 'down', \"doesn't\", 'any', 'hers', 'these', 'because', 'whom', 'between', 'or', 'them', 'o', \"didn't\", 'mightn', 'needn', 'how', 'will', \"mustn't\", \"you've\", 'so', 'same', 'only', \"should've\", 'such', 'having', 'hadn']\n"
          ],
          "name": "stdout"
        }
      ]
    },
    {
      "cell_type": "code",
      "metadata": {
        "id": "qfPWGrNYPTBM",
        "outputId": "826fa2e7-80f5-4bc0-ebb2-84a8b3aef8a6",
        "colab": {
          "base_uri": "https://localhost:8080/"
        }
      },
      "source": [
        "df['Processed_Tweet'] = df.Processed_Tweet.apply(lambda x: ' '.join(w for w in x.split() if w not in stop_words))   #Remove stopwords\n",
        "df['Processed_Tweet']"
      ],
      "execution_count": 24,
      "outputs": [
        {
          "output_type": "execute_result",
          "data": {
            "text/plain": [
              "0     bihar exit polls says rjd congress alliance wi...\n",
              "1     yeh toh vote dene se phale sochna chahiye ki a...\n",
              "2     karnataka cm bs yediyurappa changed bihar poll...\n",
              "3     congress terms bihar exitpolls slap nda face v...\n",
              "4     india bjp congress biharelections biharpolls b...\n",
              "                            ...                        \n",
              "89    rahulgandhi biharpolls congress already hintin...\n",
              "90    congress leader rahul gandhi poll campaign ara...\n",
              "91    jungleraj removed fm bihar w bjp seems travell...\n",
              "92                 want development bihar time congress\n",
              "94    bihar rahul gandhi asked votes sharad yadav da...\n",
              "Name: Processed_Tweet, Length: 80, dtype: object"
            ]
          },
          "metadata": {
            "tags": []
          },
          "execution_count": 24
        }
      ]
    },
    {
      "cell_type": "markdown",
      "metadata": {
        "id": "fvfU_23RPiMh"
      },
      "source": [
        "\n",
        "\n",
        "> **Tokenizing**\n",
        "\n"
      ]
    },
    {
      "cell_type": "code",
      "metadata": {
        "id": "nSGiLqBKPfCg",
        "outputId": "f4fb3e64-4d7d-43d7-c6f3-90951299be3f",
        "colab": {
          "base_uri": "https://localhost:8080/"
        }
      },
      "source": [
        "df['Processed_Tweet'] = df['Processed_Tweet'].apply(lambda x: tokenizer.tokenize(x))\n",
        "df['Processed_Tweet']"
      ],
      "execution_count": 25,
      "outputs": [
        {
          "output_type": "execute_result",
          "data": {
            "text/plain": [
              "0     [bihar, exit, polls, says, rjd, congress, alli...\n",
              "1     [yeh, toh, vote, dene, se, phale, sochna, chah...\n",
              "2     [karnataka, cm, bs, yediyurappa, changed, biha...\n",
              "3     [congress, terms, bihar, exitpolls, slap, nda,...\n",
              "4     [india, bjp, congress, biharelections, biharpo...\n",
              "                            ...                        \n",
              "89    [rahulgandhi, biharpolls, congress, already, h...\n",
              "90    [congress, leader, rahul, gandhi, poll, campai...\n",
              "91    [jungleraj, removed, fm, bihar, w, bjp, seems,...\n",
              "92           [want, development, bihar, time, congress]\n",
              "94    [bihar, rahul, gandhi, asked, votes, sharad, y...\n",
              "Name: Processed_Tweet, Length: 80, dtype: object"
            ]
          },
          "metadata": {
            "tags": []
          },
          "execution_count": 25
        }
      ]
    },
    {
      "cell_type": "markdown",
      "metadata": {
        "id": "0nNvMOJ1P-QQ"
      },
      "source": [
        "\n",
        "\n",
        "> **Stemming**\n",
        "\n"
      ]
    },
    {
      "cell_type": "code",
      "metadata": {
        "id": "BTz79clVP6bw",
        "outputId": "f9fd9897-be4b-4517-a2c4-9e7741e4488a",
        "colab": {
          "base_uri": "https://localhost:8080/"
        }
      },
      "source": [
        "def lemmatize_stemming(text):\n",
        "    stemmer=PorterStemmer()\n",
        "    return stemmer.stem(text)\n",
        "df['Processed_Tweet'] = df['Processed_Tweet'].apply(lambda x: [lemmatize_stemming(i) for i in x]) # stemming\n",
        "df['Processed_Tweet']"
      ],
      "execution_count": 26,
      "outputs": [
        {
          "output_type": "execute_result",
          "data": {
            "text/plain": [
              "0     [bihar, exit, poll, say, rjd, congress, allian...\n",
              "1     [yeh, toh, vote, dene, se, phale, sochna, chah...\n",
              "2     [karnataka, cm, bs, yediyurappa, chang, bihar,...\n",
              "3     [congress, term, bihar, exitpol, slap, nda, fa...\n",
              "4     [india, bjp, congress, biharelect, biharpol, b...\n",
              "                            ...                        \n",
              "89    [rahulgandhi, biharpol, congress, alreadi, hin...\n",
              "90    [congress, leader, rahul, gandhi, poll, campai...\n",
              "91    [jungleraj, remov, fm, bihar, w, bjp, seem, tr...\n",
              "92               [want, develop, bihar, time, congress]\n",
              "94    [bihar, rahul, gandhi, ask, vote, sharad, yada...\n",
              "Name: Processed_Tweet, Length: 80, dtype: object"
            ]
          },
          "metadata": {
            "tags": []
          },
          "execution_count": 26
        }
      ]
    },
    {
      "cell_type": "code",
      "metadata": {
        "id": "AZmG318XQZjK",
        "outputId": "c9e5bfae-083d-4b5a-ea8c-8d13e39e4a6e",
        "colab": {
          "base_uri": "https://localhost:8080/",
          "height": 402
        }
      },
      "source": [
        "df['Processed_Tweet'] = df.Processed_Tweet.apply(lambda x: [i for i in x if len(i)>2])\n",
        "df"
      ],
      "execution_count": 27,
      "outputs": [
        {
          "output_type": "execute_result",
          "data": {
            "text/html": [
              "<div>\n",
              "<style scoped>\n",
              "    .dataframe tbody tr th:only-of-type {\n",
              "        vertical-align: middle;\n",
              "    }\n",
              "\n",
              "    .dataframe tbody tr th {\n",
              "        vertical-align: top;\n",
              "    }\n",
              "\n",
              "    .dataframe thead th {\n",
              "        text-align: right;\n",
              "    }\n",
              "</style>\n",
              "<table border=\"1\" class=\"dataframe\">\n",
              "  <thead>\n",
              "    <tr style=\"text-align: right;\">\n",
              "      <th></th>\n",
              "      <th>Tweet</th>\n",
              "      <th>Processed_Tweet</th>\n",
              "    </tr>\n",
              "  </thead>\n",
              "  <tbody>\n",
              "    <tr>\n",
              "      <th>0</th>\n",
              "      <td>Bihar Exit Polls says RJD  congress alliance  ...</td>\n",
              "      <td>[bihar, exit, poll, say, rjd, congress, allian...</td>\n",
              "    </tr>\n",
              "    <tr>\n",
              "      <th>1</th>\n",
              "      <td>Yeh toh vote dene se phale sochna chahiye ki a...</td>\n",
              "      <td>[yeh, toh, vote, dene, phale, sochna, chahiy, ...</td>\n",
              "    </tr>\n",
              "    <tr>\n",
              "      <th>2</th>\n",
              "      <td>Karnataka CM BS Yediyurappa Will Be Changed Af...</td>\n",
              "      <td>[karnataka, yediyurappa, chang, bihar, poll, r...</td>\n",
              "    </tr>\n",
              "    <tr>\n",
              "      <th>3</th>\n",
              "      <td>#Congress terms #Bihar #ExitPolls a slap on #N...</td>\n",
              "      <td>[congress, term, bihar, exitpol, slap, nda, fa...</td>\n",
              "    </tr>\n",
              "    <tr>\n",
              "      <th>4</th>\n",
              "      <td>#india #bjp #Congress #BiharElections2020 #Bih...</td>\n",
              "      <td>[india, bjp, congress, biharelect, biharpol, b...</td>\n",
              "    </tr>\n",
              "    <tr>\n",
              "      <th>...</th>\n",
              "      <td>...</td>\n",
              "      <td>...</td>\n",
              "    </tr>\n",
              "    <tr>\n",
              "      <th>89</th>\n",
              "      <td>@ANI #RahulGandhi #BiharPolls #Congress   He i...</td>\n",
              "      <td>[rahulgandhi, biharpol, congress, alreadi, hin...</td>\n",
              "    </tr>\n",
              "    <tr>\n",
              "      <th>90</th>\n",
              "      <td>Congress leader Rahul Gandhi during a poll cam...</td>\n",
              "      <td>[congress, leader, rahul, gandhi, poll, campai...</td>\n",
              "    </tr>\n",
              "    <tr>\n",
              "      <th>91</th>\n",
              "      <td>#jungleraj was removed fm Bihar by @NitishKuma...</td>\n",
              "      <td>[jungleraj, remov, bihar, bjp, seem, travel, m...</td>\n",
              "    </tr>\n",
              "    <tr>\n",
              "      <th>92</th>\n",
              "      <td>@INCIndia @RahulGandhi We want development in ...</td>\n",
              "      <td>[want, develop, bihar, time, congress]</td>\n",
              "    </tr>\n",
              "    <tr>\n",
              "      <th>94</th>\n",
              "      <td>Bihar: Rahul Gandhi asked Votes for Sharad Yad...</td>\n",
              "      <td>[bihar, rahul, gandhi, ask, vote, sharad, yada...</td>\n",
              "    </tr>\n",
              "  </tbody>\n",
              "</table>\n",
              "<p>80 rows × 2 columns</p>\n",
              "</div>"
            ],
            "text/plain": [
              "                                                Tweet                                    Processed_Tweet\n",
              "0   Bihar Exit Polls says RJD  congress alliance  ...  [bihar, exit, poll, say, rjd, congress, allian...\n",
              "1   Yeh toh vote dene se phale sochna chahiye ki a...  [yeh, toh, vote, dene, phale, sochna, chahiy, ...\n",
              "2   Karnataka CM BS Yediyurappa Will Be Changed Af...  [karnataka, yediyurappa, chang, bihar, poll, r...\n",
              "3   #Congress terms #Bihar #ExitPolls a slap on #N...  [congress, term, bihar, exitpol, slap, nda, fa...\n",
              "4   #india #bjp #Congress #BiharElections2020 #Bih...  [india, bjp, congress, biharelect, biharpol, b...\n",
              "..                                                ...                                                ...\n",
              "89  @ANI #RahulGandhi #BiharPolls #Congress   He i...  [rahulgandhi, biharpol, congress, alreadi, hin...\n",
              "90  Congress leader Rahul Gandhi during a poll cam...  [congress, leader, rahul, gandhi, poll, campai...\n",
              "91  #jungleraj was removed fm Bihar by @NitishKuma...  [jungleraj, remov, bihar, bjp, seem, travel, m...\n",
              "92  @INCIndia @RahulGandhi We want development in ...             [want, develop, bihar, time, congress]\n",
              "94  Bihar: Rahul Gandhi asked Votes for Sharad Yad...  [bihar, rahul, gandhi, ask, vote, sharad, yada...\n",
              "\n",
              "[80 rows x 2 columns]"
            ]
          },
          "metadata": {
            "tags": []
          },
          "execution_count": 27
        }
      ]
    },
    {
      "cell_type": "code",
      "metadata": {
        "id": "PPGrXrlnROXS",
        "outputId": "a35e5d0e-b344-45c4-c22c-80201b8f862b",
        "colab": {
          "base_uri": "https://localhost:8080/"
        }
      },
      "source": [
        "texts = []\n",
        "texts = df.Processed_Tweet.apply(lambda x: [i for i in x] )\n",
        "all_words = []\n",
        "for i in texts:\n",
        "    all_words.append(\" \".join(i))\n",
        "text = []\n",
        "for i in texts:\n",
        "    for j in i:\n",
        "        text.append(j)\n",
        "len(text)"
      ],
      "execution_count": 28,
      "outputs": [
        {
          "output_type": "execute_result",
          "data": {
            "text/plain": [
              "803"
            ]
          },
          "metadata": {
            "tags": []
          },
          "execution_count": 28
        }
      ]
    },
    {
      "cell_type": "code",
      "metadata": {
        "id": "BUUUUHyNRXus"
      },
      "source": [
        "wordcloud = WordCloud(width=800, height=500, random_state=21, max_font_size=110).generate(' '.join(text))"
      ],
      "execution_count": 29,
      "outputs": []
    },
    {
      "cell_type": "code",
      "metadata": {
        "id": "RCoqhtzjRdIz",
        "outputId": "09ba952c-3ea9-409d-a02d-465124c5a145",
        "colab": {
          "base_uri": "https://localhost:8080/",
          "height": 465
        }
      },
      "source": [
        "plt.figure(figsize = (12, 12), facecolor=\"None\") \n",
        "plt.imshow(wordcloud,interpolation='bilinear') \n",
        "plt.axis(\"off\") \n",
        "plt.title(\"WordCloud of bjp bihar elections 2020 Tweets\")\n",
        "plt.show()"
      ],
      "execution_count": 30,
      "outputs": [
        {
          "output_type": "display_data",
          "data": {
            "image/png": "[encoded data removed]",
            "text/plain": [
              "<Figure size 864x864 with 1 Axes>"
            ]
          },
          "metadata": {
            "tags": [],
            "needs_background": "light"
          }
        }
      ]
    },
    {
      "cell_type": "markdown",
      "metadata": {
        "id": "G782TZfUR23C"
      },
      "source": [
        "# **Sentiment Analysis**"
      ]
    },
    {
      "cell_type": "code",
      "metadata": {
        "id": "loTUY1UqRkW2"
      },
      "source": [
        "from textblob import TextBlob"
      ],
      "execution_count": 31,
      "outputs": []
    },
    {
      "cell_type": "code",
      "metadata": {
        "id": "keifQ1JpR9IK",
        "outputId": "301e186c-100b-49aa-c7a9-2edb5bafb115",
        "colab": {
          "base_uri": "https://localhost:8080/"
        }
      },
      "source": [
        "pol=[]\n",
        "for Tweet in all_words:\n",
        "    blob = TextBlob(Tweet)\n",
        "    pol.append(blob.sentiment.polarity)\n",
        "len(pol)"
      ],
      "execution_count": 32,
      "outputs": [
        {
          "output_type": "execute_result",
          "data": {
            "text/plain": [
              "80"
            ]
          },
          "metadata": {
            "tags": []
          },
          "execution_count": 32
        }
      ]
    },
    {
      "cell_type": "code",
      "metadata": {
        "id": "ksWTgRRPSC2_",
        "outputId": "e8d5b1d4-74ee-460e-ed0e-222f315895a8",
        "colab": {
          "base_uri": "https://localhost:8080/"
        }
      },
      "source": [
        "df['Processed_Tweet']"
      ],
      "execution_count": 33,
      "outputs": [
        {
          "output_type": "execute_result",
          "data": {
            "text/plain": [
              "0     [bihar, exit, poll, say, rjd, congress, allian...\n",
              "1     [yeh, toh, vote, dene, phale, sochna, chahiy, ...\n",
              "2     [karnataka, yediyurappa, chang, bihar, poll, r...\n",
              "3     [congress, term, bihar, exitpol, slap, nda, fa...\n",
              "4     [india, bjp, congress, biharelect, biharpol, b...\n",
              "                            ...                        \n",
              "89    [rahulgandhi, biharpol, congress, alreadi, hin...\n",
              "90    [congress, leader, rahul, gandhi, poll, campai...\n",
              "91    [jungleraj, remov, bihar, bjp, seem, travel, m...\n",
              "92               [want, develop, bihar, time, congress]\n",
              "94    [bihar, rahul, gandhi, ask, vote, sharad, yada...\n",
              "Name: Processed_Tweet, Length: 80, dtype: object"
            ]
          },
          "metadata": {
            "tags": []
          },
          "execution_count": 33
        }
      ]
    },
    {
      "cell_type": "code",
      "metadata": {
        "id": "fmTTlKy0SGyM",
        "outputId": "292fb156-7fe6-42a4-be48-6c4047bdb1eb",
        "colab": {
          "base_uri": "https://localhost:8080/"
        }
      },
      "source": [
        "positive=0\n",
        "negative=0\n",
        "neutral=0\n",
        "for i in pol:\n",
        "    if i>0:\n",
        "        positive+=1\n",
        "    elif i<0:\n",
        "        negative+=1\n",
        "    else:\n",
        "        neutral+=1\n",
        "print(\"Positive Tweets:\",positive)\n",
        "print(\"Negative Tweets:\",negative)\n",
        "print(\"Neutral Tweets\",neutral)"
      ],
      "execution_count": 34,
      "outputs": [
        {
          "output_type": "stream",
          "text": [
            "Positive Tweets: 25\n",
            "Negative Tweets: 9\n",
            "Neutral Tweets 46\n"
          ],
          "name": "stdout"
        }
      ]
    },
    {
      "cell_type": "markdown",
      "metadata": {
        "id": "1j4Vj8ChTDkE"
      },
      "source": [
        "\n",
        "\n",
        "```\n",
        "Classifying Tweets As Positive,Negetive and Neutral\n",
        "```\n",
        "\n"
      ]
    },
    {
      "cell_type": "code",
      "metadata": {
        "id": "xZaZrx3FTNEL",
        "outputId": "dc31db26-b13c-4b90-9c1b-c6a171e8f173",
        "colab": {
          "base_uri": "https://localhost:8080/"
        }
      },
      "source": [
        "nltk.download('vader_lexicon')"
      ],
      "execution_count": 35,
      "outputs": [
        {
          "output_type": "stream",
          "text": [
            "[nltk_data] Downloading package vader_lexicon to /root/nltk_data...\n"
          ],
          "name": "stdout"
        },
        {
          "output_type": "execute_result",
          "data": {
            "text/plain": [
              "True"
            ]
          },
          "metadata": {
            "tags": []
          },
          "execution_count": 35
        }
      ]
    },
    {
      "cell_type": "code",
      "metadata": {
        "id": "dgAXodKuTWsH",
        "outputId": "b7c50536-75c8-4bb1-c538-4f9966b005c1",
        "colab": {
          "base_uri": "https://localhost:8080/",
          "height": 455
        }
      },
      "source": [
        "from nltk.sentiment.vader import SentimentIntensityAnalyzer\n",
        "sid = SentimentIntensityAnalyzer()\n",
        "sentiment_scores= []\n",
        "for i in all_words:\n",
        "    sentiment_scores.append([sid.polarity_scores(i)])\n",
        "value = []\n",
        "for i in sentiment_scores:\n",
        "    for dict1 in i:\n",
        "        value.append(list(dict1.values()))\n",
        "sentimental_score_df = pd.DataFrame(data = value, columns = ['Negative','Neutral','Positive','Compound'])\n",
        "sentimental_score_df"
      ],
      "execution_count": 36,
      "outputs": [
        {
          "output_type": "stream",
          "text": [
            "/usr/local/lib/python3.6/dist-packages/nltk/twitter/__init__.py:20: UserWarning: The twython library has not been installed. Some functionality from the twitter package will not be available.\n",
            "  warnings.warn(\"The twython library has not been installed. \"\n"
          ],
          "name": "stderr"
        },
        {
          "output_type": "execute_result",
          "data": {
            "text/html": [
              "<div>\n",
              "<style scoped>\n",
              "    .dataframe tbody tr th:only-of-type {\n",
              "        vertical-align: middle;\n",
              "    }\n",
              "\n",
              "    .dataframe tbody tr th {\n",
              "        vertical-align: top;\n",
              "    }\n",
              "\n",
              "    .dataframe thead th {\n",
              "        text-align: right;\n",
              "    }\n",
              "</style>\n",
              "<table border=\"1\" class=\"dataframe\">\n",
              "  <thead>\n",
              "    <tr style=\"text-align: right;\">\n",
              "      <th></th>\n",
              "      <th>Negative</th>\n",
              "      <th>Neutral</th>\n",
              "      <th>Positive</th>\n",
              "      <th>Compound</th>\n",
              "    </tr>\n",
              "  </thead>\n",
              "  <tbody>\n",
              "    <tr>\n",
              "      <th>0</th>\n",
              "      <td>0.000</td>\n",
              "      <td>0.759</td>\n",
              "      <td>0.241</td>\n",
              "      <td>0.5859</td>\n",
              "    </tr>\n",
              "    <tr>\n",
              "      <th>1</th>\n",
              "      <td>0.000</td>\n",
              "      <td>1.000</td>\n",
              "      <td>0.000</td>\n",
              "      <td>0.0000</td>\n",
              "    </tr>\n",
              "    <tr>\n",
              "      <th>2</th>\n",
              "      <td>0.000</td>\n",
              "      <td>1.000</td>\n",
              "      <td>0.000</td>\n",
              "      <td>0.0000</td>\n",
              "    </tr>\n",
              "    <tr>\n",
              "      <th>3</th>\n",
              "      <td>0.000</td>\n",
              "      <td>0.833</td>\n",
              "      <td>0.167</td>\n",
              "      <td>0.1531</td>\n",
              "    </tr>\n",
              "    <tr>\n",
              "      <th>4</th>\n",
              "      <td>0.000</td>\n",
              "      <td>1.000</td>\n",
              "      <td>0.000</td>\n",
              "      <td>0.0000</td>\n",
              "    </tr>\n",
              "    <tr>\n",
              "      <th>...</th>\n",
              "      <td>...</td>\n",
              "      <td>...</td>\n",
              "      <td>...</td>\n",
              "      <td>...</td>\n",
              "    </tr>\n",
              "    <tr>\n",
              "      <th>75</th>\n",
              "      <td>0.279</td>\n",
              "      <td>0.721</td>\n",
              "      <td>0.000</td>\n",
              "      <td>-0.4767</td>\n",
              "    </tr>\n",
              "    <tr>\n",
              "      <th>76</th>\n",
              "      <td>0.000</td>\n",
              "      <td>1.000</td>\n",
              "      <td>0.000</td>\n",
              "      <td>0.0000</td>\n",
              "    </tr>\n",
              "    <tr>\n",
              "      <th>77</th>\n",
              "      <td>0.000</td>\n",
              "      <td>1.000</td>\n",
              "      <td>0.000</td>\n",
              "      <td>0.0000</td>\n",
              "    </tr>\n",
              "    <tr>\n",
              "      <th>78</th>\n",
              "      <td>0.000</td>\n",
              "      <td>0.755</td>\n",
              "      <td>0.245</td>\n",
              "      <td>0.0772</td>\n",
              "    </tr>\n",
              "    <tr>\n",
              "      <th>79</th>\n",
              "      <td>0.000</td>\n",
              "      <td>0.815</td>\n",
              "      <td>0.185</td>\n",
              "      <td>0.3612</td>\n",
              "    </tr>\n",
              "  </tbody>\n",
              "</table>\n",
              "<p>80 rows × 4 columns</p>\n",
              "</div>"
            ],
            "text/plain": [
              "    Negative  Neutral  Positive  Compound\n",
              "0      0.000    0.759     0.241    0.5859\n",
              "1      0.000    1.000     0.000    0.0000\n",
              "2      0.000    1.000     0.000    0.0000\n",
              "3      0.000    0.833     0.167    0.1531\n",
              "4      0.000    1.000     0.000    0.0000\n",
              "..       ...      ...       ...       ...\n",
              "75     0.279    0.721     0.000   -0.4767\n",
              "76     0.000    1.000     0.000    0.0000\n",
              "77     0.000    1.000     0.000    0.0000\n",
              "78     0.000    0.755     0.245    0.0772\n",
              "79     0.000    0.815     0.185    0.3612\n",
              "\n",
              "[80 rows x 4 columns]"
            ]
          },
          "metadata": {
            "tags": []
          },
          "execution_count": 36
        }
      ]
    },
    {
      "cell_type": "code",
      "metadata": {
        "id": "FT-AcZ8VTZ-h",
        "outputId": "0bba3f68-f0d8-4471-af28-ac27b9d10864",
        "colab": {
          "base_uri": "https://localhost:8080/",
          "height": 195
        }
      },
      "source": [
        "sentimental_score_df['val'] = sentimental_score_df['Compound'].apply(lambda x: 'Neutral' if x == 0 else ('Positive' if x > 0 else 'Negative'))\n",
        "sentimental_score_df.head()"
      ],
      "execution_count": 38,
      "outputs": [
        {
          "output_type": "execute_result",
          "data": {
            "text/html": [
              "<div>\n",
              "<style scoped>\n",
              "    .dataframe tbody tr th:only-of-type {\n",
              "        vertical-align: middle;\n",
              "    }\n",
              "\n",
              "    .dataframe tbody tr th {\n",
              "        vertical-align: top;\n",
              "    }\n",
              "\n",
              "    .dataframe thead th {\n",
              "        text-align: right;\n",
              "    }\n",
              "</style>\n",
              "<table border=\"1\" class=\"dataframe\">\n",
              "  <thead>\n",
              "    <tr style=\"text-align: right;\">\n",
              "      <th></th>\n",
              "      <th>Negative</th>\n",
              "      <th>Neutral</th>\n",
              "      <th>Positive</th>\n",
              "      <th>Compound</th>\n",
              "      <th>val</th>\n",
              "    </tr>\n",
              "  </thead>\n",
              "  <tbody>\n",
              "    <tr>\n",
              "      <th>0</th>\n",
              "      <td>0.0</td>\n",
              "      <td>0.759</td>\n",
              "      <td>0.241</td>\n",
              "      <td>0.5859</td>\n",
              "      <td>Positive</td>\n",
              "    </tr>\n",
              "    <tr>\n",
              "      <th>1</th>\n",
              "      <td>0.0</td>\n",
              "      <td>1.000</td>\n",
              "      <td>0.000</td>\n",
              "      <td>0.0000</td>\n",
              "      <td>Neutral</td>\n",
              "    </tr>\n",
              "    <tr>\n",
              "      <th>2</th>\n",
              "      <td>0.0</td>\n",
              "      <td>1.000</td>\n",
              "      <td>0.000</td>\n",
              "      <td>0.0000</td>\n",
              "      <td>Neutral</td>\n",
              "    </tr>\n",
              "    <tr>\n",
              "      <th>3</th>\n",
              "      <td>0.0</td>\n",
              "      <td>0.833</td>\n",
              "      <td>0.167</td>\n",
              "      <td>0.1531</td>\n",
              "      <td>Positive</td>\n",
              "    </tr>\n",
              "    <tr>\n",
              "      <th>4</th>\n",
              "      <td>0.0</td>\n",
              "      <td>1.000</td>\n",
              "      <td>0.000</td>\n",
              "      <td>0.0000</td>\n",
              "      <td>Neutral</td>\n",
              "    </tr>\n",
              "  </tbody>\n",
              "</table>\n",
              "</div>"
            ],
            "text/plain": [
              "   Negative  Neutral  Positive  Compound       val\n",
              "0       0.0    0.759     0.241    0.5859  Positive\n",
              "1       0.0    1.000     0.000    0.0000   Neutral\n",
              "2       0.0    1.000     0.000    0.0000   Neutral\n",
              "3       0.0    0.833     0.167    0.1531  Positive\n",
              "4       0.0    1.000     0.000    0.0000   Neutral"
            ]
          },
          "metadata": {
            "tags": []
          },
          "execution_count": 38
        }
      ]
    },
    {
      "cell_type": "code",
      "metadata": {
        "id": "_rDLXolnTfye",
        "outputId": "4931d9c3-9e02-4e7c-a675-c4972b056ca0",
        "colab": {
          "base_uri": "https://localhost:8080/",
          "height": 296
        }
      },
      "source": [
        "sent_count = pd.DataFrame.from_dict(Counter(sentimental_score_df['val']), orient = 'index').reset_index()\n",
        "sent_count.columns = ['sentiment', 'count']\n",
        "\n",
        "sns.barplot(y=\"count\", x='sentiment', data=sent_count)"
      ],
      "execution_count": 39,
      "outputs": [
        {
          "output_type": "execute_result",
          "data": {
            "text/plain": [
              "<matplotlib.axes._subplots.AxesSubplot at 0x7faa07112a90>"
            ]
          },
          "metadata": {
            "tags": []
          },
          "execution_count": 39
        },
        {
          "output_type": "display_data",
          "data": {
            "image/png": "[encoded data removed]",
            "text/plain": [
              "<Figure size 432x288 with 1 Axes>"
            ]
          },
          "metadata": {
            "tags": [],
            "needs_background": "light"
          }
        }
      ]
    }
  ]
}