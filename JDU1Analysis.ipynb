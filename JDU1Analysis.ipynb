{
  "nbformat": 4,
  "nbformat_minor": 0,
  "metadata": {
    "colab": {
      "name": "BJP3Analysis.ipynb",
      "provenance": [],
      "collapsed_sections": [],
      "authorship_tag": "ABX9TyM40XcUNpL0lHQhvAtTm31O",
      "include_colab_link": true
    },
    "kernelspec": {
      "name": "python3",
      "display_name": "Python 3"
    }
  },
  "cells": [
    {
      "cell_type": "markdown",
      "metadata": {
        "id": "view-in-github",
        "colab_type": "text"
      },
      "source": [
        "<a href=\"https://colab.research.google.com/github/raishagun/Election-Prediction/blob/master/JDU1Analysis.ipynb\" target=\"_parent\"><img src=\"https://colab.research.google.com/assets/colab-badge.svg\" alt=\"Open In Colab\"/></a>"
      ]
    },
    {
      "cell_type": "code",
      "metadata": {
        "id": "W5BY5xIcARpB",
        "outputId": "1d21c731-f73e-4947-8b43-53f8f5206510",
        "colab": {
          "base_uri": "https://localhost:8080/"
        }
      },
      "source": [
        "!git clone https://github.com/raishagun/Election-Prediction.git"
      ],
      "execution_count": 1,
      "outputs": [
        {
          "output_type": "stream",
          "text": [
            "Cloning into 'Election-Prediction'...\n",
            "remote: Enumerating objects: 120, done.\u001b[K\n",
            "remote: Counting objects: 100% (120/120), done.\u001b[K\n",
            "remote: Compressing objects: 100% (104/104), done.\u001b[K\n",
            "remote: Total 120 (delta 37), reused 0 (delta 0), pack-reused 0\u001b[K\n",
            "Receiving objects: 100% (120/120), 14.45 MiB | 17.55 MiB/s, done.\n",
            "Resolving deltas: 100% (37/37), done.\n"
          ],
          "name": "stdout"
        }
      ]
    },
    {
      "cell_type": "code",
      "metadata": {
        "id": "5MQiYRT2AqyL",
        "outputId": "1022986e-698d-4884-cb99-07edd95d459b",
        "colab": {
          "base_uri": "https://localhost:8080/"
        }
      },
      "source": [
        "import tweepy \n",
        "import pandas as pd\n",
        "from tweepy import OAuthHandler\n",
        "\n",
        "consumer_key= \"DLhoHkK6uOGz3Ni9ybuoruiLm\"\n",
        "consumer_secret  = \"jKyrDR68msnbmgZMNNJdSJwadGoed11imKV1jdlNYNczL9HvEk\"\n",
        "access_token =\"1289037463684489217-5PddOsmU9h5deRwOhdigvhg32FEgID\"\n",
        "access_token_secret= \"cAPevFduWkiNP3juu8WGAwZm69vgv8C4s8RPz0WE8MJFK\"\n",
        "\n",
        "auth = tweepy.OAuthHandler(consumer_key, consumer_secret) \n",
        "# authentication of access token and secret \n",
        "auth.set_access_token(access_token, access_token_secret) \n",
        "api = tweepy.API(auth,wait_on_rate_limit = True)\n",
        "\n",
        "\n",
        "date1 = \"2020-10-01\"\n",
        "date2 = \"2020-11-09\"\n",
        "\n",
        "\n",
        "text = []\n",
        "\n",
        "\n",
        "def get_tweets(date1,date2,word):\n",
        "    count = 0\n",
        "    for tweet in tweepy.Cursor(api.search , q=word,count =1000,lang=\"en\",since_id = date1,until = date2).items():\n",
        "        print(tweet.text)\n",
        "        text.append(tweet.text)\n",
        "        print('<--------------------------------------------------->')\n",
        "        count+=1\n",
        "        print(count)\n",
        "    \n",
        "get_tweets(date1,date2,\"#jdu\")  \n",
        "           \n",
        "data1 = list(zip(text))\n",
        "df = pd.DataFrame(data =data1, columns =[\"Tweet\"])\n",
        "\n",
        "df.to_csv('jdu1.csv') "
      ],
      "execution_count": 2,
      "outputs": [
        {
          "output_type": "stream",
          "text": [
            "Please keep my October 5th, 2020 tweet to debate on #PostPoll actions of #BJP and #JDU https://t.co/QXGHcEMe2F\n",
            "<--------------------------------------------------->\n",
            "1\n",
            "Not all good in collaboration. \n",
            "Nitish Kumar &amp; Yogi Aadityanath\n",
            "\n",
            "#RJD #JDU #BiharElections2020 https://t.co/P6qUxQkgHq\n",
            "<--------------------------------------------------->\n",
            "2\n",
            "RT @IndiaToday: The India Today-Axis My India Exit Poll predicted that Chirag Paswan's Lok Janshakti Party (#LJP) breaking out of the #NDA…\n",
            "<--------------------------------------------------->\n",
            "3\n",
            "@AmitShah a sixer in #bihar #ljp #paswan #jdu #NitishKumar  #NDA. #Opp  is #fucked\n",
            "<--------------------------------------------------->\n",
            "4\n",
            "@PTI_News #AIADMK  should remember #PDP,#Akalidal,and #JDU.Next is ur turn.\n",
            "<--------------------------------------------------->\n",
            "5\n",
            "RT @firstpost: \"We are confident that the results on 10 November will be different from the projections of #exitpolls. People of #Bihar ack…\n",
            "<--------------------------------------------------->\n",
            "6\n",
            "Will #SocialMedia management &amp; advance advertisement strategies followed by #JDU-#BJP alliance help #NitishKumar to… https://t.co/aYdw5lveEH\n",
            "<--------------------------------------------------->\n",
            "7\n",
            "#Modi ji campaign for Vasudhara, #Rajasthan lost,\n",
            "Campaign for Fadnavish, #Maharashtra lost\n",
            "Campaign for Tiwari,… https://t.co/xYO2hYr2G0\n",
            "<--------------------------------------------------->\n",
            "8\n",
            "who will win bihar election 2020.\n",
            "\n",
            "#Mahagathbandhan or\n",
            "#NDA , #JDU \n",
            "\n",
            "#modi_ji\n",
            "#TejashwiYadav \n",
            "#NitishKumar… https://t.co/htFgK2VOtm\n",
            "<--------------------------------------------------->\n",
            "9\n",
            "@one_by_two True, #BiharElection2020 is important to know pulse of Hindi heartland but if #NitishKumar loses then J… https://t.co/naYPbPydG1\n",
            "<--------------------------------------------------->\n",
            "10\n",
            "@MinhazMerchant Sheer bad luck that #Bihar didn't find a good alternative to the scamster family that put them in t… https://t.co/kpJ44ZZ6UZ\n",
            "<--------------------------------------------------->\n",
            "11\n",
            "#BiharElection2020 #BiharElections Analysis and #BJP miscalculation by #drjawaharsurisetti ⁦@INCIndia⁩ ⁦… https://t.co/7ewxVIDvYr\n",
            "<--------------------------------------------------->\n",
            "12\n",
            "T-Factor\n",
            "According to Einstein-\n",
            "E= (mc)^2\n",
            "On this basis in Bihar\n",
            "T=(my)^2\n",
            "Here- T=Tejaswi\n",
            "m= Muslim\n",
            "Y- Yadav\n",
            "Y- Yuw… https://t.co/lywh1fLvg6\n",
            "<--------------------------------------------------->\n",
            "13\n",
            "This is not lost of #JDU  but this is lost by #BJP\n",
            "<--------------------------------------------------->\n",
            "14\n",
            "RT @IndiaofPolitics: As promised here are our projections for #BiharElection2020\n",
            "\n",
            "#BiharExitPoll\n",
            "#BiharElections \n",
            "#BiharPolls \n",
            "#बिहारविधानस…\n",
            "<--------------------------------------------------->\n",
            "15\n",
            "I think if #BJP hve bad results in #bihar then only due to #JDU otherwise, thr is no state in #india who don't want… https://t.co/nBqs4ggtZQ\n",
            "<--------------------------------------------------->\n",
            "16\n",
            "RT @ravishopinion: #BiharElection2020 is a win win situation for @BJP4India\n",
            "If #NDA forms government, good for them. If it doesn't, then th…\n",
            "<--------------------------------------------------->\n",
            "17\n",
            "RT @LSElections2024: As promised here are our projections for #BiharElection2020\n",
            "\n",
            "#BiharExitPoll\n",
            "#BiharElections \n",
            "#BiharPolls \n",
            "#बिहारविधानस…\n",
            "<--------------------------------------------------->\n",
            "18\n",
            "RT @IndiaToday: The India Today-Axis My India Exit Poll predicted that Chirag Paswan's Lok Janshakti Party (#LJP) breaking out of the #NDA…\n",
            "<--------------------------------------------------->\n",
            "19\n",
            "@republic #BiharPolls TRUE ANALYSIS 1] HOW MANY SEATS ALLOTED TO @BJPBiharState &amp; #JDU = @NitishKumar VS WON &amp;LOST… https://t.co/f0PcR9caSd\n",
            "<--------------------------------------------------->\n",
            "20\n",
            "RT @IndiaToday: The India Today-Axis My India Exit Poll predicted that Chirag Paswan's Lok Janshakti Party (#LJP) breaking out of the #NDA…\n",
            "<--------------------------------------------------->\n",
            "21\n",
            "As promised here are our projections for #BiharElection2020\n",
            "\n",
            "#BiharExitPoll\n",
            "#BiharElections \n",
            "#BiharPolls… https://t.co/loGGwcpxW4\n",
            "<--------------------------------------------------->\n",
            "22\n",
            "RT @IndiaToday: The India Today-Axis My India Exit Poll predicted that Chirag Paswan's Lok Janshakti Party (#LJP) breaking out of the #NDA…\n",
            "<--------------------------------------------------->\n",
            "23\n",
            "RT @firstpost: \"We are confident that the results on 10 November will be different from the projections of #exitpolls. People of #Bihar ack…\n",
            "<--------------------------------------------------->\n",
            "24\n",
            "RT @IndiaToday: The India Today-Axis My India Exit Poll predicted that Chirag Paswan's Lok Janshakti Party (#LJP) breaking out of the #NDA…\n",
            "<--------------------------------------------------->\n",
            "25\n",
            "RT @IndiaToday: The India Today-Axis My India Exit Poll predicted that Chirag Paswan's Lok Janshakti Party (#LJP) breaking out of the #NDA…\n",
            "<--------------------------------------------------->\n",
            "26\n",
            "RT @IndiaToday: The India Today-Axis My India Exit Poll predicted that Chirag Paswan's Lok Janshakti Party (#LJP) breaking out of the #NDA…\n",
            "<--------------------------------------------------->\n",
            "27\n",
            "RT @firstpost: \"We are confident that the results on 10 November will be different from the projections of #exitpolls. People of #Bihar ack…\n",
            "<--------------------------------------------------->\n",
            "28\n",
            "The India Today-Axis My India Exit Poll predicted that Chirag Paswan's Lok Janshakti Party (#LJP) breaking out of t… https://t.co/Xxj1TyDJ2Q\n",
            "<--------------------------------------------------->\n",
            "29\n",
            "RT @LSElections2024: As promised here are our projections for #BiharElection2020\n",
            "\n",
            "#BiharExitPoll\n",
            "#BiharElections \n",
            "#BiharPolls \n",
            "#बिहारविधानस…\n",
            "<--------------------------------------------------->\n",
            "30\n",
            "\"We are confident that the results on 10 November will be different from the projections of #exitpolls. People of… https://t.co/slLAjDYgOy\n",
            "<--------------------------------------------------->\n",
            "31\n",
            "@NitishKumar Missed u a lot @PrashantKishor. @yadavtejashwi  #BiharElection2020 #JDU #Panauti\n",
            "#BiharExitPoll… https://t.co/cU7EFSC4TB\n",
            "<--------------------------------------------------->\n",
            "32\n",
            "@ShekharGupta @dipak_mishra Pretty much Endgame for #NitishKumar maybe even #JDU\n",
            "<--------------------------------------------------->\n",
            "33\n",
            "RT @NewsMobileIndia: #BattleForBihar: Poll of Polls \n",
            "\n",
            "#BiharElection2020 #BiharPolls #ExitPolls #JDU #BJP #MGB https://t.co/580ioQQZ9m\n",
            "<--------------------------------------------------->\n",
            "34\n",
            "As promised here are our projections for #BiharElection2020\n",
            "\n",
            "#BiharExitPoll\n",
            "#BiharElections \n",
            "#BiharPolls… https://t.co/t566vDEP6a\n",
            "<--------------------------------------------------->\n",
            "35\n",
            "One good thing that has come out of #BiharElection2020 is that if BJP loses, then BJP would have to become a force… https://t.co/RlmVhxkK0U\n",
            "<--------------------------------------------------->\n",
            "36\n",
            "RT @uniindianews: Exit polls point to RJD-led grand alliance in close contest with NDA in Bihar assembly polls\n",
            "#ExitPoll Bihar \n",
            "#RJD \n",
            "#NDAS…\n",
            "<--------------------------------------------------->\n",
            "37\n",
            "#Bihar will any1 get full majority?\n",
            "#Mahagathbandhan will get lead over #JDU #BJP For sure\n",
            " Will LJP become key pla… https://t.co/DRmmiUen5i\n",
            "<--------------------------------------------------->\n",
            "38\n",
            "RT @tehseenp: On 16th October here on @TimesNow I told @navikakumar ma'am, \" I just returned 4am this morning from Bihar &amp; something has ch…\n",
            "<--------------------------------------------------->\n",
            "39\n",
            "RT @Opoyis: Akhtarul Iman of #AIMIM is up against Abdul Jalil Mastan of #Congress and Saba Zafar of #JDU from #Purnea constituency. https:/…\n",
            "<--------------------------------------------------->\n",
            "40\n",
            "RT @tehseenp: On 16th October here on @TimesNow I told @navikakumar ma'am, \" I just returned 4am this morning from Bihar &amp; something has ch…\n",
            "<--------------------------------------------------->\n",
            "41\n",
            "@navin_nath I think #BJP and #JDU  failed to gauge the mood of Bihari people who returned the same Nitish Kumar 3 times back-to-back.\n",
            "<--------------------------------------------------->\n",
            "42\n",
            "RT @uniindianews: Exit polls point to RJD-led grand alliance in close contest with NDA in Bihar assembly polls\n",
            "#ExitPoll Bihar \n",
            "#RJD \n",
            "#NDAS…\n",
            "<--------------------------------------------------->\n",
            "43\n",
            "RT @tehseenp: On 16th October here on @TimesNow I told @navikakumar ma'am, \" I just returned 4am this morning from Bihar &amp; something has ch…\n",
            "<--------------------------------------------------->\n",
            "44\n",
            "#BiharElection2020 Neither #ArnabGoswami nor keeping the #SushanthSinghRajput murder conspiracy theory alive helped… https://t.co/s3A2WR9BOq\n",
            "<--------------------------------------------------->\n",
            "45\n",
            "#JDU #NitishKumar #BiharElections2020 #BJP I know the progress in every field be it railway station,road,electricit… https://t.co/bEg2AvIMuP\n",
            "<--------------------------------------------------->\n",
            "46\n",
            "InshAllah #Tejasvi Yadav is winning #BiharElection2020 with more than 130 seats and more than 40% of total vote sha… https://t.co/kDE9IOr6wc\n",
            "<--------------------------------------------------->\n",
            "47\n",
            "RT @tehseenp: On 16th October here on @TimesNow I told @navikakumar ma'am, \" I just returned 4am this morning from Bihar &amp; something has ch…\n",
            "<--------------------------------------------------->\n",
            "48\n",
            "RT @RStatistix: Rafflesia                        BJP Lotus\n",
            "Attacks roots of        Attacks roots of\n",
            "host plant &amp;               host party &amp;…\n",
            "<--------------------------------------------------->\n",
            "49\n",
            "RT @rvasisht: Did #ChiragPaswan read the mood right, stayed with #BJP but away from #JDU so he can live to fight the 2025 elections on his…\n",
            "<--------------------------------------------------->\n",
            "50\n",
            "RT @tehseenp: On 16th October here on @TimesNow I told @navikakumar ma'am, \" I just returned 4am this morning from Bihar &amp; something has ch…\n",
            "<--------------------------------------------------->\n",
            "51\n",
            "Rafflesia                        BJP Lotus\n",
            "Attacks roots of        Attacks roots of\n",
            "host plant &amp;               host… https://t.co/h2iMtU4RmK\n",
            "<--------------------------------------------------->\n",
            "52\n",
            "RT @rvasisht: Did #ChiragPaswan read the mood right, stayed with #BJP but away from #JDU so he can live to fight the 2025 elections on his…\n",
            "<--------------------------------------------------->\n",
            "53\n",
            "RT @tehseenp: On 16th October here on @TimesNow I told @navikakumar ma'am, \" I just returned 4am this morning from Bihar &amp; something has ch…\n",
            "<--------------------------------------------------->\n",
            "54\n",
            "RT @tehseenp: On 16th October here on @TimesNow I told @navikakumar ma'am, \" I just returned 4am this morning from Bihar &amp; something has ch…\n",
            "<--------------------------------------------------->\n",
            "55\n",
            "Did #ChiragPaswan read the mood right, stayed with #BJP but away from #JDU so he can live to fight the 2025 electio… https://t.co/r73Ibv6M5f\n",
            "<--------------------------------------------------->\n",
            "56\n",
            "went back to #NDA &amp; they dumped him thus showing his inefficiency? Did #BJP just sit back &amp; allow the #JDU to fail… https://t.co/Wh1qFZ3bo6\n",
            "<--------------------------------------------------->\n",
            "57\n",
            "After exit poll, @NitishKumar should accept tht the stone n tomatoes Pelters in his rallies were genuinely common p… https://t.co/TkN4JsSMgU\n",
            "<--------------------------------------------------->\n",
            "58\n",
            "#ExitPolls shows the exit door to @NitishKumar . @yadavtejashwi may be  next Bihar CM. Today's Chanakya predicts:… https://t.co/4SsyTjWlf5\n",
            "<--------------------------------------------------->\n",
            "59\n",
            "RT @bharathbunny27: If #NDA falls short of majority, will #bjp dump #NitishKumar\n",
            "and join hands with #TejashwiYadav supporting him to be Ch…\n",
            "<--------------------------------------------------->\n",
            "60\n",
            "If #NDA falls short of majority, will #bjp dump #NitishKumar\n",
            "and join hands with #TejashwiYadav supporting him to b… https://t.co/mwi6JtfJK9\n",
            "<--------------------------------------------------->\n",
            "61\n",
            "RT @tehseenp: On 16th October here on @TimesNow I told @navikakumar ma'am, \" I just returned 4am this morning from Bihar &amp; something has ch…\n",
            "<--------------------------------------------------->\n",
            "62\n",
            "RT @tehseenp: On 16th October here on @TimesNow I told @navikakumar ma'am, \" I just returned 4am this morning from Bihar &amp; something has ch…\n",
            "<--------------------------------------------------->\n",
            "63\n",
            "On 16th October here on @TimesNow I told @navikakumar ma'am, \" I just returned 4am this morning from Bihar &amp; someth… https://t.co/jXZi9gnGqP\n",
            "<--------------------------------------------------->\n",
            "64\n",
            "If #ExitPolls of #Bihar comes true on 10 nov.\n",
            "\n",
            "1. #Congress will be in power after 30 year.\n",
            "2. #JDU will be in cris… https://t.co/JvsbwEJHZN\n",
            "<--------------------------------------------------->\n",
            "65\n",
            "I m huge #BJP supporter, but #JDU\n",
            "is same as RJD. BJP should have gone alone in Bihar. Thank god BJP is getting pun… https://t.co/7lDJawVO6n\n",
            "<--------------------------------------------------->\n",
            "66\n",
            "Chanakya Poll \n",
            "2015 BJP - 155-100 = 55 BJP Won\n",
            "2029 RJD - 180-100 = 80 RJD Will Win  #ExitPolls @aajtak… https://t.co/CLH6uXHn1q\n",
            "<--------------------------------------------------->\n",
            "67\n",
            "@RatanSharda55 Its not #LJP but its #BJP who is not letting #JDU go.. LJP made a good decision to not fight election with JDU\n",
            "<--------------------------------------------------->\n",
            "68\n",
            "#NitishKumar political career is over?\n",
            "Nitish has two battles #Bihar elections and ego battle with #prashantkishore… https://t.co/WiDVDsn7kr\n",
            "<--------------------------------------------------->\n",
            "69\n",
            "RT @NewsMobileIndia: #BattleForBihar: Poll of Polls \n",
            "\n",
            "#BiharElection2020 #BiharPolls #ExitPolls #JDU #BJP #MGB https://t.co/580ioQQZ9m\n",
            "<--------------------------------------------------->\n",
            "70\n",
            "RT @NewsMobileIndia: #BattleForBihar: Poll of Polls \n",
            "\n",
            "#BiharElection2020 #BiharPolls #ExitPolls #JDU #BJP #MGB https://t.co/580ioQQZ9m\n",
            "<--------------------------------------------------->\n",
            "71\n",
            "To Sum Up #BiharElections\n",
            "#BJP is in Allaince with #LJP\n",
            "BJP  is in Allaince with #JDU\n",
            "LJP Supported BJP but opposed… https://t.co/0QPupRhJOz\n",
            "<--------------------------------------------------->\n",
            "72\n",
            "RT @NewsMobileIndia: #BattleForBihar: Poll of Polls \n",
            "\n",
            "#BiharElection2020 #BiharPolls #ExitPolls #JDU #BJP #MGB https://t.co/580ioQQZ9m\n",
            "<--------------------------------------------------->\n",
            "73\n",
            "RT @NewsMobileIndia: #BattleForBihar: Poll of Polls \n",
            "\n",
            "#BiharElection2020 #BiharPolls #ExitPolls #JDU #BJP #MGB https://t.co/580ioQQZ9m\n",
            "<--------------------------------------------------->\n",
            "74\n",
            "So, the #LJP which was said to be propped up by the #BJP to corner the #JDU may damage the larger #NDA. Reminds me… https://t.co/tX0bVMk5Xf\n",
            "<--------------------------------------------------->\n",
            "75\n",
            "RT @NewsMobileIndia: #BattleForBihar: Poll of Polls \n",
            "\n",
            "#BiharElection2020 #BiharPolls #ExitPolls #JDU #BJP #MGB https://t.co/580ioQQZ9m\n",
            "<--------------------------------------------------->\n",
            "76\n",
            "RT @MBQasmi: Headlines on #BiharExitPoll\n",
            "1. Bihar exit poll looks like a tough fight between #NDA and the #GrandAlliance as the neck to nec…\n",
            "<--------------------------------------------------->\n",
            "77\n",
            "Tough fight in Bihar between RJD-Cong+ or JDU- BJP+.\n",
            "Mahagathbandhan is clearly leading in all exit polls. Hope Evm… https://t.co/bejKmRJlps\n",
            "<--------------------------------------------------->\n",
            "78\n",
            "Rahul Gandhi in his election campaign said EVM as MVM \n",
            "Modi Voting Machine.\n",
            "I think he will change his statement af… https://t.co/PYxLHzyoKw\n",
            "<--------------------------------------------------->\n",
            "79\n",
            "@BJP4India #Maharashtra and #Bihar are prime examples which tells us that #BJP should fight election alone — more p… https://t.co/m2fpIovPBj\n",
            "<--------------------------------------------------->\n",
            "80\n",
            "RT @MBQasmi: Headlines on #BiharExitPoll\n",
            "1. Bihar exit poll looks like a tough fight between #NDA and the #GrandAlliance as the neck to nec…\n",
            "<--------------------------------------------------->\n",
            "81\n",
            "RT @NewsMobileIndia: #BattleForBihar: Poll of Polls \n",
            "\n",
            "#BiharElection2020 #BiharPolls #ExitPolls #JDU #BJP #MGB https://t.co/580ioQQZ9m\n",
            "<--------------------------------------------------->\n",
            "82\n",
            "Headlines on #BiharExitPoll\n",
            "1. Bihar exit poll looks like a tough fight between #NDA and the #GrandAlliance as the… https://t.co/cr7Wz0k3Tc\n",
            "<--------------------------------------------------->\n",
            "83\n",
            "@Preetam_M_Rao Nitish had problems with #RJD , #JDU does not have problems with #RJD.\n",
            "<--------------------------------------------------->\n",
            "84\n",
            "RT @Opoyis: Akhtarul Iman of #AIMIM is up against Abdul Jalil Mastan of #Congress and Saba Zafar of #JDU from #Purnea constituency. https:/…\n",
            "<--------------------------------------------------->\n",
            "85\n",
            "Today's Chanakya translates Vote % into seats in #BiharElection2020 . @RJDforIndia and Mahagathbandhan set to sweep… https://t.co/aZyFqOf2LG\n",
            "<--------------------------------------------------->\n",
            "86\n",
            "Bihar Assembly Elections: Electors ditch corona fear, nearly 57 pc polling in final phase | Indiablooms - First Por… https://t.co/RmNROtZbyA\n",
            "<--------------------------------------------------->\n",
            "87\n",
            "Exit polls point to RJD-led grand alliance in close contest with NDA in Bihar assembly polls\n",
            "#ExitPoll Bihar \n",
            "#RJD… https://t.co/9ii7MYeXJQ\n",
            "<--------------------------------------------------->\n",
            "88\n",
            "No worries #OperationLotus to be initiated #Mahagathbandhan #BJP #RJD #INC #JDU #NitishKumar #TejashwiYadav… https://t.co/gozCjpG5vH\n",
            "<--------------------------------------------------->\n",
            "89\n",
            "RT @NewsMobileIndia: #BattleForBihar: Poll of Polls \n",
            "\n",
            "#BiharElection2020 #BiharPolls #ExitPolls #JDU #BJP #MGB https://t.co/580ioQQZ9m\n",
            "<--------------------------------------------------->\n",
            "90\n",
            "#BattleForBihar: Poll of Polls \n",
            "\n",
            "#BiharElection2020 #BiharPolls #ExitPolls #JDU #BJP #MGB https://t.co/580ioQQZ9m\n",
            "<--------------------------------------------------->\n",
            "91\n",
            "Today's Chanakya - News 18 Exit Polls (Seat Projections) #TCPoll \n",
            "\n",
            "#NDA: 55 (34%)\n",
            "#MGB: 180 (44%)\n",
            "#Others: 8 (22%)… https://t.co/YtvN0vQLDM\n",
            "<--------------------------------------------------->\n",
            "92\n",
            "Exit polls predict victory for Grand Alliance in Bihar polls; RJD to emerge as largest party | Indiablooms - First… https://t.co/pSQ1mDOCke\n",
            "<--------------------------------------------------->\n",
            "93\n",
            "Almost all #ExitPolls are pointing at resurgence of #MahaGathBandhan Government in #Bihar.\n",
            "\n",
            "This will be a huge set… https://t.co/y1NXCV36Rl\n",
            "<--------------------------------------------------->\n",
            "94\n",
            "It means MGB to sweep ! #Mahagathbandan #RJD #JDU #BJP #Congress #LJP #BiharElection2020 #BiharPolls #ExitPolls… https://t.co/h2YFVu7uVZ\n",
            "<--------------------------------------------------->\n",
            "95\n",
            "RT @chidiyawala29: Gentlemen Shehzad Bhai after appreciating the ground teamwork of @TimesNow puts his point regarding #BiharElections tell…\n",
            "<--------------------------------------------------->\n",
            "96\n",
            "RT @electionslivein: In our sense #MGB will have a clear and comfortable majority. #NDA total could be in double digits. We won’t be surpri…\n",
            "<--------------------------------------------------->\n",
            "97\n",
            "No-1 #Mahgatbandhan\n",
            "No-2 #BJP\n",
            "NO- 3 #JDU\n",
            "This is my prediction\n",
            "Of #BiharElection2020\n",
            "IF YOU EGERY\n",
            "PLE  RT. https://t.co/Y9uDZcDkBR\n",
            "<--------------------------------------------------->\n",
            "98\n",
            "Iss baar tejashwi tayii🥳\n",
            ".\n",
            ".\n",
            "As per exit poll, RJD-CONG+ likely to form Government in Bihar.\n",
            ".\n",
            ".\n",
            "Exit polls are nev… https://t.co/PYirTcIVWj\n",
            "<--------------------------------------------------->\n",
            "99\n",
            "Exit Poll Results of #BiharAssemblyElections2020: Republic TV-Jan Ki Baat Predicts Victory For RJD-Led Mahagathband… https://t.co/PwjC5Z4s7e\n",
            "<--------------------------------------------------->\n",
            "100\n",
            "RT @_inscrutableind: According to #ExitPolls a guy who is not even eligible to get a sweeper job given by the government is heading to beco…\n",
            "<--------------------------------------------------->\n",
            "101\n",
            "According to #ExitPolls a guy who is not even eligible to get a sweeper job given by the government is heading to b… https://t.co/TnQWqPjC8W\n",
            "<--------------------------------------------------->\n",
            "102\n",
            "#BiharElections2020 \n",
            "#BiharPolls \n",
            "#JDU - #BJP : 91-117 (37-39%)\n",
            "#RJD - #INC : 138 -118 (40-43%)\n",
            "#LJP : 8-5 (7-9%)\n",
            "O… https://t.co/apyzMNSljU\n",
            "<--------------------------------------------------->\n",
            "103\n",
            "RT @electionslivein: The vote share gap between #MGB and #NDA will be thin, around 5%, but that will result in a huge seat share gap. In ou…\n",
            "<--------------------------------------------------->\n",
            "104\n",
            "RT @electionslivein: The vote share gap between #MGB and #NDA will be thin, around 5%, but that will result in a huge seat share gap. In ou…\n",
            "<--------------------------------------------------->\n",
            "105\n",
            "The vote share gap between #MGB and #NDA will be thin, around 5%, but that will result in a huge seat share gap. In… https://t.co/KDjCWFa4EO\n",
            "<--------------------------------------------------->\n",
            "106\n",
            "RT @electionslivein: In our sense #MGB will have a clear and comfortable majority. #NDA total could be in double digits. We won’t be surpri…\n",
            "<--------------------------------------------------->\n",
            "107\n",
            "In our sense #MGB will have a clear and comfortable majority. #NDA total could be in double digits. We won’t be sur… https://t.co/UUf0phygOy\n",
            "<--------------------------------------------------->\n",
            "108\n",
            "RT @electionslivein: Bihar will spring a surprise.The state will have a change in guard after 15 years of Nitish rule. We heard the word “C…\n",
            "<--------------------------------------------------->\n",
            "109\n",
            "Bihar will spring a surprise.The state will have a change in guard after 15 years of Nitish rule. We heard the word… https://t.co/ywxN2nmEyx\n",
            "<--------------------------------------------------->\n",
            "110\n",
            "#BiharElections2020 | Polling about to close, all eyes set on exit polls. Follow LIVE updates.\n",
            "\n",
            "#BiharPolls… https://t.co/1g8sooHC4r\n",
            "<--------------------------------------------------->\n",
            "111\n",
            "RT @chidiyawala29: Gentlemen Shehzad Bhai after appreciating the ground teamwork of @TimesNow puts his point regarding #BiharElections tell…\n",
            "<--------------------------------------------------->\n",
            "112\n",
            "RT @chidiyawala29: Gentlemen Shehzad Bhai after appreciating the ground teamwork of @TimesNow puts his point regarding #BiharElections tell…\n",
            "<--------------------------------------------------->\n",
            "113\n",
            "Gentlemen Shehzad Bhai after appreciating the ground teamwork of @TimesNow puts his point regarding #BiharElections… https://t.co/wSlX8PGolZ\n",
            "<--------------------------------------------------->\n",
            "114\n",
            "Very true 👍 @Shehzad_Ind \n",
            "\n",
            "Double Engine Govt of #BJP #JDU is powerful not only on papers but on all parameters. Di… https://t.co/sxYVqAV3G4\n",
            "<--------------------------------------------------->\n",
            "115\n",
            "#BiharElection2020 is a win win situation for @BJP4India\n",
            "If #NDA forms government, good for them. If it doesn't, th… https://t.co/Cz0R7GJtM8\n",
            "<--------------------------------------------------->\n",
            "116\n",
            "RT @NH_India: Rebel #JDU leader in poll fray dies of #Corona in #Patna.\n",
            " https://t.co/5vDzsEJGLn\n",
            "<--------------------------------------------------->\n",
            "117\n",
            "When karyakarta of #jdu want vote for #NitishKumar in #BiharElections \n",
            "Public be like : https://t.co/YDc59lJX0o\n",
            "<--------------------------------------------------->\n",
            "118\n",
            "Rebel JDU Leader Neeraj Jha in Bihar Poll Fray Dies of Covid-19 in Patna #JDU #Neeraj #Jha #Bihar #Covid19 #Patna https://t.co/VV4kYqBH2X\n",
            "<--------------------------------------------------->\n",
            "119\n",
            "Rebel #JDU leader in poll fray dies of #Corona in #Patna.\n",
            " https://t.co/5vDzsEJGLn\n",
            "<--------------------------------------------------->\n",
            "120\n",
            "Akhtarul Iman of #AIMIM is up against Abdul Jalil Mastan of #Congress and Saba Zafar of #JDU from #Purnea constitue… https://t.co/YbjQWxfOS8\n",
            "<--------------------------------------------------->\n",
            "121\n",
            "\"Not voting is not a protest. It is a surrender.\"\n",
            "\n",
            "Polling ends at 5 PM.\n",
            "Go VOTE! \n",
            "\n",
            "#BiharElections2020… https://t.co/KMXHdJLSk9\n",
            "<--------------------------------------------------->\n",
            "122\n",
            "RT @LSElections2024: \"Not voting is not a protest. It is a surrender.\"\n",
            "\n",
            "Polling ends at 5 PM.\n",
            "Go VOTE! \n",
            "\n",
            "#BiharElections2020 \n",
            "#BiharElectio…\n",
            "<--------------------------------------------------->\n",
            "123\n",
            "Bihar final phase voting: Turnout 19.17% till 11 am\n",
            "https://t.co/FbIbRo5itG\n",
            "#Bihar, #BiharPolls, #Voting, #BJP, #JDU\n",
            "<--------------------------------------------------->\n",
            "124\n",
            "Ramnaresh Pandey of #CPI is up against Sudhanshu Shekhar of #JDU  from #Madhubani constituency. https://t.co/HmerJrs6XF\n",
            "<--------------------------------------------------->\n",
            "125\n",
            "Bihar Assembly Elections 2020: Local in Muzaffarpur Build Temporary Bridge to Help People to Cast Vote in Phase 3 P… https://t.co/xCDbU8s7x0\n",
            "<--------------------------------------------------->\n",
            "126\n",
            "RT @Digitalwomen2: #BiharAssemblyElection2020: 78 Seats Go To Polls; Seemanchal In Focus #BiharElections #BiharPolls #RJD #JDU #BJP #Bihar…\n",
            "<--------------------------------------------------->\n",
            "127\n",
            "RT @Digitalwomen2: #BiharAssemblyElection2020: 78 Seats Go To Polls; Seemanchal In Focus #BiharElections #BiharPolls #RJD #JDU #BJP #Bihar…\n",
            "<--------------------------------------------------->\n",
            "128\n",
            "\"Not voting is not a protest. It is a surrender.\"\n",
            "\n",
            "Polling ends at 5 PM.\n",
            "Go VOTE! \n",
            "\n",
            "#BiharElections2020… https://t.co/CH9BKMb7w5\n",
            "<--------------------------------------------------->\n",
            "129\n",
            "RT @CPR_India: Will #SocialMedia management &amp; advance advertisement strategies followed by #JDU-#BJP alliance help #NitishKumar to win? @_T…\n",
            "<--------------------------------------------------->\n",
            "130\n",
            "#ChiragPaswan appealed for \"blessings\" for #BJP candidates, adding that not a single vote given to #JDU will make a… https://t.co/KUQzkq29HH\n",
            "<--------------------------------------------------->\n",
            "131\n",
            "Overpopulated #Bihar -\n",
            "People, parties\n",
            "1 #SushilModi #BJP\n",
            "2 #ChiragPaswan #LJP\n",
            "3 #TejashwiYadav #RJD\n",
            "4 #SharadYadav… https://t.co/DaK9iNaESd\n",
            "<--------------------------------------------------->\n",
            "132\n",
            "#JDU wants #SharadYadav\n",
            "#JDUwithSharadYadav\n",
            "\n",
            "#ByeByeNitish\n",
            "#Bihar #BiharWithNDA #BiharElection2020 #NitishKumar\n",
            "<--------------------------------------------------->\n",
            "133\n",
            "RT @IndiaofPolitics: About 8% polling avg. recorded till 09:30 AM, for the final phase of #BiharElections2020.\n",
            "\n",
            "#BiharElections \n",
            "#BiharPoll…\n",
            "<--------------------------------------------------->\n",
            "134\n",
            "RT @Opoyis: Arvind Kumar Sahni of #RJD is up against Vijay Kumar Chaudhary of #JDU from #Samastipur constituency. https://t.co/0WdUPJFbbR\n",
            "<--------------------------------------------------->\n",
            "135\n",
            "About 8% polling avg. recorded till 09:30 AM, for the final phase of #BiharElections2020.\n",
            "\n",
            "#BiharElections… https://t.co/VH6ZryzhrQ\n",
            "<--------------------------------------------------->\n",
            "136\n",
            "About 8% polling avg. recorded till 09:30 AM, for the final phase of #BiharElections2020.\n",
            "\n",
            "#BiharElections… https://t.co/faEOPNt2xb\n",
            "<--------------------------------------------------->\n",
            "137\n",
            "Watch the video to know more\n",
            "https://t.co/fTSIi11zFi\n",
            "\n",
            "#chiragpaswan #BiharElection2020 #BiharWithNDA #BiharPolls #ljp #JDU\n",
            "<--------------------------------------------------->\n",
            "138\n",
            "RT @IndiaofPolitics: Polling for Final Phase Of #BiharElections2020 underway, where 78 Seats are Up For Grabs.\n",
            "\n",
            "#BiharAssemblyElections2020…\n",
            "<--------------------------------------------------->\n",
            "139\n",
            "Polling for Final Phase Of #BiharElections2020 underway, where 78 Seats are Up For Grabs.… https://t.co/hw1h6cWoWw\n",
            "<--------------------------------------------------->\n",
            "140\n",
            "Arvind Kumar Sahni of #RJD is up against Vijay Kumar Chaudhary of #JDU from #Samastipur constituency. https://t.co/0WdUPJFbbR\n",
            "<--------------------------------------------------->\n",
            "141\n",
            "Polling for Final Phase Of #BiharElections2020 underway, where 78 Seats are Up For Grabs.\n",
            "\n",
            "In Pics: A model polling… https://t.co/uxseRMKxXI\n",
            "<--------------------------------------------------->\n",
            "142\n",
            "RT @Digitalwomen2: #BiharAssemblyElection2020: 78 Seats Go To Polls; Seemanchal In Focus #BiharElections #BiharPolls #RJD #JDU #BJP #Bihar…\n",
            "<--------------------------------------------------->\n",
            "143\n",
            "#BiharAssemblyElection2020: 78 Seats Go To Polls; Seemanchal In Focus #BiharElections #BiharPolls #RJD #JDU #BJP… https://t.co/w9jNvjh0GM\n",
            "<--------------------------------------------------->\n",
            "144\n",
            "Please give vote to the NDA in bihar election. To save yourself from Jangalraj #BiharElections #Votefornitish #NDASangBihar #NDA #BJP #JDU\n",
            "<--------------------------------------------------->\n",
            "145\n",
            "Will #SocialMedia management &amp; advance advertisement strategies followed by #JDU-#BJP alliance help #NitishKumar to… https://t.co/vdQC95TUAp\n",
            "<--------------------------------------------------->\n",
            "146\n",
            "RT @SevadalAMD: #BiharElections #Congress #rjd #RahulGandhi #Tejaswiyadav #Bihar time to get rid of #BjpProtectsMurdererArnab #jdu #NDA #Vo…\n",
            "<--------------------------------------------------->\n",
            "147\n",
            "RT @Bhushan4: This should be the good enough reason to dump #JDU...Bihar doesn't need BJP...BJP needs Bihar...Period\n",
            "<--------------------------------------------------->\n",
            "148\n",
            "This should be the good enough reason to dump #JDU...Bihar doesn't need BJP...BJP needs Bihar...Period https://t.co/KnQClcorum\n",
            "<--------------------------------------------------->\n",
            "149\n",
            "Who Will Win Bihar ?\n",
            "\n",
            "#Bihar #BiharElections #BiharElections2020 #biharopinionpoll #biharexitpolls #Katihar #EVM… https://t.co/jhQwKI5sxt\n",
            "<--------------------------------------------------->\n",
            "150\n",
            "RT @SevadalAMD: #BiharElections #Congress #rjd #RahulGandhi #Tejaswiyadav #Bihar time to get rid of #BjpProtectsMurdererArnab #jdu #NDA #Vo…\n",
            "<--------------------------------------------------->\n",
            "151\n",
            "RT @SevadalAMD: #BiharElections #Congress #rjd #RahulGandhi #Tejaswiyadav #Bihar time to get rid of #BjpProtectsMurdererArnab #jdu #NDA #Vo…\n",
            "<--------------------------------------------------->\n",
            "152\n",
            "#BiharElections #Congress #rjd #RahulGandhi #Tejaswiyadav #Bihar time to get rid of #BjpProtectsMurdererArnab #jdu… https://t.co/9DCVKZY8GN\n",
            "<--------------------------------------------------->\n",
            "153\n",
            "RT @NH_India: The #JDU, which has put up 11 #Muslim candidates, is upset at #YogiAdityanath’s utterances forcing #NitishKumar to publicly d…\n",
            "<--------------------------------------------------->\n",
            "154\n",
            "RT @NH_India: The #JDU, which has put up 11 #Muslim candidates, is upset at #YogiAdityanath’s utterances forcing #NitishKumar to publicly d…\n",
            "<--------------------------------------------------->\n",
            "155\n",
            "The #JDU, which has put up 11 #Muslim candidates, is upset at #YogiAdityanath’s utterances forcing #NitishKumar to… https://t.co/CAFEcU4mrL\n",
            "<--------------------------------------------------->\n",
            "156\n",
            "Why didn't  #BJP #JDU spent money on BUSES &amp; FOOD for  Migrants in #lockdown ???\n",
            "\n",
            "#BiharElections #Bihar… https://t.co/3hYjp2jIBr\n",
            "<--------------------------------------------------->\n",
            "157\n",
            "If not Nitish, who will be next Bihar CM?\n",
            "\n",
            "#Bihar #BiharElections2020 #BiharElections #BJP #JDU #RJD #LJP… https://t.co/CjwcyQKvA1\n",
            "<--------------------------------------------------->\n",
            "158\n",
            "Bihar Assembly elections 2020: #NitishKumar tugs at ‘last election’ heartstrings. All’s well that ends well, says C… https://t.co/xZWfXM4dIV\n",
            "<--------------------------------------------------->\n",
            "159\n",
            "After half hrted announcement of Retirement of Nitish ji.\n",
            "1. #BJP jabardasti congratulating. \n",
            "2. Prime time news on… https://t.co/wE4y7EJSXn\n",
            "<--------------------------------------------------->\n",
            "160\n",
            "Meanwhile, #Congress said that it might be a political statement and the #JDU chief may be trying to play an emotio… https://t.co/K0F3skmqMA\n",
            "<--------------------------------------------------->\n",
            "161\n",
            "CM #NitishKumar announces #Bihar Assembly election 2020 as his last polls\n",
            "\n",
            "#LokJanshaktiParty chief #AjayKumar said… https://t.co/MKanSdbcpw\n",
            "<--------------------------------------------------->\n",
            "162\n",
            "RT @LSElections2024: About 54% polling avg. recorded for Phase II of #BiharElection2020.\n",
            "\n",
            "#BiharElections \n",
            "#BiharPolls \n",
            "#बिहारविधानसभाचुनाव…\n",
            "<--------------------------------------------------->\n",
            "163\n",
            "Although the election in this phase is important for every political party, RJD and the Janata Dal United face the… https://t.co/wyz9nTonwZ\n",
            "<--------------------------------------------------->\n",
            "164\n",
            "PM Modi urges Bihar to vote for Nitish government, writes open letter\n",
            "#BiharElections2020… https://t.co/WCmHkDnPTG\n",
            "<--------------------------------------------------->\n",
            "165\n",
            "These are my last elections says #Bihar CM #Nitishkumar during 3rd phase of election campaign\n",
            "\n",
            "#jdu #purnia… https://t.co/dw2tHPmiRC\n",
            "<--------------------------------------------------->\n",
            "166\n",
            "@ndtv Modi says: He wants Nitish Kumar for Development \n",
            "Nitish Says: This is my last election\n",
            "\n",
            "But after few days… https://t.co/YmWrlcddn5\n",
            "<--------------------------------------------------->\n",
            "167\n",
            "#Bihar Chief Minister and #JDU @NitishKumar on Thursday said that #BiharAssemblyElection2020 would be his last elec… https://t.co/T1smOQoyUY\n",
            "<--------------------------------------------------->\n",
            "168\n",
            "Bihar Chief Minister Nitish Kumar on Thursday announced his SANYAS and said that this was going to be his last elec… https://t.co/BMmi99b5Yh\n",
            "<--------------------------------------------------->\n",
            "169\n",
            "Bihar polls: RJD, JDU want to repeat success in 3rd phase, BJP to make new gains #Bihar #RJD #JDU #BJP https://t.co/cjFFmayZeW\n",
            "<--------------------------------------------------->\n",
            "170\n",
            "@ndtv The people of #Bihar should choose someone they can hold accountable next time around !\n",
            "\n",
            " @NitishKumar is mer… https://t.co/gCCjhQDAjc\n",
            "<--------------------------------------------------->\n",
            "171\n",
            "#Bihar | This is my last election, says Bihar CM and JD(U) Chief Nitish Kumar during an election rally in Purnia.… https://t.co/E2xTlKQcwD\n",
            "<--------------------------------------------------->\n",
            "172\n",
            "In Bihar,people r now fed up of 15yrs of misgovernance &amp; have made up their mind to vote against BJP-JDU… https://t.co/9FajggayqC\n",
            "<--------------------------------------------------->\n",
            "173\n",
            "Bihar Assembly Elections 2020 Phase 3: Key Candidates Include Sharad Yadav's Daughter, RJD's Abdul Bari Siddiqui, 8… https://t.co/wP9n4KIcNO\n",
            "<--------------------------------------------------->\n",
            "174\n",
            "Not all good in collaboration. \n",
            "Nitish Kumar &amp; Yogi Aadityanath\n",
            "\n",
            "#RJD #JDU #BiharElections2020 https://t.co/YoGP2IKrHD\n",
            "<--------------------------------------------------->\n",
            "175\n",
            "\"Who Talks Like This?\" Nitish Kumar Disses Yogi Adityanath's CAA Comment\n",
            "\n",
            "Nitish Kumar had said in January that the… https://t.co/UhF7GHiLXn\n",
            "<--------------------------------------------------->\n",
            "176\n",
            "#NitishKumar  Ji Well said. But sir you had earlier supported #CAA. What is your take on that? #JDU https://t.co/JiIhqLeCu6\n",
            "<--------------------------------------------------->\n",
            "177\n",
            "Meanwhile, \n",
            "\n",
            "@Dev_Fadnavis to @NitishKumar \n",
            ".\n",
            ".\n",
            ".\n",
            ".\n",
            ".\n",
            "#BiharElections2020 \n",
            "#RJD #JDU #BJP #INC https://t.co/UAHvJLNpAM\n",
            "<--------------------------------------------------->\n",
            "178\n",
            "Hater will say its Photoshop\n",
            "#BiharElections2020 #JDU @AFTAB__ANSARI https://t.co/BxQGJOarTY\n",
            "<--------------------------------------------------->\n",
            "179\n",
            "Corona spreads at colleges and schools not in political rallies.\n",
            "#bihar #biharelection #bjp #rjd #jdu\n",
            "<--------------------------------------------------->\n",
            "180\n",
            "I support Donald Trump and any other who could defeat Nitish Kumar #KushasanBabu led #JDU.… https://t.co/HCsJ8IQjeT\n",
            "<--------------------------------------------------->\n",
            "181\n",
            "The time has come for #JDU to decide on the ideologies of #BJP suits them or not.. They want to fight together but… https://t.co/lJgAC9ZFqr\n",
            "<--------------------------------------------------->\n",
            "182\n",
            "JD(U) MLC Dinesh Kumar Singh suspended from party\n",
            "#DineshKumarSingh \n",
            "#MLC   \n",
            "#JDU https://t.co/gpUL64ZPrK\n",
            "<--------------------------------------------------->\n",
            "183\n",
            "Story 69 from #Bihar with @Mukesh_Journo \n",
            "\n",
            "JDU suspends MLC Dinesh Prasad Singh's primary membership for helping da… https://t.co/i3CNRJJVSg\n",
            "<--------------------------------------------------->\n",
            "184\n",
            "JD-U supporters attend Bihar Chief Ministers election meeting\n",
            "https://t.co/SJaPjZjTkF\n",
            "#JDU, #JDUSupporters,… https://t.co/AluR9XYCr7\n",
            "<--------------------------------------------------->\n",
            "185\n",
            "JD-U expels MLC for supporting daughter, who is LJP candidate #JDU #MLC #LJP https://t.co/Wh6PMxJheS\n",
            "<--------------------------------------------------->\n",
            "186\n",
            "#BiharElections : Never before have red, green and tricolour flags worked so unitedly – and never has public suppor… https://t.co/7QOc95rV0n\n",
            "<--------------------------------------------------->\n",
            "187\n",
            "RT @partha2019LS: A telephonic conversation of sitting #Bhagalpur MP 4m @Jduonline is viral. In that clip he told his supporter not to vote…\n",
            "<--------------------------------------------------->\n",
            "188\n",
            "@rssurjewala @INCIndia #NitishKumar didn't bring development and prosperity in Bihar but this allegation of… https://t.co/SoyHK3OZCb\n",
            "<--------------------------------------------------->\n",
            "189\n",
            "Maybe Bihar elect one FOE inorder to take down another FOE.\n",
            "#RJD\n",
            "#JDU\n",
            "<--------------------------------------------------->\n",
            "190\n"
          ],
          "name": "stdout"
        }
      ]
    },
    {
      "cell_type": "markdown",
      "metadata": {
        "id": "Yj-f10OwDLlk"
      },
      "source": [
        "# **Importing Libraries**\n"
      ]
    },
    {
      "cell_type": "code",
      "metadata": {
        "id": "onmGgSgRCmn0"
      },
      "source": [
        "import re\n",
        "import numpy as np\n",
        "\n",
        "import matplotlib.pyplot as plt\n",
        "import seaborn as sns\n",
        "\n",
        "import pandas as pd\n",
        "\n",
        "import datetime as dt\n",
        "from collections import Counter\n",
        "\n",
        "import nltk\n",
        "from nltk.tokenize import sent_tokenize\n",
        "from nltk.tokenize import TweetTokenizer\n",
        "from nltk.tokenize import word_tokenize\n",
        "from nltk.corpus import words\n",
        "from nltk.corpus import stopwords\n",
        "from nltk.stem import PorterStemmer\n",
        "from nltk.stem import WordNetLemmatizer"
      ],
      "execution_count": 3,
      "outputs": []
    },
    {
      "cell_type": "markdown",
      "metadata": {
        "id": "uCbokGdFEFCn"
      },
      "source": [
        "# **CLEANING JDU DATASET 1**"
      ]
    },
    {
      "cell_type": "code",
      "metadata": {
        "id": "JUKjKdfREGfH",
        "outputId": "4573720a-9850-4eb8-b246-5166a7c6ec2b",
        "colab": {
          "base_uri": "https://localhost:8080/"
        }
      },
      "source": [
        "tweets_list = df['Tweet'].tolist()\n",
        "len(tweets_list)"
      ],
      "execution_count": 4,
      "outputs": [
        {
          "output_type": "execute_result",
          "data": {
            "text/plain": [
              "190"
            ]
          },
          "metadata": {
            "tags": []
          },
          "execution_count": 4
        }
      ]
    },
    {
      "cell_type": "markdown",
      "metadata": {
        "id": "F3RA2-mJGdVl"
      },
      "source": [
        "\n",
        "\n",
        "> **Removing duplicates tweets if any.**\n",
        "\n"
      ]
    },
    {
      "cell_type": "code",
      "metadata": {
        "id": "iFtIgdhUDa2Z",
        "outputId": "760e9fa9-cbeb-4225-9896-34137b581ef2",
        "colab": {
          "base_uri": "https://localhost:8080/"
        }
      },
      "source": [
        "tweets_list_updated = set(tweets_list)\n",
        "len(tweets_list_updated)"
      ],
      "execution_count": 5,
      "outputs": [
        {
          "output_type": "execute_result",
          "data": {
            "text/plain": [
              "153"
            ]
          },
          "metadata": {
            "tags": []
          },
          "execution_count": 5
        }
      ]
    },
    {
      "cell_type": "code",
      "metadata": {
        "id": "LAtc6kRhHVMm",
        "outputId": "7c7be1e7-1709-43cb-ce62-40bc278f2296",
        "colab": {
          "base_uri": "https://localhost:8080/"
        }
      },
      "source": [
        "df['Tweet'].duplicated().sum()"
      ],
      "execution_count": 6,
      "outputs": [
        {
          "output_type": "execute_result",
          "data": {
            "text/plain": [
              "37"
            ]
          },
          "metadata": {
            "tags": []
          },
          "execution_count": 6
        }
      ]
    },
    {
      "cell_type": "markdown",
      "metadata": {
        "id": "m0Sw_RO-G9rc"
      },
      "source": [
        "```\n",
        "Number of duplicates tweets\n",
        "```\n",
        "\n"
      ]
    },
    {
      "cell_type": "code",
      "metadata": {
        "id": "1yAMQi-4HocN",
        "outputId": "28d71596-d56c-4681-c19e-188292c2a574",
        "colab": {
          "base_uri": "https://localhost:8080/"
        }
      },
      "source": [
        "df = df.drop_duplicates(subset = 'Tweet', keep = 'first',ignore_index = True)\n",
        "df.shape"
      ],
      "execution_count": 7,
      "outputs": [
        {
          "output_type": "execute_result",
          "data": {
            "text/plain": [
              "(153, 1)"
            ]
          },
          "metadata": {
            "tags": []
          },
          "execution_count": 7
        }
      ]
    },
    {
      "cell_type": "markdown",
      "metadata": {
        "id": "sXpzDQABH0Kd"
      },
      "source": [
        "\n",
        "\n",
        "```\n",
        "Removed all the duplicate tweets\n",
        "```\n",
        "\n"
      ]
    },
    {
      "cell_type": "markdown",
      "metadata": {
        "id": "BEmQi-BZIRKI"
      },
      "source": [
        "\n",
        "\n",
        "> **Removing emojis**\n",
        "\n"
      ]
    },
    {
      "cell_type": "code",
      "metadata": {
        "id": "YaynKA-QH-Oe"
      },
      "source": [
        "def remove_emoji(tweet):\n",
        "    emoji_pattern = re.compile(\"[\"\n",
        "            u\"\\U0001F600-\\U0001F64F\"  # emoticons\n",
        "            u\"\\U0001F300-\\U0001F5FF\"  # symbols & pictographs\n",
        "            u\"\\U0001F680-\\U0001F6FF\"  # transport & map symbols\n",
        "            u\"\\U0001F1E0-\\U0001F1FF\"  # flags (iOS)\n",
        "                               \"]+\", flags=re.UNICODE)\n",
        "    return emoji_pattern.sub(r'', tweet)\n",
        "\n",
        "df['Processed_Tweet']=df.Tweet.apply(remove_emoji)"
      ],
      "execution_count": 8,
      "outputs": []
    },
    {
      "cell_type": "markdown",
      "metadata": {
        "id": "s8CsSz4WItY5"
      },
      "source": [
        "\n",
        "\n",
        "```\n",
        "From now on, all the preprocessing & modelling on tweets will be stored in the data column called 'Processed_Tweet' \n",
        "```\n",
        "\n"
      ]
    },
    {
      "cell_type": "code",
      "metadata": {
        "id": "0Or2ltPCIpUk",
        "outputId": "51310838-2e4b-4ad4-8584-e9efc32ec2ee",
        "colab": {
          "base_uri": "https://localhost:8080/"
        }
      },
      "source": [
        "count = 0\n",
        "for i in df['Processed_Tweet']:\n",
        "    if re.match(r'^RT', i):  #remove any rows that contain RT\n",
        "        df.drop(df.loc[df['Processed_Tweet']==i].index,inplace = True)\n",
        "        count+=1\n",
        "    \n",
        "count"
      ],
      "execution_count": 9,
      "outputs": [
        {
          "output_type": "execute_result",
          "data": {
            "text/plain": [
              "30"
            ]
          },
          "metadata": {
            "tags": []
          },
          "execution_count": 9
        }
      ]
    },
    {
      "cell_type": "code",
      "metadata": {
        "id": "l7oS-TiyI25f",
        "outputId": "1ab0e99c-5be7-4f6e-f579-cdb2cf437598",
        "colab": {
          "base_uri": "https://localhost:8080/"
        }
      },
      "source": [
        "df.shape"
      ],
      "execution_count": 10,
      "outputs": [
        {
          "output_type": "execute_result",
          "data": {
            "text/plain": [
              "(123, 2)"
            ]
          },
          "metadata": {
            "tags": []
          },
          "execution_count": 10
        }
      ]
    },
    {
      "cell_type": "code",
      "metadata": {
        "id": "DwnC13U6JcP1",
        "outputId": "85635d19-f80a-45d9-a202-bbb0827353b3",
        "colab": {
          "base_uri": "https://localhost:8080/"
        }
      },
      "source": [
        "df['Processed_Tweet']"
      ],
      "execution_count": 11,
      "outputs": [
        {
          "output_type": "execute_result",
          "data": {
            "text/plain": [
              "0      Please keep my October 5th, 2020 tweet to deba...\n",
              "1      Not all good in collaboration. \\nNitish Kumar ...\n",
              "3      @AmitShah a sixer in #bihar #ljp #paswan #jdu ...\n",
              "4      @PTI_News #AIADMK  should remember #PDP,#Akali...\n",
              "6      Will #SocialMedia management &amp; advance adv...\n",
              "                             ...                        \n",
              "147    JD-U supporters attend Bihar Chief Ministers e...\n",
              "148    JD-U expels MLC for supporting daughter, who i...\n",
              "149    #BiharElections : Never before have red, green...\n",
              "151    @rssurjewala @INCIndia #NitishKumar didn't bri...\n",
              "152    Maybe Bihar elect one FOE inorder to take down...\n",
              "Name: Processed_Tweet, Length: 123, dtype: object"
            ]
          },
          "metadata": {
            "tags": []
          },
          "execution_count": 11
        }
      ]
    },
    {
      "cell_type": "markdown",
      "metadata": {
        "id": "y2z8xzKKJumQ"
      },
      "source": [
        "\n",
        "\n",
        ">**Removing username**\n",
        "\n"
      ]
    },
    {
      "cell_type": "code",
      "metadata": {
        "id": "D7QnpHwNJki3",
        "outputId": "0394a189-480c-4dc0-8411-c71e6af1a9ff",
        "colab": {
          "base_uri": "https://localhost:8080/"
        }
      },
      "source": [
        "df['Processed_Tweet'] = [re.sub('@[^\\s]+', ' ', i) for i in df['Processed_Tweet']] #remove usernames\n",
        "df['Processed_Tweet']"
      ],
      "execution_count": 12,
      "outputs": [
        {
          "output_type": "execute_result",
          "data": {
            "text/plain": [
              "0      Please keep my October 5th, 2020 tweet to deba...\n",
              "1      Not all good in collaboration. \\nNitish Kumar ...\n",
              "3        a sixer in #bihar #ljp #paswan #jdu #NitishK...\n",
              "4        #AIADMK  should remember #PDP,#Akalidal,and ...\n",
              "6      Will #SocialMedia management &amp; advance adv...\n",
              "                             ...                        \n",
              "147    JD-U supporters attend Bihar Chief Ministers e...\n",
              "148    JD-U expels MLC for supporting daughter, who i...\n",
              "149    #BiharElections : Never before have red, green...\n",
              "151        #NitishKumar didn't bring development and ...\n",
              "152    Maybe Bihar elect one FOE inorder to take down...\n",
              "Name: Processed_Tweet, Length: 123, dtype: object"
            ]
          },
          "metadata": {
            "tags": []
          },
          "execution_count": 12
        }
      ]
    },
    {
      "cell_type": "markdown",
      "metadata": {
        "id": "qr_8TqFMKWwm"
      },
      "source": [
        "\n",
        "\n",
        "> **Removing URL, if any**\n",
        "\n"
      ]
    },
    {
      "cell_type": "code",
      "metadata": {
        "id": "FgsV3OuqKCfs",
        "outputId": "a0762b74-e35a-4517-db4a-6a7e659338b8",
        "colab": {
          "base_uri": "https://localhost:8080/"
        }
      },
      "source": [
        "df['Processed_Tweet'] = [re.sub('((www\\.[^\\s]+)|(https?://[^\\s]+))', '', i) for i in df['Processed_Tweet']] #Remove urls\n",
        "df['Processed_Tweet']"
      ],
      "execution_count": 13,
      "outputs": [
        {
          "output_type": "execute_result",
          "data": {
            "text/plain": [
              "0      Please keep my October 5th, 2020 tweet to deba...\n",
              "1      Not all good in collaboration. \\nNitish Kumar ...\n",
              "3        a sixer in #bihar #ljp #paswan #jdu #NitishK...\n",
              "4        #AIADMK  should remember #PDP,#Akalidal,and ...\n",
              "6      Will #SocialMedia management &amp; advance adv...\n",
              "                             ...                        \n",
              "147    JD-U supporters attend Bihar Chief Ministers e...\n",
              "148    JD-U expels MLC for supporting daughter, who i...\n",
              "149    #BiharElections : Never before have red, green...\n",
              "151        #NitishKumar didn't bring development and ...\n",
              "152    Maybe Bihar elect one FOE inorder to take down...\n",
              "Name: Processed_Tweet, Length: 123, dtype: object"
            ]
          },
          "metadata": {
            "tags": []
          },
          "execution_count": 13
        }
      ]
    },
    {
      "cell_type": "markdown",
      "metadata": {
        "id": "pGn9qweZK5aZ"
      },
      "source": [
        "\n",
        "\n",
        "> **Removing Hashtags but keeping the word**\n",
        "\n"
      ]
    },
    {
      "cell_type": "code",
      "metadata": {
        "id": "9I-Od_zTK4x6",
        "outputId": "91dd58f3-cb9a-42cb-d6ae-30780f5b4b14",
        "colab": {
          "base_uri": "https://localhost:8080/"
        }
      },
      "source": [
        "df['Processed_Tweet'] = [re.sub(r'#([^\\s]+)', r'\\1', i) for i in df['Processed_Tweet']] # remove the # in #hashtag\n",
        "df['Processed_Tweet']"
      ],
      "execution_count": 14,
      "outputs": [
        {
          "output_type": "execute_result",
          "data": {
            "text/plain": [
              "0      Please keep my October 5th, 2020 tweet to deba...\n",
              "1      Not all good in collaboration. \\nNitish Kumar ...\n",
              "3        a sixer in bihar ljp paswan jdu NitishKumar ...\n",
              "4        AIADMK  should remember PDP,#Akalidal,and JD...\n",
              "6      Will SocialMedia management &amp; advance adve...\n",
              "                             ...                        \n",
              "147    JD-U supporters attend Bihar Chief Ministers e...\n",
              "148    JD-U expels MLC for supporting daughter, who i...\n",
              "149    BiharElections : Never before have red, green ...\n",
              "151        NitishKumar didn't bring development and p...\n",
              "152    Maybe Bihar elect one FOE inorder to take down...\n",
              "Name: Processed_Tweet, Length: 123, dtype: object"
            ]
          },
          "metadata": {
            "tags": []
          },
          "execution_count": 14
        }
      ]
    },
    {
      "cell_type": "markdown",
      "metadata": {
        "id": "0MfgevSaLLRo"
      },
      "source": [
        "\n",
        "\n",
        "> **Using Preprocessor library**\n",
        "\n"
      ]
    },
    {
      "cell_type": "code",
      "metadata": {
        "id": "o41w8DD7LLhA",
        "outputId": "7ec285ed-4a94-4ee4-fa66-7133c4883566",
        "colab": {
          "base_uri": "https://localhost:8080/"
        }
      },
      "source": [
        "!pip install tweet-preprocessor"
      ],
      "execution_count": 16,
      "outputs": [
        {
          "output_type": "stream",
          "text": [
            "Collecting tweet-preprocessor\n",
            "  Downloading https://files.pythonhosted.org/packages/17/9d/71bd016a9edcef8860c607e531f30bd09b13103c7951ae73dd2bf174163c/tweet_preprocessor-0.6.0-py3-none-any.whl\n",
            "Installing collected packages: tweet-preprocessor\n",
            "Successfully installed tweet-preprocessor-0.6.0\n"
          ],
          "name": "stdout"
        }
      ]
    },
    {
      "cell_type": "code",
      "metadata": {
        "id": "yAx0Y2kXLdwn",
        "outputId": "73084db9-b109-4056-e0e0-6dd6e241d0d2",
        "colab": {
          "base_uri": "https://localhost:8080/"
        }
      },
      "source": [
        "import preprocessor as p #Module for faster preprocessing specifically for tweets\n",
        "df['Processed_Tweet'] = [p.clean(i) for i in df['Processed_Tweet']]\n",
        "df['Processed_Tweet']"
      ],
      "execution_count": 17,
      "outputs": [
        {
          "output_type": "execute_result",
          "data": {
            "text/plain": [
              "0      Please keep my October th, tweet to debate on ...\n",
              "1      Not all good in collaboration. Nitish Kumar &a...\n",
              "3      a sixer in bihar ljp paswan jdu NitishKumar ND...\n",
              "4      AIADMK should remember PDP,,and JDU.Next is ur...\n",
              "6      Will SocialMedia management &amp; advance adve...\n",
              "                             ...                        \n",
              "147    JD-U supporters attend Bihar Chief Ministers e...\n",
              "148    JD-U expels MLC for supporting daughter, who i...\n",
              "149    BiharElections : Never before have red, green ...\n",
              "151    NitishKumar didn't bring development and prosp...\n",
              "152    Maybe Bihar elect one FOE inorder to take down...\n",
              "Name: Processed_Tweet, Length: 123, dtype: object"
            ]
          },
          "metadata": {
            "tags": []
          },
          "execution_count": 17
        }
      ]
    },
    {
      "cell_type": "markdown",
      "metadata": {
        "id": "x61seOvDLnBS"
      },
      "source": [
        "> **Removing any special characters, numbers, punctuations,etc..**"
      ]
    },
    {
      "cell_type": "code",
      "metadata": {
        "id": "aJYIQywNLmFW",
        "outputId": "4a78d794-074d-458c-fb0b-8982442d97fb",
        "colab": {
          "base_uri": "https://localhost:8080/"
        }
      },
      "source": [
        "df.Processed_Tweet = df.Processed_Tweet.str.replace(\"[^a-zA-Z]\", \" \")\n",
        "df[\"Processed_Tweet\"]"
      ],
      "execution_count": 18,
      "outputs": [
        {
          "output_type": "execute_result",
          "data": {
            "text/plain": [
              "0      Please keep my October th  tweet to debate on ...\n",
              "1      Not all good in collaboration  Nitish Kumar  a...\n",
              "3      a sixer in bihar ljp paswan jdu NitishKumar ND...\n",
              "4      AIADMK should remember PDP  and JDU Next is ur...\n",
              "6      Will SocialMedia management  amp  advance adve...\n",
              "                             ...                        \n",
              "147    JD U supporters attend Bihar Chief Ministers e...\n",
              "148    JD U expels MLC for supporting daughter  who i...\n",
              "149    BiharElections   Never before have red  green ...\n",
              "151    NitishKumar didn t bring development and prosp...\n",
              "152    Maybe Bihar elect one FOE inorder to take down...\n",
              "Name: Processed_Tweet, Length: 123, dtype: object"
            ]
          },
          "metadata": {
            "tags": []
          },
          "execution_count": 18
        }
      ]
    },
    {
      "cell_type": "markdown",
      "metadata": {
        "id": "aqjAi106Mvvh"
      },
      "source": [
        "> **Converting to lowercase**"
      ]
    },
    {
      "cell_type": "code",
      "metadata": {
        "id": "trA4DZWeMvgZ",
        "outputId": "aca8d1cd-226b-44f0-89ba-9ffa48953558",
        "colab": {
          "base_uri": "https://localhost:8080/"
        }
      },
      "source": [
        "df.Processed_Tweet = [low.lower() for low in df.Processed_Tweet] #Converting into lower case\n",
        "df[\"Processed_Tweet\"]"
      ],
      "execution_count": 19,
      "outputs": [
        {
          "output_type": "execute_result",
          "data": {
            "text/plain": [
              "0      please keep my october th  tweet to debate on ...\n",
              "1      not all good in collaboration  nitish kumar  a...\n",
              "3      a sixer in bihar ljp paswan jdu nitishkumar nd...\n",
              "4      aiadmk should remember pdp  and jdu next is ur...\n",
              "6      will socialmedia management  amp  advance adve...\n",
              "                             ...                        \n",
              "147    jd u supporters attend bihar chief ministers e...\n",
              "148    jd u expels mlc for supporting daughter  who i...\n",
              "149    biharelections   never before have red  green ...\n",
              "151    nitishkumar didn t bring development and prosp...\n",
              "152    maybe bihar elect one foe inorder to take down...\n",
              "Name: Processed_Tweet, Length: 123, dtype: object"
            ]
          },
          "metadata": {
            "tags": []
          },
          "execution_count": 19
        }
      ]
    },
    {
      "cell_type": "markdown",
      "metadata": {
        "id": "qmD04sX0M6q1"
      },
      "source": [
        "\n",
        "\n",
        "```\n",
        "We still have to remove stopwords, perform lemmatization & do stemming. So let us proceed with that\n",
        "```\n",
        "\n"
      ]
    },
    {
      "cell_type": "code",
      "metadata": {
        "id": "_9-e-bxaM6d-"
      },
      "source": [
        "from wordcloud import WordCloud\n",
        "tokenizer = TweetTokenizer()"
      ],
      "execution_count": 20,
      "outputs": []
    },
    {
      "cell_type": "markdown",
      "metadata": {
        "id": "LoEyIgJROeKY"
      },
      "source": [
        "\n",
        "\n",
        "> **Removing Stop Words**\n",
        "\n"
      ]
    },
    {
      "cell_type": "code",
      "metadata": {
        "id": "J_z-4cVLOoR6",
        "outputId": "b0f979a9-d547-4b0d-ad6c-b995bd7fee84",
        "colab": {
          "base_uri": "https://localhost:8080/"
        }
      },
      "source": [
        "nltk.download('stopwords')"
      ],
      "execution_count": 21,
      "outputs": [
        {
          "output_type": "stream",
          "text": [
            "[nltk_data] Downloading package stopwords to /root/nltk_data...\n",
            "[nltk_data]   Unzipping corpora/stopwords.zip.\n"
          ],
          "name": "stdout"
        },
        {
          "output_type": "execute_result",
          "data": {
            "text/plain": [
              "True"
            ]
          },
          "metadata": {
            "tags": []
          },
          "execution_count": 21
        }
      ]
    },
    {
      "cell_type": "code",
      "metadata": {
        "id": "s56CvCHLPNwl",
        "outputId": "ec97f987-f668-4f84-a1ea-035098646501",
        "colab": {
          "base_uri": "https://localhost:8080/"
        }
      },
      "source": [
        "stop_words = set(stopwords.words('english')) \n",
        "stop_words = list(stop_words)\n",
        "print(stop_words)"
      ],
      "execution_count": 22,
      "outputs": [
        {
          "output_type": "stream",
          "text": [
            "['own', \"wasn't\", 'because', 'the', \"haven't\", 'at', 'about', 'through', 'herself', 'does', 'whom', 'under', 'to', 'me', 'not', \"weren't\", 'when', 'don', 'my', 'yours', 'are', 'himself', 's', 'such', 'if', 'having', 'above', 'than', 'wasn', 'while', 'out', 've', 'you', 'i', 'which', 'with', 'will', 'over', 'more', 'hasn', 'no', 'their', 'up', 'all', 'some', 'but', 'o', \"shouldn't\", 'needn', 'after', 'mustn', \"that'll\", 'that', \"don't\", 'her', 'this', 'them', 'from', 'doesn', 'ain', 'just', 'those', 'ourselves', 'being', \"mightn't\", 'him', 'll', 'again', 'as', 'yourself', 'our', 'or', 'for', 'has', 'few', 'be', \"wouldn't\", 'nor', 'm', 'shouldn', 'below', 'theirs', 'should', \"couldn't\", 'same', 're', 't', \"hasn't\", \"mustn't\", 'it', 'themselves', 'did', 'down', 'most', 'of', \"shan't\", 'have', 'had', 'was', 'doing', 'so', 'his', 'is', 'in', 'until', 'an', 'each', \"aren't\", \"needn't\", 'they', 'weren', 'can', 'do', \"it's\", 'were', 'ours', \"should've\", \"doesn't\", \"you'll\", 'during', 'what', 'now', 'aren', 'won', \"she's\", 'ma', 'mightn', \"you've\", 'why', 'between', 'and', 'before', 'wouldn', 'she', 'am', 'both', 'we', 'on', \"didn't\", \"isn't\", 'didn', 'hers', 'a', 'been', \"you'd\", \"you're\", 'its', 'too', 'further', 'who', 'he', 'once', 'itself', 'y', 'd', 'off', 'these', 'only', 'here', 'how', 'couldn', 'hadn', 'other', 'by', 'yourselves', 'your', 'into', \"hadn't\", 'shan', \"won't\", 'then', 'against', 'myself', 'there', 'isn', 'where', 'haven', 'any', 'very']\n"
          ],
          "name": "stdout"
        }
      ]
    },
    {
      "cell_type": "code",
      "metadata": {
        "id": "qfPWGrNYPTBM",
        "outputId": "8158c058-04bf-49c6-ade1-3bffde7f521e",
        "colab": {
          "base_uri": "https://localhost:8080/"
        }
      },
      "source": [
        "df['Processed_Tweet'] = df.Processed_Tweet.apply(lambda x: ' '.join(w for w in x.split() if w not in stop_words))   #Remove stopwords\n",
        "df['Processed_Tweet']"
      ],
      "execution_count": 23,
      "outputs": [
        {
          "output_type": "execute_result",
          "data": {
            "text/plain": [
              "0      please keep october th tweet debate postpoll a...\n",
              "1      good collaboration nitish kumar amp yogi aadit...\n",
              "3      sixer bihar ljp paswan jdu nitishkumar nda opp...\n",
              "4                   aiadmk remember pdp jdu next ur turn\n",
              "6      socialmedia management amp advance advertiseme...\n",
              "                             ...                        \n",
              "147    jd u supporters attend bihar chief ministers e...\n",
              "148    jd u expels mlc supporting daughter ljp candid...\n",
              "149    biharelections never red green tricolour flags...\n",
              "151    nitishkumar bring development prosperity bihar...\n",
              "152    maybe bihar elect one foe inorder take another...\n",
              "Name: Processed_Tweet, Length: 123, dtype: object"
            ]
          },
          "metadata": {
            "tags": []
          },
          "execution_count": 23
        }
      ]
    },
    {
      "cell_type": "markdown",
      "metadata": {
        "id": "fvfU_23RPiMh"
      },
      "source": [
        "\n",
        "\n",
        "> **Tokenizing**\n",
        "\n"
      ]
    },
    {
      "cell_type": "code",
      "metadata": {
        "id": "nSGiLqBKPfCg",
        "outputId": "4e3681b8-6ae9-4aa3-ac86-48b5a6dca77c",
        "colab": {
          "base_uri": "https://localhost:8080/"
        }
      },
      "source": [
        "df['Processed_Tweet'] = df['Processed_Tweet'].apply(lambda x: tokenizer.tokenize(x))\n",
        "df['Processed_Tweet']"
      ],
      "execution_count": 24,
      "outputs": [
        {
          "output_type": "execute_result",
          "data": {
            "text/plain": [
              "0      [please, keep, october, th, tweet, debate, pos...\n",
              "1      [good, collaboration, nitish, kumar, amp, yogi...\n",
              "3      [sixer, bihar, ljp, paswan, jdu, nitishkumar, ...\n",
              "4           [aiadmk, remember, pdp, jdu, next, ur, turn]\n",
              "6      [socialmedia, management, amp, advance, advert...\n",
              "                             ...                        \n",
              "147    [jd, u, supporters, attend, bihar, chief, mini...\n",
              "148    [jd, u, expels, mlc, supporting, daughter, ljp...\n",
              "149    [biharelections, never, red, green, tricolour,...\n",
              "151    [nitishkumar, bring, development, prosperity, ...\n",
              "152    [maybe, bihar, elect, one, foe, inorder, take,...\n",
              "Name: Processed_Tweet, Length: 123, dtype: object"
            ]
          },
          "metadata": {
            "tags": []
          },
          "execution_count": 24
        }
      ]
    },
    {
      "cell_type": "markdown",
      "metadata": {
        "id": "0nNvMOJ1P-QQ"
      },
      "source": [
        "\n",
        "\n",
        "> **Stemming**\n",
        "\n"
      ]
    },
    {
      "cell_type": "code",
      "metadata": {
        "id": "BTz79clVP6bw",
        "outputId": "1b2be66d-3223-4e13-ee26-edf209156e3f",
        "colab": {
          "base_uri": "https://localhost:8080/"
        }
      },
      "source": [
        "def lemmatize_stemming(text):\n",
        "    stemmer=PorterStemmer()\n",
        "    return stemmer.stem(text)\n",
        "df['Processed_Tweet'] = df['Processed_Tweet'].apply(lambda x: [lemmatize_stemming(i) for i in x]) # stemming\n",
        "df['Processed_Tweet']"
      ],
      "execution_count": 25,
      "outputs": [
        {
          "output_type": "execute_result",
          "data": {
            "text/plain": [
              "0      [pleas, keep, octob, th, tweet, debat, postpol...\n",
              "1      [good, collabor, nitish, kumar, amp, yogi, aad...\n",
              "3      [sixer, bihar, ljp, paswan, jdu, nitishkumar, ...\n",
              "4             [aiadmk, rememb, pdp, jdu, next, ur, turn]\n",
              "6      [socialmedia, manag, amp, advanc, advertis, st...\n",
              "                             ...                        \n",
              "147    [jd, u, support, attend, bihar, chief, minist,...\n",
              "148    [jd, u, expel, mlc, support, daughter, ljp, ca...\n",
              "149    [biharelect, never, red, green, tricolour, fla...\n",
              "151    [nitishkumar, bring, develop, prosper, bihar, ...\n",
              "152    [mayb, bihar, elect, one, foe, inord, take, an...\n",
              "Name: Processed_Tweet, Length: 123, dtype: object"
            ]
          },
          "metadata": {
            "tags": []
          },
          "execution_count": 25
        }
      ]
    },
    {
      "cell_type": "code",
      "metadata": {
        "id": "AZmG318XQZjK",
        "outputId": "b2fd5aa1-f4f5-4ea2-bebf-e7606762d21f",
        "colab": {
          "base_uri": "https://localhost:8080/",
          "height": 486
        }
      },
      "source": [
        "df['Processed_Tweet'] = df.Processed_Tweet.apply(lambda x: [i for i in x if len(i)>2])\n",
        "df"
      ],
      "execution_count": 26,
      "outputs": [
        {
          "output_type": "execute_result",
          "data": {
            "text/html": [
              "<div>\n",
              "<style scoped>\n",
              "    .dataframe tbody tr th:only-of-type {\n",
              "        vertical-align: middle;\n",
              "    }\n",
              "\n",
              "    .dataframe tbody tr th {\n",
              "        vertical-align: top;\n",
              "    }\n",
              "\n",
              "    .dataframe thead th {\n",
              "        text-align: right;\n",
              "    }\n",
              "</style>\n",
              "<table border=\"1\" class=\"dataframe\">\n",
              "  <thead>\n",
              "    <tr style=\"text-align: right;\">\n",
              "      <th></th>\n",
              "      <th>Tweet</th>\n",
              "      <th>Processed_Tweet</th>\n",
              "    </tr>\n",
              "  </thead>\n",
              "  <tbody>\n",
              "    <tr>\n",
              "      <th>0</th>\n",
              "      <td>Please keep my October 5th, 2020 tweet to deba...</td>\n",
              "      <td>[pleas, keep, octob, tweet, debat, postpol, ac...</td>\n",
              "    </tr>\n",
              "    <tr>\n",
              "      <th>1</th>\n",
              "      <td>Not all good in collaboration. \\nNitish Kumar ...</td>\n",
              "      <td>[good, collabor, nitish, kumar, amp, yogi, aad...</td>\n",
              "    </tr>\n",
              "    <tr>\n",
              "      <th>3</th>\n",
              "      <td>@AmitShah a sixer in #bihar #ljp #paswan #jdu ...</td>\n",
              "      <td>[sixer, bihar, ljp, paswan, jdu, nitishkumar, ...</td>\n",
              "    </tr>\n",
              "    <tr>\n",
              "      <th>4</th>\n",
              "      <td>@PTI_News #AIADMK  should remember #PDP,#Akali...</td>\n",
              "      <td>[aiadmk, rememb, pdp, jdu, next, turn]</td>\n",
              "    </tr>\n",
              "    <tr>\n",
              "      <th>6</th>\n",
              "      <td>Will #SocialMedia management &amp;amp; advance adv...</td>\n",
              "      <td>[socialmedia, manag, amp, advanc, advertis, st...</td>\n",
              "    </tr>\n",
              "    <tr>\n",
              "      <th>...</th>\n",
              "      <td>...</td>\n",
              "      <td>...</td>\n",
              "    </tr>\n",
              "    <tr>\n",
              "      <th>147</th>\n",
              "      <td>JD-U supporters attend Bihar Chief Ministers e...</td>\n",
              "      <td>[support, attend, bihar, chief, minist, elect,...</td>\n",
              "    </tr>\n",
              "    <tr>\n",
              "      <th>148</th>\n",
              "      <td>JD-U expels MLC for supporting daughter, who i...</td>\n",
              "      <td>[expel, mlc, support, daughter, ljp, candid, j...</td>\n",
              "    </tr>\n",
              "    <tr>\n",
              "      <th>149</th>\n",
              "      <td>#BiharElections : Never before have red, green...</td>\n",
              "      <td>[biharelect, never, red, green, tricolour, fla...</td>\n",
              "    </tr>\n",
              "    <tr>\n",
              "      <th>151</th>\n",
              "      <td>@rssurjewala @INCIndia #NitishKumar didn't bri...</td>\n",
              "      <td>[nitishkumar, bring, develop, prosper, bihar, ...</td>\n",
              "    </tr>\n",
              "    <tr>\n",
              "      <th>152</th>\n",
              "      <td>Maybe Bihar elect one FOE inorder to take down...</td>\n",
              "      <td>[mayb, bihar, elect, one, foe, inord, take, an...</td>\n",
              "    </tr>\n",
              "  </tbody>\n",
              "</table>\n",
              "<p>123 rows × 2 columns</p>\n",
              "</div>"
            ],
            "text/plain": [
              "                                                 Tweet                                    Processed_Tweet\n",
              "0    Please keep my October 5th, 2020 tweet to deba...  [pleas, keep, octob, tweet, debat, postpol, ac...\n",
              "1    Not all good in collaboration. \\nNitish Kumar ...  [good, collabor, nitish, kumar, amp, yogi, aad...\n",
              "3    @AmitShah a sixer in #bihar #ljp #paswan #jdu ...  [sixer, bihar, ljp, paswan, jdu, nitishkumar, ...\n",
              "4    @PTI_News #AIADMK  should remember #PDP,#Akali...             [aiadmk, rememb, pdp, jdu, next, turn]\n",
              "6    Will #SocialMedia management &amp; advance adv...  [socialmedia, manag, amp, advanc, advertis, st...\n",
              "..                                                 ...                                                ...\n",
              "147  JD-U supporters attend Bihar Chief Ministers e...  [support, attend, bihar, chief, minist, elect,...\n",
              "148  JD-U expels MLC for supporting daughter, who i...  [expel, mlc, support, daughter, ljp, candid, j...\n",
              "149  #BiharElections : Never before have red, green...  [biharelect, never, red, green, tricolour, fla...\n",
              "151  @rssurjewala @INCIndia #NitishKumar didn't bri...  [nitishkumar, bring, develop, prosper, bihar, ...\n",
              "152  Maybe Bihar elect one FOE inorder to take down...  [mayb, bihar, elect, one, foe, inord, take, an...\n",
              "\n",
              "[123 rows x 2 columns]"
            ]
          },
          "metadata": {
            "tags": []
          },
          "execution_count": 26
        }
      ]
    },
    {
      "cell_type": "code",
      "metadata": {
        "id": "PPGrXrlnROXS",
        "outputId": "d0be3ccf-85dd-4b6e-e30f-094db5769cee",
        "colab": {
          "base_uri": "https://localhost:8080/"
        }
      },
      "source": [
        "texts = []\n",
        "texts = df.Processed_Tweet.apply(lambda x: [i for i in x] )\n",
        "all_words = []\n",
        "for i in texts:\n",
        "    all_words.append(\" \".join(i))\n",
        "text = []\n",
        "for i in texts:\n",
        "    for j in i:\n",
        "        text.append(j)\n",
        "len(text)"
      ],
      "execution_count": 27,
      "outputs": [
        {
          "output_type": "execute_result",
          "data": {
            "text/plain": [
              "1235"
            ]
          },
          "metadata": {
            "tags": []
          },
          "execution_count": 27
        }
      ]
    },
    {
      "cell_type": "code",
      "metadata": {
        "id": "BUUUUHyNRXus"
      },
      "source": [
        "wordcloud = WordCloud(width=800, height=500, random_state=21, max_font_size=110).generate(' '.join(text))"
      ],
      "execution_count": 29,
      "outputs": []
    },
    {
      "cell_type": "code",
      "metadata": {
        "id": "RCoqhtzjRdIz",
        "outputId": "96f581b1-2eb2-4125-dae6-45995796555f",
        "colab": {
          "base_uri": "https://localhost:8080/",
          "height": 456
        }
      },
      "source": [
        "plt.figure(figsize = (12, 12), facecolor=\"None\") \n",
        "plt.imshow(wordcloud,interpolation='bilinear') \n",
        "plt.axis(\"off\") \n",
        "plt.title(\"WordCloud of bjp bihar elections 2020 Tweets\")\n",
        "plt.show()"
      ],
      "execution_count": 30,
      "outputs": [
        {
          "output_type": "display_data",
          "data": {
            "image/png": "[encoded data removed]",
            "text/plain": [
              "<Figure size 864x864 with 1 Axes>"
            ]
          },
          "metadata": {
            "tags": [],
            "needs_background": "light"
          }
        }
      ]
    },
    {
      "cell_type": "markdown",
      "metadata": {
        "id": "G782TZfUR23C"
      },
      "source": [
        "# **Sentiment Analysis**"
      ]
    },
    {
      "cell_type": "code",
      "metadata": {
        "id": "loTUY1UqRkW2"
      },
      "source": [
        "from textblob import TextBlob"
      ],
      "execution_count": 31,
      "outputs": []
    },
    {
      "cell_type": "code",
      "metadata": {
        "id": "keifQ1JpR9IK",
        "outputId": "42494f71-006c-4ad3-ddc1-7425167d7173",
        "colab": {
          "base_uri": "https://localhost:8080/"
        }
      },
      "source": [
        "pol=[]\n",
        "for Tweet in all_words:\n",
        "    blob = TextBlob(Tweet)\n",
        "    pol.append(blob.sentiment.polarity)\n",
        "len(pol)"
      ],
      "execution_count": 32,
      "outputs": [
        {
          "output_type": "execute_result",
          "data": {
            "text/plain": [
              "123"
            ]
          },
          "metadata": {
            "tags": []
          },
          "execution_count": 32
        }
      ]
    },
    {
      "cell_type": "code",
      "metadata": {
        "id": "ksWTgRRPSC2_",
        "outputId": "bff4f81a-d59b-48a4-c2dc-40a8c84b6e51",
        "colab": {
          "base_uri": "https://localhost:8080/"
        }
      },
      "source": [
        "df['Processed_Tweet']"
      ],
      "execution_count": 33,
      "outputs": [
        {
          "output_type": "execute_result",
          "data": {
            "text/plain": [
              "0      [pleas, keep, octob, tweet, debat, postpol, ac...\n",
              "1      [good, collabor, nitish, kumar, amp, yogi, aad...\n",
              "3      [sixer, bihar, ljp, paswan, jdu, nitishkumar, ...\n",
              "4                 [aiadmk, rememb, pdp, jdu, next, turn]\n",
              "6      [socialmedia, manag, amp, advanc, advertis, st...\n",
              "                             ...                        \n",
              "147    [support, attend, bihar, chief, minist, elect,...\n",
              "148    [expel, mlc, support, daughter, ljp, candid, j...\n",
              "149    [biharelect, never, red, green, tricolour, fla...\n",
              "151    [nitishkumar, bring, develop, prosper, bihar, ...\n",
              "152    [mayb, bihar, elect, one, foe, inord, take, an...\n",
              "Name: Processed_Tweet, Length: 123, dtype: object"
            ]
          },
          "metadata": {
            "tags": []
          },
          "execution_count": 33
        }
      ]
    },
    {
      "cell_type": "code",
      "metadata": {
        "id": "fmTTlKy0SGyM",
        "outputId": "5d97105c-96cb-4bee-a219-87acb97007ef",
        "colab": {
          "base_uri": "https://localhost:8080/"
        }
      },
      "source": [
        "positive=0\n",
        "negative=0\n",
        "neutral=0\n",
        "for i in pol:\n",
        "    if i>0:\n",
        "        positive+=1\n",
        "    elif i<0:\n",
        "        negative+=1\n",
        "    else:\n",
        "        neutral+=1\n",
        "print(\"Positive Tweets:\",positive)\n",
        "print(\"Negative Tweets:\",negative)\n",
        "print(\"Neutral Tweets\",neutral)"
      ],
      "execution_count": 34,
      "outputs": [
        {
          "output_type": "stream",
          "text": [
            "Positive Tweets: 45\n",
            "Negative Tweets: 12\n",
            "Neutral Tweets 66\n"
          ],
          "name": "stdout"
        }
      ]
    },
    {
      "cell_type": "markdown",
      "metadata": {
        "id": "1j4Vj8ChTDkE"
      },
      "source": [
        "\n",
        "\n",
        "```\n",
        "Classifying Tweets As Positive,Negetive and Neutral\n",
        "```\n",
        "\n"
      ]
    },
    {
      "cell_type": "code",
      "metadata": {
        "id": "xZaZrx3FTNEL",
        "outputId": "659db4f6-441c-4095-ac4a-25f44d35c7c6",
        "colab": {
          "base_uri": "https://localhost:8080/"
        }
      },
      "source": [
        "nltk.download('vader_lexicon')"
      ],
      "execution_count": 35,
      "outputs": [
        {
          "output_type": "stream",
          "text": [
            "[nltk_data] Downloading package vader_lexicon to /root/nltk_data...\n"
          ],
          "name": "stdout"
        },
        {
          "output_type": "execute_result",
          "data": {
            "text/plain": [
              "True"
            ]
          },
          "metadata": {
            "tags": []
          },
          "execution_count": 35
        }
      ]
    },
    {
      "cell_type": "code",
      "metadata": {
        "id": "dgAXodKuTWsH",
        "outputId": "955098c7-3435-4e04-fb1a-cb9531924604",
        "colab": {
          "base_uri": "https://localhost:8080/",
          "height": 455
        }
      },
      "source": [
        "from nltk.sentiment.vader import SentimentIntensityAnalyzer\n",
        "sid = SentimentIntensityAnalyzer()\n",
        "sentiment_scores= []\n",
        "for i in all_words:\n",
        "    sentiment_scores.append([sid.polarity_scores(i)])\n",
        "value = []\n",
        "for i in sentiment_scores:\n",
        "    for dict1 in i:\n",
        "        value.append(list(dict1.values()))\n",
        "sentimental_score_df = pd.DataFrame(data = value, columns = ['Negative','Neutral','Positive','Compound'])\n",
        "sentimental_score_df"
      ],
      "execution_count": 36,
      "outputs": [
        {
          "output_type": "stream",
          "text": [
            "/usr/local/lib/python3.6/dist-packages/nltk/twitter/__init__.py:20: UserWarning: The twython library has not been installed. Some functionality from the twitter package will not be available.\n",
            "  warnings.warn(\"The twython library has not been installed. \"\n"
          ],
          "name": "stderr"
        },
        {
          "output_type": "execute_result",
          "data": {
            "text/html": [
              "<div>\n",
              "<style scoped>\n",
              "    .dataframe tbody tr th:only-of-type {\n",
              "        vertical-align: middle;\n",
              "    }\n",
              "\n",
              "    .dataframe tbody tr th {\n",
              "        vertical-align: top;\n",
              "    }\n",
              "\n",
              "    .dataframe thead th {\n",
              "        text-align: right;\n",
              "    }\n",
              "</style>\n",
              "<table border=\"1\" class=\"dataframe\">\n",
              "  <thead>\n",
              "    <tr style=\"text-align: right;\">\n",
              "      <th></th>\n",
              "      <th>Negative</th>\n",
              "      <th>Neutral</th>\n",
              "      <th>Positive</th>\n",
              "      <th>Compound</th>\n",
              "    </tr>\n",
              "  </thead>\n",
              "  <tbody>\n",
              "    <tr>\n",
              "      <th>0</th>\n",
              "      <td>0.000</td>\n",
              "      <td>1.000</td>\n",
              "      <td>0.000</td>\n",
              "      <td>0.0000</td>\n",
              "    </tr>\n",
              "    <tr>\n",
              "      <th>1</th>\n",
              "      <td>0.000</td>\n",
              "      <td>0.734</td>\n",
              "      <td>0.266</td>\n",
              "      <td>0.4404</td>\n",
              "    </tr>\n",
              "    <tr>\n",
              "      <th>2</th>\n",
              "      <td>0.304</td>\n",
              "      <td>0.696</td>\n",
              "      <td>0.000</td>\n",
              "      <td>-0.5423</td>\n",
              "    </tr>\n",
              "    <tr>\n",
              "      <th>3</th>\n",
              "      <td>0.000</td>\n",
              "      <td>1.000</td>\n",
              "      <td>0.000</td>\n",
              "      <td>0.0000</td>\n",
              "    </tr>\n",
              "    <tr>\n",
              "      <th>4</th>\n",
              "      <td>0.000</td>\n",
              "      <td>0.787</td>\n",
              "      <td>0.213</td>\n",
              "      <td>0.4019</td>\n",
              "    </tr>\n",
              "    <tr>\n",
              "      <th>...</th>\n",
              "      <td>...</td>\n",
              "      <td>...</td>\n",
              "      <td>...</td>\n",
              "      <td>...</td>\n",
              "    </tr>\n",
              "    <tr>\n",
              "      <th>118</th>\n",
              "      <td>0.000</td>\n",
              "      <td>0.722</td>\n",
              "      <td>0.278</td>\n",
              "      <td>0.4019</td>\n",
              "    </tr>\n",
              "    <tr>\n",
              "      <th>119</th>\n",
              "      <td>0.230</td>\n",
              "      <td>0.556</td>\n",
              "      <td>0.214</td>\n",
              "      <td>-0.0516</td>\n",
              "    </tr>\n",
              "    <tr>\n",
              "      <th>120</th>\n",
              "      <td>0.000</td>\n",
              "      <td>1.000</td>\n",
              "      <td>0.000</td>\n",
              "      <td>0.0000</td>\n",
              "    </tr>\n",
              "    <tr>\n",
              "      <th>121</th>\n",
              "      <td>0.000</td>\n",
              "      <td>1.000</td>\n",
              "      <td>0.000</td>\n",
              "      <td>0.0000</td>\n",
              "    </tr>\n",
              "    <tr>\n",
              "      <th>122</th>\n",
              "      <td>0.420</td>\n",
              "      <td>0.580</td>\n",
              "      <td>0.000</td>\n",
              "      <td>-0.7003</td>\n",
              "    </tr>\n",
              "  </tbody>\n",
              "</table>\n",
              "<p>123 rows × 4 columns</p>\n",
              "</div>"
            ],
            "text/plain": [
              "     Negative  Neutral  Positive  Compound\n",
              "0       0.000    1.000     0.000    0.0000\n",
              "1       0.000    0.734     0.266    0.4404\n",
              "2       0.304    0.696     0.000   -0.5423\n",
              "3       0.000    1.000     0.000    0.0000\n",
              "4       0.000    0.787     0.213    0.4019\n",
              "..        ...      ...       ...       ...\n",
              "118     0.000    0.722     0.278    0.4019\n",
              "119     0.230    0.556     0.214   -0.0516\n",
              "120     0.000    1.000     0.000    0.0000\n",
              "121     0.000    1.000     0.000    0.0000\n",
              "122     0.420    0.580     0.000   -0.7003\n",
              "\n",
              "[123 rows x 4 columns]"
            ]
          },
          "metadata": {
            "tags": []
          },
          "execution_count": 36
        }
      ]
    },
    {
      "cell_type": "code",
      "metadata": {
        "id": "FT-AcZ8VTZ-h",
        "outputId": "5c68eb3e-235c-44d2-c2e1-eea092c5b6c6",
        "colab": {
          "base_uri": "https://localhost:8080/",
          "height": 195
        }
      },
      "source": [
        "sentimental_score_df['val'] = sentimental_score_df['Compound'].apply(lambda x: 'Neutral' if x == 0 else ('Positive' if x > 0 else 'Negative'))\n",
        "sentimental_score_df.head()"
      ],
      "execution_count": 37,
      "outputs": [
        {
          "output_type": "execute_result",
          "data": {
            "text/html": [
              "<div>\n",
              "<style scoped>\n",
              "    .dataframe tbody tr th:only-of-type {\n",
              "        vertical-align: middle;\n",
              "    }\n",
              "\n",
              "    .dataframe tbody tr th {\n",
              "        vertical-align: top;\n",
              "    }\n",
              "\n",
              "    .dataframe thead th {\n",
              "        text-align: right;\n",
              "    }\n",
              "</style>\n",
              "<table border=\"1\" class=\"dataframe\">\n",
              "  <thead>\n",
              "    <tr style=\"text-align: right;\">\n",
              "      <th></th>\n",
              "      <th>Negative</th>\n",
              "      <th>Neutral</th>\n",
              "      <th>Positive</th>\n",
              "      <th>Compound</th>\n",
              "      <th>val</th>\n",
              "    </tr>\n",
              "  </thead>\n",
              "  <tbody>\n",
              "    <tr>\n",
              "      <th>0</th>\n",
              "      <td>0.000</td>\n",
              "      <td>1.000</td>\n",
              "      <td>0.000</td>\n",
              "      <td>0.0000</td>\n",
              "      <td>Neutral</td>\n",
              "    </tr>\n",
              "    <tr>\n",
              "      <th>1</th>\n",
              "      <td>0.000</td>\n",
              "      <td>0.734</td>\n",
              "      <td>0.266</td>\n",
              "      <td>0.4404</td>\n",
              "      <td>Positive</td>\n",
              "    </tr>\n",
              "    <tr>\n",
              "      <th>2</th>\n",
              "      <td>0.304</td>\n",
              "      <td>0.696</td>\n",
              "      <td>0.000</td>\n",
              "      <td>-0.5423</td>\n",
              "      <td>Negative</td>\n",
              "    </tr>\n",
              "    <tr>\n",
              "      <th>3</th>\n",
              "      <td>0.000</td>\n",
              "      <td>1.000</td>\n",
              "      <td>0.000</td>\n",
              "      <td>0.0000</td>\n",
              "      <td>Neutral</td>\n",
              "    </tr>\n",
              "    <tr>\n",
              "      <th>4</th>\n",
              "      <td>0.000</td>\n",
              "      <td>0.787</td>\n",
              "      <td>0.213</td>\n",
              "      <td>0.4019</td>\n",
              "      <td>Positive</td>\n",
              "    </tr>\n",
              "  </tbody>\n",
              "</table>\n",
              "</div>"
            ],
            "text/plain": [
              "   Negative  Neutral  Positive  Compound       val\n",
              "0     0.000    1.000     0.000    0.0000   Neutral\n",
              "1     0.000    0.734     0.266    0.4404  Positive\n",
              "2     0.304    0.696     0.000   -0.5423  Negative\n",
              "3     0.000    1.000     0.000    0.0000   Neutral\n",
              "4     0.000    0.787     0.213    0.4019  Positive"
            ]
          },
          "metadata": {
            "tags": []
          },
          "execution_count": 37
        }
      ]
    },
    {
      "cell_type": "code",
      "metadata": {
        "id": "_rDLXolnTfye",
        "outputId": "4cedac5f-5bcf-411f-ff94-1d0c242b04e4",
        "colab": {
          "base_uri": "https://localhost:8080/",
          "height": 296
        }
      },
      "source": [
        "sent_count = pd.DataFrame.from_dict(Counter(sentimental_score_df['val']), orient = 'index').reset_index()\n",
        "sent_count.columns = ['sentiment', 'count']\n",
        "\n",
        "sns.barplot(y=\"count\", x='sentiment', data=sent_count)"
      ],
      "execution_count": 38,
      "outputs": [
        {
          "output_type": "execute_result",
          "data": {
            "text/plain": [
              "<matplotlib.axes._subplots.AxesSubplot at 0x7f845f079ac8>"
            ]
          },
          "metadata": {
            "tags": []
          },
          "execution_count": 38
        },
        {
          "output_type": "display_data",
          "data": {
            "image/png": "[encoded data removed]",
            "text/plain": [
              "<Figure size 432x288 with 1 Axes>"
            ]
          },
          "metadata": {
            "tags": [],
            "needs_background": "light"
          }
        }
      ]
    }
  ]
}