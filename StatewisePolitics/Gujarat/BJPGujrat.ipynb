{
  "nbformat": 4,
  "nbformat_minor": 0,
  "metadata": {
    "colab": {
      "name": "Welcome To Colaboratory",
      "provenance": [],
      "collapsed_sections": [],
      "toc_visible": true,
      "include_colab_link": true
    },
    "kernelspec": {
      "display_name": "Python 3",
      "name": "python3"
    }
  },
  "cells": [
    {
      "cell_type": "markdown",
      "metadata": {
        "id": "view-in-github",
        "colab_type": "text"
      },
      "source": [
        "<a href=\"https://colab.research.google.com/github/raishagun/Election-Prediction/blob/master/StatewisePolitics/Gujarat/BJPGujrat.ipynb\" target=\"_parent\"><img src=\"https://colab.research.google.com/assets/colab-badge.svg\" alt=\"Open In Colab\"/></a>"
      ]
    },
    {
      "cell_type": "code",
      "metadata": {
        "id": "kVfRDc2GgRqk",
        "colab": {
          "base_uri": "https://localhost:8080/"
        },
        "outputId": "cc0213ba-09f1-4b27-e965-eeb1965de9f2"
      },
      "source": [
        "!git clone https://github.com/raishagun/Election-Prediction.git"
      ],
      "execution_count": 1,
      "outputs": [
        {
          "output_type": "stream",
          "text": [
            "Cloning into 'Election-Prediction'...\n",
            "remote: Enumerating objects: 37, done.\u001b[K\n",
            "remote: Counting objects: 100% (37/37), done.\u001b[K\n",
            "remote: Compressing objects: 100% (36/36), done.\u001b[K\n",
            "remote: Total 452 (delta 12), reused 0 (delta 0), pack-reused 415\u001b[K\n",
            "Receiving objects: 100% (452/452), 21.38 MiB | 38.75 MiB/s, done.\n",
            "Resolving deltas: 100% (179/179), done.\n"
          ],
          "name": "stdout"
        }
      ]
    },
    {
      "cell_type": "code",
      "metadata": {
        "id": "MrUePyosg9GN",
        "colab": {
          "base_uri": "https://localhost:8080/"
        },
        "outputId": "9206c84d-d971-48a5-c644-3e92cfd1a444"
      },
      "source": [
        "import tweepy \n",
        "import pandas as pd\n",
        "from tweepy import OAuthHandler\n",
        "\n",
        "\n",
        "access_token=\"1289037463684489217-5PddOsmU9h5deRwOhdigvhg32FEgID\"\n",
        "access_token_secret=\"cAPevFduWkiNP3juu8WGAwZm69vgv8C4s8RPz0WE8MJFK\"\n",
        "\n",
        "consumer_key=\"DLhoHkK6uOGz3Ni9ybuoruiLm\"\n",
        "consumer_secret=\"jKyrDR68msnbmgZMNNJdSJwadGoed11imKV1jdlNYNczL9HvEk\"\n",
        "\n",
        "auth = tweepy.OAuthHandler(consumer_key, consumer_secret)  # authentication of access token and secret \n",
        "auth.set_access_token(access_token, access_token_secret) \n",
        "api = tweepy.API(auth,wait_on_rate_limit = True)\n",
        "\n",
        "\n",
        "date1 = \"2020-11-01\"  #Date from which you need to extract tweets\n",
        "date2 = \"2020-11-22\"  #Date till when you need to extract tweets\n",
        "\n",
        "date =[]\n",
        "user_id = []\n",
        "verified = []\n",
        "text = []\n",
        "user = []\n",
        "location = []\n",
        "source = []\n",
        "likes = []\n",
        "followers = []\n",
        "following = []\n",
        "retweets = []\n",
        "\n",
        "def get_tweets(date1,date2,word):\n",
        "    count = 0\n",
        "    for tweet in tweepy.Cursor(api.search , q=word,count =1000,lang=\"en\",since_id = date1,until = date2,tweet_mode = 'extended').items():\n",
        "        print(tweet.created_at)  #Date at which it was tweet\n",
        "        date.append(tweet.created_at)\n",
        "        print(tweet.id)          #Unique ID of tweet\n",
        "        user_id.append(tweet.id)\n",
        "        print(tweet.user.verified)   #If user who tweet is verified or not\n",
        "        verified.append(tweet.user.verified)\n",
        "        print(tweet.full_text)   #To get full text of the tweet\n",
        "        text.append(tweet.full_text)\n",
        "        print(tweet.user.screen_name)  #User screen name\n",
        "        user.append(tweet.user.screen_name)\n",
        "        print(tweet.user.location)     #Location from where the tweet came\n",
        "        location.append(tweet.user.location)\n",
        "        print(tweet.source)            #Which twitter application was used to tweet\n",
        "        source.append(tweet.source)\n",
        "        print(tweet.favorite_count)     #Number of likes on the tweet\n",
        "        likes.append(tweet.favorite_count)\n",
        "        print(tweet.user.followers_count)    #Number of followers of the user\n",
        "        followers.append(tweet.user.followers_count)\n",
        "        print(tweet.user.friends_count)      #Number of following by the user\n",
        "        following.append(tweet.user.friends_count)\n",
        "        print(tweet.retweet_count)               #Number of the retweets of the original tweet\n",
        "        retweets.append(tweet.retweet_count)\n",
        "    \n",
        "        print('<--------------------------------------------------->')\n",
        "        count+=1\n",
        "        print(count)\n",
        "    \n",
        "get_tweets(date1,date2,\"bjp gujrat\"+\" -filter:retweets\") #Filtering out retweets to avoid duplication\n",
        "\n",
        "data = list(zip(date,user_id,verified,text,user,location,source,likes,followers,following,retweets))\n",
        "df = pd.DataFrame(data =data, columns =[\"Date\",\"Tweet_id\",\"Verified\",\"Tweet\",\n",
        "                                   \"User\",\"Location\",\"Source\",\"Likes\",\"Followers\",\"Following\",\"Retweets\"])\n",
        "\n",
        "           \n",
        "df.to_csv('bjp_gujrat.csv',index = False)"
      ],
      "execution_count": 4,
      "outputs": [
        {
          "output_type": "stream",
          "text": [
            "2020-11-21 17:13:01\n",
            "1330197537739993091\n",
            "False\n",
            "Uttrakhand Election\n",
            "BJP - 70(Total Seats) - 31(Won)\n",
            "Congress - 70(Total Seats) - 32(Won)\n",
            "\n",
            "Uttar Pradesh Election\n",
            "BJP - 398(Total Seats) - 47(Won)\n",
            "Congress - 355(Total Seats) - 28(Won)\n",
            "\n",
            "Gujrat Election total Seats - 182\n",
            "BJP - 115(Won)\n",
            "Congress - 61(Won)\n",
            "Harishc94614675\n",
            "\n",
            "Twitter Web App\n",
            "0\n",
            "1\n",
            "63\n",
            "0\n",
            "<--------------------------------------------------->\n",
            "1\n",
            "2020-11-21 16:52:11\n",
            "1330192296390881282\n",
            "False\n",
            "@SaketGokhale @PriyankKharge Yes in 2014 when his was in-charge of UP , he got 73/80. In 2019 it was Bengal which made history. Maharashtra, Bihar, Karnataka, MP ,Haryana .. BJP managed to become  single largest party. Retained Gujrat. But for Saketji , our ULTRA youth leader should be the PM.\n",
            "bhasad__\n",
            "Mumbai\n",
            "Twitter for Android\n",
            "14\n",
            "4\n",
            "135\n",
            "0\n",
            "<--------------------------------------------------->\n",
            "2\n",
            "2020-11-21 16:48:25\n",
            "1330191345596706818\n",
            "False\n",
            "@84nanikiran @varunsankineni @KTRTRS @BJP4Telangana @BJYM4Andhra @SanggitaT @Arvindharmapuri @bandisanjay_bjp @aruna_dk @KolliMadhaviBJP @Imsrikantreddy @PradeepraoBJP @Pranaykongara BJP ruled States Are Filthy ? 3 cities from Gujrat comes under comes under top ten Swacch City.\n",
            "KirtanHora\n",
            "India\n",
            "Twitter for Android\n",
            "0\n",
            "75\n",
            "319\n",
            "0\n",
            "<--------------------------------------------------->\n",
            "3\n",
            "2020-11-21 15:40:49\n",
            "1330174333457666049\n",
            "False\n",
            "@aajtak @journovidya BJP shall give real challenge as Bengal will open up by their rule in state like UP &amp; shall progress like Gujrat/UP state.This state can't run like old times of CPI as today, TMC is following same footstepsbof old times as going to damage themselves\n",
            "VasudevSeth\n",
            "\n",
            "Twitter for Android\n",
            "0\n",
            "25\n",
            "119\n",
            "0\n",
            "<--------------------------------------------------->\n",
            "4\n",
            "2020-11-21 15:40:36\n",
            "1330174278688518147\n",
            "False\n",
            "@aajtak @AkhileshPSingh @sambitswaraj @anjanaomkashyap BJP shall give real challenge as Bengal will open up by their rule in state like UP &amp; shall progress like Gujrat/UP state.This state can't run like old times of CPI as today, TMC is following same footstepsbof old times as going to damage themselves\n",
            "VasudevSeth\n",
            "\n",
            "Twitter for Android\n",
            "0\n",
            "25\n",
            "119\n",
            "0\n",
            "<--------------------------------------------------->\n",
            "5\n",
            "2020-11-21 15:40:14\n",
            "1330174186552250370\n",
            "False\n",
            "@aajtak BJP shall give real challenge as Bengal will open up by their rule in state like UP &amp; shall progress like Gujrat/UP state.This state can't run like old times of CPI as today, TMC is following same footstepsbof old times as going to damage themselves\n",
            "VasudevSeth\n",
            "\n",
            "Twitter for Android\n",
            "0\n",
            "25\n",
            "119\n",
            "0\n",
            "<--------------------------------------------------->\n",
            "6\n",
            "2020-11-21 15:39:35\n",
            "1330174025465802758\n",
            "False\n",
            "@narendramodi BJP shall give real challenge as Bengal will open up by their rule in state like UP &amp; shall progress like Gujrat/UP state.This state can't run like old times of CPI as today, TMC is following same footstepsbof old times as going to damage themselves\n",
            "VasudevSeth\n",
            "\n",
            "Twitter for Android\n",
            "0\n",
            "25\n",
            "119\n",
            "0\n",
            "<--------------------------------------------------->\n",
            "7\n",
            "2020-11-21 15:39:23\n",
            "1330173975184494592\n",
            "False\n",
            "@indiatvnews BJP shall give real challenge as Bengal will open up by their rule in state like UP &amp; shall progress like Gujrat/UP state.This state can't run like old times of CPI as today, TMC is following same footstepsbof old times as going to damage themselves\n",
            "VasudevSeth\n",
            "\n",
            "Twitter for Android\n",
            "0\n",
            "25\n",
            "119\n",
            "0\n",
            "<--------------------------------------------------->\n",
            "8\n",
            "2020-11-21 15:38:59\n",
            "1330173874470866951\n",
            "False\n",
            "@aajtak @PoulomiMSaha BJP shall give real challenge as Bengal will open up by their rule in state like UP &amp; shall progress like Gujrat/UP state.This state can't run like old times of CPI as today, TMC is following same footstepsbof old times as going to damage themselves\n",
            "VasudevSeth\n",
            "\n",
            "Twitter for Android\n",
            "0\n",
            "25\n",
            "119\n",
            "0\n",
            "<--------------------------------------------------->\n",
            "9\n",
            "2020-11-21 15:37:37\n",
            "1330173531477434370\n",
            "False\n",
            "@aajtak @chitraaum BJP shall give real challenge as Bengal will open up by their rule in state like UP &amp; shall progress like Gujrat/UP state.This state can't run like old times of CPI as today, TMC is following same footstepsbof old times as going to damage themselves\n",
            "VasudevSeth\n",
            "\n",
            "Twitter for Android\n",
            "0\n",
            "25\n",
            "119\n",
            "0\n",
            "<--------------------------------------------------->\n",
            "10\n",
            "2020-11-21 15:37:30\n",
            "1330173498715754504\n",
            "False\n",
            "@timesofindia BJP shall give real challenge as Bengal will open up by their rule in state like UP &amp; shall progress like Gujrat/UP state.This state can't run like old times of CPI as today, TMC is following same footstepsbof old times as going to damage themselves\n",
            "VasudevSeth\n",
            "\n",
            "Twitter for Android\n",
            "0\n",
            "25\n",
            "119\n",
            "0\n",
            "<--------------------------------------------------->\n",
            "11\n",
            "2020-11-21 14:27:53\n",
            "1330155981892956164\n",
            "False\n",
            "@Adithyak8977 @Aayash910 @timesofindia @BJP4India @FinMinIndia Yes please call everyone illiterate who votes for BJP. MH, Delhi, Gujrat, etc are also illiterate that have chosen BJP during national elections.\n",
            "But guess what, It's democracy, not a communist rule, every citizen has a voice.\n",
            "RealSourcasm\n",
            "Cloud 9\n",
            "Twitter Web App\n",
            "1\n",
            "3245\n",
            "47\n",
            "0\n",
            "<--------------------------------------------------->\n",
            "12\n",
            "2020-11-21 14:15:44\n",
            "1330152923708477441\n",
            "False\n",
            "@ANI @AmitShah What about BJP ruling states like Gujrat, Himachal, UP, Bihar, Haryana etc....are they failed to get top three position....\n",
            "imanoj11\n",
            "Bahraich\n",
            "Twitter for Android\n",
            "1\n",
            "234\n",
            "1186\n",
            "0\n",
            "<--------------------------------------------------->\n",
            "13\n",
            "2020-11-21 13:59:12\n",
            "1330148763487391752\n",
            "False\n",
            "The stark reality is even in BJP ruled states like Gujrat, MP, UP,Bihar etc..Hindus esp Brahmins are vilified and made a scapegoat for all past and present problems \n",
            "Why not discuss about JIHAD AND ITS ROOT..ITS SOURCE OF INSPIRATION for a change?\n",
            "@SudhanshuTrived @AshwiniBJP\n",
            "Parashar108\n",
            "\n",
            "Twitter for Android\n",
            "2\n",
            "760\n",
            "315\n",
            "0\n",
            "<--------------------------------------------------->\n",
            "14\n",
            "2020-11-21 13:52:55\n",
            "1330147180519288842\n",
            "False\n",
            "@thewire_in @IsmatAraa Muslims eating Biryani n going to sleep.BJP busy planning to supress muslims under its Gujrat model.\n",
            "maqdoom1786\n",
            "Mumbai, India\n",
            "Twitter for Android\n",
            "0\n",
            "22\n",
            "200\n",
            "0\n",
            "<--------------------------------------------------->\n",
            "15\n",
            "2020-11-21 13:10:31\n",
            "1330136509761150976\n",
            "False\n",
            "#AnandibenPatel: Wishing Heartiest Congratulations, Blessings To Sr. Leader #BJP, #Pathmaker, Ex CM #Gujrat, Governor UP &amp; MP H'ble #AnandibenPatel On Her Birth Anniversary. May God Almighty Shower 🚿 His All Blessings On Her &amp; Give Long Healthy Energetic Life To Serve Nation. https://t.co/Fv9O6xvjrv\n",
            "Subhash09674808\n",
            "Lucknow, India\n",
            "Twitter for Android\n",
            "0\n",
            "1102\n",
            "1196\n",
            "0\n",
            "<--------------------------------------------------->\n",
            "16\n",
            "2020-11-21 13:06:37\n",
            "1330135529636106241\n",
            "False\n",
            "BJP promising to deliver Sonar Bangla in five years if elected. I wonder why they didn’t deliver Golden Gujrat in twenty-five years ,\n",
            "\n",
            "They had to build a wall to cover up slums during Trump's visit. yes or no @amitmalviya https://t.co/5BSl9WRok0\n",
            "gaganmyne\n",
            "india\n",
            "Twitter Web App\n",
            "0\n",
            "610\n",
            "257\n",
            "0\n",
            "<--------------------------------------------------->\n",
            "17\n",
            "2020-11-21 13:05:56\n",
            "1330135357296422915\n",
            "False\n",
            "@Sabie_21 @AmitShah U can’t say that , agar itna hi accha hota so Karnatak , goa , MP , rajshthan me sarkar nahi jati bjp ke hath se , even in gujrat . They won with very little margin\n",
            "ankitp0007\n",
            "Mumbai \n",
            "Twitter for iPhone\n",
            "0\n",
            "52\n",
            "195\n",
            "0\n",
            "<--------------------------------------------------->\n",
            "18\n",
            "2020-11-21 12:06:54\n",
            "1330120500467683331\n",
            "False\n",
            "@BrijeshNagar16 @srivatsayb @srinivasiyc @RahulGandhi @MamataOfficial @yadavtejashwi @ItsYourDev @priyankagandhi @BhimArmyChief Bilkul.\n",
            "1️⃣ Brazil\n",
            "2️⃣ Australia\n",
            "3️⃣India.\n",
            " As per FAS 363000 ton India ke gujrat se hi export hui hai aur ye exporter koi love zihad wala nahi HINDU hai. #bjp\n",
            "BabySingh99\n",
            "\n",
            "Twitter for Android\n",
            "4\n",
            "5380\n",
            "5313\n",
            "0\n",
            "<--------------------------------------------------->\n",
            "19\n",
            "2020-11-21 10:17:31\n",
            "1330092974286524419\n",
            "False\n",
            "BJP promising to deliver Sonar Bangla in five years if elected. I Wonder why they didn’t deliver Golden Gujrat in twenty five years,\n",
            "\n",
            "They had to build wall to cover up slums during Trump's visit.\n",
            "Deepkaran_INC\n",
            "Bhopal🔛Bengaluru,india\n",
            "Twitter for iPhone\n",
            "0\n",
            "771\n",
            "4727\n",
            "0\n",
            "<--------------------------------------------------->\n",
            "20\n",
            "2020-11-21 09:46:10\n",
            "1330085083802456064\n",
            "False\n",
            "@DhatrishD @SaketGokhale @arunbothra @indiacares_2020 @GoldmanSachs @MoodysInvSvc @dravirmani BJP promising to deliver Sonar Bangla in five years if elected. I Wonder why they didn’t deliver Golden Gujrat in twenty five years ,\n",
            "\n",
            "They had to build wall to cover up slums during Trump's visit.\n",
            "Yalkhulk\n",
            "India\n",
            "Twitter Web App\n",
            "0\n",
            "298\n",
            "372\n",
            "0\n",
            "<--------------------------------------------------->\n",
            "21\n",
            "2020-11-21 09:44:05\n",
            "1330084557895442432\n",
            "False\n",
            "#SPUpostpondexam\n",
            " Cancel offline exam and pospond exam date in December ending \n",
            "@imBhupendrasinh @SHIRISH41178356 @spunivgujarat @abvp_anand_ #bhupendrasinhchudasama #educationmatters\n",
            " @vijayrupanibjp\n",
            "#BJP #gujrat #vijayrupani https://t.co/0FrcyZCvtY https://t.co/9ichNVVOt9\n",
            "Kundan018\n",
            "India\n",
            "Twitter for Android\n",
            "3\n",
            "10\n",
            "42\n",
            "0\n",
            "<--------------------------------------------------->\n",
            "22\n",
            "2020-11-21 09:36:34\n",
            "1330082667556200448\n",
            "False\n",
            "@imBhupendrasinh @anandibenpatel #SPUpostpondexam\n",
            " Cancel offline exam and pospond exam date in December ending \n",
            "@imBhupendrasinh \n",
            "#BJP #gujrat #vijayrupani #NarendraModi\n",
            "Kundan018\n",
            "India\n",
            "Twitter for Android\n",
            "1\n",
            "10\n",
            "42\n",
            "0\n",
            "<--------------------------------------------------->\n",
            "23\n",
            "2020-11-21 08:17:07\n",
            "1330062674009448458\n",
            "False\n",
            "BJP promising to deliver Sonar Bangla in five years if elected. I Wonder why they didn’t deliver Golden Gujrat in twenty five years ,\n",
            "\n",
            "They had to build wall to cover up slums during Trump's visit.\n",
            "\n",
            "#GoBackAmitShah https://t.co/GWQK9TRIUd\n",
            "GutsyThala\n",
            "Bengaluru, India\n",
            "Twitter for Android\n",
            "6\n",
            "1748\n",
            "1124\n",
            "8\n",
            "<--------------------------------------------------->\n",
            "24\n",
            "2020-11-21 05:30:37\n",
            "1330020773680062465\n",
            "False\n",
            "According to Niti Ayog TN is well administrated State better than any BJP ruled States.\n",
            "TN is much ahead than Gujrat in Education Healthcare Malnutrition, Infrastructure, Law&amp;order.\n",
            "Show us one BJP ruled State better than TN,Kerala,Telengana. #Goback_Tadipar\n",
            "entpsnisha\n",
            "\n",
            "Twitter Web App\n",
            "0\n",
            "34\n",
            "54\n",
            "0\n",
            "<--------------------------------------------------->\n",
            "25\n",
            "2020-11-21 04:58:03\n",
            "1330012577405931521\n",
            "False\n",
            "@MeeeSubs @flawsome_guy Ys .. BJP has done so much for gujrat in the last 20years.. that they had to hide the slums behind walls during Namaste Trump..\n",
            "ravishankar80\n",
            "Kolkata\n",
            "Twitter for Android\n",
            "5\n",
            "116\n",
            "651\n",
            "0\n",
            "<--------------------------------------------------->\n",
            "26\n",
            "2020-11-21 04:38:59\n",
            "1330007778170179585\n",
            "False\n",
            "According to Niti Ayog TN is well administrated state than any BJP Ruled States. \n",
            "Its much ahead of Gujrat in Education, Healthcare, family welfare,malnutrition, infrastructure. \n",
            "Show us one State ruled by BJP which is better than TN. #GoBackAmitShah\n",
            "entpsnisha\n",
            "\n",
            "Twitter Web App\n",
            "0\n",
            "34\n",
            "54\n",
            "0\n",
            "<--------------------------------------------------->\n",
            "27\n",
            "2020-11-21 04:04:46\n",
            "1329999169822535684\n",
            "False\n",
            "BJP promising to deliver Sonar Bangla in five years if elected. I Wonder why they didn’t deliver Golden Gujrat in twenty five years ,\n",
            "\n",
            "They had to build wall to cover up slums during Trump's visit.\n",
            "reshma_alam9\n",
            "\n",
            "Twitter for iPhone\n",
            "6049\n",
            "18644\n",
            "906\n",
            "1062\n",
            "<--------------------------------------------------->\n",
            "28\n",
            "2020-11-21 03:28:32\n",
            "1329990047844601858\n",
            "False\n",
            "@Sanjay_Dixit Same way in Gujrat election a lie was spread that 'Miyan' is a derogatory word used by BJP for Congress leaders but miyan is a very respectful prefix for any individual in Islam like Miyan Rahul Gandhi 😂.\n",
            "GlobalHindu2020\n",
            "Global\n",
            "Twitter for Android\n",
            "5\n",
            "3308\n",
            "635\n",
            "0\n",
            "<--------------------------------------------------->\n",
            "29\n",
            "2020-11-21 02:21:27\n",
            "1329973168291852288\n",
            "False\n",
            "MH pehle se no 1 contributor tha GDP of India main , Karnataka ko IT hub 2008-13 wale 3 BJP CMs me Nahi banaya, Gujrat idk much https://t.co/5ycKMLLhut\n",
            "ArchisG9987\n",
            "Mumbai, India\n",
            "Twitter for Android\n",
            "4\n",
            "308\n",
            "592\n",
            "0\n",
            "<--------------------------------------------------->\n",
            "30\n",
            "2020-11-20 21:41:23\n",
            "1329902686821441536\n",
            "False\n",
            "@narendramodi Save Bengal  from BJP MEANS? SAVE BENGAL TO BEING WITH INDIA..SUCH SPEECH SEEMS MODIJI PUTTING CM OF EA STATE FROM GUJRAT ONLY..BENGAL WILL GOT BENGALI CM LIKE BIGAR, MP, UP, HARAYANA ETC\n",
            "CkChauh87279352\n",
            "\n",
            "Twitter for Android\n",
            "0\n",
            "0\n",
            "34\n",
            "0\n",
            "<--------------------------------------------------->\n",
            "31\n",
            "2020-11-20 20:41:30\n",
            "1329887618130014209\n",
            "False\n",
            "@kdhiraj123 Gujrat m BJP Govt\n",
            "ICAI Council me BJP members\n",
            "\n",
            "Baaki aap sab Samjdaar Ho\n",
            "Nitin89933751\n",
            "Rajasthan, India\n",
            "Twitter for Android\n",
            "0\n",
            "0\n",
            "25\n",
            "0\n",
            "<--------------------------------------------------->\n",
            "32\n",
            "2020-11-20 18:42:26\n",
            "1329857651392573442\n",
            "False\n",
            "in GUJRAT 48 parties contested loksabha election in 2019. only BJP won all the seats\n",
            "ramchandani2000\n",
            "\n",
            "Twitter Web App\n",
            "1\n",
            "463\n",
            "2192\n",
            "0\n",
            "<--------------------------------------------------->\n",
            "33\n",
            "2020-11-20 17:49:26\n",
            "1329844315393146885\n",
            "False\n",
            "BJP-BPF বিচ্ছেদৰ সম্বন্ধ আচমান চে তপকা খজুৰ মে আটকা টাইপৰ হল... বেচেৰাহতঁৰ ভাল নাকী লাগিল...  OVERCONFIDENCE IS VERY HARMFUL... THE ASSAM BJP SHOULD NOT FORGET THAT THEY ARE HAVING A PERSON WHO ONCE TOLD THAT BLOOD FLOWS THROUGH PIPE OF GUJRAT...\n",
            "SarmaPurbajyoti\n",
            "\n",
            "Twitter for Android\n",
            "0\n",
            "13\n",
            "112\n",
            "0\n",
            "<--------------------------------------------------->\n",
            "34\n",
            "2020-11-20 17:47:23\n",
            "1329843796452917248\n",
            "False\n",
            "@Rahulmi93134482 @Aviyukt @Virendr69180344 @HansrajMeena incident happened in 2002 \n",
            "gujrat govt : BJP \n",
            "central govt : BJP \n",
            "still you think politician like modi would be sent to jail 🤦🏻‍♂️\n",
            "nishaant_pareek\n",
            "\n",
            "Twitter for Android\n",
            "0\n",
            "8\n",
            "16\n",
            "0\n",
            "<--------------------------------------------------->\n",
            "35\n",
            "2020-11-20 15:58:27\n",
            "1329816383715037185\n",
            "False\n",
            "@TimesNow @narendramodi @JPNadda @BJP4India Kuch save nahi hai ye sab bike hue hai bjp wale \n",
            "Gujrat mei curfew lagwa kr ca exam allow wah👏\n",
            "kumari_sakhsi10\n",
            "\n",
            "Twitter for Android\n",
            "5\n",
            "320\n",
            "2\n",
            "0\n",
            "<--------------------------------------------------->\n",
            "36\n",
            "2020-11-20 15:27:31\n",
            "1329808598952763392\n",
            "False\n",
            "@IndiaToday TN according to Niti Ayog is well administrated State than any BJP ruled States.Its better than Gujrat in Education, Healthcare, Family welfare, Malnutrition and infrastructure. \n",
            "Why the hell he should vote for BJP. Show us one BJP Ruled State better than TN\n",
            "entpsnisha\n",
            "\n",
            "Twitter Web App\n",
            "0\n",
            "34\n",
            "54\n",
            "0\n",
            "<--------------------------------------------------->\n",
            "37\n",
            "2020-11-20 14:40:04\n",
            "1329796659518181378\n",
            "False\n",
            "@narendramodi @PMOIndia Please look into the matter of Gujrat. There is no curfew in any Metro city despite more cases than Amdavad. This is mere exploitation of Local public and misuse of trust of public in BJP. Curfew is not the solution of Corona. Find other ways be smarter\n",
            "Harshad199\n",
            "Ahmedabad, India\n",
            "Twitter for Android\n",
            "0\n",
            "1\n",
            "48\n",
            "0\n",
            "<--------------------------------------------------->\n",
            "38\n",
            "2020-11-20 13:44:28\n",
            "1329782665067646976\n",
            "False\n",
            "@pistol2myhead @MNageswarRaoIPS One simple Q....how many questions did our ex-pm MMS answered ? If BJP has mismanaged why it won in Bihar n by elections in MP,K'taka, Gujrat,UP ?  When ur leader RG is busy going after one vacations after another wht do u expect from others ?\n",
            "calm_rahul\n",
            "\n",
            "Twitter Web App\n",
            "0\n",
            "3\n",
            "53\n",
            "0\n",
            "<--------------------------------------------------->\n",
            "39\n",
            "2020-11-20 13:27:32\n",
            "1329778404825042945\n",
            "False\n",
            "Most corrupt gujrat government I have ever witnessed after being 18 till now.\n",
            "\n",
            "2024 me miliyo modiji.\n",
            "Mera vote apko gaya tha 2019 me.\n",
            "2024 me dekhlenge.(the countdown of icai, BJP starts?)\n",
            "\n",
            "#icaiexam #ICAI_DENIES_SAFETY \n",
            "#caexams #icaiexamspostponment #icaiscam\n",
            "PaiSankalp\n",
            "Kalyan Dombivali, India\n",
            "Twitter for Android\n",
            "3\n",
            "33\n",
            "86\n",
            "1\n",
            "<--------------------------------------------------->\n",
            "40\n",
            "2020-11-20 13:10:06\n",
            "1329774018447110147\n",
            "False\n",
            "@JyotiMi49142971 @ndtv Yeh. In BJP ruled states they are reporting close to zero covid numbers.\n",
            "\n",
            "In ahemdabad actual daily count is 4000-5000.  Govt showing 200-100\n",
            "\n",
            "Gujrat model..\n",
            "\n",
            "And they call for night curfew in Gujrat.\n",
            "On TV they say all in control.\n",
            "Arvind19802017\n",
            "India\n",
            "Twitter for Android\n",
            "0\n",
            "33\n",
            "167\n",
            "0\n",
            "<--------------------------------------------------->\n",
            "41\n",
            "2020-11-20 13:09:47\n",
            "1329773937677496321\n",
            "False\n",
            "@NeerajDeogade @ndtv Yeh. In BJP ruled states they are reporting close to zero covid numbers.\n",
            "\n",
            "In ahemdabad actual daily count is 4000-5000.  Govt showing 200-100\n",
            "\n",
            "Gujrat model..\n",
            "\n",
            "And they call for night curfew in Gujrat.\n",
            "On TV they say all in control.\n",
            "Arvind19802017\n",
            "India\n",
            "Twitter for Android\n",
            "0\n",
            "33\n",
            "167\n",
            "0\n",
            "<--------------------------------------------------->\n",
            "42\n",
            "2020-11-20 13:09:31\n",
            "1329773869108965379\n",
            "False\n",
            "@Akashkadol @ndtv Yeh. In BJP ruled states they are reporting close to zero covid numbers.\n",
            "\n",
            "In ahemdabad actual daily count is 4000-5000.  Govt showing 200-100\n",
            "\n",
            "Gujrat model..\n",
            "\n",
            "And they call for night curfew in Gujrat.\n",
            "On TV they say all in control.\n",
            "Arvind19802017\n",
            "India\n",
            "Twitter for Android\n",
            "0\n",
            "33\n",
            "167\n",
            "0\n",
            "<--------------------------------------------------->\n",
            "43\n",
            "2020-11-20 13:09:10\n",
            "1329773782169489414\n",
            "False\n",
            "@r13rk @ndtv Yeh. In BJP ruled states they are reporting close to zero covid numbers.\n",
            "\n",
            "In ahemdabad actual daily count is 4000-5000.  Govt showing 200-100\n",
            "\n",
            "Gujrat model..\n",
            "\n",
            "And they call for night curfew in Gujrat.\n",
            "On TV they say all in control.\n",
            "Arvind19802017\n",
            "India\n",
            "Twitter for Android\n",
            "1\n",
            "33\n",
            "167\n",
            "0\n",
            "<--------------------------------------------------->\n",
            "44\n",
            "2020-11-20 13:08:54\n",
            "1329773714217586694\n",
            "False\n",
            "@AfrozAl03444210 @ndtv Yeh. In BJP ruled states they are reporting close to zero covid numbers.\n",
            "\n",
            "In ahemdabad actual daily count is 4000-5000.  Govt showing 200-100\n",
            "\n",
            "Gujrat model..\n",
            "\n",
            "And they call for night curfew in Gujrat.\n",
            "On TV they say all in control.\n",
            "Arvind19802017\n",
            "India\n",
            "Twitter for Android\n",
            "0\n",
            "33\n",
            "167\n",
            "0\n",
            "<--------------------------------------------------->\n",
            "45\n",
            "2020-11-20 13:08:25\n",
            "1329773592062660608\n",
            "False\n",
            "@syadavnavy @ndtv Yeh. In BJP ruled states they are reporting close to zero covid numbers.\n",
            "\n",
            "In ahemdabad actual daily count is 4000-5000.  Govt showing 200-100\n",
            "\n",
            "Gujrat model..\n",
            "\n",
            "And they call for night curfew in Gujrat.\n",
            "On TV they say all in control.\n",
            "Arvind19802017\n",
            "India\n",
            "Twitter for Android\n",
            "1\n",
            "33\n",
            "167\n",
            "0\n",
            "<--------------------------------------------------->\n",
            "46\n",
            "2020-11-20 13:07:55\n",
            "1329773469953888256\n",
            "False\n",
            "@ShishirMukher10 @ndtv Yeh. In BJP ruled states they are reporting close to zero covid numbers.\n",
            "\n",
            "In ahemdabad actual daily count is 4000-5000.  Govt showing 200-100\n",
            "\n",
            "Gujrat model..\n",
            "\n",
            "And they call for night curfew in Gujrat.\n",
            "On TV they say all in control.\n",
            "Arvind19802017\n",
            "India\n",
            "Twitter for Android\n",
            "0\n",
            "33\n",
            "167\n",
            "0\n",
            "<--------------------------------------------------->\n",
            "47\n",
            "2020-11-20 13:06:47\n",
            "1329773183956881408\n",
            "False\n",
            "@alijawaid @ndtv Yeh. In BJP ruled states they are reporting close to zero covid numbers.\n",
            "\n",
            "In ahemdabad actual daily count is 4000-5000.  Govt showing 200-100\n",
            "\n",
            "Gujrat model..\n",
            "\n",
            "And they call for night curfew in Gujrat.\n",
            "On TV they say all in control.\n",
            "Arvind19802017\n",
            "India\n",
            "Twitter for Android\n",
            "1\n",
            "33\n",
            "167\n",
            "0\n",
            "<--------------------------------------------------->\n",
            "48\n",
            "2020-11-20 13:06:25\n",
            "1329773091388600322\n",
            "False\n",
            "@ashishsomkuor @ndtv Yeh. In BJP ruled states they are reporting close to zero covid numbers.\n",
            "\n",
            "In ahemdabad actual daily count is 4000-5000.  Govt showing 200-100\n",
            "\n",
            "Gujrat model..\n",
            "\n",
            "And they call for night curfew in Gujrat.\n",
            "On TV they say all in control.\n",
            "Arvind19802017\n",
            "India\n",
            "Twitter for Android\n",
            "0\n",
            "33\n",
            "167\n",
            "0\n",
            "<--------------------------------------------------->\n",
            "49\n",
            "2020-11-20 13:06:12\n",
            "1329773037357555712\n",
            "False\n",
            "@twinkle25_15 @ndtv Yeh. In BJP ruled states they are reporting close to zero covid numbers.\n",
            "\n",
            "In ahemdabad actual daily count is 4000-5000.  Govt showing 200-100\n",
            "\n",
            "Gujrat model..\n",
            "\n",
            "And they call for night curfew in Gujrat.\n",
            "On TV they say all in control.\n",
            "Arvind19802017\n",
            "India\n",
            "Twitter for Android\n",
            "0\n",
            "33\n",
            "167\n",
            "0\n",
            "<--------------------------------------------------->\n",
            "50\n",
            "2020-11-20 13:05:55\n",
            "1329772965383311361\n",
            "False\n",
            "@vishal29959 @ndtv Yeh. In BJP ruled states they are reporting close to zero covid numbers.\n",
            "\n",
            "In ahemdabad actual daily count is 4000-5000.  Govt showing 200-100\n",
            "\n",
            "Gujrat model..\n",
            "\n",
            "And they call for night curfew in Gujrat.\n",
            "On TV they say all in control.\n",
            "Arvind19802017\n",
            "India\n",
            "Twitter for Android\n",
            "0\n",
            "33\n",
            "167\n",
            "0\n",
            "<--------------------------------------------------->\n",
            "51\n",
            "2020-11-20 13:05:40\n",
            "1329772901084639232\n",
            "False\n",
            "@VivekVGaikwad @ndtv Yeh. In BJP ruled states they are reporting close to zero covid numbers.\n",
            "\n",
            "In ahemdabad actual daily count is 4000-5000.  Govt showing 200-100\n",
            "\n",
            "Gujrat model..\n",
            "\n",
            "And they call for night curfew in Gujrat.\n",
            "On TV they say all in control.\n",
            "Arvind19802017\n",
            "India\n",
            "Twitter for Android\n",
            "0\n",
            "33\n",
            "167\n",
            "0\n",
            "<--------------------------------------------------->\n",
            "52\n",
            "2020-11-20 13:05:17\n",
            "1329772804447870981\n",
            "False\n",
            "@LubnaFatma @ndtv Yeh. In BJP ruled states they are reporting close to zero covid numbers.\n",
            "\n",
            "In ahemdabad actual daily count is 4000-5000.  Govt showing 200-100\n",
            "\n",
            "Gujrat model..\n",
            "\n",
            "And they call for night curfew in Gujrat.\n",
            "On TV they say all in control.\n",
            "Arvind19802017\n",
            "India\n",
            "Twitter for Android\n",
            "2\n",
            "33\n",
            "167\n",
            "0\n",
            "<--------------------------------------------------->\n",
            "53\n",
            "2020-11-20 13:03:38\n",
            "1329772390151319553\n",
            "False\n",
            "@MSoumya7 @ndtv Yeh. In BJP ruled states they are reporting close to zero covid numbers.\n",
            "\n",
            "In ahemdabad actual daily count is 4000-5000.  Govt showing 200-100\n",
            "\n",
            "Gujrat model\n",
            "Arvind19802017\n",
            "India\n",
            "Twitter for Android\n",
            "0\n",
            "33\n",
            "167\n",
            "0\n",
            "<--------------------------------------------------->\n",
            "54\n",
            "2020-11-20 12:27:54\n",
            "1329763395818516480\n",
            "False\n",
            "@jdhankhar1 @HomeBengal @WBPolice @MamataOfficial Sir.Bharuich in Gujrat same plasticj factory explosion 7 death.Then no foul play in Bengal foul ? Next BJP CM candidate is Swapan Dasgupta not Sorry ur ambition is going to gutter.\n",
            "Regards\n",
            "AsishRoyChowdh4\n",
            "Kolkata, India\n",
            "Twitter for Android\n",
            "0\n",
            "0\n",
            "29\n",
            "0\n",
            "<--------------------------------------------------->\n",
            "55\n",
            "2020-11-20 11:52:12\n",
            "1329754411996901376\n",
            "False\n",
            "When uddhav was not opening temples, for sake of politics REPUBLIC BHARAT &amp; BJP were terming him anti religious. Now every state including BJP lead gujrat is contemplating to introduce lockdown &amp; shutting of temples. Will Republic bharat &amp; bjp will say sorry to uddhav in public?\n",
            "taxfreebharat\n",
            "Mumbai\n",
            "Twitter for Android\n",
            "0\n",
            "29\n",
            "217\n",
            "0\n",
            "<--------------------------------------------------->\n",
            "56\n",
            "2020-11-20 11:07:02\n",
            "1329743045047296001\n",
            "False\n",
            "@bandisanjay_bjp Let’s debate wht BJP did for ppl of telangana Modi after becoming PM he gave all support to gujrat only.\n",
            "kia_khan1\n",
            "Doha, Qatar\n",
            "Twitter for iPhone\n",
            "0\n",
            "39\n",
            "135\n",
            "0\n",
            "<--------------------------------------------------->\n",
            "57\n",
            "2020-11-20 09:58:30\n",
            "1329725801042903040\n",
            "False\n",
            "@ANI Lol goa a bjp ruled state is now a wellness destination for congressi , gujrat and goa model 👍👍\n",
            "vaibhav79194607\n",
            "Dubai\n",
            "Twitter Web App\n",
            "0\n",
            "255\n",
            "1270\n",
            "0\n",
            "<--------------------------------------------------->\n",
            "58\n",
            "2020-11-20 09:41:41\n",
            "1329721567417397249\n",
            "False\n",
            "@shahid_siddiqui we can understand your worries,  sarkari muslims like you losing your support among masses.  Is Owaisi responsible for BJP getting so many seats from bengal in last loksabha elections? Govt in gujrat,  MP,  hrayana??\n",
            "Don't make him scapegoat, better introspect you losers...\n",
            "Spidermen81\n",
            "\n",
            "Twitter Web App\n",
            "1\n",
            "101\n",
            "131\n",
            "0\n",
            "<--------------------------------------------------->\n",
            "59\n",
            "2020-11-20 09:33:38\n",
            "1329719543015432192\n",
            "False\n",
            "@Akshaysesha @Naveen__Abhi @AniketTalati They will If Gujrat BJP wishes to win next election.......\n",
            "taeju007\n",
            "Mumbai\n",
            "Twitter Web App\n",
            "0\n",
            "45\n",
            "120\n",
            "0\n",
            "<--------------------------------------------------->\n",
            "60\n",
            "2020-11-20 08:58:53\n",
            "1329710798864871424\n",
            "False\n",
            "@ndtv This is another manoj tiwari version of bjp in bengal....\n",
            "\n",
            "The illeterate sense ppl of bjp defaming the great bengal....lets teach lesson to bjpeee which wants to convert bengal as gujrat....\n",
            "ashishsomkuor\n",
            "India\n",
            "Twitter Web App\n",
            "1\n",
            "112\n",
            "159\n",
            "0\n",
            "<--------------------------------------------------->\n",
            "61\n",
            "2020-11-20 08:38:12\n",
            "1329705591678242818\n",
            "False\n",
            "@pradipsinhbjp @narendramodi @AmitShah @JPNadda @byadavbjp @kishanreddybjp @BJP4India BJP has no leaders in state , so importing from #gujrat  😂😂😂\n",
            "bharathbunny27\n",
            "Telangana \n",
            "Twitter for Android\n",
            "0\n",
            "790\n",
            "1221\n",
            "0\n",
            "<--------------------------------------------------->\n",
            "62\n",
            "2020-11-20 06:22:42\n",
            "1329671492389449732\n",
            "False\n",
            "@YashcGadhavi1 @noor_aawan @MichaelKugelman Naaa kalbhoshan was caught here ur hindu spy😂 causing mess in Balochistan what about u people causing mess in gujrat BJP\n",
            "Mhleo\n",
            "Multan, Pakistan\n",
            "Twitter for Android\n",
            "1\n",
            "340\n",
            "409\n",
            "0\n",
            "<--------------------------------------------------->\n",
            "63\n",
            "2020-11-19 20:56:01\n",
            "1329528881708142592\n",
            "False\n",
            "@krishanKTRS The per capita income of most important BJP led states since a decade, Bihar percapita income is 48k Rs, UP-78k Rs, MP- 98k Rs &amp; Gujrat Model's per capita is only 198000 which is less than Telangana's 228kwhich was only 91k during 2011-12. so we are happy without BJP\n",
            "prashan95422785\n",
            "\n",
            "Twitter Web App\n",
            "0\n",
            "0\n",
            "9\n",
            "0\n",
            "<--------------------------------------------------->\n",
            "64\n",
            "2020-11-19 20:53:44\n",
            "1329528305440133122\n",
            "False\n",
            "@KTR_News @KTRTRS The per capita income of most important BJP led states since a decade, Bihar percapita income is 48k Rs, UP-78k Rs, MP- 98k Rs &amp; Gujrat Model's per capita is only 198000 which is less than Telangana's 228k Rs which was only 91k during 2011-12. so we are happy without BJP.\n",
            "prashan95422785\n",
            "\n",
            "Twitter Web App\n",
            "0\n",
            "0\n",
            "9\n",
            "0\n",
            "<--------------------------------------------------->\n",
            "65\n",
            "2020-11-19 20:03:01\n",
            "1329515544437952513\n",
            "False\n",
            "@surya661780 @Sri_RajMalhotra @AniketTalati Maybe gujrat state is going to give exemption to icai\n",
            "Who knows\n",
            "Its a bjp ruled state so....\n",
            "shinigami_X21\n",
            "\n",
            "Twitter for Android\n",
            "0\n",
            "11\n",
            "3\n",
            "0\n",
            "<--------------------------------------------------->\n",
            "66\n",
            "2020-11-19 18:27:00\n",
            "1329491380008148994\n",
            "False\n",
            "@ankitsh34948528 @upsehooon @1stIndiaNews @Sarcasm_and_YOU Gujrat ma BJP ha.. Way Congress will follow BJP 😂\n",
            "Rishabhmantri4\n",
            "Jodhpur,Rajasthan\n",
            "Twitter Web App\n",
            "0\n",
            "1\n",
            "13\n",
            "0\n",
            "<--------------------------------------------------->\n",
            "67\n",
            "2020-11-19 18:16:01\n",
            "1329488615592833025\n",
            "False\n",
            "@SpiritOfCongres First he worked in the Gujrat unit of BJP &amp; then was sent to work in different parts of the country finally he came to Delhi in late 90's &amp; lived there in his friend Arun Jaitely's house for sometime &amp; later he was sent to Gujrat again to become CM.\n",
            "VinayCh65213788\n",
            "Bharat\n",
            "Twitter Web App\n",
            "0\n",
            "19\n",
            "47\n",
            "0\n",
            "<--------------------------------------------------->\n",
            "68\n",
            "2020-11-19 17:48:23\n",
            "1329481664066584579\n",
            "False\n",
            "@TheGopalan @Indian_Index True. BJP should now tell UP and Gujrat model in elections.\n",
            "cogito_ergo_sm\n",
            "\n",
            "Twitter for Android\n",
            "0\n",
            "163\n",
            "274\n",
            "0\n",
            "<--------------------------------------------------->\n",
            "69\n",
            "2020-11-19 13:52:31\n",
            "1329422303176892419\n",
            "False\n",
            "@Kamran_Tweets @sharyk76 Gujrat type kya BJP congress type secular credentials ke multiple candidate khara khud karwati hai , split vote so wo khud jeet jaye.\n",
            "faiyazulnoor\n",
            "\n",
            "Twitter for Android\n",
            "0\n",
            "102\n",
            "416\n",
            "0\n",
            "<--------------------------------------------------->\n",
            "70\n",
            "2020-11-19 12:56:32\n",
            "1329408214107000832\n",
            "False\n",
            "@IMeIMyselfI @rizy82 @Schandillia Congressmen were involved in riots but they didn't spread violence against Sikhs pretty much self contradictory. That's like saying BJP was involved in gujrat riots but they didn't spread hatred 😂😂😂😂. Yes they spread hatred against sikha because Indra Gandhi was shot by a s\n",
            "Vyom22076778\n",
            "\n",
            "Twitter Web App\n",
            "0\n",
            "19\n",
            "87\n",
            "0\n",
            "<--------------------------------------------------->\n",
            "71\n",
            "2020-11-19 12:49:41\n",
            "1329406493251158026\n",
            "False\n",
            "Modi ji ke gujrat model ka example do bhai aaj se ahemdabad me night curfew suru ho gaya hai #BJP completely failed in controlling covid -19 in gujrat\n",
            "dovesoftpvtltd\n",
            "Mumbai, India\n",
            "Twitter for Android\n",
            "0\n",
            "564\n",
            "422\n",
            "0\n",
            "<--------------------------------------------------->\n",
            "72\n",
            "2020-11-19 12:40:32\n",
            "1329404191127662592\n",
            "False\n",
            "@TrinankurWBTMCP @BJP4Bengal After seeing the killing in BJP ruled states of Gujrat, UP, MP, Bihar people have realised that their priority has to be keep themselves safe from BJP.#1MillionMarkedSafeFromBJP\n",
            "Sujoy011\n",
            "India\n",
            "Twitter for Android\n",
            "0\n",
            "114\n",
            "238\n",
            "0\n",
            "<--------------------------------------------------->\n",
            "73\n",
            "2020-11-19 01:38:51\n",
            "1329237672037019649\n",
            "False\n",
            "@jackrambo8 @narendramodi He is PM of not only Gujrat but also  only BJP!\n",
            "wamanrathod7\n",
            "महाराष्ट्र, भारत\n",
            "Twitter for Android\n",
            "2\n",
            "8\n",
            "31\n",
            "0\n",
            "<--------------------------------------------------->\n",
            "74\n",
            "2020-11-18 19:56:39\n",
            "1329151554855776258\n",
            "False\n",
            "@TheDailyPioneer @DelhiPolice Well done another lady uniform police doing good job, nowadays lady policr officers are doing more good job , be it out in ground or social media....the lady officer who opposed bjp minister's son to roam in gujrat was transfered none bjp supporter stood besides her, but we shud\n",
            "ashishsomkuor\n",
            "India\n",
            "Twitter Web App\n",
            "0\n",
            "112\n",
            "159\n",
            "0\n",
            "<--------------------------------------------------->\n",
            "75\n",
            "2020-11-18 18:50:08\n",
            "1329134814302126081\n",
            "False\n",
            "@honeyseth19 @Manva_tweets @Nher_who @GautamGambhir @AmitShah Kyuunki bjp ruled states covid manage nhi kar rhi data manage kar rhi hai\n",
            "Lots of evidence of data forgery in UP and Gujrat\n",
            "Some data of UP cities like ghaziabad is also shown in Delhi's data as no gov labs running in ghaziabad samples r sent to delhi for testing\n",
            "kira_jaeger\n",
            "\n",
            "Twitter Web App\n",
            "1\n",
            "78\n",
            "113\n",
            "0\n",
            "<--------------------------------------------------->\n",
            "76\n",
            "2020-11-18 16:59:11\n",
            "1329106894611308544\n",
            "False\n",
            "Anjana did not even ask one tough question to Tiwari, looked like propaganda interview.\n",
            "\n",
            "She did not even ask that Chatt Puja is even banned in BJP ruled Gujrat, Haryana, even UP CM asked ppl to celeb Chat at home.\n",
            "\n",
            "And he has problem with Laxmi Pooja of Hindus too🤦🏻‍♂️ https://t.co/s2PgXnEvYa\n",
            "Gss_Views\n",
            "\n",
            "Twitter for iPhone\n",
            "83\n",
            "2688\n",
            "845\n",
            "43\n",
            "<--------------------------------------------------->\n",
            "77\n",
            "2020-11-18 15:41:05\n",
            "1329087236546076680\n",
            "False\n",
            "@ManojTiwariOffc @ManojTiwariMP @ArvindKejriwal @AamAadmiParty @BJP4Delhi @adeshguptabjp @PandaJay @alka_gurjar @siddharthanbjp @NarenderChawla1 @kjsehrawat @JPBhaiBJP Chatt is also banned in up and Gujrat why are you not saying yogi and Vijay rupani . This is the reason why you are removed from Delhi BJP president\n",
            "varun24221\n",
            "\n",
            "Twitter for Android\n",
            "0\n",
            "0\n",
            "28\n",
            "0\n",
            "<--------------------------------------------------->\n",
            "78\n",
            "2020-11-18 14:49:48\n",
            "1329074333034004482\n",
            "False\n",
            "Gujrat,the bjp dominated state has failed to provide employment and education rather have secceeded in crime and rape. Inspite of that @BJP4Bengal president @DilipGhoshBJP is giving serious threat to turn Bengal into Gujrat.\n",
            "#1MillionMarkedSafeFromBJP\n",
            "soumenzp\n",
            "\n",
            "Twitter for Android\n",
            "0\n",
            "75\n",
            "185\n",
            "0\n",
            "<--------------------------------------------------->\n",
            "79\n",
            "2020-11-18 14:47:19\n",
            "1329073708003016715\n",
            "False\n",
            "Gujrat model of murders, conspiracies, jungle rule, single person say is effectively working in WB. What more can BJP add? https://t.co/vZbavk3iTp\n",
            "trimendiratta\n",
            "India\n",
            "Twitter Web App\n",
            "1\n",
            "150\n",
            "54\n",
            "0\n",
            "<--------------------------------------------------->\n",
            "80\n",
            "2020-11-18 13:24:32\n",
            "1329052874794430472\n",
            "False\n",
            "Gujrat,the bjp dominated state has failed to provide employment and education rather have secceeded in crime and rape. Inspite of that @BJP4Bengal president @DilipGhoshBJP is giving serious threat to turn Bengal into Gujrat.\n",
            "#1MillionMarkedSafeFromBJP https://t.co/BGFpWzxVar\n",
            "feluda_007\n",
            "\n",
            "Twitter for Android\n",
            "8\n",
            "3\n",
            "75\n",
            "2\n",
            "<--------------------------------------------------->\n",
            "81\n",
            "2020-11-18 13:23:45\n",
            "1329052677112619009\n",
            "False\n",
            "Gujrat,the bjp dominated state has failed to provide employment and education rather have secceeded in crime and rape. Inspite of that @BJP4Bengal president @DilipGhoshBJP is giving serious threat to turn Bengal into Gujrat.\n",
            "#1MillionMarkedSafeFromBJP https://t.co/NAJB1Oqlgp\n",
            "Byomkesh_007\n",
            "Kolkata, India\n",
            "Twitter for Android\n",
            "6\n",
            "12\n",
            "107\n",
            "3\n",
            "<--------------------------------------------------->\n",
            "82\n",
            "2020-11-18 13:18:33\n",
            "1329051368296857603\n",
            "False\n",
            "The negativity n bias in the minds of @ndtv and its journalists is really shameful. These guys /presstitutes can’t think beyond Gujrat n BJP ☹️ https://t.co/VLoobRBY6B\n",
            "vishwendu\n",
            "Delhi\n",
            "Twitter for iPhone\n",
            "0\n",
            "335\n",
            "318\n",
            "0\n",
            "<--------------------------------------------------->\n",
            "83\n",
            "2020-11-18 12:28:11\n",
            "1329038693722509312\n",
            "False\n",
            "Gujrat model of Development..will be followed in Bengal..Bjp will make Bengal a Welfare state by all means the magnificent growth can be possible only under leadership of @PMOIndia @AmitShah  @blsanthosh @KailashOnline @MukulR_Official @DilipGhoshBJP @amitmalviya @drsanjaymayukh https://t.co/yLlCrlmOmP\n",
            "impriyankabjp\n",
            "Kolkata , West Bengal\n",
            "Twitter for Android\n",
            "5\n",
            "763\n",
            "266\n",
            "0\n",
            "<--------------------------------------------------->\n",
            "84\n",
            "2020-11-18 12:06:13\n",
            "1329033165952880640\n",
            "False\n",
            "@idnani_nandini @vimal_vaira You can happily stay on Twitter, but what about Haryana and Gujrat (Ahmedabad). Is BJP hindu virodhi?\n",
            "TN20048678\n",
            "\n",
            "Twitter for Android\n",
            "1\n",
            "18\n",
            "144\n",
            "0\n",
            "<--------------------------------------------------->\n",
            "85\n",
            "2020-11-18 12:01:37\n",
            "1329032006106189825\n",
            "False\n",
            "@ShafakatK @narendramodi @RahulGandhi This is state government matter. Madhya Pradesh, Kerala ( non bjp) government and Gujrat are giving 50 percent off on bills.\n",
            "Rujuta49342936\n",
            "\n",
            "Twitter for Android\n",
            "0\n",
            "13\n",
            "3\n",
            "0\n",
            "<--------------------------------------------------->\n",
            "86\n",
            "2020-11-18 11:54:13\n",
            "1329030145085120513\n",
            "False\n",
            "Gujrat,the bjp dominated state has failed to provide employment and education rather have secceeded in crime and rape. Inspite of that @BJP4Bengal president @DilipGhoshBJP is giving serious threat to turn Bengal into Gujrat.\n",
            "#1MillionMarkedSafeFromBJP\n",
            "https://t.co/kqgOqip6Jh\n",
            "AliSahanamaj\n",
            "\n",
            "Twitter for Android\n",
            "2\n",
            "335\n",
            "253\n",
            "1\n",
            "<--------------------------------------------------->\n",
            "87\n",
            "2020-11-18 11:25:05\n",
            "1329022813487865857\n",
            "False\n",
            "@IndiaToday @DilipGhoshBJP @PoulomiMSaha Gujrat lacking behind in many development index 'Gujrat Model' has proved to be all gas and no poop so Dilip Ghosh was right in saying as BJP brings destruction to any state where it comes to power and applies also to the country.\n",
            "SatishKapur4\n",
            "India\n",
            "Twitter for Android\n",
            "1\n",
            "2631\n",
            "2157\n",
            "0\n",
            "<--------------------------------------------------->\n",
            "88\n",
            "2020-11-18 11:08:55\n",
            "1329018746040627200\n",
            "True\n",
            "Gujrat,the bjp dominated state has failed to provide employment and education rather have secceeded in crime and rape. Inspite of that @BJP4Bengal president @DilipGhoshBJP is giving serious threat to turn Bengal into Gujrat.\n",
            "#1MillionMarkedSafeFromBJP\n",
            "https://t.co/XUPbaC9r49\n",
            "SandhyaTudu\n",
            "Manbazar,Purulia,West Bengal\n",
            "Twitter for Android\n",
            "45\n",
            "3602\n",
            "160\n",
            "31\n",
            "<--------------------------------------------------->\n",
            "89\n",
            "2020-11-18 08:54:49\n",
            "1328984999379406848\n",
            "False\n",
            "@DravidianWing Haren pandya... Their own BJP minister in Gujrat.\n",
            "InZizek\n",
            "\n",
            "Twitter for Android\n",
            "0\n",
            "91\n",
            "390\n",
            "0\n",
            "<--------------------------------------------------->\n",
            "90\n",
            "2020-11-18 06:28:17\n",
            "1328948121754365952\n",
            "False\n",
            "@Prajapa11459519 @Nimki911 @diptisingh7812 Firstly the gatherings for chat pooja is banned in Gujrat and Haryana too, where BJP is the rulling party. So stop opposing each and every move of #MahaGovt for sake of Opposition.\n",
            "\n",
            "Second, cam scanner is banned by BJP Govt, how the BJP officials are still using it??\n",
            "Lazzy_blogger\n",
            "\n",
            "Twitter for Android\n",
            "3\n",
            "91\n",
            "143\n",
            "0\n",
            "<--------------------------------------------------->\n",
            "91\n",
            "2020-11-18 03:52:35\n",
            "1328908940294332416\n",
            "False\n",
            "@amitmalviya #Lawless are the #BChiPee ruled states \n",
            "Use such words in case of UP Bihar Gujrat not in case of WB \n",
            "Liar Malware \n",
            "#MithyebadiBJP \n",
            "https://t.co/FmBpdUPI2G\n",
            "Anjita97\n",
            "\n",
            "Twitter for Android\n",
            "7\n",
            "1023\n",
            "235\n",
            "3\n",
            "<--------------------------------------------------->\n",
            "92\n",
            "2020-11-18 02:57:25\n",
            "1328895054404939778\n",
            "False\n",
            "@TheBongHead @ndtv NO Chhath puja allowed at public places in GUJRAT &amp; HARYANA..ANOTHER  BJP RULED STATE TO BAN HINDU FESTIVAL. https://t.co/CS8EbhKFZF\n",
            "gyan_stock\n",
            "\n",
            "Twitter for Android\n",
            "1\n",
            "6\n",
            "119\n",
            "0\n",
            "<--------------------------------------------------->\n",
            "93\n",
            "2020-11-17 18:08:43\n",
            "1328762004459294721\n",
            "False\n",
            "No!! @DilipGhoshBJP we don't want #WestBengal to be turned into #Gujrat..\n",
            "#BJP @BJP4India\n",
            "irossogolla\n",
            "Durgapur, West Bengal, India\n",
            "Twitter for Android\n",
            "0\n",
            "185\n",
            "91\n",
            "0\n",
            "<--------------------------------------------------->\n",
            "94\n",
            "2020-11-17 16:59:10\n",
            "1328744502463401984\n",
            "False\n",
            "@IndianExpress OMG .. West Bengal has much rich tradition, culture. Is there any city like Kolkata in Gujrat ( for that matter in India)\n",
            "\n",
            "Definitely proud bengalis will disapprove it\n",
            "\n",
            "If there is one reason to defeat BJP in West Bengal then THIS IS THE ONE..\n",
            "ctmirajkar\n",
            "Kharghar, Panvel\n",
            "Twitter for Android\n",
            "0\n",
            "35\n",
            "105\n",
            "0\n",
            "<--------------------------------------------------->\n",
            "95\n",
            "2020-11-17 15:58:09\n",
            "1328729145447116802\n",
            "False\n",
            "@indn_lws2016 So since he has realized he has decided to sit in home. A true fighter ll not worry on what weapon his rival he if he is left with a single sword he ll fight till the end not surrender and go for a vacation.Din BJP ve funds in Gujrat how come RG campaigned vigorously there\n",
            "VamsiChandran\n",
            "Chennai, India\n",
            "Twitter Web App\n",
            "0\n",
            "1383\n",
            "249\n",
            "0\n",
            "<--------------------------------------------------->\n",
            "96\n",
            "2020-11-17 12:43:42\n",
            "1328680211731279872\n",
            "False\n",
            "@__SachinDubey__ @PencyS @Pawankhera @IndiaToday @RahulGandhi Give me good names in each states where there are strong CM candidates. MH, Gujrat, UP, WB, and many more states. No powerful leaders at all. How can INC become strong? 2024 I don’t think INC will have scope. Cause by then Temple will be ready, BJP juggernaut is on roll.Becareful\n",
            "Ajay371\n",
            "\n",
            "Twitter for iPhone\n",
            "0\n",
            "29\n",
            "51\n",
            "0\n",
            "<--------------------------------------------------->\n",
            "97\n",
            "2020-11-17 12:12:25\n",
            "1328672337286230016\n",
            "False\n",
            "@retheeshraj10 And here in Bengal, BJP chief said he will turn Bengal into Gujrat.\n",
            "itheskb\n",
            "Kolkata, India\n",
            "Twitter for Android\n",
            "3\n",
            "252\n",
            "1198\n",
            "0\n",
            "<--------------------------------------------------->\n",
            "98\n",
            "2020-11-17 10:36:34\n",
            "1328648216666009600\n",
            "False\n",
            "The saddest and biggest crime that you and other members of BJP have ever committed is that\n",
            "\n",
            "Advani, Bajpayee, you, and many others supported the 2002 Genocide of Gujrat. Do not forget the fact that BJP had significant power at that time to punish criminal Modi and his associates https://t.co/vi0DFGB4yU\n",
            "Radhanath15\n",
            "Hate Liars. Hate Riot Creators\n",
            "Twitter Web App\n",
            "0\n",
            "673\n",
            "304\n",
            "0\n",
            "<--------------------------------------------------->\n",
            "99\n",
            "2020-11-17 07:28:34\n",
            "1328600905533501442\n",
            "False\n",
            "T S Krishan Murthy former Election Commissioner revealed that BJP manipulated election data &amp; won elections just only &amp; only because of this, illicitly, in Gujrat, Himachal, Uttarakhand &amp; Uttar Pradesh. https://t.co/Q3gci4k1oL\n",
            "BLDADHICH\n",
            "Salkia, Haora\n",
            "Twitter for Android\n",
            "2\n",
            "1969\n",
            "2979\n",
            "0\n",
            "<--------------------------------------------------->\n",
            "100\n",
            "2020-11-17 07:22:34\n",
            "1328599394258661376\n",
            "False\n",
            "@AcharyaPramodk Congress is worst performer across India it's a burden on most of alliances see it's loosing in MP, UP, Gujrat and Bihar , worst party has put India under BJP\n",
            "UllooB\n",
            "\n",
            "Twitter for iPhone\n",
            "0\n",
            "23\n",
            "156\n",
            "0\n",
            "<--------------------------------------------------->\n",
            "101\n",
            "2020-11-17 07:07:14\n",
            "1328595536342036491\n",
            "False\n",
            "Fate will not give too many lollipops. TMC and Mamata are today in Bengal where BJP and Modi were wrt to Gujrat in 2002. (n/n)\n",
            "AmiMatirManush2\n",
            "\n",
            "Twitter Web App\n",
            "0\n",
            "8\n",
            "28\n",
            "0\n",
            "<--------------------------------------------------->\n",
            "102\n",
            "2020-11-17 06:28:46\n",
            "1328585853833261056\n",
            "False\n",
            "@hamzamlakdawala @manuvichar Gujrat high court declared the election of gujrat bjp minister void but supreme court stayed it by the time they will give judgement.. it will be time for elections again. 🤦‍♂️\n",
            "SonuSidh_\n",
            "Secunderabad, Hyderabad\n",
            "Twitter Web App\n",
            "0\n",
            "187\n",
            "2510\n",
            "0\n",
            "<--------------------------------------------------->\n",
            "103\n",
            "2020-11-17 06:12:29\n",
            "1328581755780165632\n",
            "False\n",
            "@SaketGokhale And there is ample proof of ECI favouring BJP to steal elections . Just read about Gujrat Dholka and Dwarka seats. How ECI used RO to literally declare BJP candidate Chudasma winner without even opening postal ballots. HC declared his election null and void after 2 years https://t.co/uQdsyaPpcb\n",
            "kabirazad2017\n",
            "New Delhi, India\n",
            "Twitter for Android\n",
            "5\n",
            "2244\n",
            "1022\n",
            "0\n",
            "<--------------------------------------------------->\n",
            "104\n",
            "2020-11-17 06:11:15\n",
            "1328581448811614209\n",
            "False\n",
            "@TimesNow Gujrat model is seen in every BJP’s govern state https://t.co/B6D7a2cRPS\n",
            "Helpways1\n",
            "\n",
            "Twitter for Android\n",
            "0\n",
            "84\n",
            "387\n",
            "0\n",
            "<--------------------------------------------------->\n",
            "105\n",
            "2020-11-17 05:51:40\n",
            "1328576519761956864\n",
            "False\n",
            "@Mistergnke @harryrandhawa32 @ndtv sure sure big states like maha gujrat and karnataka voted bjp in 2019 gujrats growthrate made it surpass karnataka they will surpass tamil soon but as this a debate of north vs south? gujratis own 42 percent of american hotelsfor starters unlike bengalis and tamils who go to work\n",
            "UddipanMondal1\n",
            "\n",
            "Twitter Web App\n",
            "0\n",
            "21\n",
            "293\n",
            "0\n",
            "<--------------------------------------------------->\n",
            "106\n",
            "2020-11-17 05:31:47\n",
            "1328571516271857666\n",
            "False\n",
            "@IndianExpress That is why no one will vote outsiders in bengal.....bengal has a very vast culture and wants to be itself always.....not any gujrat or haryana or maharashtra.\n",
            "Bjp trying to take all the resources from bengal n sell to gujrat businessmen wont be encouraged by bengal.Kickout bjp.\n",
            "ashishsomkuor\n",
            "India\n",
            "Twitter Web App\n",
            "0\n",
            "112\n",
            "159\n",
            "0\n",
            "<--------------------------------------------------->\n",
            "107\n",
            "2020-11-17 05:11:08\n",
            "1328566317880725504\n",
            "False\n",
            "GUJRAT MODEL OF HONESTY \n",
            "@_sayema\n",
            "@narendramodi\n",
            "@DickDarryl\n",
            "@retheeshraj10\n",
            "@Deep4IND\n",
            "@AmitShah\n",
            "@sangram_enm\n",
            "@smritiirani\n",
            "@MahapatPravat\n",
            "@AKDeshPremi1\n",
            "https://t.co/zkFuEnj1qz\n",
            "KT62779984\n",
            "India\n",
            "Twitter for Android\n",
            "4\n",
            "229\n",
            "309\n",
            "3\n",
            "<--------------------------------------------------->\n",
            "108\n",
            "2020-11-17 04:32:37\n",
            "1328556624550584322\n",
            "False\n",
            "@omnimutant It's a bad sign for Gujrat and will face big poverty in future due to over supporting to big businessmen only by BJP.\n",
            "Madre12218641\n",
            "\n",
            "Twitter for Android\n",
            "1\n",
            "6\n",
            "42\n",
            "0\n",
            "<--------------------------------------------------->\n",
            "109\n",
            "2020-11-17 04:21:10\n",
            "1328553743894290432\n",
            "False\n",
            "@RURALINDIA @INCIndia @RahulGandhi It's upon Congress  candidates who lost by small margins to do the needful. They went to HC in Gujrat, Dholka seat and eventually it was proven that BJP used ECI to steal the seat. \n",
            "Now Congress has to decide if it wants to go to HC again or do d same in states ruled by them. https://t.co/mwP9lSLQ02\n",
            "kabirazad2017\n",
            "New Delhi, India\n",
            "Twitter for Android\n",
            "8\n",
            "2244\n",
            "1022\n",
            "1\n",
            "<--------------------------------------------------->\n",
            "110\n",
            "2020-11-17 04:07:56\n",
            "1328550414648709121\n",
            "False\n",
            "@goyalsanjeev @NitishKumar @tarkishorepd @renu_bjp @JPNadda @AmitShah Gujrat is also a dry state! Has it affected it's economy? Bihar has huge potential, for example world's 80% makana it alone produces. Only if it can be tapped. Liquor is not an excuse for economic activity.\n",
            "i_unkwn\n",
            "Somewhere in manav lok.\n",
            "Twitter for Android\n",
            "0\n",
            "45\n",
            "98\n",
            "0\n",
            "<--------------------------------------------------->\n",
            "111\n",
            "2020-11-17 03:02:45\n",
            "1328534007798259713\n",
            "False\n",
            "@PravinSawhney @Reach Modi je only lead Gujrat like riots.\n",
            "Basis of BJP is discremination, Racism, biased system and riots.\n",
            "GULMEMO70910086\n",
            "\n",
            "Twitter for Android\n",
            "0\n",
            "2\n",
            "159\n",
            "0\n",
            "<--------------------------------------------------->\n",
            "112\n",
            "2020-11-16 20:29:15\n",
            "1328434981094322176\n",
            "False\n",
            "@Grammar_Naaji @1012Sahil @ndtv lol 20 aur 20 ka antar samjhte bhi ho bhai? 20 17 ka fark hai 20 2 ka nhi congress nhi hai wo bjp has done its entire promises in gujrat in 30 years changing our state entirely\n",
            "UddipanMondal1\n",
            "\n",
            "Twitter Web App\n",
            "0\n",
            "21\n",
            "293\n",
            "0\n",
            "<--------------------------------------------------->\n",
            "113\n",
            "2020-11-16 20:25:59\n",
            "1328434157920296960\n",
            "False\n",
            "@RitwikDutta16 @anandsh42539594 @BJP4India Yes I can understand your feeling , but I just want you to understand before vote, every bjp neta vidhayak are not Modi , and that’s the reason bjp are loosing state election , Karnataka,Rajasthan,goa, Madhya Pradesh , Arunachal even in gujrat they win with few margin only\n",
            "ankitp0007\n",
            "Mumbai \n",
            "Twitter for iPhone\n",
            "1\n",
            "52\n",
            "195\n",
            "0\n",
            "<--------------------------------------------------->\n",
            "114\n",
            "2020-11-16 20:13:43\n",
            "1328431072602820608\n",
            "False\n",
            "@RURALINDIA @INCIndia @RahulGandhi That's what used to happen when BJP was at the loosing end. You could answer for Bihar, but what would you say for UP elections or the loss of Govt in MP? Or crushing defeat of INC in MP &amp; Gujrat by-polls?\n",
            "Introspection is the key here. Change in leadership is a must now!\n",
            "HereIs_Archit\n",
            "\n",
            "Twitter Web App\n",
            "1\n",
            "109\n",
            "265\n",
            "0\n",
            "<--------------------------------------------------->\n",
            "115\n",
            "2020-11-16 18:55:35\n",
            "1328411410246692865\n",
            "False\n",
            "Caste of deputy CM of Bihar has made hatred towards BJP.BJP had chosen Gujrat CM as Jain vaisya,Haryana CM as Arora vaisya,Jharkhand exCM as a vaisya and now in Bihar.This has made other Varna groups Kshatriya,Sudra and Brahmina to think .If SUMO is none so Varna of SUMO ?\n",
            "sh12071972\n",
            "\n",
            "Twitter Web App\n",
            "0\n",
            "3\n",
            "70\n",
            "0\n",
            "<--------------------------------------------------->\n",
            "116\n",
            "2020-11-16 18:49:42\n",
            "1328409929036664838\n",
            "False\n",
            "@Pawankhera @INCIndia Congress is worst performer across India it's a burden on most of alliances see it's loosing in MP, UP, Gujrat and Bihar , worst party has put India under BJP\n",
            "UllooB\n",
            "\n",
            "Twitter for iPhone\n",
            "1\n",
            "23\n",
            "156\n",
            "0\n",
            "<--------------------------------------------------->\n",
            "117\n",
            "2020-11-16 18:48:19\n",
            "1328409580150296576\n",
            "False\n",
            "@ashokgehlot51 Congress is worst performer across India it's a burden on most of alliances see it's loosing in MP, UP, Gujrat and Bihar , worst party has put India under BJP\n",
            "UllooB\n",
            "\n",
            "Twitter for iPhone\n",
            "0\n",
            "23\n",
            "156\n",
            "0\n",
            "<--------------------------------------------------->\n",
            "118\n",
            "2020-11-16 18:22:05\n",
            "1328402979242741760\n",
            "False\n",
            "@ashokgehlot51 By election happened In MP Karnataka gujrat because all cong MLA resign and join BJP and almost 100 ex cong MLA are in BJP it's not a leadership failure\n",
            "farooqelite\n",
            "\n",
            "Twitter for Android\n",
            "1\n",
            "100\n",
            "875\n",
            "0\n",
            "<--------------------------------------------------->\n",
            "119\n",
            "2020-11-16 16:00:10\n",
            "1328367264022687745\n",
            "False\n",
            "@ppbajpai In 2017 Gujrat election, Dholka seat was given to BJP by the same method. A close fight, congress was ahead, so BJP used @ECISVEEP and Returning officer refused to count Postal ballot, BJP's Chudasma was declared winner. After 3 years ,High court accepted EC's fraud. https://t.co/YmyW3UbIIs\n",
            "kabirazad2017\n",
            "New Delhi, India\n",
            "Twitter for Android\n",
            "95\n",
            "2244\n",
            "1022\n",
            "30\n",
            "<--------------------------------------------------->\n",
            "120\n",
            "2020-11-16 15:58:27\n",
            "1328366834140082176\n",
            "False\n",
            "#IndiaVsGupkarGang\n",
            "Let congress make gatbandan in J&amp;K also it is good news ,bcoz which ever party is making gatbandan wit Congress they r getting defeated example Andhra ,telangana ,gujrat ,mp  rajastan ,up ,recently bihar they got 20/70 good results ,it will benifit BJP🌹🥀🌼🌻\n",
            "pnagkumar\n",
            "\n",
            "Twitter for Android\n",
            "0\n",
            "5\n",
            "21\n",
            "0\n",
            "<--------------------------------------------------->\n",
            "121\n",
            "2020-11-16 14:46:16\n",
            "1328348665593827328\n",
            "False\n",
            "a Muslim slaughter in Gujrat and the same Modi is planning genocide of Muslims in IIOJK as well. Kashmiri Muslims are witnessing unparalleled victimization under BJP-ruled India. The survey report said that there was a systematic campaign by BJP leaders aimed at spewing 👇👇👇\n",
            "kashmiri__Doll\n",
            "Srinagar, IIOJ&K \n",
            "Twitter for Android\n",
            "0\n",
            "5608\n",
            "6156\n",
            "0\n",
            "<--------------------------------------------------->\n",
            "122\n",
            "2020-11-16 14:26:14\n",
            "1328343625902612483\n",
            "True\n",
            "Gujarat Model be like:\n",
            "- Communal riots\n",
            "- Dalit atrocities\n",
            "- Blatant caste politics\n",
            "- Rampant sexism\n",
            "\n",
            "Do you really think Bengal will allow Gurajat model? Where? In your dreams @DilipGhoshBJP ji?\n",
            "\n",
            "https://t.co/CNeYZEKRbb\n",
            "\n",
            "#BengalRejectsBJP\n",
            "BanglarGorboMB\n",
            "Kolkata, India\n",
            "Twitter Web App\n",
            "456\n",
            "94032\n",
            "2\n",
            "369\n",
            "<--------------------------------------------------->\n",
            "123\n",
            "2020-11-16 14:12:43\n",
            "1328340224561221634\n",
            "False\n",
            "@narendramodi @NitishKumar I have tremendous respect for Gujrat and Bihar for Alcohol free society.\n",
            "Though without money government can not run but these 2 states are giving lot of relief to poor women by banning it.\n",
            "Again earning of Alcohol is against our mythology.\n",
            "Let BJP give a serious thought on this\n",
            "akbhagi\n",
            "Lucknow.gomti nagar\n",
            "Twitter for Android\n",
            "1\n",
            "90\n",
            "10\n",
            "0\n",
            "<--------------------------------------------------->\n",
            "124\n",
            "2020-11-16 14:04:19\n",
            "1328338109155606530\n",
            "False\n",
            "@ancient_bharat @ndtv I hope he write about gujrat riots also and why he declined visa for modi Don't forget he already mentioned that BJP is dividing india in name of religion\n",
            "Salmanf42124466\n",
            "\n",
            "Twitter Web App\n",
            "2\n",
            "7\n",
            "40\n",
            "1\n",
            "<--------------------------------------------------->\n",
            "125\n",
            "2020-11-16 13:59:38\n",
            "1328336933706035200\n",
            "False\n",
            "@rahulkanwal @ahmedpatel @mfaisalpatel That's why BJP failed to defeat him in Rajaya Sabha election from Gujrat.\n",
            "silly_point_\n",
            "India\n",
            "Twitter for Android\n",
            "1\n",
            "51\n",
            "349\n",
            "0\n",
            "<--------------------------------------------------->\n",
            "126\n",
            "2020-11-16 13:43:34\n",
            "1328332890434805760\n",
            "False\n",
            "BJP turns its attention to Bengal; Promise to turn it into Gujrat!! \n",
            "\n",
            "Why not let Bengal be Bengal?  \n",
            "\n",
            "Andha Bhakhts in Maharashtra must be happy with Gujrat being reference to the country, isn't it? 👌\n",
            "Akashdhanurkar1\n",
            "Pimpri, Haveli\n",
            "Twitter for Android\n",
            "1\n",
            "15\n",
            "20\n",
            "0\n",
            "<--------------------------------------------------->\n",
            "127\n",
            "2020-11-16 13:10:48\n",
            "1328324644206567424\n",
            "False\n",
            "@Muzzris @priyankagandhi @RahulGandhi Congress is worst performer across India it's a burden on most of alliances see it's loosing in MP, UP, Gujrat and Bihar , worst party has put India under BJP\n",
            "UllooB\n",
            "\n",
            "Twitter for iPhone\n",
            "0\n",
            "23\n",
            "156\n",
            "0\n",
            "<--------------------------------------------------->\n",
            "128\n",
            "2020-11-16 13:00:35\n",
            "1328322069919014912\n",
            "False\n",
            "@RahulGandhi Congress is worst performer across India it's a burden on most of alliances see it's loosing in MP, UP, Gujrat and Bihar , worst party has put India under BJP\n",
            "UllooB\n",
            "\n",
            "Twitter for iPhone\n",
            "0\n",
            "23\n",
            "156\n",
            "0\n",
            "<--------------------------------------------------->\n",
            "129\n",
            "2020-11-16 10:26:04\n",
            "1328283185097048064\n",
            "False\n",
            "@souravtiwary01 @naalaYUCK @narendramodi @rajnathsingh @JPNadda Uttarakhand Himachal Gujrat UP Haryana sb jgh UC he cm h bjp ka ab her state Me yhi rhege To OBC sc fir other party Me jae ?\n",
            "suresh11136041\n",
            "\n",
            "Twitter for iPhone\n",
            "0\n",
            "650\n",
            "2570\n",
            "0\n",
            "<--------------------------------------------------->\n",
            "130\n",
            "2020-11-16 10:18:27\n",
            "1328281271068368896\n",
            "False\n",
            "@ZahidAhmed58 @ashishp1209 @zafarsareshwala @BJP4India That's so naive.. 😂 West Bengal has 6 ports and Kolkata port is not the biggest one, it's Haldia.\n",
            "\n",
            " And there are bigger ports situated in much worse weather conditions around the world.\n",
            "\n",
            "Gujrat developed because of good planning by bjp govt.\n",
            "was_is_will_be\n",
            "The Seven Seas\n",
            "Twitter for Android\n",
            "1\n",
            "95\n",
            "282\n",
            "0\n",
            "<--------------------------------------------------->\n",
            "131\n",
            "2020-11-16 09:57:59\n",
            "1328276119066382337\n",
            "False\n",
            "@GautamGambhir These photos speak the truth. BJP is responsible for spreading Korona not only in Delhi but also in UP BIHAR GUJRAT &amp; MP. YOU A BIG A$$HOLE @ravi4354 @JagmohanKausha2 @hukam_rawat @EpicRoflDon @RealPoojaJohari https://t.co/cOWQQUi1Jn\n",
            "SLaL_L\n",
            "SFO, CA  Originally Neemrana\n",
            "Twitter for iPhone\n",
            "1\n",
            "591\n",
            "681\n",
            "1\n",
            "<--------------------------------------------------->\n",
            "132\n",
            "2020-11-16 06:35:44\n",
            "1328225220797235205\n",
            "False\n",
            "@CMODelhi Koi yajna karo bjp ko jad s htane k liye...it costs many lives..coz of poor decisions making abilities they formed a mob not government..covid ki koi news hi nhi channels pr\n",
            "This was India the Bharat, Jo dange kabhi gujrat me the aaj poore bharat m h.\n",
            "Hr insaan k dil me h\n",
            "Pixies76704463\n",
            "\n",
            "Twitter for Android\n",
            "0\n",
            "1\n",
            "107\n",
            "0\n",
            "<--------------------------------------------------->\n",
            "133\n",
            "2020-11-16 06:30:14\n",
            "1328223835296915456\n",
            "False\n",
            "WHY IS RAHUL RELUCTANT TO WORK WITH SAME ENTHUSIASM &amp; POTENTIAL HE SHOWED DURING THE GUJRAT, KARNATAKA, MP, RAJASTHAN &amp; CHATISGHAR WHICH LED TO CONGRESS VICTORIES IN MOST OF THIS STATE'S &amp; ENCOURAGED LEADER'S &amp; FEARED BJP OF TOUGH COMPETITION AHEAD IS A BIG PUZZLE.\n",
            "MACHINDRAKARAL1\n",
            "\n",
            "Twitter for Android\n",
            "0\n",
            "3\n",
            "18\n",
            "0\n",
            "<--------------------------------------------------->\n",
            "134\n",
            "2020-11-16 06:02:33\n",
            "1328216869770203137\n",
            "False\n",
            "@PadmakarTillu Arunji  true friend of modiji..when modi was common worker in delhi bjp..and jaitelyji was famous lawyer..but then also jaitleyji given full respect to modiji..he only told Atalji  for gujrat cm modiji is perfect..so Atalji removed keshubhai and ask modiji to take oath\n",
            "rdeepak1416\n",
            "\n",
            "Twitter Web App\n",
            "1\n",
            "165\n",
            "474\n",
            "0\n",
            "<--------------------------------------------------->\n",
            "135\n",
            "2020-11-16 05:55:38\n",
            "1328215130606223360\n",
            "False\n",
            "#NarendraModiji # prahaladmodiji#Bjp gujrat# bjp Telangana # BJP India # amithshahji# naddaji# wishes you happy 100 years of your birth bha pl bless all we children all India to be united and love our nation and bless us all to be happy and healthy charansparsh.🙏💐🤗😍 https://t.co/jSABtncnMX\n",
            "pankajsrinivas5\n",
            "\n",
            "Twitter for iPhone\n",
            "0\n",
            "7\n",
            "79\n",
            "0\n",
            "<--------------------------------------------------->\n",
            "136\n",
            "2020-11-16 04:50:55\n",
            "1328198842769055744\n",
            "False\n",
            "@neerangautam @pujatiwariBJP @_ankahi @nair_hena @shytigress @devyanidilli @nrajabpcl @sureshseshadri1 @Babble524 @Bharatwashi1 @bshariharan @GenPanwar @AB_BJP @BjpSarojini @Bala4India @ChandniPathak19 @KBChakrabarty @deepaknkhanna @ArunDeshpande20 Superb !\n",
            "Gujrat is Blessed State\n",
            "Modiji's Birth place,\n",
            "Blessings Amplified to Whole Nation.\n",
            "\n",
            "PS:\n",
            "Eh!\n",
            "Gandhi pig birthplace too 😔\n",
            "IndianRajeshNCo\n",
            "INDIA\n",
            "Twitter for Android\n",
            "3\n",
            "1284\n",
            "3186\n",
            "1\n",
            "<--------------------------------------------------->\n",
            "137\n",
            "2020-11-16 03:46:14\n",
            "1328182563047927810\n",
            "False\n",
            "@ColSanjayPande India is a rogue country involved in state terrorism and genocide in occupied Kashmir.Led by butcher of Gujrat, riding on support of racist and facist BJP/RSS.Pathological liars.Beaten after Palwama,now again want to heal wounds before Trump leaves the office.India exposed by IK.\n",
            "farrukh369\n",
            "Islamabad\n",
            "Twitter for iPhone\n",
            "0\n",
            "325\n",
            "270\n",
            "0\n",
            "<--------------------------------------------------->\n",
            "138\n",
            "2020-11-16 00:33:37\n",
            "1328134089023451137\n",
            "False\n",
            "@ImranKhanPTI A look at how RSS/BJP Nazi Modi supporters killed muslim women and children in Gujrat, India\n",
            "https://t.co/GRKov6M67R\n",
            "ZayirZir\n",
            "NY, United States | Kashmir\n",
            "Twitter Web App\n",
            "0\n",
            "19\n",
            "257\n",
            "0\n",
            "<--------------------------------------------------->\n",
            "139\n",
            "2020-11-16 00:33:27\n",
            "1328134049232109569\n",
            "False\n",
            "@ImranKhanPTI A look at how RSS/BJP Nazi Modi supporters killed muslim women and children in Gujrat, India\n",
            "https://t.co/GRKov6M67R\n",
            "ZayirZir\n",
            "NY, United States | Kashmir\n",
            "Twitter Web App\n",
            "0\n",
            "19\n",
            "257\n",
            "0\n",
            "<--------------------------------------------------->\n",
            "140\n",
            "2020-11-16 00:32:01\n",
            "1328133686923980806\n",
            "False\n",
            "@ImranKhanPTI A look at how RSS/BJP Nazi Modi supporters killed muslims in Gujrat, India\n",
            "https://t.co/GRKov6M67R\n",
            "ZayirZir\n",
            "NY, United States | Kashmir\n",
            "Twitter Web App\n",
            "0\n",
            "19\n",
            "257\n",
            "0\n",
            "<--------------------------------------------------->\n",
            "141\n",
            "2020-11-15 19:03:06\n",
            "1328050915136270336\n",
            "False\n",
            "@aimim_national @asadowaisi In addition, Muslims should identify more with country than with Kaum. Many do; and are happy.\n",
            "Why is that Muslims in BJP ruled Gujrat are prosperous compared to non-BJP ruled WB?\n",
            "dmishra2000\n",
            "\n",
            "Twitter Web App\n",
            "1\n",
            "175\n",
            "197\n",
            "0\n",
            "<--------------------------------------------------->\n",
            "142\n",
            "2020-11-15 18:06:36\n",
            "1328036695925690370\n",
            "False\n",
            "@LondaBayankar @samanta_sikha @narendramodi @report_real @ThePrintIndia hindu muslim kahi nhi ladhta except conress funded or aap funded incident aap ke mla thair hussain to khule mai gunda gardi ki inko support karoge gujrat mai 2002 ke baad ab tak koi religious riot nhi hua nor did n up after2017 when yogi came muslimhindu dono vote dete hai bjp ko\n",
            "UddipanMondal1\n",
            "\n",
            "Twitter Web App\n",
            "0\n",
            "21\n",
            "293\n",
            "0\n",
            "<--------------------------------------------------->\n",
            "143\n",
            "2020-11-15 18:03:20\n",
            "1328035874731278336\n",
            "False\n",
            "@LondaBayankar @samanta_sikha @narendramodi @report_real @ThePrintIndia ha to bhai waho to baat hai no one goes to arunachal for work you have beauty and tourist sports only so why do you expect any party to make you like gujrat when you dont have the same resources bjp is trying to make roads and airports to improve tourism its max anyone can do\n",
            "UddipanMondal1\n",
            "\n",
            "Twitter Web App\n",
            "0\n",
            "21\n",
            "293\n",
            "0\n",
            "<--------------------------------------------------->\n",
            "144\n",
            "2020-11-15 17:43:24\n",
            "1328030855676133377\n",
            "False\n",
            "@LondaBayankar @samanta_sikha @narendramodi @report_real @ThePrintIndia but bjp doesnt shout ki aj school mbanadiya UP mai ya migrant ko  khana dediya , kejri 100 kharch karega kaam oe 20 karega ye sabko batane mai , modi / cong have worked silently over the years albeit different results look at gujrat how great it has become in 20 yrs\n",
            "UddipanMondal1\n",
            "\n",
            "Twitter Web App\n",
            "0\n",
            "21\n",
            "293\n",
            "0\n",
            "<--------------------------------------------------->\n",
            "145\n",
            "2020-11-15 17:28:37\n",
            "1328027135303290880\n",
            "False\n",
            "@swatimeraki @kashmirkahindu thats the difference between islamic stooges and hindu \n",
            "kp have been vanished and stil living in camps\n",
            "while the ra*di rona of gujrat 2002 continues till now even when modiji made muslim of gujrat most financially strong in whole country \n",
            "most gujju muslim still support bjp 😯\n",
            "Marcos8001Force\n",
            "\n",
            "Twitter for Android\n",
            "1\n",
            "58\n",
            "287\n",
            "0\n",
            "<--------------------------------------------------->\n",
            "146\n",
            "2020-11-15 16:55:18\n",
            "1328018750201847808\n",
            "False\n",
            "@Abdulkadir_up Someone just posted a tweet,  Muslims under BJP ruled state of Gujrat are most prosperous and muslims in non-BJP ruled state of WB are least.\n",
            "So, Vote for BJP and Vote for yourself and India.\n",
            "dmishra2000\n",
            "\n",
            "Twitter for Android\n",
            "1\n",
            "175\n",
            "197\n",
            "0\n",
            "<--------------------------------------------------->\n",
            "147\n",
            "2020-11-15 16:49:45\n",
            "1328017354127671296\n",
            "True\n",
            "I have only said inspite of 25 years of BJP even now in 2020 Muslims in Gujrat are what they are! By the way khojas, Memons and Bohras are a very small minority amongst the Muslims! The Development is allround across all Muslim Communities https://t.co/80EFtAtJmY\n",
            "zafarsareshwala\n",
            "Mumbai, India\n",
            "Twitter for iPhone\n",
            "110\n",
            "40842\n",
            "1449\n",
            "12\n",
            "<--------------------------------------------------->\n",
            "148\n",
            "2020-11-15 16:42:12\n",
            "1328015453508145158\n",
            "False\n",
            "@pashyaka @AgentSaffron Recent developments in UP &amp; Bihar is encouraging if BJP &amp; RSS is able to Consolidate it permanently like they did in Gujrat,it will be a gamechanger for the Hindu Society in the long term.\n",
            "VinayCh65213788\n",
            "Bharat\n",
            "Twitter Web App\n",
            "0\n",
            "19\n",
            "47\n",
            "0\n",
            "<--------------------------------------------------->\n",
            "149\n",
            "2020-11-15 14:38:37\n",
            "1327984354908282880\n",
            "False\n",
            "A beautiful review on #BJP25Plus1 Book in @Vijaykarnataka today.\n",
            "\n",
            "#newbook #BookReview #BookRecommendations \n",
            "#Godse #NathuramGodse #Gujrat #Gandhi #BJP4bihar #BJP #Modi @VVani4U @blsanthosh @BSYBJP @narendramodi #NarendraModi #BSYediyurappa https://t.co/fs0Oi5SHaz\n",
            "rameshapm\n",
            "Bengaluru\n",
            "Twitter for Android\n",
            "1\n",
            "616\n",
            "578\n",
            "0\n",
            "<--------------------------------------------------->\n",
            "150\n",
            "2020-11-15 14:23:11\n",
            "1327980471272181765\n",
            "False\n",
            "@MahimaDixit18 @aryankshatri @theskindoctor13 @imVkohli Jabse BJP gujrat me aayi he BJP ne gujrat ka pura naksha badal diya he and i appreciate that. (2/2)\n",
            "Chirag75114920\n",
            "\n",
            "Twitter for Android\n",
            "0\n",
            "2\n",
            "26\n",
            "0\n",
            "<--------------------------------------------------->\n",
            "151\n",
            "2020-11-15 14:02:42\n",
            "1327975314069147648\n",
            "False\n",
            "@Noor__Maryam So don't blame Owaisi on Ur defeats too.\n",
            "What was your strike rate on those 70 seats in Bihar? Us din UP, Haryana, Chattisgarh, Madhya Pardesh, Gujrat se bhi BJP jeeti waha toh Owaisi ni ld raha tha\n",
            "Amir_Khatana_\n",
            "Jammu And Kashmir\n",
            "Twitter for Android\n",
            "0\n",
            "1853\n",
            "1149\n",
            "0\n",
            "<--------------------------------------------------->\n",
            "152\n",
            "2020-11-15 13:16:23\n",
            "1327963660673839106\n",
            "False\n",
            "@zafarsareshwala @BJP4India This zameerfarosh will justify detention center for Muslims. BJP did carnage on Muslims in Gujrat riots. What Gujarati Muslim has achieved has nothing to with BJP, infact it is inspite of oppression from RSS/BJP.\n",
            "KhanSaheb_1\n",
            "India\n",
            "Twitter for Android\n",
            "12\n",
            "905\n",
            "3407\n",
            "3\n",
            "<--------------------------------------------------->\n",
            "153\n",
            "2020-11-15 12:30:33\n",
            "1327952124735614976\n",
            "False\n",
            "@rajkuma04775211 @AshwiniBJP Congress ministers of Maharastra and Gujrat have connection with Dawood gang. Not BJP ministers.\n",
            "That's why Congress is still very strong in Maharastra.\n",
            "veenadsharma45\n",
            "\n",
            "Twitter for Android\n",
            "0\n",
            "796\n",
            "715\n",
            "0\n",
            "<--------------------------------------------------->\n",
            "154\n",
            "2020-11-15 12:11:00\n",
            "1327947206360399873\n",
            "False\n",
            "@zafarsareshwala @BJP4India Sir, You rightly said that muslims are most prosperous in Gujrat where BJP is ruling for last 25 years.\n",
            "You are the most sane and logical voice of muslims in India, \n",
            "Uniting people like you,You have to be more and more proactive as Muslim voice without joining any political party\n",
            "AjayPremKaushal\n",
            "Jaipur, India\n",
            "Twitter for Android\n",
            "7\n",
            "252\n",
            "741\n",
            "1\n",
            "<--------------------------------------------------->\n",
            "155\n",
            "2020-11-15 12:07:03\n",
            "1327946212159340546\n",
            "False\n",
            "@gops33 In d 2017 Gujrat election results, Dholka seat was stolen by BJP through a similar fraud of using @ECISVEEP to not count postal ballots by pressuring RO, Chudasma declared winner. Took 3 years for HC to declare his election null &amp; void, meanwhile he was Law minister of Gujarat\n",
            "kabirazad2017\n",
            "New Delhi, India\n",
            "Twitter for Android\n",
            "0\n",
            "2244\n",
            "1022\n",
            "0\n",
            "<--------------------------------------------------->\n",
            "156\n"
          ],
          "name": "stdout"
        }
      ]
    },
    {
      "cell_type": "code",
      "metadata": {
        "id": "rnC_-x_vgzPB"
      },
      "source": [
        "import re\n",
        "import numpy as np\n",
        "\n",
        "import matplotlib.pyplot as plt\n",
        "import seaborn as sns\n",
        "\n",
        "import pandas as pd\n",
        "\n",
        "import datetime as dt\n",
        "from collections import Counter\n",
        "\n",
        "import nltk\n",
        "from nltk.tokenize import sent_tokenize\n",
        "from nltk.tokenize import TweetTokenizer\n",
        "from nltk.tokenize import word_tokenize\n",
        "from nltk.corpus import words\n",
        "from nltk.corpus import stopwords\n",
        "from nltk.stem import PorterStemmer\n",
        "from nltk.stem import WordNetLemmatizer"
      ],
      "execution_count": 5,
      "outputs": []
    },
    {
      "cell_type": "code",
      "metadata": {
        "id": "uuKwAeG2VKgp",
        "colab": {
          "base_uri": "https://localhost:8080/"
        },
        "outputId": "b8968cb5-d1f2-4554-e349-26e734d0423c"
      },
      "source": [
        "df.info()"
      ],
      "execution_count": 6,
      "outputs": [
        {
          "output_type": "stream",
          "text": [
            "<class 'pandas.core.frame.DataFrame'>\n",
            "RangeIndex: 156 entries, 0 to 155\n",
            "Data columns (total 11 columns):\n",
            " #   Column     Non-Null Count  Dtype         \n",
            "---  ------     --------------  -----         \n",
            " 0   Date       156 non-null    datetime64[ns]\n",
            " 1   Tweet_id   156 non-null    int64         \n",
            " 2   Verified   156 non-null    bool          \n",
            " 3   Tweet      156 non-null    object        \n",
            " 4   User       156 non-null    object        \n",
            " 5   Location   156 non-null    object        \n",
            " 6   Source     156 non-null    object        \n",
            " 7   Likes      156 non-null    int64         \n",
            " 8   Followers  156 non-null    int64         \n",
            " 9   Following  156 non-null    int64         \n",
            " 10  Retweets   156 non-null    int64         \n",
            "dtypes: bool(1), datetime64[ns](1), int64(5), object(4)\n",
            "memory usage: 12.5+ KB\n"
          ],
          "name": "stdout"
        }
      ]
    },
    {
      "cell_type": "code",
      "metadata": {
        "id": "Yz9Mr_5bU3wO",
        "colab": {
          "base_uri": "https://localhost:8080/"
        },
        "outputId": "7cee19b8-4eed-4c85-fda5-2a39b620d9d4"
      },
      "source": [
        "df.shape"
      ],
      "execution_count": 7,
      "outputs": [
        {
          "output_type": "execute_result",
          "data": {
            "text/plain": [
              "(156, 11)"
            ]
          },
          "metadata": {
            "tags": []
          },
          "execution_count": 7
        }
      ]
    },
    {
      "cell_type": "code",
      "metadata": {
        "id": "U2TqiSlvU5AL"
      },
      "source": [
        "df['Date'] = df['Date'].apply(lambda x: dt.datetime.strptime(str(x),'%Y-%m-%d %H:%M:%S')) #Convert to date time format"
      ],
      "execution_count": 10,
      "outputs": []
    },
    {
      "cell_type": "code",
      "metadata": {
        "id": "iALZ0QjFX6iW",
        "colab": {
          "base_uri": "https://localhost:8080/"
        },
        "outputId": "73c5de8a-386f-4fd1-e210-d41961fcbe3f"
      },
      "source": [
        "df.dtypes"
      ],
      "execution_count": 11,
      "outputs": [
        {
          "output_type": "execute_result",
          "data": {
            "text/plain": [
              "Date         datetime64[ns]\n",
              "Tweet_id              int64\n",
              "Verified               bool\n",
              "Tweet                object\n",
              "User                 object\n",
              "Location             object\n",
              "Source               object\n",
              "Likes                 int64\n",
              "Followers             int64\n",
              "Following             int64\n",
              "Retweets              int64\n",
              "dtype: object"
            ]
          },
          "metadata": {
            "tags": []
          },
          "execution_count": 11
        }
      ]
    },
    {
      "cell_type": "code",
      "metadata": {
        "id": "QwBHDIQ7X-S-",
        "colab": {
          "base_uri": "https://localhost:8080/"
        },
        "outputId": "9585fa6b-1395-4897-bb6c-c993fa3bf1c1"
      },
      "source": [
        "df.isnull().sum()"
      ],
      "execution_count": 13,
      "outputs": [
        {
          "output_type": "execute_result",
          "data": {
            "text/plain": [
              "Date         0\n",
              "Tweet_id     0\n",
              "Verified     0\n",
              "Tweet        0\n",
              "User         0\n",
              "Location     0\n",
              "Source       0\n",
              "Likes        0\n",
              "Followers    0\n",
              "Following    0\n",
              "Retweets     0\n",
              "dtype: int64"
            ]
          },
          "metadata": {
            "tags": []
          },
          "execution_count": 13
        }
      ]
    },
    {
      "cell_type": "code",
      "metadata": {
        "id": "PULuNP0EYKb8",
        "colab": {
          "base_uri": "https://localhost:8080/"
        },
        "outputId": "f0fb452e-57a2-41ed-dd81-4299d597ba6a"
      },
      "source": [
        "df['Source'].value_counts()"
      ],
      "execution_count": 14,
      "outputs": [
        {
          "output_type": "execute_result",
          "data": {
            "text/plain": [
              "Twitter for Android    97\n",
              "Twitter Web App        41\n",
              "Twitter for iPhone     18\n",
              "Name: Source, dtype: int64"
            ]
          },
          "metadata": {
            "tags": []
          },
          "execution_count": 14
        }
      ]
    },
    {
      "cell_type": "code",
      "metadata": {
        "id": "L0yluKAMYUhm",
        "colab": {
          "base_uri": "https://localhost:8080/"
        },
        "outputId": "700b0bb7-1744-4c92-f0be-ed2986e97d31"
      },
      "source": [
        "df['Location'].nunique()"
      ],
      "execution_count": 15,
      "outputs": [
        {
          "output_type": "execute_result",
          "data": {
            "text/plain": [
              "46"
            ]
          },
          "metadata": {
            "tags": []
          },
          "execution_count": 15
        }
      ]
    },
    {
      "cell_type": "code",
      "metadata": {
        "id": "YaaScZPVYalK",
        "colab": {
          "base_uri": "https://localhost:8080/"
        },
        "outputId": "6d568c12-3ecc-40c9-dc30-d7cfac6e4df2"
      },
      "source": [
        "tweets_list = df['Tweet'].tolist()\n",
        "len(tweets_list)"
      ],
      "execution_count": 16,
      "outputs": [
        {
          "output_type": "execute_result",
          "data": {
            "text/plain": [
              "156"
            ]
          },
          "metadata": {
            "tags": []
          },
          "execution_count": 16
        }
      ]
    },
    {
      "cell_type": "code",
      "metadata": {
        "id": "ki_iXrJoYe8a",
        "colab": {
          "base_uri": "https://localhost:8080/"
        },
        "outputId": "9c2e0751-ccb4-4f71-fdb7-a581fc740e31"
      },
      "source": [
        "tweets_list_updated = set(tweets_list)\n",
        "len(tweets_list_updated)\n"
      ],
      "execution_count": 17,
      "outputs": [
        {
          "output_type": "execute_result",
          "data": {
            "text/plain": [
              "155"
            ]
          },
          "metadata": {
            "tags": []
          },
          "execution_count": 17
        }
      ]
    },
    {
      "cell_type": "code",
      "metadata": {
        "id": "4UT1yjfTYiLB",
        "colab": {
          "base_uri": "https://localhost:8080/"
        },
        "outputId": "961620d5-44d4-4a03-a597-742cbbb2a37d"
      },
      "source": [
        "tweets_list_updated  = list(tweets_list_updated)\n",
        "type(tweets_list_updated)"
      ],
      "execution_count": 18,
      "outputs": [
        {
          "output_type": "execute_result",
          "data": {
            "text/plain": [
              "list"
            ]
          },
          "metadata": {
            "tags": []
          },
          "execution_count": 18
        }
      ]
    },
    {
      "cell_type": "code",
      "metadata": {
        "id": "oOTJ2Z1IYl15",
        "colab": {
          "base_uri": "https://localhost:8080/"
        },
        "outputId": "5732eccf-960f-4e74-c1a1-acfa0ebf4996"
      },
      "source": [
        "df['Tweet'].duplicated().sum()"
      ],
      "execution_count": 19,
      "outputs": [
        {
          "output_type": "execute_result",
          "data": {
            "text/plain": [
              "1"
            ]
          },
          "metadata": {
            "tags": []
          },
          "execution_count": 19
        }
      ]
    },
    {
      "cell_type": "code",
      "metadata": {
        "id": "iboT9Z8nYts6",
        "colab": {
          "base_uri": "https://localhost:8080/"
        },
        "outputId": "4c925243-ff9a-439f-d899-b3ac1efb777b"
      },
      "source": [
        "df = df.drop_duplicates(subset = 'Tweet', keep = 'first',ignore_index = True)\n",
        "df.shape"
      ],
      "execution_count": 20,
      "outputs": [
        {
          "output_type": "execute_result",
          "data": {
            "text/plain": [
              "(155, 11)"
            ]
          },
          "metadata": {
            "tags": []
          },
          "execution_count": 20
        }
      ]
    },
    {
      "cell_type": "code",
      "metadata": {
        "id": "YtUW3NmsYw7L",
        "colab": {
          "base_uri": "https://localhost:8080/"
        },
        "outputId": "6b437e45-3fd1-4e89-cf0c-a8ead602f26d"
      },
      "source": [
        "df['Tweet'].duplicated().sum()"
      ],
      "execution_count": 21,
      "outputs": [
        {
          "output_type": "execute_result",
          "data": {
            "text/plain": [
              "0"
            ]
          },
          "metadata": {
            "tags": []
          },
          "execution_count": 21
        }
      ]
    },
    {
      "cell_type": "code",
      "metadata": {
        "id": "87iWarvlY1GV"
      },
      "source": [
        "def remove_emoji(tweet):\n",
        "    emoji_pattern = re.compile(\"[\"\n",
        "            u\"\\U0001F600-\\U0001F64F\"  # emoticons\n",
        "            u\"\\U0001F300-\\U0001F5FF\"  # symbols & pictographs\n",
        "            u\"\\U0001F680-\\U0001F6FF\"  # transport & map symbols\n",
        "            u\"\\U0001F1E0-\\U0001F1FF\"  # flags (iOS)\n",
        "                               \"]+\", flags=re.UNICODE)\n",
        "    return emoji_pattern.sub(r'', tweet)\n",
        "\n",
        "df['Processed_Tweet']=df.Tweet.apply(remove_emoji)"
      ],
      "execution_count": 22,
      "outputs": []
    },
    {
      "cell_type": "code",
      "metadata": {
        "id": "ufbUsSdyY8ZL",
        "colab": {
          "base_uri": "https://localhost:8080/"
        },
        "outputId": "ce35cd8b-18a6-41d9-ec5a-b77c54a178b7"
      },
      "source": [
        "count=0\n",
        "for i in df['Processed_Tweet']:\n",
        "    if re.match(r'^RT', i):  #remove any rows that contain RT\n",
        "        df.drop(df.loc[df['Processed_Tweet']==i].index,inplace = True)\n",
        "        count+=1\n",
        "    \n",
        "count"
      ],
      "execution_count": 23,
      "outputs": [
        {
          "output_type": "execute_result",
          "data": {
            "text/plain": [
              "0"
            ]
          },
          "metadata": {
            "tags": []
          },
          "execution_count": 23
        }
      ]
    },
    {
      "cell_type": "code",
      "metadata": {
        "id": "5xlJXmV2ZBEw",
        "colab": {
          "base_uri": "https://localhost:8080/"
        },
        "outputId": "32eb3b89-efc0-4c18-aa8d-55aa77e020ce"
      },
      "source": [
        "df.shape"
      ],
      "execution_count": 24,
      "outputs": [
        {
          "output_type": "execute_result",
          "data": {
            "text/plain": [
              "(155, 12)"
            ]
          },
          "metadata": {
            "tags": []
          },
          "execution_count": 24
        }
      ]
    },
    {
      "cell_type": "code",
      "metadata": {
        "id": "8dR-gpRYZGhr",
        "colab": {
          "base_uri": "https://localhost:8080/"
        },
        "outputId": "eec1dccc-a126-46f4-b92c-4b0af3e85439"
      },
      "source": [
        "df['Processed_Tweet']"
      ],
      "execution_count": 25,
      "outputs": [
        {
          "output_type": "execute_result",
          "data": {
            "text/plain": [
              "0      Uttrakhand Election\\nBJP - 70(Total Seats) - 3...\n",
              "1      @SaketGokhale @PriyankKharge Yes in 2014 when ...\n",
              "2      @84nanikiran @varunsankineni @KTRTRS @BJP4Tela...\n",
              "3      @aajtak @journovidya BJP shall give real chall...\n",
              "4      @aajtak @AkhileshPSingh @sambitswaraj @anjanao...\n",
              "                             ...                        \n",
              "150    @Noor__Maryam So don't blame Owaisi on Ur defe...\n",
              "151    @zafarsareshwala @BJP4India This zameerfarosh ...\n",
              "152    @rajkuma04775211 @AshwiniBJP Congress minister...\n",
              "153    @zafarsareshwala @BJP4India Sir, You rightly s...\n",
              "154    @gops33 In d 2017 Gujrat election results, Dho...\n",
              "Name: Processed_Tweet, Length: 155, dtype: object"
            ]
          },
          "metadata": {
            "tags": []
          },
          "execution_count": 25
        }
      ]
    },
    {
      "cell_type": "code",
      "metadata": {
        "id": "K5CezelDZKDa",
        "colab": {
          "base_uri": "https://localhost:8080/"
        },
        "outputId": "d727a86b-dfb5-40e6-b5ed-9b7e77a1ac92"
      },
      "source": [
        "df['Processed_Tweet'] = [re.sub('^RT[\\s]','',i) for i in df['Processed_Tweet']]  #Remove RT substring\n",
        "df['Processed_Tweet']"
      ],
      "execution_count": 26,
      "outputs": [
        {
          "output_type": "execute_result",
          "data": {
            "text/plain": [
              "0      Uttrakhand Election\\nBJP - 70(Total Seats) - 3...\n",
              "1      @SaketGokhale @PriyankKharge Yes in 2014 when ...\n",
              "2      @84nanikiran @varunsankineni @KTRTRS @BJP4Tela...\n",
              "3      @aajtak @journovidya BJP shall give real chall...\n",
              "4      @aajtak @AkhileshPSingh @sambitswaraj @anjanao...\n",
              "                             ...                        \n",
              "150    @Noor__Maryam So don't blame Owaisi on Ur defe...\n",
              "151    @zafarsareshwala @BJP4India This zameerfarosh ...\n",
              "152    @rajkuma04775211 @AshwiniBJP Congress minister...\n",
              "153    @zafarsareshwala @BJP4India Sir, You rightly s...\n",
              "154    @gops33 In d 2017 Gujrat election results, Dho...\n",
              "Name: Processed_Tweet, Length: 155, dtype: object"
            ]
          },
          "metadata": {
            "tags": []
          },
          "execution_count": 26
        }
      ]
    },
    {
      "cell_type": "code",
      "metadata": {
        "id": "gjiyro27ZOx_",
        "colab": {
          "base_uri": "https://localhost:8080/"
        },
        "outputId": "6ce3d271-e9b1-4301-ed0f-78181f0ad148"
      },
      "source": [
        "df['Processed_Tweet'] = [re.sub('@[^\\s]+', ' ', i) for i in df['Processed_Tweet']] #remove usernames\n",
        "df['Processed_Tweet']"
      ],
      "execution_count": 27,
      "outputs": [
        {
          "output_type": "execute_result",
          "data": {
            "text/plain": [
              "0      Uttrakhand Election\\nBJP - 70(Total Seats) - 3...\n",
              "1          Yes in 2014 when his was in-charge of UP ,...\n",
              "2                                BJP ruled States Are...\n",
              "3          BJP shall give real challenge as Bengal wi...\n",
              "4              BJP shall give real challenge as Benga...\n",
              "                             ...                        \n",
              "150      So don't blame Owaisi on Ur defeats too.\\nWh...\n",
              "151        This zameerfarosh will justify detention c...\n",
              "152        Congress ministers of Maharastra and Gujra...\n",
              "153        Sir, You rightly said that muslims are mos...\n",
              "154      In d 2017 Gujrat election results, Dholka se...\n",
              "Name: Processed_Tweet, Length: 155, dtype: object"
            ]
          },
          "metadata": {
            "tags": []
          },
          "execution_count": 27
        }
      ]
    },
    {
      "cell_type": "code",
      "metadata": {
        "id": "HedkRzD1ZS4Q",
        "colab": {
          "base_uri": "https://localhost:8080/"
        },
        "outputId": "838e8e12-854b-4f62-aa76-5ca8d76459a4"
      },
      "source": [
        "df['Processed_Tweet'] = [re.sub('((www\\.[^\\s]+)|(https?://[^\\s]+))', '', i) for i in df['Processed_Tweet']] #Remove urls\n",
        "df['Processed_Tweet']"
      ],
      "execution_count": 28,
      "outputs": [
        {
          "output_type": "execute_result",
          "data": {
            "text/plain": [
              "0      Uttrakhand Election\\nBJP - 70(Total Seats) - 3...\n",
              "1          Yes in 2014 when his was in-charge of UP ,...\n",
              "2                                BJP ruled States Are...\n",
              "3          BJP shall give real challenge as Bengal wi...\n",
              "4              BJP shall give real challenge as Benga...\n",
              "                             ...                        \n",
              "150      So don't blame Owaisi on Ur defeats too.\\nWh...\n",
              "151        This zameerfarosh will justify detention c...\n",
              "152        Congress ministers of Maharastra and Gujra...\n",
              "153        Sir, You rightly said that muslims are mos...\n",
              "154      In d 2017 Gujrat election results, Dholka se...\n",
              "Name: Processed_Tweet, Length: 155, dtype: object"
            ]
          },
          "metadata": {
            "tags": []
          },
          "execution_count": 28
        }
      ]
    },
    {
      "cell_type": "code",
      "metadata": {
        "id": "EmDOOVqcZXb0",
        "colab": {
          "base_uri": "https://localhost:8080/"
        },
        "outputId": "385136d7-d76e-49c3-a18b-9cec2229a07b"
      },
      "source": [
        "df['Processed_Tweet'] = [re.sub(r'#([^\\s]+)', r'\\1', i) for i in df['Processed_Tweet']] # remove the # in #hashtag\n",
        "df['Processed_Tweet']"
      ],
      "execution_count": 29,
      "outputs": [
        {
          "output_type": "execute_result",
          "data": {
            "text/plain": [
              "0      Uttrakhand Election\\nBJP - 70(Total Seats) - 3...\n",
              "1          Yes in 2014 when his was in-charge of UP ,...\n",
              "2                                BJP ruled States Are...\n",
              "3          BJP shall give real challenge as Bengal wi...\n",
              "4              BJP shall give real challenge as Benga...\n",
              "                             ...                        \n",
              "150      So don't blame Owaisi on Ur defeats too.\\nWh...\n",
              "151        This zameerfarosh will justify detention c...\n",
              "152        Congress ministers of Maharastra and Gujra...\n",
              "153        Sir, You rightly said that muslims are mos...\n",
              "154      In d 2017 Gujrat election results, Dholka se...\n",
              "Name: Processed_Tweet, Length: 155, dtype: object"
            ]
          },
          "metadata": {
            "tags": []
          },
          "execution_count": 29
        }
      ]
    },
    {
      "cell_type": "code",
      "metadata": {
        "id": "GSXJD-U6ZhW1",
        "colab": {
          "base_uri": "https://localhost:8080/"
        },
        "outputId": "340ac4bf-5835-472f-d221-66438e1ad763"
      },
      "source": [
        "!pip install tweet-preprocessor"
      ],
      "execution_count": 30,
      "outputs": [
        {
          "output_type": "stream",
          "text": [
            "Collecting tweet-preprocessor\n",
            "  Downloading https://files.pythonhosted.org/packages/17/9d/71bd016a9edcef8860c607e531f30bd09b13103c7951ae73dd2bf174163c/tweet_preprocessor-0.6.0-py3-none-any.whl\n",
            "Installing collected packages: tweet-preprocessor\n",
            "Successfully installed tweet-preprocessor-0.6.0\n"
          ],
          "name": "stdout"
        }
      ]
    },
    {
      "cell_type": "code",
      "metadata": {
        "id": "S-GqeFH8ZcYI",
        "colab": {
          "base_uri": "https://localhost:8080/"
        },
        "outputId": "26a366e1-a981-4bdf-a2af-c390127bd3ea"
      },
      "source": [
        "import preprocessor as p #Module for faster preprocessing specifically for tweets\n",
        "df['Processed_Tweet'] = [p.clean(i) for i in df['Processed_Tweet']]\n",
        "df['Processed_Tweet']"
      ],
      "execution_count": 31,
      "outputs": [
        {
          "output_type": "execute_result",
          "data": {
            "text/plain": [
              "0      Uttrakhand ElectionBJP - (Total Seats) - (Won)...\n",
              "1      Yes in when his was in-charge of UP , he got /...\n",
              "2      BJP ruled States Are Filthy ? cities from Gujr...\n",
              "3      BJP shall give real challenge as Bengal will o...\n",
              "4      BJP shall give real challenge as Bengal will o...\n",
              "                             ...                        \n",
              "150    So don't blame Owaisi on Ur defeats too.What w...\n",
              "151    This zameerfarosh will justify detention cente...\n",
              "152    Congress ministers of Maharastra and Gujrat ha...\n",
              "153    Sir, You rightly said that muslims are most pr...\n",
              "154    In d Gujrat election results, Dholka seat was ...\n",
              "Name: Processed_Tweet, Length: 155, dtype: object"
            ]
          },
          "metadata": {
            "tags": []
          },
          "execution_count": 31
        }
      ]
    },
    {
      "cell_type": "code",
      "metadata": {
        "id": "T0_7jWfXZo2E",
        "colab": {
          "base_uri": "https://localhost:8080/"
        },
        "outputId": "7dd1b165-fa19-410c-d8c3-bce7b0a841ed"
      },
      "source": [
        "#removing unnecessary special characters, numbers, punctuations in tweets\n",
        "df.Processed_Tweet = df.Processed_Tweet.str.replace(\"[^a-zA-Z]\", \" \")\n",
        "df[\"Processed_Tweet\"]"
      ],
      "execution_count": 32,
      "outputs": [
        {
          "output_type": "execute_result",
          "data": {
            "text/plain": [
              "0      Uttrakhand ElectionBJP    Total Seats     Won ...\n",
              "1      Yes in when his was in charge of UP   he got  ...\n",
              "2      BJP ruled States Are Filthy   cities from Gujr...\n",
              "3      BJP shall give real challenge as Bengal will o...\n",
              "4      BJP shall give real challenge as Bengal will o...\n",
              "                             ...                        \n",
              "150    So don t blame Owaisi on Ur defeats too What w...\n",
              "151    This zameerfarosh will justify detention cente...\n",
              "152    Congress ministers of Maharastra and Gujrat ha...\n",
              "153    Sir  You rightly said that muslims are most pr...\n",
              "154    In d Gujrat election results  Dholka seat was ...\n",
              "Name: Processed_Tweet, Length: 155, dtype: object"
            ]
          },
          "metadata": {
            "tags": []
          },
          "execution_count": 32
        }
      ]
    },
    {
      "cell_type": "code",
      "metadata": {
        "id": "3rQeZOTCZsd7",
        "colab": {
          "base_uri": "https://localhost:8080/"
        },
        "outputId": "7e759a71-c7bf-4b5f-c60f-705a57c1f43f"
      },
      "source": [
        "df.Processed_Tweet = [low.lower() for low in df.Processed_Tweet] #Converting into lower case\n",
        "df[\"Processed_Tweet\"]"
      ],
      "execution_count": 33,
      "outputs": [
        {
          "output_type": "execute_result",
          "data": {
            "text/plain": [
              "0      uttrakhand electionbjp    total seats     won ...\n",
              "1      yes in when his was in charge of up   he got  ...\n",
              "2      bjp ruled states are filthy   cities from gujr...\n",
              "3      bjp shall give real challenge as bengal will o...\n",
              "4      bjp shall give real challenge as bengal will o...\n",
              "                             ...                        \n",
              "150    so don t blame owaisi on ur defeats too what w...\n",
              "151    this zameerfarosh will justify detention cente...\n",
              "152    congress ministers of maharastra and gujrat ha...\n",
              "153    sir  you rightly said that muslims are most pr...\n",
              "154    in d gujrat election results  dholka seat was ...\n",
              "Name: Processed_Tweet, Length: 155, dtype: object"
            ]
          },
          "metadata": {
            "tags": []
          },
          "execution_count": 33
        }
      ]
    },
    {
      "cell_type": "code",
      "metadata": {
        "id": "D1caun-KZxeX",
        "colab": {
          "base_uri": "https://localhost:8080/",
          "height": 52
        },
        "outputId": "38c704a5-e46f-467b-af11-83f8f700534f"
      },
      "source": [
        "df.Processed_Tweet =  df.Processed_Tweet.str.replace(\"amp\", \"\")\n",
        "df['Processed_Tweet'][12] #Sample tweet"
      ],
      "execution_count": 34,
      "outputs": [
        {
          "output_type": "execute_result",
          "data": {
            "application/vnd.google.colaboratory.intrinsic+json": {
              "type": "string"
            },
            "text/plain": [
              "'what about bjp ruling states like gujrat  himachal  up  bihar  haryana etc    are they failed to get top three position    '"
            ]
          },
          "metadata": {
            "tags": []
          },
          "execution_count": 34
        }
      ]
    },
    {
      "cell_type": "code",
      "metadata": {
        "id": "AQ7xfpqOZ7gx",
        "colab": {
          "base_uri": "https://localhost:8080/"
        },
        "outputId": "e58e408e-9075-4b8f-82c9-c1559df28d76"
      },
      "source": [
        "df['User'].value_counts()"
      ],
      "execution_count": 35,
      "outputs": [
        {
          "output_type": "execute_result",
          "data": {
            "text/plain": [
              "Arvind19802017     14\n",
              "VasudevSeth         8\n",
              "UddipanMondal1      5\n",
              "UllooB              5\n",
              "kabirazad2017       4\n",
              "                   ..\n",
              "gyan_stock          1\n",
              "Mhleo               1\n",
              "trimendiratta       1\n",
              "Harishc94614675     1\n",
              "taxfreebharat       1\n",
              "Name: User, Length: 114, dtype: int64"
            ]
          },
          "metadata": {
            "tags": []
          },
          "execution_count": 35
        }
      ]
    },
    {
      "cell_type": "code",
      "metadata": {
        "id": "WX3ijK3eZ9CL",
        "colab": {
          "base_uri": "https://localhost:8080/"
        },
        "outputId": "18fad249-139b-4f5e-a7ee-00a1671ec836"
      },
      "source": [
        "df.query('User == \"jacketrose86\"').Processed_Tweet.tolist()"
      ],
      "execution_count": 36,
      "outputs": [
        {
          "output_type": "execute_result",
          "data": {
            "text/plain": [
              "[]"
            ]
          },
          "metadata": {
            "tags": []
          },
          "execution_count": 36
        }
      ]
    },
    {
      "cell_type": "code",
      "metadata": {
        "id": "ZSs-7eHlZ9F5",
        "colab": {
          "base_uri": "https://localhost:8080/",
          "height": 333
        },
        "outputId": "83c387cf-a355-4447-e6ae-39c9ef1462a5"
      },
      "source": [
        "bar = sns.countplot(df['Verified'])"
      ],
      "execution_count": 38,
      "outputs": [
        {
          "output_type": "stream",
          "text": [
            "/usr/local/lib/python3.6/dist-packages/seaborn/_decorators.py:43: FutureWarning: Pass the following variable as a keyword arg: x. From version 0.12, the only valid positional argument will be `data`, and passing other arguments without an explicit keyword will result in an error or misinterpretation.\n",
            "  FutureWarning\n"
          ],
          "name": "stderr"
        },
        {
          "output_type": "display_data",
          "data": {
            "image/png": "[encoded data removed]",
            "text/plain": [
              "<Figure size 432x288 with 1 Axes>"
            ]
          },
          "metadata": {
            "tags": [],
            "needs_background": "light"
          }
        }
      ]
    },
    {
      "cell_type": "code",
      "metadata": {
        "id": "48YKJISOZ9Jm",
        "colab": {
          "base_uri": "https://localhost:8080/"
        },
        "outputId": "8c79e928-e9ca-468d-bf0d-d646b04f0be2"
      },
      "source": [
        "df['Verified'].value_counts()"
      ],
      "execution_count": 41,
      "outputs": [
        {
          "output_type": "execute_result",
          "data": {
            "text/plain": [
              "False    152\n",
              "True       3\n",
              "Name: Verified, dtype: int64"
            ]
          },
          "metadata": {
            "tags": []
          },
          "execution_count": 41
        }
      ]
    },
    {
      "cell_type": "code",
      "metadata": {
        "id": "qBweECkIZ9Ng",
        "colab": {
          "base_uri": "https://localhost:8080/"
        },
        "outputId": "54bd987b-c1bc-46e7-8a31-5b8ddef0b2a0"
      },
      "source": [
        "df_verified = df.query('Verified == True')\n",
        "df_verified['User'].value_counts()"
      ],
      "execution_count": 42,
      "outputs": [
        {
          "output_type": "execute_result",
          "data": {
            "text/plain": [
              "SandhyaTudu        1\n",
              "zafarsareshwala    1\n",
              "BanglarGorboMB     1\n",
              "Name: User, dtype: int64"
            ]
          },
          "metadata": {
            "tags": []
          },
          "execution_count": 42
        }
      ]
    },
    {
      "cell_type": "code",
      "metadata": {
        "id": "zNnEjVTuZ9Ue",
        "colab": {
          "base_uri": "https://localhost:8080/"
        },
        "outputId": "5c7cabe3-a5c0-4346-c1da-0d066d5a0867"
      },
      "source": [
        "days = df['Date'].dt.day.tolist()\n",
        "no_of_days = Counter(days)\n",
        "no_of_days"
      ],
      "execution_count": 43,
      "outputs": [
        {
          "output_type": "execute_result",
          "data": {
            "text/plain": [
              "Counter({15: 15, 16: 28, 17: 19, 18: 19, 19: 11, 20: 33, 21: 30})"
            ]
          },
          "metadata": {
            "tags": []
          },
          "execution_count": 43
        }
      ]
    },
    {
      "cell_type": "code",
      "metadata": {
        "id": "mzu51x0fZ9X4",
        "colab": {
          "base_uri": "https://localhost:8080/",
          "height": 347
        },
        "outputId": "27030797-bbaf-4aaa-8ed4-772f836d1ded"
      },
      "source": [
        "fig = plt.figure(figsize = (15,7))\n",
        "plt.bar(range(len(no_of_days)), list(no_of_days.values()), align='center', alpha = 0.5,color = 'red')\n",
        "plt.xticks(range(len(no_of_days)), list(no_of_days.keys()))\n",
        "plt.xlabel(\"Day\")\n",
        "plt.ylabel(\"Count Of Tweets\")\n",
        "plt.title(\"Count Of Extracted Tweets On Each Day\")"
      ],
      "execution_count": 44,
      "outputs": [
        {
          "output_type": "execute_result",
          "data": {
            "text/plain": [
              "Text(0.5, 1.0, 'Count Of Extracted Tweets On Each Day')"
            ]
          },
          "metadata": {
            "tags": []
          },
          "execution_count": 44
        },
        {
          "output_type": "display_data",
          "data": {
            "image/png": "[encoded data removed]",
            "text/plain": [
              "<Figure size 1080x504 with 1 Axes>"
            ]
          },
          "metadata": {
            "tags": [],
            "needs_background": "light"
          }
        }
      ]
    },
    {
      "cell_type": "code",
      "metadata": {
        "id": "Qk4k7vt2Z9cE",
        "colab": {
          "base_uri": "https://localhost:8080/"
        },
        "outputId": "67207b9d-5d81-4350-cbe3-fb291b778de1"
      },
      "source": [
        "hours = df['Date'].dt.hour.tolist()\n",
        "no_of_hours = Counter(hours)\n",
        "no_of_hours"
      ],
      "execution_count": 45,
      "outputs": [
        {
          "output_type": "execute_result",
          "data": {
            "text/plain": [
              "Counter({0: 2,\n",
              "         1: 1,\n",
              "         2: 2,\n",
              "         3: 4,\n",
              "         4: 7,\n",
              "         5: 5,\n",
              "         6: 8,\n",
              "         7: 3,\n",
              "         8: 4,\n",
              "         9: 7,\n",
              "         10: 4,\n",
              "         11: 5,\n",
              "         12: 13,\n",
              "         13: 30,\n",
              "         14: 12,\n",
              "         15: 13,\n",
              "         16: 8,\n",
              "         17: 6,\n",
              "         18: 11,\n",
              "         19: 2,\n",
              "         20: 7,\n",
              "         21: 1})"
            ]
          },
          "metadata": {
            "tags": []
          },
          "execution_count": 45
        }
      ]
    },
    {
      "cell_type": "code",
      "metadata": {
        "id": "FnldeKsyZ9fF",
        "colab": {
          "base_uri": "https://localhost:8080/",
          "height": 386
        },
        "outputId": "ff69781b-5163-4f4a-d538-d1aabaa9bfcf"
      },
      "source": [
        "fig = plt.figure(figsize = (15,8))\n",
        "plt.bar(range(len(no_of_hours)), list(no_of_hours.values()), align='center', alpha = 0.5,color = 'red')\n",
        "plt.xticks(range(len(no_of_hours)), list(no_of_hours.keys()))\n",
        "plt.xlabel(\"Hour\")\n",
        "plt.ylabel(\"Count Of Tweets\")\n",
        "plt.title(\"Count Of Extracted Tweets On Each Hour\")"
      ],
      "execution_count": 46,
      "outputs": [
        {
          "output_type": "execute_result",
          "data": {
            "text/plain": [
              "Text(0.5, 1.0, 'Count Of Extracted Tweets On Each Hour')"
            ]
          },
          "metadata": {
            "tags": []
          },
          "execution_count": 46
        },
        {
          "output_type": "display_data",
          "data": {
            "image/png": "[encoded data removed]",
            "text/plain": [
              "<Figure size 1080x576 with 1 Axes>"
            ]
          },
          "metadata": {
            "tags": [],
            "needs_background": "light"
          }
        }
      ]
    },
    {
      "cell_type": "code",
      "metadata": {
        "id": "v2uHncb_Z9ie"
      },
      "source": [
        "from wordcloud import WordCloud\n",
        "tokenizer = TweetTokenizer()"
      ],
      "execution_count": 47,
      "outputs": []
    },
    {
      "cell_type": "code",
      "metadata": {
        "id": "ti_i96jza3EY",
        "colab": {
          "base_uri": "https://localhost:8080/"
        },
        "outputId": "a271347c-1b0b-4b01-e690-2bf76f206b15"
      },
      "source": [
        "import nltk\n",
        "nltk.download('stopwords')"
      ],
      "execution_count": 48,
      "outputs": [
        {
          "output_type": "stream",
          "text": [
            "[nltk_data] Downloading package stopwords to /root/nltk_data...\n",
            "[nltk_data]   Unzipping corpora/stopwords.zip.\n"
          ],
          "name": "stdout"
        },
        {
          "output_type": "execute_result",
          "data": {
            "text/plain": [
              "True"
            ]
          },
          "metadata": {
            "tags": []
          },
          "execution_count": 48
        }
      ]
    },
    {
      "cell_type": "code",
      "metadata": {
        "id": "ryhZIIElZ9lx",
        "colab": {
          "base_uri": "https://localhost:8080/"
        },
        "outputId": "0df40957-4969-47c8-fda4-26ff05c28a99"
      },
      "source": [
        "stop_words = set(stopwords.words('english')) \n",
        "stop_words = list(stop_words)\n",
        "print(stop_words)"
      ],
      "execution_count": 49,
      "outputs": [
        {
          "output_type": "stream",
          "text": [
            "['t', 'weren', 'don', 'very', 'she', 'can', 'was', 'until', 'ain', 'all', 'just', 'but', 'do', 'itself', 'its', \"aren't\", 'our', 'mustn', 'his', 's', 'what', 'after', 'not', 'isn', 'for', 'under', 'mightn', 'same', 'down', 'if', 'will', 'is', 'now', \"it's\", 'i', 'am', 'there', \"you'll\", 'haven', 'you', \"that'll\", 'between', 'further', \"wouldn't\", 'me', 'below', 'whom', 'them', 'because', 'by', 'with', 'ourselves', 'of', 'did', 'up', 'once', \"mustn't\", 'that', 'such', \"she's\", 'hadn', 'at', 've', 'own', 'their', 'on', 'shouldn', 'than', 'wasn', 'wouldn', 'hers', \"you've\", 'themselves', 'through', 'before', 'they', 'has', 're', \"haven't\", 'both', 'too', 'shan', \"shouldn't\", 'above', \"don't\", \"hadn't\", 'aren', 'theirs', 'where', \"shan't\", 'he', 'during', 'won', 'more', 'some', 'we', \"didn't\", \"should've\", 'against', 'off', 'nor', 'been', \"needn't\", 'other', 'only', 'as', 'an', 'had', 'does', 'into', 'ours', 'then', 'the', 'each', 'd', 'll', \"you're\", 'needn', 'most', 'having', 'your', \"won't\", 'here', 'over', 'didn', \"hasn't\", 'or', 'have', 'out', 'few', 'it', 'be', 'him', 'this', 'from', 'my', 'which', 'while', 'why', 'so', 'her', \"you'd\", 'myself', 'no', 'any', \"doesn't\", \"isn't\", \"mightn't\", 'when', 'o', 'a', 'in', 'himself', 'how', 'herself', 'those', 'ma', 'are', 'who', 'were', 'yourself', 'y', \"weren't\", 'to', 'hasn', \"couldn't\", 'should', 'these', 'doing', 'doesn', 'couldn', 'being', 'and', 'yours', 'm', 'yourselves', 'again', \"wasn't\", 'about']\n"
          ],
          "name": "stdout"
        }
      ]
    },
    {
      "cell_type": "code",
      "metadata": {
        "id": "xTHMe2yTZ9pF",
        "colab": {
          "base_uri": "https://localhost:8080/"
        },
        "outputId": "3fc08044-2b81-48c0-bc6c-cf532a183548"
      },
      "source": [
        "df['Processed_Tweet'] = df.Processed_Tweet.apply(lambda x: ' '.join(w for w in x.split() if w not in stop_words))   #Remove stopwords\n",
        "df['Processed_Tweet']"
      ],
      "execution_count": 50,
      "outputs": [
        {
          "output_type": "execute_result",
          "data": {
            "text/plain": [
              "0      uttrakhand electionbjp total seats congress to...\n",
              "1      yes charge got bengal made history maharashtra...\n",
              "2      bjp ruled states filthy cities gujrat comes co...\n",
              "3      bjp shall give real challenge bengal open rule...\n",
              "4      bjp shall give real challenge bengal open rule...\n",
              "                             ...                        \n",
              "150    blame owaisi ur defeats strike rate seats biha...\n",
              "151    zameerfarosh justify detention center muslims ...\n",
              "152    congress ministers maharastra gujrat connectio...\n",
              "153    sir rightly said muslims prosperous gujrat bjp...\n",
              "154    gujrat election results dholka seat stolen bjp...\n",
              "Name: Processed_Tweet, Length: 155, dtype: object"
            ]
          },
          "metadata": {
            "tags": []
          },
          "execution_count": 50
        }
      ]
    },
    {
      "cell_type": "code",
      "metadata": {
        "id": "W41lIuhjZ9su",
        "colab": {
          "base_uri": "https://localhost:8080/"
        },
        "outputId": "ef8be362-b0c9-4ba9-8098-af1018008b73"
      },
      "source": [
        "df['Processed_Tweet'] = df['Processed_Tweet'].apply(lambda x: tokenizer.tokenize(x))\n",
        "df['Processed_Tweet']"
      ],
      "execution_count": 51,
      "outputs": [
        {
          "output_type": "execute_result",
          "data": {
            "text/plain": [
              "0      [uttrakhand, electionbjp, total, seats, congre...\n",
              "1      [yes, charge, got, bengal, made, history, maha...\n",
              "2      [bjp, ruled, states, filthy, cities, gujrat, c...\n",
              "3      [bjp, shall, give, real, challenge, bengal, op...\n",
              "4      [bjp, shall, give, real, challenge, bengal, op...\n",
              "                             ...                        \n",
              "150    [blame, owaisi, ur, defeats, strike, rate, sea...\n",
              "151    [zameerfarosh, justify, detention, center, mus...\n",
              "152    [congress, ministers, maharastra, gujrat, conn...\n",
              "153    [sir, rightly, said, muslims, prosperous, gujr...\n",
              "154    [gujrat, election, results, dholka, seat, stol...\n",
              "Name: Processed_Tweet, Length: 155, dtype: object"
            ]
          },
          "metadata": {
            "tags": []
          },
          "execution_count": 51
        }
      ]
    },
    {
      "cell_type": "code",
      "metadata": {
        "id": "U1iyBPUlZ9wE",
        "colab": {
          "base_uri": "https://localhost:8080/"
        },
        "outputId": "a06452fb-4bae-4ced-aa91-e614d832d9b7"
      },
      "source": [
        "def lemmatize_stemming(text):\n",
        "    stemmer=PorterStemmer()\n",
        "    return stemmer.stem(text)\n",
        "df['Processed_Tweet'] = df['Processed_Tweet'].apply(lambda x: [lemmatize_stemming(i) for i in x]) # stemming\n",
        "df['Processed_Tweet']"
      ],
      "execution_count": 52,
      "outputs": [
        {
          "output_type": "execute_result",
          "data": {
            "text/plain": [
              "0      [uttrakhand, electionbjp, total, seat, congres...\n",
              "1      [ye, charg, got, bengal, made, histori, mahara...\n",
              "2      [bjp, rule, state, filthi, citi, gujrat, come,...\n",
              "3      [bjp, shall, give, real, challeng, bengal, ope...\n",
              "4      [bjp, shall, give, real, challeng, bengal, ope...\n",
              "                             ...                        \n",
              "150    [blame, owaisi, ur, defeat, strike, rate, seat...\n",
              "151    [zameerfarosh, justifi, detent, center, muslim...\n",
              "152    [congress, minist, maharastra, gujrat, connect...\n",
              "153    [sir, rightli, said, muslim, prosper, gujrat, ...\n",
              "154    [gujrat, elect, result, dholka, seat, stolen, ...\n",
              "Name: Processed_Tweet, Length: 155, dtype: object"
            ]
          },
          "metadata": {
            "tags": []
          },
          "execution_count": 52
        }
      ]
    },
    {
      "cell_type": "code",
      "metadata": {
        "id": "wLB1SjaLZ9zx",
        "colab": {
          "base_uri": "https://localhost:8080/",
          "height": 864
        },
        "outputId": "85cb4a0a-0be7-48bf-a274-33397395f7ca"
      },
      "source": [
        "\n",
        "df['Processed_Tweet'] = df.Processed_Tweet.apply(lambda x: [i for i in x if len(i)>2])\n",
        "df"
      ],
      "execution_count": 53,
      "outputs": [
        {
          "output_type": "execute_result",
          "data": {
            "text/html": [
              "<div>\n",
              "<style scoped>\n",
              "    .dataframe tbody tr th:only-of-type {\n",
              "        vertical-align: middle;\n",
              "    }\n",
              "\n",
              "    .dataframe tbody tr th {\n",
              "        vertical-align: top;\n",
              "    }\n",
              "\n",
              "    .dataframe thead th {\n",
              "        text-align: right;\n",
              "    }\n",
              "</style>\n",
              "<table border=\"1\" class=\"dataframe\">\n",
              "  <thead>\n",
              "    <tr style=\"text-align: right;\">\n",
              "      <th></th>\n",
              "      <th>Date</th>\n",
              "      <th>Tweet_id</th>\n",
              "      <th>Verified</th>\n",
              "      <th>Tweet</th>\n",
              "      <th>User</th>\n",
              "      <th>Location</th>\n",
              "      <th>Source</th>\n",
              "      <th>Likes</th>\n",
              "      <th>Followers</th>\n",
              "      <th>Following</th>\n",
              "      <th>Retweets</th>\n",
              "      <th>Processed_Tweet</th>\n",
              "    </tr>\n",
              "  </thead>\n",
              "  <tbody>\n",
              "    <tr>\n",
              "      <th>0</th>\n",
              "      <td>2020-11-21 17:13:01</td>\n",
              "      <td>1330197537739993091</td>\n",
              "      <td>False</td>\n",
              "      <td>Uttrakhand Election\\nBJP - 70(Total Seats) - 3...</td>\n",
              "      <td>Harishc94614675</td>\n",
              "      <td></td>\n",
              "      <td>Twitter Web App</td>\n",
              "      <td>0</td>\n",
              "      <td>1</td>\n",
              "      <td>63</td>\n",
              "      <td>0</td>\n",
              "      <td>[uttrakhand, electionbjp, total, seat, congres...</td>\n",
              "    </tr>\n",
              "    <tr>\n",
              "      <th>1</th>\n",
              "      <td>2020-11-21 16:52:11</td>\n",
              "      <td>1330192296390881282</td>\n",
              "      <td>False</td>\n",
              "      <td>@SaketGokhale @PriyankKharge Yes in 2014 when ...</td>\n",
              "      <td>bhasad__</td>\n",
              "      <td>Mumbai</td>\n",
              "      <td>Twitter for Android</td>\n",
              "      <td>14</td>\n",
              "      <td>4</td>\n",
              "      <td>135</td>\n",
              "      <td>0</td>\n",
              "      <td>[charg, got, bengal, made, histori, maharashtr...</td>\n",
              "    </tr>\n",
              "    <tr>\n",
              "      <th>2</th>\n",
              "      <td>2020-11-21 16:48:25</td>\n",
              "      <td>1330191345596706818</td>\n",
              "      <td>False</td>\n",
              "      <td>@84nanikiran @varunsankineni @KTRTRS @BJP4Tela...</td>\n",
              "      <td>KirtanHora</td>\n",
              "      <td>India</td>\n",
              "      <td>Twitter for Android</td>\n",
              "      <td>0</td>\n",
              "      <td>75</td>\n",
              "      <td>319</td>\n",
              "      <td>0</td>\n",
              "      <td>[bjp, rule, state, filthi, citi, gujrat, come,...</td>\n",
              "    </tr>\n",
              "    <tr>\n",
              "      <th>3</th>\n",
              "      <td>2020-11-21 15:40:49</td>\n",
              "      <td>1330174333457666049</td>\n",
              "      <td>False</td>\n",
              "      <td>@aajtak @journovidya BJP shall give real chall...</td>\n",
              "      <td>VasudevSeth</td>\n",
              "      <td></td>\n",
              "      <td>Twitter for Android</td>\n",
              "      <td>0</td>\n",
              "      <td>25</td>\n",
              "      <td>119</td>\n",
              "      <td>0</td>\n",
              "      <td>[bjp, shall, give, real, challeng, bengal, ope...</td>\n",
              "    </tr>\n",
              "    <tr>\n",
              "      <th>4</th>\n",
              "      <td>2020-11-21 15:40:36</td>\n",
              "      <td>1330174278688518147</td>\n",
              "      <td>False</td>\n",
              "      <td>@aajtak @AkhileshPSingh @sambitswaraj @anjanao...</td>\n",
              "      <td>VasudevSeth</td>\n",
              "      <td></td>\n",
              "      <td>Twitter for Android</td>\n",
              "      <td>0</td>\n",
              "      <td>25</td>\n",
              "      <td>119</td>\n",
              "      <td>0</td>\n",
              "      <td>[bjp, shall, give, real, challeng, bengal, ope...</td>\n",
              "    </tr>\n",
              "    <tr>\n",
              "      <th>...</th>\n",
              "      <td>...</td>\n",
              "      <td>...</td>\n",
              "      <td>...</td>\n",
              "      <td>...</td>\n",
              "      <td>...</td>\n",
              "      <td>...</td>\n",
              "      <td>...</td>\n",
              "      <td>...</td>\n",
              "      <td>...</td>\n",
              "      <td>...</td>\n",
              "      <td>...</td>\n",
              "      <td>...</td>\n",
              "    </tr>\n",
              "    <tr>\n",
              "      <th>150</th>\n",
              "      <td>2020-11-15 14:02:42</td>\n",
              "      <td>1327975314069147648</td>\n",
              "      <td>False</td>\n",
              "      <td>@Noor__Maryam So don't blame Owaisi on Ur defe...</td>\n",
              "      <td>Amir_Khatana_</td>\n",
              "      <td>Jammu And Kashmir</td>\n",
              "      <td>Twitter for Android</td>\n",
              "      <td>0</td>\n",
              "      <td>1853</td>\n",
              "      <td>1149</td>\n",
              "      <td>0</td>\n",
              "      <td>[blame, owaisi, defeat, strike, rate, seat, bi...</td>\n",
              "    </tr>\n",
              "    <tr>\n",
              "      <th>151</th>\n",
              "      <td>2020-11-15 13:16:23</td>\n",
              "      <td>1327963660673839106</td>\n",
              "      <td>False</td>\n",
              "      <td>@zafarsareshwala @BJP4India This zameerfarosh ...</td>\n",
              "      <td>KhanSaheb_1</td>\n",
              "      <td>India</td>\n",
              "      <td>Twitter for Android</td>\n",
              "      <td>12</td>\n",
              "      <td>905</td>\n",
              "      <td>3407</td>\n",
              "      <td>3</td>\n",
              "      <td>[zameerfarosh, justifi, detent, center, muslim...</td>\n",
              "    </tr>\n",
              "    <tr>\n",
              "      <th>152</th>\n",
              "      <td>2020-11-15 12:30:33</td>\n",
              "      <td>1327952124735614976</td>\n",
              "      <td>False</td>\n",
              "      <td>@rajkuma04775211 @AshwiniBJP Congress minister...</td>\n",
              "      <td>veenadsharma45</td>\n",
              "      <td></td>\n",
              "      <td>Twitter for Android</td>\n",
              "      <td>0</td>\n",
              "      <td>796</td>\n",
              "      <td>715</td>\n",
              "      <td>0</td>\n",
              "      <td>[congress, minist, maharastra, gujrat, connect...</td>\n",
              "    </tr>\n",
              "    <tr>\n",
              "      <th>153</th>\n",
              "      <td>2020-11-15 12:11:00</td>\n",
              "      <td>1327947206360399873</td>\n",
              "      <td>False</td>\n",
              "      <td>@zafarsareshwala @BJP4India Sir, You rightly s...</td>\n",
              "      <td>AjayPremKaushal</td>\n",
              "      <td>Jaipur, India</td>\n",
              "      <td>Twitter for Android</td>\n",
              "      <td>7</td>\n",
              "      <td>252</td>\n",
              "      <td>741</td>\n",
              "      <td>1</td>\n",
              "      <td>[sir, rightli, said, muslim, prosper, gujrat, ...</td>\n",
              "    </tr>\n",
              "    <tr>\n",
              "      <th>154</th>\n",
              "      <td>2020-11-15 12:07:03</td>\n",
              "      <td>1327946212159340546</td>\n",
              "      <td>False</td>\n",
              "      <td>@gops33 In d 2017 Gujrat election results, Dho...</td>\n",
              "      <td>kabirazad2017</td>\n",
              "      <td>New Delhi, India</td>\n",
              "      <td>Twitter for Android</td>\n",
              "      <td>0</td>\n",
              "      <td>2244</td>\n",
              "      <td>1022</td>\n",
              "      <td>0</td>\n",
              "      <td>[gujrat, elect, result, dholka, seat, stolen, ...</td>\n",
              "    </tr>\n",
              "  </tbody>\n",
              "</table>\n",
              "<p>155 rows × 12 columns</p>\n",
              "</div>"
            ],
            "text/plain": [
              "                   Date  ...                                    Processed_Tweet\n",
              "0   2020-11-21 17:13:01  ...  [uttrakhand, electionbjp, total, seat, congres...\n",
              "1   2020-11-21 16:52:11  ...  [charg, got, bengal, made, histori, maharashtr...\n",
              "2   2020-11-21 16:48:25  ...  [bjp, rule, state, filthi, citi, gujrat, come,...\n",
              "3   2020-11-21 15:40:49  ...  [bjp, shall, give, real, challeng, bengal, ope...\n",
              "4   2020-11-21 15:40:36  ...  [bjp, shall, give, real, challeng, bengal, ope...\n",
              "..                  ...  ...                                                ...\n",
              "150 2020-11-15 14:02:42  ...  [blame, owaisi, defeat, strike, rate, seat, bi...\n",
              "151 2020-11-15 13:16:23  ...  [zameerfarosh, justifi, detent, center, muslim...\n",
              "152 2020-11-15 12:30:33  ...  [congress, minist, maharastra, gujrat, connect...\n",
              "153 2020-11-15 12:11:00  ...  [sir, rightli, said, muslim, prosper, gujrat, ...\n",
              "154 2020-11-15 12:07:03  ...  [gujrat, elect, result, dholka, seat, stolen, ...\n",
              "\n",
              "[155 rows x 12 columns]"
            ]
          },
          "metadata": {
            "tags": []
          },
          "execution_count": 53
        }
      ]
    },
    {
      "cell_type": "code",
      "metadata": {
        "id": "Jp1MddEpbN6A",
        "colab": {
          "base_uri": "https://localhost:8080/"
        },
        "outputId": "f06b0bd5-b3c5-42e3-8d5f-c843f16d7db0"
      },
      "source": [
        "texts = []\n",
        "texts = df.Processed_Tweet.apply(lambda x: [i for i in x] )\n",
        "all_words = []\n",
        "for i in texts:\n",
        "    all_words.append(\" \".join(i))\n",
        "text = []\n",
        "for i in texts:\n",
        "    for j in i:\n",
        "        text.append(j)\n",
        "len(text)"
      ],
      "execution_count": 54,
      "outputs": [
        {
          "output_type": "execute_result",
          "data": {
            "text/plain": [
              "3054"
            ]
          },
          "metadata": {
            "tags": []
          },
          "execution_count": 54
        }
      ]
    },
    {
      "cell_type": "code",
      "metadata": {
        "id": "jbRz6G8dbN9q",
        "colab": {
          "base_uri": "https://localhost:8080/",
          "height": 429
        },
        "outputId": "220e7f77-7e92-4ea2-c312-6cf1405ae571"
      },
      "source": [
        "wordcloud = WordCloud(width=800, height=500, random_state=21, max_font_size=110).generate(' '.join(text))\n",
        "plt.figure(figsize = (12, 12), facecolor=\"None\") \n",
        "plt.imshow(wordcloud,interpolation='bilinear') \n",
        "plt.axis(\"off\") \n",
        "plt.title(\"WordCloud of bjp Gujrat Tweets\")\n",
        "plt.show()"
      ],
      "execution_count": 56,
      "outputs": [
        {
          "output_type": "display_data",
          "data": {
            "image/png": "[encoded data removed]",
            "text/plain": [
              "<Figure size 864x864 with 1 Axes>"
            ]
          },
          "metadata": {
            "tags": [],
            "needs_background": "light"
          }
        }
      ]
    },
    {
      "cell_type": "code",
      "metadata": {
        "id": "Y_6ferf0bOBj",
        "colab": {
          "base_uri": "https://localhost:8080/"
        },
        "outputId": "fb5a2a97-144c-4b64-d718-fefa0a0c0b91"
      },
      "source": [
        "from textblob import TextBlob\n",
        "pol=[]\n",
        "for Tweet in all_words:\n",
        "    blob = TextBlob(Tweet)\n",
        "    pol.append(blob.sentiment.polarity)\n",
        "len(pol)"
      ],
      "execution_count": 57,
      "outputs": [
        {
          "output_type": "execute_result",
          "data": {
            "text/plain": [
              "155"
            ]
          },
          "metadata": {
            "tags": []
          },
          "execution_count": 57
        }
      ]
    },
    {
      "cell_type": "code",
      "metadata": {
        "id": "dHvb9R2cbOHY",
        "colab": {
          "base_uri": "https://localhost:8080/"
        },
        "outputId": "37e099ca-5cd9-4a42-8d1f-62f220ae73e8"
      },
      "source": [
        "len(text)"
      ],
      "execution_count": 58,
      "outputs": [
        {
          "output_type": "execute_result",
          "data": {
            "text/plain": [
              "3054"
            ]
          },
          "metadata": {
            "tags": []
          },
          "execution_count": 58
        }
      ]
    },
    {
      "cell_type": "code",
      "metadata": {
        "id": "cu242euSbOKi",
        "colab": {
          "base_uri": "https://localhost:8080/"
        },
        "outputId": "81c7658c-f831-45cf-8627-7e57dfe3ee6b"
      },
      "source": [
        "positive=0\n",
        "negative=0\n",
        "neutral=0\n",
        "for i in pol:\n",
        "    if i>0:\n",
        "        positive+=1\n",
        "    elif i<0:\n",
        "        negative+=1\n",
        "    else:\n",
        "        neutral+=1\n",
        "print(\"Positive Tweets:\",positive)\n",
        "print(\"Negative Tweets:\",negative)\n",
        "print(\"Neutral Tweets\",neutral)"
      ],
      "execution_count": 59,
      "outputs": [
        {
          "output_type": "stream",
          "text": [
            "Positive Tweets: 59\n",
            "Negative Tweets: 34\n",
            "Neutral Tweets 62\n"
          ],
          "name": "stdout"
        }
      ]
    },
    {
      "cell_type": "code",
      "metadata": {
        "id": "6Q5B0aVGbOOa",
        "colab": {
          "base_uri": "https://localhost:8080/"
        },
        "outputId": "f5ef920f-8920-4db9-d0a0-e4c438bdb893"
      },
      "source": [
        "import nltk\n",
        "nltk.download('vader_lexicon')"
      ],
      "execution_count": 60,
      "outputs": [
        {
          "output_type": "stream",
          "text": [
            "[nltk_data] Downloading package vader_lexicon to /root/nltk_data...\n"
          ],
          "name": "stdout"
        },
        {
          "output_type": "execute_result",
          "data": {
            "text/plain": [
              "True"
            ]
          },
          "metadata": {
            "tags": []
          },
          "execution_count": 60
        }
      ]
    },
    {
      "cell_type": "code",
      "metadata": {
        "id": "WZ2hhckbbOR4",
        "outputId": "ac65dc1e-24f2-41b0-fb7d-bead1c441f79",
        "colab": {
          "base_uri": "https://localhost:8080/"
        }
      },
      "source": [
        "from nltk.sentiment.vader import SentimentIntensityAnalyzer\n",
        "sid = SentimentIntensityAnalyzer()\n",
        "sentiment_scores= []\n",
        "for i in all_words:\n",
        "    sentiment_scores.append([sid.polarity_scores(i)])"
      ],
      "execution_count": 61,
      "outputs": [
        {
          "output_type": "stream",
          "text": [
            "/usr/local/lib/python3.6/dist-packages/nltk/twitter/__init__.py:20: UserWarning: The twython library has not been installed. Some functionality from the twitter package will not be available.\n",
            "  warnings.warn(\"The twython library has not been installed. \"\n"
          ],
          "name": "stderr"
        }
      ]
    },
    {
      "cell_type": "code",
      "metadata": {
        "id": "hCz4RQdabOV4",
        "colab": {
          "base_uri": "https://localhost:8080/",
          "height": 419
        },
        "outputId": "c5ab2ca5-5747-49d0-9181-215a634f23b2"
      },
      "source": [
        "value = []\n",
        "for i in sentiment_scores:\n",
        "    for dict1 in i:\n",
        "        value.append(list(dict1.values()))\n",
        "sentimental_score_df = pd.DataFrame(data = value, columns = ['Negative','Neutral','Positive','Compound'])\n",
        "sentimental_score_df"
      ],
      "execution_count": 62,
      "outputs": [
        {
          "output_type": "execute_result",
          "data": {
            "text/html": [
              "<div>\n",
              "<style scoped>\n",
              "    .dataframe tbody tr th:only-of-type {\n",
              "        vertical-align: middle;\n",
              "    }\n",
              "\n",
              "    .dataframe tbody tr th {\n",
              "        vertical-align: top;\n",
              "    }\n",
              "\n",
              "    .dataframe thead th {\n",
              "        text-align: right;\n",
              "    }\n",
              "</style>\n",
              "<table border=\"1\" class=\"dataframe\">\n",
              "  <thead>\n",
              "    <tr style=\"text-align: right;\">\n",
              "      <th></th>\n",
              "      <th>Negative</th>\n",
              "      <th>Neutral</th>\n",
              "      <th>Positive</th>\n",
              "      <th>Compound</th>\n",
              "    </tr>\n",
              "  </thead>\n",
              "  <tbody>\n",
              "    <tr>\n",
              "      <th>0</th>\n",
              "      <td>0.000</td>\n",
              "      <td>1.000</td>\n",
              "      <td>0.000</td>\n",
              "      <td>0.0000</td>\n",
              "    </tr>\n",
              "    <tr>\n",
              "      <th>1</th>\n",
              "      <td>0.000</td>\n",
              "      <td>1.000</td>\n",
              "      <td>0.000</td>\n",
              "      <td>0.0000</td>\n",
              "    </tr>\n",
              "    <tr>\n",
              "      <th>2</th>\n",
              "      <td>0.000</td>\n",
              "      <td>0.859</td>\n",
              "      <td>0.141</td>\n",
              "      <td>0.2023</td>\n",
              "    </tr>\n",
              "    <tr>\n",
              "      <th>3</th>\n",
              "      <td>0.000</td>\n",
              "      <td>0.700</td>\n",
              "      <td>0.300</td>\n",
              "      <td>0.8519</td>\n",
              "    </tr>\n",
              "    <tr>\n",
              "      <th>4</th>\n",
              "      <td>0.000</td>\n",
              "      <td>0.700</td>\n",
              "      <td>0.300</td>\n",
              "      <td>0.8519</td>\n",
              "    </tr>\n",
              "    <tr>\n",
              "      <th>...</th>\n",
              "      <td>...</td>\n",
              "      <td>...</td>\n",
              "      <td>...</td>\n",
              "      <td>...</td>\n",
              "    </tr>\n",
              "    <tr>\n",
              "      <th>150</th>\n",
              "      <td>0.277</td>\n",
              "      <td>0.723</td>\n",
              "      <td>0.000</td>\n",
              "      <td>-0.7096</td>\n",
              "    </tr>\n",
              "    <tr>\n",
              "      <th>151</th>\n",
              "      <td>0.159</td>\n",
              "      <td>0.841</td>\n",
              "      <td>0.000</td>\n",
              "      <td>-0.5574</td>\n",
              "    </tr>\n",
              "    <tr>\n",
              "      <th>152</th>\n",
              "      <td>0.000</td>\n",
              "      <td>0.784</td>\n",
              "      <td>0.216</td>\n",
              "      <td>0.5106</td>\n",
              "    </tr>\n",
              "    <tr>\n",
              "      <th>153</th>\n",
              "      <td>0.069</td>\n",
              "      <td>0.840</td>\n",
              "      <td>0.091</td>\n",
              "      <td>0.1561</td>\n",
              "    </tr>\n",
              "    <tr>\n",
              "      <th>154</th>\n",
              "      <td>0.201</td>\n",
              "      <td>0.690</td>\n",
              "      <td>0.109</td>\n",
              "      <td>-0.4939</td>\n",
              "    </tr>\n",
              "  </tbody>\n",
              "</table>\n",
              "<p>155 rows × 4 columns</p>\n",
              "</div>"
            ],
            "text/plain": [
              "     Negative  Neutral  Positive  Compound\n",
              "0       0.000    1.000     0.000    0.0000\n",
              "1       0.000    1.000     0.000    0.0000\n",
              "2       0.000    0.859     0.141    0.2023\n",
              "3       0.000    0.700     0.300    0.8519\n",
              "4       0.000    0.700     0.300    0.8519\n",
              "..        ...      ...       ...       ...\n",
              "150     0.277    0.723     0.000   -0.7096\n",
              "151     0.159    0.841     0.000   -0.5574\n",
              "152     0.000    0.784     0.216    0.5106\n",
              "153     0.069    0.840     0.091    0.1561\n",
              "154     0.201    0.690     0.109   -0.4939\n",
              "\n",
              "[155 rows x 4 columns]"
            ]
          },
          "metadata": {
            "tags": []
          },
          "execution_count": 62
        }
      ]
    },
    {
      "cell_type": "code",
      "metadata": {
        "id": "Ev7p5zHybOZN",
        "colab": {
          "base_uri": "https://localhost:8080/",
          "height": 204
        },
        "outputId": "a997ef78-612f-4a15-87bb-b9721a341797"
      },
      "source": [
        "sentimental_score_df['val'] = sentimental_score_df['Compound'].apply(lambda x: 'Neutral' if x == 0 else ('Positive' if x > 0 else 'Negative'))\n",
        "sentimental_score_df.head()"
      ],
      "execution_count": 63,
      "outputs": [
        {
          "output_type": "execute_result",
          "data": {
            "text/html": [
              "<div>\n",
              "<style scoped>\n",
              "    .dataframe tbody tr th:only-of-type {\n",
              "        vertical-align: middle;\n",
              "    }\n",
              "\n",
              "    .dataframe tbody tr th {\n",
              "        vertical-align: top;\n",
              "    }\n",
              "\n",
              "    .dataframe thead th {\n",
              "        text-align: right;\n",
              "    }\n",
              "</style>\n",
              "<table border=\"1\" class=\"dataframe\">\n",
              "  <thead>\n",
              "    <tr style=\"text-align: right;\">\n",
              "      <th></th>\n",
              "      <th>Negative</th>\n",
              "      <th>Neutral</th>\n",
              "      <th>Positive</th>\n",
              "      <th>Compound</th>\n",
              "      <th>val</th>\n",
              "    </tr>\n",
              "  </thead>\n",
              "  <tbody>\n",
              "    <tr>\n",
              "      <th>0</th>\n",
              "      <td>0.0</td>\n",
              "      <td>1.000</td>\n",
              "      <td>0.000</td>\n",
              "      <td>0.0000</td>\n",
              "      <td>Neutral</td>\n",
              "    </tr>\n",
              "    <tr>\n",
              "      <th>1</th>\n",
              "      <td>0.0</td>\n",
              "      <td>1.000</td>\n",
              "      <td>0.000</td>\n",
              "      <td>0.0000</td>\n",
              "      <td>Neutral</td>\n",
              "    </tr>\n",
              "    <tr>\n",
              "      <th>2</th>\n",
              "      <td>0.0</td>\n",
              "      <td>0.859</td>\n",
              "      <td>0.141</td>\n",
              "      <td>0.2023</td>\n",
              "      <td>Positive</td>\n",
              "    </tr>\n",
              "    <tr>\n",
              "      <th>3</th>\n",
              "      <td>0.0</td>\n",
              "      <td>0.700</td>\n",
              "      <td>0.300</td>\n",
              "      <td>0.8519</td>\n",
              "      <td>Positive</td>\n",
              "    </tr>\n",
              "    <tr>\n",
              "      <th>4</th>\n",
              "      <td>0.0</td>\n",
              "      <td>0.700</td>\n",
              "      <td>0.300</td>\n",
              "      <td>0.8519</td>\n",
              "      <td>Positive</td>\n",
              "    </tr>\n",
              "  </tbody>\n",
              "</table>\n",
              "</div>"
            ],
            "text/plain": [
              "   Negative  Neutral  Positive  Compound       val\n",
              "0       0.0    1.000     0.000    0.0000   Neutral\n",
              "1       0.0    1.000     0.000    0.0000   Neutral\n",
              "2       0.0    0.859     0.141    0.2023  Positive\n",
              "3       0.0    0.700     0.300    0.8519  Positive\n",
              "4       0.0    0.700     0.300    0.8519  Positive"
            ]
          },
          "metadata": {
            "tags": []
          },
          "execution_count": 63
        }
      ]
    },
    {
      "cell_type": "code",
      "metadata": {
        "id": "2FmNubOLbOdG",
        "colab": {
          "base_uri": "https://localhost:8080/",
          "height": 299
        },
        "outputId": "b93154f9-5cdd-4f6b-c7aa-eae0931e2833"
      },
      "source": [
        "sent_count = pd.DataFrame.from_dict(Counter(sentimental_score_df['val']), orient = 'index').reset_index()\n",
        "sent_count.columns = ['sentiment', 'count']\n",
        "\n",
        "sns.barplot(y=\"count\", x='sentiment', data=sent_count)"
      ],
      "execution_count": 64,
      "outputs": [
        {
          "output_type": "execute_result",
          "data": {
            "text/plain": [
              "<matplotlib.axes._subplots.AxesSubplot at 0x7f19ff365b70>"
            ]
          },
          "metadata": {
            "tags": []
          },
          "execution_count": 64
        },
        {
          "output_type": "display_data",
          "data": {
            "image/png": "[encoded data removed]",
            "text/plain": [
              "<Figure size 432x288 with 1 Axes>"
            ]
          },
          "metadata": {
            "tags": [],
            "needs_background": "light"
          }
        }
      ]
    },
    {
      "cell_type": "code",
      "metadata": {
        "id": "dUllRCfLbOg7",
        "colab": {
          "base_uri": "https://localhost:8080/"
        },
        "outputId": "7a49431b-9713-4286-d16e-48218fa1dc85"
      },
      "source": [
        "filepath = r\"/content/Election-Prediction/StatewisePolitics/Gujarat/bjp_gujrat.csv\"\n",
        "emolex_df = pd.read_csv(filepath,  names=[\"word\", \"emotion\", \"association\"], skiprows=45, sep='\\t')\n",
        "emolex_df.head(12)\n",
        "len(emolex_df)"
      ],
      "execution_count": 67,
      "outputs": [
        {
          "output_type": "execute_result",
          "data": {
            "text/plain": [
              "292"
            ]
          },
          "metadata": {
            "tags": []
          },
          "execution_count": 67
        }
      ]
    },
    {
      "cell_type": "code",
      "metadata": {
        "id": "BpqvO-zZbOky"
      },
      "source": [
        "emotions={'positive':0, 'negative':0, 'surprise':0,'sadness':0,\n",
        "          'anger':0,'joy':0,'negative':0,'trust':0,'fear':0,'anticipation':0,'disgust':0}"
      ],
      "execution_count": 68,
      "outputs": []
    },
    {
      "cell_type": "code",
      "metadata": {
        "id": "5zvUJmULbOoU"
      },
      "source": [
        "word_emotion=dict()\n",
        "for i in range(0,292):\n",
        "    emotion=emolex_df['emotion'][i]\n",
        "    word=emolex_df['word'][i]\n",
        "    association=emolex_df['association'][i]\n",
        "    \n",
        "    if word not in word_emotion:\n",
        "        word_emotion[word]=dict()\n",
        "    word_emotion[word][emotion]=association\n"
      ],
      "execution_count": 69,
      "outputs": []
    },
    {
      "cell_type": "code",
      "metadata": {
        "id": "Mp3Thxfpg0nI",
        "colab": {
          "base_uri": "https://localhost:8080/"
        },
        "outputId": "77ee16b8-0837-4d9d-aec3-4e2a0ccc9824"
      },
      "source": [
        "from numpy import nan\n",
        "nan == nan\n"
      ],
      "execution_count": 71,
      "outputs": [
        {
          "output_type": "execute_result",
          "data": {
            "text/plain": [
              "False"
            ]
          },
          "metadata": {
            "tags": []
          },
          "execution_count": 71
        }
      ]
    },
    {
      "cell_type": "code",
      "metadata": {
        "id": "mHtSZD_BbOry",
        "colab": {
          "base_uri": "https://localhost:8080/",
          "height": 197
        },
        "outputId": "838ad7ba-4826-46a7-bb0a-d65fcb27a3e7"
      },
      "source": [
        "for i in range(0,155):\n",
        "    text=df['Tweet'][i]\n",
        "    for j in text.split():\n",
        "        if j in word_emotion:\n",
        "            for k in word_emotion[j]:\n",
        "                emotions[k]+=word_emotion[j][k]"
      ],
      "execution_count": 74,
      "outputs": [
        {
          "output_type": "error",
          "ename": "KeyError",
          "evalue": "ignored",
          "traceback": [
            "\u001b[0;31m---------------------------------------------------------------------------\u001b[0m",
            "\u001b[0;31mKeyError\u001b[0m                                  Traceback (most recent call last)",
            "\u001b[0;32m<ipython-input-74-9d00725fd2c3>\u001b[0m in \u001b[0;36m<module>\u001b[0;34m()\u001b[0m\n\u001b[1;32m      4\u001b[0m         \u001b[0;32mif\u001b[0m \u001b[0mj\u001b[0m \u001b[0;32min\u001b[0m \u001b[0mword_emotion\u001b[0m\u001b[0;34m:\u001b[0m\u001b[0;34m\u001b[0m\u001b[0;34m\u001b[0m\u001b[0m\n\u001b[1;32m      5\u001b[0m             \u001b[0;32mfor\u001b[0m \u001b[0mk\u001b[0m \u001b[0;32min\u001b[0m \u001b[0mword_emotion\u001b[0m\u001b[0;34m[\u001b[0m\u001b[0mj\u001b[0m\u001b[0;34m]\u001b[0m\u001b[0;34m:\u001b[0m\u001b[0;34m\u001b[0m\u001b[0;34m\u001b[0m\u001b[0m\n\u001b[0;32m----> 6\u001b[0;31m                 \u001b[0memotions\u001b[0m\u001b[0;34m[\u001b[0m\u001b[0mk\u001b[0m\u001b[0;34m]\u001b[0m\u001b[0;34m+=\u001b[0m\u001b[0mword_emotion\u001b[0m\u001b[0;34m[\u001b[0m\u001b[0mj\u001b[0m\u001b[0;34m]\u001b[0m\u001b[0;34m[\u001b[0m\u001b[0mk\u001b[0m\u001b[0;34m]\u001b[0m\u001b[0;34m\u001b[0m\u001b[0;34m\u001b[0m\u001b[0m\n\u001b[0m",
            "\u001b[0;31mKeyError\u001b[0m: nan"
          ]
        }
      ]
    },
    {
      "cell_type": "code",
      "metadata": {
        "id": "IkuVbkfMbOvn",
        "colab": {
          "base_uri": "https://localhost:8080/"
        },
        "outputId": "1338227a-1cfc-4e30-c04d-f60084f6cbe6"
      },
      "source": [
        "emotions"
      ],
      "execution_count": 75,
      "outputs": [
        {
          "output_type": "execute_result",
          "data": {
            "text/plain": [
              "{'anger': 0,\n",
              " 'anticipation': 0,\n",
              " 'disgust': 0,\n",
              " 'fear': 0,\n",
              " 'joy': 0,\n",
              " 'negative': 0,\n",
              " 'positive': 0,\n",
              " 'sadness': 0,\n",
              " 'surprise': 0,\n",
              " 'trust': 0}"
            ]
          },
          "metadata": {
            "tags": []
          },
          "execution_count": 75
        }
      ]
    },
    {
      "cell_type": "code",
      "metadata": {
        "id": "y1vRLg5bbOzL",
        "colab": {
          "base_uri": "https://localhost:8080/",
          "height": 355
        },
        "outputId": "6c75db3c-2263-46f7-83a5-1c34b85e60a5"
      },
      "source": [
        "plt.style.use('fivethirtyeight')\n",
        "plt.rcParams[\"figure.figsize\"] = [15,5]\n",
        "plt.bar(list(emotions.keys()),list(emotions.values()),color='red',alpha = 0.6)\n",
        "plt.xlabel('Emotions')\n",
        "plt.ylabel('Count')\n",
        "plt.title('Calculated Emotions Of Users ')\n",
        "plt.show()"
      ],
      "execution_count": 76,
      "outputs": [
        {
          "output_type": "display_data",
          "data": {
            "image/png": "[encoded data removed]",
            "text/plain": [
              "<Figure size 1080x360 with 1 Axes>"
            ]
          },
          "metadata": {
            "tags": []
          }
        }
      ]
    },
    {
      "cell_type": "code",
      "metadata": {
        "id": "DBNBn2IebO22",
        "colab": {
          "base_uri": "https://localhost:8080/"
        },
        "outputId": "bfcc265d-3d7e-4d18-aa8f-944848c0a85a"
      },
      "source": [
        "df.Location  = df.Location.fillna('INDIA')\n",
        "f = [i for i in df['Location'] if type(i) != str]\n",
        "f"
      ],
      "execution_count": 77,
      "outputs": [
        {
          "output_type": "execute_result",
          "data": {
            "text/plain": [
              "[]"
            ]
          },
          "metadata": {
            "tags": []
          },
          "execution_count": 77
        }
      ]
    },
    {
      "cell_type": "code",
      "metadata": {
        "id": "6p1TZITybO6f",
        "colab": {
          "base_uri": "https://localhost:8080/"
        },
        "outputId": "51923ec4-16a7-45ee-b6cb-338e16a908e1"
      },
      "source": [
        "df.Location = df.Location.apply(lambda x: x.replace('United States','USA'))\n",
        "df.Location.value_counts()"
      ],
      "execution_count": 78,
      "outputs": [
        {
          "output_type": "execute_result",
          "data": {
            "text/plain": [
              "                                  70\n",
              "India                             27\n",
              "New Delhi, India                   4\n",
              "Mumbai, India                      4\n",
              "Kolkata, India                     4\n",
              "Mumbai                             3\n",
              "Mumbai                             2\n",
              "NY, USA | Kashmir                  2\n",
              "Bharat                             2\n",
              "Kolkata                            1\n",
              "Bengaluru, India                   1\n",
              "Kharghar, Panvel                   1\n",
              "Kolkata , West Bengal              1\n",
              "महाराष्ट्र, भारत                   1\n",
              "Cloud 9                            1\n",
              "Jaipur, India                      1\n",
              "Doha, Qatar                        1\n",
              "Salkia, Haora                      1\n",
              "Chennai, India                     1\n",
              "Jodhpur,Rajasthan                  1\n",
              "The Seven Seas                     1\n",
              "india                              1\n",
              "Pimpri, Haveli                     1\n",
              "Durgapur, West Bengal, India       1\n",
              "Delhi                              1\n",
              "Manbazar,Purulia,West Bengal       1\n",
              "Jammu And Kashmir                  1\n",
              "Lucknow, India                     1\n",
              "Multan, Pakistan                   1\n",
              "Secunderabad, Hyderabad            1\n",
              "Telangana                          1\n",
              "INDIA                              1\n",
              "Rajasthan, India                   1\n",
              "Global                             1\n",
              "Somewhere in manav lok.            1\n",
              "Bhopal🔛Bengaluru,india             1\n",
              "SFO, CA  Originally Neemrana       1\n",
              "Hate Liars. Hate Riot Creators     1\n",
              "Dubai                              1\n",
              "Srinagar, IIOJ&K                   1\n",
              "Lucknow.gomti nagar                1\n",
              "Ahmedabad, India                   1\n",
              "Bengaluru                          1\n",
              "Kalyan Dombivali, India            1\n",
              "Islamabad                          1\n",
              "Bahraich                           1\n",
              "Name: Location, dtype: int64"
            ]
          },
          "metadata": {
            "tags": []
          },
          "execution_count": 78
        }
      ]
    },
    {
      "cell_type": "code",
      "metadata": {
        "id": "Ua1voDKQbO-F",
        "colab": {
          "base_uri": "https://localhost:8080/",
          "height": 864
        },
        "outputId": "6f0856b2-99e8-44e9-8eda-7e32ab6da3a2"
      },
      "source": [
        "locations = []\n",
        "locations_1 = []\n",
        "\n",
        "locations = [i.split(',')[-1] for i in df['Location']]\n",
        "locations_1 =  [i.split(',')[0] for i in df['Location']]\n",
        "df['Processed_Location'] = locations_1\n",
        "df"
      ],
      "execution_count": 79,
      "outputs": [
        {
          "output_type": "execute_result",
          "data": {
            "text/html": [
              "<div>\n",
              "<style scoped>\n",
              "    .dataframe tbody tr th:only-of-type {\n",
              "        vertical-align: middle;\n",
              "    }\n",
              "\n",
              "    .dataframe tbody tr th {\n",
              "        vertical-align: top;\n",
              "    }\n",
              "\n",
              "    .dataframe thead th {\n",
              "        text-align: right;\n",
              "    }\n",
              "</style>\n",
              "<table border=\"1\" class=\"dataframe\">\n",
              "  <thead>\n",
              "    <tr style=\"text-align: right;\">\n",
              "      <th></th>\n",
              "      <th>Date</th>\n",
              "      <th>Tweet_id</th>\n",
              "      <th>Verified</th>\n",
              "      <th>Tweet</th>\n",
              "      <th>User</th>\n",
              "      <th>Location</th>\n",
              "      <th>Source</th>\n",
              "      <th>Likes</th>\n",
              "      <th>Followers</th>\n",
              "      <th>Following</th>\n",
              "      <th>Retweets</th>\n",
              "      <th>Processed_Tweet</th>\n",
              "      <th>Processed_Location</th>\n",
              "    </tr>\n",
              "  </thead>\n",
              "  <tbody>\n",
              "    <tr>\n",
              "      <th>0</th>\n",
              "      <td>2020-11-21 17:13:01</td>\n",
              "      <td>1330197537739993091</td>\n",
              "      <td>False</td>\n",
              "      <td>Uttrakhand Election\\nBJP - 70(Total Seats) - 3...</td>\n",
              "      <td>Harishc94614675</td>\n",
              "      <td></td>\n",
              "      <td>Twitter Web App</td>\n",
              "      <td>0</td>\n",
              "      <td>1</td>\n",
              "      <td>63</td>\n",
              "      <td>0</td>\n",
              "      <td>[uttrakhand, electionbjp, total, seat, congres...</td>\n",
              "      <td></td>\n",
              "    </tr>\n",
              "    <tr>\n",
              "      <th>1</th>\n",
              "      <td>2020-11-21 16:52:11</td>\n",
              "      <td>1330192296390881282</td>\n",
              "      <td>False</td>\n",
              "      <td>@SaketGokhale @PriyankKharge Yes in 2014 when ...</td>\n",
              "      <td>bhasad__</td>\n",
              "      <td>Mumbai</td>\n",
              "      <td>Twitter for Android</td>\n",
              "      <td>14</td>\n",
              "      <td>4</td>\n",
              "      <td>135</td>\n",
              "      <td>0</td>\n",
              "      <td>[charg, got, bengal, made, histori, maharashtr...</td>\n",
              "      <td>Mumbai</td>\n",
              "    </tr>\n",
              "    <tr>\n",
              "      <th>2</th>\n",
              "      <td>2020-11-21 16:48:25</td>\n",
              "      <td>1330191345596706818</td>\n",
              "      <td>False</td>\n",
              "      <td>@84nanikiran @varunsankineni @KTRTRS @BJP4Tela...</td>\n",
              "      <td>KirtanHora</td>\n",
              "      <td>India</td>\n",
              "      <td>Twitter for Android</td>\n",
              "      <td>0</td>\n",
              "      <td>75</td>\n",
              "      <td>319</td>\n",
              "      <td>0</td>\n",
              "      <td>[bjp, rule, state, filthi, citi, gujrat, come,...</td>\n",
              "      <td>India</td>\n",
              "    </tr>\n",
              "    <tr>\n",
              "      <th>3</th>\n",
              "      <td>2020-11-21 15:40:49</td>\n",
              "      <td>1330174333457666049</td>\n",
              "      <td>False</td>\n",
              "      <td>@aajtak @journovidya BJP shall give real chall...</td>\n",
              "      <td>VasudevSeth</td>\n",
              "      <td></td>\n",
              "      <td>Twitter for Android</td>\n",
              "      <td>0</td>\n",
              "      <td>25</td>\n",
              "      <td>119</td>\n",
              "      <td>0</td>\n",
              "      <td>[bjp, shall, give, real, challeng, bengal, ope...</td>\n",
              "      <td></td>\n",
              "    </tr>\n",
              "    <tr>\n",
              "      <th>4</th>\n",
              "      <td>2020-11-21 15:40:36</td>\n",
              "      <td>1330174278688518147</td>\n",
              "      <td>False</td>\n",
              "      <td>@aajtak @AkhileshPSingh @sambitswaraj @anjanao...</td>\n",
              "      <td>VasudevSeth</td>\n",
              "      <td></td>\n",
              "      <td>Twitter for Android</td>\n",
              "      <td>0</td>\n",
              "      <td>25</td>\n",
              "      <td>119</td>\n",
              "      <td>0</td>\n",
              "      <td>[bjp, shall, give, real, challeng, bengal, ope...</td>\n",
              "      <td></td>\n",
              "    </tr>\n",
              "    <tr>\n",
              "      <th>...</th>\n",
              "      <td>...</td>\n",
              "      <td>...</td>\n",
              "      <td>...</td>\n",
              "      <td>...</td>\n",
              "      <td>...</td>\n",
              "      <td>...</td>\n",
              "      <td>...</td>\n",
              "      <td>...</td>\n",
              "      <td>...</td>\n",
              "      <td>...</td>\n",
              "      <td>...</td>\n",
              "      <td>...</td>\n",
              "      <td>...</td>\n",
              "    </tr>\n",
              "    <tr>\n",
              "      <th>150</th>\n",
              "      <td>2020-11-15 14:02:42</td>\n",
              "      <td>1327975314069147648</td>\n",
              "      <td>False</td>\n",
              "      <td>@Noor__Maryam So don't blame Owaisi on Ur defe...</td>\n",
              "      <td>Amir_Khatana_</td>\n",
              "      <td>Jammu And Kashmir</td>\n",
              "      <td>Twitter for Android</td>\n",
              "      <td>0</td>\n",
              "      <td>1853</td>\n",
              "      <td>1149</td>\n",
              "      <td>0</td>\n",
              "      <td>[blame, owaisi, defeat, strike, rate, seat, bi...</td>\n",
              "      <td>Jammu And Kashmir</td>\n",
              "    </tr>\n",
              "    <tr>\n",
              "      <th>151</th>\n",
              "      <td>2020-11-15 13:16:23</td>\n",
              "      <td>1327963660673839106</td>\n",
              "      <td>False</td>\n",
              "      <td>@zafarsareshwala @BJP4India This zameerfarosh ...</td>\n",
              "      <td>KhanSaheb_1</td>\n",
              "      <td>India</td>\n",
              "      <td>Twitter for Android</td>\n",
              "      <td>12</td>\n",
              "      <td>905</td>\n",
              "      <td>3407</td>\n",
              "      <td>3</td>\n",
              "      <td>[zameerfarosh, justifi, detent, center, muslim...</td>\n",
              "      <td>India</td>\n",
              "    </tr>\n",
              "    <tr>\n",
              "      <th>152</th>\n",
              "      <td>2020-11-15 12:30:33</td>\n",
              "      <td>1327952124735614976</td>\n",
              "      <td>False</td>\n",
              "      <td>@rajkuma04775211 @AshwiniBJP Congress minister...</td>\n",
              "      <td>veenadsharma45</td>\n",
              "      <td></td>\n",
              "      <td>Twitter for Android</td>\n",
              "      <td>0</td>\n",
              "      <td>796</td>\n",
              "      <td>715</td>\n",
              "      <td>0</td>\n",
              "      <td>[congress, minist, maharastra, gujrat, connect...</td>\n",
              "      <td></td>\n",
              "    </tr>\n",
              "    <tr>\n",
              "      <th>153</th>\n",
              "      <td>2020-11-15 12:11:00</td>\n",
              "      <td>1327947206360399873</td>\n",
              "      <td>False</td>\n",
              "      <td>@zafarsareshwala @BJP4India Sir, You rightly s...</td>\n",
              "      <td>AjayPremKaushal</td>\n",
              "      <td>Jaipur, India</td>\n",
              "      <td>Twitter for Android</td>\n",
              "      <td>7</td>\n",
              "      <td>252</td>\n",
              "      <td>741</td>\n",
              "      <td>1</td>\n",
              "      <td>[sir, rightli, said, muslim, prosper, gujrat, ...</td>\n",
              "      <td>Jaipur</td>\n",
              "    </tr>\n",
              "    <tr>\n",
              "      <th>154</th>\n",
              "      <td>2020-11-15 12:07:03</td>\n",
              "      <td>1327946212159340546</td>\n",
              "      <td>False</td>\n",
              "      <td>@gops33 In d 2017 Gujrat election results, Dho...</td>\n",
              "      <td>kabirazad2017</td>\n",
              "      <td>New Delhi, India</td>\n",
              "      <td>Twitter for Android</td>\n",
              "      <td>0</td>\n",
              "      <td>2244</td>\n",
              "      <td>1022</td>\n",
              "      <td>0</td>\n",
              "      <td>[gujrat, elect, result, dholka, seat, stolen, ...</td>\n",
              "      <td>New Delhi</td>\n",
              "    </tr>\n",
              "  </tbody>\n",
              "</table>\n",
              "<p>155 rows × 13 columns</p>\n",
              "</div>"
            ],
            "text/plain": [
              "                   Date  ...  Processed_Location\n",
              "0   2020-11-21 17:13:01  ...                    \n",
              "1   2020-11-21 16:52:11  ...              Mumbai\n",
              "2   2020-11-21 16:48:25  ...               India\n",
              "3   2020-11-21 15:40:49  ...                    \n",
              "4   2020-11-21 15:40:36  ...                    \n",
              "..                  ...  ...                 ...\n",
              "150 2020-11-15 14:02:42  ...   Jammu And Kashmir\n",
              "151 2020-11-15 13:16:23  ...               India\n",
              "152 2020-11-15 12:30:33  ...                    \n",
              "153 2020-11-15 12:11:00  ...              Jaipur\n",
              "154 2020-11-15 12:07:03  ...           New Delhi\n",
              "\n",
              "[155 rows x 13 columns]"
            ]
          },
          "metadata": {
            "tags": []
          },
          "execution_count": 79
        }
      ]
    },
    {
      "cell_type": "code",
      "metadata": {
        "id": "Xcw2IMBrbPBW"
      },
      "source": [
        "df1 = df\n",
        "df1['sentiment'] = sentimental_score_df['val']"
      ],
      "execution_count": 80,
      "outputs": []
    },
    {
      "cell_type": "code",
      "metadata": {
        "id": "fk0h10D3bPEy",
        "colab": {
          "base_uri": "https://localhost:8080/",
          "height": 479
        },
        "outputId": "2a7e55b8-d0ef-4d5d-fde2-345fca3f993a"
      },
      "source": [
        "df1.to_csv('Location.csv',index = False)\n",
        "df1['day'] = df.Date.dt.day\n",
        "df1.head()"
      ],
      "execution_count": 82,
      "outputs": [
        {
          "output_type": "execute_result",
          "data": {
            "text/html": [
              "<div>\n",
              "<style scoped>\n",
              "    .dataframe tbody tr th:only-of-type {\n",
              "        vertical-align: middle;\n",
              "    }\n",
              "\n",
              "    .dataframe tbody tr th {\n",
              "        vertical-align: top;\n",
              "    }\n",
              "\n",
              "    .dataframe thead th {\n",
              "        text-align: right;\n",
              "    }\n",
              "</style>\n",
              "<table border=\"1\" class=\"dataframe\">\n",
              "  <thead>\n",
              "    <tr style=\"text-align: right;\">\n",
              "      <th></th>\n",
              "      <th>Date</th>\n",
              "      <th>Tweet_id</th>\n",
              "      <th>Verified</th>\n",
              "      <th>Tweet</th>\n",
              "      <th>User</th>\n",
              "      <th>Location</th>\n",
              "      <th>Source</th>\n",
              "      <th>Likes</th>\n",
              "      <th>Followers</th>\n",
              "      <th>Following</th>\n",
              "      <th>Retweets</th>\n",
              "      <th>Processed_Tweet</th>\n",
              "      <th>Processed_Location</th>\n",
              "      <th>sentiment</th>\n",
              "      <th>day</th>\n",
              "    </tr>\n",
              "  </thead>\n",
              "  <tbody>\n",
              "    <tr>\n",
              "      <th>0</th>\n",
              "      <td>2020-11-21 17:13:01</td>\n",
              "      <td>1330197537739993091</td>\n",
              "      <td>False</td>\n",
              "      <td>Uttrakhand Election\\nBJP - 70(Total Seats) - 3...</td>\n",
              "      <td>Harishc94614675</td>\n",
              "      <td></td>\n",
              "      <td>Twitter Web App</td>\n",
              "      <td>0</td>\n",
              "      <td>1</td>\n",
              "      <td>63</td>\n",
              "      <td>0</td>\n",
              "      <td>[uttrakhand, electionbjp, total, seat, congres...</td>\n",
              "      <td></td>\n",
              "      <td>Neutral</td>\n",
              "      <td>21</td>\n",
              "    </tr>\n",
              "    <tr>\n",
              "      <th>1</th>\n",
              "      <td>2020-11-21 16:52:11</td>\n",
              "      <td>1330192296390881282</td>\n",
              "      <td>False</td>\n",
              "      <td>@SaketGokhale @PriyankKharge Yes in 2014 when ...</td>\n",
              "      <td>bhasad__</td>\n",
              "      <td>Mumbai</td>\n",
              "      <td>Twitter for Android</td>\n",
              "      <td>14</td>\n",
              "      <td>4</td>\n",
              "      <td>135</td>\n",
              "      <td>0</td>\n",
              "      <td>[charg, got, bengal, made, histori, maharashtr...</td>\n",
              "      <td>Mumbai</td>\n",
              "      <td>Neutral</td>\n",
              "      <td>21</td>\n",
              "    </tr>\n",
              "    <tr>\n",
              "      <th>2</th>\n",
              "      <td>2020-11-21 16:48:25</td>\n",
              "      <td>1330191345596706818</td>\n",
              "      <td>False</td>\n",
              "      <td>@84nanikiran @varunsankineni @KTRTRS @BJP4Tela...</td>\n",
              "      <td>KirtanHora</td>\n",
              "      <td>India</td>\n",
              "      <td>Twitter for Android</td>\n",
              "      <td>0</td>\n",
              "      <td>75</td>\n",
              "      <td>319</td>\n",
              "      <td>0</td>\n",
              "      <td>[bjp, rule, state, filthi, citi, gujrat, come,...</td>\n",
              "      <td>India</td>\n",
              "      <td>Positive</td>\n",
              "      <td>21</td>\n",
              "    </tr>\n",
              "    <tr>\n",
              "      <th>3</th>\n",
              "      <td>2020-11-21 15:40:49</td>\n",
              "      <td>1330174333457666049</td>\n",
              "      <td>False</td>\n",
              "      <td>@aajtak @journovidya BJP shall give real chall...</td>\n",
              "      <td>VasudevSeth</td>\n",
              "      <td></td>\n",
              "      <td>Twitter for Android</td>\n",
              "      <td>0</td>\n",
              "      <td>25</td>\n",
              "      <td>119</td>\n",
              "      <td>0</td>\n",
              "      <td>[bjp, shall, give, real, challeng, bengal, ope...</td>\n",
              "      <td></td>\n",
              "      <td>Positive</td>\n",
              "      <td>21</td>\n",
              "    </tr>\n",
              "    <tr>\n",
              "      <th>4</th>\n",
              "      <td>2020-11-21 15:40:36</td>\n",
              "      <td>1330174278688518147</td>\n",
              "      <td>False</td>\n",
              "      <td>@aajtak @AkhileshPSingh @sambitswaraj @anjanao...</td>\n",
              "      <td>VasudevSeth</td>\n",
              "      <td></td>\n",
              "      <td>Twitter for Android</td>\n",
              "      <td>0</td>\n",
              "      <td>25</td>\n",
              "      <td>119</td>\n",
              "      <td>0</td>\n",
              "      <td>[bjp, shall, give, real, challeng, bengal, ope...</td>\n",
              "      <td></td>\n",
              "      <td>Positive</td>\n",
              "      <td>21</td>\n",
              "    </tr>\n",
              "  </tbody>\n",
              "</table>\n",
              "</div>"
            ],
            "text/plain": [
              "                 Date             Tweet_id  ...  sentiment day\n",
              "0 2020-11-21 17:13:01  1330197537739993091  ...    Neutral  21\n",
              "1 2020-11-21 16:52:11  1330192296390881282  ...    Neutral  21\n",
              "2 2020-11-21 16:48:25  1330191345596706818  ...   Positive  21\n",
              "3 2020-11-21 15:40:49  1330174333457666049  ...   Positive  21\n",
              "4 2020-11-21 15:40:36  1330174278688518147  ...   Positive  21\n",
              "\n",
              "[5 rows x 15 columns]"
            ]
          },
          "metadata": {
            "tags": []
          },
          "execution_count": 82
        }
      ]
    },
    {
      "cell_type": "code",
      "metadata": {
        "id": "uRFstkWfbPIZ",
        "colab": {
          "base_uri": "https://localhost:8080/",
          "height": 414
        },
        "outputId": "5606f39e-d243-445d-8c5e-628dbf12c878"
      },
      "source": [
        "sns.countplot(df['day'],hue = df['sentiment'])"
      ],
      "execution_count": 84,
      "outputs": [
        {
          "output_type": "stream",
          "text": [
            "/usr/local/lib/python3.6/dist-packages/seaborn/_decorators.py:43: FutureWarning: Pass the following variable as a keyword arg: x. From version 0.12, the only valid positional argument will be `data`, and passing other arguments without an explicit keyword will result in an error or misinterpretation.\n",
            "  FutureWarning\n"
          ],
          "name": "stderr"
        },
        {
          "output_type": "execute_result",
          "data": {
            "text/plain": [
              "<matplotlib.axes._subplots.AxesSubplot at 0x7f19ff3ccd30>"
            ]
          },
          "metadata": {
            "tags": []
          },
          "execution_count": 84
        },
        {
          "output_type": "display_data",
          "data": {
            "image/png": "[encoded data removed]",
            "text/plain": [
              "<Figure size 1080x360 with 1 Axes>"
            ]
          },
          "metadata": {
            "tags": []
          }
        }
      ]
    },
    {
      "cell_type": "code",
      "metadata": {
        "id": "wjrfS-i8bPLt"
      },
      "source": [
        "from sklearn.feature_extraction.text import CountVectorizer\n",
        "from sklearn.model_selection import train_test_split\n",
        "from sklearn.naive_bayes import GaussianNB\n",
        "from sklearn.naive_bayes import MultinomialNB\n",
        "from sklearn.metrics import confusion_matrix\n",
        "from sklearn.tree import DecisionTreeClassifier\n",
        "from sklearn.ensemble import RandomForestClassifier\n",
        "from sklearn.preprocessing import LabelEncoder \n",
        "from sklearn.model_selection import GridSearchCV\n",
        "from sklearn import model_selection\n",
        "\n",
        "from sklearn.model_selection import cross_val_score\n",
        "from sklearn.metrics import accuracy_score\n",
        "from sklearn.metrics import precision_score\n",
        "from sklearn.metrics import recall_score\n",
        "from sklearn.metrics import f1_score"
      ],
      "execution_count": 85,
      "outputs": []
    },
    {
      "cell_type": "code",
      "metadata": {
        "id": "g0S-olXjbPPW",
        "colab": {
          "base_uri": "https://localhost:8080/",
          "height": 864
        },
        "outputId": "d70b514b-6470-4e7d-d99f-1cd3d4318936"
      },
      "source": [
        "le = LabelEncoder() \n",
        "  \n",
        "df1['sentiment_1']= le.fit_transform(df1['sentiment'])\n",
        "df1"
      ],
      "execution_count": 86,
      "outputs": [
        {
          "output_type": "execute_result",
          "data": {
            "text/html": [
              "<div>\n",
              "<style scoped>\n",
              "    .dataframe tbody tr th:only-of-type {\n",
              "        vertical-align: middle;\n",
              "    }\n",
              "\n",
              "    .dataframe tbody tr th {\n",
              "        vertical-align: top;\n",
              "    }\n",
              "\n",
              "    .dataframe thead th {\n",
              "        text-align: right;\n",
              "    }\n",
              "</style>\n",
              "<table border=\"1\" class=\"dataframe\">\n",
              "  <thead>\n",
              "    <tr style=\"text-align: right;\">\n",
              "      <th></th>\n",
              "      <th>Date</th>\n",
              "      <th>Tweet_id</th>\n",
              "      <th>Verified</th>\n",
              "      <th>Tweet</th>\n",
              "      <th>User</th>\n",
              "      <th>Location</th>\n",
              "      <th>Source</th>\n",
              "      <th>Likes</th>\n",
              "      <th>Followers</th>\n",
              "      <th>Following</th>\n",
              "      <th>Retweets</th>\n",
              "      <th>Processed_Tweet</th>\n",
              "      <th>Processed_Location</th>\n",
              "      <th>sentiment</th>\n",
              "      <th>day</th>\n",
              "      <th>sentiment_1</th>\n",
              "    </tr>\n",
              "  </thead>\n",
              "  <tbody>\n",
              "    <tr>\n",
              "      <th>0</th>\n",
              "      <td>2020-11-21 17:13:01</td>\n",
              "      <td>1330197537739993091</td>\n",
              "      <td>False</td>\n",
              "      <td>Uttrakhand Election\\nBJP - 70(Total Seats) - 3...</td>\n",
              "      <td>Harishc94614675</td>\n",
              "      <td></td>\n",
              "      <td>Twitter Web App</td>\n",
              "      <td>0</td>\n",
              "      <td>1</td>\n",
              "      <td>63</td>\n",
              "      <td>0</td>\n",
              "      <td>[uttrakhand, electionbjp, total, seat, congres...</td>\n",
              "      <td></td>\n",
              "      <td>Neutral</td>\n",
              "      <td>21</td>\n",
              "      <td>1</td>\n",
              "    </tr>\n",
              "    <tr>\n",
              "      <th>1</th>\n",
              "      <td>2020-11-21 16:52:11</td>\n",
              "      <td>1330192296390881282</td>\n",
              "      <td>False</td>\n",
              "      <td>@SaketGokhale @PriyankKharge Yes in 2014 when ...</td>\n",
              "      <td>bhasad__</td>\n",
              "      <td>Mumbai</td>\n",
              "      <td>Twitter for Android</td>\n",
              "      <td>14</td>\n",
              "      <td>4</td>\n",
              "      <td>135</td>\n",
              "      <td>0</td>\n",
              "      <td>[charg, got, bengal, made, histori, maharashtr...</td>\n",
              "      <td>Mumbai</td>\n",
              "      <td>Neutral</td>\n",
              "      <td>21</td>\n",
              "      <td>1</td>\n",
              "    </tr>\n",
              "    <tr>\n",
              "      <th>2</th>\n",
              "      <td>2020-11-21 16:48:25</td>\n",
              "      <td>1330191345596706818</td>\n",
              "      <td>False</td>\n",
              "      <td>@84nanikiran @varunsankineni @KTRTRS @BJP4Tela...</td>\n",
              "      <td>KirtanHora</td>\n",
              "      <td>India</td>\n",
              "      <td>Twitter for Android</td>\n",
              "      <td>0</td>\n",
              "      <td>75</td>\n",
              "      <td>319</td>\n",
              "      <td>0</td>\n",
              "      <td>[bjp, rule, state, filthi, citi, gujrat, come,...</td>\n",
              "      <td>India</td>\n",
              "      <td>Positive</td>\n",
              "      <td>21</td>\n",
              "      <td>2</td>\n",
              "    </tr>\n",
              "    <tr>\n",
              "      <th>3</th>\n",
              "      <td>2020-11-21 15:40:49</td>\n",
              "      <td>1330174333457666049</td>\n",
              "      <td>False</td>\n",
              "      <td>@aajtak @journovidya BJP shall give real chall...</td>\n",
              "      <td>VasudevSeth</td>\n",
              "      <td></td>\n",
              "      <td>Twitter for Android</td>\n",
              "      <td>0</td>\n",
              "      <td>25</td>\n",
              "      <td>119</td>\n",
              "      <td>0</td>\n",
              "      <td>[bjp, shall, give, real, challeng, bengal, ope...</td>\n",
              "      <td></td>\n",
              "      <td>Positive</td>\n",
              "      <td>21</td>\n",
              "      <td>2</td>\n",
              "    </tr>\n",
              "    <tr>\n",
              "      <th>4</th>\n",
              "      <td>2020-11-21 15:40:36</td>\n",
              "      <td>1330174278688518147</td>\n",
              "      <td>False</td>\n",
              "      <td>@aajtak @AkhileshPSingh @sambitswaraj @anjanao...</td>\n",
              "      <td>VasudevSeth</td>\n",
              "      <td></td>\n",
              "      <td>Twitter for Android</td>\n",
              "      <td>0</td>\n",
              "      <td>25</td>\n",
              "      <td>119</td>\n",
              "      <td>0</td>\n",
              "      <td>[bjp, shall, give, real, challeng, bengal, ope...</td>\n",
              "      <td></td>\n",
              "      <td>Positive</td>\n",
              "      <td>21</td>\n",
              "      <td>2</td>\n",
              "    </tr>\n",
              "    <tr>\n",
              "      <th>...</th>\n",
              "      <td>...</td>\n",
              "      <td>...</td>\n",
              "      <td>...</td>\n",
              "      <td>...</td>\n",
              "      <td>...</td>\n",
              "      <td>...</td>\n",
              "      <td>...</td>\n",
              "      <td>...</td>\n",
              "      <td>...</td>\n",
              "      <td>...</td>\n",
              "      <td>...</td>\n",
              "      <td>...</td>\n",
              "      <td>...</td>\n",
              "      <td>...</td>\n",
              "      <td>...</td>\n",
              "      <td>...</td>\n",
              "    </tr>\n",
              "    <tr>\n",
              "      <th>150</th>\n",
              "      <td>2020-11-15 14:02:42</td>\n",
              "      <td>1327975314069147648</td>\n",
              "      <td>False</td>\n",
              "      <td>@Noor__Maryam So don't blame Owaisi on Ur defe...</td>\n",
              "      <td>Amir_Khatana_</td>\n",
              "      <td>Jammu And Kashmir</td>\n",
              "      <td>Twitter for Android</td>\n",
              "      <td>0</td>\n",
              "      <td>1853</td>\n",
              "      <td>1149</td>\n",
              "      <td>0</td>\n",
              "      <td>[blame, owaisi, defeat, strike, rate, seat, bi...</td>\n",
              "      <td>Jammu And Kashmir</td>\n",
              "      <td>Negative</td>\n",
              "      <td>15</td>\n",
              "      <td>0</td>\n",
              "    </tr>\n",
              "    <tr>\n",
              "      <th>151</th>\n",
              "      <td>2020-11-15 13:16:23</td>\n",
              "      <td>1327963660673839106</td>\n",
              "      <td>False</td>\n",
              "      <td>@zafarsareshwala @BJP4India This zameerfarosh ...</td>\n",
              "      <td>KhanSaheb_1</td>\n",
              "      <td>India</td>\n",
              "      <td>Twitter for Android</td>\n",
              "      <td>12</td>\n",
              "      <td>905</td>\n",
              "      <td>3407</td>\n",
              "      <td>3</td>\n",
              "      <td>[zameerfarosh, justifi, detent, center, muslim...</td>\n",
              "      <td>India</td>\n",
              "      <td>Negative</td>\n",
              "      <td>15</td>\n",
              "      <td>0</td>\n",
              "    </tr>\n",
              "    <tr>\n",
              "      <th>152</th>\n",
              "      <td>2020-11-15 12:30:33</td>\n",
              "      <td>1327952124735614976</td>\n",
              "      <td>False</td>\n",
              "      <td>@rajkuma04775211 @AshwiniBJP Congress minister...</td>\n",
              "      <td>veenadsharma45</td>\n",
              "      <td></td>\n",
              "      <td>Twitter for Android</td>\n",
              "      <td>0</td>\n",
              "      <td>796</td>\n",
              "      <td>715</td>\n",
              "      <td>0</td>\n",
              "      <td>[congress, minist, maharastra, gujrat, connect...</td>\n",
              "      <td></td>\n",
              "      <td>Positive</td>\n",
              "      <td>15</td>\n",
              "      <td>2</td>\n",
              "    </tr>\n",
              "    <tr>\n",
              "      <th>153</th>\n",
              "      <td>2020-11-15 12:11:00</td>\n",
              "      <td>1327947206360399873</td>\n",
              "      <td>False</td>\n",
              "      <td>@zafarsareshwala @BJP4India Sir, You rightly s...</td>\n",
              "      <td>AjayPremKaushal</td>\n",
              "      <td>Jaipur, India</td>\n",
              "      <td>Twitter for Android</td>\n",
              "      <td>7</td>\n",
              "      <td>252</td>\n",
              "      <td>741</td>\n",
              "      <td>1</td>\n",
              "      <td>[sir, rightli, said, muslim, prosper, gujrat, ...</td>\n",
              "      <td>Jaipur</td>\n",
              "      <td>Positive</td>\n",
              "      <td>15</td>\n",
              "      <td>2</td>\n",
              "    </tr>\n",
              "    <tr>\n",
              "      <th>154</th>\n",
              "      <td>2020-11-15 12:07:03</td>\n",
              "      <td>1327946212159340546</td>\n",
              "      <td>False</td>\n",
              "      <td>@gops33 In d 2017 Gujrat election results, Dho...</td>\n",
              "      <td>kabirazad2017</td>\n",
              "      <td>New Delhi, India</td>\n",
              "      <td>Twitter for Android</td>\n",
              "      <td>0</td>\n",
              "      <td>2244</td>\n",
              "      <td>1022</td>\n",
              "      <td>0</td>\n",
              "      <td>[gujrat, elect, result, dholka, seat, stolen, ...</td>\n",
              "      <td>New Delhi</td>\n",
              "      <td>Negative</td>\n",
              "      <td>15</td>\n",
              "      <td>0</td>\n",
              "    </tr>\n",
              "  </tbody>\n",
              "</table>\n",
              "<p>155 rows × 16 columns</p>\n",
              "</div>"
            ],
            "text/plain": [
              "                   Date             Tweet_id  ...  day sentiment_1\n",
              "0   2020-11-21 17:13:01  1330197537739993091  ...   21           1\n",
              "1   2020-11-21 16:52:11  1330192296390881282  ...   21           1\n",
              "2   2020-11-21 16:48:25  1330191345596706818  ...   21           2\n",
              "3   2020-11-21 15:40:49  1330174333457666049  ...   21           2\n",
              "4   2020-11-21 15:40:36  1330174278688518147  ...   21           2\n",
              "..                  ...                  ...  ...  ...         ...\n",
              "150 2020-11-15 14:02:42  1327975314069147648  ...   15           0\n",
              "151 2020-11-15 13:16:23  1327963660673839106  ...   15           0\n",
              "152 2020-11-15 12:30:33  1327952124735614976  ...   15           2\n",
              "153 2020-11-15 12:11:00  1327947206360399873  ...   15           2\n",
              "154 2020-11-15 12:07:03  1327946212159340546  ...   15           0\n",
              "\n",
              "[155 rows x 16 columns]"
            ]
          },
          "metadata": {
            "tags": []
          },
          "execution_count": 86
        }
      ]
    },
    {
      "cell_type": "code",
      "metadata": {
        "id": "xBc2j_RibPTh"
      },
      "source": [
        "cv = CountVectorizer(max_features = 1500)\n",
        "X = cv.fit_transform(all_words).toarray()\n",
        "y = df1['sentiment_1']"
      ],
      "execution_count": 87,
      "outputs": []
    },
    {
      "cell_type": "code",
      "metadata": {
        "id": "ePYtd2BMbPXN"
      },
      "source": [
        "X_train, X_test, y_train, y_test = train_test_split(X, y, test_size = 0.3, random_state = 0)\n",
        "# NEGATIVE == 0\n",
        "# NEUTRAL == 1\n",
        "# POSITIVE == 2"
      ],
      "execution_count": 88,
      "outputs": []
    },
    {
      "cell_type": "code",
      "metadata": {
        "id": "oTO3zF_gbPa5"
      },
      "source": [
        "#X_train, X_test, y_train, y_test = train_test_split(X_tfidf, y, test_size = 0.3, random_state = 0)"
      ],
      "execution_count": 89,
      "outputs": []
    },
    {
      "cell_type": "code",
      "metadata": {
        "id": "iaFTWb0LbPfA"
      },
      "source": [
        "classifier_DT = DecisionTreeClassifier()\n",
        "classifier_DT.fit(X_train, y_train)\n",
        "y_pred_DT = classifier_DT.predict(X_test)"
      ],
      "execution_count": 90,
      "outputs": []
    },
    {
      "cell_type": "code",
      "metadata": {
        "id": "d27boANUbPi9",
        "colab": {
          "base_uri": "https://localhost:8080/"
        },
        "outputId": "1183efa4-2c0e-4353-9a06-ff6c53cae14b"
      },
      "source": [
        "accuracy_score_DT = accuracy_score(y_test, y_pred_DT)\n",
        "precision_score_DT = precision_score(y_test, y_pred_DT , average = 'micro')\n",
        "recall_score_DT = recall_score(y_test, y_pred_DT , average = 'micro')\n",
        "f1_score_DT = f1_score(y_test, y_pred_DT , average = 'micro')\n",
        "print(\"Accuracy Score: \" , accuracy_score_DT)\n",
        "print(\"Precision Score: \" , precision_score_DT)\n",
        "print(\"Recall Score: \" , recall_score_DT)\n",
        "print(\"F1 Score: \" , f1_score_DT)"
      ],
      "execution_count": 91,
      "outputs": [
        {
          "output_type": "stream",
          "text": [
            "Accuracy Score:  0.5531914893617021\n",
            "Precision Score:  0.5531914893617021\n",
            "Recall Score:  0.5531914893617021\n",
            "F1 Score:  0.5531914893617021\n"
          ],
          "name": "stdout"
        }
      ]
    },
    {
      "cell_type": "code",
      "metadata": {
        "id": "drhy2odtbPmU",
        "colab": {
          "base_uri": "https://localhost:8080/",
          "height": 403
        },
        "outputId": "93747a5b-4fb2-49ca-9f32-4159eca525be"
      },
      "source": [
        "cm_DT = confusion_matrix(y_test, y_pred_DT)\n",
        "\n",
        "      # neg # neutr  # pos\n",
        "# pos #  232   65      1397\n",
        "# neu #  87   1175     51\n",
        "# neg # 1104   82      321\n",
        "\n",
        "df_cm_DT = pd.DataFrame(cm_DT, range(3), range(3))\n",
        "plt.figure(figsize=(10,6))\n",
        "categories = ['Negative','Neutral','Positive']\n",
        "sns.set(font_scale=1.2) # for label size\n",
        "sns.heatmap(df_cm_DT, annot=True, annot_kws={\"size\": 18}, xticklabels = categories,\n",
        "            yticklabels = categories ,fmt=\"d\") # font size\n",
        "plt.ylim(0, 3)\n",
        "plt.show()"
      ],
      "execution_count": 92,
      "outputs": [
        {
          "output_type": "display_data",
          "data": {
            "image/png": "[encoded data removed]",
            "text/plain": [
              "<Figure size 720x432 with 2 Axes>"
            ]
          },
          "metadata": {
            "tags": []
          }
        }
      ]
    },
    {
      "cell_type": "code",
      "metadata": {
        "id": "K0CwHnJPko8z",
        "colab": {
          "base_uri": "https://localhost:8080/"
        },
        "outputId": "36b8907a-618e-4a37-9650-f1c048344758"
      },
      "source": [
        "#Getting the parameters of the particular model \n",
        "classifier_DT.get_params().keys()"
      ],
      "execution_count": 93,
      "outputs": [
        {
          "output_type": "execute_result",
          "data": {
            "text/plain": [
              "dict_keys(['ccp_alpha', 'class_weight', 'criterion', 'max_depth', 'max_features', 'max_leaf_nodes', 'min_impurity_decrease', 'min_impurity_split', 'min_samples_leaf', 'min_samples_split', 'min_weight_fraction_leaf', 'presort', 'random_state', 'splitter'])"
            ]
          },
          "metadata": {
            "tags": []
          },
          "execution_count": 93
        }
      ]
    },
    {
      "cell_type": "code",
      "metadata": {
        "id": "zJvr_oyVkvC9"
      },
      "source": [
        "classifier_DT_opti = DecisionTreeClassifier() \n",
        "\n",
        "param_grid = {\"max_depth\" : [1,3,5,7],     #Setting the parameters for the model\n",
        "               \"criterion\" : [\"gini\",\"entropy\"],\n",
        "              \"min_samples_split\" : [2,3,4],\n",
        "              \"max_leaf_nodes\" : [7,8,9],\n",
        "              \"min_samples_leaf\": [2,3,4],\n",
        "             }"
      ],
      "execution_count": 94,
      "outputs": []
    },
    {
      "cell_type": "code",
      "metadata": {
        "id": "PuxfADWvkyNv",
        "colab": {
          "base_uri": "https://localhost:8080/"
        },
        "outputId": "057b1077-25a4-45c7-84bb-d999016d1bfa"
      },
      "source": [
        "model_DT = model_selection.GridSearchCV(estimator=classifier_DT_opti, #GridSearch\n",
        "                                    param_grid=param_grid, \n",
        "                                        cv=10)\n",
        "model_DT.fit(X_train,y_train)\n",
        "print(model_DT.best_score_) #Gives the best score of the model\n",
        "print(model_DT.best_estimator_.get_params()) #Gives the best parameters"
      ],
      "execution_count": 96,
      "outputs": [
        {
          "output_type": "stream",
          "text": [
            "0.5054545454545454\n",
            "{'ccp_alpha': 0.0, 'class_weight': None, 'criterion': 'gini', 'max_depth': 7, 'max_features': None, 'max_leaf_nodes': 8, 'min_impurity_decrease': 0.0, 'min_impurity_split': None, 'min_samples_leaf': 3, 'min_samples_split': 2, 'min_weight_fraction_leaf': 0.0, 'presort': 'deprecated', 'random_state': None, 'splitter': 'best'}\n"
          ],
          "name": "stdout"
        }
      ]
    },
    {
      "cell_type": "code",
      "metadata": {
        "id": "gzgA0zjCkyQx",
        "colab": {
          "base_uri": "https://localhost:8080/"
        },
        "outputId": "88bb6504-5acf-4996-8f78-8cdb90f33a2e"
      },
      "source": [
        "y_pred_model_DT = model_DT.predict(X_test)\n",
        "\n",
        "accuracy_score_model_DT = accuracy_score(y_test, y_pred_model_DT)\n",
        "precision_score_model_DT = precision_score(y_test, y_pred_model_DT , average = 'micro')\n",
        "recall_score_model_DT = recall_score(y_test, y_pred_model_DT , average = 'micro')\n",
        "f1_score_model_DT = f1_score(y_test, y_pred_model_DT , average = 'micro')\n",
        "print(\"Accuracy Score: \" , accuracy_score_model_DT)\n",
        "print(\"Precision Score: \" , precision_score_model_DT)\n",
        "print(\"Recall Score: \" , recall_score_model_DT)\n",
        "print(\"F1 Score: \" , f1_score_model_DT)"
      ],
      "execution_count": 98,
      "outputs": [
        {
          "output_type": "stream",
          "text": [
            "Accuracy Score:  0.40425531914893614\n",
            "Precision Score:  0.40425531914893614\n",
            "Recall Score:  0.40425531914893614\n",
            "F1 Score:  0.40425531914893614\n"
          ],
          "name": "stdout"
        }
      ]
    },
    {
      "cell_type": "code",
      "metadata": {
        "id": "J2nH4bFQkyUK",
        "colab": {
          "base_uri": "https://localhost:8080/",
          "height": 403
        },
        "outputId": "50504ad9-0a74-4d04-f15a-469526429334"
      },
      "source": [
        "cm_model_DT = confusion_matrix(y_test, y_pred_model_DT)\n",
        "\n",
        "df_cm_model_DT = pd.DataFrame(cm_model_DT, range(3), range(3))\n",
        "plt.figure(figsize=(10,6))\n",
        "categories = ['Negative','Neutral','Positive']\n",
        "sns.set(font_scale=1.2) # for label size\n",
        "sns.heatmap(df_cm_model_DT, annot=True, annot_kws={\"size\": 18}, xticklabels = categories,\n",
        "            yticklabels = categories ,fmt=\"d\") # font size\n",
        "plt.ylim(0, 3)\n",
        "plt.show()"
      ],
      "execution_count": 99,
      "outputs": [
        {
          "output_type": "display_data",
          "data": {
            "image/png": "[encoded data removed]",
            "text/plain": [
              "<Figure size 720x432 with 2 Axes>"
            ]
          },
          "metadata": {
            "tags": []
          }
        }
      ]
    },
    {
      "cell_type": "code",
      "metadata": {
        "id": "ngig2X9VkyYE"
      },
      "source": [
        "classifier_RF = RandomForestClassifier()\n",
        "classifier_RF.fit(X_train, y_train)\n",
        "y_pred_RF = classifier_RF.predict(X_test)"
      ],
      "execution_count": 100,
      "outputs": []
    },
    {
      "cell_type": "code",
      "metadata": {
        "id": "63-Ls52Jkyby",
        "colab": {
          "base_uri": "https://localhost:8080/"
        },
        "outputId": "9cdddd4e-19d9-4e55-8c71-e239b671fb9c"
      },
      "source": [
        "accuracy_score_RF = accuracy_score(y_test, y_pred_RF)\n",
        "precision_score_RF = precision_score(y_test, y_pred_RF , average = 'micro')\n",
        "recall_score_RF = recall_score(y_test, y_pred_RF, average = 'micro')\n",
        "f1_score_RF = f1_score(y_test, y_pred_RF, average = 'micro')\n",
        "print(\"Accuracy Score: \" , accuracy_score_RF)\n",
        "print(\"Precision Score: \" , precision_score_RF)\n",
        "print(\"Recall Score: \" , recall_score_RF)\n",
        "print(\"F1 Score: \" , f1_score_RF)"
      ],
      "execution_count": 101,
      "outputs": [
        {
          "output_type": "stream",
          "text": [
            "Accuracy Score:  0.5531914893617021\n",
            "Precision Score:  0.5531914893617021\n",
            "Recall Score:  0.5531914893617021\n",
            "F1 Score:  0.5531914893617021\n"
          ],
          "name": "stdout"
        }
      ]
    },
    {
      "cell_type": "code",
      "metadata": {
        "id": "YHbA5LWNkyfk",
        "colab": {
          "base_uri": "https://localhost:8080/",
          "height": 403
        },
        "outputId": "27cb2e8d-01dd-4b40-cdab-78b61961a763"
      },
      "source": [
        "cm_RF = confusion_matrix(y_test, y_pred_RF)\n",
        "\n",
        "df_cm_RF = pd.DataFrame(cm_RF, range(3), range(3))\n",
        "categories = ['Negative','Neutral','Positive']\n",
        "plt.figure(figsize=(10,6))\n",
        "sns.set(font_scale=1.2) # for label size\n",
        "sns.heatmap(df_cm_RF, annot=True, annot_kws={\"size\": 18}, xticklabels = categories,\n",
        "            yticklabels = categories,fmt=\"d\") # font size\n",
        "plt.ylim(0, 3)\n",
        "plt.show()"
      ],
      "execution_count": 102,
      "outputs": [
        {
          "output_type": "display_data",
          "data": {
            "image/png": "[encoded data removed]",
            "text/plain": [
              "<Figure size 720x432 with 2 Axes>"
            ]
          },
          "metadata": {
            "tags": []
          }
        }
      ]
    },
    {
      "cell_type": "code",
      "metadata": {
        "id": "E5BTMRiAkyl9",
        "colab": {
          "base_uri": "https://localhost:8080/"
        },
        "outputId": "e448f8a8-453b-4e05-e1cf-ad6b8a7ae370"
      },
      "source": [
        "#Getting the parameters of the particular model \n",
        "classifier_RF.get_params().keys()"
      ],
      "execution_count": 103,
      "outputs": [
        {
          "output_type": "execute_result",
          "data": {
            "text/plain": [
              "dict_keys(['bootstrap', 'ccp_alpha', 'class_weight', 'criterion', 'max_depth', 'max_features', 'max_leaf_nodes', 'max_samples', 'min_impurity_decrease', 'min_impurity_split', 'min_samples_leaf', 'min_samples_split', 'min_weight_fraction_leaf', 'n_estimators', 'n_jobs', 'oob_score', 'random_state', 'verbose', 'warm_start'])"
            ]
          },
          "metadata": {
            "tags": []
          },
          "execution_count": 103
        }
      ]
    },
    {
      "cell_type": "code",
      "metadata": {
        "id": "VBmNF8XVkysq",
        "colab": {
          "base_uri": "https://localhost:8080/"
        },
        "outputId": "6e34f918-1b10-4f42-92db-153d38ae77d9"
      },
      "source": [
        "classifier_RF_opti = RandomForestClassifier()\n",
        "param_grid = {\"n_estimators\": np.arange(100,1500,100), #Selecting the parameters\n",
        "               \"max_depth\": np.arange(1,20),\n",
        "               \"criterion\": [\"gini\",\"entropy\"], \n",
        "              }\n",
        "\n",
        "classifier_model_RF = model_selection.RandomizedSearchCV(estimator=classifier_RF_opti, #RandomizedSearch\n",
        "                                    param_distributions=param_grid,\n",
        "                                    n_iter=10,\n",
        "                                    scoring='accuracy',\n",
        "                                    verbose=10,\n",
        "                                    n_jobs=1,\n",
        "                                    cv=5)\n",
        "\n",
        "classifier_model_RF.fit(X_train,y_train)\n",
        "print(classifier_model_RF.best_score_) #Gives the best score of the model\n",
        "print(classifier_model_RF.best_estimator_.get_params()) #Gives the best parameters of the model"
      ],
      "execution_count": 104,
      "outputs": [
        {
          "output_type": "stream",
          "text": [
            "Fitting 5 folds for each of 10 candidates, totalling 50 fits\n",
            "[CV] n_estimators=400, max_depth=7, criterion=entropy ................\n"
          ],
          "name": "stdout"
        },
        {
          "output_type": "stream",
          "text": [
            "[Parallel(n_jobs=1)]: Using backend SequentialBackend with 1 concurrent workers.\n"
          ],
          "name": "stderr"
        },
        {
          "output_type": "stream",
          "text": [
            "[CV]  n_estimators=400, max_depth=7, criterion=entropy, score=0.455, total=   0.5s\n",
            "[CV] n_estimators=400, max_depth=7, criterion=entropy ................\n"
          ],
          "name": "stdout"
        },
        {
          "output_type": "stream",
          "text": [
            "[Parallel(n_jobs=1)]: Done   1 out of   1 | elapsed:    0.6s remaining:    0.0s\n"
          ],
          "name": "stderr"
        },
        {
          "output_type": "stream",
          "text": [
            "[CV]  n_estimators=400, max_depth=7, criterion=entropy, score=0.455, total=   0.5s\n",
            "[CV] n_estimators=400, max_depth=7, criterion=entropy ................\n"
          ],
          "name": "stdout"
        },
        {
          "output_type": "stream",
          "text": [
            "[Parallel(n_jobs=1)]: Done   2 out of   2 | elapsed:    1.1s remaining:    0.0s\n"
          ],
          "name": "stderr"
        },
        {
          "output_type": "stream",
          "text": [
            "[CV]  n_estimators=400, max_depth=7, criterion=entropy, score=0.545, total=   0.6s\n",
            "[CV] n_estimators=400, max_depth=7, criterion=entropy ................\n"
          ],
          "name": "stdout"
        },
        {
          "output_type": "stream",
          "text": [
            "[Parallel(n_jobs=1)]: Done   3 out of   3 | elapsed:    1.6s remaining:    0.0s\n"
          ],
          "name": "stderr"
        },
        {
          "output_type": "stream",
          "text": [
            "[CV]  n_estimators=400, max_depth=7, criterion=entropy, score=0.667, total=   0.5s\n",
            "[CV] n_estimators=400, max_depth=7, criterion=entropy ................\n"
          ],
          "name": "stdout"
        },
        {
          "output_type": "stream",
          "text": [
            "[Parallel(n_jobs=1)]: Done   4 out of   4 | elapsed:    2.2s remaining:    0.0s\n"
          ],
          "name": "stderr"
        },
        {
          "output_type": "stream",
          "text": [
            "[CV]  n_estimators=400, max_depth=7, criterion=entropy, score=0.667, total=   0.5s\n",
            "[CV] n_estimators=700, max_depth=6, criterion=gini ...................\n"
          ],
          "name": "stdout"
        },
        {
          "output_type": "stream",
          "text": [
            "[Parallel(n_jobs=1)]: Done   5 out of   5 | elapsed:    2.7s remaining:    0.0s\n"
          ],
          "name": "stderr"
        },
        {
          "output_type": "stream",
          "text": [
            "[CV]  n_estimators=700, max_depth=6, criterion=gini, score=0.455, total=   0.9s\n",
            "[CV] n_estimators=700, max_depth=6, criterion=gini ...................\n"
          ],
          "name": "stdout"
        },
        {
          "output_type": "stream",
          "text": [
            "[Parallel(n_jobs=1)]: Done   6 out of   6 | elapsed:    3.6s remaining:    0.0s\n"
          ],
          "name": "stderr"
        },
        {
          "output_type": "stream",
          "text": [
            "[CV]  n_estimators=700, max_depth=6, criterion=gini, score=0.455, total=   0.9s\n",
            "[CV] n_estimators=700, max_depth=6, criterion=gini ...................\n"
          ],
          "name": "stdout"
        },
        {
          "output_type": "stream",
          "text": [
            "[Parallel(n_jobs=1)]: Done   7 out of   7 | elapsed:    4.5s remaining:    0.0s\n"
          ],
          "name": "stderr"
        },
        {
          "output_type": "stream",
          "text": [
            "[CV]  n_estimators=700, max_depth=6, criterion=gini, score=0.409, total=   0.9s\n",
            "[CV] n_estimators=700, max_depth=6, criterion=gini ...................\n"
          ],
          "name": "stdout"
        },
        {
          "output_type": "stream",
          "text": [
            "[Parallel(n_jobs=1)]: Done   8 out of   8 | elapsed:    5.4s remaining:    0.0s\n"
          ],
          "name": "stderr"
        },
        {
          "output_type": "stream",
          "text": [
            "[CV]  n_estimators=700, max_depth=6, criterion=gini, score=0.619, total=   0.9s\n",
            "[CV] n_estimators=700, max_depth=6, criterion=gini ...................\n"
          ],
          "name": "stdout"
        },
        {
          "output_type": "stream",
          "text": [
            "[Parallel(n_jobs=1)]: Done   9 out of   9 | elapsed:    6.3s remaining:    0.0s\n"
          ],
          "name": "stderr"
        },
        {
          "output_type": "stream",
          "text": [
            "[CV]  n_estimators=700, max_depth=6, criterion=gini, score=0.619, total=   0.9s\n",
            "[CV] n_estimators=200, max_depth=16, criterion=entropy ...............\n",
            "[CV]  n_estimators=200, max_depth=16, criterion=entropy, score=0.455, total=   0.3s\n",
            "[CV] n_estimators=200, max_depth=16, criterion=entropy ...............\n",
            "[CV]  n_estimators=200, max_depth=16, criterion=entropy, score=0.500, total=   0.3s\n",
            "[CV] n_estimators=200, max_depth=16, criterion=entropy ...............\n",
            "[CV]  n_estimators=200, max_depth=16, criterion=entropy, score=0.545, total=   0.3s\n",
            "[CV] n_estimators=200, max_depth=16, criterion=entropy ...............\n",
            "[CV]  n_estimators=200, max_depth=16, criterion=entropy, score=0.571, total=   0.3s\n",
            "[CV] n_estimators=200, max_depth=16, criterion=entropy ...............\n",
            "[CV]  n_estimators=200, max_depth=16, criterion=entropy, score=0.524, total=   0.3s\n",
            "[CV] n_estimators=500, max_depth=9, criterion=gini ...................\n",
            "[CV]  n_estimators=500, max_depth=9, criterion=gini, score=0.455, total=   0.7s\n",
            "[CV] n_estimators=500, max_depth=9, criterion=gini ...................\n",
            "[CV]  n_estimators=500, max_depth=9, criterion=gini, score=0.455, total=   0.7s\n",
            "[CV] n_estimators=500, max_depth=9, criterion=gini ...................\n",
            "[CV]  n_estimators=500, max_depth=9, criterion=gini, score=0.455, total=   0.7s\n",
            "[CV] n_estimators=500, max_depth=9, criterion=gini ...................\n",
            "[CV]  n_estimators=500, max_depth=9, criterion=gini, score=0.571, total=   0.7s\n",
            "[CV] n_estimators=500, max_depth=9, criterion=gini ...................\n",
            "[CV]  n_estimators=500, max_depth=9, criterion=gini, score=0.571, total=   0.7s\n",
            "[CV] n_estimators=500, max_depth=7, criterion=entropy ................\n",
            "[CV]  n_estimators=500, max_depth=7, criterion=entropy, score=0.455, total=   0.6s\n",
            "[CV] n_estimators=500, max_depth=7, criterion=entropy ................\n",
            "[CV]  n_estimators=500, max_depth=7, criterion=entropy, score=0.500, total=   0.6s\n",
            "[CV] n_estimators=500, max_depth=7, criterion=entropy ................\n",
            "[CV]  n_estimators=500, max_depth=7, criterion=entropy, score=0.455, total=   0.7s\n",
            "[CV] n_estimators=500, max_depth=7, criterion=entropy ................\n",
            "[CV]  n_estimators=500, max_depth=7, criterion=entropy, score=0.667, total=   0.7s\n",
            "[CV] n_estimators=500, max_depth=7, criterion=entropy ................\n",
            "[CV]  n_estimators=500, max_depth=7, criterion=entropy, score=0.619, total=   0.7s\n",
            "[CV] n_estimators=1000, max_depth=1, criterion=entropy ...............\n",
            "[CV]  n_estimators=1000, max_depth=1, criterion=entropy, score=0.500, total=   1.2s\n",
            "[CV] n_estimators=1000, max_depth=1, criterion=entropy ...............\n",
            "[CV]  n_estimators=1000, max_depth=1, criterion=entropy, score=0.409, total=   1.3s\n",
            "[CV] n_estimators=1000, max_depth=1, criterion=entropy ...............\n",
            "[CV]  n_estimators=1000, max_depth=1, criterion=entropy, score=0.455, total=   1.2s\n",
            "[CV] n_estimators=1000, max_depth=1, criterion=entropy ...............\n",
            "[CV]  n_estimators=1000, max_depth=1, criterion=entropy, score=0.476, total=   1.2s\n",
            "[CV] n_estimators=1000, max_depth=1, criterion=entropy ...............\n",
            "[CV]  n_estimators=1000, max_depth=1, criterion=entropy, score=0.429, total=   1.2s\n",
            "[CV] n_estimators=600, max_depth=12, criterion=entropy ...............\n",
            "[CV]  n_estimators=600, max_depth=12, criterion=entropy, score=0.500, total=   0.8s\n",
            "[CV] n_estimators=600, max_depth=12, criterion=entropy ...............\n",
            "[CV]  n_estimators=600, max_depth=12, criterion=entropy, score=0.545, total=   0.8s\n",
            "[CV] n_estimators=600, max_depth=12, criterion=entropy ...............\n",
            "[CV]  n_estimators=600, max_depth=12, criterion=entropy, score=0.591, total=   0.8s\n",
            "[CV] n_estimators=600, max_depth=12, criterion=entropy ...............\n",
            "[CV]  n_estimators=600, max_depth=12, criterion=entropy, score=0.571, total=   0.8s\n",
            "[CV] n_estimators=600, max_depth=12, criterion=entropy ...............\n",
            "[CV]  n_estimators=600, max_depth=12, criterion=entropy, score=0.571, total=   0.8s\n",
            "[CV] n_estimators=800, max_depth=9, criterion=gini ...................\n",
            "[CV]  n_estimators=800, max_depth=9, criterion=gini, score=0.455, total=   1.0s\n",
            "[CV] n_estimators=800, max_depth=9, criterion=gini ...................\n",
            "[CV]  n_estimators=800, max_depth=9, criterion=gini, score=0.500, total=   1.2s\n",
            "[CV] n_estimators=800, max_depth=9, criterion=gini ...................\n",
            "[CV]  n_estimators=800, max_depth=9, criterion=gini, score=0.545, total=   1.0s\n",
            "[CV] n_estimators=800, max_depth=9, criterion=gini ...................\n",
            "[CV]  n_estimators=800, max_depth=9, criterion=gini, score=0.619, total=   1.0s\n",
            "[CV] n_estimators=800, max_depth=9, criterion=gini ...................\n",
            "[CV]  n_estimators=800, max_depth=9, criterion=gini, score=0.619, total=   1.1s\n",
            "[CV] n_estimators=1400, max_depth=4, criterion=entropy ...............\n",
            "[CV]  n_estimators=1400, max_depth=4, criterion=entropy, score=0.409, total=   1.8s\n",
            "[CV] n_estimators=1400, max_depth=4, criterion=entropy ...............\n",
            "[CV]  n_estimators=1400, max_depth=4, criterion=entropy, score=0.455, total=   1.8s\n",
            "[CV] n_estimators=1400, max_depth=4, criterion=entropy ...............\n",
            "[CV]  n_estimators=1400, max_depth=4, criterion=entropy, score=0.455, total=   1.8s\n",
            "[CV] n_estimators=1400, max_depth=4, criterion=entropy ...............\n",
            "[CV]  n_estimators=1400, max_depth=4, criterion=entropy, score=0.619, total=   1.8s\n",
            "[CV] n_estimators=1400, max_depth=4, criterion=entropy ...............\n",
            "[CV]  n_estimators=1400, max_depth=4, criterion=entropy, score=0.429, total=   1.8s\n",
            "[CV] n_estimators=1200, max_depth=13, criterion=gini .................\n",
            "[CV]  n_estimators=1200, max_depth=13, criterion=gini, score=0.455, total=   1.6s\n",
            "[CV] n_estimators=1200, max_depth=13, criterion=gini .................\n",
            "[CV]  n_estimators=1200, max_depth=13, criterion=gini, score=0.500, total=   1.6s\n",
            "[CV] n_estimators=1200, max_depth=13, criterion=gini .................\n",
            "[CV]  n_estimators=1200, max_depth=13, criterion=gini, score=0.636, total=   1.6s\n",
            "[CV] n_estimators=1200, max_depth=13, criterion=gini .................\n",
            "[CV]  n_estimators=1200, max_depth=13, criterion=gini, score=0.524, total=   1.6s\n",
            "[CV] n_estimators=1200, max_depth=13, criterion=gini .................\n",
            "[CV]  n_estimators=1200, max_depth=13, criterion=gini, score=0.619, total=   1.6s\n"
          ],
          "name": "stdout"
        },
        {
          "output_type": "stream",
          "text": [
            "[Parallel(n_jobs=1)]: Done  50 out of  50 | elapsed:   47.7s finished\n"
          ],
          "name": "stderr"
        },
        {
          "output_type": "stream",
          "text": [
            "0.5575757575757575\n",
            "{'bootstrap': True, 'ccp_alpha': 0.0, 'class_weight': None, 'criterion': 'entropy', 'max_depth': 7, 'max_features': 'auto', 'max_leaf_nodes': None, 'max_samples': None, 'min_impurity_decrease': 0.0, 'min_impurity_split': None, 'min_samples_leaf': 1, 'min_samples_split': 2, 'min_weight_fraction_leaf': 0.0, 'n_estimators': 400, 'n_jobs': None, 'oob_score': False, 'random_state': None, 'verbose': 0, 'warm_start': False}\n"
          ],
          "name": "stdout"
        }
      ]
    },
    {
      "cell_type": "code",
      "metadata": {
        "id": "_HMg7RGQkyw9",
        "colab": {
          "base_uri": "https://localhost:8080/"
        },
        "outputId": "f32f7d58-7da1-4b5e-a998-2b423ac8be62"
      },
      "source": [
        "y_pred_model_RF = classifier_model_RF.predict(X_test)\n",
        "\n",
        "accuracy_score_model_RF = accuracy_score(y_test, y_pred_model_RF)\n",
        "precision_score_model_RF = precision_score(y_test, y_pred_model_RF , average = 'micro')\n",
        "recall_score_model_RF = recall_score(y_test, y_pred_model_RF , average = 'micro')\n",
        "f1_score_model_RF = f1_score(y_test, y_pred_model_RF , average = 'micro')\n",
        "print(\"Accuracy Score: \" , accuracy_score_model_RF)\n",
        "print(\"Precision Score: \" , precision_score_model_RF)\n",
        "print(\"Recall Score: \" , recall_score_model_RF)\n",
        "print(\"F1 Score: \" , f1_score_model_RF)"
      ],
      "execution_count": 105,
      "outputs": [
        {
          "output_type": "stream",
          "text": [
            "Accuracy Score:  0.5531914893617021\n",
            "Precision Score:  0.5531914893617021\n",
            "Recall Score:  0.5531914893617021\n",
            "F1 Score:  0.5531914893617021\n"
          ],
          "name": "stdout"
        }
      ]
    },
    {
      "cell_type": "code",
      "metadata": {
        "id": "Jv8KNIbcky7X",
        "colab": {
          "base_uri": "https://localhost:8080/",
          "height": 408
        },
        "outputId": "ce8d99b4-337f-4be0-9045-a994793ce690"
      },
      "source": [
        "cm_model_RF = confusion_matrix(y_test, y_pred_model_RF)\n",
        "\n",
        "df_cm_model_RF = pd.DataFrame(cm_model_RF, range(3), range(3))\n",
        "plt.figure(figsize=(10,6))\n",
        "categories = ['Negative','Neutral','Positive']\n",
        "sns.set(font_scale=1.2) # for label size\n",
        "sns.heatmap(df_cm_model_RF, annot=True, annot_kws={\"size\": 18}, xticklabels = categories,\n",
        "            yticklabels = categories ,fmt=\"d\") # font size\n",
        "plt.ylim(0, 3)\n",
        "plt.show()"
      ],
      "execution_count": 106,
      "outputs": [
        {
          "output_type": "display_data",
          "data": {
            "image/png": "[encoded data removed]",
            "text/plain": [
              "<Figure size 720x432 with 2 Axes>"
            ]
          },
          "metadata": {
            "tags": []
          }
        }
      ]
    },
    {
      "cell_type": "code",
      "metadata": {
        "id": "DQyX1mAPky_I",
        "colab": {
          "base_uri": "https://localhost:8080/"
        },
        "outputId": "cb9cc03e-fbdf-4c1b-c409-7b17e0fd6e33"
      },
      "source": [
        "classifier_NB = MultinomialNB()\n",
        "classifier_NB.fit(X_train, y_train)\n",
        "y_pred_NB = classifier_NB.predict(X_test)\n",
        "\n",
        "accuracy_score_NB = accuracy_score(y_test, y_pred_NB)\n",
        "precision_score_NB = precision_score(y_test, y_pred_NB , average = 'micro')\n",
        "recall_score_NB = recall_score(y_test, y_pred_NB, average = 'micro')\n",
        "f1_score_NB = f1_score(y_test, y_pred_NB, average = 'micro')\n",
        "print(\"Accuracy Score: \" , accuracy_score_NB)\n",
        "print(\"Precision Score: \" , precision_score_NB)\n",
        "print(\"Recall Score: \" , recall_score_NB)\n",
        "print(\"F1 Score: \" , f1_score_NB)"
      ],
      "execution_count": 107,
      "outputs": [
        {
          "output_type": "stream",
          "text": [
            "Accuracy Score:  0.574468085106383\n",
            "Precision Score:  0.574468085106383\n",
            "Recall Score:  0.574468085106383\n",
            "F1 Score:  0.574468085106383\n"
          ],
          "name": "stdout"
        }
      ]
    },
    {
      "cell_type": "code",
      "metadata": {
        "id": "9tg9p6S-kzDm",
        "colab": {
          "base_uri": "https://localhost:8080/",
          "height": 408
        },
        "outputId": "ac3706d4-356a-44f8-c8ef-c8eb7fa21e1a"
      },
      "source": [
        "cm_NB = confusion_matrix(y_test, y_pred_NB)\n",
        "\n",
        "df_cm_NB = pd.DataFrame(cm_NB, range(3), range(3))\n",
        "plt.figure(figsize=(10,6))\n",
        "categories = ['Negative','Neutral','Positive']\n",
        "sns.set(font_scale=1.2) # for label size\n",
        "sns.heatmap(df_cm_NB, annot=True, annot_kws={\"size\": 18}, xticklabels = categories,\n",
        "            yticklabels = categories,fmt=\"d\") # font size\n",
        "plt.ylim(0, 3)\n",
        "plt.show()"
      ],
      "execution_count": 108,
      "outputs": [
        {
          "output_type": "display_data",
          "data": {
            "image/png": "[encoded data removed]",
            "text/plain": [
              "<Figure size 720x432 with 2 Axes>"
            ]
          },
          "metadata": {
            "tags": []
          }
        }
      ]
    },
    {
      "cell_type": "code",
      "metadata": {
        "id": "BTe09ktPkzKE",
        "colab": {
          "base_uri": "https://localhost:8080/"
        },
        "outputId": "56d9b6e2-6b8c-43ef-d148-6cf6cc511bae"
      },
      "source": [
        "#Getting the parameters of the particular model \n",
        "classifier_NB.get_params().keys()"
      ],
      "execution_count": 109,
      "outputs": [
        {
          "output_type": "execute_result",
          "data": {
            "text/plain": [
              "dict_keys(['alpha', 'class_prior', 'fit_prior'])"
            ]
          },
          "metadata": {
            "tags": []
          },
          "execution_count": 109
        }
      ]
    },
    {
      "cell_type": "code",
      "metadata": {
        "id": "NrTKsiC6kzOQ",
        "colab": {
          "base_uri": "https://localhost:8080/"
        },
        "outputId": "aecc47ea-b4e9-4809-9584-a7613d77a2a5"
      },
      "source": [
        "classifier_NB_opti = MultinomialNB() #Using the MultinomialNB\n",
        "param_grid = {'alpha':[1,2,3,4], } #Selecting the parameters\n",
        "\n",
        "classifier_model_NB = model_selection.GridSearchCV(estimator=classifier_NB_opti, #GridSearch\n",
        "                                    param_grid=param_grid,\n",
        "                                        cv=10)\n",
        "classifier_model_NB.fit(X_train,y_train)\n",
        "print(classifier_model_NB.best_score_) #Gives the best score of the model\n",
        "print(classifier_model_NB.best_estimator_.get_params()) #Gives the best parameters of the model"
      ],
      "execution_count": 110,
      "outputs": [
        {
          "output_type": "stream",
          "text": [
            "0.5936363636363636\n",
            "{'alpha': 1, 'class_prior': None, 'fit_prior': True}\n"
          ],
          "name": "stdout"
        }
      ]
    },
    {
      "cell_type": "code",
      "metadata": {
        "id": "2ypJAX2PkzR_",
        "colab": {
          "base_uri": "https://localhost:8080/"
        },
        "outputId": "6a15ea38-e30c-4dbf-f803-1475fb22320f"
      },
      "source": [
        "y_pred_model_NB = classifier_model_NB.predict(X_test)\n",
        "\n",
        "accuracy_score_model_NB = accuracy_score(y_test, y_pred_model_NB)\n",
        "precision_score_model_NB = precision_score(y_test, y_pred_model_NB , average = 'micro')\n",
        "recall_score_model_NB = recall_score(y_test, y_pred_model_NB , average = 'micro')\n",
        "f1_score_model_NB = f1_score(y_test, y_pred_model_NB, average = 'micro')\n",
        "print(\"Accuracy Score: \" , accuracy_score_model_NB)\n",
        "print(\"Precision Score: \" , precision_score_model_NB)\n",
        "print(\"Recall Score: \" , recall_score_model_NB)\n",
        "print(\"F1 Score: \" , f1_score_model_NB)"
      ],
      "execution_count": 111,
      "outputs": [
        {
          "output_type": "stream",
          "text": [
            "Accuracy Score:  0.574468085106383\n",
            "Precision Score:  0.574468085106383\n",
            "Recall Score:  0.574468085106383\n",
            "F1 Score:  0.574468085106383\n"
          ],
          "name": "stdout"
        }
      ]
    },
    {
      "cell_type": "code",
      "metadata": {
        "id": "ZBBcB7kVkzVo",
        "colab": {
          "base_uri": "https://localhost:8080/",
          "height": 408
        },
        "outputId": "8b0c413a-9569-4659-fc9f-fd411a0c9923"
      },
      "source": [
        "cm_model_NB = confusion_matrix(y_test, y_pred_model_NB)\n",
        "\n",
        "df_cm_model_NB = pd.DataFrame(cm_model_NB, range(3), range(3))\n",
        "plt.figure(figsize=(10,6))\n",
        "categories = ['Negative','Neutral','Positive']\n",
        "sns.set(font_scale=1.2) # for label size\n",
        "sns.heatmap(df_cm_model_NB, annot=True, annot_kws={\"size\": 18}, xticklabels = categories,\n",
        "            yticklabels = categories ,fmt=\"d\") # font size\n",
        "plt.ylim(0, 3)\n",
        "plt.show()"
      ],
      "execution_count": 112,
      "outputs": [
        {
          "output_type": "display_data",
          "data": {
            "image/png": "[encoded data removed]",
            "text/plain": [
              "<Figure size 720x432 with 2 Axes>"
            ]
          },
          "metadata": {
            "tags": []
          }
        }
      ]
    },
    {
      "cell_type": "code",
      "metadata": {
        "id": "LI2iJixRkzZc",
        "colab": {
          "base_uri": "https://localhost:8080/",
          "height": 348
        },
        "outputId": "ac2f625d-4ba3-49a6-fd9f-da28518f5279"
      },
      "source": [
        "Accuracy = [accuracy_score_RF, accuracy_score_DT, accuracy_score_model_NB]\n",
        "Methods = ['Random_Forest', 'Decision_Trees', 'Naive_Bayes']\n",
        "Accuracy_pos = np.arange(len(Methods))\n",
        "plt.bar(Accuracy_pos, Accuracy)\n",
        "plt.xticks(Accuracy_pos, Methods)\n",
        "plt.title('Comparing Accuracy Score')\n",
        "plt.show()"
      ],
      "execution_count": 113,
      "outputs": [
        {
          "output_type": "display_data",
          "data": {
            "image/png": "[encoded data removed]",
            "text/plain": [
              "<Figure size 1080x360 with 1 Axes>"
            ]
          },
          "metadata": {
            "tags": []
          }
        }
      ]
    },
    {
      "cell_type": "code",
      "metadata": {
        "id": "M1bdj4N1kzkQ",
        "colab": {
          "base_uri": "https://localhost:8080/",
          "height": 348
        },
        "outputId": "153b7138-daef-430c-a206-4f067cbb5d99"
      },
      "source": [
        "Precision = [precision_score_RF, precision_score_DT, precision_score_model_NB]\n",
        "Methods = ['Random_Forest', 'Decision_Trees', 'Naive_Bayes']\n",
        "Precision_pos = np.arange(len(Methods))\n",
        "plt.bar(Precision_pos, Precision)\n",
        "plt.xticks(Precision_pos, Methods)\n",
        "plt.title('Comparing Precision Score')\n",
        "plt.show()"
      ],
      "execution_count": 114,
      "outputs": [
        {
          "output_type": "display_data",
          "data": {
            "image/png": "[encoded data removed]",
            "text/plain": [
              "<Figure size 1080x360 with 1 Axes>"
            ]
          },
          "metadata": {
            "tags": []
          }
        }
      ]
    },
    {
      "cell_type": "code",
      "metadata": {
        "id": "PSP5LN84kzec",
        "colab": {
          "base_uri": "https://localhost:8080/",
          "height": 348
        },
        "outputId": "1857127f-de2c-450a-8f63-023465365e25"
      },
      "source": [
        "Recall = [recall_score_RF, recall_score_DT, recall_score_model_NB]\n",
        "Methods = ['Random_Forest', 'Decision_Trees', 'Naive_Bayes']\n",
        "Recall_pos = np.arange(len(Methods))\n",
        "plt.bar(Recall_pos, Recall)\n",
        "plt.xticks(Recall_pos, Methods)\n",
        "plt.title('Comparing Recall Score')\n",
        "plt.show()"
      ],
      "execution_count": 115,
      "outputs": [
        {
          "output_type": "display_data",
          "data": {
            "image/png": "[encoded data removed]",
            "text/plain": [
              "<Figure size 1080x360 with 1 Axes>"
            ]
          },
          "metadata": {
            "tags": []
          }
        }
      ]
    },
    {
      "cell_type": "code",
      "metadata": {
        "id": "PFp_117WkzHO",
        "colab": {
          "base_uri": "https://localhost:8080/",
          "height": 348
        },
        "outputId": "91114095-1cb4-4632-bb2f-140807fbf7f5"
      },
      "source": [
        "\n",
        "F1 = [f1_score_RF,f1_score_DT,f1_score_model_NB]\n",
        "Methods = ['Random_Forest', 'Decision_Trees', 'Naive_Bayes']\n",
        "F1_pos = np.arange(len(Methods))\n",
        "plt.bar(F1_pos, F1)\n",
        "plt.xticks(F1_pos, Methods)\n",
        "plt.title('Comparing F1 Score')\n",
        "plt.show()"
      ],
      "execution_count": 116,
      "outputs": [
        {
          "output_type": "display_data",
          "data": {
            "image/png": "[encoded data removed]",
            "text/plain": [
              "<Figure size 1080x360 with 1 Axes>"
            ]
          },
          "metadata": {
            "tags": []
          }
        }
      ]
    }
  ]
}