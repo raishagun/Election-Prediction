{
  "nbformat": 4,
  "nbformat_minor": 0,
  "metadata": {
    "colab": {
      "name": "Welcome To Colaboratory",
      "provenance": [],
      "collapsed_sections": [],
      "include_colab_link": true
    },
    "kernelspec": {
      "display_name": "Python 3",
      "name": "python3"
    }
  },
  "cells": [
    {
      "cell_type": "markdown",
      "metadata": {
        "id": "view-in-github",
        "colab_type": "text"
      },
      "source": [
        "<a href=\"https://colab.research.google.com/github/raishagun/Election-Prediction/blob/master/StatewisePolitics/Maharashtra/ncpMaharashtra.ipynb\" target=\"_parent\"><img src=\"https://colab.research.google.com/assets/colab-badge.svg\" alt=\"Open In Colab\"/></a>"
      ]
    },
    {
      "cell_type": "code",
      "metadata": {
        "id": "kVfRDc2GgRqk",
        "colab": {
          "base_uri": "https://localhost:8080/"
        },
        "outputId": "0eb5a197-72c6-414e-f779-314615e1187d"
      },
      "source": [
        "!git clone https://github.com/raishagun/Election-Prediction.git"
      ],
      "execution_count": 63,
      "outputs": [
        {
          "output_type": "stream",
          "text": [
            "fatal: destination path 'Election-Prediction' already exists and is not an empty directory.\n"
          ],
          "name": "stdout"
        }
      ]
    },
    {
      "cell_type": "code",
      "metadata": {
        "id": "MrUePyosg9GN",
        "colab": {
          "base_uri": "https://localhost:8080/"
        },
        "outputId": "a5019a36-2979-4bbd-be74-b608a7461d25"
      },
      "source": [
        "import tweepy \n",
        "import pandas as pd\n",
        "from tweepy import OAuthHandler\n",
        "\n",
        "\n",
        "access_token=\"1289037463684489217-5PddOsmU9h5deRwOhdigvhg32FEgID\"\n",
        "access_token_secret=\"cAPevFduWkiNP3juu8WGAwZm69vgv8C4s8RPz0WE8MJFK\"\n",
        "\n",
        "consumer_key=\"DLhoHkK6uOGz3Ni9ybuoruiLm\"\n",
        "consumer_secret=\"jKyrDR68msnbmgZMNNJdSJwadGoed11imKV1jdlNYNczL9HvEk\"\n",
        "\n",
        "auth = tweepy.OAuthHandler(consumer_key, consumer_secret)  # authentication of access token and secret \n",
        "auth.set_access_token(access_token, access_token_secret) \n",
        "api = tweepy.API(auth,wait_on_rate_limit = True)\n",
        "\n",
        "\n",
        "date1 = \"2020-11-01\"  #Date from which you need to extract tweets\n",
        "date2 = \"2020-11-22\"  #Date till when you need to extract tweets\n",
        "\n",
        "date =[]\n",
        "user_id = []\n",
        "verified = []\n",
        "text = []\n",
        "user = []\n",
        "location = []\n",
        "source = []\n",
        "likes = []\n",
        "followers = []\n",
        "following = []\n",
        "retweets = []\n",
        "\n",
        "def get_tweets(date1,date2,word):\n",
        "    count = 0\n",
        "    for tweet in tweepy.Cursor(api.search , q=word,count =1000,lang=\"en\",since_id = date1,until = date2,tweet_mode = 'extended').items():\n",
        "        print(tweet.created_at)  #Date at which it was tweet\n",
        "        date.append(tweet.created_at)\n",
        "        print(tweet.id)          #Unique ID of tweet\n",
        "        user_id.append(tweet.id)\n",
        "        print(tweet.user.verified)   #If user who tweet is verified or not\n",
        "        verified.append(tweet.user.verified)\n",
        "        print(tweet.full_text)   #To get full text of the tweet\n",
        "        text.append(tweet.full_text)\n",
        "        print(tweet.user.screen_name)  #User screen name\n",
        "        user.append(tweet.user.screen_name)\n",
        "        print(tweet.user.location)     #Location from where the tweet came\n",
        "        location.append(tweet.user.location)\n",
        "        print(tweet.source)            #Which twitter application was used to tweet\n",
        "        source.append(tweet.source)\n",
        "        print(tweet.favorite_count)     #Number of likes on the tweet\n",
        "        likes.append(tweet.favorite_count)\n",
        "        print(tweet.user.followers_count)    #Number of followers of the user\n",
        "        followers.append(tweet.user.followers_count)\n",
        "        print(tweet.user.friends_count)      #Number of following by the user\n",
        "        following.append(tweet.user.friends_count)\n",
        "        print(tweet.retweet_count)               #Number of the retweets of the original tweet\n",
        "        retweets.append(tweet.retweet_count)\n",
        "    \n",
        "        print('<--------------------------------------------------->')\n",
        "        count+=1\n",
        "        print(count)\n",
        "    \n",
        "get_tweets(date1,date2,\"ncp maharashtra\"+\" -filter:retweets\") #Filtering out retweets to avoid duplication\n",
        "\n",
        "data = list(zip(date,user_id,verified,text,user,location,source,likes,followers,following,retweets))\n",
        "df = pd.DataFrame(data =data, columns =[\"Date\",\"Tweet_id\",\"Verified\",\"Tweet\",\n",
        "                                   \"User\",\"Location\",\"Source\",\"Likes\",\"Followers\",\"Following\",\"Retweets\"])\n",
        "\n",
        "           \n",
        "df.to_csv('ncp_maharashtra.csv',index = False)"
      ],
      "execution_count": 64,
      "outputs": [
        {
          "output_type": "stream",
          "text": [
            "2020-11-21 20:07:03\n",
            "1330241334846885890\n",
            "False\n",
            "@NagariMumbaikar @arvindgunasekar I think u r poor in maths, let me explain! BJP got 105 seats in Maharashtra! Highest ! But shiv Sena cheated BJP n formed alliance with Congo n NCP .maharastra ppl didn’t kick bjp.\n",
            "suresh_sushmita\n",
            "\n",
            "Twitter for iPhone\n",
            "8\n",
            "652\n",
            "616\n",
            "0\n",
            "<--------------------------------------------------->\n",
            "1\n",
            "2020-11-21 18:43:22\n",
            "1330220273300332549\n",
            "False\n",
            "@OfficeofUT @AUThackeray @rautsanjay61 \n",
            "\n",
            "If you want win the heart of #Mumbaikar and #Maharashtra then support #India (#Bharat) is our #Hindu_Rashtra \n",
            "\n",
            "Already #Congress and #NCP is declare that they are participating independent in #BMC_2022 \n",
            "\n",
            "Otherwise you are not going to....\n",
            "anup_dhule\n",
            "\n",
            "Twitter for Android\n",
            "0\n",
            "433\n",
            "435\n",
            "0\n",
            "<--------------------------------------------------->\n",
            "2\n",
            "2020-11-21 15:26:44\n",
            "1330170788528480262\n",
            "False\n",
            "@gauti8619 @WcwwweU @arvindgunasekar 😂 it's Maharashtra my friend. Don't you saw how so called Chanakya of BJP got defeated in government formation? Every single MLA locked by BJP came back. Still you feel BJP has strong base. 😂 105 they got because 35 NCP Congress leaders inducted before election\n",
            "NagariMumbaikar\n",
            "Maharashtra, India\n",
            "Twitter for Android\n",
            "0\n",
            "20\n",
            "181\n",
            "0\n",
            "<--------------------------------------------------->\n",
            "3\n",
            "2020-11-21 15:17:05\n",
            "1330168362748547072\n",
            "False\n",
            "@gauti8619 @WcwwweU @arvindgunasekar On which planet u are leaving? Here BJP MLAs are joining NCP &amp; ShivSena.Chalo 4 ur better understanding go &amp; study present MLA of BJP - their background.Half of them are from NCP or https://t.co/Wcud2hQ6cG in Maharashtra it's more about local leaders than party.\n",
            "NagariMumbaikar\n",
            "Maharashtra, India\n",
            "Twitter for Android\n",
            "0\n",
            "20\n",
            "181\n",
            "0\n",
            "<--------------------------------------------------->\n",
            "4\n",
            "2020-11-21 11:40:59\n",
            "1330113977045671936\n",
            "False\n",
            "The Congress’ frustration in the Maharashtra govt #Delhi #Rajasthan #Telangana #TamilNadu #BJP https://t.co/eF6JlZWYFN\n",
            "SUMEETGOSWAMI\n",
            "South wales\n",
            "Twitter Web App\n",
            "0\n",
            "19\n",
            "167\n",
            "0\n",
            "<--------------------------------------------------->\n",
            "5\n",
            "2020-11-21 09:23:14\n",
            "1330079311345438720\n",
            "False\n",
            "@KiritSomaiya Am patiently waiting when will BJP govt reform in Maharashtra? Once govt in power all shav senas, NCP's &amp; some deshdrohi congress will taste jails....Chun chun k badla lenge....\n",
            "monudgunner\n",
            "India\n",
            "Twitter for Android\n",
            "2\n",
            "42\n",
            "479\n",
            "0\n",
            "<--------------------------------------------------->\n",
            "6\n",
            "2020-11-21 09:20:56\n",
            "1330078732204302337\n",
            "False\n",
            "The @INCIndia in Maharashtra is in a vulnerable position with the state leadership not willing to stick its neck out in taking difficult decisions or working towards expanding the party’s base.\n",
            "@asadowaisi @imtiaz_jaleel @warispathan\n",
            "https://t.co/RMkbfwIi88\n",
            "sheikhsabeer26\n",
            "India\n",
            "Twitter for Android\n",
            "0\n",
            "12\n",
            "118\n",
            "0\n",
            "<--------------------------------------------------->\n",
            "7\n",
            "2020-11-21 09:05:49\n",
            "1330074928239038467\n",
            "False\n",
            "Meeting with Honourable Governor of Maharashtra H.E. Shri Bhagat Singh Koshiyariji and NCP chief Shri. Sharad Pawar Saheb, Discussing the Development of University.\n",
            "\n",
            "#development #Isbmuniversity #Pawarspeaks #DrVinayAgrawal #Karonapadhai #KNOWLEDGE #Wisdom   #Humanity https://t.co/I76NX45O6G\n",
            "vinaymagrawal\n",
            "India\n",
            "Twitter Web App\n",
            "7\n",
            "151\n",
            "11\n",
            "1\n",
            "<--------------------------------------------------->\n",
            "8\n",
            "2020-11-21 08:45:15\n",
            "1330069755924017152\n",
            "False\n",
            "@pradip103 When will MafiaRaj in Maharashtra end? Take a vow to raise ur voice to politically eliminate Cheats of MahaCorruptBandhan - CorruptCong, SoniaSena &amp; Dawood’s NCP now.  @republic @Tejasvi_Surya @TajinderBagga @TimesNow #IAmRepublic #IndiaWithArnab #ArnabGoswami #ArnabIsBack\n",
            "indianityfirst\n",
            "\n",
            "Twitter for iPhone\n",
            "0\n",
            "23\n",
            "69\n",
            "0\n",
            "<--------------------------------------------------->\n",
            "9\n",
            "2020-11-21 06:15:45\n",
            "1330032130928353282\n",
            "False\n",
            "@ss_suryawanshi @NewIndianXpress Preparation for making indirect friendship of BJP towards NCP to make woman CM in upcoming election of Maharashtra...Daav pench by Ashish Shelar BJP.\n",
            "Rajjain1975\n",
            "Bhayander East, Mumbai\n",
            "Twitter for Android\n",
            "0\n",
            "2\n",
            "20\n",
            "0\n",
            "<--------------------------------------------------->\n",
            "10\n",
            "2020-11-21 06:02:01\n",
            "1330028675333582849\n",
            "False\n",
            "Explained: The Congress' frustration in the Maharashtra govt. https://t.co/4fQZ7CUR6I via @IndianExpress\n",
            "pksrivastava6\n",
            "Chennai\n",
            "Twitter Web App\n",
            "0\n",
            "5612\n",
            "2295\n",
            "0\n",
            "<--------------------------------------------------->\n",
            "11\n",
            "2020-11-21 01:30:00\n",
            "1329960219397353472\n",
            "True\n",
            "With consumers complaining of high electricity bills amid the pandemic, opposition parties in Maharashtra have demanded that the Shiv Sena-NCP-Congress government grant concessions in payment.\n",
            "\n",
            "https://t.co/OHOhMbHl3l\n",
            "CNNnews18\n",
            "India\n",
            "TweetDeck\n",
            "12\n",
            "4544983\n",
            "415\n",
            "1\n",
            "<--------------------------------------------------->\n",
            "12\n",
            "2020-11-21 00:28:07\n",
            "1329944644516515840\n",
            "False\n",
            "@UshaNirmala If @bjpmaha aligns with any party, then they r the loosers.  No one will vote for BJP after that. If they have morality BJP shouldn’t align with any in Maharashtra either NCP or Congis or Sonia Sena. Fight independently &amp; bjp will move majority govt next\n",
            "HKadakeri\n",
            "\n",
            "Twitter Web App\n",
            "0\n",
            "204\n",
            "402\n",
            "0\n",
            "<--------------------------------------------------->\n",
            "13\n",
            "2020-11-20 18:08:58\n",
            "1329849228730851328\n",
            "False\n",
            "Explained: The Congress’ frustration in the Maharashtra govt https://t.co/Obwu0eDHvN via @IndianExpress\n",
            "liyer\n",
            "New Delhi\n",
            "Twitter for Android\n",
            "0\n",
            "1017\n",
            "443\n",
            "0\n",
            "<--------------------------------------------------->\n",
            "14\n",
            "2020-11-20 17:50:58\n",
            "1329844698106785792\n",
            "False\n",
            "Maharashtra: Ajit Pawar&amp;#8217;s neighbour in Baramati commits suicide, accuses NCP leaders of harassment in note https://t.co/u9Ykf4RK1F via @OpIndia_com\n",
            "MuralidharKara4\n",
            "\n",
            "Twitter Web App\n",
            "0\n",
            "2\n",
            "10\n",
            "0\n",
            "<--------------------------------------------------->\n",
            "15\n",
            "2020-11-20 17:43:44\n",
            "1329842880584642563\n",
            "False\n",
            "@srinivazvasu @UshaNirmala @BJP4India must understand lot has happened in #Maharashtra both politically &amp; socially. Surely people are shifting their allegiance and @bjpmaha must take the advantage. Recent situations in the State has stirred and shaken the trust of the people against NCP+INC+SS combine.\n",
            "ItsVinayRaj\n",
            "India\n",
            "Twitter for Android\n",
            "3\n",
            "546\n",
            "1768\n",
            "1\n",
            "<--------------------------------------------------->\n",
            "16\n",
            "2020-11-20 17:38:45\n",
            "1329841623941799936\n",
            "False\n",
            "Explained: The Congress’ frustration in the Maharashtra govt | Explained News,The Indian Express https://t.co/aCGMvnvd4T\n",
            "NitinMRao\n",
            "Pune \n",
            "Twitter Web App\n",
            "0\n",
            "682\n",
            "1824\n",
            "0\n",
            "<--------------------------------------------------->\n",
            "17\n",
            "2020-11-20 17:19:01\n",
            "1329836660582977543\n",
            "False\n",
            "@VikramGoel13 From where r u getting this? Not possible. NCP’s Muslim will not support that. Pawar is de facto Incharge in Maharashtra, why he need a CM from NCP\n",
            "harigoyalcanada\n",
            "Burlington, Ontario\n",
            "Twitter for iPad\n",
            "10\n",
            "340\n",
            "359\n",
            "1\n",
            "<--------------------------------------------------->\n",
            "18\n",
            "2020-11-20 16:55:12\n",
            "1329830666104520705\n",
            "False\n",
            "Explained: The Congress’ frustration in the Maharashtra govt https://t.co/RppHFzbIRm\n",
            "seshaiah_g\n",
            "\n",
            "Twitter Web App\n",
            "0\n",
            "5\n",
            "1\n",
            "0\n",
            "<--------------------------------------------------->\n",
            "19\n",
            "2020-11-20 16:42:20\n",
            "1329827426516525058\n",
            "False\n",
            "Does it look like a BJP-NCP alliance in Maharashtra, brewing, with a possibility of NCP CM\n",
            "VikramGoel13\n",
            "\n",
            "Twitter Web App\n",
            "142\n",
            "851\n",
            "2551\n",
            "17\n",
            "<--------------------------------------------------->\n",
            "20\n",
            "2020-11-20 15:26:20\n",
            "1329808301958303744\n",
            "False\n",
            "BJP still dreams of coalition with NCP for power in Maharashtra. https://t.co/4vCftzd0dI\n",
            "prajakta_s_c\n",
            "\n",
            "Twitter for Android\n",
            "1\n",
            "194\n",
            "231\n",
            "0\n",
            "<--------------------------------------------------->\n",
            "21\n",
            "2020-11-20 14:36:16\n",
            "1329795701706932228\n",
            "False\n",
            "@rohini_sgh @ss_suryawanshi @NewIndianXpress NCP lobby have hidden wish which peeps out thru the party loyalists in public media that Supriya Sule shall be the CM of Maharashtra. 🙄🤞\n",
            "Sid_at_his_pace\n",
            "\n",
            "Twitter for Android\n",
            "0\n",
            "2112\n",
            "594\n",
            "0\n",
            "<--------------------------------------------------->\n",
            "22\n",
            "2020-11-20 14:19:46\n",
            "1329791548393889793\n",
            "False\n",
            "Indirectly hinting towards Supriya Sule, Sr BJP leader Ashish Shelar in presence of NCP chief Sharad Pawar said, an efficient Maratha woman should be CM of Maharashtra. Major section of society feel, Maratha woman should be CM &amp; he will also support dis decision @NewIndianXpress\n",
            "ss_suryawanshi\n",
            "Mumbai\n",
            "Twitter for Android\n",
            "529\n",
            "19550\n",
            "432\n",
            "34\n",
            "<--------------------------------------------------->\n",
            "23\n",
            "2020-11-20 13:55:19\n",
            "1329785395773542401\n",
            "False\n",
            "@SankarshanT @asadowaisi Because of him &amp; his party, the BJP has benefited in a number of states. For example, last year, in Maharashtra assembly elections, he deprived INC/NCP of at least 12 seats. \n",
            "He &amp; @aimim_national surely are a M-team of the BJP. No ED/CBI/ITD raids. \n",
            "2/3\n",
            "RanjitOne\n",
            "Maharashtra, India\n",
            "Twitter Web App\n",
            "1\n",
            "5803\n",
            "1400\n",
            "0\n",
            "<--------------------------------------------------->\n",
            "24\n",
            "2020-11-20 12:35:55\n",
            "1329765414507737088\n",
            "True\n",
            "BJP leader and former Maharashtra energy minister Chandrashekhar Bawankule warned that electricity bills will be burnt across the state on November 23 if no relief is given to consumers.\n",
            "\n",
            "https://t.co/ZcVdgC7xdI\n",
            "news18dotcom\n",
            "India\n",
            "TweetDeck\n",
            "1\n",
            "149168\n",
            "181\n",
            "0\n",
            "<--------------------------------------------------->\n",
            "25\n",
            "2020-11-20 11:45:02\n",
            "1329752611998711808\n",
            "False\n",
            "Congress Big Action On MVA Alliance &amp; Maharashtra CM Uddhav Thackeray ShivSena Govt Trouble? BJP NCP\n",
            "BMC ELECTION WILL BE FOUGHT BY CONGRESS INDEPENDENTLY INDICATES THE FUTURE OF MVA GOVT.\n",
            "https://t.co/mzdKbVgj9A\n",
            "#Impose302InSSRCase\n",
            "manav717\n",
            "Haldwani-Kathgodam, India\n",
            "Twitter Web App\n",
            "8\n",
            "1135\n",
            "2310\n",
            "6\n",
            "<--------------------------------------------------->\n",
            "26\n",
            "2020-11-20 11:03:54\n",
            "1329742258174771202\n",
            "False\n",
            "@RavindraAkolka3 @rustyDustyRoad @sardesairajdeep @htTweets No one hd sn 2morrow bt d facts r BJP is in d brink of split in Maharastra.If BJP is so confident of gaining in fresh Elections in Maharashtra, it hs more arms of power to dismiss &amp; hold Elections.Hd nt d Chanakya stroke of NCP in revoking President rule, no Govt would hv formed\n",
            "MNAHUS\n",
            "New Delhi, India\n",
            "Twitter for Android\n",
            "0\n",
            "869\n",
            "2611\n",
            "0\n",
            "<--------------------------------------------------->\n",
            "27\n",
            "2020-11-20 10:00:00\n",
            "1329726178295390209\n",
            "True\n",
            "As the Maharashtra Vikas Aghadi government is set to complete a year in office, there are rumblings in the triumvirate of the Shiv Sena, Congress and NCP.\n",
            "\n",
            "@zeeshansahafi looks at what the latest tiff is all about. #ExpressExplained\n",
            "\n",
            "https://t.co/2YWpJHcITr\n",
            "ieexplained\n",
            "New Delhi, India\n",
            "TweetDeck\n",
            "0\n",
            "17442\n",
            "25\n",
            "0\n",
            "<--------------------------------------------------->\n",
            "28\n",
            "2020-11-20 09:33:33\n",
            "1329719521871941632\n",
            "False\n",
            "NCP may also dump Congress and have an alliance with Shiv Sena in future elections in Maharashtra. \n",
            "How long can @INCIndia survive with the support of regional parties? \n",
            "Congress need to re-establish itself, but without Gandhi family in it. https://t.co/R7RkCBydo9\n",
            "rajiv_shastri\n",
            "Mumbai\n",
            "Twitter Web App\n",
            "0\n",
            "474\n",
            "372\n",
            "0\n",
            "<--------------------------------------------------->\n",
            "29\n",
            "2020-11-20 07:09:51\n",
            "1329683358310273025\n",
            "False\n",
            "@aayeff1 @Faiz_INC @INCIndia @BJP4India The RJD won 75 seats and is the single largest party in Bihar. JMM won in Jharkhand.The NCP and Sena have more seats than the Congress in Maharashtra.. The Congress remains a non entity in TN, Bengal and the Telugu states.. that's what should worry Congress partisans\n",
            "nikes225\n",
            "Bangalore,India\n",
            "Twitter for Android\n",
            "1\n",
            "1377\n",
            "1521\n",
            "1\n",
            "<--------------------------------------------------->\n",
            "30\n",
            "2020-11-20 06:26:52\n",
            "1329672540244029440\n",
            "False\n",
            "@pratapse @Deus_Ex_DeMo @bhak_sala @Abhina_Prakash Maharashtra is the same, Maratha-Kunbi is 33-40% of the MH population and they vote as a block for NCP ShivSena.\n",
            "NightKinginho\n",
            "Westeros\n",
            "Twitter for iPhone\n",
            "0\n",
            "56\n",
            "98\n",
            "0\n",
            "<--------------------------------------------------->\n",
            "31\n",
            "2020-11-20 05:42:11\n",
            "1329661295038062592\n",
            "False\n",
            "Maharashtra: Ajit Pawar’s neighbour in Baramati commits suicide, accuses NCP leaders of harassment in note https://t.co/JV4uovPnhC via @OpIndia_com\n",
            "Kunal_Verma_pb\n",
            "Punjab, India\n",
            "Twitter for Android\n",
            "0\n",
            "317\n",
            "1627\n",
            "0\n",
            "<--------------------------------------------------->\n",
            "32\n",
            "2020-11-20 04:54:58\n",
            "1329649413816418304\n",
            "False\n",
            "@rrrrroooohhhiit @KafirBrahman Ruling Party responsible in Maharashtra is Shiv sena + NCP + INC\n",
            "\n",
            "and by \"We do hold Ruling Party responsible in Maharashtra\"\n",
            "i ment (Shiv sena + NCP + INC, not Central govt)\n",
            "\n",
            "My question Stands\n",
            "Why cant you even question Central Gov\n",
            "\n",
            "you defend Gov instead of asking questions\n",
            "johnsonmathias1\n",
            "Mumbai\n",
            "Twitter Web App\n",
            "0\n",
            "699\n",
            "1911\n",
            "0\n",
            "<--------------------------------------------------->\n",
            "33\n",
            "2020-11-20 04:09:31\n",
            "1329637974762344448\n",
            "False\n",
            "Maharashtra Vikas Aghadi announces its candidates for elections to Maharashtra Legislative Council- NCP &amp; Congress to contest two seats each &amp; Shivsena to contest one.\n",
            "\n",
            "Polls for biennial election to the State Legislative Council from 5 constituencies to be held on 1st December. https://t.co/ktiJ3K0fFU\n",
            "Indsamachar\n",
            "India\n",
            "Twitter for Android\n",
            "2\n",
            "17014\n",
            "0\n",
            "0\n",
            "<--------------------------------------------------->\n",
            "34\n",
            "2020-11-20 03:52:01\n",
            "1329633570877390849\n",
            "False\n",
            "Gangapur #BJP #MLA, 15 others #booked for #Cheating to the tune of Rs 15.70 cr\n",
            "\n",
            "#SugarMill #Cheating #sugarcane #farmers #crime #crimewatch #CrimeNews #Aurangabad #Maharashtra #NCP\n",
            "#ShivSena #Congress\n",
            "\n",
            " https://t.co/zCLHnkVkY9\n",
            "MohdAkhefTOI\n",
            "Aurangabad, India\n",
            "Twitter for Android\n",
            "0\n",
            "188\n",
            "513\n",
            "0\n",
            "<--------------------------------------------------->\n",
            "35\n",
            "2020-11-20 03:02:10\n",
            "1329621026808819714\n",
            "False\n",
            "@ANI Where does Cong stand in Mumbai or Maharashtra?From entire Maha it could manage 40 Assembly seats. It came 4th after BJP (105),Shiv Sena (56) and NCP (54).\n",
            "sanchat48\n",
            "\n",
            "Twitter for Android\n",
            "0\n",
            "491\n",
            "151\n",
            "0\n",
            "<--------------------------------------------------->\n",
            "36\n",
            "2020-11-20 02:47:22\n",
            "1329617302547927042\n",
            "False\n",
            "@NitzD1809 @caloyasachin @ANI\n",
            "Maharashtra Vikas Aghadi announces its candidates for elections to Maharashtra Legislative Council- NCP &amp;congress to contest two seats each &amp; Shivsena to contest one.\n",
            "\n",
            "Polls fr biennial eletn to the State Legislative Council from 5 constituencies to be held on 1st December.\n",
            "Jazz78282890\n",
            "\n",
            "Twitter Web App\n",
            "1\n",
            "4\n",
            "25\n",
            "0\n",
            "<--------------------------------------------------->\n",
            "37\n",
            "2020-11-20 02:41:50\n",
            "1329615907367182337\n",
            "False\n",
            "#Maharashtra: #MVA announces its candidates for elections to Maharashtra Legislative Council #NCP &amp; #Congress to contest two seats each &amp; #ShivSena to contest one.\n",
            "\n",
            "Polls for biennial election to the State Legislative Council from 5 constituencies to be held on 1st December. https://t.co/yNLM7FfVPF\n",
            "the_news_21\n",
            "Mumbai, India\n",
            "Twitter for Android\n",
            "0\n",
            "205\n",
            "852\n",
            "0\n",
            "<--------------------------------------------------->\n",
            "38\n",
            "2020-11-20 02:18:38\n",
            "1329610072578613248\n",
            "False\n",
            "This is the right time for @OfficeofUT to proove they are not only against @ArnabGoswamiRTV\n",
            "\n",
            "Ajit Pawar's neighbour commits suicide, names local NCP leaders in note https://t.co/vUcZsyrW16 via OpIndia_com\n",
            "Sathishaks\n",
            "Bengaluru\n",
            "Twitter for Android\n",
            "0\n",
            "387\n",
            "455\n",
            "0\n",
            "<--------------------------------------------------->\n",
            "39\n",
            "2020-11-20 00:42:20\n",
            "1329585836980006913\n",
            "True\n",
            "Maharashtra Vikas Aghadi announces its candidates for elections to Maharashtra Legislative Council- NCP &amp; Congress to contest two seats each &amp; Shivsena to contest one.\n",
            "\n",
            "Polls for biennial election to the State Legislative Council from 5 constituencies to be held on 1st December.\n",
            "ANI\n",
            "India\n",
            "Twitter Web App\n",
            "234\n",
            "4964540\n",
            "0\n",
            "14\n",
            "<--------------------------------------------------->\n",
            "40\n",
            "2020-11-20 00:30:00\n",
            "1329582731341291520\n",
            "True\n",
            "Maharashtra BJP leader Pravin Darekar on Thursday accused the ruling Shiv Sena and NCP of trying to destroy their ally Congress in the state by ignoring its demands.\n",
            "\n",
            "https://t.co/BJdtglcjyJ\n",
            "htTweets\n",
            "India\n",
            "TweetDeck\n",
            "14\n",
            "7818114\n",
            "125\n",
            "0\n",
            "<--------------------------------------------------->\n",
            "41\n",
            "2020-11-19 21:46:58\n",
            "1329541701803724800\n",
            "False\n",
            "Who will arrest people mentioned in SUICIDE note ? \n",
            "\n",
            "Will they ? \n",
            "\n",
            " https://t.co/BNOrQXg28F\n",
            "\n",
            "#RepublicRoar4SSR\n",
            "#FreeGhanshyamImmediately https://t.co/Wy5DZrFxjw\n",
            "Shweta98641206\n",
            "India \n",
            "Twitter Web App\n",
            "0\n",
            "89\n",
            "78\n",
            "0\n",
            "<--------------------------------------------------->\n",
            "42\n",
            "2020-11-19 19:40:53\n",
            "1329509972435030016\n",
            "False\n",
            "#अजीत_पवार के पड़ोसी ने # एनसीपी नेताओ से तंग आ कर, कर ली #आत्महत्या ! /www.opindia.com/2020/11/maharashtra-ajit-pawars-neighbour-baramati-commits-suicide-accuses-ncp-leaders-harassment-note/amp/?__twitter_impression=true\n",
            "PremShuklaBJP\n",
            "India\n",
            "Twitter for Android\n",
            "67\n",
            "20996\n",
            "649\n",
            "7\n",
            "<--------------------------------------------------->\n",
            "43\n",
            "2020-11-19 18:42:50\n",
            "1329495367012892672\n",
            "False\n",
            "Maharashtra: Ajit Pawar’s neighbour in Baramati commits suicide, accuses NCP leaders of harassment in note! Will Coward Meme Police @MumbaiPolice Penguin Army of @OfficeofUT Arrest Ajit? https://t.co/Fk1p4bwMaM\n",
            "MahaveerM_\n",
            "Tamil Nadu, India\n",
            "Twitter for Android\n",
            "2\n",
            "77924\n",
            "1534\n",
            "2\n",
            "<--------------------------------------------------->\n",
            "44\n",
            "2020-11-19 18:07:12\n",
            "1329486396432605184\n",
            "True\n",
            "Ajit Pawar's neighbour commits suicide, names local NCP leaders in suicide note. #Maharashtra\n",
            "\n",
            "https://t.co/RQGdfdiWCD\n",
            "MrsGandhi\n",
            "Maharashtra, India\n",
            "Twitter for Android\n",
            "1010\n",
            "462174\n",
            "1377\n",
            "245\n",
            "<--------------------------------------------------->\n",
            "45\n",
            "2020-11-19 18:00:59\n",
            "1329484832728965120\n",
            "False\n",
            "KCR calling congress less opposition Mahagatabandhan  , what CM of Maharashtra &amp; NCP say now? This is one  MGB, next MGB with out some other party, next MGB with CPM&amp; CPI . So they try permutation&amp; combination till 2034?!\n",
            "Hampinagara\n",
            "Hampi Nagara, Bengaluru\n",
            "Twitter for iPhone\n",
            "2\n",
            "22\n",
            "89\n",
            "0\n",
            "<--------------------------------------------------->\n",
            "46\n",
            "2020-11-19 17:57:21\n",
            "1329483920346267648\n",
            "False\n",
            "Will Maharashtra police will act like  Arnav case? \n",
            "https://t.co/UgdpitGwWg\n",
            "hcburnwal\n",
            "New Delhi\n",
            "Twitter for Android\n",
            "3\n",
            "4104\n",
            "183\n",
            "1\n",
            "<--------------------------------------------------->\n",
            "47\n",
            "2020-11-19 17:56:53\n",
            "1329483800447881218\n",
            "False\n",
            "Chameleon is this joker because he knows very well that it is #NCP in #Maharashtra and the oldest aly of Congress which wants all Naxals arrested in #BhimaKoregaon case be released. https://t.co/mjEZIpv3fM\n",
            "Ranjitism\n",
            "\n",
            "Twitter for Android\n",
            "0\n",
            "159\n",
            "1\n",
            "0\n",
            "<--------------------------------------------------->\n",
            "48\n",
            "2020-11-19 17:44:06\n",
            "1329480585086078977\n",
            "False\n",
            "Will these #NCP leaders be arrested too on basis of this suicide note @CMOMaharashtra @AnilDeshmukhNCP ? #Maharashtra https://t.co/39MHfNf6G4\n",
            "MisterKulkarni\n",
            "Mumbai & Goa\n",
            "Twitter for Android\n",
            "0\n",
            "1038\n",
            "1007\n",
            "0\n",
            "<--------------------------------------------------->\n",
            "49\n",
            "2020-11-19 16:40:22\n",
            "1329464546713505793\n",
            "False\n",
            "@Chouhan_ks @Drsunandambal @swetamishraa @Anju1951Purohit @shytigress @keeranl @Bharatwashi1 @jitin_bhalla @swetaa_mishraa @Am_dilip1 @KEYESEN2000 @NationmyFamily @surewrap @roshovani @INSANATAN @RohitSi09082662 @Satishrathod100 @kailashkaushik8 @macharajarao @BachaoIndiako @prasad_perla @paperrose2k @WishMaster2019 @DhananjayParkhe @Saliltoday @Savitritvs @NaniBellary @sukumaranlens @bgopu1973 @chandanas @cbkwgl @Dakkar_P @TheBongHead @nkjohri @NetaNiyanta @NumbKhopdi @ob_serv_er @OmShantiSanghi @onlyonenetra @sinhapurna13 @panditsripathak @BHARATNARAYAN7 @PeepulTree1 @QuranaVirus @mysql_sync @SortedEagle @The_WittyLawyer @GenPanwar @RBhamaria The accused had lent money to Pritam Shah at the high-interest rate of 30%. Pritam Shah had already repaid the loan, however, the #NCP leaders wanted to extract more money from Shah &amp; were allegedly harassing him for it\n",
            "https://t.co/LpMBwHXNth\n",
            "AjitsinhJagirda\n",
            "\n",
            "Twitter Web App\n",
            "12\n",
            "3832\n",
            "4952\n",
            "9\n",
            "<--------------------------------------------------->\n",
            "50\n",
            "2020-11-19 16:31:29\n",
            "1329462311724191747\n",
            "False\n",
            "Maharashtra: Ajit Pawar's neighbour in Baramati commits suicide, accuses NCP leaders of harassment in note https://t.co/CYqgVidy9J via @OpIndia_com\n",
            "Aatish00959462\n",
            "\n",
            "Twitter for Android\n",
            "0\n",
            "205\n",
            "961\n",
            "0\n",
            "<--------------------------------------------------->\n",
            "51\n",
            "2020-11-19 16:09:19\n",
            "1329456732070965250\n",
            "False\n",
            "Ajit Pawar's neighbour commits suicide, names local NCP leaders in note https://t.co/aJYeU6zj6d via OpIndia_com —🤡Will The Police Arrest the accused named in the note ????\n",
            "harishbudhlani\n",
            "THANE ( Mumbai ) India\n",
            "Twitter for iPhone\n",
            "0\n",
            "184\n",
            "207\n",
            "0\n",
            "<--------------------------------------------------->\n",
            "52\n",
            "2020-11-19 15:56:34\n",
            "1329453521217970188\n",
            "False\n",
            "So !!! Now what will @CMOMaharashtra &amp; @CPMumbaiPolice do ?? \n",
            "@republic @ArnabGoswamiRTV @Republic_Bharat \n",
            "~~~~~~~~~~~~~~~~~~~~~~~~~~~\n",
            "Ajit Pawar's neighbour commits suicide, names local NCP leaders in note https://t.co/Kl98psNiW0 via OpIndia_com\n",
            "iSM2407\n",
            "\n",
            "Twitter for iPhone\n",
            "0\n",
            "506\n",
            "2377\n",
            "0\n",
            "<--------------------------------------------------->\n",
            "53\n",
            "2020-11-19 15:54:18\n",
            "1329452953636380673\n",
            "True\n",
            "BJP leader Pravin Darekar slams @ShivSena and @NCPspeaks.\n",
            "\n",
            "https://t.co/TjGVp2by3a\n",
            "MumbaiMirror\n",
            "Mumbai, India\n",
            "Twitter Web App\n",
            "7\n",
            "395856\n",
            "234\n",
            "0\n",
            "<--------------------------------------------------->\n",
            "54\n",
            "2020-11-19 15:47:27\n",
            "1329451227659333632\n",
            "False\n",
            "Maharashtra: Ajit Pawar’s neighbour in Baramati commits suicide, accuses NCP leaders of harassment in note https://t.co/doRSkH2Fyg via @OpIndia_com\n",
            "iyer56\n",
            "Perambur\n",
            "Twitter Web App\n",
            "0\n",
            "78\n",
            "111\n",
            "0\n",
            "<--------------------------------------------------->\n",
            "55\n",
            "2020-11-19 15:34:48\n",
            "1329448043339542532\n",
            "False\n",
            "The accused had lent money to Pritam Shah at the high-interest rate of 30%. Pritam Shah had already repaid the loan, however, the NCP leaders wanted to extract more money from Shah and were allegedly harassing him for it\n",
            "https://t.co/CVua3EwDwj\n",
            "Srikanth4Bharat\n",
            "Bharat\n",
            "Twitter for Android\n",
            "4\n",
            "1098\n",
            "259\n",
            "1\n",
            "<--------------------------------------------------->\n",
            "56\n",
            "2020-11-19 15:32:00\n",
            "1329447342177726465\n",
            "False\n",
            "Maharashtra: Ajit Pawar’s neighbour in Baramati commits suicide, accuses NCP leaders of harassment in note https://t.co/udRkm0yh5R via @OpIndia_com\n",
            "BairiSugreev\n",
            "भारत\n",
            "Twitter for Android\n",
            "1\n",
            "33402\n",
            "1418\n",
            "0\n",
            "<--------------------------------------------------->\n",
            "57\n",
            "2020-11-19 15:30:00\n",
            "1329446838391382016\n",
            "True\n",
            "The accused had lent money to Pritam Shah at the high-interest rate of 30%. Pritam Shah had already repaid the loan, however, the NCP leaders wanted to extract more money from Shah and were allegedly harassing him for it\n",
            "https://t.co/8qvn1KVHJn\n",
            "OpIndia_com\n",
            "New Delhi\n",
            "TweetDeck\n",
            "973\n",
            "488198\n",
            "127\n",
            "260\n",
            "<--------------------------------------------------->\n",
            "58\n",
            "2020-11-19 15:18:23\n",
            "1329443911979462658\n",
            "True\n",
            "#PravinDarekar made the remark while speaking to the media during his visit to campaign for #SangramDeshmukh, BJP's candidate from #Pune graduates constituency.\n",
            "\n",
            "https://t.co/DdtONiLDKJ\n",
            "ThePuneMirror\n",
            "Pune\n",
            "TweetDeck\n",
            "1\n",
            "27430\n",
            "175\n",
            "1\n",
            "<--------------------------------------------------->\n",
            "59\n",
            "2020-11-19 15:09:32\n",
            "1329441684640378886\n",
            "False\n",
            "#MVA Govt in #Maharashtra made up of #NCP #Congress and #ShivSena is going to fail 👎\n",
            "\n",
            "#MaharashtraGovt https://t.co/Cimnb7tiXU https://t.co/zJiBvnLPi1\n",
            "GreatfolkRocks\n",
            "🇮🇳\n",
            "Twitter for Android\n",
            "0\n",
            "406\n",
            "1448\n",
            "0\n",
            "<--------------------------------------------------->\n",
            "60\n",
            "2020-11-19 14:41:10\n",
            "1329434547059044360\n",
            "False\n",
            "Now Ajit pawar s neighbour commits suicide names NCP leaders in the suicide note. Will the maharashtra police arrest them like arnab goswami @sgurumurthy @Republic_Bharat @republic\n",
            "\n",
            "https://t.co/tCUeBy5Qu7\n",
            "ShibiIyer\n",
            "India\n",
            "Twitter for Android\n",
            "1\n",
            "34\n",
            "152\n",
            "0\n",
            "<--------------------------------------------------->\n",
            "61\n",
            "2020-11-19 14:26:17\n",
            "1329430800253718539\n",
            "False\n",
            "In a shocking incident, a neighbour of Maharashtra Deputy CM  Ajit Pawar has reportedly committed suicide in Baramati and has named NCP leaders in the suicide note as the reason for his death👉@CPMumbaiPolice  @HMOKarnataka whom will u arrest now ?\n",
            "\n",
            " https://t.co/I2NpoagUwF\n",
            "DigantaBJP\n",
            "New Delhi India\n",
            "Twitter for iPhone\n",
            "0\n",
            "1374\n",
            "489\n",
            "0\n",
            "<--------------------------------------------------->\n",
            "62\n",
            "2020-11-19 14:13:21\n",
            "1329427548934078469\n",
            "False\n",
            "@rautsanjay61 What a shame .. where Maharashtra is heading under Shiv Sena ... do it more and more ... couple of more years my friends ... people will teach lesson to Shiv Sena , congress and NCP\n",
            "ravi40606990\n",
            "\n",
            "Twitter for iPhone\n",
            "0\n",
            "0\n",
            "11\n",
            "0\n",
            "<--------------------------------------------------->\n",
            "63\n",
            "2020-11-19 14:01:18\n",
            "1329424514535608320\n",
            "False\n",
            "test3 NCP leader Eknath Khadse tests +ve for Covid https://t.co/tuYnVLPfFQ\n",
            "Testrisha\n",
            "\n",
            "Sprout Social\n",
            "0\n",
            "19\n",
            "74\n",
            "0\n",
            "<--------------------------------------------------->\n",
            "64\n",
            "2020-11-19 13:26:25\n",
            "1329415737954353154\n",
            "False\n",
            "@ANI Congress does not need SS, SS does not need NCP, NCP does not need Congress.... and yet they are together to cause suffering to the people of Maharashtra\n",
            "rohit121171\n",
            "New Delhi, India\n",
            "Twitter for iPhone\n",
            "1\n",
            "316\n",
            "377\n",
            "0\n",
            "<--------------------------------------------------->\n",
            "65\n",
            "2020-11-19 13:23:31\n",
            "1329415006778134529\n",
            "False\n",
            "@prettypadmaja It's the NCP calling the shots in Maharashtra...\n",
            "\n",
            "#Congress is a spent force even in Maharashtra &amp; it's a good omen that they are going for pre poll alliance in Kashmir..\n",
            "\n",
            "Guaranteed to bring the Gupk@r gang down..\n",
            "AnirCareer\n",
            "Pune, India\n",
            "Twitter for Android\n",
            "2\n",
            "89\n",
            "486\n",
            "0\n",
            "<--------------------------------------------------->\n",
            "66\n",
            "2020-11-19 13:16:47\n",
            "1329413312761610240\n",
            "True\n",
            "NCP leader and former Maharashtra minister Eknath Khadse has tested positive for #COVID19. He is set to be admitted to a city-based hospital.\n",
            "https://t.co/6DID8AUWJZ\n",
            "NewIndianXpress\n",
            "Chennai\n",
            "Twitter Web App\n",
            "5\n",
            "457583\n",
            "553\n",
            "0\n",
            "<--------------------------------------------------->\n",
            "67\n",
            "2020-11-19 13:16:37\n",
            "1329413270562750465\n",
            "False\n",
            "@Tanraj58 @CosmoParanormal @Tushar_Patell @indSupremeCourt @republic @BJP4India @HMOIndia You do not have logical grounds to speak up &amp; do not even know,where I am from but still blabbering.\n",
            "We are highly secured in the #BJP ruled state &amp; I have soo many known,scared to live in #Maharashtra now.\n",
            "We are asking for Justice &amp;what is scared #ShivSena #CONgress #NCP doing?\n",
            "Tunni4SSR\n",
            "\n",
            "Twitter for Android\n",
            "0\n",
            "201\n",
            "561\n",
            "0\n",
            "<--------------------------------------------------->\n",
            "68\n",
            "2020-11-19 12:47:52\n",
            "1329406033031172097\n",
            "False\n",
            "Who will arrest people mentioned in SUICIDE note ? \n",
            "\n",
            "Will they ? \n",
            "\n",
            " https://t.co/uXTDHH3D2H…\n",
            "\n",
            "#RepublicRoar4SSR\n",
            "#FreeGhanshyamImmediately \n",
            "\n",
            "https://t.co/OdU5H5aQBJ\n",
            "ShyamaV1\n",
            "\n",
            "Twitter for iPhone\n",
            "0\n",
            "149\n",
            "162\n",
            "1\n",
            "<--------------------------------------------------->\n",
            "69\n",
            "2020-11-19 12:27:44\n",
            "1329400969571020802\n",
            "False\n",
            "Can #MVA have some morals to ask the same in Maharashtra for already appointed corrupt ministers from NCP and Congress ? https://t.co/l0vUqJ2L3M\n",
            "Sanjay300683\n",
            "Stockholm, Sweden\n",
            "Twitter for iPhone\n",
            "0\n",
            "109\n",
            "422\n",
            "0\n",
            "<--------------------------------------------------->\n",
            "70\n",
            "2020-11-19 12:23:20\n",
            "1329399859514810368\n",
            "False\n",
            "Who will arrest people mentioned in SUICIDE note ? \n",
            "\n",
            "Will they ? \n",
            "\n",
            " https://t.co/3X0v2CcY3E\n",
            "\n",
            "#RepublicRoar4SSR\n",
            "#FreeGhanshyamImmediately\n",
            "itsNitikaSingh\n",
            " Everywhere\n",
            "Twitter for Android\n",
            "29\n",
            "4843\n",
            "221\n",
            "11\n",
            "<--------------------------------------------------->\n",
            "71\n",
            "2020-11-19 12:09:18\n",
            "1329396329869574144\n",
            "True\n",
            "#COVID19 \n",
            "\n",
            "Maharashtra: Eknath Khadse who recently jumped from BJP to NCP has tested positive for COVID19. He appealed to all those who has come in his contact to get tested\n",
            "\n",
            "Live updates 👇\n",
            "https://t.co/xnHHt9u7XA\n",
            "timesofindia\n",
            "New Delhi\n",
            "TweetDeck\n",
            "35\n",
            "13235838\n",
            "505\n",
            "1\n",
            "<--------------------------------------------------->\n",
            "72\n",
            "2020-11-19 12:07:21\n",
            "1329395836397076480\n",
            "True\n",
            "Maharashtra: #EknathKhadse, who recently jumped from BJP to NCP, has tested positive for Covid-19.\n",
            "TOIMumbai\n",
            "Mumbai\n",
            "TweetDeck\n",
            "64\n",
            "221641\n",
            "82\n",
            "5\n",
            "<--------------------------------------------------->\n",
            "73\n",
            "2020-11-19 11:59:09\n",
            "1329393774791774220\n",
            "False\n",
            "Will #Meme Police take any action against NCP leader?\n",
            "Maharashtra: Ajit Pawar’s neighbour in Baramati commits suicide, accuses NCP leaders of harassment in note https://t.co/Hjw67S9DsW\n",
            "AeroDixit\n",
            "Non- Secular\n",
            "Twitter for Android\n",
            "0\n",
            "4042\n",
            "3965\n",
            "0\n",
            "<--------------------------------------------------->\n",
            "74\n",
            "2020-11-19 11:43:59\n",
            "1329389956989472768\n",
            "False\n",
            "@republic\n",
            "Ajit Pawar's neighbour commits suicide, names local NCP leaders in note https://t.co/3fHNrHvS0I via OpIndia_com\n",
            "4ashish2012\n",
            "Mumbai, India\n",
            "Twitter for Android\n",
            "0\n",
            "153\n",
            "213\n",
            "0\n",
            "<--------------------------------------------------->\n",
            "75\n",
            "2020-11-19 11:04:00\n",
            "1329379896389300224\n",
            "False\n",
            "Deputy CM of Maharashtra, Ajit Pawar’s neighbour in Baramati commits suicide, accuses NCP leaders of harassment in suicide note\n",
            "\n",
            "Hello Uddhav Thackeray ji,\n",
            "Hope they are arrested &amp; sent to Taloja Jail for abetment to suicide just like #ArnabGoswami 🙏🏻\n",
            "\n",
            "https://t.co/tJaQlzRiWL\n",
            "archu243\n",
            "Mumbai\n",
            "Twitter for iPhone\n",
            "14\n",
            "24667\n",
            "181\n",
            "5\n",
            "<--------------------------------------------------->\n",
            "76\n",
            "2020-11-19 10:32:05\n",
            "1329371862682324994\n",
            "False\n",
            "@UnSubtleDesi In a shocking incident, a neighbour of Maharashtra Deputy Chief Minister @AjitPawarSpeaks Ajit Pawar has reportedly committed suicide in Baramati and has named NCP leaders in the suicide note as the reason for his death, as per a report by Aajtak.\n",
            "AgarJugal\n",
            "वसुधैव कुटुंबकम्\n",
            "Twitter for Android\n",
            "0\n",
            "285\n",
            "339\n",
            "0\n",
            "<--------------------------------------------------->\n",
            "77\n",
            "2020-11-19 10:29:53\n",
            "1329371309218746368\n",
            "False\n",
            "@GaikwadAnkur @Altroz654 @ANI When compared with Bihar, Maharashtra congress unfortunately is very strong.\n",
            "NCP and shivsena can not survive if they go solo, so they need partner.\n",
            "For NCP it will be either congress or Sena.\n",
            "amol_20011987\n",
            "\n",
            "Twitter Web App\n",
            "3\n",
            "59\n",
            "247\n",
            "0\n",
            "<--------------------------------------------------->\n",
            "78\n",
            "2020-11-19 10:13:58\n",
            "1329367304073748481\n",
            "False\n",
            "@sakshijoshii Absolutly correct, SC can answer it for this specific closed case.\n",
            "\n",
            "But did you see a new open case nw?\n",
            "Will you apply them here too ?\n",
            "#JustAsking ?\n",
            "\n",
            "https://t.co/6qMqXzs1ma\n",
            "iroopesh\n",
            "Bombay Dyeing Compound Worli\n",
            "TweetDeck\n",
            "1\n",
            "693\n",
            "912\n",
            "1\n",
            "<--------------------------------------------------->\n",
            "79\n",
            "2020-11-19 10:12:38\n",
            "1329366970882420737\n",
            "False\n",
            "Shiv Sena, NCP trying to destroy Congress in Maharashtra, says BJP’s Pravin Darekar\n",
            "\n",
            "https://t.co/x90KCHs0ZP https://t.co/13b8u4JweD\n",
            "htpune\n",
            "Pune\n",
            "TweetDeck\n",
            "18\n",
            "663\n",
            "0\n",
            "1\n",
            "<--------------------------------------------------->\n",
            "80\n",
            "2020-11-19 10:08:58\n",
            "1329366046986305539\n",
            "True\n",
            "Shiv Sena, NCP trying to destroy Congress in Maharashtra, says BJP’s Pravin Darekar\n",
            "https://t.co/g4WcAENw3k\n",
            "HindustanTimes\n",
            "New Delhi, India\n",
            "ht-twitter-handler\n",
            "0\n",
            "27860\n",
            "12\n",
            "0\n",
            "<--------------------------------------------------->\n",
            "81\n",
            "2020-11-19 10:04:17\n",
            "1329364867124322305\n",
            "False\n",
            ".@CTRavi_BJP @BJP4India general secretary slams @AjitPawarSpeaks over #Karnataka #Maharashtra border issue. \n",
            "*We are lucky that Maharashtra and Belgaum all are in india. If it was in Pakistan neither there will be shiva nor sena nor NCP*\n",
            "@MickyGupta8 @Kajal_Iyer @thakur_shivangi https://t.co/p8C2WQhi6T\n",
            "keypadguerilla\n",
            "Bengaluru, South India\n",
            "Twitter for Android\n",
            "1\n",
            "4046\n",
            "465\n",
            "0\n",
            "<--------------------------------------------------->\n",
            "82\n",
            "2020-11-19 10:01:58\n",
            "1329364286557196288\n",
            "False\n",
            "Ok NCP + BJP in Maharashtra ?? If yes this will the worst alliance done by BJP in present history bypassing the fiasco with PDP in J&amp;K.\n",
            "Nixachar\n",
            "Assam, India\n",
            "Twitter for Android\n",
            "0\n",
            "1588\n",
            "1458\n",
            "0\n",
            "<--------------------------------------------------->\n",
            "83\n",
            "2020-11-19 09:25:49\n",
            "1329355188969193472\n",
            "False\n",
            "Shocking! 30% interest rate!!\n",
            "Maharashtra: Ajit Pawar&amp;#8217;s neighbour in Baramati commits suicide, accuses NCP leaders of harassment in note https://t.co/YOIxVS4NEh via @OpIndia_com\n",
            "sanjaybpatil\n",
            "\n",
            "Twitter for Android\n",
            "0\n",
            "3892\n",
            "3828\n",
            "0\n",
            "<--------------------------------------------------->\n",
            "84\n",
            "2020-11-19 09:22:18\n",
            "1329354300913446912\n",
            "False\n",
            "@MeghUpdates @proud__Bhartiya But where is Congress in Mumbai and for that matter in entire Maharashtra . Congress is finished here and credit must go to NCP\n",
            "benguism\n",
            "Mumbai\n",
            "Twitter for Android\n",
            "2\n",
            "2521\n",
            "2290\n",
            "0\n",
            "<--------------------------------------------------->\n",
            "85\n",
            "2020-11-19 09:17:38\n",
            "1329353126801862656\n",
            "False\n",
            "@TheJordanKumar @HaryanSiddhesh @sohitmishra99 @AUThackeray You have your spineless Shivsena government in Maharashtra with corrupt NCP and makkar Congress. Try changing the name of Highcourt. Why take it out on poor shop owners?\n",
            "FrugalHorn\n",
            "India\n",
            "Twitter Web App\n",
            "0\n",
            "5\n",
            "281\n",
            "0\n",
            "<--------------------------------------------------->\n",
            "86\n",
            "2020-11-19 09:17:26\n",
            "1329353077531447296\n",
            "False\n",
            "@ANI But where is Congress in Mumbai and for that matter in entire Maharashtra . Congress is finished here and credit must go to NCP 😂\n",
            "benguism\n",
            "Mumbai\n",
            "Twitter for Android\n",
            "12\n",
            "2521\n",
            "2290\n",
            "1\n",
            "<--------------------------------------------------->\n",
            "87\n",
            "2020-11-19 09:13:26\n",
            "1329352069283676165\n",
            "False\n",
            "Shivsena &amp; NCP are trying to finish congress from #Maharashtra.Ministry held by Shivsena's Anil Parab was given package while INC's Nitin Raut is struggling for package to offer waiver on electricity bill.They r trying ways to make sure people reject INC in state: Pravin Darekar\n",
            "alishaikh3310\n",
            "Pune, India\n",
            "Twitter for Android\n",
            "3\n",
            "1209\n",
            "1245\n",
            "1\n",
            "<--------------------------------------------------->\n",
            "88\n",
            "2020-11-19 09:07:38\n",
            "1329350610982817795\n",
            "False\n",
            "Maharashtra: Ajit Pawar’s neighbour in Baramati commits suicide, accuses NCP leaders of harassment in note \n",
            "@DGPMaharashtra\n",
            "@CPMumbaiPolice\n",
            "@mybmc\n",
            "@MumbaiPolice\n",
            "\n",
            "https://t.co/gfoh807YFz\n",
            "rajeevicaktr\n",
            "Delhi\n",
            "Twitter for Android\n",
            "1\n",
            "3282\n",
            "4901\n",
            "0\n",
            "<--------------------------------------------------->\n",
            "89\n",
            "2020-11-19 08:59:08\n",
            "1329348472412262400\n",
            "False\n",
            "Maharashtra: Ajit Pawar’s neighbour in Baramati commits suicide, accuses NCP leaders of harassment in note https://t.co/nwRTPyzOIV via @OpIndia_com\n",
            "kakirajinja\n",
            "\n",
            "Twitter Web App\n",
            "1\n",
            "672\n",
            "2290\n",
            "1\n",
            "<--------------------------------------------------->\n",
            "90\n",
            "2020-11-19 08:42:35\n",
            "1329344308856586240\n",
            "False\n",
            "@CMOMaharashtra we are waiting for you to send encounter specialist with 25 policemen equipped with guns &amp; AK47 to arrest @AjitPawarSpeaks at 6 AM \n",
            "@Republic_Bharat \n",
            "\n",
            "Ajit Pawar's neighbour commits suicide, names local NCP leaders in note https://t.co/ymjB0WY2WF via OpIndia_com\n",
            "murkumbi2000\n",
            "Pune\n",
            "Twitter for iPhone\n",
            "0\n",
            "112\n",
            "424\n",
            "0\n",
            "<--------------------------------------------------->\n",
            "91\n",
            "2020-11-19 08:23:55\n",
            "1329339610552360962\n",
            "False\n",
            "30% interest demanded by NCP leaders  Deshmukh, Kale, Kate, Dhanke, Galinde, Gawli, Sunny alias Sunil Avale, Sanghar Gawale, Mangesh Amas have been named as accused\n",
            "Suicide note names them for harassment. \n",
            "\n",
            "When is the arrest @MumbaiPolice?\n",
            " https://t.co/EVDxB58ggA\n",
            "HebbarNaini\n",
            "HinduRashtra\n",
            "Twitter for Android\n",
            "3\n",
            "718\n",
            "965\n",
            "0\n",
            "<--------------------------------------------------->\n",
            "92\n",
            "2020-11-19 08:20:43\n",
            "1329338802754621440\n",
            "False\n",
            "@MumbaiPolice \n",
            "This is clearly abetmemt of suicide. Can you arrest the CPM leader ? Or law and order only exists to arrest Arnab and supress #FreedomOfSpeech.\n",
            "\n",
            "https://t.co/ZPngDdxIIX\n",
            "SRPTheWeirdGuy\n",
            "\n",
            "Twitter for Android\n",
            "0\n",
            "40\n",
            "121\n",
            "0\n",
            "<--------------------------------------------------->\n",
            "93\n",
            "2020-11-19 08:19:10\n",
            "1329338412130738176\n",
            "False\n",
            "Lunch box breaking news \n",
            "Maharashtra: Ajit Pawar’s neighbour in Baramati commits suicide, accuses NCP leaders of harassment in note https://t.co/OjGLlKEMYL\n",
            "BJP_News_no1\n",
            "India Mumbai \n",
            "Twitter for Android\n",
            "10\n",
            "3884\n",
            "4997\n",
            "3\n",
            "<--------------------------------------------------->\n",
            "94\n",
            "2020-11-19 08:04:08\n",
            "1329334628868517890\n",
            "False\n",
            "@republic After seeing the situation in  Maharashtra over the last few months, wonder why he still wants to have alliance with NCP. Extremely disappointed. \n",
            "🤦\n",
            "Thetrut00543380\n",
            "\n",
            "Twitter for Android\n",
            "1\n",
            "10\n",
            "144\n",
            "0\n",
            "<--------------------------------------------------->\n",
            "95\n",
            "2020-11-19 08:03:34\n",
            "1329334489760235520\n",
            "False\n",
            "Disgusting. Shameful. Dirtiest politics.\n",
            "\n",
            "Maharashtra: Ajit Pawar’s neighbour in Baramati commits suicide, accuses NCP leaders of harassment in note https://t.co/ReJdJhxCVN\n",
            "ianjusharmma\n",
            "\n",
            "Twitter Web App\n",
            "5\n",
            "1038\n",
            "1413\n",
            "3\n",
            "<--------------------------------------------------->\n",
            "96\n",
            "2020-11-19 07:58:45\n",
            "1329333277987991553\n",
            "False\n",
            "Maharashtra: Ajit Pawar&amp;#8217;s neighbour in Baramati commits suicide, accuses NCP leaders of harassment in note https://t.co/qx26QLQNYh via @OpIndia_com\n",
            "BrainvitaMind\n",
            "Timbucktoo\n",
            "Twitter for Android\n",
            "3\n",
            "834\n",
            "682\n",
            "1\n",
            "<--------------------------------------------------->\n",
            "97\n",
            "2020-11-19 07:51:55\n",
            "1329331555139944448\n",
            "False\n",
            "@rohini_sgh There r many who deserve tk be arrested, but r not.\n",
            "\n",
            "Note: Arnab Goswami was arrested for this very thing, even though the case was closed by court on recommendation of police.\n",
            "\n",
            "We know u won't report this, and that's good for u..whatever be the reason..\n",
            "\n",
            "https://t.co/dZBfrLwU4w\n",
            "Made_in_IND\n",
            "\n",
            "Twitter for Android\n",
            "0\n",
            "220\n",
            "1002\n",
            "0\n",
            "<--------------------------------------------------->\n",
            "98\n",
            "2020-11-19 07:48:57\n",
            "1329330808964857856\n",
            "False\n",
            "#BREAKING News.\n",
            "#BreakingNews #Maharashtra: #AjitPawar’s neighbour in Baramati commits suicide, accuses #NCP leaders of harassment in note\n",
            "#RepublicRoar4SSR  https://t.co/43YjFJaJXf\n",
            "WakeUpHindu\n",
            "India\n",
            "Twitter for Android\n",
            "1\n",
            "2780\n",
            "2375\n",
            "1\n",
            "<--------------------------------------------------->\n",
            "99\n",
            "2020-11-19 07:47:09\n",
            "1329330357020237825\n",
            "False\n",
            "Maharashtra: Ajit Pawar’s neighbour in Baramati commits suicide, accuses NCP leaders of harassment in note https://t.co/1zabF5RUWV\n",
            "TransformUP\n",
            "\n",
            "Twitter for Android\n",
            "0\n",
            "1816\n",
            "415\n",
            "0\n",
            "<--------------------------------------------------->\n",
            "100\n",
            "2020-11-19 07:44:37\n",
            "1329329717489541120\n",
            "True\n",
            "NCP leader and deputy CM of Maharashtra Ajit Pawar paying tributes to late Indira Gandi on her birth anniversary. https://t.co/9cDHi6VkOv\n",
            "Ms_Aflatoon\n",
            "Mumbai-Lucknow \n",
            "Twitter for iPhone\n",
            "7\n",
            "16940\n",
            "888\n",
            "0\n",
            "<--------------------------------------------------->\n",
            "101\n",
            "2020-11-19 07:40:56\n",
            "1329328794344120320\n",
            "False\n",
            "Maharashtra: Ajit Pawar&amp;#8217;s neighbour in Baramati commits suicide, accuses NCP leaders of harassment in note https://t.co/a6PNQBpcGs via @OpIndia_com\n",
            "deepakdkokha\n",
            "\n",
            "Twitter for Android\n",
            "0\n",
            "517\n",
            "1216\n",
            "0\n",
            "<--------------------------------------------------->\n",
            "102\n",
            "2020-11-19 07:28:28\n",
            "1329325654941188096\n",
            "False\n",
            "Will Maharashtra Police arrest NCP leaders named in suicide Note? https://t.co/uCGoSWARe7\n",
            "kktotlani\n",
            "Jaipur\n",
            "Twitter for Android\n",
            "99\n",
            "15266\n",
            "12401\n",
            "36\n",
            "<--------------------------------------------------->\n",
            "103\n",
            "2020-11-19 07:02:53\n",
            "1329319216630034434\n",
            "False\n",
            "Will Maharashtra police do the same with NCP leader ? Now the game is on ... https://t.co/vg7zGzaz83\n",
            "twitt2sanj\n",
            "India\n",
            "Twitter for iPhone\n",
            "0\n",
            "37\n",
            "184\n",
            "0\n",
            "<--------------------------------------------------->\n",
            "104\n",
            "2020-11-19 07:02:23\n",
            "1329319092864520193\n",
            "False\n",
            "Maharashtra: Ajit Pawar’s neighbour in Baramati commits suicide, accuses NCP leaders of harassment in note https://t.co/DNpGT78FGF via @OpIndia_com\n",
            "lsdashora\n",
            "India\n",
            "Twitter Web App\n",
            "1\n",
            "33490\n",
            "31742\n",
            "0\n",
            "<--------------------------------------------------->\n",
            "105\n",
            "2020-11-19 06:52:09\n",
            "1329316515318001665\n",
            "False\n",
            "@CPMumbaiPolice @MumbaiPolice @DGPMaharashtra \n",
            "Will you please take action against accessed?\n",
            "https://t.co/hUVVc0awzY\n",
            "aalokjai\n",
            "Dubai\n",
            "Twitter for Android\n",
            "0\n",
            "23\n",
            "24\n",
            "0\n",
            "<--------------------------------------------------->\n",
            "106\n",
            "2020-11-19 06:44:19\n",
            "1329314543193923584\n",
            "False\n",
            "Maharashtra: Ajit Pawar’s neighbour in Baramati commits suicide, accuses NCP leaders of harassment in note . Will a FIR be filled against NCP leader? Will he also be Arrested too in this case ? https://t.co/WXuHVSFPwX via @OpIndia_com\n",
            "rajamaka\n",
            "Mumbai, Maharashtra ; India\n",
            "Twitter Web App\n",
            "68\n",
            "12322\n",
            "436\n",
            "43\n",
            "<--------------------------------------------------->\n",
            "107\n",
            "2020-11-19 06:40:36\n",
            "1329313607486607361\n",
            "False\n",
            "Will @DGPMaharashtra be arresting the NCP leaders through an early morning raid at their premises tomorrow???\n",
            "@CMOMaharashtra - what say?\n",
            "\n",
            "https://t.co/1BH0Qndrja\n",
            "filmy_foodie\n",
            "Mumbai, Maharashtra\n",
            "Twitter Web App\n",
            "0\n",
            "3354\n",
            "3715\n",
            "0\n",
            "<--------------------------------------------------->\n",
            "108\n",
            "2020-11-19 06:22:28\n",
            "1329309044763312130\n",
            "False\n",
            "Maharashtra: Ajit Pawar’s neighbour in Baramati commits suicide, accuses NCP leaders of harassment in note https://t.co/ZYVbp1yVeJ via @OpIndia_com\n",
            "Umanakka\n",
            "Vizag, India\n",
            "Twitter Web App\n",
            "0\n",
            "142\n",
            "156\n",
            "0\n",
            "<--------------------------------------------------->\n",
            "109\n",
            "2020-11-19 06:22:25\n",
            "1329309031463153666\n",
            "False\n",
            "https://t.co/DX17mecrqf\n",
            "\n",
            "Abetment to suicide case ? \n",
            "@CMOMaharashtra @AnilDeshmukhNCP \n",
            "\n",
            "@BJP4Maharashtra @mnsadhikrut @republic @PMOIndia @HMOIndia\n",
            "MyHriday\n",
            "India\n",
            "Twitter for Android\n",
            "0\n",
            "106\n",
            "566\n",
            "0\n",
            "<--------------------------------------------------->\n",
            "110\n",
            "2020-11-19 06:22:01\n",
            "1329308931978653696\n",
            "False\n",
            "@UnSubtleDesi Will the NCP Leaders named in the suicide note be arrested by Maharashtra Police for abetting to Suicide ?\n",
            "rrsrinivas24\n",
            "Hyderabad, India\n",
            "Twitter Web App\n",
            "14\n",
            "82\n",
            "496\n",
            "0\n",
            "<--------------------------------------------------->\n",
            "111\n",
            "2020-11-19 06:15:26\n",
            "1329307274637021184\n",
            "True\n",
            "Maharashtra: Ajit Pawar’s neighbour in Baramati commits suicide, accuses NCP leaders of harassment in note https://t.co/cNojf8w341\n",
            "UnSubtleDesi\n",
            "India\n",
            "Twitter for iPhone\n",
            "8473\n",
            "357659\n",
            "1462\n",
            "2658\n",
            "<--------------------------------------------------->\n",
            "112\n",
            "2020-11-19 06:05:32\n",
            "1329304782905823232\n",
            "False\n",
            "After CM Name Appearing in Suicide note of ST Bus Driver, dy CM Name Appears in Yet Another Suicide Note..\n",
            "\n",
            "Will Police Make Arrest in these cases too ?\n",
            "\n",
            "https://t.co/oVS2nwdlU9\n",
            "\n",
            "@CAPratikKarpe @jitengajaria @pallavict @Nachikaait24\n",
            "Krunal_Goda\n",
            "India\n",
            "Twitter for Android\n",
            "9\n",
            "3117\n",
            "4765\n",
            "5\n",
            "<--------------------------------------------------->\n",
            "113\n",
            "2020-11-19 06:02:34\n",
            "1329304038161215488\n",
            "False\n",
            "Now who will be arrested @AnilDeshmukhNCP @OfficeofUT @AUThackeray https://t.co/IEqbW5arJu\n",
            "Dharamvir2\n",
            "\n",
            "Twitter for iPhone\n",
            "0\n",
            "85\n",
            "306\n",
            "0\n",
            "<--------------------------------------------------->\n",
            "114\n",
            "2020-11-19 05:59:22\n",
            "1329303232170971136\n",
            "False\n",
            "Now Ajit Pawar’s neighbour in Baramati, Pritam Shah commits suicide, accuses NCP leaders of harassment in suicide note\n",
            "\n",
            "Will Pritam Shah get justice?\n",
            "\n",
            "Or will someone pour water, or some other bodily fluids, over fight for his justice ?\n",
            "\n",
            "https://t.co/qi8NgyPvdN\n",
            "pallavict\n",
            "Mumbai, India\n",
            "Twitter for iPhone\n",
            "174\n",
            "8153\n",
            "1374\n",
            "104\n",
            "<--------------------------------------------------->\n",
            "115\n",
            "2020-11-19 05:38:10\n",
            "1329297898589208577\n",
            "False\n",
            "Local corporator too named in the FIR: \n",
            "https://t.co/LS0xk7PQuO\n",
            "PulseNaviMumbai\n",
            "Navi Mumbai Maharashtra Bharat\n",
            "Twitter Web App\n",
            "1\n",
            "271\n",
            "360\n",
            "1\n",
            "<--------------------------------------------------->\n",
            "116\n",
            "2020-11-19 05:37:37\n",
            "1329297759174762496\n",
            "False\n",
            "#Maharashtra: #AjitPawar’s neighbour in Baramati commits suicide, accuses #NCP leaders of harassment in note:\n",
            "\n",
            "https://t.co/vg6SjddZEs via @OpIndia_com\n",
            "ob_serv_er\n",
            "Bharatvarsh\n",
            "Twitter Web App\n",
            "7\n",
            "3413\n",
            "2934\n",
            "4\n",
            "<--------------------------------------------------->\n",
            "117\n",
            "2020-11-19 05:26:35\n",
            "1329294983090761729\n",
            "False\n",
            "Maharashtra: Ajit Pawar's neighbour in Baramati commits suicide, accuses NCP leaders of harassment in note https://t.co/2QQvkx6xbj via @OpIndia_com\n",
            "chandana7\n",
            "\n",
            "Twitter Web App\n",
            "0\n",
            "74\n",
            "399\n",
            "0\n",
            "<--------------------------------------------------->\n",
            "118\n",
            "2020-11-19 05:26:17\n",
            "1329294905882017792\n",
            "False\n",
            "Maharashtra: Ajit Pawar's neighbour in Baramati commits suicide, accuses NCP leaders of harassment in note https://t.co/N84LKuM0yt *Will the Maharashtra government now dare to arrest Ajit Pawar* 😡😡😡\n",
            "@Subodh39704802 @AshuAashra @annapurnaupadhy @Vedic_kanya @NahataSanjeev\n",
            "MonkMilitant\n",
            "\n",
            "Twitter for Android\n",
            "4\n",
            "387\n",
            "285\n",
            "6\n",
            "<--------------------------------------------------->\n",
            "119\n",
            "2020-11-19 05:24:37\n",
            "1329294488611680257\n",
            "False\n",
            "Maharashtra: Ajit Pawar’s neighbour in Baramati commits suicide, accuses NCP leaders of harassment in note..\n",
            "Cc @AnilDeshmukhNCP \n",
            "https://t.co/4zuObYnKkd\n",
            "prabhatkumar76\n",
            "Bengaluru,Bharat \n",
            "Twitter for Android\n",
            "727\n",
            "1874\n",
            "1603\n",
            "285\n",
            "<--------------------------------------------------->\n",
            "120\n",
            "2020-11-19 05:15:51\n",
            "1329292281120133120\n",
            "False\n",
            "Will #ArnabGoswami be arrested again????\n",
            "https://t.co/GMqaa8ddTz\n",
            "gpcaptmahesh\n",
            "\n",
            "Twitter Web App\n",
            "0\n",
            "41\n",
            "31\n",
            "0\n",
            "<--------------------------------------------------->\n",
            "121\n",
            "2020-11-19 05:14:42\n",
            "1329291991406919680\n",
            "False\n",
            "Maharashtra: Ajit Pawar’s neighbour in Baramati commits suicide, accuses NCP leaders of harassment in note .\n",
            "WILL Anil Deshmukh arrest NCP Leaders ?\n",
            "#ArnabGoswamy \n",
            "https://t.co/dnjzY5kaDV\n",
            "Satyanewshi\n",
            "Hobart , 🇦🇺\n",
            "Twitter Web App\n",
            "116\n",
            "14204\n",
            "260\n",
            "67\n",
            "<--------------------------------------------------->\n",
            "122\n",
            "2020-11-19 05:13:05\n",
            "1329291586727936000\n",
            "False\n",
            "Maharashtra: Ajit Pawar’s neighbour in Baramati commits suicide, accuses NCP leaders of harassment in note https://t.co/tGhmGd9o11 via @OpIndia_com\n",
            "ArraPraveen\n",
            "Hyderabad, India\n",
            "Twitter Web App\n",
            "0\n",
            "1013\n",
            "1471\n",
            "0\n",
            "<--------------------------------------------------->\n",
            "123\n",
            "2020-11-19 05:11:39\n",
            "1329291224402989056\n",
            "False\n",
            "Shocking it is!!!\n",
            "\n",
            "Ajit Pawar's neighbour commits suicide, names local NCP leaders in note https://t.co/OQQ2iIebNA\n",
            "Mumbai_Citi\n",
            "City of Dreams \n",
            "Twitter for Android\n",
            "0\n",
            "110\n",
            "253\n",
            "0\n",
            "<--------------------------------------------------->\n",
            "124\n",
            "2020-11-19 05:07:30\n",
            "1329290179417235456\n",
            "False\n",
            "Ajit Pawar's neighbour commits suicide, names local NCP leaders in note https://t.co/isECfE8zNF via OpIndia_com\n",
            "anilmanju20\n",
            "\n",
            "Twitter for Android\n",
            "0\n",
            "733\n",
            "547\n",
            "0\n",
            "<--------------------------------------------------->\n",
            "125\n",
            "2020-11-19 05:06:41\n",
            "1329289973808263169\n",
            "False\n",
            "Maharashtra: Ajit Pawar’s neighbour in Baramati commits suicide, accuses NCP leaders of harassment in note https://t.co/MH0IsfLl2H via @OpIndia_com\n",
            "RealSandeep21\n",
            "BHARAT\n",
            "Twitter Web App\n",
            "0\n",
            "7404\n",
            "3399\n",
            "0\n",
            "<--------------------------------------------------->\n",
            "126\n",
            "2020-11-19 05:06:31\n",
            "1329289932616175623\n",
            "False\n",
            "Maharashtra: Ajit Pawar’s neighbour in Baramati commits suicide, accuses NCP leaders of harassment in note https://t.co/UG31mCrogy via @OpIndia_com\n",
            "Humayun21897664\n",
            "Malegaon, India\n",
            "Twitter Web App\n",
            "0\n",
            "96\n",
            "410\n",
            "0\n",
            "<--------------------------------------------------->\n",
            "127\n",
            "2020-11-19 05:05:19\n",
            "1329289630781358081\n",
            "False\n",
            "Maharashtra: Ajit Pawar’s neighbour in Baramati commits suicide, accuses NCP leaders of harassment in note https://t.co/iXWxYJxsWA via @OpIndia_com\n",
            "pradeep_tiwary\n",
            "मेदिनीनगर, पलामू, झारखण्ड \n",
            "Twitter Web App\n",
            "0\n",
            "4922\n",
            "4800\n",
            "0\n",
            "<--------------------------------------------------->\n",
            "128\n",
            "2020-11-19 04:37:03\n",
            "1329282514708353024\n",
            "False\n",
            "Maharashtra: Ajit Pawar's neighbour in Baramati commits suicide, accuses NCP leaders of harassment in note https://t.co/doRSkHkgpO via @OpIndia_com\n",
            "iyer56\n",
            "Perambur\n",
            "Twitter Web App\n",
            "0\n",
            "78\n",
            "111\n",
            "0\n",
            "<--------------------------------------------------->\n",
            "129\n",
            "2020-11-19 04:28:55\n",
            "1329280468458508289\n",
            "False\n",
            "Maharashtra politics.\n",
            "NCP &amp; Shiv Sena - Start dirty divisive politics.\n",
            "Latest tricks:\n",
            "1. NCP starts Maratha Agitation'with Karnataka.\n",
            "2. Shiv Sena starts tearing down sign boards of Shops with Pakistani names.\n",
            "High time People kicked  these 'Hafta' Parties really hard.\n",
            "ajitbhinder\n",
            "Gurgaon , HP & Haryana, India\n",
            "Twitter for iPhone\n",
            "26\n",
            "16961\n",
            "1039\n",
            "8\n",
            "<--------------------------------------------------->\n",
            "130\n",
            "2020-11-19 04:25:41\n",
            "1329279654105116673\n",
            "False\n",
            "Maharashtra: Ajit Pawar’s neighbour in Baramati commits suicide, accuses NCP leaders of harassment in note https://t.co/QwBNDe9GN7 via @OpIndia_com\n",
            "ramchandani2000\n",
            "\n",
            "Twitter Web App\n",
            "0\n",
            "463\n",
            "2192\n",
            "0\n",
            "<--------------------------------------------------->\n",
            "131\n",
            "2020-11-19 04:18:41\n",
            "1329277894829305856\n",
            "True\n",
            "Maharashtra: Ajit Pawar’s neighbour in Baramati commits suicide, accuses NCP leaders of harassment in note\n",
            "https://t.co/8qvn1KVHJn\n",
            "OpIndia_com\n",
            "New Delhi\n",
            "TweetDeck\n",
            "2800\n",
            "488198\n",
            "127\n",
            "962\n",
            "<--------------------------------------------------->\n",
            "132\n",
            "2020-11-19 03:05:02\n",
            "1329259358643838976\n",
            "False\n",
            "NCP politician's neighbour suicide-Maharashtra's prominent politicians on Dawood's speed dial\n",
            "\n",
            "https://t.co/tlH7zPfD2w\n",
            "India Today has found  prominent politicians from Maharashtra are among the people who frequently received calls from fugitive gangster Dawood Ibrahim's Karachi\n",
            "VamaAnil\n",
            "MUMBAI\n",
            "Twitter Web App\n",
            "0\n",
            "134\n",
            "1119\n",
            "0\n",
            "<--------------------------------------------------->\n",
            "133\n",
            "2020-11-18 18:38:42\n",
            "1329131935436742660\n",
            "False\n",
            "@WagholiHSA @ECISVEEP @CEO_Maharashtra @pune_deo @collectorpune1 @Divvcommpune I may be wrong but why is Dhamale listed twice as independent and NCP candidate?\n",
            "rohanthakray\n",
            "Pune, Maharashtra\n",
            "Twitter for iPhone\n",
            "0\n",
            "92\n",
            "51\n",
            "0\n",
            "<--------------------------------------------------->\n",
            "134\n",
            "2020-11-18 18:23:31\n",
            "1329128115105218560\n",
            "False\n",
            "Watch \"Congress Big Decision On MVA Alliance &amp; Maharashtra CM Uddhav Thackeray Govt In Trouble?NCP ShivSena\" on YouTube https://t.co/jgDu1lJe0G\n",
            "Mahesh_garg\n",
            "indore.M.P.\n",
            "Twitter Web App\n",
            "2\n",
            "392\n",
            "460\n",
            "0\n",
            "<--------------------------------------------------->\n",
            "135\n",
            "2020-11-18 14:42:16\n",
            "1329072436516585476\n",
            "False\n",
            "CONGRESS   SHIVSENA  ALLIANCE \n",
            "AT  MAHARASHTRA  ,THE  MAIN \n",
            "REASON  OF  CONGRESS  DEFEAT \n",
            "AT  BIHAR, POLICY MISTAKE  AND \n",
            "NOT  RAHULJI  RESPONSIBLE  , \n",
            "CONGRESS  PAID FOR IT, NCP,SENA\n",
            "AT PIPE  ,IS SANJAY RAUT MAY GO \n",
            "WITH  MAMTADIDI  ,OWESSI  AND \n",
            "MAHEBOOA  TO  OPPOSE MODIJI  ?\n",
            "NandkumarBalwa1\n",
            "\n",
            "Twitter for Android\n",
            "1\n",
            "0\n",
            "14\n",
            "0\n",
            "<--------------------------------------------------->\n",
            "136\n",
            "2020-11-18 13:10:19\n",
            "1329049297615081473\n",
            "False\n",
            "@PawarSpeaks cannot grow beyond Maharashtra. It's time he does a rethink  cause after he is gone his party will split to diminish. It's best he mergers the NCP with the INC to keep his family alive else imagine what Ajit Pawar would do to Supriya Sule😃😃\n",
            "JaphetMarcus\n",
            "India\n",
            "Twitter for Android\n",
            "0\n",
            "150\n",
            "213\n",
            "0\n",
            "<--------------------------------------------------->\n",
            "137\n",
            "2020-11-18 12:56:13\n",
            "1329045748923600896\n",
            "False\n",
            "@bjpsmtn1 @ANI https://t.co/akHCHP9EaK\n",
            "\n",
            "\"No temporary enemies, no permanent friends in politics\". \n",
            "\n",
            "Even Shiv Sena has a friend-enemy relationship with NCP, BJP as well.\n",
            "Syaahkaar\n",
            "\n",
            "Twitter Web App\n",
            "2\n",
            "1003\n",
            "3974\n",
            "0\n",
            "<--------------------------------------------------->\n",
            "138\n",
            "2020-11-18 12:01:10\n",
            "1329031893614952448\n",
            "False\n",
            "This trend started by Congress and NCP by appointing CM of lowest mandate in Maharashtra #ShivSena #Samna https://t.co/GrqGpHXjLC\n",
            "56ravinder\n",
            "FARIDABADa\n",
            "Twitter for Android\n",
            "0\n",
            "199\n",
            "1551\n",
            "0\n",
            "<--------------------------------------------------->\n",
            "139\n",
            "2020-11-18 11:55:29\n",
            "1329030464867344385\n",
            "False\n",
            "@firstpost Hahaha.. like he hasn’t taken favours from NCP and Congress in Maharashtra.\n",
            "sauranbh\n",
            "Mumbai, India\n",
            "Twitter for iPhone\n",
            "0\n",
            "295\n",
            "583\n",
            "0\n",
            "<--------------------------------------------------->\n",
            "140\n",
            "2020-11-18 09:14:00\n",
            "1328989825416871937\n",
            "False\n",
            "First ask the people of Belgaum. Are they interested to get merged into Maharashtra? If Shiv Sena or NCP or Congress will contest election from Belgaum on this agenda, they will never win. SAVE THIS TWEET. https://t.co/cOHH6drqJr\n",
            "ChickenBiryanii\n",
            "Bengaluru, India\n",
            "Twitter for Android\n",
            "1\n",
            "13709\n",
            "307\n",
            "0\n",
            "<--------------------------------------------------->\n",
            "141\n",
            "2020-11-18 09:05:31\n",
            "1328987690608386048\n",
            "False\n",
            "@RahulGandhi @PawarSpeaks @UdhavThackeray @ANI \n",
            "Dear Sharad Pawar ji,\n",
            "I think u have had a full proof programme to perish/throw away #INC and #Shiv sena from Maharashtra's political scnerio????\n",
            "Direct political fight between #BJP &amp; #NCP during next elections?\n",
            "UmeshPrabhaka18\n",
            "\n",
            "Twitter for Android\n",
            "0\n",
            "2\n",
            "13\n",
            "0\n",
            "<--------------------------------------------------->\n",
            "142\n",
            "2020-11-18 04:56:26\n",
            "1328925006517047298\n",
            "False\n",
            "https://t.co/pXAKABv6Se\n",
            "@SaraSushant2020 @_PreetiPandey @mamta_kale @majorgauravarya @gauravbh @anujakapurindia @nilotpalm3 @pradip103 @republic\n",
            "@ishkarnBHANDARI \n",
            "Now I know why this ex bjp member left the party to join NCP recently. Ignore the 'clean chit'. D-link is the reason!\n",
            "Nitishk52114100\n",
            "\n",
            "Twitter for Android\n",
            "0\n",
            "145\n",
            "701\n",
            "0\n",
            "<--------------------------------------------------->\n",
            "143\n",
            "2020-11-18 03:56:38\n",
            "1328909957979271168\n",
            "False\n",
            "@ndtv That is how you have been in power and have made Maharashtra treasury empty. What we heard that NCP owners have amassed the lands and real state .should there be not an enquiry of the wealth amassed before and after your leader has come to power .\n",
            "rakeshbhaddi\n",
            "London\n",
            "Twitter for iPhone\n",
            "0\n",
            "19\n",
            "139\n",
            "0\n",
            "<--------------------------------------------------->\n",
            "144\n",
            "2020-11-18 03:07:19\n",
            "1328897544714289152\n",
            "False\n",
            "@Shehzad_Ind @INCIndia @RahulGandhi @priyankagandhi @OfficeofUT It is the Sena which licked Congress Boot and not the Other way.Congress by going with Sena has not only upset many of their Muslim Voters in India but also paved way to Owaisi.Congress in Maharashtra will be wiped out.NCP and Sena are eagerly waiting for it.\n",
            "Somvanshi7166\n",
            "Uttar Pradesh, India\n",
            "Twitter for Android\n",
            "0\n",
            "7\n",
            "47\n",
            "0\n",
            "<--------------------------------------------------->\n",
            "145\n",
            "2020-11-18 01:00:18\n",
            "1328865580993171463\n",
            "True\n",
            "NCP chief #SharadPawar temporarily called off his two-day tour of north Maharashtra after former #Maharashtra Minister Eknath Khadse, who recently joined the NCP, quarantined himself after his daughter, Rohini, tested positive for COVID-19.\n",
            "https://t.co/gj4IesP5Z5\n",
            "the_hindu\n",
            "Chennai, India\n",
            "SocialFlow\n",
            "30\n",
            "6521861\n",
            "205\n",
            "1\n",
            "<--------------------------------------------------->\n",
            "146\n",
            "2020-11-17 18:14:44\n",
            "1328763516812021760\n",
            "False\n",
            "@KapilSibal Good morning sirji , look at Maharashtra govt formation did u ncp Shivsena deserve to be in ruling government ....????\n",
            "Maddy4u5\n",
            "\n",
            "Twitter for Android\n",
            "0\n",
            "3\n",
            "59\n",
            "0\n",
            "<--------------------------------------------------->\n",
            "147\n",
            "2020-11-17 18:13:25\n",
            "1328763185424306176\n",
            "False\n",
            "@Delhiking6 @RavinderKapur2 He's from Maharashtra will join ncp. Reason fielded candidate for mlc election\n",
            "BlameNehru\n",
            "\n",
            "Twitter for Android\n",
            "0\n",
            "633\n",
            "1318\n",
            "0\n",
            "<--------------------------------------------------->\n",
            "148\n",
            "2020-11-17 17:47:56\n",
            "1328756773734412288\n",
            "False\n",
            "CHHATH  PUJA  AND  MAHARASHTRA  , M V A NOT   ALLOWING   PUJA  AT  SEA  SHORES  , PEOPLE  MAY  LINK  IT \n",
            "WITH  REVENGEFUL  ACT  BY CONGRESS, NCP, SHIVSENA  DUE TO  SHAMEFUL  DEFEAT  AT  BIHAR \n",
            "ASSEMBLY  ELECTIONS  , IT'S  SURPRISING  WHEN  TEMPLES  ARE OPENED AT THE  STATE   !\n",
            "NandkumarBalwa1\n",
            "\n",
            "Twitter for Android\n",
            "0\n",
            "0\n",
            "14\n",
            "0\n",
            "<--------------------------------------------------->\n",
            "149\n",
            "2020-11-17 17:43:20\n",
            "1328755614017753088\n",
            "False\n",
            "Watch \"Big win for BJP Hindu Public in Maharashtra ! Uddhav Thackeray Sonia Gandhi Shiv Sena NCP govt\" on YouTube https://t.co/t0mSDVDez6\n",
            "Mahesh_garg\n",
            "indore.M.P.\n",
            "Twitter Web App\n",
            "0\n",
            "392\n",
            "460\n",
            "0\n",
            "<--------------------------------------------------->\n",
            "150\n",
            "2020-11-17 16:52:07\n",
            "1328742725940756485\n",
            "False\n",
            "@rautsanjay61 You mean, for sake of Hindutva, Shivsena\n",
            "- joined hands with Muslim Appeasement Gang (Congress, NCP),\n",
            "- Saved culprits who killed Sadhus in Palgarh\n",
            "- tortured Hindu's from other states, staying in Maharashtra.\n",
            "Shame on @ShivSena, @UddhavThackarey for belittling Bala Saheb.\n",
            "RD71286558\n",
            "New Delhi, India\n",
            "Twitter for Android\n",
            "0\n",
            "33\n",
            "131\n",
            "0\n",
            "<--------------------------------------------------->\n",
            "151\n",
            "2020-11-17 15:30:17\n",
            "1328722134127022082\n",
            "True\n",
            "NCP chief #SharadPawar temporarily called off his two-day tour of north Maharashtra after former Maharashtra Minister Eknath Khadse, who recently joined the NCP, quarantined himself after his daughter, Rohini, tested positive for #COVID19.\n",
            "https://t.co/HtPhRV2R9U\n",
            "the_hindu\n",
            "Chennai, India\n",
            "SocialFlow\n",
            "54\n",
            "6521861\n",
            "205\n",
            "3\n",
            "<--------------------------------------------------->\n",
            "152\n",
            "2020-11-17 15:30:10\n",
            "1328722103433003013\n",
            "False\n",
            "@narendramodi\n",
            "News coming from Maharashtra is that NCP minister visited Nasik &amp;there is a plan2stop water supplied2Gujarat &amp;work is going on\n",
            "The state is leading to disasterous way under leadership of Pawar\n",
            "Need of time2use central agencies against such politicians2save Nation\n",
            "GDHAAMI\n",
            "भारत(INDIA) \n",
            "Twitter for Android\n",
            "0\n",
            "341\n",
            "2002\n",
            "0\n",
            "<--------------------------------------------------->\n",
            "153\n",
            "2020-11-17 14:07:04\n",
            "1328701189039517699\n",
            "False\n",
            "Have Congress and NCP leaders paid tribute to Bal Thackeray, the founder of their senior alliance partner in Maharashtra and father of the CM of Maharashtra?\n",
            "Dhaanu\n",
            "India\n",
            "Twitter Web App\n",
            "1\n",
            "513\n",
            "496\n",
            "0\n",
            "<--------------------------------------------------->\n",
            "154\n",
            "2020-11-17 13:18:00\n",
            "1328688841323126784\n",
            "False\n",
            "Nawab Malik, the NCP leader has stated that the Maharashtra government is ready to deal with the cases of #coronavirus in view of reopening temples in the state. @nawabmalikncp \n",
            "\n",
            "https://t.co/RtDcoqTBke\n",
            "MumbaiLiveNews\n",
            "Mumbai, India\n",
            "Twitter Web App\n",
            "0\n",
            "13617\n",
            "461\n",
            "0\n",
            "<--------------------------------------------------->\n",
            "155\n",
            "2020-11-17 13:10:32\n",
            "1328686963692453890\n",
            "False\n",
            "@KapilSibal Nitish Kumar is CM of Bihar as a NDA nominee and he has been announced so pre-election only.\n",
            "Unlike in Maharashtra, where unholy alliance of three looser parties joined together where Shiv Sena, a NDA alliance party defected to just become CM and opportunist Congress &amp; NCP helped\n",
            "nkgupta22\n",
            "Bengaluru, India\n",
            "Twitter for Android\n",
            "0\n",
            "134\n",
            "288\n",
            "0\n",
            "<--------------------------------------------------->\n",
            "156\n",
            "2020-11-17 13:07:32\n",
            "1328686209963413506\n",
            "False\n",
            "@KapilSibal What happened in Maharashtra did people vote for Congress and NCP ???\n",
            "0mNam0\n",
            "Earth\n",
            "Twitter for Android\n",
            "0\n",
            "904\n",
            "2740\n",
            "0\n",
            "<--------------------------------------------------->\n",
            "157\n",
            "2020-11-17 10:53:52\n",
            "1328652571284623360\n",
            "False\n",
            "@ParveenKader @aayeff1 INC is a minor side player in Maharashtra now. The player is Sivasena &amp; NCP. \n",
            "Sivasena would remain committed to non-bigotry in this front. It has seen through the plot of nagpur I think. (My knowledge is minimal in that sector n politics).\n",
            "Tamil1947\n",
            "\n",
            "Twitter Web App\n",
            "2\n",
            "4044\n",
            "929\n",
            "0\n",
            "<--------------------------------------------------->\n",
            "158\n",
            "2020-11-17 08:31:56\n",
            "1328616853258833920\n",
            "False\n",
            "Did you remember Maharashtra?\n",
            "\n",
            "BJP got 122 seats\n",
            "Shivsena got 63 seats\n",
            "NCP got 41 seats\n",
            "INC got 42 seats\n",
            "\n",
            "And who is in power?\n",
            "It is a pre-poll alliance of BJP &amp; Nitish.\n",
            "#SibbalChutiyagiriMatKar https://t.co/W6B2KiWnO1\n",
            "imWrongAdvisor\n",
            "\n",
            "Twitter for Android\n",
            "20\n",
            "167\n",
            "135\n",
            "6\n",
            "<--------------------------------------------------->\n",
            "159\n",
            "2020-11-17 07:21:40\n",
            "1328599167577575424\n",
            "False\n",
            "Just look at the state election where BJP faces opposition it crumbles because it faces REAL opposition.\n",
            "\n",
            "Likewise in Maharashtra where NDA was ruling out UPA to 44-50 seats. There NCP not only fought but also formed government.Reason 👉 @PawarSpeaks \n",
            "#MyLeaderRahulGandhi \n",
            "(2/👇)\n",
            "Niikhiilpawar\n",
            "India\n",
            "Twitter Web App\n",
            "1\n",
            "10\n",
            "104\n",
            "0\n",
            "<--------------------------------------------------->\n",
            "160\n",
            "2020-11-17 06:56:16\n",
            "1328592773843447809\n",
            "False\n",
            "@TV9Marathi @ShivSena @OfficeofUT Naughty cm @CMOMaharashtra naughty @rautsanjay61 naughty @AUThackeray naughty @AnilDeshmukhNCP naughty @PawarSpeaks naughty @CPMumbaiPolice all naughty man in shivsena Congress ncp Maharashtra government https://t.co/vfUMzHTSRE\n",
            "ArnabGo85247767\n",
            "\n",
            "Twitter for Android\n",
            "0\n",
            "7\n",
            "58\n",
            "0\n",
            "<--------------------------------------------------->\n",
            "161\n",
            "2020-11-17 06:29:29\n",
            "1328586034872004608\n",
            "False\n",
            "@ANI as soon as Congress joined hand with SS their downfall starts. Huge defeat in recent elections all over India great example of that. B   @RahulGandhi  @aajtak @ABPNews @ZeeNews  @republic BJP lost Maharashtra but gained allover India.NCP gained but SS and Congress both exposed.\n",
            "___KALKI___\n",
            "india\n",
            "Twitter for Android\n",
            "0\n",
            "18\n",
            "28\n",
            "0\n",
            "<--------------------------------------------------->\n",
            "162\n",
            "2020-11-17 06:19:43\n",
            "1328583578578513920\n",
            "False\n",
            "@watchful_sniper If BJP can ally with NCP in Maharashtra it can ally with anybody to stay in power\n",
            "RaviSharma210\n",
            "\n",
            "Twitter for Android\n",
            "0\n",
            "9268\n",
            "4113\n",
            "0\n",
            "<--------------------------------------------------->\n",
            "163\n",
            "2020-11-17 06:11:01\n",
            "1328581388237463558\n",
            "True\n",
            "#Maharashtra : Former Union Minister Jaisinghrao Gaikwad quits #BJP to join #NCP https://t.co/gZbBHfm6AD https://t.co/me61yJgIbN\n",
            "GetNewsd\n",
            "New Delhi, India\n",
            "TweetDeck\n",
            "0\n",
            "20986\n",
            "149\n",
            "0\n",
            "<--------------------------------------------------->\n",
            "164\n",
            "2020-11-17 06:04:07\n",
            "1328579653469089792\n",
            "False\n",
            "Another stalwart leader and ex MP from Maharashtra's Beed Sh Jaisinghrao Gaikwad Patil has quit BJP and is most likely to join NCP. He has also served as an Union Minister for state in the past.\n",
            "Maharashtra is on the way of becoming BJP - mukt.\n",
            "\n",
            "#MahaVikasAghadi https://t.co/4Df7E22hci\n",
            "AdityaGoswami_\n",
            "New Delhi\n",
            "Twitter for Android\n",
            "5\n",
            "566\n",
            "403\n",
            "2\n",
            "<--------------------------------------------------->\n",
            "165\n",
            "2020-11-17 05:51:17\n",
            "1328576420755484674\n",
            "False\n",
            "Major blow to BJP in Marathwada region. The former BJP MP &amp; minister for state Jaisinghrao Gaikwad Patil quit the BJP, submitted his resignation to BJP Maharashtra president @ChDadaPatil. Gaikwad is set to join the NCP. He is known for his mesmerising speeches. @NewIndianXpress\n",
            "ss_suryawanshi\n",
            "Mumbai\n",
            "Twitter for Android\n",
            "1512\n",
            "19550\n",
            "432\n",
            "191\n",
            "<--------------------------------------------------->\n",
            "166\n",
            "2020-11-17 05:28:58\n",
            "1328570804393701382\n",
            "False\n",
            "NCP chief Sharad Pawar cancelled his North Maharashtra scheduled visit on November 20 &amp; 21, 2020. NCP leader Eknath Khadse is quarantined after his daughter Rohini Khadse detected as Covid 19 positive. Once Khadse is recuperated, new dates likely 2b announced. @NewIndianXpress\n",
            "ss_suryawanshi\n",
            "Mumbai\n",
            "Twitter Web App\n",
            "186\n",
            "19550\n",
            "432\n",
            "6\n",
            "<--------------------------------------------------->\n",
            "167\n",
            "2020-11-17 04:41:51\n",
            "1328558949033857024\n",
            "False\n",
            "@KapilSibal Can you explain your mandate in Maharashtra? Who in the world asked Congress to sit in power? Still they formed alliance with their spin-off revolt party - NCP and ideological rivals - Shiv Sena. 🤣😂\n",
            "\n",
            "Don’t even get me started on yr #GupkarAlliance kand just yet. Sit down Sir🙏🏻\n",
            "relaxasan\n",
            "Ki Farak Penda\n",
            "Twitter for iPhone\n",
            "33\n",
            "566\n",
            "984\n",
            "5\n",
            "<--------------------------------------------------->\n",
            "168\n",
            "2020-11-17 04:41:37\n",
            "1328558892016496642\n",
            "False\n",
            "@KapilSibal People of Maharashtra kicked out Congress  and NCP in elections, but congress managed to form government by entering Chor Darwaza\n",
            "shobhit_sri1\n",
            "Hindustan\n",
            "Twitter for iPhone\n",
            "2\n",
            "75\n",
            "299\n",
            "0\n",
            "<--------------------------------------------------->\n",
            "169\n",
            "2020-11-17 04:25:19\n",
            "1328554788921872384\n",
            "False\n",
            "@KapilSibal What about Maharashtra Mr. Sibbal ????\n",
            "\n",
            "Can you speak on that ? \n",
            "\n",
            "In Bihar Nitish Kumar with NDA and NDA got full number for making the government, but in Maharashtra Shivsena, NCP and congress make's government how can I justify?\n",
            "aaa844750\n",
            "Delhi\n",
            "Twitter for Android\n",
            "0\n",
            "24\n",
            "101\n",
            "0\n",
            "<--------------------------------------------------->\n",
            "170\n",
            "2020-11-17 04:13:26\n",
            "1328551796327890945\n",
            "False\n",
            "Shameful for selectivism when you altogether with NCP &amp; Shivsena hijack ppls mandate in Maharashtra where ppls rejected all your MVA &amp;voted BJP with Shivsena in to power exposed how Dogalapanthi prevailed in our optical system specially those who are dragged out of power by ppls https://t.co/W5yd8ngROO\n",
            "MLMANDOWARA\n",
            " Udaipur, India\n",
            "Twitter for Android\n",
            "2\n",
            "3233\n",
            "1292\n",
            "2\n",
            "<--------------------------------------------------->\n",
            "171\n",
            "2020-11-17 04:03:17\n",
            "1328549244966367232\n",
            "False\n",
            "Dear @KapilSibal sir, Indian democracy was at “work” too when shiv sena, INC, and NCP formed a government in Maharashtra even after the verdict of the people rejected all these three parties and @Dev_Fadnavis got majority and highest number of votes among all 4 major contenders. https://t.co/Vve3VXbO5u\n",
            "TalathiKaran\n",
            "\n",
            "Twitter for iPhone\n",
            "1\n",
            "25\n",
            "461\n",
            "0\n",
            "<--------------------------------------------------->\n",
            "172\n",
            "2020-11-17 03:16:03\n",
            "1328537356387840000\n",
            "False\n",
            "@baskodigama @jitengajaria Have you seen last Maharashtra assembly session, where Sudhir Mungantiwar exposed his fellow fadnavis by taunting NCP.And where was Amit shah,when such govt establishing drama was going on? You don't know anything.\n",
            "ghosalkarsroyal\n",
            "महाराष्ट्र, भारत\n",
            "Twitter for Android\n",
            "0\n",
            "14\n",
            "137\n",
            "0\n",
            "<--------------------------------------------------->\n",
            "173\n",
            "2020-11-17 02:48:11\n",
            "1328530344333746178\n",
            "False\n",
            "@KapilSibal How?What about INC,NCP and Shiv Sena formed govt  even when people of Maharashtra rejected https://t.co/Lf7dPmnUDl did not tweet your displeasure then.\n",
            "Sureshattangadi\n",
            "\n",
            "Twitter Web App\n",
            "0\n",
            "259\n",
            "827\n",
            "0\n",
            "<--------------------------------------------------->\n",
            "174\n",
            "2020-11-17 01:10:15\n",
            "1328505696753774592\n",
            "False\n",
            "@KapilSibal Yup... exactly as publicly announced. Maharashtra Aghadi government destroying one who desired for CM. All blames goes to Uddhav and cream goes to NCP and Congress.\n",
            "patelnavnit55\n",
            "\n",
            "Twitter for iPad\n",
            "0\n",
            "1182\n",
            "563\n",
            "0\n",
            "<--------------------------------------------------->\n",
            "175\n",
            "2020-11-17 01:10:02\n",
            "1328505643817340928\n",
            "False\n",
            "Watch \"Ajit Pawar 15 MLA's Big Decision On Maharashtra CM Uddhav Thackeray ShivSena &amp; MVA Alliance NCP INC?\" on YouTube https://t.co/XEK5i5IRBT\n",
            "Mahesh_garg\n",
            "indore.M.P.\n",
            "Twitter Web App\n",
            "0\n",
            "392\n",
            "460\n",
            "0\n",
            "<--------------------------------------------------->\n",
            "176\n",
            "2020-11-16 23:12:04\n",
            "1328475955875123201\n",
            "False\n",
            "@priyankac19 @sardesairajdeep @ShivSena The politics in Maharashtra is about divide &amp; rule. The NCP &amp; Congress wanted to break alliance between ShivSena &amp; BJP to create enough enemity between the two and hence weaken the two.  Further to this games are being played by NCP &amp; Congress so that people get very angry on SS.\n",
            "Sushilpthapar77\n",
            "Marine Lines, Mumbai\n",
            "Twitter Web App\n",
            "0\n",
            "22\n",
            "589\n",
            "0\n",
            "<--------------------------------------------------->\n",
            "177\n",
            "2020-11-16 19:19:16\n",
            "1328417371099303936\n",
            "False\n",
            "@mhtrhl @indiantweeter MVA is probably not a priority right now.\n",
            "The immediate focus is WB and TN polls next year. Maharashtra will be thought through after that.\n",
            "BJP would let SS dig it's grave deeper than give them opportunity, when they can climb back. Eventually, it'll be two-way NCP vs BJP only.\n",
            "EkBilangChota\n",
            "Pune\n",
            "Twitter for Android\n",
            "5\n",
            "1531\n",
            "958\n",
            "0\n",
            "<--------------------------------------------------->\n",
            "178\n",
            "2020-11-16 18:59:08\n",
            "1328412303058903040\n",
            "False\n",
            "@jay1290_ Let Maharashtra decide that!\n",
            "You aren't the only Maharashtrian. I think there are more 11 crores Maharashtrians.\n",
            "So let them all decide in the elections.\n",
            "After all... Sharad Pawar is NCP chief but was in congress party earlier.\n",
            "/1\n",
            "ChinmaySoman4\n",
            "\n",
            "Twitter for Android\n",
            "1\n",
            "9\n",
            "22\n",
            "0\n",
            "<--------------------------------------------------->\n",
            "179\n",
            "2020-11-16 18:14:34\n",
            "1328401088253362176\n",
            "False\n",
            "And what about Maharashtra Sir?\n",
            "Single largest party is sitting in opposition. Mah also rejected congress and their mandate was for BJP+Shiv Sena+RSP and not for SS+INC+NCP+ blah blah. I understand your political commitments but don't forget u r 1 of d finest lawyer in India https://t.co/G9QIQ9RQCl\n",
            "DyNitish\n",
            "\n",
            "Twitter for Android\n",
            "1\n",
            "78\n",
            "77\n",
            "0\n",
            "<--------------------------------------------------->\n",
            "180\n",
            "2020-11-16 18:03:06\n",
            "1328398200793796608\n",
            "False\n",
            "@KapilSibal This math does not apply in Maharashtra. Shiv Sena, Congress and NCP doing against your view. How do you explain it Sir?\n",
            "VIPINGOEL_TP\n",
            "New Delhi\n",
            "Twitter for Android\n",
            "2\n",
            "265\n",
            "129\n",
            "0\n",
            "<--------------------------------------------------->\n",
            "181\n",
            "2020-11-16 17:18:27\n",
            "1328386965591322624\n",
            "False\n",
            "#Nobodywantsvadras If Congress stays with Shivsena and NCP for long, These two will sink Congress and do more damage to them. Congress will be irrelevant in Maharashtra soon.\n",
            "ChowkidaarShah\n",
            "Khopoli, India\n",
            "Twitter for iPhone\n",
            "0\n",
            "290\n",
            "266\n",
            "0\n",
            "<--------------------------------------------------->\n",
            "182\n",
            "2020-11-16 17:03:09\n",
            "1328383115451006976\n",
            "False\n",
            "@priyankac19 @sardesairajdeep @ShivSena People expected #ShivSena to ditch #BJP &amp; form govt with #NCP &amp; #Congress in #Maharashtra?\n",
            "\n",
            "Ask just one of your voter, if he/she knew this existed as an option this time?\n",
            "\n",
            "I don't know what Rajdeep asked but what is said in this tweet is Greek to me.\n",
            "rajnish1Midas\n",
            "Bangalore\n",
            "Twitter for Android\n",
            "52\n",
            "1426\n",
            "1797\n",
            "3\n",
            "<--------------------------------------------------->\n",
            "183\n",
            "2020-11-16 16:04:12\n",
            "1328368280222920721\n",
            "False\n",
            "It seems Govt in Maharashtra will be on toss (Dec 2020)!!!\n",
            "\n",
            "Congress might unplug this Govt soon with fresh elections instead of letting NCP collaborate with BJP.\n",
            "\n",
            "At the end of the day, all parties will fight elections alone and the ultimate winner will be Owaisi.\n",
            "DashCamIndian\n",
            "Delhi\n",
            "Twitter Web App\n",
            "0\n",
            "1937\n",
            "352\n",
            "0\n",
            "<--------------------------------------------------->\n",
            "184\n",
            "2020-11-16 15:54:59\n",
            "1328365960982458370\n",
            "False\n",
            "@barandbench @thakkar_sameet @OfficeofUT @AUThackeray Another case which is a proof that Maharashtra is ruled by an autocratic govt of Congress, NCP, Shivsena\n",
            "saxenaamit7404\n",
            "India\n",
            "Twitter for Android\n",
            "0\n",
            "208\n",
            "358\n",
            "0\n",
            "<--------------------------------------------------->\n",
            "185\n",
            "2020-11-16 15:19:38\n",
            "1328357065929080832\n",
            "False\n",
            "Someone else will have remote control if Nitish becomes Bihar CM, says Tariq Anwar. What is Congress doing in Maharashtra with Siva Sena &amp; NCP.\n",
            "EYVEERACHARY\n",
            "Secunderabad\n",
            "Twitter Web App\n",
            "0\n",
            "16\n",
            "4\n",
            "0\n",
            "<--------------------------------------------------->\n",
            "186\n",
            "2020-11-16 15:14:01\n",
            "1328355649017679875\n",
            "False\n",
            "Sharad Pawar to tour North Maharashtra on Nov 20-21 https://t.co/BZ0qzrRiJX #NCP #SharadPawar #NorthMaharashtra #Jalgaon #Dhule #Nandurbar @EknathGKhadse @NCPspeaks @PawarSpeaks\n",
            "the_news_21\n",
            "Mumbai, India\n",
            "Twitter for Android\n",
            "0\n",
            "205\n",
            "852\n",
            "0\n",
            "<--------------------------------------------------->\n",
            "187\n",
            "2020-11-16 14:44:48\n",
            "1328348297887563777\n",
            "False\n",
            "Wish you and your family a very Happy Diwali and a healthy, prosperous and peaceful year ahead for all of you.\n",
            "@Jayant_R_Patil @AjitPawarSpeaks\n",
            "@supriya_sule @DrShingnespeaks\n",
            "\n",
            "From: Prof. Rizwan Khan ( State Secretary) Ncp Minority Cell Maharashtra https://t.co/BLRhL81OF1\n",
            "RizwanNcpSpeaks\n",
            "DHAD DISTRICT- BULDHANA\n",
            "Twitter for Android\n",
            "2\n",
            "493\n",
            "486\n",
            "0\n",
            "<--------------------------------------------------->\n",
            "188\n",
            "2020-11-16 13:45:28\n",
            "1328333366622470146\n",
            "False\n",
            "@KapilSibal Mr. Sibal, even Karnataka people rejected @INCIndia @siddaramaiah and you people joined hands with JDS to form government. In Maharashtra people gave mandate to pre-poll BJP+SS, you joined hands with SS &amp; NCP to form government. Where were you!? At personal level same here!\n",
            "AD_Indic\n",
            "India\n",
            "Twitter for Android\n",
            "0\n",
            "34\n",
            "109\n",
            "0\n",
            "<--------------------------------------------------->\n",
            "189\n",
            "2020-11-16 13:40:22\n",
            "1328332084834836480\n",
            "False\n",
            "@LotusBharat @BJP4India @KapilSibal conveniently ignores the fact that Nitish Kumar and JDU fought the elections as part of NDA, which qualifies him to be CM.\n",
            "\n",
            "In Maharashtra, Shiv Sena won their seats riding on @narendramodi's shoulders, then allowed the losers Congress + NCP to usurp power.\n",
            "Lotus2021\n",
            "\n",
            "Twitter Web App\n",
            "5\n",
            "693\n",
            "105\n",
            "2\n",
            "<--------------------------------------------------->\n",
            "190\n",
            "2020-11-16 12:34:33\n",
            "1328315519083003904\n",
            "False\n",
            "@zainabsikander 1. One Correction: Vanchit and AIMIM had no alliance in Maharashtra Assembly Election. \n",
            "2.Cong's allies of Maharashtra NCP and Shivsena also contested Bihar Election .\n",
            "Otherwise the article is good.\n",
            "Ifty88\n",
            "\n",
            "Twitter for Android\n",
            "0\n",
            "71\n",
            "332\n",
            "0\n",
            "<--------------------------------------------------->\n",
            "191\n",
            "2020-11-16 12:28:25\n",
            "1328313975780458496\n",
            "False\n",
            "@narendramodi @NitishKumar Sir now please look at Maharashtra also, if not SS please make alliance with NCP. We wish to see @Dev_Fadnavis as our CM as soon as possible.\n",
            "vikramchandavat\n",
            "Mumbai\n",
            "Twitter for Android\n",
            "0\n",
            "18\n",
            "35\n",
            "0\n",
            "<--------------------------------------------------->\n",
            "192\n",
            "2020-11-16 11:46:09\n",
            "1328303338111188992\n",
            "False\n",
            "These are supporters of Mafia/Corruption in Maharashtra of NCP &amp; Cong\n",
            "\n",
            "Enjoyed plum postings in Journalism \n",
            "\n",
            "Never has he done Journalism against Status Quo\n",
            "\n",
            "Knighted as great intellectual journalist https://t.co/Q3DPUt6U8k\n",
            "MohitHyderabadi\n",
            "Hyderabad\n",
            "Twitter Web App\n",
            "1\n",
            "2123\n",
            "2936\n",
            "2\n",
            "<--------------------------------------------------->\n",
            "193\n",
            "2020-11-16 10:40:39\n",
            "1328286858061570048\n",
            "False\n",
            "@palshailendra01 People of Maharashtra gave their mandate.\n",
            "The congress is at the position of 4th largest party.\n",
            "The deputy CM of Maharashtra is from NCP, the 3rd largest party.\n",
            "Just like CM of Bihar is of 3rd largest party, deputy CM of Maharashtra is also from 3rd largest party.\n",
            "/2\n",
            "ChinmaySoman4\n",
            "\n",
            "Twitter for Android\n",
            "20\n",
            "9\n",
            "22\n",
            "0\n",
            "<--------------------------------------------------->\n",
            "194\n",
            "2020-11-16 10:03:56\n",
            "1328277617821159424\n",
            "False\n",
            "@INCIndia Maximum production of Onion in India comes from Maharashtra and mostly the places controlled by NCP, why don't we try and reason with the Mandi controllers to reduce the price of Onions\n",
            "Nitin65742290\n",
            "\n",
            "Twitter Web App\n",
            "0\n",
            "3\n",
            "1\n",
            "0\n",
            "<--------------------------------------------------->\n",
            "195\n",
            "2020-11-16 09:24:54\n",
            "1328267794132058112\n",
            "False\n",
            "@MrsGandhi NCP &amp; Shiv Sena, two biggest gunda parties in Maharashtra need to be thouroughly evaluated for generations of wrong doing they have indulged in! Both Sharad Pawar &amp; Thakreys should be in jail and not roaming free! #IndiaRemembers\n",
            "bhartiya080410\n",
            "India\n",
            "Twitter Web App\n",
            "2\n",
            "3\n",
            "47\n",
            "1\n",
            "<--------------------------------------------------->\n",
            "196\n",
            "2020-11-16 09:17:22\n",
            "1328265895395745792\n",
            "False\n",
            "The ideology and politics based on religion(Hindu-Muslim) has been a major part of BJP and Shivsena both,you have to agree on this.Rather there have been moments when Shivsena has been more aggresive on the issue.But after shaking hands with congress and NCP in Maharashtra\n",
            "1/2\n",
            "PushkarGautam20\n",
            "New Delhi, India\n",
            "Twitter for Android\n",
            "3\n",
            "42\n",
            "38\n",
            "0\n",
            "<--------------------------------------------------->\n",
            "197\n",
            "2020-11-16 09:15:25\n",
            "1328265404406321153\n",
            "True\n",
            "The MCA govt has been facing flak for acting against allegedly offensive social media posts. But, clamping down on online criticism has been a hallmark of every political dispensation in Maharashtra, whether it is the Shiv Sena, BJP or the Cong and NCP. https://t.co/mqiQMunZkV\n",
            "manasi87\n",
            "Mumbai\n",
            "Twitter for iPhone\n",
            "16\n",
            "2513\n",
            "343\n",
            "2\n",
            "<--------------------------------------------------->\n",
            "198\n",
            "2020-11-16 09:12:23\n",
            "1328264643639296004\n",
            "False\n",
            "@TimesNow So will you please tell to SS + NCP + Congu @ Maharashtra state for not forming government...?? \n",
            "\n",
            "In Bihar it was correctly done alliance well before election. How can you reject mandate received by pe-election alliance.\n",
            "CAAmeyAnagal\n",
            "\n",
            "Twitter for Android\n",
            "0\n",
            "19\n",
            "121\n",
            "0\n",
            "<--------------------------------------------------->\n",
            "199\n",
            "2020-11-16 08:20:47\n",
            "1328251659361796103\n",
            "False\n",
            "@VamsiChandran NCP is only WESTERN maharashtra party. ONLY cong and BJP are pan Maharashtra party\n",
            "Shreyash9472\n",
            "India\n",
            "Twitter for Android\n",
            "1\n",
            "114\n",
            "305\n",
            "0\n",
            "<--------------------------------------------------->\n",
            "200\n",
            "2020-11-16 08:02:13\n",
            "1328246985615310848\n",
            "False\n",
            "@MadhumitaroyC @republic @narendramodi @AmitShah Ncp and Shivshena in above pic\n",
            "Suggest that it has been done by BJP to Reestablish power in Maharashtra.\n",
            "Polity_Cricket\n",
            "\n",
            "Twitter for Android\n",
            "0\n",
            "41\n",
            "7\n",
            "0\n",
            "<--------------------------------------------------->\n",
            "201\n",
            "2020-11-16 07:22:22\n",
            "1328236954723311618\n",
            "False\n",
            "@ShivsenaComms Magnanimity of Sanjay Raut for BJP in Power in Maharashtra after 25 years. @BJP4India @IndianExpress @smritiirani @Swamy39 @timesofindia @LoksattaLive @MilanLokmat @kiranMLokmat @RaviLokmat @PMOIndia @sambitswaraj @friendsofrss #RSS #BJP #ShivSena #NCP #INC\n",
            "akhandbharatkyu\n",
            "\n",
            "Twitter for Android\n",
            "0\n",
            "5\n",
            "86\n",
            "0\n",
            "<--------------------------------------------------->\n",
            "202\n",
            "2020-11-16 06:51:33\n",
            "1328229201195876353\n",
            "False\n",
            "@AnilDeshmukhNCP I am sure you are proud of the way he is abusing women and harrasing them. And he must be proud of you, how you don't let his crimes get registered. Sad times for Police. If Balasaheb was alive things would not have been this bad in Maharashtra. Shiv Sena is now NCP-2\n",
            "drswapnapatker\n",
            "Mumbai, India\n",
            "Twitter for iPhone\n",
            "1\n",
            "4942\n",
            "614\n",
            "0\n",
            "<--------------------------------------------------->\n",
            "203\n",
            "2020-11-16 04:57:14\n",
            "1328200430325665794\n",
            "False\n",
            "To the political activists worried about #NitishKumar being #Bihar CM despite 3rd place as a party..\n",
            "\n",
            "Ppl voting #BJP knew well that Nitish will be the CM, unlike in #Maharashtra - Where 16% ppl voting #ShivSena didn't know UT will be the CM &amp; Congress/ NCP will be in the power!\n",
            "IshaSG\n",
            "\n",
            "Twitter for Android\n",
            "0\n",
            "3457\n",
            "234\n",
            "0\n",
            "<--------------------------------------------------->\n",
            "204\n",
            "2020-11-16 01:46:46\n",
            "1328152501242060801\n",
            "False\n",
            "@manakgupta Just lyk NCP running https://t.co/e0UB4Vw5J4 is only for name .\n",
            "pratikratn\n",
            "Aurangabad\n",
            "Twitter Web App\n",
            "0\n",
            "95\n",
            "81\n",
            "0\n",
            "<--------------------------------------------------->\n",
            "205\n",
            "2020-11-15 17:28:32\n",
            "1328027115510349825\n",
            "False\n",
            "@sardesairajdeep @SushilModi When NCP is calling the shot in Maharashtra though they are third largest party' in the State then why you have any problem when BJP is calling the shot in Bihar after all BJP has more MLAs in comparison to JD(U)\n",
            "SudhirU1958\n",
            "\n",
            "Twitter for Android\n",
            "1\n",
            "25\n",
            "141\n",
            "0\n",
            "<--------------------------------------------------->\n",
            "206\n",
            "2020-11-15 15:56:42\n",
            "1328004003234525190\n",
            "False\n",
            "@imMAK02 @thakkar_sameet is already in jail for tweeting against the Congress/SS/NCP government in Maharashtra. And you dont have b@//$ to raise your voice against them\n",
            "BENHUR4U\n",
            "\n",
            "Twitter for Android\n",
            "0\n",
            "11\n",
            "905\n",
            "0\n",
            "<--------------------------------------------------->\n",
            "207\n",
            "2020-11-15 15:21:55\n",
            "1327995251932360704\n",
            "False\n",
            "@Taltos2020 @htTweets @ShivSena But Shiv Sena don't want to lose the opportunity to make a coalition government in future with BJP in Maharashtra if Congress or NCP won't give them support..\n",
            "RishiSh54122969\n",
            "\n",
            "Twitter Web App\n",
            "0\n",
            "293\n",
            "1105\n",
            "0\n",
            "<--------------------------------------------------->\n",
            "208\n",
            "2020-11-15 15:07:33\n",
            "1327991637251739650\n",
            "False\n",
            "@Swamy39 @Dharma2X @SeriSushant @here_for_ssr Can Swamy ji reply what is the next strategy of SS, NCP and Congi in Maharashtra. What are new updates of SSR &amp; Disha Salian case. Who made fleed Dawood Ibrahim from Mumbai. Do you think Vohra Committee reports will be re-opened. Also wanted to know👇 https://t.co/iRpzqaGu71\n",
            "Andy_Cool28\n",
            "\n",
            "Twitter for Android\n",
            "5\n",
            "51\n",
            "314\n",
            "2\n",
            "<--------------------------------------------------->\n",
            "209\n",
            "2020-11-15 14:51:56\n",
            "1327987705397923840\n",
            "False\n",
            "@ANI You should ask to congress and NCP about Maharashtra government how Uddhav become Chief Minister.\n",
            "vij301\n",
            "\n",
            "Twitter for Android\n",
            "0\n",
            "2\n",
            "39\n",
            "0\n",
            "<--------------------------------------------------->\n",
            "210\n",
            "2020-11-15 13:23:51\n",
            "1327965539696664579\n",
            "False\n",
            "Ms. @_sabanaqvi who celebrated Sena-Con-NCP Govt in Maharashtra and made snide remarks to Shah is now preaching Morality to a \"Pre Poll Alliance\" leader &amp; Declared CM candidate Nitish Kumar. \n",
            "Hypocrisy ki dukaan. #BiharResults https://t.co/PTNcdxSWaP\n",
            "MihirkJha\n",
            "Twitter\n",
            "Twitter for Android\n",
            "67\n",
            "12161\n",
            "794\n",
            "18\n",
            "<--------------------------------------------------->\n",
            "211\n",
            "2020-11-15 13:11:23\n",
            "1327962399555534849\n",
            "False\n",
            "@ShefVaidya @CTRavi_BJP Maharashtra BJP is in even more dire state. Caste politics of NCP has wreaked havoc on BJP maharashtra.\n",
            "srinidhi4tweet\n",
            "\n",
            "Twitter Web App\n",
            "12\n",
            "22\n",
            "254\n",
            "3\n",
            "<--------------------------------------------------->\n",
            "212\n",
            "2020-11-15 11:58:16\n",
            "1327944002046332928\n",
            "False\n",
            "#ShivSena MLAs will defect in bulk and join #BJP to retain #Hindutva ideology.\n",
            "#NCP will survive because #SharadPawar is shrewd enough to redirect the entire public wrath to #uddhavThackeray.\n",
            "#AIMIM is going to uncover the biggest surprise.\n",
            "\n",
            "#Maharashtra brace for impact !\n",
            "jd_republic\n",
            "\n",
            "Twitter for Android\n",
            "0\n",
            "4\n",
            "35\n",
            "0\n",
            "<--------------------------------------------------->\n",
            "213\n"
          ],
          "name": "stdout"
        }
      ]
    },
    {
      "cell_type": "code",
      "metadata": {
        "id": "rnC_-x_vgzPB"
      },
      "source": [
        "import re\n",
        "import numpy as np\n",
        "\n",
        "import matplotlib.pyplot as plt\n",
        "import seaborn as sns\n",
        "\n",
        "import pandas as pd\n",
        "\n",
        "import datetime as dt\n",
        "from collections import Counter\n",
        "\n",
        "import nltk\n",
        "from nltk.tokenize import sent_tokenize\n",
        "from nltk.tokenize import TweetTokenizer\n",
        "from nltk.tokenize import word_tokenize\n",
        "from nltk.corpus import words\n",
        "from nltk.corpus import stopwords\n",
        "from nltk.stem import PorterStemmer\n",
        "from nltk.stem import WordNetLemmatizer"
      ],
      "execution_count": 65,
      "outputs": []
    },
    {
      "cell_type": "code",
      "metadata": {
        "id": "uuKwAeG2VKgp",
        "colab": {
          "base_uri": "https://localhost:8080/"
        },
        "outputId": "4f2faea0-7c79-413b-e1ea-03f90c869489"
      },
      "source": [
        "df.info()"
      ],
      "execution_count": 66,
      "outputs": [
        {
          "output_type": "stream",
          "text": [
            "<class 'pandas.core.frame.DataFrame'>\n",
            "RangeIndex: 213 entries, 0 to 212\n",
            "Data columns (total 11 columns):\n",
            " #   Column     Non-Null Count  Dtype         \n",
            "---  ------     --------------  -----         \n",
            " 0   Date       213 non-null    datetime64[ns]\n",
            " 1   Tweet_id   213 non-null    int64         \n",
            " 2   Verified   213 non-null    bool          \n",
            " 3   Tweet      213 non-null    object        \n",
            " 4   User       213 non-null    object        \n",
            " 5   Location   213 non-null    object        \n",
            " 6   Source     213 non-null    object        \n",
            " 7   Likes      213 non-null    int64         \n",
            " 8   Followers  213 non-null    int64         \n",
            " 9   Following  213 non-null    int64         \n",
            " 10  Retweets   213 non-null    int64         \n",
            "dtypes: bool(1), datetime64[ns](1), int64(5), object(4)\n",
            "memory usage: 17.0+ KB\n"
          ],
          "name": "stdout"
        }
      ]
    },
    {
      "cell_type": "code",
      "metadata": {
        "id": "Yz9Mr_5bU3wO",
        "colab": {
          "base_uri": "https://localhost:8080/"
        },
        "outputId": "ceea81ae-462d-40f6-9b56-8b754ad34a5b"
      },
      "source": [
        "df.shape"
      ],
      "execution_count": 67,
      "outputs": [
        {
          "output_type": "execute_result",
          "data": {
            "text/plain": [
              "(213, 11)"
            ]
          },
          "metadata": {
            "tags": []
          },
          "execution_count": 67
        }
      ]
    },
    {
      "cell_type": "code",
      "metadata": {
        "id": "U2TqiSlvU5AL"
      },
      "source": [
        "df['Date'] = df['Date'].apply(lambda x: dt.datetime.strptime(str(x),'%Y-%m-%d %H:%M:%S')) #Convert to date time format"
      ],
      "execution_count": 68,
      "outputs": []
    },
    {
      "cell_type": "code",
      "metadata": {
        "id": "iALZ0QjFX6iW",
        "colab": {
          "base_uri": "https://localhost:8080/"
        },
        "outputId": "007cafc6-57b0-4787-93c8-0d830a739b8b"
      },
      "source": [
        "df.dtypes"
      ],
      "execution_count": 69,
      "outputs": [
        {
          "output_type": "execute_result",
          "data": {
            "text/plain": [
              "Date         datetime64[ns]\n",
              "Tweet_id              int64\n",
              "Verified               bool\n",
              "Tweet                object\n",
              "User                 object\n",
              "Location             object\n",
              "Source               object\n",
              "Likes                 int64\n",
              "Followers             int64\n",
              "Following             int64\n",
              "Retweets              int64\n",
              "dtype: object"
            ]
          },
          "metadata": {
            "tags": []
          },
          "execution_count": 69
        }
      ]
    },
    {
      "cell_type": "code",
      "metadata": {
        "id": "QwBHDIQ7X-S-",
        "colab": {
          "base_uri": "https://localhost:8080/"
        },
        "outputId": "efde163e-6588-4849-9375-3b08e767624a"
      },
      "source": [
        "df.isnull().sum()"
      ],
      "execution_count": 70,
      "outputs": [
        {
          "output_type": "execute_result",
          "data": {
            "text/plain": [
              "Date         0\n",
              "Tweet_id     0\n",
              "Verified     0\n",
              "Tweet        0\n",
              "User         0\n",
              "Location     0\n",
              "Source       0\n",
              "Likes        0\n",
              "Followers    0\n",
              "Following    0\n",
              "Retweets     0\n",
              "dtype: int64"
            ]
          },
          "metadata": {
            "tags": []
          },
          "execution_count": 70
        }
      ]
    },
    {
      "cell_type": "code",
      "metadata": {
        "id": "PULuNP0EYKb8",
        "colab": {
          "base_uri": "https://localhost:8080/"
        },
        "outputId": "d36f312e-ad7a-42f5-fe05-dac9f1a4ee02"
      },
      "source": [
        "df['Source'].value_counts()"
      ],
      "execution_count": 71,
      "outputs": [
        {
          "output_type": "execute_result",
          "data": {
            "text/plain": [
              "Twitter for Android    107\n",
              "Twitter Web App         60\n",
              "Twitter for iPhone      28\n",
              "TweetDeck               12\n",
              "Twitter for iPad         2\n",
              "SocialFlow               2\n",
              "ht-twitter-handler       1\n",
              "Sprout Social            1\n",
              "Name: Source, dtype: int64"
            ]
          },
          "metadata": {
            "tags": []
          },
          "execution_count": 71
        }
      ]
    },
    {
      "cell_type": "code",
      "metadata": {
        "id": "L0yluKAMYUhm",
        "colab": {
          "base_uri": "https://localhost:8080/"
        },
        "outputId": "c9793910-1aa7-49bc-b2a6-3a66030666fd"
      },
      "source": [
        "df['Location'].nunique()"
      ],
      "execution_count": 72,
      "outputs": [
        {
          "output_type": "execute_result",
          "data": {
            "text/plain": [
              "80"
            ]
          },
          "metadata": {
            "tags": []
          },
          "execution_count": 72
        }
      ]
    },
    {
      "cell_type": "code",
      "metadata": {
        "id": "YaaScZPVYalK",
        "colab": {
          "base_uri": "https://localhost:8080/"
        },
        "outputId": "fd70cc37-3726-4968-a2e6-fd6a5e7e2143"
      },
      "source": [
        "tweets_list = df['Tweet'].tolist()\n",
        "len(tweets_list)"
      ],
      "execution_count": 73,
      "outputs": [
        {
          "output_type": "execute_result",
          "data": {
            "text/plain": [
              "213"
            ]
          },
          "metadata": {
            "tags": []
          },
          "execution_count": 73
        }
      ]
    },
    {
      "cell_type": "code",
      "metadata": {
        "id": "ki_iXrJoYe8a",
        "colab": {
          "base_uri": "https://localhost:8080/"
        },
        "outputId": "4ef03f67-fb43-46a6-dc31-a02fae7fe856"
      },
      "source": [
        "tweets_list_updated = set(tweets_list)\n",
        "len(tweets_list_updated)\n"
      ],
      "execution_count": 74,
      "outputs": [
        {
          "output_type": "execute_result",
          "data": {
            "text/plain": [
              "213"
            ]
          },
          "metadata": {
            "tags": []
          },
          "execution_count": 74
        }
      ]
    },
    {
      "cell_type": "code",
      "metadata": {
        "id": "4UT1yjfTYiLB",
        "colab": {
          "base_uri": "https://localhost:8080/"
        },
        "outputId": "d3109426-c16e-4ace-9ec6-e9b720449e27"
      },
      "source": [
        "tweets_list_updated  = list(tweets_list_updated)\n",
        "type(tweets_list_updated)"
      ],
      "execution_count": 75,
      "outputs": [
        {
          "output_type": "execute_result",
          "data": {
            "text/plain": [
              "list"
            ]
          },
          "metadata": {
            "tags": []
          },
          "execution_count": 75
        }
      ]
    },
    {
      "cell_type": "code",
      "metadata": {
        "id": "oOTJ2Z1IYl15",
        "colab": {
          "base_uri": "https://localhost:8080/"
        },
        "outputId": "36d2c688-43be-4b7e-eb52-8bbfe4948c7e"
      },
      "source": [
        "df['Tweet'].duplicated().sum()"
      ],
      "execution_count": 76,
      "outputs": [
        {
          "output_type": "execute_result",
          "data": {
            "text/plain": [
              "0"
            ]
          },
          "metadata": {
            "tags": []
          },
          "execution_count": 76
        }
      ]
    },
    {
      "cell_type": "code",
      "metadata": {
        "id": "iboT9Z8nYts6",
        "colab": {
          "base_uri": "https://localhost:8080/"
        },
        "outputId": "f16a3247-8bc7-4754-e947-3151a39db0bb"
      },
      "source": [
        "df = df.drop_duplicates(subset = 'Tweet', keep = 'first',ignore_index = True)\n",
        "df.shape"
      ],
      "execution_count": 77,
      "outputs": [
        {
          "output_type": "execute_result",
          "data": {
            "text/plain": [
              "(213, 11)"
            ]
          },
          "metadata": {
            "tags": []
          },
          "execution_count": 77
        }
      ]
    },
    {
      "cell_type": "code",
      "metadata": {
        "id": "YtUW3NmsYw7L",
        "colab": {
          "base_uri": "https://localhost:8080/"
        },
        "outputId": "37a08268-28f0-4073-8b89-fe640eaa9515"
      },
      "source": [
        "df['Tweet'].duplicated().sum()"
      ],
      "execution_count": 78,
      "outputs": [
        {
          "output_type": "execute_result",
          "data": {
            "text/plain": [
              "0"
            ]
          },
          "metadata": {
            "tags": []
          },
          "execution_count": 78
        }
      ]
    },
    {
      "cell_type": "code",
      "metadata": {
        "id": "87iWarvlY1GV"
      },
      "source": [
        "def remove_emoji(tweet):\n",
        "    emoji_pattern = re.compile(\"[\"\n",
        "            u\"\\U0001F600-\\U0001F64F\"  # emoticons\n",
        "            u\"\\U0001F300-\\U0001F5FF\"  # symbols & pictographs\n",
        "            u\"\\U0001F680-\\U0001F6FF\"  # transport & map symbols\n",
        "            u\"\\U0001F1E0-\\U0001F1FF\"  # flags (iOS)\n",
        "                               \"]+\", flags=re.UNICODE)\n",
        "    return emoji_pattern.sub(r'', tweet)\n",
        "\n",
        "df['Processed_Tweet']=df.Tweet.apply(remove_emoji)"
      ],
      "execution_count": 79,
      "outputs": []
    },
    {
      "cell_type": "code",
      "metadata": {
        "id": "ufbUsSdyY8ZL",
        "colab": {
          "base_uri": "https://localhost:8080/"
        },
        "outputId": "f58380e2-4db6-4c41-b014-9f38aee668b2"
      },
      "source": [
        "count=0\n",
        "for i in df['Processed_Tweet']:\n",
        "    if re.match(r'^RT', i):  #remove any rows that contain RT\n",
        "        df.drop(df.loc[df['Processed_Tweet']==i].index,inplace = True)\n",
        "        count+=1\n",
        "    \n",
        "count"
      ],
      "execution_count": 80,
      "outputs": [
        {
          "output_type": "execute_result",
          "data": {
            "text/plain": [
              "0"
            ]
          },
          "metadata": {
            "tags": []
          },
          "execution_count": 80
        }
      ]
    },
    {
      "cell_type": "code",
      "metadata": {
        "id": "5xlJXmV2ZBEw",
        "colab": {
          "base_uri": "https://localhost:8080/"
        },
        "outputId": "91fc0440-f2df-4d11-e3e7-da4c6556b66d"
      },
      "source": [
        "df.shape"
      ],
      "execution_count": 81,
      "outputs": [
        {
          "output_type": "execute_result",
          "data": {
            "text/plain": [
              "(213, 12)"
            ]
          },
          "metadata": {
            "tags": []
          },
          "execution_count": 81
        }
      ]
    },
    {
      "cell_type": "code",
      "metadata": {
        "id": "8dR-gpRYZGhr",
        "colab": {
          "base_uri": "https://localhost:8080/"
        },
        "outputId": "19a9730b-5e1e-4834-bf7c-6cda75fced01"
      },
      "source": [
        "df['Processed_Tweet']"
      ],
      "execution_count": 82,
      "outputs": [
        {
          "output_type": "execute_result",
          "data": {
            "text/plain": [
              "0      @NagariMumbaikar @arvindgunasekar I think u r ...\n",
              "1      @OfficeofUT @AUThackeray @rautsanjay61 \\n\\nIf ...\n",
              "2      @gauti8619 @WcwwweU @arvindgunasekar  it's Mah...\n",
              "3      @gauti8619 @WcwwweU @arvindgunasekar On which ...\n",
              "4      The Congress’ frustration in the Maharashtra g...\n",
              "                             ...                        \n",
              "208    @Swamy39 @Dharma2X @SeriSushant @here_for_ssr ...\n",
              "209    @ANI You should ask to congress and NCP about ...\n",
              "210    Ms. @_sabanaqvi who celebrated Sena-Con-NCP Go...\n",
              "211    @ShefVaidya @CTRavi_BJP Maharashtra BJP is in ...\n",
              "212    #ShivSena MLAs will defect in bulk and join #B...\n",
              "Name: Processed_Tweet, Length: 213, dtype: object"
            ]
          },
          "metadata": {
            "tags": []
          },
          "execution_count": 82
        }
      ]
    },
    {
      "cell_type": "code",
      "metadata": {
        "id": "K5CezelDZKDa",
        "colab": {
          "base_uri": "https://localhost:8080/"
        },
        "outputId": "cd8ec5e8-af8b-437b-a738-af75f552aed8"
      },
      "source": [
        "df['Processed_Tweet'] = [re.sub('^RT[\\s]','',i) for i in df['Processed_Tweet']]  #Remove RT substring\n",
        "df['Processed_Tweet']"
      ],
      "execution_count": 83,
      "outputs": [
        {
          "output_type": "execute_result",
          "data": {
            "text/plain": [
              "0      @NagariMumbaikar @arvindgunasekar I think u r ...\n",
              "1      @OfficeofUT @AUThackeray @rautsanjay61 \\n\\nIf ...\n",
              "2      @gauti8619 @WcwwweU @arvindgunasekar  it's Mah...\n",
              "3      @gauti8619 @WcwwweU @arvindgunasekar On which ...\n",
              "4      The Congress’ frustration in the Maharashtra g...\n",
              "                             ...                        \n",
              "208    @Swamy39 @Dharma2X @SeriSushant @here_for_ssr ...\n",
              "209    @ANI You should ask to congress and NCP about ...\n",
              "210    Ms. @_sabanaqvi who celebrated Sena-Con-NCP Go...\n",
              "211    @ShefVaidya @CTRavi_BJP Maharashtra BJP is in ...\n",
              "212    #ShivSena MLAs will defect in bulk and join #B...\n",
              "Name: Processed_Tweet, Length: 213, dtype: object"
            ]
          },
          "metadata": {
            "tags": []
          },
          "execution_count": 83
        }
      ]
    },
    {
      "cell_type": "code",
      "metadata": {
        "id": "gjiyro27ZOx_",
        "colab": {
          "base_uri": "https://localhost:8080/"
        },
        "outputId": "81eb9362-c58d-4679-e34b-02f9b2b0a5d9"
      },
      "source": [
        "df['Processed_Tweet'] = [re.sub('@[^\\s]+', ' ', i) for i in df['Processed_Tweet']] #remove usernames\n",
        "df['Processed_Tweet']"
      ],
      "execution_count": 84,
      "outputs": [
        {
          "output_type": "execute_result",
          "data": {
            "text/plain": [
              "0          I think u r poor in maths, let me explain!...\n",
              "1            \\n\\nIf you want win the heart of #Mumbai...\n",
              "2             it's Maharashtra my friend. Don't you s...\n",
              "3            On which planet u are leaving? Here BJP ...\n",
              "4      The Congress’ frustration in the Maharashtra g...\n",
              "                             ...                        \n",
              "208            Can Swamy ji reply what is the next st...\n",
              "209      You should ask to congress and NCP about Mah...\n",
              "210    Ms.   who celebrated Sena-Con-NCP Govt in Maha...\n",
              "211        Maharashtra BJP is in even more dire state...\n",
              "212    #ShivSena MLAs will defect in bulk and join #B...\n",
              "Name: Processed_Tweet, Length: 213, dtype: object"
            ]
          },
          "metadata": {
            "tags": []
          },
          "execution_count": 84
        }
      ]
    },
    {
      "cell_type": "code",
      "metadata": {
        "id": "HedkRzD1ZS4Q",
        "colab": {
          "base_uri": "https://localhost:8080/"
        },
        "outputId": "7f4af74c-73dc-41d7-d22b-b1c706ff893e"
      },
      "source": [
        "df['Processed_Tweet'] = [re.sub('((www\\.[^\\s]+)|(https?://[^\\s]+))', '', i) for i in df['Processed_Tweet']] #Remove urls\n",
        "df['Processed_Tweet']"
      ],
      "execution_count": 85,
      "outputs": [
        {
          "output_type": "execute_result",
          "data": {
            "text/plain": [
              "0          I think u r poor in maths, let me explain!...\n",
              "1            \\n\\nIf you want win the heart of #Mumbai...\n",
              "2             it's Maharashtra my friend. Don't you s...\n",
              "3            On which planet u are leaving? Here BJP ...\n",
              "4      The Congress’ frustration in the Maharashtra g...\n",
              "                             ...                        \n",
              "208            Can Swamy ji reply what is the next st...\n",
              "209      You should ask to congress and NCP about Mah...\n",
              "210    Ms.   who celebrated Sena-Con-NCP Govt in Maha...\n",
              "211        Maharashtra BJP is in even more dire state...\n",
              "212    #ShivSena MLAs will defect in bulk and join #B...\n",
              "Name: Processed_Tweet, Length: 213, dtype: object"
            ]
          },
          "metadata": {
            "tags": []
          },
          "execution_count": 85
        }
      ]
    },
    {
      "cell_type": "code",
      "metadata": {
        "id": "EmDOOVqcZXb0",
        "colab": {
          "base_uri": "https://localhost:8080/"
        },
        "outputId": "7b9322f8-31a3-4062-d01f-9570cfcbdfb0"
      },
      "source": [
        "df['Processed_Tweet'] = [re.sub(r'#([^\\s]+)', r'\\1', i) for i in df['Processed_Tweet']] # remove the # in #hashtag\n",
        "df['Processed_Tweet']"
      ],
      "execution_count": 86,
      "outputs": [
        {
          "output_type": "execute_result",
          "data": {
            "text/plain": [
              "0          I think u r poor in maths, let me explain!...\n",
              "1            \\n\\nIf you want win the heart of Mumbaik...\n",
              "2             it's Maharashtra my friend. Don't you s...\n",
              "3            On which planet u are leaving? Here BJP ...\n",
              "4      The Congress’ frustration in the Maharashtra g...\n",
              "                             ...                        \n",
              "208            Can Swamy ji reply what is the next st...\n",
              "209      You should ask to congress and NCP about Mah...\n",
              "210    Ms.   who celebrated Sena-Con-NCP Govt in Maha...\n",
              "211        Maharashtra BJP is in even more dire state...\n",
              "212    ShivSena MLAs will defect in bulk and join BJP...\n",
              "Name: Processed_Tweet, Length: 213, dtype: object"
            ]
          },
          "metadata": {
            "tags": []
          },
          "execution_count": 86
        }
      ]
    },
    {
      "cell_type": "code",
      "metadata": {
        "id": "GSXJD-U6ZhW1",
        "colab": {
          "base_uri": "https://localhost:8080/"
        },
        "outputId": "d5463031-6c46-4308-9ff1-5aecb63cf3b6"
      },
      "source": [
        "!pip install tweet-preprocessor"
      ],
      "execution_count": 87,
      "outputs": [
        {
          "output_type": "stream",
          "text": [
            "Requirement already satisfied: tweet-preprocessor in /usr/local/lib/python3.6/dist-packages (0.6.0)\n"
          ],
          "name": "stdout"
        }
      ]
    },
    {
      "cell_type": "code",
      "metadata": {
        "id": "S-GqeFH8ZcYI",
        "colab": {
          "base_uri": "https://localhost:8080/"
        },
        "outputId": "d1a45e88-4b0e-41f6-da02-f18937f84077"
      },
      "source": [
        "import preprocessor as p #Module for faster preprocessing specifically for tweets\n",
        "df['Processed_Tweet'] = [p.clean(i) for i in df['Processed_Tweet']]\n",
        "df['Processed_Tweet']"
      ],
      "execution_count": 88,
      "outputs": [
        {
          "output_type": "execute_result",
          "data": {
            "text/plain": [
              "0      I think u r poor in maths, let me explain! BJP...\n",
              "1      If you want win the heart of Mumbaikar and Mah...\n",
              "2      it's Maharashtra my friend. Don't you saw how ...\n",
              "3      On which planet u are leaving? Here BJP MLAs a...\n",
              "4      The Congress frustration in the Maharashtra go...\n",
              "                             ...                        \n",
              "208    Can Swamy ji reply what is the next strategy o...\n",
              "209    You should ask to congress and NCP about Mahar...\n",
              "210    Ms. who celebrated Sena-Con-NCP Govt in Mahara...\n",
              "211    Maharashtra BJP is in even more dire state. Ca...\n",
              "212    ShivSena MLAs will defect in bulk and join BJP...\n",
              "Name: Processed_Tweet, Length: 213, dtype: object"
            ]
          },
          "metadata": {
            "tags": []
          },
          "execution_count": 88
        }
      ]
    },
    {
      "cell_type": "code",
      "metadata": {
        "id": "T0_7jWfXZo2E",
        "colab": {
          "base_uri": "https://localhost:8080/"
        },
        "outputId": "e2a7c9d8-887e-4ea1-aaac-8eb85c20a407"
      },
      "source": [
        "#removing unnecessary special characters, numbers, punctuations in tweets\n",
        "df.Processed_Tweet = df.Processed_Tweet.str.replace(\"[^a-zA-Z]\", \" \")\n",
        "df[\"Processed_Tweet\"]"
      ],
      "execution_count": 89,
      "outputs": [
        {
          "output_type": "execute_result",
          "data": {
            "text/plain": [
              "0      I think u r poor in maths  let me explain  BJP...\n",
              "1      If you want win the heart of Mumbaikar and Mah...\n",
              "2      it s Maharashtra my friend  Don t you saw how ...\n",
              "3      On which planet u are leaving  Here BJP MLAs a...\n",
              "4      The Congress frustration in the Maharashtra go...\n",
              "                             ...                        \n",
              "208    Can Swamy ji reply what is the next strategy o...\n",
              "209    You should ask to congress and NCP about Mahar...\n",
              "210    Ms  who celebrated Sena Con NCP Govt in Mahara...\n",
              "211    Maharashtra BJP is in even more dire state  Ca...\n",
              "212    ShivSena MLAs will defect in bulk and join BJP...\n",
              "Name: Processed_Tweet, Length: 213, dtype: object"
            ]
          },
          "metadata": {
            "tags": []
          },
          "execution_count": 89
        }
      ]
    },
    {
      "cell_type": "code",
      "metadata": {
        "id": "3rQeZOTCZsd7",
        "colab": {
          "base_uri": "https://localhost:8080/"
        },
        "outputId": "11a03059-19a6-4343-f539-87122da78c1f"
      },
      "source": [
        "df.Processed_Tweet = [low.lower() for low in df.Processed_Tweet] #Converting into lower case\n",
        "df[\"Processed_Tweet\"]"
      ],
      "execution_count": 90,
      "outputs": [
        {
          "output_type": "execute_result",
          "data": {
            "text/plain": [
              "0      i think u r poor in maths  let me explain  bjp...\n",
              "1      if you want win the heart of mumbaikar and mah...\n",
              "2      it s maharashtra my friend  don t you saw how ...\n",
              "3      on which planet u are leaving  here bjp mlas a...\n",
              "4      the congress frustration in the maharashtra go...\n",
              "                             ...                        \n",
              "208    can swamy ji reply what is the next strategy o...\n",
              "209    you should ask to congress and ncp about mahar...\n",
              "210    ms  who celebrated sena con ncp govt in mahara...\n",
              "211    maharashtra bjp is in even more dire state  ca...\n",
              "212    shivsena mlas will defect in bulk and join bjp...\n",
              "Name: Processed_Tweet, Length: 213, dtype: object"
            ]
          },
          "metadata": {
            "tags": []
          },
          "execution_count": 90
        }
      ]
    },
    {
      "cell_type": "code",
      "metadata": {
        "id": "D1caun-KZxeX",
        "colab": {
          "base_uri": "https://localhost:8080/",
          "height": 70
        },
        "outputId": "8954151f-85be-4af4-a25f-73381f506985"
      },
      "source": [
        "df.Processed_Tweet =  df.Processed_Tweet.str.replace(\"amp\", \"\")\n",
        "df['Processed_Tweet'][12] #Sample tweet"
      ],
      "execution_count": 91,
      "outputs": [
        {
          "output_type": "execute_result",
          "data": {
            "application/vnd.google.colaboratory.intrinsic+json": {
              "type": "string"
            },
            "text/plain": [
              "'if aligns with any party  then they r the loosers  no one will vote for bjp after that  if they have morality bjp shouldnt align with any in maharashtra either ncp or congis or sonia sena  fight independently    bjp will move majority govt next'"
            ]
          },
          "metadata": {
            "tags": []
          },
          "execution_count": 91
        }
      ]
    },
    {
      "cell_type": "code",
      "metadata": {
        "id": "AQ7xfpqOZ7gx",
        "colab": {
          "base_uri": "https://localhost:8080/"
        },
        "outputId": "66ed1d60-b42a-476a-eb7c-7e2e09989501"
      },
      "source": [
        "df['User'].value_counts()"
      ],
      "execution_count": 92,
      "outputs": [
        {
          "output_type": "execute_result",
          "data": {
            "text/plain": [
              "Mahesh_garg        3\n",
              "ss_suryawanshi     3\n",
              "NagariMumbaikar    2\n",
              "OpIndia_com        2\n",
              "the_news_21        2\n",
              "                  ..\n",
              "Krunal_Goda        1\n",
              "deepakdkokha       1\n",
              "aaa844750          1\n",
              "keypadguerilla     1\n",
              "MonkMilitant       1\n",
              "Name: User, Length: 201, dtype: int64"
            ]
          },
          "metadata": {
            "tags": []
          },
          "execution_count": 92
        }
      ]
    },
    {
      "cell_type": "code",
      "metadata": {
        "id": "WX3ijK3eZ9CL",
        "colab": {
          "base_uri": "https://localhost:8080/"
        },
        "outputId": "f1a9a06e-d5fd-4e90-c519-131a2c4a4020"
      },
      "source": [
        "df.query('User == \"jacketrose86\"').Processed_Tweet.tolist()"
      ],
      "execution_count": 93,
      "outputs": [
        {
          "output_type": "execute_result",
          "data": {
            "text/plain": [
              "[]"
            ]
          },
          "metadata": {
            "tags": []
          },
          "execution_count": 93
        }
      ]
    },
    {
      "cell_type": "code",
      "metadata": {
        "id": "ZSs-7eHlZ9F5",
        "colab": {
          "base_uri": "https://localhost:8080/",
          "height": 335
        },
        "outputId": "d1ec16e7-0552-4a72-c4d0-8998a315717f"
      },
      "source": [
        "bar = sns.countplot(df['Verified'])"
      ],
      "execution_count": 94,
      "outputs": [
        {
          "output_type": "stream",
          "text": [
            "/usr/local/lib/python3.6/dist-packages/seaborn/_decorators.py:43: FutureWarning: Pass the following variable as a keyword arg: x. From version 0.12, the only valid positional argument will be `data`, and passing other arguments without an explicit keyword will result in an error or misinterpretation.\n",
            "  FutureWarning\n"
          ],
          "name": "stderr"
        },
        {
          "output_type": "display_data",
          "data": {
            "image/png": "[encoded data removed]",
            "text/plain": [
              "<Figure size 432x288 with 1 Axes>"
            ]
          },
          "metadata": {
            "tags": [],
            "needs_background": "light"
          }
        }
      ]
    },
    {
      "cell_type": "code",
      "metadata": {
        "id": "48YKJISOZ9Jm",
        "colab": {
          "base_uri": "https://localhost:8080/"
        },
        "outputId": "d0139a8c-f987-43cd-9119-74e8b7365fb3"
      },
      "source": [
        "df['Verified'].value_counts()"
      ],
      "execution_count": 95,
      "outputs": [
        {
          "output_type": "execute_result",
          "data": {
            "text/plain": [
              "False    193\n",
              "True      20\n",
              "Name: Verified, dtype: int64"
            ]
          },
          "metadata": {
            "tags": []
          },
          "execution_count": 95
        }
      ]
    },
    {
      "cell_type": "code",
      "metadata": {
        "id": "qBweECkIZ9Ng",
        "colab": {
          "base_uri": "https://localhost:8080/"
        },
        "outputId": "3a8f57f9-2d08-4376-92e5-b624c3cab1d5"
      },
      "source": [
        "df_verified = df.query('Verified == True')\n",
        "df_verified['User'].value_counts()"
      ],
      "execution_count": 96,
      "outputs": [
        {
          "output_type": "execute_result",
          "data": {
            "text/plain": [
              "OpIndia_com        2\n",
              "the_hindu          2\n",
              "GetNewsd           1\n",
              "MumbaiMirror       1\n",
              "CNNnews18          1\n",
              "Ms_Aflatoon        1\n",
              "TOIMumbai          1\n",
              "ieexplained        1\n",
              "ANI                1\n",
              "htTweets           1\n",
              "HindustanTimes     1\n",
              "ThePuneMirror      1\n",
              "UnSubtleDesi       1\n",
              "NewIndianXpress    1\n",
              "timesofindia       1\n",
              "news18dotcom       1\n",
              "MrsGandhi          1\n",
              "manasi87           1\n",
              "Name: User, dtype: int64"
            ]
          },
          "metadata": {
            "tags": []
          },
          "execution_count": 96
        }
      ]
    },
    {
      "cell_type": "code",
      "metadata": {
        "id": "zNnEjVTuZ9Ue",
        "colab": {
          "base_uri": "https://localhost:8080/"
        },
        "outputId": "f9846ee7-092f-4c26-e348-2b87ef822569"
      },
      "source": [
        "days = df['Date'].dt.day.tolist()\n",
        "no_of_days = Counter(days)\n",
        "no_of_days"
      ],
      "execution_count": 97,
      "outputs": [
        {
          "output_type": "execute_result",
          "data": {
            "text/plain": [
              "Counter({15: 8, 16: 29, 17: 30, 18: 13, 19: 92, 20: 28, 21: 13})"
            ]
          },
          "metadata": {
            "tags": []
          },
          "execution_count": 97
        }
      ]
    },
    {
      "cell_type": "code",
      "metadata": {
        "id": "mzu51x0fZ9X4",
        "colab": {
          "base_uri": "https://localhost:8080/",
          "height": 461
        },
        "outputId": "4a777bdd-7ada-4518-906c-96b2d8934083"
      },
      "source": [
        "fig = plt.figure(figsize = (15,7))\n",
        "plt.bar(range(len(no_of_days)), list(no_of_days.values()), align='center', alpha = 0.5,color = 'red')\n",
        "plt.xticks(range(len(no_of_days)), list(no_of_days.keys()))\n",
        "plt.xlabel(\"Day\")\n",
        "plt.ylabel(\"Count Of Tweets\")\n",
        "plt.title(\"Count Of Extracted Tweets On Each Day\")"
      ],
      "execution_count": 98,
      "outputs": [
        {
          "output_type": "execute_result",
          "data": {
            "text/plain": [
              "Text(0.5, 1.0, 'Count Of Extracted Tweets On Each Day')"
            ]
          },
          "metadata": {
            "tags": []
          },
          "execution_count": 98
        },
        {
          "output_type": "display_data",
          "data": {
            "image/png": "[encoded data removed]",
            "text/plain": [
              "<Figure size 1080x504 with 1 Axes>"
            ]
          },
          "metadata": {
            "tags": [],
            "needs_background": "light"
          }
        }
      ]
    },
    {
      "cell_type": "code",
      "metadata": {
        "id": "Qk4k7vt2Z9cE",
        "colab": {
          "base_uri": "https://localhost:8080/"
        },
        "outputId": "81150a11-47b4-4635-b28f-c6333266a5d2"
      },
      "source": [
        "hours = df['Date'].dt.hour.tolist()\n",
        "no_of_hours = Counter(hours)\n",
        "no_of_hours"
      ],
      "execution_count": 99,
      "outputs": [
        {
          "output_type": "execute_result",
          "data": {
            "text/plain": [
              "Counter({0: 3,\n",
              "         1: 5,\n",
              "         2: 4,\n",
              "         3: 6,\n",
              "         4: 13,\n",
              "         5: 17,\n",
              "         6: 18,\n",
              "         7: 12,\n",
              "         8: 11,\n",
              "         9: 16,\n",
              "         10: 11,\n",
              "         11: 9,\n",
              "         12: 10,\n",
              "         13: 13,\n",
              "         14: 10,\n",
              "         15: 19,\n",
              "         16: 7,\n",
              "         17: 12,\n",
              "         18: 12,\n",
              "         19: 2,\n",
              "         20: 1,\n",
              "         21: 1,\n",
              "         23: 1})"
            ]
          },
          "metadata": {
            "tags": []
          },
          "execution_count": 99
        }
      ]
    },
    {
      "cell_type": "code",
      "metadata": {
        "id": "FnldeKsyZ9fF",
        "colab": {
          "base_uri": "https://localhost:8080/",
          "height": 509
        },
        "outputId": "888e86d5-71a3-4491-fd5c-cde0e4e8beae"
      },
      "source": [
        "fig = plt.figure(figsize = (15,8))\n",
        "plt.bar(range(len(no_of_hours)), list(no_of_hours.values()), align='center', alpha = 0.5,color = 'red')\n",
        "plt.xticks(range(len(no_of_hours)), list(no_of_hours.keys()))\n",
        "plt.xlabel(\"Hour\")\n",
        "plt.ylabel(\"Count Of Tweets\")\n",
        "plt.title(\"Count Of Extracted Tweets On Each Hour\")"
      ],
      "execution_count": 100,
      "outputs": [
        {
          "output_type": "execute_result",
          "data": {
            "text/plain": [
              "Text(0.5, 1.0, 'Count Of Extracted Tweets On Each Hour')"
            ]
          },
          "metadata": {
            "tags": []
          },
          "execution_count": 100
        },
        {
          "output_type": "display_data",
          "data": {
            "image/png": "[encoded data removed]",
            "text/plain": [
              "<Figure size 1080x576 with 1 Axes>"
            ]
          },
          "metadata": {
            "tags": [],
            "needs_background": "light"
          }
        }
      ]
    },
    {
      "cell_type": "code",
      "metadata": {
        "id": "v2uHncb_Z9ie"
      },
      "source": [
        "from wordcloud import WordCloud\n",
        "tokenizer = TweetTokenizer()"
      ],
      "execution_count": 101,
      "outputs": []
    },
    {
      "cell_type": "code",
      "metadata": {
        "id": "ti_i96jza3EY",
        "colab": {
          "base_uri": "https://localhost:8080/"
        },
        "outputId": "b66139c2-1b72-4f8a-d1e8-2bdccb9abac6"
      },
      "source": [
        "import nltk\n",
        "nltk.download('stopwords')"
      ],
      "execution_count": 102,
      "outputs": [
        {
          "output_type": "stream",
          "text": [
            "[nltk_data] Downloading package stopwords to /root/nltk_data...\n",
            "[nltk_data]   Package stopwords is already up-to-date!\n"
          ],
          "name": "stdout"
        },
        {
          "output_type": "execute_result",
          "data": {
            "text/plain": [
              "True"
            ]
          },
          "metadata": {
            "tags": []
          },
          "execution_count": 102
        }
      ]
    },
    {
      "cell_type": "code",
      "metadata": {
        "id": "ryhZIIElZ9lx",
        "colab": {
          "base_uri": "https://localhost:8080/"
        },
        "outputId": "92e1ad67-8d29-4d7c-af78-09babe743307"
      },
      "source": [
        "stop_words = set(stopwords.words('english')) \n",
        "stop_words = list(stop_words)\n",
        "print(stop_words)"
      ],
      "execution_count": 103,
      "outputs": [
        {
          "output_type": "stream",
          "text": [
            "['who', 'below', 'then', 'any', 'we', \"it's\", 'did', 'has', 'as', 'over', 'your', 'against', 'is', 'its', 'mightn', 'in', 'before', 'that', 'won', 'didn', 'while', 'here', 'because', 'should', 'ourselves', \"shan't\", \"couldn't\", 'from', 'to', 've', 'they', 'for', 'couldn', 'our', 'other', 'ain', 'each', 'only', 'i', \"mustn't\", 'above', 'same', 'doesn', 'or', 'themselves', 're', 'it', \"she's\", \"isn't\", 's', 'a', 'does', 'out', 'll', 'about', 'during', \"should've\", 'mustn', \"that'll\", 'than', 'which', 'doing', 'not', 'she', 'o', 'some', \"hadn't\", 'and', 'his', 'have', 'can', 'all', 'under', 'himself', \"wasn't\", 'how', \"hasn't\", 'itself', 'at', 'once', \"doesn't\", 'weren', 'just', 'by', 'after', 'he', 'ours', 'theirs', 'y', 'an', 'you', 'yours', 'shouldn', 'yourself', 'been', 'being', 'were', \"aren't\", 'off', 'into', 'me', 'herself', 'will', \"needn't\", 'this', 'was', 'aren', 'are', 'what', \"you'd\", \"weren't\", 'with', 'so', 'needn', 'be', \"don't\", 'too', 'these', 't', 'on', 'them', 'between', 'whom', \"won't\", 'don', 'nor', 'am', 'there', 'such', 'when', 'those', 'but', 'having', 'most', \"didn't\", 'isn', 'shan', 'further', 'hers', 'their', 'up', 'd', 'why', 'him', 'down', 'hasn', \"wouldn't\", \"shouldn't\", 'wasn', 'm', 'my', 'of', 'more', 'until', 'her', 'now', 'yourselves', \"you've\", 'had', 'the', 'hadn', \"you're\", 'few', 'no', 'through', \"haven't\", \"mightn't\", 'myself', 'do', 'haven', \"you'll\", 'ma', 'again', 'where', 'very', 'wouldn', 'both', 'own', 'if']\n"
          ],
          "name": "stdout"
        }
      ]
    },
    {
      "cell_type": "code",
      "metadata": {
        "id": "xTHMe2yTZ9pF",
        "colab": {
          "base_uri": "https://localhost:8080/"
        },
        "outputId": "1614eb9a-bf97-46fb-8e00-a26bc34aa946"
      },
      "source": [
        "df['Processed_Tweet'] = df.Processed_Tweet.apply(lambda x: ' '.join(w for w in x.split() if w not in stop_words))   #Remove stopwords\n",
        "df['Processed_Tweet']"
      ],
      "execution_count": 104,
      "outputs": [
        {
          "output_type": "execute_result",
          "data": {
            "text/plain": [
              "0      think u r poor maths let explain bjp got seats...\n",
              "1      want win heart mumbaikar maharashtra support i...\n",
              "2      maharashtra friend saw called chanakya bjp got...\n",
              "3      planet u leaving bjp mlas joining ncp shivsena...\n",
              "4      congress frustration maharashtra govt delhi ra...\n",
              "                             ...                        \n",
              "208    swamy ji reply next strategy ss ncp congi maha...\n",
              "209    ask congress ncp maharashtra government uddhav...\n",
              "210    ms celebrated sena con ncp govt maharashtra ma...\n",
              "211    maharashtra bjp even dire state caste politics...\n",
              "212    shivsena mlas defect bulk join bjp retain hind...\n",
              "Name: Processed_Tweet, Length: 213, dtype: object"
            ]
          },
          "metadata": {
            "tags": []
          },
          "execution_count": 104
        }
      ]
    },
    {
      "cell_type": "code",
      "metadata": {
        "id": "W41lIuhjZ9su",
        "colab": {
          "base_uri": "https://localhost:8080/"
        },
        "outputId": "54995469-43f7-42f6-8fc3-b96027b68115"
      },
      "source": [
        "df['Processed_Tweet'] = df['Processed_Tweet'].apply(lambda x: tokenizer.tokenize(x))\n",
        "df['Processed_Tweet']"
      ],
      "execution_count": 105,
      "outputs": [
        {
          "output_type": "execute_result",
          "data": {
            "text/plain": [
              "0      [think, u, r, poor, maths, let, explain, bjp, ...\n",
              "1      [want, win, heart, mumbaikar, maharashtra, sup...\n",
              "2      [maharashtra, friend, saw, called, chanakya, b...\n",
              "3      [planet, u, leaving, bjp, mlas, joining, ncp, ...\n",
              "4      [congress, frustration, maharashtra, govt, del...\n",
              "                             ...                        \n",
              "208    [swamy, ji, reply, next, strategy, ss, ncp, co...\n",
              "209    [ask, congress, ncp, maharashtra, government, ...\n",
              "210    [ms, celebrated, sena, con, ncp, govt, maharas...\n",
              "211    [maharashtra, bjp, even, dire, state, caste, p...\n",
              "212    [shivsena, mlas, defect, bulk, join, bjp, reta...\n",
              "Name: Processed_Tweet, Length: 213, dtype: object"
            ]
          },
          "metadata": {
            "tags": []
          },
          "execution_count": 105
        }
      ]
    },
    {
      "cell_type": "code",
      "metadata": {
        "id": "U1iyBPUlZ9wE",
        "colab": {
          "base_uri": "https://localhost:8080/"
        },
        "outputId": "e21695d8-87de-4969-85f5-ae4c8c19a356"
      },
      "source": [
        "def lemmatize_stemming(text):\n",
        "    stemmer=PorterStemmer()\n",
        "    return stemmer.stem(text)\n",
        "df['Processed_Tweet'] = df['Processed_Tweet'].apply(lambda x: [lemmatize_stemming(i) for i in x]) # stemming\n",
        "df['Processed_Tweet']"
      ],
      "execution_count": 106,
      "outputs": [
        {
          "output_type": "execute_result",
          "data": {
            "text/plain": [
              "0      [think, u, r, poor, math, let, explain, bjp, g...\n",
              "1      [want, win, heart, mumbaikar, maharashtra, sup...\n",
              "2      [maharashtra, friend, saw, call, chanakya, bjp...\n",
              "3      [planet, u, leav, bjp, mla, join, ncp, shivsen...\n",
              "4      [congress, frustrat, maharashtra, govt, delhi,...\n",
              "                             ...                        \n",
              "208    [swami, ji, repli, next, strategi, ss, ncp, co...\n",
              "209    [ask, congress, ncp, maharashtra, govern, uddh...\n",
              "210    [ms, celebr, sena, con, ncp, govt, maharashtra...\n",
              "211    [maharashtra, bjp, even, dire, state, cast, po...\n",
              "212    [shivsena, mla, defect, bulk, join, bjp, retai...\n",
              "Name: Processed_Tweet, Length: 213, dtype: object"
            ]
          },
          "metadata": {
            "tags": []
          },
          "execution_count": 106
        }
      ]
    },
    {
      "cell_type": "code",
      "metadata": {
        "id": "wLB1SjaLZ9zx",
        "colab": {
          "base_uri": "https://localhost:8080/",
          "height": 886
        },
        "outputId": "7d8d65a6-12ad-42fc-fbb2-642754b5b0fa"
      },
      "source": [
        "\n",
        "df['Processed_Tweet'] = df.Processed_Tweet.apply(lambda x: [i for i in x if len(i)>2])\n",
        "df"
      ],
      "execution_count": 107,
      "outputs": [
        {
          "output_type": "execute_result",
          "data": {
            "text/html": [
              "<div>\n",
              "<style scoped>\n",
              "    .dataframe tbody tr th:only-of-type {\n",
              "        vertical-align: middle;\n",
              "    }\n",
              "\n",
              "    .dataframe tbody tr th {\n",
              "        vertical-align: top;\n",
              "    }\n",
              "\n",
              "    .dataframe thead th {\n",
              "        text-align: right;\n",
              "    }\n",
              "</style>\n",
              "<table border=\"1\" class=\"dataframe\">\n",
              "  <thead>\n",
              "    <tr style=\"text-align: right;\">\n",
              "      <th></th>\n",
              "      <th>Date</th>\n",
              "      <th>Tweet_id</th>\n",
              "      <th>Verified</th>\n",
              "      <th>Tweet</th>\n",
              "      <th>User</th>\n",
              "      <th>Location</th>\n",
              "      <th>Source</th>\n",
              "      <th>Likes</th>\n",
              "      <th>Followers</th>\n",
              "      <th>Following</th>\n",
              "      <th>Retweets</th>\n",
              "      <th>Processed_Tweet</th>\n",
              "    </tr>\n",
              "  </thead>\n",
              "  <tbody>\n",
              "    <tr>\n",
              "      <th>0</th>\n",
              "      <td>2020-11-21 20:07:03</td>\n",
              "      <td>1330241334846885890</td>\n",
              "      <td>False</td>\n",
              "      <td>@NagariMumbaikar @arvindgunasekar I think u r ...</td>\n",
              "      <td>suresh_sushmita</td>\n",
              "      <td></td>\n",
              "      <td>Twitter for iPhone</td>\n",
              "      <td>8</td>\n",
              "      <td>652</td>\n",
              "      <td>616</td>\n",
              "      <td>0</td>\n",
              "      <td>[think, poor, math, let, explain, bjp, got, se...</td>\n",
              "    </tr>\n",
              "    <tr>\n",
              "      <th>1</th>\n",
              "      <td>2020-11-21 18:43:22</td>\n",
              "      <td>1330220273300332549</td>\n",
              "      <td>False</td>\n",
              "      <td>@OfficeofUT @AUThackeray @rautsanjay61 \\n\\nIf ...</td>\n",
              "      <td>anup_dhule</td>\n",
              "      <td></td>\n",
              "      <td>Twitter for Android</td>\n",
              "      <td>0</td>\n",
              "      <td>433</td>\n",
              "      <td>435</td>\n",
              "      <td>0</td>\n",
              "      <td>[want, win, heart, mumbaikar, maharashtra, sup...</td>\n",
              "    </tr>\n",
              "    <tr>\n",
              "      <th>2</th>\n",
              "      <td>2020-11-21 15:26:44</td>\n",
              "      <td>1330170788528480262</td>\n",
              "      <td>False</td>\n",
              "      <td>@gauti8619 @WcwwweU @arvindgunasekar 😂 it's Ma...</td>\n",
              "      <td>NagariMumbaikar</td>\n",
              "      <td>Maharashtra, India</td>\n",
              "      <td>Twitter for Android</td>\n",
              "      <td>0</td>\n",
              "      <td>20</td>\n",
              "      <td>181</td>\n",
              "      <td>0</td>\n",
              "      <td>[maharashtra, friend, saw, call, chanakya, bjp...</td>\n",
              "    </tr>\n",
              "    <tr>\n",
              "      <th>3</th>\n",
              "      <td>2020-11-21 15:17:05</td>\n",
              "      <td>1330168362748547072</td>\n",
              "      <td>False</td>\n",
              "      <td>@gauti8619 @WcwwweU @arvindgunasekar On which ...</td>\n",
              "      <td>NagariMumbaikar</td>\n",
              "      <td>Maharashtra, India</td>\n",
              "      <td>Twitter for Android</td>\n",
              "      <td>0</td>\n",
              "      <td>20</td>\n",
              "      <td>181</td>\n",
              "      <td>0</td>\n",
              "      <td>[planet, leav, bjp, mla, join, ncp, shivsena, ...</td>\n",
              "    </tr>\n",
              "    <tr>\n",
              "      <th>4</th>\n",
              "      <td>2020-11-21 11:40:59</td>\n",
              "      <td>1330113977045671936</td>\n",
              "      <td>False</td>\n",
              "      <td>The Congress’ frustration in the Maharashtra g...</td>\n",
              "      <td>SUMEETGOSWAMI</td>\n",
              "      <td>South wales</td>\n",
              "      <td>Twitter Web App</td>\n",
              "      <td>0</td>\n",
              "      <td>19</td>\n",
              "      <td>167</td>\n",
              "      <td>0</td>\n",
              "      <td>[congress, frustrat, maharashtra, govt, delhi,...</td>\n",
              "    </tr>\n",
              "    <tr>\n",
              "      <th>...</th>\n",
              "      <td>...</td>\n",
              "      <td>...</td>\n",
              "      <td>...</td>\n",
              "      <td>...</td>\n",
              "      <td>...</td>\n",
              "      <td>...</td>\n",
              "      <td>...</td>\n",
              "      <td>...</td>\n",
              "      <td>...</td>\n",
              "      <td>...</td>\n",
              "      <td>...</td>\n",
              "      <td>...</td>\n",
              "    </tr>\n",
              "    <tr>\n",
              "      <th>208</th>\n",
              "      <td>2020-11-15 15:07:33</td>\n",
              "      <td>1327991637251739650</td>\n",
              "      <td>False</td>\n",
              "      <td>@Swamy39 @Dharma2X @SeriSushant @here_for_ssr ...</td>\n",
              "      <td>Andy_Cool28</td>\n",
              "      <td></td>\n",
              "      <td>Twitter for Android</td>\n",
              "      <td>5</td>\n",
              "      <td>51</td>\n",
              "      <td>314</td>\n",
              "      <td>2</td>\n",
              "      <td>[swami, repli, next, strategi, ncp, congi, mah...</td>\n",
              "    </tr>\n",
              "    <tr>\n",
              "      <th>209</th>\n",
              "      <td>2020-11-15 14:51:56</td>\n",
              "      <td>1327987705397923840</td>\n",
              "      <td>False</td>\n",
              "      <td>@ANI You should ask to congress and NCP about ...</td>\n",
              "      <td>vij301</td>\n",
              "      <td></td>\n",
              "      <td>Twitter for Android</td>\n",
              "      <td>0</td>\n",
              "      <td>2</td>\n",
              "      <td>39</td>\n",
              "      <td>0</td>\n",
              "      <td>[ask, congress, ncp, maharashtra, govern, uddh...</td>\n",
              "    </tr>\n",
              "    <tr>\n",
              "      <th>210</th>\n",
              "      <td>2020-11-15 13:23:51</td>\n",
              "      <td>1327965539696664579</td>\n",
              "      <td>False</td>\n",
              "      <td>Ms. @_sabanaqvi who celebrated Sena-Con-NCP Go...</td>\n",
              "      <td>MihirkJha</td>\n",
              "      <td>Twitter</td>\n",
              "      <td>Twitter for Android</td>\n",
              "      <td>67</td>\n",
              "      <td>12161</td>\n",
              "      <td>794</td>\n",
              "      <td>18</td>\n",
              "      <td>[celebr, sena, con, ncp, govt, maharashtra, ma...</td>\n",
              "    </tr>\n",
              "    <tr>\n",
              "      <th>211</th>\n",
              "      <td>2020-11-15 13:11:23</td>\n",
              "      <td>1327962399555534849</td>\n",
              "      <td>False</td>\n",
              "      <td>@ShefVaidya @CTRavi_BJP Maharashtra BJP is in ...</td>\n",
              "      <td>srinidhi4tweet</td>\n",
              "      <td></td>\n",
              "      <td>Twitter Web App</td>\n",
              "      <td>12</td>\n",
              "      <td>22</td>\n",
              "      <td>254</td>\n",
              "      <td>3</td>\n",
              "      <td>[maharashtra, bjp, even, dire, state, cast, po...</td>\n",
              "    </tr>\n",
              "    <tr>\n",
              "      <th>212</th>\n",
              "      <td>2020-11-15 11:58:16</td>\n",
              "      <td>1327944002046332928</td>\n",
              "      <td>False</td>\n",
              "      <td>#ShivSena MLAs will defect in bulk and join #B...</td>\n",
              "      <td>jd_republic</td>\n",
              "      <td></td>\n",
              "      <td>Twitter for Android</td>\n",
              "      <td>0</td>\n",
              "      <td>4</td>\n",
              "      <td>35</td>\n",
              "      <td>0</td>\n",
              "      <td>[shivsena, mla, defect, bulk, join, bjp, retai...</td>\n",
              "    </tr>\n",
              "  </tbody>\n",
              "</table>\n",
              "<p>213 rows × 12 columns</p>\n",
              "</div>"
            ],
            "text/plain": [
              "                   Date  ...                                    Processed_Tweet\n",
              "0   2020-11-21 20:07:03  ...  [think, poor, math, let, explain, bjp, got, se...\n",
              "1   2020-11-21 18:43:22  ...  [want, win, heart, mumbaikar, maharashtra, sup...\n",
              "2   2020-11-21 15:26:44  ...  [maharashtra, friend, saw, call, chanakya, bjp...\n",
              "3   2020-11-21 15:17:05  ...  [planet, leav, bjp, mla, join, ncp, shivsena, ...\n",
              "4   2020-11-21 11:40:59  ...  [congress, frustrat, maharashtra, govt, delhi,...\n",
              "..                  ...  ...                                                ...\n",
              "208 2020-11-15 15:07:33  ...  [swami, repli, next, strategi, ncp, congi, mah...\n",
              "209 2020-11-15 14:51:56  ...  [ask, congress, ncp, maharashtra, govern, uddh...\n",
              "210 2020-11-15 13:23:51  ...  [celebr, sena, con, ncp, govt, maharashtra, ma...\n",
              "211 2020-11-15 13:11:23  ...  [maharashtra, bjp, even, dire, state, cast, po...\n",
              "212 2020-11-15 11:58:16  ...  [shivsena, mla, defect, bulk, join, bjp, retai...\n",
              "\n",
              "[213 rows x 12 columns]"
            ]
          },
          "metadata": {
            "tags": []
          },
          "execution_count": 107
        }
      ]
    },
    {
      "cell_type": "code",
      "metadata": {
        "id": "Jp1MddEpbN6A",
        "colab": {
          "base_uri": "https://localhost:8080/"
        },
        "outputId": "8617c456-dde7-45c4-da7f-892503e7c10c"
      },
      "source": [
        "texts = []\n",
        "texts = df.Processed_Tweet.apply(lambda x: [i for i in x] )\n",
        "all_words = []\n",
        "for i in texts:\n",
        "    all_words.append(\" \".join(i))\n",
        "text = []\n",
        "for i in texts:\n",
        "    for j in i:\n",
        "        text.append(j)\n",
        "len(text)"
      ],
      "execution_count": 108,
      "outputs": [
        {
          "output_type": "execute_result",
          "data": {
            "text/plain": [
              "3476"
            ]
          },
          "metadata": {
            "tags": []
          },
          "execution_count": 108
        }
      ]
    },
    {
      "cell_type": "code",
      "metadata": {
        "id": "jbRz6G8dbN9q",
        "colab": {
          "base_uri": "https://localhost:8080/",
          "height": 465
        },
        "outputId": "80280ae0-1738-4ee0-ebb2-30ee594a5aaf"
      },
      "source": [
        "wordcloud = WordCloud(width=800, height=500, random_state=21, max_font_size=110).generate(' '.join(text))\n",
        "plt.figure(figsize = (12, 12), facecolor=\"None\") \n",
        "plt.imshow(wordcloud,interpolation='bilinear') \n",
        "plt.axis(\"off\") \n",
        "plt.title(\"WordCloud of NCP Maharahtra Tweets\")\n",
        "plt.show()"
      ],
      "execution_count": 109,
      "outputs": [
        {
          "output_type": "display_data",
          "data": {
            "image/png": "[encoded data removed]",
            "text/plain": [
              "<Figure size 864x864 with 1 Axes>"
            ]
          },
          "metadata": {
            "tags": [],
            "needs_background": "light"
          }
        }
      ]
    },
    {
      "cell_type": "code",
      "metadata": {
        "id": "Y_6ferf0bOBj",
        "colab": {
          "base_uri": "https://localhost:8080/"
        },
        "outputId": "b8bdef4b-4167-41db-ec61-ea61f7b85713"
      },
      "source": [
        "from textblob import TextBlob\n",
        "pol=[]\n",
        "for Tweet in all_words:\n",
        "    blob = TextBlob(Tweet)\n",
        "    pol.append(blob.sentiment.polarity)\n",
        "len(pol)"
      ],
      "execution_count": 110,
      "outputs": [
        {
          "output_type": "execute_result",
          "data": {
            "text/plain": [
              "213"
            ]
          },
          "metadata": {
            "tags": []
          },
          "execution_count": 110
        }
      ]
    },
    {
      "cell_type": "code",
      "metadata": {
        "id": "dHvb9R2cbOHY",
        "colab": {
          "base_uri": "https://localhost:8080/"
        },
        "outputId": "f7053465-0736-47ce-d5be-e151fc487563"
      },
      "source": [
        "len(text)"
      ],
      "execution_count": 111,
      "outputs": [
        {
          "output_type": "execute_result",
          "data": {
            "text/plain": [
              "3476"
            ]
          },
          "metadata": {
            "tags": []
          },
          "execution_count": 111
        }
      ]
    },
    {
      "cell_type": "code",
      "metadata": {
        "id": "cu242euSbOKi",
        "colab": {
          "base_uri": "https://localhost:8080/"
        },
        "outputId": "f96b11f1-a1a4-4fae-b5b4-91c23684c034"
      },
      "source": [
        "positive=0\n",
        "negative=0\n",
        "neutral=0\n",
        "for i in pol:\n",
        "    if i>0:\n",
        "        positive+=1\n",
        "    elif i<0:\n",
        "        negative+=1\n",
        "    else:\n",
        "        neutral+=1\n",
        "print(\"Positive Tweets:\",positive)\n",
        "print(\"Negative Tweets:\",negative)\n",
        "print(\"Neutral Tweets\",neutral)"
      ],
      "execution_count": 112,
      "outputs": [
        {
          "output_type": "stream",
          "text": [
            "Positive Tweets: 64\n",
            "Negative Tweets: 48\n",
            "Neutral Tweets 101\n"
          ],
          "name": "stdout"
        }
      ]
    },
    {
      "cell_type": "code",
      "metadata": {
        "id": "6Q5B0aVGbOOa",
        "colab": {
          "base_uri": "https://localhost:8080/"
        },
        "outputId": "c0e2cb40-c43f-41a7-f51d-1a2fc2aa420a"
      },
      "source": [
        "import nltk\n",
        "nltk.download('vader_lexicon')"
      ],
      "execution_count": 113,
      "outputs": [
        {
          "output_type": "stream",
          "text": [
            "[nltk_data] Downloading package vader_lexicon to /root/nltk_data...\n",
            "[nltk_data]   Package vader_lexicon is already up-to-date!\n"
          ],
          "name": "stdout"
        },
        {
          "output_type": "execute_result",
          "data": {
            "text/plain": [
              "True"
            ]
          },
          "metadata": {
            "tags": []
          },
          "execution_count": 113
        }
      ]
    },
    {
      "cell_type": "code",
      "metadata": {
        "id": "WZ2hhckbbOR4"
      },
      "source": [
        "from nltk.sentiment.vader import SentimentIntensityAnalyzer\n",
        "sid = SentimentIntensityAnalyzer()\n",
        "sentiment_scores= []\n",
        "for i in all_words:\n",
        "    sentiment_scores.append([sid.polarity_scores(i)])"
      ],
      "execution_count": 114,
      "outputs": []
    },
    {
      "cell_type": "code",
      "metadata": {
        "id": "hCz4RQdabOV4",
        "colab": {
          "base_uri": "https://localhost:8080/",
          "height": 415
        },
        "outputId": "9000d001-9ddd-4f41-dae9-545b898ffc9a"
      },
      "source": [
        "value = []\n",
        "for i in sentiment_scores:\n",
        "    for dict1 in i:\n",
        "        value.append(list(dict1.values()))\n",
        "sentimental_score_df = pd.DataFrame(data = value, columns = ['Negative','Neutral','Positive','Compound'])\n",
        "sentimental_score_df"
      ],
      "execution_count": 115,
      "outputs": [
        {
          "output_type": "execute_result",
          "data": {
            "text/html": [
              "<div>\n",
              "<style scoped>\n",
              "    .dataframe tbody tr th:only-of-type {\n",
              "        vertical-align: middle;\n",
              "    }\n",
              "\n",
              "    .dataframe tbody tr th {\n",
              "        vertical-align: top;\n",
              "    }\n",
              "\n",
              "    .dataframe thead th {\n",
              "        text-align: right;\n",
              "    }\n",
              "</style>\n",
              "<table border=\"1\" class=\"dataframe\">\n",
              "  <thead>\n",
              "    <tr style=\"text-align: right;\">\n",
              "      <th></th>\n",
              "      <th>Negative</th>\n",
              "      <th>Neutral</th>\n",
              "      <th>Positive</th>\n",
              "      <th>Compound</th>\n",
              "    </tr>\n",
              "  </thead>\n",
              "  <tbody>\n",
              "    <tr>\n",
              "      <th>0</th>\n",
              "      <td>0.225</td>\n",
              "      <td>0.775</td>\n",
              "      <td>0.000</td>\n",
              "      <td>-0.7269</td>\n",
              "    </tr>\n",
              "    <tr>\n",
              "      <th>1</th>\n",
              "      <td>0.000</td>\n",
              "      <td>0.658</td>\n",
              "      <td>0.342</td>\n",
              "      <td>0.7783</td>\n",
              "    </tr>\n",
              "    <tr>\n",
              "      <th>2</th>\n",
              "      <td>0.087</td>\n",
              "      <td>0.725</td>\n",
              "      <td>0.188</td>\n",
              "      <td>0.5423</td>\n",
              "    </tr>\n",
              "    <tr>\n",
              "      <th>3</th>\n",
              "      <td>0.000</td>\n",
              "      <td>0.788</td>\n",
              "      <td>0.212</td>\n",
              "      <td>0.6249</td>\n",
              "    </tr>\n",
              "    <tr>\n",
              "      <th>4</th>\n",
              "      <td>0.000</td>\n",
              "      <td>1.000</td>\n",
              "      <td>0.000</td>\n",
              "      <td>0.0000</td>\n",
              "    </tr>\n",
              "    <tr>\n",
              "      <th>...</th>\n",
              "      <td>...</td>\n",
              "      <td>...</td>\n",
              "      <td>...</td>\n",
              "      <td>...</td>\n",
              "    </tr>\n",
              "    <tr>\n",
              "      <th>208</th>\n",
              "      <td>0.000</td>\n",
              "      <td>0.951</td>\n",
              "      <td>0.049</td>\n",
              "      <td>0.0772</td>\n",
              "    </tr>\n",
              "    <tr>\n",
              "      <th>209</th>\n",
              "      <td>0.000</td>\n",
              "      <td>1.000</td>\n",
              "      <td>0.000</td>\n",
              "      <td>0.0000</td>\n",
              "    </tr>\n",
              "    <tr>\n",
              "      <th>210</th>\n",
              "      <td>0.000</td>\n",
              "      <td>1.000</td>\n",
              "      <td>0.000</td>\n",
              "      <td>0.0000</td>\n",
              "    </tr>\n",
              "    <tr>\n",
              "      <th>211</th>\n",
              "      <td>0.408</td>\n",
              "      <td>0.592</td>\n",
              "      <td>0.000</td>\n",
              "      <td>-0.7845</td>\n",
              "    </tr>\n",
              "    <tr>\n",
              "      <th>212</th>\n",
              "      <td>0.084</td>\n",
              "      <td>0.839</td>\n",
              "      <td>0.077</td>\n",
              "      <td>-0.0516</td>\n",
              "    </tr>\n",
              "  </tbody>\n",
              "</table>\n",
              "<p>213 rows × 4 columns</p>\n",
              "</div>"
            ],
            "text/plain": [
              "     Negative  Neutral  Positive  Compound\n",
              "0       0.225    0.775     0.000   -0.7269\n",
              "1       0.000    0.658     0.342    0.7783\n",
              "2       0.087    0.725     0.188    0.5423\n",
              "3       0.000    0.788     0.212    0.6249\n",
              "4       0.000    1.000     0.000    0.0000\n",
              "..        ...      ...       ...       ...\n",
              "208     0.000    0.951     0.049    0.0772\n",
              "209     0.000    1.000     0.000    0.0000\n",
              "210     0.000    1.000     0.000    0.0000\n",
              "211     0.408    0.592     0.000   -0.7845\n",
              "212     0.084    0.839     0.077   -0.0516\n",
              "\n",
              "[213 rows x 4 columns]"
            ]
          },
          "metadata": {
            "tags": []
          },
          "execution_count": 115
        }
      ]
    },
    {
      "cell_type": "code",
      "metadata": {
        "id": "Ev7p5zHybOZN",
        "colab": {
          "base_uri": "https://localhost:8080/",
          "height": 202
        },
        "outputId": "c1b11782-52c8-4442-a266-a2f50e78d58c"
      },
      "source": [
        "sentimental_score_df['val'] = sentimental_score_df['Compound'].apply(lambda x: 'Neutral' if x == 0 else ('Positive' if x > 0 else 'Negative'))\n",
        "sentimental_score_df.head()"
      ],
      "execution_count": 116,
      "outputs": [
        {
          "output_type": "execute_result",
          "data": {
            "text/html": [
              "<div>\n",
              "<style scoped>\n",
              "    .dataframe tbody tr th:only-of-type {\n",
              "        vertical-align: middle;\n",
              "    }\n",
              "\n",
              "    .dataframe tbody tr th {\n",
              "        vertical-align: top;\n",
              "    }\n",
              "\n",
              "    .dataframe thead th {\n",
              "        text-align: right;\n",
              "    }\n",
              "</style>\n",
              "<table border=\"1\" class=\"dataframe\">\n",
              "  <thead>\n",
              "    <tr style=\"text-align: right;\">\n",
              "      <th></th>\n",
              "      <th>Negative</th>\n",
              "      <th>Neutral</th>\n",
              "      <th>Positive</th>\n",
              "      <th>Compound</th>\n",
              "      <th>val</th>\n",
              "    </tr>\n",
              "  </thead>\n",
              "  <tbody>\n",
              "    <tr>\n",
              "      <th>0</th>\n",
              "      <td>0.225</td>\n",
              "      <td>0.775</td>\n",
              "      <td>0.000</td>\n",
              "      <td>-0.7269</td>\n",
              "      <td>Negative</td>\n",
              "    </tr>\n",
              "    <tr>\n",
              "      <th>1</th>\n",
              "      <td>0.000</td>\n",
              "      <td>0.658</td>\n",
              "      <td>0.342</td>\n",
              "      <td>0.7783</td>\n",
              "      <td>Positive</td>\n",
              "    </tr>\n",
              "    <tr>\n",
              "      <th>2</th>\n",
              "      <td>0.087</td>\n",
              "      <td>0.725</td>\n",
              "      <td>0.188</td>\n",
              "      <td>0.5423</td>\n",
              "      <td>Positive</td>\n",
              "    </tr>\n",
              "    <tr>\n",
              "      <th>3</th>\n",
              "      <td>0.000</td>\n",
              "      <td>0.788</td>\n",
              "      <td>0.212</td>\n",
              "      <td>0.6249</td>\n",
              "      <td>Positive</td>\n",
              "    </tr>\n",
              "    <tr>\n",
              "      <th>4</th>\n",
              "      <td>0.000</td>\n",
              "      <td>1.000</td>\n",
              "      <td>0.000</td>\n",
              "      <td>0.0000</td>\n",
              "      <td>Neutral</td>\n",
              "    </tr>\n",
              "  </tbody>\n",
              "</table>\n",
              "</div>"
            ],
            "text/plain": [
              "   Negative  Neutral  Positive  Compound       val\n",
              "0     0.225    0.775     0.000   -0.7269  Negative\n",
              "1     0.000    0.658     0.342    0.7783  Positive\n",
              "2     0.087    0.725     0.188    0.5423  Positive\n",
              "3     0.000    0.788     0.212    0.6249  Positive\n",
              "4     0.000    1.000     0.000    0.0000   Neutral"
            ]
          },
          "metadata": {
            "tags": []
          },
          "execution_count": 116
        }
      ]
    },
    {
      "cell_type": "code",
      "metadata": {
        "id": "2FmNubOLbOdG",
        "colab": {
          "base_uri": "https://localhost:8080/",
          "height": 297
        },
        "outputId": "f16bc077-3978-4096-aee6-8dc80676b3dd"
      },
      "source": [
        "sent_count = pd.DataFrame.from_dict(Counter(sentimental_score_df['val']), orient = 'index').reset_index()\n",
        "sent_count.columns = ['sentiment', 'count']\n",
        "\n",
        "sns.barplot(y=\"count\", x='sentiment', data=sent_count)"
      ],
      "execution_count": 117,
      "outputs": [
        {
          "output_type": "execute_result",
          "data": {
            "text/plain": [
              "<matplotlib.axes._subplots.AxesSubplot at 0x7f713f276128>"
            ]
          },
          "metadata": {
            "tags": []
          },
          "execution_count": 117
        },
        {
          "output_type": "display_data",
          "data": {
            "image/png": "[encoded data removed]",
            "text/plain": [
              "<Figure size 432x288 with 1 Axes>"
            ]
          },
          "metadata": {
            "tags": [],
            "needs_background": "light"
          }
        }
      ]
    },
    {
      "cell_type": "code",
      "metadata": {
        "id": "dUllRCfLbOg7",
        "colab": {
          "base_uri": "https://localhost:8080/"
        },
        "outputId": "9f09eb75-fa45-4a06-b0c7-523ed17aa09e"
      },
      "source": [
        "filepath = r\"/content/Election-Prediction/StatewisePolitics/Maharashtra/ncp_maharashtra.csv\"\n",
        "emolex_df = pd.read_csv(filepath,  names=[\"word\", \"emotion\", \"association\"], skiprows=45, sep='\\t')\n",
        "emolex_df.head(12)\n",
        "len(emolex_df)"
      ],
      "execution_count": 118,
      "outputs": [
        {
          "output_type": "execute_result",
          "data": {
            "text/plain": [
              "385"
            ]
          },
          "metadata": {
            "tags": []
          },
          "execution_count": 118
        }
      ]
    },
    {
      "cell_type": "code",
      "metadata": {
        "id": "BpqvO-zZbOky"
      },
      "source": [
        "emotions={'positive':0, 'negative':0, 'surprise':0,'sadness':0,\n",
        "          'anger':0,'joy':0,'negative':0,'trust':0,'fear':0,'anticipation':0,'disgust':0}"
      ],
      "execution_count": 119,
      "outputs": []
    },
    {
      "cell_type": "code",
      "metadata": {
        "id": "5zvUJmULbOoU"
      },
      "source": [
        "word_emotion=dict()\n",
        "for i in range(0,385):\n",
        "    emotion=emolex_df['emotion'][i]\n",
        "    word=emolex_df['word'][i]\n",
        "    association=emolex_df['association'][i]\n",
        "    \n",
        "    if word not in word_emotion:\n",
        "        word_emotion[word]=dict()\n",
        "    word_emotion[word][emotion]=association\n"
      ],
      "execution_count": 120,
      "outputs": []
    },
    {
      "cell_type": "code",
      "metadata": {
        "id": "Mp3Thxfpg0nI",
        "colab": {
          "base_uri": "https://localhost:8080/"
        },
        "outputId": "fd798805-a0b1-4519-b02d-049637890908"
      },
      "source": [
        "from numpy import nan\n",
        "nan == nan\n"
      ],
      "execution_count": 121,
      "outputs": [
        {
          "output_type": "execute_result",
          "data": {
            "text/plain": [
              "False"
            ]
          },
          "metadata": {
            "tags": []
          },
          "execution_count": 121
        }
      ]
    },
    {
      "cell_type": "code",
      "metadata": {
        "id": "mHtSZD_BbOry",
        "colab": {
          "base_uri": "https://localhost:8080/",
          "height": 201
        },
        "outputId": "2fd08a8e-7dab-4964-a039-7630fd0235a4"
      },
      "source": [
        "for i in range(0,1202):\n",
        "    text=df['Tweet'][i]\n",
        "    for j in text.split():\n",
        "        if j in word_emotion:\n",
        "            for k in word_emotion[j]:\n",
        "                emotions[k]+=word_emotion[j][k]"
      ],
      "execution_count": 122,
      "outputs": [
        {
          "output_type": "error",
          "ename": "KeyError",
          "evalue": "ignored",
          "traceback": [
            "\u001b[0;31m---------------------------------------------------------------------------\u001b[0m",
            "\u001b[0;31mKeyError\u001b[0m                                  Traceback (most recent call last)",
            "\u001b[0;32m<ipython-input-122-226b0bea47fa>\u001b[0m in \u001b[0;36m<module>\u001b[0;34m()\u001b[0m\n\u001b[1;32m      4\u001b[0m         \u001b[0;32mif\u001b[0m \u001b[0mj\u001b[0m \u001b[0;32min\u001b[0m \u001b[0mword_emotion\u001b[0m\u001b[0;34m:\u001b[0m\u001b[0;34m\u001b[0m\u001b[0;34m\u001b[0m\u001b[0m\n\u001b[1;32m      5\u001b[0m             \u001b[0;32mfor\u001b[0m \u001b[0mk\u001b[0m \u001b[0;32min\u001b[0m \u001b[0mword_emotion\u001b[0m\u001b[0;34m[\u001b[0m\u001b[0mj\u001b[0m\u001b[0;34m]\u001b[0m\u001b[0;34m:\u001b[0m\u001b[0;34m\u001b[0m\u001b[0;34m\u001b[0m\u001b[0m\n\u001b[0;32m----> 6\u001b[0;31m                 \u001b[0memotions\u001b[0m\u001b[0;34m[\u001b[0m\u001b[0mk\u001b[0m\u001b[0;34m]\u001b[0m\u001b[0;34m+=\u001b[0m\u001b[0mword_emotion\u001b[0m\u001b[0;34m[\u001b[0m\u001b[0mj\u001b[0m\u001b[0;34m]\u001b[0m\u001b[0;34m[\u001b[0m\u001b[0mk\u001b[0m\u001b[0;34m]\u001b[0m\u001b[0;34m\u001b[0m\u001b[0;34m\u001b[0m\u001b[0m\n\u001b[0m",
            "\u001b[0;31mKeyError\u001b[0m: nan"
          ]
        }
      ]
    },
    {
      "cell_type": "code",
      "metadata": {
        "id": "IkuVbkfMbOvn",
        "colab": {
          "base_uri": "https://localhost:8080/"
        },
        "outputId": "265ce08f-9022-44aa-d9b1-319fe4c83a11"
      },
      "source": [
        "emotions"
      ],
      "execution_count": null,
      "outputs": [
        {
          "output_type": "execute_result",
          "data": {
            "text/plain": [
              "{'anger': 0,\n",
              " 'anticipation': 0,\n",
              " 'disgust': 0,\n",
              " 'fear': 0,\n",
              " 'joy': 0,\n",
              " 'negative': 0,\n",
              " 'positive': 0,\n",
              " 'sadness': 0,\n",
              " 'surprise': 0,\n",
              " 'trust': 0}"
            ]
          },
          "metadata": {
            "tags": []
          },
          "execution_count": 69
        }
      ]
    },
    {
      "cell_type": "code",
      "metadata": {
        "id": "y1vRLg5bbOzL",
        "colab": {
          "base_uri": "https://localhost:8080/",
          "height": 323
        },
        "outputId": "0e988806-53d8-4310-dcfd-4ce7707a22a1"
      },
      "source": [
        "plt.style.use('fivethirtyeight')\n",
        "plt.rcParams[\"figure.figsize\"] = [15,5]\n",
        "plt.bar(list(emotions.keys()),list(emotions.values()),color='red',alpha = 0.6)\n",
        "plt.xlabel('Emotions')\n",
        "plt.ylabel('Count')\n",
        "plt.title('Calculated Emotions Of Users ')\n",
        "plt.show()"
      ],
      "execution_count": 123,
      "outputs": [
        {
          "output_type": "display_data",
          "data": {
            "image/png": "[encoded data removed]",
            "text/plain": [
              "<Figure size 1080x360 with 1 Axes>"
            ]
          },
          "metadata": {
            "tags": []
          }
        }
      ]
    },
    {
      "cell_type": "code",
      "metadata": {
        "id": "DBNBn2IebO22",
        "colab": {
          "base_uri": "https://localhost:8080/"
        },
        "outputId": "d71677e9-8fc4-416d-df1d-f61147cebbe4"
      },
      "source": [
        "df.Location  = df.Location.fillna('INDIA')\n",
        "f = [i for i in df['Location'] if type(i) != str]\n",
        "f"
      ],
      "execution_count": 124,
      "outputs": [
        {
          "output_type": "execute_result",
          "data": {
            "text/plain": [
              "[]"
            ]
          },
          "metadata": {
            "tags": []
          },
          "execution_count": 124
        }
      ]
    },
    {
      "cell_type": "code",
      "metadata": {
        "id": "6p1TZITybO6f",
        "colab": {
          "base_uri": "https://localhost:8080/"
        },
        "outputId": "166ba7bc-ece1-4de0-f435-9b03bd0d14ce"
      },
      "source": [
        "df.Location = df.Location.apply(lambda x: x.replace('United States','USA'))\n",
        "df.Location.value_counts()"
      ],
      "execution_count": 125,
      "outputs": [
        {
          "output_type": "execute_result",
          "data": {
            "text/plain": [
              "                       65\n",
              "India                  25\n",
              "Mumbai                 11\n",
              "Mumbai, India           8\n",
              "New Delhi               7\n",
              "                       ..\n",
              "Bangalore,India         1\n",
              "वसुधैव कुटुंबकम्        1\n",
              "Bengaluru,Bharat        1\n",
              "New Delhi India         1\n",
              "Burlington, Ontario     1\n",
              "Name: Location, Length: 80, dtype: int64"
            ]
          },
          "metadata": {
            "tags": []
          },
          "execution_count": 125
        }
      ]
    },
    {
      "cell_type": "code",
      "metadata": {
        "id": "Ua1voDKQbO-F",
        "colab": {
          "base_uri": "https://localhost:8080/",
          "height": 886
        },
        "outputId": "05f9cda8-3a81-436c-9b5e-9318d64ecc74"
      },
      "source": [
        "locations = []\n",
        "locations_1 = []\n",
        "\n",
        "locations = [i.split(',')[-1] for i in df['Location']]\n",
        "locations_1 =  [i.split(',')[0] for i in df['Location']]\n",
        "df['Processed_Location'] = locations_1\n",
        "df"
      ],
      "execution_count": 126,
      "outputs": [
        {
          "output_type": "execute_result",
          "data": {
            "text/html": [
              "<div>\n",
              "<style scoped>\n",
              "    .dataframe tbody tr th:only-of-type {\n",
              "        vertical-align: middle;\n",
              "    }\n",
              "\n",
              "    .dataframe tbody tr th {\n",
              "        vertical-align: top;\n",
              "    }\n",
              "\n",
              "    .dataframe thead th {\n",
              "        text-align: right;\n",
              "    }\n",
              "</style>\n",
              "<table border=\"1\" class=\"dataframe\">\n",
              "  <thead>\n",
              "    <tr style=\"text-align: right;\">\n",
              "      <th></th>\n",
              "      <th>Date</th>\n",
              "      <th>Tweet_id</th>\n",
              "      <th>Verified</th>\n",
              "      <th>Tweet</th>\n",
              "      <th>User</th>\n",
              "      <th>Location</th>\n",
              "      <th>Source</th>\n",
              "      <th>Likes</th>\n",
              "      <th>Followers</th>\n",
              "      <th>Following</th>\n",
              "      <th>Retweets</th>\n",
              "      <th>Processed_Tweet</th>\n",
              "      <th>Processed_Location</th>\n",
              "    </tr>\n",
              "  </thead>\n",
              "  <tbody>\n",
              "    <tr>\n",
              "      <th>0</th>\n",
              "      <td>2020-11-21 20:07:03</td>\n",
              "      <td>1330241334846885890</td>\n",
              "      <td>False</td>\n",
              "      <td>@NagariMumbaikar @arvindgunasekar I think u r ...</td>\n",
              "      <td>suresh_sushmita</td>\n",
              "      <td></td>\n",
              "      <td>Twitter for iPhone</td>\n",
              "      <td>8</td>\n",
              "      <td>652</td>\n",
              "      <td>616</td>\n",
              "      <td>0</td>\n",
              "      <td>[think, poor, math, let, explain, bjp, got, se...</td>\n",
              "      <td></td>\n",
              "    </tr>\n",
              "    <tr>\n",
              "      <th>1</th>\n",
              "      <td>2020-11-21 18:43:22</td>\n",
              "      <td>1330220273300332549</td>\n",
              "      <td>False</td>\n",
              "      <td>@OfficeofUT @AUThackeray @rautsanjay61 \\n\\nIf ...</td>\n",
              "      <td>anup_dhule</td>\n",
              "      <td></td>\n",
              "      <td>Twitter for Android</td>\n",
              "      <td>0</td>\n",
              "      <td>433</td>\n",
              "      <td>435</td>\n",
              "      <td>0</td>\n",
              "      <td>[want, win, heart, mumbaikar, maharashtra, sup...</td>\n",
              "      <td></td>\n",
              "    </tr>\n",
              "    <tr>\n",
              "      <th>2</th>\n",
              "      <td>2020-11-21 15:26:44</td>\n",
              "      <td>1330170788528480262</td>\n",
              "      <td>False</td>\n",
              "      <td>@gauti8619 @WcwwweU @arvindgunasekar 😂 it's Ma...</td>\n",
              "      <td>NagariMumbaikar</td>\n",
              "      <td>Maharashtra, India</td>\n",
              "      <td>Twitter for Android</td>\n",
              "      <td>0</td>\n",
              "      <td>20</td>\n",
              "      <td>181</td>\n",
              "      <td>0</td>\n",
              "      <td>[maharashtra, friend, saw, call, chanakya, bjp...</td>\n",
              "      <td>Maharashtra</td>\n",
              "    </tr>\n",
              "    <tr>\n",
              "      <th>3</th>\n",
              "      <td>2020-11-21 15:17:05</td>\n",
              "      <td>1330168362748547072</td>\n",
              "      <td>False</td>\n",
              "      <td>@gauti8619 @WcwwweU @arvindgunasekar On which ...</td>\n",
              "      <td>NagariMumbaikar</td>\n",
              "      <td>Maharashtra, India</td>\n",
              "      <td>Twitter for Android</td>\n",
              "      <td>0</td>\n",
              "      <td>20</td>\n",
              "      <td>181</td>\n",
              "      <td>0</td>\n",
              "      <td>[planet, leav, bjp, mla, join, ncp, shivsena, ...</td>\n",
              "      <td>Maharashtra</td>\n",
              "    </tr>\n",
              "    <tr>\n",
              "      <th>4</th>\n",
              "      <td>2020-11-21 11:40:59</td>\n",
              "      <td>1330113977045671936</td>\n",
              "      <td>False</td>\n",
              "      <td>The Congress’ frustration in the Maharashtra g...</td>\n",
              "      <td>SUMEETGOSWAMI</td>\n",
              "      <td>South wales</td>\n",
              "      <td>Twitter Web App</td>\n",
              "      <td>0</td>\n",
              "      <td>19</td>\n",
              "      <td>167</td>\n",
              "      <td>0</td>\n",
              "      <td>[congress, frustrat, maharashtra, govt, delhi,...</td>\n",
              "      <td>South wales</td>\n",
              "    </tr>\n",
              "    <tr>\n",
              "      <th>...</th>\n",
              "      <td>...</td>\n",
              "      <td>...</td>\n",
              "      <td>...</td>\n",
              "      <td>...</td>\n",
              "      <td>...</td>\n",
              "      <td>...</td>\n",
              "      <td>...</td>\n",
              "      <td>...</td>\n",
              "      <td>...</td>\n",
              "      <td>...</td>\n",
              "      <td>...</td>\n",
              "      <td>...</td>\n",
              "      <td>...</td>\n",
              "    </tr>\n",
              "    <tr>\n",
              "      <th>208</th>\n",
              "      <td>2020-11-15 15:07:33</td>\n",
              "      <td>1327991637251739650</td>\n",
              "      <td>False</td>\n",
              "      <td>@Swamy39 @Dharma2X @SeriSushant @here_for_ssr ...</td>\n",
              "      <td>Andy_Cool28</td>\n",
              "      <td></td>\n",
              "      <td>Twitter for Android</td>\n",
              "      <td>5</td>\n",
              "      <td>51</td>\n",
              "      <td>314</td>\n",
              "      <td>2</td>\n",
              "      <td>[swami, repli, next, strategi, ncp, congi, mah...</td>\n",
              "      <td></td>\n",
              "    </tr>\n",
              "    <tr>\n",
              "      <th>209</th>\n",
              "      <td>2020-11-15 14:51:56</td>\n",
              "      <td>1327987705397923840</td>\n",
              "      <td>False</td>\n",
              "      <td>@ANI You should ask to congress and NCP about ...</td>\n",
              "      <td>vij301</td>\n",
              "      <td></td>\n",
              "      <td>Twitter for Android</td>\n",
              "      <td>0</td>\n",
              "      <td>2</td>\n",
              "      <td>39</td>\n",
              "      <td>0</td>\n",
              "      <td>[ask, congress, ncp, maharashtra, govern, uddh...</td>\n",
              "      <td></td>\n",
              "    </tr>\n",
              "    <tr>\n",
              "      <th>210</th>\n",
              "      <td>2020-11-15 13:23:51</td>\n",
              "      <td>1327965539696664579</td>\n",
              "      <td>False</td>\n",
              "      <td>Ms. @_sabanaqvi who celebrated Sena-Con-NCP Go...</td>\n",
              "      <td>MihirkJha</td>\n",
              "      <td>Twitter</td>\n",
              "      <td>Twitter for Android</td>\n",
              "      <td>67</td>\n",
              "      <td>12161</td>\n",
              "      <td>794</td>\n",
              "      <td>18</td>\n",
              "      <td>[celebr, sena, con, ncp, govt, maharashtra, ma...</td>\n",
              "      <td>Twitter</td>\n",
              "    </tr>\n",
              "    <tr>\n",
              "      <th>211</th>\n",
              "      <td>2020-11-15 13:11:23</td>\n",
              "      <td>1327962399555534849</td>\n",
              "      <td>False</td>\n",
              "      <td>@ShefVaidya @CTRavi_BJP Maharashtra BJP is in ...</td>\n",
              "      <td>srinidhi4tweet</td>\n",
              "      <td></td>\n",
              "      <td>Twitter Web App</td>\n",
              "      <td>12</td>\n",
              "      <td>22</td>\n",
              "      <td>254</td>\n",
              "      <td>3</td>\n",
              "      <td>[maharashtra, bjp, even, dire, state, cast, po...</td>\n",
              "      <td></td>\n",
              "    </tr>\n",
              "    <tr>\n",
              "      <th>212</th>\n",
              "      <td>2020-11-15 11:58:16</td>\n",
              "      <td>1327944002046332928</td>\n",
              "      <td>False</td>\n",
              "      <td>#ShivSena MLAs will defect in bulk and join #B...</td>\n",
              "      <td>jd_republic</td>\n",
              "      <td></td>\n",
              "      <td>Twitter for Android</td>\n",
              "      <td>0</td>\n",
              "      <td>4</td>\n",
              "      <td>35</td>\n",
              "      <td>0</td>\n",
              "      <td>[shivsena, mla, defect, bulk, join, bjp, retai...</td>\n",
              "      <td></td>\n",
              "    </tr>\n",
              "  </tbody>\n",
              "</table>\n",
              "<p>213 rows × 13 columns</p>\n",
              "</div>"
            ],
            "text/plain": [
              "                   Date  ...  Processed_Location\n",
              "0   2020-11-21 20:07:03  ...                    \n",
              "1   2020-11-21 18:43:22  ...                    \n",
              "2   2020-11-21 15:26:44  ...         Maharashtra\n",
              "3   2020-11-21 15:17:05  ...         Maharashtra\n",
              "4   2020-11-21 11:40:59  ...         South wales\n",
              "..                  ...  ...                 ...\n",
              "208 2020-11-15 15:07:33  ...                    \n",
              "209 2020-11-15 14:51:56  ...                    \n",
              "210 2020-11-15 13:23:51  ...             Twitter\n",
              "211 2020-11-15 13:11:23  ...                    \n",
              "212 2020-11-15 11:58:16  ...                    \n",
              "\n",
              "[213 rows x 13 columns]"
            ]
          },
          "metadata": {
            "tags": []
          },
          "execution_count": 126
        }
      ]
    },
    {
      "cell_type": "code",
      "metadata": {
        "id": "Xcw2IMBrbPBW"
      },
      "source": [
        "df1 = df\n",
        "df1['sentiment'] = sentimental_score_df['val']"
      ],
      "execution_count": 127,
      "outputs": []
    },
    {
      "cell_type": "code",
      "metadata": {
        "id": "fk0h10D3bPEy",
        "colab": {
          "base_uri": "https://localhost:8080/",
          "height": 447
        },
        "outputId": "0c5b66bd-c76d-4ea0-8d6f-271b141041e1"
      },
      "source": [
        "df1.to_csv('Location.csv',index = False)\n",
        "df1['day'] = df.Date.dt.day\n",
        "df1.head()"
      ],
      "execution_count": 128,
      "outputs": [
        {
          "output_type": "execute_result",
          "data": {
            "text/html": [
              "<div>\n",
              "<style scoped>\n",
              "    .dataframe tbody tr th:only-of-type {\n",
              "        vertical-align: middle;\n",
              "    }\n",
              "\n",
              "    .dataframe tbody tr th {\n",
              "        vertical-align: top;\n",
              "    }\n",
              "\n",
              "    .dataframe thead th {\n",
              "        text-align: right;\n",
              "    }\n",
              "</style>\n",
              "<table border=\"1\" class=\"dataframe\">\n",
              "  <thead>\n",
              "    <tr style=\"text-align: right;\">\n",
              "      <th></th>\n",
              "      <th>Date</th>\n",
              "      <th>Tweet_id</th>\n",
              "      <th>Verified</th>\n",
              "      <th>Tweet</th>\n",
              "      <th>User</th>\n",
              "      <th>Location</th>\n",
              "      <th>Source</th>\n",
              "      <th>Likes</th>\n",
              "      <th>Followers</th>\n",
              "      <th>Following</th>\n",
              "      <th>Retweets</th>\n",
              "      <th>Processed_Tweet</th>\n",
              "      <th>Processed_Location</th>\n",
              "      <th>sentiment</th>\n",
              "      <th>day</th>\n",
              "    </tr>\n",
              "  </thead>\n",
              "  <tbody>\n",
              "    <tr>\n",
              "      <th>0</th>\n",
              "      <td>2020-11-21 20:07:03</td>\n",
              "      <td>1330241334846885890</td>\n",
              "      <td>False</td>\n",
              "      <td>@NagariMumbaikar @arvindgunasekar I think u r ...</td>\n",
              "      <td>suresh_sushmita</td>\n",
              "      <td></td>\n",
              "      <td>Twitter for iPhone</td>\n",
              "      <td>8</td>\n",
              "      <td>652</td>\n",
              "      <td>616</td>\n",
              "      <td>0</td>\n",
              "      <td>[think, poor, math, let, explain, bjp, got, se...</td>\n",
              "      <td></td>\n",
              "      <td>Negative</td>\n",
              "      <td>21</td>\n",
              "    </tr>\n",
              "    <tr>\n",
              "      <th>1</th>\n",
              "      <td>2020-11-21 18:43:22</td>\n",
              "      <td>1330220273300332549</td>\n",
              "      <td>False</td>\n",
              "      <td>@OfficeofUT @AUThackeray @rautsanjay61 \\n\\nIf ...</td>\n",
              "      <td>anup_dhule</td>\n",
              "      <td></td>\n",
              "      <td>Twitter for Android</td>\n",
              "      <td>0</td>\n",
              "      <td>433</td>\n",
              "      <td>435</td>\n",
              "      <td>0</td>\n",
              "      <td>[want, win, heart, mumbaikar, maharashtra, sup...</td>\n",
              "      <td></td>\n",
              "      <td>Positive</td>\n",
              "      <td>21</td>\n",
              "    </tr>\n",
              "    <tr>\n",
              "      <th>2</th>\n",
              "      <td>2020-11-21 15:26:44</td>\n",
              "      <td>1330170788528480262</td>\n",
              "      <td>False</td>\n",
              "      <td>@gauti8619 @WcwwweU @arvindgunasekar 😂 it's Ma...</td>\n",
              "      <td>NagariMumbaikar</td>\n",
              "      <td>Maharashtra, India</td>\n",
              "      <td>Twitter for Android</td>\n",
              "      <td>0</td>\n",
              "      <td>20</td>\n",
              "      <td>181</td>\n",
              "      <td>0</td>\n",
              "      <td>[maharashtra, friend, saw, call, chanakya, bjp...</td>\n",
              "      <td>Maharashtra</td>\n",
              "      <td>Positive</td>\n",
              "      <td>21</td>\n",
              "    </tr>\n",
              "    <tr>\n",
              "      <th>3</th>\n",
              "      <td>2020-11-21 15:17:05</td>\n",
              "      <td>1330168362748547072</td>\n",
              "      <td>False</td>\n",
              "      <td>@gauti8619 @WcwwweU @arvindgunasekar On which ...</td>\n",
              "      <td>NagariMumbaikar</td>\n",
              "      <td>Maharashtra, India</td>\n",
              "      <td>Twitter for Android</td>\n",
              "      <td>0</td>\n",
              "      <td>20</td>\n",
              "      <td>181</td>\n",
              "      <td>0</td>\n",
              "      <td>[planet, leav, bjp, mla, join, ncp, shivsena, ...</td>\n",
              "      <td>Maharashtra</td>\n",
              "      <td>Positive</td>\n",
              "      <td>21</td>\n",
              "    </tr>\n",
              "    <tr>\n",
              "      <th>4</th>\n",
              "      <td>2020-11-21 11:40:59</td>\n",
              "      <td>1330113977045671936</td>\n",
              "      <td>False</td>\n",
              "      <td>The Congress’ frustration in the Maharashtra g...</td>\n",
              "      <td>SUMEETGOSWAMI</td>\n",
              "      <td>South wales</td>\n",
              "      <td>Twitter Web App</td>\n",
              "      <td>0</td>\n",
              "      <td>19</td>\n",
              "      <td>167</td>\n",
              "      <td>0</td>\n",
              "      <td>[congress, frustrat, maharashtra, govt, delhi,...</td>\n",
              "      <td>South wales</td>\n",
              "      <td>Neutral</td>\n",
              "      <td>21</td>\n",
              "    </tr>\n",
              "  </tbody>\n",
              "</table>\n",
              "</div>"
            ],
            "text/plain": [
              "                 Date             Tweet_id  ...  sentiment day\n",
              "0 2020-11-21 20:07:03  1330241334846885890  ...   Negative  21\n",
              "1 2020-11-21 18:43:22  1330220273300332549  ...   Positive  21\n",
              "2 2020-11-21 15:26:44  1330170788528480262  ...   Positive  21\n",
              "3 2020-11-21 15:17:05  1330168362748547072  ...   Positive  21\n",
              "4 2020-11-21 11:40:59  1330113977045671936  ...    Neutral  21\n",
              "\n",
              "[5 rows x 15 columns]"
            ]
          },
          "metadata": {
            "tags": []
          },
          "execution_count": 128
        }
      ]
    },
    {
      "cell_type": "code",
      "metadata": {
        "id": "uRFstkWfbPIZ",
        "colab": {
          "base_uri": "https://localhost:8080/",
          "height": 385
        },
        "outputId": "abf980c7-f9f7-43cb-ba68-18441134d834"
      },
      "source": [
        "sns.countplot(df['day'],hue = df['sentiment'])"
      ],
      "execution_count": 129,
      "outputs": [
        {
          "output_type": "stream",
          "text": [
            "/usr/local/lib/python3.6/dist-packages/seaborn/_decorators.py:43: FutureWarning: Pass the following variable as a keyword arg: x. From version 0.12, the only valid positional argument will be `data`, and passing other arguments without an explicit keyword will result in an error or misinterpretation.\n",
            "  FutureWarning\n"
          ],
          "name": "stderr"
        },
        {
          "output_type": "execute_result",
          "data": {
            "text/plain": [
              "<matplotlib.axes._subplots.AxesSubplot at 0x7f713f116be0>"
            ]
          },
          "metadata": {
            "tags": []
          },
          "execution_count": 129
        },
        {
          "output_type": "display_data",
          "data": {
            "image/png": "[encoded data removed]",
            "text/plain": [
              "<Figure size 1080x360 with 1 Axes>"
            ]
          },
          "metadata": {
            "tags": []
          }
        }
      ]
    },
    {
      "cell_type": "code",
      "metadata": {
        "id": "wjrfS-i8bPLt"
      },
      "source": [
        "from sklearn.feature_extraction.text import CountVectorizer\n",
        "from sklearn.model_selection import train_test_split\n",
        "from sklearn.naive_bayes import GaussianNB\n",
        "from sklearn.naive_bayes import MultinomialNB\n",
        "from sklearn.metrics import confusion_matrix\n",
        "from sklearn.tree import DecisionTreeClassifier\n",
        "from sklearn.ensemble import RandomForestClassifier\n",
        "from sklearn.preprocessing import LabelEncoder \n",
        "from sklearn.model_selection import GridSearchCV\n",
        "from sklearn import model_selection\n",
        "\n",
        "from sklearn.model_selection import cross_val_score\n",
        "from sklearn.metrics import accuracy_score\n",
        "from sklearn.metrics import precision_score\n",
        "from sklearn.metrics import recall_score\n",
        "from sklearn.metrics import f1_score"
      ],
      "execution_count": 130,
      "outputs": []
    },
    {
      "cell_type": "code",
      "metadata": {
        "id": "g0S-olXjbPPW",
        "colab": {
          "base_uri": "https://localhost:8080/",
          "height": 886
        },
        "outputId": "26b83794-a3f0-46db-ddda-be789c9b20b7"
      },
      "source": [
        "le = LabelEncoder() \n",
        "  \n",
        "df1['sentiment_1']= le.fit_transform(df1['sentiment'])\n",
        "df1"
      ],
      "execution_count": 131,
      "outputs": [
        {
          "output_type": "execute_result",
          "data": {
            "text/html": [
              "<div>\n",
              "<style scoped>\n",
              "    .dataframe tbody tr th:only-of-type {\n",
              "        vertical-align: middle;\n",
              "    }\n",
              "\n",
              "    .dataframe tbody tr th {\n",
              "        vertical-align: top;\n",
              "    }\n",
              "\n",
              "    .dataframe thead th {\n",
              "        text-align: right;\n",
              "    }\n",
              "</style>\n",
              "<table border=\"1\" class=\"dataframe\">\n",
              "  <thead>\n",
              "    <tr style=\"text-align: right;\">\n",
              "      <th></th>\n",
              "      <th>Date</th>\n",
              "      <th>Tweet_id</th>\n",
              "      <th>Verified</th>\n",
              "      <th>Tweet</th>\n",
              "      <th>User</th>\n",
              "      <th>Location</th>\n",
              "      <th>Source</th>\n",
              "      <th>Likes</th>\n",
              "      <th>Followers</th>\n",
              "      <th>Following</th>\n",
              "      <th>Retweets</th>\n",
              "      <th>Processed_Tweet</th>\n",
              "      <th>Processed_Location</th>\n",
              "      <th>sentiment</th>\n",
              "      <th>day</th>\n",
              "      <th>sentiment_1</th>\n",
              "    </tr>\n",
              "  </thead>\n",
              "  <tbody>\n",
              "    <tr>\n",
              "      <th>0</th>\n",
              "      <td>2020-11-21 20:07:03</td>\n",
              "      <td>1330241334846885890</td>\n",
              "      <td>False</td>\n",
              "      <td>@NagariMumbaikar @arvindgunasekar I think u r ...</td>\n",
              "      <td>suresh_sushmita</td>\n",
              "      <td></td>\n",
              "      <td>Twitter for iPhone</td>\n",
              "      <td>8</td>\n",
              "      <td>652</td>\n",
              "      <td>616</td>\n",
              "      <td>0</td>\n",
              "      <td>[think, poor, math, let, explain, bjp, got, se...</td>\n",
              "      <td></td>\n",
              "      <td>Negative</td>\n",
              "      <td>21</td>\n",
              "      <td>0</td>\n",
              "    </tr>\n",
              "    <tr>\n",
              "      <th>1</th>\n",
              "      <td>2020-11-21 18:43:22</td>\n",
              "      <td>1330220273300332549</td>\n",
              "      <td>False</td>\n",
              "      <td>@OfficeofUT @AUThackeray @rautsanjay61 \\n\\nIf ...</td>\n",
              "      <td>anup_dhule</td>\n",
              "      <td></td>\n",
              "      <td>Twitter for Android</td>\n",
              "      <td>0</td>\n",
              "      <td>433</td>\n",
              "      <td>435</td>\n",
              "      <td>0</td>\n",
              "      <td>[want, win, heart, mumbaikar, maharashtra, sup...</td>\n",
              "      <td></td>\n",
              "      <td>Positive</td>\n",
              "      <td>21</td>\n",
              "      <td>2</td>\n",
              "    </tr>\n",
              "    <tr>\n",
              "      <th>2</th>\n",
              "      <td>2020-11-21 15:26:44</td>\n",
              "      <td>1330170788528480262</td>\n",
              "      <td>False</td>\n",
              "      <td>@gauti8619 @WcwwweU @arvindgunasekar 😂 it's Ma...</td>\n",
              "      <td>NagariMumbaikar</td>\n",
              "      <td>Maharashtra, India</td>\n",
              "      <td>Twitter for Android</td>\n",
              "      <td>0</td>\n",
              "      <td>20</td>\n",
              "      <td>181</td>\n",
              "      <td>0</td>\n",
              "      <td>[maharashtra, friend, saw, call, chanakya, bjp...</td>\n",
              "      <td>Maharashtra</td>\n",
              "      <td>Positive</td>\n",
              "      <td>21</td>\n",
              "      <td>2</td>\n",
              "    </tr>\n",
              "    <tr>\n",
              "      <th>3</th>\n",
              "      <td>2020-11-21 15:17:05</td>\n",
              "      <td>1330168362748547072</td>\n",
              "      <td>False</td>\n",
              "      <td>@gauti8619 @WcwwweU @arvindgunasekar On which ...</td>\n",
              "      <td>NagariMumbaikar</td>\n",
              "      <td>Maharashtra, India</td>\n",
              "      <td>Twitter for Android</td>\n",
              "      <td>0</td>\n",
              "      <td>20</td>\n",
              "      <td>181</td>\n",
              "      <td>0</td>\n",
              "      <td>[planet, leav, bjp, mla, join, ncp, shivsena, ...</td>\n",
              "      <td>Maharashtra</td>\n",
              "      <td>Positive</td>\n",
              "      <td>21</td>\n",
              "      <td>2</td>\n",
              "    </tr>\n",
              "    <tr>\n",
              "      <th>4</th>\n",
              "      <td>2020-11-21 11:40:59</td>\n",
              "      <td>1330113977045671936</td>\n",
              "      <td>False</td>\n",
              "      <td>The Congress’ frustration in the Maharashtra g...</td>\n",
              "      <td>SUMEETGOSWAMI</td>\n",
              "      <td>South wales</td>\n",
              "      <td>Twitter Web App</td>\n",
              "      <td>0</td>\n",
              "      <td>19</td>\n",
              "      <td>167</td>\n",
              "      <td>0</td>\n",
              "      <td>[congress, frustrat, maharashtra, govt, delhi,...</td>\n",
              "      <td>South wales</td>\n",
              "      <td>Neutral</td>\n",
              "      <td>21</td>\n",
              "      <td>1</td>\n",
              "    </tr>\n",
              "    <tr>\n",
              "      <th>...</th>\n",
              "      <td>...</td>\n",
              "      <td>...</td>\n",
              "      <td>...</td>\n",
              "      <td>...</td>\n",
              "      <td>...</td>\n",
              "      <td>...</td>\n",
              "      <td>...</td>\n",
              "      <td>...</td>\n",
              "      <td>...</td>\n",
              "      <td>...</td>\n",
              "      <td>...</td>\n",
              "      <td>...</td>\n",
              "      <td>...</td>\n",
              "      <td>...</td>\n",
              "      <td>...</td>\n",
              "      <td>...</td>\n",
              "    </tr>\n",
              "    <tr>\n",
              "      <th>208</th>\n",
              "      <td>2020-11-15 15:07:33</td>\n",
              "      <td>1327991637251739650</td>\n",
              "      <td>False</td>\n",
              "      <td>@Swamy39 @Dharma2X @SeriSushant @here_for_ssr ...</td>\n",
              "      <td>Andy_Cool28</td>\n",
              "      <td></td>\n",
              "      <td>Twitter for Android</td>\n",
              "      <td>5</td>\n",
              "      <td>51</td>\n",
              "      <td>314</td>\n",
              "      <td>2</td>\n",
              "      <td>[swami, repli, next, strategi, ncp, congi, mah...</td>\n",
              "      <td></td>\n",
              "      <td>Positive</td>\n",
              "      <td>15</td>\n",
              "      <td>2</td>\n",
              "    </tr>\n",
              "    <tr>\n",
              "      <th>209</th>\n",
              "      <td>2020-11-15 14:51:56</td>\n",
              "      <td>1327987705397923840</td>\n",
              "      <td>False</td>\n",
              "      <td>@ANI You should ask to congress and NCP about ...</td>\n",
              "      <td>vij301</td>\n",
              "      <td></td>\n",
              "      <td>Twitter for Android</td>\n",
              "      <td>0</td>\n",
              "      <td>2</td>\n",
              "      <td>39</td>\n",
              "      <td>0</td>\n",
              "      <td>[ask, congress, ncp, maharashtra, govern, uddh...</td>\n",
              "      <td></td>\n",
              "      <td>Neutral</td>\n",
              "      <td>15</td>\n",
              "      <td>1</td>\n",
              "    </tr>\n",
              "    <tr>\n",
              "      <th>210</th>\n",
              "      <td>2020-11-15 13:23:51</td>\n",
              "      <td>1327965539696664579</td>\n",
              "      <td>False</td>\n",
              "      <td>Ms. @_sabanaqvi who celebrated Sena-Con-NCP Go...</td>\n",
              "      <td>MihirkJha</td>\n",
              "      <td>Twitter</td>\n",
              "      <td>Twitter for Android</td>\n",
              "      <td>67</td>\n",
              "      <td>12161</td>\n",
              "      <td>794</td>\n",
              "      <td>18</td>\n",
              "      <td>[celebr, sena, con, ncp, govt, maharashtra, ma...</td>\n",
              "      <td>Twitter</td>\n",
              "      <td>Neutral</td>\n",
              "      <td>15</td>\n",
              "      <td>1</td>\n",
              "    </tr>\n",
              "    <tr>\n",
              "      <th>211</th>\n",
              "      <td>2020-11-15 13:11:23</td>\n",
              "      <td>1327962399555534849</td>\n",
              "      <td>False</td>\n",
              "      <td>@ShefVaidya @CTRavi_BJP Maharashtra BJP is in ...</td>\n",
              "      <td>srinidhi4tweet</td>\n",
              "      <td></td>\n",
              "      <td>Twitter Web App</td>\n",
              "      <td>12</td>\n",
              "      <td>22</td>\n",
              "      <td>254</td>\n",
              "      <td>3</td>\n",
              "      <td>[maharashtra, bjp, even, dire, state, cast, po...</td>\n",
              "      <td></td>\n",
              "      <td>Negative</td>\n",
              "      <td>15</td>\n",
              "      <td>0</td>\n",
              "    </tr>\n",
              "    <tr>\n",
              "      <th>212</th>\n",
              "      <td>2020-11-15 11:58:16</td>\n",
              "      <td>1327944002046332928</td>\n",
              "      <td>False</td>\n",
              "      <td>#ShivSena MLAs will defect in bulk and join #B...</td>\n",
              "      <td>jd_republic</td>\n",
              "      <td></td>\n",
              "      <td>Twitter for Android</td>\n",
              "      <td>0</td>\n",
              "      <td>4</td>\n",
              "      <td>35</td>\n",
              "      <td>0</td>\n",
              "      <td>[shivsena, mla, defect, bulk, join, bjp, retai...</td>\n",
              "      <td></td>\n",
              "      <td>Negative</td>\n",
              "      <td>15</td>\n",
              "      <td>0</td>\n",
              "    </tr>\n",
              "  </tbody>\n",
              "</table>\n",
              "<p>213 rows × 16 columns</p>\n",
              "</div>"
            ],
            "text/plain": [
              "                   Date             Tweet_id  ...  day sentiment_1\n",
              "0   2020-11-21 20:07:03  1330241334846885890  ...   21           0\n",
              "1   2020-11-21 18:43:22  1330220273300332549  ...   21           2\n",
              "2   2020-11-21 15:26:44  1330170788528480262  ...   21           2\n",
              "3   2020-11-21 15:17:05  1330168362748547072  ...   21           2\n",
              "4   2020-11-21 11:40:59  1330113977045671936  ...   21           1\n",
              "..                  ...                  ...  ...  ...         ...\n",
              "208 2020-11-15 15:07:33  1327991637251739650  ...   15           2\n",
              "209 2020-11-15 14:51:56  1327987705397923840  ...   15           1\n",
              "210 2020-11-15 13:23:51  1327965539696664579  ...   15           1\n",
              "211 2020-11-15 13:11:23  1327962399555534849  ...   15           0\n",
              "212 2020-11-15 11:58:16  1327944002046332928  ...   15           0\n",
              "\n",
              "[213 rows x 16 columns]"
            ]
          },
          "metadata": {
            "tags": []
          },
          "execution_count": 131
        }
      ]
    },
    {
      "cell_type": "code",
      "metadata": {
        "id": "xBc2j_RibPTh"
      },
      "source": [
        "cv = CountVectorizer(max_features = 1500)\n",
        "X = cv.fit_transform(all_words).toarray()\n",
        "y = df1['sentiment_1']"
      ],
      "execution_count": 132,
      "outputs": []
    },
    {
      "cell_type": "code",
      "metadata": {
        "id": "ePYtd2BMbPXN"
      },
      "source": [
        "X_train, X_test, y_train, y_test = train_test_split(X, y, test_size = 0.3, random_state = 0)\n",
        "# NEGATIVE == 0\n",
        "# NEUTRAL == 1\n",
        "# POSITIVE == 2"
      ],
      "execution_count": 133,
      "outputs": []
    },
    {
      "cell_type": "code",
      "metadata": {
        "id": "oTO3zF_gbPa5"
      },
      "source": [
        "#X_train, X_test, y_train, y_test = train_test_split(X_tfidf, y, test_size = 0.3, random_state = 0)"
      ],
      "execution_count": 134,
      "outputs": []
    },
    {
      "cell_type": "code",
      "metadata": {
        "id": "iaFTWb0LbPfA"
      },
      "source": [
        "classifier_DT = DecisionTreeClassifier()\n",
        "classifier_DT.fit(X_train, y_train)\n",
        "y_pred_DT = classifier_DT.predict(X_test)"
      ],
      "execution_count": 135,
      "outputs": []
    },
    {
      "cell_type": "code",
      "metadata": {
        "id": "d27boANUbPi9",
        "colab": {
          "base_uri": "https://localhost:8080/"
        },
        "outputId": "1a8d5db5-590b-4044-b7ea-2deecadb8329"
      },
      "source": [
        "accuracy_score_DT = accuracy_score(y_test, y_pred_DT)\n",
        "precision_score_DT = precision_score(y_test, y_pred_DT , average = 'micro')\n",
        "recall_score_DT = recall_score(y_test, y_pred_DT , average = 'micro')\n",
        "f1_score_DT = f1_score(y_test, y_pred_DT , average = 'micro')\n",
        "print(\"Accuracy Score: \" , accuracy_score_DT)\n",
        "print(\"Precision Score: \" , precision_score_DT)\n",
        "print(\"Recall Score: \" , recall_score_DT)\n",
        "print(\"F1 Score: \" , f1_score_DT)"
      ],
      "execution_count": 136,
      "outputs": [
        {
          "output_type": "stream",
          "text": [
            "Accuracy Score:  0.640625\n",
            "Precision Score:  0.640625\n",
            "Recall Score:  0.640625\n",
            "F1 Score:  0.640625\n"
          ],
          "name": "stdout"
        }
      ]
    },
    {
      "cell_type": "code",
      "metadata": {
        "id": "drhy2odtbPmU",
        "colab": {
          "base_uri": "https://localhost:8080/",
          "height": 408
        },
        "outputId": "9d570926-8a17-419e-99c9-76bf7de403cc"
      },
      "source": [
        "cm_DT = confusion_matrix(y_test, y_pred_DT)\n",
        "\n",
        "      # neg # neutr  # pos\n",
        "# pos #  232   65      1397\n",
        "# neu #  87   1175     51\n",
        "# neg # 1104   82      321\n",
        "\n",
        "df_cm_DT = pd.DataFrame(cm_DT, range(3), range(3))\n",
        "plt.figure(figsize=(10,6))\n",
        "categories = ['Negative','Neutral','Positive']\n",
        "sns.set(font_scale=1.2) # for label size\n",
        "sns.heatmap(df_cm_DT, annot=True, annot_kws={\"size\": 18}, xticklabels = categories,\n",
        "            yticklabels = categories ,fmt=\"d\") # font size\n",
        "plt.ylim(0, 3)\n",
        "plt.show()"
      ],
      "execution_count": 137,
      "outputs": [
        {
          "output_type": "display_data",
          "data": {
            "image/png": "[encoded data removed]",
            "text/plain": [
              "<Figure size 720x432 with 2 Axes>"
            ]
          },
          "metadata": {
            "tags": []
          }
        }
      ]
    },
    {
      "cell_type": "code",
      "metadata": {
        "id": "K0CwHnJPko8z",
        "colab": {
          "base_uri": "https://localhost:8080/"
        },
        "outputId": "36b57644-a936-4b61-9a38-3ae83353bb82"
      },
      "source": [
        "#Getting the parameters of the particular model \n",
        "classifier_DT.get_params().keys()"
      ],
      "execution_count": 138,
      "outputs": [
        {
          "output_type": "execute_result",
          "data": {
            "text/plain": [
              "dict_keys(['ccp_alpha', 'class_weight', 'criterion', 'max_depth', 'max_features', 'max_leaf_nodes', 'min_impurity_decrease', 'min_impurity_split', 'min_samples_leaf', 'min_samples_split', 'min_weight_fraction_leaf', 'presort', 'random_state', 'splitter'])"
            ]
          },
          "metadata": {
            "tags": []
          },
          "execution_count": 138
        }
      ]
    },
    {
      "cell_type": "code",
      "metadata": {
        "id": "zJvr_oyVkvC9"
      },
      "source": [
        "classifier_DT_opti = DecisionTreeClassifier() \n",
        "\n",
        "param_grid = {\"max_depth\" : [1,3,5,7],     #Setting the parameters for the model\n",
        "               \"criterion\" : [\"gini\",\"entropy\"],\n",
        "              \"min_samples_split\" : [2,3,4],\n",
        "              \"max_leaf_nodes\" : [7,8,9],\n",
        "              \"min_samples_leaf\": [2,3,4],\n",
        "             }"
      ],
      "execution_count": 139,
      "outputs": []
    },
    {
      "cell_type": "code",
      "metadata": {
        "id": "PuxfADWvkyNv",
        "colab": {
          "base_uri": "https://localhost:8080/"
        },
        "outputId": "a92653fe-d845-4a1c-f755-8332cce5f784"
      },
      "source": [
        "model_DT = model_selection.GridSearchCV(estimator=classifier_DT_opti, #GridSearch\n",
        "                                    param_grid=param_grid, \n",
        "                                        cv=10)\n",
        "model_DT.fit(X_train,y_train)\n",
        "print(model_DT.best_score_) #Gives the best score of the model\n",
        "print(model_DT.best_estimator_.get_params()) #Gives the best parameters"
      ],
      "execution_count": 140,
      "outputs": [
        {
          "output_type": "stream",
          "text": [
            "0.5295238095238095\n",
            "{'ccp_alpha': 0.0, 'class_weight': None, 'criterion': 'entropy', 'max_depth': 3, 'max_features': None, 'max_leaf_nodes': 7, 'min_impurity_decrease': 0.0, 'min_impurity_split': None, 'min_samples_leaf': 4, 'min_samples_split': 4, 'min_weight_fraction_leaf': 0.0, 'presort': 'deprecated', 'random_state': None, 'splitter': 'best'}\n"
          ],
          "name": "stdout"
        }
      ]
    },
    {
      "cell_type": "code",
      "metadata": {
        "id": "gzgA0zjCkyQx",
        "colab": {
          "base_uri": "https://localhost:8080/"
        },
        "outputId": "65b9ef1b-abcf-4958-d051-1e31f18db13f"
      },
      "source": [
        "y_pred_model_DT = model_DT.predict(X_test)\n",
        "\n",
        "accuracy_score_model_DT = accuracy_score(y_test, y_pred_model_DT)\n",
        "precision_score_model_DT = precision_score(y_test, y_pred_model_DT , average = 'micro')\n",
        "recall_score_model_DT = recall_score(y_test, y_pred_model_DT , average = 'micro')\n",
        "f1_score_model_DT = f1_score(y_test, y_pred_model_DT , average = 'micro')\n",
        "print(\"Accuracy Score: \" , accuracy_score_model_DT)\n",
        "print(\"Precision Score: \" , precision_score_model_DT)\n",
        "print(\"Recall Score: \" , recall_score_model_DT)\n",
        "print(\"F1 Score: \" , f1_score_model_DT)"
      ],
      "execution_count": 141,
      "outputs": [
        {
          "output_type": "stream",
          "text": [
            "Accuracy Score:  0.46875\n",
            "Precision Score:  0.46875\n",
            "Recall Score:  0.46875\n",
            "F1 Score:  0.46875\n"
          ],
          "name": "stdout"
        }
      ]
    },
    {
      "cell_type": "code",
      "metadata": {
        "id": "J2nH4bFQkyUK",
        "colab": {
          "base_uri": "https://localhost:8080/",
          "height": 408
        },
        "outputId": "8eb44406-d4f6-424b-a436-546a183b86f8"
      },
      "source": [
        "cm_model_DT = confusion_matrix(y_test, y_pred_model_DT)\n",
        "\n",
        "df_cm_model_DT = pd.DataFrame(cm_model_DT, range(3), range(3))\n",
        "plt.figure(figsize=(10,6))\n",
        "categories = ['Negative','Neutral','Positive']\n",
        "sns.set(font_scale=1.2) # for label size\n",
        "sns.heatmap(df_cm_model_DT, annot=True, annot_kws={\"size\": 18}, xticklabels = categories,\n",
        "            yticklabels = categories ,fmt=\"d\") # font size\n",
        "plt.ylim(0, 3)\n",
        "plt.show()"
      ],
      "execution_count": 142,
      "outputs": [
        {
          "output_type": "display_data",
          "data": {
            "image/png": "[encoded data removed]",
            "text/plain": [
              "<Figure size 720x432 with 2 Axes>"
            ]
          },
          "metadata": {
            "tags": []
          }
        }
      ]
    },
    {
      "cell_type": "code",
      "metadata": {
        "id": "ngig2X9VkyYE"
      },
      "source": [
        "classifier_RF = RandomForestClassifier()\n",
        "classifier_RF.fit(X_train, y_train)\n",
        "y_pred_RF = classifier_RF.predict(X_test)"
      ],
      "execution_count": 143,
      "outputs": []
    },
    {
      "cell_type": "code",
      "metadata": {
        "id": "63-Ls52Jkyby",
        "colab": {
          "base_uri": "https://localhost:8080/"
        },
        "outputId": "ced0ea21-cae1-403b-8c5a-29692e11eed1"
      },
      "source": [
        "accuracy_score_RF = accuracy_score(y_test, y_pred_RF)\n",
        "precision_score_RF = precision_score(y_test, y_pred_RF , average = 'micro')\n",
        "recall_score_RF = recall_score(y_test, y_pred_RF, average = 'micro')\n",
        "f1_score_RF = f1_score(y_test, y_pred_RF, average = 'micro')\n",
        "print(\"Accuracy Score: \" , accuracy_score_RF)\n",
        "print(\"Precision Score: \" , precision_score_RF)\n",
        "print(\"Recall Score: \" , recall_score_RF)\n",
        "print(\"F1 Score: \" , f1_score_RF)"
      ],
      "execution_count": 144,
      "outputs": [
        {
          "output_type": "stream",
          "text": [
            "Accuracy Score:  0.578125\n",
            "Precision Score:  0.578125\n",
            "Recall Score:  0.578125\n",
            "F1 Score:  0.578125\n"
          ],
          "name": "stdout"
        }
      ]
    },
    {
      "cell_type": "code",
      "metadata": {
        "id": "YHbA5LWNkyfk",
        "colab": {
          "base_uri": "https://localhost:8080/",
          "height": 403
        },
        "outputId": "6271504b-8d9c-4c18-8e0a-ab0e17f4860f"
      },
      "source": [
        "cm_RF = confusion_matrix(y_test, y_pred_RF)\n",
        "\n",
        "df_cm_RF = pd.DataFrame(cm_RF, range(3), range(3))\n",
        "categories = ['Negative','Neutral','Positive']\n",
        "plt.figure(figsize=(10,6))\n",
        "sns.set(font_scale=1.2) # for label size\n",
        "sns.heatmap(df_cm_RF, annot=True, annot_kws={\"size\": 18}, xticklabels = categories,\n",
        "            yticklabels = categories,fmt=\"d\") # font size\n",
        "plt.ylim(0, 3)\n",
        "plt.show()"
      ],
      "execution_count": 145,
      "outputs": [
        {
          "output_type": "display_data",
          "data": {
            "image/png": "[encoded data removed]",
            "text/plain": [
              "<Figure size 720x432 with 2 Axes>"
            ]
          },
          "metadata": {
            "tags": []
          }
        }
      ]
    },
    {
      "cell_type": "code",
      "metadata": {
        "id": "E5BTMRiAkyl9",
        "colab": {
          "base_uri": "https://localhost:8080/"
        },
        "outputId": "9e547bca-ac87-45ef-a3fa-d0797e066996"
      },
      "source": [
        "#Getting the parameters of the particular model \n",
        "classifier_RF.get_params().keys()"
      ],
      "execution_count": 146,
      "outputs": [
        {
          "output_type": "execute_result",
          "data": {
            "text/plain": [
              "dict_keys(['bootstrap', 'ccp_alpha', 'class_weight', 'criterion', 'max_depth', 'max_features', 'max_leaf_nodes', 'max_samples', 'min_impurity_decrease', 'min_impurity_split', 'min_samples_leaf', 'min_samples_split', 'min_weight_fraction_leaf', 'n_estimators', 'n_jobs', 'oob_score', 'random_state', 'verbose', 'warm_start'])"
            ]
          },
          "metadata": {
            "tags": []
          },
          "execution_count": 146
        }
      ]
    },
    {
      "cell_type": "code",
      "metadata": {
        "id": "VBmNF8XVkysq",
        "colab": {
          "base_uri": "https://localhost:8080/"
        },
        "outputId": "963d29a7-d8f3-4b79-e2f8-97e6406bc896"
      },
      "source": [
        "classifier_RF_opti = RandomForestClassifier()\n",
        "param_grid = {\"n_estimators\": np.arange(100,1500,100), #Selecting the parameters\n",
        "               \"max_depth\": np.arange(1,20),\n",
        "               \"criterion\": [\"gini\",\"entropy\"], \n",
        "              }\n",
        "\n",
        "classifier_model_RF = model_selection.RandomizedSearchCV(estimator=classifier_RF_opti, #RandomizedSearch\n",
        "                                    param_distributions=param_grid,\n",
        "                                    n_iter=10,\n",
        "                                    scoring='accuracy',\n",
        "                                    verbose=10,\n",
        "                                    n_jobs=1,\n",
        "                                    cv=5)\n",
        "\n",
        "classifier_model_RF.fit(X_train,y_train)\n",
        "print(classifier_model_RF.best_score_) #Gives the best score of the model\n",
        "print(classifier_model_RF.best_estimator_.get_params()) #Gives the best parameters of the model"
      ],
      "execution_count": 147,
      "outputs": [
        {
          "output_type": "stream",
          "text": [
            "Fitting 5 folds for each of 10 candidates, totalling 50 fits\n",
            "[CV] n_estimators=400, max_depth=12, criterion=gini ..................\n"
          ],
          "name": "stdout"
        },
        {
          "output_type": "stream",
          "text": [
            "[Parallel(n_jobs=1)]: Using backend SequentialBackend with 1 concurrent workers.\n"
          ],
          "name": "stderr"
        },
        {
          "output_type": "stream",
          "text": [
            "[CV]  n_estimators=400, max_depth=12, criterion=gini, score=0.467, total=   0.7s\n",
            "[CV] n_estimators=400, max_depth=12, criterion=gini ..................\n"
          ],
          "name": "stdout"
        },
        {
          "output_type": "stream",
          "text": [
            "[Parallel(n_jobs=1)]: Done   1 out of   1 | elapsed:    0.7s remaining:    0.0s\n"
          ],
          "name": "stderr"
        },
        {
          "output_type": "stream",
          "text": [
            "[CV]  n_estimators=400, max_depth=12, criterion=gini, score=0.600, total=   0.5s\n",
            "[CV] n_estimators=400, max_depth=12, criterion=gini ..................\n"
          ],
          "name": "stdout"
        },
        {
          "output_type": "stream",
          "text": [
            "[Parallel(n_jobs=1)]: Done   2 out of   2 | elapsed:    1.2s remaining:    0.0s\n"
          ],
          "name": "stderr"
        },
        {
          "output_type": "stream",
          "text": [
            "[CV]  n_estimators=400, max_depth=12, criterion=gini, score=0.367, total=   0.7s\n",
            "[CV] n_estimators=400, max_depth=12, criterion=gini ..................\n"
          ],
          "name": "stdout"
        },
        {
          "output_type": "stream",
          "text": [
            "[Parallel(n_jobs=1)]: Done   3 out of   3 | elapsed:    1.9s remaining:    0.0s\n"
          ],
          "name": "stderr"
        },
        {
          "output_type": "stream",
          "text": [
            "[CV]  n_estimators=400, max_depth=12, criterion=gini, score=0.600, total=   0.7s\n",
            "[CV] n_estimators=400, max_depth=12, criterion=gini ..................\n"
          ],
          "name": "stdout"
        },
        {
          "output_type": "stream",
          "text": [
            "[Parallel(n_jobs=1)]: Done   4 out of   4 | elapsed:    2.6s remaining:    0.0s\n"
          ],
          "name": "stderr"
        },
        {
          "output_type": "stream",
          "text": [
            "[CV]  n_estimators=400, max_depth=12, criterion=gini, score=0.276, total=   0.7s\n",
            "[CV] n_estimators=1200, max_depth=9, criterion=entropy ...............\n"
          ],
          "name": "stdout"
        },
        {
          "output_type": "stream",
          "text": [
            "[Parallel(n_jobs=1)]: Done   5 out of   5 | elapsed:    3.3s remaining:    0.0s\n"
          ],
          "name": "stderr"
        },
        {
          "output_type": "stream",
          "text": [
            "[CV]  n_estimators=1200, max_depth=9, criterion=entropy, score=0.467, total=   1.7s\n",
            "[CV] n_estimators=1200, max_depth=9, criterion=entropy ...............\n"
          ],
          "name": "stdout"
        },
        {
          "output_type": "stream",
          "text": [
            "[Parallel(n_jobs=1)]: Done   6 out of   6 | elapsed:    5.0s remaining:    0.0s\n"
          ],
          "name": "stderr"
        },
        {
          "output_type": "stream",
          "text": [
            "[CV]  n_estimators=1200, max_depth=9, criterion=entropy, score=0.567, total=   1.9s\n",
            "[CV] n_estimators=1200, max_depth=9, criterion=entropy ...............\n"
          ],
          "name": "stdout"
        },
        {
          "output_type": "stream",
          "text": [
            "[Parallel(n_jobs=1)]: Done   7 out of   7 | elapsed:    7.0s remaining:    0.0s\n"
          ],
          "name": "stderr"
        },
        {
          "output_type": "stream",
          "text": [
            "[CV]  n_estimators=1200, max_depth=9, criterion=entropy, score=0.333, total=   1.8s\n",
            "[CV] n_estimators=1200, max_depth=9, criterion=entropy ...............\n"
          ],
          "name": "stdout"
        },
        {
          "output_type": "stream",
          "text": [
            "[Parallel(n_jobs=1)]: Done   8 out of   8 | elapsed:    8.8s remaining:    0.0s\n"
          ],
          "name": "stderr"
        },
        {
          "output_type": "stream",
          "text": [
            "[CV]  n_estimators=1200, max_depth=9, criterion=entropy, score=0.600, total=   1.7s\n",
            "[CV] n_estimators=1200, max_depth=9, criterion=entropy ...............\n"
          ],
          "name": "stdout"
        },
        {
          "output_type": "stream",
          "text": [
            "[Parallel(n_jobs=1)]: Done   9 out of   9 | elapsed:   10.5s remaining:    0.0s\n"
          ],
          "name": "stderr"
        },
        {
          "output_type": "stream",
          "text": [
            "[CV]  n_estimators=1200, max_depth=9, criterion=entropy, score=0.276, total=   1.9s\n",
            "[CV] n_estimators=800, max_depth=19, criterion=entropy ...............\n",
            "[CV]  n_estimators=800, max_depth=19, criterion=entropy, score=0.600, total=   1.4s\n",
            "[CV] n_estimators=800, max_depth=19, criterion=entropy ...............\n",
            "[CV]  n_estimators=800, max_depth=19, criterion=entropy, score=0.733, total=   1.4s\n",
            "[CV] n_estimators=800, max_depth=19, criterion=entropy ...............\n",
            "[CV]  n_estimators=800, max_depth=19, criterion=entropy, score=0.433, total=   1.4s\n",
            "[CV] n_estimators=800, max_depth=19, criterion=entropy ...............\n",
            "[CV]  n_estimators=800, max_depth=19, criterion=entropy, score=0.567, total=   1.4s\n",
            "[CV] n_estimators=800, max_depth=19, criterion=entropy ...............\n",
            "[CV]  n_estimators=800, max_depth=19, criterion=entropy, score=0.379, total=   1.3s\n",
            "[CV] n_estimators=900, max_depth=12, criterion=gini ..................\n",
            "[CV]  n_estimators=900, max_depth=12, criterion=gini, score=0.500, total=   1.5s\n",
            "[CV] n_estimators=900, max_depth=12, criterion=gini ..................\n",
            "[CV]  n_estimators=900, max_depth=12, criterion=gini, score=0.633, total=   1.4s\n",
            "[CV] n_estimators=900, max_depth=12, criterion=gini ..................\n",
            "[CV]  n_estimators=900, max_depth=12, criterion=gini, score=0.367, total=   1.4s\n",
            "[CV] n_estimators=900, max_depth=12, criterion=gini ..................\n",
            "[CV]  n_estimators=900, max_depth=12, criterion=gini, score=0.600, total=   1.2s\n",
            "[CV] n_estimators=900, max_depth=12, criterion=gini ..................\n",
            "[CV]  n_estimators=900, max_depth=12, criterion=gini, score=0.310, total=   1.2s\n",
            "[CV] n_estimators=300, max_depth=12, criterion=gini ..................\n",
            "[CV]  n_estimators=300, max_depth=12, criterion=gini, score=0.500, total=   0.5s\n",
            "[CV] n_estimators=300, max_depth=12, criterion=gini ..................\n",
            "[CV]  n_estimators=300, max_depth=12, criterion=gini, score=0.600, total=   0.5s\n",
            "[CV] n_estimators=300, max_depth=12, criterion=gini ..................\n",
            "[CV]  n_estimators=300, max_depth=12, criterion=gini, score=0.400, total=   0.5s\n",
            "[CV] n_estimators=300, max_depth=12, criterion=gini ..................\n",
            "[CV]  n_estimators=300, max_depth=12, criterion=gini, score=0.567, total=   0.5s\n",
            "[CV] n_estimators=300, max_depth=12, criterion=gini ..................\n",
            "[CV]  n_estimators=300, max_depth=12, criterion=gini, score=0.276, total=   0.5s\n",
            "[CV] n_estimators=100, max_depth=6, criterion=entropy ................\n",
            "[CV]  n_estimators=100, max_depth=6, criterion=entropy, score=0.467, total=   0.2s\n",
            "[CV] n_estimators=100, max_depth=6, criterion=entropy ................\n",
            "[CV]  n_estimators=100, max_depth=6, criterion=entropy, score=0.533, total=   0.2s\n",
            "[CV] n_estimators=100, max_depth=6, criterion=entropy ................\n",
            "[CV]  n_estimators=100, max_depth=6, criterion=entropy, score=0.433, total=   0.2s\n",
            "[CV] n_estimators=100, max_depth=6, criterion=entropy ................\n",
            "[CV]  n_estimators=100, max_depth=6, criterion=entropy, score=0.500, total=   0.2s\n",
            "[CV] n_estimators=100, max_depth=6, criterion=entropy ................\n",
            "[CV]  n_estimators=100, max_depth=6, criterion=entropy, score=0.345, total=   0.2s\n",
            "[CV] n_estimators=1100, max_depth=8, criterion=entropy ...............\n",
            "[CV]  n_estimators=1100, max_depth=8, criterion=entropy, score=0.467, total=   1.6s\n",
            "[CV] n_estimators=1100, max_depth=8, criterion=entropy ...............\n",
            "[CV]  n_estimators=1100, max_depth=8, criterion=entropy, score=0.567, total=   1.7s\n",
            "[CV] n_estimators=1100, max_depth=8, criterion=entropy ...............\n",
            "[CV]  n_estimators=1100, max_depth=8, criterion=entropy, score=0.333, total=   1.6s\n",
            "[CV] n_estimators=1100, max_depth=8, criterion=entropy ...............\n",
            "[CV]  n_estimators=1100, max_depth=8, criterion=entropy, score=0.600, total=   1.8s\n",
            "[CV] n_estimators=1100, max_depth=8, criterion=entropy ...............\n",
            "[CV]  n_estimators=1100, max_depth=8, criterion=entropy, score=0.310, total=   1.6s\n",
            "[CV] n_estimators=1000, max_depth=2, criterion=gini ..................\n",
            "[CV]  n_estimators=1000, max_depth=2, criterion=gini, score=0.467, total=   1.4s\n",
            "[CV] n_estimators=1000, max_depth=2, criterion=gini ..................\n",
            "[CV]  n_estimators=1000, max_depth=2, criterion=gini, score=0.467, total=   1.2s\n",
            "[CV] n_estimators=1000, max_depth=2, criterion=gini ..................\n",
            "[CV]  n_estimators=1000, max_depth=2, criterion=gini, score=0.467, total=   1.4s\n",
            "[CV] n_estimators=1000, max_depth=2, criterion=gini ..................\n",
            "[CV]  n_estimators=1000, max_depth=2, criterion=gini, score=0.467, total=   1.4s\n",
            "[CV] n_estimators=1000, max_depth=2, criterion=gini ..................\n",
            "[CV]  n_estimators=1000, max_depth=2, criterion=gini, score=0.483, total=   1.5s\n",
            "[CV] n_estimators=1000, max_depth=1, criterion=gini ..................\n",
            "[CV]  n_estimators=1000, max_depth=1, criterion=gini, score=0.467, total=   1.4s\n",
            "[CV] n_estimators=1000, max_depth=1, criterion=gini ..................\n",
            "[CV]  n_estimators=1000, max_depth=1, criterion=gini, score=0.467, total=   1.1s\n",
            "[CV] n_estimators=1000, max_depth=1, criterion=gini ..................\n",
            "[CV]  n_estimators=1000, max_depth=1, criterion=gini, score=0.467, total=   1.4s\n",
            "[CV] n_estimators=1000, max_depth=1, criterion=gini ..................\n",
            "[CV]  n_estimators=1000, max_depth=1, criterion=gini, score=0.467, total=   1.5s\n",
            "[CV] n_estimators=1000, max_depth=1, criterion=gini ..................\n",
            "[CV]  n_estimators=1000, max_depth=1, criterion=gini, score=0.483, total=   1.4s\n",
            "[CV] n_estimators=900, max_depth=2, criterion=gini ...................\n",
            "[CV]  n_estimators=900, max_depth=2, criterion=gini, score=0.467, total=   1.3s\n",
            "[CV] n_estimators=900, max_depth=2, criterion=gini ...................\n",
            "[CV]  n_estimators=900, max_depth=2, criterion=gini, score=0.467, total=   1.1s\n",
            "[CV] n_estimators=900, max_depth=2, criterion=gini ...................\n",
            "[CV]  n_estimators=900, max_depth=2, criterion=gini, score=0.467, total=   1.3s\n",
            "[CV] n_estimators=900, max_depth=2, criterion=gini ...................\n",
            "[CV]  n_estimators=900, max_depth=2, criterion=gini, score=0.467, total=   1.0s\n",
            "[CV] n_estimators=900, max_depth=2, criterion=gini ...................\n",
            "[CV]  n_estimators=900, max_depth=2, criterion=gini, score=0.483, total=   1.3s\n"
          ],
          "name": "stdout"
        },
        {
          "output_type": "stream",
          "text": [
            "[Parallel(n_jobs=1)]: Done  50 out of  50 | elapsed:   57.4s finished\n"
          ],
          "name": "stderr"
        },
        {
          "output_type": "stream",
          "text": [
            "0.5425287356321838\n",
            "{'bootstrap': True, 'ccp_alpha': 0.0, 'class_weight': None, 'criterion': 'entropy', 'max_depth': 19, 'max_features': 'auto', 'max_leaf_nodes': None, 'max_samples': None, 'min_impurity_decrease': 0.0, 'min_impurity_split': None, 'min_samples_leaf': 1, 'min_samples_split': 2, 'min_weight_fraction_leaf': 0.0, 'n_estimators': 800, 'n_jobs': None, 'oob_score': False, 'random_state': None, 'verbose': 0, 'warm_start': False}\n"
          ],
          "name": "stdout"
        }
      ]
    },
    {
      "cell_type": "code",
      "metadata": {
        "id": "_HMg7RGQkyw9",
        "colab": {
          "base_uri": "https://localhost:8080/"
        },
        "outputId": "45584a79-40db-4caf-f22f-c0974d23f925"
      },
      "source": [
        "y_pred_model_RF = classifier_model_RF.predict(X_test)\n",
        "\n",
        "accuracy_score_model_RF = accuracy_score(y_test, y_pred_model_RF)\n",
        "precision_score_model_RF = precision_score(y_test, y_pred_model_RF , average = 'micro')\n",
        "recall_score_model_RF = recall_score(y_test, y_pred_model_RF , average = 'micro')\n",
        "f1_score_model_RF = f1_score(y_test, y_pred_model_RF , average = 'micro')\n",
        "print(\"Accuracy Score: \" , accuracy_score_model_RF)\n",
        "print(\"Precision Score: \" , precision_score_model_RF)\n",
        "print(\"Recall Score: \" , recall_score_model_RF)\n",
        "print(\"F1 Score: \" , f1_score_model_RF)"
      ],
      "execution_count": 148,
      "outputs": [
        {
          "output_type": "stream",
          "text": [
            "Accuracy Score:  0.578125\n",
            "Precision Score:  0.578125\n",
            "Recall Score:  0.578125\n",
            "F1 Score:  0.578125\n"
          ],
          "name": "stdout"
        }
      ]
    },
    {
      "cell_type": "code",
      "metadata": {
        "id": "Jv8KNIbcky7X",
        "colab": {
          "base_uri": "https://localhost:8080/",
          "height": 403
        },
        "outputId": "0d8e24e7-cf87-44a0-c4c8-d871899cd92d"
      },
      "source": [
        "cm_model_RF = confusion_matrix(y_test, y_pred_model_RF)\n",
        "\n",
        "df_cm_model_RF = pd.DataFrame(cm_model_RF, range(3), range(3))\n",
        "plt.figure(figsize=(10,6))\n",
        "categories = ['Negative','Neutral','Positive']\n",
        "sns.set(font_scale=1.2) # for label size\n",
        "sns.heatmap(df_cm_model_RF, annot=True, annot_kws={\"size\": 18}, xticklabels = categories,\n",
        "            yticklabels = categories ,fmt=\"d\") # font size\n",
        "plt.ylim(0, 3)\n",
        "plt.show()"
      ],
      "execution_count": 149,
      "outputs": [
        {
          "output_type": "display_data",
          "data": {
            "image/png": "[encoded data removed]",
            "text/plain": [
              "<Figure size 720x432 with 2 Axes>"
            ]
          },
          "metadata": {
            "tags": []
          }
        }
      ]
    },
    {
      "cell_type": "code",
      "metadata": {
        "id": "DQyX1mAPky_I",
        "colab": {
          "base_uri": "https://localhost:8080/"
        },
        "outputId": "2f13752c-8980-4df0-dfcc-f9047628825f"
      },
      "source": [
        "classifier_NB = MultinomialNB()\n",
        "classifier_NB.fit(X_train, y_train)\n",
        "y_pred_NB = classifier_NB.predict(X_test)\n",
        "\n",
        "accuracy_score_NB = accuracy_score(y_test, y_pred_NB)\n",
        "precision_score_NB = precision_score(y_test, y_pred_NB , average = 'micro')\n",
        "recall_score_NB = recall_score(y_test, y_pred_NB, average = 'micro')\n",
        "f1_score_NB = f1_score(y_test, y_pred_NB, average = 'micro')\n",
        "print(\"Accuracy Score: \" , accuracy_score_NB)\n",
        "print(\"Precision Score: \" , precision_score_NB)\n",
        "print(\"Recall Score: \" , recall_score_NB)\n",
        "print(\"F1 Score: \" , f1_score_NB)"
      ],
      "execution_count": 150,
      "outputs": [
        {
          "output_type": "stream",
          "text": [
            "Accuracy Score:  0.515625\n",
            "Precision Score:  0.515625\n",
            "Recall Score:  0.515625\n",
            "F1 Score:  0.515625\n"
          ],
          "name": "stdout"
        }
      ]
    },
    {
      "cell_type": "code",
      "metadata": {
        "id": "9tg9p6S-kzDm",
        "colab": {
          "base_uri": "https://localhost:8080/",
          "height": 408
        },
        "outputId": "c9280dfd-bcaa-4259-ec72-6362bc2ba7b7"
      },
      "source": [
        "cm_NB = confusion_matrix(y_test, y_pred_NB)\n",
        "\n",
        "df_cm_NB = pd.DataFrame(cm_NB, range(3), range(3))\n",
        "plt.figure(figsize=(10,6))\n",
        "categories = ['Negative','Neutral','Positive']\n",
        "sns.set(font_scale=1.2) # for label size\n",
        "sns.heatmap(df_cm_NB, annot=True, annot_kws={\"size\": 18}, xticklabels = categories,\n",
        "            yticklabels = categories,fmt=\"d\") # font size\n",
        "plt.ylim(0, 3)\n",
        "plt.show()"
      ],
      "execution_count": 151,
      "outputs": [
        {
          "output_type": "display_data",
          "data": {
            "image/png": "[encoded data removed]",
            "text/plain": [
              "<Figure size 720x432 with 2 Axes>"
            ]
          },
          "metadata": {
            "tags": []
          }
        }
      ]
    },
    {
      "cell_type": "code",
      "metadata": {
        "id": "BTe09ktPkzKE",
        "colab": {
          "base_uri": "https://localhost:8080/"
        },
        "outputId": "e989af94-5675-433f-c19f-9281acc3d7bc"
      },
      "source": [
        "#Getting the parameters of the particular model \n",
        "classifier_NB.get_params().keys()"
      ],
      "execution_count": 152,
      "outputs": [
        {
          "output_type": "execute_result",
          "data": {
            "text/plain": [
              "dict_keys(['alpha', 'class_prior', 'fit_prior'])"
            ]
          },
          "metadata": {
            "tags": []
          },
          "execution_count": 152
        }
      ]
    },
    {
      "cell_type": "code",
      "metadata": {
        "id": "NrTKsiC6kzOQ",
        "colab": {
          "base_uri": "https://localhost:8080/"
        },
        "outputId": "3dc8b922-472e-405b-e573-f450644578fe"
      },
      "source": [
        "classifier_NB_opti = MultinomialNB() #Using the MultinomialNB\n",
        "param_grid = {'alpha':[1,2,3,4], } #Selecting the parameters\n",
        "\n",
        "classifier_model_NB = model_selection.GridSearchCV(estimator=classifier_NB_opti, #GridSearch\n",
        "                                    param_grid=param_grid,\n",
        "                                        cv=10)\n",
        "classifier_model_NB.fit(X_train,y_train)\n",
        "print(classifier_model_NB.best_score_) #Gives the best score of the model\n",
        "print(classifier_model_NB.best_estimator_.get_params()) #Gives the best parameters of the model"
      ],
      "execution_count": 153,
      "outputs": [
        {
          "output_type": "stream",
          "text": [
            "0.5628571428571428\n",
            "{'alpha': 1, 'class_prior': None, 'fit_prior': True}\n"
          ],
          "name": "stdout"
        }
      ]
    },
    {
      "cell_type": "code",
      "metadata": {
        "id": "2ypJAX2PkzR_",
        "colab": {
          "base_uri": "https://localhost:8080/"
        },
        "outputId": "af0b9984-5bd8-40c4-f152-ce700fda6bc3"
      },
      "source": [
        "y_pred_model_NB = classifier_model_NB.predict(X_test)\n",
        "\n",
        "accuracy_score_model_NB = accuracy_score(y_test, y_pred_model_NB)\n",
        "precision_score_model_NB = precision_score(y_test, y_pred_model_NB , average = 'micro')\n",
        "recall_score_model_NB = recall_score(y_test, y_pred_model_NB , average = 'micro')\n",
        "f1_score_model_NB = f1_score(y_test, y_pred_model_NB, average = 'micro')\n",
        "print(\"Accuracy Score: \" , accuracy_score_model_NB)\n",
        "print(\"Precision Score: \" , precision_score_model_NB)\n",
        "print(\"Recall Score: \" , recall_score_model_NB)\n",
        "print(\"F1 Score: \" , f1_score_model_NB)"
      ],
      "execution_count": 154,
      "outputs": [
        {
          "output_type": "stream",
          "text": [
            "Accuracy Score:  0.515625\n",
            "Precision Score:  0.515625\n",
            "Recall Score:  0.515625\n",
            "F1 Score:  0.515625\n"
          ],
          "name": "stdout"
        }
      ]
    },
    {
      "cell_type": "code",
      "metadata": {
        "id": "ZBBcB7kVkzVo",
        "colab": {
          "base_uri": "https://localhost:8080/",
          "height": 408
        },
        "outputId": "d4310f37-e562-443e-f69f-022bc8cf6feb"
      },
      "source": [
        "cm_model_NB = confusion_matrix(y_test, y_pred_model_NB)\n",
        "\n",
        "df_cm_model_NB = pd.DataFrame(cm_model_NB, range(3), range(3))\n",
        "plt.figure(figsize=(10,6))\n",
        "categories = ['Negative','Neutral','Positive']\n",
        "sns.set(font_scale=1.2) # for label size\n",
        "sns.heatmap(df_cm_model_NB, annot=True, annot_kws={\"size\": 18}, xticklabels = categories,\n",
        "            yticklabels = categories ,fmt=\"d\") # font size\n",
        "plt.ylim(0, 3)\n",
        "plt.show()"
      ],
      "execution_count": 155,
      "outputs": [
        {
          "output_type": "display_data",
          "data": {
            "image/png": "[encoded data removed]",
            "text/plain": [
              "<Figure size 720x432 with 2 Axes>"
            ]
          },
          "metadata": {
            "tags": []
          }
        }
      ]
    },
    {
      "cell_type": "code",
      "metadata": {
        "id": "LI2iJixRkzZc",
        "colab": {
          "base_uri": "https://localhost:8080/",
          "height": 317
        },
        "outputId": "20aab6cb-983f-48c9-cfeb-16aea8ec759f"
      },
      "source": [
        "Accuracy = [accuracy_score_RF, accuracy_score_DT, accuracy_score_model_NB]\n",
        "Methods = ['Random_Forest', 'Decision_Trees', 'Naive_Bayes']\n",
        "Accuracy_pos = np.arange(len(Methods))\n",
        "plt.bar(Accuracy_pos, Accuracy)\n",
        "plt.xticks(Accuracy_pos, Methods)\n",
        "plt.title('Comparing Accuracy Score')\n",
        "plt.show()"
      ],
      "execution_count": 156,
      "outputs": [
        {
          "output_type": "display_data",
          "data": {
            "image/png": "[encoded data removed]",
            "text/plain": [
              "<Figure size 1080x360 with 1 Axes>"
            ]
          },
          "metadata": {
            "tags": []
          }
        }
      ]
    },
    {
      "cell_type": "code",
      "metadata": {
        "id": "M1bdj4N1kzkQ",
        "colab": {
          "base_uri": "https://localhost:8080/",
          "height": 317
        },
        "outputId": "f8378339-dd45-4b73-fcb0-4c0ba664c342"
      },
      "source": [
        "Precision = [precision_score_RF, precision_score_DT, precision_score_model_NB]\n",
        "Methods = ['Random_Forest', 'Decision_Trees', 'Naive_Bayes']\n",
        "Precision_pos = np.arange(len(Methods))\n",
        "plt.bar(Precision_pos, Precision)\n",
        "plt.xticks(Precision_pos, Methods)\n",
        "plt.title('Comparing Precision Score')\n",
        "plt.show()"
      ],
      "execution_count": 157,
      "outputs": [
        {
          "output_type": "display_data",
          "data": {
            "image/png": "[encoded data removed]",
            "text/plain": [
              "<Figure size 1080x360 with 1 Axes>"
            ]
          },
          "metadata": {
            "tags": []
          }
        }
      ]
    },
    {
      "cell_type": "code",
      "metadata": {
        "id": "PSP5LN84kzec",
        "colab": {
          "base_uri": "https://localhost:8080/",
          "height": 317
        },
        "outputId": "1a5ec340-cc76-480d-f6a1-a4a0b0654d94"
      },
      "source": [
        "Recall = [recall_score_RF, recall_score_DT, recall_score_model_NB]\n",
        "Methods = ['Random_Forest', 'Decision_Trees', 'Naive_Bayes']\n",
        "Recall_pos = np.arange(len(Methods))\n",
        "plt.bar(Recall_pos, Recall)\n",
        "plt.xticks(Recall_pos, Methods)\n",
        "plt.title('Comparing Recall Score')\n",
        "plt.show()"
      ],
      "execution_count": 158,
      "outputs": [
        {
          "output_type": "display_data",
          "data": {
            "image/png": "[encoded data removed]",
            "text/plain": [
              "<Figure size 1080x360 with 1 Axes>"
            ]
          },
          "metadata": {
            "tags": []
          }
        }
      ]
    },
    {
      "cell_type": "code",
      "metadata": {
        "id": "PFp_117WkzHO",
        "colab": {
          "base_uri": "https://localhost:8080/",
          "height": 317
        },
        "outputId": "101e2004-d864-4c19-dd82-8808b0f31872"
      },
      "source": [
        "\n",
        "F1 = [f1_score_RF,f1_score_DT,f1_score_model_NB]\n",
        "Methods = ['Random_Forest', 'Decision_Trees', 'Naive_Bayes']\n",
        "F1_pos = np.arange(len(Methods))\n",
        "plt.bar(F1_pos, F1)\n",
        "plt.xticks(F1_pos, Methods)\n",
        "plt.title('Comparing F1 Score')\n",
        "plt.show()"
      ],
      "execution_count": 159,
      "outputs": [
        {
          "output_type": "display_data",
          "data": {
            "image/png": "[encoded data removed]",
            "text/plain": [
              "<Figure size 1080x360 with 1 Axes>"
            ]
          },
          "metadata": {
            "tags": []
          }
        }
      ]
    }
  ]
}