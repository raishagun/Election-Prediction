{
  "nbformat": 4,
  "nbformat_minor": 0,
  "metadata": {
    "colab": {
      "name": "Welcome To Colaboratory",
      "provenance": [],
      "collapsed_sections": [],
      "toc_visible": true,
      "include_colab_link": true
    },
    "kernelspec": {
      "display_name": "Python 3",
      "name": "python3"
    }
  },
  "cells": [
    {
      "cell_type": "markdown",
      "metadata": {
        "id": "view-in-github",
        "colab_type": "text"
      },
      "source": [
        "<a href=\"https://colab.research.google.com/github/raishagun/Election-Prediction/blob/master/StatewisePolitics/Bengal/trinamoolBengal.ipynb\" target=\"_parent\"><img src=\"https://colab.research.google.com/assets/colab-badge.svg\" alt=\"Open In Colab\"/></a>"
      ]
    },
    {
      "cell_type": "code",
      "metadata": {
        "id": "kVfRDc2GgRqk",
        "colab": {
          "base_uri": "https://localhost:8080/"
        },
        "outputId": "c63aef33-d522-4528-ad2e-901648ea8f3d"
      },
      "source": [
        "!git clone https://github.com/raishagun/Election-Prediction.git"
      ],
      "execution_count": 1,
      "outputs": [
        {
          "output_type": "stream",
          "text": [
            "Cloning into 'Election-Prediction'...\n",
            "remote: Enumerating objects: 37, done.\u001b[K\n",
            "remote: Counting objects: 100% (37/37), done.\u001b[K\n",
            "remote: Compressing objects: 100% (36/36), done.\u001b[K\n",
            "remote: Total 452 (delta 12), reused 0 (delta 0), pack-reused 415\u001b[K\n",
            "Receiving objects: 100% (452/452), 21.38 MiB | 35.66 MiB/s, done.\n",
            "Resolving deltas: 100% (179/179), done.\n"
          ],
          "name": "stdout"
        }
      ]
    },
    {
      "cell_type": "code",
      "metadata": {
        "id": "MrUePyosg9GN",
        "colab": {
          "base_uri": "https://localhost:8080/"
        },
        "outputId": "5bb2e021-89df-4e4d-b8ba-8a8727ae3ac2"
      },
      "source": [
        "import tweepy \n",
        "import pandas as pd\n",
        "from tweepy import OAuthHandler\n",
        "\n",
        "\n",
        "access_token=\"1289037463684489217-5PddOsmU9h5deRwOhdigvhg32FEgID\"\n",
        "access_token_secret=\"cAPevFduWkiNP3juu8WGAwZm69vgv8C4s8RPz0WE8MJFK\"\n",
        "\n",
        "consumer_key=\"DLhoHkK6uOGz3Ni9ybuoruiLm\"\n",
        "consumer_secret=\"jKyrDR68msnbmgZMNNJdSJwadGoed11imKV1jdlNYNczL9HvEk\"\n",
        "\n",
        "auth = tweepy.OAuthHandler(consumer_key, consumer_secret)  # authentication of access token and secret \n",
        "auth.set_access_token(access_token, access_token_secret) \n",
        "api = tweepy.API(auth,wait_on_rate_limit = True)\n",
        "\n",
        "\n",
        "date1 = \"2020-11-01\"  #Date from which you need to extract tweets\n",
        "date2 = \"2020-11-22\"  #Date till when you need to extract tweets\n",
        "\n",
        "date =[]\n",
        "user_id = []\n",
        "verified = []\n",
        "text = []\n",
        "user = []\n",
        "location = []\n",
        "source = []\n",
        "likes = []\n",
        "followers = []\n",
        "following = []\n",
        "retweets = []\n",
        "\n",
        "def get_tweets(date1,date2,word):\n",
        "    count = 0\n",
        "    for tweet in tweepy.Cursor(api.search , q=word,count =1000,lang=\"en\",since_id = date1,until = date2,tweet_mode = 'extended').items():\n",
        "        print(tweet.created_at)  #Date at which it was tweet\n",
        "        date.append(tweet.created_at)\n",
        "        print(tweet.id)          #Unique ID of tweet\n",
        "        user_id.append(tweet.id)\n",
        "        print(tweet.user.verified)   #If user who tweet is verified or not\n",
        "        verified.append(tweet.user.verified)\n",
        "        print(tweet.full_text)   #To get full text of the tweet\n",
        "        text.append(tweet.full_text)\n",
        "        print(tweet.user.screen_name)  #User screen name\n",
        "        user.append(tweet.user.screen_name)\n",
        "        print(tweet.user.location)     #Location from where the tweet came\n",
        "        location.append(tweet.user.location)\n",
        "        print(tweet.source)            #Which twitter application was used to tweet\n",
        "        source.append(tweet.source)\n",
        "        print(tweet.favorite_count)     #Number of likes on the tweet\n",
        "        likes.append(tweet.favorite_count)\n",
        "        print(tweet.user.followers_count)    #Number of followers of the user\n",
        "        followers.append(tweet.user.followers_count)\n",
        "        print(tweet.user.friends_count)      #Number of following by the user\n",
        "        following.append(tweet.user.friends_count)\n",
        "        print(tweet.retweet_count)               #Number of the retweets of the original tweet\n",
        "        retweets.append(tweet.retweet_count)\n",
        "    \n",
        "        print('<--------------------------------------------------->')\n",
        "        count+=1\n",
        "        print(count)\n",
        "    \n",
        "get_tweets(date1,date2,\"trinamool bengal\"+\" -filter:retweets\") #Filtering out retweets to avoid duplication\n",
        "\n",
        "data = list(zip(date,user_id,verified,text,user,location,source,likes,followers,following,retweets))\n",
        "df = pd.DataFrame(data =data, columns =[\"Date\",\"Tweet_id\",\"Verified\",\"Tweet\",\n",
        "                                   \"User\",\"Location\",\"Source\",\"Likes\",\"Followers\",\"Following\",\"Retweets\"])\n",
        "\n",
        "           \n",
        "df.to_csv('trinamool_bengal.csv',index = False)"
      ],
      "execution_count": 3,
      "outputs": [
        {
          "output_type": "stream",
          "text": [
            "2020-11-21 20:01:36\n",
            "1330239963737231366\n",
            "False\n",
            "@manickamtagore Congress Calling Trinamool Congress Is B Team Of BJP And Even Left Which Was Your Alliance Partner Now In Bengal\n",
            "\n",
            "Just See The Date Sir\n",
            "\n",
            "BJP Didn't Not Get Deposits In 2011🤣🤣\n",
            "\n",
            "But Ur Leaders Called B Team Of BJP https://t.co/Xz2TkY9aAo\n",
            "KumarReddy272\n",
            "India\n",
            "Twitter for Android\n",
            "1\n",
            "21\n",
            "133\n",
            "0\n",
            "<--------------------------------------------------->\n",
            "1\n",
            "2020-11-21 19:03:30\n",
            "1330225341340798983\n",
            "True\n",
            "On Saturday BJP’s State President Dilip Ghosh in a Press Conference said not only central leaders &amp; new leaders sent by BJP in Bengal are outsider but also Trinamool has had many outsiders ,he named Ex-MP K.D. Singh &amp; Ahamed Hassan(Imran).I have sent a PRESS Release to the Media- https://t.co/bNkv0cCmcr\n",
            "AhamedHassanMP\n",
            "Kolkata, India\n",
            "Twitter for iPhone\n",
            "53\n",
            "770\n",
            "138\n",
            "12\n",
            "<--------------------------------------------------->\n",
            "2\n",
            "2020-11-21 18:24:42\n",
            "1330215578234216449\n",
            "False\n",
            "At least five Trinamool Congress MPs in West Bengal including Saugata Roy and Suvendu Adhikari may resign from Mamata Banerjee led Trinamool Congress party any moment, Bharatiya Janata Party MP Arjun Singh said today.\n",
            "DeshGujarat\n",
            "Gujarat, India\n",
            "TweetDeck\n",
            "50\n",
            "437695\n",
            "191\n",
            "6\n",
            "<--------------------------------------------------->\n",
            "3\n",
            "2020-11-21 18:08:53\n",
            "1330211595717373952\n",
            "False\n",
            "The TMC and the BJP are the culprits for the dirty politics of West Bengal at the moment. I posted the following for Trinamool and BJP. It is not my goal to hurt anyone's religious sentiments.The person who wrote this article is certainly to be commended. https://t.co/W24DXhr3RO\n",
            "DrDIPANKARROY3\n",
            "\n",
            "Twitter for Android\n",
            "0\n",
            "19\n",
            "178\n",
            "0\n",
            "<--------------------------------------------------->\n",
            "4\n",
            "2020-11-21 16:05:51\n",
            "1330180633054867459\n",
            "False\n",
            "Janata Janardan is everything in a democracy.  Mamta Didi's real face has been revealed to the public of West Bengal.  The public is troubled by the Trinamool government.  The winds are now blowing towards the BJP.\n",
            "#कमल_खिलेगा_बंगाल_में\n",
            "#कमल_खिलेगा_बंगाल_में https://t.co/7BjOHWNGJY\n",
            "aprichitrahul\n",
            "Bundelkhand Uttar Pradesh \n",
            "Twitter for Android\n",
            "3\n",
            "3364\n",
            "3016\n",
            "0\n",
            "<--------------------------------------------------->\n",
            "5\n",
            "2020-11-21 16:02:57\n",
            "1330179903736700932\n",
            "False\n",
            "Trinamool : BJP bringing Outsiders to Bengal.              Trinamool campaign run by PK  who is not from Bengal, Bengal bureaucracy 19 out of 25 are not from Bengal , 70 % of Khaki officers are not from Bengal.\n",
            "Satyanewshi\n",
            "Hobart , 🇦🇺\n",
            "Twitter Web App\n",
            "1213\n",
            "14204\n",
            "260\n",
            "301\n",
            "<--------------------------------------------------->\n",
            "6\n",
            "2020-11-21 15:58:20\n",
            "1330178743852265480\n",
            "False\n",
            "Janata Janardan is everything in a democracy.  Mamta Didi's real face has been revealed to the public of West Bengal.  The public is troubled by the Trinamool government.  The winds are now blowing towards the BJP.\n",
            "#कमल_खिलेगा_बंगाल_में https://t.co/PhK3ljxCKI\n",
            "Raj20444072\n",
            "काशी \n",
            "Twitter for Android\n",
            "19\n",
            "880\n",
            "1466\n",
            "9\n",
            "<--------------------------------------------------->\n",
            "7\n",
            "2020-11-21 13:05:43\n",
            "1330135302065754124\n",
            "False\n",
            "@chandrachurg Truth is while Netaji was a Bengali , no political leader from Bengal whether Congress or Communists ever tried to promote Netaji as the ideological fountainhead but instead revered every opposer of Netaji . Now Trinamool is showing some courage but it needs to become ideological\n",
            "sid_deshmuk\n",
            "\n",
            "Twitter for Android\n",
            "0\n",
            "49\n",
            "128\n",
            "0\n",
            "<--------------------------------------------------->\n",
            "8\n",
            "2020-11-21 12:39:28\n",
            "1330128696808714241\n",
            "False\n",
            "@Pmo @narendramodi we want Sonar Bangla. Literally frustrated with these 32 years left front &amp; 9 Years Trinamool Government in West Bengal. People want immediate change. We belive BJP can only make the change in true sense. @AmitShah @jdhankhar1 @MamataOfficial @itspcofficial\n",
            "Bhaskar88804426\n",
            "Omnipresent\n",
            "Twitter Web App\n",
            "1\n",
            "20\n",
            "23\n",
            "0\n",
            "<--------------------------------------------------->\n",
            "9\n",
            "2020-11-21 11:21:49\n",
            "1330109155009507331\n",
            "True\n",
            "Imitation is the best form of flattery.😊\n",
            "\n",
            "Trinamool’s new series of fact-filled Press Conferences getting major traction all this while. Issues range from good governance, development to understanding Bengal. So ‘they’ too started a 3pm presser from Fri. Good. Imitation is...😊 https://t.co/re9EPKz1IK\n",
            "derekobrienmp\n",
            "Kolkata, India\n",
            "Twitter Media Studio\n",
            "288\n",
            "1228446\n",
            "682\n",
            "73\n",
            "<--------------------------------------------------->\n",
            "10\n",
            "2020-11-21 08:21:26\n",
            "1330063759646330880\n",
            "True\n",
            "Amid speculation has claimed that Trinamool Congress’s Saugata Roy is likely to resign from the party with four other MPs\n",
            "https://t.co/WGtp0S4mW8\n",
            "IndiaToday\n",
            "India\n",
            "Twitter Web App\n",
            "35\n",
            "5419946\n",
            "245\n",
            "8\n",
            "<--------------------------------------------------->\n",
            "11\n",
            "2020-11-21 06:14:58\n",
            "1330031932021813250\n",
            "True\n",
            "The #TrinamoolCongress on Friday alleged that “outsiders are running riot in West Bengal” as the BJP has brought in several leaders from other States and assigned responsibilities to various zones in the State. \n",
            "https://t.co/jwFFbQ7Vc5\n",
            "THKolkata\n",
            "Kolkata\n",
            "TweetDeck\n",
            "1\n",
            "7684\n",
            "68\n",
            "0\n",
            "<--------------------------------------------------->\n",
            "12\n",
            "2020-11-21 05:16:20\n",
            "1330017179396235264\n",
            "False\n",
            "@karthikck31 @Forestz_1 @TheHariprasad @Abhina_Prakash Similar in West Bengal 🤠\n",
            "Before 2011 the most of the Right voted for Trinamool or Congress to throw out left from the government.\n",
            "RealManasBose\n",
            "Bharat\n",
            "Twitter for Android\n",
            "0\n",
            "141\n",
            "247\n",
            "0\n",
            "<--------------------------------------------------->\n",
            "13\n",
            "2020-11-21 05:07:11\n",
            "1330014874999476227\n",
            "False\n",
            "@sonaliranade He is very correct , Trinamool is creating ground for bjp, Bengal is not up , on the ground situation is different.\n",
            "frank_donk\n",
            "earth\n",
            "Twitter for Android\n",
            "0\n",
            "1689\n",
            "334\n",
            "0\n",
            "<--------------------------------------------------->\n",
            "14\n",
            "2020-11-21 04:50:28\n",
            "1330010669320609797\n",
            "False\n",
            "Minister Babul Supriyo warned that the Trinamool Congress should mend its way &amp; desist from \"intimidating voters\", otherwise there are provisions in the Constitution to take care of such things.\n",
            "\n",
            "He alleged that more than 130 BJP workers have been killed in West Bengal.\n",
            "vijaythakurx\n",
            "GREATER NOIDA\n",
            "Twitter Web App\n",
            "0\n",
            "498\n",
            "664\n",
            "0\n",
            "<--------------------------------------------------->\n",
            "15\n",
            "2020-11-21 03:32:25\n",
            "1329991026933723136\n",
            "False\n",
            "To defeat BJP, it is necessary to defeat Trinamool: Yechury  https://t.co/BSR30lFrPF \n",
            "\n",
            "There goes opposition unity in West Bengal.\n",
            "sonaliranade\n",
            "Seattle\n",
            "Twitter Web App\n",
            "87\n",
            "73724\n",
            "1144\n",
            "15\n",
            "<--------------------------------------------------->\n",
            "16\n",
            "2020-11-21 03:22:30\n",
            "1329988531410747392\n",
            "False\n",
            "@derekobrienmp Trinamool &amp; Good governance! My foot. Political murders, corruption law &amp; order less state. U have destroyed Bengal\n",
            "KaalaChaashma\n",
            "\n",
            "Twitter for Android\n",
            "0\n",
            "181\n",
            "1245\n",
            "0\n",
            "<--------------------------------------------------->\n",
            "17\n",
            "2020-11-21 03:15:31\n",
            "1329986774857289730\n",
            "True\n",
            "Mon-Sat  a 30min press conference daily 3pm from Trinamool Bhavan’s new Media Centre. Good governance has been theme all week:women, health, understanding Bengal’s ethos, peace &amp; development. All this while ‘they’ spew hate, divisiveness, Fake News &amp; fake narratives pre election\n",
            "derekobrienmp\n",
            "Kolkata, India\n",
            "Twitter for iPhone\n",
            "140\n",
            "1228446\n",
            "682\n",
            "27\n",
            "<--------------------------------------------------->\n",
            "18\n",
            "2020-11-21 02:59:59\n",
            "1329982864297902082\n",
            "False\n",
            "@Bharatwashi3 @nusratchirps @amitmalviya @narendramodi @DrAmitMitra @Trinamool Let #actofGod. Minister @nsitharaman confirm how much she allocated funds to West Bengal\n",
            "How much actually disbursement done??\n",
            "DebkanchanMit\n",
            "\n",
            "Twitter for Android\n",
            "1\n",
            "248\n",
            "747\n",
            "0\n",
            "<--------------------------------------------------->\n",
            "19\n",
            "2020-11-21 00:51:00\n",
            "1329950405040562176\n",
            "False\n",
            "Manta ‘outsider’ jib will help BJP raise issue of illegal Bangladeshi infiltrators in W Bengal https://t.co/r5gGdzw1pN\n",
            "rvinpandya\n",
            "Bhopal (India)\n",
            "Twitter for iPhone\n",
            "0\n",
            "104\n",
            "224\n",
            "0\n",
            "<--------------------------------------------------->\n",
            "20\n",
            "2020-11-20 23:11:36\n",
            "1329925389033099267\n",
            "False\n",
            "@the_hindu @SitaramYechury is talking about 2026 Bengal election. He knows BJP is winning in 2021. He will first defeat Trinamool in 2021 so that he can defeat BJP in 2026!\n",
            "gpr90662b\n",
            "Third Rock From Sun\n",
            "Twitter Web App\n",
            "1\n",
            "28\n",
            "309\n",
            "0\n",
            "<--------------------------------------------------->\n",
            "21\n",
            "2020-11-20 19:27:57\n",
            "1329869105621438464\n",
            "False\n",
            "@the_hindu Only foolish can think about encouraging BJP to eradicate Trinamool in a hope that they can come back to power...Bengal may want change and they will take CPIM any day over BJP,  but it's their stupidity that they wont be able to comeback..\n",
            "pralay03\n",
            "India\n",
            "Twitter for Android\n",
            "0\n",
            "13\n",
            "128\n",
            "0\n",
            "<--------------------------------------------------->\n",
            "22\n",
            "2020-11-20 18:50:44\n",
            "1329859739996483584\n",
            "False\n",
            "Why I want freedom from TMC https://t.co/JAwoqdlEle via @dailyo_\n",
            "suchithkc\n",
            "India\n",
            "Twitter Web App\n",
            "0\n",
            "622\n",
            "285\n",
            "0\n",
            "<--------------------------------------------------->\n",
            "23\n",
            "2020-11-20 18:49:45\n",
            "1329859494835154944\n",
            "False\n",
            "The call of #26NovGeneralStrike is given against Modi Govt's war against Workers-Farmers-Commoners.But in West Bengal,Trinamool Congress's TU wing INTTUC starts propaganda against the Strike!At Sarisha,TMC goons attacked a Public Meeting in support of the Strike.@Dipankar_cpiml https://t.co/G2JOVD0qGb\n",
            "SUNDARmyth\n",
            "KOLKATA\n",
            "Twitter Web App\n",
            "1\n",
            "12775\n",
            "1597\n",
            "2\n",
            "<--------------------------------------------------->\n",
            "24\n",
            "2020-11-20 18:38:30\n",
            "1329856662824386560\n",
            "False\n",
            "Minutes of today’s press conference by Prof. Bratya Basu (Minister-in-Charge, Department of Science &amp; Technology &amp; Biotechnology, Government of West Bengal and Spokesperson of All India Trinamool Congress) on behalf of All India Trinamool Congress at Trinamool Bhavan:\n",
            "abhijitdas20ad\n",
            " Kolkata\n",
            "Twitter for Android\n",
            "3\n",
            "124\n",
            "550\n",
            "1\n",
            "<--------------------------------------------------->\n",
            "25\n",
            "2020-11-20 18:24:58\n",
            "1329853256542027777\n",
            "False\n",
            "How Bengal 2021 will be the ultimate political battle of Mamata versus Modi https://t.co/3PV9Y6eZ6F via @dailyo_\n",
            "suchithkc\n",
            "India\n",
            "Twitter Web App\n",
            "0\n",
            "622\n",
            "285\n",
            "0\n",
            "<--------------------------------------------------->\n",
            "26\n",
            "2020-11-20 16:47:08\n",
            "1329828635356794880\n",
            "False\n",
            "Women form 48 per cent of the electorate in West Bengal, making them one of the most bankable vote banks.\n",
            "\n",
            "The ruling Trinamool Congress had fielded 41 per cent women candidates in 2019’s Lok Sabha election and 45 women candidates in the 2016 assembly election.\n",
            "Ash_Rokzz23\n",
            "London\n",
            "Twitter for Android\n",
            "9\n",
            "4271\n",
            "1074\n",
            "2\n",
            "<--------------------------------------------------->\n",
            "27\n",
            "2020-11-20 15:20:00\n",
            "1329806707581743111\n",
            "True\n",
            "\"A party heavyweight, while tensions simmered between #SuvenduAdhikari and #Mamata's nephew #AbhishekBanerjee since 2015, #Abhishek's increasing clout in recent times has been the final nail in the coffin,\" writes @Ishadrita.\n",
            "https://t.co/NMwbmz8rCr\n",
            "TheQuint\n",
            "\n",
            "Twitter Web App\n",
            "7\n",
            "598251\n",
            "309\n",
            "1\n",
            "<--------------------------------------------------->\n",
            "28\n",
            "2020-11-20 14:57:38\n",
            "1329801078158704640\n",
            "False\n",
            "https://t.co/bGEmNG0DCR via @dailyo_ \n",
            "\n",
            "@mlamihirgoswami : I joined the TMC in 1998 when Mamata Banerjee formed this new party. I had faith in her; in her leadership. So why do I want freedom from a party that I have been with for more than two decades?\n",
            "\n",
            "#WestBengal\n",
            "indiaonthe_move\n",
            "\n",
            "Twitter Web App\n",
            "0\n",
            "1084\n",
            "189\n",
            "0\n",
            "<--------------------------------------------------->\n",
            "29\n",
            "2020-11-20 13:53:03\n",
            "1329784828468879361\n",
            "True\n",
            "How #Bengal2021 will be the ultimate political battle of Mamata versus Modi | Aroon Purie\n",
            "\n",
            "https://t.co/wsaXaXb8ma\n",
            "DailyO_\n",
            "New Delhi, Delhi\n",
            "Hootsuite Inc.\n",
            "0\n",
            "68334\n",
            "42\n",
            "0\n",
            "<--------------------------------------------------->\n",
            "30\n",
            "2020-11-20 13:19:18\n",
            "1329776334529310720\n",
            "True\n",
            "#LeftRightCentre | @jdhankhar1, Governor of West Bengal, on Trinamool Congress' accusations that he is playing a partisan role\n",
            "\n",
            "#NDTVExclusive https://t.co/al5rzCOuuB\n",
            "ndtv\n",
            "India\n",
            "Twitter Web App\n",
            "37\n",
            "13992002\n",
            "15\n",
            "6\n",
            "<--------------------------------------------------->\n",
            "31\n",
            "2020-11-20 13:16:05\n",
            "1329775524147675145\n",
            "True\n",
            "#LeftRightCentre | Jagdeep Dhankhar, Governor of West Bengal, on Trinamool Congress' accusations that he is playing a partisan role\n",
            "\n",
            "#NDTVExclusive https://t.co/5yfvcDCSV9\n",
            "ndtv\n",
            "India\n",
            "Twitter Web App\n",
            "43\n",
            "13992002\n",
            "15\n",
            "4\n",
            "<--------------------------------------------------->\n",
            "32\n",
            "2020-11-20 12:47:00\n",
            "1329768203497533440\n",
            "True\n",
            "The hero of Nandigram, now #TMC's rebel leader, #SuvenduAdhikari says that in all the posts he holds, he's been elected, not selected, attacking #Mamata's nephew #AbhishekBanerjee. Here's a look at his journey in politics. @Ishadrita's report.\n",
            "https://t.co/NMwbmyQQdR\n",
            "TheQuint\n",
            "\n",
            "Twitter Web App\n",
            "6\n",
            "598251\n",
            "309\n",
            "0\n",
            "<--------------------------------------------------->\n",
            "33\n",
            "2020-11-20 11:50:08\n",
            "1329753892259844097\n",
            "False\n",
            "Kolkata: Union Minister Babul Supriyo mentioned on Friday that the Trinamool Congress ought to mend its method and desist from \"intimidating voters\", in any other case there are provisions within the Constitution to deal with such issues. https://t.co/a7yIXdueqU https://t.co/8I22I60VWb\n",
            "Worldsnews_biz\n",
            "\n",
            "Blog2Social APP\n",
            "0\n",
            "1\n",
            "1\n",
            "0\n",
            "<--------------------------------------------------->\n",
            "34\n",
            "2020-11-20 10:21:38\n",
            "1329731621994459137\n",
            "False\n",
            "I think any alliance without trinamool congress in West Bengal will not fetch any benefit. \n",
            "Any subservience to Congress will be suicidal for Left in West Bengal, says CPI(ML) leader Dipankar Bhattacharya  https://t.co/kfB6lV9Juu\n",
            "akbandyopadhyay\n",
            "India\n",
            "Twitter Web App\n",
            "0\n",
            "11\n",
            "9\n",
            "0\n",
            "<--------------------------------------------------->\n",
            "35\n",
            "2020-11-20 09:37:48\n",
            "1329720590404636673\n",
            "False\n",
            "BJP's Babul Supriyo takes jibe at Mamata by starting President's Rule in Bengal...\n",
            "https://t.co/IR7dVT7Y3n\n",
            "Supriyo said this while referring to the alleged killing of BJP workers in West Bengal by the ruling Trinamool Congress. Till date, more than 100 BJP workers have been kil… https://t.co/MCglD3c23E\n",
            "DeveloperGang\n",
            "Chandigarh, India\n",
            "IFTTT\n",
            "0\n",
            "1333\n",
            "4618\n",
            "0\n",
            "<--------------------------------------------------->\n",
            "36\n",
            "2020-11-20 08:10:44\n",
            "1329698677607129090\n",
            "True\n",
            "Union Minister @SuPriyoBabul Said on Friday that the Trinamool Congress should mend its way and desist from \"intimidating voters\", otherwise there are provisions in the Constitution to take care of such things. #TMC #WestBengal \n",
            "https://t.co/ZWr9lGpfVo\n",
            "TheDailyPioneer\n",
            "\n",
            "Twitter Web App\n",
            "0\n",
            "24760\n",
            "102\n",
            "0\n",
            "<--------------------------------------------------->\n",
            "37\n",
            "2020-11-20 07:08:13\n",
            "1329682948526784513\n",
            "False\n",
            "Why I want freedom from TMC https://t.co/GuP06sLudK via @dailyo_\n",
            "simple_lifeme\n",
            "Uttar Pradesh, India\n",
            "Twitter for Android\n",
            "0\n",
            "552\n",
            "1895\n",
            "0\n",
            "<--------------------------------------------------->\n",
            "38\n",
            "2020-11-20 06:18:05\n",
            "1329670329417953281\n",
            "False\n",
            "\"The party is now run by three people - @MamataOfficial, @abhishekaitc and @PrashantKishor. Of these three, PK and Abhishek are one team\", said a senior party leader who did not wish to be named.\n",
            "#Mustread  this @ishadrita piece.\n",
            "\n",
            "https://t.co/odxw2rq82M\n",
            "snjogdatta\n",
            "India\n",
            "Twitter Web App\n",
            "0\n",
            "915\n",
            "362\n",
            "0\n",
            "<--------------------------------------------------->\n",
            "39\n",
            "2020-11-20 06:12:36\n",
            "1329668951463186432\n",
            "False\n",
            "The Quint: In The Suvendu Story, Picture Abhi Baaki Hai.\n",
            "https://t.co/OZZewB3vOr\n",
            "\n",
            "via @GoogleNews\n",
            "jytmkh\n",
            "Darjeeling, India\n",
            "Twitter for Android\n",
            "2\n",
            "1103\n",
            "3117\n",
            "0\n",
            "<--------------------------------------------------->\n",
            "40\n",
            "2020-11-20 06:12:05\n",
            "1329668821775314945\n",
            "True\n",
            "\"Talks are on at top levels of the [TMC] party to dissuade Suvendu [Adhikary] from public displays of dissent. Clearly till the elections come around, picture baaki hai,\" writes @ishadrita. \n",
            "\n",
            "https://t.co/gUZTtGHrAN\n",
            "TheQuint\n",
            "\n",
            "Twitter Web App\n",
            "4\n",
            "598251\n",
            "309\n",
            "0\n",
            "<--------------------------------------------------->\n",
            "41\n",
            "2020-11-20 03:55:56\n",
            "1329634558241878016\n",
            "True\n",
            "I have worked for the #TrinamoolCongress for 22 years. Leaving all organisational posts wasn't an easy or overnight decision. | Cooch Behar MLA Mihir Goswami writes.\n",
            "\n",
            "https://t.co/tCqsM6Rv1M\n",
            "DailyO_\n",
            "New Delhi, Delhi\n",
            "Hootsuite Inc.\n",
            "8\n",
            "68334\n",
            "42\n",
            "3\n",
            "<--------------------------------------------------->\n",
            "42\n",
            "2020-11-20 03:19:15\n",
            "1329625323667824640\n",
            "False\n",
            "BJP has got additional vigour to face Trinamool in Bengal. | My Op-Ed in The HillTimes.\n",
            "\n",
            "@BJP4Bengal @AITCofficial \n",
            "@BJP4India @MamataOfficial @AmitShah @KailashOnline @amitmalviya @FirhadHakim\n",
            "\n",
            "#BiharElectionResults\n",
            "#WestBengal\n",
            "\n",
            "https://t.co/MgwfvMHCyW\n",
            "SagarneelSinha\n",
            "Tripura, India\n",
            "Twitter for Android\n",
            "0\n",
            "188\n",
            "914\n",
            "0\n",
            "<--------------------------------------------------->\n",
            "43\n",
            "2020-11-20 01:55:52\n",
            "1329604339883655169\n",
            "False\n",
            "Trinamool Neta \"Jai Shri Ram would not be allowed in West Bengal ,go to Gujarat if you want to chant it .\" https://t.co/rYSurgw8lH\n",
            "Satyanewshi\n",
            "Hobart , 🇦🇺\n",
            "Twitter Web App\n",
            "89\n",
            "14204\n",
            "260\n",
            "50\n",
            "<--------------------------------------------------->\n",
            "44\n",
            "2020-11-19 20:13:57\n",
            "1329518295645442048\n",
            "False\n",
            "WEST BENGAL \n",
            "25 Mirik families join Hill Trinamool\n",
            "https://t.co/j8K8LBdejZ\n",
            "#WestBengal\n",
            "teoi_news\n",
            "\n",
            "Twitter for Android\n",
            "0\n",
            "65\n",
            "0\n",
            "0\n",
            "<--------------------------------------------------->\n",
            "45\n",
            "2020-11-19 18:43:49\n",
            "1329495613382172672\n",
            "False\n",
            "In the run-up to the West #Bengal elections, Trinamool has started a digital campaign called 'Mark Yourself safe from #BJP' &amp; 10 lakh people have joined\n",
            "#TMC #Politics https://t.co/pRIiAE84Ud\n",
            "Tuitwe\n",
            "Kolkata\n",
            "Twitter Web App\n",
            "0\n",
            "2100\n",
            "2356\n",
            "0\n",
            "<--------------------------------------------------->\n",
            "46\n",
            "2020-11-19 18:16:52\n",
            "1329488829758255105\n",
            "True\n",
            "\"I'm Still A Party Member\": Bengal Minister Holds Peace With Trinamool \n",
            "\n",
            "@Monideepa62 reports\n",
            "\n",
            "Read more: https://t.co/P6VMEOUEID\n",
            "\n",
            "https://t.co/HhrFfoM6Fk\n",
            "ndtvvideos\n",
            "\n",
            "TweetDeck\n",
            "3\n",
            "248724\n",
            "23\n",
            "1\n",
            "<--------------------------------------------------->\n",
            "47\n",
            "2020-11-19 16:21:15\n",
            "1329459733787500544\n",
            "False\n",
            "Bengal Minister Holds Peace With Trinamool https://t.co/EuErWp8HYv\n",
            "News_Headlines_\n",
            "New Delhi, India\n",
            "WordPress.com\n",
            "0\n",
            "209\n",
            "238\n",
            "0\n",
            "<--------------------------------------------------->\n",
            "48\n",
            "2020-11-19 16:04:25\n",
            "1329455497007788033\n",
            "True\n",
            "\"I'm Still A Party Member\": Bengal Minister Holds Peace With Trinamool \n",
            "\n",
            "@Monideepa62 reports\n",
            "\n",
            "Read more: https://t.co/dZ9wRdVOB9 https://t.co/c8DK9HtbTb\n",
            "ndtv\n",
            "India\n",
            "Twitter Media Studio - LiveCut\n",
            "52\n",
            "13992002\n",
            "15\n",
            "1\n",
            "<--------------------------------------------------->\n",
            "49\n",
            "2020-11-19 15:44:55\n",
            "1329450590267650057\n",
            "False\n",
            "Why I quit TMC after 22 years https://t.co/36dwrY9ryC via @dailyo_\n",
            "rkmarar9\n",
            "Ayalur in Palakkad (Kerala)\n",
            "Twitter Web App\n",
            "0\n",
            "6558\n",
            "7187\n",
            "0\n",
            "<--------------------------------------------------->\n",
            "50\n",
            "2020-11-19 15:37:16\n",
            "1329448663870025731\n",
            "False\n",
            "Steps taken by @MamataOfficial-led government in the last 9.5 years to develop the health sector of Bengal. From today's press conference by @Chandrimaaitc at Trinamool Bhavan.\n",
            "\n",
            "Link - https://t.co/wJg6rjvsZt\n",
            "\n",
            "#DidiShowsTheWay\n",
            "#BanglarGorboMamata \n",
            "\n",
            "@AITCofficial\n",
            "@BanglarGorboMB https://t.co/fnxcINhGIu\n",
            "IAmJha71025080\n",
            "West Bengal, India\n",
            "Twitter for Android\n",
            "14\n",
            "974\n",
            "405\n",
            "7\n",
            "<--------------------------------------------------->\n",
            "51\n",
            "2020-11-19 15:36:59\n",
            "1329448594630438914\n",
            "True\n",
            "After 22 years of working for the #TrinamoolCongress, I have quit all organisational posts. The decision was not easy. | @mlamihirgoswami writes.\n",
            "\n",
            "https://t.co/tCqsM6Rv1M\n",
            "DailyO_\n",
            "New Delhi, Delhi\n",
            "Hootsuite Inc.\n",
            "30\n",
            "68334\n",
            "42\n",
            "7\n",
            "<--------------------------------------------------->\n",
            "52\n",
            "2020-11-19 15:33:40\n",
            "1329447761188675587\n",
            "False\n",
            "\"I'm Still A Party Member\": Bengal Minister Holds Peace With Trinamool https://t.co/2410xjDww1 via @ndtv\n",
            "rtushar_ind\n",
            "Bhubaneswar\n",
            "Twitter Web App\n",
            "0\n",
            "115\n",
            "87\n",
            "0\n",
            "<--------------------------------------------------->\n",
            "53\n",
            "2020-11-19 15:22:26\n",
            "1329444931337920512\n",
            "False\n",
            "@Khan___Sk FYI \n",
            "\n",
            "New Delhi: All India Majlis-e-Ittehadul Muslimeen (AIMIM) president Asaduddin Owaisi has proposed pre-poll pact in West Bengal to Chief Minister Mamata Banerjee saying his party will help Trinamool Congress defeat the BJP in the upcoming state assembly elections.\n",
            "Azhar8k\n",
            "Jharkhand   INDIA  \n",
            "Twitter Web App\n",
            "1\n",
            "3290\n",
            "3145\n",
            "0\n",
            "<--------------------------------------------------->\n",
            "54\n",
            "2020-11-19 15:16:02\n",
            "1329443324030283779\n",
            "True\n",
            "\"I'm Still A Party Member\": Bengal Minister Holds Peace With Trinamool https://t.co/0skYPlDe0l https://t.co/cFCeQw8AqV\n",
            "ndtvfeed\n",
            "\n",
            "NDTVfeed\n",
            "6\n",
            "244858\n",
            "23\n",
            "0\n",
            "<--------------------------------------------------->\n",
            "55\n",
            "2020-11-19 15:05:25\n",
            "1329440650836791309\n",
            "False\n",
            "@basu_bratya The State Government should take necessary steps to bring the company Infosys to Salt Lake Sector V. The Trinamool Govt is taking no steps to develop the It industry in Bengal which can fetch jobs for many. Noted IT giants should be allowed special facilities.\n",
            "ANGSHUCHAUDHUR1\n",
            "\n",
            "Twitter Web App\n",
            "0\n",
            "4\n",
            "33\n",
            "0\n",
            "<--------------------------------------------------->\n",
            "56\n",
            "2020-11-19 14:55:32\n",
            "1329438163379625984\n",
            "True\n",
            "\"As the assembly election is approaching, the #BJP is seeing the Trinamool Congress' ghost in every single mishap across West Bengal,\" said a district #TMC leader.\n",
            "@AITCofficial @BJP4Bengal @MamataOfficial @ArjunsinghWB\n",
            "https://t.co/DcQtwCRvr3\n",
            "Outlookindia\n",
            "New Delhi, India\n",
            "Twitter Web App\n",
            "5\n",
            "227068\n",
            "58\n",
            "1\n",
            "<--------------------------------------------------->\n",
            "57\n",
            "2020-11-19 14:45:57\n",
            "1329435749444431879\n",
            "True\n",
            "#BattleForBengal – If you are talking about organizational might, it is Trinamool only which has the strongest organizational might in Bengal: @touseefakhan (Lawyer) tells @AnchorAnandN on #TheRightStand. https://t.co/jxVSi7oSEW\n",
            "CNNnews18\n",
            "India\n",
            "Twitter Media Studio - LiveCut\n",
            "14\n",
            "4544986\n",
            "415\n",
            "2\n",
            "<--------------------------------------------------->\n",
            "58\n",
            "2020-11-19 13:58:24\n",
            "1329423786400043010\n",
            "False\n",
            "Steps taken by @MamataOfficial-led TMC government in the last 9.5 years to develop the health sector of West Bengal. From today's press conference by @Chandrimaaitc on behalf of @AITCofficial at Trinamool Bhavan.\n",
            "\n",
            "Link - https://t.co/WmMrNFb28b\n",
            "\n",
            "@BanglarGorboMB https://t.co/0Ku3SU7SjG\n",
            "Rony15081947\n",
            "\n",
            "Twitter for Android\n",
            "33\n",
            "509\n",
            "66\n",
            "18\n",
            "<--------------------------------------------------->\n",
            "59\n",
            "2020-11-19 13:55:12\n",
            "1329422980800151553\n",
            "False\n",
            "West Bengal Assembly Elections  coming soon. Interesting  that who's going to win wheather Trinamool Congress or Bjp. Lets see\n",
            "srinu11224\n",
            "Bvrm\n",
            "Twitter for Android\n",
            "1\n",
            "389\n",
            "464\n",
            "0\n",
            "<--------------------------------------------------->\n",
            "60\n",
            "2020-11-19 13:44:35\n",
            "1329420308294483968\n",
            "False\n",
            "Steps taken by Mamata Banerjee-led TMC government in the last 9.5 years to develop the health sector of West Bengal:\n",
            "\n",
            "From today's press conference by @Chandrimaaitc on behalf of All India Trinamool Congress\n",
            "\n",
            "#BanglarGorboMamata https://t.co/YuLvLenqbS\n",
            "NilanjanDas_\n",
            "Serampore, Hooghly\n",
            "Twitter for Android\n",
            "17\n",
            "1414\n",
            "605\n",
            "8\n",
            "<--------------------------------------------------->\n",
            "61\n",
            "2020-11-19 13:21:28\n",
            "1329414491050749954\n",
            "False\n",
            "New post: Trinamool Congress Kicks Off Campaign to ‘Save Bengal from BJP’ https://t.co/aavWxwvZUL\n",
            "TheClarionIndia\n",
            "India\n",
            "ClarionIndia\n",
            "0\n",
            "3537\n",
            "459\n",
            "0\n",
            "<--------------------------------------------------->\n",
            "62\n",
            "2020-11-19 12:45:13\n",
            "1329405365813874699\n",
            "False\n",
            "Today visited MLA &amp; State Vice President (West Bengal Trinamool Congress Committee) Jnb. #Chowdhary_Abdul_Karim sb Chhath Ghats of Islampur area to check arrangements for Chhath Puja. https://t.co/LRGIXoJkVw\n",
            "AkilAkhter5\n",
            "Islampur, West Bengal\n",
            "Twitter for Android\n",
            "0\n",
            "45\n",
            "686\n",
            "0\n",
            "<--------------------------------------------------->\n",
            "63\n",
            "2020-11-19 12:27:15\n",
            "1329400848418435072\n",
            "False\n",
            "New Delhi: All India Majlis-e-Ittehadul Muslimeen (AIMIM) president Asaduddin Owaisi has proposed pre-poll pact in West Bengal to Chief Minister Mamata Banerjee saying his party will help Trinamool Congress defeat the BJP in the upcoming state assembly elections.\n",
            "@ProfMA5\n",
            "Azhar8k\n",
            "Jharkhand   INDIA  \n",
            "Twitter Web App\n",
            "0\n",
            "3290\n",
            "3145\n",
            "0\n",
            "<--------------------------------------------------->\n",
            "64\n",
            "2020-11-19 11:36:51\n",
            "1329388163484192769\n",
            "False\n",
            "AIMIM president Asaduddin Owaisi has proposed pre-poll pact in West Bengal to Chief Minister Mamata Banerjee saying his party will help Trinamool Congress to defeat the BJP in the upcoming state assembly elections.\n",
            "\n",
            "Now it is your turn to reply this illegal polarisation in WB.\n",
            "pradipkumarmu12\n",
            "INDIA\n",
            "Twitter Web App\n",
            "3\n",
            "633\n",
            "650\n",
            "0\n",
            "<--------------------------------------------------->\n",
            "65\n",
            "2020-11-19 11:22:07\n",
            "1329384454322679808\n",
            "False\n",
            "In Mamata's regime , no one in Bengal can pronounce Jai Shri Ram... \n",
            "\n",
            "The Trinamool leader directly threatening to move to Gujarat , if anyone says Jai Shree Ram\n",
            "#BJP4Kharagpur\n",
            "@RakeshBoseBJP @BJP4Bengal @BjpMedinipur @ujjwalpareek \n",
            "@DilipGhoshBJP @224Kgp https://t.co/yX1rADVqTf\n",
            "viccky57\n",
            "खड़गपुर रेलवे स्टेशन क्षेत्र, \n",
            "Twitter for Android\n",
            "1\n",
            "57\n",
            "265\n",
            "2\n",
            "<--------------------------------------------------->\n",
            "66\n",
            "2020-11-19 10:35:59\n",
            "1329372843386146816\n",
            "False\n",
            "Addressing an annual meeting of cooperative societies, Bengal minister Subhendu Adhikari said he would not announce political decisions from apolitical platforms. Also, reiterates that he is still a ‘primary’ member of Trinamool and a minister in Mamata Banerjee’s cabinet .\n",
            "sulagnaseng\n",
            "Kolkata, West Bengal\n",
            "Twitter Web App\n",
            "0\n",
            "132\n",
            "166\n",
            "0\n",
            "<--------------------------------------------------->\n",
            "67\n",
            "2020-11-19 10:17:29\n",
            "1329368187406671885\n",
            "False\n",
            "Addressing an annual meeting of cooperative societies, Bengal minister Subhendu Adhikari said he would not announce political decisions from apolitical platforms. Also, reiterates that he is still a ‘primary’ member of Trinamool and a minister in Mamata Banerjee’s cabinet .\n",
            "madhuparna_N\n",
            "Kolkata, India\n",
            "Twitter for iPhone\n",
            "30\n",
            "4981\n",
            "3925\n",
            "5\n",
            "<--------------------------------------------------->\n",
            "68\n",
            "2020-11-19 09:43:28\n",
            "1329359629244043272\n",
            "True\n",
            "BJP office in West Bengal's North 24 Parganas now set ablaze; party alleges Trinamool role https://t.co/mDrg0p7isX\n",
            "republic\n",
            "Mumbai, India\n",
            "Republicworld\n",
            "262\n",
            "2274171\n",
            "3\n",
            "46\n",
            "<--------------------------------------------------->\n",
            "69\n",
            "2020-11-19 09:02:47\n",
            "1329349392038461440\n",
            "False\n",
            "In Mamata's regime , no one in Bengal can pronounce Jai Shri Ram... \n",
            "\n",
            "The Trinamool leader directly threatening to move to Gujarat , if anyone says Jai Shri Ram... \n",
            "#SaveBengal https://t.co/dXHrL63fYP\n",
            "bjpnareshkumar\n",
            "Kolkata, New Delhi & Bengaluru\n",
            "Twitter for Android\n",
            "1\n",
            "393\n",
            "3212\n",
            "0\n",
            "<--------------------------------------------------->\n",
            "70\n",
            "2020-11-19 08:27:41\n",
            "1329340558863519744\n",
            "False\n",
            "WEST BENGAL \n",
            "\n",
            "More than twenty families of Mirik's Dhuseni joined Trinamool Congress, expecting to get employment as they are facing problems after the lockdown. \n",
            "\n",
            "https://t.co/z3UXGsl0xz\n",
            "\n",
            "#WestBengal \n",
            "#Mirik\n",
            "#Trinomool\n",
            "#Employment https://t.co/GnncaRggOI\n",
            "teoi_news\n",
            "\n",
            "Twitter Web App\n",
            "0\n",
            "65\n",
            "0\n",
            "0\n",
            "<--------------------------------------------------->\n",
            "71\n",
            "2020-11-19 06:50:07\n",
            "1329316005428961281\n",
            "False\n",
            "@TheRightBengali @goforcatchingm1 When Mamata Banerjee holds rallies in Assam, Manipur or Arunachal I don't see any Local Trinamool cadres say a Bengali will not run us. This selective hypocrisy by Trinamool Cadres is baffling and damaging to Bengal which for the larger parts isn't as small minded as TMC thinks.\n",
            "PoliticsMedi\n",
            "Kolkata, India\n",
            "Twitter Web App\n",
            "0\n",
            "79\n",
            "20\n",
            "0\n",
            "<--------------------------------------------------->\n",
            "72\n",
            "2020-11-19 06:20:48\n",
            "1329308624364085248\n",
            "False\n",
            "Do pepple really care if a person changes his/her party? Congress mukht Bharat meant congress leaders across the hindi belt joining bjp and getting elected on the lotus symbol. In Bengal, the same Trinamool faces people had problems with got re-elected after changing! #Bengal https://t.co/4SIfJvnac9\n",
            "rohansmitra\n",
            "India\n",
            "Twitter Web App\n",
            "13\n",
            "4138\n",
            "1862\n",
            "3\n",
            "<--------------------------------------------------->\n",
            "73\n",
            "2020-11-19 05:13:19\n",
            "1329291644873691136\n",
            "False\n",
            "Bengal BJP worker ‘beaten to death’ during inter-club clash; \n",
            "\n",
            "The incident took place during  immersion of idols of Goddess Kali in Tufanganj area of Cooch Behar dist. BJP alleged the Trinamool Congress was behind the incident &amp; called a 12-hour bandh in Tufanganj on Thursday.\n",
            "vasuvenugo\n",
            "\n",
            "Twitter Web App\n",
            "0\n",
            "2234\n",
            "1979\n",
            "0\n",
            "<--------------------------------------------------->\n",
            "74\n",
            "2020-11-19 05:04:11\n",
            "1329289346126467074\n",
            "True\n",
            "West Bengal: Will He Stay Or Go? Suspense Over Trinamool Congress Strongman Suvendu Adhikari\n",
            "\n",
            "@Monideepa62 reports\n",
            "https://t.co/JZeWWo0rC0\n",
            "ndtvvideos\n",
            "\n",
            "TweetDeck\n",
            "5\n",
            "248724\n",
            "23\n",
            "0\n",
            "<--------------------------------------------------->\n",
            "75\n",
            "2020-11-19 04:46:13\n",
            "1329284822213173249\n",
            "False\n",
            "“We have come to power on core left issues. In Bengal, Trinamool has out-lefted the Left” ― @MahuaMoitra https://t.co/hWbuxfzre2\n",
            "NilanjanDas_\n",
            "Serampore, Hooghly\n",
            "Twitter for Android\n",
            "19\n",
            "1414\n",
            "605\n",
            "4\n",
            "<--------------------------------------------------->\n",
            "76\n",
            "2020-11-19 04:45:52\n",
            "1329284736259223552\n",
            "True\n",
            "West Bengal: Will He Stay Or Go? Suspense Over Trinamool Congress Strongman Suvendu Adhikari\n",
            "\n",
            "@Monideepa62 reports https://t.co/LAwmyPNugN\n",
            "ndtv\n",
            "India\n",
            "Twitter Media Studio\n",
            "50\n",
            "13992002\n",
            "15\n",
            "5\n",
            "<--------------------------------------------------->\n",
            "77\n",
            "2020-11-19 04:10:12\n",
            "1329275758058082304\n",
            "False\n",
            "👍 on @YouTube: Trouble in Trinamool? | Mamata Banerjee Is Losing Faith In Bengal | Dr. Manish Kumar | Capital TV https://t.co/XyBbSUBufX\n",
            "singleboot\n",
            "\n",
            "IFTTT\n",
            "0\n",
            "130\n",
            "286\n",
            "0\n",
            "<--------------------------------------------------->\n",
            "78\n",
            "2020-11-19 03:47:28\n",
            "1329270036624642051\n",
            "False\n",
            "Trouble in Trinamool? | Mamata Banerjee Is Losing Faith In Bengal | Dr. ... https://t.co/XIpvhu9Lws via @YouTube\n",
            "AMITNEW\n",
            "NEW DELHI\n",
            "Twitter Web App\n",
            "0\n",
            "480\n",
            "3149\n",
            "0\n",
            "<--------------------------------------------------->\n",
            "79\n",
            "2020-11-18 21:08:25\n",
            "1329169616464015360\n",
            "False\n",
            "@RichardRossow @CarolineCBaxter BJP doesn't need to win every state Elections. India has more than 50 Major Regional Parties. Regional Parties has powerful stronghold in their respective regions. BJP's next target is to dethrone the \"Trinamool Congress\" in West Bengal in 2021.\n",
            "mars_monk1\n",
            "India\n",
            "Twitter Web App\n",
            "1\n",
            "70\n",
            "179\n",
            "0\n",
            "<--------------------------------------------------->\n",
            "80\n",
            "2020-11-18 19:51:09\n",
            "1329150167669301250\n",
            "False\n",
            "Congratulations Bhaiya West Bengal Trinamool Congress Committee has appointed Jitendra Tiwari Bhaiya as their authorized representative in their letter to Cheif Electoral Officer for Paschim Bardhaman District. https://t.co/T9s6q2iij7\n",
            "ParomitaMishra\n",
            "Asansol, India\n",
            "Twitter for Android\n",
            "2\n",
            "474\n",
            "339\n",
            "0\n",
            "<--------------------------------------------------->\n",
            "81\n",
            "2020-11-18 18:39:01\n",
            "1329132017070592000\n",
            "False\n",
            "Lok Sabha Performance Will Not Help BJP Win Bengal Polls: Trinamool https://t.co/XOfLOuEyTJ\n",
            "ukaio007\n",
            "Kolkata, West Bengal, India\n",
            "WordPress.com\n",
            "0\n",
            "639\n",
            "1513\n",
            "0\n",
            "<--------------------------------------------------->\n",
            "82\n",
            "2020-11-18 18:29:00\n",
            "1329129494809088000\n",
            "True\n",
            "The ruling Trinamool Congress has decided to sound the poll bugle through the ‘Save Bengal from the BJP' rallies in West Midnapore, Purulia, Jhargram and Bankura.\n",
            "\n",
            "https://t.co/G9pTPfI8Yx\n",
            "CNNnews18\n",
            "India\n",
            "TweetDeck\n",
            "20\n",
            "4544986\n",
            "415\n",
            "1\n",
            "<--------------------------------------------------->\n",
            "83\n",
            "2020-11-18 18:28:51\n",
            "1329129458247188483\n",
            "True\n",
            "The post has triggered speculation over Goswami's exit from the Trinamool Congress (TMC) ahead of the Bengal Assembly elections\n",
            "\n",
            "#WestBengal #Bengal #Politics \n",
            "https://t.co/RF1YN6z20P\n",
            "IndiaToday\n",
            "India\n",
            "Twitter Web App\n",
            "14\n",
            "5419946\n",
            "245\n",
            "4\n",
            "<--------------------------------------------------->\n",
            "84\n",
            "2020-11-18 18:18:29\n",
            "1329126847288754177\n",
            "True\n",
            "Lok Sabha Performance Will Not Help BJP Win Bengal Polls: Trinamool https://t.co/XN99Ty8rSU https://t.co/ocbLe2LHz3\n",
            "ndtv\n",
            "India\n",
            "Twitter Web App\n",
            "139\n",
            "13992002\n",
            "15\n",
            "6\n",
            "<--------------------------------------------------->\n",
            "85\n",
            "2020-11-18 18:07:03\n",
            "1329123971053350922\n",
            "True\n",
            "Lok Sabha Performance Will Not Help BJP Win Bengal Polls: Trinamool https://t.co/6UNYVAlyzM https://t.co/rtMUoyIChV\n",
            "ndtvfeed\n",
            "\n",
            "NDTVfeed\n",
            "1\n",
            "244858\n",
            "23\n",
            "2\n",
            "<--------------------------------------------------->\n",
            "86\n",
            "2020-11-18 17:27:58\n",
            "1329114137784250368\n",
            "False\n",
            "What's there to survey?\n",
            "In Bengal, people are safe from everyone, except Trinamool's itself. @AITCofficial https://t.co/ugFuYKgLRv\n",
            "Indianjonsnow1\n",
            "\n",
            "Twitter Web App\n",
            "0\n",
            "36\n",
            "95\n",
            "0\n",
            "<--------------------------------------------------->\n",
            "87\n",
            "2020-11-18 17:17:21\n",
            "1329111464938881025\n",
            "False\n",
            "#BengalBloodyBattle trinamool thinks by heckling d WB governor killing bjp cadres can force bjp out of West Bengal!!\n",
            "DSengupta11\n",
            "\n",
            "Twitter Web App\n",
            "1\n",
            "33\n",
            "36\n",
            "0\n",
            "<--------------------------------------------------->\n",
            "88\n",
            "2020-11-18 16:27:33\n",
            "1329098931393896448\n",
            "True\n",
            "West Bengal Governor Jagdeep Dhankhar on Wednesday criticised the ruling Trinamool Congress for allegedly indulging in politics over security cover.\n",
            "https://t.co/oKBxsTyPOt\n",
            "Outlookindia\n",
            "New Delhi, India\n",
            "Twitter Web App\n",
            "3\n",
            "227068\n",
            "58\n",
            "0\n",
            "<--------------------------------------------------->\n",
            "89\n",
            "2020-11-18 15:26:51\n",
            "1329083655273123845\n",
            "False\n",
            ".@BJP4Bengal leaders wants to transform Bengal into Gujarat.\n",
            "Let's do a comparative study of the two states.\n",
            "\n",
            "Today's press conference on behalf of @AITCofficial at Trinamool Bhavan.\n",
            "Link- https://t.co/S19utptPSd https://t.co/saDFyhHWgr\n",
            "IAmJha71025080\n",
            "West Bengal, India\n",
            "Twitter for Android\n",
            "16\n",
            "974\n",
            "405\n",
            "5\n",
            "<--------------------------------------------------->\n",
            "90\n",
            "2020-11-18 15:20:49\n",
            "1329082137497145345\n",
            "False\n",
            "Trinamool’s ‘murder politics’ continues in West Bengal! In Coochbehar, BJP booth secretary Kalachand Karmokar was brutally beaten to death by TMC goons.\n",
            "\n",
            "Pishi, you cannot expect people of Bengal to support your politics of blood and terror. Enough. Start counting your days! http https://t.co/JhrSyUsDpp\n",
            "qtLzWC7W0ON92Ib\n",
            "\n",
            "Twitter for Android\n",
            "0\n",
            "1\n",
            "27\n",
            "0\n",
            "<--------------------------------------------------->\n",
            "91\n",
            "2020-11-18 15:11:59\n",
            "1329079915975622667\n",
            "True\n",
            "The BJP, which had a limited presence in the state for decades, emerged as the key rival of the ruling Trinamool Congress after it won 18 out of the 42 Lok Sabha seats in Bengal in the 2019 general elections.\n",
            "\n",
            "https://t.co/L2tGcRdC2O\n",
            "IndianExpress\n",
            "India\n",
            "TweetDeck\n",
            "79\n",
            "3732193\n",
            "316\n",
            "4\n",
            "<--------------------------------------------------->\n",
            "92\n",
            "2020-11-18 14:50:44\n",
            "1329074568581922818\n",
            "False\n",
            "Bengal always oppose the Sanghi Culture, the people of Bengal will never allow this culture, but waywardness and indiscipline of the local Trinamool is only help to progress BJP.  Even the CPM aerate BJP by  \"Didibhai Modi Bhai Ek Hai\". #1MillionMarkedSafeFromBJP\n",
            "MLMrinalML\n",
            "\n",
            "Twitter Web App\n",
            "0\n",
            "48\n",
            "217\n",
            "0\n",
            "<--------------------------------------------------->\n",
            "93\n",
            "2020-11-18 14:11:42\n",
            "1329064743391268866\n",
            "False\n",
            "Trinamool’s ‘murder politics’ continues in West Bengal! In Coochbehar, BJP booth secretary Kalachand Karmokar was brutally beaten to death by TMC goons.\n",
            "\n",
            "#FaltuMamatarPaltuPolice #MamataMuktBengal https://t.co/uCo8hsPSMI\n",
            "sanatana_truth\n",
            "\n",
            "Twitter Web App\n",
            "0\n",
            "555\n",
            "3249\n",
            "0\n",
            "<--------------------------------------------------->\n",
            "94\n",
            "2020-11-18 14:07:04\n",
            "1329063576288432131\n",
            "False\n",
            "Cong, Left To Hold Joint Events in Bengal Ahead Of Polls \n",
            "#WestBengal #BengalElections #CongLeftAlliance #Trinamool\n",
            "https://t.co/HC52pPUbqF\n",
            "LokMarg\n",
            "\n",
            "Twitter Web App\n",
            "0\n",
            "1491\n",
            "549\n",
            "1\n",
            "<--------------------------------------------------->\n",
            "95\n",
            "2020-11-18 12:43:40\n",
            "1329042589287235586\n",
            "False\n",
            "Trinamool’s ‘murder politics’ continues in West Bengal! In Coochbehar, BJP booth secretary Kalachand Karmokar was brutally beaten to death by TMC goons.\n",
            "\n",
            "Pishi, you cannot expect people of Bengal to support your politics of blood and terror. Enough. Start counting your days! https://t.co/6ScayN2VxL\n",
            "Aami_AnupamDas\n",
            "Raiganj (U/D), Kolkata\n",
            "Twitter for Android\n",
            "0\n",
            "53\n",
            "620\n",
            "0\n",
            "<--------------------------------------------------->\n",
            "96\n",
            "2020-11-18 12:00:56\n",
            "1329031837235048448\n",
            "False\n",
            "@BJP4Bengal leaders want to transform Bengal into Gujarat.Let's do a comparative study of the two states.\n",
            "From today's press conference by @Sukhendusekhar &amp; Prof. Omprakash Mishra on behalf of @AITCofficial at Trinamool Bhavan. Link-https://t.co/5pTrRWgyHY\n",
            "#MyLeaderMamataBanerjee https://t.co/ytzMK9IE7i\n",
            "Rony15081947\n",
            "\n",
            "Twitter for Android\n",
            "16\n",
            "509\n",
            "66\n",
            "11\n",
            "<--------------------------------------------------->\n",
            "97\n",
            "2020-11-18 11:56:46\n",
            "1329030785731493889\n",
            "False\n",
            "Trinamool’s ‘murder politics’ continues in WB! In Coochbehar, BJP booth secretary Kalachand Karmokar was brutally beaten to death by TMC goons.\n",
            "Pishi, you cannot expect people of Bengal to support your politics of blood and terror.Start counting your days! https://t.co/vbpFZv5vZY\n",
            "rajeevicaktr\n",
            "Delhi\n",
            "Twitter for Android\n",
            "0\n",
            "3282\n",
            "4901\n",
            "0\n",
            "<--------------------------------------------------->\n",
            "98\n",
            "2020-11-18 11:42:15\n",
            "1329027133377658880\n",
            "False\n",
            "A section of Trinamool Netas Mamata Banerjee's condition now like Dhritarasthra , compares Bhaipo to Duryodhana . https://t.co/ZAfAS3uyPM\n",
            "Satyanewshi\n",
            "Hobart , 🇦🇺\n",
            "Twitter Web App\n",
            "70\n",
            "14204\n",
            "260\n",
            "20\n",
            "<--------------------------------------------------->\n",
            "99\n",
            "2020-11-18 11:41:14\n",
            "1329026876560478208\n",
            "False\n",
            "Trinamool’s ‘murder politics’ continues in West Bengal! In Coochbehar, BJP booth secretary Kalachand Karmokar was brutally beaten to death by TMC goons.\n",
            "\n",
            "Pishi, you cannot expect people of Bengal to support your politics of blood and terror. Enough. Start counting your days! http\n",
            "30Anjan\n",
            "\n",
            "Twitter for Android\n",
            "2\n",
            "25\n",
            "47\n",
            "2\n",
            "<--------------------------------------------------->\n",
            "100\n",
            "2020-11-18 10:44:23\n",
            "1329012572171816961\n",
            "False\n",
            "Trinamool’s ‘murder politics’ continues in West Bengal! In Coochbehar, BJP booth secretary Kalachand Karmokar was brutally beaten to death by TMC goons.\n",
            "\n",
            "https://t.co/X85ywpBESx\n",
            "samit_dash\n",
            "\n",
            "Twitter for Android\n",
            "20\n",
            "611\n",
            "170\n",
            "8\n",
            "<--------------------------------------------------->\n",
            "101\n",
            "2020-11-18 10:33:55\n",
            "1329009938144882688\n",
            "False\n",
            "At the call of the Trinamool Congress, 1 million people of Bengal voluntarily protected themselves from the BJP. People understand that this BJP party is actually against the culture of Bengal; He wants to destroy the whole country and destroy Bengal!\n",
            "\n",
            "#1MillionMarkedSafeFromBJP\n",
            "haque9386\n",
            "\n",
            "Twitter Web App\n",
            "0\n",
            "133\n",
            "313\n",
            "0\n",
            "<--------------------------------------------------->\n",
            "102\n",
            "2020-11-18 10:23:10\n",
            "1329007230906114049\n",
            "False\n",
            "Trinamool’s ‘murder politics’ continues in West Bengal! In Coochbehar, BJP booth secretary Kalachand Karmokar was brutally beaten to death by TMC goons.\n",
            "\n",
            "Pishi, you cannot expect people of Bengal to support your politics of blood and terror. Enough. Start counting your days!\n",
            "KushdebBauri7\n",
            "\n",
            "Twitter for Android\n",
            "0\n",
            "4\n",
            "23\n",
            "0\n",
            "<--------------------------------------------------->\n",
            "103\n",
            "2020-11-18 10:16:38\n",
            "1329005587678470145\n",
            "False\n",
            "Trinamool’s ‘murder politics’ continues in West Bengal! In Coochbehar, BJP booth secretary Kalachand Karmokar was brutally beaten to death by TMC goons.\n",
            "\n",
            "Pishi, you cannot expect people of Bengal to support your politics of blood and terror. Enough. Start counting your days ! https://t.co/fUgi561eff\n",
            "NabenduBid\n",
            "West Bengal, India\n",
            "Twitter for Android\n",
            "0\n",
            "28\n",
            "262\n",
            "1\n",
            "<--------------------------------------------------->\n",
            "104\n",
            "2020-11-18 09:25:32\n",
            "1328992728298909696\n",
            "False\n",
            "Trinamool’s ‘murder politics’ continues in West Bengal! In Coochbehar, BJP booth secretary Kalachand Karmokar was brutally beaten to death by TMC goons.\n",
            "\n",
            "Pishi, you cannot expect people of Bengal to support your politics of blood and terror. Enough. Start counting your days ! https://t.co/34FZzWJyad\n",
            "Santanurc1958\n",
            "Tollygunge, Kolkata, W.B\n",
            "Twitter for Android\n",
            "2\n",
            "4771\n",
            "4957\n",
            "1\n",
            "<--------------------------------------------------->\n",
            "105\n",
            "2020-11-18 09:21:09\n",
            "1328991626799185922\n",
            "False\n",
            "Shame on TMC.\n",
            "Trinamool’s ‘muπder politics’ continues in West Bengal! In Coochbehar, BJP booth secretary Kalachand Karmokar was brutally beataπ to death by TMC G00ns. https://t.co/5eqSUzDwth\n",
            "MahadevSarkarWB\n",
            "West Bengal, India\n",
            "Twitter for Android\n",
            "13\n",
            "21\n",
            "28\n",
            "8\n",
            "<--------------------------------------------------->\n",
            "106\n",
            "2020-11-18 09:12:26\n",
            "1328989430825283584\n",
            "False\n",
            "Trinamool's political assassination's subsist in west bengal.  @BJP4CobLive tufanganj booth secretary Kalachand karmakar was inexorably murdered to death by TMC goons. People of Bengal will never accept your torment and murder politics. Get ready.@narendramodi @JPNadda @AmitShah https://t.co/1FHCZa83JP\n",
            "rathindraOFC\n",
            "Siliguri, India\n",
            "Twitter Web App\n",
            "3\n",
            "1110\n",
            "638\n",
            "5\n",
            "<--------------------------------------------------->\n",
            "107\n",
            "2020-11-18 08:51:26\n",
            "1328984146723495936\n",
            "False\n",
            "Trinamool’s ‘murder politics’ continues in West Bengal! In Coochbehar, BJP booth secretary Kalachand Karmokar was brutally beaten to death by TMC goons.\n",
            "Pishi, you cannot expect people of Bengal to support your politics of blood and terror. Enough. Start counting your days! https://t.co/xUr9v8jVVr\n",
            "SanjuSa36250289\n",
            "\n",
            "Twitter for Android\n",
            "2\n",
            "87\n",
            "216\n",
            "1\n",
            "<--------------------------------------------------->\n",
            "108\n",
            "2020-11-18 08:44:13\n",
            "1328982329855942657\n",
            "False\n",
            "Trinamool’s ‘murder politics’ continues in West Bengal! In Coochbehar, BJP booth secretary Kalachand Karmokar was brutally beaten to death by TMC goons.\n",
            "\n",
            "Pishi, you cannot expect people of Bengal to support your politics of blood and terror. Enough.   https://t.co/4wvyM8Bx71\n",
            "SouravDindaBJP\n",
            "\n",
            "Twitter for Android\n",
            "0\n",
            "738\n",
            "2129\n",
            "0\n",
            "<--------------------------------------------------->\n",
            "109\n",
            "2020-11-18 08:31:18\n",
            "1328979078175547403\n",
            "False\n",
            "Trinamool’s ‘murder politics’ continues in West Bengal! In Coochbehar, BJP booth secretary #KalachandKarmokar was brutally beaten to death by TMC goons.\n",
            "\n",
            "Pishi, you cannot expect people of Bengal to support your politics of blood and terror. Enough. Start counting your days! https://t.co/7syIS8WnAK\n",
            "binaniyash4\n",
            "Kolkata, India\n",
            "Twitter for Android\n",
            "36\n",
            "2927\n",
            "861\n",
            "34\n",
            "<--------------------------------------------------->\n",
            "110\n",
            "2020-11-18 08:16:51\n",
            "1328975444134174721\n",
            "False\n",
            "Trinamool’s ‘murder politics’ continues in West Bengal! In Coochbehar, BJP booth secretary Kalachand Karmokar was brutally beaten to death by TMC goons.\n",
            "\n",
            "Pishi, you cannot expect people of Bengal to support your politics of blood and terror. Enough. Start counting your days! https://t.co/Wn6EQqBvgo\n",
            "BjpMal\n",
            "Mal, India\n",
            "Twitter for Android\n",
            "4\n",
            "16\n",
            "28\n",
            "3\n",
            "<--------------------------------------------------->\n",
            "111\n",
            "2020-11-18 08:14:45\n",
            "1328974914754211841\n",
            "True\n",
            "Trinamool’s ‘murder politics’ continues in West Bengal! In Coochbehar, BJP booth secretary Kalachand Karmokar was brutally beaten to death by TMC goons.\n",
            "\n",
            "Pishi, you cannot expect people of Bengal to support your politics of blood and terror. Enough. Start counting your days! https://t.co/fN2DLybI3J\n",
            "BJP4Bengal\n",
            "Kolkata, West Bengal\n",
            "TweetDeck\n",
            "1520\n",
            "205708\n",
            "152\n",
            "905\n",
            "<--------------------------------------------------->\n",
            "112\n",
            "2020-11-18 08:03:15\n",
            "1328972022571884545\n",
            "False\n",
            "Steps taken by @MamataOfficial-led Trinamool government in the 9.5 years to develop the condition of the women and the girl children:\n",
            "\n",
            "1. 48 women police stations has been founded. 8 of them belong to the Kolkata Police area while the rest belong to the Bengal Police area.\n",
            "Rafiq54551257\n",
            "\n",
            "Twitter for Android\n",
            "0\n",
            "28\n",
            "480\n",
            "0\n",
            "<--------------------------------------------------->\n",
            "113\n",
            "2020-11-18 07:19:27\n",
            "1328960997609119744\n",
            "False\n",
            "@RahulGandhi Congress-Left alliance is expected in the  Bengal  To strengthen the chemistry of this coalition and to give the people of Bengal an alternative to Trinamool and BJP, this chemistry  chemistry will play a major role in changing the pot in Bengal in the coming days. https://t.co/53wHsKwVQJ\n",
            "ANSHUBAJPAI1\n",
            "\n",
            "Twitter Web App\n",
            "7\n",
            "232\n",
            "21\n",
            "2\n",
            "<--------------------------------------------------->\n",
            "114\n",
            "2020-11-18 07:06:05\n",
            "1328957632942628864\n",
            "False\n",
            "CPM MLA Rafiqul Islam joined Trinamool , Congress MLA Qazi Abdur Rahman joined Trinamool . CPM Councillor Rinku Naskar joins BJP , Trinamool MLA Mihir Goswami leaning towards BJP . The incidents of last few weeks had set the trend for 2021 Bengal Elections .\n",
            "Satyanewshi\n",
            "Hobart , 🇦🇺\n",
            "Twitter Web App\n",
            "118\n",
            "14204\n",
            "260\n",
            "20\n",
            "<--------------------------------------------------->\n",
            "115\n",
            "2020-11-18 06:22:27\n",
            "1328946654750404608\n",
            "True\n",
            "Calcutta'a largest Urdu newspaper, Akhbar-e-Mashriq, this morning. Headline reads, \"No one can stop Owaisi from coming to Bengal: BJP\".\n",
            "\n",
            "The paper's ownership is seen to be close to the Trinamool, with Nadimul Haque being a TMC MP.\n",
            "\n",
            "Bengal is clearly gearing up for elections! https://t.co/lTpbGkSptx\n",
            "ShoaibDaniyal\n",
            "India\n",
            "Twitter Web App\n",
            "61\n",
            "21518\n",
            "1523\n",
            "8\n",
            "<--------------------------------------------------->\n",
            "116\n",
            "2020-11-18 04:29:55\n",
            "1328918331571675136\n",
            "False\n",
            "With the amount of efforts put on by TMC and BJP on Bengal elections, wish they shift Simla to Bengal for the presence of Congress ever picnicking firepower\n",
            "\n",
            "https://t.co/osRF0W0iig\n",
            "PoliticalInd1an\n",
            "Pondicherry\n",
            "Twitter Web App\n",
            "0\n",
            "336\n",
            "558\n",
            "0\n",
            "<--------------------------------------------------->\n",
            "117\n",
            "2020-11-18 03:18:46\n",
            "1328900427409080323\n",
            "False\n",
            "The four districts are crucial for Bengal BJP in the wake of recent activities by rebel Trinamool leader Suvendu Adhikari, who is keeping all camps guessing about his future course.\n",
            "Ash_Rokzz23\n",
            "London\n",
            "Twitter for Android\n",
            "12\n",
            "4271\n",
            "1074\n",
            "1\n",
            "<--------------------------------------------------->\n",
            "118\n",
            "2020-11-18 02:30:47\n",
            "1328888352641142784\n",
            "False\n",
            "\"Why Prashant Kishor\": Trouble In Trinamool As BJP Firms Up Poll Strategy - NDTV https://t.co/VJDXqen70E - STRIKE RATE OF BJP IN BIHAR WAS VERY GOOD. STRIKE RATE IN WEST BENGAL WILL BE SURELY MORE BETTER.\n",
            "BhupatraiDoshi\n",
            "\n",
            "Twitter Web App\n",
            "0\n",
            "0\n",
            "0\n",
            "0\n",
            "<--------------------------------------------------->\n",
            "119\n",
            "2020-11-18 00:42:45\n",
            "1328861166240739328\n",
            "False\n",
            "Rajneeti News (Statue Mix-Up During Amit Shahs Bengal Visit, \"Outsiders\", Says Trinamool - NDTV) \n",
            "\n",
            "Union Dwelling Minister Amit Shah is on a two-day go to to Bengal with a watch on 2021 state polls\n",
            "\n",
            "Kolkata: \n",
            "An ... has been published on Rajneeti News - https://t.co/FBYmCRIOHC https://t.co/Prr2smbMkx\n",
            "RajneetiNews\n",
            "New Delhi\n",
            "Rajneeti News\n",
            "0\n",
            "553\n",
            "277\n",
            "0\n",
            "<--------------------------------------------------->\n",
            "120\n",
            "2020-11-17 18:52:39\n",
            "1328773058824347648\n",
            "False\n",
            "#Secular India*#Brand West Bengal*\n",
            "The volcano of anger erupts in Nandigram against ruling Trinamool Congress &amp; BJP. TERROR again faces DEFEAT at Nandigram. 5-km long Road from Tengua to Nandigram witnessed a Mammoth United March of 10 CTUs in support of 26th Nov General Strike. https://t.co/YhELwi6IVq\n",
            "SUNDARmyth\n",
            "KOLKATA\n",
            "Twitter Web App\n",
            "2\n",
            "12775\n",
            "1597\n",
            "1\n",
            "<--------------------------------------------------->\n",
            "121\n",
            "2020-11-17 18:51:04\n",
            "1328772661686595584\n",
            "False\n",
            "Do we have to learn politics from PK? Who is PK? If Trinamool suffers in Bengal, it will all be PK's fault,\" Niamat Sheikh, Trinamool MLA. @PrashantKishor oh oh same is @arivalayam members are saying but in open stages soon we can hear that #IPAC losing its value\n",
            "Sumanthraman1\n",
            "10 JP New Delhi\n",
            "Twitter for Android\n",
            "6\n",
            "721\n",
            "0\n",
            "0\n",
            "<--------------------------------------------------->\n",
            "122\n",
            "2020-11-17 18:00:13\n",
            "1328759863766183937\n",
            "False\n",
            "What is Congress game plan for Bengal??\n",
            "\n",
            "First option is tie up with Trinamool. If TMC does not bite  ..\n",
            "\n",
            "Then tie up with Left and experiment by adding Owaisi to the coalition \n",
            "\n",
            "Anyways there nothing much to lose\n",
            "TheBombayBombil\n",
            "Navi Mumbai \n",
            "Twitter Web App\n",
            "2\n",
            "4594\n",
            "999\n",
            "0\n",
            "<--------------------------------------------------->\n",
            "123\n",
            "2020-11-17 16:03:22\n",
            "1328730460201992193\n",
            "False\n",
            "@abpanandatv To sum up #BJP in #Bengal : leaders are from #TMC/#Trinamool and cadres are from #CPM/#Left. Lethal combination😭😂\n",
            "PrakashChakra\n",
            "Purulion, JNU 'ite nw B,lorean\n",
            "Twitter for Android\n",
            "0\n",
            "219\n",
            "199\n",
            "0\n",
            "<--------------------------------------------------->\n",
            "124\n",
            "2020-11-17 12:06:44\n",
            "1328670906432962560\n",
            "False\n",
            "Steps taken by @MamataOfficial-led Trinamool government in the 9.5 years to develop the condition of the women and the girl children:\n",
            "\n",
            "1. 48 women police stations has been founded. 8 of them belong to the Kolkata Police area while the rest belong to the Bengal Police area.\n",
            "NilanjanDas_\n",
            "Serampore, Hooghly\n",
            "Twitter for Android\n",
            "56\n",
            "1414\n",
            "605\n",
            "20\n",
            "<--------------------------------------------------->\n",
            "125\n",
            "2020-11-17 09:11:49\n",
            "1328626890123329538\n",
            "True\n",
            "FB Live link to press conference from @aitcofficial Media Centre at Trinamool Bhawan by @DrShashiPanja and @MdNadimulHaque6\n",
            "\n",
            "Subject: Women development in Bengal\n",
            "\n",
            "https://t.co/mrHsiU4Eg9\n",
            "derekobrienmp\n",
            "Kolkata, India\n",
            "Twitter Web App\n",
            "43\n",
            "1228446\n",
            "682\n",
            "14\n",
            "<--------------------------------------------------->\n",
            "126\n",
            "2020-11-17 06:28:15\n",
            "1328585726980730880\n",
            "False\n",
            "Badruddin Ajmal did try in Bengal. MIM might be dangerous for Trinamool in Bihari Muslim areas and parts of Dinajpur. Firhad Hakim should be worried. His \"Mini Pakistan \" might stop voting for him https://t.co/M8bNoagw2p\n",
            "psychiatrycal\n",
            "Kolkata \n",
            "Twitter for Android\n",
            "1\n",
            "1034\n",
            "655\n",
            "0\n",
            "<--------------------------------------------------->\n",
            "127\n",
            "2020-11-17 04:50:53\n",
            "1328561223567253504\n",
            "False\n",
            "SOS call to MAMATA BANERJEE from if PK is allowed to work freely Trinamool will split \n",
            "https://t.co/fv9dflmtGH\n",
            "Satyanewshi\n",
            "Hobart , 🇦🇺\n",
            "Twitter Web App\n",
            "25\n",
            "14204\n",
            "260\n",
            "8\n",
            "<--------------------------------------------------->\n",
            "128\n",
            "2020-11-16 20:00:01\n",
            "1328427624142491650\n",
            "True\n",
            "Responding to it, Mallick, president of the North 24 Parganas district unit of the Trinamool Congress (TMC), said, his party will win all 33 seats in the district.\n",
            "\n",
            "https://t.co/Lfn8w7EunC\n",
            "EconomicTimes\n",
            "\n",
            "TweetDeck\n",
            "10\n",
            "3770339\n",
            "43\n",
            "1\n",
            "<--------------------------------------------------->\n",
            "129\n",
            "2020-11-16 18:59:38\n",
            "1328412427243851776\n",
            "False\n",
            "#Secular India*#Brand West Bengal*\n",
            "Since 2008,due to the terror of Trinamool Congress,CPIM's Party Office at Kalibari,Tufangaunj,was closed.Time has changed.Questions raised about the political future of TMC &amp; Mamata Banerjee.People r again discussing about Left Front not BJP. https://t.co/SfqUbCdc0D\n",
            "SUNDARmyth\n",
            "KOLKATA\n",
            "Twitter Web App\n",
            "16\n",
            "12775\n",
            "1597\n",
            "4\n",
            "<--------------------------------------------------->\n",
            "130\n",
            "2020-11-16 12:39:26\n",
            "1328316748450263040\n",
            "False\n",
            "TRINAMOOL MLA Niamat Sheikh DON\"T Require PK in Murshidabad District . First signs of dissent against Bhaipo in the party\n",
            "https://t.co/a9XbdDz1f0\n",
            "Satyanewshi\n",
            "Hobart , 🇦🇺\n",
            "Twitter Web App\n",
            "48\n",
            "14204\n",
            "260\n",
            "12\n",
            "<--------------------------------------------------->\n",
            "131\n",
            "2020-11-16 07:56:47\n",
            "1328245615927513088\n",
            "False\n",
            "New Video Will Owaisi’s AIMIM Be An X Factor In Bengal? Trinamool Says It Won’t Be Easy link is below:\n",
            "https://t.co/XS5DDKYALP https://t.co/Bl4koaGJvq\n",
            "secularmiyabha3\n",
            "\n",
            "Twitter for Android\n",
            "13\n",
            "1178\n",
            "10\n",
            "1\n",
            "<--------------------------------------------------->\n",
            "132\n",
            "2020-11-16 03:43:33\n",
            "1328181890503700481\n",
            "True\n",
            "West Bengal BJP chief Ghosh’s allegations get sharp retort from Trinamool https://t.co/lijFselKD8\n",
            "AmanKayamHai_ET\n",
            "New Delhi, India\n",
            "Twitter for iPhone\n",
            "7\n",
            "49629\n",
            "1999\n",
            "0\n",
            "<--------------------------------------------------->\n",
            "133\n"
          ],
          "name": "stdout"
        }
      ]
    },
    {
      "cell_type": "code",
      "metadata": {
        "id": "rnC_-x_vgzPB"
      },
      "source": [
        "import re\n",
        "import numpy as np\n",
        "\n",
        "import matplotlib.pyplot as plt\n",
        "import seaborn as sns\n",
        "\n",
        "import pandas as pd\n",
        "\n",
        "import datetime as dt\n",
        "from collections import Counter\n",
        "\n",
        "import nltk\n",
        "from nltk.tokenize import sent_tokenize\n",
        "from nltk.tokenize import TweetTokenizer\n",
        "from nltk.tokenize import word_tokenize\n",
        "from nltk.corpus import words\n",
        "from nltk.corpus import stopwords\n",
        "from nltk.stem import PorterStemmer\n",
        "from nltk.stem import WordNetLemmatizer"
      ],
      "execution_count": 4,
      "outputs": []
    },
    {
      "cell_type": "code",
      "metadata": {
        "id": "uuKwAeG2VKgp",
        "colab": {
          "base_uri": "https://localhost:8080/"
        },
        "outputId": "39b9dc2d-7749-4d28-ce8c-5ed63751a057"
      },
      "source": [
        "df.info()"
      ],
      "execution_count": 5,
      "outputs": [
        {
          "output_type": "stream",
          "text": [
            "<class 'pandas.core.frame.DataFrame'>\n",
            "RangeIndex: 133 entries, 0 to 132\n",
            "Data columns (total 11 columns):\n",
            " #   Column     Non-Null Count  Dtype         \n",
            "---  ------     --------------  -----         \n",
            " 0   Date       133 non-null    datetime64[ns]\n",
            " 1   Tweet_id   133 non-null    int64         \n",
            " 2   Verified   133 non-null    bool          \n",
            " 3   Tweet      133 non-null    object        \n",
            " 4   User       133 non-null    object        \n",
            " 5   Location   133 non-null    object        \n",
            " 6   Source     133 non-null    object        \n",
            " 7   Likes      133 non-null    int64         \n",
            " 8   Followers  133 non-null    int64         \n",
            " 9   Following  133 non-null    int64         \n",
            " 10  Retweets   133 non-null    int64         \n",
            "dtypes: bool(1), datetime64[ns](1), int64(5), object(4)\n",
            "memory usage: 10.6+ KB\n"
          ],
          "name": "stdout"
        }
      ]
    },
    {
      "cell_type": "code",
      "metadata": {
        "id": "Yz9Mr_5bU3wO",
        "colab": {
          "base_uri": "https://localhost:8080/"
        },
        "outputId": "c7f3cd52-5b0b-4d36-887c-4984df2669b6"
      },
      "source": [
        "df.shape"
      ],
      "execution_count": 6,
      "outputs": [
        {
          "output_type": "execute_result",
          "data": {
            "text/plain": [
              "(133, 11)"
            ]
          },
          "metadata": {
            "tags": []
          },
          "execution_count": 6
        }
      ]
    },
    {
      "cell_type": "code",
      "metadata": {
        "id": "U2TqiSlvU5AL"
      },
      "source": [
        "df['Date'] = df['Date'].apply(lambda x: dt.datetime.strptime(str(x),'%Y-%m-%d %H:%M:%S')) #Convert to date time format"
      ],
      "execution_count": 8,
      "outputs": []
    },
    {
      "cell_type": "code",
      "metadata": {
        "id": "iALZ0QjFX6iW",
        "colab": {
          "base_uri": "https://localhost:8080/"
        },
        "outputId": "3a17eea2-dab7-4ea1-9cbb-efb91765f077"
      },
      "source": [
        "df.dtypes"
      ],
      "execution_count": 9,
      "outputs": [
        {
          "output_type": "execute_result",
          "data": {
            "text/plain": [
              "Date         datetime64[ns]\n",
              "Tweet_id              int64\n",
              "Verified               bool\n",
              "Tweet                object\n",
              "User                 object\n",
              "Location             object\n",
              "Source               object\n",
              "Likes                 int64\n",
              "Followers             int64\n",
              "Following             int64\n",
              "Retweets              int64\n",
              "dtype: object"
            ]
          },
          "metadata": {
            "tags": []
          },
          "execution_count": 9
        }
      ]
    },
    {
      "cell_type": "code",
      "metadata": {
        "id": "QwBHDIQ7X-S-",
        "colab": {
          "base_uri": "https://localhost:8080/"
        },
        "outputId": "7b11989c-b929-465e-d1ee-3a35c0bb132e"
      },
      "source": [
        "df.isnull().sum()"
      ],
      "execution_count": 11,
      "outputs": [
        {
          "output_type": "execute_result",
          "data": {
            "text/plain": [
              "Date         0\n",
              "Tweet_id     0\n",
              "Verified     0\n",
              "Tweet        0\n",
              "User         0\n",
              "Location     0\n",
              "Source       0\n",
              "Likes        0\n",
              "Followers    0\n",
              "Following    0\n",
              "Retweets     0\n",
              "dtype: int64"
            ]
          },
          "metadata": {
            "tags": []
          },
          "execution_count": 11
        }
      ]
    },
    {
      "cell_type": "code",
      "metadata": {
        "id": "PULuNP0EYKb8",
        "colab": {
          "base_uri": "https://localhost:8080/"
        },
        "outputId": "d1e9ef67-fcb6-4331-8b4c-dab6e022142e"
      },
      "source": [
        "df['Source'].value_counts()"
      ],
      "execution_count": 12,
      "outputs": [
        {
          "output_type": "execute_result",
          "data": {
            "text/plain": [
              "Twitter Web App                   56\n",
              "Twitter for Android               47\n",
              "TweetDeck                          8\n",
              "Twitter for iPhone                 5\n",
              "Hootsuite Inc.                     3\n",
              "Twitter Media Studio - LiveCut     2\n",
              "Twitter Media Studio               2\n",
              "WordPress.com                      2\n",
              "NDTVfeed                           2\n",
              "IFTTT                              2\n",
              "Rajneeti News                      1\n",
              "ClarionIndia                       1\n",
              "Republicworld                      1\n",
              "Blog2Social APP                    1\n",
              "Name: Source, dtype: int64"
            ]
          },
          "metadata": {
            "tags": []
          },
          "execution_count": 12
        }
      ]
    },
    {
      "cell_type": "code",
      "metadata": {
        "id": "L0yluKAMYUhm",
        "colab": {
          "base_uri": "https://localhost:8080/"
        },
        "outputId": "66b96d11-093e-48f3-91cd-6f11ec59acb9"
      },
      "source": [
        "df['Location'].nunique()"
      ],
      "execution_count": 13,
      "outputs": [
        {
          "output_type": "execute_result",
          "data": {
            "text/plain": [
              "50"
            ]
          },
          "metadata": {
            "tags": []
          },
          "execution_count": 13
        }
      ]
    },
    {
      "cell_type": "code",
      "metadata": {
        "id": "YaaScZPVYalK",
        "colab": {
          "base_uri": "https://localhost:8080/"
        },
        "outputId": "7d9eb3ca-018c-4559-d756-600c6bcb6500"
      },
      "source": [
        "tweets_list = df['Tweet'].tolist()\n",
        "len(tweets_list)"
      ],
      "execution_count": 14,
      "outputs": [
        {
          "output_type": "execute_result",
          "data": {
            "text/plain": [
              "133"
            ]
          },
          "metadata": {
            "tags": []
          },
          "execution_count": 14
        }
      ]
    },
    {
      "cell_type": "code",
      "metadata": {
        "id": "ki_iXrJoYe8a",
        "colab": {
          "base_uri": "https://localhost:8080/"
        },
        "outputId": "64f5bf8c-6358-4e11-a57f-14447ab980d8"
      },
      "source": [
        "tweets_list_updated = set(tweets_list)\n",
        "len(tweets_list_updated)\n"
      ],
      "execution_count": 15,
      "outputs": [
        {
          "output_type": "execute_result",
          "data": {
            "text/plain": [
              "131"
            ]
          },
          "metadata": {
            "tags": []
          },
          "execution_count": 15
        }
      ]
    },
    {
      "cell_type": "code",
      "metadata": {
        "id": "4UT1yjfTYiLB",
        "colab": {
          "base_uri": "https://localhost:8080/"
        },
        "outputId": "dfe1975c-3752-4cf7-8f56-ffb5f8e5a676"
      },
      "source": [
        "tweets_list_updated  = list(tweets_list_updated)\n",
        "type(tweets_list_updated)"
      ],
      "execution_count": 16,
      "outputs": [
        {
          "output_type": "execute_result",
          "data": {
            "text/plain": [
              "list"
            ]
          },
          "metadata": {
            "tags": []
          },
          "execution_count": 16
        }
      ]
    },
    {
      "cell_type": "code",
      "metadata": {
        "id": "oOTJ2Z1IYl15",
        "colab": {
          "base_uri": "https://localhost:8080/"
        },
        "outputId": "fe4cd09e-2e01-4b02-a719-c1cc1c723db0"
      },
      "source": [
        "df['Tweet'].duplicated().sum()"
      ],
      "execution_count": 19,
      "outputs": [
        {
          "output_type": "execute_result",
          "data": {
            "text/plain": [
              "0"
            ]
          },
          "metadata": {
            "tags": []
          },
          "execution_count": 19
        }
      ]
    },
    {
      "cell_type": "code",
      "metadata": {
        "id": "iboT9Z8nYts6",
        "colab": {
          "base_uri": "https://localhost:8080/"
        },
        "outputId": "858603f9-4a88-4110-d958-64382d24e8a1"
      },
      "source": [
        "df = df.drop_duplicates(subset = 'Tweet', keep = 'first',ignore_index = True)\n",
        "df.shape"
      ],
      "execution_count": 21,
      "outputs": [
        {
          "output_type": "execute_result",
          "data": {
            "text/plain": [
              "(131, 11)"
            ]
          },
          "metadata": {
            "tags": []
          },
          "execution_count": 21
        }
      ]
    },
    {
      "cell_type": "code",
      "metadata": {
        "id": "YtUW3NmsYw7L",
        "colab": {
          "base_uri": "https://localhost:8080/"
        },
        "outputId": "9a60e016-8ea9-4f2e-e266-7203b8cfa711"
      },
      "source": [
        "df['Tweet'].duplicated().sum()"
      ],
      "execution_count": 22,
      "outputs": [
        {
          "output_type": "execute_result",
          "data": {
            "text/plain": [
              "0"
            ]
          },
          "metadata": {
            "tags": []
          },
          "execution_count": 22
        }
      ]
    },
    {
      "cell_type": "code",
      "metadata": {
        "id": "87iWarvlY1GV"
      },
      "source": [
        "def remove_emoji(tweet):\n",
        "    emoji_pattern = re.compile(\"[\"\n",
        "            u\"\\U0001F600-\\U0001F64F\"  # emoticons\n",
        "            u\"\\U0001F300-\\U0001F5FF\"  # symbols & pictographs\n",
        "            u\"\\U0001F680-\\U0001F6FF\"  # transport & map symbols\n",
        "            u\"\\U0001F1E0-\\U0001F1FF\"  # flags (iOS)\n",
        "                               \"]+\", flags=re.UNICODE)\n",
        "    return emoji_pattern.sub(r'', tweet)\n",
        "\n",
        "df['Processed_Tweet']=df.Tweet.apply(remove_emoji)"
      ],
      "execution_count": 23,
      "outputs": []
    },
    {
      "cell_type": "code",
      "metadata": {
        "id": "ufbUsSdyY8ZL",
        "colab": {
          "base_uri": "https://localhost:8080/"
        },
        "outputId": "21d66def-055f-4955-ea21-0c0feb801774"
      },
      "source": [
        "count=0\n",
        "for i in df['Processed_Tweet']:\n",
        "    if re.match(r'^RT', i):  #remove any rows that contain RT\n",
        "        df.drop(df.loc[df['Processed_Tweet']==i].index,inplace = True)\n",
        "        count+=1\n",
        "    \n",
        "count"
      ],
      "execution_count": 24,
      "outputs": [
        {
          "output_type": "execute_result",
          "data": {
            "text/plain": [
              "0"
            ]
          },
          "metadata": {
            "tags": []
          },
          "execution_count": 24
        }
      ]
    },
    {
      "cell_type": "code",
      "metadata": {
        "id": "5xlJXmV2ZBEw",
        "colab": {
          "base_uri": "https://localhost:8080/"
        },
        "outputId": "c0ba43f3-fd68-4430-ecc9-e1c773462d3a"
      },
      "source": [
        "df.shape"
      ],
      "execution_count": 25,
      "outputs": [
        {
          "output_type": "execute_result",
          "data": {
            "text/plain": [
              "(131, 12)"
            ]
          },
          "metadata": {
            "tags": []
          },
          "execution_count": 25
        }
      ]
    },
    {
      "cell_type": "code",
      "metadata": {
        "id": "8dR-gpRYZGhr",
        "colab": {
          "base_uri": "https://localhost:8080/"
        },
        "outputId": "4cddfe08-a72e-41aa-a1f2-4bebf2fa3515"
      },
      "source": [
        "df['Processed_Tweet']"
      ],
      "execution_count": 26,
      "outputs": [
        {
          "output_type": "execute_result",
          "data": {
            "text/plain": [
              "0      @manickamtagore Congress Calling Trinamool Con...\n",
              "1      On Saturday BJP’s State President Dilip Ghosh ...\n",
              "2      At least five Trinamool Congress MPs in West B...\n",
              "3      The TMC and the BJP are the culprits for the d...\n",
              "4      Janata Janardan is everything in a democracy. ...\n",
              "                             ...                        \n",
              "126    Responding to it, Mallick, president of the No...\n",
              "127    #Secular India*#Brand West Bengal*\\nSince 2008...\n",
              "128    TRINAMOOL MLA Niamat Sheikh DON\"T Require PK i...\n",
              "129    New Video Will Owaisi’s AIMIM Be An X Factor I...\n",
              "130    West Bengal BJP chief Ghosh’s allegations get ...\n",
              "Name: Processed_Tweet, Length: 131, dtype: object"
            ]
          },
          "metadata": {
            "tags": []
          },
          "execution_count": 26
        }
      ]
    },
    {
      "cell_type": "code",
      "metadata": {
        "id": "K5CezelDZKDa",
        "colab": {
          "base_uri": "https://localhost:8080/"
        },
        "outputId": "8e4a19aa-e91d-4887-de04-604950d0ea06"
      },
      "source": [
        "df['Processed_Tweet'] = [re.sub('^RT[\\s]','',i) for i in df['Processed_Tweet']]  #Remove RT substring\n",
        "df['Processed_Tweet']"
      ],
      "execution_count": 27,
      "outputs": [
        {
          "output_type": "execute_result",
          "data": {
            "text/plain": [
              "0      @manickamtagore Congress Calling Trinamool Con...\n",
              "1      On Saturday BJP’s State President Dilip Ghosh ...\n",
              "2      At least five Trinamool Congress MPs in West B...\n",
              "3      The TMC and the BJP are the culprits for the d...\n",
              "4      Janata Janardan is everything in a democracy. ...\n",
              "                             ...                        \n",
              "126    Responding to it, Mallick, president of the No...\n",
              "127    #Secular India*#Brand West Bengal*\\nSince 2008...\n",
              "128    TRINAMOOL MLA Niamat Sheikh DON\"T Require PK i...\n",
              "129    New Video Will Owaisi’s AIMIM Be An X Factor I...\n",
              "130    West Bengal BJP chief Ghosh’s allegations get ...\n",
              "Name: Processed_Tweet, Length: 131, dtype: object"
            ]
          },
          "metadata": {
            "tags": []
          },
          "execution_count": 27
        }
      ]
    },
    {
      "cell_type": "code",
      "metadata": {
        "id": "gjiyro27ZOx_",
        "colab": {
          "base_uri": "https://localhost:8080/"
        },
        "outputId": "9388b819-3548-4d8c-b2b5-8cd201fea499"
      },
      "source": [
        "df['Processed_Tweet'] = [re.sub('@[^\\s]+', ' ', i) for i in df['Processed_Tweet']] #remove usernames\n",
        "df['Processed_Tweet']"
      ],
      "execution_count": 28,
      "outputs": [
        {
          "output_type": "execute_result",
          "data": {
            "text/plain": [
              "0        Congress Calling Trinamool Congress Is B Tea...\n",
              "1      On Saturday BJP’s State President Dilip Ghosh ...\n",
              "2      At least five Trinamool Congress MPs in West B...\n",
              "3      The TMC and the BJP are the culprits for the d...\n",
              "4      Janata Janardan is everything in a democracy. ...\n",
              "                             ...                        \n",
              "126    Responding to it, Mallick, president of the No...\n",
              "127    #Secular India*#Brand West Bengal*\\nSince 2008...\n",
              "128    TRINAMOOL MLA Niamat Sheikh DON\"T Require PK i...\n",
              "129    New Video Will Owaisi’s AIMIM Be An X Factor I...\n",
              "130    West Bengal BJP chief Ghosh’s allegations get ...\n",
              "Name: Processed_Tweet, Length: 131, dtype: object"
            ]
          },
          "metadata": {
            "tags": []
          },
          "execution_count": 28
        }
      ]
    },
    {
      "cell_type": "code",
      "metadata": {
        "id": "HedkRzD1ZS4Q",
        "colab": {
          "base_uri": "https://localhost:8080/"
        },
        "outputId": "c0553e39-9b82-4c48-e8da-4db798559c55"
      },
      "source": [
        "df['Processed_Tweet'] = [re.sub('((www\\.[^\\s]+)|(https?://[^\\s]+))', '', i) for i in df['Processed_Tweet']] #Remove urls\n",
        "df['Processed_Tweet']"
      ],
      "execution_count": 29,
      "outputs": [
        {
          "output_type": "execute_result",
          "data": {
            "text/plain": [
              "0        Congress Calling Trinamool Congress Is B Tea...\n",
              "1      On Saturday BJP’s State President Dilip Ghosh ...\n",
              "2      At least five Trinamool Congress MPs in West B...\n",
              "3      The TMC and the BJP are the culprits for the d...\n",
              "4      Janata Janardan is everything in a democracy. ...\n",
              "                             ...                        \n",
              "126    Responding to it, Mallick, president of the No...\n",
              "127    #Secular India*#Brand West Bengal*\\nSince 2008...\n",
              "128    TRINAMOOL MLA Niamat Sheikh DON\"T Require PK i...\n",
              "129    New Video Will Owaisi’s AIMIM Be An X Factor I...\n",
              "130    West Bengal BJP chief Ghosh’s allegations get ...\n",
              "Name: Processed_Tweet, Length: 131, dtype: object"
            ]
          },
          "metadata": {
            "tags": []
          },
          "execution_count": 29
        }
      ]
    },
    {
      "cell_type": "code",
      "metadata": {
        "id": "EmDOOVqcZXb0",
        "colab": {
          "base_uri": "https://localhost:8080/"
        },
        "outputId": "c0b3b558-231d-4128-9258-ed53a74ec893"
      },
      "source": [
        "df['Processed_Tweet'] = [re.sub(r'#([^\\s]+)', r'\\1', i) for i in df['Processed_Tweet']] # remove the # in #hashtag\n",
        "df['Processed_Tweet']"
      ],
      "execution_count": 30,
      "outputs": [
        {
          "output_type": "execute_result",
          "data": {
            "text/plain": [
              "0        Congress Calling Trinamool Congress Is B Tea...\n",
              "1      On Saturday BJP’s State President Dilip Ghosh ...\n",
              "2      At least five Trinamool Congress MPs in West B...\n",
              "3      The TMC and the BJP are the culprits for the d...\n",
              "4      Janata Janardan is everything in a democracy. ...\n",
              "                             ...                        \n",
              "126    Responding to it, Mallick, president of the No...\n",
              "127    Secular India*Brand West Bengal*\\nSince 2008,d...\n",
              "128    TRINAMOOL MLA Niamat Sheikh DON\"T Require PK i...\n",
              "129    New Video Will Owaisi’s AIMIM Be An X Factor I...\n",
              "130    West Bengal BJP chief Ghosh’s allegations get ...\n",
              "Name: Processed_Tweet, Length: 131, dtype: object"
            ]
          },
          "metadata": {
            "tags": []
          },
          "execution_count": 30
        }
      ]
    },
    {
      "cell_type": "code",
      "metadata": {
        "id": "GSXJD-U6ZhW1",
        "colab": {
          "base_uri": "https://localhost:8080/"
        },
        "outputId": "00345ab7-6846-4c5f-edf5-99b0d552f7eb"
      },
      "source": [
        "!pip install tweet-preprocessor"
      ],
      "execution_count": 31,
      "outputs": [
        {
          "output_type": "stream",
          "text": [
            "Collecting tweet-preprocessor\n",
            "  Downloading https://files.pythonhosted.org/packages/17/9d/71bd016a9edcef8860c607e531f30bd09b13103c7951ae73dd2bf174163c/tweet_preprocessor-0.6.0-py3-none-any.whl\n",
            "Installing collected packages: tweet-preprocessor\n",
            "Successfully installed tweet-preprocessor-0.6.0\n"
          ],
          "name": "stdout"
        }
      ]
    },
    {
      "cell_type": "code",
      "metadata": {
        "id": "S-GqeFH8ZcYI",
        "colab": {
          "base_uri": "https://localhost:8080/"
        },
        "outputId": "c3098e3c-aade-4f3f-e92e-e9a7eb60c43a"
      },
      "source": [
        "import preprocessor as p #Module for faster preprocessing specifically for tweets\n",
        "df['Processed_Tweet'] = [p.clean(i) for i in df['Processed_Tweet']]\n",
        "df['Processed_Tweet']"
      ],
      "execution_count": 33,
      "outputs": [
        {
          "output_type": "execute_result",
          "data": {
            "text/plain": [
              "0      Congress Calling Trinamool Congress Is B Team ...\n",
              "1      On Saturday BJPs State President Dilip Ghosh i...\n",
              "2      At least five Trinamool Congress MPs in West B...\n",
              "3      The TMC and the BJP are the culprits for the d...\n",
              "4      Janata Janardan is everything in a democracy. ...\n",
              "                             ...                        \n",
              "126    Responding to it, Mallick, president of the No...\n",
              "127    Secular India*Brand West Bengal*Since ,due to ...\n",
              "128    TRINAMOOL MLA Niamat Sheikh DON\"T Require PK i...\n",
              "129    New Video Will Owaisis AIMIM Be An XFactor In ...\n",
              "130    West Bengal BJP chief Ghoshs allegations get s...\n",
              "Name: Processed_Tweet, Length: 131, dtype: object"
            ]
          },
          "metadata": {
            "tags": []
          },
          "execution_count": 33
        }
      ]
    },
    {
      "cell_type": "code",
      "metadata": {
        "id": "T0_7jWfXZo2E",
        "colab": {
          "base_uri": "https://localhost:8080/"
        },
        "outputId": "941832ac-a266-49dc-84e2-a1fa9a07b130"
      },
      "source": [
        "#removing unnecessary special characters, numbers, punctuations in tweets\n",
        "df.Processed_Tweet = df.Processed_Tweet.str.replace(\"[^a-zA-Z]\", \" \")\n",
        "df[\"Processed_Tweet\"]"
      ],
      "execution_count": 34,
      "outputs": [
        {
          "output_type": "execute_result",
          "data": {
            "text/plain": [
              "0      Congress Calling Trinamool Congress Is B Team ...\n",
              "1      On Saturday BJPs State President Dilip Ghosh i...\n",
              "2      At least five Trinamool Congress MPs in West B...\n",
              "3      The TMC and the BJP are the culprits for the d...\n",
              "4      Janata Janardan is everything in a democracy  ...\n",
              "                             ...                        \n",
              "126    Responding to it  Mallick  president of the No...\n",
              "127    Secular India Brand West Bengal Since  due to ...\n",
              "128    TRINAMOOL MLA Niamat Sheikh DON T Require PK i...\n",
              "129    New Video Will Owaisis AIMIM Be An XFactor In ...\n",
              "130    West Bengal BJP chief Ghoshs allegations get s...\n",
              "Name: Processed_Tweet, Length: 131, dtype: object"
            ]
          },
          "metadata": {
            "tags": []
          },
          "execution_count": 34
        }
      ]
    },
    {
      "cell_type": "code",
      "metadata": {
        "id": "3rQeZOTCZsd7",
        "colab": {
          "base_uri": "https://localhost:8080/"
        },
        "outputId": "84f3c489-786e-49ad-cd99-cda280729aea"
      },
      "source": [
        "df.Processed_Tweet = [low.lower() for low in df.Processed_Tweet] #Converting into lower case\n",
        "df[\"Processed_Tweet\"]"
      ],
      "execution_count": 35,
      "outputs": [
        {
          "output_type": "execute_result",
          "data": {
            "text/plain": [
              "0      congress calling trinamool congress is b team ...\n",
              "1      on saturday bjps state president dilip ghosh i...\n",
              "2      at least five trinamool congress mps in west b...\n",
              "3      the tmc and the bjp are the culprits for the d...\n",
              "4      janata janardan is everything in a democracy  ...\n",
              "                             ...                        \n",
              "126    responding to it  mallick  president of the no...\n",
              "127    secular india brand west bengal since  due to ...\n",
              "128    trinamool mla niamat sheikh don t require pk i...\n",
              "129    new video will owaisis aimim be an xfactor in ...\n",
              "130    west bengal bjp chief ghoshs allegations get s...\n",
              "Name: Processed_Tweet, Length: 131, dtype: object"
            ]
          },
          "metadata": {
            "tags": []
          },
          "execution_count": 35
        }
      ]
    },
    {
      "cell_type": "code",
      "metadata": {
        "id": "D1caun-KZxeX",
        "colab": {
          "base_uri": "https://localhost:8080/",
          "height": 35
        },
        "outputId": "73d116db-92df-4981-8112-40bbc14765e0"
      },
      "source": [
        "df.Processed_Tweet =  df.Processed_Tweet.str.replace(\"amp\", \"\")\n",
        "df['Processed_Tweet'][12] #Sample tweet"
      ],
      "execution_count": 36,
      "outputs": [
        {
          "output_type": "execute_result",
          "data": {
            "application/vnd.google.colaboratory.intrinsic+json": {
              "type": "string"
            },
            "text/plain": [
              "'similar in west bengal before the most of the right voted for trinamool or congress to throw out left from the government '"
            ]
          },
          "metadata": {
            "tags": []
          },
          "execution_count": 36
        }
      ]
    },
    {
      "cell_type": "code",
      "metadata": {
        "id": "AQ7xfpqOZ7gx",
        "colab": {
          "base_uri": "https://localhost:8080/"
        },
        "outputId": "e470c8c8-fe0e-40af-c489-5ce11ba5393b"
      },
      "source": [
        "df['User'].value_counts()"
      ],
      "execution_count": 39,
      "outputs": [
        {
          "output_type": "execute_result",
          "data": {
            "text/plain": [
              "Satyanewshi        6\n",
              "ndtv               5\n",
              "derekobrienmp      3\n",
              "DailyO_            3\n",
              "TheQuint           3\n",
              "                  ..\n",
              "srinu11224         1\n",
              "simple_lifeme      1\n",
              "abhijitdas20ad     1\n",
              "TheDailyPioneer    1\n",
              "aprichitrahul      1\n",
              "Name: User, Length: 102, dtype: int64"
            ]
          },
          "metadata": {
            "tags": []
          },
          "execution_count": 39
        }
      ]
    },
    {
      "cell_type": "code",
      "metadata": {
        "id": "WX3ijK3eZ9CL",
        "colab": {
          "base_uri": "https://localhost:8080/"
        },
        "outputId": "0a1e0e40-573e-48aa-e235-e04d9950319f"
      },
      "source": [
        "df.query('User == \"jacketrose86\"').Processed_Tweet.tolist()"
      ],
      "execution_count": 41,
      "outputs": [
        {
          "output_type": "execute_result",
          "data": {
            "text/plain": [
              "[]"
            ]
          },
          "metadata": {
            "tags": []
          },
          "execution_count": 41
        }
      ]
    },
    {
      "cell_type": "code",
      "metadata": {
        "id": "ZSs-7eHlZ9F5",
        "colab": {
          "base_uri": "https://localhost:8080/",
          "height": 333
        },
        "outputId": "f9267aef-0928-4775-eb2d-720e324de43f"
      },
      "source": [
        "bar = sns.countplot(df['Verified'])"
      ],
      "execution_count": 42,
      "outputs": [
        {
          "output_type": "stream",
          "text": [
            "/usr/local/lib/python3.6/dist-packages/seaborn/_decorators.py:43: FutureWarning: Pass the following variable as a keyword arg: x. From version 0.12, the only valid positional argument will be `data`, and passing other arguments without an explicit keyword will result in an error or misinterpretation.\n",
            "  FutureWarning\n"
          ],
          "name": "stderr"
        },
        {
          "output_type": "display_data",
          "data": {
            "image/png": "[encoded data removed]",
            "text/plain": [
              "<Figure size 432x288 with 1 Axes>"
            ]
          },
          "metadata": {
            "tags": [],
            "needs_background": "light"
          }
        }
      ]
    },
    {
      "cell_type": "code",
      "metadata": {
        "id": "48YKJISOZ9Jm",
        "colab": {
          "base_uri": "https://localhost:8080/"
        },
        "outputId": "4a81f77f-3e97-42d9-bd1c-130ec4182364"
      },
      "source": [
        "df['Verified'].value_counts()"
      ],
      "execution_count": 43,
      "outputs": [
        {
          "output_type": "execute_result",
          "data": {
            "text/plain": [
              "False    98\n",
              "True     33\n",
              "Name: Verified, dtype: int64"
            ]
          },
          "metadata": {
            "tags": []
          },
          "execution_count": 43
        }
      ]
    },
    {
      "cell_type": "code",
      "metadata": {
        "id": "qBweECkIZ9Ng",
        "colab": {
          "base_uri": "https://localhost:8080/"
        },
        "outputId": "a7a9608d-197f-4d82-dfd9-d2eb4fda3874"
      },
      "source": [
        "df_verified = df.query('Verified == True')\n",
        "df_verified['User'].value_counts()"
      ],
      "execution_count": 44,
      "outputs": [
        {
          "output_type": "execute_result",
          "data": {
            "text/plain": [
              "ndtv               5\n",
              "DailyO_            3\n",
              "derekobrienmp      3\n",
              "TheQuint           3\n",
              "ndtvvideos         2\n",
              "CNNnews18          2\n",
              "Outlookindia       2\n",
              "ndtvfeed           2\n",
              "IndiaToday         2\n",
              "republic           1\n",
              "EconomicTimes      1\n",
              "THKolkata          1\n",
              "TheDailyPioneer    1\n",
              "AhamedHassanMP     1\n",
              "AmanKayamHai_ET    1\n",
              "IndianExpress      1\n",
              "ShoaibDaniyal      1\n",
              "BJP4Bengal         1\n",
              "Name: User, dtype: int64"
            ]
          },
          "metadata": {
            "tags": []
          },
          "execution_count": 44
        }
      ]
    },
    {
      "cell_type": "code",
      "metadata": {
        "id": "zNnEjVTuZ9Ue",
        "colab": {
          "base_uri": "https://localhost:8080/"
        },
        "outputId": "2084f72f-46e5-4220-c52a-fa47a7f3e7a4"
      },
      "source": [
        "days = df['Date'].dt.day.tolist()\n",
        "no_of_days = Counter(days)\n",
        "no_of_days"
      ],
      "execution_count": 45,
      "outputs": [
        {
          "output_type": "execute_result",
          "data": {
            "text/plain": [
              "Counter({16: 5, 17: 7, 18: 41, 19: 34, 20: 24, 21: 20})"
            ]
          },
          "metadata": {
            "tags": []
          },
          "execution_count": 45
        }
      ]
    },
    {
      "cell_type": "code",
      "metadata": {
        "id": "mzu51x0fZ9X4",
        "colab": {
          "base_uri": "https://localhost:8080/",
          "height": 475
        },
        "outputId": "c4f64a11-704c-450e-9913-c909bfe7e280"
      },
      "source": [
        "fig = plt.figure(figsize = (15,7))\n",
        "plt.bar(range(len(no_of_days)), list(no_of_days.values()), align='center', alpha = 0.5,color = 'red')\n",
        "plt.xticks(range(len(no_of_days)), list(no_of_days.keys()))\n",
        "plt.xlabel(\"Day\")\n",
        "plt.ylabel(\"Count Of Tweets\")\n",
        "plt.title(\"Count Of Extracted Tweets On Each Day\")"
      ],
      "execution_count": 46,
      "outputs": [
        {
          "output_type": "execute_result",
          "data": {
            "text/plain": [
              "Text(0.5, 1.0, 'Count Of Extracted Tweets On Each Day')"
            ]
          },
          "metadata": {
            "tags": []
          },
          "execution_count": 46
        },
        {
          "output_type": "display_data",
          "data": {
            "image/png": "[encoded data removed]",
            "text/plain": [
              "<Figure size 1080x504 with 1 Axes>"
            ]
          },
          "metadata": {
            "tags": [],
            "needs_background": "light"
          }
        }
      ]
    },
    {
      "cell_type": "code",
      "metadata": {
        "id": "Qk4k7vt2Z9cE",
        "colab": {
          "base_uri": "https://localhost:8080/"
        },
        "outputId": "4502fe2d-e139-438c-cb8b-08474455087a"
      },
      "source": [
        "hours = df['Date'].dt.hour.tolist()\n",
        "no_of_hours = Counter(hours)\n",
        "no_of_hours"
      ],
      "execution_count": 47,
      "outputs": [
        {
          "output_type": "execute_result",
          "data": {
            "text/plain": [
              "Counter({0: 2,\n",
              "         1: 1,\n",
              "         2: 2,\n",
              "         3: 8,\n",
              "         4: 6,\n",
              "         5: 4,\n",
              "         6: 8,\n",
              "         7: 4,\n",
              "         8: 9,\n",
              "         9: 7,\n",
              "         10: 6,\n",
              "         11: 7,\n",
              "         12: 7,\n",
              "         13: 8,\n",
              "         14: 6,\n",
              "         15: 12,\n",
              "         16: 7,\n",
              "         17: 2,\n",
              "         18: 17,\n",
              "         19: 3,\n",
              "         20: 3,\n",
              "         21: 1,\n",
              "         23: 1})"
            ]
          },
          "metadata": {
            "tags": []
          },
          "execution_count": 47
        }
      ]
    },
    {
      "cell_type": "code",
      "metadata": {
        "id": "FnldeKsyZ9fF",
        "colab": {
          "base_uri": "https://localhost:8080/",
          "height": 530
        },
        "outputId": "0ef1a77e-1365-44d7-ac2d-8a477bef702d"
      },
      "source": [
        "fig = plt.figure(figsize = (15,8))\n",
        "plt.bar(range(len(no_of_hours)), list(no_of_hours.values()), align='center', alpha = 0.5,color = 'red')\n",
        "plt.xticks(range(len(no_of_hours)), list(no_of_hours.keys()))\n",
        "plt.xlabel(\"Hour\")\n",
        "plt.ylabel(\"Count Of Tweets\")\n",
        "plt.title(\"Count Of Extracted Tweets On Each Hour\")"
      ],
      "execution_count": 48,
      "outputs": [
        {
          "output_type": "execute_result",
          "data": {
            "text/plain": [
              "Text(0.5, 1.0, 'Count Of Extracted Tweets On Each Hour')"
            ]
          },
          "metadata": {
            "tags": []
          },
          "execution_count": 48
        },
        {
          "output_type": "display_data",
          "data": {
            "image/png": "[encoded data removed]",
            "text/plain": [
              "<Figure size 1080x576 with 1 Axes>"
            ]
          },
          "metadata": {
            "tags": [],
            "needs_background": "light"
          }
        }
      ]
    },
    {
      "cell_type": "code",
      "metadata": {
        "id": "v2uHncb_Z9ie"
      },
      "source": [
        "from wordcloud import WordCloud\n",
        "tokenizer = TweetTokenizer()"
      ],
      "execution_count": 49,
      "outputs": []
    },
    {
      "cell_type": "code",
      "metadata": {
        "id": "ti_i96jza3EY",
        "colab": {
          "base_uri": "https://localhost:8080/"
        },
        "outputId": "3884e7ff-15db-410b-b5cf-089479d0308b"
      },
      "source": [
        "import nltk\n",
        "nltk.download('stopwords')"
      ],
      "execution_count": 50,
      "outputs": [
        {
          "output_type": "stream",
          "text": [
            "[nltk_data] Downloading package stopwords to /root/nltk_data...\n",
            "[nltk_data]   Unzipping corpora/stopwords.zip.\n"
          ],
          "name": "stdout"
        },
        {
          "output_type": "execute_result",
          "data": {
            "text/plain": [
              "True"
            ]
          },
          "metadata": {
            "tags": []
          },
          "execution_count": 50
        }
      ]
    },
    {
      "cell_type": "code",
      "metadata": {
        "id": "ryhZIIElZ9lx",
        "colab": {
          "base_uri": "https://localhost:8080/"
        },
        "outputId": "e19b940a-ff1b-4009-f8eb-dfb6a4d12576"
      },
      "source": [
        "stop_words = set(stopwords.words('english')) \n",
        "stop_words = list(stop_words)\n",
        "print(stop_words)"
      ],
      "execution_count": 51,
      "outputs": [
        {
          "output_type": "stream",
          "text": [
            "['be', 'down', 'after', 'during', 'he', 'o', 'no', \"haven't\", 'up', \"mustn't\", 'nor', 'it', 'yourselves', 'himself', 'same', 'out', 'herself', 'of', 'more', 'above', \"couldn't\", 'd', 'most', 'mustn', 'she', \"shan't\", 'both', 'we', 'his', 'our', 'than', 'between', 'but', 'them', 'with', 'was', 'should', 'needn', 'my', 'against', \"you'll\", \"needn't\", 'few', 'about', 'so', 'if', 'through', 's', 'yourself', 'your', 'very', 'now', 'haven', 'such', 'yours', 'have', 'when', 'they', 'were', 'itself', 'this', 'll', 'myself', 'what', 'to', 'do', 'once', \"didn't\", 'that', 'ours', \"you're\", \"won't\", 'him', 'too', 'or', 'the', 'am', 'you', 'being', 'shan', \"you'd\", 'where', 'wouldn', 'again', 'did', 'mightn', 'into', 'does', 'ourselves', 'its', 'will', 'until', 'own', \"you've\", \"aren't\", 'off', 'can', 'at', 'some', 'didn', 'won', 're', 'i', \"that'll\", 'a', 'an', 't', 'in', 'because', \"hadn't\", 'hers', \"doesn't\", \"weren't\", \"shouldn't\", \"she's\", 'is', \"isn't\", 'all', \"wouldn't\", 'not', 'any', 'ain', 'over', 'these', 'me', 'shouldn', 'y', 'weren', 'having', 'on', 'there', 'while', 've', 'are', 'those', 'theirs', 'why', 'from', 'under', 'couldn', 'as', 'don', 'wasn', 'how', 'aren', 'isn', 'each', 'doing', 'just', 'by', 'below', 'has', 'hadn', \"hasn't\", 'm', 'had', 'been', 'further', 'and', \"don't\", 'their', 'doesn', 'who', 'before', 'ma', 'then', \"should've\", 'which', \"it's\", 'whom', 'here', 'themselves', 'other', \"mightn't\", \"wasn't\", 'for', 'hasn', 'only', 'her']\n"
          ],
          "name": "stdout"
        }
      ]
    },
    {
      "cell_type": "code",
      "metadata": {
        "id": "xTHMe2yTZ9pF",
        "colab": {
          "base_uri": "https://localhost:8080/"
        },
        "outputId": "483a453d-3d8a-4632-cf64-e49c164cdecf"
      },
      "source": [
        "df['Processed_Tweet'] = df.Processed_Tweet.apply(lambda x: ' '.join(w for w in x.split() if w not in stop_words))   #Remove stopwords\n",
        "df['Processed_Tweet']"
      ],
      "execution_count": 52,
      "outputs": [
        {
          "output_type": "execute_result",
          "data": {
            "text/plain": [
              "0      congress calling trinamool congress b team bjp...\n",
              "1      saturday bjps state president dilip ghosh pres...\n",
              "2      least five trinamool congress mps west bengal ...\n",
              "3      tmc bjp culprits dirty politics west bengal mo...\n",
              "4      janata janardan everything democracy mamta did...\n",
              "                             ...                        \n",
              "126    responding mallick president north parganas di...\n",
              "127    secular india brand west bengal since due terr...\n",
              "128    trinamool mla niamat sheikh require pk murshid...\n",
              "129    new video owaisis aimim xfactor bengal trinamo...\n",
              "130    west bengal bjp chief ghoshs allegations get s...\n",
              "Name: Processed_Tweet, Length: 131, dtype: object"
            ]
          },
          "metadata": {
            "tags": []
          },
          "execution_count": 52
        }
      ]
    },
    {
      "cell_type": "code",
      "metadata": {
        "id": "W41lIuhjZ9su",
        "colab": {
          "base_uri": "https://localhost:8080/"
        },
        "outputId": "d66c5119-c0ea-42b6-9d9f-36661cf3e346"
      },
      "source": [
        "df['Processed_Tweet'] = df['Processed_Tweet'].apply(lambda x: tokenizer.tokenize(x))\n",
        "df['Processed_Tweet']"
      ],
      "execution_count": 53,
      "outputs": [
        {
          "output_type": "execute_result",
          "data": {
            "text/plain": [
              "0      [congress, calling, trinamool, congress, b, te...\n",
              "1      [saturday, bjps, state, president, dilip, ghos...\n",
              "2      [least, five, trinamool, congress, mps, west, ...\n",
              "3      [tmc, bjp, culprits, dirty, politics, west, be...\n",
              "4      [janata, janardan, everything, democracy, mamt...\n",
              "                             ...                        \n",
              "126    [responding, mallick, president, north, pargan...\n",
              "127    [secular, india, brand, west, bengal, since, d...\n",
              "128    [trinamool, mla, niamat, sheikh, require, pk, ...\n",
              "129    [new, video, owaisis, aimim, xfactor, bengal, ...\n",
              "130    [west, bengal, bjp, chief, ghoshs, allegations...\n",
              "Name: Processed_Tweet, Length: 131, dtype: object"
            ]
          },
          "metadata": {
            "tags": []
          },
          "execution_count": 53
        }
      ]
    },
    {
      "cell_type": "code",
      "metadata": {
        "id": "U1iyBPUlZ9wE",
        "colab": {
          "base_uri": "https://localhost:8080/"
        },
        "outputId": "4925643f-2f06-4547-d6c1-3d78ef38d3c7"
      },
      "source": [
        "def lemmatize_stemming(text):\n",
        "    stemmer=PorterStemmer()\n",
        "    return stemmer.stem(text)\n",
        "df['Processed_Tweet'] = df['Processed_Tweet'].apply(lambda x: [lemmatize_stemming(i) for i in x]) # stemming\n",
        "df['Processed_Tweet']"
      ],
      "execution_count": 54,
      "outputs": [
        {
          "output_type": "execute_result",
          "data": {
            "text/plain": [
              "0      [congress, call, trinamool, congress, b, team,...\n",
              "1      [saturday, bjp, state, presid, dilip, ghosh, p...\n",
              "2      [least, five, trinamool, congress, mp, west, b...\n",
              "3      [tmc, bjp, culprit, dirti, polit, west, bengal...\n",
              "4      [janata, janardan, everyth, democraci, mamta, ...\n",
              "                             ...                        \n",
              "126    [respond, mallick, presid, north, pargana, dis...\n",
              "127    [secular, india, brand, west, bengal, sinc, du...\n",
              "128    [trinamool, mla, niamat, sheikh, requir, pk, m...\n",
              "129    [new, video, owaisi, aimim, xfactor, bengal, t...\n",
              "130    [west, bengal, bjp, chief, ghosh, alleg, get, ...\n",
              "Name: Processed_Tweet, Length: 131, dtype: object"
            ]
          },
          "metadata": {
            "tags": []
          },
          "execution_count": 54
        }
      ]
    },
    {
      "cell_type": "code",
      "metadata": {
        "id": "wLB1SjaLZ9zx",
        "colab": {
          "base_uri": "https://localhost:8080/",
          "height": 858
        },
        "outputId": "12c6d4ec-dace-49ad-85ed-376c9275157f"
      },
      "source": [
        "\n",
        "df['Processed_Tweet'] = df.Processed_Tweet.apply(lambda x: [i for i in x if len(i)>2])\n",
        "df"
      ],
      "execution_count": 55,
      "outputs": [
        {
          "output_type": "execute_result",
          "data": {
            "text/html": [
              "<div>\n",
              "<style scoped>\n",
              "    .dataframe tbody tr th:only-of-type {\n",
              "        vertical-align: middle;\n",
              "    }\n",
              "\n",
              "    .dataframe tbody tr th {\n",
              "        vertical-align: top;\n",
              "    }\n",
              "\n",
              "    .dataframe thead th {\n",
              "        text-align: right;\n",
              "    }\n",
              "</style>\n",
              "<table border=\"1\" class=\"dataframe\">\n",
              "  <thead>\n",
              "    <tr style=\"text-align: right;\">\n",
              "      <th></th>\n",
              "      <th>Date</th>\n",
              "      <th>Tweet_id</th>\n",
              "      <th>Verified</th>\n",
              "      <th>Tweet</th>\n",
              "      <th>User</th>\n",
              "      <th>Location</th>\n",
              "      <th>Source</th>\n",
              "      <th>Likes</th>\n",
              "      <th>Followers</th>\n",
              "      <th>Following</th>\n",
              "      <th>Retweets</th>\n",
              "      <th>Processed_Tweet</th>\n",
              "    </tr>\n",
              "  </thead>\n",
              "  <tbody>\n",
              "    <tr>\n",
              "      <th>0</th>\n",
              "      <td>2020-11-21 20:01:36</td>\n",
              "      <td>1330239963737231366</td>\n",
              "      <td>False</td>\n",
              "      <td>@manickamtagore Congress Calling Trinamool Con...</td>\n",
              "      <td>KumarReddy272</td>\n",
              "      <td>India</td>\n",
              "      <td>Twitter for Android</td>\n",
              "      <td>1</td>\n",
              "      <td>21</td>\n",
              "      <td>133</td>\n",
              "      <td>0</td>\n",
              "      <td>[congress, call, trinamool, congress, team, bj...</td>\n",
              "    </tr>\n",
              "    <tr>\n",
              "      <th>1</th>\n",
              "      <td>2020-11-21 19:03:30</td>\n",
              "      <td>1330225341340798983</td>\n",
              "      <td>True</td>\n",
              "      <td>On Saturday BJP’s State President Dilip Ghosh ...</td>\n",
              "      <td>AhamedHassanMP</td>\n",
              "      <td>Kolkata, India</td>\n",
              "      <td>Twitter for iPhone</td>\n",
              "      <td>53</td>\n",
              "      <td>770</td>\n",
              "      <td>138</td>\n",
              "      <td>12</td>\n",
              "      <td>[saturday, bjp, state, presid, dilip, ghosh, p...</td>\n",
              "    </tr>\n",
              "    <tr>\n",
              "      <th>2</th>\n",
              "      <td>2020-11-21 18:24:42</td>\n",
              "      <td>1330215578234216449</td>\n",
              "      <td>False</td>\n",
              "      <td>At least five Trinamool Congress MPs in West B...</td>\n",
              "      <td>DeshGujarat</td>\n",
              "      <td>Gujarat, India</td>\n",
              "      <td>TweetDeck</td>\n",
              "      <td>50</td>\n",
              "      <td>437695</td>\n",
              "      <td>191</td>\n",
              "      <td>6</td>\n",
              "      <td>[least, five, trinamool, congress, west, benga...</td>\n",
              "    </tr>\n",
              "    <tr>\n",
              "      <th>3</th>\n",
              "      <td>2020-11-21 18:08:53</td>\n",
              "      <td>1330211595717373952</td>\n",
              "      <td>False</td>\n",
              "      <td>The TMC and the BJP are the culprits for the d...</td>\n",
              "      <td>DrDIPANKARROY3</td>\n",
              "      <td></td>\n",
              "      <td>Twitter for Android</td>\n",
              "      <td>0</td>\n",
              "      <td>19</td>\n",
              "      <td>178</td>\n",
              "      <td>0</td>\n",
              "      <td>[tmc, bjp, culprit, dirti, polit, west, bengal...</td>\n",
              "    </tr>\n",
              "    <tr>\n",
              "      <th>4</th>\n",
              "      <td>2020-11-21 16:05:51</td>\n",
              "      <td>1330180633054867459</td>\n",
              "      <td>False</td>\n",
              "      <td>Janata Janardan is everything in a democracy. ...</td>\n",
              "      <td>aprichitrahul</td>\n",
              "      <td>Bundelkhand Uttar Pradesh</td>\n",
              "      <td>Twitter for Android</td>\n",
              "      <td>3</td>\n",
              "      <td>3364</td>\n",
              "      <td>3016</td>\n",
              "      <td>0</td>\n",
              "      <td>[janata, janardan, everyth, democraci, mamta, ...</td>\n",
              "    </tr>\n",
              "    <tr>\n",
              "      <th>...</th>\n",
              "      <td>...</td>\n",
              "      <td>...</td>\n",
              "      <td>...</td>\n",
              "      <td>...</td>\n",
              "      <td>...</td>\n",
              "      <td>...</td>\n",
              "      <td>...</td>\n",
              "      <td>...</td>\n",
              "      <td>...</td>\n",
              "      <td>...</td>\n",
              "      <td>...</td>\n",
              "      <td>...</td>\n",
              "    </tr>\n",
              "    <tr>\n",
              "      <th>126</th>\n",
              "      <td>2020-11-16 20:00:01</td>\n",
              "      <td>1328427624142491650</td>\n",
              "      <td>True</td>\n",
              "      <td>Responding to it, Mallick, president of the No...</td>\n",
              "      <td>EconomicTimes</td>\n",
              "      <td></td>\n",
              "      <td>TweetDeck</td>\n",
              "      <td>10</td>\n",
              "      <td>3770339</td>\n",
              "      <td>43</td>\n",
              "      <td>1</td>\n",
              "      <td>[respond, mallick, presid, north, pargana, dis...</td>\n",
              "    </tr>\n",
              "    <tr>\n",
              "      <th>127</th>\n",
              "      <td>2020-11-16 18:59:38</td>\n",
              "      <td>1328412427243851776</td>\n",
              "      <td>False</td>\n",
              "      <td>#Secular India*#Brand West Bengal*\\nSince 2008...</td>\n",
              "      <td>SUNDARmyth</td>\n",
              "      <td>KOLKATA</td>\n",
              "      <td>Twitter Web App</td>\n",
              "      <td>16</td>\n",
              "      <td>12775</td>\n",
              "      <td>1597</td>\n",
              "      <td>4</td>\n",
              "      <td>[secular, india, brand, west, bengal, sinc, du...</td>\n",
              "    </tr>\n",
              "    <tr>\n",
              "      <th>128</th>\n",
              "      <td>2020-11-16 12:39:26</td>\n",
              "      <td>1328316748450263040</td>\n",
              "      <td>False</td>\n",
              "      <td>TRINAMOOL MLA Niamat Sheikh DON\"T Require PK i...</td>\n",
              "      <td>Satyanewshi</td>\n",
              "      <td>Hobart , 🇦🇺</td>\n",
              "      <td>Twitter Web App</td>\n",
              "      <td>48</td>\n",
              "      <td>14204</td>\n",
              "      <td>260</td>\n",
              "      <td>12</td>\n",
              "      <td>[trinamool, mla, niamat, sheikh, requir, mursh...</td>\n",
              "    </tr>\n",
              "    <tr>\n",
              "      <th>129</th>\n",
              "      <td>2020-11-16 07:56:47</td>\n",
              "      <td>1328245615927513088</td>\n",
              "      <td>False</td>\n",
              "      <td>New Video Will Owaisi’s AIMIM Be An X Factor I...</td>\n",
              "      <td>secularmiyabha3</td>\n",
              "      <td></td>\n",
              "      <td>Twitter for Android</td>\n",
              "      <td>13</td>\n",
              "      <td>1178</td>\n",
              "      <td>10</td>\n",
              "      <td>1</td>\n",
              "      <td>[new, video, owaisi, aimim, xfactor, bengal, t...</td>\n",
              "    </tr>\n",
              "    <tr>\n",
              "      <th>130</th>\n",
              "      <td>2020-11-16 03:43:33</td>\n",
              "      <td>1328181890503700481</td>\n",
              "      <td>True</td>\n",
              "      <td>West Bengal BJP chief Ghosh’s allegations get ...</td>\n",
              "      <td>AmanKayamHai_ET</td>\n",
              "      <td>New Delhi, India</td>\n",
              "      <td>Twitter for iPhone</td>\n",
              "      <td>7</td>\n",
              "      <td>49629</td>\n",
              "      <td>1999</td>\n",
              "      <td>0</td>\n",
              "      <td>[west, bengal, bjp, chief, ghosh, alleg, get, ...</td>\n",
              "    </tr>\n",
              "  </tbody>\n",
              "</table>\n",
              "<p>131 rows × 12 columns</p>\n",
              "</div>"
            ],
            "text/plain": [
              "                   Date  ...                                    Processed_Tweet\n",
              "0   2020-11-21 20:01:36  ...  [congress, call, trinamool, congress, team, bj...\n",
              "1   2020-11-21 19:03:30  ...  [saturday, bjp, state, presid, dilip, ghosh, p...\n",
              "2   2020-11-21 18:24:42  ...  [least, five, trinamool, congress, west, benga...\n",
              "3   2020-11-21 18:08:53  ...  [tmc, bjp, culprit, dirti, polit, west, bengal...\n",
              "4   2020-11-21 16:05:51  ...  [janata, janardan, everyth, democraci, mamta, ...\n",
              "..                  ...  ...                                                ...\n",
              "126 2020-11-16 20:00:01  ...  [respond, mallick, presid, north, pargana, dis...\n",
              "127 2020-11-16 18:59:38  ...  [secular, india, brand, west, bengal, sinc, du...\n",
              "128 2020-11-16 12:39:26  ...  [trinamool, mla, niamat, sheikh, requir, mursh...\n",
              "129 2020-11-16 07:56:47  ...  [new, video, owaisi, aimim, xfactor, bengal, t...\n",
              "130 2020-11-16 03:43:33  ...  [west, bengal, bjp, chief, ghosh, alleg, get, ...\n",
              "\n",
              "[131 rows x 12 columns]"
            ]
          },
          "metadata": {
            "tags": []
          },
          "execution_count": 55
        }
      ]
    },
    {
      "cell_type": "code",
      "metadata": {
        "id": "Jp1MddEpbN6A",
        "colab": {
          "base_uri": "https://localhost:8080/"
        },
        "outputId": "2a39795f-7e2c-4f68-9775-65ad27434db7"
      },
      "source": [
        "texts = []\n",
        "texts = df.Processed_Tweet.apply(lambda x: [i for i in x] )\n",
        "all_words = []\n",
        "for i in texts:\n",
        "    all_words.append(\" \".join(i))\n",
        "text = []\n",
        "for i in texts:\n",
        "    for j in i:\n",
        "        text.append(j)\n",
        "len(text)"
      ],
      "execution_count": 56,
      "outputs": [
        {
          "output_type": "execute_result",
          "data": {
            "text/plain": [
              "2391"
            ]
          },
          "metadata": {
            "tags": []
          },
          "execution_count": 56
        }
      ]
    },
    {
      "cell_type": "code",
      "metadata": {
        "id": "jbRz6G8dbN9q",
        "colab": {
          "base_uri": "https://localhost:8080/",
          "height": 465
        },
        "outputId": "62d09905-6565-4dd5-8441-2d27e4499511"
      },
      "source": [
        "wordcloud = WordCloud(width=800, height=500, random_state=21, max_font_size=110).generate(' '.join(text))\n",
        "plt.figure(figsize = (12, 12), facecolor=\"None\") \n",
        "plt.imshow(wordcloud,interpolation='bilinear') \n",
        "plt.axis(\"off\") \n",
        "plt.title(\"WordCloud of Biden Tweets\")\n",
        "plt.show()"
      ],
      "execution_count": 57,
      "outputs": [
        {
          "output_type": "display_data",
          "data": {
            "image/png": "[encoded data removed]",
            "text/plain": [
              "<Figure size 864x864 with 1 Axes>"
            ]
          },
          "metadata": {
            "tags": [],
            "needs_background": "light"
          }
        }
      ]
    },
    {
      "cell_type": "code",
      "metadata": {
        "id": "Y_6ferf0bOBj",
        "colab": {
          "base_uri": "https://localhost:8080/"
        },
        "outputId": "f89bdaea-e090-4317-9285-1f0b21377488"
      },
      "source": [
        "from textblob import TextBlob\n",
        "pol=[]\n",
        "for Tweet in all_words:\n",
        "    blob = TextBlob(Tweet)\n",
        "    pol.append(blob.sentiment.polarity)\n",
        "len(pol)"
      ],
      "execution_count": 58,
      "outputs": [
        {
          "output_type": "execute_result",
          "data": {
            "text/plain": [
              "131"
            ]
          },
          "metadata": {
            "tags": []
          },
          "execution_count": 58
        }
      ]
    },
    {
      "cell_type": "code",
      "metadata": {
        "id": "dHvb9R2cbOHY",
        "colab": {
          "base_uri": "https://localhost:8080/"
        },
        "outputId": "4d9c2a0c-8cbe-48ce-a429-412b67412bee"
      },
      "source": [
        "len(text)"
      ],
      "execution_count": 59,
      "outputs": [
        {
          "output_type": "execute_result",
          "data": {
            "text/plain": [
              "2391"
            ]
          },
          "metadata": {
            "tags": []
          },
          "execution_count": 59
        }
      ]
    },
    {
      "cell_type": "code",
      "metadata": {
        "id": "cu242euSbOKi",
        "colab": {
          "base_uri": "https://localhost:8080/"
        },
        "outputId": "ab213403-2203-45b1-8099-ae4515403f65"
      },
      "source": [
        "positive=0\n",
        "negative=0\n",
        "neutral=0\n",
        "for i in pol:\n",
        "    if i>0:\n",
        "        positive+=1\n",
        "    elif i<0:\n",
        "        negative+=1\n",
        "    else:\n",
        "        neutral+=1\n",
        "print(\"Positive Tweets:\",positive)\n",
        "print(\"Negative Tweets:\",negative)\n",
        "print(\"Neutral Tweets\",neutral)"
      ],
      "execution_count": 60,
      "outputs": [
        {
          "output_type": "stream",
          "text": [
            "Positive Tweets: 37\n",
            "Negative Tweets: 27\n",
            "Neutral Tweets 67\n"
          ],
          "name": "stdout"
        }
      ]
    },
    {
      "cell_type": "code",
      "metadata": {
        "id": "6Q5B0aVGbOOa",
        "colab": {
          "base_uri": "https://localhost:8080/"
        },
        "outputId": "7939dad8-a685-4fc9-dcec-fed8c3ca5356"
      },
      "source": [
        "import nltk\n",
        "nltk.download('vader_lexicon')"
      ],
      "execution_count": 61,
      "outputs": [
        {
          "output_type": "stream",
          "text": [
            "[nltk_data] Downloading package vader_lexicon to /root/nltk_data...\n"
          ],
          "name": "stdout"
        },
        {
          "output_type": "execute_result",
          "data": {
            "text/plain": [
              "True"
            ]
          },
          "metadata": {
            "tags": []
          },
          "execution_count": 61
        }
      ]
    },
    {
      "cell_type": "code",
      "metadata": {
        "id": "WZ2hhckbbOR4",
        "outputId": "b0c9c575-106b-4698-dbbf-58bc9914d7a5",
        "colab": {
          "base_uri": "https://localhost:8080/"
        }
      },
      "source": [
        "from nltk.sentiment.vader import SentimentIntensityAnalyzer\n",
        "sid = SentimentIntensityAnalyzer()\n",
        "sentiment_scores= []\n",
        "for i in all_words:\n",
        "    sentiment_scores.append([sid.polarity_scores(i)])"
      ],
      "execution_count": 62,
      "outputs": [
        {
          "output_type": "stream",
          "text": [
            "/usr/local/lib/python3.6/dist-packages/nltk/twitter/__init__.py:20: UserWarning: The twython library has not been installed. Some functionality from the twitter package will not be available.\n",
            "  warnings.warn(\"The twython library has not been installed. \"\n"
          ],
          "name": "stderr"
        }
      ]
    },
    {
      "cell_type": "code",
      "metadata": {
        "id": "hCz4RQdabOV4",
        "colab": {
          "base_uri": "https://localhost:8080/",
          "height": 402
        },
        "outputId": "125d75f9-f853-47f4-f39d-c7f158331929"
      },
      "source": [
        "value = []\n",
        "for i in sentiment_scores:\n",
        "    for dict1 in i:\n",
        "        value.append(list(dict1.values()))\n",
        "sentimental_score_df = pd.DataFrame(data = value, columns = ['Negative','Neutral','Positive','Compound'])\n",
        "sentimental_score_df"
      ],
      "execution_count": 63,
      "outputs": [
        {
          "output_type": "execute_result",
          "data": {
            "text/html": [
              "<div>\n",
              "<style scoped>\n",
              "    .dataframe tbody tr th:only-of-type {\n",
              "        vertical-align: middle;\n",
              "    }\n",
              "\n",
              "    .dataframe tbody tr th {\n",
              "        vertical-align: top;\n",
              "    }\n",
              "\n",
              "    .dataframe thead th {\n",
              "        text-align: right;\n",
              "    }\n",
              "</style>\n",
              "<table border=\"1\" class=\"dataframe\">\n",
              "  <thead>\n",
              "    <tr style=\"text-align: right;\">\n",
              "      <th></th>\n",
              "      <th>Negative</th>\n",
              "      <th>Neutral</th>\n",
              "      <th>Positive</th>\n",
              "      <th>Compound</th>\n",
              "    </tr>\n",
              "  </thead>\n",
              "  <tbody>\n",
              "    <tr>\n",
              "      <th>0</th>\n",
              "      <td>0.000</td>\n",
              "      <td>1.000</td>\n",
              "      <td>0.000</td>\n",
              "      <td>0.0000</td>\n",
              "    </tr>\n",
              "    <tr>\n",
              "      <th>1</th>\n",
              "      <td>0.000</td>\n",
              "      <td>1.000</td>\n",
              "      <td>0.000</td>\n",
              "      <td>0.0000</td>\n",
              "    </tr>\n",
              "    <tr>\n",
              "      <th>2</th>\n",
              "      <td>0.085</td>\n",
              "      <td>0.915</td>\n",
              "      <td>0.000</td>\n",
              "      <td>-0.3400</td>\n",
              "    </tr>\n",
              "    <tr>\n",
              "      <th>3</th>\n",
              "      <td>0.129</td>\n",
              "      <td>0.760</td>\n",
              "      <td>0.110</td>\n",
              "      <td>-0.1280</td>\n",
              "    </tr>\n",
              "    <tr>\n",
              "      <th>4</th>\n",
              "      <td>0.000</td>\n",
              "      <td>1.000</td>\n",
              "      <td>0.000</td>\n",
              "      <td>0.0000</td>\n",
              "    </tr>\n",
              "    <tr>\n",
              "      <th>...</th>\n",
              "      <td>...</td>\n",
              "      <td>...</td>\n",
              "      <td>...</td>\n",
              "      <td>...</td>\n",
              "    </tr>\n",
              "    <tr>\n",
              "      <th>126</th>\n",
              "      <td>0.000</td>\n",
              "      <td>0.787</td>\n",
              "      <td>0.213</td>\n",
              "      <td>0.5859</td>\n",
              "    </tr>\n",
              "    <tr>\n",
              "      <th>127</th>\n",
              "      <td>0.105</td>\n",
              "      <td>0.895</td>\n",
              "      <td>0.000</td>\n",
              "      <td>-0.5267</td>\n",
              "    </tr>\n",
              "    <tr>\n",
              "      <th>128</th>\n",
              "      <td>0.000</td>\n",
              "      <td>1.000</td>\n",
              "      <td>0.000</td>\n",
              "      <td>0.0000</td>\n",
              "    </tr>\n",
              "    <tr>\n",
              "      <th>129</th>\n",
              "      <td>0.000</td>\n",
              "      <td>1.000</td>\n",
              "      <td>0.000</td>\n",
              "      <td>0.0000</td>\n",
              "    </tr>\n",
              "    <tr>\n",
              "      <th>130</th>\n",
              "      <td>0.000</td>\n",
              "      <td>1.000</td>\n",
              "      <td>0.000</td>\n",
              "      <td>0.0000</td>\n",
              "    </tr>\n",
              "  </tbody>\n",
              "</table>\n",
              "<p>131 rows × 4 columns</p>\n",
              "</div>"
            ],
            "text/plain": [
              "     Negative  Neutral  Positive  Compound\n",
              "0       0.000    1.000     0.000    0.0000\n",
              "1       0.000    1.000     0.000    0.0000\n",
              "2       0.085    0.915     0.000   -0.3400\n",
              "3       0.129    0.760     0.110   -0.1280\n",
              "4       0.000    1.000     0.000    0.0000\n",
              "..        ...      ...       ...       ...\n",
              "126     0.000    0.787     0.213    0.5859\n",
              "127     0.105    0.895     0.000   -0.5267\n",
              "128     0.000    1.000     0.000    0.0000\n",
              "129     0.000    1.000     0.000    0.0000\n",
              "130     0.000    1.000     0.000    0.0000\n",
              "\n",
              "[131 rows x 4 columns]"
            ]
          },
          "metadata": {
            "tags": []
          },
          "execution_count": 63
        }
      ]
    },
    {
      "cell_type": "code",
      "metadata": {
        "id": "Ev7p5zHybOZN",
        "colab": {
          "base_uri": "https://localhost:8080/",
          "height": 195
        },
        "outputId": "0102ab52-c09f-4699-ff89-1095ae0ddd45"
      },
      "source": [
        "sentimental_score_df['val'] = sentimental_score_df['Compound'].apply(lambda x: 'Neutral' if x == 0 else ('Positive' if x > 0 else 'Negative'))\n",
        "sentimental_score_df.head()"
      ],
      "execution_count": 64,
      "outputs": [
        {
          "output_type": "execute_result",
          "data": {
            "text/html": [
              "<div>\n",
              "<style scoped>\n",
              "    .dataframe tbody tr th:only-of-type {\n",
              "        vertical-align: middle;\n",
              "    }\n",
              "\n",
              "    .dataframe tbody tr th {\n",
              "        vertical-align: top;\n",
              "    }\n",
              "\n",
              "    .dataframe thead th {\n",
              "        text-align: right;\n",
              "    }\n",
              "</style>\n",
              "<table border=\"1\" class=\"dataframe\">\n",
              "  <thead>\n",
              "    <tr style=\"text-align: right;\">\n",
              "      <th></th>\n",
              "      <th>Negative</th>\n",
              "      <th>Neutral</th>\n",
              "      <th>Positive</th>\n",
              "      <th>Compound</th>\n",
              "      <th>val</th>\n",
              "    </tr>\n",
              "  </thead>\n",
              "  <tbody>\n",
              "    <tr>\n",
              "      <th>0</th>\n",
              "      <td>0.000</td>\n",
              "      <td>1.000</td>\n",
              "      <td>0.00</td>\n",
              "      <td>0.000</td>\n",
              "      <td>Neutral</td>\n",
              "    </tr>\n",
              "    <tr>\n",
              "      <th>1</th>\n",
              "      <td>0.000</td>\n",
              "      <td>1.000</td>\n",
              "      <td>0.00</td>\n",
              "      <td>0.000</td>\n",
              "      <td>Neutral</td>\n",
              "    </tr>\n",
              "    <tr>\n",
              "      <th>2</th>\n",
              "      <td>0.085</td>\n",
              "      <td>0.915</td>\n",
              "      <td>0.00</td>\n",
              "      <td>-0.340</td>\n",
              "      <td>Negative</td>\n",
              "    </tr>\n",
              "    <tr>\n",
              "      <th>3</th>\n",
              "      <td>0.129</td>\n",
              "      <td>0.760</td>\n",
              "      <td>0.11</td>\n",
              "      <td>-0.128</td>\n",
              "      <td>Negative</td>\n",
              "    </tr>\n",
              "    <tr>\n",
              "      <th>4</th>\n",
              "      <td>0.000</td>\n",
              "      <td>1.000</td>\n",
              "      <td>0.00</td>\n",
              "      <td>0.000</td>\n",
              "      <td>Neutral</td>\n",
              "    </tr>\n",
              "  </tbody>\n",
              "</table>\n",
              "</div>"
            ],
            "text/plain": [
              "   Negative  Neutral  Positive  Compound       val\n",
              "0     0.000    1.000      0.00     0.000   Neutral\n",
              "1     0.000    1.000      0.00     0.000   Neutral\n",
              "2     0.085    0.915      0.00    -0.340  Negative\n",
              "3     0.129    0.760      0.11    -0.128  Negative\n",
              "4     0.000    1.000      0.00     0.000   Neutral"
            ]
          },
          "metadata": {
            "tags": []
          },
          "execution_count": 64
        }
      ]
    },
    {
      "cell_type": "code",
      "metadata": {
        "id": "2FmNubOLbOdG",
        "colab": {
          "base_uri": "https://localhost:8080/",
          "height": 296
        },
        "outputId": "cc7d5eb0-230a-499a-c50e-81110cf37919"
      },
      "source": [
        "sent_count = pd.DataFrame.from_dict(Counter(sentimental_score_df['val']), orient = 'index').reset_index()\n",
        "sent_count.columns = ['sentiment', 'count']\n",
        "\n",
        "sns.barplot(y=\"count\", x='sentiment', data=sent_count)"
      ],
      "execution_count": 65,
      "outputs": [
        {
          "output_type": "execute_result",
          "data": {
            "text/plain": [
              "<matplotlib.axes._subplots.AxesSubplot at 0x7f0e68c82c88>"
            ]
          },
          "metadata": {
            "tags": []
          },
          "execution_count": 65
        },
        {
          "output_type": "display_data",
          "data": {
            "image/png": "[encoded data removed]",
            "text/plain": [
              "<Figure size 432x288 with 1 Axes>"
            ]
          },
          "metadata": {
            "tags": [],
            "needs_background": "light"
          }
        }
      ]
    },
    {
      "cell_type": "code",
      "metadata": {
        "id": "dUllRCfLbOg7",
        "colab": {
          "base_uri": "https://localhost:8080/"
        },
        "outputId": "d62b46f4-ab8f-4a6e-b107-5f00f88b7cec"
      },
      "source": [
        "filepath = r\"/content/Election-Prediction/StatewisePolitics/Bengal/trinamool_bengal.csv\"\n",
        "emolex_df = pd.read_csv(filepath,  names=[\"word\", \"emotion\", \"association\"], skiprows=45, sep='\\t')\n",
        "emolex_df.head(12)\n",
        "len(emolex_df)"
      ],
      "execution_count": 67,
      "outputs": [
        {
          "output_type": "execute_result",
          "data": {
            "text/plain": [
              "221"
            ]
          },
          "metadata": {
            "tags": []
          },
          "execution_count": 67
        }
      ]
    },
    {
      "cell_type": "code",
      "metadata": {
        "id": "BpqvO-zZbOky"
      },
      "source": [
        "emotions={'positive':0, 'negative':0, 'surprise':0,'sadness':0,\n",
        "          'anger':0,'joy':0,'negative':0,'trust':0,'fear':0,'anticipation':0,'disgust':0}"
      ],
      "execution_count": 68,
      "outputs": []
    },
    {
      "cell_type": "code",
      "metadata": {
        "id": "5zvUJmULbOoU"
      },
      "source": [
        "word_emotion=dict()\n",
        "for i in range(0,221):\n",
        "    emotion=emolex_df['emotion'][i]\n",
        "    word=emolex_df['word'][i]\n",
        "    association=emolex_df['association'][i]\n",
        "    \n",
        "    if word not in word_emotion:\n",
        "        word_emotion[word]=dict()\n",
        "    word_emotion[word][emotion]=association\n"
      ],
      "execution_count": 70,
      "outputs": []
    },
    {
      "cell_type": "code",
      "metadata": {
        "id": "Mp3Thxfpg0nI",
        "colab": {
          "base_uri": "https://localhost:8080/"
        },
        "outputId": "276f1334-da88-4695-9f54-935274fcedf0"
      },
      "source": [
        "from numpy import nan\n",
        "nan == nan\n"
      ],
      "execution_count": null,
      "outputs": [
        {
          "output_type": "execute_result",
          "data": {
            "text/plain": [
              "False"
            ]
          },
          "metadata": {
            "tags": []
          },
          "execution_count": 80
        }
      ]
    },
    {
      "cell_type": "code",
      "metadata": {
        "id": "mHtSZD_BbOry",
        "colab": {
          "base_uri": "https://localhost:8080/",
          "height": 195
        },
        "outputId": "56918e4d-3627-46f9-aaad-237d9e6d380a"
      },
      "source": [
        "for i in range(0,131):\n",
        "    text=df['Tweet'][i]\n",
        "    for j in text.split():\n",
        "        if j in word_emotion:\n",
        "            for k in word_emotion[j]:\n",
        "                emotions[k]+=word_emotion[j][k]"
      ],
      "execution_count": 71,
      "outputs": [
        {
          "output_type": "error",
          "ename": "KeyError",
          "evalue": "ignored",
          "traceback": [
            "\u001b[0;31m---------------------------------------------------------------------------\u001b[0m",
            "\u001b[0;31mKeyError\u001b[0m                                  Traceback (most recent call last)",
            "\u001b[0;32m<ipython-input-71-74e36989c1ee>\u001b[0m in \u001b[0;36m<module>\u001b[0;34m()\u001b[0m\n\u001b[1;32m      4\u001b[0m         \u001b[0;32mif\u001b[0m \u001b[0mj\u001b[0m \u001b[0;32min\u001b[0m \u001b[0mword_emotion\u001b[0m\u001b[0;34m:\u001b[0m\u001b[0;34m\u001b[0m\u001b[0;34m\u001b[0m\u001b[0m\n\u001b[1;32m      5\u001b[0m             \u001b[0;32mfor\u001b[0m \u001b[0mk\u001b[0m \u001b[0;32min\u001b[0m \u001b[0mword_emotion\u001b[0m\u001b[0;34m[\u001b[0m\u001b[0mj\u001b[0m\u001b[0;34m]\u001b[0m\u001b[0;34m:\u001b[0m\u001b[0;34m\u001b[0m\u001b[0;34m\u001b[0m\u001b[0m\n\u001b[0;32m----> 6\u001b[0;31m                 \u001b[0memotions\u001b[0m\u001b[0;34m[\u001b[0m\u001b[0mk\u001b[0m\u001b[0;34m]\u001b[0m\u001b[0;34m+=\u001b[0m\u001b[0mword_emotion\u001b[0m\u001b[0;34m[\u001b[0m\u001b[0mj\u001b[0m\u001b[0;34m]\u001b[0m\u001b[0;34m[\u001b[0m\u001b[0mk\u001b[0m\u001b[0;34m]\u001b[0m\u001b[0;34m\u001b[0m\u001b[0;34m\u001b[0m\u001b[0m\n\u001b[0m",
            "\u001b[0;31mKeyError\u001b[0m: nan"
          ]
        }
      ]
    },
    {
      "cell_type": "code",
      "metadata": {
        "id": "IkuVbkfMbOvn",
        "colab": {
          "base_uri": "https://localhost:8080/"
        },
        "outputId": "328ca21c-538c-4b3c-f31c-8340eec2bd65"
      },
      "source": [
        "emotions"
      ],
      "execution_count": 72,
      "outputs": [
        {
          "output_type": "execute_result",
          "data": {
            "text/plain": [
              "{'anger': 0,\n",
              " 'anticipation': 0,\n",
              " 'disgust': 0,\n",
              " 'fear': 0,\n",
              " 'joy': 0,\n",
              " 'negative': 0,\n",
              " 'positive': 0,\n",
              " 'sadness': 0,\n",
              " 'surprise': 0,\n",
              " 'trust': 0}"
            ]
          },
          "metadata": {
            "tags": []
          },
          "execution_count": 72
        }
      ]
    },
    {
      "cell_type": "code",
      "metadata": {
        "id": "y1vRLg5bbOzL",
        "colab": {
          "base_uri": "https://localhost:8080/",
          "height": 383
        },
        "outputId": "905d958d-fd92-422e-931b-3c9bb9f062c7"
      },
      "source": [
        "plt.style.use('fivethirtyeight')\n",
        "plt.rcParams[\"figure.figsize\"] = [15,5]\n",
        "plt.bar(list(emotions.keys()),list(emotions.values()),color='red',alpha = 0.6)\n",
        "plt.xlabel('Emotions')\n",
        "plt.ylabel('Count')\n",
        "plt.title('Calculated Emotions Of Users ')\n",
        "plt.show()"
      ],
      "execution_count": 73,
      "outputs": [
        {
          "output_type": "display_data",
          "data": {
            "image/png": "[encoded data removed]",
            "text/plain": [
              "<Figure size 1080x360 with 1 Axes>"
            ]
          },
          "metadata": {
            "tags": []
          }
        }
      ]
    },
    {
      "cell_type": "code",
      "metadata": {
        "id": "DBNBn2IebO22",
        "colab": {
          "base_uri": "https://localhost:8080/"
        },
        "outputId": "5b99cff5-4324-42de-b13e-7384841ab933"
      },
      "source": [
        "df.Location  = df.Location.fillna('USA')\n",
        "f = [i for i in df['Location'] if type(i) != str]\n",
        "f"
      ],
      "execution_count": 79,
      "outputs": [
        {
          "output_type": "execute_result",
          "data": {
            "text/plain": [
              "[]"
            ]
          },
          "metadata": {
            "tags": []
          },
          "execution_count": 79
        }
      ]
    },
    {
      "cell_type": "code",
      "metadata": {
        "id": "6p1TZITybO6f",
        "colab": {
          "base_uri": "https://localhost:8080/"
        },
        "outputId": "2e6d2820-d92e-4d84-fe27-224b0a3e882f"
      },
      "source": [
        "df.Location = df.Location.apply(lambda x: x.replace('United States','USA'))\n",
        "df.Location.value_counts()"
      ],
      "execution_count": 80,
      "outputs": [
        {
          "output_type": "execute_result",
          "data": {
            "text/plain": [
              "                                  38\n",
              "India                             20\n",
              "Kolkata, India                     6\n",
              "Hobart , 🇦🇺                        6\n",
              "New Delhi, India                   4\n",
              "West Bengal, India                 4\n",
              "KOLKATA                            3\n",
              "New Delhi, Delhi                   3\n",
              "Kolkata, West Bengal               2\n",
              "Serampore, Hooghly                 2\n",
              "Jharkhand   INDIA                  2\n",
              "London                             2\n",
              "Kolkata                            2\n",
              "Bharat                             1\n",
              "Kolkata                            1\n",
              " Kolkata                           1\n",
              "Siliguri, India                    1\n",
              "Uttar Pradesh, India               1\n",
              "Tripura, India                     1\n",
              "Purulion, JNU 'ite nw B,lorean     1\n",
              "Bhopal (India)                     1\n",
              "NEW DELHI                          1\n",
              "Kolkata, West Bengal, India        1\n",
              "Delhi                              1\n",
              "Asansol, India                     1\n",
              "खड़गपुर रेलवे स्टेशन क्षेत्र,      1\n",
              "Raiganj (U/D), Kolkata             1\n",
              "Tollygunge, Kolkata, W.B           1\n",
              "New Delhi                          1\n",
              "Mumbai, India                      1\n",
              "काशी                               1\n",
              "Chandigarh, India                  1\n",
              "Bhubaneswar                        1\n",
              "Seattle                            1\n",
              "Bundelkhand Uttar Pradesh          1\n",
              "Pondicherry                        1\n",
              "earth                              1\n",
              "Bvrm                               1\n",
              "Third Rock From Sun                1\n",
              "Darjeeling, India                  1\n",
              "Islampur, West Bengal              1\n",
              "Omnipresent                        1\n",
              "Mal, India                         1\n",
              "INDIA                              1\n",
              "Navi Mumbai                        1\n",
              "Gujarat, India                     1\n",
              "Kolkata, New Delhi & Bengaluru     1\n",
              "Ayalur in Palakkad (Kerala)        1\n",
              "GREATER NOIDA                      1\n",
              "10 JP New Delhi                    1\n",
              "Name: Location, dtype: int64"
            ]
          },
          "metadata": {
            "tags": []
          },
          "execution_count": 80
        }
      ]
    },
    {
      "cell_type": "code",
      "metadata": {
        "id": "Ua1voDKQbO-F",
        "colab": {
          "base_uri": "https://localhost:8080/",
          "height": 858
        },
        "outputId": "0da23328-2ef7-4515-c932-9121632a58bf"
      },
      "source": [
        "locations = []\n",
        "locations_1 = []\n",
        "\n",
        "locations = [i.split(',')[-1] for i in df['Location']]\n",
        "locations_1 =  [i.split(',')[0] for i in df['Location']]\n",
        "df['Processed_Location'] = locations_1\n",
        "df"
      ],
      "execution_count": 81,
      "outputs": [
        {
          "output_type": "execute_result",
          "data": {
            "text/html": [
              "<div>\n",
              "<style scoped>\n",
              "    .dataframe tbody tr th:only-of-type {\n",
              "        vertical-align: middle;\n",
              "    }\n",
              "\n",
              "    .dataframe tbody tr th {\n",
              "        vertical-align: top;\n",
              "    }\n",
              "\n",
              "    .dataframe thead th {\n",
              "        text-align: right;\n",
              "    }\n",
              "</style>\n",
              "<table border=\"1\" class=\"dataframe\">\n",
              "  <thead>\n",
              "    <tr style=\"text-align: right;\">\n",
              "      <th></th>\n",
              "      <th>Date</th>\n",
              "      <th>Tweet_id</th>\n",
              "      <th>Verified</th>\n",
              "      <th>Tweet</th>\n",
              "      <th>User</th>\n",
              "      <th>Location</th>\n",
              "      <th>Source</th>\n",
              "      <th>Likes</th>\n",
              "      <th>Followers</th>\n",
              "      <th>Following</th>\n",
              "      <th>Retweets</th>\n",
              "      <th>Processed_Tweet</th>\n",
              "      <th>Processed_Location</th>\n",
              "      <th>sentiment</th>\n",
              "      <th>day</th>\n",
              "    </tr>\n",
              "  </thead>\n",
              "  <tbody>\n",
              "    <tr>\n",
              "      <th>0</th>\n",
              "      <td>2020-11-21 20:01:36</td>\n",
              "      <td>1330239963737231366</td>\n",
              "      <td>False</td>\n",
              "      <td>@manickamtagore Congress Calling Trinamool Con...</td>\n",
              "      <td>KumarReddy272</td>\n",
              "      <td>India</td>\n",
              "      <td>Twitter for Android</td>\n",
              "      <td>1</td>\n",
              "      <td>21</td>\n",
              "      <td>133</td>\n",
              "      <td>0</td>\n",
              "      <td>[congress, call, trinamool, congress, team, bj...</td>\n",
              "      <td>India</td>\n",
              "      <td>Neutral</td>\n",
              "      <td>21</td>\n",
              "    </tr>\n",
              "    <tr>\n",
              "      <th>1</th>\n",
              "      <td>2020-11-21 19:03:30</td>\n",
              "      <td>1330225341340798983</td>\n",
              "      <td>True</td>\n",
              "      <td>On Saturday BJP’s State President Dilip Ghosh ...</td>\n",
              "      <td>AhamedHassanMP</td>\n",
              "      <td>Kolkata, India</td>\n",
              "      <td>Twitter for iPhone</td>\n",
              "      <td>53</td>\n",
              "      <td>770</td>\n",
              "      <td>138</td>\n",
              "      <td>12</td>\n",
              "      <td>[saturday, bjp, state, presid, dilip, ghosh, p...</td>\n",
              "      <td>Kolkata</td>\n",
              "      <td>Neutral</td>\n",
              "      <td>21</td>\n",
              "    </tr>\n",
              "    <tr>\n",
              "      <th>2</th>\n",
              "      <td>2020-11-21 18:24:42</td>\n",
              "      <td>1330215578234216449</td>\n",
              "      <td>False</td>\n",
              "      <td>At least five Trinamool Congress MPs in West B...</td>\n",
              "      <td>DeshGujarat</td>\n",
              "      <td>Gujarat, India</td>\n",
              "      <td>TweetDeck</td>\n",
              "      <td>50</td>\n",
              "      <td>437695</td>\n",
              "      <td>191</td>\n",
              "      <td>6</td>\n",
              "      <td>[least, five, trinamool, congress, west, benga...</td>\n",
              "      <td>Gujarat</td>\n",
              "      <td>Negative</td>\n",
              "      <td>21</td>\n",
              "    </tr>\n",
              "    <tr>\n",
              "      <th>3</th>\n",
              "      <td>2020-11-21 18:08:53</td>\n",
              "      <td>1330211595717373952</td>\n",
              "      <td>False</td>\n",
              "      <td>The TMC and the BJP are the culprits for the d...</td>\n",
              "      <td>DrDIPANKARROY3</td>\n",
              "      <td></td>\n",
              "      <td>Twitter for Android</td>\n",
              "      <td>0</td>\n",
              "      <td>19</td>\n",
              "      <td>178</td>\n",
              "      <td>0</td>\n",
              "      <td>[tmc, bjp, culprit, dirti, polit, west, bengal...</td>\n",
              "      <td></td>\n",
              "      <td>Negative</td>\n",
              "      <td>21</td>\n",
              "    </tr>\n",
              "    <tr>\n",
              "      <th>4</th>\n",
              "      <td>2020-11-21 16:05:51</td>\n",
              "      <td>1330180633054867459</td>\n",
              "      <td>False</td>\n",
              "      <td>Janata Janardan is everything in a democracy. ...</td>\n",
              "      <td>aprichitrahul</td>\n",
              "      <td>Bundelkhand Uttar Pradesh</td>\n",
              "      <td>Twitter for Android</td>\n",
              "      <td>3</td>\n",
              "      <td>3364</td>\n",
              "      <td>3016</td>\n",
              "      <td>0</td>\n",
              "      <td>[janata, janardan, everyth, democraci, mamta, ...</td>\n",
              "      <td>Bundelkhand Uttar Pradesh</td>\n",
              "      <td>Neutral</td>\n",
              "      <td>21</td>\n",
              "    </tr>\n",
              "    <tr>\n",
              "      <th>...</th>\n",
              "      <td>...</td>\n",
              "      <td>...</td>\n",
              "      <td>...</td>\n",
              "      <td>...</td>\n",
              "      <td>...</td>\n",
              "      <td>...</td>\n",
              "      <td>...</td>\n",
              "      <td>...</td>\n",
              "      <td>...</td>\n",
              "      <td>...</td>\n",
              "      <td>...</td>\n",
              "      <td>...</td>\n",
              "      <td>...</td>\n",
              "      <td>...</td>\n",
              "      <td>...</td>\n",
              "    </tr>\n",
              "    <tr>\n",
              "      <th>126</th>\n",
              "      <td>2020-11-16 20:00:01</td>\n",
              "      <td>1328427624142491650</td>\n",
              "      <td>True</td>\n",
              "      <td>Responding to it, Mallick, president of the No...</td>\n",
              "      <td>EconomicTimes</td>\n",
              "      <td></td>\n",
              "      <td>TweetDeck</td>\n",
              "      <td>10</td>\n",
              "      <td>3770339</td>\n",
              "      <td>43</td>\n",
              "      <td>1</td>\n",
              "      <td>[respond, mallick, presid, north, pargana, dis...</td>\n",
              "      <td></td>\n",
              "      <td>Positive</td>\n",
              "      <td>16</td>\n",
              "    </tr>\n",
              "    <tr>\n",
              "      <th>127</th>\n",
              "      <td>2020-11-16 18:59:38</td>\n",
              "      <td>1328412427243851776</td>\n",
              "      <td>False</td>\n",
              "      <td>#Secular India*#Brand West Bengal*\\nSince 2008...</td>\n",
              "      <td>SUNDARmyth</td>\n",
              "      <td>KOLKATA</td>\n",
              "      <td>Twitter Web App</td>\n",
              "      <td>16</td>\n",
              "      <td>12775</td>\n",
              "      <td>1597</td>\n",
              "      <td>4</td>\n",
              "      <td>[secular, india, brand, west, bengal, sinc, du...</td>\n",
              "      <td>KOLKATA</td>\n",
              "      <td>Negative</td>\n",
              "      <td>16</td>\n",
              "    </tr>\n",
              "    <tr>\n",
              "      <th>128</th>\n",
              "      <td>2020-11-16 12:39:26</td>\n",
              "      <td>1328316748450263040</td>\n",
              "      <td>False</td>\n",
              "      <td>TRINAMOOL MLA Niamat Sheikh DON\"T Require PK i...</td>\n",
              "      <td>Satyanewshi</td>\n",
              "      <td>Hobart , 🇦🇺</td>\n",
              "      <td>Twitter Web App</td>\n",
              "      <td>48</td>\n",
              "      <td>14204</td>\n",
              "      <td>260</td>\n",
              "      <td>12</td>\n",
              "      <td>[trinamool, mla, niamat, sheikh, requir, mursh...</td>\n",
              "      <td>Hobart</td>\n",
              "      <td>Neutral</td>\n",
              "      <td>16</td>\n",
              "    </tr>\n",
              "    <tr>\n",
              "      <th>129</th>\n",
              "      <td>2020-11-16 07:56:47</td>\n",
              "      <td>1328245615927513088</td>\n",
              "      <td>False</td>\n",
              "      <td>New Video Will Owaisi’s AIMIM Be An X Factor I...</td>\n",
              "      <td>secularmiyabha3</td>\n",
              "      <td></td>\n",
              "      <td>Twitter for Android</td>\n",
              "      <td>13</td>\n",
              "      <td>1178</td>\n",
              "      <td>10</td>\n",
              "      <td>1</td>\n",
              "      <td>[new, video, owaisi, aimim, xfactor, bengal, t...</td>\n",
              "      <td></td>\n",
              "      <td>Neutral</td>\n",
              "      <td>16</td>\n",
              "    </tr>\n",
              "    <tr>\n",
              "      <th>130</th>\n",
              "      <td>2020-11-16 03:43:33</td>\n",
              "      <td>1328181890503700481</td>\n",
              "      <td>True</td>\n",
              "      <td>West Bengal BJP chief Ghosh’s allegations get ...</td>\n",
              "      <td>AmanKayamHai_ET</td>\n",
              "      <td>New Delhi, India</td>\n",
              "      <td>Twitter for iPhone</td>\n",
              "      <td>7</td>\n",
              "      <td>49629</td>\n",
              "      <td>1999</td>\n",
              "      <td>0</td>\n",
              "      <td>[west, bengal, bjp, chief, ghosh, alleg, get, ...</td>\n",
              "      <td>New Delhi</td>\n",
              "      <td>Neutral</td>\n",
              "      <td>16</td>\n",
              "    </tr>\n",
              "  </tbody>\n",
              "</table>\n",
              "<p>131 rows × 15 columns</p>\n",
              "</div>"
            ],
            "text/plain": [
              "                   Date             Tweet_id  ...  sentiment day\n",
              "0   2020-11-21 20:01:36  1330239963737231366  ...    Neutral  21\n",
              "1   2020-11-21 19:03:30  1330225341340798983  ...    Neutral  21\n",
              "2   2020-11-21 18:24:42  1330215578234216449  ...   Negative  21\n",
              "3   2020-11-21 18:08:53  1330211595717373952  ...   Negative  21\n",
              "4   2020-11-21 16:05:51  1330180633054867459  ...    Neutral  21\n",
              "..                  ...                  ...  ...        ...  ..\n",
              "126 2020-11-16 20:00:01  1328427624142491650  ...   Positive  16\n",
              "127 2020-11-16 18:59:38  1328412427243851776  ...   Negative  16\n",
              "128 2020-11-16 12:39:26  1328316748450263040  ...    Neutral  16\n",
              "129 2020-11-16 07:56:47  1328245615927513088  ...    Neutral  16\n",
              "130 2020-11-16 03:43:33  1328181890503700481  ...    Neutral  16\n",
              "\n",
              "[131 rows x 15 columns]"
            ]
          },
          "metadata": {
            "tags": []
          },
          "execution_count": 81
        }
      ]
    },
    {
      "cell_type": "code",
      "metadata": {
        "id": "Xcw2IMBrbPBW"
      },
      "source": [
        "df1 = df\n",
        "df1['sentiment'] = sentimental_score_df['val']"
      ],
      "execution_count": 82,
      "outputs": []
    },
    {
      "cell_type": "code",
      "metadata": {
        "id": "fk0h10D3bPEy",
        "colab": {
          "base_uri": "https://localhost:8080/",
          "height": 450
        },
        "outputId": "a9863294-d817-4dd6-86e0-345464627f60"
      },
      "source": [
        "df1.to_csv('Location.csv',index = False)\n",
        "df1['day'] = df.Date.dt.day\n",
        "df1.head()"
      ],
      "execution_count": 83,
      "outputs": [
        {
          "output_type": "execute_result",
          "data": {
            "text/html": [
              "<div>\n",
              "<style scoped>\n",
              "    .dataframe tbody tr th:only-of-type {\n",
              "        vertical-align: middle;\n",
              "    }\n",
              "\n",
              "    .dataframe tbody tr th {\n",
              "        vertical-align: top;\n",
              "    }\n",
              "\n",
              "    .dataframe thead th {\n",
              "        text-align: right;\n",
              "    }\n",
              "</style>\n",
              "<table border=\"1\" class=\"dataframe\">\n",
              "  <thead>\n",
              "    <tr style=\"text-align: right;\">\n",
              "      <th></th>\n",
              "      <th>Date</th>\n",
              "      <th>Tweet_id</th>\n",
              "      <th>Verified</th>\n",
              "      <th>Tweet</th>\n",
              "      <th>User</th>\n",
              "      <th>Location</th>\n",
              "      <th>Source</th>\n",
              "      <th>Likes</th>\n",
              "      <th>Followers</th>\n",
              "      <th>Following</th>\n",
              "      <th>Retweets</th>\n",
              "      <th>Processed_Tweet</th>\n",
              "      <th>Processed_Location</th>\n",
              "      <th>sentiment</th>\n",
              "      <th>day</th>\n",
              "    </tr>\n",
              "  </thead>\n",
              "  <tbody>\n",
              "    <tr>\n",
              "      <th>0</th>\n",
              "      <td>2020-11-21 20:01:36</td>\n",
              "      <td>1330239963737231366</td>\n",
              "      <td>False</td>\n",
              "      <td>@manickamtagore Congress Calling Trinamool Con...</td>\n",
              "      <td>KumarReddy272</td>\n",
              "      <td>India</td>\n",
              "      <td>Twitter for Android</td>\n",
              "      <td>1</td>\n",
              "      <td>21</td>\n",
              "      <td>133</td>\n",
              "      <td>0</td>\n",
              "      <td>[congress, call, trinamool, congress, team, bj...</td>\n",
              "      <td>India</td>\n",
              "      <td>Neutral</td>\n",
              "      <td>21</td>\n",
              "    </tr>\n",
              "    <tr>\n",
              "      <th>1</th>\n",
              "      <td>2020-11-21 19:03:30</td>\n",
              "      <td>1330225341340798983</td>\n",
              "      <td>True</td>\n",
              "      <td>On Saturday BJP’s State President Dilip Ghosh ...</td>\n",
              "      <td>AhamedHassanMP</td>\n",
              "      <td>Kolkata, India</td>\n",
              "      <td>Twitter for iPhone</td>\n",
              "      <td>53</td>\n",
              "      <td>770</td>\n",
              "      <td>138</td>\n",
              "      <td>12</td>\n",
              "      <td>[saturday, bjp, state, presid, dilip, ghosh, p...</td>\n",
              "      <td>Kolkata</td>\n",
              "      <td>Neutral</td>\n",
              "      <td>21</td>\n",
              "    </tr>\n",
              "    <tr>\n",
              "      <th>2</th>\n",
              "      <td>2020-11-21 18:24:42</td>\n",
              "      <td>1330215578234216449</td>\n",
              "      <td>False</td>\n",
              "      <td>At least five Trinamool Congress MPs in West B...</td>\n",
              "      <td>DeshGujarat</td>\n",
              "      <td>Gujarat, India</td>\n",
              "      <td>TweetDeck</td>\n",
              "      <td>50</td>\n",
              "      <td>437695</td>\n",
              "      <td>191</td>\n",
              "      <td>6</td>\n",
              "      <td>[least, five, trinamool, congress, west, benga...</td>\n",
              "      <td>Gujarat</td>\n",
              "      <td>Negative</td>\n",
              "      <td>21</td>\n",
              "    </tr>\n",
              "    <tr>\n",
              "      <th>3</th>\n",
              "      <td>2020-11-21 18:08:53</td>\n",
              "      <td>1330211595717373952</td>\n",
              "      <td>False</td>\n",
              "      <td>The TMC and the BJP are the culprits for the d...</td>\n",
              "      <td>DrDIPANKARROY3</td>\n",
              "      <td></td>\n",
              "      <td>Twitter for Android</td>\n",
              "      <td>0</td>\n",
              "      <td>19</td>\n",
              "      <td>178</td>\n",
              "      <td>0</td>\n",
              "      <td>[tmc, bjp, culprit, dirti, polit, west, bengal...</td>\n",
              "      <td></td>\n",
              "      <td>Negative</td>\n",
              "      <td>21</td>\n",
              "    </tr>\n",
              "    <tr>\n",
              "      <th>4</th>\n",
              "      <td>2020-11-21 16:05:51</td>\n",
              "      <td>1330180633054867459</td>\n",
              "      <td>False</td>\n",
              "      <td>Janata Janardan is everything in a democracy. ...</td>\n",
              "      <td>aprichitrahul</td>\n",
              "      <td>Bundelkhand Uttar Pradesh</td>\n",
              "      <td>Twitter for Android</td>\n",
              "      <td>3</td>\n",
              "      <td>3364</td>\n",
              "      <td>3016</td>\n",
              "      <td>0</td>\n",
              "      <td>[janata, janardan, everyth, democraci, mamta, ...</td>\n",
              "      <td>Bundelkhand Uttar Pradesh</td>\n",
              "      <td>Neutral</td>\n",
              "      <td>21</td>\n",
              "    </tr>\n",
              "  </tbody>\n",
              "</table>\n",
              "</div>"
            ],
            "text/plain": [
              "                 Date             Tweet_id  ...  sentiment day\n",
              "0 2020-11-21 20:01:36  1330239963737231366  ...    Neutral  21\n",
              "1 2020-11-21 19:03:30  1330225341340798983  ...    Neutral  21\n",
              "2 2020-11-21 18:24:42  1330215578234216449  ...   Negative  21\n",
              "3 2020-11-21 18:08:53  1330211595717373952  ...   Negative  21\n",
              "4 2020-11-21 16:05:51  1330180633054867459  ...    Neutral  21\n",
              "\n",
              "[5 rows x 15 columns]"
            ]
          },
          "metadata": {
            "tags": []
          },
          "execution_count": 83
        }
      ]
    },
    {
      "cell_type": "code",
      "metadata": {
        "id": "uRFstkWfbPIZ",
        "colab": {
          "base_uri": "https://localhost:8080/",
          "height": 433
        },
        "outputId": "1ab3c165-6099-4cd0-93ca-fe6613e992b6"
      },
      "source": [
        "sns.countplot(df['day'],hue = df['sentiment'])"
      ],
      "execution_count": 84,
      "outputs": [
        {
          "output_type": "stream",
          "text": [
            "/usr/local/lib/python3.6/dist-packages/seaborn/_decorators.py:43: FutureWarning: Pass the following variable as a keyword arg: x. From version 0.12, the only valid positional argument will be `data`, and passing other arguments without an explicit keyword will result in an error or misinterpretation.\n",
            "  FutureWarning\n"
          ],
          "name": "stderr"
        },
        {
          "output_type": "execute_result",
          "data": {
            "text/plain": [
              "<matplotlib.axes._subplots.AxesSubplot at 0x7f0e68c63208>"
            ]
          },
          "metadata": {
            "tags": []
          },
          "execution_count": 84
        },
        {
          "output_type": "display_data",
          "data": {
            "image/png": "[encoded data removed]",
            "text/plain": [
              "<Figure size 1080x360 with 1 Axes>"
            ]
          },
          "metadata": {
            "tags": []
          }
        }
      ]
    },
    {
      "cell_type": "code",
      "metadata": {
        "id": "wjrfS-i8bPLt"
      },
      "source": [
        "from sklearn.feature_extraction.text import CountVectorizer\n",
        "from sklearn.model_selection import train_test_split\n",
        "from sklearn.naive_bayes import GaussianNB\n",
        "from sklearn.naive_bayes import MultinomialNB\n",
        "from sklearn.metrics import confusion_matrix\n",
        "from sklearn.tree import DecisionTreeClassifier\n",
        "from sklearn.ensemble import RandomForestClassifier\n",
        "from sklearn.preprocessing import LabelEncoder \n",
        "from sklearn.model_selection import GridSearchCV\n",
        "from sklearn import model_selection\n",
        "\n",
        "from sklearn.model_selection import cross_val_score\n",
        "from sklearn.metrics import accuracy_score\n",
        "from sklearn.metrics import precision_score\n",
        "from sklearn.metrics import recall_score\n",
        "from sklearn.metrics import f1_score"
      ],
      "execution_count": 85,
      "outputs": []
    },
    {
      "cell_type": "code",
      "metadata": {
        "id": "g0S-olXjbPPW",
        "colab": {
          "base_uri": "https://localhost:8080/",
          "height": 858
        },
        "outputId": "1b5a197e-9d1d-480a-fe47-bd4ee97972e9"
      },
      "source": [
        "le = LabelEncoder() \n",
        "  \n",
        "df1['sentiment_1']= le.fit_transform(df1['sentiment'])\n",
        "df1"
      ],
      "execution_count": 86,
      "outputs": [
        {
          "output_type": "execute_result",
          "data": {
            "text/html": [
              "<div>\n",
              "<style scoped>\n",
              "    .dataframe tbody tr th:only-of-type {\n",
              "        vertical-align: middle;\n",
              "    }\n",
              "\n",
              "    .dataframe tbody tr th {\n",
              "        vertical-align: top;\n",
              "    }\n",
              "\n",
              "    .dataframe thead th {\n",
              "        text-align: right;\n",
              "    }\n",
              "</style>\n",
              "<table border=\"1\" class=\"dataframe\">\n",
              "  <thead>\n",
              "    <tr style=\"text-align: right;\">\n",
              "      <th></th>\n",
              "      <th>Date</th>\n",
              "      <th>Tweet_id</th>\n",
              "      <th>Verified</th>\n",
              "      <th>Tweet</th>\n",
              "      <th>User</th>\n",
              "      <th>Location</th>\n",
              "      <th>Source</th>\n",
              "      <th>Likes</th>\n",
              "      <th>Followers</th>\n",
              "      <th>Following</th>\n",
              "      <th>Retweets</th>\n",
              "      <th>Processed_Tweet</th>\n",
              "      <th>Processed_Location</th>\n",
              "      <th>sentiment</th>\n",
              "      <th>day</th>\n",
              "      <th>sentiment_1</th>\n",
              "    </tr>\n",
              "  </thead>\n",
              "  <tbody>\n",
              "    <tr>\n",
              "      <th>0</th>\n",
              "      <td>2020-11-21 20:01:36</td>\n",
              "      <td>1330239963737231366</td>\n",
              "      <td>False</td>\n",
              "      <td>@manickamtagore Congress Calling Trinamool Con...</td>\n",
              "      <td>KumarReddy272</td>\n",
              "      <td>India</td>\n",
              "      <td>Twitter for Android</td>\n",
              "      <td>1</td>\n",
              "      <td>21</td>\n",
              "      <td>133</td>\n",
              "      <td>0</td>\n",
              "      <td>[congress, call, trinamool, congress, team, bj...</td>\n",
              "      <td>India</td>\n",
              "      <td>Neutral</td>\n",
              "      <td>21</td>\n",
              "      <td>1</td>\n",
              "    </tr>\n",
              "    <tr>\n",
              "      <th>1</th>\n",
              "      <td>2020-11-21 19:03:30</td>\n",
              "      <td>1330225341340798983</td>\n",
              "      <td>True</td>\n",
              "      <td>On Saturday BJP’s State President Dilip Ghosh ...</td>\n",
              "      <td>AhamedHassanMP</td>\n",
              "      <td>Kolkata, India</td>\n",
              "      <td>Twitter for iPhone</td>\n",
              "      <td>53</td>\n",
              "      <td>770</td>\n",
              "      <td>138</td>\n",
              "      <td>12</td>\n",
              "      <td>[saturday, bjp, state, presid, dilip, ghosh, p...</td>\n",
              "      <td>Kolkata</td>\n",
              "      <td>Neutral</td>\n",
              "      <td>21</td>\n",
              "      <td>1</td>\n",
              "    </tr>\n",
              "    <tr>\n",
              "      <th>2</th>\n",
              "      <td>2020-11-21 18:24:42</td>\n",
              "      <td>1330215578234216449</td>\n",
              "      <td>False</td>\n",
              "      <td>At least five Trinamool Congress MPs in West B...</td>\n",
              "      <td>DeshGujarat</td>\n",
              "      <td>Gujarat, India</td>\n",
              "      <td>TweetDeck</td>\n",
              "      <td>50</td>\n",
              "      <td>437695</td>\n",
              "      <td>191</td>\n",
              "      <td>6</td>\n",
              "      <td>[least, five, trinamool, congress, west, benga...</td>\n",
              "      <td>Gujarat</td>\n",
              "      <td>Negative</td>\n",
              "      <td>21</td>\n",
              "      <td>0</td>\n",
              "    </tr>\n",
              "    <tr>\n",
              "      <th>3</th>\n",
              "      <td>2020-11-21 18:08:53</td>\n",
              "      <td>1330211595717373952</td>\n",
              "      <td>False</td>\n",
              "      <td>The TMC and the BJP are the culprits for the d...</td>\n",
              "      <td>DrDIPANKARROY3</td>\n",
              "      <td></td>\n",
              "      <td>Twitter for Android</td>\n",
              "      <td>0</td>\n",
              "      <td>19</td>\n",
              "      <td>178</td>\n",
              "      <td>0</td>\n",
              "      <td>[tmc, bjp, culprit, dirti, polit, west, bengal...</td>\n",
              "      <td></td>\n",
              "      <td>Negative</td>\n",
              "      <td>21</td>\n",
              "      <td>0</td>\n",
              "    </tr>\n",
              "    <tr>\n",
              "      <th>4</th>\n",
              "      <td>2020-11-21 16:05:51</td>\n",
              "      <td>1330180633054867459</td>\n",
              "      <td>False</td>\n",
              "      <td>Janata Janardan is everything in a democracy. ...</td>\n",
              "      <td>aprichitrahul</td>\n",
              "      <td>Bundelkhand Uttar Pradesh</td>\n",
              "      <td>Twitter for Android</td>\n",
              "      <td>3</td>\n",
              "      <td>3364</td>\n",
              "      <td>3016</td>\n",
              "      <td>0</td>\n",
              "      <td>[janata, janardan, everyth, democraci, mamta, ...</td>\n",
              "      <td>Bundelkhand Uttar Pradesh</td>\n",
              "      <td>Neutral</td>\n",
              "      <td>21</td>\n",
              "      <td>1</td>\n",
              "    </tr>\n",
              "    <tr>\n",
              "      <th>...</th>\n",
              "      <td>...</td>\n",
              "      <td>...</td>\n",
              "      <td>...</td>\n",
              "      <td>...</td>\n",
              "      <td>...</td>\n",
              "      <td>...</td>\n",
              "      <td>...</td>\n",
              "      <td>...</td>\n",
              "      <td>...</td>\n",
              "      <td>...</td>\n",
              "      <td>...</td>\n",
              "      <td>...</td>\n",
              "      <td>...</td>\n",
              "      <td>...</td>\n",
              "      <td>...</td>\n",
              "      <td>...</td>\n",
              "    </tr>\n",
              "    <tr>\n",
              "      <th>126</th>\n",
              "      <td>2020-11-16 20:00:01</td>\n",
              "      <td>1328427624142491650</td>\n",
              "      <td>True</td>\n",
              "      <td>Responding to it, Mallick, president of the No...</td>\n",
              "      <td>EconomicTimes</td>\n",
              "      <td></td>\n",
              "      <td>TweetDeck</td>\n",
              "      <td>10</td>\n",
              "      <td>3770339</td>\n",
              "      <td>43</td>\n",
              "      <td>1</td>\n",
              "      <td>[respond, mallick, presid, north, pargana, dis...</td>\n",
              "      <td></td>\n",
              "      <td>Positive</td>\n",
              "      <td>16</td>\n",
              "      <td>2</td>\n",
              "    </tr>\n",
              "    <tr>\n",
              "      <th>127</th>\n",
              "      <td>2020-11-16 18:59:38</td>\n",
              "      <td>1328412427243851776</td>\n",
              "      <td>False</td>\n",
              "      <td>#Secular India*#Brand West Bengal*\\nSince 2008...</td>\n",
              "      <td>SUNDARmyth</td>\n",
              "      <td>KOLKATA</td>\n",
              "      <td>Twitter Web App</td>\n",
              "      <td>16</td>\n",
              "      <td>12775</td>\n",
              "      <td>1597</td>\n",
              "      <td>4</td>\n",
              "      <td>[secular, india, brand, west, bengal, sinc, du...</td>\n",
              "      <td>KOLKATA</td>\n",
              "      <td>Negative</td>\n",
              "      <td>16</td>\n",
              "      <td>0</td>\n",
              "    </tr>\n",
              "    <tr>\n",
              "      <th>128</th>\n",
              "      <td>2020-11-16 12:39:26</td>\n",
              "      <td>1328316748450263040</td>\n",
              "      <td>False</td>\n",
              "      <td>TRINAMOOL MLA Niamat Sheikh DON\"T Require PK i...</td>\n",
              "      <td>Satyanewshi</td>\n",
              "      <td>Hobart , 🇦🇺</td>\n",
              "      <td>Twitter Web App</td>\n",
              "      <td>48</td>\n",
              "      <td>14204</td>\n",
              "      <td>260</td>\n",
              "      <td>12</td>\n",
              "      <td>[trinamool, mla, niamat, sheikh, requir, mursh...</td>\n",
              "      <td>Hobart</td>\n",
              "      <td>Neutral</td>\n",
              "      <td>16</td>\n",
              "      <td>1</td>\n",
              "    </tr>\n",
              "    <tr>\n",
              "      <th>129</th>\n",
              "      <td>2020-11-16 07:56:47</td>\n",
              "      <td>1328245615927513088</td>\n",
              "      <td>False</td>\n",
              "      <td>New Video Will Owaisi’s AIMIM Be An X Factor I...</td>\n",
              "      <td>secularmiyabha3</td>\n",
              "      <td></td>\n",
              "      <td>Twitter for Android</td>\n",
              "      <td>13</td>\n",
              "      <td>1178</td>\n",
              "      <td>10</td>\n",
              "      <td>1</td>\n",
              "      <td>[new, video, owaisi, aimim, xfactor, bengal, t...</td>\n",
              "      <td></td>\n",
              "      <td>Neutral</td>\n",
              "      <td>16</td>\n",
              "      <td>1</td>\n",
              "    </tr>\n",
              "    <tr>\n",
              "      <th>130</th>\n",
              "      <td>2020-11-16 03:43:33</td>\n",
              "      <td>1328181890503700481</td>\n",
              "      <td>True</td>\n",
              "      <td>West Bengal BJP chief Ghosh’s allegations get ...</td>\n",
              "      <td>AmanKayamHai_ET</td>\n",
              "      <td>New Delhi, India</td>\n",
              "      <td>Twitter for iPhone</td>\n",
              "      <td>7</td>\n",
              "      <td>49629</td>\n",
              "      <td>1999</td>\n",
              "      <td>0</td>\n",
              "      <td>[west, bengal, bjp, chief, ghosh, alleg, get, ...</td>\n",
              "      <td>New Delhi</td>\n",
              "      <td>Neutral</td>\n",
              "      <td>16</td>\n",
              "      <td>1</td>\n",
              "    </tr>\n",
              "  </tbody>\n",
              "</table>\n",
              "<p>131 rows × 16 columns</p>\n",
              "</div>"
            ],
            "text/plain": [
              "                   Date             Tweet_id  ...  day sentiment_1\n",
              "0   2020-11-21 20:01:36  1330239963737231366  ...   21           1\n",
              "1   2020-11-21 19:03:30  1330225341340798983  ...   21           1\n",
              "2   2020-11-21 18:24:42  1330215578234216449  ...   21           0\n",
              "3   2020-11-21 18:08:53  1330211595717373952  ...   21           0\n",
              "4   2020-11-21 16:05:51  1330180633054867459  ...   21           1\n",
              "..                  ...                  ...  ...  ...         ...\n",
              "126 2020-11-16 20:00:01  1328427624142491650  ...   16           2\n",
              "127 2020-11-16 18:59:38  1328412427243851776  ...   16           0\n",
              "128 2020-11-16 12:39:26  1328316748450263040  ...   16           1\n",
              "129 2020-11-16 07:56:47  1328245615927513088  ...   16           1\n",
              "130 2020-11-16 03:43:33  1328181890503700481  ...   16           1\n",
              "\n",
              "[131 rows x 16 columns]"
            ]
          },
          "metadata": {
            "tags": []
          },
          "execution_count": 86
        }
      ]
    },
    {
      "cell_type": "code",
      "metadata": {
        "id": "xBc2j_RibPTh"
      },
      "source": [
        "cv = CountVectorizer(max_features = 1500)\n",
        "X = cv.fit_transform(all_words).toarray()\n",
        "y = df1['sentiment_1']"
      ],
      "execution_count": 87,
      "outputs": []
    },
    {
      "cell_type": "code",
      "metadata": {
        "id": "ePYtd2BMbPXN"
      },
      "source": [
        "X_train, X_test, y_train, y_test = train_test_split(X, y, test_size = 0.3, random_state = 0)\n",
        "# NEGATIVE == 0\n",
        "# NEUTRAL == 1\n",
        "# POSITIVE == 2"
      ],
      "execution_count": 88,
      "outputs": []
    },
    {
      "cell_type": "code",
      "metadata": {
        "id": "oTO3zF_gbPa5"
      },
      "source": [
        "#X_train, X_test, y_train, y_test = train_test_split(X_tfidf, y, test_size = 0.3, random_state = 0)"
      ],
      "execution_count": 89,
      "outputs": []
    },
    {
      "cell_type": "code",
      "metadata": {
        "id": "iaFTWb0LbPfA"
      },
      "source": [
        "classifier_DT = DecisionTreeClassifier()\n",
        "classifier_DT.fit(X_train, y_train)\n",
        "y_pred_DT = classifier_DT.predict(X_test)"
      ],
      "execution_count": 90,
      "outputs": []
    },
    {
      "cell_type": "code",
      "metadata": {
        "id": "d27boANUbPi9",
        "colab": {
          "base_uri": "https://localhost:8080/"
        },
        "outputId": "8aba783f-b1b8-4ef6-f38a-f7dddf083890"
      },
      "source": [
        "accuracy_score_DT = accuracy_score(y_test, y_pred_DT)\n",
        "precision_score_DT = precision_score(y_test, y_pred_DT , average = 'micro')\n",
        "recall_score_DT = recall_score(y_test, y_pred_DT , average = 'micro')\n",
        "f1_score_DT = f1_score(y_test, y_pred_DT , average = 'micro')\n",
        "print(\"Accuracy Score: \" , accuracy_score_DT)\n",
        "print(\"Precision Score: \" , precision_score_DT)\n",
        "print(\"Recall Score: \" , recall_score_DT)\n",
        "print(\"F1 Score: \" , f1_score_DT)"
      ],
      "execution_count": 91,
      "outputs": [
        {
          "output_type": "stream",
          "text": [
            "Accuracy Score:  0.5\n",
            "Precision Score:  0.5\n",
            "Recall Score:  0.5\n",
            "F1 Score:  0.5\n"
          ],
          "name": "stdout"
        }
      ]
    },
    {
      "cell_type": "code",
      "metadata": {
        "id": "drhy2odtbPmU",
        "colab": {
          "base_uri": "https://localhost:8080/",
          "height": 408
        },
        "outputId": "c28641c4-3586-4dd4-e7ab-aa0695a5fd75"
      },
      "source": [
        "cm_DT = confusion_matrix(y_test, y_pred_DT)\n",
        "\n",
        "      # neg # neutr  # pos\n",
        "# pos #  232   65      1397\n",
        "# neu #  87   1175     51\n",
        "# neg # 1104   82      321\n",
        "\n",
        "df_cm_DT = pd.DataFrame(cm_DT, range(3), range(3))\n",
        "plt.figure(figsize=(10,6))\n",
        "categories = ['Negative','Neutral','Positive']\n",
        "sns.set(font_scale=1.2) # for label size\n",
        "sns.heatmap(df_cm_DT, annot=True, annot_kws={\"size\": 18}, xticklabels = categories,\n",
        "            yticklabels = categories ,fmt=\"d\") # font size\n",
        "plt.ylim(0, 3)\n",
        "plt.show()"
      ],
      "execution_count": 92,
      "outputs": [
        {
          "output_type": "display_data",
          "data": {
            "image/png": "[encoded data removed]",
            "text/plain": [
              "<Figure size 720x432 with 2 Axes>"
            ]
          },
          "metadata": {
            "tags": []
          }
        }
      ]
    },
    {
      "cell_type": "code",
      "metadata": {
        "id": "K0CwHnJPko8z",
        "colab": {
          "base_uri": "https://localhost:8080/"
        },
        "outputId": "fb15093a-7fb1-443f-97c0-ff10b66efcd7"
      },
      "source": [
        "#Getting the parameters of the particular model \n",
        "classifier_DT.get_params().keys()"
      ],
      "execution_count": 93,
      "outputs": [
        {
          "output_type": "execute_result",
          "data": {
            "text/plain": [
              "dict_keys(['ccp_alpha', 'class_weight', 'criterion', 'max_depth', 'max_features', 'max_leaf_nodes', 'min_impurity_decrease', 'min_impurity_split', 'min_samples_leaf', 'min_samples_split', 'min_weight_fraction_leaf', 'presort', 'random_state', 'splitter'])"
            ]
          },
          "metadata": {
            "tags": []
          },
          "execution_count": 93
        }
      ]
    },
    {
      "cell_type": "code",
      "metadata": {
        "id": "zJvr_oyVkvC9"
      },
      "source": [
        "classifier_DT_opti = DecisionTreeClassifier() \n",
        "\n",
        "param_grid = {\"max_depth\" : [1,3,5,7],     #Setting the parameters for the model\n",
        "               \"criterion\" : [\"gini\",\"entropy\"],\n",
        "              \"min_samples_split\" : [2,3,4],\n",
        "              \"max_leaf_nodes\" : [7,8,9],\n",
        "              \"min_samples_leaf\": [2,3,4],\n",
        "             }"
      ],
      "execution_count": 96,
      "outputs": []
    },
    {
      "cell_type": "code",
      "metadata": {
        "id": "PuxfADWvkyNv",
        "colab": {
          "base_uri": "https://localhost:8080/"
        },
        "outputId": "6b82140d-5d98-47ca-a9cb-7369e8388b34"
      },
      "source": [
        "model_DT = model_selection.GridSearchCV(estimator=classifier_DT_opti, #GridSearch\n",
        "                                    param_grid=param_grid, \n",
        "                                        cv=10)\n",
        "model_DT.fit(X_train,y_train)\n",
        "print(model_DT.best_score_) #Gives the best score of the model\n",
        "print(model_DT.best_estimator_.get_params()) #Gives the best parameters"
      ],
      "execution_count": 97,
      "outputs": [
        {
          "output_type": "stream",
          "text": [
            "0.5822222222222222\n",
            "{'ccp_alpha': 0.0, 'class_weight': None, 'criterion': 'entropy', 'max_depth': 5, 'max_features': None, 'max_leaf_nodes': 7, 'min_impurity_decrease': 0.0, 'min_impurity_split': None, 'min_samples_leaf': 3, 'min_samples_split': 2, 'min_weight_fraction_leaf': 0.0, 'presort': 'deprecated', 'random_state': None, 'splitter': 'best'}\n"
          ],
          "name": "stdout"
        }
      ]
    },
    {
      "cell_type": "code",
      "metadata": {
        "id": "gzgA0zjCkyQx",
        "colab": {
          "base_uri": "https://localhost:8080/"
        },
        "outputId": "98bf29ca-4d48-4e5c-9ee3-d61d83ed4cb7"
      },
      "source": [
        "y_pred_model_DT = model_DT.predict(X_test)\n",
        "\n",
        "accuracy_score_model_DT = accuracy_score(y_test, y_pred_model_DT)\n",
        "precision_score_model_DT = precision_score(y_test, y_pred_model_DT , average = 'micro')\n",
        "recall_score_model_DT = recall_score(y_test, y_pred_model_DT , average = 'micro')\n",
        "f1_score_model_DT = f1_score(y_test, y_pred_model_DT , average = 'micro')\n",
        "print(\"Accuracy Score: \" , accuracy_score_model_DT)\n",
        "print(\"Precision Score: \" , precision_score_model_DT)\n",
        "print(\"Recall Score: \" , recall_score_model_DT)\n",
        "print(\"F1 Score: \" , f1_score_model_DT)"
      ],
      "execution_count": 98,
      "outputs": [
        {
          "output_type": "stream",
          "text": [
            "Accuracy Score:  0.45\n",
            "Precision Score:  0.45\n",
            "Recall Score:  0.45\n",
            "F1 Score:  0.45\n"
          ],
          "name": "stdout"
        }
      ]
    },
    {
      "cell_type": "code",
      "metadata": {
        "id": "J2nH4bFQkyUK",
        "colab": {
          "base_uri": "https://localhost:8080/",
          "height": 408
        },
        "outputId": "1e04eaad-7686-4f43-b3bf-ffc30aae7101"
      },
      "source": [
        "cm_model_DT = confusion_matrix(y_test, y_pred_model_DT)\n",
        "\n",
        "df_cm_model_DT = pd.DataFrame(cm_model_DT, range(3), range(3))\n",
        "plt.figure(figsize=(10,6))\n",
        "categories = ['Negative','Neutral','Positive']\n",
        "sns.set(font_scale=1.2) # for label size\n",
        "sns.heatmap(df_cm_model_DT, annot=True, annot_kws={\"size\": 18}, xticklabels = categories,\n",
        "            yticklabels = categories ,fmt=\"d\") # font size\n",
        "plt.ylim(0, 3)\n",
        "plt.show()"
      ],
      "execution_count": 99,
      "outputs": [
        {
          "output_type": "display_data",
          "data": {
            "image/png": "[encoded data removed]",
            "text/plain": [
              "<Figure size 720x432 with 2 Axes>"
            ]
          },
          "metadata": {
            "tags": []
          }
        }
      ]
    },
    {
      "cell_type": "code",
      "metadata": {
        "id": "ngig2X9VkyYE"
      },
      "source": [
        "classifier_RF = RandomForestClassifier()\n",
        "classifier_RF.fit(X_train, y_train)\n",
        "y_pred_RF = classifier_RF.predict(X_test)"
      ],
      "execution_count": 100,
      "outputs": []
    },
    {
      "cell_type": "code",
      "metadata": {
        "id": "63-Ls52Jkyby",
        "colab": {
          "base_uri": "https://localhost:8080/"
        },
        "outputId": "89244650-1f8d-4a36-eca2-4bda39415c22"
      },
      "source": [
        "accuracy_score_RF = accuracy_score(y_test, y_pred_RF)\n",
        "precision_score_RF = precision_score(y_test, y_pred_RF , average = 'micro')\n",
        "recall_score_RF = recall_score(y_test, y_pred_RF, average = 'micro')\n",
        "f1_score_RF = f1_score(y_test, y_pred_RF, average = 'micro')\n",
        "print(\"Accuracy Score: \" , accuracy_score_RF)\n",
        "print(\"Precision Score: \" , precision_score_RF)\n",
        "print(\"Recall Score: \" , recall_score_RF)\n",
        "print(\"F1 Score: \" , f1_score_RF)"
      ],
      "execution_count": 101,
      "outputs": [
        {
          "output_type": "stream",
          "text": [
            "Accuracy Score:  0.475\n",
            "Precision Score:  0.475\n",
            "Recall Score:  0.475\n",
            "F1 Score:  0.47500000000000003\n"
          ],
          "name": "stdout"
        }
      ]
    },
    {
      "cell_type": "code",
      "metadata": {
        "id": "YHbA5LWNkyfk",
        "colab": {
          "base_uri": "https://localhost:8080/",
          "height": 408
        },
        "outputId": "62612351-556f-40c9-8bc3-0ad4a39df0d6"
      },
      "source": [
        "cm_RF = confusion_matrix(y_test, y_pred_RF)\n",
        "\n",
        "df_cm_RF = pd.DataFrame(cm_RF, range(3), range(3))\n",
        "categories = ['Negative','Neutral','Positive']\n",
        "plt.figure(figsize=(10,6))\n",
        "sns.set(font_scale=1.2) # for label size\n",
        "sns.heatmap(df_cm_RF, annot=True, annot_kws={\"size\": 18}, xticklabels = categories,\n",
        "            yticklabels = categories,fmt=\"d\") # font size\n",
        "plt.ylim(0, 3)\n",
        "plt.show()"
      ],
      "execution_count": 102,
      "outputs": [
        {
          "output_type": "display_data",
          "data": {
            "image/png": "[encoded data removed]",
            "text/plain": [
              "<Figure size 720x432 with 2 Axes>"
            ]
          },
          "metadata": {
            "tags": []
          }
        }
      ]
    },
    {
      "cell_type": "code",
      "metadata": {
        "id": "E5BTMRiAkyl9",
        "colab": {
          "base_uri": "https://localhost:8080/"
        },
        "outputId": "8344cc98-9a93-4e52-a1b2-f75bd49c1173"
      },
      "source": [
        "#Getting the parameters of the particular model \n",
        "classifier_RF.get_params().keys()"
      ],
      "execution_count": 103,
      "outputs": [
        {
          "output_type": "execute_result",
          "data": {
            "text/plain": [
              "dict_keys(['bootstrap', 'ccp_alpha', 'class_weight', 'criterion', 'max_depth', 'max_features', 'max_leaf_nodes', 'max_samples', 'min_impurity_decrease', 'min_impurity_split', 'min_samples_leaf', 'min_samples_split', 'min_weight_fraction_leaf', 'n_estimators', 'n_jobs', 'oob_score', 'random_state', 'verbose', 'warm_start'])"
            ]
          },
          "metadata": {
            "tags": []
          },
          "execution_count": 103
        }
      ]
    },
    {
      "cell_type": "code",
      "metadata": {
        "id": "VBmNF8XVkysq",
        "colab": {
          "base_uri": "https://localhost:8080/"
        },
        "outputId": "df22470b-d70f-4810-a165-0941b5b085f7"
      },
      "source": [
        "classifier_RF_opti = RandomForestClassifier()\n",
        "param_grid = {\"n_estimators\": np.arange(100,1500,100), #Selecting the parameters\n",
        "               \"max_depth\": np.arange(1,20),\n",
        "               \"criterion\": [\"gini\",\"entropy\"], \n",
        "              }\n",
        "\n",
        "classifier_model_RF = model_selection.RandomizedSearchCV(estimator=classifier_RF_opti, #RandomizedSearch\n",
        "                                    param_distributions=param_grid,\n",
        "                                    n_iter=10,\n",
        "                                    scoring='accuracy',\n",
        "                                    verbose=10,\n",
        "                                    n_jobs=1,\n",
        "                                    cv=5)\n",
        "\n",
        "classifier_model_RF.fit(X_train,y_train)\n",
        "print(classifier_model_RF.best_score_) #Gives the best score of the model\n",
        "print(classifier_model_RF.best_estimator_.get_params()) #Gives the best parameters of the model"
      ],
      "execution_count": 104,
      "outputs": [
        {
          "output_type": "stream",
          "text": [
            "Fitting 5 folds for each of 10 candidates, totalling 50 fits\n",
            "[CV] n_estimators=500, max_depth=5, criterion=gini ...................\n"
          ],
          "name": "stdout"
        },
        {
          "output_type": "stream",
          "text": [
            "[Parallel(n_jobs=1)]: Using backend SequentialBackend with 1 concurrent workers.\n"
          ],
          "name": "stderr"
        },
        {
          "output_type": "stream",
          "text": [
            "[CV]  n_estimators=500, max_depth=5, criterion=gini, score=0.632, total=   0.7s\n",
            "[CV] n_estimators=500, max_depth=5, criterion=gini ...................\n"
          ],
          "name": "stdout"
        },
        {
          "output_type": "stream",
          "text": [
            "[Parallel(n_jobs=1)]: Done   1 out of   1 | elapsed:    0.7s remaining:    0.0s\n"
          ],
          "name": "stderr"
        },
        {
          "output_type": "stream",
          "text": [
            "[CV]  n_estimators=500, max_depth=5, criterion=gini, score=0.444, total=   0.7s\n",
            "[CV] n_estimators=500, max_depth=5, criterion=gini ...................\n"
          ],
          "name": "stdout"
        },
        {
          "output_type": "stream",
          "text": [
            "[Parallel(n_jobs=1)]: Done   2 out of   2 | elapsed:    1.4s remaining:    0.0s\n"
          ],
          "name": "stderr"
        },
        {
          "output_type": "stream",
          "text": [
            "[CV]  n_estimators=500, max_depth=5, criterion=gini, score=0.500, total=   0.7s\n",
            "[CV] n_estimators=500, max_depth=5, criterion=gini ...................\n"
          ],
          "name": "stdout"
        },
        {
          "output_type": "stream",
          "text": [
            "[Parallel(n_jobs=1)]: Done   3 out of   3 | elapsed:    2.1s remaining:    0.0s\n"
          ],
          "name": "stderr"
        },
        {
          "output_type": "stream",
          "text": [
            "[CV]  n_estimators=500, max_depth=5, criterion=gini, score=0.556, total=   0.7s\n",
            "[CV] n_estimators=500, max_depth=5, criterion=gini ...................\n"
          ],
          "name": "stdout"
        },
        {
          "output_type": "stream",
          "text": [
            "[Parallel(n_jobs=1)]: Done   4 out of   4 | elapsed:    2.7s remaining:    0.0s\n"
          ],
          "name": "stderr"
        },
        {
          "output_type": "stream",
          "text": [
            "[CV]  n_estimators=500, max_depth=5, criterion=gini, score=0.667, total=   0.7s\n",
            "[CV] n_estimators=1400, max_depth=2, criterion=gini ..................\n"
          ],
          "name": "stdout"
        },
        {
          "output_type": "stream",
          "text": [
            "[Parallel(n_jobs=1)]: Done   5 out of   5 | elapsed:    3.4s remaining:    0.0s\n"
          ],
          "name": "stderr"
        },
        {
          "output_type": "stream",
          "text": [
            "[CV]  n_estimators=1400, max_depth=2, criterion=gini, score=0.579, total=   1.9s\n",
            "[CV] n_estimators=1400, max_depth=2, criterion=gini ..................\n"
          ],
          "name": "stdout"
        },
        {
          "output_type": "stream",
          "text": [
            "[Parallel(n_jobs=1)]: Done   6 out of   6 | elapsed:    5.3s remaining:    0.0s\n"
          ],
          "name": "stderr"
        },
        {
          "output_type": "stream",
          "text": [
            "[CV]  n_estimators=1400, max_depth=2, criterion=gini, score=0.500, total=   1.8s\n",
            "[CV] n_estimators=1400, max_depth=2, criterion=gini ..................\n"
          ],
          "name": "stdout"
        },
        {
          "output_type": "stream",
          "text": [
            "[Parallel(n_jobs=1)]: Done   7 out of   7 | elapsed:    7.2s remaining:    0.0s\n"
          ],
          "name": "stderr"
        },
        {
          "output_type": "stream",
          "text": [
            "[CV]  n_estimators=1400, max_depth=2, criterion=gini, score=0.500, total=   1.9s\n",
            "[CV] n_estimators=1400, max_depth=2, criterion=gini ..................\n"
          ],
          "name": "stdout"
        },
        {
          "output_type": "stream",
          "text": [
            "[Parallel(n_jobs=1)]: Done   8 out of   8 | elapsed:    9.0s remaining:    0.0s\n"
          ],
          "name": "stderr"
        },
        {
          "output_type": "stream",
          "text": [
            "[CV]  n_estimators=1400, max_depth=2, criterion=gini, score=0.611, total=   1.8s\n",
            "[CV] n_estimators=1400, max_depth=2, criterion=gini ..................\n"
          ],
          "name": "stdout"
        },
        {
          "output_type": "stream",
          "text": [
            "[Parallel(n_jobs=1)]: Done   9 out of   9 | elapsed:   10.9s remaining:    0.0s\n"
          ],
          "name": "stderr"
        },
        {
          "output_type": "stream",
          "text": [
            "[CV]  n_estimators=1400, max_depth=2, criterion=gini, score=0.611, total=   1.8s\n",
            "[CV] n_estimators=1300, max_depth=11, criterion=gini .................\n",
            "[CV]  n_estimators=1300, max_depth=11, criterion=gini, score=0.684, total=   1.8s\n",
            "[CV] n_estimators=1300, max_depth=11, criterion=gini .................\n",
            "[CV]  n_estimators=1300, max_depth=11, criterion=gini, score=0.500, total=   1.8s\n",
            "[CV] n_estimators=1300, max_depth=11, criterion=gini .................\n",
            "[CV]  n_estimators=1300, max_depth=11, criterion=gini, score=0.611, total=   1.8s\n",
            "[CV] n_estimators=1300, max_depth=11, criterion=gini .................\n",
            "[CV]  n_estimators=1300, max_depth=11, criterion=gini, score=0.500, total=   1.9s\n",
            "[CV] n_estimators=1300, max_depth=11, criterion=gini .................\n",
            "[CV]  n_estimators=1300, max_depth=11, criterion=gini, score=0.722, total=   1.8s\n",
            "[CV] n_estimators=800, max_depth=17, criterion=gini ..................\n",
            "[CV]  n_estimators=800, max_depth=17, criterion=gini, score=0.684, total=   1.1s\n",
            "[CV] n_estimators=800, max_depth=17, criterion=gini ..................\n",
            "[CV]  n_estimators=800, max_depth=17, criterion=gini, score=0.500, total=   1.1s\n",
            "[CV] n_estimators=800, max_depth=17, criterion=gini ..................\n",
            "[CV]  n_estimators=800, max_depth=17, criterion=gini, score=0.556, total=   1.1s\n",
            "[CV] n_estimators=800, max_depth=17, criterion=gini ..................\n",
            "[CV]  n_estimators=800, max_depth=17, criterion=gini, score=0.500, total=   1.1s\n",
            "[CV] n_estimators=800, max_depth=17, criterion=gini ..................\n",
            "[CV]  n_estimators=800, max_depth=17, criterion=gini, score=0.667, total=   1.1s\n",
            "[CV] n_estimators=100, max_depth=17, criterion=gini ..................\n",
            "[CV]  n_estimators=100, max_depth=17, criterion=gini, score=0.684, total=   0.1s\n",
            "[CV] n_estimators=100, max_depth=17, criterion=gini ..................\n",
            "[CV]  n_estimators=100, max_depth=17, criterion=gini, score=0.389, total=   0.1s\n",
            "[CV] n_estimators=100, max_depth=17, criterion=gini ..................\n",
            "[CV]  n_estimators=100, max_depth=17, criterion=gini, score=0.389, total=   0.1s\n",
            "[CV] n_estimators=100, max_depth=17, criterion=gini ..................\n",
            "[CV]  n_estimators=100, max_depth=17, criterion=gini, score=0.500, total=   0.2s\n",
            "[CV] n_estimators=100, max_depth=17, criterion=gini ..................\n",
            "[CV]  n_estimators=100, max_depth=17, criterion=gini, score=0.722, total=   0.1s\n",
            "[CV] n_estimators=600, max_depth=15, criterion=gini ..................\n",
            "[CV]  n_estimators=600, max_depth=15, criterion=gini, score=0.684, total=   0.9s\n",
            "[CV] n_estimators=600, max_depth=15, criterion=gini ..................\n",
            "[CV]  n_estimators=600, max_depth=15, criterion=gini, score=0.500, total=   0.9s\n",
            "[CV] n_estimators=600, max_depth=15, criterion=gini ..................\n",
            "[CV]  n_estimators=600, max_depth=15, criterion=gini, score=0.556, total=   0.9s\n",
            "[CV] n_estimators=600, max_depth=15, criterion=gini ..................\n",
            "[CV]  n_estimators=600, max_depth=15, criterion=gini, score=0.500, total=   0.9s\n",
            "[CV] n_estimators=600, max_depth=15, criterion=gini ..................\n",
            "[CV]  n_estimators=600, max_depth=15, criterion=gini, score=0.667, total=   0.9s\n",
            "[CV] n_estimators=1100, max_depth=18, criterion=entropy ..............\n",
            "[CV]  n_estimators=1100, max_depth=18, criterion=entropy, score=0.684, total=   1.6s\n",
            "[CV] n_estimators=1100, max_depth=18, criterion=entropy ..............\n",
            "[CV]  n_estimators=1100, max_depth=18, criterion=entropy, score=0.500, total=   1.6s\n",
            "[CV] n_estimators=1100, max_depth=18, criterion=entropy ..............\n",
            "[CV]  n_estimators=1100, max_depth=18, criterion=entropy, score=0.556, total=   1.6s\n",
            "[CV] n_estimators=1100, max_depth=18, criterion=entropy ..............\n",
            "[CV]  n_estimators=1100, max_depth=18, criterion=entropy, score=0.500, total=   1.6s\n",
            "[CV] n_estimators=1100, max_depth=18, criterion=entropy ..............\n",
            "[CV]  n_estimators=1100, max_depth=18, criterion=entropy, score=0.611, total=   1.6s\n",
            "[CV] n_estimators=1300, max_depth=17, criterion=gini .................\n",
            "[CV]  n_estimators=1300, max_depth=17, criterion=gini, score=0.632, total=   1.9s\n",
            "[CV] n_estimators=1300, max_depth=17, criterion=gini .................\n",
            "[CV]  n_estimators=1300, max_depth=17, criterion=gini, score=0.500, total=   1.9s\n",
            "[CV] n_estimators=1300, max_depth=17, criterion=gini .................\n",
            "[CV]  n_estimators=1300, max_depth=17, criterion=gini, score=0.556, total=   1.9s\n",
            "[CV] n_estimators=1300, max_depth=17, criterion=gini .................\n",
            "[CV]  n_estimators=1300, max_depth=17, criterion=gini, score=0.500, total=   1.9s\n",
            "[CV] n_estimators=1300, max_depth=17, criterion=gini .................\n",
            "[CV]  n_estimators=1300, max_depth=17, criterion=gini, score=0.611, total=   1.9s\n",
            "[CV] n_estimators=1400, max_depth=6, criterion=gini ..................\n",
            "[CV]  n_estimators=1400, max_depth=6, criterion=gini, score=0.579, total=   1.9s\n",
            "[CV] n_estimators=1400, max_depth=6, criterion=gini ..................\n",
            "[CV]  n_estimators=1400, max_depth=6, criterion=gini, score=0.444, total=   1.9s\n",
            "[CV] n_estimators=1400, max_depth=6, criterion=gini ..................\n",
            "[CV]  n_estimators=1400, max_depth=6, criterion=gini, score=0.500, total=   1.9s\n",
            "[CV] n_estimators=1400, max_depth=6, criterion=gini ..................\n",
            "[CV]  n_estimators=1400, max_depth=6, criterion=gini, score=0.556, total=   1.9s\n",
            "[CV] n_estimators=1400, max_depth=6, criterion=gini ..................\n",
            "[CV]  n_estimators=1400, max_depth=6, criterion=gini, score=0.722, total=   1.9s\n",
            "[CV] n_estimators=1300, max_depth=7, criterion=gini ..................\n",
            "[CV]  n_estimators=1300, max_depth=7, criterion=gini, score=0.579, total=   1.8s\n",
            "[CV] n_estimators=1300, max_depth=7, criterion=gini ..................\n",
            "[CV]  n_estimators=1300, max_depth=7, criterion=gini, score=0.444, total=   1.8s\n",
            "[CV] n_estimators=1300, max_depth=7, criterion=gini ..................\n",
            "[CV]  n_estimators=1300, max_depth=7, criterion=gini, score=0.500, total=   1.8s\n",
            "[CV] n_estimators=1300, max_depth=7, criterion=gini ..................\n",
            "[CV]  n_estimators=1300, max_depth=7, criterion=gini, score=0.556, total=   1.8s\n",
            "[CV] n_estimators=1300, max_depth=7, criterion=gini ..................\n",
            "[CV]  n_estimators=1300, max_depth=7, criterion=gini, score=0.667, total=   1.8s\n"
          ],
          "name": "stdout"
        },
        {
          "output_type": "stream",
          "text": [
            "[Parallel(n_jobs=1)]: Done  50 out of  50 | elapsed:  1.1min finished\n"
          ],
          "name": "stderr"
        },
        {
          "output_type": "stream",
          "text": [
            "0.6035087719298246\n",
            "{'bootstrap': True, 'ccp_alpha': 0.0, 'class_weight': None, 'criterion': 'gini', 'max_depth': 11, 'max_features': 'auto', 'max_leaf_nodes': None, 'max_samples': None, 'min_impurity_decrease': 0.0, 'min_impurity_split': None, 'min_samples_leaf': 1, 'min_samples_split': 2, 'min_weight_fraction_leaf': 0.0, 'n_estimators': 1300, 'n_jobs': None, 'oob_score': False, 'random_state': None, 'verbose': 0, 'warm_start': False}\n"
          ],
          "name": "stdout"
        }
      ]
    },
    {
      "cell_type": "code",
      "metadata": {
        "id": "_HMg7RGQkyw9",
        "colab": {
          "base_uri": "https://localhost:8080/"
        },
        "outputId": "78cdc386-4cf3-4688-8570-63a074a5aef3"
      },
      "source": [
        "y_pred_model_RF = classifier_model_RF.predict(X_test)\n",
        "\n",
        "accuracy_score_model_RF = accuracy_score(y_test, y_pred_model_RF)\n",
        "precision_score_model_RF = precision_score(y_test, y_pred_model_RF , average = 'micro')\n",
        "recall_score_model_RF = recall_score(y_test, y_pred_model_RF , average = 'micro')\n",
        "f1_score_model_RF = f1_score(y_test, y_pred_model_RF , average = 'micro')\n",
        "print(\"Accuracy Score: \" , accuracy_score_model_RF)\n",
        "print(\"Precision Score: \" , precision_score_model_RF)\n",
        "print(\"Recall Score: \" , recall_score_model_RF)\n",
        "print(\"F1 Score: \" , f1_score_model_RF)"
      ],
      "execution_count": 105,
      "outputs": [
        {
          "output_type": "stream",
          "text": [
            "Accuracy Score:  0.5\n",
            "Precision Score:  0.5\n",
            "Recall Score:  0.5\n",
            "F1 Score:  0.5\n"
          ],
          "name": "stdout"
        }
      ]
    },
    {
      "cell_type": "code",
      "metadata": {
        "id": "Jv8KNIbcky7X",
        "colab": {
          "base_uri": "https://localhost:8080/",
          "height": 408
        },
        "outputId": "6e32ff24-7e3a-4860-eb93-d69cf6cae907"
      },
      "source": [
        "cm_model_RF = confusion_matrix(y_test, y_pred_model_RF)\n",
        "\n",
        "df_cm_model_RF = pd.DataFrame(cm_model_RF, range(3), range(3))\n",
        "plt.figure(figsize=(10,6))\n",
        "categories = ['Negative','Neutral','Positive']\n",
        "sns.set(font_scale=1.2) # for label size\n",
        "sns.heatmap(df_cm_model_RF, annot=True, annot_kws={\"size\": 18}, xticklabels = categories,\n",
        "            yticklabels = categories ,fmt=\"d\") # font size\n",
        "plt.ylim(0, 3)\n",
        "plt.show()"
      ],
      "execution_count": 106,
      "outputs": [
        {
          "output_type": "display_data",
          "data": {
            "image/png": "[encoded data removed]",
            "text/plain": [
              "<Figure size 720x432 with 2 Axes>"
            ]
          },
          "metadata": {
            "tags": []
          }
        }
      ]
    },
    {
      "cell_type": "code",
      "metadata": {
        "id": "DQyX1mAPky_I",
        "colab": {
          "base_uri": "https://localhost:8080/"
        },
        "outputId": "d55c5fab-4a5c-45b9-f693-76b027c023f7"
      },
      "source": [
        "classifier_NB = MultinomialNB()\n",
        "classifier_NB.fit(X_train, y_train)\n",
        "y_pred_NB = classifier_NB.predict(X_test)\n",
        "\n",
        "accuracy_score_NB = accuracy_score(y_test, y_pred_NB)\n",
        "precision_score_NB = precision_score(y_test, y_pred_NB , average = 'micro')\n",
        "recall_score_NB = recall_score(y_test, y_pred_NB, average = 'micro')\n",
        "f1_score_NB = f1_score(y_test, y_pred_NB, average = 'micro')\n",
        "print(\"Accuracy Score: \" , accuracy_score_NB)\n",
        "print(\"Precision Score: \" , precision_score_NB)\n",
        "print(\"Recall Score: \" , recall_score_NB)\n",
        "print(\"F1 Score: \" , f1_score_NB)"
      ],
      "execution_count": 107,
      "outputs": [
        {
          "output_type": "stream",
          "text": [
            "Accuracy Score:  0.575\n",
            "Precision Score:  0.575\n",
            "Recall Score:  0.575\n",
            "F1 Score:  0.575\n"
          ],
          "name": "stdout"
        }
      ]
    },
    {
      "cell_type": "code",
      "metadata": {
        "id": "9tg9p6S-kzDm",
        "colab": {
          "base_uri": "https://localhost:8080/",
          "height": 408
        },
        "outputId": "3e6e8c44-ab9d-40c9-b9d1-691617cddc54"
      },
      "source": [
        "cm_NB = confusion_matrix(y_test, y_pred_NB)\n",
        "\n",
        "df_cm_NB = pd.DataFrame(cm_NB, range(3), range(3))\n",
        "plt.figure(figsize=(10,6))\n",
        "categories = ['Negative','Neutral','Positive']\n",
        "sns.set(font_scale=1.2) # for label size\n",
        "sns.heatmap(df_cm_NB, annot=True, annot_kws={\"size\": 18}, xticklabels = categories,\n",
        "            yticklabels = categories,fmt=\"d\") # font size\n",
        "plt.ylim(0, 3)\n",
        "plt.show()"
      ],
      "execution_count": 108,
      "outputs": [
        {
          "output_type": "display_data",
          "data": {
            "image/png": "[encoded data removed]",
            "text/plain": [
              "<Figure size 720x432 with 2 Axes>"
            ]
          },
          "metadata": {
            "tags": []
          }
        }
      ]
    },
    {
      "cell_type": "code",
      "metadata": {
        "id": "BTe09ktPkzKE",
        "colab": {
          "base_uri": "https://localhost:8080/"
        },
        "outputId": "3186de96-bc0c-4709-e9d3-ec510ba843c4"
      },
      "source": [
        "#Getting the parameters of the particular model \n",
        "classifier_NB.get_params().keys()"
      ],
      "execution_count": 109,
      "outputs": [
        {
          "output_type": "execute_result",
          "data": {
            "text/plain": [
              "dict_keys(['alpha', 'class_prior', 'fit_prior'])"
            ]
          },
          "metadata": {
            "tags": []
          },
          "execution_count": 109
        }
      ]
    },
    {
      "cell_type": "code",
      "metadata": {
        "id": "NrTKsiC6kzOQ",
        "colab": {
          "base_uri": "https://localhost:8080/"
        },
        "outputId": "fdfc4a62-2dae-48fa-ff7d-3b18021b6e4e"
      },
      "source": [
        "classifier_NB_opti = MultinomialNB() #Using the MultinomialNB\n",
        "param_grid = {'alpha':[1,2,3,4], } #Selecting the parameters\n",
        "\n",
        "classifier_model_NB = model_selection.GridSearchCV(estimator=classifier_NB_opti, #GridSearch\n",
        "                                    param_grid=param_grid,\n",
        "                                        cv=10)\n",
        "classifier_model_NB.fit(X_train,y_train)\n",
        "print(classifier_model_NB.best_score_) #Gives the best score of the model\n",
        "print(classifier_model_NB.best_estimator_.get_params()) #Gives the best parameters of the model"
      ],
      "execution_count": 110,
      "outputs": [
        {
          "output_type": "stream",
          "text": [
            "0.5355555555555556\n",
            "{'alpha': 2, 'class_prior': None, 'fit_prior': True}\n"
          ],
          "name": "stdout"
        }
      ]
    },
    {
      "cell_type": "code",
      "metadata": {
        "id": "2ypJAX2PkzR_",
        "colab": {
          "base_uri": "https://localhost:8080/"
        },
        "outputId": "1ced1b1c-0d50-4dff-b9fa-38788c7ce7c1"
      },
      "source": [
        "y_pred_model_NB = classifier_model_NB.predict(X_test)\n",
        "\n",
        "accuracy_score_model_NB = accuracy_score(y_test, y_pred_model_NB)\n",
        "precision_score_model_NB = precision_score(y_test, y_pred_model_NB , average = 'micro')\n",
        "recall_score_model_NB = recall_score(y_test, y_pred_model_NB , average = 'micro')\n",
        "f1_score_model_NB = f1_score(y_test, y_pred_model_NB, average = 'micro')\n",
        "print(\"Accuracy Score: \" , accuracy_score_model_NB)\n",
        "print(\"Precision Score: \" , precision_score_model_NB)\n",
        "print(\"Recall Score: \" , recall_score_model_NB)\n",
        "print(\"F1 Score: \" , f1_score_model_NB)"
      ],
      "execution_count": 111,
      "outputs": [
        {
          "output_type": "stream",
          "text": [
            "Accuracy Score:  0.575\n",
            "Precision Score:  0.575\n",
            "Recall Score:  0.575\n",
            "F1 Score:  0.575\n"
          ],
          "name": "stdout"
        }
      ]
    },
    {
      "cell_type": "code",
      "metadata": {
        "id": "ZBBcB7kVkzVo",
        "colab": {
          "base_uri": "https://localhost:8080/",
          "height": 408
        },
        "outputId": "a194719f-b87e-4532-e56e-a252b85b79fe"
      },
      "source": [
        "cm_model_NB = confusion_matrix(y_test, y_pred_model_NB)\n",
        "\n",
        "df_cm_model_NB = pd.DataFrame(cm_model_NB, range(3), range(3))\n",
        "plt.figure(figsize=(10,6))\n",
        "categories = ['Negative','Neutral','Positive']\n",
        "sns.set(font_scale=1.2) # for label size\n",
        "sns.heatmap(df_cm_model_NB, annot=True, annot_kws={\"size\": 18}, xticklabels = categories,\n",
        "            yticklabels = categories ,fmt=\"d\") # font size\n",
        "plt.ylim(0, 3)\n",
        "plt.show()"
      ],
      "execution_count": 112,
      "outputs": [
        {
          "output_type": "display_data",
          "data": {
            "image/png": "[encoded data removed]",
            "text/plain": [
              "<Figure size 720x432 with 2 Axes>"
            ]
          },
          "metadata": {
            "tags": []
          }
        }
      ]
    },
    {
      "cell_type": "code",
      "metadata": {
        "id": "LI2iJixRkzZc",
        "colab": {
          "base_uri": "https://localhost:8080/",
          "height": 362
        },
        "outputId": "35ac7b67-4ac2-4a7e-e15f-0ef4a13011fe"
      },
      "source": [
        "Accuracy = [accuracy_score_RF, accuracy_score_DT, accuracy_score_model_NB]\n",
        "Methods = ['Random_Forest', 'Decision_Trees', 'Naive_Bayes']\n",
        "Accuracy_pos = np.arange(len(Methods))\n",
        "plt.bar(Accuracy_pos, Accuracy)\n",
        "plt.xticks(Accuracy_pos, Methods)\n",
        "plt.title('Comparing Accuracy Score')\n",
        "plt.show()"
      ],
      "execution_count": 113,
      "outputs": [
        {
          "output_type": "display_data",
          "data": {
            "image/png": "[encoded data removed]",
            "text/plain": [
              "<Figure size 1080x360 with 1 Axes>"
            ]
          },
          "metadata": {
            "tags": []
          }
        }
      ]
    },
    {
      "cell_type": "code",
      "metadata": {
        "id": "M1bdj4N1kzkQ",
        "colab": {
          "base_uri": "https://localhost:8080/",
          "height": 362
        },
        "outputId": "83e6b0b6-f8ce-491a-e02e-e100065c1999"
      },
      "source": [
        "Precision = [precision_score_RF, precision_score_DT, precision_score_model_NB]\n",
        "Methods = ['Random_Forest', 'Decision_Trees', 'Naive_Bayes']\n",
        "Precision_pos = np.arange(len(Methods))\n",
        "plt.bar(Precision_pos, Precision)\n",
        "plt.xticks(Precision_pos, Methods)\n",
        "plt.title('Comparing Precision Score')\n",
        "plt.show()"
      ],
      "execution_count": 114,
      "outputs": [
        {
          "output_type": "display_data",
          "data": {
            "image/png": "[encoded data removed]",
            "text/plain": [
              "<Figure size 1080x360 with 1 Axes>"
            ]
          },
          "metadata": {
            "tags": []
          }
        }
      ]
    },
    {
      "cell_type": "code",
      "metadata": {
        "id": "PSP5LN84kzec",
        "colab": {
          "base_uri": "https://localhost:8080/",
          "height": 362
        },
        "outputId": "46a1a1b8-6728-4ab8-f821-4ebf1e41c3f0"
      },
      "source": [
        "Recall = [recall_score_RF, recall_score_DT, recall_score_model_NB]\n",
        "Methods = ['Random_Forest', 'Decision_Trees', 'Naive_Bayes']\n",
        "Recall_pos = np.arange(len(Methods))\n",
        "plt.bar(Recall_pos, Recall)\n",
        "plt.xticks(Recall_pos, Methods)\n",
        "plt.title('Comparing Recall Score')\n",
        "plt.show()"
      ],
      "execution_count": 115,
      "outputs": [
        {
          "output_type": "display_data",
          "data": {
            "image/png": "[encoded data removed]",
            "text/plain": [
              "<Figure size 1080x360 with 1 Axes>"
            ]
          },
          "metadata": {
            "tags": []
          }
        }
      ]
    },
    {
      "cell_type": "code",
      "metadata": {
        "id": "PFp_117WkzHO",
        "colab": {
          "base_uri": "https://localhost:8080/",
          "height": 362
        },
        "outputId": "639b1776-602f-4f90-bde2-88d9cd6d8304"
      },
      "source": [
        "\n",
        "F1 = [f1_score_RF,f1_score_DT,f1_score_model_NB]\n",
        "Methods = ['Random_Forest', 'Decision_Trees', 'Naive_Bayes']\n",
        "F1_pos = np.arange(len(Methods))\n",
        "plt.bar(F1_pos, F1)\n",
        "plt.xticks(F1_pos, Methods)\n",
        "plt.title('Comparing F1 Score')\n",
        "plt.show()"
      ],
      "execution_count": 116,
      "outputs": [
        {
          "output_type": "display_data",
          "data": {
            "image/png": "[encoded data removed]",
            "text/plain": [
              "<Figure size 1080x360 with 1 Axes>"
            ]
          },
          "metadata": {
            "tags": []
          }
        }
      ]
    }
  ]
}