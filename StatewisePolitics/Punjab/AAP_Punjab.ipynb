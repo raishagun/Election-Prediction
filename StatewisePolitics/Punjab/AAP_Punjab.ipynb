{
  "nbformat": 4,
  "nbformat_minor": 0,
  "metadata": {
    "colab": {
      "name": "Welcome To Colaboratory",
      "provenance": [],
      "collapsed_sections": [],
      "toc_visible": true,
      "include_colab_link": true
    },
    "kernelspec": {
      "display_name": "Python 3",
      "name": "python3"
    }
  },
  "cells": [
    {
      "cell_type": "markdown",
      "metadata": {
        "id": "view-in-github",
        "colab_type": "text"
      },
      "source": [
        "<a href=\"https://colab.research.google.com/github/raishagun/Election-Prediction/blob/master/StatewisePolitics/Punjab/AAP_Punjab.ipynb\" target=\"_parent\"><img src=\"https://colab.research.google.com/assets/colab-badge.svg\" alt=\"Open In Colab\"/></a>"
      ]
    },
    {
      "cell_type": "code",
      "metadata": {
        "id": "kVfRDc2GgRqk",
        "colab": {
          "base_uri": "https://localhost:8080/"
        },
        "outputId": "40b3706b-5d85-48dc-9306-5d4904829393"
      },
      "source": [
        "!git clone https://github.com/raishagun/Election-Prediction.git"
      ],
      "execution_count": 1,
      "outputs": [
        {
          "output_type": "stream",
          "text": [
            "Cloning into 'Election-Prediction'...\n",
            "remote: Enumerating objects: 195, done.\u001b[K\n",
            "remote: Counting objects: 100% (195/195), done.\u001b[K\n",
            "remote: Compressing objects: 100% (189/189), done.\u001b[K\n",
            "remote: Total 610 (delta 86), reused 0 (delta 0), pack-reused 415\u001b[K\n",
            "Receiving objects: 100% (610/610), 30.51 MiB | 22.46 MiB/s, done.\n",
            "Resolving deltas: 100% (253/253), done.\n"
          ],
          "name": "stdout"
        }
      ]
    },
    {
      "cell_type": "code",
      "metadata": {
        "id": "MrUePyosg9GN",
        "colab": {
          "base_uri": "https://localhost:8080/"
        },
        "outputId": "e75161e8-35a4-46ac-c7d0-9c5e99dc6f06"
      },
      "source": [
        "import tweepy \n",
        "import pandas as pd\n",
        "from tweepy import OAuthHandler\n",
        "\n",
        "\n",
        "access_token=\"1289037463684489217-5PddOsmU9h5deRwOhdigvhg32FEgID\"\n",
        "access_token_secret=\"cAPevFduWkiNP3juu8WGAwZm69vgv8C4s8RPz0WE8MJFK\"\n",
        "\n",
        "consumer_key=\"DLhoHkK6uOGz3Ni9ybuoruiLm\"\n",
        "consumer_secret=\"jKyrDR68msnbmgZMNNJdSJwadGoed11imKV1jdlNYNczL9HvEk\"\n",
        "\n",
        "auth = tweepy.OAuthHandler(consumer_key, consumer_secret)  # authentication of access token and secret \n",
        "auth.set_access_token(access_token, access_token_secret) \n",
        "api = tweepy.API(auth,wait_on_rate_limit = True)\n",
        "\n",
        "\n",
        "date1 = \"2020-11-01\"  #Date from which you need to extract tweets\n",
        "date2 = \"2020-11-22\"  #Date till when you need to extract tweets\n",
        "\n",
        "date =[]\n",
        "user_id = []\n",
        "verified = []\n",
        "text = []\n",
        "user = []\n",
        "location = []\n",
        "source = []\n",
        "likes = []\n",
        "followers = []\n",
        "following = []\n",
        "retweets = []\n",
        "\n",
        "def get_tweets(date1,date2,word):\n",
        "    count = 0\n",
        "    for tweet in tweepy.Cursor(api.search , q=word,count =1000,lang=\"en\",since_id = date1,until = date2,tweet_mode = 'extended').items():\n",
        "        print(tweet.created_at)  #Date at which it was tweet\n",
        "        date.append(tweet.created_at)\n",
        "        print(tweet.id)          #Unique ID of tweet\n",
        "        user_id.append(tweet.id)\n",
        "        print(tweet.user.verified)   #If user who tweet is verified or not\n",
        "        verified.append(tweet.user.verified)\n",
        "        print(tweet.full_text)   #To get full text of the tweet\n",
        "        text.append(tweet.full_text)\n",
        "        print(tweet.user.screen_name)  #User screen name\n",
        "        user.append(tweet.user.screen_name)\n",
        "        print(tweet.user.location)     #Location from where the tweet came\n",
        "        location.append(tweet.user.location)\n",
        "        print(tweet.source)            #Which twitter application was used to tweet\n",
        "        source.append(tweet.source)\n",
        "        print(tweet.favorite_count)     #Number of likes on the tweet\n",
        "        likes.append(tweet.favorite_count)\n",
        "        print(tweet.user.followers_count)    #Number of followers of the user\n",
        "        followers.append(tweet.user.followers_count)\n",
        "        print(tweet.user.friends_count)      #Number of following by the user\n",
        "        following.append(tweet.user.friends_count)\n",
        "        print(tweet.retweet_count)               #Number of the retweets of the original tweet\n",
        "        retweets.append(tweet.retweet_count)\n",
        "    \n",
        "        print('<--------------------------------------------------->')\n",
        "        count+=1\n",
        "        print(count)\n",
        "    \n",
        "get_tweets(date1,date2,\"AAP Punjab\"+\" -filter:retweets\") #Filtering out retweets to avoid duplication\n",
        "\n",
        "data = list(zip(date,user_id,verified,text,user,location,source,likes,followers,following,retweets))\n",
        "df = pd.DataFrame(data =data, columns =[\"Date\",\"Tweet_id\",\"Verified\",\"Tweet\",\n",
        "                                   \"User\",\"Location\",\"Source\",\"Likes\",\"Followers\",\"Following\",\"Retweets\"])\n",
        "\n",
        "           \n",
        "df.to_csv('AAP_Punjab.csv',index = False)"
      ],
      "execution_count": 2,
      "outputs": [
        {
          "output_type": "stream",
          "text": [
            "2020-11-21 17:33:51\n",
            "1330202780590628864\n",
            "False\n",
            "@DaaruBaazMehta Encouraging. Congress maybe clueless ,but they will try hard to bring down AAP like Punjab. @AAPGoa must work harder.\n",
            "AamIndian_1\n",
            "\n",
            "Twitter for Android\n",
            "2\n",
            "1520\n",
            "1133\n",
            "1\n",
            "<--------------------------------------------------->\n",
            "1\n",
            "2020-11-21 16:15:20\n",
            "1330183020658249730\n",
            "False\n",
            "@spiritneeraj @AnmolGaganMan Punjab AAP need to develop more leaders, should create healthy competition among them like delhi.\n",
            "Gurwinderr1983\n",
            "\n",
            "Twitter for Android\n",
            "0\n",
            "349\n",
            "853\n",
            "0\n",
            "<--------------------------------------------------->\n",
            "2\n",
            "2020-11-21 16:11:07\n",
            "1330181958211670017\n",
            "False\n",
            "MUST WATCH\n",
            "\n",
            "AAP Punjab MP @BhagwantMann Exposes BJP, SAD and Congress in Punjab.\n",
            "\n",
            "Farmers Bill has exposed the Congress Govt and SAD. They are fooling the Farmers!! https://t.co/fOhCgsXXKj\n",
            "@JarnailSinghAAP \n",
            "@AAPPunjab\n",
            "AapActive123\n",
            "Dilshad Garden, New Delhi\n",
            "Twitter for Android\n",
            "0\n",
            "1888\n",
            "370\n",
            "0\n",
            "<--------------------------------------------------->\n",
            "3\n",
            "2020-11-21 15:59:52\n",
            "1330179129233334273\n",
            "False\n",
            "Met many people on ground today 90% people told me one thing ek moka De ke dekhna chahida aap nu. Fir bhi mere kaafi veere kehde ki aap is not force in Punjab.\n",
            "Aditya37020727\n",
            "\n",
            "Twitter Web App\n",
            "39\n",
            "72\n",
            "15\n",
            "14\n",
            "<--------------------------------------------------->\n",
            "4\n",
            "2020-11-21 15:45:41\n",
            "1330175558022520839\n",
            "False\n",
            "AAP Punjab youth wing president And MLA @meet_hayer ji on corruption, Unemployement and Drugs @JarnailSinghAAP https://t.co/DTzeL1rT7z\n",
            "Gurdeepgurus\n",
            "\n",
            "Twitter for Android\n",
            "42\n",
            "1052\n",
            "480\n",
            "20\n",
            "<--------------------------------------------------->\n",
            "5\n",
            "2020-11-21 15:28:45\n",
            "1330171296882290689\n",
            "False\n",
            "MUST WATCH\n",
            "\n",
            "AAP Punjab MP @BhagwantMann Exposes BJP, SAD and Congress in Punjab.\n",
            "\n",
            "Farmers Bill has exposed the Congress Govt and SAD. They are fooling the Farmers!! https://t.co/V5Bf1eXLiM\n",
            "DaaruBaazMehta\n",
            "India\n",
            "Twitter Web App\n",
            "153\n",
            "76625\n",
            "460\n",
            "61\n",
            "<--------------------------------------------------->\n",
            "6\n",
            "2020-11-21 15:20:30\n",
            "1330169222916415488\n",
            "False\n",
            "Watch latest dabate of AAP Punjab Youth President and MLA @meet_hayer V/S Punjab Youth Cong. President Barinder Dhillon V/S Harinderpal ChanduMajra (SAD)\n",
            "👇👇👇👇\n",
            "\n",
            "https://t.co/sjBZVjm0pg\n",
            "mishrarocky\n",
            "भारत\n",
            "Twitter for Android\n",
            "1\n",
            "5378\n",
            "3469\n",
            "1\n",
            "<--------------------------------------------------->\n",
            "7\n",
            "2020-11-21 15:19:59\n",
            "1330169092595195906\n",
            "False\n",
            "@Arun2981 No sir, last time I was there in Punjab. Vote shifting with very different manner. Akali and BJP was not in position to win. So that Hindu community voted to congress to eliminate AAP from Punjab. It was last time planning. I think @AdityaMenon22can explain better way.\n",
            "Aadil_Muz\n",
            "Mohali\n",
            "Twitter for iPhone\n",
            "0\n",
            "171\n",
            "514\n",
            "0\n",
            "<--------------------------------------------------->\n",
            "8\n",
            "2020-11-21 15:12:38\n",
            "1330167242873516042\n",
            "False\n",
            "AAP expands its structural base in Punjab; 460 block presidents appointed in 22 districts#Pb @Newindianxpress, @SundayStandard, @TheMornStandard\n",
            "Harpreet_TNIE\n",
            "Chandigarh, India\n",
            "Twitter Web App\n",
            "0\n",
            "1644\n",
            "63\n",
            "0\n",
            "<--------------------------------------------------->\n",
            "9\n",
            "2020-11-21 14:17:18\n",
            "1330153315292876810\n",
            "False\n",
            "@Arun2981 I don't think so,  AAP will not have much difference with Hindu or any majority in Punjab. People of Punjab also want change. AAP will get that vote but only on the basis of work.\n",
            "ShwetaIndia1\n",
            "Delhi NCR\n",
            "Twitter for Android\n",
            "6\n",
            "1863\n",
            "714\n",
            "0\n",
            "<--------------------------------------------------->\n",
            "10\n",
            "2020-11-21 14:07:30\n",
            "1330150851676082181\n",
            "False\n",
            "Interesting point by a Journalist friend from Punjab to me : \n",
            "\n",
            "The more BJP will get vote share, more it will help AAP in Punjab. \n",
            "\n",
            "Congress gets majority of Hindu votes in Punjab. BJP May dent it and will eventually help AAP\n",
            "\n",
            "Hmmmmm ! 😷\n",
            "Arun2981\n",
            "\n",
            "Twitter for iPhone\n",
            "186\n",
            "17199\n",
            "937\n",
            "26\n",
            "<--------------------------------------------------->\n",
            "11\n",
            "2020-11-21 14:00:37\n",
            "1330149119428538371\n",
            "False\n",
            "@rohini_sgh And yet AAP govt blame only the Punjab and Haryana farmers.\n",
            "kunalkg\n",
            "Delhi, India\n",
            "Twitter for iPhone\n",
            "0\n",
            "43\n",
            "155\n",
            "0\n",
            "<--------------------------------------------------->\n",
            "12\n",
            "2020-11-21 13:53:16\n",
            "1330147267781799939\n",
            "False\n",
            "AAP expands its structural base in Punjab; Appoints 460 block presidents in 22 districts #PunjabiNews @tvpunjab  #tvpunjab\n",
            "... https://t.co/lBFGowgcMD\n",
            "tvpunjab\n",
            "global\n",
            "tvpunjab\n",
            "0\n",
            "332\n",
            "145\n",
            "0\n",
            "<--------------------------------------------------->\n",
            "13\n",
            "2020-11-21 13:31:01\n",
            "1330141670265004033\n",
            "False\n",
            "The way she smiled &amp; said abhi punjab gye thy dekha nhi aap ny \n",
            "They know that the whole world knows ❤️\n",
            "#ShonaShonaAtFirstGlance https://t.co/vUEBbaTb9T\n",
            "HayaFatima1111\n",
            "Pakistan\n",
            "Twitter for iPhone\n",
            "0\n",
            "60\n",
            "39\n",
            "1\n",
            "<--------------------------------------------------->\n",
            "14\n",
            "2020-11-21 13:15:31\n",
            "1330137767867768832\n",
            "False\n",
            "#AAP expands its structural base in #Punjab; 460 block presidents appointed in 22 districts\n",
            "\n",
            "https://t.co/HfN1qiC9Bz\n",
            "yespunjab\n",
            "Punjab\n",
            "Hootsuite Inc.\n",
            "0\n",
            "112774\n",
            "150524\n",
            "0\n",
            "<--------------------------------------------------->\n",
            "15\n",
            "2020-11-21 12:46:01\n",
            "1330130345279283200\n",
            "False\n",
            "AAP expands its structural base in #Punjab; 460 block presidents appointed in 22 districts #Politics #TodayNews #TopNews -https://t.co/0aLkoEqfry https://t.co/fITHtTGa0U\n",
            "Punjabupdate\n",
            "Chandigarh\n",
            "PB Update\n",
            "0\n",
            "2687\n",
            "75\n",
            "0\n",
            "<--------------------------------------------------->\n",
            "16\n",
            "2020-11-21 12:07:06\n",
            "1330120550463758336\n",
            "False\n",
            "AAP and it's friends have put the blame of pollution firmly and squarely on Punjab and Haryana even U.P. while it has wasted about 1000 Crores on Advertisements alone ! doing precisely nothing else ! https://t.co/ra7LbjzZAA\n",
            "ArnabCh25428087\n",
            "\n",
            "Twitter Web App\n",
            "0\n",
            "198\n",
            "1113\n",
            "0\n",
            "<--------------------------------------------------->\n",
            "17\n",
            "2020-11-21 11:01:17\n",
            "1330103987224403970\n",
            "False\n",
            "Watch latest dabate of AAP Punjab Youth President and MLA @meet_hayer V/S Punjab Youth Cong. President Barinder Dhillon V/S Harinderpal ChanduMajra (SAD)\n",
            "👇👇👇👇\n",
            "\n",
            "https://t.co/1VzvCq5tw6\n",
            "Gurdeepgurus\n",
            "\n",
            "Twitter for Android\n",
            "24\n",
            "1052\n",
            "480\n",
            "10\n",
            "<--------------------------------------------------->\n",
            "18\n",
            "2020-11-21 10:06:38\n",
            "1330090235946995712\n",
            "False\n",
            "@Elizatweetz @rohini_sgh Also dare to ask the Punjab govt to look into the stubble burning issue. Pollution in Delhi is the collective failure of all the govts, INC in Punjab, BJP-JJP in Haryana &amp; Centre and AAP in Delhi. Be a citizen first and a Congresswoman later, and make the politicians accountable.\n",
            "Tweet2Arnab\n",
            "\n",
            "Twitter for Android\n",
            "1\n",
            "18\n",
            "752\n",
            "0\n",
            "<--------------------------------------------------->\n",
            "19\n",
            "2020-11-21 09:01:51\n",
            "1330073931554938881\n",
            "False\n",
            "AAP Punjab President @BhagwantMann discussing about the Farmers issue at @ZeePunjabHH conclave. \n",
            "Attending the conclave with @chdwalia https://t.co/rtcR797KJ4\n",
            "sofats\n",
            "Punjab, India\n",
            "Twitter for Android\n",
            "1\n",
            "306\n",
            "245\n",
            "1\n",
            "<--------------------------------------------------->\n",
            "20\n",
            "2020-11-21 08:22:26\n",
            "1330064013435265029\n",
            "False\n",
            "HTLS 2020: ‘Congress has collapsed as a national party’: Delhi CM Arvind Kejriwal - htls - Hindustan Times https://t.co/KP1RA6pwR8 \n",
            "&gt;&gt; AAP may also collapse if it ignores Corona followed by promised basic issues of Delhities esp Water &amp; focus more on Punjab,Goa, UP etc.\n",
            "JASBIR32924757\n",
            "\n",
            "Twitter Web App\n",
            "0\n",
            "3\n",
            "6\n",
            "0\n",
            "<--------------------------------------------------->\n",
            "21\n",
            "2020-11-21 08:19:26\n",
            "1330063257034481665\n",
            "True\n",
            "Prevention of Covid has to be done by citizens by maintaining social distancing &amp; wearing masks. About the air quality issue, now there is a solution for stubble burning (bio-decomposition technique), why are the CM's of Haryana &amp; Punjab not interested?: @AtishiAAP, MLA, AAP. https://t.co/imWIm1Yk6G\n",
            "TimesNow\n",
            "India\n",
            "Twitter Web App\n",
            "24\n",
            "9893366\n",
            "372\n",
            "4\n",
            "<--------------------------------------------------->\n",
            "22\n",
            "2020-11-21 07:12:13\n",
            "1330046340814999554\n",
            "False\n",
            "@ranvijaylive Except AAP, look at the ground work they are putting in Punjab, Uttrakhand, Goa, UP, Gujrat &amp; even Ladakh. Sooner than later it will yield result to their hardwork unlike Cong who is always sleeping !\n",
            "Gss_Views\n",
            "\n",
            "Twitter for iPhone\n",
            "2\n",
            "2690\n",
            "846\n",
            "1\n",
            "<--------------------------------------------------->\n",
            "23\n",
            "2020-11-21 06:51:36\n",
            "1330041153878626305\n",
            "False\n",
            "Adding, See AAP here.\n",
            "We don't have funds, we are totally a new side altogether. But still we have a will to fight states like Punjab, UK and Goa will full force.\n",
            "\n",
            "Our Volunteers are the key not the money\n",
            "\n",
            "And yes, Result is imp but I feel intent to win is more imp https://t.co/jOk4SO04hv\n",
            "AamDelhiite\n",
            "\n",
            "Twitter for Android\n",
            "2\n",
            "465\n",
            "599\n",
            "0\n",
            "<--------------------------------------------------->\n",
            "24\n",
            "2020-11-21 01:32:59\n",
            "1329960970333028354\n",
            "False\n",
            "@shubham209625 @AnOpenLetter001 But still Kejriwal win easily in delhi. His party has more MLA in Punjab than BJP . For party that just new as AAP this is astonishing\n",
            "GitanshuSinghal\n",
            "\n",
            "Twitter for iPhone\n",
            "0\n",
            "29\n",
            "409\n",
            "0\n",
            "<--------------------------------------------------->\n",
            "25\n",
            "2020-11-20 21:25:19\n",
            "1329898642673524736\n",
            "False\n",
            "@htTweets @ArvindKejriwal AAP has not taken of as a national party in the last 6 years. So I think its wise to worry about yourself rather than congress. AAP has no presence in any other state beyond Delhi and bit in Goa n Punjab. They dint even contest in Bihar.\n",
            "john_is_da_man\n",
            "Kerala, India\n",
            "Twitter for Android\n",
            "3\n",
            "2398\n",
            "3459\n",
            "0\n",
            "<--------------------------------------------------->\n",
            "26\n",
            "2020-11-20 19:17:53\n",
            "1329866575017517056\n",
            "False\n",
            "@VivianPeres7 @themaskbeneath @rohini_sgh @INCIndia In punjab congress will remain for a long time as long as captain is there though AAP giving good comp. otherwise INC might be there in some states but it has collapsed from national level it has now been made into a regional party not having much influence except certain states\n",
            "kira_jaeger\n",
            "\n",
            "Twitter Web App\n",
            "1\n",
            "78\n",
            "113\n",
            "0\n",
            "<--------------------------------------------------->\n",
            "27\n",
            "2020-11-20 19:05:12\n",
            "1329863383076667393\n",
            "False\n",
            "Please do remind Mr Kejriwal, what happened to Punjab AAP leadership, half of them joined Congress. MLAs and MPs are greedy breed they swing with power https://t.co/LJhH5we5tm\n",
            "SarcasticRofl\n",
            "Resting in piece\n",
            "Twitter Web App\n",
            "3\n",
            "14221\n",
            "125\n",
            "0\n",
            "<--------------------------------------------------->\n",
            "28\n",
            "2020-11-20 17:00:33\n",
            "1329832013428244486\n",
            "False\n",
            "Punjab gave pollution to Delhi , Punjab is ruled by congress.. congress interim president left Delhi due to pollution ! \n",
            "Delhi has AAP govt.. failing its citizens .. in the end citizens are left to suffer ! Politics chalti rehni chahiye https://t.co/cSQPrpKy74\n",
            "pragya_barthwal\n",
            "\n",
            "Twitter for iPhone\n",
            "6\n",
            "2949\n",
            "1379\n",
            "2\n",
            "<--------------------------------------------------->\n",
            "29\n",
            "2020-11-20 15:47:53\n",
            "1329813725184868354\n",
            "False\n",
            "@sunetrac @ArvindKejriwal The fact is AAP has been unable to built their organisation outside Delhi.There is a vacuum in Punjab but AAP is unable to build from grass root https://t.co/ODDa6UISp3 other parties Arvind does'nt empower people .Guys like me who have supported him from Anna days feel disappoint\n",
            "gurjeet63\n",
            "India\n",
            "Twitter for Android\n",
            "0\n",
            "512\n",
            "135\n",
            "0\n",
            "<--------------------------------------------------->\n",
            "30\n",
            "2020-11-20 15:03:46\n",
            "1329802624825135105\n",
            "False\n",
            "So AAP has commenced their campaign for Punjab Assembly Elections 2022. https://t.co/7cBFgs1n3v\n",
            "shaantanusiingh\n",
            "\n",
            "Twitter for iPhone\n",
            "1\n",
            "302\n",
            "90\n",
            "1\n",
            "<--------------------------------------------------->\n",
            "31\n",
            "2020-11-20 14:52:22\n",
            "1329799755497574402\n",
            "False\n",
            "@sumanvdeshpande @maniiish23 @AAPBangalore @AamAadmiParty @aapkaprithvi @AAP4KA @basavarajsm_ @Vikash_Shukla_ @romibhati @CitizenKamran @MohanDasari_ @rathod_aap Goa , Punjab , Kerala Are far better in contact tracing than Delhi.  Sero survey is done in Karnataka too. 2 rupaye wali Aunty. Tests are more because cases are more and central government also asked the same . But aap nahi samjhegi 2 rupaye wali Aunty\n",
            "6558CnpMHjmRU0L\n",
            "\n",
            "Twitter for iPhone\n",
            "0\n",
            "30\n",
            "52\n",
            "0\n",
            "<--------------------------------------------------->\n",
            "32\n",
            "2020-11-20 14:52:15\n",
            "1329799724661157888\n",
            "False\n",
            "Tell Kejrilol, when Shah can rule over Delhi through his proxy, why would he buy his MLAs and AAP doesn't exist in any other except a broken faction in Punjab, of no worth. https://t.co/vfrHdDfY2c\n",
            "MehekF\n",
            "\n",
            "Twitter for Android\n",
            "67\n",
            "46125\n",
            "1955\n",
            "19\n",
            "<--------------------------------------------------->\n",
            "33\n",
            "2020-11-20 14:51:13\n",
            "1329799464144388096\n",
            "False\n",
            "What’s your viewpoint? #Punjab \n",
            "\n",
            "#YouthKiAwaaz #PunjabPolitics #Politician #PoliticsToday #SAD #Congress #AAP #Badal #Captain #SukhbirSinghBadal #SukhbirBadal #AmrinderSingh #CaptAmrinderSingh https://t.co/y1zyb0rdAK\n",
            "navnishbhardwaj\n",
            "India\n",
            "Twitter for iPhone\n",
            "1\n",
            "2983\n",
            "143\n",
            "0\n",
            "<--------------------------------------------------->\n",
            "34\n",
            "2020-11-20 13:24:37\n",
            "1329777673095180288\n",
            "False\n",
            "@ANI Read several comments by fellow Indians. Bad Pollution is not the making of AAP or AK. It is because of Punjab and Haryana. Also does our PM travel in an Indian Vehicle? Recently GOI bought Aircrafts for One Person.\n",
            "KenazPoonawala\n",
            "\n",
            "Twitter for Android\n",
            "0\n",
            "1\n",
            "26\n",
            "0\n",
            "<--------------------------------------------------->\n",
            "35\n",
            "2020-11-20 13:11:31\n",
            "1329774375382335493\n",
            "False\n",
            "Direct talks with AAP MLA @AroraAmanSunam on important issues of Punjab!\n",
            "👇👇👇👇👇\n",
            "https://t.co/DNgMOvT9sf\n",
            "Gurdeepgurus\n",
            "\n",
            "Twitter for Android\n",
            "2\n",
            "1052\n",
            "480\n",
            "0\n",
            "<--------------------------------------------------->\n",
            "36\n",
            "2020-11-20 12:27:21\n",
            "1329763257884655616\n",
            "False\n",
            "EC call to CM's son &amp; graft cases against Capt's kin have given Modi token to 'play' with Punjab :AAP\n",
            "#AamAadmiParty\n",
            "#HarpalSinghCheema\n",
            "#RaninderSingh\n",
            "#EnforcementDirectorate\n",
            "#FEMA\n",
            "#Punjab https://t.co/M9V9uCSn6k\n",
            "uniindianews\n",
            "New Delhi, Delhi\n",
            "TweetDeck\n",
            "0\n",
            "2239\n",
            "0\n",
            "0\n",
            "<--------------------------------------------------->\n",
            "37\n",
            "2020-11-20 12:19:07\n",
            "1329761189325275138\n",
            "False\n",
            "@AnshulGarg80 @TonyKakkar @iAmNehaKakkar @sidharth_shukla @ishehnaaz_gill @DesiMFactory Anshul sabse best hai jo hume 8 months mein content nahi mila tha anshul ne Punjab trip we diyaa ...God bless u anshul plss share more   bTS vdo and pics 🤗🤗 but yeh har time centre mein kyu aa jate dono ke aap .....toda side pe next time acha pic ayega aapka 😛\n",
            "Anureet18\n",
            "\n",
            "Twitter for Android\n",
            "2\n",
            "2540\n",
            "1124\n",
            "0\n",
            "<--------------------------------------------------->\n",
            "38\n",
            "2020-11-20 12:06:33\n",
            "1329758025964417026\n",
            "False\n",
            "I Hope next time Punjab aaye mile hum aap dono ko ek sath https://t.co/65fgOaWI9Z\n",
            "Anureet18\n",
            "\n",
            "Twitter for Android\n",
            "0\n",
            "2540\n",
            "1124\n",
            "0\n",
            "<--------------------------------------------------->\n",
            "39\n",
            "2020-11-20 11:47:20\n",
            "1329753188937809923\n",
            "False\n",
            "@6558CnpMHjmRU0L @AAPBangalore @AamAadmiParty @aapkaprithvi @AAP4KA @basavarajsm_ @Vikash_Shukla_ @romibhati @CitizenKamran @MohanDasari_ @rathod_aap 50% of the patients admitted in Delhi hospitals are from neighbouring states like UP, Haryana and Punjab. \n",
            "Why are these people forced to travel long distances to get hgood healthcare. Shame on those govts! https://t.co/tjU2iDc5gO\n",
            "sumanvdeshpande\n",
            "\n",
            "Twitter Web App\n",
            "5\n",
            "58\n",
            "155\n",
            "0\n",
            "<--------------------------------------------------->\n",
            "40\n",
            "2020-11-20 11:34:50\n",
            "1329750044430385165\n",
            "False\n",
            "#AAP Cares\n",
            "#Delhi #India #Punjab https://t.co/R4Huq36wwj\n",
            "GutznGlory\n",
            "New York, NY\n",
            "Twitter for iPhone\n",
            "0\n",
            "253\n",
            "297\n",
            "0\n",
            "<--------------------------------------------------->\n",
            "41\n",
            "2020-11-20 11:33:56\n",
            "1329749815589175299\n",
            "False\n",
            "#AAP Cares\n",
            "#Delhi #India #Punjab https://t.co/6vpNJtzKqj\n",
            "GutznGlory\n",
            "New York, NY\n",
            "Twitter for iPhone\n",
            "0\n",
            "253\n",
            "297\n",
            "0\n",
            "<--------------------------------------------------->\n",
            "42\n",
            "2020-11-20 11:29:57\n",
            "1329748813351776256\n",
            "False\n",
            "@RajeevS16670843 @AAPBangalore @AamAadmiParty @aapkaprithvi @AAP4KA @basavarajsm_ @Vikash_Shukla_ @romibhati @CitizenKamran @MohanDasari_ @rathod_aap Garbage is handled by BJP run MCD sir.. it's not under Delhi Govt... Pollution is due to stubble burning from punjab n haryana u know that sir..  Delhi is taking concrete steps on pollution.. what UP, Punjab, Haryana are doing sir? They not even stopping stubble burning...\n",
            "AAP_ka_Yogesh\n",
            "Karnataka\n",
            "Twitter for Android\n",
            "2\n",
            "529\n",
            "3371\n",
            "0\n",
            "<--------------------------------------------------->\n",
            "43\n",
            "2020-11-20 10:24:12\n",
            "1329732267103592449\n",
            "False\n",
            "@RaghuramanMenon Delhi will remain with AAP, Tough fight in Uttrakhand, Himachal will be with Namo, UP with Maharaj Ji. Punjab next Govt will be AAP+CONG with outside support of SAD. Odissa to remain with BJD but Saffron urpsurge visible.  LokSabha 2024 will be 354+ BJP alone....\n",
            "AkhandAryabrat\n",
            "Your Heart is My Location \n",
            "Twitter for Android\n",
            "5\n",
            "1121\n",
            "167\n",
            "0\n",
            "<--------------------------------------------------->\n",
            "44\n",
            "2020-11-20 09:52:13\n",
            "1329724219479846918\n",
            "False\n",
            "@JitenderforAAP @Indianthinker07 @Manva_tweets @Nher_who @GautamGambhir @AmitShah @AamAadmiParty So next govt of Punjab , Goa and uk from aap , you want to say this only right sir...\n",
            "mehuljain1108\n",
            "\n",
            "Twitter for Android\n",
            "0\n",
            "51\n",
            "37\n",
            "0\n",
            "<--------------------------------------------------->\n",
            "45\n",
            "2020-11-20 09:51:36\n",
            "1329724063741140993\n",
            "False\n",
            "@JitenderforAAP @Indianthinker07 @Manva_tweets @Nher_who @GautamGambhir @AmitShah @AamAadmiParty Aap will win 90% of Punjab seats..?\n",
            "mehuljain1108\n",
            "\n",
            "Twitter for Android\n",
            "0\n",
            "51\n",
            "37\n",
            "0\n",
            "<--------------------------------------------------->\n",
            "46\n",
            "2020-11-20 08:52:28\n",
            "1329709182585511937\n",
            "False\n",
            "#EPaper\n",
            "For a detailed Version. Please log on to\n",
            "https://t.co/56uXNInheu\n",
            "#दीपावली #Congress #BJP #AAP #Loksabha #Rajyasabha\n",
            "#TIO #News #Bhopal #Mumbai #MP #Delhi #UP #Bihar #Punjab #Raipur #PIB #India  #World #RNI  #CHALLENGE\n",
            "#Shashj_Kumar_Keswani #Google #skk #THEINDIANOBSERVER https://t.co/dMSq78hRRC\n",
            "shashi5kesw\n",
            "\n",
            "Twitter for Android\n",
            "1\n",
            "98\n",
            "121\n",
            "0\n",
            "<--------------------------------------------------->\n",
            "47\n",
            "2020-11-20 07:36:18\n",
            "1329690012481253376\n",
            "False\n",
            "@sidharth_shukla SIDHAARTHH! U SPOILED US BY GIVING SO MUCH CONTENT IN PUNJAB AB AAP GUM HOGYE HO! PLEASE THODE ACTIVE RAHO 😭\n",
            "vanyaaaa_x\n",
            "Dreams\n",
            "Twitter for Android\n",
            "0\n",
            "160\n",
            "132\n",
            "0\n",
            "<--------------------------------------------------->\n",
            "48\n",
            "2020-11-20 06:57:49\n",
            "1329680328059830273\n",
            "False\n",
            "@itsSakshiiii @SidSuperstarfc @Noorkha89253541 Actually dear shock me ho aap ,jabse SidNaaz ko Saath me Dekha hai Airport se...Punjab me... Treatment karva lo apna sab... Jada Fayda hoga... Sid acknowledge karta hai Digest nai ho Raha... Grow up... Tumhare category log bahut aaye aur gaye\n",
            "Sid is much more Intelligent than u\n",
            "Buraaahhhhhhh\n",
            "Khopoli, Maharashtra\n",
            "Twitter for Android\n",
            "5\n",
            "86\n",
            "100\n",
            "1\n",
            "<--------------------------------------------------->\n",
            "49\n",
            "2020-11-20 03:01:13\n",
            "1329620788526235648\n",
            "False\n",
            "Goa needs better education &amp; healthcare..\n",
            "\n",
            "UP needs better education &amp; healthcare..\n",
            "\n",
            "Punjab needs better education &amp; healthcare..\n",
            "\n",
            "Infact, entire nation needs better education &amp; healthcare.\n",
            "\n",
            "India needs AAP.\n",
            "anti_corrupt_01\n",
            "\n",
            "Twitter for Android\n",
            "0\n",
            "1396\n",
            "2309\n",
            "1\n",
            "<--------------------------------------------------->\n",
            "50\n",
            "2020-11-20 02:55:49\n",
            "1329619427319373824\n",
            "False\n",
            "@ASg1956 @tejashwi_yadav_ To fir chattisgarh, punjab, Delhi, Rajesthan, jharkhand me congress or AAP ne evm hack kar k election jita he. Am I right.\n",
            "RAMBHAKTKOUSHIK\n",
            "Asansol, west Bengal, BHARAT.\n",
            "Twitter for Android\n",
            "0\n",
            "232\n",
            "943\n",
            "0\n",
            "<--------------------------------------------------->\n",
            "51\n",
            "2020-11-19 20:40:43\n",
            "1329525032662384644\n",
            "False\n",
            "@ZaidJilani AAP was a urban phenomenon, the only plank they fought on was anti- corruption which was hijacked by bjp in 2014, aap made big inroads in the state of punjab mostly because bjps alliance partner themselves were very corrupt.\n",
            "Young_dr_tweets\n",
            "India\n",
            "Twitter Web App\n",
            "0\n",
            "101\n",
            "1680\n",
            "0\n",
            "<--------------------------------------------------->\n",
            "52\n",
            "2020-11-19 19:47:03\n",
            "1329511524914741248\n",
            "False\n",
            "@IndiaToday Again on question of pollution @sardesairajdeep fails2pin d on actual culprit,the Punjab government,conveniently turns the gun2national scene despite a rep from #aap sitting quietly. \n",
            "Repeat wid me it’s a bloody state govt failure. \n",
            "The saviour @AmitShah has stepped in.\n",
            "gentlemanvikas\n",
            "Indore, India\n",
            "Twitter for iPhone\n",
            "0\n",
            "107\n",
            "644\n",
            "0\n",
            "<--------------------------------------------------->\n",
            "53\n",
            "2020-11-19 16:48:43\n",
            "1329466645429972992\n",
            "False\n",
            "Follow this Handle for more insight on UK, Punjab and Goa politics. https://t.co/GJ9Q8fetI9\n",
            "aap_dilli\n",
            "\n",
            "Twitter Web App\n",
            "1\n",
            "911\n",
            "859\n",
            "0\n",
            "<--------------------------------------------------->\n",
            "54\n",
            "2020-11-19 16:13:45\n",
            "1329457845448953857\n",
            "False\n",
            "In different villages of Punjab AAP team putting up posters of demanding MSP for all crops \n",
            "@JarnailSinghAAP @BhagwantMann https://t.co/ZHjlDggT5j\n",
            "Gurdeepgurus\n",
            "\n",
            "Twitter for Android\n",
            "18\n",
            "1052\n",
            "480\n",
            "1\n",
            "<--------------------------------------------------->\n",
            "55\n",
            "2020-11-19 13:33:56\n",
            "1329417625793822721\n",
            "False\n",
            "@UdtaHathi Boss in punjab, Aap is the main opposition but frankly don't know abt forming govt this time..... But in Goa n UK do they hve any chance...🤔🤔🤔\n",
            "devvrat07860\n",
            "\n",
            "Twitter for Android\n",
            "1\n",
            "49\n",
            "281\n",
            "0\n",
            "<--------------------------------------------------->\n",
            "56\n",
            "2020-11-19 13:04:24\n",
            "1329410193789075461\n",
            "False\n",
            "@Aakash07411 @KapoorSamrita @OneIndianGirl__ @unicornurroj @_tia18 @Sidmerebhaijaan @kaurnavi11 Like seriously we don't stream we don't trend??\n",
            "It's like you all alone does everything 🤷\n",
            "Self obsession ki v hadd Hoti hai \n",
            "And either she never stopped us \n",
            "she always loved us SidNaazians have met her already\n",
            "Kya aap wahi log hai \n",
            "Jisne shayad BB13 msk Punjab trip  Nahi Dekha\n",
            "Kritika85872649\n",
            "\n",
            "Twitter for Android\n",
            "1\n",
            "632\n",
            "564\n",
            "0\n",
            "<--------------------------------------------------->\n",
            "57\n",
            "2020-11-19 13:00:31\n",
            "1329409217824911360\n",
            "False\n",
            "@ANI Congratulations @capt_amarinder \n",
            "Best way to make Punjab A failed state.\n",
            "\n",
            "What’s wrong happened with your leadership? \n",
            "Never support congress but voted for you just don’t wanted AAP in Punjab. \n",
            "Next time we need to think about it.\n",
            "Kabir_grewal1\n",
            "\n",
            "Twitter for iPhone\n",
            "15\n",
            "738\n",
            "174\n",
            "0\n",
            "<--------------------------------------------------->\n",
            "58\n",
            "2020-11-19 11:47:00\n",
            "1329390717718786050\n",
            "False\n",
            "@Shuks80 @Aam_Nationalist AAP guys don't realize they ultimately have to face BJP, ppl won't buy ur soft hindutva and congress bashing 24*7 if u keep mum on Modi. MCD/punjab is not far away but these guys refuse to learn from mistakes due to arrogance\n",
            "FraudDemocracy\n",
            "\n",
            "Twitter for Android\n",
            "0\n",
            "181\n",
            "584\n",
            "0\n",
            "<--------------------------------------------------->\n",
            "59\n",
            "2020-11-19 10:25:33\n",
            "1329370219895169024\n",
            "False\n",
            "AAP is a front-runner in forming Government in Punjab, Goa, Uttrakhand in 2022. Journalists should accept AAP's presence in other states or you will be schooled in 2022. Congress my friend is dead. https://t.co/VfTzFGvMFp\n",
            "UdtaHathi\n",
            "Punjab, India\n",
            "Twitter Web App\n",
            "70\n",
            "2449\n",
            "1483\n",
            "27\n",
            "<--------------------------------------------------->\n",
            "60\n",
            "2020-11-19 09:41:58\n",
            "1329359251202969600\n",
            "False\n",
            "@DjKaran @rohini_sgh 1. They defeated BJP 67-3 and 62-8 in the last 2 Delhi Assembly elections! \n",
            "2. They performed much better than BJP in Punjab. It is AAP, and not BJP, that is the primary opposition in Punjab.\n",
            "sumanvdeshpande\n",
            "\n",
            "Twitter for Android\n",
            "0\n",
            "58\n",
            "155\n",
            "0\n",
            "<--------------------------------------------------->\n",
            "61\n",
            "2020-11-19 09:36:08\n",
            "1329357782009581568\n",
            "False\n",
            "In delhi, congress attacked BJP. Were they campaign for AAP? \n",
            "\n",
            "In Punjab Badals will attack AAP. Will they campaign for Congress? \n",
            "\n",
            "Prashant Kanojia is attacking AAP. Is he DIRECTLY campaigning for congress? \n",
            "\n",
            "All parties have right to attack their opponents be it ruling or other https://t.co/7S01JlxJlY\n",
            "Arun2981\n",
            "\n",
            "Twitter for iPhone\n",
            "111\n",
            "17199\n",
            "937\n",
            "43\n",
            "<--------------------------------------------------->\n",
            "62\n",
            "2020-11-19 09:21:26\n",
            "1329354084864823297\n",
            "False\n",
            "@ANI Pollution in Delhi not for AAP. From Haryana, Punjab Pollutant comes . It's the reason .\n",
            "AdityakrDas9\n",
            "\n",
            "Twitter Web App\n",
            "0\n",
            "0\n",
            "9\n",
            "0\n",
            "<--------------------------------------------------->\n",
            "63\n",
            "2020-11-19 08:00:45\n",
            "1329333780276936708\n",
            "False\n",
            "@akhlaquequmar35 Lol.. AAP ko national party ke roop mein dekhna chahte ho par jo national party banane k liye chahiye wo dekhna ni chahte ho. U think AAP can win UK, Goa, Punjab without taking Rational hindu votes from BJP. Ya to AAP supporter khul k bano aur maturely support kro ya phir agnst🙏\n",
            "Gss_Views\n",
            "\n",
            "Twitter for iPhone\n",
            "0\n",
            "2690\n",
            "846\n",
            "0\n",
            "<--------------------------------------------------->\n",
            "64\n",
            "2020-11-19 06:32:55\n",
            "1329311673807585281\n",
            "False\n",
            "@RahulGandhi Who's saying this?  Jaipur has 3rd highest cases district wise. Maharashtra is the worst effected state followed by Kerala, Punjab.\n",
            "Sir aap bhi kuch karlo vacations k alawa.if Modi ji hs 2 do everything, what's ur role as MP and ruling party in handful of states?\n",
            "mudyt\n",
            "\n",
            "Twitter Web App\n",
            "0\n",
            "16\n",
            "9\n",
            "0\n",
            "<--------------------------------------------------->\n",
            "65\n",
            "2020-11-19 05:10:58\n",
            "1329291053220777984\n",
            "False\n",
            "@AdityaMenon22 Why's AIMIM trying to spread its wings elsewhere in the country when it can't do the same in its home state ?\n",
            "\n",
            "Isn't that what the AAP is doing in states like Punjab , Goa ?\n",
            "\n",
            "Does anyone dispute that if the AIMIM hadn't contested in Bihar, those 5 seats wud have gone to the MGB ?\n",
            "NARAYANRAO12\n",
            "\n",
            "Twitter Web App\n",
            "0\n",
            "440\n",
            "131\n",
            "0\n",
            "<--------------------------------------------------->\n",
            "66\n",
            "2020-11-19 05:10:47\n",
            "1329291004562685957\n",
            "False\n",
            "@rohini_sgh Insecurity that ppl of Goa might vote out bjp in next election but they might choose INC instead of AAP as it happened in Punjab 2017,So instead of appealing to ppl that pls vote out bjp ,they are appealing to not to vote for INC,Entire poltical science it seems.😊🙏\n",
            "rrk_nasik\n",
            "\n",
            "Twitter for Android\n",
            "1\n",
            "334\n",
            "172\n",
            "0\n",
            "<--------------------------------------------------->\n",
            "67\n",
            "2020-11-19 04:28:35\n",
            "1329280384366886912\n",
            "False\n",
            "@nanditathhakur He was the same person who said he would resign if AAP looses in punjab and goa...kathni aur karni mein fark hota hai , the entire party is master of Uturns,  they cant meet the victims on ground but would travel to goa for a debate...\n",
            "nagendra180372\n",
            "सिक्किम, भारत\n",
            "Twitter for Android\n",
            "2\n",
            "216\n",
            "483\n",
            "1\n",
            "<--------------------------------------------------->\n",
            "68\n",
            "2020-11-19 02:58:34\n",
            "1329257732008886272\n",
            "False\n",
            "Punjab and haryana responsible for pollution \n",
            "Center is responsible for law and order \n",
            "And we AAP only responsible for saying who is responsible \n",
            "\n",
            "When will you guys accept your responsibility https://t.co/CIs5xhAXTv\n",
            "Hussainishadab\n",
            "India\n",
            "Twitter Web App\n",
            "0\n",
            "215\n",
            "175\n",
            "0\n",
            "<--------------------------------------------------->\n",
            "69\n",
            "2020-11-19 02:28:03\n",
            "1329250051017895937\n",
            "False\n",
            "\"Punjab, Haryana Chief Ministers Responsible For Delhi Pollution\": AAP Leader (via: https://t.co/bvobsduKnZ)\n",
            "\n",
            "https://t.co/0UcMtqDED4\n",
            "newsFromDel\n",
            "delhi\n",
            "namPublisher\n",
            "0\n",
            "25\n",
            "0\n",
            "0\n",
            "<--------------------------------------------------->\n",
            "70\n",
            "2020-11-19 01:53:58\n",
            "1329241475607977984\n",
            "False\n",
            "@ndtv If Punjab&amp; Haryana  CMs are responsible for pollution in Delhi then  Delhi AAP CM also responsible as he is not able to control toxic emissions from vehicles&amp; fire crackers.\n",
            "HalanSevannan5\n",
            "Tamil Nadu, India\n",
            "Twitter for Android\n",
            "1\n",
            "27\n",
            "81\n",
            "0\n",
            "<--------------------------------------------------->\n",
            "71\n",
            "2020-11-19 01:51:21\n",
            "1329240815202287617\n",
            "False\n",
            "@PJkanojia More than it’s electoral base , AAP’s greatest strength was it’s moral base erected on the anti corruption plank. That has since been seriously dented .It’s vote base in Punjab and GOA has shrunk beyond redemption. It’s last bastion Delhi will also be ceded in next elections.\n",
            "babupaul2020\n",
            "India\n",
            "Twitter for iPhone\n",
            "2\n",
            "7\n",
            "92\n",
            "0\n",
            "<--------------------------------------------------->\n",
            "72\n",
            "2020-11-19 01:40:23\n",
            "1329238058714087425\n",
            "False\n",
            "@AamAadmiParty @raghav_chadha Goa has BJP govt.for last so many years and Raghav Chadha blaming Congress .Goans don't trust AAP .They betrayed people of Punjab ,after elections Kejriwal apologised to drug mafia gang and BJP's tainted leaders too .AAP,BJP will make deals in election .How could BJP won in Delhi\n",
            "vineeta0202\n",
            "India\n",
            "Twitter for Android\n",
            "0\n",
            "1388\n",
            "715\n",
            "0\n",
            "<--------------------------------------------------->\n",
            "73\n",
            "2020-11-19 01:32:11\n",
            "1329235992532844544\n",
            "False\n",
            "@AamAadmiParty @raghav_chadha AAP lost deposits in all elections ,contested in various states .In Punjab they promised to send drug mafia gang behind bars  After elections tendered written apology letters to them.Don't vote AAP which is as \" secular as BJP.\"BJP,AAP hidden partners like BJP ,BSP.\n",
            "vineeta0202\n",
            "India\n",
            "Twitter for Android\n",
            "0\n",
            "1388\n",
            "715\n",
            "0\n",
            "<--------------------------------------------------->\n",
            "74\n",
            "2020-11-19 01:31:30\n",
            "1329235823498121219\n",
            "False\n",
            "On odd days - it is Punjab, on even days it is Haryana. Maybe. https://t.co/076Ct94enP\n",
            "gunjan_anurag\n",
            "\n",
            "Twitter for Android\n",
            "1\n",
            "117\n",
            "80\n",
            "0\n",
            "<--------------------------------------------------->\n",
            "75\n",
            "2020-11-19 00:57:11\n",
            "1329227186142728192\n",
            "True\n",
            "\"Punjab, Haryana Chief Ministers Responsible For Delhi Pollution\": AAP Leader https://t.co/4IrU5YtKVI https://t.co/P146UKLpwD\n",
            "ndtv\n",
            "India\n",
            "Twitter Web App\n",
            "143\n",
            "13992920\n",
            "15\n",
            "10\n",
            "<--------------------------------------------------->\n",
            "76\n",
            "2020-11-18 23:06:11\n",
            "1329199252988329988\n",
            "False\n",
            "@SatyaPrakashAAP @ArvindKejriwal AAP does not want solutions to settle issues amicably in public interest .Create drama when an issue blown out of proportion ,take all credit as if AAP was trying hard.Agar niyat jan- heet ki hai ,Punjab ,Haryana CMs ko batao,criminal  case karane ki baat dimag mai aagayi,kyon?\n",
            "vineeta0202\n",
            "India\n",
            "Twitter for Android\n",
            "0\n",
            "1388\n",
            "715\n",
            "0\n",
            "<--------------------------------------------------->\n",
            "77\n",
            "2020-11-18 23:03:09\n",
            "1329198486315622402\n",
            "False\n",
            "@SatyaPrakashAAP @ArvindKejriwal Has Kejriwal tried to call a meeting with Punjab,Haryana CMs as he did in past 6 years to discuss stubble burning issue ?AAP is propaganda party ,giving adv.on TV,wasting public money instead.of talking ,informing CMs of Punjab,Haryana if they r not adopting modern technique\n",
            "vineeta0202\n",
            "India\n",
            "Twitter for Android\n",
            "0\n",
            "1388\n",
            "715\n",
            "0\n",
            "<--------------------------------------------------->\n",
            "78\n",
            "2020-11-18 22:01:03\n",
            "1329182857953206273\n",
            "True\n",
            "\"Punjab, Haryana Chief Ministers Responsible For Delhi Pollution\": Atishi https://t.co/3s9hLeO793 https://t.co/fS2gKFAv0E\n",
            "ndtvfeed\n",
            "\n",
            "NDTVfeed\n",
            "2\n",
            "244895\n",
            "23\n",
            "0\n",
            "<--------------------------------------------------->\n",
            "79\n",
            "2020-11-18 21:50:29\n",
            "1329180200878346240\n",
            "False\n",
            "@BhagwantMann S.Bagwant Singh mann ji why you and your AAP mla not speaking about Punjab waters ? That's big eshu after 20 years Punjab dry more than 60%\n",
            "jagjeet42000\n",
            "\n",
            "Twitter for Android\n",
            "0\n",
            "0\n",
            "47\n",
            "0\n",
            "<--------------------------------------------------->\n",
            "80\n",
            "2020-11-18 19:46:29\n",
            "1329148994086309894\n",
            "False\n",
            "@ArvindKejriwal When will AAP government meet with Punjab government. Why cant you coordinate? Why you guys just play blame game and dirty politics?\n",
            "YashGargIND\n",
            "INDIA\n",
            "Twitter for iPhone\n",
            "1\n",
            "18\n",
            "62\n",
            "0\n",
            "<--------------------------------------------------->\n",
            "81\n",
            "2020-11-18 19:27:19\n",
            "1329144170095595520\n",
            "False\n",
            "BJP will lose security deposit on all seats in 2022 Punjab polls: AAP\n",
            "\n",
            "https://t.co/GSnxusboSg\n",
            "iepunjab\n",
            "Chandigarh\n",
            "Twitter for iPhone\n",
            "3\n",
            "1908\n",
            "56\n",
            "0\n",
            "<--------------------------------------------------->\n",
            "82\n",
            "2020-11-18 18:57:33\n",
            "1329136680540938241\n",
            "False\n",
            "BJP will lose security deposit on all seats in 2022 Punjab polls: AAP\n",
            "https://t.co/fQbno0CYt7\n",
            "Hindutva__watch\n",
            "Worldwide\n",
            "Twitter for Android\n",
            "5\n",
            "22581\n",
            "6180\n",
            "1\n",
            "<--------------------------------------------------->\n",
            "83\n",
            "2020-11-18 18:30:01\n",
            "1329129750338576384\n",
            "False\n",
            "@AAPPunjab @AnmolGaganMan You struggling badly,\n",
            "But nobody cares  ,AAP done in Punjab\n",
            "singhisking1313\n",
            "United States\n",
            "Twitter for iPhone\n",
            "0\n",
            "18\n",
            "190\n",
            "0\n",
            "<--------------------------------------------------->\n",
            "84\n",
            "2020-11-18 18:26:08\n",
            "1329128772474347521\n",
            "False\n",
            "Would be great to see AAP's voting % outside Delhi, Punjab and few surrounding areas... \n",
            "\n",
            "And you needed to import a leader from Delhi for this, shows lack of local leadership and/or Delhi leadership wanting to control everything ... https://t.co/sFN5rEIVB1\n",
            "sam_1647\n",
            "India\n",
            "Twitter for Android\n",
            "0\n",
            "299\n",
            "203\n",
            "0\n",
            "<--------------------------------------------------->\n",
            "85\n",
            "2020-11-18 18:13:17\n",
            "1329125539378913280\n",
            "False\n",
            "@Gss_Views @souravjain540 I think AAP will give very tough fight in Punjab, Goa, Uttrakhand. Lakshano se lgg raha hai.\n",
            "UdtaHathi\n",
            "Punjab, India\n",
            "Twitter Web App\n",
            "7\n",
            "2449\n",
            "1483\n",
            "1\n",
            "<--------------------------------------------------->\n",
            "86\n",
            "2020-11-18 18:04:37\n",
            "1329123359053922306\n",
            "False\n",
            "@jaibhim_softek @rohini_sgh You know what betrayal really mean is?\n",
            "Charging Bikram Majithiya with several allegations and in court offer unconditional apology to him. Ppl of Punjab voted in 2017 assembly elections to AAP because they believed that AAP will act against Majithia.\n",
            "But AAP betrayed Punjab.\n",
            "ajoykummar24\n",
            "Pondicherry University\n",
            "Twitter Web App\n",
            "0\n",
            "111\n",
            "112\n",
            "0\n",
            "<--------------------------------------------------->\n",
            "87\n",
            "2020-11-18 17:05:44\n",
            "1329108543060905984\n",
            "True\n",
            "From Punjab to Goa, AAP leaders have time for every state except Delhi.\n",
            "\n",
            "While Delhi Continues to suffer with rising number of #COVID19 cases, almost 100 deaths a day, no availability of beds in hospitals their leaders are busy commenting on other states or dance performances! https://t.co/jFiK5f6vZs\n",
            "Radhika_Khera\n",
            "\n",
            "Twitter for iPhone\n",
            "31\n",
            "135298\n",
            "1031\n",
            "6\n",
            "<--------------------------------------------------->\n",
            "88\n",
            "2020-11-18 16:31:45\n",
            "1329099987171479553\n",
            "False\n",
            "@CMOPb @capt_amarinder Captain Sahib Aap Ji's support to Kisan Union proves that you are a farmer friendly. Earlier, you also took a firm stand on the issue of Punjab's waters\n",
            "GoldyTarinder\n",
            "\n",
            "Twitter for Android\n",
            "0\n",
            "7\n",
            "133\n",
            "0\n",
            "<--------------------------------------------------->\n",
            "89\n",
            "2020-11-18 16:16:19\n",
            "1329096103510364162\n",
            "False\n",
            "Punjab, Haryana CMs 'directly responsible' for pollution in Delhi, says AAP leader Atishi https://t.co/ul80u9S7cD\n",
            "dev_discourse\n",
            "National Capital Region\n",
            "Devdiscourse News Desk\n",
            "0\n",
            "84645\n",
            "690\n",
            "0\n",
            "<--------------------------------------------------->\n",
            "90\n",
            "2020-11-18 16:05:49\n",
            "1329093460557586436\n",
            "False\n",
            "@AAPPunjab Dear party please don't do mistake again as election is near .. provide Face to Punjab AAP leader.. I respect to kejriwal g but in Punjab the residence of Punjab should be .. Bhagwant Maan\n",
            "Sukhkhangura16\n",
            "\n",
            "Twitter for Android\n",
            "0\n",
            "0\n",
            "20\n",
            "0\n",
            "<--------------------------------------------------->\n",
            "91\n",
            "2020-11-18 15:04:03\n",
            "1329077917792440332\n",
            "False\n",
            "@AtishiAAP @AamAadmiParty Why don't you ask AAP MPs and MLA  of Punjab to use Sansad nidhi to disseminate the technology developed by IARI a Central Govt funded institute.\n",
            "ravinku2004\n",
            "\n",
            "Twitter for Android\n",
            "0\n",
            "459\n",
            "453\n",
            "0\n",
            "<--------------------------------------------------->\n",
            "92\n",
            "2020-11-18 14:46:35\n",
            "1329073520949686273\n",
            "False\n",
            "Blaming govts in Punjab &amp; Haryana for rising pollution in Delhi, AAP leader Atishi today said Data clearly shows that Delhi pollution is directly correlated with stubble burning in Haryana &amp; Punjab. Criminal negligence of the CMs has caused a public health emergency in Delhi. https://t.co/q3NZfieLhR\n",
            "raju0524\n",
            "\n",
            "Twitter Web App\n",
            "0\n",
            "46\n",
            "525\n",
            "0\n",
            "<--------------------------------------------------->\n",
            "93\n",
            "2020-11-18 13:35:20\n",
            "1329055593135411203\n",
            "False\n",
            "@AnOpenLetter001 It feel like Aap doing ad for Punjab and Haryana election.\n",
            "SHASHAN85146126\n",
            "\n",
            "Twitter for Android\n",
            "0\n",
            "0\n",
            "19\n",
            "0\n",
            "<--------------------------------------------------->\n",
            "94\n",
            "2020-11-18 12:06:47\n",
            "1329033307745439744\n",
            "False\n",
            "BJP set to lose security deposits on all seats in 2022 polls: Meet Hair #AAP #AnmolGaganMann #Politics #Punjab #TodayNews #TopNews -https://t.co/JTOYlkqZIP https://t.co/WYfQ0gecWG\n",
            "Punjabupdate\n",
            "Chandigarh\n",
            "PB Update\n",
            "0\n",
            "2687\n",
            "75\n",
            "0\n",
            "<--------------------------------------------------->\n",
            "95\n",
            "2020-11-18 11:11:09\n",
            "1329019308878434304\n",
            "True\n",
            "Banning purchase, sale of paddy anti-farmer: AAP https://t.co/JAAT2pUMjT\n",
            "thetribunechd\n",
            "Chandigarh\n",
            "Twitter for Android\n",
            "0\n",
            "100467\n",
            "271\n",
            "0\n",
            "<--------------------------------------------------->\n",
            "96\n",
            "2020-11-18 09:57:38\n",
            "1329000807186907139\n",
            "False\n",
            "@ArvindKejriwal Whats d purpose of u having protested at ground at jantar mantar when today u r required to be on the ground with the farmers in punjab and haryana and convince them not to burn the stubble. U are nowhere on the ground and is only present on twitter. Zameen se gayab hai aap.\n",
            "Rahul09093\n",
            "New Delhi, India\n",
            "Twitter for Android\n",
            "1\n",
            "10\n",
            "115\n",
            "0\n",
            "<--------------------------------------------------->\n",
            "97\n",
            "2020-11-18 09:45:37\n",
            "1328997780119908352\n",
            "True\n",
            "Delhi's @AamAadmiParty Govt's unwarranted &amp; baseless tirade against Punjab farmers continues- but I want to ask @AAPPunjab that why this silence from your end? Do you concur with AAP Govt in Delhi, on its baseless allegations against our farmers?! https://t.co/yvh4MIJI3s\n",
            "VijayIndrSingla\n",
            "Sangrur(Punjab)\n",
            "Twitter for Android\n",
            "27\n",
            "24297\n",
            "149\n",
            "7\n",
            "<--------------------------------------------------->\n",
            "98\n",
            "2020-11-18 09:40:50\n",
            "1328996577533255683\n",
            "False\n",
            "@ArvindKejriwal Why don't you ask AAP MPs and MLA  of Punjab to use Sansad nidhi to disseminate the technology developed by IARI a Central Govt funded institute.\n",
            "ravinku2004\n",
            "\n",
            "Twitter for Android\n",
            "3\n",
            "459\n",
            "453\n",
            "0\n",
            "<--------------------------------------------------->\n",
            "99\n",
            "2020-11-18 09:24:13\n",
            "1328992397431279616\n",
            "False\n",
            "Dharna pradarshan in Punjab! \n",
            "If not doing that coz of Covid then \n",
            "Have local MLA’s(AAP MLA’s) help the farmers https://t.co/eI1o9MYJq9\n",
            "kushranjan\n",
            "Bengaluru, Mumbai\n",
            "Twitter for iPhone\n",
            "0\n",
            "700\n",
            "860\n",
            "0\n",
            "<--------------------------------------------------->\n",
            "100\n",
            "2020-11-18 09:15:40\n",
            "1328990246877372417\n",
            "False\n",
            "Why Criminal case not be instead filed against @AamAadmiParty govt for not not honoring poll manifesto promises? And for misleading public on COVID19,  pollution etc. And putting people to inconvenience in name of resolving issues. \n",
            "https://t.co/ctMeBtfRWN via @ThePrintIndia\n",
            "Pseudoidealist\n",
            "Heart over Head\n",
            "Twitter Web App\n",
            "0\n",
            "25\n",
            "0\n",
            "0\n",
            "<--------------------------------------------------->\n",
            "101\n",
            "2020-11-18 08:47:00\n",
            "1328983032221618177\n",
            "False\n",
            "Worst decision or experiment to appoint Gagan Anmol Maan as a co-president of AAP Punjab @ArvindKejriwal @BhagwantMann @msisodia Now definitely you gonna loose Malwa region also.\n",
            "rajdhaliwal19\n",
            "Punjab, India\n",
            "Twitter for iPhone\n",
            "0\n",
            "4\n",
            "173\n",
            "0\n",
            "<--------------------------------------------------->\n",
            "102\n",
            "2020-11-18 08:46:41\n",
            "1328982950378090502\n",
            "False\n",
            "Lodge caseagainst Punjab, Haryana CMs: AAP https://t.co/RcIsLeVNPf\n",
            "CPrajapati83\n",
            "Chandigarh \n",
            "IFTTT\n",
            "0\n",
            "25\n",
            "14\n",
            "0\n",
            "<--------------------------------------------------->\n",
            "103\n",
            "2020-11-18 08:05:45\n",
            "1328972650098561024\n",
            "False\n",
            "@AquarianTruths Reminds me of the Kapil Sharma Joke\n",
            "\n",
            "In Hindi :\n",
            "Patient to Doctor: Kya Aap Daaru Choodwate Hein?\n",
            "\n",
            "Doctor: Haan!\n",
            "\n",
            "Patient: Thank You, Punjab Police Ne Pakadi Hai.\n",
            "Prof_Sevak\n",
            "GOI + BLR + DEL + SHL = IND\n",
            "Twitter for Android\n",
            "1\n",
            "799\n",
            "3379\n",
            "0\n",
            "<--------------------------------------------------->\n",
            "104\n",
            "2020-11-18 08:00:52\n",
            "1328971419795877890\n",
            "False\n",
            "@SirishaRao17 @AamAadmiParty Punjab would had been easy, had BJP &amp; AKALIS remained together.....with BJP going solo....it will not be easy for AAP\n",
            "TheShilbhadra\n",
            "Bokaro Steel City\n",
            "Twitter Web App\n",
            "0\n",
            "323\n",
            "301\n",
            "0\n",
            "<--------------------------------------------------->\n",
            "105\n",
            "2020-11-18 08:00:28\n",
            "1328971319350755331\n",
            "False\n",
            "ETEnergyworld | AAP demands cases to be lodged against Punjab, Haryana CMs for stubble-burning #AirPollutionInDelhi #StubbleBurning #PunjabCM #HaryanaCM #Pollution #AirPollutionDueToCropBurning #CropBurning https://t.co/eVLEdSPEoZ\n",
            "Sudheerpalsingh\n",
            "Delhi\n",
            "econ b2b post\n",
            "0\n",
            "1853\n",
            "2640\n",
            "0\n",
            "<--------------------------------------------------->\n",
            "106\n",
            "2020-11-18 08:00:26\n",
            "1328971312983785472\n",
            "True\n",
            "ETEnergyworld | AAP demands cases to be lodged against Punjab, Haryana CMs for stubble-burning #AirPollutionInDelhi #StubbleBurning #PunjabCM #HaryanaCM #Pollution #AirPollutionDueToCropBurning #CropBurning https://t.co/YDSaGWtk5b\n",
            "ETEnergyWorld\n",
            "New Delhi, India\n",
            "econ b2b post\n",
            "0\n",
            "9971\n",
            "5034\n",
            "0\n",
            "<--------------------------------------------------->\n",
            "107\n",
            "2020-11-18 07:18:18\n",
            "1328960706813767682\n",
            "False\n",
            "PC of MLA and AAP Punjab youth wing President @meet_hayer  and con youth wing President Anmol Gagan Mann\n",
            "👇👇👇👇👇\n",
            "https://t.co/9H9m6M0EFa\n",
            "Gurdeepgurus\n",
            "\n",
            "Twitter for Android\n",
            "32\n",
            "1052\n",
            "480\n",
            "11\n",
            "<--------------------------------------------------->\n",
            "108\n",
            "2020-11-18 07:14:04\n",
            "1328959644904132609\n",
            "False\n",
            "@vishu49 @Raghvarma @VandanaJayrajan PK is clever, he signs the contract with parties if winnability is almost certain. \n",
            "\n",
            "He did in Punjab last time where CONgress victory was certain.\n",
            "Delhi Victory was certain for AAP. \n",
            "He ran away from UP last time. \n",
            "In Maha it was his ill advise that will drown SS very soon.\n",
            "BlrTarun\n",
            "\n",
            "Twitter Web App\n",
            "1\n",
            "110\n",
            "369\n",
            "0\n",
            "<--------------------------------------------------->\n",
            "109\n",
            "2020-11-18 06:55:10\n",
            "1328954886705328128\n",
            "False\n",
            "Atishi (AAP Leader) blames Punjab, Haryana for air pollution. \n",
            "Hence work done, blame game started and public is suffering. \n",
            "\n",
            "#RAM\n",
            "#BringBackTrueIndology\n",
            "MattersRead\n",
            "World 🌐\n",
            "Twitter for Android\n",
            "3\n",
            "420\n",
            "1273\n",
            "0\n",
            "<--------------------------------------------------->\n",
            "110\n",
            "2020-11-18 06:41:35\n",
            "1328951467286409216\n",
            "False\n",
            "Punjab will have a 4 way fight in 2022, the lowest vote share will be of SAD.\n",
            "\n",
            "Those who did not vote BJP just because of SAD will now vote for BJP.\n",
            "\n",
            "Those who chose AAP just because of SAD will vote for BJP.\n",
            "\n",
            "My Opinion BJP Vote Share will cross 25%.\n",
            "vastalitech\n",
            "Ludhiana\n",
            "Twitter for Android\n",
            "6\n",
            "10972\n",
            "5738\n",
            "1\n",
            "<--------------------------------------------------->\n",
            "111\n",
            "2020-11-18 05:56:12\n",
            "1328940048734105604\n",
            "False\n",
            "#AAP cares \n",
            "#Delhi #India #Punjab https://t.co/QQEkH0bmx7\n",
            "GutznGlory\n",
            "New York, NY\n",
            "Twitter for iPhone\n",
            "0\n",
            "253\n",
            "297\n",
            "0\n",
            "<--------------------------------------------------->\n",
            "112\n",
            "2020-11-18 05:55:08\n",
            "1328939778746834944\n",
            "True\n",
            "Book Haryana, Punjab chief ministers for farm fires, demands AAP MLA https://t.co/bbm3GdrwqS\n",
            "TOICitiesNews\n",
            "\n",
            "cmssocialservice\n",
            "1\n",
            "21575\n",
            "96\n",
            "0\n",
            "<--------------------------------------------------->\n",
            "113\n",
            "2020-11-18 05:45:48\n",
            "1328937431844970499\n",
            "True\n",
            "Book Haryana, Punjab chief ministers for farm fires, demands AAP MLA https://t.co/pCmR5fWWXZ\n",
            "TOIDelhi\n",
            "New Delhi, India\n",
            "cmssocialservice\n",
            "0\n",
            "53511\n",
            "42\n",
            "0\n",
            "<--------------------------------------------------->\n",
            "114\n",
            "2020-11-18 05:04:51\n",
            "1328927125743669250\n",
            "False\n",
            "Prashant Kishore\n",
            "\n",
            "2014 Election : #BJP : WON\n",
            " 2015 #Bihar : #JDU : WON\n",
            "2017 #Punjab  : #INC : WON\n",
            "2017 #UttarPradesh : INC : LOST \n",
            "2019 #AndhraPradesh : #YSRCP : WON \n",
            "2020 #Delhi : #AAP : WON  \n",
            "2021 #WestBengal : #TMC : ?? \n",
            "2021 #TamilNadu : #DMK : ??\n",
            "\n",
            "Can he win WB &amp; TN https://t.co/5FI43UT9sI\n",
            "yogendrapal72\n",
            "\n",
            "Twitter Web App\n",
            "0\n",
            "12622\n",
            "12562\n",
            "0\n",
            "<--------------------------------------------------->\n",
            "115\n",
            "2020-11-18 04:50:23\n",
            "1328923484433604608\n",
            "False\n",
            "#Delhi | AAP demands cases to be lodged against Punjab, Haryana CMs for stubble-burning:\n",
            "\n",
            "https://t.co/CsHKMGxYVy\n",
            "sahnipuneet\n",
            "Punjab, India\n",
            "IFTTT\n",
            "0\n",
            "4149\n",
            "422\n",
            "0\n",
            "<--------------------------------------------------->\n",
            "116\n",
            "2020-11-18 04:44:11\n",
            "1328921924353675264\n",
            "False\n",
            "@scribe_prashant @AshishXL Aap was distributing Oxymeter in punjab villages. Meanwhile delhi tops the charts. News Over.\n",
            "monulko\n",
            "\n",
            "Twitter Web App\n",
            "1\n",
            "374\n",
            "1150\n",
            "1\n",
            "<--------------------------------------------------->\n",
            "117\n",
            "2020-11-18 04:00:00\n",
            "1328910804566085639\n",
            "True\n",
            "#Delhi | AAP demands cases to be lodged against Punjab, Haryana CMs for stubble-burning:\n",
            "\n",
            "https://t.co/TbuqRU5G6L\n",
            "AAPInNews\n",
            "India\n",
            "Twitter Web App\n",
            "13\n",
            "135531\n",
            "3\n",
            "5\n",
            "<--------------------------------------------------->\n",
            "118\n",
            "2020-11-18 03:46:41\n",
            "1328907455129030658\n",
            "True\n",
            "Farm Reforms Fallout: Can BJP Wrestle Punjab From The AAP, Congress, And Shiromani Akali Dal In 2022\n",
            "\n",
            "@tushjain15 and @nishthaanushree on Swarajya Standpoint. \n",
            "\n",
            "https://t.co/lojYgeEGhk\n",
            "SwarajyaMag\n",
            "India\n",
            "TweetDeck\n",
            "62\n",
            "265181\n",
            "675\n",
            "10\n",
            "<--------------------------------------------------->\n",
            "119\n",
            "2020-11-18 00:53:32\n",
            "1328863880487976962\n",
            "False\n",
            "@raghav_chadha What happened to his statement if AAP doesnt form government in Punjab he will resign from politics.....height of hypocrisy\n",
            "AmitMah25962553\n",
            "Noida, India\n",
            "Twitter for Android\n",
            "0\n",
            "4\n",
            "33\n",
            "0\n",
            "<--------------------------------------------------->\n",
            "120\n",
            "2020-11-18 00:06:15\n",
            "1328851979091656704\n",
            "False\n",
            "AAP demands cases to be lodged against Punjab, Haryana CMs for stubble-burning but the AAP Punjab leader burned stubble to oppose law prohibiting stubble burning.\n",
            " https://t.co/1Yftkkwe76 https://t.co/Qs6EeskVk9\n",
            "Bhalothia_ssb\n",
            "Bhiwani(Hry)\n",
            "Twitter for Android\n",
            "1\n",
            "6062\n",
            "881\n",
            "1\n",
            "<--------------------------------------------------->\n",
            "121\n",
            "2020-11-18 00:02:04\n",
            "1328850927550308352\n",
            "False\n",
            "AAP demands cases to be lodged against Punjab, Haryana CMs for stubble-burning https://t.co/BULxVrUZen via @timesofindia\n",
            "iyer_sk\n",
            "India\n",
            "Twitter Web App\n",
            "32\n",
            "1141\n",
            "783\n",
            "20\n",
            "<--------------------------------------------------->\n",
            "122\n",
            "2020-11-17 23:15:19\n",
            "1328839163521626113\n",
            "False\n",
            "@Maheshjoshi0123 @TamannaUAH @AbbakkaHypatia 2020 Delhi Dange pe Kaun chup? And baat Punjab ke UAPA ko leke shuru hui thi Jo fake news hai. AAP wale Hain hi paidaishi jhuthe. Come here I will show u my local MLa who is from AAP is involved in illegal mining and acts. AAP is najayaz aulaad of BJP. Got it?\n",
            "jach2003\n",
            "ROPAR (PB)\n",
            "Twitter for Android\n",
            "0\n",
            "368\n",
            "764\n",
            "0\n",
            "<--------------------------------------------------->\n",
            "123\n",
            "2020-11-17 23:03:19\n",
            "1328836142058283009\n",
            "False\n",
            "@ArvindKejriwal it shows that you are wid bjp.u know that farmers are coming to protest in delhi 26-27 nov thats why u r preparing for lockdown..politics khel rhe ho bhai sahib..fr hope krte ho k punjab hum aap ki sarkar bnae..pehle kuch kro to sai kissano ke lyi😡\n",
            "KIRAN67142903\n",
            "Australia\n",
            "Twitter Web App\n",
            "0\n",
            "0\n",
            "2\n",
            "0\n",
            "<--------------------------------------------------->\n",
            "124\n",
            "2020-11-17 22:00:11\n",
            "1328820255150391296\n",
            "False\n",
            "@vpss0210 @OpIndia_com Goodwill Not in punjab. There is anti bjp sentiment in punjab public instilled by congress &amp; AAP.  Now farm bills had made it worse.  Punjab bjp has to do very hard work to correct image of bjp in the state. Never seen any bjp candidate interacting with people at ground level\n",
            "Barjesh96314290\n",
            "\n",
            "Twitter Web App\n",
            "1\n",
            "24\n",
            "28\n",
            "0\n",
            "<--------------------------------------------------->\n",
            "125\n",
            "2020-11-17 21:55:20\n",
            "1328819033756422146\n",
            "False\n",
            "@OpIndia_com Ground level work is very poor of bjp Punjab.If they want to win  they should start working from now.AAP is doing it even at village level.Never saw any bjp candidate interacting with people.There is anti bjp sentiment in punjab due to farm bills but Punjab bjp doing nothing 4 it\n",
            "Barjesh96314290\n",
            "\n",
            "Twitter Web App\n",
            "0\n",
            "24\n",
            "28\n",
            "0\n",
            "<--------------------------------------------------->\n",
            "126\n",
            "2020-11-17 18:49:29\n",
            "1328772263823327232\n",
            "False\n",
            "AAP's Atishi takes on Hry, Punjab over stubble burning https://t.co/rweLT7Sr67\n",
            "mpostdigital\n",
            "New Delhi, India\n",
            "Hocalwire Social Share\n",
            "0\n",
            "839\n",
            "117\n",
            "0\n",
            "<--------------------------------------------------->\n",
            "127\n",
            "2020-11-17 17:34:48\n",
            "1328753467968475136\n",
            "False\n",
            "@souravjain540 Punjab me b, AAP is d only hope. BJP or Akali dal ko to farm law le dubenge. CongRSS is the only opponent .\n",
            "iamjatinbajaj\n",
            "\n",
            "Twitter for Android\n",
            "1\n",
            "69\n",
            "262\n",
            "0\n",
            "<--------------------------------------------------->\n",
            "128\n",
            "2020-11-17 17:30:10\n",
            "1328752302539165696\n",
            "True\n",
            "AAP demands cases to be lodged against Punjab, Haryana CMs for stubble-burning https://t.co/gpFzQTSq7l\n",
            "TOIDelhi\n",
            "New Delhi, India\n",
            "cmssocialservice\n",
            "11\n",
            "53511\n",
            "42\n",
            "3\n",
            "<--------------------------------------------------->\n",
            "129\n",
            "2020-11-17 17:20:04\n",
            "1328749759599763456\n",
            "True\n",
            "AAP demands cases to be lodged against Punjab, Haryana CMs for stubble-burning https://t.co/WSpH5vrP0D\n",
            "TOICitiesNews\n",
            "\n",
            "cmssocialservice\n",
            "1\n",
            "21575\n",
            "96\n",
            "1\n",
            "<--------------------------------------------------->\n",
            "130\n",
            "2020-11-17 17:02:21\n",
            "1328745299850903552\n",
            "True\n",
            "AAP wants criminal negligence cases filed against Punjab, Haryana CMs for stubble burning\n",
            "\n",
            "https://t.co/ooFJDZaBWK\n",
            "ThePrintIndia\n",
            "New Delhi, India\n",
            "TweetDeck\n",
            "19\n",
            "290240\n",
            "82\n",
            "0\n",
            "<--------------------------------------------------->\n",
            "131\n",
            "2020-11-17 16:22:08\n",
            "1328735181444849666\n",
            "False\n",
            "@ShivamU00062140 @aap_kartik @AamAadmiParty @mukeshahlawatap @Manish_Mehta_ @amitdabby1 @AnitaSingh_ @PulkitS_ @RitikGupta1999 Ya we are here since our childhood we better know delhi than any outsider.\n",
            "And we know very well the GUNDAGARDI,GUNDARAJ &amp; law and order of some very infamous states \n",
            "Delhi has it's own charm and rules regulations.pollution is gifted by haryana and punjab through stubble burning\n",
            "ALOKdelhi6\n",
            "Chandni Chowk, New Delhi\n",
            "Twitter for Android\n",
            "1\n",
            "10179\n",
            "7424\n",
            "0\n",
            "<--------------------------------------------------->\n",
            "132\n",
            "2020-11-17 16:21:24\n",
            "1328734997524705281\n",
            "False\n",
            "@AamAadmiParty @raghav_chadha AAP will get a grand Zero seats out of Delhi. Maybe a few naive idiots in Punjab want to hold on to anything that can oppose BJP. AAP is a joke.\n",
            "MrX33573412\n",
            "Buffalo, NY\n",
            "Twitter for iPhone\n",
            "0\n",
            "99\n",
            "849\n",
            "0\n",
            "<--------------------------------------------------->\n",
            "133\n",
            "2020-11-17 16:12:58\n",
            "1328732874502066177\n",
            "False\n",
            "@raghav_chadha : \"I am challenging..if we (AAP) get less than 85 seats in the upcoming Punjab elections, I will quit politics\"\n",
            "\n",
            "https://t.co/c5lB4H9XbR https://t.co/M0G1BayZjp\n",
            "RajatScorpio\n",
            "India\n",
            "Twitter for Android\n",
            "0\n",
            "438\n",
            "896\n",
            "0\n",
            "<--------------------------------------------------->\n",
            "134\n",
            "2020-11-17 16:10:25\n",
            "1328732233440653313\n",
            "False\n",
            "@nofearghazi sir aap ki pay inhi logo k taxes sai aati han jin ko aap golia mar rahy thay. Peaceful protest tha wwp ne violent kar diya. Police deauty is to save peoples lifes not to kill them. And everyone is aware of punjab police role in our society\n",
            "lanixsoft\n",
            "islamabad\n",
            "Twitter for Android\n",
            "0\n",
            "41\n",
            "145\n",
            "0\n",
            "<--------------------------------------------------->\n",
            "135\n",
            "2020-11-17 16:07:02\n",
            "1328731380914634754\n",
            "False\n",
            "Spit-&amp; Run is Old Habit of Aaptards\n",
            "Till Date They Have Never Able To\n",
            "Stand or Substantiate Any of Claims \n",
            ".\n",
            "Remember Coward @raghav_chadha Was The Who Had Challenged @sardesairajdeep On Live Debate That\n",
            "He Wld Quit Politics Permanently if\n",
            "AAP Got Less Than 85 Seats in Punjab https://t.co/tGUBkUcrg9 https://t.co/bRNPj7IfaT\n",
            "SaffronJay\n",
            "भारत माता की जय\n",
            "Twitter for Android\n",
            "38\n",
            "122576\n",
            "250\n",
            "49\n",
            "<--------------------------------------------------->\n",
            "136\n",
            "2020-11-17 16:05:13\n",
            "1328730923110633473\n",
            "False\n",
            "AAP is behind Punjab Famers issue and also Goa. Backed by ✝\n",
            "\n",
            "Media is showing Mollem issue as people's movement, but it's clearly backed by AAP which is trying to do Aarey type drama to prepare for Goa elections.\n",
            "\n",
            "Mollem is AAP's paid campaign #SaveMollemFromFakeActivism https://t.co/SfH57aTU4i\n",
            "NirmalGanguly\n",
            "Dandeli\n",
            "Twitter Web App\n",
            "1\n",
            "403\n",
            "982\n",
            "0\n",
            "<--------------------------------------------------->\n",
            "137\n",
            "2020-11-17 15:56:21\n",
            "1328728691363307521\n",
            "False\n",
            "AAP is behind Punjab Famers issue and also Goa. Backed by ✝ https://t.co/GEq6h7FxkC\n",
            "Manesha76\n",
            "\n",
            "Twitter for Android\n",
            "54\n",
            "21179\n",
            "1445\n",
            "20\n",
            "<--------------------------------------------------->\n",
            "138\n",
            "2020-11-17 15:23:54\n",
            "1328720527456759811\n",
            "False\n",
            "Year 2022 is going to be the year of @AamAadmiParty\n",
            "Punjab, Uttarakhand and Goa looking for a change  through AAP.\n",
            "( Not to forget MCD elections)\n",
            "Let us be the change people wish to see .\n",
            "Get set go🙂\n",
            "Ramesh_Bishnoi7\n",
            "Jaipur, Rajasthan\n",
            "Twitter for Android\n",
            "1\n",
            "1329\n",
            "332\n",
            "0\n",
            "<--------------------------------------------------->\n",
            "139\n",
            "2020-11-17 15:23:06\n",
            "1328720325287133184\n",
            "False\n",
            "He promised to leave politics if #AAP not get 2/3 majority in Punjab assembly election. Forget about 2/3, it did not get even 1/3. Yet he is in politics and tweeted buses were available for migrants in March end to transport them to their home with hidden agenda to spread corona. https://t.co/mkhMcmTtqw\n",
            "bimal_pr\n",
            "+919861048891 & 9337673955\n",
            "Twitter Web App\n",
            "0\n",
            "4255\n",
            "4409\n",
            "3\n",
            "<--------------------------------------------------->\n",
            "140\n",
            "2020-11-17 15:09:35\n",
            "1328716923450793986\n",
            "True\n",
            "Farm Reforms Fallout: Can BJP Wrestle Punjab From The AAP, Congress, And Shiromani Akali Dal In 2022\n",
            "\n",
            "@tushjain15 and @nishthaanushree on Swarajya Standpoint \n",
            "\n",
            "https://t.co/lojYgeEGhk\n",
            "SwarajyaMag\n",
            "India\n",
            "TweetDeck\n",
            "78\n",
            "265181\n",
            "675\n",
            "7\n",
            "<--------------------------------------------------->\n",
            "141\n",
            "2020-11-17 15:04:53\n",
            "1328715738366898176\n",
            "False\n",
            "@iAnkurSingh I had started feeling that Abhi &amp; Niyu are neutral but this fake activism backing has again made me lose hopes from social media celebs\n",
            "Goa 2022,Uttarakhand 2022, Punjab 2022 AAP is trying\n",
            "Even AAP is showing desparateness in UP\n",
            "\n",
            "Hopefully Hindus don't get deceived atleast now\n",
            "Harshal09378649\n",
            "\n",
            "Twitter for Android\n",
            "3\n",
            "46\n",
            "277\n",
            "0\n",
            "<--------------------------------------------------->\n",
            "142\n",
            "2020-11-17 15:00:32\n",
            "1328714646015025154\n",
            "False\n",
            "@SirishaRao17 @AamAadmiParty In Punjab no one can dislodge Congress for 100 years and as for uttrakhand and Goa AAP will get less votes than NOTA.\n",
            "Save this tweet.\n",
            "KULDEEPTANWAR4\n",
            "Deoband, India\n",
            "Twitter for Android\n",
            "3\n",
            "2272\n",
            "3105\n",
            "1\n",
            "<--------------------------------------------------->\n",
            "143\n",
            "2020-11-17 14:49:15\n",
            "1328711805426823168\n",
            "False\n",
            "Year 2022 is going to be the year of @AamAadmiParty\n",
            "Punjab, Uttarakhand and Goa looking for a change  through AAP.\n",
            "( Not to forget MCD elections)\n",
            "Let us be the change people wish to see .\n",
            "Get set go🙂\n",
            "SirishaRao17\n",
            "\n",
            "Twitter for Android\n",
            "554\n",
            "8827\n",
            "383\n",
            "117\n",
            "<--------------------------------------------------->\n",
            "144\n",
            "2020-11-17 14:39:12\n",
            "1328709278899703814\n",
            "False\n",
            "@AishwaryVerma9 No doubt AAP is after after 2017 Punjab loss.\n",
            "\n",
            "But for Goa was not.\n",
            "thegreat_amit\n",
            "New Delhi, India\n",
            "Twitter for Android\n",
            "0\n",
            "487\n",
            "797\n",
            "1\n",
            "<--------------------------------------------------->\n",
            "145\n",
            "2020-11-17 14:39:00\n",
            "1328709226097639425\n",
            "False\n",
            "Ban on sale-purchase of paddy, Capt govt failed farmers: AAP\n",
            "#Punjab \n",
            "#AAP \n",
            "#farmers\n",
            "#MeetHayer https://t.co/hQOJi4Bw9Y\n",
            "uniindianews\n",
            "New Delhi, Delhi\n",
            "TweetDeck\n",
            "0\n",
            "2239\n",
            "0\n",
            "0\n",
            "<--------------------------------------------------->\n",
            "146\n",
            "2020-11-17 14:26:25\n",
            "1328706059037413383\n",
            "False\n",
            "@PreetKaur1998 Lucknow , UP ..\n",
            "\n",
            "Ha mostly punjab wale aap hi bolte ❤️\n",
            "utkarshh_UT\n",
            "Lucknow\n",
            "Twitter for Android\n",
            "2\n",
            "1965\n",
            "782\n",
            "0\n",
            "<--------------------------------------------------->\n",
            "147\n",
            "2020-11-17 14:23:48\n",
            "1328705401261617154\n",
            "False\n",
            "@fawadchaudhry Sir is system ka trail aap AJK election pay kr lay pehly ya punjab local body election pay aur ye aap he ki ministry ka task b hay\n",
            "Ahad47404408\n",
            "Attock, Pakistan\n",
            "Twitter for Android\n",
            "1\n",
            "37\n",
            "226\n",
            "0\n",
            "<--------------------------------------------------->\n",
            "148\n",
            "2020-11-17 14:04:33\n",
            "1328700555162656770\n",
            "False\n",
            "@sayedzbukhari @ImranKhanPTI Sir is system ko aap AJK election or punjab local body election pay Apply kr k trail kr sakty hay ????\n",
            "Ahad47404408\n",
            "Attock, Pakistan\n",
            "Twitter for Android\n",
            "0\n",
            "37\n",
            "226\n",
            "0\n",
            "<--------------------------------------------------->\n",
            "149\n",
            "2020-11-17 13:58:21\n",
            "1328698997423230977\n",
            "False\n",
            "Punjab government responsible for crop damage: AAP https://t.co/0aqJgPMpc3\n",
            "iyer_sk\n",
            "India\n",
            "Twitter Web App\n",
            "4\n",
            "1141\n",
            "783\n",
            "1\n",
            "<--------------------------------------------------->\n",
            "150\n",
            "2020-11-17 13:36:13\n",
            "1328693425609330688\n",
            "False\n",
            "First KPK, then Punjab and Federal now in Gilgit Baltistan upcoming in AJK and next in India.\n",
            "Pakistan Tehreek Insaf will form the government in India in 2023 by purchasing all electable of BJP.\n",
            "\n",
            "\"Aap ne Ghabrana Nahi Hai\" | #ImranKhan #PM #Subcontinent\n",
            "ImranXainu\n",
            "\n",
            "Twitter for iPhone\n",
            "0\n",
            "29\n",
            "26\n",
            "0\n",
            "<--------------------------------------------------->\n",
            "151\n",
            "2020-11-17 12:53:52\n",
            "1328682770932006912\n",
            "False\n",
            "AAP stand by farmers in their struggle against new farm bill : Bhagwant Mann #BreakingNews #Chandigarh #LatestHeadlines #Politics #Punjab #Slider #TodayNews #TopNews #TopStory -https://t.co/1Os8bapyLf https://t.co/fswgh38r4F\n",
            "Punjabupdate\n",
            "Chandigarh\n",
            "PB Update\n",
            "0\n",
            "2687\n",
            "75\n",
            "0\n",
            "<--------------------------------------------------->\n",
            "152\n",
            "2020-11-17 11:50:13\n",
            "1328666750066577408\n",
            "False\n",
            "@saket71 This guy is all gas; remember his challenge to Rajdeep about quitting politics if AAP didn’t win Punjab. Absolute idiot!\n",
            "sharewithsajan\n",
            "Dubai\n",
            "Twitter for iPhone\n",
            "0\n",
            "256\n",
            "133\n",
            "0\n",
            "<--------------------------------------------------->\n",
            "153\n",
            "2020-11-17 11:46:49\n",
            "1328665895560900608\n",
            "False\n",
            "JUST IN\n",
            "\n",
            "AAP says SC &amp; Air Quality Commission should take sue-moto cognizance against Punjab &amp; Haryana Govt for such criminal negligence\n",
            "\n",
            "Cases should be filed against Punjab &amp; Haryana CM for such criminal negligence of Public Health Emergency due to Stubble Burning : @AtishiAAP https://t.co/WF4wxwGz3Z\n",
            "DaaruBaazMehta\n",
            "India\n",
            "Twitter Web App\n",
            "171\n",
            "76625\n",
            "460\n",
            "71\n",
            "<--------------------------------------------------->\n",
            "154\n",
            "2020-11-17 11:29:08\n",
            "1328661445706272769\n",
            "False\n",
            "Indian Council of Agricultural Research Data exposes Congress Govt of Punjab\n",
            "\n",
            "Daily cases of Stubble Burning in Punjab in Oct- Nov 2020.\n",
            "\n",
            "This was criminal negligence which cause Delhi NCR to choke due to smog.\n",
            "\n",
            "AAP @AtishiAAP Exposes Cong!\n",
            "\n",
            "PUSA bio-decomposer is the only way! https://t.co/8Y3zEsVlht\n",
            "DaaruBaazMehta\n",
            "India\n",
            "Twitter Web App\n",
            "106\n",
            "76625\n",
            "460\n",
            "44\n",
            "<--------------------------------------------------->\n",
            "155\n",
            "2020-11-17 09:43:39\n",
            "1328634900832915456\n",
            "False\n",
            "@ppbajpai Aren't you shameless? So did EVM decide victory of Khangis in Punjab, Rajasthan, Chattisgarh and Jharkand and AAP in Delhi ? If so, why the hell you kept silent at that time ? First try to know ground realities and be logical. Above all at least keep your PIDIdom within yourself.\n",
            "vanandca\n",
            "TAMIL NADU, INDIA\n",
            "Twitter Web App\n",
            "0\n",
            "804\n",
            "1869\n",
            "0\n",
            "<--------------------------------------------------->\n",
            "156\n",
            "2020-11-17 09:33:09\n",
            "1328632258723422208\n",
            "False\n",
            "AAP fully supports the farmers' protest rally in Delhi on November 26 and 27. AAP Punjab's entire leadership and volunteers will strongly support the farmers 'organizations and as farmers-laborers will take part in this farmers' protest @BhagwantMann ji\n",
            "@JarnailSinghAAP https://t.co/xyDgwN2NiL\n",
            "Gurdeepgurus\n",
            "\n",
            "Twitter for Android\n",
            "21\n",
            "1052\n",
            "480\n",
            "11\n",
            "<--------------------------------------------------->\n",
            "157\n",
            "2020-11-17 09:14:39\n",
            "1328627599422017536\n",
            "False\n",
            "https://t.co/ugLV6Rje5y . Since they have made it official, it’s an uphill task for @INCPunjab as it will be against 3 parties with basically the same objective. All these 3 parties @BJP4India + @Akali_Dal_ + @aap and not to forget @Mayawati will be aligning together only\n",
            "lemmebwhtim\n",
            "\n",
            "Twitter for iPhone\n",
            "0\n",
            "118\n",
            "738\n",
            "0\n",
            "<--------------------------------------------------->\n",
            "158\n",
            "2020-11-17 05:53:45\n",
            "1328577043240521737\n",
            "False\n",
            "@TonyKakkar Punjab! Aap ye btao next song kab release ke rhe ho? Just curious 😜😍\n",
            "Sunash71564139\n",
            "Punjab \n",
            "Twitter for Android\n",
            "3\n",
            "22\n",
            "31\n",
            "0\n",
            "<--------------------------------------------------->\n",
            "159\n",
            "2020-11-17 04:43:54\n",
            "1328559465029804033\n",
            "False\n",
            "@DaaruBaazMehta AAP is like shooting star. Parties who move from one gimmick to another cannot survive for long. AAP is already weaning even in Delhi, Punjab. In all other places it is a vote katau, deposit loosing party 😀. \n",
            "Politics is never won just by having paid cybercoolies on SM 😀!!\n",
            "rmkarki\n",
            "Bangalore\n",
            "Twitter for Android\n",
            "3\n",
            "11\n",
            "280\n",
            "0\n",
            "<--------------------------------------------------->\n",
            "160\n",
            "2020-11-17 04:07:21\n",
            "1328550268384931841\n",
            "True\n",
            "@AAPPunjab: Capt giving patronage to Punjab drug mafia https://t.co/8CGGuQRzov\n",
            "thetribunechd\n",
            "Chandigarh\n",
            "Twitter for Android\n",
            "0\n",
            "100467\n",
            "271\n",
            "0\n",
            "<--------------------------------------------------->\n",
            "161\n",
            "2020-11-17 04:07:21\n",
            "1328550265478209536\n",
            "True\n",
            "Punjab government responsible for crop damage: AAP https://t.co/XKRUyv4IxH\n",
            "thetribunechd\n",
            "Chandigarh\n",
            "Twitter for Android\n",
            "0\n",
            "100467\n",
            "271\n",
            "0\n",
            "<--------------------------------------------------->\n",
            "162\n",
            "2020-11-16 18:27:12\n",
            "1328404268261416961\n",
            "False\n",
            "Yes, This is true friends there are about 12K Villages in Punjab\n",
            "It was assumed that 10 ppl are coming from each village, this way about 1.2 Lak Ppl of Punjab will be 8n Delhi next week\n",
            "This time its not easy for AAP 8' Punjab\n",
            "As 70 % ppl in Punjab are farmer &amp; they formed their https://t.co/kMR57gEzOh\n",
            "OmkarAap\n",
            "New Delhi, India\n",
            "Twitter for Android\n",
            "4\n",
            "5165\n",
            "3378\n",
            "2\n",
            "<--------------------------------------------------->\n",
            "163\n",
            "2020-11-16 16:44:02\n",
            "1328378303015686146\n",
            "False\n",
            "@SyedIHusain But who cares for GB... if it were punjab toh abh aap dekte shor sharaba but abhi sareh chup howeh pareh hain\n",
            "Chiltan\n",
            "Quetta - Islamabad (Pakistan)\n",
            "Twitter for Android\n",
            "0\n",
            "38372\n",
            "858\n",
            "0\n",
            "<--------------------------------------------------->\n",
            "164\n",
            "2020-11-16 16:29:32\n",
            "1328374656504524800\n",
            "False\n",
            "@SomyajeetS @SS_Info1003 Seems okay.\n",
            "\n",
            "But, AAP Punjab certainly has a face, a strong face, particularly in malwa region, Bhagwant Mann.\n",
            "rckstr_rakshit\n",
            "Delhi\n",
            "Twitter for Android\n",
            "0\n",
            "265\n",
            "268\n",
            "0\n",
            "<--------------------------------------------------->\n",
            "165\n",
            "2020-11-16 16:02:17\n",
            "1328367798003744768\n",
            "False\n",
            "@teambahujan1 @Neelamgautam123 @Kaushal_Sagar03 @kumarlalit232 @Chandreshparmr @Ravi2kant_koli @RahulSant15 @SundreshPrakas6 @RamakantBsp @BorkarBSuraj @KumarSudeshArya @DharamVeerChBSP @ambedkarajay1 @Ex__sarpanch @Bahujan__Voice @PradeepkBsp88 @punjab_bsp Aap to hamare dil me ho... 😘😘\n",
            "teambhujan_yam0\n",
            "kotputli, jaipur \n",
            "Twitter for Android\n",
            "2\n",
            "1183\n",
            "1289\n",
            "0\n",
            "<--------------------------------------------------->\n",
            "166\n",
            "2020-11-16 15:16:59\n",
            "1328356397377937408\n",
            "False\n",
            "@raghav_chadha Tell me one thing who run away from his promise after Punjab elections. You are such a shameless and third class politician. Never kept your promise to left politics if AAP looses elections in Punjab. AAAAKKK TTHHOOOOO🗣 Chadha tere parr https://t.co/yF68dyD39N\n",
            "Nareshksachdeva\n",
            "\n",
            "Twitter for iPhone\n",
            "0\n",
            "467\n",
            "226\n",
            "0\n",
            "<--------------------------------------------------->\n",
            "167\n",
            "2020-11-16 15:13:11\n",
            "1328355442217644033\n",
            "False\n",
            "@sandeepn9ne @raghav_chadha This guy said that he will renounce politics if the AAP does not come to power in, I think, Punjab. He does not respect his own words also! What to expect of these aaptards...\n",
            "_kyunrious\n",
            "\n",
            "Twitter for Android\n",
            "3\n",
            "59\n",
            "941\n",
            "1\n",
            "<--------------------------------------------------->\n",
            "168\n",
            "2020-11-16 14:59:37\n",
            "1328352028075016198\n",
            "False\n",
            "@Girishbharath @Saikarthik1jeg @kiranjune1976 @Chinmay_AAP @AAPBangalore @AamAadmiParty @aapkaprithvi @AAP4KA @basavarajsm_ @Vikash_Shukla_ @CitizenKamran @romibhati @MohanDasari_ If that is so why Congress didn't transfer votes in Punjab, Goa, MP? Cong couldn't form govt in Goa and couldn't keep it in MP.\n",
            "\n",
            "Kid your logic fails. Actually no logic there.\n",
            "\n",
            "Transferred votes it seems 😂😂\n",
            "byraghavk\n",
            "Bengaluru, India\n",
            "Twitter for Android\n",
            "0\n",
            "563\n",
            "780\n",
            "0\n",
            "<--------------------------------------------------->\n",
            "169\n",
            "2020-11-16 14:17:16\n",
            "1328341370914922498\n",
            "False\n",
            "AP Ji - BJP has smartly quarantined and locked AAP virus in Delhi which isn’t even a state 😂😂😂\n",
            "\n",
            "Kejriwal flopped in Punjab with jamanat japts all over the place \n",
            "\n",
            "Less spoken the better about in Goa, Karnataka etc\n",
            "\n",
            "Kejriwal is a virat Hindu now 😂😹🤦🏽‍♂️🤦🏽‍♂️😇 https://t.co/4mrR7Mky7A\n",
            "v2l2b2\n",
            "\n",
            "Twitter for iPhone\n",
            "47\n",
            "7215\n",
            "3948\n",
            "10\n",
            "<--------------------------------------------------->\n",
            "170\n",
            "2020-11-16 14:00:59\n",
            "1328337273146916865\n",
            "False\n",
            "Farmer suicides multiplied under Captain rule: AAP #Farmer #AAP https://t.co/U0oXweXhLC\n",
            "thehawk\n",
            "India\n",
            "Hocalwire Social Share\n",
            "0\n",
            "2169\n",
            "798\n",
            "0\n",
            "<--------------------------------------------------->\n",
            "171\n",
            "2020-11-16 13:40:01\n",
            "1328331996238475270\n",
            "False\n",
            "@ashi_always @veenavenugopal @ReallySwara Paralli kahan jalti hai up and punjab mein na bhakt again im saying it's a national issue Aap is responsible for illegal industries in delhi , up mein both industries n paralli n same with punjab. So bhakt ankhen kholo if you want to criticize bda ke lo 3 party t maza ayega\n",
            "saurabh24\n",
            "Mumbai, India\n",
            "Twitter for Android\n",
            "0\n",
            "383\n",
            "271\n",
            "0\n",
            "<--------------------------------------------------->\n",
            "172\n",
            "2020-11-16 13:10:17\n",
            "1328324514053120000\n",
            "False\n",
            "@ajitdatta During last Punjab assembly election @raghav_chadha had said he would \"leave politics\" if AAP won fewer than 85 seats in Punjab. Unsurprisingly, Chadha didn't face the media for months altogether after the result came out. To be a politician you have to be shameless, isn't it\n",
            "SamadderSwapan\n",
            "Kolkata\n",
            "Twitter for Android\n",
            "0\n",
            "28\n",
            "335\n",
            "0\n",
            "<--------------------------------------------------->\n",
            "173\n",
            "2020-11-16 12:46:16\n",
            "1328318467905265664\n",
            "False\n",
            "#Suicides by farmers have multiplied during the present Captain-led government's rule: AAP #CaptainledGovernment #BreakingNews #LatestHeadlines #Politics #Punjab #TodayNews #TopNews #TopStory -https://t.co/CeJIfB5gwb https://t.co/BLhqC21ITw\n",
            "Punjabupdate\n",
            "Chandigarh\n",
            "PB Update\n",
            "0\n",
            "2687\n",
            "75\n",
            "0\n",
            "<--------------------------------------------------->\n",
            "174\n",
            "2020-11-16 12:44:35\n",
            "1328318043454394372\n",
            "False\n",
            "@JMehta65 Was he not supposed to leave politics in 2016?  Did he not say that he will leave politics if AAP don't win Punjab?\n",
            "\n",
            "Yeh Sabse Bada Nautanki hai....\n",
            "manojmadhavan03\n",
            "मुंबई, भारत\n",
            "Twitter for Android\n",
            "0\n",
            "144\n",
            "187\n",
            "0\n",
            "<--------------------------------------------------->\n",
            "175\n",
            "2020-11-16 11:35:51\n",
            "1328300748203966464\n",
            "False\n",
            "@sakhi2370 Congress is losing Punjab to aap....\n",
            "Maheshjoshi0123\n",
            "\n",
            "Twitter for Android\n",
            "0\n",
            "401\n",
            "1090\n",
            "0\n",
            "<--------------------------------------------------->\n",
            "176\n",
            "2020-11-16 10:56:07\n",
            "1328290749717172224\n",
            "False\n",
            "@MaheshJagga I wonder why is he in politics? He had said that if AAP doesn't make the government in Punjab he will leave politics. But then he is an aapiya and the first qualification to be that is to be able to put a chameleon to shame.\n",
            "SsChugh\n",
            "Delhi, India\n",
            "Twitter for Android\n",
            "0\n",
            "829\n",
            "931\n",
            "0\n",
            "<--------------------------------------------------->\n",
            "177\n",
            "2020-11-16 10:49:03\n",
            "1328288971466543104\n",
            "False\n",
            "Do not even look at NEW DELHI MODEL BEING SHOWN TO THE AGRCULTURAL PEOPLE OF PUNJAB\n",
            "New Delhi is a land of mostly business minded people\n",
            "HAVE WE FORGOTTEN 1984\n",
            "AAP is not for a kisaan\n",
            "Devinde75554048\n",
            "Melbourne\n",
            "Twitter for iPhone\n",
            "0\n",
            "59\n",
            "128\n",
            "0\n",
            "<--------------------------------------------------->\n",
            "178\n",
            "2020-11-16 10:34:04\n",
            "1328285201013776384\n",
            "False\n",
            "Can you please highlights people from AAP PUNJAB LINKED WITH DRUGS\n",
            "IS HAMASM MEIN SAB .......\n",
            "✅✅✅✅🕉🕉🕉🕉🕉☠️☠️☠️☠️☠️💪💪💪💪💪💪💪🌎🌎🌎🌎🐍❤️🏆☝️🇮🇳🇦🇺🇮🇳🇦🇺🇮🇳🇦🇺🇮🇳🇦🇺🇮🇳🧅🧅🧅🧅🧅🧅🧅\n",
            "Devinde75554048\n",
            "Melbourne\n",
            "Twitter for iPhone\n",
            "0\n",
            "59\n",
            "128\n",
            "0\n",
            "<--------------------------------------------------->\n",
            "179\n",
            "2020-11-16 10:26:08\n",
            "1328283203547836423\n",
            "False\n",
            "@BesuraTaansane Isn’t this the character who said he would leave politics if AAP didn’t win Punjab? Well, the didn’t!\n",
            "chalada1921\n",
            "United Kingdom\n",
            "Twitter for iPad\n",
            "1\n",
            "215\n",
            "708\n",
            "0\n",
            "<--------------------------------------------------->\n",
            "180\n",
            "2020-11-16 08:44:32\n",
            "1328257634600853504\n",
            "False\n",
            "This guy claimed, he will leave politics if AAP loses Punjab election.  How/Why is he still around.. ?? https://t.co/bDwJdOVuHD\n",
            "BhatkeHuye\n",
            "\n",
            "Twitter for Android\n",
            "0\n",
            "292\n",
            "375\n",
            "0\n",
            "<--------------------------------------------------->\n",
            "181\n",
            "2020-11-16 08:12:13\n",
            "1328249502935916549\n",
            "False\n",
            "Says the person who was about leave politics if AAP could not form govt in Punjab... https://t.co/y4aLUruI9n\n",
            "SCV_IND\n",
            "India\n",
            "Twitter for Android\n",
            "1\n",
            "472\n",
            "956\n",
            "0\n",
            "<--------------------------------------------------->\n",
            "182\n",
            "2020-11-16 08:07:00\n",
            "1328248188604583937\n",
            "False\n",
            "@AamAadmiParty will not fight in local body elections in Punjab. Bookmark my tweet.  #aap #ArvindKejriwal #PunjabPolitics\n",
            "Punjab_Se_Mani\n",
            "भगत सिंह नगर नवांशहर\n",
            "Twitter Web App\n",
            "0\n",
            "10\n",
            "277\n",
            "0\n",
            "<--------------------------------------------------->\n",
            "183\n",
            "2020-11-16 07:43:49\n",
            "1328242356391317505\n",
            "False\n",
            "Gentle Reminder to AAPiyaas with short term memory loss\n",
            "\n",
            "And look at the audacity of Kejriwal - He will only debate with sonia or Rahul and AAP punjab team will debate with Captain !! https://t.co/H02FwlzOM4\n",
            "Asli_Liberal\n",
            "\n",
            "Twitter Web App\n",
            "0\n",
            "365\n",
            "400\n",
            "0\n",
            "<--------------------------------------------------->\n",
            "184\n",
            "2020-11-16 07:29:12\n",
            "1328238674920701954\n",
            "False\n",
            "@ANI Haha! This Chadha guy is a joke. He promised to resign from politics after AAP's poor show in Punjab. And here he is talking about others running away 😆 @raghav_chadha\n",
            "gauravhagarwal\n",
            "\n",
            "Twitter Web App\n",
            "3\n",
            "11\n",
            "457\n",
            "0\n",
            "<--------------------------------------------------->\n",
            "185\n",
            "2020-11-16 07:23:44\n",
            "1328237300933771265\n",
            "False\n",
            "Ye Maine banaya Hai just a small gesture of love💕Dil tha Ki apse mil kar Apko dun par nhi mil pae🥺🥺 Chal koi baat nhi jab Aap Punjab aoge tab mil lungi Vaise to Apko pata Hai #Princess that we all love U alot par phir bhi I want to say it again that I 💓U alot\n",
            "@OfficialSidNaaz https://t.co/yzMesxZxIn\n",
            "BhambariKusum\n",
            "\n",
            "Twitter for Android\n",
            "111\n",
            "7\n",
            "8\n",
            "29\n",
            "<--------------------------------------------------->\n",
            "186\n",
            "2020-11-16 05:34:34\n",
            "1328209827856748545\n",
            "False\n",
            "@JOY50037414 @rvaidya2000 Punjab was a fake euphoria.. they won't be even visible in next election..they party will die down gradually.. it is not even in top ten list of alternatives... delhi as I said ,one strong BJP leader and AAP will do good bye from delhi also ..\n",
            "sunilpattu\n",
            "India\n",
            "Twitter for Android\n",
            "1\n",
            "221\n",
            "781\n",
            "0\n",
            "<--------------------------------------------------->\n",
            "187\n",
            "2020-11-16 04:46:55\n",
            "1328197835301466112\n",
            "False\n",
            "@AnshulGarg80 hello ji, aap please first look jaldi dedo woh punjab mein shoot hua project ka. aur haan aap please ek-do hafte ke baad gaane ko release krdo, beech mein loads of promotions and 3 beautiful posters please😚❤️\n",
            "anyrandom11\n",
            "mai hoon hi nahi iss duniya ki\n",
            "Twitter for iPhone\n",
            "0\n",
            "660\n",
            "604\n",
            "0\n",
            "<--------------------------------------------------->\n",
            "188\n",
            "2020-11-15 17:39:01\n",
            "1328029752968441856\n",
            "False\n",
            "@shethal1 @MananShaik2 Give m ans if u fought with ur partner and u are upset fir aap iv dene jao to? But we have seen in Punjab they were happy bb m bhi dekha hai ladte dono fir ek ho jate the\n",
            "SawlaniTisha\n",
            "\n",
            "Twitter for Android\n",
            "2\n",
            "305\n",
            "865\n",
            "0\n",
            "<--------------------------------------------------->\n",
            "189\n",
            "2020-11-15 16:33:29\n",
            "1328013262479261696\n",
            "False\n",
            "@PMOIndia @AmitShah @ArvindKejriwal @drharshvardhan @AjayMahawarBJP @ZeeNews @DDNewsHindi Why is Ajay Mahawar BJP using foul words against AAP CM Kejriwal?In democracy peoples awareness&amp;co-operation is needed.Punjab,Haryana&amp;UP must take strict action on pollution.Why blame anyone https://t.co/YOqh4II2wj\n",
            "skashamahajan\n",
            "\n",
            "Twitter Web App\n",
            "1\n",
            "279\n",
            "259\n",
            "1\n",
            "<--------------------------------------------------->\n",
            "190\n",
            "2020-11-15 15:48:31\n",
            "1328001945068572675\n",
            "False\n",
            "@CHZIA03425115 Sir ab aap sindh aur punjab KO mix na karain. Wo karachi hai aur ye federal, just like you said. Btw I also saw many videos and first hand experience where TLP walking towards faizabad with rods.\n",
            "puttingthingsr1\n",
            "\n",
            "Twitter for iPhone\n",
            "0\n",
            "0\n",
            "36\n",
            "0\n",
            "<--------------------------------------------------->\n",
            "191\n",
            "2020-11-15 14:54:09\n",
            "1327988261562662912\n",
            "False\n",
            "@Astute_Dopey @ng_p_f @TheMohil8 @ANI Left right centre se zyada important h kaam ... with a centre right stance he will get more popularity...\n",
            "\n",
            "Baki pichli baar only 6-8 month 200 unit free elec thi ...is bar 5 saal rahegi...\n",
            "\n",
            "Fair election ho to koi hila nhi sakta delhi se... baki goa,punjab has high chances 4 AAP\n",
            "Honestpoliticss\n",
            "\n",
            "Twitter Web App\n",
            "0\n",
            "10\n",
            "27\n",
            "0\n",
            "<--------------------------------------------------->\n",
            "192\n",
            "2020-11-15 14:52:00\n",
            "1327987723106349056\n",
            "False\n",
            "@artijourno 1. If pollution isn’t good, go after things that actually pollute. Why go after the least impactful issue? Solve the farmer issue, let the Delhi govt pay for it. If AAP is afraid of upsetting Punjab farmers due to their political ambitions why aren’t you calling them out on it?\n",
            "Doubledecacorn\n",
            "🐅🐘🦁\n",
            "Twitter Web App\n",
            "0\n",
            "587\n",
            "1033\n",
            "0\n",
            "<--------------------------------------------------->\n",
            "193\n",
            "2020-11-15 14:49:39\n",
            "1327987130677690370\n",
            "False\n",
            "@sidharth_shukla you are a player. Apko jab lagta h sidnaz engagement kam ja rhi h aap sidnaz content post krte ho like letters after bb jabki aap apna content krte thai from sana's gifts then punjab trip ab puchna mt kaise.. still playing w a girl's emotions and fans 2 #chutiya\n",
            "Reva67229646\n",
            "\n",
            "Twitter Web App\n",
            "1\n",
            "0\n",
            "1\n",
            "0\n",
            "<--------------------------------------------------->\n",
            "194\n",
            "2020-11-15 14:35:13\n",
            "1327983499354066944\n",
            "False\n",
            "@Astute_Dopey @ng_p_f @TheMohil8 @ANI New party h bhai...only formed in 2012-13\n",
            "\n",
            "Chunav ladne/Jeetne k liye paisa chahiye \n",
            "\n",
            "And AAP doesn't have corruption money like other parties\n",
            "\n",
            "India is a vast country. \n",
            "\n",
            "Assam / West bengal sab jeetegi thoda time to do bhai \n",
            "\n",
            "Not to forget AAP is main opposition in Punjab\n",
            "Honestpoliticss\n",
            "\n",
            "Twitter Web App\n",
            "0\n",
            "10\n",
            "27\n",
            "0\n",
            "<--------------------------------------------------->\n",
            "195\n",
            "2020-11-15 14:18:06\n",
            "1327979191183110145\n",
            "False\n",
            "@ng_p_f @TheMohil8 @ANI 2022 is crucial year. \n",
            "\n",
            "If AAP wins uttarakhand, Goa ,Punjab \n",
            "\n",
            "Then AK should fight LS elections \n",
            "\n",
            "Then it will be tough for BJP\n",
            "\n",
            "Lekin agar Rahul vs Modi raha tb to BJP hi jeetegi\n",
            "Honestpoliticss\n",
            "\n",
            "Twitter Web App\n",
            "0\n",
            "10\n",
            "27\n",
            "0\n",
            "<--------------------------------------------------->\n",
            "196\n",
            "2020-11-15 14:06:52\n",
            "1327976364222205952\n",
            "False\n",
            "@ANI If its EVM then how did congress won in Punjab, Maharastra and AAP in delhi ?\n",
            "iamGAK4\n",
            "Mumbai, India\n",
            "Twitter for iPhone\n",
            "0\n",
            "114\n",
            "153\n",
            "0\n",
            "<--------------------------------------------------->\n",
            "197\n"
          ],
          "name": "stdout"
        }
      ]
    },
    {
      "cell_type": "code",
      "metadata": {
        "id": "rnC_-x_vgzPB"
      },
      "source": [
        "import re\n",
        "import numpy as np\n",
        "\n",
        "import matplotlib.pyplot as plt\n",
        "import seaborn as sns\n",
        "\n",
        "import pandas as pd\n",
        "\n",
        "import datetime as dt\n",
        "from collections import Counter\n",
        "\n",
        "import nltk\n",
        "from nltk.tokenize import sent_tokenize\n",
        "from nltk.tokenize import TweetTokenizer\n",
        "from nltk.tokenize import word_tokenize\n",
        "from nltk.corpus import words\n",
        "from nltk.corpus import stopwords\n",
        "from nltk.stem import PorterStemmer\n",
        "from nltk.stem import WordNetLemmatizer"
      ],
      "execution_count": 3,
      "outputs": []
    },
    {
      "cell_type": "code",
      "metadata": {
        "id": "uuKwAeG2VKgp",
        "colab": {
          "base_uri": "https://localhost:8080/"
        },
        "outputId": "f8cee27b-7df7-4c1a-bc3a-56fb661a56ed"
      },
      "source": [
        "df.info()"
      ],
      "execution_count": 4,
      "outputs": [
        {
          "output_type": "stream",
          "text": [
            "<class 'pandas.core.frame.DataFrame'>\n",
            "RangeIndex: 197 entries, 0 to 196\n",
            "Data columns (total 11 columns):\n",
            " #   Column     Non-Null Count  Dtype         \n",
            "---  ------     --------------  -----         \n",
            " 0   Date       197 non-null    datetime64[ns]\n",
            " 1   Tweet_id   197 non-null    int64         \n",
            " 2   Verified   197 non-null    bool          \n",
            " 3   Tweet      197 non-null    object        \n",
            " 4   User       197 non-null    object        \n",
            " 5   Location   197 non-null    object        \n",
            " 6   Source     197 non-null    object        \n",
            " 7   Likes      197 non-null    int64         \n",
            " 8   Followers  197 non-null    int64         \n",
            " 9   Following  197 non-null    int64         \n",
            " 10  Retweets   197 non-null    int64         \n",
            "dtypes: bool(1), datetime64[ns](1), int64(5), object(4)\n",
            "memory usage: 15.7+ KB\n"
          ],
          "name": "stdout"
        }
      ]
    },
    {
      "cell_type": "code",
      "metadata": {
        "id": "Yz9Mr_5bU3wO",
        "colab": {
          "base_uri": "https://localhost:8080/"
        },
        "outputId": "9e3ab4cf-3dd3-41b6-afd5-4aec2e62b277"
      },
      "source": [
        "df.shape"
      ],
      "execution_count": 5,
      "outputs": [
        {
          "output_type": "execute_result",
          "data": {
            "text/plain": [
              "(197, 11)"
            ]
          },
          "metadata": {
            "tags": []
          },
          "execution_count": 5
        }
      ]
    },
    {
      "cell_type": "code",
      "metadata": {
        "id": "U2TqiSlvU5AL"
      },
      "source": [
        "df['Date'] = df['Date'].apply(lambda x: dt.datetime.strptime(str(x),'%Y-%m-%d %H:%M:%S')) #Convert to date time format"
      ],
      "execution_count": 6,
      "outputs": []
    },
    {
      "cell_type": "code",
      "metadata": {
        "id": "iALZ0QjFX6iW",
        "colab": {
          "base_uri": "https://localhost:8080/"
        },
        "outputId": "8649b8b3-cdb7-4eca-d63a-fb3ee58a6e69"
      },
      "source": [
        "df.dtypes"
      ],
      "execution_count": 7,
      "outputs": [
        {
          "output_type": "execute_result",
          "data": {
            "text/plain": [
              "Date         datetime64[ns]\n",
              "Tweet_id              int64\n",
              "Verified               bool\n",
              "Tweet                object\n",
              "User                 object\n",
              "Location             object\n",
              "Source               object\n",
              "Likes                 int64\n",
              "Followers             int64\n",
              "Following             int64\n",
              "Retweets              int64\n",
              "dtype: object"
            ]
          },
          "metadata": {
            "tags": []
          },
          "execution_count": 7
        }
      ]
    },
    {
      "cell_type": "code",
      "metadata": {
        "id": "QwBHDIQ7X-S-",
        "colab": {
          "base_uri": "https://localhost:8080/"
        },
        "outputId": "4ca93442-a817-48ed-c5f2-857ac8ef9d32"
      },
      "source": [
        "df.isnull().sum()"
      ],
      "execution_count": 8,
      "outputs": [
        {
          "output_type": "execute_result",
          "data": {
            "text/plain": [
              "Date         0\n",
              "Tweet_id     0\n",
              "Verified     0\n",
              "Tweet        0\n",
              "User         0\n",
              "Location     0\n",
              "Source       0\n",
              "Likes        0\n",
              "Followers    0\n",
              "Following    0\n",
              "Retweets     0\n",
              "dtype: int64"
            ]
          },
          "metadata": {
            "tags": []
          },
          "execution_count": 8
        }
      ]
    },
    {
      "cell_type": "code",
      "metadata": {
        "id": "PULuNP0EYKb8",
        "colab": {
          "base_uri": "https://localhost:8080/"
        },
        "outputId": "c940d209-eb33-455d-dff8-225f99a2b9ed"
      },
      "source": [
        "df['Source'].value_counts()"
      ],
      "execution_count": 9,
      "outputs": [
        {
          "output_type": "execute_result",
          "data": {
            "text/plain": [
              "Twitter for Android       92\n",
              "Twitter Web App           45\n",
              "Twitter for iPhone        35\n",
              "TweetDeck                  5\n",
              "cmssocialservice           4\n",
              "PB Update                  4\n",
              "econ b2b post              2\n",
              "IFTTT                      2\n",
              "Hocalwire Social Share     2\n",
              "tvpunjab                   1\n",
              "Devdiscourse News Desk     1\n",
              "NDTVfeed                   1\n",
              "Twitter for iPad           1\n",
              "namPublisher               1\n",
              "Hootsuite Inc.             1\n",
              "Name: Source, dtype: int64"
            ]
          },
          "metadata": {
            "tags": []
          },
          "execution_count": 9
        }
      ]
    },
    {
      "cell_type": "code",
      "metadata": {
        "id": "L0yluKAMYUhm",
        "colab": {
          "base_uri": "https://localhost:8080/"
        },
        "outputId": "bb21c187-05ba-40c6-c209-aa7d27f49fc8"
      },
      "source": [
        "df['Location'].nunique()"
      ],
      "execution_count": 10,
      "outputs": [
        {
          "output_type": "execute_result",
          "data": {
            "text/plain": [
              "70"
            ]
          },
          "metadata": {
            "tags": []
          },
          "execution_count": 10
        }
      ]
    },
    {
      "cell_type": "code",
      "metadata": {
        "id": "YaaScZPVYalK",
        "colab": {
          "base_uri": "https://localhost:8080/"
        },
        "outputId": "4ad290ce-7a40-4c95-afa4-2c98c59c4aa3"
      },
      "source": [
        "tweets_list = df['Tweet'].tolist()\n",
        "len(tweets_list)"
      ],
      "execution_count": 11,
      "outputs": [
        {
          "output_type": "execute_result",
          "data": {
            "text/plain": [
              "197"
            ]
          },
          "metadata": {
            "tags": []
          },
          "execution_count": 11
        }
      ]
    },
    {
      "cell_type": "code",
      "metadata": {
        "id": "ki_iXrJoYe8a",
        "colab": {
          "base_uri": "https://localhost:8080/"
        },
        "outputId": "95f47f58-86fd-4e26-ff83-dacb9bb1eeb3"
      },
      "source": [
        "tweets_list_updated = set(tweets_list)\n",
        "len(tweets_list_updated)\n"
      ],
      "execution_count": 12,
      "outputs": [
        {
          "output_type": "execute_result",
          "data": {
            "text/plain": [
              "196"
            ]
          },
          "metadata": {
            "tags": []
          },
          "execution_count": 12
        }
      ]
    },
    {
      "cell_type": "code",
      "metadata": {
        "id": "4UT1yjfTYiLB",
        "colab": {
          "base_uri": "https://localhost:8080/"
        },
        "outputId": "47275c75-399e-497a-d2f7-74af8d02eccb"
      },
      "source": [
        "tweets_list_updated  = list(tweets_list_updated)\n",
        "type(tweets_list_updated)"
      ],
      "execution_count": 13,
      "outputs": [
        {
          "output_type": "execute_result",
          "data": {
            "text/plain": [
              "list"
            ]
          },
          "metadata": {
            "tags": []
          },
          "execution_count": 13
        }
      ]
    },
    {
      "cell_type": "code",
      "metadata": {
        "id": "oOTJ2Z1IYl15",
        "colab": {
          "base_uri": "https://localhost:8080/"
        },
        "outputId": "f25c8e66-a1b8-4080-e40c-b8444cde8ded"
      },
      "source": [
        "df['Tweet'].duplicated().sum()"
      ],
      "execution_count": 14,
      "outputs": [
        {
          "output_type": "execute_result",
          "data": {
            "text/plain": [
              "1"
            ]
          },
          "metadata": {
            "tags": []
          },
          "execution_count": 14
        }
      ]
    },
    {
      "cell_type": "code",
      "metadata": {
        "id": "iboT9Z8nYts6",
        "colab": {
          "base_uri": "https://localhost:8080/"
        },
        "outputId": "2f88b394-93bd-42ed-9572-a54e7c34431d"
      },
      "source": [
        "df = df.drop_duplicates(subset = 'Tweet', keep = 'first',ignore_index = True)\n",
        "df.shape"
      ],
      "execution_count": 15,
      "outputs": [
        {
          "output_type": "execute_result",
          "data": {
            "text/plain": [
              "(196, 11)"
            ]
          },
          "metadata": {
            "tags": []
          },
          "execution_count": 15
        }
      ]
    },
    {
      "cell_type": "code",
      "metadata": {
        "id": "YtUW3NmsYw7L",
        "colab": {
          "base_uri": "https://localhost:8080/"
        },
        "outputId": "bfeda842-e2c2-40f2-a926-8a44340b14a7"
      },
      "source": [
        "df['Tweet'].duplicated().sum()"
      ],
      "execution_count": 16,
      "outputs": [
        {
          "output_type": "execute_result",
          "data": {
            "text/plain": [
              "0"
            ]
          },
          "metadata": {
            "tags": []
          },
          "execution_count": 16
        }
      ]
    },
    {
      "cell_type": "code",
      "metadata": {
        "id": "87iWarvlY1GV"
      },
      "source": [
        "def remove_emoji(tweet):\n",
        "    emoji_pattern = re.compile(\"[\"\n",
        "            u\"\\U0001F600-\\U0001F64F\"  # emoticons\n",
        "            u\"\\U0001F300-\\U0001F5FF\"  # symbols & pictographs\n",
        "            u\"\\U0001F680-\\U0001F6FF\"  # transport & map symbols\n",
        "            u\"\\U0001F1E0-\\U0001F1FF\"  # flags (iOS)\n",
        "                               \"]+\", flags=re.UNICODE)\n",
        "    return emoji_pattern.sub(r'', tweet)\n",
        "\n",
        "df['Processed_Tweet']=df.Tweet.apply(remove_emoji)"
      ],
      "execution_count": 17,
      "outputs": []
    },
    {
      "cell_type": "code",
      "metadata": {
        "id": "ufbUsSdyY8ZL",
        "colab": {
          "base_uri": "https://localhost:8080/"
        },
        "outputId": "57392d99-5e97-4dba-ebb5-50914ac2edc0"
      },
      "source": [
        "count=0\n",
        "for i in df['Processed_Tweet']:\n",
        "    if re.match(r'^RT', i):  #remove any rows that contain RT\n",
        "        df.drop(df.loc[df['Processed_Tweet']==i].index,inplace = True)\n",
        "        count+=1\n",
        "    \n",
        "count"
      ],
      "execution_count": 18,
      "outputs": [
        {
          "output_type": "execute_result",
          "data": {
            "text/plain": [
              "0"
            ]
          },
          "metadata": {
            "tags": []
          },
          "execution_count": 18
        }
      ]
    },
    {
      "cell_type": "code",
      "metadata": {
        "id": "5xlJXmV2ZBEw",
        "colab": {
          "base_uri": "https://localhost:8080/"
        },
        "outputId": "c4ced402-700d-4ac1-cd4b-e27a6743b227"
      },
      "source": [
        "df.shape"
      ],
      "execution_count": 19,
      "outputs": [
        {
          "output_type": "execute_result",
          "data": {
            "text/plain": [
              "(196, 12)"
            ]
          },
          "metadata": {
            "tags": []
          },
          "execution_count": 19
        }
      ]
    },
    {
      "cell_type": "code",
      "metadata": {
        "id": "8dR-gpRYZGhr",
        "colab": {
          "base_uri": "https://localhost:8080/"
        },
        "outputId": "a6a953d8-0779-4a33-f99f-ebd2aead6ff5"
      },
      "source": [
        "df['Processed_Tweet']"
      ],
      "execution_count": 20,
      "outputs": [
        {
          "output_type": "execute_result",
          "data": {
            "text/plain": [
              "0      @DaaruBaazMehta Encouraging. Congress maybe cl...\n",
              "1      @spiritneeraj @AnmolGaganMan Punjab AAP need t...\n",
              "2      MUST WATCH\\n\\nAAP Punjab MP @BhagwantMann Expo...\n",
              "3      Met many people on ground today 90% people tol...\n",
              "4      AAP Punjab youth wing president And MLA @meet_...\n",
              "                             ...                        \n",
              "191    @artijourno 1. If pollution isn’t good, go aft...\n",
              "192    @sidharth_shukla you are a player. Apko jab la...\n",
              "193    @Astute_Dopey @ng_p_f @TheMohil8 @ANI New part...\n",
              "194    @ng_p_f @TheMohil8 @ANI 2022 is crucial year. ...\n",
              "195    @ANI If its EVM then how did congress won in P...\n",
              "Name: Processed_Tweet, Length: 196, dtype: object"
            ]
          },
          "metadata": {
            "tags": []
          },
          "execution_count": 20
        }
      ]
    },
    {
      "cell_type": "code",
      "metadata": {
        "id": "K5CezelDZKDa",
        "colab": {
          "base_uri": "https://localhost:8080/"
        },
        "outputId": "96066554-91c0-4eeb-c875-ce62f2b3fd39"
      },
      "source": [
        "df['Processed_Tweet'] = [re.sub('^RT[\\s]','',i) for i in df['Processed_Tweet']]  #Remove RT substring\n",
        "df['Processed_Tweet']"
      ],
      "execution_count": 21,
      "outputs": [
        {
          "output_type": "execute_result",
          "data": {
            "text/plain": [
              "0      @DaaruBaazMehta Encouraging. Congress maybe cl...\n",
              "1      @spiritneeraj @AnmolGaganMan Punjab AAP need t...\n",
              "2      MUST WATCH\\n\\nAAP Punjab MP @BhagwantMann Expo...\n",
              "3      Met many people on ground today 90% people tol...\n",
              "4      AAP Punjab youth wing president And MLA @meet_...\n",
              "                             ...                        \n",
              "191    @artijourno 1. If pollution isn’t good, go aft...\n",
              "192    @sidharth_shukla you are a player. Apko jab la...\n",
              "193    @Astute_Dopey @ng_p_f @TheMohil8 @ANI New part...\n",
              "194    @ng_p_f @TheMohil8 @ANI 2022 is crucial year. ...\n",
              "195    @ANI If its EVM then how did congress won in P...\n",
              "Name: Processed_Tweet, Length: 196, dtype: object"
            ]
          },
          "metadata": {
            "tags": []
          },
          "execution_count": 21
        }
      ]
    },
    {
      "cell_type": "code",
      "metadata": {
        "id": "gjiyro27ZOx_",
        "colab": {
          "base_uri": "https://localhost:8080/"
        },
        "outputId": "98589516-d471-454e-b403-f138300a02a1"
      },
      "source": [
        "df['Processed_Tweet'] = [re.sub('@[^\\s]+', ' ', i) for i in df['Processed_Tweet']] #remove usernames\n",
        "df['Processed_Tweet']"
      ],
      "execution_count": 22,
      "outputs": [
        {
          "output_type": "execute_result",
          "data": {
            "text/plain": [
              "0        Encouraging. Congress maybe clueless ,but th...\n",
              "1          Punjab AAP need to develop more leaders, s...\n",
              "2      MUST WATCH\\n\\nAAP Punjab MP   Exposes BJP, SAD...\n",
              "3      Met many people on ground today 90% people tol...\n",
              "4      AAP Punjab youth wing president And MLA   ji o...\n",
              "                             ...                        \n",
              "191      1. If pollution isn’t good, go after things ...\n",
              "192      you are a player. Apko jab lagta h sidnaz en...\n",
              "193            New party h bhai...only formed in 2012...\n",
              "194          2022 is crucial year. \\n\\nIf AAP wins ut...\n",
              "195      If its EVM then how did congress won in Punj...\n",
              "Name: Processed_Tweet, Length: 196, dtype: object"
            ]
          },
          "metadata": {
            "tags": []
          },
          "execution_count": 22
        }
      ]
    },
    {
      "cell_type": "code",
      "metadata": {
        "id": "HedkRzD1ZS4Q",
        "colab": {
          "base_uri": "https://localhost:8080/"
        },
        "outputId": "eb2d5fc6-3572-4c9f-e61b-cf8bdc2cca0f"
      },
      "source": [
        "df['Processed_Tweet'] = [re.sub('((www\\.[^\\s]+)|(https?://[^\\s]+))', '', i) for i in df['Processed_Tweet']] #Remove urls\n",
        "df['Processed_Tweet']"
      ],
      "execution_count": 23,
      "outputs": [
        {
          "output_type": "execute_result",
          "data": {
            "text/plain": [
              "0        Encouraging. Congress maybe clueless ,but th...\n",
              "1          Punjab AAP need to develop more leaders, s...\n",
              "2      MUST WATCH\\n\\nAAP Punjab MP   Exposes BJP, SAD...\n",
              "3      Met many people on ground today 90% people tol...\n",
              "4      AAP Punjab youth wing president And MLA   ji o...\n",
              "                             ...                        \n",
              "191      1. If pollution isn’t good, go after things ...\n",
              "192      you are a player. Apko jab lagta h sidnaz en...\n",
              "193            New party h bhai...only formed in 2012...\n",
              "194          2022 is crucial year. \\n\\nIf AAP wins ut...\n",
              "195      If its EVM then how did congress won in Punj...\n",
              "Name: Processed_Tweet, Length: 196, dtype: object"
            ]
          },
          "metadata": {
            "tags": []
          },
          "execution_count": 23
        }
      ]
    },
    {
      "cell_type": "code",
      "metadata": {
        "id": "EmDOOVqcZXb0",
        "colab": {
          "base_uri": "https://localhost:8080/"
        },
        "outputId": "71522ec8-a6cf-49e5-9558-64c3c4b44e41"
      },
      "source": [
        "df['Processed_Tweet'] = [re.sub(r'#([^\\s]+)', r'\\1', i) for i in df['Processed_Tweet']] # remove the # in #hashtag\n",
        "df['Processed_Tweet']"
      ],
      "execution_count": 24,
      "outputs": [
        {
          "output_type": "execute_result",
          "data": {
            "text/plain": [
              "0        Encouraging. Congress maybe clueless ,but th...\n",
              "1          Punjab AAP need to develop more leaders, s...\n",
              "2      MUST WATCH\\n\\nAAP Punjab MP   Exposes BJP, SAD...\n",
              "3      Met many people on ground today 90% people tol...\n",
              "4      AAP Punjab youth wing president And MLA   ji o...\n",
              "                             ...                        \n",
              "191      1. If pollution isn’t good, go after things ...\n",
              "192      you are a player. Apko jab lagta h sidnaz en...\n",
              "193            New party h bhai...only formed in 2012...\n",
              "194          2022 is crucial year. \\n\\nIf AAP wins ut...\n",
              "195      If its EVM then how did congress won in Punj...\n",
              "Name: Processed_Tweet, Length: 196, dtype: object"
            ]
          },
          "metadata": {
            "tags": []
          },
          "execution_count": 24
        }
      ]
    },
    {
      "cell_type": "code",
      "metadata": {
        "id": "GSXJD-U6ZhW1",
        "colab": {
          "base_uri": "https://localhost:8080/"
        },
        "outputId": "1420674a-bde4-48bf-8b4d-21865e6c3d72"
      },
      "source": [
        "!pip install tweet-preprocessor"
      ],
      "execution_count": 25,
      "outputs": [
        {
          "output_type": "stream",
          "text": [
            "Collecting tweet-preprocessor\n",
            "  Downloading https://files.pythonhosted.org/packages/17/9d/71bd016a9edcef8860c607e531f30bd09b13103c7951ae73dd2bf174163c/tweet_preprocessor-0.6.0-py3-none-any.whl\n",
            "Installing collected packages: tweet-preprocessor\n",
            "Successfully installed tweet-preprocessor-0.6.0\n"
          ],
          "name": "stdout"
        }
      ]
    },
    {
      "cell_type": "code",
      "metadata": {
        "id": "S-GqeFH8ZcYI",
        "colab": {
          "base_uri": "https://localhost:8080/"
        },
        "outputId": "fd09b2cc-5bbe-47b4-fec0-f8b47fd30d13"
      },
      "source": [
        "import preprocessor as p #Module for faster preprocessing specifically for tweets\n",
        "df['Processed_Tweet'] = [p.clean(i) for i in df['Processed_Tweet']]\n",
        "df['Processed_Tweet']"
      ],
      "execution_count": 26,
      "outputs": [
        {
          "output_type": "execute_result",
          "data": {
            "text/plain": [
              "0      Encouraging. Congress maybe clueless ,but they...\n",
              "1      Punjab AAP need to develop more leaders, shoul...\n",
              "2      MUST WATCHAAP Punjab MP Exposes BJP, SAD and C...\n",
              "3      Met many people on ground today % people told ...\n",
              "4      AAP Punjab youth wing president And MLA ji on ...\n",
              "                             ...                        \n",
              "191    . If pollution isnt good, go after things that...\n",
              "192    you are a player. Apko jab lagta h sidnaz enga...\n",
              "193    New party h bhai...only formed in -13Chunav la...\n",
              "194    is crucial year. If AAP wins uttarakhand, Goa ...\n",
              "195    If its EVM then how did congress won in Punjab...\n",
              "Name: Processed_Tweet, Length: 196, dtype: object"
            ]
          },
          "metadata": {
            "tags": []
          },
          "execution_count": 26
        }
      ]
    },
    {
      "cell_type": "code",
      "metadata": {
        "id": "T0_7jWfXZo2E",
        "colab": {
          "base_uri": "https://localhost:8080/"
        },
        "outputId": "6387ce0a-5f78-4f65-f746-9e8fa17f13c6"
      },
      "source": [
        "#removing unnecessary special characters, numbers, punctuations in tweets\n",
        "df.Processed_Tweet = df.Processed_Tweet.str.replace(\"[^a-zA-Z]\", \" \")\n",
        "df[\"Processed_Tweet\"]"
      ],
      "execution_count": 27,
      "outputs": [
        {
          "output_type": "execute_result",
          "data": {
            "text/plain": [
              "0      Encouraging  Congress maybe clueless  but they...\n",
              "1      Punjab AAP need to develop more leaders  shoul...\n",
              "2      MUST WATCHAAP Punjab MP Exposes BJP  SAD and C...\n",
              "3      Met many people on ground today   people told ...\n",
              "4      AAP Punjab youth wing president And MLA ji on ...\n",
              "                             ...                        \n",
              "191      If pollution isnt good  go after things that...\n",
              "192    you are a player  Apko jab lagta h sidnaz enga...\n",
              "193    New party h bhai   only formed in    Chunav la...\n",
              "194    is crucial year  If AAP wins uttarakhand  Goa ...\n",
              "195    If its EVM then how did congress won in Punjab...\n",
              "Name: Processed_Tweet, Length: 196, dtype: object"
            ]
          },
          "metadata": {
            "tags": []
          },
          "execution_count": 27
        }
      ]
    },
    {
      "cell_type": "code",
      "metadata": {
        "id": "3rQeZOTCZsd7",
        "colab": {
          "base_uri": "https://localhost:8080/"
        },
        "outputId": "fa8c2e67-1251-4853-8406-4274a53e9506"
      },
      "source": [
        "df.Processed_Tweet = [low.lower() for low in df.Processed_Tweet] #Converting into lower case\n",
        "df[\"Processed_Tweet\"]"
      ],
      "execution_count": 28,
      "outputs": [
        {
          "output_type": "execute_result",
          "data": {
            "text/plain": [
              "0      encouraging  congress maybe clueless  but they...\n",
              "1      punjab aap need to develop more leaders  shoul...\n",
              "2      must watchaap punjab mp exposes bjp  sad and c...\n",
              "3      met many people on ground today   people told ...\n",
              "4      aap punjab youth wing president and mla ji on ...\n",
              "                             ...                        \n",
              "191      if pollution isnt good  go after things that...\n",
              "192    you are a player  apko jab lagta h sidnaz enga...\n",
              "193    new party h bhai   only formed in    chunav la...\n",
              "194    is crucial year  if aap wins uttarakhand  goa ...\n",
              "195    if its evm then how did congress won in punjab...\n",
              "Name: Processed_Tweet, Length: 196, dtype: object"
            ]
          },
          "metadata": {
            "tags": []
          },
          "execution_count": 28
        }
      ]
    },
    {
      "cell_type": "code",
      "metadata": {
        "id": "D1caun-KZxeX",
        "colab": {
          "base_uri": "https://localhost:8080/",
          "height": 52
        },
        "outputId": "ba6ead42-b409-47cc-ba98-27a21be3ab14"
      },
      "source": [
        "df.Processed_Tweet =  df.Processed_Tweet.str.replace(\"amp\", \"\")\n",
        "df['Processed_Tweet'][12] #Sample tweet"
      ],
      "execution_count": 29,
      "outputs": [
        {
          "output_type": "execute_result",
          "data": {
            "application/vnd.google.colaboratory.intrinsic+json": {
              "type": "string"
            },
            "text/plain": [
              "'aap expands its structural base in punjab  appoints block presidents in districts punjabinews tvpunjab   '"
            ]
          },
          "metadata": {
            "tags": []
          },
          "execution_count": 29
        }
      ]
    },
    {
      "cell_type": "code",
      "metadata": {
        "id": "AQ7xfpqOZ7gx",
        "colab": {
          "base_uri": "https://localhost:8080/"
        },
        "outputId": "fc0401e8-dd71-4673-cbc3-17648d9131b1"
      },
      "source": [
        "df['User'].value_counts()"
      ],
      "execution_count": 30,
      "outputs": [
        {
          "output_type": "execute_result",
          "data": {
            "text/plain": [
              "Gurdeepgurus       6\n",
              "Punjabupdate       4\n",
              "vineeta0202        4\n",
              "DaaruBaazMehta     3\n",
              "thetribunechd      3\n",
              "                  ..\n",
              "gunjan_anurag      1\n",
              "Prof_Sevak         1\n",
              "byraghavk          1\n",
              "Maheshjoshi0123    1\n",
              "Radhika_Khera      1\n",
              "Name: User, Length: 162, dtype: int64"
            ]
          },
          "metadata": {
            "tags": []
          },
          "execution_count": 30
        }
      ]
    },
    {
      "cell_type": "code",
      "metadata": {
        "id": "WX3ijK3eZ9CL",
        "colab": {
          "base_uri": "https://localhost:8080/"
        },
        "outputId": "37695b68-7194-4e38-cb9f-72ca127d219e"
      },
      "source": [
        "df.query('User == \"jacketrose86\"').Processed_Tweet.tolist()"
      ],
      "execution_count": 31,
      "outputs": [
        {
          "output_type": "execute_result",
          "data": {
            "text/plain": [
              "[]"
            ]
          },
          "metadata": {
            "tags": []
          },
          "execution_count": 31
        }
      ]
    },
    {
      "cell_type": "code",
      "metadata": {
        "id": "ZSs-7eHlZ9F5",
        "colab": {
          "base_uri": "https://localhost:8080/",
          "height": 333
        },
        "outputId": "c20f82b7-35ce-4a33-e25a-f480ce106358"
      },
      "source": [
        "bar = sns.countplot(df['Verified'])"
      ],
      "execution_count": 32,
      "outputs": [
        {
          "output_type": "stream",
          "text": [
            "/usr/local/lib/python3.6/dist-packages/seaborn/_decorators.py:43: FutureWarning: Pass the following variable as a keyword arg: x. From version 0.12, the only valid positional argument will be `data`, and passing other arguments without an explicit keyword will result in an error or misinterpretation.\n",
            "  FutureWarning\n"
          ],
          "name": "stderr"
        },
        {
          "output_type": "display_data",
          "data": {
            "image/png": "[encoded data removed]",
            "text/plain": [
              "<Figure size 432x288 with 1 Axes>"
            ]
          },
          "metadata": {
            "tags": [],
            "needs_background": "light"
          }
        }
      ]
    },
    {
      "cell_type": "code",
      "metadata": {
        "id": "48YKJISOZ9Jm",
        "colab": {
          "base_uri": "https://localhost:8080/"
        },
        "outputId": "da32c25c-76fa-448c-947b-ad271fca8aa0"
      },
      "source": [
        "df['Verified'].value_counts()"
      ],
      "execution_count": 33,
      "outputs": [
        {
          "output_type": "execute_result",
          "data": {
            "text/plain": [
              "False    179\n",
              "True      17\n",
              "Name: Verified, dtype: int64"
            ]
          },
          "metadata": {
            "tags": []
          },
          "execution_count": 33
        }
      ]
    },
    {
      "cell_type": "code",
      "metadata": {
        "id": "qBweECkIZ9Ng",
        "colab": {
          "base_uri": "https://localhost:8080/"
        },
        "outputId": "12fd6bd2-371a-4584-80e2-4d4491295a3b"
      },
      "source": [
        "df_verified = df.query('Verified == True')\n",
        "df_verified['User'].value_counts()"
      ],
      "execution_count": 34,
      "outputs": [
        {
          "output_type": "execute_result",
          "data": {
            "text/plain": [
              "thetribunechd      3\n",
              "SwarajyaMag        2\n",
              "TOIDelhi           2\n",
              "TOICitiesNews      2\n",
              "AAPInNews          1\n",
              "ThePrintIndia      1\n",
              "TimesNow           1\n",
              "ndtv               1\n",
              "ndtvfeed           1\n",
              "Radhika_Khera      1\n",
              "ETEnergyWorld      1\n",
              "VijayIndrSingla    1\n",
              "Name: User, dtype: int64"
            ]
          },
          "metadata": {
            "tags": []
          },
          "execution_count": 34
        }
      ]
    },
    {
      "cell_type": "code",
      "metadata": {
        "id": "zNnEjVTuZ9Ue",
        "colab": {
          "base_uri": "https://localhost:8080/"
        },
        "outputId": "b52df1a9-e96a-41a2-ca4b-81f09cad8145"
      },
      "source": [
        "days = df['Date'].dt.day.tolist()\n",
        "no_of_days = Counter(days)\n",
        "no_of_days"
      ],
      "execution_count": 35,
      "outputs": [
        {
          "output_type": "execute_result",
          "data": {
            "text/plain": [
              "Counter({15: 9, 16: 26, 17: 39, 18: 46, 19: 25, 20: 26, 21: 25})"
            ]
          },
          "metadata": {
            "tags": []
          },
          "execution_count": 35
        }
      ]
    },
    {
      "cell_type": "code",
      "metadata": {
        "id": "mzu51x0fZ9X4",
        "colab": {
          "base_uri": "https://localhost:8080/",
          "height": 347
        },
        "outputId": "7da7306a-1b0e-4141-d403-61b8d7a739f6"
      },
      "source": [
        "fig = plt.figure(figsize = (15,7))\n",
        "plt.bar(range(len(no_of_days)), list(no_of_days.values()), align='center', alpha = 0.5,color = 'red')\n",
        "plt.xticks(range(len(no_of_days)), list(no_of_days.keys()))\n",
        "plt.xlabel(\"Day\")\n",
        "plt.ylabel(\"Count Of Tweets\")\n",
        "plt.title(\"Count Of Extracted Tweets On Each Day\")"
      ],
      "execution_count": 36,
      "outputs": [
        {
          "output_type": "execute_result",
          "data": {
            "text/plain": [
              "Text(0.5, 1.0, 'Count Of Extracted Tweets On Each Day')"
            ]
          },
          "metadata": {
            "tags": []
          },
          "execution_count": 36
        },
        {
          "output_type": "display_data",
          "data": {
            "image/png": "[encoded data removed]",
            "text/plain": [
              "<Figure size 1080x504 with 1 Axes>"
            ]
          },
          "metadata": {
            "tags": [],
            "needs_background": "light"
          }
        }
      ]
    },
    {
      "cell_type": "code",
      "metadata": {
        "id": "Qk4k7vt2Z9cE",
        "colab": {
          "base_uri": "https://localhost:8080/"
        },
        "outputId": "e7d54318-cf8f-4446-a150-d3b666a404c9"
      },
      "source": [
        "hours = df['Date'].dt.hour.tolist()\n",
        "no_of_hours = Counter(hours)\n",
        "no_of_hours"
      ],
      "execution_count": 37,
      "outputs": [
        {
          "output_type": "execute_result",
          "data": {
            "text/plain": [
              "Counter({0: 4,\n",
              "         1: 6,\n",
              "         2: 3,\n",
              "         3: 2,\n",
              "         4: 8,\n",
              "         5: 8,\n",
              "         6: 5,\n",
              "         7: 7,\n",
              "         8: 13,\n",
              "         9: 14,\n",
              "         10: 7,\n",
              "         11: 11,\n",
              "         12: 9,\n",
              "         13: 13,\n",
              "         14: 21,\n",
              "         15: 18,\n",
              "         16: 17,\n",
              "         17: 8,\n",
              "         18: 7,\n",
              "         19: 5,\n",
              "         20: 1,\n",
              "         21: 3,\n",
              "         22: 2,\n",
              "         23: 4})"
            ]
          },
          "metadata": {
            "tags": []
          },
          "execution_count": 37
        }
      ]
    },
    {
      "cell_type": "code",
      "metadata": {
        "id": "FnldeKsyZ9fF",
        "colab": {
          "base_uri": "https://localhost:8080/",
          "height": 382
        },
        "outputId": "9de6949e-4b7c-4c5f-b29e-6401f9cafd07"
      },
      "source": [
        "fig = plt.figure(figsize = (15,8))\n",
        "plt.bar(range(len(no_of_hours)), list(no_of_hours.values()), align='center', alpha = 0.5,color = 'red')\n",
        "plt.xticks(range(len(no_of_hours)), list(no_of_hours.keys()))\n",
        "plt.xlabel(\"Hour\")\n",
        "plt.ylabel(\"Count Of Tweets\")\n",
        "plt.title(\"Count Of Extracted Tweets On Each Hour\")"
      ],
      "execution_count": 38,
      "outputs": [
        {
          "output_type": "execute_result",
          "data": {
            "text/plain": [
              "Text(0.5, 1.0, 'Count Of Extracted Tweets On Each Hour')"
            ]
          },
          "metadata": {
            "tags": []
          },
          "execution_count": 38
        },
        {
          "output_type": "display_data",
          "data": {
            "image/png": "[encoded data removed]",
            "text/plain": [
              "<Figure size 1080x576 with 1 Axes>"
            ]
          },
          "metadata": {
            "tags": [],
            "needs_background": "light"
          }
        }
      ]
    },
    {
      "cell_type": "code",
      "metadata": {
        "id": "v2uHncb_Z9ie"
      },
      "source": [
        "from wordcloud import WordCloud\n",
        "tokenizer = TweetTokenizer()"
      ],
      "execution_count": 39,
      "outputs": []
    },
    {
      "cell_type": "code",
      "metadata": {
        "id": "ti_i96jza3EY",
        "colab": {
          "base_uri": "https://localhost:8080/"
        },
        "outputId": "498d1ed7-7fdd-4a59-8652-63efd4bf6635"
      },
      "source": [
        "import nltk\n",
        "nltk.download('stopwords')"
      ],
      "execution_count": 40,
      "outputs": [
        {
          "output_type": "stream",
          "text": [
            "[nltk_data] Downloading package stopwords to /root/nltk_data...\n",
            "[nltk_data]   Unzipping corpora/stopwords.zip.\n"
          ],
          "name": "stdout"
        },
        {
          "output_type": "execute_result",
          "data": {
            "text/plain": [
              "True"
            ]
          },
          "metadata": {
            "tags": []
          },
          "execution_count": 40
        }
      ]
    },
    {
      "cell_type": "code",
      "metadata": {
        "id": "ryhZIIElZ9lx",
        "colab": {
          "base_uri": "https://localhost:8080/"
        },
        "outputId": "bbf59036-66d4-4024-e677-e4ebbf213415"
      },
      "source": [
        "stop_words = set(stopwords.words('english')) \n",
        "stop_words = list(stop_words)\n",
        "print(stop_words)"
      ],
      "execution_count": 41,
      "outputs": [
        {
          "output_type": "stream",
          "text": [
            "['again', \"aren't\", 'why', 'ours', 'or', 'did', 'how', 'has', 'are', 'ourselves', \"don't\", 'no', 'will', \"she's\", 'who', 'what', 'while', 'myself', 'hadn', 'doesn', 'nor', 'under', \"should've\", 'below', 'weren', 'in', 'having', 'shan', 'aren', 'being', 'than', 'own', \"that'll\", 'above', \"couldn't\", 'shouldn', 'won', 'him', 'does', 'herself', 'same', 'ma', 'needn', 'his', 'is', \"won't\", 'm', \"wouldn't\", 'my', \"weren't\", \"haven't\", 'the', 'over', 'for', 'those', 'here', 'on', 'he', 'hasn', 'where', 'both', 'at', \"you're\", 'into', 'about', 've', 'themselves', 'then', 're', 'do', \"mustn't\", 'during', 'any', \"hasn't\", 'off', 'ain', 'if', 'and', \"doesn't\", 's', 'that', 'as', 'against', 'have', 'me', 'up', 'after', 'from', 'because', 'a', 'doing', 'yourself', \"you'll\", 'itself', 'our', 'their', 'when', 'y', 'few', 'am', 'himself', 'can', 'its', 'there', 'didn', 'not', 'we', 'you', 'such', \"didn't\", 'mightn', 'which', 'yours', 'it', \"you've\", 'too', 'should', 'this', 'whom', 'her', 'these', 'll', 'until', 'very', 't', 'now', 'wouldn', 'only', 'some', 'd', 'so', 'out', 'further', \"shouldn't\", 'an', 'o', 'isn', 'between', 'other', 'they', 'most', \"hadn't\", 'couldn', 'don', 'hers', 'she', 'haven', 'with', 'your', 'once', 'theirs', 'more', \"shan't\", \"wasn't\", \"mightn't\", 'to', \"needn't\", 'was', 'wasn', 'i', 'before', 'been', 'down', 'but', 'had', \"isn't\", 'yourselves', 'mustn', 'them', 'by', 'of', 'each', 'just', \"you'd\", 'all', 'be', 'were', \"it's\", 'through']\n"
          ],
          "name": "stdout"
        }
      ]
    },
    {
      "cell_type": "code",
      "metadata": {
        "id": "xTHMe2yTZ9pF",
        "colab": {
          "base_uri": "https://localhost:8080/"
        },
        "outputId": "6f204728-b8b3-4606-cf57-2319aca04593"
      },
      "source": [
        "df['Processed_Tweet'] = df.Processed_Tweet.apply(lambda x: ' '.join(w for w in x.split() if w not in stop_words))   #Remove stopwords\n",
        "df['Processed_Tweet']"
      ],
      "execution_count": 42,
      "outputs": [
        {
          "output_type": "execute_result",
          "data": {
            "text/plain": [
              "0      encouraging congress maybe clueless try hard b...\n",
              "1      punjab aap need develop leaders create healthy...\n",
              "2      must watchaap punjab mp exposes bjp sad congre...\n",
              "3      met many people ground today people told one t...\n",
              "4      aap punjab youth wing president mla ji corrupt...\n",
              "                             ...                        \n",
              "191    pollution isnt good go things actually pollute...\n",
              "192    player apko jab lagta h sidnaz engagement kam ...\n",
              "193    new party h bhai formed chunav ladne jeetne k ...\n",
              "194    crucial year aap wins uttarakhand goa punjab a...\n",
              "195             evm congress punjab maharastra aap delhi\n",
              "Name: Processed_Tweet, Length: 196, dtype: object"
            ]
          },
          "metadata": {
            "tags": []
          },
          "execution_count": 42
        }
      ]
    },
    {
      "cell_type": "code",
      "metadata": {
        "id": "W41lIuhjZ9su",
        "colab": {
          "base_uri": "https://localhost:8080/"
        },
        "outputId": "f9886a42-2e1b-4526-9808-1f110df239bc"
      },
      "source": [
        "df['Processed_Tweet'] = df['Processed_Tweet'].apply(lambda x: tokenizer.tokenize(x))\n",
        "df['Processed_Tweet']"
      ],
      "execution_count": 43,
      "outputs": [
        {
          "output_type": "execute_result",
          "data": {
            "text/plain": [
              "0      [encouraging, congress, maybe, clueless, try, ...\n",
              "1      [punjab, aap, need, develop, leaders, create, ...\n",
              "2      [must, watchaap, punjab, mp, exposes, bjp, sad...\n",
              "3      [met, many, people, ground, today, people, tol...\n",
              "4      [aap, punjab, youth, wing, president, mla, ji,...\n",
              "                             ...                        \n",
              "191    [pollution, isnt, good, go, things, actually, ...\n",
              "192    [player, apko, jab, lagta, h, sidnaz, engageme...\n",
              "193    [new, party, h, bhai, formed, chunav, ladne, j...\n",
              "194    [crucial, year, aap, wins, uttarakhand, goa, p...\n",
              "195      [evm, congress, punjab, maharastra, aap, delhi]\n",
              "Name: Processed_Tweet, Length: 196, dtype: object"
            ]
          },
          "metadata": {
            "tags": []
          },
          "execution_count": 43
        }
      ]
    },
    {
      "cell_type": "code",
      "metadata": {
        "id": "U1iyBPUlZ9wE",
        "colab": {
          "base_uri": "https://localhost:8080/"
        },
        "outputId": "2f4e0260-5c64-451d-ad79-63fc253d82d7"
      },
      "source": [
        "def lemmatize_stemming(text):\n",
        "    stemmer=PorterStemmer()\n",
        "    return stemmer.stem(text)\n",
        "df['Processed_Tweet'] = df['Processed_Tweet'].apply(lambda x: [lemmatize_stemming(i) for i in x]) # stemming\n",
        "df['Processed_Tweet']"
      ],
      "execution_count": 44,
      "outputs": [
        {
          "output_type": "execute_result",
          "data": {
            "text/plain": [
              "0      [encourag, congress, mayb, clueless, tri, hard...\n",
              "1      [punjab, aap, need, develop, leader, creat, he...\n",
              "2      [must, watchaap, punjab, mp, expos, bjp, sad, ...\n",
              "3      [met, mani, peopl, ground, today, peopl, told,...\n",
              "4      [aap, punjab, youth, wing, presid, mla, ji, co...\n",
              "                             ...                        \n",
              "191    [pollut, isnt, good, go, thing, actual, pollut...\n",
              "192    [player, apko, jab, lagta, h, sidnaz, engag, k...\n",
              "193    [new, parti, h, bhai, form, chunav, ladn, jeet...\n",
              "194    [crucial, year, aap, win, uttarakhand, goa, pu...\n",
              "195      [evm, congress, punjab, maharastra, aap, delhi]\n",
              "Name: Processed_Tweet, Length: 196, dtype: object"
            ]
          },
          "metadata": {
            "tags": []
          },
          "execution_count": 44
        }
      ]
    },
    {
      "cell_type": "code",
      "metadata": {
        "id": "wLB1SjaLZ9zx",
        "colab": {
          "base_uri": "https://localhost:8080/",
          "height": 915
        },
        "outputId": "d21ffed3-fd94-4bc9-8b65-3297505455e3"
      },
      "source": [
        "\n",
        "df['Processed_Tweet'] = df.Processed_Tweet.apply(lambda x: [i for i in x if len(i)>2])\n",
        "df"
      ],
      "execution_count": 45,
      "outputs": [
        {
          "output_type": "execute_result",
          "data": {
            "text/html": [
              "<div>\n",
              "<style scoped>\n",
              "    .dataframe tbody tr th:only-of-type {\n",
              "        vertical-align: middle;\n",
              "    }\n",
              "\n",
              "    .dataframe tbody tr th {\n",
              "        vertical-align: top;\n",
              "    }\n",
              "\n",
              "    .dataframe thead th {\n",
              "        text-align: right;\n",
              "    }\n",
              "</style>\n",
              "<table border=\"1\" class=\"dataframe\">\n",
              "  <thead>\n",
              "    <tr style=\"text-align: right;\">\n",
              "      <th></th>\n",
              "      <th>Date</th>\n",
              "      <th>Tweet_id</th>\n",
              "      <th>Verified</th>\n",
              "      <th>Tweet</th>\n",
              "      <th>User</th>\n",
              "      <th>Location</th>\n",
              "      <th>Source</th>\n",
              "      <th>Likes</th>\n",
              "      <th>Followers</th>\n",
              "      <th>Following</th>\n",
              "      <th>Retweets</th>\n",
              "      <th>Processed_Tweet</th>\n",
              "    </tr>\n",
              "  </thead>\n",
              "  <tbody>\n",
              "    <tr>\n",
              "      <th>0</th>\n",
              "      <td>2020-11-21 17:33:51</td>\n",
              "      <td>1330202780590628864</td>\n",
              "      <td>False</td>\n",
              "      <td>@DaaruBaazMehta Encouraging. Congress maybe cl...</td>\n",
              "      <td>AamIndian_1</td>\n",
              "      <td></td>\n",
              "      <td>Twitter for Android</td>\n",
              "      <td>2</td>\n",
              "      <td>1520</td>\n",
              "      <td>1133</td>\n",
              "      <td>1</td>\n",
              "      <td>[encourag, congress, mayb, clueless, tri, hard...</td>\n",
              "    </tr>\n",
              "    <tr>\n",
              "      <th>1</th>\n",
              "      <td>2020-11-21 16:15:20</td>\n",
              "      <td>1330183020658249730</td>\n",
              "      <td>False</td>\n",
              "      <td>@spiritneeraj @AnmolGaganMan Punjab AAP need t...</td>\n",
              "      <td>Gurwinderr1983</td>\n",
              "      <td></td>\n",
              "      <td>Twitter for Android</td>\n",
              "      <td>0</td>\n",
              "      <td>349</td>\n",
              "      <td>853</td>\n",
              "      <td>0</td>\n",
              "      <td>[punjab, aap, need, develop, leader, creat, he...</td>\n",
              "    </tr>\n",
              "    <tr>\n",
              "      <th>2</th>\n",
              "      <td>2020-11-21 16:11:07</td>\n",
              "      <td>1330181958211670017</td>\n",
              "      <td>False</td>\n",
              "      <td>MUST WATCH\\n\\nAAP Punjab MP @BhagwantMann Expo...</td>\n",
              "      <td>AapActive123</td>\n",
              "      <td>Dilshad Garden, New Delhi</td>\n",
              "      <td>Twitter for Android</td>\n",
              "      <td>0</td>\n",
              "      <td>1888</td>\n",
              "      <td>370</td>\n",
              "      <td>0</td>\n",
              "      <td>[must, watchaap, punjab, expos, bjp, sad, cong...</td>\n",
              "    </tr>\n",
              "    <tr>\n",
              "      <th>3</th>\n",
              "      <td>2020-11-21 15:59:52</td>\n",
              "      <td>1330179129233334273</td>\n",
              "      <td>False</td>\n",
              "      <td>Met many people on ground today 90% people tol...</td>\n",
              "      <td>Aditya37020727</td>\n",
              "      <td></td>\n",
              "      <td>Twitter Web App</td>\n",
              "      <td>39</td>\n",
              "      <td>72</td>\n",
              "      <td>15</td>\n",
              "      <td>14</td>\n",
              "      <td>[met, mani, peopl, ground, today, peopl, told,...</td>\n",
              "    </tr>\n",
              "    <tr>\n",
              "      <th>4</th>\n",
              "      <td>2020-11-21 15:45:41</td>\n",
              "      <td>1330175558022520839</td>\n",
              "      <td>False</td>\n",
              "      <td>AAP Punjab youth wing president And MLA @meet_...</td>\n",
              "      <td>Gurdeepgurus</td>\n",
              "      <td></td>\n",
              "      <td>Twitter for Android</td>\n",
              "      <td>42</td>\n",
              "      <td>1052</td>\n",
              "      <td>480</td>\n",
              "      <td>20</td>\n",
              "      <td>[aap, punjab, youth, wing, presid, mla, corrup...</td>\n",
              "    </tr>\n",
              "    <tr>\n",
              "      <th>...</th>\n",
              "      <td>...</td>\n",
              "      <td>...</td>\n",
              "      <td>...</td>\n",
              "      <td>...</td>\n",
              "      <td>...</td>\n",
              "      <td>...</td>\n",
              "      <td>...</td>\n",
              "      <td>...</td>\n",
              "      <td>...</td>\n",
              "      <td>...</td>\n",
              "      <td>...</td>\n",
              "      <td>...</td>\n",
              "    </tr>\n",
              "    <tr>\n",
              "      <th>191</th>\n",
              "      <td>2020-11-15 14:52:00</td>\n",
              "      <td>1327987723106349056</td>\n",
              "      <td>False</td>\n",
              "      <td>@artijourno 1. If pollution isn’t good, go aft...</td>\n",
              "      <td>Doubledecacorn</td>\n",
              "      <td>🐅🐘🦁</td>\n",
              "      <td>Twitter Web App</td>\n",
              "      <td>0</td>\n",
              "      <td>587</td>\n",
              "      <td>1033</td>\n",
              "      <td>0</td>\n",
              "      <td>[pollut, isnt, good, thing, actual, pollut, le...</td>\n",
              "    </tr>\n",
              "    <tr>\n",
              "      <th>192</th>\n",
              "      <td>2020-11-15 14:49:39</td>\n",
              "      <td>1327987130677690370</td>\n",
              "      <td>False</td>\n",
              "      <td>@sidharth_shukla you are a player. Apko jab la...</td>\n",
              "      <td>Reva67229646</td>\n",
              "      <td></td>\n",
              "      <td>Twitter Web App</td>\n",
              "      <td>1</td>\n",
              "      <td>0</td>\n",
              "      <td>1</td>\n",
              "      <td>0</td>\n",
              "      <td>[player, apko, jab, lagta, sidnaz, engag, kam,...</td>\n",
              "    </tr>\n",
              "    <tr>\n",
              "      <th>193</th>\n",
              "      <td>2020-11-15 14:35:13</td>\n",
              "      <td>1327983499354066944</td>\n",
              "      <td>False</td>\n",
              "      <td>@Astute_Dopey @ng_p_f @TheMohil8 @ANI New part...</td>\n",
              "      <td>Honestpoliticss</td>\n",
              "      <td></td>\n",
              "      <td>Twitter Web App</td>\n",
              "      <td>0</td>\n",
              "      <td>10</td>\n",
              "      <td>27</td>\n",
              "      <td>0</td>\n",
              "      <td>[new, parti, bhai, form, chunav, ladn, jeetn, ...</td>\n",
              "    </tr>\n",
              "    <tr>\n",
              "      <th>194</th>\n",
              "      <td>2020-11-15 14:18:06</td>\n",
              "      <td>1327979191183110145</td>\n",
              "      <td>False</td>\n",
              "      <td>@ng_p_f @TheMohil8 @ANI 2022 is crucial year. ...</td>\n",
              "      <td>Honestpoliticss</td>\n",
              "      <td></td>\n",
              "      <td>Twitter Web App</td>\n",
              "      <td>0</td>\n",
              "      <td>10</td>\n",
              "      <td>27</td>\n",
              "      <td>0</td>\n",
              "      <td>[crucial, year, aap, win, uttarakhand, goa, pu...</td>\n",
              "    </tr>\n",
              "    <tr>\n",
              "      <th>195</th>\n",
              "      <td>2020-11-15 14:06:52</td>\n",
              "      <td>1327976364222205952</td>\n",
              "      <td>False</td>\n",
              "      <td>@ANI If its EVM then how did congress won in P...</td>\n",
              "      <td>iamGAK4</td>\n",
              "      <td>Mumbai, India</td>\n",
              "      <td>Twitter for iPhone</td>\n",
              "      <td>0</td>\n",
              "      <td>114</td>\n",
              "      <td>153</td>\n",
              "      <td>0</td>\n",
              "      <td>[evm, congress, punjab, maharastra, aap, delhi]</td>\n",
              "    </tr>\n",
              "  </tbody>\n",
              "</table>\n",
              "<p>196 rows × 12 columns</p>\n",
              "</div>"
            ],
            "text/plain": [
              "                   Date  ...                                    Processed_Tweet\n",
              "0   2020-11-21 17:33:51  ...  [encourag, congress, mayb, clueless, tri, hard...\n",
              "1   2020-11-21 16:15:20  ...  [punjab, aap, need, develop, leader, creat, he...\n",
              "2   2020-11-21 16:11:07  ...  [must, watchaap, punjab, expos, bjp, sad, cong...\n",
              "3   2020-11-21 15:59:52  ...  [met, mani, peopl, ground, today, peopl, told,...\n",
              "4   2020-11-21 15:45:41  ...  [aap, punjab, youth, wing, presid, mla, corrup...\n",
              "..                  ...  ...                                                ...\n",
              "191 2020-11-15 14:52:00  ...  [pollut, isnt, good, thing, actual, pollut, le...\n",
              "192 2020-11-15 14:49:39  ...  [player, apko, jab, lagta, sidnaz, engag, kam,...\n",
              "193 2020-11-15 14:35:13  ...  [new, parti, bhai, form, chunav, ladn, jeetn, ...\n",
              "194 2020-11-15 14:18:06  ...  [crucial, year, aap, win, uttarakhand, goa, pu...\n",
              "195 2020-11-15 14:06:52  ...    [evm, congress, punjab, maharastra, aap, delhi]\n",
              "\n",
              "[196 rows x 12 columns]"
            ]
          },
          "metadata": {
            "tags": []
          },
          "execution_count": 45
        }
      ]
    },
    {
      "cell_type": "code",
      "metadata": {
        "id": "Jp1MddEpbN6A",
        "colab": {
          "base_uri": "https://localhost:8080/"
        },
        "outputId": "6503d123-c02b-4e07-8e8b-1f276b5dac14"
      },
      "source": [
        "texts = []\n",
        "texts = df.Processed_Tweet.apply(lambda x: [i for i in x] )\n",
        "all_words = []\n",
        "for i in texts:\n",
        "    all_words.append(\" \".join(i))\n",
        "text = []\n",
        "for i in texts:\n",
        "    for j in i:\n",
        "        text.append(j)\n",
        "len(text)"
      ],
      "execution_count": 46,
      "outputs": [
        {
          "output_type": "execute_result",
          "data": {
            "text/plain": [
              "3449"
            ]
          },
          "metadata": {
            "tags": []
          },
          "execution_count": 46
        }
      ]
    },
    {
      "cell_type": "code",
      "metadata": {
        "id": "jbRz6G8dbN9q",
        "colab": {
          "base_uri": "https://localhost:8080/",
          "height": 429
        },
        "outputId": "5f004ada-5b8e-4eaa-bf44-d4b14c41fece"
      },
      "source": [
        "wordcloud = WordCloud(width=800, height=500, random_state=21, max_font_size=110).generate(' '.join(text))\n",
        "plt.figure(figsize = (12, 12), facecolor=\"None\") \n",
        "plt.imshow(wordcloud,interpolation='bilinear') \n",
        "plt.axis(\"off\") \n",
        "plt.title(\"WordCloud of AAP Punjab Tweets\")\n",
        "plt.show()"
      ],
      "execution_count": 47,
      "outputs": [
        {
          "output_type": "display_data",
          "data": {
            "image/png": "[encoded data removed]",
            "text/plain": [
              "<Figure size 864x864 with 1 Axes>"
            ]
          },
          "metadata": {
            "tags": [],
            "needs_background": "light"
          }
        }
      ]
    },
    {
      "cell_type": "code",
      "metadata": {
        "id": "Y_6ferf0bOBj",
        "colab": {
          "base_uri": "https://localhost:8080/"
        },
        "outputId": "d3aac04c-4c91-46db-e754-f74f6d247fd9"
      },
      "source": [
        "from textblob import TextBlob\n",
        "pol=[]\n",
        "for Tweet in all_words:\n",
        "    blob = TextBlob(Tweet)\n",
        "    pol.append(blob.sentiment.polarity)\n",
        "len(pol)"
      ],
      "execution_count": 48,
      "outputs": [
        {
          "output_type": "execute_result",
          "data": {
            "text/plain": [
              "196"
            ]
          },
          "metadata": {
            "tags": []
          },
          "execution_count": 48
        }
      ]
    },
    {
      "cell_type": "code",
      "metadata": {
        "id": "dHvb9R2cbOHY",
        "colab": {
          "base_uri": "https://localhost:8080/"
        },
        "outputId": "212f460c-d30e-4687-bc48-6dd2a4dbabb3"
      },
      "source": [
        "len(text)"
      ],
      "execution_count": 49,
      "outputs": [
        {
          "output_type": "execute_result",
          "data": {
            "text/plain": [
              "3449"
            ]
          },
          "metadata": {
            "tags": []
          },
          "execution_count": 49
        }
      ]
    },
    {
      "cell_type": "code",
      "metadata": {
        "id": "cu242euSbOKi",
        "colab": {
          "base_uri": "https://localhost:8080/"
        },
        "outputId": "6fc6d52f-34f0-4f27-a124-8a8a0b88fa67"
      },
      "source": [
        "positive=0\n",
        "negative=0\n",
        "neutral=0\n",
        "for i in pol:\n",
        "    if i>0:\n",
        "        positive+=1\n",
        "    elif i<0:\n",
        "        negative+=1\n",
        "    else:\n",
        "        neutral+=1\n",
        "print(\"Positive Tweets:\",positive)\n",
        "print(\"Negative Tweets:\",negative)\n",
        "print(\"Neutral Tweets\",neutral)"
      ],
      "execution_count": 50,
      "outputs": [
        {
          "output_type": "stream",
          "text": [
            "Positive Tweets: 66\n",
            "Negative Tweets: 49\n",
            "Neutral Tweets 81\n"
          ],
          "name": "stdout"
        }
      ]
    },
    {
      "cell_type": "code",
      "metadata": {
        "id": "6Q5B0aVGbOOa",
        "colab": {
          "base_uri": "https://localhost:8080/"
        },
        "outputId": "678e9e96-3732-4aa9-dc6c-8409a164b08c"
      },
      "source": [
        "import nltk\n",
        "nltk.download('vader_lexicon')"
      ],
      "execution_count": 51,
      "outputs": [
        {
          "output_type": "stream",
          "text": [
            "[nltk_data] Downloading package vader_lexicon to /root/nltk_data...\n"
          ],
          "name": "stdout"
        },
        {
          "output_type": "execute_result",
          "data": {
            "text/plain": [
              "True"
            ]
          },
          "metadata": {
            "tags": []
          },
          "execution_count": 51
        }
      ]
    },
    {
      "cell_type": "code",
      "metadata": {
        "id": "WZ2hhckbbOR4",
        "colab": {
          "base_uri": "https://localhost:8080/"
        },
        "outputId": "9d0d6dd4-0b4c-4f04-bc5f-d4e0c5d6e665"
      },
      "source": [
        "from nltk.sentiment.vader import SentimentIntensityAnalyzer\n",
        "sid = SentimentIntensityAnalyzer()\n",
        "sentiment_scores= []\n",
        "for i in all_words:\n",
        "    sentiment_scores.append([sid.polarity_scores(i)])"
      ],
      "execution_count": 52,
      "outputs": [
        {
          "output_type": "stream",
          "text": [
            "/usr/local/lib/python3.6/dist-packages/nltk/twitter/__init__.py:20: UserWarning: The twython library has not been installed. Some functionality from the twitter package will not be available.\n",
            "  warnings.warn(\"The twython library has not been installed. \"\n"
          ],
          "name": "stderr"
        }
      ]
    },
    {
      "cell_type": "code",
      "metadata": {
        "id": "hCz4RQdabOV4",
        "colab": {
          "base_uri": "https://localhost:8080/",
          "height": 419
        },
        "outputId": "237cf3b6-4514-4435-c888-4847e69617b7"
      },
      "source": [
        "value = []\n",
        "for i in sentiment_scores:\n",
        "    for dict1 in i:\n",
        "        value.append(list(dict1.values()))\n",
        "sentimental_score_df = pd.DataFrame(data = value, columns = ['Negative','Neutral','Positive','Compound'])\n",
        "sentimental_score_df"
      ],
      "execution_count": 53,
      "outputs": [
        {
          "output_type": "execute_result",
          "data": {
            "text/html": [
              "<div>\n",
              "<style scoped>\n",
              "    .dataframe tbody tr th:only-of-type {\n",
              "        vertical-align: middle;\n",
              "    }\n",
              "\n",
              "    .dataframe tbody tr th {\n",
              "        vertical-align: top;\n",
              "    }\n",
              "\n",
              "    .dataframe thead th {\n",
              "        text-align: right;\n",
              "    }\n",
              "</style>\n",
              "<table border=\"1\" class=\"dataframe\">\n",
              "  <thead>\n",
              "    <tr style=\"text-align: right;\">\n",
              "      <th></th>\n",
              "      <th>Negative</th>\n",
              "      <th>Neutral</th>\n",
              "      <th>Positive</th>\n",
              "      <th>Compound</th>\n",
              "    </tr>\n",
              "  </thead>\n",
              "  <tbody>\n",
              "    <tr>\n",
              "      <th>0</th>\n",
              "      <td>0.238</td>\n",
              "      <td>0.610</td>\n",
              "      <td>0.152</td>\n",
              "      <td>-0.1027</td>\n",
              "    </tr>\n",
              "    <tr>\n",
              "      <th>1</th>\n",
              "      <td>0.000</td>\n",
              "      <td>0.800</td>\n",
              "      <td>0.200</td>\n",
              "      <td>0.3612</td>\n",
              "    </tr>\n",
              "    <tr>\n",
              "      <th>2</th>\n",
              "      <td>0.412</td>\n",
              "      <td>0.588</td>\n",
              "      <td>0.000</td>\n",
              "      <td>-0.8442</td>\n",
              "    </tr>\n",
              "    <tr>\n",
              "      <th>3</th>\n",
              "      <td>0.000</td>\n",
              "      <td>1.000</td>\n",
              "      <td>0.000</td>\n",
              "      <td>0.0000</td>\n",
              "    </tr>\n",
              "    <tr>\n",
              "      <th>4</th>\n",
              "      <td>0.000</td>\n",
              "      <td>1.000</td>\n",
              "      <td>0.000</td>\n",
              "      <td>0.0000</td>\n",
              "    </tr>\n",
              "    <tr>\n",
              "      <th>...</th>\n",
              "      <td>...</td>\n",
              "      <td>...</td>\n",
              "      <td>...</td>\n",
              "      <td>...</td>\n",
              "    </tr>\n",
              "    <tr>\n",
              "      <th>191</th>\n",
              "      <td>0.218</td>\n",
              "      <td>0.782</td>\n",
              "      <td>0.000</td>\n",
              "      <td>-0.6604</td>\n",
              "    </tr>\n",
              "    <tr>\n",
              "      <th>192</th>\n",
              "      <td>0.000</td>\n",
              "      <td>0.742</td>\n",
              "      <td>0.258</td>\n",
              "      <td>0.8442</td>\n",
              "    </tr>\n",
              "    <tr>\n",
              "      <th>193</th>\n",
              "      <td>0.059</td>\n",
              "      <td>0.864</td>\n",
              "      <td>0.077</td>\n",
              "      <td>0.1531</td>\n",
              "    </tr>\n",
              "    <tr>\n",
              "      <th>194</th>\n",
              "      <td>0.187</td>\n",
              "      <td>0.639</td>\n",
              "      <td>0.174</td>\n",
              "      <td>0.1779</td>\n",
              "    </tr>\n",
              "    <tr>\n",
              "      <th>195</th>\n",
              "      <td>0.000</td>\n",
              "      <td>1.000</td>\n",
              "      <td>0.000</td>\n",
              "      <td>0.0000</td>\n",
              "    </tr>\n",
              "  </tbody>\n",
              "</table>\n",
              "<p>196 rows × 4 columns</p>\n",
              "</div>"
            ],
            "text/plain": [
              "     Negative  Neutral  Positive  Compound\n",
              "0       0.238    0.610     0.152   -0.1027\n",
              "1       0.000    0.800     0.200    0.3612\n",
              "2       0.412    0.588     0.000   -0.8442\n",
              "3       0.000    1.000     0.000    0.0000\n",
              "4       0.000    1.000     0.000    0.0000\n",
              "..        ...      ...       ...       ...\n",
              "191     0.218    0.782     0.000   -0.6604\n",
              "192     0.000    0.742     0.258    0.8442\n",
              "193     0.059    0.864     0.077    0.1531\n",
              "194     0.187    0.639     0.174    0.1779\n",
              "195     0.000    1.000     0.000    0.0000\n",
              "\n",
              "[196 rows x 4 columns]"
            ]
          },
          "metadata": {
            "tags": []
          },
          "execution_count": 53
        }
      ]
    },
    {
      "cell_type": "code",
      "metadata": {
        "id": "Ev7p5zHybOZN",
        "colab": {
          "base_uri": "https://localhost:8080/",
          "height": 204
        },
        "outputId": "76f0555a-9aec-413b-dfac-5fd4fb6a142b"
      },
      "source": [
        "sentimental_score_df['val'] = sentimental_score_df['Compound'].apply(lambda x: 'Neutral' if x == 0 else ('Positive' if x > 0 else 'Negative'))\n",
        "sentimental_score_df.head()"
      ],
      "execution_count": 54,
      "outputs": [
        {
          "output_type": "execute_result",
          "data": {
            "text/html": [
              "<div>\n",
              "<style scoped>\n",
              "    .dataframe tbody tr th:only-of-type {\n",
              "        vertical-align: middle;\n",
              "    }\n",
              "\n",
              "    .dataframe tbody tr th {\n",
              "        vertical-align: top;\n",
              "    }\n",
              "\n",
              "    .dataframe thead th {\n",
              "        text-align: right;\n",
              "    }\n",
              "</style>\n",
              "<table border=\"1\" class=\"dataframe\">\n",
              "  <thead>\n",
              "    <tr style=\"text-align: right;\">\n",
              "      <th></th>\n",
              "      <th>Negative</th>\n",
              "      <th>Neutral</th>\n",
              "      <th>Positive</th>\n",
              "      <th>Compound</th>\n",
              "      <th>val</th>\n",
              "    </tr>\n",
              "  </thead>\n",
              "  <tbody>\n",
              "    <tr>\n",
              "      <th>0</th>\n",
              "      <td>0.238</td>\n",
              "      <td>0.610</td>\n",
              "      <td>0.152</td>\n",
              "      <td>-0.1027</td>\n",
              "      <td>Negative</td>\n",
              "    </tr>\n",
              "    <tr>\n",
              "      <th>1</th>\n",
              "      <td>0.000</td>\n",
              "      <td>0.800</td>\n",
              "      <td>0.200</td>\n",
              "      <td>0.3612</td>\n",
              "      <td>Positive</td>\n",
              "    </tr>\n",
              "    <tr>\n",
              "      <th>2</th>\n",
              "      <td>0.412</td>\n",
              "      <td>0.588</td>\n",
              "      <td>0.000</td>\n",
              "      <td>-0.8442</td>\n",
              "      <td>Negative</td>\n",
              "    </tr>\n",
              "    <tr>\n",
              "      <th>3</th>\n",
              "      <td>0.000</td>\n",
              "      <td>1.000</td>\n",
              "      <td>0.000</td>\n",
              "      <td>0.0000</td>\n",
              "      <td>Neutral</td>\n",
              "    </tr>\n",
              "    <tr>\n",
              "      <th>4</th>\n",
              "      <td>0.000</td>\n",
              "      <td>1.000</td>\n",
              "      <td>0.000</td>\n",
              "      <td>0.0000</td>\n",
              "      <td>Neutral</td>\n",
              "    </tr>\n",
              "  </tbody>\n",
              "</table>\n",
              "</div>"
            ],
            "text/plain": [
              "   Negative  Neutral  Positive  Compound       val\n",
              "0     0.238    0.610     0.152   -0.1027  Negative\n",
              "1     0.000    0.800     0.200    0.3612  Positive\n",
              "2     0.412    0.588     0.000   -0.8442  Negative\n",
              "3     0.000    1.000     0.000    0.0000   Neutral\n",
              "4     0.000    1.000     0.000    0.0000   Neutral"
            ]
          },
          "metadata": {
            "tags": []
          },
          "execution_count": 54
        }
      ]
    },
    {
      "cell_type": "code",
      "metadata": {
        "id": "2FmNubOLbOdG",
        "colab": {
          "base_uri": "https://localhost:8080/",
          "height": 296
        },
        "outputId": "86c127bf-8470-4232-f661-fee99b39a096"
      },
      "source": [
        "sent_count = pd.DataFrame.from_dict(Counter(sentimental_score_df['val']), orient = 'index').reset_index()\n",
        "sent_count.columns = ['sentiment', 'count']\n",
        "\n",
        "sns.barplot(y=\"count\", x='sentiment', data=sent_count)"
      ],
      "execution_count": 56,
      "outputs": [
        {
          "output_type": "execute_result",
          "data": {
            "text/plain": [
              "<matplotlib.axes._subplots.AxesSubplot at 0x7fe665cd9b00>"
            ]
          },
          "metadata": {
            "tags": []
          },
          "execution_count": 56
        },
        {
          "output_type": "display_data",
          "data": {
            "image/png": "[encoded data removed]",
            "text/plain": [
              "<Figure size 432x288 with 1 Axes>"
            ]
          },
          "metadata": {
            "tags": [],
            "needs_background": "light"
          }
        }
      ]
    },
    {
      "cell_type": "code",
      "metadata": {
        "id": "dUllRCfLbOg7",
        "colab": {
          "base_uri": "https://localhost:8080/"
        },
        "outputId": "91198086-4c9a-4c89-cd62-206d572c0288"
      },
      "source": [
        "filepath = r\"/content/Election-Prediction/StatewisePolitics/Punjab/AAP_Punjab.csv\"\n",
        "emolex_df = pd.read_csv(filepath,  names=[\"word\", \"emotion\", \"association\"], skiprows=45, sep='\\t')\n",
        "emolex_df.head(12)\n",
        "len(emolex_df)"
      ],
      "execution_count": 57,
      "outputs": [
        {
          "output_type": "execute_result",
          "data": {
            "text/plain": [
              "343"
            ]
          },
          "metadata": {
            "tags": []
          },
          "execution_count": 57
        }
      ]
    },
    {
      "cell_type": "code",
      "metadata": {
        "id": "BpqvO-zZbOky"
      },
      "source": [
        "emotions={'positive':0, 'negative':0, 'surprise':0,'sadness':0,\n",
        "          'anger':0,'joy':0,'negative':0,'trust':0,'fear':0,'anticipation':0,'disgust':0}"
      ],
      "execution_count": 58,
      "outputs": []
    },
    {
      "cell_type": "code",
      "metadata": {
        "id": "5zvUJmULbOoU"
      },
      "source": [
        "word_emotion=dict()\n",
        "for i in range(0,343):\n",
        "    emotion=emolex_df['emotion'][i]\n",
        "    word=emolex_df['word'][i]\n",
        "    association=emolex_df['association'][i]\n",
        "    \n",
        "    if word not in word_emotion:\n",
        "        word_emotion[word]=dict()\n",
        "    word_emotion[word][emotion]=association\n"
      ],
      "execution_count": 59,
      "outputs": []
    },
    {
      "cell_type": "code",
      "metadata": {
        "id": "Mp3Thxfpg0nI",
        "colab": {
          "base_uri": "https://localhost:8080/"
        },
        "outputId": "e28f0b2f-c15f-4c98-8400-2c31c3d24bb4"
      },
      "source": [
        "from numpy import nan\n",
        "nan == nan\n"
      ],
      "execution_count": null,
      "outputs": [
        {
          "output_type": "execute_result",
          "data": {
            "text/plain": [
              "False"
            ]
          },
          "metadata": {
            "tags": []
          },
          "execution_count": 61
        }
      ]
    },
    {
      "cell_type": "code",
      "metadata": {
        "id": "mHtSZD_BbOry",
        "colab": {
          "base_uri": "https://localhost:8080/",
          "height": 195
        },
        "outputId": "3b5949cc-c8c2-4f69-d6ed-d5943c96714e"
      },
      "source": [
        "for i in range(0,3346):\n",
        "    text=df['Tweet'][i]\n",
        "    for j in text.split():\n",
        "        if j in word_emotion:\n",
        "            for k in word_emotion[j]:\n",
        "                emotions[k]+=word_emotion[j][k]"
      ],
      "execution_count": null,
      "outputs": [
        {
          "output_type": "error",
          "ename": "KeyError",
          "evalue": "ignored",
          "traceback": [
            "\u001b[0;31m---------------------------------------------------------------------------\u001b[0m",
            "\u001b[0;31mKeyError\u001b[0m                                  Traceback (most recent call last)",
            "\u001b[0;32m<ipython-input-81-eedd7a5d3712>\u001b[0m in \u001b[0;36m<module>\u001b[0;34m()\u001b[0m\n\u001b[1;32m      4\u001b[0m         \u001b[0;32mif\u001b[0m \u001b[0mj\u001b[0m \u001b[0;32min\u001b[0m \u001b[0mword_emotion\u001b[0m\u001b[0;34m:\u001b[0m\u001b[0;34m\u001b[0m\u001b[0;34m\u001b[0m\u001b[0m\n\u001b[1;32m      5\u001b[0m             \u001b[0;32mfor\u001b[0m \u001b[0mk\u001b[0m \u001b[0;32min\u001b[0m \u001b[0mword_emotion\u001b[0m\u001b[0;34m[\u001b[0m\u001b[0mj\u001b[0m\u001b[0;34m]\u001b[0m\u001b[0;34m:\u001b[0m\u001b[0;34m\u001b[0m\u001b[0;34m\u001b[0m\u001b[0m\n\u001b[0;32m----> 6\u001b[0;31m                 \u001b[0memotions\u001b[0m\u001b[0;34m[\u001b[0m\u001b[0mk\u001b[0m\u001b[0;34m]\u001b[0m\u001b[0;34m+=\u001b[0m\u001b[0mword_emotion\u001b[0m\u001b[0;34m[\u001b[0m\u001b[0mj\u001b[0m\u001b[0;34m]\u001b[0m\u001b[0;34m[\u001b[0m\u001b[0mk\u001b[0m\u001b[0;34m]\u001b[0m\u001b[0;34m\u001b[0m\u001b[0;34m\u001b[0m\u001b[0m\n\u001b[0m",
            "\u001b[0;31mKeyError\u001b[0m: nan"
          ]
        }
      ]
    },
    {
      "cell_type": "code",
      "metadata": {
        "id": "IkuVbkfMbOvn",
        "colab": {
          "base_uri": "https://localhost:8080/"
        },
        "outputId": "a77a190d-25ad-4921-d2df-1b59b527eca2"
      },
      "source": [
        "emotions"
      ],
      "execution_count": null,
      "outputs": [
        {
          "output_type": "execute_result",
          "data": {
            "text/plain": [
              "{'anger': 0,\n",
              " 'anticipation': 0,\n",
              " 'disgust': 0,\n",
              " 'fear': 0,\n",
              " 'joy': 0,\n",
              " 'negative': 0,\n",
              " 'positive': 0,\n",
              " 'sadness': 0,\n",
              " 'surprise': 0,\n",
              " 'trust': 0}"
            ]
          },
          "metadata": {
            "tags": []
          },
          "execution_count": 82
        }
      ]
    },
    {
      "cell_type": "code",
      "metadata": {
        "id": "y1vRLg5bbOzL",
        "colab": {
          "base_uri": "https://localhost:8080/",
          "height": 325
        },
        "outputId": "26d3a47d-9fc9-4661-a192-2d696b256ba1"
      },
      "source": [
        "plt.style.use('fivethirtyeight')\n",
        "plt.rcParams[\"figure.figsize\"] = [15,5]\n",
        "plt.bar(list(emotions.keys()),list(emotions.values()),color='red',alpha = 0.6)\n",
        "plt.xlabel('Emotions')\n",
        "plt.ylabel('Count')\n",
        "plt.title('Calculated Emotions Of Users ')\n",
        "plt.show()"
      ],
      "execution_count": null,
      "outputs": [
        {
          "output_type": "display_data",
          "data": {
            "image/png": "[encoded data removed]",
            "text/plain": [
              "<Figure size 1080x360 with 1 Axes>"
            ]
          },
          "metadata": {
            "tags": []
          }
        }
      ]
    },
    {
      "cell_type": "code",
      "metadata": {
        "id": "DBNBn2IebO22",
        "colab": {
          "base_uri": "https://localhost:8080/"
        },
        "outputId": "2d463d8b-97b5-414f-dae9-8848cd1b19d7"
      },
      "source": [
        "df.Location  = df.Location.fillna('India')\n",
        "f = [i for i in df['Location'] if type(i) != str]\n",
        "f"
      ],
      "execution_count": 60,
      "outputs": [
        {
          "output_type": "execute_result",
          "data": {
            "text/plain": [
              "[]"
            ]
          },
          "metadata": {
            "tags": []
          },
          "execution_count": 60
        }
      ]
    },
    {
      "cell_type": "code",
      "metadata": {
        "id": "6p1TZITybO6f",
        "colab": {
          "base_uri": "https://localhost:8080/"
        },
        "outputId": "b3279f76-9edd-4a88-ff16-c156eb14a853"
      },
      "source": [
        "df.Location = df.Location.apply(lambda x: x.replace('United States','USA'))\n",
        "df.Location.value_counts()"
      ],
      "execution_count": 61,
      "outputs": [
        {
          "output_type": "execute_result",
          "data": {
            "text/plain": [
              "                     78\n",
              "India                24\n",
              "New Delhi, India      8\n",
              "Chandigarh            8\n",
              "Punjab, India         5\n",
              "                     ..\n",
              "Dandeli               1\n",
              "United Kingdom        1\n",
              "Karnataka             1\n",
              "kotputli, jaipur      1\n",
              "Indore, India         1\n",
              "Name: Location, Length: 70, dtype: int64"
            ]
          },
          "metadata": {
            "tags": []
          },
          "execution_count": 61
        }
      ]
    },
    {
      "cell_type": "code",
      "metadata": {
        "id": "Ua1voDKQbO-F",
        "colab": {
          "base_uri": "https://localhost:8080/",
          "height": 915
        },
        "outputId": "ae515bd8-cdb7-42df-a8a0-ff914c921ff1"
      },
      "source": [
        "locations = []\n",
        "locations_1 = []\n",
        "\n",
        "locations = [i.split(',')[-1] for i in df['Location']]\n",
        "locations_1 =  [i.split(',')[0] for i in df['Location']]\n",
        "df['Processed_Location'] = locations_1\n",
        "df"
      ],
      "execution_count": 62,
      "outputs": [
        {
          "output_type": "execute_result",
          "data": {
            "text/html": [
              "<div>\n",
              "<style scoped>\n",
              "    .dataframe tbody tr th:only-of-type {\n",
              "        vertical-align: middle;\n",
              "    }\n",
              "\n",
              "    .dataframe tbody tr th {\n",
              "        vertical-align: top;\n",
              "    }\n",
              "\n",
              "    .dataframe thead th {\n",
              "        text-align: right;\n",
              "    }\n",
              "</style>\n",
              "<table border=\"1\" class=\"dataframe\">\n",
              "  <thead>\n",
              "    <tr style=\"text-align: right;\">\n",
              "      <th></th>\n",
              "      <th>Date</th>\n",
              "      <th>Tweet_id</th>\n",
              "      <th>Verified</th>\n",
              "      <th>Tweet</th>\n",
              "      <th>User</th>\n",
              "      <th>Location</th>\n",
              "      <th>Source</th>\n",
              "      <th>Likes</th>\n",
              "      <th>Followers</th>\n",
              "      <th>Following</th>\n",
              "      <th>Retweets</th>\n",
              "      <th>Processed_Tweet</th>\n",
              "      <th>Processed_Location</th>\n",
              "    </tr>\n",
              "  </thead>\n",
              "  <tbody>\n",
              "    <tr>\n",
              "      <th>0</th>\n",
              "      <td>2020-11-21 17:33:51</td>\n",
              "      <td>1330202780590628864</td>\n",
              "      <td>False</td>\n",
              "      <td>@DaaruBaazMehta Encouraging. Congress maybe cl...</td>\n",
              "      <td>AamIndian_1</td>\n",
              "      <td></td>\n",
              "      <td>Twitter for Android</td>\n",
              "      <td>2</td>\n",
              "      <td>1520</td>\n",
              "      <td>1133</td>\n",
              "      <td>1</td>\n",
              "      <td>[encourag, congress, mayb, clueless, tri, hard...</td>\n",
              "      <td></td>\n",
              "    </tr>\n",
              "    <tr>\n",
              "      <th>1</th>\n",
              "      <td>2020-11-21 16:15:20</td>\n",
              "      <td>1330183020658249730</td>\n",
              "      <td>False</td>\n",
              "      <td>@spiritneeraj @AnmolGaganMan Punjab AAP need t...</td>\n",
              "      <td>Gurwinderr1983</td>\n",
              "      <td></td>\n",
              "      <td>Twitter for Android</td>\n",
              "      <td>0</td>\n",
              "      <td>349</td>\n",
              "      <td>853</td>\n",
              "      <td>0</td>\n",
              "      <td>[punjab, aap, need, develop, leader, creat, he...</td>\n",
              "      <td></td>\n",
              "    </tr>\n",
              "    <tr>\n",
              "      <th>2</th>\n",
              "      <td>2020-11-21 16:11:07</td>\n",
              "      <td>1330181958211670017</td>\n",
              "      <td>False</td>\n",
              "      <td>MUST WATCH\\n\\nAAP Punjab MP @BhagwantMann Expo...</td>\n",
              "      <td>AapActive123</td>\n",
              "      <td>Dilshad Garden, New Delhi</td>\n",
              "      <td>Twitter for Android</td>\n",
              "      <td>0</td>\n",
              "      <td>1888</td>\n",
              "      <td>370</td>\n",
              "      <td>0</td>\n",
              "      <td>[must, watchaap, punjab, expos, bjp, sad, cong...</td>\n",
              "      <td>Dilshad Garden</td>\n",
              "    </tr>\n",
              "    <tr>\n",
              "      <th>3</th>\n",
              "      <td>2020-11-21 15:59:52</td>\n",
              "      <td>1330179129233334273</td>\n",
              "      <td>False</td>\n",
              "      <td>Met many people on ground today 90% people tol...</td>\n",
              "      <td>Aditya37020727</td>\n",
              "      <td></td>\n",
              "      <td>Twitter Web App</td>\n",
              "      <td>39</td>\n",
              "      <td>72</td>\n",
              "      <td>15</td>\n",
              "      <td>14</td>\n",
              "      <td>[met, mani, peopl, ground, today, peopl, told,...</td>\n",
              "      <td></td>\n",
              "    </tr>\n",
              "    <tr>\n",
              "      <th>4</th>\n",
              "      <td>2020-11-21 15:45:41</td>\n",
              "      <td>1330175558022520839</td>\n",
              "      <td>False</td>\n",
              "      <td>AAP Punjab youth wing president And MLA @meet_...</td>\n",
              "      <td>Gurdeepgurus</td>\n",
              "      <td></td>\n",
              "      <td>Twitter for Android</td>\n",
              "      <td>42</td>\n",
              "      <td>1052</td>\n",
              "      <td>480</td>\n",
              "      <td>20</td>\n",
              "      <td>[aap, punjab, youth, wing, presid, mla, corrup...</td>\n",
              "      <td></td>\n",
              "    </tr>\n",
              "    <tr>\n",
              "      <th>...</th>\n",
              "      <td>...</td>\n",
              "      <td>...</td>\n",
              "      <td>...</td>\n",
              "      <td>...</td>\n",
              "      <td>...</td>\n",
              "      <td>...</td>\n",
              "      <td>...</td>\n",
              "      <td>...</td>\n",
              "      <td>...</td>\n",
              "      <td>...</td>\n",
              "      <td>...</td>\n",
              "      <td>...</td>\n",
              "      <td>...</td>\n",
              "    </tr>\n",
              "    <tr>\n",
              "      <th>191</th>\n",
              "      <td>2020-11-15 14:52:00</td>\n",
              "      <td>1327987723106349056</td>\n",
              "      <td>False</td>\n",
              "      <td>@artijourno 1. If pollution isn’t good, go aft...</td>\n",
              "      <td>Doubledecacorn</td>\n",
              "      <td>🐅🐘🦁</td>\n",
              "      <td>Twitter Web App</td>\n",
              "      <td>0</td>\n",
              "      <td>587</td>\n",
              "      <td>1033</td>\n",
              "      <td>0</td>\n",
              "      <td>[pollut, isnt, good, thing, actual, pollut, le...</td>\n",
              "      <td>🐅🐘🦁</td>\n",
              "    </tr>\n",
              "    <tr>\n",
              "      <th>192</th>\n",
              "      <td>2020-11-15 14:49:39</td>\n",
              "      <td>1327987130677690370</td>\n",
              "      <td>False</td>\n",
              "      <td>@sidharth_shukla you are a player. Apko jab la...</td>\n",
              "      <td>Reva67229646</td>\n",
              "      <td></td>\n",
              "      <td>Twitter Web App</td>\n",
              "      <td>1</td>\n",
              "      <td>0</td>\n",
              "      <td>1</td>\n",
              "      <td>0</td>\n",
              "      <td>[player, apko, jab, lagta, sidnaz, engag, kam,...</td>\n",
              "      <td></td>\n",
              "    </tr>\n",
              "    <tr>\n",
              "      <th>193</th>\n",
              "      <td>2020-11-15 14:35:13</td>\n",
              "      <td>1327983499354066944</td>\n",
              "      <td>False</td>\n",
              "      <td>@Astute_Dopey @ng_p_f @TheMohil8 @ANI New part...</td>\n",
              "      <td>Honestpoliticss</td>\n",
              "      <td></td>\n",
              "      <td>Twitter Web App</td>\n",
              "      <td>0</td>\n",
              "      <td>10</td>\n",
              "      <td>27</td>\n",
              "      <td>0</td>\n",
              "      <td>[new, parti, bhai, form, chunav, ladn, jeetn, ...</td>\n",
              "      <td></td>\n",
              "    </tr>\n",
              "    <tr>\n",
              "      <th>194</th>\n",
              "      <td>2020-11-15 14:18:06</td>\n",
              "      <td>1327979191183110145</td>\n",
              "      <td>False</td>\n",
              "      <td>@ng_p_f @TheMohil8 @ANI 2022 is crucial year. ...</td>\n",
              "      <td>Honestpoliticss</td>\n",
              "      <td></td>\n",
              "      <td>Twitter Web App</td>\n",
              "      <td>0</td>\n",
              "      <td>10</td>\n",
              "      <td>27</td>\n",
              "      <td>0</td>\n",
              "      <td>[crucial, year, aap, win, uttarakhand, goa, pu...</td>\n",
              "      <td></td>\n",
              "    </tr>\n",
              "    <tr>\n",
              "      <th>195</th>\n",
              "      <td>2020-11-15 14:06:52</td>\n",
              "      <td>1327976364222205952</td>\n",
              "      <td>False</td>\n",
              "      <td>@ANI If its EVM then how did congress won in P...</td>\n",
              "      <td>iamGAK4</td>\n",
              "      <td>Mumbai, India</td>\n",
              "      <td>Twitter for iPhone</td>\n",
              "      <td>0</td>\n",
              "      <td>114</td>\n",
              "      <td>153</td>\n",
              "      <td>0</td>\n",
              "      <td>[evm, congress, punjab, maharastra, aap, delhi]</td>\n",
              "      <td>Mumbai</td>\n",
              "    </tr>\n",
              "  </tbody>\n",
              "</table>\n",
              "<p>196 rows × 13 columns</p>\n",
              "</div>"
            ],
            "text/plain": [
              "                   Date  ...  Processed_Location\n",
              "0   2020-11-21 17:33:51  ...                    \n",
              "1   2020-11-21 16:15:20  ...                    \n",
              "2   2020-11-21 16:11:07  ...      Dilshad Garden\n",
              "3   2020-11-21 15:59:52  ...                    \n",
              "4   2020-11-21 15:45:41  ...                    \n",
              "..                  ...  ...                 ...\n",
              "191 2020-11-15 14:52:00  ...                 🐅🐘🦁\n",
              "192 2020-11-15 14:49:39  ...                    \n",
              "193 2020-11-15 14:35:13  ...                    \n",
              "194 2020-11-15 14:18:06  ...                    \n",
              "195 2020-11-15 14:06:52  ...              Mumbai\n",
              "\n",
              "[196 rows x 13 columns]"
            ]
          },
          "metadata": {
            "tags": []
          },
          "execution_count": 62
        }
      ]
    },
    {
      "cell_type": "code",
      "metadata": {
        "id": "Xcw2IMBrbPBW"
      },
      "source": [
        "df1 = df\n",
        "df1['sentiment'] = sentimental_score_df['val']"
      ],
      "execution_count": 63,
      "outputs": []
    },
    {
      "cell_type": "code",
      "metadata": {
        "id": "fk0h10D3bPEy",
        "colab": {
          "base_uri": "https://localhost:8080/",
          "height": 479
        },
        "outputId": "f9b370d5-9165-41cd-c835-36e43e575d1d"
      },
      "source": [
        "df1.to_csv('Location.csv',index = False)\n",
        "df1['day'] = df.Date.dt.day\n",
        "df1.head()"
      ],
      "execution_count": 64,
      "outputs": [
        {
          "output_type": "execute_result",
          "data": {
            "text/html": [
              "<div>\n",
              "<style scoped>\n",
              "    .dataframe tbody tr th:only-of-type {\n",
              "        vertical-align: middle;\n",
              "    }\n",
              "\n",
              "    .dataframe tbody tr th {\n",
              "        vertical-align: top;\n",
              "    }\n",
              "\n",
              "    .dataframe thead th {\n",
              "        text-align: right;\n",
              "    }\n",
              "</style>\n",
              "<table border=\"1\" class=\"dataframe\">\n",
              "  <thead>\n",
              "    <tr style=\"text-align: right;\">\n",
              "      <th></th>\n",
              "      <th>Date</th>\n",
              "      <th>Tweet_id</th>\n",
              "      <th>Verified</th>\n",
              "      <th>Tweet</th>\n",
              "      <th>User</th>\n",
              "      <th>Location</th>\n",
              "      <th>Source</th>\n",
              "      <th>Likes</th>\n",
              "      <th>Followers</th>\n",
              "      <th>Following</th>\n",
              "      <th>Retweets</th>\n",
              "      <th>Processed_Tweet</th>\n",
              "      <th>Processed_Location</th>\n",
              "      <th>sentiment</th>\n",
              "      <th>day</th>\n",
              "    </tr>\n",
              "  </thead>\n",
              "  <tbody>\n",
              "    <tr>\n",
              "      <th>0</th>\n",
              "      <td>2020-11-21 17:33:51</td>\n",
              "      <td>1330202780590628864</td>\n",
              "      <td>False</td>\n",
              "      <td>@DaaruBaazMehta Encouraging. Congress maybe cl...</td>\n",
              "      <td>AamIndian_1</td>\n",
              "      <td></td>\n",
              "      <td>Twitter for Android</td>\n",
              "      <td>2</td>\n",
              "      <td>1520</td>\n",
              "      <td>1133</td>\n",
              "      <td>1</td>\n",
              "      <td>[encourag, congress, mayb, clueless, tri, hard...</td>\n",
              "      <td></td>\n",
              "      <td>Negative</td>\n",
              "      <td>21</td>\n",
              "    </tr>\n",
              "    <tr>\n",
              "      <th>1</th>\n",
              "      <td>2020-11-21 16:15:20</td>\n",
              "      <td>1330183020658249730</td>\n",
              "      <td>False</td>\n",
              "      <td>@spiritneeraj @AnmolGaganMan Punjab AAP need t...</td>\n",
              "      <td>Gurwinderr1983</td>\n",
              "      <td></td>\n",
              "      <td>Twitter for Android</td>\n",
              "      <td>0</td>\n",
              "      <td>349</td>\n",
              "      <td>853</td>\n",
              "      <td>0</td>\n",
              "      <td>[punjab, aap, need, develop, leader, creat, he...</td>\n",
              "      <td></td>\n",
              "      <td>Positive</td>\n",
              "      <td>21</td>\n",
              "    </tr>\n",
              "    <tr>\n",
              "      <th>2</th>\n",
              "      <td>2020-11-21 16:11:07</td>\n",
              "      <td>1330181958211670017</td>\n",
              "      <td>False</td>\n",
              "      <td>MUST WATCH\\n\\nAAP Punjab MP @BhagwantMann Expo...</td>\n",
              "      <td>AapActive123</td>\n",
              "      <td>Dilshad Garden, New Delhi</td>\n",
              "      <td>Twitter for Android</td>\n",
              "      <td>0</td>\n",
              "      <td>1888</td>\n",
              "      <td>370</td>\n",
              "      <td>0</td>\n",
              "      <td>[must, watchaap, punjab, expos, bjp, sad, cong...</td>\n",
              "      <td>Dilshad Garden</td>\n",
              "      <td>Negative</td>\n",
              "      <td>21</td>\n",
              "    </tr>\n",
              "    <tr>\n",
              "      <th>3</th>\n",
              "      <td>2020-11-21 15:59:52</td>\n",
              "      <td>1330179129233334273</td>\n",
              "      <td>False</td>\n",
              "      <td>Met many people on ground today 90% people tol...</td>\n",
              "      <td>Aditya37020727</td>\n",
              "      <td></td>\n",
              "      <td>Twitter Web App</td>\n",
              "      <td>39</td>\n",
              "      <td>72</td>\n",
              "      <td>15</td>\n",
              "      <td>14</td>\n",
              "      <td>[met, mani, peopl, ground, today, peopl, told,...</td>\n",
              "      <td></td>\n",
              "      <td>Neutral</td>\n",
              "      <td>21</td>\n",
              "    </tr>\n",
              "    <tr>\n",
              "      <th>4</th>\n",
              "      <td>2020-11-21 15:45:41</td>\n",
              "      <td>1330175558022520839</td>\n",
              "      <td>False</td>\n",
              "      <td>AAP Punjab youth wing president And MLA @meet_...</td>\n",
              "      <td>Gurdeepgurus</td>\n",
              "      <td></td>\n",
              "      <td>Twitter for Android</td>\n",
              "      <td>42</td>\n",
              "      <td>1052</td>\n",
              "      <td>480</td>\n",
              "      <td>20</td>\n",
              "      <td>[aap, punjab, youth, wing, presid, mla, corrup...</td>\n",
              "      <td></td>\n",
              "      <td>Neutral</td>\n",
              "      <td>21</td>\n",
              "    </tr>\n",
              "  </tbody>\n",
              "</table>\n",
              "</div>"
            ],
            "text/plain": [
              "                 Date             Tweet_id  ...  sentiment day\n",
              "0 2020-11-21 17:33:51  1330202780590628864  ...   Negative  21\n",
              "1 2020-11-21 16:15:20  1330183020658249730  ...   Positive  21\n",
              "2 2020-11-21 16:11:07  1330181958211670017  ...   Negative  21\n",
              "3 2020-11-21 15:59:52  1330179129233334273  ...    Neutral  21\n",
              "4 2020-11-21 15:45:41  1330175558022520839  ...    Neutral  21\n",
              "\n",
              "[5 rows x 15 columns]"
            ]
          },
          "metadata": {
            "tags": []
          },
          "execution_count": 64
        }
      ]
    },
    {
      "cell_type": "code",
      "metadata": {
        "id": "uRFstkWfbPIZ",
        "colab": {
          "base_uri": "https://localhost:8080/",
          "height": 353
        },
        "outputId": "cb5fc8e2-842a-4c89-ffcf-0b74b410fc70"
      },
      "source": [
        "sns.countplot(df['day'],hue = df['sentiment'])"
      ],
      "execution_count": 65,
      "outputs": [
        {
          "output_type": "stream",
          "text": [
            "/usr/local/lib/python3.6/dist-packages/seaborn/_decorators.py:43: FutureWarning: Pass the following variable as a keyword arg: x. From version 0.12, the only valid positional argument will be `data`, and passing other arguments without an explicit keyword will result in an error or misinterpretation.\n",
            "  FutureWarning\n"
          ],
          "name": "stderr"
        },
        {
          "output_type": "execute_result",
          "data": {
            "text/plain": [
              "<matplotlib.axes._subplots.AxesSubplot at 0x7fe665d6af60>"
            ]
          },
          "metadata": {
            "tags": []
          },
          "execution_count": 65
        },
        {
          "output_type": "display_data",
          "data": {
            "image/png": "[encoded data removed]",
            "text/plain": [
              "<Figure size 432x288 with 1 Axes>"
            ]
          },
          "metadata": {
            "tags": [],
            "needs_background": "light"
          }
        }
      ]
    },
    {
      "cell_type": "code",
      "metadata": {
        "id": "wjrfS-i8bPLt"
      },
      "source": [
        "from sklearn.feature_extraction.text import CountVectorizer\n",
        "from sklearn.model_selection import train_test_split\n",
        "from sklearn.naive_bayes import GaussianNB\n",
        "from sklearn.naive_bayes import MultinomialNB\n",
        "from sklearn.metrics import confusion_matrix\n",
        "from sklearn.tree import DecisionTreeClassifier\n",
        "from sklearn.ensemble import RandomForestClassifier\n",
        "from sklearn.preprocessing import LabelEncoder \n",
        "from sklearn.model_selection import GridSearchCV\n",
        "from sklearn import model_selection\n",
        "\n",
        "from sklearn.model_selection import cross_val_score\n",
        "from sklearn.metrics import accuracy_score\n",
        "from sklearn.metrics import precision_score\n",
        "from sklearn.metrics import recall_score\n",
        "from sklearn.metrics import f1_score"
      ],
      "execution_count": 66,
      "outputs": []
    },
    {
      "cell_type": "code",
      "metadata": {
        "id": "g0S-olXjbPPW",
        "colab": {
          "base_uri": "https://localhost:8080/",
          "height": 915
        },
        "outputId": "f4b11e39-b07f-4848-e021-e8d82d17a229"
      },
      "source": [
        "le = LabelEncoder() \n",
        "  \n",
        "df1['sentiment_1']= le.fit_transform(df1['sentiment'])\n",
        "df1"
      ],
      "execution_count": 67,
      "outputs": [
        {
          "output_type": "execute_result",
          "data": {
            "text/html": [
              "<div>\n",
              "<style scoped>\n",
              "    .dataframe tbody tr th:only-of-type {\n",
              "        vertical-align: middle;\n",
              "    }\n",
              "\n",
              "    .dataframe tbody tr th {\n",
              "        vertical-align: top;\n",
              "    }\n",
              "\n",
              "    .dataframe thead th {\n",
              "        text-align: right;\n",
              "    }\n",
              "</style>\n",
              "<table border=\"1\" class=\"dataframe\">\n",
              "  <thead>\n",
              "    <tr style=\"text-align: right;\">\n",
              "      <th></th>\n",
              "      <th>Date</th>\n",
              "      <th>Tweet_id</th>\n",
              "      <th>Verified</th>\n",
              "      <th>Tweet</th>\n",
              "      <th>User</th>\n",
              "      <th>Location</th>\n",
              "      <th>Source</th>\n",
              "      <th>Likes</th>\n",
              "      <th>Followers</th>\n",
              "      <th>Following</th>\n",
              "      <th>Retweets</th>\n",
              "      <th>Processed_Tweet</th>\n",
              "      <th>Processed_Location</th>\n",
              "      <th>sentiment</th>\n",
              "      <th>day</th>\n",
              "      <th>sentiment_1</th>\n",
              "    </tr>\n",
              "  </thead>\n",
              "  <tbody>\n",
              "    <tr>\n",
              "      <th>0</th>\n",
              "      <td>2020-11-21 17:33:51</td>\n",
              "      <td>1330202780590628864</td>\n",
              "      <td>False</td>\n",
              "      <td>@DaaruBaazMehta Encouraging. Congress maybe cl...</td>\n",
              "      <td>AamIndian_1</td>\n",
              "      <td></td>\n",
              "      <td>Twitter for Android</td>\n",
              "      <td>2</td>\n",
              "      <td>1520</td>\n",
              "      <td>1133</td>\n",
              "      <td>1</td>\n",
              "      <td>[encourag, congress, mayb, clueless, tri, hard...</td>\n",
              "      <td></td>\n",
              "      <td>Negative</td>\n",
              "      <td>21</td>\n",
              "      <td>0</td>\n",
              "    </tr>\n",
              "    <tr>\n",
              "      <th>1</th>\n",
              "      <td>2020-11-21 16:15:20</td>\n",
              "      <td>1330183020658249730</td>\n",
              "      <td>False</td>\n",
              "      <td>@spiritneeraj @AnmolGaganMan Punjab AAP need t...</td>\n",
              "      <td>Gurwinderr1983</td>\n",
              "      <td></td>\n",
              "      <td>Twitter for Android</td>\n",
              "      <td>0</td>\n",
              "      <td>349</td>\n",
              "      <td>853</td>\n",
              "      <td>0</td>\n",
              "      <td>[punjab, aap, need, develop, leader, creat, he...</td>\n",
              "      <td></td>\n",
              "      <td>Positive</td>\n",
              "      <td>21</td>\n",
              "      <td>2</td>\n",
              "    </tr>\n",
              "    <tr>\n",
              "      <th>2</th>\n",
              "      <td>2020-11-21 16:11:07</td>\n",
              "      <td>1330181958211670017</td>\n",
              "      <td>False</td>\n",
              "      <td>MUST WATCH\\n\\nAAP Punjab MP @BhagwantMann Expo...</td>\n",
              "      <td>AapActive123</td>\n",
              "      <td>Dilshad Garden, New Delhi</td>\n",
              "      <td>Twitter for Android</td>\n",
              "      <td>0</td>\n",
              "      <td>1888</td>\n",
              "      <td>370</td>\n",
              "      <td>0</td>\n",
              "      <td>[must, watchaap, punjab, expos, bjp, sad, cong...</td>\n",
              "      <td>Dilshad Garden</td>\n",
              "      <td>Negative</td>\n",
              "      <td>21</td>\n",
              "      <td>0</td>\n",
              "    </tr>\n",
              "    <tr>\n",
              "      <th>3</th>\n",
              "      <td>2020-11-21 15:59:52</td>\n",
              "      <td>1330179129233334273</td>\n",
              "      <td>False</td>\n",
              "      <td>Met many people on ground today 90% people tol...</td>\n",
              "      <td>Aditya37020727</td>\n",
              "      <td></td>\n",
              "      <td>Twitter Web App</td>\n",
              "      <td>39</td>\n",
              "      <td>72</td>\n",
              "      <td>15</td>\n",
              "      <td>14</td>\n",
              "      <td>[met, mani, peopl, ground, today, peopl, told,...</td>\n",
              "      <td></td>\n",
              "      <td>Neutral</td>\n",
              "      <td>21</td>\n",
              "      <td>1</td>\n",
              "    </tr>\n",
              "    <tr>\n",
              "      <th>4</th>\n",
              "      <td>2020-11-21 15:45:41</td>\n",
              "      <td>1330175558022520839</td>\n",
              "      <td>False</td>\n",
              "      <td>AAP Punjab youth wing president And MLA @meet_...</td>\n",
              "      <td>Gurdeepgurus</td>\n",
              "      <td></td>\n",
              "      <td>Twitter for Android</td>\n",
              "      <td>42</td>\n",
              "      <td>1052</td>\n",
              "      <td>480</td>\n",
              "      <td>20</td>\n",
              "      <td>[aap, punjab, youth, wing, presid, mla, corrup...</td>\n",
              "      <td></td>\n",
              "      <td>Neutral</td>\n",
              "      <td>21</td>\n",
              "      <td>1</td>\n",
              "    </tr>\n",
              "    <tr>\n",
              "      <th>...</th>\n",
              "      <td>...</td>\n",
              "      <td>...</td>\n",
              "      <td>...</td>\n",
              "      <td>...</td>\n",
              "      <td>...</td>\n",
              "      <td>...</td>\n",
              "      <td>...</td>\n",
              "      <td>...</td>\n",
              "      <td>...</td>\n",
              "      <td>...</td>\n",
              "      <td>...</td>\n",
              "      <td>...</td>\n",
              "      <td>...</td>\n",
              "      <td>...</td>\n",
              "      <td>...</td>\n",
              "      <td>...</td>\n",
              "    </tr>\n",
              "    <tr>\n",
              "      <th>191</th>\n",
              "      <td>2020-11-15 14:52:00</td>\n",
              "      <td>1327987723106349056</td>\n",
              "      <td>False</td>\n",
              "      <td>@artijourno 1. If pollution isn’t good, go aft...</td>\n",
              "      <td>Doubledecacorn</td>\n",
              "      <td>🐅🐘🦁</td>\n",
              "      <td>Twitter Web App</td>\n",
              "      <td>0</td>\n",
              "      <td>587</td>\n",
              "      <td>1033</td>\n",
              "      <td>0</td>\n",
              "      <td>[pollut, isnt, good, thing, actual, pollut, le...</td>\n",
              "      <td>🐅🐘🦁</td>\n",
              "      <td>Negative</td>\n",
              "      <td>15</td>\n",
              "      <td>0</td>\n",
              "    </tr>\n",
              "    <tr>\n",
              "      <th>192</th>\n",
              "      <td>2020-11-15 14:49:39</td>\n",
              "      <td>1327987130677690370</td>\n",
              "      <td>False</td>\n",
              "      <td>@sidharth_shukla you are a player. Apko jab la...</td>\n",
              "      <td>Reva67229646</td>\n",
              "      <td></td>\n",
              "      <td>Twitter Web App</td>\n",
              "      <td>1</td>\n",
              "      <td>0</td>\n",
              "      <td>1</td>\n",
              "      <td>0</td>\n",
              "      <td>[player, apko, jab, lagta, sidnaz, engag, kam,...</td>\n",
              "      <td></td>\n",
              "      <td>Positive</td>\n",
              "      <td>15</td>\n",
              "      <td>2</td>\n",
              "    </tr>\n",
              "    <tr>\n",
              "      <th>193</th>\n",
              "      <td>2020-11-15 14:35:13</td>\n",
              "      <td>1327983499354066944</td>\n",
              "      <td>False</td>\n",
              "      <td>@Astute_Dopey @ng_p_f @TheMohil8 @ANI New part...</td>\n",
              "      <td>Honestpoliticss</td>\n",
              "      <td></td>\n",
              "      <td>Twitter Web App</td>\n",
              "      <td>0</td>\n",
              "      <td>10</td>\n",
              "      <td>27</td>\n",
              "      <td>0</td>\n",
              "      <td>[new, parti, bhai, form, chunav, ladn, jeetn, ...</td>\n",
              "      <td></td>\n",
              "      <td>Positive</td>\n",
              "      <td>15</td>\n",
              "      <td>2</td>\n",
              "    </tr>\n",
              "    <tr>\n",
              "      <th>194</th>\n",
              "      <td>2020-11-15 14:18:06</td>\n",
              "      <td>1327979191183110145</td>\n",
              "      <td>False</td>\n",
              "      <td>@ng_p_f @TheMohil8 @ANI 2022 is crucial year. ...</td>\n",
              "      <td>Honestpoliticss</td>\n",
              "      <td></td>\n",
              "      <td>Twitter Web App</td>\n",
              "      <td>0</td>\n",
              "      <td>10</td>\n",
              "      <td>27</td>\n",
              "      <td>0</td>\n",
              "      <td>[crucial, year, aap, win, uttarakhand, goa, pu...</td>\n",
              "      <td></td>\n",
              "      <td>Positive</td>\n",
              "      <td>15</td>\n",
              "      <td>2</td>\n",
              "    </tr>\n",
              "    <tr>\n",
              "      <th>195</th>\n",
              "      <td>2020-11-15 14:06:52</td>\n",
              "      <td>1327976364222205952</td>\n",
              "      <td>False</td>\n",
              "      <td>@ANI If its EVM then how did congress won in P...</td>\n",
              "      <td>iamGAK4</td>\n",
              "      <td>Mumbai, India</td>\n",
              "      <td>Twitter for iPhone</td>\n",
              "      <td>0</td>\n",
              "      <td>114</td>\n",
              "      <td>153</td>\n",
              "      <td>0</td>\n",
              "      <td>[evm, congress, punjab, maharastra, aap, delhi]</td>\n",
              "      <td>Mumbai</td>\n",
              "      <td>Neutral</td>\n",
              "      <td>15</td>\n",
              "      <td>1</td>\n",
              "    </tr>\n",
              "  </tbody>\n",
              "</table>\n",
              "<p>196 rows × 16 columns</p>\n",
              "</div>"
            ],
            "text/plain": [
              "                   Date             Tweet_id  ...  day sentiment_1\n",
              "0   2020-11-21 17:33:51  1330202780590628864  ...   21           0\n",
              "1   2020-11-21 16:15:20  1330183020658249730  ...   21           2\n",
              "2   2020-11-21 16:11:07  1330181958211670017  ...   21           0\n",
              "3   2020-11-21 15:59:52  1330179129233334273  ...   21           1\n",
              "4   2020-11-21 15:45:41  1330175558022520839  ...   21           1\n",
              "..                  ...                  ...  ...  ...         ...\n",
              "191 2020-11-15 14:52:00  1327987723106349056  ...   15           0\n",
              "192 2020-11-15 14:49:39  1327987130677690370  ...   15           2\n",
              "193 2020-11-15 14:35:13  1327983499354066944  ...   15           2\n",
              "194 2020-11-15 14:18:06  1327979191183110145  ...   15           2\n",
              "195 2020-11-15 14:06:52  1327976364222205952  ...   15           1\n",
              "\n",
              "[196 rows x 16 columns]"
            ]
          },
          "metadata": {
            "tags": []
          },
          "execution_count": 67
        }
      ]
    },
    {
      "cell_type": "code",
      "metadata": {
        "id": "xBc2j_RibPTh"
      },
      "source": [
        "cv = CountVectorizer(max_features = 1500)\n",
        "X = cv.fit_transform(all_words).toarray()\n",
        "y = df1['sentiment_1']"
      ],
      "execution_count": 68,
      "outputs": []
    },
    {
      "cell_type": "code",
      "metadata": {
        "id": "ePYtd2BMbPXN"
      },
      "source": [
        "X_train, X_test, y_train, y_test = train_test_split(X, y, test_size = 0.3, random_state = 0)\n",
        "# NEGATIVE == 0\n",
        "# NEUTRAL == 1\n",
        "# POSITIVE == 2"
      ],
      "execution_count": 69,
      "outputs": []
    },
    {
      "cell_type": "code",
      "metadata": {
        "id": "oTO3zF_gbPa5"
      },
      "source": [
        "#X_train, X_test, y_train, y_test = train_test_split(X_tfidf, y, test_size = 0.3, random_state = 0)"
      ],
      "execution_count": 70,
      "outputs": []
    },
    {
      "cell_type": "code",
      "metadata": {
        "id": "iaFTWb0LbPfA"
      },
      "source": [
        "classifier_DT = DecisionTreeClassifier()\n",
        "classifier_DT.fit(X_train, y_train)\n",
        "y_pred_DT = classifier_DT.predict(X_test)"
      ],
      "execution_count": 71,
      "outputs": []
    },
    {
      "cell_type": "code",
      "metadata": {
        "id": "d27boANUbPi9",
        "colab": {
          "base_uri": "https://localhost:8080/"
        },
        "outputId": "c932f2e1-e122-4c01-dc8b-bfcff74e59c2"
      },
      "source": [
        "accuracy_score_DT = accuracy_score(y_test, y_pred_DT)\n",
        "precision_score_DT = precision_score(y_test, y_pred_DT , average = 'micro')\n",
        "recall_score_DT = recall_score(y_test, y_pred_DT , average = 'micro')\n",
        "f1_score_DT = f1_score(y_test, y_pred_DT , average = 'micro')\n",
        "print(\"Accuracy Score: \" , accuracy_score_DT)\n",
        "print(\"Precision Score: \" , precision_score_DT)\n",
        "print(\"Recall Score: \" , recall_score_DT)\n",
        "print(\"F1 Score: \" , f1_score_DT)"
      ],
      "execution_count": 72,
      "outputs": [
        {
          "output_type": "stream",
          "text": [
            "Accuracy Score:  0.576271186440678\n",
            "Precision Score:  0.576271186440678\n",
            "Recall Score:  0.576271186440678\n",
            "F1 Score:  0.576271186440678\n"
          ],
          "name": "stdout"
        }
      ]
    },
    {
      "cell_type": "code",
      "metadata": {
        "id": "drhy2odtbPmU",
        "colab": {
          "base_uri": "https://localhost:8080/",
          "height": 385
        },
        "outputId": "dfd67174-6e1c-4906-feec-380683db94a0"
      },
      "source": [
        "cm_DT = confusion_matrix(y_test, y_pred_DT)\n",
        "\n",
        "      # neg # neutr  # pos\n",
        "# pos #  232   65      1397\n",
        "# neu #  87   1175     51\n",
        "# neg # 1104   82      321\n",
        "\n",
        "df_cm_DT = pd.DataFrame(cm_DT, range(3), range(3))\n",
        "plt.figure(figsize=(10,6))\n",
        "categories = ['Negative','Neutral','Positive']\n",
        "sns.set(font_scale=1.2) # for label size\n",
        "sns.heatmap(df_cm_DT, annot=True, annot_kws={\"size\": 18}, xticklabels = categories,\n",
        "            yticklabels = categories ,fmt=\"d\") # font size\n",
        "plt.ylim(0, 3)\n",
        "plt.show()"
      ],
      "execution_count": 73,
      "outputs": [
        {
          "output_type": "display_data",
          "data": {
            "image/png": "[encoded data removed]",
            "text/plain": [
              "<Figure size 720x432 with 2 Axes>"
            ]
          },
          "metadata": {
            "tags": [],
            "needs_background": "light"
          }
        }
      ]
    },
    {
      "cell_type": "code",
      "metadata": {
        "id": "K0CwHnJPko8z",
        "colab": {
          "base_uri": "https://localhost:8080/"
        },
        "outputId": "b91b340c-e0e3-4b1d-b85d-76ed3034fc1d"
      },
      "source": [
        "#Getting the parameters of the particular model \n",
        "classifier_DT.get_params().keys()"
      ],
      "execution_count": null,
      "outputs": [
        {
          "output_type": "execute_result",
          "data": {
            "text/plain": [
              "dict_keys(['ccp_alpha', 'class_weight', 'criterion', 'max_depth', 'max_features', 'max_leaf_nodes', 'min_impurity_decrease', 'min_impurity_split', 'min_samples_leaf', 'min_samples_split', 'min_weight_fraction_leaf', 'presort', 'random_state', 'splitter'])"
            ]
          },
          "metadata": {
            "tags": []
          },
          "execution_count": 77
        }
      ]
    },
    {
      "cell_type": "code",
      "metadata": {
        "id": "zJvr_oyVkvC9"
      },
      "source": [
        "classifier_DT_opti = DecisionTreeClassifier() \n",
        "\n",
        "param_grid = {\"max_depth\" : [1,3,5,7],     #Setting the parameters for the model\n",
        "               \"criterion\" : [\"gini\",\"entropy\"],\n",
        "              \"min_samples_split\" : [2,3,4],\n",
        "              \"max_leaf_nodes\" : [7,8,9],\n",
        "              \"min_samples_leaf\": [2,3,4],\n",
        "             }"
      ],
      "execution_count": 74,
      "outputs": []
    },
    {
      "cell_type": "code",
      "metadata": {
        "id": "PuxfADWvkyNv",
        "colab": {
          "base_uri": "https://localhost:8080/"
        },
        "outputId": "58fd54bd-f0f9-478e-aeec-dbb5ce5d5e78"
      },
      "source": [
        "model_DT = model_selection.GridSearchCV(estimator=classifier_DT_opti, #GridSearch\n",
        "                                    param_grid=param_grid, \n",
        "                                        cv=10)\n",
        "model_DT.fit(X_train,y_train)\n",
        "print(model_DT.best_score_) #Gives the best score of the model\n",
        "print(model_DT.best_estimator_.get_params()) #Gives the best parameters"
      ],
      "execution_count": 75,
      "outputs": [
        {
          "output_type": "stream",
          "text": [
            "0.4895604395604396\n",
            "{'ccp_alpha': 0.0, 'class_weight': None, 'criterion': 'gini', 'max_depth': 5, 'max_features': None, 'max_leaf_nodes': 7, 'min_impurity_decrease': 0.0, 'min_impurity_split': None, 'min_samples_leaf': 2, 'min_samples_split': 2, 'min_weight_fraction_leaf': 0.0, 'presort': 'deprecated', 'random_state': None, 'splitter': 'best'}\n"
          ],
          "name": "stdout"
        }
      ]
    },
    {
      "cell_type": "code",
      "metadata": {
        "id": "gzgA0zjCkyQx",
        "colab": {
          "base_uri": "https://localhost:8080/"
        },
        "outputId": "a0c03b01-22c7-4956-ef64-3f5b033bc38a"
      },
      "source": [
        "y_pred_model_DT = model_DT.predict(X_test)\n",
        "\n",
        "accuracy_score_model_DT = accuracy_score(y_test, y_pred_model_DT)\n",
        "precision_score_model_DT = precision_score(y_test, y_pred_model_DT , average = 'micro')\n",
        "recall_score_model_DT = recall_score(y_test, y_pred_model_DT , average = 'micro')\n",
        "f1_score_model_DT = f1_score(y_test, y_pred_model_DT , average = 'micro')\n",
        "print(\"Accuracy Score: \" , accuracy_score_model_DT)\n",
        "print(\"Precision Score: \" , precision_score_model_DT)\n",
        "print(\"Recall Score: \" , recall_score_model_DT)\n",
        "print(\"F1 Score: \" , f1_score_model_DT)"
      ],
      "execution_count": 76,
      "outputs": [
        {
          "output_type": "stream",
          "text": [
            "Accuracy Score:  0.423728813559322\n",
            "Precision Score:  0.423728813559322\n",
            "Recall Score:  0.423728813559322\n",
            "F1 Score:  0.423728813559322\n"
          ],
          "name": "stdout"
        }
      ]
    },
    {
      "cell_type": "code",
      "metadata": {
        "id": "J2nH4bFQkyUK",
        "colab": {
          "base_uri": "https://localhost:8080/",
          "height": 380
        },
        "outputId": "df1bd849-c5d8-453a-9069-7926945a3db6"
      },
      "source": [
        "cm_model_DT = confusion_matrix(y_test, y_pred_model_DT)\n",
        "\n",
        "df_cm_model_DT = pd.DataFrame(cm_model_DT, range(3), range(3))\n",
        "plt.figure(figsize=(10,6))\n",
        "categories = ['Negative','Neutral','Positive']\n",
        "sns.set(font_scale=1.2) # for label size\n",
        "sns.heatmap(df_cm_model_DT, annot=True, annot_kws={\"size\": 18}, xticklabels = categories,\n",
        "            yticklabels = categories ,fmt=\"d\") # font size\n",
        "plt.ylim(0, 3)\n",
        "plt.show()"
      ],
      "execution_count": 77,
      "outputs": [
        {
          "output_type": "display_data",
          "data": {
            "image/png": "[encoded data removed]",
            "text/plain": [
              "<Figure size 720x432 with 2 Axes>"
            ]
          },
          "metadata": {
            "tags": []
          }
        }
      ]
    },
    {
      "cell_type": "code",
      "metadata": {
        "id": "ngig2X9VkyYE"
      },
      "source": [
        "classifier_RF = RandomForestClassifier()\n",
        "classifier_RF.fit(X_train, y_train)\n",
        "y_pred_RF = classifier_RF.predict(X_test)"
      ],
      "execution_count": 78,
      "outputs": []
    },
    {
      "cell_type": "code",
      "metadata": {
        "id": "63-Ls52Jkyby",
        "colab": {
          "base_uri": "https://localhost:8080/"
        },
        "outputId": "27c1a22d-5077-4afc-cec8-ee66cdf45ccf"
      },
      "source": [
        "accuracy_score_RF = accuracy_score(y_test, y_pred_RF)\n",
        "precision_score_RF = precision_score(y_test, y_pred_RF , average = 'micro')\n",
        "recall_score_RF = recall_score(y_test, y_pred_RF, average = 'micro')\n",
        "f1_score_RF = f1_score(y_test, y_pred_RF, average = 'micro')\n",
        "print(\"Accuracy Score: \" , accuracy_score_RF)\n",
        "print(\"Precision Score: \" , precision_score_RF)\n",
        "print(\"Recall Score: \" , recall_score_RF)\n",
        "print(\"F1 Score: \" , f1_score_RF)"
      ],
      "execution_count": 79,
      "outputs": [
        {
          "output_type": "stream",
          "text": [
            "Accuracy Score:  0.5084745762711864\n",
            "Precision Score:  0.5084745762711864\n",
            "Recall Score:  0.5084745762711864\n",
            "F1 Score:  0.5084745762711864\n"
          ],
          "name": "stdout"
        }
      ]
    },
    {
      "cell_type": "code",
      "metadata": {
        "id": "YHbA5LWNkyfk",
        "colab": {
          "base_uri": "https://localhost:8080/",
          "height": 380
        },
        "outputId": "34604fab-1daf-4e07-de6a-76bb649c49f5"
      },
      "source": [
        "cm_RF = confusion_matrix(y_test, y_pred_RF)\n",
        "\n",
        "df_cm_RF = pd.DataFrame(cm_RF, range(3), range(3))\n",
        "categories = ['Negative','Neutral','Positive']\n",
        "plt.figure(figsize=(10,6))\n",
        "sns.set(font_scale=1.2) # for label size\n",
        "sns.heatmap(df_cm_RF, annot=True, annot_kws={\"size\": 18}, xticklabels = categories,\n",
        "            yticklabels = categories,fmt=\"d\") # font size\n",
        "plt.ylim(0, 3)\n",
        "plt.show()"
      ],
      "execution_count": 80,
      "outputs": [
        {
          "output_type": "display_data",
          "data": {
            "image/png": "[encoded data removed]",
            "text/plain": [
              "<Figure size 720x432 with 2 Axes>"
            ]
          },
          "metadata": {
            "tags": []
          }
        }
      ]
    },
    {
      "cell_type": "code",
      "metadata": {
        "id": "E5BTMRiAkyl9",
        "colab": {
          "base_uri": "https://localhost:8080/"
        },
        "outputId": "c5aa1fc9-9cc7-439e-c5a7-a4c58c18874d"
      },
      "source": [
        "#Getting the parameters of the particular model \n",
        "classifier_RF.get_params().keys()"
      ],
      "execution_count": 81,
      "outputs": [
        {
          "output_type": "execute_result",
          "data": {
            "text/plain": [
              "dict_keys(['bootstrap', 'ccp_alpha', 'class_weight', 'criterion', 'max_depth', 'max_features', 'max_leaf_nodes', 'max_samples', 'min_impurity_decrease', 'min_impurity_split', 'min_samples_leaf', 'min_samples_split', 'min_weight_fraction_leaf', 'n_estimators', 'n_jobs', 'oob_score', 'random_state', 'verbose', 'warm_start'])"
            ]
          },
          "metadata": {
            "tags": []
          },
          "execution_count": 81
        }
      ]
    },
    {
      "cell_type": "code",
      "metadata": {
        "id": "VBmNF8XVkysq",
        "colab": {
          "base_uri": "https://localhost:8080/"
        },
        "outputId": "e391ff09-95d5-4805-af31-4d4f911a87f9"
      },
      "source": [
        "classifier_RF_opti = RandomForestClassifier()\n",
        "param_grid = {\"n_estimators\": np.arange(100,1500,100), #Selecting the parameters\n",
        "               \"max_depth\": np.arange(1,20),\n",
        "               \"criterion\": [\"gini\",\"entropy\"], \n",
        "              }\n",
        "\n",
        "classifier_model_RF = model_selection.RandomizedSearchCV(estimator=classifier_RF_opti, #RandomizedSearch\n",
        "                                    param_distributions=param_grid,\n",
        "                                    n_iter=10,\n",
        "                                    scoring='accuracy',\n",
        "                                    verbose=10,\n",
        "                                    n_jobs=1,\n",
        "                                    cv=5)\n",
        "\n",
        "classifier_model_RF.fit(X_train,y_train)\n",
        "print(classifier_model_RF.best_score_) #Gives the best score of the model\n",
        "print(classifier_model_RF.best_estimator_.get_params()) #Gives the best parameters of the model"
      ],
      "execution_count": 82,
      "outputs": [
        {
          "output_type": "stream",
          "text": [
            "Fitting 5 folds for each of 10 candidates, totalling 50 fits\n",
            "[CV] n_estimators=1400, max_depth=19, criterion=gini .................\n"
          ],
          "name": "stdout"
        },
        {
          "output_type": "stream",
          "text": [
            "[Parallel(n_jobs=1)]: Using backend SequentialBackend with 1 concurrent workers.\n"
          ],
          "name": "stderr"
        },
        {
          "output_type": "stream",
          "text": [
            "[CV]  n_estimators=1400, max_depth=19, criterion=gini, score=0.571, total=   2.1s\n",
            "[CV] n_estimators=1400, max_depth=19, criterion=gini .................\n"
          ],
          "name": "stdout"
        },
        {
          "output_type": "stream",
          "text": [
            "[Parallel(n_jobs=1)]: Done   1 out of   1 | elapsed:    2.1s remaining:    0.0s\n"
          ],
          "name": "stderr"
        },
        {
          "output_type": "stream",
          "text": [
            "[CV]  n_estimators=1400, max_depth=19, criterion=gini, score=0.607, total=   2.1s\n",
            "[CV] n_estimators=1400, max_depth=19, criterion=gini .................\n"
          ],
          "name": "stdout"
        },
        {
          "output_type": "stream",
          "text": [
            "[Parallel(n_jobs=1)]: Done   2 out of   2 | elapsed:    4.3s remaining:    0.0s\n"
          ],
          "name": "stderr"
        },
        {
          "output_type": "stream",
          "text": [
            "[CV]  n_estimators=1400, max_depth=19, criterion=gini, score=0.630, total=   2.1s\n",
            "[CV] n_estimators=1400, max_depth=19, criterion=gini .................\n"
          ],
          "name": "stdout"
        },
        {
          "output_type": "stream",
          "text": [
            "[Parallel(n_jobs=1)]: Done   3 out of   3 | elapsed:    6.4s remaining:    0.0s\n"
          ],
          "name": "stderr"
        },
        {
          "output_type": "stream",
          "text": [
            "[CV]  n_estimators=1400, max_depth=19, criterion=gini, score=0.556, total=   2.1s\n",
            "[CV] n_estimators=1400, max_depth=19, criterion=gini .................\n"
          ],
          "name": "stdout"
        },
        {
          "output_type": "stream",
          "text": [
            "[Parallel(n_jobs=1)]: Done   4 out of   4 | elapsed:    8.6s remaining:    0.0s\n"
          ],
          "name": "stderr"
        },
        {
          "output_type": "stream",
          "text": [
            "[CV]  n_estimators=1400, max_depth=19, criterion=gini, score=0.444, total=   2.2s\n",
            "[CV] n_estimators=500, max_depth=4, criterion=entropy ................\n"
          ],
          "name": "stdout"
        },
        {
          "output_type": "stream",
          "text": [
            "[Parallel(n_jobs=1)]: Done   5 out of   5 | elapsed:   10.7s remaining:    0.0s\n"
          ],
          "name": "stderr"
        },
        {
          "output_type": "stream",
          "text": [
            "[CV]  n_estimators=500, max_depth=4, criterion=entropy, score=0.500, total=   0.7s\n",
            "[CV] n_estimators=500, max_depth=4, criterion=entropy ................\n"
          ],
          "name": "stdout"
        },
        {
          "output_type": "stream",
          "text": [
            "[Parallel(n_jobs=1)]: Done   6 out of   6 | elapsed:   11.4s remaining:    0.0s\n"
          ],
          "name": "stderr"
        },
        {
          "output_type": "stream",
          "text": [
            "[CV]  n_estimators=500, max_depth=4, criterion=entropy, score=0.500, total=   0.7s\n",
            "[CV] n_estimators=500, max_depth=4, criterion=entropy ................\n"
          ],
          "name": "stdout"
        },
        {
          "output_type": "stream",
          "text": [
            "[Parallel(n_jobs=1)]: Done   7 out of   7 | elapsed:   12.1s remaining:    0.0s\n"
          ],
          "name": "stderr"
        },
        {
          "output_type": "stream",
          "text": [
            "[CV]  n_estimators=500, max_depth=4, criterion=entropy, score=0.444, total=   0.7s\n",
            "[CV] n_estimators=500, max_depth=4, criterion=entropy ................\n"
          ],
          "name": "stdout"
        },
        {
          "output_type": "stream",
          "text": [
            "[Parallel(n_jobs=1)]: Done   8 out of   8 | elapsed:   12.8s remaining:    0.0s\n"
          ],
          "name": "stderr"
        },
        {
          "output_type": "stream",
          "text": [
            "[CV]  n_estimators=500, max_depth=4, criterion=entropy, score=0.481, total=   0.7s\n",
            "[CV] n_estimators=500, max_depth=4, criterion=entropy ................\n"
          ],
          "name": "stdout"
        },
        {
          "output_type": "stream",
          "text": [
            "[Parallel(n_jobs=1)]: Done   9 out of   9 | elapsed:   13.5s remaining:    0.0s\n"
          ],
          "name": "stderr"
        },
        {
          "output_type": "stream",
          "text": [
            "[CV]  n_estimators=500, max_depth=4, criterion=entropy, score=0.481, total=   0.7s\n",
            "[CV] n_estimators=300, max_depth=15, criterion=gini ..................\n",
            "[CV]  n_estimators=300, max_depth=15, criterion=gini, score=0.571, total=   0.4s\n",
            "[CV] n_estimators=300, max_depth=15, criterion=gini ..................\n",
            "[CV]  n_estimators=300, max_depth=15, criterion=gini, score=0.607, total=   0.5s\n",
            "[CV] n_estimators=300, max_depth=15, criterion=gini ..................\n",
            "[CV]  n_estimators=300, max_depth=15, criterion=gini, score=0.556, total=   0.5s\n",
            "[CV] n_estimators=300, max_depth=15, criterion=gini ..................\n",
            "[CV]  n_estimators=300, max_depth=15, criterion=gini, score=0.556, total=   0.5s\n",
            "[CV] n_estimators=300, max_depth=15, criterion=gini ..................\n",
            "[CV]  n_estimators=300, max_depth=15, criterion=gini, score=0.519, total=   0.5s\n",
            "[CV] n_estimators=200, max_depth=17, criterion=gini ..................\n",
            "[CV]  n_estimators=200, max_depth=17, criterion=gini, score=0.571, total=   0.3s\n",
            "[CV] n_estimators=200, max_depth=17, criterion=gini ..................\n",
            "[CV]  n_estimators=200, max_depth=17, criterion=gini, score=0.571, total=   0.3s\n",
            "[CV] n_estimators=200, max_depth=17, criterion=gini ..................\n",
            "[CV]  n_estimators=200, max_depth=17, criterion=gini, score=0.556, total=   0.3s\n",
            "[CV] n_estimators=200, max_depth=17, criterion=gini ..................\n",
            "[CV]  n_estimators=200, max_depth=17, criterion=gini, score=0.556, total=   0.3s\n",
            "[CV] n_estimators=200, max_depth=17, criterion=gini ..................\n",
            "[CV]  n_estimators=200, max_depth=17, criterion=gini, score=0.481, total=   0.3s\n",
            "[CV] n_estimators=800, max_depth=11, criterion=entropy ...............\n",
            "[CV]  n_estimators=800, max_depth=11, criterion=entropy, score=0.571, total=   1.2s\n",
            "[CV] n_estimators=800, max_depth=11, criterion=entropy ...............\n",
            "[CV]  n_estimators=800, max_depth=11, criterion=entropy, score=0.607, total=   1.2s\n",
            "[CV] n_estimators=800, max_depth=11, criterion=entropy ...............\n",
            "[CV]  n_estimators=800, max_depth=11, criterion=entropy, score=0.593, total=   1.2s\n",
            "[CV] n_estimators=800, max_depth=11, criterion=entropy ...............\n",
            "[CV]  n_estimators=800, max_depth=11, criterion=entropy, score=0.593, total=   1.2s\n",
            "[CV] n_estimators=800, max_depth=11, criterion=entropy ...............\n",
            "[CV]  n_estimators=800, max_depth=11, criterion=entropy, score=0.519, total=   1.2s\n",
            "[CV] n_estimators=1400, max_depth=4, criterion=entropy ...............\n",
            "[CV]  n_estimators=1400, max_depth=4, criterion=entropy, score=0.500, total=   1.9s\n",
            "[CV] n_estimators=1400, max_depth=4, criterion=entropy ...............\n",
            "[CV]  n_estimators=1400, max_depth=4, criterion=entropy, score=0.500, total=   2.0s\n",
            "[CV] n_estimators=1400, max_depth=4, criterion=entropy ...............\n",
            "[CV]  n_estimators=1400, max_depth=4, criterion=entropy, score=0.481, total=   1.9s\n",
            "[CV] n_estimators=1400, max_depth=4, criterion=entropy ...............\n",
            "[CV]  n_estimators=1400, max_depth=4, criterion=entropy, score=0.444, total=   1.9s\n",
            "[CV] n_estimators=1400, max_depth=4, criterion=entropy ...............\n",
            "[CV]  n_estimators=1400, max_depth=4, criterion=entropy, score=0.407, total=   1.9s\n",
            "[CV] n_estimators=1300, max_depth=18, criterion=gini .................\n",
            "[CV]  n_estimators=1300, max_depth=18, criterion=gini, score=0.536, total=   2.0s\n",
            "[CV] n_estimators=1300, max_depth=18, criterion=gini .................\n",
            "[CV]  n_estimators=1300, max_depth=18, criterion=gini, score=0.607, total=   2.0s\n",
            "[CV] n_estimators=1300, max_depth=18, criterion=gini .................\n",
            "[CV]  n_estimators=1300, max_depth=18, criterion=gini, score=0.667, total=   2.0s\n",
            "[CV] n_estimators=1300, max_depth=18, criterion=gini .................\n",
            "[CV]  n_estimators=1300, max_depth=18, criterion=gini, score=0.593, total=   2.0s\n",
            "[CV] n_estimators=1300, max_depth=18, criterion=gini .................\n",
            "[CV]  n_estimators=1300, max_depth=18, criterion=gini, score=0.444, total=   2.0s\n",
            "[CV] n_estimators=1000, max_depth=17, criterion=gini .................\n",
            "[CV]  n_estimators=1000, max_depth=17, criterion=gini, score=0.571, total=   1.5s\n",
            "[CV] n_estimators=1000, max_depth=17, criterion=gini .................\n",
            "[CV]  n_estimators=1000, max_depth=17, criterion=gini, score=0.607, total=   1.5s\n",
            "[CV] n_estimators=1000, max_depth=17, criterion=gini .................\n",
            "[CV]  n_estimators=1000, max_depth=17, criterion=gini, score=0.593, total=   1.5s\n",
            "[CV] n_estimators=1000, max_depth=17, criterion=gini .................\n",
            "[CV]  n_estimators=1000, max_depth=17, criterion=gini, score=0.556, total=   1.5s\n",
            "[CV] n_estimators=1000, max_depth=17, criterion=gini .................\n",
            "[CV]  n_estimators=1000, max_depth=17, criterion=gini, score=0.444, total=   1.5s\n",
            "[CV] n_estimators=800, max_depth=10, criterion=gini ..................\n",
            "[CV]  n_estimators=800, max_depth=10, criterion=gini, score=0.571, total=   1.2s\n",
            "[CV] n_estimators=800, max_depth=10, criterion=gini ..................\n",
            "[CV]  n_estimators=800, max_depth=10, criterion=gini, score=0.536, total=   1.1s\n",
            "[CV] n_estimators=800, max_depth=10, criterion=gini ..................\n",
            "[CV]  n_estimators=800, max_depth=10, criterion=gini, score=0.593, total=   1.2s\n",
            "[CV] n_estimators=800, max_depth=10, criterion=gini ..................\n",
            "[CV]  n_estimators=800, max_depth=10, criterion=gini, score=0.519, total=   1.2s\n",
            "[CV] n_estimators=800, max_depth=10, criterion=gini ..................\n",
            "[CV]  n_estimators=800, max_depth=10, criterion=gini, score=0.481, total=   1.1s\n",
            "[CV] n_estimators=1400, max_depth=2, criterion=gini ..................\n",
            "[CV]  n_estimators=1400, max_depth=2, criterion=gini, score=0.429, total=   1.9s\n",
            "[CV] n_estimators=1400, max_depth=2, criterion=gini ..................\n",
            "[CV]  n_estimators=1400, max_depth=2, criterion=gini, score=0.429, total=   1.9s\n",
            "[CV] n_estimators=1400, max_depth=2, criterion=gini ..................\n",
            "[CV]  n_estimators=1400, max_depth=2, criterion=gini, score=0.407, total=   1.8s\n",
            "[CV] n_estimators=1400, max_depth=2, criterion=gini ..................\n",
            "[CV]  n_estimators=1400, max_depth=2, criterion=gini, score=0.407, total=   1.9s\n",
            "[CV] n_estimators=1400, max_depth=2, criterion=gini ..................\n",
            "[CV]  n_estimators=1400, max_depth=2, criterion=gini, score=0.481, total=   1.8s\n"
          ],
          "name": "stdout"
        },
        {
          "output_type": "stream",
          "text": [
            "[Parallel(n_jobs=1)]: Done  50 out of  50 | elapsed:  1.1min finished\n"
          ],
          "name": "stderr"
        },
        {
          "output_type": "stream",
          "text": [
            "0.5764550264550264\n",
            "{'bootstrap': True, 'ccp_alpha': 0.0, 'class_weight': None, 'criterion': 'entropy', 'max_depth': 11, 'max_features': 'auto', 'max_leaf_nodes': None, 'max_samples': None, 'min_impurity_decrease': 0.0, 'min_impurity_split': None, 'min_samples_leaf': 1, 'min_samples_split': 2, 'min_weight_fraction_leaf': 0.0, 'n_estimators': 800, 'n_jobs': None, 'oob_score': False, 'random_state': None, 'verbose': 0, 'warm_start': False}\n"
          ],
          "name": "stdout"
        }
      ]
    },
    {
      "cell_type": "code",
      "metadata": {
        "id": "_HMg7RGQkyw9",
        "colab": {
          "base_uri": "https://localhost:8080/"
        },
        "outputId": "7df6ba48-f92f-45e7-d1ea-ab5ea8001483"
      },
      "source": [
        "y_pred_model_RF = classifier_model_RF.predict(X_test)\n",
        "\n",
        "accuracy_score_model_RF = accuracy_score(y_test, y_pred_model_RF)\n",
        "precision_score_model_RF = precision_score(y_test, y_pred_model_RF , average = 'micro')\n",
        "recall_score_model_RF = recall_score(y_test, y_pred_model_RF , average = 'micro')\n",
        "f1_score_model_RF = f1_score(y_test, y_pred_model_RF , average = 'micro')\n",
        "print(\"Accuracy Score: \" , accuracy_score_model_RF)\n",
        "print(\"Precision Score: \" , precision_score_model_RF)\n",
        "print(\"Recall Score: \" , recall_score_model_RF)\n",
        "print(\"F1 Score: \" , f1_score_model_RF)"
      ],
      "execution_count": 83,
      "outputs": [
        {
          "output_type": "stream",
          "text": [
            "Accuracy Score:  0.5423728813559322\n",
            "Precision Score:  0.5423728813559322\n",
            "Recall Score:  0.5423728813559322\n",
            "F1 Score:  0.5423728813559322\n"
          ],
          "name": "stdout"
        }
      ]
    },
    {
      "cell_type": "code",
      "metadata": {
        "id": "Jv8KNIbcky7X",
        "colab": {
          "base_uri": "https://localhost:8080/",
          "height": 380
        },
        "outputId": "152c3d67-50ae-4862-8cea-b6cc87df0a2d"
      },
      "source": [
        "cm_model_RF = confusion_matrix(y_test, y_pred_model_RF)\n",
        "\n",
        "df_cm_model_RF = pd.DataFrame(cm_model_RF, range(3), range(3))\n",
        "plt.figure(figsize=(10,6))\n",
        "categories = ['Negative','Neutral','Positive']\n",
        "sns.set(font_scale=1.2) # for label size\n",
        "sns.heatmap(df_cm_model_RF, annot=True, annot_kws={\"size\": 18}, xticklabels = categories,\n",
        "            yticklabels = categories ,fmt=\"d\") # font size\n",
        "plt.ylim(0, 3)\n",
        "plt.show()"
      ],
      "execution_count": 84,
      "outputs": [
        {
          "output_type": "display_data",
          "data": {
            "image/png": "[encoded data removed]",
            "text/plain": [
              "<Figure size 720x432 with 2 Axes>"
            ]
          },
          "metadata": {
            "tags": []
          }
        }
      ]
    },
    {
      "cell_type": "code",
      "metadata": {
        "id": "DQyX1mAPky_I",
        "colab": {
          "base_uri": "https://localhost:8080/"
        },
        "outputId": "56d56eb2-576d-4e41-c5b8-da9e64d10088"
      },
      "source": [
        "classifier_NB = MultinomialNB()\n",
        "classifier_NB.fit(X_train, y_train)\n",
        "y_pred_NB = classifier_NB.predict(X_test)\n",
        "\n",
        "accuracy_score_NB = accuracy_score(y_test, y_pred_NB)\n",
        "precision_score_NB = precision_score(y_test, y_pred_NB , average = 'micro')\n",
        "recall_score_NB = recall_score(y_test, y_pred_NB, average = 'micro')\n",
        "f1_score_NB = f1_score(y_test, y_pred_NB, average = 'micro')\n",
        "print(\"Accuracy Score: \" , accuracy_score_NB)\n",
        "print(\"Precision Score: \" , precision_score_NB)\n",
        "print(\"Recall Score: \" , recall_score_NB)\n",
        "print(\"F1 Score: \" , f1_score_NB)"
      ],
      "execution_count": 85,
      "outputs": [
        {
          "output_type": "stream",
          "text": [
            "Accuracy Score:  0.5254237288135594\n",
            "Precision Score:  0.5254237288135594\n",
            "Recall Score:  0.5254237288135594\n",
            "F1 Score:  0.5254237288135594\n"
          ],
          "name": "stdout"
        }
      ]
    },
    {
      "cell_type": "code",
      "metadata": {
        "id": "9tg9p6S-kzDm",
        "colab": {
          "base_uri": "https://localhost:8080/",
          "height": 380
        },
        "outputId": "31570813-fbdc-40a3-d61d-cf150442b28b"
      },
      "source": [
        "cm_NB = confusion_matrix(y_test, y_pred_NB)\n",
        "\n",
        "df_cm_NB = pd.DataFrame(cm_NB, range(3), range(3))\n",
        "plt.figure(figsize=(10,6))\n",
        "categories = ['Negative','Neutral','Positive']\n",
        "sns.set(font_scale=1.2) # for label size\n",
        "sns.heatmap(df_cm_NB, annot=True, annot_kws={\"size\": 18}, xticklabels = categories,\n",
        "            yticklabels = categories,fmt=\"d\") # font size\n",
        "plt.ylim(0, 3)\n",
        "plt.show()"
      ],
      "execution_count": 86,
      "outputs": [
        {
          "output_type": "display_data",
          "data": {
            "image/png": "[encoded data removed]",
            "text/plain": [
              "<Figure size 720x432 with 2 Axes>"
            ]
          },
          "metadata": {
            "tags": []
          }
        }
      ]
    },
    {
      "cell_type": "code",
      "metadata": {
        "id": "BTe09ktPkzKE",
        "colab": {
          "base_uri": "https://localhost:8080/"
        },
        "outputId": "33167ec9-7987-44b7-dd29-9a3d4d53c14c"
      },
      "source": [
        "#Getting the parameters of the particular model \n",
        "classifier_NB.get_params().keys()"
      ],
      "execution_count": 87,
      "outputs": [
        {
          "output_type": "execute_result",
          "data": {
            "text/plain": [
              "dict_keys(['alpha', 'class_prior', 'fit_prior'])"
            ]
          },
          "metadata": {
            "tags": []
          },
          "execution_count": 87
        }
      ]
    },
    {
      "cell_type": "code",
      "metadata": {
        "id": "NrTKsiC6kzOQ",
        "colab": {
          "base_uri": "https://localhost:8080/"
        },
        "outputId": "7e16c308-b0c5-4445-f071-7c2549e37006"
      },
      "source": [
        "classifier_NB_opti = MultinomialNB() #Using the MultinomialNB\n",
        "param_grid = {'alpha':[1,2,3,4], } #Selecting the parameters\n",
        "\n",
        "classifier_model_NB = model_selection.GridSearchCV(estimator=classifier_NB_opti, #GridSearch\n",
        "                                    param_grid=param_grid,\n",
        "                                        cv=10)\n",
        "classifier_model_NB.fit(X_train,y_train)\n",
        "print(classifier_model_NB.best_score_) #Gives the best score of the model\n",
        "print(classifier_model_NB.best_estimator_.get_params()) #Gives the best parameters of the model"
      ],
      "execution_count": 89,
      "outputs": [
        {
          "output_type": "stream",
          "text": [
            "0.5247252747252747\n",
            "{'alpha': 1, 'class_prior': None, 'fit_prior': True}\n"
          ],
          "name": "stdout"
        }
      ]
    },
    {
      "cell_type": "code",
      "metadata": {
        "id": "2ypJAX2PkzR_",
        "colab": {
          "base_uri": "https://localhost:8080/"
        },
        "outputId": "daeaa14b-017e-49c2-d389-34d5a6fa21b4"
      },
      "source": [
        "y_pred_model_NB = classifier_model_NB.predict(X_test)\n",
        "\n",
        "accuracy_score_model_NB = accuracy_score(y_test, y_pred_model_NB)\n",
        "precision_score_model_NB = precision_score(y_test, y_pred_model_NB , average = 'micro')\n",
        "recall_score_model_NB = recall_score(y_test, y_pred_model_NB , average = 'micro')\n",
        "f1_score_model_NB = f1_score(y_test, y_pred_model_NB, average = 'micro')\n",
        "print(\"Accuracy Score: \" , accuracy_score_model_NB)\n",
        "print(\"Precision Score: \" , precision_score_model_NB)\n",
        "print(\"Recall Score: \" , recall_score_model_NB)\n",
        "print(\"F1 Score: \" , f1_score_model_NB)"
      ],
      "execution_count": 90,
      "outputs": [
        {
          "output_type": "stream",
          "text": [
            "Accuracy Score:  0.5254237288135594\n",
            "Precision Score:  0.5254237288135594\n",
            "Recall Score:  0.5254237288135594\n",
            "F1 Score:  0.5254237288135594\n"
          ],
          "name": "stdout"
        }
      ]
    },
    {
      "cell_type": "code",
      "metadata": {
        "id": "ZBBcB7kVkzVo",
        "colab": {
          "base_uri": "https://localhost:8080/",
          "height": 380
        },
        "outputId": "38380c5b-8cf6-4315-9da6-0769f0d04639"
      },
      "source": [
        "cm_model_NB = confusion_matrix(y_test, y_pred_model_NB)\n",
        "\n",
        "df_cm_model_NB = pd.DataFrame(cm_model_NB, range(3), range(3))\n",
        "plt.figure(figsize=(10,6))\n",
        "categories = ['Negative','Neutral','Positive']\n",
        "sns.set(font_scale=1.2) # for label size\n",
        "sns.heatmap(df_cm_model_NB, annot=True, annot_kws={\"size\": 18}, xticklabels = categories,\n",
        "            yticklabels = categories ,fmt=\"d\") # font size\n",
        "plt.ylim(0, 3)\n",
        "plt.show()"
      ],
      "execution_count": 91,
      "outputs": [
        {
          "output_type": "display_data",
          "data": {
            "image/png": "[encoded data removed]",
            "text/plain": [
              "<Figure size 720x432 with 2 Axes>"
            ]
          },
          "metadata": {
            "tags": []
          }
        }
      ]
    },
    {
      "cell_type": "code",
      "metadata": {
        "id": "LI2iJixRkzZc",
        "colab": {
          "base_uri": "https://localhost:8080/",
          "height": 288
        },
        "outputId": "fb1099b2-5fa8-4a27-c9ba-945c9fa1a1d9"
      },
      "source": [
        "Accuracy = [accuracy_score_RF, accuracy_score_DT, accuracy_score_model_NB]\n",
        "Methods = ['Random_Forest', 'Decision_Trees', 'Naive_Bayes']\n",
        "Accuracy_pos = np.arange(len(Methods))\n",
        "plt.bar(Accuracy_pos, Accuracy)\n",
        "plt.xticks(Accuracy_pos, Methods)\n",
        "plt.title('Comparing Accuracy Score')\n",
        "plt.show()"
      ],
      "execution_count": 92,
      "outputs": [
        {
          "output_type": "display_data",
          "data": {
            "image/png": "[encoded data removed]",
            "text/plain": [
              "<Figure size 432x288 with 1 Axes>"
            ]
          },
          "metadata": {
            "tags": []
          }
        }
      ]
    },
    {
      "cell_type": "code",
      "metadata": {
        "id": "M1bdj4N1kzkQ",
        "colab": {
          "base_uri": "https://localhost:8080/",
          "height": 288
        },
        "outputId": "2a0e1e06-233f-4fb2-f93e-81033df565f6"
      },
      "source": [
        "Precision = [precision_score_RF, precision_score_DT, precision_score_model_NB]\n",
        "Methods = ['Random_Forest', 'Decision_Trees', 'Naive_Bayes']\n",
        "Precision_pos = np.arange(len(Methods))\n",
        "plt.bar(Precision_pos, Precision)\n",
        "plt.xticks(Precision_pos, Methods)\n",
        "plt.title('Comparing Precision Score')\n",
        "plt.show()"
      ],
      "execution_count": 93,
      "outputs": [
        {
          "output_type": "display_data",
          "data": {
            "image/png": "[encoded data removed]",
            "text/plain": [
              "<Figure size 432x288 with 1 Axes>"
            ]
          },
          "metadata": {
            "tags": []
          }
        }
      ]
    },
    {
      "cell_type": "code",
      "metadata": {
        "id": "PSP5LN84kzec",
        "colab": {
          "base_uri": "https://localhost:8080/",
          "height": 288
        },
        "outputId": "ef2e390b-da54-40ea-c6f9-9e4ddad7918c"
      },
      "source": [
        "Recall = [recall_score_RF, recall_score_DT, recall_score_model_NB]\n",
        "Methods = ['Random_Forest', 'Decision_Trees', 'Naive_Bayes']\n",
        "Recall_pos = np.arange(len(Methods))\n",
        "plt.bar(Recall_pos, Recall)\n",
        "plt.xticks(Recall_pos, Methods)\n",
        "plt.title('Comparing Recall Score')\n",
        "plt.show()"
      ],
      "execution_count": 94,
      "outputs": [
        {
          "output_type": "display_data",
          "data": {
            "image/png": "[encoded data removed]",
            "text/plain": [
              "<Figure size 432x288 with 1 Axes>"
            ]
          },
          "metadata": {
            "tags": []
          }
        }
      ]
    },
    {
      "cell_type": "code",
      "metadata": {
        "id": "PFp_117WkzHO",
        "colab": {
          "base_uri": "https://localhost:8080/",
          "height": 288
        },
        "outputId": "22c17778-1924-49df-e8b1-b8c1c2fee578"
      },
      "source": [
        "\n",
        "F1 = [f1_score_RF,f1_score_DT,f1_score_model_NB]\n",
        "Methods = ['Random_Forest', 'Decision_Trees', 'Naive_Bayes']\n",
        "F1_pos = np.arange(len(Methods))\n",
        "plt.bar(F1_pos, F1)\n",
        "plt.xticks(F1_pos, Methods)\n",
        "plt.title('Comparing F1 Score')\n",
        "plt.show()"
      ],
      "execution_count": 95,
      "outputs": [
        {
          "output_type": "display_data",
          "data": {
            "image/png": "[encoded data removed]",
            "text/plain": [
              "<Figure size 432x288 with 1 Axes>"
            ]
          },
          "metadata": {
            "tags": []
          }
        }
      ]
    }
  ]
}