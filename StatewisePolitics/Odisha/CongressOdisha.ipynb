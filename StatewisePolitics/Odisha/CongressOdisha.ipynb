{
  "nbformat": 4,
  "nbformat_minor": 0,
  "metadata": {
    "colab": {
      "name": "Welcome To Colaboratory",
      "provenance": [],
      "collapsed_sections": [],
      "toc_visible": true,
      "include_colab_link": true
    },
    "kernelspec": {
      "display_name": "Python 3",
      "name": "python3"
    }
  },
  "cells": [
    {
      "cell_type": "markdown",
      "metadata": {
        "id": "view-in-github",
        "colab_type": "text"
      },
      "source": [
        "<a href=\"https://colab.research.google.com/github/raishagun/Election-Prediction/blob/master/StatewisePolitics/Odisha/CongressOdisha.ipynb\" target=\"_parent\"><img src=\"https://colab.research.google.com/assets/colab-badge.svg\" alt=\"Open In Colab\"/></a>"
      ]
    },
    {
      "cell_type": "code",
      "metadata": {
        "id": "kVfRDc2GgRqk",
        "colab": {
          "base_uri": "https://localhost:8080/"
        },
        "outputId": "e65ba0ac-a907-4f6e-ad6b-8c2b9a61718b"
      },
      "source": [
        "!git clone https://github.com/raishagun/Election-Prediction.git"
      ],
      "execution_count": 1,
      "outputs": [
        {
          "output_type": "stream",
          "text": [
            "Cloning into 'Election-Prediction'...\n",
            "remote: Enumerating objects: 39, done.\u001b[K\n",
            "remote: Counting objects: 100% (39/39), done.\u001b[K\n",
            "remote: Compressing objects: 100% (38/38), done.\u001b[K\n",
            "remote: Total 687 (delta 18), reused 0 (delta 0), pack-reused 648\u001b[K\n",
            "Receiving objects: 100% (687/687), 34.19 MiB | 32.42 MiB/s, done.\n",
            "Resolving deltas: 100% (295/295), done.\n"
          ],
          "name": "stdout"
        }
      ]
    },
    {
      "cell_type": "code",
      "metadata": {
        "id": "MrUePyosg9GN",
        "colab": {
          "base_uri": "https://localhost:8080/"
        },
        "outputId": "ea9273d5-96ed-4153-b333-6cef39f1b920"
      },
      "source": [
        "import tweepy \n",
        "import pandas as pd\n",
        "from tweepy import OAuthHandler\n",
        "\n",
        "\n",
        "access_token=\"1289037463684489217-5PddOsmU9h5deRwOhdigvhg32FEgID\"\n",
        "access_token_secret=\"cAPevFduWkiNP3juu8WGAwZm69vgv8C4s8RPz0WE8MJFK\"\n",
        "\n",
        "consumer_key=\"DLhoHkK6uOGz3Ni9ybuoruiLm\"\n",
        "consumer_secret=\"jKyrDR68msnbmgZMNNJdSJwadGoed11imKV1jdlNYNczL9HvEk\"\n",
        "\n",
        "auth = tweepy.OAuthHandler(consumer_key, consumer_secret)  # authentication of access token and secret \n",
        "auth.set_access_token(access_token, access_token_secret) \n",
        "api = tweepy.API(auth,wait_on_rate_limit = True)\n",
        "\n",
        "\n",
        "date1 = \"2020-11-01\"  #Date from which you need to extract tweets\n",
        "date2 = \"2020-11-22\"  #Date till when you need to extract tweets\n",
        "\n",
        "date =[]\n",
        "user_id = []\n",
        "verified = []\n",
        "text = []\n",
        "user = []\n",
        "location = []\n",
        "source = []\n",
        "likes = []\n",
        "followers = []\n",
        "following = []\n",
        "retweets = []\n",
        "\n",
        "def get_tweets(date1,date2,word):\n",
        "    count = 0\n",
        "    for tweet in tweepy.Cursor(api.search , q=word,count =1000,lang=\"en\",since_id = date1,until = date2,tweet_mode = 'extended').items():\n",
        "        print(tweet.created_at)  #Date at which it was tweet\n",
        "        date.append(tweet.created_at)\n",
        "        print(tweet.id)          #Unique ID of tweet\n",
        "        user_id.append(tweet.id)\n",
        "        print(tweet.user.verified)   #If user who tweet is verified or not\n",
        "        verified.append(tweet.user.verified)\n",
        "        print(tweet.full_text)   #To get full text of the tweet\n",
        "        text.append(tweet.full_text)\n",
        "        print(tweet.user.screen_name)  #User screen name\n",
        "        user.append(tweet.user.screen_name)\n",
        "        print(tweet.user.location)     #Location from where the tweet came\n",
        "        location.append(tweet.user.location)\n",
        "        print(tweet.source)            #Which twitter application was used to tweet\n",
        "        source.append(tweet.source)\n",
        "        print(tweet.favorite_count)     #Number of likes on the tweet\n",
        "        likes.append(tweet.favorite_count)\n",
        "        print(tweet.user.followers_count)    #Number of followers of the user\n",
        "        followers.append(tweet.user.followers_count)\n",
        "        print(tweet.user.friends_count)      #Number of following by the user\n",
        "        following.append(tweet.user.friends_count)\n",
        "        print(tweet.retweet_count)               #Number of the retweets of the original tweet\n",
        "        retweets.append(tweet.retweet_count)\n",
        "    \n",
        "        print('<--------------------------------------------------->')\n",
        "        count+=1\n",
        "        print(count)\n",
        "    \n",
        "get_tweets(date1,date2,\"congress odisha\"+\" -filter:retweets\") #Filtering out retweets to avoid duplication\n",
        "\n",
        "data = list(zip(date,user_id,verified,text,user,location,source,likes,followers,following,retweets))\n",
        "df = pd.DataFrame(data =data, columns =[\"Date\",\"Tweet_id\",\"Verified\",\"Tweet\",\n",
        "                                   \"User\",\"Location\",\"Source\",\"Likes\",\"Followers\",\"Following\",\"Retweets\"])\n",
        "\n",
        "           \n",
        "df.to_csv('congress_odisha.csv',index = False)"
      ],
      "execution_count": 5,
      "outputs": [
        {
          "output_type": "stream",
          "text": [
            "2020-11-21 19:22:01\n",
            "1330230001761923074\n",
            "False\n",
            "@JagiPanda @sardesairajdeep @vikramchandra @ARanganathan72 @ShekharGupta @soniandtv @sagarikaghose @aroonpurie @pratyasharath @UnSubtleDesi @rahulroushan @TimesNow @g_smita @thewire_in @AartiTikoo @chitraSD Odisha govt, the revenue depart slept until Panda Jay ji was with BJD and now all frauds are visible @sasmitpatra @AnubhavMohanty_ @CMO_Odisha : every fight has an end. Will that be Mahabharata or Ramayana style ; time will decide.. congress gone from Odisha &amp; India forever_____\n",
            "SwainBighneswar\n",
            "Florida, USA\n",
            "Twitter for iPhone\n",
            "0\n",
            "70\n",
            "1516\n",
            "0\n",
            "<--------------------------------------------------->\n",
            "1\n",
            "2020-11-21 18:26:15\n",
            "1330215965385224193\n",
            "False\n",
            "@ARanganathan72 @otvnews @JagiPanda The day national media turns its focus on Odisha the corrupt regime will start collapsing rapidly. But who saves them, the opposition who rule in center.\n",
            "\n",
            "Since 2000 to 2024 one party is ruling uninterrupted in Odisha &amp; in Center\n",
            "1999-2004: BJP\n",
            "2004-2014: Congress\n",
            "2014-2024: BJP\n",
            "sangramstarts\n",
            "Bengaluru, India\n",
            "Twitter for Android\n",
            "16\n",
            "285\n",
            "605\n",
            "0\n",
            "<--------------------------------------------------->\n",
            "2\n",
            "2020-11-21 16:33:28\n",
            "1330187583729639425\n",
            "True\n",
            "The opposition Bharatiya Janata Party (#BJP) and #Congress on Saturday mounted an attack on the #Odisha government over the alleged custodial deaths in #Puri and #Sundargarh districts. https://t.co/RMWeEAKksa\n",
            "ians_india\n",
            "New Delhi\n",
            "Twitter Web App\n",
            "12\n",
            "58961\n",
            "45\n",
            "0\n",
            "<--------------------------------------------------->\n",
            "3\n",
            "2020-11-21 14:48:04\n",
            "1330161061803282433\n",
            "False\n",
            "@Elizatweetz @RahulGandhi Ma'am to be honest congress had leaders like GOPABANDHU DASH from Odisha known as the 2nd Gandhi he left his son to die in severe fever to help the flood affected people in Puri\n",
            "brigado_deba\n",
            "\n",
            "Twitter Web App\n",
            "4\n",
            "430\n",
            "619\n",
            "0\n",
            "<--------------------------------------------------->\n",
            "4\n",
            "2020-11-21 14:44:49\n",
            "1330160240373997579\n",
            "False\n",
            "@satya_kg @BagatiSoham @rohini_sgh @RahulGandhi @priyankagandhi Isn't the whole India their family gopabandhu dash a congress leader the 2nd gandhi from Odisha left his son in heavy fever to die so that he can help the flood affected people if you can't lift up from ur biological family then you can't take the charge of India this is clear !!\n",
            "brigado_deba\n",
            "\n",
            "Twitter Web App\n",
            "0\n",
            "430\n",
            "619\n",
            "0\n",
            "<--------------------------------------------------->\n",
            "5\n",
            "2020-11-21 14:08:42\n",
            "1330151151262715908\n",
            "False\n",
            "#Odisha #Puri death in police remand:Opposition #BJP &amp; #Congress have gone for jugular of #NaveenPatnaik\n",
            "*#BJD govt took action- transferred SP &amp;suspended IIC\n",
            "*This case qualifies for judicial enquiry?\n",
            "*Rule says:if negligence or homicide suspected,then Judicial inquiry essential https://t.co/cTvqYgRKuV\n",
            "FactlySanjeev\n",
            "India\n",
            "Twitter Web App\n",
            "0\n",
            "58\n",
            "40\n",
            "0\n",
            "<--------------------------------------------------->\n",
            "6\n",
            "2020-11-21 13:48:38\n",
            "1330146102750941190\n",
            "False\n",
            "What better day for the Professionals of Congress in Odisha- One of the professional turned MP making it to the top level on Foreign Affairs of the AICC responsible to apprise the Congress President.\n",
            "Professionals for Odisha Congress.\n",
            "@saptagiriulaka , @MahanandaINC ,@ProfCong\n",
            "SOMJD\n",
            "Bangalore\n",
            "Twitter Web App\n",
            "3\n",
            "78\n",
            "128\n",
            "1\n",
            "<--------------------------------------------------->\n",
            "7\n",
            "2020-11-21 13:24:38\n",
            "1330140061879443461\n",
            "False\n",
            "Thank you for raising a very pertinent issue @bhalubh55 https://t.co/rDs8pkMWCv @NarasinghMishra @NPatnaikOdisha\n",
            "odishaRTE\n",
            "Bhubaneshwar, India\n",
            "Twitter for Android\n",
            "2\n",
            "428\n",
            "837\n",
            "0\n",
            "<--------------------------------------------------->\n",
            "8\n",
            "2020-11-21 11:23:56\n",
            "1330109686075564037\n",
            "False\n",
            "Congress has shown complete unwillingness to even put up a fight. They seem to be okay at loosing relevance in states like North East, Telangana and Odisha. No attempt to reverse the trend.\n",
            "\n",
            "They are relying solely on anti-incumbency in one of one fights.\n",
            "moderateright\n",
            "Saudi Arabia\n",
            "Twitter Web App\n",
            "2\n",
            "3177\n",
            "305\n",
            "0\n",
            "<--------------------------------------------------->\n",
            "9\n",
            "2020-11-21 11:14:46\n",
            "1330107382232473602\n",
            "False\n",
            "#WATCH: Congress MLA Tara Prasad Bahinipati threatens to end life in front of #Odisha Assembly Speaker inside the House if the #Odisha Government closes nearly 14,000 schools in the State. https://t.co/Vzuhw9p4pv\n",
            "theargus_in\n",
            "Bhubaneswar, India\n",
            "Twitter Web App\n",
            "7\n",
            "6137\n",
            "486\n",
            "3\n",
            "<--------------------------------------------------->\n",
            "10\n",
            "2020-11-21 10:29:36\n",
            "1330096013466603520\n",
            "False\n",
            "Congress legislator Tara Prasad Bahinipati has threatened to commit suicide in the Odisha Assembly if the State Government goes ahead with its decision to completely shut down 14,000 schools \n",
            "#Odisha #OmmcomNews  https://t.co/BRZjuLHEYy\n",
            "OmmcomNews\n",
            "Bhubaneshwar, India\n",
            "Twitter Web App\n",
            "0\n",
            "3499\n",
            "423\n",
            "0\n",
            "<--------------------------------------------------->\n",
            "11\n",
            "2020-11-21 10:23:05\n",
            "1330094372763922436\n",
            "False\n",
            "Congress MLA Tara Prasad Bahinipati threatens to commit suicide by slitting throat in front of #Odisha Assembly Speaker over closure of schools in the State. The House today witnessed frequent adjournments with Oppn BJP &amp; Cong members creating ruckus against 'closure' decision. https://t.co/hrUR0au872\n",
            "theargus_in\n",
            "Bhubaneswar, India\n",
            "Twitter Web App\n",
            "2\n",
            "6137\n",
            "486\n",
            "0\n",
            "<--------------------------------------------------->\n",
            "12\n",
            "2020-11-21 09:55:37\n",
            "1330087461683408896\n",
            "False\n",
            "#OdishaAssembly update: Congress MLA Tara Prasad Bahinipati bangs head against Speaker’s podium over closure of schools in #Odisha\n",
            "Sambad_English\n",
            "Odisha\n",
            "TweetDeck\n",
            "4\n",
            "42116\n",
            "4\n",
            "0\n",
            "<--------------------------------------------------->\n",
            "13\n",
            "2020-11-21 09:43:32\n",
            "1330084423300227074\n",
            "True\n",
            "#Odisha Assembly winter session: Ruckus continues in the House over closure of schools; Congress MLA Tara Bahinipati bangs head before the Speaker https://t.co/KuQc8OAvKy\n",
            "otvnews\n",
            "Bhubaneswar, India\n",
            "Twitter Web App\n",
            "34\n",
            "595577\n",
            "276\n",
            "3\n",
            "<--------------------------------------------------->\n",
            "14\n",
            "2020-11-21 09:31:15\n",
            "1330081331502587904\n",
            "False\n",
            "Thank you for raising the closure of scholls issue @bhalubh55 sir\n",
            "https://t.co/7jOE59clXG pl ensure schools within one km as mentioned in the Right to Edn Rules\n",
            "ghasirampanda\n",
            "Subarnapur\n",
            "Twitter for Android\n",
            "6\n",
            "693\n",
            "419\n",
            "0\n",
            "<--------------------------------------------------->\n",
            "15\n",
            "2020-11-21 07:59:35\n",
            "1330058263547830273\n",
            "False\n",
            "Congress MLA Tara Prasad Bahinipati Threatens To Commit Suicide In Front Of #Odisha Assembly Speaker\n",
            "\n",
            "https://t.co/6v7DSUC8qo\n",
            "Kalingatv\n",
            "Odisha, India\n",
            "Twitter Web App\n",
            "9\n",
            "90114\n",
            "179\n",
            "1\n",
            "<--------------------------------------------------->\n",
            "16\n",
            "2020-11-21 07:46:53\n",
            "1330055066544467970\n",
            "False\n",
            "Go back Congress in Bihar Andra Telangana WB Odisha UP. Congress can never form majority govt on its own in so many states . https://t.co/EzwsEpYNjb\n",
            "Congress300seat\n",
            "\n",
            "Twitter for Android\n",
            "2\n",
            "337\n",
            "467\n",
            "0\n",
            "<--------------------------------------------------->\n",
            "17\n",
            "2020-11-21 07:29:09\n",
            "1330050600877371393\n",
            "True\n",
            "Congress MLA Tara Bahinipati threatens to end life by slitting throat in front of the Speaker of #Odisha Assembly over closure of schools in the state\n",
            "otvnews\n",
            "Bhubaneswar, India\n",
            "Twitter Web App\n",
            "185\n",
            "595577\n",
            "276\n",
            "4\n",
            "<--------------------------------------------------->\n",
            "18\n",
            "2020-11-21 07:18:58\n",
            "1330048042054115329\n",
            "False\n",
            "Congress MLA Tara Prasad Bahinipati threatens to end his life in #OdishaAssembly if #Odisha Government does not withdraw the decision of closing of around 14,000 schools. https://t.co/9yUH1bCRj7\n",
            "Sambad_English\n",
            "Odisha\n",
            "Twitter Web App\n",
            "8\n",
            "42116\n",
            "4\n",
            "1\n",
            "<--------------------------------------------------->\n",
            "19\n",
            "2020-11-21 07:12:25\n",
            "1330046393260650496\n",
            "False\n",
            "Last Congress Government \n",
            " Tamil Nadu 1967 53 years \n",
            " West Bengal 1977 43 years  \n",
            "  Sikkim   1984  36 years.      \n",
            "  Uttar Pradesh 1989 31 yrs \n",
            "   Bihar 1990 30 years         \n",
            "   Gujarat 1995 25 years.      \n",
            "    Odisha 2000 20 years.       \n",
            "     Jammu and Kashmir 2008 12 years\n",
            "Satyanewshi\n",
            "Hobart , 🇦🇺\n",
            "Twitter Web App\n",
            "105\n",
            "14204\n",
            "260\n",
            "23\n",
            "<--------------------------------------------------->\n",
            "20\n",
            "2020-11-21 06:57:47\n",
            "1330042710397489158\n",
            "False\n",
            "Last Visit of #JawaharlalNehru to #Bhubaneswar .\n",
            "\n",
            "On 6-1-1964 , this is the moment #nehru ji got a Stroke after 2 mins speech in 68th Indian Nation #Congress Conference at GopaBandhu Nagar. \n",
            "\n",
            "His last message for #Odisha was \n",
            "\n",
            "\"YOURS IS A SMALL STATE, BUT YOU HAVE A BIG HEART\". https://t.co/lrXcEQBikB\n",
            "suryanandannet\n",
            "Bhubaneswar\n",
            "Twitter Web App\n",
            "19\n",
            "3513\n",
            "2383\n",
            "1\n",
            "<--------------------------------------------------->\n",
            "21\n",
            "2020-11-21 06:50:47\n",
            "1330040945832767488\n",
            "True\n",
            "Remembering the lion of Odisha, 'Utkal Keshari' Dr. Harekrushna Mahatab Ji on his birth anniversary.\n",
            "\n",
            "He was the first chief minister of Odisha in independent India. A prominent leader of the Indian National Congress (INC). \n",
            "\n",
            "My humble tributes to this great leader. https://t.co/o2qRdpiBSk\n",
            "ripunbora\n",
            "Guwahati, Assam, India\n",
            "Twitter for Android\n",
            "72\n",
            "17128\n",
            "912\n",
            "14\n",
            "<--------------------------------------------------->\n",
            "22\n",
            "2020-11-21 06:04:17\n",
            "1330029246702641156\n",
            "False\n",
            "Opposition BJP &amp; Congress MLAs create ruckus in the state assembly over govt’s decision regarding closure of over 14,000 schools in the state #Odisha\n",
            "SujitBisoyiTOI\n",
            "Bhubaneswar/Berhampur\n",
            "Twitter for iPhone\n",
            "10\n",
            "6233\n",
            "650\n",
            "3\n",
            "<--------------------------------------------------->\n",
            "23\n",
            "2020-11-21 05:40:37\n",
            "1330023287649255425\n",
            "False\n",
            "@sardesairajdeep @KapilSibal @IndiaToday Congress- RJD achievement in Bihar is to demolished JDU and Nitish Kumar. It will b beneficial in future election. Now Congress should focus on Telangana,Andhra Pradesh, and Odisha.These State are crucial for 2024 Lok Sabha election\n",
            "We should strengthen party in Bihar.\n",
            "@INCIndia\n",
            "ArunRag40247264\n",
            "\n",
            "Twitter for Android\n",
            "0\n",
            "466\n",
            "702\n",
            "0\n",
            "<--------------------------------------------------->\n",
            "24\n",
            "2020-11-21 05:39:04\n",
            "1330022899999096836\n",
            "True\n",
            "Custodial death: Congress Legislature Party leader Narasingha Mishra demands exemplary action against Puri SP, says law and order situation deteriorating and gross violation of human rights in #Odisha\n",
            "otvnews\n",
            "Bhubaneswar, India\n",
            "Twitter Web App\n",
            "144\n",
            "595577\n",
            "276\n",
            "1\n",
            "<--------------------------------------------------->\n",
            "25\n",
            "2020-11-21 05:32:58\n",
            "1330021364388904960\n",
            "False\n",
            "My tributes to the first Chief Minister of Odisha in independent India Harekrushna Mahatab on his birth anniversary. During the Quit India Movement, Mahatab was arrested along with top leaders of the Congress like Jawaharlal Nehru &amp; others. https://t.co/8jwDnYxTUG\n",
            "BiplabSiladitya\n",
            "କଟକ, ଓଡିଶା\n",
            "Twitter for Android\n",
            "11\n",
            "1133\n",
            "866\n",
            "0\n",
            "<--------------------------------------------------->\n",
            "26\n",
            "2020-11-21 05:31:34\n",
            "1330021009890557957\n",
            "False\n",
            "@INCDelhi @GeorgekurianINC Congress- RJD achievement in Bihar is to demolished JDU and Nitish Kumar. It will b beneficial in future election. Now Congress should focus on Telangana,Andhra Pradesh, and Odisha.These State are crucial for 2024 Lok Sabha election\n",
            "We should strengthen party in Bihar.\n",
            "@INCIndia\n",
            "ArunRag40247264\n",
            "\n",
            "Twitter for Android\n",
            "0\n",
            "466\n",
            "702\n",
            "0\n",
            "<--------------------------------------------------->\n",
            "27\n",
            "2020-11-21 05:29:37\n",
            "1330020521124143105\n",
            "False\n",
            "Only transfer of SP is not enough, strict action should be taken against all of them: Congress MLA Narasingha Mishra in #OdishaAssembly regarding #CustodialDeaths \n",
            "\n",
            "#Odisha https://t.co/UGkkd4dFbn\n",
            "Sambad_English\n",
            "Odisha\n",
            "Twitter for Android\n",
            "1\n",
            "42116\n",
            "4\n",
            "0\n",
            "<--------------------------------------------------->\n",
            "28\n",
            "2020-11-21 05:06:11\n",
            "1330014622376550400\n",
            "False\n",
            "@LambaAlka Congress- RJD achievement in Bihar is to demolished JDU and Nitish Kumar. It will b beneficial in future election. Now Congress should focus on Telangana,Andhra Pradesh, and Odisha.These State are crucial for 2024 Lok Sabha election\n",
            "We should strengthen party in Bihar.\n",
            "@INCIndia\n",
            "ArunRag40247264\n",
            "\n",
            "Twitter for Android\n",
            "1\n",
            "466\n",
            "702\n",
            "0\n",
            "<--------------------------------------------------->\n",
            "29\n",
            "2020-11-21 05:01:42\n",
            "1330013496491196417\n",
            "False\n",
            "@MehekF @samislerin Congress- RJD achievement in Bihar is to demolished JDU and Nitish Kumar. It will b beneficial in future election. Now Congress should focus on Telangana,Andhra Pradesh, and Odisha.These State are crucial for 2024 Lok Sabha election\n",
            "We should strengthen party in Bihar.\n",
            "@INCIndia\n",
            "ArunRag40247264\n",
            "\n",
            "Twitter for Android\n",
            "2\n",
            "466\n",
            "702\n",
            "0\n",
            "<--------------------------------------------------->\n",
            "30\n",
            "2020-11-21 04:57:17\n",
            "1330012383268327424\n",
            "False\n",
            "Congress- RJD achievement in Bihar is to demolished JDU and Nitish Kumar. It will b beneficial in future election. Now Congress should focus on Telangana,Andhra Pradesh, and Odisha.These State are crucial for 2024 Lok Sabha election\n",
            "We should strengthen party in Bihar.\n",
            "@INCIndia\n",
            "ArunRag40247264\n",
            "\n",
            "Twitter for Android\n",
            "0\n",
            "466\n",
            "702\n",
            "0\n",
            "<--------------------------------------------------->\n",
            "31\n",
            "2020-11-21 03:33:22\n",
            "1329991267208445953\n",
            "False\n",
            "21 November - Birth Anniversary of Utkal Keshari Dr. Harekrushna Mahatab\n",
            "\n",
            "Dr. Mahatab was a leader of the Indian National Congress, a notable figure in the Indian independence movement and the Chief Minister of Odisha from 1946 to 1950 and again from 1956 to 1961. https://t.co/3nX71HEouN\n",
            "HPMohapatra\n",
            "Phulbani-762001\n",
            "Twitter for Android\n",
            "0\n",
            "51\n",
            "34\n",
            "0\n",
            "<--------------------------------------------------->\n",
            "32\n",
            "2020-11-21 03:25:17\n",
            "1329989233684082688\n",
            "False\n",
            "@RahulGandhi @NPatnaikOdisha @SoniaGandhi_FC @iycpradeep  @saptagiriulaka Sir, Balasore by poll of odisha ends recently. But sorry to say that Congress gets very poor votes due to internal dispute. we are being tortured. Please, take steps to solve it.\n",
            "LaxmidharaBari2\n",
            "\n",
            "Twitter for Android\n",
            "0\n",
            "98\n",
            "329\n",
            "0\n",
            "<--------------------------------------------------->\n",
            "33\n",
            "2020-11-21 03:24:27\n",
            "1329989023566184449\n",
            "False\n",
            "@SimmiAhuja_ @AamAadmiParty How many states you want to count ? Delhi of course \" Sunya\" In Bihar the great Tejashwi lost becoz of Congresss. In Odisha more than 90 assembly seats Congress got 5000 votes . Rest are Sold to BJP. Do \" Prabhat Pheri\" at least for next three years not cheap Psychophancy.\n",
            "netajibole\n",
            "Orissa, India\n",
            "Twitter for Android\n",
            "0\n",
            "215\n",
            "680\n",
            "0\n",
            "<--------------------------------------------------->\n",
            "34\n",
            "2020-11-20 19:34:00\n",
            "1329870628485095424\n",
            "True\n",
            "Re-Up: Odisha Congress Extends Support To Trade Unions’ Nationwide Strike On Nov 26\n",
            "\n",
            "#Odisha \n",
            "\n",
            "https://t.co/xFqyibl8OJ https://t.co/ge3izY1gEO\n",
            "otvnews\n",
            "Bhubaneswar, India\n",
            "TweetDeck\n",
            "42\n",
            "595577\n",
            "276\n",
            "0\n",
            "<--------------------------------------------------->\n",
            "35\n",
            "2020-11-20 19:24:46\n",
            "1329868306229071874\n",
            "False\n",
            "Congress is now \"Confuse'Party.Aprajita Sarangi,MP\n",
            "@RahulGandhi @PMOIndia @AprajitaSarangi @PandaJay @AmitShah @sahsitharoor\n",
            "@PChidambaram_IN @SoniaGandhiINC @Naveen_Odisha @dpradhanbjp https://t.co/5wCcdEXshY https://t.co/txi4HBUL12\n",
            "PhototodayNews\n",
            "INDIA\n",
            "Twitter for Android\n",
            "0\n",
            "35\n",
            "251\n",
            "0\n",
            "<--------------------------------------------------->\n",
            "36\n",
            "2020-11-20 17:10:51\n",
            "1329834606057508865\n",
            "False\n",
            "@Ash_Rokzz23 In Telangana ,BJP replaced Congress. WB BJP replaced Communist Congress. In Odisha ,BJP replaced congress. In TN problem for BJP is , it is behind DMK Aiadmk Congress PMK Kamal Seeman TTV in terms of vote share. BJP will emerge in TN , when aiadmk fall happens .\n",
            "Congress300seat\n",
            "\n",
            "Twitter for Android\n",
            "1\n",
            "337\n",
            "467\n",
            "0\n",
            "<--------------------------------------------------->\n",
            "37\n",
            "2020-11-20 16:42:18\n",
            "1329827418559823872\n",
            "False\n",
            "Congratulations to Morality MP @saptagiriulaka \n",
            "https://t.co/gyKvyhHpk4\n",
            "santakar\n",
            "KORAPUT,Odisha ,INDIA\n",
            "Twitter for Android\n",
            "0\n",
            "1033\n",
            "205\n",
            "0\n",
            "<--------------------------------------------------->\n",
            "38\n",
            "2020-11-20 16:28:25\n",
            "1329823927124705280\n",
            "False\n",
            "And congress losing base to bjp in Telangana also! @RahulGandhi is the most useless politician in the whole political history of india! @INCIndia is dying! And it will soon be vanished if it goes on further! 🤦 Who are his advisers? Watch Telangana? It’s also going odisha way!🤦\n",
            "Anmol2923\n",
            "Kathua, Jammu And Kashmir\n",
            "Twitter for iPhone\n",
            "0\n",
            "130\n",
            "49\n",
            "0\n",
            "<--------------------------------------------------->\n",
            "39\n",
            "2020-11-20 16:19:53\n",
            "1329821776486887425\n",
            "True\n",
            "#Odisha Congress Extends Support To Trade Unions’ Nationwide Strike On Nov 26 https://t.co/xFqyibl8OJ\n",
            "otvnews\n",
            "Bhubaneswar, India\n",
            "Twitter Web App\n",
            "46\n",
            "595577\n",
            "276\n",
            "1\n",
            "<--------------------------------------------------->\n",
            "40\n",
            "2020-11-20 15:56:04\n",
            "1329815783283728388\n",
            "False\n",
            "@nandaji1958 Congress won just 5/63 in 2011, 8/41 in 2016. \n",
            "Congress will form next majority govt in TN , Telangana , Andra ,Odisha , Bihar, Delhi, UP.\n",
            "Congress will win 100% seats in DMK alliance.\n",
            "Congress300seat\n",
            "\n",
            "Twitter for Android\n",
            "2\n",
            "337\n",
            "467\n",
            "0\n",
            "<--------------------------------------------------->\n",
            "41\n",
            "2020-11-20 14:47:10\n",
            "1329798445696094210\n",
            "False\n",
            "Veteran Congress Leader Sura Routray Debuts As Singer #Odisha \n",
            "\n",
            "https://t.co/CNdQjW0CrQ\n",
            "Kalingatv\n",
            "Odisha, India\n",
            "Twitter Web App\n",
            "7\n",
            "90114\n",
            "179\n",
            "0\n",
            "<--------------------------------------------------->\n",
            "42\n",
            "2020-11-20 13:56:28\n",
            "1329785685411184643\n",
            "False\n",
            "Hon'ble Congress President has constituted different committees to discuss issues &amp; policies .\n",
            "\n",
            "Odisha MP Saptagiri Ulaka included in Foreign Affair Committee\n",
            "Congratulations Saptagiri Ulaka ji https://t.co/B7gCcA8SY1\n",
            "harimeher007\n",
            "Sambalpur Odisha \n",
            "Twitter for Android\n",
            "0\n",
            "330\n",
            "1741\n",
            "0\n",
            "<--------------------------------------------------->\n",
            "43\n",
            "2020-11-20 13:56:03\n",
            "1329785583263072256\n",
            "False\n",
            "@saptagiriulaka Hon'ble Congress President has constituted different committees to discuss issues &amp; policies .\n",
            "\n",
            "Odisha MP Saptagiri Ulaka included in Foreign Affair Committee\n",
            "Congratulations My Hero 🙏 Saptagiri Ulaka ji\n",
            "harimeher007\n",
            "Sambalpur Odisha \n",
            "Twitter for Android\n",
            "2\n",
            "330\n",
            "1741\n",
            "0\n",
            "<--------------------------------------------------->\n",
            "44\n",
            "2020-11-20 13:18:23\n",
            "1329776103724965891\n",
            "True\n",
            "#WATCH | Congress leader Tara Prasad Bahinipati slams #Odisha govt over custodial deaths in Puri and Sundargarh https://t.co/vcLK0hoOyK\n",
            "otvnews\n",
            "Bhubaneswar, India\n",
            "Twitter Media Studio\n",
            "53\n",
            "595577\n",
            "276\n",
            "3\n",
            "<--------------------------------------------------->\n",
            "45\n",
            "2020-11-20 12:58:48\n",
            "1329771173878534145\n",
            "False\n",
            "@saptagiriulaka Congratulations sir🙏🙏. But what about odisha congress which is deorganized &amp; demoralized. Plz take appropriate action.\n",
            "BPD46247871\n",
            "Cuttack\n",
            "Twitter Web App\n",
            "5\n",
            "1\n",
            "128\n",
            "0\n",
            "<--------------------------------------------------->\n",
            "46\n",
            "2020-11-20 12:52:59\n",
            "1329769710406103040\n",
            "False\n",
            "@aayeff1 @shirishag75 @DeepakmehtaH @PChidambaram_IN @INCIndia I have left watching Media for last 6 yrs\n",
            "What other parties the same other has completely ousted Congress from states like UP, MP, Odisha,Begal, TN,Andhra and Telgana, Jharkhand are going in same direction\n",
            "SChauha72553505\n",
            " Uttar Pradesh India\n",
            "Twitter for Android\n",
            "0\n",
            "49\n",
            "102\n",
            "0\n",
            "<--------------------------------------------------->\n",
            "47\n",
            "2020-11-20 10:14:29\n",
            "1329729823430893569\n",
            "False\n",
            "Congratulations to Shri @saptagiriulaka Ji . It’s a huge honour for Odisha and @INCOdisha team to see you being a part of the special committee constituted by Hon’ble Congress President Smt Sonia Gandhi Ji along with the senior leaders of Congress. Jai Hind . https://t.co/BgIrAmmSrB\n",
            "iamjoyeetaroy\n",
            "Bhubaneshwar, India\n",
            "Twitter for iPhone\n",
            "2\n",
            "127\n",
            "168\n",
            "0\n",
            "<--------------------------------------------------->\n",
            "48\n",
            "2020-11-20 10:13:19\n",
            "1329729530139820033\n",
            "False\n",
            "Congratulations MP From Odisha Shri @saptagiriulaka Committee on Foreign Affairs.\n",
            "Thanks For Hon'ble Congress President @SoniyaGandhinc Ji Appointed.\n",
            "\n",
            "#odishacongress https://t.co/2XvEL0O7kc\n",
            "Chandra87388176\n",
            "Cuttack, Odisha\n",
            "Twitter for Android\n",
            "0\n",
            "175\n",
            "2361\n",
            "0\n",
            "<--------------------------------------------------->\n",
            "49\n",
            "2020-11-20 10:01:15\n",
            "1329726491891003393\n",
            "False\n",
            "Congratulation to our very own MP from Odisha, Shri @saptagiriulaka .It’s an honour for us to see you being a part of the newly constituted committee for Foreign Affairs by Hon’ble Congress President Smt Sonia Gandhi Ji along with other eminent and senior leaders. @INCOdisha https://t.co/8NYEaQImce\n",
            "ManasCOfficial\n",
            "Cuttack, India\n",
            "Twitter for iPhone\n",
            "27\n",
            "597\n",
            "234\n",
            "1\n",
            "<--------------------------------------------------->\n",
            "50\n",
            "2020-11-20 09:55:07\n",
            "1329724948542234624\n",
            "False\n",
            "#WinterSession: Assembly adjourned for 15 minutes-from 3.10 am to 3.25 am-over ruckus created by BJP &amp; Congress members #Odisha @theargus_in https://t.co/aOOMovQzxM\n",
            "theargus_in\n",
            "Bhubaneswar, India\n",
            "Twitter Web App\n",
            "2\n",
            "6137\n",
            "486\n",
            "1\n",
            "<--------------------------------------------------->\n",
            "51\n",
            "2020-11-20 09:46:54\n",
            "1329722880502890496\n",
            "False\n",
            "@PriaINC @AudaciousQuest_ No wonder in Delhi real NRC ( Nehin Raha Congress) because of this. Forget Delhi it is 0 seat , In Odisha out of 147 assembly seats in 141 seats Congress got 5000 votes. Do Prabhat Pheri first to know Congress is alive .@bismay_inc\n",
            "netajibole\n",
            "Orissa, India\n",
            "Twitter for Android\n",
            "0\n",
            "215\n",
            "680\n",
            "0\n",
            "<--------------------------------------------------->\n",
            "52\n",
            "2020-11-20 09:37:00\n",
            "1329720388406763523\n",
            "False\n",
            "#OdishaAssembly | Congress and BJP MLAs rush to the Well of the House and start protesting against the recent  custodial deaths in the state #Odisha https://t.co/d201UFgWDd\n",
            "Sambad_English\n",
            "Odisha\n",
            "Twitter for Android\n",
            "4\n",
            "42116\n",
            "4\n",
            "0\n",
            "<--------------------------------------------------->\n",
            "53\n",
            "2020-11-20 09:26:58\n",
            "1329717865138716677\n",
            "False\n",
            "Congress in Odisha😎 https://t.co/8rOAM0RrJF\n",
            "amlangourab\n",
            "Bhubaneshwar, Orissa\n",
            "Twitter for Android\n",
            "0\n",
            "9\n",
            "103\n",
            "0\n",
            "<--------------------------------------------------->\n",
            "54\n",
            "2020-11-20 08:39:58\n",
            "1329706034500304897\n",
            "False\n",
            "https://t.co/85FPniM6EJ\n",
            "AIPC Odisha has got 3 Bills ready to save farmers &amp; food security. Congress plans to move these Private Bills in the ongoing Odisha Assembly following the Punjab &amp; Rajasthan pattern to counter the anti-farmer Central Farm Acts.\n",
            "@bhalubh55 @NarasinghMishra https://t.co/2LqA7WGPz9\n",
            "Sucharita4Puri\n",
            "\n",
            "Twitter for Android\n",
            "8\n",
            "2457\n",
            "188\n",
            "7\n",
            "<--------------------------------------------------->\n",
            "55\n",
            "2020-11-20 04:29:06\n",
            "1329642903551918081\n",
            "False\n",
            "@mosquitomani @ProudHind @mydaymywin @muralwrites Like in Odisha..  bjp couldn't grow even after a very weak Congress for decades.. because.. BJD is there..\n",
            "Balooo03268713\n",
            "\n",
            "Twitter Web App\n",
            "0\n",
            "0\n",
            "3\n",
            "0\n",
            "<--------------------------------------------------->\n",
            "56\n",
            "2020-11-20 03:02:44\n",
            "1329621168945393666\n",
            "False\n",
            "The Congress is actively playing with a “#dangerousseparatist agenda” in #JammuandKashmir and following “#communalagenda” in Assam threatening India’s sovereignty, unity and integrity\n",
            "#odisha #OmmcomNews \n",
            " https://t.co/mzMCJKenYn\n",
            "OmmcomNews\n",
            "Bhubaneshwar, India\n",
            "Twitter Web App\n",
            "0\n",
            "3499\n",
            "423\n",
            "0\n",
            "<--------------------------------------------------->\n",
            "57\n",
            "2020-11-19 16:23:19\n",
            "1329460254762020864\n",
            "False\n",
            "@myogiadityanath Let Congress on their feet.....\n",
            "BJP stay on with BHARAT MATA KI JAY\n",
            "odisha_ram\n",
            "\n",
            "Twitter for Android\n",
            "0\n",
            "3\n",
            "22\n",
            "0\n",
            "<--------------------------------------------------->\n",
            "58\n",
            "2020-11-19 16:22:37\n",
            "1329460077363929096\n",
            "False\n",
            "Baijyant Panda is an Bhagoda Scamster of Odisha . He is equivalent to the Suresh Kalmadi of Congress by his works . All his scams are coming out one after another in Odisha . He was kicked out of his constituency in 2019 polls of Loksabha https://t.co/5GmxEbymqc\n",
            "Anuj_utkala\n",
            "India\n",
            "Twitter for Android\n",
            "0\n",
            "511\n",
            "973\n",
            "0\n",
            "<--------------------------------------------------->\n",
            "59\n",
            "2020-11-19 12:07:52\n",
            "1329395967355830273\n",
            "False\n",
            "@trspartyonline \n",
            "@trsinnews \n",
            "One BJP win in Telengana. KCR is shit scared and already started a Anti Modi Anti Congress 3rd Front. Better luck to the 10th man trying this.\n",
            "@mkstalin \n",
            "@MamataOfficial \n",
            "@ncbn \n",
            "@nammahdk \n",
            "@NCPspeaks \n",
            "@Naveen_Odisha \n",
            "@ysjagan\n",
            "sekardr_durai\n",
            "Chennai\n",
            "Twitter for Android\n",
            "0\n",
            "97\n",
            "65\n",
            "0\n",
            "<--------------------------------------------------->\n",
            "60\n",
            "2020-11-19 05:24:55\n",
            "1329294562754347011\n",
            "False\n",
            "Telangana, Odisha,Assam and all north east states where congress has no base left. Most importantly visit Uttar Pradesh every month from now as there is only 15 months to election visit different villages ,cities ,janpads connect with the people make them understand what congress\n",
            "Asishmo28323397\n",
            "\n",
            "Twitter for Android\n",
            "0\n",
            "33\n",
            "778\n",
            "0\n",
            "<--------------------------------------------------->\n",
            "61\n",
            "2020-11-19 04:44:30\n",
            "1329284392381009920\n",
            "False\n",
            "@tanaya_p @Saileshpat Patnaiks in Odisha are either in bjd or congress- and all are corrupted \n",
            "\n",
            "Each patnaik family has minimum 500-1000 crores property . This is like Gandhi- Nehru family in Center &lt;period&gt; @dpradhanbjp @BJP4India @BJP4Odisha @drkhuntia21\n",
            "SwainBighneswar\n",
            "Florida, USA\n",
            "Twitter for iPhone\n",
            "1\n",
            "70\n",
            "1516\n",
            "0\n",
            "<--------------------------------------------------->\n",
            "62\n",
            "2020-11-18 14:18:33\n",
            "1329066467426328577\n",
            "False\n",
            "@BJP4India @JPNadda @BJP4Odisha Thanks a lot for opening of BJP offices but still not opened offices in Koraput district of Odisha. Please look in to Koraput LS seat how to wrest it from congress for this groom a potential candidate. Thank u Sir..\n",
            "DilipMohapatr16\n",
            "\n",
            "Twitter for Android\n",
            "0\n",
            "0\n",
            "3\n",
            "0\n",
            "<--------------------------------------------------->\n",
            "63\n",
            "2020-11-18 13:12:21\n",
            "1329049806283571200\n",
            "False\n",
            "You are the proud of Odisha youth Congress.Good job Smruti Bhai. https://t.co/0ARAjcePWX\n",
            "SatyaPr22784232\n",
            "India\n",
            "Twitter for Android\n",
            "0\n",
            "203\n",
            "900\n",
            "0\n",
            "<--------------------------------------------------->\n",
            "64\n",
            "2020-11-18 07:10:16\n",
            "1328958685373227008\n",
            "False\n",
            "@rashtrapatibhvn @PMOIndia @CMO_Odisha @RSSorg @AmitShah @HinduDharma1\n",
            "Congress walon ne hum hindu ke astha ke upar pal pal baar karte aaye hain... Aap to kam se kam itne salon ke jhoot se parda uthao .\n",
            "We want religious exemption from all vaccination.🙏\n",
            "https://t.co/DRUxuZnO1I https://t.co/3ufG3ZVKAU https://t.co/QqjoC2Dy9r\n",
            "boushika7\n",
            "India\n",
            "Twitter for Android\n",
            "0\n",
            "59\n",
            "125\n",
            "0\n",
            "<--------------------------------------------------->\n",
            "65\n",
            "2020-11-18 06:11:05\n",
            "1328943794969059329\n",
            "False\n",
            "#BJP is constantly winning not only because of its own strengths but consistent decline / weaknesses of Congress. And this is becoming a nationwide phenomenon. Recent examples are #Bihar, #Odisha, #WB etc.\n",
            "jguptallb\n",
            "New Delhi, India\n",
            "Twitter for Android\n",
            "0\n",
            "2017\n",
            "847\n",
            "0\n",
            "<--------------------------------------------------->\n",
            "66\n",
            "2020-11-18 02:24:45\n",
            "1328886834093383682\n",
            "False\n",
            "#Congress 2024\n",
            "Rally at Odisha \n",
            "https://t.co/yLZ7DIJK2d\n",
            "srspdkt\n",
            "Pudukkottai\n",
            "Twitter for Android\n",
            "0\n",
            "5901\n",
            "5046\n",
            "0\n",
            "<--------------------------------------------------->\n",
            "67\n",
            "2020-11-17 15:35:22\n",
            "1328723413427388417\n",
            "False\n",
            "And its bitter truth that congress is very weak in odisha.I am suprised that bjp is strengthning their base by money and people are in their hands by knowing that there is many problem creat by bjp but they dont see any oppostion in odisha.\n",
            "DINESHRANJANRO1\n",
            "Cuttack, India\n",
            "Twitter for Android\n",
            "0\n",
            "56\n",
            "121\n",
            "0\n",
            "<--------------------------------------------------->\n",
            "68\n",
            "2020-11-17 14:05:29\n",
            "1328700792686084099\n",
            "False\n",
            "@rishibagree But in Odisha they rallied behind BJD ...not Congress in the recently concluded polls .\n",
            "AkshayPradhanAP\n",
            "\n",
            "Twitter for Android\n",
            "0\n",
            "12\n",
            "391\n",
            "0\n",
            "<--------------------------------------------------->\n",
            "69\n",
            "2020-11-17 12:22:25\n",
            "1328674855927967745\n",
            "False\n",
            "The BJP on Tuesday asked why defence deals inevitably ended in bringing up names of Congress leaders, as the party launched a scathing attack over new revelations in the alleged AgustaWestland scam.\n",
            "#Odisha #OmmcomNews https://t.co/3TMINAptxk\n",
            "OmmcomNews\n",
            "Bhubaneshwar, India\n",
            "Twitter Web App\n",
            "1\n",
            "3499\n",
            "423\n",
            "0\n",
            "<--------------------------------------------------->\n",
            "70\n",
            "2020-11-17 12:18:51\n",
            "1328673956417552385\n",
            "False\n",
            "@shubhpilot Haha keep on fooling yourself ! Not a Modi bhakt,but see the same thing was said about BJp for Odisha ,Westbengal, Telangana .- See today they are the 2nd no. Party ..Who knows about TN and Kerala !? Maybe the will come oneday..but where is Gandhi pariwar leading Congress to??\n",
            "SaneSorted\n",
            "India\n",
            "Twitter for Android\n",
            "0\n",
            "70\n",
            "1494\n",
            "0\n",
            "<--------------------------------------------------->\n",
            "71\n",
            "2020-11-17 09:49:02\n",
            "1328636255886667777\n",
            "True\n",
            "While inaugurating six party offices in #Odisha @JPNadda took a jibe at the @INCIndia and said, \"for us, our party is our family, while for some others their family is equivalent to their party.\"\n",
            "@BJP4India  #Congress #BJP\n",
            "\n",
            "https://t.co/TzEWwE8nd5\n",
            "Outlookindia\n",
            "New Delhi, India\n",
            "Twitter Web App\n",
            "3\n",
            "227108\n",
            "58\n",
            "0\n",
            "<--------------------------------------------------->\n",
            "72\n",
            "2020-11-17 08:33:34\n",
            "1328617264342417408\n",
            "False\n",
            "What did this Congress MLA said on which everyone is laughing.\n",
            "\n",
            "Republic TV is coming soon to Odisha in Odia Language. To clean the system of such nuisance.\n",
            "\n",
            "#Odisha #odia #RepublicTV #ArnabIsBack https://t.co/4NHxby0IoP\n",
            "RTArnabOfficial\n",
            "Mumbai, India\n",
            "Twitter for Android\n",
            "0\n",
            "173\n",
            "163\n",
            "0\n",
            "<--------------------------------------------------->\n",
            "73\n",
            "2020-11-17 02:18:38\n",
            "1328522907450892289\n",
            "False\n",
            "#Bengaluru Central #CrimeBranchpolice on Tuesday arrested former #mayor and #Congress leader R. #SampathRaj, who was wanted in #Bengalururiots case.\n",
            "#odisha #odishanews #ommcomnews https://t.co/hNbusP371Y\n",
            "OmmcomNews\n",
            "Bhubaneshwar, India\n",
            "Twitter Web App\n",
            "0\n",
            "3499\n",
            "423\n",
            "0\n",
            "<--------------------------------------------------->\n",
            "74\n",
            "2020-11-16 15:53:59\n",
            "1328365710867722241\n",
            "False\n",
            "@Citizenonline2 @vinayaksavashe @grajeshreddy @Arvindharmapuri @byadavbjp @BJP4India @BJP4Telangana In next election BJP will surely lose seats from Hindi hearland and that's why they need to pick Most of the seats from Telengana, AP, Odisha, Maximise Bengal. BJP is the government in waiting in Telengana and Odisha. Congress in No more main opposition\n",
            "Shruti45029314\n",
            "\n",
            "Twitter Web App\n",
            "0\n",
            "19\n",
            "23\n",
            "0\n",
            "<--------------------------------------------------->\n",
            "75\n",
            "2020-11-16 14:06:39\n",
            "1328338696051978242\n",
            "False\n",
            "Which state thinks about Rahul or Congress ..UP,Bihar,Wb, Odisha, Andhra , Tamilnadu, Maharshtra, Gujarat, MP...Remaining states where it comes after 5 years too will loss in the someway forever. States have given option. If Congress does not change itself, it will be a history. https://t.co/AsbeuAa5sm\n",
            "Nakshtrajyotish\n",
            "नक्षत्रतक..  \n",
            "Twitter Web App\n",
            "0\n",
            "36\n",
            "44\n",
            "0\n",
            "<--------------------------------------------------->\n",
            "76\n",
            "2020-11-16 12:05:29\n",
            "1328308205550673920\n",
            "False\n",
            "If the state government doesn't take steps to resolve the border issue  Congress would  work for  a solution , said Saptagiri Ulaka , MP , Koraput .Learn more with a click on this webcast by ETV Bharat Odia to learn more : https://t.co/thrnjFNhnU https://t.co/0qtxiXXEeh\n",
            "santakar\n",
            "KORAPUT,Odisha ,INDIA\n",
            "Twitter for Android\n",
            "0\n",
            "1033\n",
            "205\n",
            "0\n",
            "<--------------------------------------------------->\n",
            "77\n",
            "2020-11-16 11:54:08\n",
            "1328305349288312834\n",
            "False\n",
            "Until and unless regional political parties stop being generous to the arrogant and out of form Congress high command NDA will have no challenger anywhere in India except in few states where the regional parties don't need Congress - like W.Bengal Telangana,Andhra, Odisha... https://t.co/o7wXcnNjZV\n",
            "chyavanmallya\n",
            "भारत\n",
            "Twitter for Android\n",
            "0\n",
            "46\n",
            "519\n",
            "0\n",
            "<--------------------------------------------------->\n",
            "78\n",
            "2020-11-16 11:39:50\n",
            "1328301750663532544\n",
            "False\n",
            "@RahulGandhi After hatras you are seen no where, if you wanna revive congress, come to the streets everyday. \n",
            "In Balasore, odisha congress got only 3000 votes in bi elections! !!!!! Please focus on Odisha and change all BJP dalals\n",
            "JbSiddhartha\n",
            "\n",
            "Twitter for Android\n",
            "1\n",
            "615\n",
            "683\n",
            "0\n",
            "<--------------------------------------------------->\n",
            "79\n",
            "2020-11-16 07:06:37\n",
            "1328232991546503168\n",
            "False\n",
            "Why such a senior leader has been deputed to Kerala?\n",
            "\n",
            "Kerala is safe bet for Congress now.\n",
            "\n",
            "Depute him to Maharastra or MP or Odisha. https://t.co/4vOzCE464y\n",
            "wasimabrar\n",
            "INDIA\n",
            "Twitter for Android\n",
            "0\n",
            "232\n",
            "788\n",
            "0\n",
            "<--------------------------------------------------->\n",
            "80\n",
            "2020-11-16 07:05:01\n",
            "1328232589107236864\n",
            "False\n",
            "@DrAChellaKumar We will build a new ODISHA with congress ✊\n",
            "Ssatyajitsahoo\n",
            "Asureswar , Cuttack , Odisha\n",
            "Twitter for Android\n",
            "0\n",
            "943\n",
            "115\n",
            "0\n",
            "<--------------------------------------------------->\n",
            "81\n",
            "2020-11-16 05:44:17\n",
            "1328212272561360896\n",
            "False\n",
            "@Soumyadipta Sibal is wrong. Congress is doing fine.\n",
            "\n",
            "Elections in 2019 &amp; 20, Congress show\n",
            "\n",
            "AP 0/175\n",
            "General Election 52/542\n",
            "Arunachal 4/60\n",
            "Odisha 9/147\n",
            "Sikkim 0/32\n",
            "Haryana 31/90\n",
            "MH 44/288\n",
            "Jharkhand 16/81\n",
            "Delhi 0/70\n",
            "Bihar 19/243\n",
            "\n",
            "Total 175/1728 = 10% seats\n",
            "workingboxwala\n",
            "POK\n",
            "Twitter for Android\n",
            "6\n",
            "4611\n",
            "256\n",
            "1\n",
            "<--------------------------------------------------->\n",
            "82\n",
            "2020-11-16 02:55:31\n",
            "1328169801412272129\n",
            "False\n",
            "Bihar , Odisha , UP , MP, WB , AP unless congress fix the issue it is difficult for it come to power. \n",
            "\n",
            "There is a system in place within congress who does not want congress to do well. \n",
            "\n",
            "Can’t congress hold direct meeting with workers on each states.\n",
            "RamakantaShur\n",
            "\n",
            "Twitter Web App\n",
            "0\n",
            "523\n",
            "544\n",
            "0\n",
            "<--------------------------------------------------->\n",
            "83\n",
            "2020-11-15 18:29:41\n",
            "1328042502427791360\n",
            "False\n",
            "@BJP4India has been happily losing every election in Odisha for eternity even though Congress is dead but never abuses Odiyas.\n",
            "I wonder then why so much hate for Bengalis ? \n",
            "They lost their family jewels here or what ?\n",
            "PhoenixIndranil\n",
            "Howrah\n",
            "Twitter for Android\n",
            "1\n",
            "379\n",
            "539\n",
            "0\n",
            "<--------------------------------------------------->\n",
            "84\n",
            "2020-11-15 15:16:51\n",
            "1327993974053765122\n",
            "False\n",
            "#SoniaGandhi\n",
            "Plz save Odisha congress. If u plan to ruin the Odisha congress party by the \"BJD' Broker Niranjan Pattnaik then Ok,but before this think about the people those are beleive in Congress ideology. Why AICC thought Congress is simply a political party, It's a Movement.\n",
            "chandanNaik16\n",
            "Badakamandara,Keonjhar\n",
            "Twitter for Android\n",
            "0\n",
            "3\n",
            "172\n",
            "0\n",
            "<--------------------------------------------------->\n",
            "85\n",
            "2020-11-15 15:16:13\n",
            "1327993818163994629\n",
            "False\n",
            "@RahulGandhi \n",
            "Plz save Odisha congress. If u plan to ruin the Odisha congress party by the \"BJD' Broker Niranjan Pattnaik then Ok,but before this think about the people those are beleive in Congress ideology. Why AICC thought Congress is simply a political party, It's a Movement.\n",
            "chandanNaik16\n",
            "Badakamandara,Keonjhar\n",
            "Twitter for Android\n",
            "0\n",
            "3\n",
            "172\n",
            "0\n",
            "<--------------------------------------------------->\n",
            "86\n"
          ],
          "name": "stdout"
        }
      ]
    },
    {
      "cell_type": "code",
      "metadata": {
        "id": "rnC_-x_vgzPB"
      },
      "source": [
        "import re\n",
        "import numpy as np\n",
        "\n",
        "import matplotlib.pyplot as plt\n",
        "import seaborn as sns\n",
        "\n",
        "import pandas as pd\n",
        "\n",
        "import datetime as dt\n",
        "from collections import Counter\n",
        "\n",
        "import nltk\n",
        "from nltk.tokenize import sent_tokenize\n",
        "from nltk.tokenize import TweetTokenizer\n",
        "from nltk.tokenize import word_tokenize\n",
        "from nltk.corpus import words\n",
        "from nltk.corpus import stopwords\n",
        "from nltk.stem import PorterStemmer\n",
        "from nltk.stem import WordNetLemmatizer"
      ],
      "execution_count": 6,
      "outputs": []
    },
    {
      "cell_type": "code",
      "metadata": {
        "id": "uuKwAeG2VKgp",
        "colab": {
          "base_uri": "https://localhost:8080/"
        },
        "outputId": "f0f23560-38eb-4104-bb54-06272165f687"
      },
      "source": [
        "df.info()"
      ],
      "execution_count": 7,
      "outputs": [
        {
          "output_type": "stream",
          "text": [
            "<class 'pandas.core.frame.DataFrame'>\n",
            "RangeIndex: 86 entries, 0 to 85\n",
            "Data columns (total 11 columns):\n",
            " #   Column     Non-Null Count  Dtype         \n",
            "---  ------     --------------  -----         \n",
            " 0   Date       86 non-null     datetime64[ns]\n",
            " 1   Tweet_id   86 non-null     int64         \n",
            " 2   Verified   86 non-null     bool          \n",
            " 3   Tweet      86 non-null     object        \n",
            " 4   User       86 non-null     object        \n",
            " 5   Location   86 non-null     object        \n",
            " 6   Source     86 non-null     object        \n",
            " 7   Likes      86 non-null     int64         \n",
            " 8   Followers  86 non-null     int64         \n",
            " 9   Following  86 non-null     int64         \n",
            " 10  Retweets   86 non-null     int64         \n",
            "dtypes: bool(1), datetime64[ns](1), int64(5), object(4)\n",
            "memory usage: 6.9+ KB\n"
          ],
          "name": "stdout"
        }
      ]
    },
    {
      "cell_type": "code",
      "metadata": {
        "id": "Yz9Mr_5bU3wO",
        "colab": {
          "base_uri": "https://localhost:8080/"
        },
        "outputId": "8874eea0-9950-4509-8a1d-934a5f2c402b"
      },
      "source": [
        "df.shape"
      ],
      "execution_count": 8,
      "outputs": [
        {
          "output_type": "execute_result",
          "data": {
            "text/plain": [
              "(86, 11)"
            ]
          },
          "metadata": {
            "tags": []
          },
          "execution_count": 8
        }
      ]
    },
    {
      "cell_type": "code",
      "metadata": {
        "id": "U2TqiSlvU5AL"
      },
      "source": [
        "df['Date'] = df['Date'].apply(lambda x: dt.datetime.strptime(str(x),'%Y-%m-%d %H:%M:%S')) #Convert to date time format"
      ],
      "execution_count": 9,
      "outputs": []
    },
    {
      "cell_type": "code",
      "metadata": {
        "id": "iALZ0QjFX6iW",
        "colab": {
          "base_uri": "https://localhost:8080/"
        },
        "outputId": "9d6d21f4-2760-4c1d-bee8-a4af744e78ef"
      },
      "source": [
        "df.dtypes"
      ],
      "execution_count": 10,
      "outputs": [
        {
          "output_type": "execute_result",
          "data": {
            "text/plain": [
              "Date         datetime64[ns]\n",
              "Tweet_id              int64\n",
              "Verified               bool\n",
              "Tweet                object\n",
              "User                 object\n",
              "Location             object\n",
              "Source               object\n",
              "Likes                 int64\n",
              "Followers             int64\n",
              "Following             int64\n",
              "Retweets              int64\n",
              "dtype: object"
            ]
          },
          "metadata": {
            "tags": []
          },
          "execution_count": 10
        }
      ]
    },
    {
      "cell_type": "code",
      "metadata": {
        "id": "QwBHDIQ7X-S-",
        "colab": {
          "base_uri": "https://localhost:8080/"
        },
        "outputId": "e8c11c1c-7b7c-483c-d257-ebde270ea06d"
      },
      "source": [
        "df.isnull().sum()"
      ],
      "execution_count": 11,
      "outputs": [
        {
          "output_type": "execute_result",
          "data": {
            "text/plain": [
              "Date         0\n",
              "Tweet_id     0\n",
              "Verified     0\n",
              "Tweet        0\n",
              "User         0\n",
              "Location     0\n",
              "Source       0\n",
              "Likes        0\n",
              "Followers    0\n",
              "Following    0\n",
              "Retweets     0\n",
              "dtype: int64"
            ]
          },
          "metadata": {
            "tags": []
          },
          "execution_count": 11
        }
      ]
    },
    {
      "cell_type": "code",
      "metadata": {
        "id": "PULuNP0EYKb8",
        "colab": {
          "base_uri": "https://localhost:8080/"
        },
        "outputId": "42d84b71-0995-49db-b6e4-7c808a7e2c04"
      },
      "source": [
        "df['Source'].value_counts()"
      ],
      "execution_count": 12,
      "outputs": [
        {
          "output_type": "execute_result",
          "data": {
            "text/plain": [
              "Twitter for Android     49\n",
              "Twitter Web App         28\n",
              "Twitter for iPhone       6\n",
              "TweetDeck                2\n",
              "Twitter Media Studio     1\n",
              "Name: Source, dtype: int64"
            ]
          },
          "metadata": {
            "tags": []
          },
          "execution_count": 12
        }
      ]
    },
    {
      "cell_type": "code",
      "metadata": {
        "id": "L0yluKAMYUhm",
        "colab": {
          "base_uri": "https://localhost:8080/"
        },
        "outputId": "7be10da1-0964-4921-91b2-4e9e6360c430"
      },
      "source": [
        "df['Location'].nunique()"
      ],
      "execution_count": 13,
      "outputs": [
        {
          "output_type": "execute_result",
          "data": {
            "text/plain": [
              "38"
            ]
          },
          "metadata": {
            "tags": []
          },
          "execution_count": 13
        }
      ]
    },
    {
      "cell_type": "code",
      "metadata": {
        "id": "YaaScZPVYalK",
        "colab": {
          "base_uri": "https://localhost:8080/"
        },
        "outputId": "a35c0639-af69-45b2-b0fc-246cd5c95c2f"
      },
      "source": [
        "tweets_list = df['Tweet'].tolist()\n",
        "len(tweets_list)"
      ],
      "execution_count": 14,
      "outputs": [
        {
          "output_type": "execute_result",
          "data": {
            "text/plain": [
              "86"
            ]
          },
          "metadata": {
            "tags": []
          },
          "execution_count": 14
        }
      ]
    },
    {
      "cell_type": "code",
      "metadata": {
        "id": "ki_iXrJoYe8a",
        "colab": {
          "base_uri": "https://localhost:8080/"
        },
        "outputId": "1afe4726-dc3b-4c46-e5e8-0a9af583107f"
      },
      "source": [
        "tweets_list_updated = set(tweets_list)\n",
        "len(tweets_list_updated)"
      ],
      "execution_count": 15,
      "outputs": [
        {
          "output_type": "execute_result",
          "data": {
            "text/plain": [
              "86"
            ]
          },
          "metadata": {
            "tags": []
          },
          "execution_count": 15
        }
      ]
    },
    {
      "cell_type": "code",
      "metadata": {
        "id": "4UT1yjfTYiLB",
        "colab": {
          "base_uri": "https://localhost:8080/"
        },
        "outputId": "909c165f-e1f5-4294-d5b1-6894c6df5215"
      },
      "source": [
        "tweets_list_updated  = list(tweets_list_updated)\n",
        "type(tweets_list_updated)"
      ],
      "execution_count": 16,
      "outputs": [
        {
          "output_type": "execute_result",
          "data": {
            "text/plain": [
              "list"
            ]
          },
          "metadata": {
            "tags": []
          },
          "execution_count": 16
        }
      ]
    },
    {
      "cell_type": "code",
      "metadata": {
        "id": "oOTJ2Z1IYl15",
        "colab": {
          "base_uri": "https://localhost:8080/"
        },
        "outputId": "e458feee-bc05-4f5d-e339-2f1135a4af7d"
      },
      "source": [
        "df['Tweet'].duplicated().sum()"
      ],
      "execution_count": 17,
      "outputs": [
        {
          "output_type": "execute_result",
          "data": {
            "text/plain": [
              "0"
            ]
          },
          "metadata": {
            "tags": []
          },
          "execution_count": 17
        }
      ]
    },
    {
      "cell_type": "code",
      "metadata": {
        "id": "iboT9Z8nYts6",
        "colab": {
          "base_uri": "https://localhost:8080/"
        },
        "outputId": "0b58e88d-6902-45f9-960f-f41290598581"
      },
      "source": [
        "df = df.drop_duplicates(subset = 'Tweet', keep = 'first',ignore_index = True)\n",
        "df.shape"
      ],
      "execution_count": 18,
      "outputs": [
        {
          "output_type": "execute_result",
          "data": {
            "text/plain": [
              "(86, 11)"
            ]
          },
          "metadata": {
            "tags": []
          },
          "execution_count": 18
        }
      ]
    },
    {
      "cell_type": "code",
      "metadata": {
        "id": "YtUW3NmsYw7L",
        "colab": {
          "base_uri": "https://localhost:8080/"
        },
        "outputId": "e0d86154-4e71-40dd-aef6-d707ab7ffb4d"
      },
      "source": [
        "df['Tweet'].duplicated().sum()"
      ],
      "execution_count": 19,
      "outputs": [
        {
          "output_type": "execute_result",
          "data": {
            "text/plain": [
              "0"
            ]
          },
          "metadata": {
            "tags": []
          },
          "execution_count": 19
        }
      ]
    },
    {
      "cell_type": "code",
      "metadata": {
        "id": "87iWarvlY1GV"
      },
      "source": [
        "def remove_emoji(tweet):\n",
        "    emoji_pattern = re.compile(\"[\"\n",
        "            u\"\\U0001F600-\\U0001F64F\"  # emoticons\n",
        "            u\"\\U0001F300-\\U0001F5FF\"  # symbols & pictographs\n",
        "            u\"\\U0001F680-\\U0001F6FF\"  # transport & map symbols\n",
        "            u\"\\U0001F1E0-\\U0001F1FF\"  # flags (iOS)\n",
        "                               \"]+\", flags=re.UNICODE)\n",
        "    return emoji_pattern.sub(r'', tweet)\n",
        "\n",
        "df['Processed_Tweet']=df.Tweet.apply(remove_emoji)"
      ],
      "execution_count": 20,
      "outputs": []
    },
    {
      "cell_type": "code",
      "metadata": {
        "id": "ufbUsSdyY8ZL",
        "colab": {
          "base_uri": "https://localhost:8080/"
        },
        "outputId": "4f320089-2709-4ca4-b8af-631d954b9a4d"
      },
      "source": [
        "count=0\n",
        "for i in df['Processed_Tweet']:\n",
        "    if re.match(r'^RT', i):  #remove any rows that contain RT\n",
        "        df.drop(df.loc[df['Processed_Tweet']==i].index,inplace = True)\n",
        "        count+=1\n",
        "    \n",
        "count"
      ],
      "execution_count": 21,
      "outputs": [
        {
          "output_type": "execute_result",
          "data": {
            "text/plain": [
              "0"
            ]
          },
          "metadata": {
            "tags": []
          },
          "execution_count": 21
        }
      ]
    },
    {
      "cell_type": "code",
      "metadata": {
        "id": "5xlJXmV2ZBEw",
        "colab": {
          "base_uri": "https://localhost:8080/"
        },
        "outputId": "752d3726-4956-4011-b45e-01ba44871874"
      },
      "source": [
        "df.shape"
      ],
      "execution_count": 22,
      "outputs": [
        {
          "output_type": "execute_result",
          "data": {
            "text/plain": [
              "(86, 12)"
            ]
          },
          "metadata": {
            "tags": []
          },
          "execution_count": 22
        }
      ]
    },
    {
      "cell_type": "code",
      "metadata": {
        "id": "8dR-gpRYZGhr",
        "colab": {
          "base_uri": "https://localhost:8080/"
        },
        "outputId": "111feb65-1b4f-48ba-c3e9-97d834beffcc"
      },
      "source": [
        "df['Processed_Tweet']"
      ],
      "execution_count": 23,
      "outputs": [
        {
          "output_type": "execute_result",
          "data": {
            "text/plain": [
              "0     @JagiPanda @sardesairajdeep @vikramchandra @AR...\n",
              "1     @ARanganathan72 @otvnews @JagiPanda The day na...\n",
              "2     The opposition Bharatiya Janata Party (#BJP) a...\n",
              "3     @Elizatweetz @RahulGandhi Ma'am to be honest c...\n",
              "4     @satya_kg @BagatiSoham @rohini_sgh @RahulGandh...\n",
              "                            ...                        \n",
              "81    @Soumyadipta Sibal is wrong. Congress is doing...\n",
              "82    Bihar , Odisha , UP , MP, WB , AP unless congr...\n",
              "83    @BJP4India has been happily losing every elect...\n",
              "84    #SoniaGandhi\\nPlz save Odisha congress. If u p...\n",
              "85    @RahulGandhi \\nPlz save Odisha congress. If u ...\n",
              "Name: Processed_Tweet, Length: 86, dtype: object"
            ]
          },
          "metadata": {
            "tags": []
          },
          "execution_count": 23
        }
      ]
    },
    {
      "cell_type": "code",
      "metadata": {
        "id": "K5CezelDZKDa",
        "colab": {
          "base_uri": "https://localhost:8080/"
        },
        "outputId": "649d8746-dd5d-4358-e038-bbce8c031f1f"
      },
      "source": [
        "df['Processed_Tweet'] = [re.sub('^RT[\\s]','',i) for i in df['Processed_Tweet']]  #Remove RT substring\n",
        "df['Processed_Tweet']"
      ],
      "execution_count": 24,
      "outputs": [
        {
          "output_type": "execute_result",
          "data": {
            "text/plain": [
              "0     @JagiPanda @sardesairajdeep @vikramchandra @AR...\n",
              "1     @ARanganathan72 @otvnews @JagiPanda The day na...\n",
              "2     The opposition Bharatiya Janata Party (#BJP) a...\n",
              "3     @Elizatweetz @RahulGandhi Ma'am to be honest c...\n",
              "4     @satya_kg @BagatiSoham @rohini_sgh @RahulGandh...\n",
              "                            ...                        \n",
              "81    @Soumyadipta Sibal is wrong. Congress is doing...\n",
              "82    Bihar , Odisha , UP , MP, WB , AP unless congr...\n",
              "83    @BJP4India has been happily losing every elect...\n",
              "84    #SoniaGandhi\\nPlz save Odisha congress. If u p...\n",
              "85    @RahulGandhi \\nPlz save Odisha congress. If u ...\n",
              "Name: Processed_Tweet, Length: 86, dtype: object"
            ]
          },
          "metadata": {
            "tags": []
          },
          "execution_count": 24
        }
      ]
    },
    {
      "cell_type": "code",
      "metadata": {
        "id": "gjiyro27ZOx_",
        "colab": {
          "base_uri": "https://localhost:8080/"
        },
        "outputId": "9ec2d192-0169-4b0c-b36e-d0329d8cb647"
      },
      "source": [
        "df['Processed_Tweet'] = [re.sub('@[^\\s]+', ' ', i) for i in df['Processed_Tweet']] #remove usernames\n",
        "df['Processed_Tweet']"
      ],
      "execution_count": 25,
      "outputs": [
        {
          "output_type": "execute_result",
          "data": {
            "text/plain": [
              "0                                     Odisha govt, t...\n",
              "1           The day national media turns its focus o...\n",
              "2     The opposition Bharatiya Janata Party (#BJP) a...\n",
              "3         Ma'am to be honest congress had leaders li...\n",
              "4               Isn't the whole India their family g...\n",
              "                            ...                        \n",
              "81      Sibal is wrong. Congress is doing fine.\\n\\nE...\n",
              "82    Bihar , Odisha , UP , MP, WB , AP unless congr...\n",
              "83      has been happily losing every election in Od...\n",
              "84    #SoniaGandhi\\nPlz save Odisha congress. If u p...\n",
              "85      \\nPlz save Odisha congress. If u plan to rui...\n",
              "Name: Processed_Tweet, Length: 86, dtype: object"
            ]
          },
          "metadata": {
            "tags": []
          },
          "execution_count": 25
        }
      ]
    },
    {
      "cell_type": "code",
      "metadata": {
        "id": "HedkRzD1ZS4Q",
        "colab": {
          "base_uri": "https://localhost:8080/"
        },
        "outputId": "99a4168b-2513-4c36-93cd-c0fb77e906d6"
      },
      "source": [
        "df['Processed_Tweet'] = [re.sub('((www\\.[^\\s]+)|(https?://[^\\s]+))', '', i) for i in df['Processed_Tweet']] #Remove urls\n",
        "df['Processed_Tweet']"
      ],
      "execution_count": 26,
      "outputs": [
        {
          "output_type": "execute_result",
          "data": {
            "text/plain": [
              "0                                     Odisha govt, t...\n",
              "1           The day national media turns its focus o...\n",
              "2     The opposition Bharatiya Janata Party (#BJP) a...\n",
              "3         Ma'am to be honest congress had leaders li...\n",
              "4               Isn't the whole India their family g...\n",
              "                            ...                        \n",
              "81      Sibal is wrong. Congress is doing fine.\\n\\nE...\n",
              "82    Bihar , Odisha , UP , MP, WB , AP unless congr...\n",
              "83      has been happily losing every election in Od...\n",
              "84    #SoniaGandhi\\nPlz save Odisha congress. If u p...\n",
              "85      \\nPlz save Odisha congress. If u plan to rui...\n",
              "Name: Processed_Tweet, Length: 86, dtype: object"
            ]
          },
          "metadata": {
            "tags": []
          },
          "execution_count": 26
        }
      ]
    },
    {
      "cell_type": "code",
      "metadata": {
        "id": "EmDOOVqcZXb0",
        "colab": {
          "base_uri": "https://localhost:8080/"
        },
        "outputId": "de5b2cb5-c7bd-4918-90a6-d06253f22d1a"
      },
      "source": [
        "df['Processed_Tweet'] = [re.sub(r'#([^\\s]+)', r'\\1', i) for i in df['Processed_Tweet']] # remove the # in #hashtag\n",
        "df['Processed_Tweet']"
      ],
      "execution_count": 27,
      "outputs": [
        {
          "output_type": "execute_result",
          "data": {
            "text/plain": [
              "0                                     Odisha govt, t...\n",
              "1           The day national media turns its focus o...\n",
              "2     The opposition Bharatiya Janata Party (BJP) an...\n",
              "3         Ma'am to be honest congress had leaders li...\n",
              "4               Isn't the whole India their family g...\n",
              "                            ...                        \n",
              "81      Sibal is wrong. Congress is doing fine.\\n\\nE...\n",
              "82    Bihar , Odisha , UP , MP, WB , AP unless congr...\n",
              "83      has been happily losing every election in Od...\n",
              "84    SoniaGandhi\\nPlz save Odisha congress. If u pl...\n",
              "85      \\nPlz save Odisha congress. If u plan to rui...\n",
              "Name: Processed_Tweet, Length: 86, dtype: object"
            ]
          },
          "metadata": {
            "tags": []
          },
          "execution_count": 27
        }
      ]
    },
    {
      "cell_type": "code",
      "metadata": {
        "id": "GSXJD-U6ZhW1",
        "colab": {
          "base_uri": "https://localhost:8080/"
        },
        "outputId": "78671990-c382-453e-e7be-dbf430c7e9fc"
      },
      "source": [
        "!pip install tweet-preprocessor"
      ],
      "execution_count": 28,
      "outputs": [
        {
          "output_type": "stream",
          "text": [
            "Collecting tweet-preprocessor\n",
            "  Downloading https://files.pythonhosted.org/packages/17/9d/71bd016a9edcef8860c607e531f30bd09b13103c7951ae73dd2bf174163c/tweet_preprocessor-0.6.0-py3-none-any.whl\n",
            "Installing collected packages: tweet-preprocessor\n",
            "Successfully installed tweet-preprocessor-0.6.0\n"
          ],
          "name": "stdout"
        }
      ]
    },
    {
      "cell_type": "code",
      "metadata": {
        "id": "S-GqeFH8ZcYI",
        "colab": {
          "base_uri": "https://localhost:8080/"
        },
        "outputId": "b69450e9-2d65-4a2a-ab1b-3cc50adff0ac"
      },
      "source": [
        "import preprocessor as p #Module for faster preprocessing specifically for tweets\n",
        "df['Processed_Tweet'] = [p.clean(i) for i in df['Processed_Tweet']]\n",
        "df['Processed_Tweet']"
      ],
      "execution_count": 29,
      "outputs": [
        {
          "output_type": "execute_result",
          "data": {
            "text/plain": [
              "0     Odisha govt, the revenue depart slept until Pa...\n",
              "1     The day national media turns its focus on Odis...\n",
              "2     The opposition Bharatiya Janata Party (BJP) an...\n",
              "3     Ma'am to be honest congress had leaders like G...\n",
              "4     Isn't the whole India their family gopabandhu ...\n",
              "                            ...                        \n",
              "81    Sibal is wrong. Congress is doing fine.Electio...\n",
              "82    Bihar , Odisha , UP , MP, WB , AP unless congr...\n",
              "83    has been happily losing every election in Odis...\n",
              "84    SoniaGandhiPlz save Odisha congress. If u plan...\n",
              "85    Plz save Odisha congress. If u plan to ruin th...\n",
              "Name: Processed_Tweet, Length: 86, dtype: object"
            ]
          },
          "metadata": {
            "tags": []
          },
          "execution_count": 29
        }
      ]
    },
    {
      "cell_type": "code",
      "metadata": {
        "id": "T0_7jWfXZo2E",
        "colab": {
          "base_uri": "https://localhost:8080/"
        },
        "outputId": "3b974b98-1d13-4cbe-87d0-4b557b5e0dd2"
      },
      "source": [
        "#removing unnecessary special characters, numbers, punctuations in tweets\n",
        "df.Processed_Tweet = df.Processed_Tweet.str.replace(\"[^a-zA-Z]\", \" \")\n",
        "df[\"Processed_Tweet\"]"
      ],
      "execution_count": 30,
      "outputs": [
        {
          "output_type": "execute_result",
          "data": {
            "text/plain": [
              "0     Odisha govt  the revenue depart slept until Pa...\n",
              "1     The day national media turns its focus on Odis...\n",
              "2     The opposition Bharatiya Janata Party  BJP  an...\n",
              "3     Ma am to be honest congress had leaders like G...\n",
              "4     Isn t the whole India their family gopabandhu ...\n",
              "                            ...                        \n",
              "81    Sibal is wrong  Congress is doing fine Electio...\n",
              "82    Bihar   Odisha   UP   MP  WB   AP unless congr...\n",
              "83    has been happily losing every election in Odis...\n",
              "84    SoniaGandhiPlz save Odisha congress  If u plan...\n",
              "85    Plz save Odisha congress  If u plan to ruin th...\n",
              "Name: Processed_Tweet, Length: 86, dtype: object"
            ]
          },
          "metadata": {
            "tags": []
          },
          "execution_count": 30
        }
      ]
    },
    {
      "cell_type": "code",
      "metadata": {
        "id": "3rQeZOTCZsd7",
        "colab": {
          "base_uri": "https://localhost:8080/"
        },
        "outputId": "890cb21e-d4a7-4fe6-a34c-8c6ef43f2010"
      },
      "source": [
        "df.Processed_Tweet = [low.lower() for low in df.Processed_Tweet] #Converting into lower case\n",
        "df[\"Processed_Tweet\"]"
      ],
      "execution_count": 31,
      "outputs": [
        {
          "output_type": "execute_result",
          "data": {
            "text/plain": [
              "0     odisha govt  the revenue depart slept until pa...\n",
              "1     the day national media turns its focus on odis...\n",
              "2     the opposition bharatiya janata party  bjp  an...\n",
              "3     ma am to be honest congress had leaders like g...\n",
              "4     isn t the whole india their family gopabandhu ...\n",
              "                            ...                        \n",
              "81    sibal is wrong  congress is doing fine electio...\n",
              "82    bihar   odisha   up   mp  wb   ap unless congr...\n",
              "83    has been happily losing every election in odis...\n",
              "84    soniagandhiplz save odisha congress  if u plan...\n",
              "85    plz save odisha congress  if u plan to ruin th...\n",
              "Name: Processed_Tweet, Length: 86, dtype: object"
            ]
          },
          "metadata": {
            "tags": []
          },
          "execution_count": 31
        }
      ]
    },
    {
      "cell_type": "code",
      "metadata": {
        "id": "D1caun-KZxeX",
        "colab": {
          "base_uri": "https://localhost:8080/",
          "height": 52
        },
        "outputId": "12eb24b7-6108-4a50-c583-808407ce6cf4"
      },
      "source": [
        "df.Processed_Tweet =  df.Processed_Tweet.str.replace(\"amp\", \"\")\n",
        "df['Processed_Tweet'][12] #Sample tweet"
      ],
      "execution_count": 32,
      "outputs": [
        {
          "output_type": "execute_result",
          "data": {
            "application/vnd.google.colaboratory.intrinsic+json": {
              "type": "string"
            },
            "text/plain": [
              "'odishaassembly update  congress mla tara prasad bahinipati bangs head against speakers podium over closure of schools in odisha'"
            ]
          },
          "metadata": {
            "tags": []
          },
          "execution_count": 32
        }
      ]
    },
    {
      "cell_type": "code",
      "metadata": {
        "id": "AQ7xfpqOZ7gx",
        "colab": {
          "base_uri": "https://localhost:8080/"
        },
        "outputId": "9216ebe8-c531-4c3c-fc14-cf6c7f41f808"
      },
      "source": [
        "df['User'].value_counts()"
      ],
      "execution_count": 33,
      "outputs": [
        {
          "output_type": "execute_result",
          "data": {
            "text/plain": [
              "otvnews            6\n",
              "ArunRag40247264    5\n",
              "OmmcomNews         4\n",
              "Sambad_English     4\n",
              "theargus_in        3\n",
              "Congress300seat    3\n",
              "SwainBighneswar    2\n",
              "netajibole         2\n",
              "Kalingatv          2\n",
              "chandanNaik16      2\n",
              "brigado_deba       2\n",
              "santakar           2\n",
              "harimeher007       2\n",
              "ghasirampanda      1\n",
              "iamjoyeetaroy      1\n",
              "srspdkt            1\n",
              "wasimabrar         1\n",
              "BiplabSiladitya    1\n",
              "odisha_ram         1\n",
              "HPMohapatra        1\n",
              "Anuj_utkala        1\n",
              "sangramstarts      1\n",
              "SOMJD              1\n",
              "Satyanewshi        1\n",
              "Nakshtrajyotish    1\n",
              "JbSiddhartha       1\n",
              "ManasCOfficial     1\n",
              "Sucharita4Puri     1\n",
              "DINESHRANJANRO1    1\n",
              "Shruti45029314     1\n",
              "LaxmidharaBari2    1\n",
              "AkshayPradhanAP    1\n",
              "Asishmo28323397    1\n",
              "Balooo03268713     1\n",
              "SatyaPr22784232    1\n",
              "RamakantaShur      1\n",
              "boushika7          1\n",
              "FactlySanjeev      1\n",
              "SujitBisoyiTOI     1\n",
              "Chandra87388176    1\n",
              "amlangourab        1\n",
              "PhototodayNews     1\n",
              "ripunbora          1\n",
              "odishaRTE          1\n",
              "Anmol2923          1\n",
              "Outlookindia       1\n",
              "RTArnabOfficial    1\n",
              "jguptallb          1\n",
              "suryanandannet     1\n",
              "DilipMohapatr16    1\n",
              "SChauha72553505    1\n",
              "Ssatyajitsahoo     1\n",
              "sekardr_durai      1\n",
              "PhoenixIndranil    1\n",
              "chyavanmallya      1\n",
              "workingboxwala     1\n",
              "moderateright      1\n",
              "SaneSorted         1\n",
              "BPD46247871        1\n",
              "ians_india         1\n",
              "Name: User, dtype: int64"
            ]
          },
          "metadata": {
            "tags": []
          },
          "execution_count": 33
        }
      ]
    },
    {
      "cell_type": "code",
      "metadata": {
        "id": "WX3ijK3eZ9CL",
        "colab": {
          "base_uri": "https://localhost:8080/"
        },
        "outputId": "c7e3e23c-5fff-4f7f-cd4a-8b5a00bc3f16"
      },
      "source": [
        "df.query('User == \"rahul\"').Processed_Tweet.tolist()"
      ],
      "execution_count": 34,
      "outputs": [
        {
          "output_type": "execute_result",
          "data": {
            "text/plain": [
              "[]"
            ]
          },
          "metadata": {
            "tags": []
          },
          "execution_count": 34
        }
      ]
    },
    {
      "cell_type": "code",
      "metadata": {
        "id": "ZSs-7eHlZ9F5",
        "colab": {
          "base_uri": "https://localhost:8080/",
          "height": 334
        },
        "outputId": "dc325a80-89a7-4fba-c121-140c27f25cb3"
      },
      "source": [
        "bar = sns.countplot(df['Verified'])"
      ],
      "execution_count": 35,
      "outputs": [
        {
          "output_type": "stream",
          "text": [
            "/usr/local/lib/python3.6/dist-packages/seaborn/_decorators.py:43: FutureWarning: Pass the following variable as a keyword arg: x. From version 0.12, the only valid positional argument will be `data`, and passing other arguments without an explicit keyword will result in an error or misinterpretation.\n",
            "  FutureWarning\n"
          ],
          "name": "stderr"
        },
        {
          "output_type": "display_data",
          "data": {
            "image/png": "[encoded data removed]",
            "text/plain": [
              "<Figure size 432x288 with 1 Axes>"
            ]
          },
          "metadata": {
            "tags": [],
            "needs_background": "light"
          }
        }
      ]
    },
    {
      "cell_type": "code",
      "metadata": {
        "id": "48YKJISOZ9Jm",
        "colab": {
          "base_uri": "https://localhost:8080/"
        },
        "outputId": "357f0c19-8d2a-4965-eeb4-a896d6ecb80f"
      },
      "source": [
        "df['Verified'].value_counts()"
      ],
      "execution_count": 36,
      "outputs": [
        {
          "output_type": "execute_result",
          "data": {
            "text/plain": [
              "False    77\n",
              "True      9\n",
              "Name: Verified, dtype: int64"
            ]
          },
          "metadata": {
            "tags": []
          },
          "execution_count": 36
        }
      ]
    },
    {
      "cell_type": "code",
      "metadata": {
        "id": "qBweECkIZ9Ng",
        "colab": {
          "base_uri": "https://localhost:8080/"
        },
        "outputId": "8d8f8829-cc10-433f-a044-900a448cfa58"
      },
      "source": [
        "df_verified = df.query('Verified == True')\n",
        "df_verified['User'].value_counts()"
      ],
      "execution_count": 37,
      "outputs": [
        {
          "output_type": "execute_result",
          "data": {
            "text/plain": [
              "otvnews         6\n",
              "ripunbora       1\n",
              "ians_india      1\n",
              "Outlookindia    1\n",
              "Name: User, dtype: int64"
            ]
          },
          "metadata": {
            "tags": []
          },
          "execution_count": 37
        }
      ]
    },
    {
      "cell_type": "code",
      "metadata": {
        "id": "zNnEjVTuZ9Ue",
        "colab": {
          "base_uri": "https://localhost:8080/"
        },
        "outputId": "4ff3f5c6-f075-4876-cc2d-78c2a4eecb10"
      },
      "source": [
        "days = df['Date'].dt.day.tolist()\n",
        "no_of_days = Counter(days)\n",
        "no_of_days"
      ],
      "execution_count": 38,
      "outputs": [
        {
          "output_type": "execute_result",
          "data": {
            "text/plain": [
              "Counter({15: 3, 16: 9, 17: 7, 18: 5, 19: 5, 20: 23, 21: 34})"
            ]
          },
          "metadata": {
            "tags": []
          },
          "execution_count": 38
        }
      ]
    },
    {
      "cell_type": "code",
      "metadata": {
        "id": "mzu51x0fZ9X4",
        "colab": {
          "base_uri": "https://localhost:8080/",
          "height": 367
        },
        "outputId": "45273a36-86ec-4c77-ca56-4b60edf15aa7"
      },
      "source": [
        "fig = plt.figure(figsize = (15,7))\n",
        "plt.bar(range(len(no_of_days)), list(no_of_days.values()), align='center', alpha = 0.5,color = 'red')\n",
        "plt.xticks(range(len(no_of_days)), list(no_of_days.keys()))\n",
        "plt.xlabel(\"Day\")\n",
        "plt.ylabel(\"Count Of Tweets\")\n",
        "plt.title(\"Count Of Extracted Tweets On Each Day\")"
      ],
      "execution_count": 39,
      "outputs": [
        {
          "output_type": "execute_result",
          "data": {
            "text/plain": [
              "Text(0.5, 1.0, 'Count Of Extracted Tweets On Each Day')"
            ]
          },
          "metadata": {
            "tags": []
          },
          "execution_count": 39
        },
        {
          "output_type": "display_data",
          "data": {
            "image/png": "[encoded data removed]",
            "text/plain": [
              "<Figure size 1080x504 with 1 Axes>"
            ]
          },
          "metadata": {
            "tags": [],
            "needs_background": "light"
          }
        }
      ]
    },
    {
      "cell_type": "code",
      "metadata": {
        "id": "Qk4k7vt2Z9cE",
        "colab": {
          "base_uri": "https://localhost:8080/"
        },
        "outputId": "7c6a35c7-f837-44df-9a01-ba3fa990bf9f"
      },
      "source": [
        "hours = df['Date'].dt.hour.tolist()\n",
        "no_of_hours = Counter(hours)\n",
        "no_of_hours"
      ],
      "execution_count": 40,
      "outputs": [
        {
          "output_type": "execute_result",
          "data": {
            "text/plain": [
              "Counter({2: 3,\n",
              "         3: 4,\n",
              "         4: 3,\n",
              "         5: 9,\n",
              "         6: 4,\n",
              "         7: 8,\n",
              "         8: 2,\n",
              "         9: 8,\n",
              "         10: 5,\n",
              "         11: 4,\n",
              "         12: 6,\n",
              "         13: 6,\n",
              "         14: 7,\n",
              "         15: 5,\n",
              "         16: 6,\n",
              "         17: 1,\n",
              "         18: 2,\n",
              "         19: 3})"
            ]
          },
          "metadata": {
            "tags": []
          },
          "execution_count": 40
        }
      ]
    },
    {
      "cell_type": "code",
      "metadata": {
        "id": "FnldeKsyZ9fF",
        "colab": {
          "base_uri": "https://localhost:8080/",
          "height": 412
        },
        "outputId": "ead7bd88-2c51-4017-d633-03828acd3cf6"
      },
      "source": [
        "fig = plt.figure(figsize = (15,8))\n",
        "plt.bar(range(len(no_of_hours)), list(no_of_hours.values()), align='center', alpha = 0.5,color = 'red')\n",
        "plt.xticks(range(len(no_of_hours)), list(no_of_hours.keys()))\n",
        "plt.xlabel(\"Hour\")\n",
        "plt.ylabel(\"Count Of Tweets\")\n",
        "plt.title(\"Count Of Extracted Tweets On Each Hour\")"
      ],
      "execution_count": 41,
      "outputs": [
        {
          "output_type": "execute_result",
          "data": {
            "text/plain": [
              "Text(0.5, 1.0, 'Count Of Extracted Tweets On Each Hour')"
            ]
          },
          "metadata": {
            "tags": []
          },
          "execution_count": 41
        },
        {
          "output_type": "display_data",
          "data": {
            "image/png": "[encoded data removed]",
            "text/plain": [
              "<Figure size 1080x576 with 1 Axes>"
            ]
          },
          "metadata": {
            "tags": [],
            "needs_background": "light"
          }
        }
      ]
    },
    {
      "cell_type": "code",
      "metadata": {
        "id": "v2uHncb_Z9ie"
      },
      "source": [
        "from wordcloud import WordCloud\n",
        "tokenizer = TweetTokenizer()"
      ],
      "execution_count": 42,
      "outputs": []
    },
    {
      "cell_type": "code",
      "metadata": {
        "id": "ti_i96jza3EY",
        "colab": {
          "base_uri": "https://localhost:8080/"
        },
        "outputId": "603c8dc3-3735-4f98-acce-b7c75c41b649"
      },
      "source": [
        "import nltk\n",
        "nltk.download('stopwords')"
      ],
      "execution_count": 43,
      "outputs": [
        {
          "output_type": "stream",
          "text": [
            "[nltk_data] Downloading package stopwords to /root/nltk_data...\n",
            "[nltk_data]   Unzipping corpora/stopwords.zip.\n"
          ],
          "name": "stdout"
        },
        {
          "output_type": "execute_result",
          "data": {
            "text/plain": [
              "True"
            ]
          },
          "metadata": {
            "tags": []
          },
          "execution_count": 43
        }
      ]
    },
    {
      "cell_type": "code",
      "metadata": {
        "id": "ryhZIIElZ9lx",
        "colab": {
          "base_uri": "https://localhost:8080/"
        },
        "outputId": "e65ffe4c-04af-4115-f809-74d8e341122e"
      },
      "source": [
        "stop_words = set(stopwords.words('english')) \n",
        "stop_words = list(stop_words)\n",
        "print(stop_words)"
      ],
      "execution_count": 44,
      "outputs": [
        {
          "output_type": "stream",
          "text": [
            "['being', 'now', 'these', 'into', 'is', 'during', 'after', 'on', 'will', 'ain', 'through', 'the', 'he', 'at', 'if', 'out', 'not', 'just', 'in', \"it's\", 'but', 'here', 'between', 'shan', \"won't\", 'ma', 'isn', 'their', 'him', 'his', 'were', \"shan't\", 'whom', 'shouldn', 'down', 'further', 'only', 'below', 'all', 'having', 'any', 'm', \"she's\", 're', 'than', 'hadn', 'once', 'couldn', 'we', 'you', 'aren', 'so', 'd', \"haven't\", 't', 'for', 'are', \"you'll\", 'as', 'what', \"needn't\", 'other', \"don't\", \"didn't\", 'won', 'most', \"wouldn't\", 'off', 'before', \"you're\", 'that', 'did', 'theirs', 'your', \"hadn't\", 'ourselves', 'its', 'own', 'she', \"mustn't\", 'against', 'same', 'each', \"you've\", 'such', 'some', 'hasn', 'too', 'over', 'more', 'those', 'had', 'with', \"weren't\", 'why', \"aren't\", 'himself', 'who', 'doesn', 'been', 'myself', 'am', 'was', 'ours', 'yourself', 'should', 'can', 'll', 'wasn', \"mightn't\", 'it', \"isn't\", 'mustn', 'how', 'until', 'above', 'which', 'wouldn', 'there', \"you'd\", 'does', 'an', 'me', 'mightn', 'very', 'y', 'o', 'have', 'doing', 'them', 'nor', 'needn', 'yours', 'haven', 'this', 'my', 'didn', \"couldn't\", 'don', 'has', 'both', 'our', 'by', 'no', \"that'll\", 'because', \"wasn't\", 've', 'while', 'do', 'up', 'itself', 'where', 'weren', 'a', 'yourselves', 's', 'herself', 'be', 'and', 'themselves', 'when', 'to', 'few', 'then', \"doesn't\", 'they', 'again', 'i', 'hers', \"should've\", \"hasn't\", 'of', 'her', 'from', \"shouldn't\", 'under', 'or', 'about']\n"
          ],
          "name": "stdout"
        }
      ]
    },
    {
      "cell_type": "code",
      "metadata": {
        "id": "xTHMe2yTZ9pF",
        "colab": {
          "base_uri": "https://localhost:8080/"
        },
        "outputId": "f81b7d33-edb9-43ac-b51e-5d402399412e"
      },
      "source": [
        "df['Processed_Tweet'] = df.Processed_Tweet.apply(lambda x: ' '.join(w for w in x.split() if w not in stop_words))   #Remove stopwords\n",
        "df['Processed_Tweet']"
      ],
      "execution_count": 45,
      "outputs": [
        {
          "output_type": "execute_result",
          "data": {
            "text/plain": [
              "0     odisha govt revenue depart slept panda jay ji ...\n",
              "1     day national media turns focus odisha corrupt ...\n",
              "2     opposition bharatiya janata party bjp congress...\n",
              "3     honest congress leaders like gopabandhu dash o...\n",
              "4     whole india family gopabandhu dash congress le...\n",
              "                            ...                        \n",
              "81    sibal wrong congress fine elections congress s...\n",
              "82    bihar odisha mp wb ap unless congress fix issu...\n",
              "83    happily losing every election odisha eternity ...\n",
              "84    soniagandhiplz save odisha congress u plan rui...\n",
              "85    plz save odisha congress u plan ruin odisha co...\n",
              "Name: Processed_Tweet, Length: 86, dtype: object"
            ]
          },
          "metadata": {
            "tags": []
          },
          "execution_count": 45
        }
      ]
    },
    {
      "cell_type": "code",
      "metadata": {
        "id": "W41lIuhjZ9su",
        "colab": {
          "base_uri": "https://localhost:8080/"
        },
        "outputId": "9e7f4aca-7aba-407c-fb42-4a11f0cf7a0d"
      },
      "source": [
        "df['Processed_Tweet'] = df['Processed_Tweet'].apply(lambda x: tokenizer.tokenize(x))\n",
        "df['Processed_Tweet']"
      ],
      "execution_count": 46,
      "outputs": [
        {
          "output_type": "execute_result",
          "data": {
            "text/plain": [
              "0     [odisha, govt, revenue, depart, slept, panda, ...\n",
              "1     [day, national, media, turns, focus, odisha, c...\n",
              "2     [opposition, bharatiya, janata, party, bjp, co...\n",
              "3     [honest, congress, leaders, like, gopabandhu, ...\n",
              "4     [whole, india, family, gopabandhu, dash, congr...\n",
              "                            ...                        \n",
              "81    [sibal, wrong, congress, fine, elections, cong...\n",
              "82    [bihar, odisha, mp, wb, ap, unless, congress, ...\n",
              "83    [happily, losing, every, election, odisha, ete...\n",
              "84    [soniagandhiplz, save, odisha, congress, u, pl...\n",
              "85    [plz, save, odisha, congress, u, plan, ruin, o...\n",
              "Name: Processed_Tweet, Length: 86, dtype: object"
            ]
          },
          "metadata": {
            "tags": []
          },
          "execution_count": 46
        }
      ]
    },
    {
      "cell_type": "code",
      "metadata": {
        "id": "U1iyBPUlZ9wE",
        "colab": {
          "base_uri": "https://localhost:8080/"
        },
        "outputId": "f767a8b8-1195-4414-b941-128c3c9e4d6a"
      },
      "source": [
        "def lemmatize_stemming(text):\n",
        "    stemmer=PorterStemmer()\n",
        "    return stemmer.stem(text)\n",
        "df['Processed_Tweet'] = df['Processed_Tweet'].apply(lambda x: [lemmatize_stemming(i) for i in x]) # stemming\n",
        "df['Processed_Tweet']"
      ],
      "execution_count": 47,
      "outputs": [
        {
          "output_type": "execute_result",
          "data": {
            "text/plain": [
              "0     [odisha, govt, revenu, depart, slept, panda, j...\n",
              "1     [day, nation, media, turn, focu, odisha, corru...\n",
              "2     [opposit, bharatiya, janata, parti, bjp, congr...\n",
              "3     [honest, congress, leader, like, gopabandhu, d...\n",
              "4     [whole, india, famili, gopabandhu, dash, congr...\n",
              "                            ...                        \n",
              "81    [sibal, wrong, congress, fine, elect, congress...\n",
              "82    [bihar, odisha, mp, wb, ap, unless, congress, ...\n",
              "83    [happili, lose, everi, elect, odisha, etern, e...\n",
              "84    [soniagandhiplz, save, odisha, congress, u, pl...\n",
              "85    [plz, save, odisha, congress, u, plan, ruin, o...\n",
              "Name: Processed_Tweet, Length: 86, dtype: object"
            ]
          },
          "metadata": {
            "tags": []
          },
          "execution_count": 47
        }
      ]
    },
    {
      "cell_type": "code",
      "metadata": {
        "id": "wLB1SjaLZ9zx",
        "colab": {
          "base_uri": "https://localhost:8080/",
          "height": 842
        },
        "outputId": "f20379f5-5523-43ad-b5ca-6a22e9778c99"
      },
      "source": [
        "\n",
        "df['Processed_Tweet'] = df.Processed_Tweet.apply(lambda x: [i for i in x if len(i)>2])\n",
        "df"
      ],
      "execution_count": 48,
      "outputs": [
        {
          "output_type": "execute_result",
          "data": {
            "text/html": [
              "<div>\n",
              "<style scoped>\n",
              "    .dataframe tbody tr th:only-of-type {\n",
              "        vertical-align: middle;\n",
              "    }\n",
              "\n",
              "    .dataframe tbody tr th {\n",
              "        vertical-align: top;\n",
              "    }\n",
              "\n",
              "    .dataframe thead th {\n",
              "        text-align: right;\n",
              "    }\n",
              "</style>\n",
              "<table border=\"1\" class=\"dataframe\">\n",
              "  <thead>\n",
              "    <tr style=\"text-align: right;\">\n",
              "      <th></th>\n",
              "      <th>Date</th>\n",
              "      <th>Tweet_id</th>\n",
              "      <th>Verified</th>\n",
              "      <th>Tweet</th>\n",
              "      <th>User</th>\n",
              "      <th>Location</th>\n",
              "      <th>Source</th>\n",
              "      <th>Likes</th>\n",
              "      <th>Followers</th>\n",
              "      <th>Following</th>\n",
              "      <th>Retweets</th>\n",
              "      <th>Processed_Tweet</th>\n",
              "    </tr>\n",
              "  </thead>\n",
              "  <tbody>\n",
              "    <tr>\n",
              "      <th>0</th>\n",
              "      <td>2020-11-21 19:22:01</td>\n",
              "      <td>1330230001761923074</td>\n",
              "      <td>False</td>\n",
              "      <td>@JagiPanda @sardesairajdeep @vikramchandra @AR...</td>\n",
              "      <td>SwainBighneswar</td>\n",
              "      <td>Florida, USA</td>\n",
              "      <td>Twitter for iPhone</td>\n",
              "      <td>0</td>\n",
              "      <td>70</td>\n",
              "      <td>1516</td>\n",
              "      <td>0</td>\n",
              "      <td>[odisha, govt, revenu, depart, slept, panda, j...</td>\n",
              "    </tr>\n",
              "    <tr>\n",
              "      <th>1</th>\n",
              "      <td>2020-11-21 18:26:15</td>\n",
              "      <td>1330215965385224193</td>\n",
              "      <td>False</td>\n",
              "      <td>@ARanganathan72 @otvnews @JagiPanda The day na...</td>\n",
              "      <td>sangramstarts</td>\n",
              "      <td>Bengaluru, India</td>\n",
              "      <td>Twitter for Android</td>\n",
              "      <td>16</td>\n",
              "      <td>285</td>\n",
              "      <td>605</td>\n",
              "      <td>0</td>\n",
              "      <td>[day, nation, media, turn, focu, odisha, corru...</td>\n",
              "    </tr>\n",
              "    <tr>\n",
              "      <th>2</th>\n",
              "      <td>2020-11-21 16:33:28</td>\n",
              "      <td>1330187583729639425</td>\n",
              "      <td>True</td>\n",
              "      <td>The opposition Bharatiya Janata Party (#BJP) a...</td>\n",
              "      <td>ians_india</td>\n",
              "      <td>New Delhi</td>\n",
              "      <td>Twitter Web App</td>\n",
              "      <td>12</td>\n",
              "      <td>58961</td>\n",
              "      <td>45</td>\n",
              "      <td>0</td>\n",
              "      <td>[opposit, bharatiya, janata, parti, bjp, congr...</td>\n",
              "    </tr>\n",
              "    <tr>\n",
              "      <th>3</th>\n",
              "      <td>2020-11-21 14:48:04</td>\n",
              "      <td>1330161061803282433</td>\n",
              "      <td>False</td>\n",
              "      <td>@Elizatweetz @RahulGandhi Ma'am to be honest c...</td>\n",
              "      <td>brigado_deba</td>\n",
              "      <td></td>\n",
              "      <td>Twitter Web App</td>\n",
              "      <td>4</td>\n",
              "      <td>430</td>\n",
              "      <td>619</td>\n",
              "      <td>0</td>\n",
              "      <td>[honest, congress, leader, like, gopabandhu, d...</td>\n",
              "    </tr>\n",
              "    <tr>\n",
              "      <th>4</th>\n",
              "      <td>2020-11-21 14:44:49</td>\n",
              "      <td>1330160240373997579</td>\n",
              "      <td>False</td>\n",
              "      <td>@satya_kg @BagatiSoham @rohini_sgh @RahulGandh...</td>\n",
              "      <td>brigado_deba</td>\n",
              "      <td></td>\n",
              "      <td>Twitter Web App</td>\n",
              "      <td>0</td>\n",
              "      <td>430</td>\n",
              "      <td>619</td>\n",
              "      <td>0</td>\n",
              "      <td>[whole, india, famili, gopabandhu, dash, congr...</td>\n",
              "    </tr>\n",
              "    <tr>\n",
              "      <th>...</th>\n",
              "      <td>...</td>\n",
              "      <td>...</td>\n",
              "      <td>...</td>\n",
              "      <td>...</td>\n",
              "      <td>...</td>\n",
              "      <td>...</td>\n",
              "      <td>...</td>\n",
              "      <td>...</td>\n",
              "      <td>...</td>\n",
              "      <td>...</td>\n",
              "      <td>...</td>\n",
              "      <td>...</td>\n",
              "    </tr>\n",
              "    <tr>\n",
              "      <th>81</th>\n",
              "      <td>2020-11-16 05:44:17</td>\n",
              "      <td>1328212272561360896</td>\n",
              "      <td>False</td>\n",
              "      <td>@Soumyadipta Sibal is wrong. Congress is doing...</td>\n",
              "      <td>workingboxwala</td>\n",
              "      <td>POK</td>\n",
              "      <td>Twitter for Android</td>\n",
              "      <td>6</td>\n",
              "      <td>4611</td>\n",
              "      <td>256</td>\n",
              "      <td>1</td>\n",
              "      <td>[sibal, wrong, congress, fine, elect, congress...</td>\n",
              "    </tr>\n",
              "    <tr>\n",
              "      <th>82</th>\n",
              "      <td>2020-11-16 02:55:31</td>\n",
              "      <td>1328169801412272129</td>\n",
              "      <td>False</td>\n",
              "      <td>Bihar , Odisha , UP , MP, WB , AP unless congr...</td>\n",
              "      <td>RamakantaShur</td>\n",
              "      <td></td>\n",
              "      <td>Twitter Web App</td>\n",
              "      <td>0</td>\n",
              "      <td>523</td>\n",
              "      <td>544</td>\n",
              "      <td>0</td>\n",
              "      <td>[bihar, odisha, unless, congress, fix, issu, d...</td>\n",
              "    </tr>\n",
              "    <tr>\n",
              "      <th>83</th>\n",
              "      <td>2020-11-15 18:29:41</td>\n",
              "      <td>1328042502427791360</td>\n",
              "      <td>False</td>\n",
              "      <td>@BJP4India has been happily losing every elect...</td>\n",
              "      <td>PhoenixIndranil</td>\n",
              "      <td>Howrah</td>\n",
              "      <td>Twitter for Android</td>\n",
              "      <td>1</td>\n",
              "      <td>379</td>\n",
              "      <td>539</td>\n",
              "      <td>0</td>\n",
              "      <td>[happili, lose, everi, elect, odisha, etern, e...</td>\n",
              "    </tr>\n",
              "    <tr>\n",
              "      <th>84</th>\n",
              "      <td>2020-11-15 15:16:51</td>\n",
              "      <td>1327993974053765122</td>\n",
              "      <td>False</td>\n",
              "      <td>#SoniaGandhi\\nPlz save Odisha congress. If u p...</td>\n",
              "      <td>chandanNaik16</td>\n",
              "      <td>Badakamandara,Keonjhar</td>\n",
              "      <td>Twitter for Android</td>\n",
              "      <td>0</td>\n",
              "      <td>3</td>\n",
              "      <td>172</td>\n",
              "      <td>0</td>\n",
              "      <td>[soniagandhiplz, save, odisha, congress, plan,...</td>\n",
              "    </tr>\n",
              "    <tr>\n",
              "      <th>85</th>\n",
              "      <td>2020-11-15 15:16:13</td>\n",
              "      <td>1327993818163994629</td>\n",
              "      <td>False</td>\n",
              "      <td>@RahulGandhi \\nPlz save Odisha congress. If u ...</td>\n",
              "      <td>chandanNaik16</td>\n",
              "      <td>Badakamandara,Keonjhar</td>\n",
              "      <td>Twitter for Android</td>\n",
              "      <td>0</td>\n",
              "      <td>3</td>\n",
              "      <td>172</td>\n",
              "      <td>0</td>\n",
              "      <td>[plz, save, odisha, congress, plan, ruin, odis...</td>\n",
              "    </tr>\n",
              "  </tbody>\n",
              "</table>\n",
              "<p>86 rows × 12 columns</p>\n",
              "</div>"
            ],
            "text/plain": [
              "                  Date  ...                                    Processed_Tweet\n",
              "0  2020-11-21 19:22:01  ...  [odisha, govt, revenu, depart, slept, panda, j...\n",
              "1  2020-11-21 18:26:15  ...  [day, nation, media, turn, focu, odisha, corru...\n",
              "2  2020-11-21 16:33:28  ...  [opposit, bharatiya, janata, parti, bjp, congr...\n",
              "3  2020-11-21 14:48:04  ...  [honest, congress, leader, like, gopabandhu, d...\n",
              "4  2020-11-21 14:44:49  ...  [whole, india, famili, gopabandhu, dash, congr...\n",
              "..                 ...  ...                                                ...\n",
              "81 2020-11-16 05:44:17  ...  [sibal, wrong, congress, fine, elect, congress...\n",
              "82 2020-11-16 02:55:31  ...  [bihar, odisha, unless, congress, fix, issu, d...\n",
              "83 2020-11-15 18:29:41  ...  [happili, lose, everi, elect, odisha, etern, e...\n",
              "84 2020-11-15 15:16:51  ...  [soniagandhiplz, save, odisha, congress, plan,...\n",
              "85 2020-11-15 15:16:13  ...  [plz, save, odisha, congress, plan, ruin, odis...\n",
              "\n",
              "[86 rows x 12 columns]"
            ]
          },
          "metadata": {
            "tags": []
          },
          "execution_count": 48
        }
      ]
    },
    {
      "cell_type": "code",
      "metadata": {
        "id": "Jp1MddEpbN6A",
        "colab": {
          "base_uri": "https://localhost:8080/"
        },
        "outputId": "928c35ae-478b-4a44-a237-9eaf3474e13c"
      },
      "source": [
        "texts = []\n",
        "texts = df.Processed_Tweet.apply(lambda x: [i for i in x] )\n",
        "all_words = []\n",
        "for i in texts:\n",
        "    all_words.append(\" \".join(i))\n",
        "text = []\n",
        "for i in texts:\n",
        "    for j in i:\n",
        "        text.append(j)\n",
        "len(text)"
      ],
      "execution_count": 49,
      "outputs": [
        {
          "output_type": "execute_result",
          "data": {
            "text/plain": [
              "1566"
            ]
          },
          "metadata": {
            "tags": []
          },
          "execution_count": 49
        }
      ]
    },
    {
      "cell_type": "code",
      "metadata": {
        "id": "jbRz6G8dbN9q",
        "colab": {
          "base_uri": "https://localhost:8080/",
          "height": 456
        },
        "outputId": "5c06a34e-e9f5-4c29-be2a-c04e5dde45bd"
      },
      "source": [
        "wordcloud = WordCloud(width=800, height=500, random_state=21, max_font_size=110).generate(' '.join(text))\n",
        "plt.figure(figsize = (12, 12), facecolor=\"None\") \n",
        "plt.imshow(wordcloud,interpolation='bilinear') \n",
        "plt.axis(\"off\") \n",
        "plt.title(\"WordCloud of bjp Gujrat Tweets\")\n",
        "plt.show()"
      ],
      "execution_count": 50,
      "outputs": [
        {
          "output_type": "display_data",
          "data": {
            "image/png": "[encoded data removed]",
            "text/plain": [
              "<Figure size 864x864 with 1 Axes>"
            ]
          },
          "metadata": {
            "tags": [],
            "needs_background": "light"
          }
        }
      ]
    },
    {
      "cell_type": "code",
      "metadata": {
        "id": "Y_6ferf0bOBj",
        "colab": {
          "base_uri": "https://localhost:8080/"
        },
        "outputId": "6277d8a1-3901-45e7-fd7e-86039596065d"
      },
      "source": [
        "from textblob import TextBlob\n",
        "pol=[]\n",
        "for Tweet in all_words:\n",
        "    blob = TextBlob(Tweet)\n",
        "    pol.append(blob.sentiment.polarity)\n",
        "len(pol)"
      ],
      "execution_count": 51,
      "outputs": [
        {
          "output_type": "execute_result",
          "data": {
            "text/plain": [
              "86"
            ]
          },
          "metadata": {
            "tags": []
          },
          "execution_count": 51
        }
      ]
    },
    {
      "cell_type": "code",
      "metadata": {
        "id": "dHvb9R2cbOHY",
        "colab": {
          "base_uri": "https://localhost:8080/"
        },
        "outputId": "3664c622-7223-42c4-8cca-f44fbdcd7ad3"
      },
      "source": [
        "len(text)"
      ],
      "execution_count": 52,
      "outputs": [
        {
          "output_type": "execute_result",
          "data": {
            "text/plain": [
              "1566"
            ]
          },
          "metadata": {
            "tags": []
          },
          "execution_count": 52
        }
      ]
    },
    {
      "cell_type": "code",
      "metadata": {
        "id": "cu242euSbOKi",
        "colab": {
          "base_uri": "https://localhost:8080/"
        },
        "outputId": "abe3556f-066a-400c-dc72-ac6fa8c1dcd8"
      },
      "source": [
        "positive=0\n",
        "negative=0\n",
        "neutral=0\n",
        "for i in pol:\n",
        "    if i>0:\n",
        "        positive+=1\n",
        "    elif i<0:\n",
        "        negative+=1\n",
        "    else:\n",
        "        neutral+=1\n",
        "print(\"Positive Tweets:\",positive)\n",
        "print(\"Negative Tweets:\",negative)\n",
        "print(\"Neutral Tweets\",neutral)"
      ],
      "execution_count": 53,
      "outputs": [
        {
          "output_type": "stream",
          "text": [
            "Positive Tweets: 36\n",
            "Negative Tweets: 17\n",
            "Neutral Tweets 33\n"
          ],
          "name": "stdout"
        }
      ]
    },
    {
      "cell_type": "code",
      "metadata": {
        "id": "6Q5B0aVGbOOa",
        "colab": {
          "base_uri": "https://localhost:8080/"
        },
        "outputId": "f96aa854-439e-4d7c-8953-279a0d1f8beb"
      },
      "source": [
        "import nltk\n",
        "nltk.download('vader_lexicon')"
      ],
      "execution_count": 54,
      "outputs": [
        {
          "output_type": "stream",
          "text": [
            "[nltk_data] Downloading package vader_lexicon to /root/nltk_data...\n"
          ],
          "name": "stdout"
        },
        {
          "output_type": "execute_result",
          "data": {
            "text/plain": [
              "True"
            ]
          },
          "metadata": {
            "tags": []
          },
          "execution_count": 54
        }
      ]
    },
    {
      "cell_type": "code",
      "metadata": {
        "id": "WZ2hhckbbOR4",
        "colab": {
          "base_uri": "https://localhost:8080/"
        },
        "outputId": "27931e7c-f9cd-4017-860b-54a7a8895b9a"
      },
      "source": [
        "from nltk.sentiment.vader import SentimentIntensityAnalyzer\n",
        "sid = SentimentIntensityAnalyzer()\n",
        "sentiment_scores= []\n",
        "for i in all_words:\n",
        "    sentiment_scores.append([sid.polarity_scores(i)])"
      ],
      "execution_count": 55,
      "outputs": [
        {
          "output_type": "stream",
          "text": [
            "/usr/local/lib/python3.6/dist-packages/nltk/twitter/__init__.py:20: UserWarning: The twython library has not been installed. Some functionality from the twitter package will not be available.\n",
            "  warnings.warn(\"The twython library has not been installed. \"\n"
          ],
          "name": "stderr"
        }
      ]
    },
    {
      "cell_type": "code",
      "metadata": {
        "id": "hCz4RQdabOV4",
        "colab": {
          "base_uri": "https://localhost:8080/",
          "height": 402
        },
        "outputId": "cb10d830-43e3-4f04-d92d-cd5b42974e94"
      },
      "source": [
        "value = []\n",
        "for i in sentiment_scores:\n",
        "    for dict1 in i:\n",
        "        value.append(list(dict1.values()))\n",
        "sentimental_score_df = pd.DataFrame(data = value, columns = ['Negative','Neutral','Positive','Compound'])\n",
        "sentimental_score_df"
      ],
      "execution_count": 56,
      "outputs": [
        {
          "output_type": "execute_result",
          "data": {
            "text/html": [
              "<div>\n",
              "<style scoped>\n",
              "    .dataframe tbody tr th:only-of-type {\n",
              "        vertical-align: middle;\n",
              "    }\n",
              "\n",
              "    .dataframe tbody tr th {\n",
              "        vertical-align: top;\n",
              "    }\n",
              "\n",
              "    .dataframe thead th {\n",
              "        text-align: right;\n",
              "    }\n",
              "</style>\n",
              "<table border=\"1\" class=\"dataframe\">\n",
              "  <thead>\n",
              "    <tr style=\"text-align: right;\">\n",
              "      <th></th>\n",
              "      <th>Negative</th>\n",
              "      <th>Neutral</th>\n",
              "      <th>Positive</th>\n",
              "      <th>Compound</th>\n",
              "    </tr>\n",
              "  </thead>\n",
              "  <tbody>\n",
              "    <tr>\n",
              "      <th>0</th>\n",
              "      <td>0.234</td>\n",
              "      <td>0.766</td>\n",
              "      <td>0.000</td>\n",
              "      <td>-0.7506</td>\n",
              "    </tr>\n",
              "    <tr>\n",
              "      <th>1</th>\n",
              "      <td>0.000</td>\n",
              "      <td>0.882</td>\n",
              "      <td>0.118</td>\n",
              "      <td>0.4939</td>\n",
              "    </tr>\n",
              "    <tr>\n",
              "      <th>2</th>\n",
              "      <td>0.318</td>\n",
              "      <td>0.682</td>\n",
              "      <td>0.000</td>\n",
              "      <td>-0.7906</td>\n",
              "    </tr>\n",
              "    <tr>\n",
              "      <th>3</th>\n",
              "      <td>0.142</td>\n",
              "      <td>0.547</td>\n",
              "      <td>0.310</td>\n",
              "      <td>0.5574</td>\n",
              "    </tr>\n",
              "    <tr>\n",
              "      <th>4</th>\n",
              "      <td>0.125</td>\n",
              "      <td>0.705</td>\n",
              "      <td>0.170</td>\n",
              "      <td>0.1027</td>\n",
              "    </tr>\n",
              "    <tr>\n",
              "      <th>...</th>\n",
              "      <td>...</td>\n",
              "      <td>...</td>\n",
              "      <td>...</td>\n",
              "      <td>...</td>\n",
              "    </tr>\n",
              "    <tr>\n",
              "      <th>81</th>\n",
              "      <td>0.148</td>\n",
              "      <td>0.766</td>\n",
              "      <td>0.086</td>\n",
              "      <td>-0.3182</td>\n",
              "    </tr>\n",
              "    <tr>\n",
              "      <th>82</th>\n",
              "      <td>0.097</td>\n",
              "      <td>0.772</td>\n",
              "      <td>0.131</td>\n",
              "      <td>-0.0258</td>\n",
              "    </tr>\n",
              "    <tr>\n",
              "      <th>83</th>\n",
              "      <td>0.426</td>\n",
              "      <td>0.492</td>\n",
              "      <td>0.082</td>\n",
              "      <td>-0.8885</td>\n",
              "    </tr>\n",
              "    <tr>\n",
              "      <th>84</th>\n",
              "      <td>0.127</td>\n",
              "      <td>0.767</td>\n",
              "      <td>0.107</td>\n",
              "      <td>-0.1531</td>\n",
              "    </tr>\n",
              "    <tr>\n",
              "      <th>85</th>\n",
              "      <td>0.125</td>\n",
              "      <td>0.726</td>\n",
              "      <td>0.149</td>\n",
              "      <td>-0.0772</td>\n",
              "    </tr>\n",
              "  </tbody>\n",
              "</table>\n",
              "<p>86 rows × 4 columns</p>\n",
              "</div>"
            ],
            "text/plain": [
              "    Negative  Neutral  Positive  Compound\n",
              "0      0.234    0.766     0.000   -0.7506\n",
              "1      0.000    0.882     0.118    0.4939\n",
              "2      0.318    0.682     0.000   -0.7906\n",
              "3      0.142    0.547     0.310    0.5574\n",
              "4      0.125    0.705     0.170    0.1027\n",
              "..       ...      ...       ...       ...\n",
              "81     0.148    0.766     0.086   -0.3182\n",
              "82     0.097    0.772     0.131   -0.0258\n",
              "83     0.426    0.492     0.082   -0.8885\n",
              "84     0.127    0.767     0.107   -0.1531\n",
              "85     0.125    0.726     0.149   -0.0772\n",
              "\n",
              "[86 rows x 4 columns]"
            ]
          },
          "metadata": {
            "tags": []
          },
          "execution_count": 56
        }
      ]
    },
    {
      "cell_type": "code",
      "metadata": {
        "id": "Ev7p5zHybOZN",
        "colab": {
          "base_uri": "https://localhost:8080/",
          "height": 195
        },
        "outputId": "16dd4018-aedc-4b9a-b845-bb756dc3b765"
      },
      "source": [
        "sentimental_score_df['val'] = sentimental_score_df['Compound'].apply(lambda x: 'Neutral' if x == 0 else ('Positive' if x > 0 else 'Negative'))\n",
        "sentimental_score_df.head()"
      ],
      "execution_count": 57,
      "outputs": [
        {
          "output_type": "execute_result",
          "data": {
            "text/html": [
              "<div>\n",
              "<style scoped>\n",
              "    .dataframe tbody tr th:only-of-type {\n",
              "        vertical-align: middle;\n",
              "    }\n",
              "\n",
              "    .dataframe tbody tr th {\n",
              "        vertical-align: top;\n",
              "    }\n",
              "\n",
              "    .dataframe thead th {\n",
              "        text-align: right;\n",
              "    }\n",
              "</style>\n",
              "<table border=\"1\" class=\"dataframe\">\n",
              "  <thead>\n",
              "    <tr style=\"text-align: right;\">\n",
              "      <th></th>\n",
              "      <th>Negative</th>\n",
              "      <th>Neutral</th>\n",
              "      <th>Positive</th>\n",
              "      <th>Compound</th>\n",
              "      <th>val</th>\n",
              "    </tr>\n",
              "  </thead>\n",
              "  <tbody>\n",
              "    <tr>\n",
              "      <th>0</th>\n",
              "      <td>0.234</td>\n",
              "      <td>0.766</td>\n",
              "      <td>0.000</td>\n",
              "      <td>-0.7506</td>\n",
              "      <td>Negative</td>\n",
              "    </tr>\n",
              "    <tr>\n",
              "      <th>1</th>\n",
              "      <td>0.000</td>\n",
              "      <td>0.882</td>\n",
              "      <td>0.118</td>\n",
              "      <td>0.4939</td>\n",
              "      <td>Positive</td>\n",
              "    </tr>\n",
              "    <tr>\n",
              "      <th>2</th>\n",
              "      <td>0.318</td>\n",
              "      <td>0.682</td>\n",
              "      <td>0.000</td>\n",
              "      <td>-0.7906</td>\n",
              "      <td>Negative</td>\n",
              "    </tr>\n",
              "    <tr>\n",
              "      <th>3</th>\n",
              "      <td>0.142</td>\n",
              "      <td>0.547</td>\n",
              "      <td>0.310</td>\n",
              "      <td>0.5574</td>\n",
              "      <td>Positive</td>\n",
              "    </tr>\n",
              "    <tr>\n",
              "      <th>4</th>\n",
              "      <td>0.125</td>\n",
              "      <td>0.705</td>\n",
              "      <td>0.170</td>\n",
              "      <td>0.1027</td>\n",
              "      <td>Positive</td>\n",
              "    </tr>\n",
              "  </tbody>\n",
              "</table>\n",
              "</div>"
            ],
            "text/plain": [
              "   Negative  Neutral  Positive  Compound       val\n",
              "0     0.234    0.766     0.000   -0.7506  Negative\n",
              "1     0.000    0.882     0.118    0.4939  Positive\n",
              "2     0.318    0.682     0.000   -0.7906  Negative\n",
              "3     0.142    0.547     0.310    0.5574  Positive\n",
              "4     0.125    0.705     0.170    0.1027  Positive"
            ]
          },
          "metadata": {
            "tags": []
          },
          "execution_count": 57
        }
      ]
    },
    {
      "cell_type": "code",
      "metadata": {
        "id": "2FmNubOLbOdG",
        "colab": {
          "base_uri": "https://localhost:8080/",
          "height": 296
        },
        "outputId": "8a5afb2a-989f-4c3d-cbe9-cc4333bec2ad"
      },
      "source": [
        "sent_count = pd.DataFrame.from_dict(Counter(sentimental_score_df['val']), orient = 'index').reset_index()\n",
        "sent_count.columns = ['sentiment', 'count']\n",
        "\n",
        "sns.barplot(y=\"count\", x='sentiment', data=sent_count)"
      ],
      "execution_count": 58,
      "outputs": [
        {
          "output_type": "execute_result",
          "data": {
            "text/plain": [
              "<matplotlib.axes._subplots.AxesSubplot at 0x7fd04f9a70f0>"
            ]
          },
          "metadata": {
            "tags": []
          },
          "execution_count": 58
        },
        {
          "output_type": "display_data",
          "data": {
            "image/png": "[encoded data removed]",
            "text/plain": [
              "<Figure size 432x288 with 1 Axes>"
            ]
          },
          "metadata": {
            "tags": [],
            "needs_background": "light"
          }
        }
      ]
    },
    {
      "cell_type": "code",
      "metadata": {
        "id": "dUllRCfLbOg7",
        "colab": {
          "base_uri": "https://localhost:8080/"
        },
        "outputId": "63a9a98e-dd43-4181-929c-2ac4ca94c458"
      },
      "source": [
        "filepath = r\"/content/Election-Prediction/StatewisePolitics/Odisha/congress_odisha.csv\"\n",
        "emolex_df = pd.read_csv(filepath,  names=[\"word\", \"emotion\", \"association\"], skiprows=45, sep='\\t')\n",
        "emolex_df.head(12)\n",
        "len(emolex_df)"
      ],
      "execution_count": 61,
      "outputs": [
        {
          "output_type": "execute_result",
          "data": {
            "text/plain": [
              "145"
            ]
          },
          "metadata": {
            "tags": []
          },
          "execution_count": 61
        }
      ]
    },
    {
      "cell_type": "code",
      "metadata": {
        "id": "BpqvO-zZbOky"
      },
      "source": [
        "emotions={'positive':0, 'negative':0, 'surprise':0,'sadness':0,\n",
        "          'anger':0,'joy':0,'negative':0,'trust':0,'fear':0,'anticipation':0,'disgust':0}"
      ],
      "execution_count": 62,
      "outputs": []
    },
    {
      "cell_type": "code",
      "metadata": {
        "id": "5zvUJmULbOoU"
      },
      "source": [
        "word_emotion=dict()\n",
        "for i in range(0,145):\n",
        "    emotion=emolex_df['emotion'][i]\n",
        "    word=emolex_df['word'][i]\n",
        "    association=emolex_df['association'][i]\n",
        "    \n",
        "    if word not in word_emotion:\n",
        "        word_emotion[word]=dict()\n",
        "    word_emotion[word][emotion]=association\n"
      ],
      "execution_count": 64,
      "outputs": []
    },
    {
      "cell_type": "code",
      "metadata": {
        "id": "Mp3Thxfpg0nI",
        "colab": {
          "base_uri": "https://localhost:8080/"
        },
        "outputId": "77ee16b8-0837-4d9d-aec3-4e2a0ccc9824"
      },
      "source": [
        "from numpy import nan\n",
        "nan == nan\n"
      ],
      "execution_count": null,
      "outputs": [
        {
          "output_type": "execute_result",
          "data": {
            "text/plain": [
              "False"
            ]
          },
          "metadata": {
            "tags": []
          },
          "execution_count": 71
        }
      ]
    },
    {
      "cell_type": "code",
      "metadata": {
        "id": "mHtSZD_BbOry"
      },
      "source": [
        "for i in range(0,86):\n",
        "    text=df['Tweet'][i]\n",
        "    for j in text.split():\n",
        "        if j in word_emotion:\n",
        "            for k in word_emotion[j]:\n",
        "                emotions[k]+=word_emotion[j][k]"
      ],
      "execution_count": null,
      "outputs": []
    },
    {
      "cell_type": "code",
      "metadata": {
        "id": "IkuVbkfMbOvn",
        "colab": {
          "base_uri": "https://localhost:8080/"
        },
        "outputId": "1338227a-1cfc-4e30-c04d-f60084f6cbe6"
      },
      "source": [
        "emotions"
      ],
      "execution_count": null,
      "outputs": [
        {
          "output_type": "execute_result",
          "data": {
            "text/plain": [
              "{'anger': 0,\n",
              " 'anticipation': 0,\n",
              " 'disgust': 0,\n",
              " 'fear': 0,\n",
              " 'joy': 0,\n",
              " 'negative': 0,\n",
              " 'positive': 0,\n",
              " 'sadness': 0,\n",
              " 'surprise': 0,\n",
              " 'trust': 0}"
            ]
          },
          "metadata": {
            "tags": []
          },
          "execution_count": 75
        }
      ]
    },
    {
      "cell_type": "code",
      "metadata": {
        "id": "y1vRLg5bbOzL",
        "colab": {
          "base_uri": "https://localhost:8080/",
          "height": 355
        },
        "outputId": "6c75db3c-2263-46f7-83a5-1c34b85e60a5"
      },
      "source": [
        "plt.style.use('fivethirtyeight')\n",
        "plt.rcParams[\"figure.figsize\"] = [15,5]\n",
        "plt.bar(list(emotions.keys()),list(emotions.values()),color='red',alpha = 0.6)\n",
        "plt.xlabel('Emotions')\n",
        "plt.ylabel('Count')\n",
        "plt.title('Calculated Emotions Of Users ')\n",
        "plt.show()"
      ],
      "execution_count": null,
      "outputs": [
        {
          "output_type": "display_data",
          "data": {
            "image/png": "[encoded data removed]",
            "text/plain": [
              "<Figure size 1080x360 with 1 Axes>"
            ]
          },
          "metadata": {
            "tags": []
          }
        }
      ]
    },
    {
      "cell_type": "code",
      "metadata": {
        "id": "DBNBn2IebO22",
        "colab": {
          "base_uri": "https://localhost:8080/"
        },
        "outputId": "e1546944-6ec5-4818-bf0d-389127cbbabc"
      },
      "source": [
        "df.Location  = df.Location.fillna('odisha')\n",
        "f = [i for i in df['Location'] if type(i) != str]\n",
        "f"
      ],
      "execution_count": 66,
      "outputs": [
        {
          "output_type": "execute_result",
          "data": {
            "text/plain": [
              "[]"
            ]
          },
          "metadata": {
            "tags": []
          },
          "execution_count": 66
        }
      ]
    },
    {
      "cell_type": "code",
      "metadata": {
        "id": "6p1TZITybO6f",
        "colab": {
          "base_uri": "https://localhost:8080/"
        },
        "outputId": "0e25bce1-988c-40c1-cf72-459d60ee4877"
      },
      "source": [
        "df.Location = df.Location.apply(lambda x: x.replace('orissa','odisha'))\n",
        "df.Location.value_counts()"
      ],
      "execution_count": 67,
      "outputs": [
        {
          "output_type": "execute_result",
          "data": {
            "text/plain": [
              "                                20\n",
              "Bhubaneswar, India               9\n",
              "Bhubaneshwar, India              6\n",
              "India                            5\n",
              "Odisha                           4\n",
              "Orissa, India                    2\n",
              "Cuttack, India                   2\n",
              "Sambalpur Odisha                 2\n",
              "Florida, USA                     2\n",
              "Badakamandara,Keonjhar           2\n",
              "KORAPUT,Odisha ,INDIA            2\n",
              "INDIA                            2\n",
              "Odisha, India                    2\n",
              "New Delhi, India                 2\n",
              "Asureswar , Cuttack , Odisha     1\n",
              "नक्षत्रतक..                      1\n",
              "Subarnapur                       1\n",
              "Chennai                          1\n",
              "Guwahati, Assam, India           1\n",
              "Hobart , 🇦🇺                      1\n",
              "Bengaluru, India                 1\n",
              "POK                              1\n",
              "Mumbai, India                    1\n",
              "Bhubaneswar                      1\n",
              "କଟକ, ଓଡିଶା                       1\n",
              "Phulbani-762001                  1\n",
              "Cuttack, Odisha                  1\n",
              " Uttar Pradesh India             1\n",
              "Bangalore                        1\n",
              "भारत                             1\n",
              "Howrah                           1\n",
              "Bhubaneshwar, Orissa             1\n",
              "Cuttack                          1\n",
              "Pudukkottai                      1\n",
              "Kathua, Jammu And Kashmir        1\n",
              "New Delhi                        1\n",
              "Saudi Arabia                     1\n",
              "Bhubaneswar/Berhampur            1\n",
              "Name: Location, dtype: int64"
            ]
          },
          "metadata": {
            "tags": []
          },
          "execution_count": 67
        }
      ]
    },
    {
      "cell_type": "code",
      "metadata": {
        "id": "Ua1voDKQbO-F",
        "colab": {
          "base_uri": "https://localhost:8080/",
          "height": 842
        },
        "outputId": "8e087feb-b017-4af3-d8c4-c77de52e5631"
      },
      "source": [
        "locations = []\n",
        "locations_1 = []\n",
        "\n",
        "locations = [i.split(',')[-1] for i in df['Location']]\n",
        "locations_1 =  [i.split(',')[0] for i in df['Location']]\n",
        "df['Processed_Location'] = locations_1\n",
        "df"
      ],
      "execution_count": 68,
      "outputs": [
        {
          "output_type": "execute_result",
          "data": {
            "text/html": [
              "<div>\n",
              "<style scoped>\n",
              "    .dataframe tbody tr th:only-of-type {\n",
              "        vertical-align: middle;\n",
              "    }\n",
              "\n",
              "    .dataframe tbody tr th {\n",
              "        vertical-align: top;\n",
              "    }\n",
              "\n",
              "    .dataframe thead th {\n",
              "        text-align: right;\n",
              "    }\n",
              "</style>\n",
              "<table border=\"1\" class=\"dataframe\">\n",
              "  <thead>\n",
              "    <tr style=\"text-align: right;\">\n",
              "      <th></th>\n",
              "      <th>Date</th>\n",
              "      <th>Tweet_id</th>\n",
              "      <th>Verified</th>\n",
              "      <th>Tweet</th>\n",
              "      <th>User</th>\n",
              "      <th>Location</th>\n",
              "      <th>Source</th>\n",
              "      <th>Likes</th>\n",
              "      <th>Followers</th>\n",
              "      <th>Following</th>\n",
              "      <th>Retweets</th>\n",
              "      <th>Processed_Tweet</th>\n",
              "      <th>Processed_Location</th>\n",
              "    </tr>\n",
              "  </thead>\n",
              "  <tbody>\n",
              "    <tr>\n",
              "      <th>0</th>\n",
              "      <td>2020-11-21 19:22:01</td>\n",
              "      <td>1330230001761923074</td>\n",
              "      <td>False</td>\n",
              "      <td>@JagiPanda @sardesairajdeep @vikramchandra @AR...</td>\n",
              "      <td>SwainBighneswar</td>\n",
              "      <td>Florida, USA</td>\n",
              "      <td>Twitter for iPhone</td>\n",
              "      <td>0</td>\n",
              "      <td>70</td>\n",
              "      <td>1516</td>\n",
              "      <td>0</td>\n",
              "      <td>[odisha, govt, revenu, depart, slept, panda, j...</td>\n",
              "      <td>Florida</td>\n",
              "    </tr>\n",
              "    <tr>\n",
              "      <th>1</th>\n",
              "      <td>2020-11-21 18:26:15</td>\n",
              "      <td>1330215965385224193</td>\n",
              "      <td>False</td>\n",
              "      <td>@ARanganathan72 @otvnews @JagiPanda The day na...</td>\n",
              "      <td>sangramstarts</td>\n",
              "      <td>Bengaluru, India</td>\n",
              "      <td>Twitter for Android</td>\n",
              "      <td>16</td>\n",
              "      <td>285</td>\n",
              "      <td>605</td>\n",
              "      <td>0</td>\n",
              "      <td>[day, nation, media, turn, focu, odisha, corru...</td>\n",
              "      <td>Bengaluru</td>\n",
              "    </tr>\n",
              "    <tr>\n",
              "      <th>2</th>\n",
              "      <td>2020-11-21 16:33:28</td>\n",
              "      <td>1330187583729639425</td>\n",
              "      <td>True</td>\n",
              "      <td>The opposition Bharatiya Janata Party (#BJP) a...</td>\n",
              "      <td>ians_india</td>\n",
              "      <td>New Delhi</td>\n",
              "      <td>Twitter Web App</td>\n",
              "      <td>12</td>\n",
              "      <td>58961</td>\n",
              "      <td>45</td>\n",
              "      <td>0</td>\n",
              "      <td>[opposit, bharatiya, janata, parti, bjp, congr...</td>\n",
              "      <td>New Delhi</td>\n",
              "    </tr>\n",
              "    <tr>\n",
              "      <th>3</th>\n",
              "      <td>2020-11-21 14:48:04</td>\n",
              "      <td>1330161061803282433</td>\n",
              "      <td>False</td>\n",
              "      <td>@Elizatweetz @RahulGandhi Ma'am to be honest c...</td>\n",
              "      <td>brigado_deba</td>\n",
              "      <td></td>\n",
              "      <td>Twitter Web App</td>\n",
              "      <td>4</td>\n",
              "      <td>430</td>\n",
              "      <td>619</td>\n",
              "      <td>0</td>\n",
              "      <td>[honest, congress, leader, like, gopabandhu, d...</td>\n",
              "      <td></td>\n",
              "    </tr>\n",
              "    <tr>\n",
              "      <th>4</th>\n",
              "      <td>2020-11-21 14:44:49</td>\n",
              "      <td>1330160240373997579</td>\n",
              "      <td>False</td>\n",
              "      <td>@satya_kg @BagatiSoham @rohini_sgh @RahulGandh...</td>\n",
              "      <td>brigado_deba</td>\n",
              "      <td></td>\n",
              "      <td>Twitter Web App</td>\n",
              "      <td>0</td>\n",
              "      <td>430</td>\n",
              "      <td>619</td>\n",
              "      <td>0</td>\n",
              "      <td>[whole, india, famili, gopabandhu, dash, congr...</td>\n",
              "      <td></td>\n",
              "    </tr>\n",
              "    <tr>\n",
              "      <th>...</th>\n",
              "      <td>...</td>\n",
              "      <td>...</td>\n",
              "      <td>...</td>\n",
              "      <td>...</td>\n",
              "      <td>...</td>\n",
              "      <td>...</td>\n",
              "      <td>...</td>\n",
              "      <td>...</td>\n",
              "      <td>...</td>\n",
              "      <td>...</td>\n",
              "      <td>...</td>\n",
              "      <td>...</td>\n",
              "      <td>...</td>\n",
              "    </tr>\n",
              "    <tr>\n",
              "      <th>81</th>\n",
              "      <td>2020-11-16 05:44:17</td>\n",
              "      <td>1328212272561360896</td>\n",
              "      <td>False</td>\n",
              "      <td>@Soumyadipta Sibal is wrong. Congress is doing...</td>\n",
              "      <td>workingboxwala</td>\n",
              "      <td>POK</td>\n",
              "      <td>Twitter for Android</td>\n",
              "      <td>6</td>\n",
              "      <td>4611</td>\n",
              "      <td>256</td>\n",
              "      <td>1</td>\n",
              "      <td>[sibal, wrong, congress, fine, elect, congress...</td>\n",
              "      <td>POK</td>\n",
              "    </tr>\n",
              "    <tr>\n",
              "      <th>82</th>\n",
              "      <td>2020-11-16 02:55:31</td>\n",
              "      <td>1328169801412272129</td>\n",
              "      <td>False</td>\n",
              "      <td>Bihar , Odisha , UP , MP, WB , AP unless congr...</td>\n",
              "      <td>RamakantaShur</td>\n",
              "      <td></td>\n",
              "      <td>Twitter Web App</td>\n",
              "      <td>0</td>\n",
              "      <td>523</td>\n",
              "      <td>544</td>\n",
              "      <td>0</td>\n",
              "      <td>[bihar, odisha, unless, congress, fix, issu, d...</td>\n",
              "      <td></td>\n",
              "    </tr>\n",
              "    <tr>\n",
              "      <th>83</th>\n",
              "      <td>2020-11-15 18:29:41</td>\n",
              "      <td>1328042502427791360</td>\n",
              "      <td>False</td>\n",
              "      <td>@BJP4India has been happily losing every elect...</td>\n",
              "      <td>PhoenixIndranil</td>\n",
              "      <td>Howrah</td>\n",
              "      <td>Twitter for Android</td>\n",
              "      <td>1</td>\n",
              "      <td>379</td>\n",
              "      <td>539</td>\n",
              "      <td>0</td>\n",
              "      <td>[happili, lose, everi, elect, odisha, etern, e...</td>\n",
              "      <td>Howrah</td>\n",
              "    </tr>\n",
              "    <tr>\n",
              "      <th>84</th>\n",
              "      <td>2020-11-15 15:16:51</td>\n",
              "      <td>1327993974053765122</td>\n",
              "      <td>False</td>\n",
              "      <td>#SoniaGandhi\\nPlz save Odisha congress. If u p...</td>\n",
              "      <td>chandanNaik16</td>\n",
              "      <td>Badakamandara,Keonjhar</td>\n",
              "      <td>Twitter for Android</td>\n",
              "      <td>0</td>\n",
              "      <td>3</td>\n",
              "      <td>172</td>\n",
              "      <td>0</td>\n",
              "      <td>[soniagandhiplz, save, odisha, congress, plan,...</td>\n",
              "      <td>Badakamandara</td>\n",
              "    </tr>\n",
              "    <tr>\n",
              "      <th>85</th>\n",
              "      <td>2020-11-15 15:16:13</td>\n",
              "      <td>1327993818163994629</td>\n",
              "      <td>False</td>\n",
              "      <td>@RahulGandhi \\nPlz save Odisha congress. If u ...</td>\n",
              "      <td>chandanNaik16</td>\n",
              "      <td>Badakamandara,Keonjhar</td>\n",
              "      <td>Twitter for Android</td>\n",
              "      <td>0</td>\n",
              "      <td>3</td>\n",
              "      <td>172</td>\n",
              "      <td>0</td>\n",
              "      <td>[plz, save, odisha, congress, plan, ruin, odis...</td>\n",
              "      <td>Badakamandara</td>\n",
              "    </tr>\n",
              "  </tbody>\n",
              "</table>\n",
              "<p>86 rows × 13 columns</p>\n",
              "</div>"
            ],
            "text/plain": [
              "                  Date  ...  Processed_Location\n",
              "0  2020-11-21 19:22:01  ...             Florida\n",
              "1  2020-11-21 18:26:15  ...           Bengaluru\n",
              "2  2020-11-21 16:33:28  ...           New Delhi\n",
              "3  2020-11-21 14:48:04  ...                    \n",
              "4  2020-11-21 14:44:49  ...                    \n",
              "..                 ...  ...                 ...\n",
              "81 2020-11-16 05:44:17  ...                 POK\n",
              "82 2020-11-16 02:55:31  ...                    \n",
              "83 2020-11-15 18:29:41  ...              Howrah\n",
              "84 2020-11-15 15:16:51  ...       Badakamandara\n",
              "85 2020-11-15 15:16:13  ...       Badakamandara\n",
              "\n",
              "[86 rows x 13 columns]"
            ]
          },
          "metadata": {
            "tags": []
          },
          "execution_count": 68
        }
      ]
    },
    {
      "cell_type": "code",
      "metadata": {
        "id": "Xcw2IMBrbPBW"
      },
      "source": [
        "df1 = df\n",
        "df1['sentiment'] = sentimental_score_df['val']"
      ],
      "execution_count": 70,
      "outputs": []
    },
    {
      "cell_type": "code",
      "metadata": {
        "id": "fk0h10D3bPEy",
        "colab": {
          "base_uri": "https://localhost:8080/",
          "height": 450
        },
        "outputId": "ecd1dac1-4b90-4a06-9dfe-41eefae8c1d4"
      },
      "source": [
        "df1.to_csv('Location.csv',index = False)\n",
        "df1['day'] = df.Date.dt.day\n",
        "df1.head()"
      ],
      "execution_count": 71,
      "outputs": [
        {
          "output_type": "execute_result",
          "data": {
            "text/html": [
              "<div>\n",
              "<style scoped>\n",
              "    .dataframe tbody tr th:only-of-type {\n",
              "        vertical-align: middle;\n",
              "    }\n",
              "\n",
              "    .dataframe tbody tr th {\n",
              "        vertical-align: top;\n",
              "    }\n",
              "\n",
              "    .dataframe thead th {\n",
              "        text-align: right;\n",
              "    }\n",
              "</style>\n",
              "<table border=\"1\" class=\"dataframe\">\n",
              "  <thead>\n",
              "    <tr style=\"text-align: right;\">\n",
              "      <th></th>\n",
              "      <th>Date</th>\n",
              "      <th>Tweet_id</th>\n",
              "      <th>Verified</th>\n",
              "      <th>Tweet</th>\n",
              "      <th>User</th>\n",
              "      <th>Location</th>\n",
              "      <th>Source</th>\n",
              "      <th>Likes</th>\n",
              "      <th>Followers</th>\n",
              "      <th>Following</th>\n",
              "      <th>Retweets</th>\n",
              "      <th>Processed_Tweet</th>\n",
              "      <th>Processed_Location</th>\n",
              "      <th>sentiment</th>\n",
              "      <th>day</th>\n",
              "    </tr>\n",
              "  </thead>\n",
              "  <tbody>\n",
              "    <tr>\n",
              "      <th>0</th>\n",
              "      <td>2020-11-21 19:22:01</td>\n",
              "      <td>1330230001761923074</td>\n",
              "      <td>False</td>\n",
              "      <td>@JagiPanda @sardesairajdeep @vikramchandra @AR...</td>\n",
              "      <td>SwainBighneswar</td>\n",
              "      <td>Florida, USA</td>\n",
              "      <td>Twitter for iPhone</td>\n",
              "      <td>0</td>\n",
              "      <td>70</td>\n",
              "      <td>1516</td>\n",
              "      <td>0</td>\n",
              "      <td>[odisha, govt, revenu, depart, slept, panda, j...</td>\n",
              "      <td>Florida</td>\n",
              "      <td>Negative</td>\n",
              "      <td>21</td>\n",
              "    </tr>\n",
              "    <tr>\n",
              "      <th>1</th>\n",
              "      <td>2020-11-21 18:26:15</td>\n",
              "      <td>1330215965385224193</td>\n",
              "      <td>False</td>\n",
              "      <td>@ARanganathan72 @otvnews @JagiPanda The day na...</td>\n",
              "      <td>sangramstarts</td>\n",
              "      <td>Bengaluru, India</td>\n",
              "      <td>Twitter for Android</td>\n",
              "      <td>16</td>\n",
              "      <td>285</td>\n",
              "      <td>605</td>\n",
              "      <td>0</td>\n",
              "      <td>[day, nation, media, turn, focu, odisha, corru...</td>\n",
              "      <td>Bengaluru</td>\n",
              "      <td>Positive</td>\n",
              "      <td>21</td>\n",
              "    </tr>\n",
              "    <tr>\n",
              "      <th>2</th>\n",
              "      <td>2020-11-21 16:33:28</td>\n",
              "      <td>1330187583729639425</td>\n",
              "      <td>True</td>\n",
              "      <td>The opposition Bharatiya Janata Party (#BJP) a...</td>\n",
              "      <td>ians_india</td>\n",
              "      <td>New Delhi</td>\n",
              "      <td>Twitter Web App</td>\n",
              "      <td>12</td>\n",
              "      <td>58961</td>\n",
              "      <td>45</td>\n",
              "      <td>0</td>\n",
              "      <td>[opposit, bharatiya, janata, parti, bjp, congr...</td>\n",
              "      <td>New Delhi</td>\n",
              "      <td>Negative</td>\n",
              "      <td>21</td>\n",
              "    </tr>\n",
              "    <tr>\n",
              "      <th>3</th>\n",
              "      <td>2020-11-21 14:48:04</td>\n",
              "      <td>1330161061803282433</td>\n",
              "      <td>False</td>\n",
              "      <td>@Elizatweetz @RahulGandhi Ma'am to be honest c...</td>\n",
              "      <td>brigado_deba</td>\n",
              "      <td></td>\n",
              "      <td>Twitter Web App</td>\n",
              "      <td>4</td>\n",
              "      <td>430</td>\n",
              "      <td>619</td>\n",
              "      <td>0</td>\n",
              "      <td>[honest, congress, leader, like, gopabandhu, d...</td>\n",
              "      <td></td>\n",
              "      <td>Positive</td>\n",
              "      <td>21</td>\n",
              "    </tr>\n",
              "    <tr>\n",
              "      <th>4</th>\n",
              "      <td>2020-11-21 14:44:49</td>\n",
              "      <td>1330160240373997579</td>\n",
              "      <td>False</td>\n",
              "      <td>@satya_kg @BagatiSoham @rohini_sgh @RahulGandh...</td>\n",
              "      <td>brigado_deba</td>\n",
              "      <td></td>\n",
              "      <td>Twitter Web App</td>\n",
              "      <td>0</td>\n",
              "      <td>430</td>\n",
              "      <td>619</td>\n",
              "      <td>0</td>\n",
              "      <td>[whole, india, famili, gopabandhu, dash, congr...</td>\n",
              "      <td></td>\n",
              "      <td>Positive</td>\n",
              "      <td>21</td>\n",
              "    </tr>\n",
              "  </tbody>\n",
              "</table>\n",
              "</div>"
            ],
            "text/plain": [
              "                 Date             Tweet_id  ...  sentiment day\n",
              "0 2020-11-21 19:22:01  1330230001761923074  ...   Negative  21\n",
              "1 2020-11-21 18:26:15  1330215965385224193  ...   Positive  21\n",
              "2 2020-11-21 16:33:28  1330187583729639425  ...   Negative  21\n",
              "3 2020-11-21 14:48:04  1330161061803282433  ...   Positive  21\n",
              "4 2020-11-21 14:44:49  1330160240373997579  ...   Positive  21\n",
              "\n",
              "[5 rows x 15 columns]"
            ]
          },
          "metadata": {
            "tags": []
          },
          "execution_count": 71
        }
      ]
    },
    {
      "cell_type": "code",
      "metadata": {
        "id": "uRFstkWfbPIZ",
        "colab": {
          "base_uri": "https://localhost:8080/",
          "height": 350
        },
        "outputId": "796888ea-cf1b-4e92-de49-4a43b509c02a"
      },
      "source": [
        "sns.countplot(df['day'],hue = df['sentiment'])"
      ],
      "execution_count": 72,
      "outputs": [
        {
          "output_type": "stream",
          "text": [
            "/usr/local/lib/python3.6/dist-packages/seaborn/_decorators.py:43: FutureWarning: Pass the following variable as a keyword arg: x. From version 0.12, the only valid positional argument will be `data`, and passing other arguments without an explicit keyword will result in an error or misinterpretation.\n",
            "  FutureWarning\n"
          ],
          "name": "stderr"
        },
        {
          "output_type": "execute_result",
          "data": {
            "text/plain": [
              "<matplotlib.axes._subplots.AxesSubplot at 0x7fd04fa59dd8>"
            ]
          },
          "metadata": {
            "tags": []
          },
          "execution_count": 72
        },
        {
          "output_type": "display_data",
          "data": {
            "image/png": "[encoded data removed]",
            "text/plain": [
              "<Figure size 432x288 with 1 Axes>"
            ]
          },
          "metadata": {
            "tags": [],
            "needs_background": "light"
          }
        }
      ]
    },
    {
      "cell_type": "code",
      "metadata": {
        "id": "wjrfS-i8bPLt"
      },
      "source": [
        "from sklearn.feature_extraction.text import CountVectorizer\n",
        "from sklearn.model_selection import train_test_split\n",
        "from sklearn.naive_bayes import GaussianNB\n",
        "from sklearn.naive_bayes import MultinomialNB\n",
        "from sklearn.metrics import confusion_matrix\n",
        "from sklearn.tree import DecisionTreeClassifier\n",
        "from sklearn.ensemble import RandomForestClassifier\n",
        "from sklearn.preprocessing import LabelEncoder \n",
        "from sklearn.model_selection import GridSearchCV\n",
        "from sklearn import model_selection\n",
        "\n",
        "from sklearn.model_selection import cross_val_score\n",
        "from sklearn.metrics import accuracy_score\n",
        "from sklearn.metrics import precision_score\n",
        "from sklearn.metrics import recall_score\n",
        "from sklearn.metrics import f1_score"
      ],
      "execution_count": 73,
      "outputs": []
    },
    {
      "cell_type": "code",
      "metadata": {
        "id": "g0S-olXjbPPW",
        "colab": {
          "base_uri": "https://localhost:8080/",
          "height": 842
        },
        "outputId": "ba078fa2-039c-45f4-b471-3b355a0a9b71"
      },
      "source": [
        "le = LabelEncoder() \n",
        "  \n",
        "df1['sentiment_1']= le.fit_transform(df1['sentiment'])\n",
        "df1"
      ],
      "execution_count": 74,
      "outputs": [
        {
          "output_type": "execute_result",
          "data": {
            "text/html": [
              "<div>\n",
              "<style scoped>\n",
              "    .dataframe tbody tr th:only-of-type {\n",
              "        vertical-align: middle;\n",
              "    }\n",
              "\n",
              "    .dataframe tbody tr th {\n",
              "        vertical-align: top;\n",
              "    }\n",
              "\n",
              "    .dataframe thead th {\n",
              "        text-align: right;\n",
              "    }\n",
              "</style>\n",
              "<table border=\"1\" class=\"dataframe\">\n",
              "  <thead>\n",
              "    <tr style=\"text-align: right;\">\n",
              "      <th></th>\n",
              "      <th>Date</th>\n",
              "      <th>Tweet_id</th>\n",
              "      <th>Verified</th>\n",
              "      <th>Tweet</th>\n",
              "      <th>User</th>\n",
              "      <th>Location</th>\n",
              "      <th>Source</th>\n",
              "      <th>Likes</th>\n",
              "      <th>Followers</th>\n",
              "      <th>Following</th>\n",
              "      <th>Retweets</th>\n",
              "      <th>Processed_Tweet</th>\n",
              "      <th>Processed_Location</th>\n",
              "      <th>sentiment</th>\n",
              "      <th>day</th>\n",
              "      <th>sentiment_1</th>\n",
              "    </tr>\n",
              "  </thead>\n",
              "  <tbody>\n",
              "    <tr>\n",
              "      <th>0</th>\n",
              "      <td>2020-11-21 19:22:01</td>\n",
              "      <td>1330230001761923074</td>\n",
              "      <td>False</td>\n",
              "      <td>@JagiPanda @sardesairajdeep @vikramchandra @AR...</td>\n",
              "      <td>SwainBighneswar</td>\n",
              "      <td>Florida, USA</td>\n",
              "      <td>Twitter for iPhone</td>\n",
              "      <td>0</td>\n",
              "      <td>70</td>\n",
              "      <td>1516</td>\n",
              "      <td>0</td>\n",
              "      <td>[odisha, govt, revenu, depart, slept, panda, j...</td>\n",
              "      <td>Florida</td>\n",
              "      <td>Negative</td>\n",
              "      <td>21</td>\n",
              "      <td>0</td>\n",
              "    </tr>\n",
              "    <tr>\n",
              "      <th>1</th>\n",
              "      <td>2020-11-21 18:26:15</td>\n",
              "      <td>1330215965385224193</td>\n",
              "      <td>False</td>\n",
              "      <td>@ARanganathan72 @otvnews @JagiPanda The day na...</td>\n",
              "      <td>sangramstarts</td>\n",
              "      <td>Bengaluru, India</td>\n",
              "      <td>Twitter for Android</td>\n",
              "      <td>16</td>\n",
              "      <td>285</td>\n",
              "      <td>605</td>\n",
              "      <td>0</td>\n",
              "      <td>[day, nation, media, turn, focu, odisha, corru...</td>\n",
              "      <td>Bengaluru</td>\n",
              "      <td>Positive</td>\n",
              "      <td>21</td>\n",
              "      <td>2</td>\n",
              "    </tr>\n",
              "    <tr>\n",
              "      <th>2</th>\n",
              "      <td>2020-11-21 16:33:28</td>\n",
              "      <td>1330187583729639425</td>\n",
              "      <td>True</td>\n",
              "      <td>The opposition Bharatiya Janata Party (#BJP) a...</td>\n",
              "      <td>ians_india</td>\n",
              "      <td>New Delhi</td>\n",
              "      <td>Twitter Web App</td>\n",
              "      <td>12</td>\n",
              "      <td>58961</td>\n",
              "      <td>45</td>\n",
              "      <td>0</td>\n",
              "      <td>[opposit, bharatiya, janata, parti, bjp, congr...</td>\n",
              "      <td>New Delhi</td>\n",
              "      <td>Negative</td>\n",
              "      <td>21</td>\n",
              "      <td>0</td>\n",
              "    </tr>\n",
              "    <tr>\n",
              "      <th>3</th>\n",
              "      <td>2020-11-21 14:48:04</td>\n",
              "      <td>1330161061803282433</td>\n",
              "      <td>False</td>\n",
              "      <td>@Elizatweetz @RahulGandhi Ma'am to be honest c...</td>\n",
              "      <td>brigado_deba</td>\n",
              "      <td></td>\n",
              "      <td>Twitter Web App</td>\n",
              "      <td>4</td>\n",
              "      <td>430</td>\n",
              "      <td>619</td>\n",
              "      <td>0</td>\n",
              "      <td>[honest, congress, leader, like, gopabandhu, d...</td>\n",
              "      <td></td>\n",
              "      <td>Positive</td>\n",
              "      <td>21</td>\n",
              "      <td>2</td>\n",
              "    </tr>\n",
              "    <tr>\n",
              "      <th>4</th>\n",
              "      <td>2020-11-21 14:44:49</td>\n",
              "      <td>1330160240373997579</td>\n",
              "      <td>False</td>\n",
              "      <td>@satya_kg @BagatiSoham @rohini_sgh @RahulGandh...</td>\n",
              "      <td>brigado_deba</td>\n",
              "      <td></td>\n",
              "      <td>Twitter Web App</td>\n",
              "      <td>0</td>\n",
              "      <td>430</td>\n",
              "      <td>619</td>\n",
              "      <td>0</td>\n",
              "      <td>[whole, india, famili, gopabandhu, dash, congr...</td>\n",
              "      <td></td>\n",
              "      <td>Positive</td>\n",
              "      <td>21</td>\n",
              "      <td>2</td>\n",
              "    </tr>\n",
              "    <tr>\n",
              "      <th>...</th>\n",
              "      <td>...</td>\n",
              "      <td>...</td>\n",
              "      <td>...</td>\n",
              "      <td>...</td>\n",
              "      <td>...</td>\n",
              "      <td>...</td>\n",
              "      <td>...</td>\n",
              "      <td>...</td>\n",
              "      <td>...</td>\n",
              "      <td>...</td>\n",
              "      <td>...</td>\n",
              "      <td>...</td>\n",
              "      <td>...</td>\n",
              "      <td>...</td>\n",
              "      <td>...</td>\n",
              "      <td>...</td>\n",
              "    </tr>\n",
              "    <tr>\n",
              "      <th>81</th>\n",
              "      <td>2020-11-16 05:44:17</td>\n",
              "      <td>1328212272561360896</td>\n",
              "      <td>False</td>\n",
              "      <td>@Soumyadipta Sibal is wrong. Congress is doing...</td>\n",
              "      <td>workingboxwala</td>\n",
              "      <td>POK</td>\n",
              "      <td>Twitter for Android</td>\n",
              "      <td>6</td>\n",
              "      <td>4611</td>\n",
              "      <td>256</td>\n",
              "      <td>1</td>\n",
              "      <td>[sibal, wrong, congress, fine, elect, congress...</td>\n",
              "      <td>POK</td>\n",
              "      <td>Negative</td>\n",
              "      <td>16</td>\n",
              "      <td>0</td>\n",
              "    </tr>\n",
              "    <tr>\n",
              "      <th>82</th>\n",
              "      <td>2020-11-16 02:55:31</td>\n",
              "      <td>1328169801412272129</td>\n",
              "      <td>False</td>\n",
              "      <td>Bihar , Odisha , UP , MP, WB , AP unless congr...</td>\n",
              "      <td>RamakantaShur</td>\n",
              "      <td></td>\n",
              "      <td>Twitter Web App</td>\n",
              "      <td>0</td>\n",
              "      <td>523</td>\n",
              "      <td>544</td>\n",
              "      <td>0</td>\n",
              "      <td>[bihar, odisha, unless, congress, fix, issu, d...</td>\n",
              "      <td></td>\n",
              "      <td>Negative</td>\n",
              "      <td>16</td>\n",
              "      <td>0</td>\n",
              "    </tr>\n",
              "    <tr>\n",
              "      <th>83</th>\n",
              "      <td>2020-11-15 18:29:41</td>\n",
              "      <td>1328042502427791360</td>\n",
              "      <td>False</td>\n",
              "      <td>@BJP4India has been happily losing every elect...</td>\n",
              "      <td>PhoenixIndranil</td>\n",
              "      <td>Howrah</td>\n",
              "      <td>Twitter for Android</td>\n",
              "      <td>1</td>\n",
              "      <td>379</td>\n",
              "      <td>539</td>\n",
              "      <td>0</td>\n",
              "      <td>[happili, lose, everi, elect, odisha, etern, e...</td>\n",
              "      <td>Howrah</td>\n",
              "      <td>Negative</td>\n",
              "      <td>15</td>\n",
              "      <td>0</td>\n",
              "    </tr>\n",
              "    <tr>\n",
              "      <th>84</th>\n",
              "      <td>2020-11-15 15:16:51</td>\n",
              "      <td>1327993974053765122</td>\n",
              "      <td>False</td>\n",
              "      <td>#SoniaGandhi\\nPlz save Odisha congress. If u p...</td>\n",
              "      <td>chandanNaik16</td>\n",
              "      <td>Badakamandara,Keonjhar</td>\n",
              "      <td>Twitter for Android</td>\n",
              "      <td>0</td>\n",
              "      <td>3</td>\n",
              "      <td>172</td>\n",
              "      <td>0</td>\n",
              "      <td>[soniagandhiplz, save, odisha, congress, plan,...</td>\n",
              "      <td>Badakamandara</td>\n",
              "      <td>Negative</td>\n",
              "      <td>15</td>\n",
              "      <td>0</td>\n",
              "    </tr>\n",
              "    <tr>\n",
              "      <th>85</th>\n",
              "      <td>2020-11-15 15:16:13</td>\n",
              "      <td>1327993818163994629</td>\n",
              "      <td>False</td>\n",
              "      <td>@RahulGandhi \\nPlz save Odisha congress. If u ...</td>\n",
              "      <td>chandanNaik16</td>\n",
              "      <td>Badakamandara,Keonjhar</td>\n",
              "      <td>Twitter for Android</td>\n",
              "      <td>0</td>\n",
              "      <td>3</td>\n",
              "      <td>172</td>\n",
              "      <td>0</td>\n",
              "      <td>[plz, save, odisha, congress, plan, ruin, odis...</td>\n",
              "      <td>Badakamandara</td>\n",
              "      <td>Negative</td>\n",
              "      <td>15</td>\n",
              "      <td>0</td>\n",
              "    </tr>\n",
              "  </tbody>\n",
              "</table>\n",
              "<p>86 rows × 16 columns</p>\n",
              "</div>"
            ],
            "text/plain": [
              "                  Date             Tweet_id  ...  day sentiment_1\n",
              "0  2020-11-21 19:22:01  1330230001761923074  ...   21           0\n",
              "1  2020-11-21 18:26:15  1330215965385224193  ...   21           2\n",
              "2  2020-11-21 16:33:28  1330187583729639425  ...   21           0\n",
              "3  2020-11-21 14:48:04  1330161061803282433  ...   21           2\n",
              "4  2020-11-21 14:44:49  1330160240373997579  ...   21           2\n",
              "..                 ...                  ...  ...  ...         ...\n",
              "81 2020-11-16 05:44:17  1328212272561360896  ...   16           0\n",
              "82 2020-11-16 02:55:31  1328169801412272129  ...   16           0\n",
              "83 2020-11-15 18:29:41  1328042502427791360  ...   15           0\n",
              "84 2020-11-15 15:16:51  1327993974053765122  ...   15           0\n",
              "85 2020-11-15 15:16:13  1327993818163994629  ...   15           0\n",
              "\n",
              "[86 rows x 16 columns]"
            ]
          },
          "metadata": {
            "tags": []
          },
          "execution_count": 74
        }
      ]
    },
    {
      "cell_type": "code",
      "metadata": {
        "id": "xBc2j_RibPTh"
      },
      "source": [
        "cv = CountVectorizer(max_features = 1500)\n",
        "X = cv.fit_transform(all_words).toarray()\n",
        "y = df1['sentiment_1']"
      ],
      "execution_count": 75,
      "outputs": []
    },
    {
      "cell_type": "code",
      "metadata": {
        "id": "ePYtd2BMbPXN"
      },
      "source": [
        "X_train, X_test, y_train, y_test = train_test_split(X, y, test_size = 0.3, random_state = 0)\n",
        "# NEGATIVE == 0\n",
        "# NEUTRAL == 1\n",
        "# POSITIVE == 2"
      ],
      "execution_count": 76,
      "outputs": []
    },
    {
      "cell_type": "code",
      "metadata": {
        "id": "oTO3zF_gbPa5"
      },
      "source": [
        "#X_train, X_test, y_train, y_test = train_test_split(X_tfidf, y, test_size = 0.3, random_state = 0)"
      ],
      "execution_count": 77,
      "outputs": []
    },
    {
      "cell_type": "code",
      "metadata": {
        "id": "iaFTWb0LbPfA"
      },
      "source": [
        "classifier_DT = DecisionTreeClassifier()\n",
        "classifier_DT.fit(X_train, y_train)\n",
        "y_pred_DT = classifier_DT.predict(X_test)"
      ],
      "execution_count": 78,
      "outputs": []
    },
    {
      "cell_type": "code",
      "metadata": {
        "id": "d27boANUbPi9",
        "colab": {
          "base_uri": "https://localhost:8080/"
        },
        "outputId": "e83b1fae-e4eb-4e13-ac02-c15eaba2a94a"
      },
      "source": [
        "accuracy_score_DT = accuracy_score(y_test, y_pred_DT)\n",
        "precision_score_DT = precision_score(y_test, y_pred_DT , average = 'micro')\n",
        "recall_score_DT = recall_score(y_test, y_pred_DT , average = 'micro')\n",
        "f1_score_DT = f1_score(y_test, y_pred_DT , average = 'micro')\n",
        "print(\"Accuracy Score: \" , accuracy_score_DT)\n",
        "print(\"Precision Score: \" , precision_score_DT)\n",
        "print(\"Recall Score: \" , recall_score_DT)\n",
        "print(\"F1 Score: \" , f1_score_DT)"
      ],
      "execution_count": 79,
      "outputs": [
        {
          "output_type": "stream",
          "text": [
            "Accuracy Score:  0.3076923076923077\n",
            "Precision Score:  0.3076923076923077\n",
            "Recall Score:  0.3076923076923077\n",
            "F1 Score:  0.3076923076923077\n"
          ],
          "name": "stdout"
        }
      ]
    },
    {
      "cell_type": "code",
      "metadata": {
        "id": "drhy2odtbPmU",
        "colab": {
          "base_uri": "https://localhost:8080/",
          "height": 385
        },
        "outputId": "07034140-8cc7-4a5b-9ae6-ee99e288d654"
      },
      "source": [
        "cm_DT = confusion_matrix(y_test, y_pred_DT)\n",
        "\n",
        "      # neg # neutr  # pos\n",
        "# pos #  232   65      1397\n",
        "# neu #  87   1175     51\n",
        "# neg # 1104   82      321\n",
        "\n",
        "df_cm_DT = pd.DataFrame(cm_DT, range(3), range(3))\n",
        "plt.figure(figsize=(10,6))\n",
        "categories = ['Negative','Neutral','Positive']\n",
        "sns.set(font_scale=1.2) # for label size\n",
        "sns.heatmap(df_cm_DT, annot=True, annot_kws={\"size\": 18}, xticklabels = categories,\n",
        "            yticklabels = categories ,fmt=\"d\") # font size\n",
        "plt.ylim(0, 3)\n",
        "plt.show()"
      ],
      "execution_count": 80,
      "outputs": [
        {
          "output_type": "display_data",
          "data": {
            "image/png": "[encoded data removed]",
            "text/plain": [
              "<Figure size 720x432 with 2 Axes>"
            ]
          },
          "metadata": {
            "tags": [],
            "needs_background": "light"
          }
        }
      ]
    },
    {
      "cell_type": "code",
      "metadata": {
        "id": "K0CwHnJPko8z",
        "colab": {
          "base_uri": "https://localhost:8080/"
        },
        "outputId": "819b610f-d8d2-4272-eb8b-a977f62f11c5"
      },
      "source": [
        "#Getting the parameters of the particular model \n",
        "classifier_DT.get_params().keys()"
      ],
      "execution_count": 81,
      "outputs": [
        {
          "output_type": "execute_result",
          "data": {
            "text/plain": [
              "dict_keys(['ccp_alpha', 'class_weight', 'criterion', 'max_depth', 'max_features', 'max_leaf_nodes', 'min_impurity_decrease', 'min_impurity_split', 'min_samples_leaf', 'min_samples_split', 'min_weight_fraction_leaf', 'presort', 'random_state', 'splitter'])"
            ]
          },
          "metadata": {
            "tags": []
          },
          "execution_count": 81
        }
      ]
    },
    {
      "cell_type": "code",
      "metadata": {
        "id": "zJvr_oyVkvC9"
      },
      "source": [
        "classifier_DT_opti = DecisionTreeClassifier() \n",
        "\n",
        "param_grid = {\"max_depth\" : [1,3,5,7],     #Setting the parameters for the model\n",
        "               \"criterion\" : [\"gini\",\"entropy\"],\n",
        "              \"min_samples_split\" : [2,3,4],\n",
        "              \"max_leaf_nodes\" : [7,8,9],\n",
        "              \"min_samples_leaf\": [2,3,4],\n",
        "             }"
      ],
      "execution_count": 82,
      "outputs": []
    },
    {
      "cell_type": "code",
      "metadata": {
        "id": "PuxfADWvkyNv",
        "colab": {
          "base_uri": "https://localhost:8080/"
        },
        "outputId": "e8d4f1e3-ef19-4d89-a278-53a3f8896ab3"
      },
      "source": [
        "model_DT = model_selection.GridSearchCV(estimator=classifier_DT_opti, #GridSearch\n",
        "                                    param_grid=param_grid, \n",
        "                                        cv=10)\n",
        "model_DT.fit(X_train,y_train)\n",
        "print(model_DT.best_score_) #Gives the best score of the model\n",
        "print(model_DT.best_estimator_.get_params()) #Gives the best parameters"
      ],
      "execution_count": 83,
      "outputs": [
        {
          "output_type": "stream",
          "text": [
            "0.5333333333333334\n",
            "{'ccp_alpha': 0.0, 'class_weight': None, 'criterion': 'gini', 'max_depth': 7, 'max_features': None, 'max_leaf_nodes': 7, 'min_impurity_decrease': 0.0, 'min_impurity_split': None, 'min_samples_leaf': 2, 'min_samples_split': 3, 'min_weight_fraction_leaf': 0.0, 'presort': 'deprecated', 'random_state': None, 'splitter': 'best'}\n"
          ],
          "name": "stdout"
        }
      ]
    },
    {
      "cell_type": "code",
      "metadata": {
        "id": "gzgA0zjCkyQx",
        "colab": {
          "base_uri": "https://localhost:8080/"
        },
        "outputId": "781b58bc-12d1-4a54-e9ef-27a033f3af5c"
      },
      "source": [
        "y_pred_model_DT = model_DT.predict(X_test)\n",
        "\n",
        "accuracy_score_model_DT = accuracy_score(y_test, y_pred_model_DT)\n",
        "precision_score_model_DT = precision_score(y_test, y_pred_model_DT , average = 'micro')\n",
        "recall_score_model_DT = recall_score(y_test, y_pred_model_DT , average = 'micro')\n",
        "f1_score_model_DT = f1_score(y_test, y_pred_model_DT , average = 'micro')\n",
        "print(\"Accuracy Score: \" , accuracy_score_model_DT)\n",
        "print(\"Precision Score: \" , precision_score_model_DT)\n",
        "print(\"Recall Score: \" , recall_score_model_DT)\n",
        "print(\"F1 Score: \" , f1_score_model_DT)"
      ],
      "execution_count": 84,
      "outputs": [
        {
          "output_type": "stream",
          "text": [
            "Accuracy Score:  0.3076923076923077\n",
            "Precision Score:  0.3076923076923077\n",
            "Recall Score:  0.3076923076923077\n",
            "F1 Score:  0.3076923076923077\n"
          ],
          "name": "stdout"
        }
      ]
    },
    {
      "cell_type": "code",
      "metadata": {
        "id": "J2nH4bFQkyUK",
        "colab": {
          "base_uri": "https://localhost:8080/",
          "height": 385
        },
        "outputId": "db393a14-cd2e-49fd-e4a7-68d7d66298e6"
      },
      "source": [
        "cm_model_DT = confusion_matrix(y_test, y_pred_model_DT)\n",
        "\n",
        "df_cm_model_DT = pd.DataFrame(cm_model_DT, range(3), range(3))\n",
        "plt.figure(figsize=(10,6))\n",
        "categories = ['Negative','Neutral','Positive']\n",
        "sns.set(font_scale=1.2) # for label size\n",
        "sns.heatmap(df_cm_model_DT, annot=True, annot_kws={\"size\": 18}, xticklabels = categories,\n",
        "            yticklabels = categories ,fmt=\"d\") # font size\n",
        "plt.ylim(0, 3)\n",
        "plt.show()"
      ],
      "execution_count": 85,
      "outputs": [
        {
          "output_type": "display_data",
          "data": {
            "image/png": "[encoded data removed]",
            "text/plain": [
              "<Figure size 720x432 with 2 Axes>"
            ]
          },
          "metadata": {
            "tags": []
          }
        }
      ]
    },
    {
      "cell_type": "code",
      "metadata": {
        "id": "ngig2X9VkyYE"
      },
      "source": [
        "classifier_RF = RandomForestClassifier()\n",
        "classifier_RF.fit(X_train, y_train)\n",
        "y_pred_RF = classifier_RF.predict(X_test)"
      ],
      "execution_count": 86,
      "outputs": []
    },
    {
      "cell_type": "code",
      "metadata": {
        "id": "63-Ls52Jkyby",
        "colab": {
          "base_uri": "https://localhost:8080/"
        },
        "outputId": "c84f5d53-0b4e-44ec-bb0a-493ecabb5b02"
      },
      "source": [
        "accuracy_score_RF = accuracy_score(y_test, y_pred_RF)\n",
        "precision_score_RF = precision_score(y_test, y_pred_RF , average = 'micro')\n",
        "recall_score_RF = recall_score(y_test, y_pred_RF, average = 'micro')\n",
        "f1_score_RF = f1_score(y_test, y_pred_RF, average = 'micro')\n",
        "print(\"Accuracy Score: \" , accuracy_score_RF)\n",
        "print(\"Precision Score: \" , precision_score_RF)\n",
        "print(\"Recall Score: \" , recall_score_RF)\n",
        "print(\"F1 Score: \" , f1_score_RF)"
      ],
      "execution_count": 87,
      "outputs": [
        {
          "output_type": "stream",
          "text": [
            "Accuracy Score:  0.38461538461538464\n",
            "Precision Score:  0.38461538461538464\n",
            "Recall Score:  0.38461538461538464\n",
            "F1 Score:  0.38461538461538464\n"
          ],
          "name": "stdout"
        }
      ]
    },
    {
      "cell_type": "code",
      "metadata": {
        "id": "YHbA5LWNkyfk",
        "colab": {
          "base_uri": "https://localhost:8080/",
          "height": 385
        },
        "outputId": "981169b1-c35b-4c07-e536-5aef909d797d"
      },
      "source": [
        "cm_RF = confusion_matrix(y_test, y_pred_RF)\n",
        "\n",
        "df_cm_RF = pd.DataFrame(cm_RF, range(3), range(3))\n",
        "categories = ['Negative','Neutral','Positive']\n",
        "plt.figure(figsize=(10,6))\n",
        "sns.set(font_scale=1.2) # for label size\n",
        "sns.heatmap(df_cm_RF, annot=True, annot_kws={\"size\": 18}, xticklabels = categories,\n",
        "            yticklabels = categories,fmt=\"d\") # font size\n",
        "plt.ylim(0, 3)\n",
        "plt.show()"
      ],
      "execution_count": 88,
      "outputs": [
        {
          "output_type": "display_data",
          "data": {
            "image/png": "[encoded data removed]",
            "text/plain": [
              "<Figure size 720x432 with 2 Axes>"
            ]
          },
          "metadata": {
            "tags": []
          }
        }
      ]
    },
    {
      "cell_type": "code",
      "metadata": {
        "id": "E5BTMRiAkyl9",
        "colab": {
          "base_uri": "https://localhost:8080/"
        },
        "outputId": "ebbb3feb-658f-4bbf-e522-dbddaf6788d6"
      },
      "source": [
        "#Getting the parameters of the particular model \n",
        "classifier_RF.get_params().keys()"
      ],
      "execution_count": 89,
      "outputs": [
        {
          "output_type": "execute_result",
          "data": {
            "text/plain": [
              "dict_keys(['bootstrap', 'ccp_alpha', 'class_weight', 'criterion', 'max_depth', 'max_features', 'max_leaf_nodes', 'max_samples', 'min_impurity_decrease', 'min_impurity_split', 'min_samples_leaf', 'min_samples_split', 'min_weight_fraction_leaf', 'n_estimators', 'n_jobs', 'oob_score', 'random_state', 'verbose', 'warm_start'])"
            ]
          },
          "metadata": {
            "tags": []
          },
          "execution_count": 89
        }
      ]
    },
    {
      "cell_type": "code",
      "metadata": {
        "id": "VBmNF8XVkysq",
        "colab": {
          "base_uri": "https://localhost:8080/"
        },
        "outputId": "cbb136a3-dba9-426d-8c77-f625ffe3a1bc"
      },
      "source": [
        "classifier_RF_opti = RandomForestClassifier()\n",
        "param_grid = {\"n_estimators\": np.arange(100,1500,100), #Selecting the parameters\n",
        "               \"max_depth\": np.arange(1,20),\n",
        "               \"criterion\": [\"gini\",\"entropy\"], \n",
        "              }\n",
        "\n",
        "classifier_model_RF = model_selection.RandomizedSearchCV(estimator=classifier_RF_opti, #RandomizedSearch\n",
        "                                    param_distributions=param_grid,\n",
        "                                    n_iter=10,\n",
        "                                    scoring='accuracy',\n",
        "                                    verbose=10,\n",
        "                                    n_jobs=1,\n",
        "                                    cv=5)\n",
        "\n",
        "classifier_model_RF.fit(X_train,y_train)\n",
        "print(classifier_model_RF.best_score_) #Gives the best score of the model\n",
        "print(classifier_model_RF.best_estimator_.get_params()) #Gives the best parameters of the model"
      ],
      "execution_count": 90,
      "outputs": [
        {
          "output_type": "stream",
          "text": [
            "Fitting 5 folds for each of 10 candidates, totalling 50 fits\n",
            "[CV] n_estimators=1100, max_depth=10, criterion=entropy ..............\n"
          ],
          "name": "stdout"
        },
        {
          "output_type": "stream",
          "text": [
            "[Parallel(n_jobs=1)]: Using backend SequentialBackend with 1 concurrent workers.\n"
          ],
          "name": "stderr"
        },
        {
          "output_type": "stream",
          "text": [
            "[CV]  n_estimators=1100, max_depth=10, criterion=entropy, score=0.667, total=   1.5s\n",
            "[CV] n_estimators=1100, max_depth=10, criterion=entropy ..............\n"
          ],
          "name": "stdout"
        },
        {
          "output_type": "stream",
          "text": [
            "[Parallel(n_jobs=1)]: Done   1 out of   1 | elapsed:    1.5s remaining:    0.0s\n"
          ],
          "name": "stderr"
        },
        {
          "output_type": "stream",
          "text": [
            "[CV]  n_estimators=1100, max_depth=10, criterion=entropy, score=0.583, total=   1.6s\n",
            "[CV] n_estimators=1100, max_depth=10, criterion=entropy ..............\n"
          ],
          "name": "stdout"
        },
        {
          "output_type": "stream",
          "text": [
            "[Parallel(n_jobs=1)]: Done   2 out of   2 | elapsed:    3.1s remaining:    0.0s\n"
          ],
          "name": "stderr"
        },
        {
          "output_type": "stream",
          "text": [
            "[CV]  n_estimators=1100, max_depth=10, criterion=entropy, score=0.583, total=   1.5s\n",
            "[CV] n_estimators=1100, max_depth=10, criterion=entropy ..............\n"
          ],
          "name": "stdout"
        },
        {
          "output_type": "stream",
          "text": [
            "[Parallel(n_jobs=1)]: Done   3 out of   3 | elapsed:    4.6s remaining:    0.0s\n"
          ],
          "name": "stderr"
        },
        {
          "output_type": "stream",
          "text": [
            "[CV]  n_estimators=1100, max_depth=10, criterion=entropy, score=0.333, total=   1.5s\n",
            "[CV] n_estimators=1100, max_depth=10, criterion=entropy ..............\n"
          ],
          "name": "stdout"
        },
        {
          "output_type": "stream",
          "text": [
            "[Parallel(n_jobs=1)]: Done   4 out of   4 | elapsed:    6.0s remaining:    0.0s\n"
          ],
          "name": "stderr"
        },
        {
          "output_type": "stream",
          "text": [
            "[CV]  n_estimators=1100, max_depth=10, criterion=entropy, score=0.667, total=   1.5s\n",
            "[CV] n_estimators=600, max_depth=6, criterion=gini ...................\n"
          ],
          "name": "stdout"
        },
        {
          "output_type": "stream",
          "text": [
            "[Parallel(n_jobs=1)]: Done   5 out of   5 | elapsed:    7.5s remaining:    0.0s\n"
          ],
          "name": "stderr"
        },
        {
          "output_type": "stream",
          "text": [
            "[CV]  n_estimators=600, max_depth=6, criterion=gini, score=0.667, total=   0.8s\n",
            "[CV] n_estimators=600, max_depth=6, criterion=gini ...................\n"
          ],
          "name": "stdout"
        },
        {
          "output_type": "stream",
          "text": [
            "[Parallel(n_jobs=1)]: Done   6 out of   6 | elapsed:    8.3s remaining:    0.0s\n"
          ],
          "name": "stderr"
        },
        {
          "output_type": "stream",
          "text": [
            "[CV]  n_estimators=600, max_depth=6, criterion=gini, score=0.583, total=   0.8s\n",
            "[CV] n_estimators=600, max_depth=6, criterion=gini ...................\n"
          ],
          "name": "stdout"
        },
        {
          "output_type": "stream",
          "text": [
            "[Parallel(n_jobs=1)]: Done   7 out of   7 | elapsed:    9.1s remaining:    0.0s\n"
          ],
          "name": "stderr"
        },
        {
          "output_type": "stream",
          "text": [
            "[CV]  n_estimators=600, max_depth=6, criterion=gini, score=0.583, total=   0.8s\n",
            "[CV] n_estimators=600, max_depth=6, criterion=gini ...................\n"
          ],
          "name": "stdout"
        },
        {
          "output_type": "stream",
          "text": [
            "[Parallel(n_jobs=1)]: Done   8 out of   8 | elapsed:    9.9s remaining:    0.0s\n"
          ],
          "name": "stderr"
        },
        {
          "output_type": "stream",
          "text": [
            "[CV]  n_estimators=600, max_depth=6, criterion=gini, score=0.333, total=   0.8s\n",
            "[CV] n_estimators=600, max_depth=6, criterion=gini ...................\n"
          ],
          "name": "stdout"
        },
        {
          "output_type": "stream",
          "text": [
            "[Parallel(n_jobs=1)]: Done   9 out of   9 | elapsed:   10.7s remaining:    0.0s\n"
          ],
          "name": "stderr"
        },
        {
          "output_type": "stream",
          "text": [
            "[CV]  n_estimators=600, max_depth=6, criterion=gini, score=0.583, total=   0.8s\n",
            "[CV] n_estimators=1000, max_depth=18, criterion=gini .................\n",
            "[CV]  n_estimators=1000, max_depth=18, criterion=gini, score=0.667, total=   1.4s\n",
            "[CV] n_estimators=1000, max_depth=18, criterion=gini .................\n",
            "[CV]  n_estimators=1000, max_depth=18, criterion=gini, score=0.667, total=   1.4s\n",
            "[CV] n_estimators=1000, max_depth=18, criterion=gini .................\n",
            "[CV]  n_estimators=1000, max_depth=18, criterion=gini, score=0.667, total=   1.3s\n",
            "[CV] n_estimators=1000, max_depth=18, criterion=gini .................\n",
            "[CV]  n_estimators=1000, max_depth=18, criterion=gini, score=0.333, total=   1.3s\n",
            "[CV] n_estimators=1000, max_depth=18, criterion=gini .................\n",
            "[CV]  n_estimators=1000, max_depth=18, criterion=gini, score=0.667, total=   1.4s\n",
            "[CV] n_estimators=800, max_depth=4, criterion=entropy ................\n",
            "[CV]  n_estimators=800, max_depth=4, criterion=entropy, score=0.667, total=   1.0s\n",
            "[CV] n_estimators=800, max_depth=4, criterion=entropy ................\n",
            "[CV]  n_estimators=800, max_depth=4, criterion=entropy, score=0.750, total=   1.0s\n",
            "[CV] n_estimators=800, max_depth=4, criterion=entropy ................\n",
            "[CV]  n_estimators=800, max_depth=4, criterion=entropy, score=0.583, total=   1.0s\n",
            "[CV] n_estimators=800, max_depth=4, criterion=entropy ................\n",
            "[CV]  n_estimators=800, max_depth=4, criterion=entropy, score=0.417, total=   1.0s\n",
            "[CV] n_estimators=800, max_depth=4, criterion=entropy ................\n",
            "[CV]  n_estimators=800, max_depth=4, criterion=entropy, score=0.667, total=   1.1s\n",
            "[CV] n_estimators=400, max_depth=1, criterion=gini ...................\n",
            "[CV]  n_estimators=400, max_depth=1, criterion=gini, score=0.417, total=   0.5s\n",
            "[CV] n_estimators=400, max_depth=1, criterion=gini ...................\n",
            "[CV]  n_estimators=400, max_depth=1, criterion=gini, score=0.500, total=   0.5s\n",
            "[CV] n_estimators=400, max_depth=1, criterion=gini ...................\n",
            "[CV]  n_estimators=400, max_depth=1, criterion=gini, score=0.583, total=   0.5s\n",
            "[CV] n_estimators=400, max_depth=1, criterion=gini ...................\n",
            "[CV]  n_estimators=400, max_depth=1, criterion=gini, score=0.417, total=   0.5s\n",
            "[CV] n_estimators=400, max_depth=1, criterion=gini ...................\n",
            "[CV]  n_estimators=400, max_depth=1, criterion=gini, score=0.583, total=   0.5s\n",
            "[CV] n_estimators=400, max_depth=12, criterion=gini ..................\n",
            "[CV]  n_estimators=400, max_depth=12, criterion=gini, score=0.667, total=   0.5s\n",
            "[CV] n_estimators=400, max_depth=12, criterion=gini ..................\n",
            "[CV]  n_estimators=400, max_depth=12, criterion=gini, score=0.583, total=   0.5s\n",
            "[CV] n_estimators=400, max_depth=12, criterion=gini ..................\n",
            "[CV]  n_estimators=400, max_depth=12, criterion=gini, score=0.583, total=   0.5s\n",
            "[CV] n_estimators=400, max_depth=12, criterion=gini ..................\n",
            "[CV]  n_estimators=400, max_depth=12, criterion=gini, score=0.333, total=   0.5s\n",
            "[CV] n_estimators=400, max_depth=12, criterion=gini ..................\n",
            "[CV]  n_estimators=400, max_depth=12, criterion=gini, score=0.583, total=   0.5s\n",
            "[CV] n_estimators=200, max_depth=4, criterion=entropy ................\n",
            "[CV]  n_estimators=200, max_depth=4, criterion=entropy, score=0.583, total=   0.3s\n",
            "[CV] n_estimators=200, max_depth=4, criterion=entropy ................\n",
            "[CV]  n_estimators=200, max_depth=4, criterion=entropy, score=0.500, total=   0.3s\n",
            "[CV] n_estimators=200, max_depth=4, criterion=entropy ................\n",
            "[CV]  n_estimators=200, max_depth=4, criterion=entropy, score=0.583, total=   0.3s\n",
            "[CV] n_estimators=200, max_depth=4, criterion=entropy ................\n",
            "[CV]  n_estimators=200, max_depth=4, criterion=entropy, score=0.500, total=   0.3s\n",
            "[CV] n_estimators=200, max_depth=4, criterion=entropy ................\n",
            "[CV]  n_estimators=200, max_depth=4, criterion=entropy, score=0.583, total=   0.3s\n",
            "[CV] n_estimators=800, max_depth=13, criterion=gini ..................\n",
            "[CV]  n_estimators=800, max_depth=13, criterion=gini, score=0.667, total=   1.1s\n",
            "[CV] n_estimators=800, max_depth=13, criterion=gini ..................\n",
            "[CV]  n_estimators=800, max_depth=13, criterion=gini, score=0.583, total=   1.1s\n",
            "[CV] n_estimators=800, max_depth=13, criterion=gini ..................\n",
            "[CV]  n_estimators=800, max_depth=13, criterion=gini, score=0.583, total=   1.1s\n",
            "[CV] n_estimators=800, max_depth=13, criterion=gini ..................\n",
            "[CV]  n_estimators=800, max_depth=13, criterion=gini, score=0.417, total=   1.1s\n",
            "[CV] n_estimators=800, max_depth=13, criterion=gini ..................\n",
            "[CV]  n_estimators=800, max_depth=13, criterion=gini, score=0.500, total=   1.1s\n",
            "[CV] n_estimators=1000, max_depth=1, criterion=entropy ...............\n",
            "[CV]  n_estimators=1000, max_depth=1, criterion=entropy, score=0.417, total=   1.3s\n",
            "[CV] n_estimators=1000, max_depth=1, criterion=entropy ...............\n",
            "[CV]  n_estimators=1000, max_depth=1, criterion=entropy, score=0.500, total=   1.3s\n",
            "[CV] n_estimators=1000, max_depth=1, criterion=entropy ...............\n",
            "[CV]  n_estimators=1000, max_depth=1, criterion=entropy, score=0.583, total=   1.4s\n",
            "[CV] n_estimators=1000, max_depth=1, criterion=entropy ...............\n",
            "[CV]  n_estimators=1000, max_depth=1, criterion=entropy, score=0.500, total=   1.3s\n",
            "[CV] n_estimators=1000, max_depth=1, criterion=entropy ...............\n",
            "[CV]  n_estimators=1000, max_depth=1, criterion=entropy, score=0.500, total=   1.3s\n",
            "[CV] n_estimators=500, max_depth=7, criterion=gini ...................\n",
            "[CV]  n_estimators=500, max_depth=7, criterion=gini, score=0.750, total=   0.6s\n",
            "[CV] n_estimators=500, max_depth=7, criterion=gini ...................\n",
            "[CV]  n_estimators=500, max_depth=7, criterion=gini, score=0.583, total=   0.7s\n",
            "[CV] n_estimators=500, max_depth=7, criterion=gini ...................\n",
            "[CV]  n_estimators=500, max_depth=7, criterion=gini, score=0.583, total=   0.7s\n",
            "[CV] n_estimators=500, max_depth=7, criterion=gini ...................\n",
            "[CV]  n_estimators=500, max_depth=7, criterion=gini, score=0.333, total=   0.7s\n",
            "[CV] n_estimators=500, max_depth=7, criterion=gini ...................\n",
            "[CV]  n_estimators=500, max_depth=7, criterion=gini, score=0.500, total=   0.7s\n"
          ],
          "name": "stdout"
        },
        {
          "output_type": "stream",
          "text": [
            "[Parallel(n_jobs=1)]: Done  50 out of  50 | elapsed:   45.2s finished\n"
          ],
          "name": "stderr"
        },
        {
          "output_type": "stream",
          "text": [
            "0.6166666666666666\n",
            "{'bootstrap': True, 'ccp_alpha': 0.0, 'class_weight': None, 'criterion': 'entropy', 'max_depth': 4, 'max_features': 'auto', 'max_leaf_nodes': None, 'max_samples': None, 'min_impurity_decrease': 0.0, 'min_impurity_split': None, 'min_samples_leaf': 1, 'min_samples_split': 2, 'min_weight_fraction_leaf': 0.0, 'n_estimators': 800, 'n_jobs': None, 'oob_score': False, 'random_state': None, 'verbose': 0, 'warm_start': False}\n"
          ],
          "name": "stdout"
        }
      ]
    },
    {
      "cell_type": "code",
      "metadata": {
        "id": "_HMg7RGQkyw9",
        "colab": {
          "base_uri": "https://localhost:8080/"
        },
        "outputId": "688a8537-b321-48cc-d4a7-439ef47fb720"
      },
      "source": [
        "y_pred_model_RF = classifier_model_RF.predict(X_test)\n",
        "\n",
        "accuracy_score_model_RF = accuracy_score(y_test, y_pred_model_RF)\n",
        "precision_score_model_RF = precision_score(y_test, y_pred_model_RF , average = 'micro')\n",
        "recall_score_model_RF = recall_score(y_test, y_pred_model_RF , average = 'micro')\n",
        "f1_score_model_RF = f1_score(y_test, y_pred_model_RF , average = 'micro')\n",
        "print(\"Accuracy Score: \" , accuracy_score_model_RF)\n",
        "print(\"Precision Score: \" , precision_score_model_RF)\n",
        "print(\"Recall Score: \" , recall_score_model_RF)\n",
        "print(\"F1 Score: \" , f1_score_model_RF)"
      ],
      "execution_count": 91,
      "outputs": [
        {
          "output_type": "stream",
          "text": [
            "Accuracy Score:  0.34615384615384615\n",
            "Precision Score:  0.34615384615384615\n",
            "Recall Score:  0.34615384615384615\n",
            "F1 Score:  0.34615384615384615\n"
          ],
          "name": "stdout"
        }
      ]
    },
    {
      "cell_type": "code",
      "metadata": {
        "id": "Jv8KNIbcky7X",
        "colab": {
          "base_uri": "https://localhost:8080/",
          "height": 385
        },
        "outputId": "b8eb7d96-42b1-4269-eddb-43c3f7322f64"
      },
      "source": [
        "cm_model_RF = confusion_matrix(y_test, y_pred_model_RF)\n",
        "\n",
        "df_cm_model_RF = pd.DataFrame(cm_model_RF, range(3), range(3))\n",
        "plt.figure(figsize=(10,6))\n",
        "categories = ['Negative','Neutral','Positive']\n",
        "sns.set(font_scale=1.2) # for label size\n",
        "sns.heatmap(df_cm_model_RF, annot=True, annot_kws={\"size\": 18}, xticklabels = categories,\n",
        "            yticklabels = categories ,fmt=\"d\") # font size\n",
        "plt.ylim(0, 3)\n",
        "plt.show()"
      ],
      "execution_count": 92,
      "outputs": [
        {
          "output_type": "display_data",
          "data": {
            "image/png": "[encoded data removed]",
            "text/plain": [
              "<Figure size 720x432 with 2 Axes>"
            ]
          },
          "metadata": {
            "tags": []
          }
        }
      ]
    },
    {
      "cell_type": "code",
      "metadata": {
        "id": "DQyX1mAPky_I",
        "colab": {
          "base_uri": "https://localhost:8080/"
        },
        "outputId": "8b1ff393-98ff-4740-d971-1cb6eac321c0"
      },
      "source": [
        "classifier_NB = MultinomialNB()\n",
        "classifier_NB.fit(X_train, y_train)\n",
        "y_pred_NB = classifier_NB.predict(X_test)\n",
        "\n",
        "accuracy_score_NB = accuracy_score(y_test, y_pred_NB)\n",
        "precision_score_NB = precision_score(y_test, y_pred_NB , average = 'micro')\n",
        "recall_score_NB = recall_score(y_test, y_pred_NB, average = 'micro')\n",
        "f1_score_NB = f1_score(y_test, y_pred_NB, average = 'micro')\n",
        "print(\"Accuracy Score: \" , accuracy_score_NB)\n",
        "print(\"Precision Score: \" , precision_score_NB)\n",
        "print(\"Recall Score: \" , recall_score_NB)\n",
        "print(\"F1 Score: \" , f1_score_NB)"
      ],
      "execution_count": 93,
      "outputs": [
        {
          "output_type": "stream",
          "text": [
            "Accuracy Score:  0.46153846153846156\n",
            "Precision Score:  0.46153846153846156\n",
            "Recall Score:  0.46153846153846156\n",
            "F1 Score:  0.46153846153846156\n"
          ],
          "name": "stdout"
        }
      ]
    },
    {
      "cell_type": "code",
      "metadata": {
        "id": "9tg9p6S-kzDm",
        "colab": {
          "base_uri": "https://localhost:8080/",
          "height": 385
        },
        "outputId": "5f660fa3-9eff-4af5-baf9-4ad304904ad1"
      },
      "source": [
        "cm_NB = confusion_matrix(y_test, y_pred_NB)\n",
        "\n",
        "df_cm_NB = pd.DataFrame(cm_NB, range(3), range(3))\n",
        "plt.figure(figsize=(10,6))\n",
        "categories = ['Negative','Neutral','Positive']\n",
        "sns.set(font_scale=1.2) # for label size\n",
        "sns.heatmap(df_cm_NB, annot=True, annot_kws={\"size\": 18}, xticklabels = categories,\n",
        "            yticklabels = categories,fmt=\"d\") # font size\n",
        "plt.ylim(0, 3)\n",
        "plt.show()"
      ],
      "execution_count": 94,
      "outputs": [
        {
          "output_type": "display_data",
          "data": {
            "image/png": "[encoded data removed]",
            "text/plain": [
              "<Figure size 720x432 with 2 Axes>"
            ]
          },
          "metadata": {
            "tags": []
          }
        }
      ]
    },
    {
      "cell_type": "code",
      "metadata": {
        "id": "BTe09ktPkzKE",
        "colab": {
          "base_uri": "https://localhost:8080/"
        },
        "outputId": "ddf114ef-5bfb-4b79-8a26-ad9c38b93951"
      },
      "source": [
        "#Getting the parameters of the particular model \n",
        "classifier_NB.get_params().keys()"
      ],
      "execution_count": 95,
      "outputs": [
        {
          "output_type": "execute_result",
          "data": {
            "text/plain": [
              "dict_keys(['alpha', 'class_prior', 'fit_prior'])"
            ]
          },
          "metadata": {
            "tags": []
          },
          "execution_count": 95
        }
      ]
    },
    {
      "cell_type": "code",
      "metadata": {
        "id": "NrTKsiC6kzOQ",
        "colab": {
          "base_uri": "https://localhost:8080/"
        },
        "outputId": "fdfe511b-eb59-4250-bc5d-e41e0c1b0d3b"
      },
      "source": [
        "classifier_NB_opti = MultinomialNB() #Using the MultinomialNB\n",
        "param_grid = {'alpha':[1,2,3,4], } #Selecting the parameters\n",
        "\n",
        "classifier_model_NB = model_selection.GridSearchCV(estimator=classifier_NB_opti, #GridSearch\n",
        "                                    param_grid=param_grid,\n",
        "                                        cv=10)\n",
        "classifier_model_NB.fit(X_train,y_train)\n",
        "print(classifier_model_NB.best_score_) #Gives the best score of the model\n",
        "print(classifier_model_NB.best_estimator_.get_params()) #Gives the best parameters of the model"
      ],
      "execution_count": 96,
      "outputs": [
        {
          "output_type": "stream",
          "text": [
            "0.6333333333333333\n",
            "{'alpha': 2, 'class_prior': None, 'fit_prior': True}\n"
          ],
          "name": "stdout"
        }
      ]
    },
    {
      "cell_type": "code",
      "metadata": {
        "id": "2ypJAX2PkzR_",
        "colab": {
          "base_uri": "https://localhost:8080/"
        },
        "outputId": "13441ba8-961e-45f7-c82b-e81df3f96ddf"
      },
      "source": [
        "y_pred_model_NB = classifier_model_NB.predict(X_test)\n",
        "\n",
        "accuracy_score_model_NB = accuracy_score(y_test, y_pred_model_NB)\n",
        "precision_score_model_NB = precision_score(y_test, y_pred_model_NB , average = 'micro')\n",
        "recall_score_model_NB = recall_score(y_test, y_pred_model_NB , average = 'micro')\n",
        "f1_score_model_NB = f1_score(y_test, y_pred_model_NB, average = 'micro')\n",
        "print(\"Accuracy Score: \" , accuracy_score_model_NB)\n",
        "print(\"Precision Score: \" , precision_score_model_NB)\n",
        "print(\"Recall Score: \" , recall_score_model_NB)\n",
        "print(\"F1 Score: \" , f1_score_model_NB)"
      ],
      "execution_count": 97,
      "outputs": [
        {
          "output_type": "stream",
          "text": [
            "Accuracy Score:  0.5\n",
            "Precision Score:  0.5\n",
            "Recall Score:  0.5\n",
            "F1 Score:  0.5\n"
          ],
          "name": "stdout"
        }
      ]
    },
    {
      "cell_type": "code",
      "metadata": {
        "id": "ZBBcB7kVkzVo",
        "colab": {
          "base_uri": "https://localhost:8080/",
          "height": 385
        },
        "outputId": "35784bf2-f88b-45f0-beb9-4657e23b3792"
      },
      "source": [
        "cm_model_NB = confusion_matrix(y_test, y_pred_model_NB)\n",
        "\n",
        "df_cm_model_NB = pd.DataFrame(cm_model_NB, range(3), range(3))\n",
        "plt.figure(figsize=(10,6))\n",
        "categories = ['Negative','Neutral','Positive']\n",
        "sns.set(font_scale=1.2) # for label size\n",
        "sns.heatmap(df_cm_model_NB, annot=True, annot_kws={\"size\": 18}, xticklabels = categories,\n",
        "            yticklabels = categories ,fmt=\"d\") # font size\n",
        "plt.ylim(0, 3)\n",
        "plt.show()"
      ],
      "execution_count": 98,
      "outputs": [
        {
          "output_type": "display_data",
          "data": {
            "image/png": "[encoded data removed]",
            "text/plain": [
              "<Figure size 720x432 with 2 Axes>"
            ]
          },
          "metadata": {
            "tags": []
          }
        }
      ]
    },
    {
      "cell_type": "code",
      "metadata": {
        "id": "LI2iJixRkzZc",
        "colab": {
          "base_uri": "https://localhost:8080/",
          "height": 288
        },
        "outputId": "2bdcbc67-813c-40f7-fc46-911ef449d12e"
      },
      "source": [
        "Accuracy = [accuracy_score_RF, accuracy_score_DT, accuracy_score_model_NB]\n",
        "Methods = ['Random_Forest', 'Decision_Trees', 'Naive_Bayes']\n",
        "Accuracy_pos = np.arange(len(Methods))\n",
        "plt.bar(Accuracy_pos, Accuracy)\n",
        "plt.xticks(Accuracy_pos, Methods)\n",
        "plt.title('Comparing Accuracy Score')\n",
        "plt.show()"
      ],
      "execution_count": 99,
      "outputs": [
        {
          "output_type": "display_data",
          "data": {
            "image/png": "[encoded data removed]",
            "text/plain": [
              "<Figure size 432x288 with 1 Axes>"
            ]
          },
          "metadata": {
            "tags": []
          }
        }
      ]
    },
    {
      "cell_type": "code",
      "metadata": {
        "id": "M1bdj4N1kzkQ",
        "colab": {
          "base_uri": "https://localhost:8080/",
          "height": 288
        },
        "outputId": "800edcd5-0d4a-4fa0-e31c-513547048e6a"
      },
      "source": [
        "Precision = [precision_score_RF, precision_score_DT, precision_score_model_NB]\n",
        "Methods = ['Random_Forest', 'Decision_Trees', 'Naive_Bayes']\n",
        "Precision_pos = np.arange(len(Methods))\n",
        "plt.bar(Precision_pos, Precision)\n",
        "plt.xticks(Precision_pos, Methods)\n",
        "plt.title('Comparing Precision Score')\n",
        "plt.show()"
      ],
      "execution_count": 100,
      "outputs": [
        {
          "output_type": "display_data",
          "data": {
            "image/png": "[encoded data removed]",
            "text/plain": [
              "<Figure size 432x288 with 1 Axes>"
            ]
          },
          "metadata": {
            "tags": []
          }
        }
      ]
    },
    {
      "cell_type": "code",
      "metadata": {
        "id": "PSP5LN84kzec",
        "colab": {
          "base_uri": "https://localhost:8080/",
          "height": 288
        },
        "outputId": "d0cc8365-0c85-4e56-a541-32fe69d5f679"
      },
      "source": [
        "Recall = [recall_score_RF, recall_score_DT, recall_score_model_NB]\n",
        "Methods = ['Random_Forest', 'Decision_Trees', 'Naive_Bayes']\n",
        "Recall_pos = np.arange(len(Methods))\n",
        "plt.bar(Recall_pos, Recall)\n",
        "plt.xticks(Recall_pos, Methods)\n",
        "plt.title('Comparing Recall Score')\n",
        "plt.show()"
      ],
      "execution_count": 101,
      "outputs": [
        {
          "output_type": "display_data",
          "data": {
            "image/png": "[encoded data removed]",
            "text/plain": [
              "<Figure size 432x288 with 1 Axes>"
            ]
          },
          "metadata": {
            "tags": []
          }
        }
      ]
    },
    {
      "cell_type": "code",
      "metadata": {
        "id": "PFp_117WkzHO",
        "colab": {
          "base_uri": "https://localhost:8080/",
          "height": 288
        },
        "outputId": "6b022d2f-9a98-4256-f6a1-8e4337d86015"
      },
      "source": [
        "\n",
        "F1 = [f1_score_RF,f1_score_DT,f1_score_model_NB]\n",
        "Methods = ['Random_Forest', 'Decision_Trees', 'Naive_Bayes']\n",
        "F1_pos = np.arange(len(Methods))\n",
        "plt.bar(F1_pos, F1)\n",
        "plt.xticks(F1_pos, Methods)\n",
        "plt.title('Comparing F1 Score')\n",
        "plt.show()"
      ],
      "execution_count": 102,
      "outputs": [
        {
          "output_type": "display_data",
          "data": {
            "image/png": "[encoded data removed]",
            "text/plain": [
              "<Figure size 432x288 with 1 Axes>"
            ]
          },
          "metadata": {
            "tags": []
          }
        }
      ]
    }
  ]
}