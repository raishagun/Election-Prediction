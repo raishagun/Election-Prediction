{
  "nbformat": 4,
  "nbformat_minor": 0,
  "metadata": {
    "colab": {
      "name": "Welcome To Colaboratory",
      "provenance": [],
      "collapsed_sections": [],
      "toc_visible": true,
      "include_colab_link": true
    },
    "kernelspec": {
      "display_name": "Python 3",
      "name": "python3"
    }
  },
  "cells": [
    {
      "cell_type": "markdown",
      "metadata": {
        "id": "view-in-github",
        "colab_type": "text"
      },
      "source": [
        "<a href=\"https://colab.research.google.com/github/raishagun/Election-Prediction/blob/master/StatewisePolitics/Odisha/CongressOdisha.ipynb\" target=\"_parent\"><img src=\"https://colab.research.google.com/assets/colab-badge.svg\" alt=\"Open In Colab\"/></a>"
      ]
    },
    {
      "cell_type": "code",
      "metadata": {
        "id": "kVfRDc2GgRqk",
        "colab": {
          "base_uri": "https://localhost:8080/"
        },
        "outputId": "304f6dec-caf7-4ac2-f9ac-9249e59c00e0"
      },
      "source": [
        "!git clone https://github.com/raishagun/Election-Prediction.git"
      ],
      "execution_count": 1,
      "outputs": [
        {
          "output_type": "stream",
          "text": [
            "Cloning into 'Election-Prediction'...\n",
            "remote: Enumerating objects: 233, done.\u001b[K\n",
            "remote: Counting objects: 100% (233/233), done.\u001b[K\n",
            "remote: Compressing objects: 100% (227/227), done.\u001b[K\n",
            "remote: Total 648 (delta 108), reused 0 (delta 0), pack-reused 415\u001b[K\n",
            "Receiving objects: 100% (648/648), 32.28 MiB | 20.41 MiB/s, done.\n",
            "Resolving deltas: 100% (275/275), done.\n"
          ],
          "name": "stdout"
        }
      ]
    },
    {
      "cell_type": "code",
      "metadata": {
        "id": "MrUePyosg9GN",
        "colab": {
          "base_uri": "https://localhost:8080/"
        },
        "outputId": "7cc747df-8eb3-4b08-ec8a-055c9f20263b"
      },
      "source": [
        "import tweepy \n",
        "import pandas as pd\n",
        "from tweepy import OAuthHandler\n",
        "\n",
        "\n",
        "access_token=\"1289037463684489217-5PddOsmU9h5deRwOhdigvhg32FEgID\"\n",
        "access_token_secret=\"cAPevFduWkiNP3juu8WGAwZm69vgv8C4s8RPz0WE8MJFK\"\n",
        "\n",
        "consumer_key=\"DLhoHkK6uOGz3Ni9ybuoruiLm\"\n",
        "consumer_secret=\"jKyrDR68msnbmgZMNNJdSJwadGoed11imKV1jdlNYNczL9HvEk\"\n",
        "\n",
        "auth = tweepy.OAuthHandler(consumer_key, consumer_secret)  # authentication of access token and secret \n",
        "auth.set_access_token(access_token, access_token_secret) \n",
        "api = tweepy.API(auth,wait_on_rate_limit = True)\n",
        "\n",
        "\n",
        "date1 = \"2020-11-01\"  #Date from which you need to extract tweets\n",
        "date2 = \"2020-11-22\"  #Date till when you need to extract tweets\n",
        "\n",
        "date =[]\n",
        "user_id = []\n",
        "verified = []\n",
        "text = []\n",
        "user = []\n",
        "location = []\n",
        "source = []\n",
        "likes = []\n",
        "followers = []\n",
        "following = []\n",
        "retweets = []\n",
        "\n",
        "def get_tweets(date1,date2,word):\n",
        "    count = 0\n",
        "    for tweet in tweepy.Cursor(api.search , q=word,count =1000,lang=\"en\",since_id = date1,until = date2,tweet_mode = 'extended').items():\n",
        "        print(tweet.created_at)  #Date at which it was tweet\n",
        "        date.append(tweet.created_at)\n",
        "        print(tweet.id)          #Unique ID of tweet\n",
        "        user_id.append(tweet.id)\n",
        "        print(tweet.user.verified)   #If user who tweet is verified or not\n",
        "        verified.append(tweet.user.verified)\n",
        "        print(tweet.full_text)   #To get full text of the tweet\n",
        "        text.append(tweet.full_text)\n",
        "        print(tweet.user.screen_name)  #User screen name\n",
        "        user.append(tweet.user.screen_name)\n",
        "        print(tweet.user.location)     #Location from where the tweet came\n",
        "        location.append(tweet.user.location)\n",
        "        print(tweet.source)            #Which twitter application was used to tweet\n",
        "        source.append(tweet.source)\n",
        "        print(tweet.favorite_count)     #Number of likes on the tweet\n",
        "        likes.append(tweet.favorite_count)\n",
        "        print(tweet.user.followers_count)    #Number of followers of the user\n",
        "        followers.append(tweet.user.followers_count)\n",
        "        print(tweet.user.friends_count)      #Number of following by the user\n",
        "        following.append(tweet.user.friends_count)\n",
        "        print(tweet.retweet_count)               #Number of the retweets of the original tweet\n",
        "        retweets.append(tweet.retweet_count)\n",
        "    \n",
        "        print('<--------------------------------------------------->')\n",
        "        count+=1\n",
        "        print(count)\n",
        "    \n",
        "get_tweets(date1,date2,\"naveen patnaik\"+\" -filter:retweets\") #Filtering out retweets to avoid duplication\n",
        "\n",
        "data = list(zip(date,user_id,verified,text,user,location,source,likes,followers,following,retweets))\n",
        "df = pd.DataFrame(data =data, columns =[\"Date\",\"Tweet_id\",\"Verified\",\"Tweet\",\n",
        "                                   \"User\",\"Location\",\"Source\",\"Likes\",\"Followers\",\"Following\",\"Retweets\"])\n",
        "\n",
        "           \n",
        "df.to_csv('congress_odisha.csv',index = False)"
      ],
      "execution_count": 64,
      "outputs": [
        {
          "output_type": "stream",
          "text": [
            "2020-11-21 20:46:00\n",
            "1330251135064674304\n",
            "False\n",
            "@anand_mishra98 @PandaJay What after Naveen Patnaik? How long will he continue?\n",
            "Age must also support him. Energy is needed to run a state.\n",
            "GharWapasi_\n",
            "Banaras\n",
            "Twitter for Android\n",
            "1\n",
            "5301\n",
            "1098\n",
            "0\n",
            "<--------------------------------------------------->\n",
            "1\n",
            "2020-11-21 19:34:52\n",
            "1330233236069474306\n",
            "False\n",
            "Naveen Patnaik writes to Hemant Soren for early completion of Ichha dam \n",
            "https://t.co/vwTfwUnLXd\n",
            "SanjDeep7\n",
            "New Delhi-Daman \n",
            "LinkedIn\n",
            "0\n",
            "575\n",
            "8\n",
            "0\n",
            "<--------------------------------------------------->\n",
            "2\n",
            "2020-11-21 19:33:33\n",
            "1330232905885507585\n",
            "False\n",
            "Naveen Patnaik writes to Hemant Soren for early completion of Ichha dam \n",
            "https://t.co/203j0Csx5I\n",
            "TheGlobalRealty\n",
            "New Delhi, India\n",
            "Twitter Web App\n",
            "0\n",
            "96\n",
            "48\n",
            "0\n",
            "<--------------------------------------------------->\n",
            "3\n",
            "2020-11-21 19:22:30\n",
            "1330230124147593216\n",
            "False\n",
            "Naveen Patnaik writes to Hemant Soren for early completion of Ichha dam https://t.co/bhFZIvaZIZ\n",
            "SanjDeep7\n",
            "New Delhi-Daman \n",
            "LinkedIn\n",
            "0\n",
            "575\n",
            "8\n",
            "0\n",
            "<--------------------------------------------------->\n",
            "4\n",
            "2020-11-21 19:21:31\n",
            "1330229874284498945\n",
            "False\n",
            "Naveen Patnaik writes to Hemant Soren for early completion of Ichha dam \n",
            "https://t.co/PRUiNHAHn7\n",
            "NPM_Magazine\n",
            "India\n",
            "Twitter Web App\n",
            "0\n",
            "55\n",
            "220\n",
            "0\n",
            "<--------------------------------------------------->\n",
            "5\n",
            "2020-11-21 18:27:54\n",
            "1330216380688453634\n",
            "False\n",
            "OTV MD Jagi Mangat Panda seeks probe by a national agency on charges against the channel, alleges harassment with false cases by BJD govt https://t.co/lwLNBjYjkb via @OpIndia_com\n",
            "atr_sumana\n",
            "Bhopal, India\n",
            "Twitter Web App\n",
            "0\n",
            "82\n",
            "349\n",
            "0\n",
            "<--------------------------------------------------->\n",
            "6\n",
            "2020-11-21 18:26:13\n",
            "1330215959504818181\n",
            "False\n",
            "Naveen Patnaik seeks Hemant Soren’s cooperation for early completion of Ichha dam https://t.co/t0kFTxyCF8 via @timesofindia\n",
            "SujitBisoyiTOI\n",
            "Bhubaneswar/Berhampur\n",
            "Twitter Web App\n",
            "5\n",
            "6232\n",
            "650\n",
            "1\n",
            "<--------------------------------------------------->\n",
            "7\n",
            "2020-11-21 18:25:24\n",
            "1330215754365546507\n",
            "False\n",
            "Naveen Patnaik launches 11 online services of MSME Department under 5T initiative https://t.co/SmtRq2RvBF\n",
            "dev_discourse\n",
            "National Capital Region\n",
            "Devdiscourse News Desk\n",
            "1\n",
            "84645\n",
            "690\n",
            "0\n",
            "<--------------------------------------------------->\n",
            "8\n",
            "2020-11-21 18:09:28\n",
            "1330211742392180740\n",
            "False\n",
            "@ARanganathan72 @otvnews @JagiPanda @IndEditorsGuild Preposterous. Can Naveen Patnaik fall so low after fabricating his visits to flood affected areas. Shzneful and disgusting.\n",
            "Kalhan76012291\n",
            "California. \n",
            "Twitter for Android\n",
            "2\n",
            "150\n",
            "287\n",
            "0\n",
            "<--------------------------------------------------->\n",
            "9\n",
            "2020-11-21 18:05:16\n",
            "1330210688090984449\n",
            "False\n",
            "@ARanganathan72 @otvnews @JagiPanda Every sim has an end which Naveen patnaik and BJD must be going through. 20 yrs ruling on name of father which is 1/3 of human lifetime . No development even connecting roads are not there within Bhubaneswar city( damuna to gadakana which are core inside the cost nt outskirts)\n",
            "SwainBighneswar\n",
            "Florida, USA\n",
            "Twitter for iPhone\n",
            "7\n",
            "70\n",
            "1516\n",
            "0\n",
            "<--------------------------------------------------->\n",
            "10\n",
            "2020-11-21 17:57:40\n",
            "1330208773386940420\n",
            "False\n",
            "@CMO_Odisha  Sarpanch Ms Pilluku Guntha urged urgently CM Naveen Patnaik to have a dialogue with ap chief minister https://t.co/mVX8OyQ6iH\n",
            "Bidyachoudhury\n",
            "Koraput, India\n",
            "Twitter for Android\n",
            "0\n",
            "206\n",
            "434\n",
            "0\n",
            "<--------------------------------------------------->\n",
            "11\n",
            "2020-11-21 17:46:23\n",
            "1330205934598184960\n",
            "False\n",
            "@Gss_Views @PrashantKishor @ysjagan @Naveen_Odisha That's cent percent fact . They ain't  predictable  specially Naveen Patnaik lol\n",
            "Shyam1714\n",
            "Gurgaon, India\n",
            "Twitter for Android\n",
            "1\n",
            "113\n",
            "364\n",
            "0\n",
            "<--------------------------------------------------->\n",
            "12\n",
            "2020-11-21 17:20:19\n",
            "1330199373301551106\n",
            "False\n",
            "@JagiPanda @sardesairajdeep @vikramchandra @ARanganathan72 @ShekharGupta @soniandtv @sagarikaghose @aroonpurie @pratyasharath @UnSubtleDesi @rahulroushan @TimesNow @g_smita @thewire_in @AartiTikoo @chitraSD You have chosen the most hypocrite media personalities you could ever put your faith on. Wish you good luck if you think they'd raise their voice against Naveen Patnaik govt.\n",
            "Lutyens cabal.\n",
            "bagguji\n",
            "India\n",
            "Twitter for Android\n",
            "8\n",
            "465\n",
            "1625\n",
            "0\n",
            "<--------------------------------------------------->\n",
            "13\n",
            "2020-11-21 17:17:44\n",
            "1330198723629027330\n",
            "False\n",
            "OTV MD Jagi Mangat Panda seeks probe by a national agency on charges against the channel, alleges harassment with false cases by BJD govt https://t.co/UAIBhIGqX5 via @OpIndia_com\n",
            "chandana7\n",
            "\n",
            "Twitter Web App\n",
            "0\n",
            "74\n",
            "399\n",
            "0\n",
            "<--------------------------------------------------->\n",
            "14\n",
            "2020-11-21 17:06:40\n",
            "1330195939324289026\n",
            "False\n",
            "Odisha CM Naveen Patnaik launched 11 new online services of MSME Department developed under 5T initiative #Odisha #Bhubaneswar  https://t.co/CivQn24K6e\n",
            "Kalingatv\n",
            "Odisha, India\n",
            "Twitter Web App\n",
            "17\n",
            "90105\n",
            "179\n",
            "1\n",
            "<--------------------------------------------------->\n",
            "15\n",
            "2020-11-21 17:03:31\n",
            "1330195145434800137\n",
            "False\n",
            "The BJD’s resounding victory drives home the point that when regional parties define the narrative of politics based on local issues of people, the BJP’s polarising politics and narrative stand exposed and are proven to be hollow.  \n",
            "\n",
            "https://t.co/PDkSK8lBX9 via @thewire_in\n",
            "ppratishruti\n",
            "New Delhi\n",
            "Twitter Web App\n",
            "11\n",
            "480\n",
            "585\n",
            "0\n",
            "<--------------------------------------------------->\n",
            "16\n",
            "2020-11-21 16:49:51\n",
            "1330191708299124737\n",
            "False\n",
            "Deciphering BJD's Latest Win in a String of Resounding and Uninterrupted Successes. https://t.co/A1tcrArxUu\n",
            "Swagatsarangi07\n",
            "Balangir, India\n",
            "Twitter for Android\n",
            "2\n",
            "148\n",
            "601\n",
            "0\n",
            "<--------------------------------------------------->\n",
            "17\n",
            "2020-11-21 16:34:17\n",
            "1330187788847812611\n",
            "True\n",
            "Deciphering BJD's Latest Win in a String of Resounding and Uninterrupted Successes https://t.co/hWZU0fLfuO via @thewire_in\n",
            "svaradarajan\n",
            "New Delhi, India\n",
            "Twitter Web App\n",
            "65\n",
            "607469\n",
            "1127\n",
            "10\n",
            "<--------------------------------------------------->\n",
            "18\n",
            "2020-11-21 16:05:09\n",
            "1330180457833574409\n",
            "False\n",
            "I thought Naveen Patnaik was good allowing conversions and enjoying his CM privileges. When did he convert to penguins? https://t.co/dImgxtpxxn\n",
            "ClearThoughts9\n",
            "\n",
            "Twitter for iPhone\n",
            "1\n",
            "15\n",
            "123\n",
            "0\n",
            "<--------------------------------------------------->\n",
            "19\n",
            "2020-11-21 16:00:00\n",
            "1330179161135091712\n",
            "True\n",
            "OTV MD Jagi Mangat Panda seeks probe by a national agency on charges against the channel, alleges harassment with false cases by BJD govt\n",
            "\n",
            "https://t.co/Rs8SrnXR8B\n",
            "OpIndia_com\n",
            "New Delhi\n",
            "TweetDeck\n",
            "1128\n",
            "488384\n",
            "127\n",
            "285\n",
            "<--------------------------------------------------->\n",
            "20\n",
            "2020-11-21 15:59:59\n",
            "1330179157058351107\n",
            "False\n",
            "Odisha CM Naveen Patnaik launched 11 Online Services of MSME Department https://t.co/pfKlH6wRa6\n",
            "OdishaDiary\n",
            "Bhubaneswar\n",
            "WordPress.com\n",
            "0\n",
            "23048\n",
            "571\n",
            "0\n",
            "<--------------------------------------------------->\n",
            "21\n",
            "2020-11-21 15:20:12\n",
            "1330169146819174400\n",
            "True\n",
            "Naveen Patnaik seeks Hemant Soren’s cooperation for early completion of Ichha dam https://t.co/BzqROJuLpc\n",
            "TOICitiesNews\n",
            "\n",
            "cmssocialservice\n",
            "1\n",
            "21583\n",
            "96\n",
            "1\n",
            "<--------------------------------------------------->\n",
            "22\n",
            "2020-11-21 14:11:50\n",
            "1330151941201125378\n",
            "False\n",
            "@artofgiving_net It's absolutely a great initiative by our government under the able leadership of Sj. Naveen Patnaik sir. @artofgiving_net\n",
            "BinayPrasadDas3\n",
            "Cuttack, Odisha, India\n",
            "Twitter for Android\n",
            "1\n",
            "27\n",
            "274\n",
            "0\n",
            "<--------------------------------------------------->\n",
            "23\n",
            "2020-11-21 13:27:53\n",
            "1330140880251072521\n",
            "True\n",
            "Hon'ble CM Sri @Naveen_Odisha has requested Hon'ble @JharkhandCMO Sri Hemant Soren for early completion of the Iccha Dam which is being constructed on the Kharkai river, Jharkhand. CM Sri Patnaik expressed that early completion of the Dam will help the farmers of both the States. https://t.co/QJ23BE41RJ\n",
            "IPR_Odisha\n",
            "Bhubaneswar\n",
            "Twitter for Android\n",
            "135\n",
            "274111\n",
            "87\n",
            "4\n",
            "<--------------------------------------------------->\n",
            "24\n",
            "2020-11-21 13:08:17\n",
            "1330135949444079618\n",
            "True\n",
            "Targeted Because of CM Naveen Patnaik’s Personal Vendetta: #OTV MD\n",
            "\n",
            " https://t.co/9jh0XU0yuj\n",
            "otvnews\n",
            "Bhubaneswar, India\n",
            "Twitter Web App\n",
            "77\n",
            "595546\n",
            "276\n",
            "4\n",
            "<--------------------------------------------------->\n",
            "25\n",
            "2020-11-21 13:04:46\n",
            "1330135061992251396\n",
            "True\n",
            "OTV repeatedly targeted by #Odisha government because of CM Naveen Patnaik's personal vendetta.  \n",
            "\n",
            "- OTV MD Jagi Mangat Panda https://t.co/ew4UeuAWII\n",
            "otvnews\n",
            "Bhubaneswar, India\n",
            "Twitter Media Studio\n",
            "154\n",
            "595546\n",
            "276\n",
            "9\n",
            "<--------------------------------------------------->\n",
            "26\n",
            "2020-11-21 12:28:29\n",
            "1330125932150087681\n",
            "False\n",
            "CM wrote to Soren seeking cooperation for early completion of Ichha Dam &amp; for storing water up to Full Reservoir Level in Chandil Dam #Odisha #Jharkhand #Ichhadam https://t.co/SCugBp93Va\n",
            "Kalingatv\n",
            "Odisha, India\n",
            "Twitter Web App\n",
            "25\n",
            "90105\n",
            "179\n",
            "1\n",
            "<--------------------------------------------------->\n",
            "27\n",
            "2020-11-21 11:27:47\n",
            "1330110655475617804\n",
            "True\n",
            "These false cases run a gamut of criminal allegations to counter OTV's impeccable 23-year-long track record of ethics &amp; propriety. We vehemently deny these allegations &amp; assert these are orchestrated by BJD govt, due to CM Naveen Patnaik's personal vendetta against us: Jagi Panda\n",
            "otvnews\n",
            "Bhubaneswar, India\n",
            "Twitter Web App\n",
            "84\n",
            "595546\n",
            "276\n",
            "1\n",
            "<--------------------------------------------------->\n",
            "28\n",
            "2020-11-21 10:53:41\n",
            "1330102076303609866\n",
            "True\n",
            "#Odisha CM Naveen Patnaik seeks co-operation from his Jharkhand counterpart Hemant Soren for early completion of Ichha Dam for benefit of farmers of both the states and storage of water up to FRL in Chandil Dam in monsoon season for mitigation of flood in Odisha.\n",
            "otvnews\n",
            "Bhubaneswar, India\n",
            "Twitter Web App\n",
            "75\n",
            "595546\n",
            "276\n",
            "1\n",
            "<--------------------------------------------------->\n",
            "29\n",
            "2020-11-21 10:30:00\n",
            "1330096115987824640\n",
            "True\n",
            "An old image of Union Home Minister #AmitShah meeting West Bengal Chief Minister #MamataBanerjee at Odisha Chief Minister Naveen Patnaik's home has resurfaced with claims that the two met to discuss upcoming Bengal elections. #BOOMFactCheck #FakeNews\n",
            "\n",
            "https://t.co/YaD2GcT8LR\n",
            "boomlive_in\n",
            "Mumbai, India\n",
            "TweetDeck\n",
            "7\n",
            "63570\n",
            "1182\n",
            "2\n",
            "<--------------------------------------------------->\n",
            "30\n",
            "2020-11-21 10:05:24\n",
            "1330089924108939266\n",
            "False\n",
            "@Puri_Official @CMO_Odisha @MoSarkar5T @SecyChief @WorksDepartment AFTER VIEWING THE PROPOSED BEAUTIFICATION PLAN OF PURI WE R SURE PURI WILL SOON BE A GLOBAL TOURIST &amp;SPIRITUAL DESTINATION. THANKS TO SRI NAVEEN PATNAIK FOR IS MISSION &amp;VISION. @prahladspatel @PMOIndia\n",
            "jkmohantySWOSTI\n",
            "India,odisha,swostipremium\n",
            "Twitter for iPhone\n",
            "1\n",
            "1394\n",
            "1472\n",
            "0\n",
            "<--------------------------------------------------->\n",
            "31\n",
            "2020-11-21 10:03:06\n",
            "1330089346431651841\n",
            "False\n",
            "@CMO_Odisha Odisha under the leadership of Chief Minister Naveen Patnaik has spearheaded massive transformation drive in service delivery by introducing online services under 5T.\n",
            "goutam7309\n",
            "\n",
            "Twitter for Android\n",
            "0\n",
            "12\n",
            "314\n",
            "0\n",
            "<--------------------------------------------------->\n",
            "32\n",
            "2020-11-21 08:47:01\n",
            "1330070198171422724\n",
            "True\n",
            "Puri 'custodial' death: BJP members headed by party's national spokesperson Sambit Patra, MLA Jayant Sarangi, LB Mohapatra take out a rally from Gundicha temple to Collector's office, burn effigy of CM Naveen Patnaik #Odisha\n",
            "otvnews\n",
            "Bhubaneswar, India\n",
            "Twitter Web App\n",
            "329\n",
            "595546\n",
            "276\n",
            "30\n",
            "<--------------------------------------------------->\n",
            "33\n",
            "2020-11-21 05:32:53\n",
            "1330021344184975362\n",
            "False\n",
            "@dharmadispatch Naveen Patnaik cannot be absolved. He is presiding over a state where Christian conversions mafia has a free run . A CM without any feeling for local population virtually a foreigner in Indian body . History will not forgive him.\n",
            "srinij86\n",
            "\n",
            "Twitter for iPhone\n",
            "7\n",
            "16\n",
            "83\n",
            "0\n",
            "<--------------------------------------------------->\n",
            "34\n",
            "2020-11-21 05:10:01\n",
            "1330015588694052867\n",
            "True\n",
            "\"The BJD’s resounding victory drives home the point that when regional parties define the narrative of politics based on local issues of people, the BJP’s polarising politics and narrative stand exposed and are proven to be hollow,\" writes S.N. Sahu.\n",
            "\n",
            "https://t.co/Tlux9X66kd\n",
            "thewire_in\n",
            "\n",
            "Buffer\n",
            "98\n",
            "939231\n",
            "213\n",
            "18\n",
            "<--------------------------------------------------->\n",
            "35\n",
            "2020-11-21 04:50:21\n",
            "1330010639931109379\n",
            "False\n",
            "@kstweets_ Nothing much we can hope for, political vaccum the media was talking about after the passing aways of the heads of the dravidian outfits, has been filled spectacularly by EPS, post 2021 he will be in the league of Naveen Patnaik.\n",
            "literaryspirit2\n",
            "\n",
            "Twitter for Android\n",
            "0\n",
            "26\n",
            "1404\n",
            "0\n",
            "<--------------------------------------------------->\n",
            "36\n",
            "2020-11-21 04:21:08\n",
            "1330003285378416642\n",
            "False\n",
            "My article \n",
            "\n",
            "https://t.co/HeK2X3BYyV\n",
            "snsahu75\n",
            "\n",
            "Twitter for iPad\n",
            "0\n",
            "41\n",
            "180\n",
            "0\n",
            "<--------------------------------------------------->\n",
            "37\n",
            "2020-11-21 04:14:20\n",
            "1330001574123356160\n",
            "False\n",
            "@kstweets_ Absolutely... BJP didn't have to expose corruption of நிதிஷ் or Naveen Patnaik or Thackeray to grow in those states... You can have true allies and still grow and become a respectable equal size partner... That should என் the goal...\n",
            "gajamani\n",
            "Mysore, India\n",
            "Twitter for Android\n",
            "1\n",
            "1854\n",
            "368\n",
            "0\n",
            "<--------------------------------------------------->\n",
            "38\n",
            "2020-11-21 03:45:14\n",
            "1329994250788827136\n",
            "False\n",
            "Deciphering BJD's Latest Win in a String of Resounding and Uninterrupted Successes https://t.co/huAGhh7Wvt via @thewire_in\n",
            "AnilThakur_\n",
            "नयी दिल्ली, भारत\n",
            "Twitter for Android\n",
            "0\n",
            "3348\n",
            "104\n",
            "1\n",
            "<--------------------------------------------------->\n",
            "39\n",
            "2020-11-21 03:40:41\n",
            "1329993106519977984\n",
            "False\n",
            "@MoSarkar5T @CMO_Odisha @Puri_Official ODISHA HOTELIERS THANK SRI NAVEEN PATNAIK AFTER SEEING THE PROPOSED MASTER PLAN FOR BEAUTIFICATION OF PURI. YOUR  VISION WILL MAKE PURI AN INTERNATIONAL SPIRITUAL  AND TOURISM HUB. @WorksDepartment @@HUDDeptOdisha @vishaldevk @OdishaReporter\n",
            "jkmohantySWOSTI\n",
            "India,odisha,swostipremium\n",
            "Twitter for iPhone\n",
            "0\n",
            "1394\n",
            "1472\n",
            "0\n",
            "<--------------------------------------------------->\n",
            "40\n",
            "2020-11-21 03:36:45\n",
            "1329992117804957698\n",
            "False\n",
            "@mmohanty834 - I request to our CM Mr Naveen Patnaik to take steps devlop kendrapara. #Kendrapara\n",
            "mmohanty834\n",
            "kendrapara\n",
            "Twitter for Android\n",
            "1\n",
            "2\n",
            "28\n",
            "0\n",
            "<--------------------------------------------------->\n",
            "41\n",
            "2020-11-20 16:25:06\n",
            "1329823091598323712\n",
            "False\n",
            "@logicalindianz Mamata should have raised this issue at lunch hosted by co Brahman Naveen  Patnaik for herself amit Shah and Nitish Kumar\n",
            "amir19621962\n",
            "India\n",
            "Twitter for Android\n",
            "1\n",
            "67\n",
            "255\n",
            "0\n",
            "<--------------------------------------------------->\n",
            "42\n",
            "2020-11-20 16:23:56\n",
            "1329822797237866498\n",
            "False\n",
            "@kstweets_ Naveen patnaik of BJD took a beginning on this issue .\n",
            "AKR_india\n",
            "\n",
            "Twitter for Android\n",
            "0\n",
            "71\n",
            "2706\n",
            "0\n",
            "<--------------------------------------------------->\n",
            "43\n",
            "2020-11-20 16:13:27\n",
            "1329820160459325440\n",
            "True\n",
            "Thank you very much Hon’ble CM Sj Naveen Patnaik https://t.co/sghKHNxEIr\n",
            "debesh_bjd\n",
            "MLA,Chairman DPC Bargarh\n",
            "Twitter for iPhone\n",
            "75\n",
            "8657\n",
            "431\n",
            "9\n",
            "<--------------------------------------------------->\n",
            "44\n",
            "2020-11-20 15:16:14\n",
            "1329805759555670021\n",
            "False\n",
            "Good news, Sir,The dream of the people of the district which is going to be fulfilled. As soon as the work starts, I thank our Chief Minister Shri. Naveen Patnaik And Asit Tripathy sir🙏🙏 https://t.co/Ghd4KeVVVO\n",
            "RJagadalla\n",
            "Attabira, India\n",
            "Twitter for Android\n",
            "1\n",
            "99\n",
            "394\n",
            "0\n",
            "<--------------------------------------------------->\n",
            "45\n",
            "2020-11-20 14:27:09\n",
            "1329793407863046148\n",
            "False\n",
            "A photograph of Mamata Banerjee and Amit Shah dining at Naveen Patnaik's residence in February has been falsely shared as the political leaders having 'discussions' ahead of West Bengal elections. #AltNewsFactCheck | @stoic_annu \n",
            "\n",
            "https://t.co/750RtLdQss\n",
            "NirjhariSinha\n",
            "Ahmedabad\n",
            "Twitter for Android\n",
            "1\n",
            "13224\n",
            "914\n",
            "0\n",
            "<--------------------------------------------------->\n",
            "46\n",
            "2020-11-20 14:01:15\n",
            "1329786890325794816\n",
            "True\n",
            "A photograph of Mamata Banerjee and Amit Shah dining at Naveen Patnaik's residence in February has been falsely shared as the political leaders having 'discussions' ahead of West Bengal elections. #AltNewsFactCheck | @stoic_annu \n",
            "\n",
            "https://t.co/VaSu6CUlom\n",
            "AltNews\n",
            "\n",
            "Buffer\n",
            "86\n",
            "287183\n",
            "0\n",
            "9\n",
            "<--------------------------------------------------->\n",
            "47\n",
            "2020-11-20 14:01:14\n",
            "1329786883883343873\n",
            "False\n",
            "A photograph of Mamata Banerjee and Amit Shah dining at Naveen Patnaik's residence in February has been falsely shared as the political leaders having 'discussions' ahead of West Bengal elections. #AltNewsFactCheck | @stoic_annu \n",
            "\n",
            "https://t.co/H1Zbnbscty\n",
            "TruthOfGujarat\n",
            "\n",
            "Buffer\n",
            "0\n",
            "175939\n",
            "0\n",
            "0\n",
            "<--------------------------------------------------->\n",
            "48\n",
            "2020-11-20 14:00:16\n",
            "1329786642983489539\n",
            "True\n",
            "A photograph of Mamata Banerjee and Amit Shah dining at Naveen Patnaik's residence in February has been falsely shared as the political leaders having 'discussions' ahead of West Bengal elections. #AltNewsFactCheck | @stoic_annu \n",
            "\n",
            "https://t.co/kKBdvUKzQT\n",
            "zoo_bear\n",
            "India\n",
            "Buffer\n",
            "153\n",
            "160716\n",
            "2329\n",
            "22\n",
            "<--------------------------------------------------->\n",
            "49\n",
            "2020-11-20 14:00:12\n",
            "1329786623874174977\n",
            "True\n",
            "A photograph of Mamata Banerjee and Amit Shah dining at Naveen Patnaik's residence in February has been falsely shared as the political leaders having 'discussions' ahead of West Bengal elections. #AltNewsFactCheck | @stoic_annu \n",
            "\n",
            "https://t.co/lXskfyLaCS\n",
            "free_thinker\n",
            "Ahmedabad\n",
            "Buffer\n",
            "51\n",
            "287034\n",
            "5918\n",
            "3\n",
            "<--------------------------------------------------->\n",
            "50\n",
            "2020-11-20 13:44:15\n",
            "1329782609975463936\n",
            "False\n",
            "The cancer hospital at Bargarh, as announced by Chief Minister Naveen Patnaik have been fast tracked with Chief Secretary Asit Tripathy reviewing its progress at a high level meeting today\n",
            "https://t.co/Ew4tsl7eyj\n",
            "#Odisha #OdishaNews #OmmcomNews\n",
            "OmmcomNews\n",
            "Bhubaneshwar, India\n",
            "Twitter Web App\n",
            "0\n",
            "3499\n",
            "423\n",
            "0\n",
            "<--------------------------------------------------->\n",
            "51\n",
            "2020-11-20 09:56:27\n",
            "1329725284870832129\n",
            "False\n",
            "KCR once again pitches for Non-BJP, Non-Congress Front. 🤔😃🤔🤔\n",
            "\n",
            "It’s better for KCR to make a Family Front by including families of M. Karunanidhi. Uddhav Thackeray, Sharad Pawar, Chandra Babu Naidu, Naveen Patnaik, Mamata Banerjee, Mulayam Singh Yadav and Lalu Yadav.😂🥱😂🥱\n",
            "prashantp_2011\n",
            "India\n",
            "Twitter Web App\n",
            "9\n",
            "2532\n",
            "2347\n",
            "4\n",
            "<--------------------------------------------------->\n",
            "52\n",
            "2020-11-20 07:17:07\n",
            "1329685184648597507\n",
            "False\n",
            "@IPSVikatan Like: Naveen Patnaik , Amitshah and  Jayalalitha \n",
            "Dislike : To be honest my personal opinion  MK Stalin , Vaiko and Yogi Adityanath\n",
            "_Ramachandran_2\n",
            "Villupuram \n",
            "Twitter for Android\n",
            "1\n",
            "53\n",
            "138\n",
            "0\n",
            "<--------------------------------------------------->\n",
            "53\n",
            "2020-11-20 06:52:57\n",
            "1329679102886903808\n",
            "True\n",
            "Union Minister for Petroleum and Natural Gas @dpradhanbjp has requested Chief Minister @Naveen_Odisha to call an all party meeting to discuss border disputes with neighbouring states. https://t.co/ImVGXtQl1q via @NewIndianXpress\n",
            "XpressOdisha\n",
            "Bhubaneswar\n",
            "Twitter Web App\n",
            "1\n",
            "1775\n",
            "122\n",
            "0\n",
            "<--------------------------------------------------->\n",
            "54\n",
            "2020-11-20 06:15:53\n",
            "1329669775182737409\n",
            "False\n",
            "Chief Minister Naveen Patnaik said the students will continue to get the same amount of scholarship as they availed in the previous academic year #mba https://t.co/BfHVR7C0eQ https://t.co/5mB4V222eX\n",
            "m7admit\n",
            "Mumbai, India\n",
            "Cloohawk\n",
            "0\n",
            "116\n",
            "123\n",
            "0\n",
            "<--------------------------------------------------->\n",
            "55\n",
            "2020-11-20 05:37:50\n",
            "1329660200517734408\n",
            "True\n",
            "Winter session of Odisha Assembly begins amid Covid-19 restrictions. CM Naveen Patnaik joins from his residence office over videoconferencing https://t.co/G6c88qfUmv\n",
            "TOIBhubaneswar\n",
            "\n",
            "Twitter for Android\n",
            "1\n",
            "10803\n",
            "8\n",
            "0\n",
            "<--------------------------------------------------->\n",
            "56\n",
            "2020-11-20 05:20:08\n",
            "1329655746972188675\n",
            "True\n",
            "An old image of Union Home Minister #AmitShah meeting West Bengal Chief Minister #MamataBanerjee at Odisha Chief Minister Naveen Patnaik's home has resurfaced with claims that the two met to discuss upcoming Bengal elections. #BOOMFactCheck #FakeNews\n",
            "\n",
            "https://t.co/YaD2GcT8LR\n",
            "boomlive_in\n",
            "Mumbai, India\n",
            "Twitter Web App\n",
            "5\n",
            "63570\n",
            "1182\n",
            "4\n",
            "<--------------------------------------------------->\n",
            "57\n",
            "2020-11-20 03:37:21\n",
            "1329629880800079876\n",
            "False\n",
            "@TimesNow Hello KCR garu, pls don't get into Anti-NDA mode. Learn lessons from NCBN or Mamata Banerjee, you will soon become political scrap. Instead, Follow Naveen Patnaik... yr chair will be safe.\n",
            "@KTRTRS pls advise yr dad accordingly.\n",
            " @trspartyonline\n",
            "Anunknownindia1\n",
            "Bhagyanagar\n",
            "Twitter Web App\n",
            "5\n",
            "27\n",
            "77\n",
            "0\n",
            "<--------------------------------------------------->\n",
            "58\n",
            "2020-11-20 03:35:59\n",
            "1329629535503990784\n",
            "False\n",
            "When will be the wait to catch  a glimpse of the Aircraft that the legendary Biju Patnaik flew. Odiya should know more about the Brave heart. Waiting for the day. It will be a proud moment.@CMO_Odisha . Pls get it back. The tall man will smile from heaven. @Naveen_Odisha\n",
            "Swapnad77040070\n",
            "Bhubaneshwar, India\n",
            "Twitter for Android\n",
            "1\n",
            "32\n",
            "86\n",
            "0\n",
            "<--------------------------------------------------->\n",
            "59\n",
            "2020-11-19 22:30:00\n",
            "1329552534525022209\n",
            "True\n",
            "This comes a few months after a dispute along the Odisha-West Bengal border in Jaleswar block of Balasore district due to unilateral sand mining by the neighbouring state on the Subarnarekha river bed, said Pradhan, who hails from Odisha.\n",
            "\n",
            "https://t.co/ShDEIuHd59\n",
            "EconomicTimes\n",
            "\n",
            "TweetDeck\n",
            "1\n",
            "3770889\n",
            "43\n",
            "1\n",
            "<--------------------------------------------------->\n",
            "60\n",
            "2020-11-19 21:42:09\n",
            "1329540492309262342\n",
            "False\n",
            "Naveen Patnaik chairs BJD Legislative Party meeting ahead of winter session https://t.co/avs9sDn9kW\n",
            "INDdotNews\n",
            "\n",
            "WordPress.com\n",
            "0\n",
            "718\n",
            "0\n",
            "0\n",
            "<--------------------------------------------------->\n",
            "61\n",
            "2020-11-19 17:48:22\n",
            "1329481656999108609\n",
            "False\n",
            "@manickamtagore @manickamtagore's best dialogue ever 👌\n",
            "Any time Modi (ATM)- KCR, Naveen Patnaik &amp; Jagan\n",
            "\n",
            "KCR supported easy passage of all the bills by BJP, now wants to focus on ant BJP govt at centre playing an election gimmick\n",
            "asmatasleem11\n",
            "Hyderabad, India\n",
            "Twitter for Android\n",
            "33\n",
            "24934\n",
            "11995\n",
            "26\n",
            "<--------------------------------------------------->\n",
            "62\n",
            "2020-11-19 17:43:35\n",
            "1329480453473099776\n",
            "False\n",
            "Odisha CM And BJD Supremo Naveen Patnaik Asks Party MLAs To Attend Assembly Regularly\n",
            "@Naveen_Odisha @bjd_odisha @BJDITWing \n",
            "\n",
            "https://t.co/ZN5fqN0GCb\n",
            "odishanewslens\n",
            "\n",
            "Twitter Web App\n",
            "0\n",
            "154\n",
            "333\n",
            "0\n",
            "<--------------------------------------------------->\n",
            "63\n",
            "2020-11-19 17:11:55\n",
            "1329472487071961089\n",
            "False\n",
            "With the Winter Session of the Odisha Assembly to commence from Friday, Chief Minister Naveen Patnaik has asked all the members to attend the assembly regularly and participate in the proceedings.\n",
            "#Odisha #OmmcomNews https://t.co/L1hf9Mr425\n",
            "OmmcomNews\n",
            "Bhubaneshwar, India\n",
            "Twitter Web App\n",
            "0\n",
            "3499\n",
            "423\n",
            "0\n",
            "<--------------------------------------------------->\n",
            "64\n",
            "2020-11-19 17:07:18\n",
            "1329471325287563267\n",
            "False\n",
            "@MonreenMohanty1 @otvnews 😂😂 seriously Naveen Patnaik is worst just done nothing since yrs\n",
            "ManishP90463634\n",
            "\n",
            "Twitter for Android\n",
            "0\n",
            "1\n",
            "20\n",
            "0\n",
            "<--------------------------------------------------->\n",
            "65\n",
            "2020-11-19 14:05:55\n",
            "1329425676605087747\n",
            "False\n",
            "@mohan2975 @sagarikaghose We can see the way he has screwed up the economy. Even Amit Shah, Naveen Patnaik or may be even Kejriwal could have handled the economy better than him.\n",
            "Rajeshguptablog\n",
            "\n",
            "Twitter for Android\n",
            "0\n",
            "54\n",
            "603\n",
            "0\n",
            "<--------------------------------------------------->\n",
            "66\n",
            "2020-11-19 13:49:51\n",
            "1329421631312150528\n",
            "False\n",
            "At meeting people's enthusiastic among themselves to Hon'ble CM Naveen Patnaik ji.🙏💗. https://t.co/bxOVdKTVB3\n",
            "GaneshS62846322\n",
            "\n",
            "Twitter for Android\n",
            "1\n",
            "17\n",
            "72\n",
            "0\n",
            "<--------------------------------------------------->\n",
            "67\n",
            "2020-11-19 13:20:33\n",
            "1329414260808589314\n",
            "False\n",
            "Naveen Patnaik remains the shrewdest regional satrap in the country. He would never make this rookie mistake. https://t.co/BiScbVrK7e\n",
            "ajitdatta\n",
            "Pondicherry\n",
            "Twitter for Android\n",
            "392\n",
            "22145\n",
            "760\n",
            "20\n",
            "<--------------------------------------------------->\n",
            "68\n",
            "2020-11-19 12:28:50\n",
            "1329401245161771013\n",
            "False\n",
            "@achyuta_samanta It's absolutely a great news for all the people of our state of Odisha as far as ongoing COVID 19 pandemic is concern. It became possible only for our honourable Chief Minister Sj. Naveen Patnaik sir and his true vision to tackle the same at the earliest.@achyuta_samanta\n",
            "BinayPrasadDas3\n",
            "Cuttack, Odisha, India\n",
            "Twitter for Android\n",
            "0\n",
            "27\n",
            "274\n",
            "0\n",
            "<--------------------------------------------------->\n",
            "69\n",
            "2020-11-19 11:58:35\n",
            "1329393630566625283\n",
            "False\n",
            "Great news for BJP..\n",
            "\n",
            "TRS could have stayed in power for longer if they had adopted Naveen Patnaik's BJD model. But, this Mahaghatbandan approach is direct advantage for BJP https://t.co/3ACe339Ybc\n",
            "srivathsacm\n",
            "Batumi, Georgia\n",
            "Twitter for Android\n",
            "0\n",
            "763\n",
            "667\n",
            "0\n",
            "<--------------------------------------------------->\n",
            "70\n",
            "2020-11-19 11:06:03\n",
            "1329380411407966209\n",
            "False\n",
            "Odisha Chief Minister Naveen Patnaik on Wednesday said people above sixty years and pregnant women will get priority in COVID-19 vaccine distribution along with health workers in the state.\n",
            "\n",
            "#newsgram #Odisha #COVID19 #vaccine #Trending \n",
            "\n",
            "https://t.co/LXWPrHifPm\n",
            "newsgramDOTcom\n",
            "Chicago, IL\n",
            "Twitter Web App\n",
            "1\n",
            "1781\n",
            "43\n",
            "0\n",
            "<--------------------------------------------------->\n",
            "71\n",
            "2020-11-19 10:01:50\n",
            "1329364251027378178\n",
            "False\n",
            "Dharmendra Pradhan Urges Naveen Patnaik To Take Steps For Resolving Border Disputes With Neighbouring States https://t.co/fHDWvqrVe8\n",
            "News_Headlines_\n",
            "New Delhi, India\n",
            "WordPress.com\n",
            "0\n",
            "209\n",
            "238\n",
            "0\n",
            "<--------------------------------------------------->\n",
            "72\n",
            "2020-11-19 09:17:03\n",
            "1329352981007908866\n",
            "False\n",
            "Dharmendra Pradhan urges Naveen Patnaik to take steps for resolving border disputes with neighbouring states https://t.co/SK6LhoaLI9 https://t.co/VnbDuEaT8r\n",
            "mohan_sarthak\n",
            "\n",
            "dlvr.it\n",
            "0\n",
            "61\n",
            "102\n",
            "0\n",
            "<--------------------------------------------------->\n",
            "73\n",
            "2020-11-19 06:34:40\n",
            "1329312114108874755\n",
            "True\n",
            "Chief Minister @Naveen_Odisha on Wednesday announced that pregnant women, people above 60 years and frontline health workers will be given priority during #Covid vaccination in the state.\n",
            "inoculation.https://t.co/nup4Hp9hhH via @NewIndianXpress\n",
            "XpressOdisha\n",
            "Bhubaneswar\n",
            "Twitter Web App\n",
            "0\n",
            "1775\n",
            "122\n",
            "3\n",
            "<--------------------------------------------------->\n",
            "74\n",
            "2020-11-19 06:33:25\n",
            "1329311799355731968\n",
            "False\n",
            "This man is such a pedant! I wish, we had more politicians like him!\n",
            "\n",
            "Pregnant women, people above 60, health workers to get Covid vaccine on priority in Odisha: Naveen Patnaik\n",
            "\n",
            "https://t.co/AlCUbmT4SP\n",
            "roshantodi\n",
            "Bengaluru/Kolkata/Delhi/Patna\n",
            "Twitter Web App\n",
            "0\n",
            "361\n",
            "659\n",
            "0\n",
            "<--------------------------------------------------->\n",
            "75\n",
            "2020-11-19 06:03:06\n",
            "1329304172622069781\n",
            "False\n",
            "@Naveen_Odisha @CMO_Odisha @samirdash01 @SecyChief\n",
            "We request Hon'ble Chief Minister\n",
            "Sri Naveen Patnaik jee, to withdraw the closure of 15000 Govt. Schools, order to close all illegal private schools else we will go to all affected villages and oppose this illegal move of Govt. https://t.co/CBr3njyRii\n",
            "OamOdisha\n",
            "\n",
            "Twitter for Android\n",
            "3\n",
            "199\n",
            "625\n",
            "1\n",
            "<--------------------------------------------------->\n",
            "76\n",
            "2020-11-19 04:35:01\n",
            "1329282003884154881\n",
            "True\n",
            "Union Minister Dharmendra Pradhan writes to #Odisha CM Naveen Patnaik, seeks formation of a House Committee in State Assembly and also urges to convene an all-party meeting to discuss and resolve border disputes with neighbouring States.\n",
            "otvnews\n",
            "Bhubaneswar, India\n",
            "Twitter Web App\n",
            "259\n",
            "595546\n",
            "276\n",
            "5\n",
            "<--------------------------------------------------->\n",
            "77\n",
            "2020-11-19 03:57:17\n",
            "1329272507531218944\n",
            "False\n",
            "Union minister Dharmendra Pradhan writes to CM Naveen Patnaik seeking an all-party meeting on Odisha-Andhra border dispute https://t.co/CkOFGLT1Ri\n",
            "OdishaDiary\n",
            "Bhubaneswar\n",
            "WordPress.com\n",
            "0\n",
            "23048\n",
            "571\n",
            "0\n",
            "<--------------------------------------------------->\n",
            "78\n",
            "2020-11-19 03:47:53\n",
            "1329270142644092929\n",
            "True\n",
            "Union minister Dharmendra Pradhan writes to #Odisha CM Naveen Patnaik seeking an all-party meeting on Odisha-Andhra border dispute.\n",
            "TOIBhubaneswar\n",
            "\n",
            "Twitter for Android\n",
            "12\n",
            "10803\n",
            "8\n",
            "1\n",
            "<--------------------------------------------------->\n",
            "79\n",
            "2020-11-19 03:16:18\n",
            "1329262194198933505\n",
            "False\n",
            "Odisha Chief Minister Naveen Patnaik said pregnant women and people above 60 years, along with health workers, would be given priority for inoculation.\n",
            "vijaythakurx\n",
            "GREATER NOIDA\n",
            "Twitter Web App\n",
            "2\n",
            "500\n",
            "664\n",
            "0\n",
            "<--------------------------------------------------->\n",
            "80\n",
            "2020-11-19 02:24:11\n",
            "1329249078350290945\n",
            "True\n",
            "Odisha Chief Minister Naveen Patnaik said health workers, pregnant women and those above 60 years of age would get priority in coronavirus vaccine distribution.\n",
            "\n",
            "@rupashreenanda reports.\n",
            "\n",
            "https://t.co/9RcYfhDy1R\n",
            "news18dotcom\n",
            "India\n",
            "TweetDeck\n",
            "15\n",
            "149180\n",
            "181\n",
            "3\n",
            "<--------------------------------------------------->\n",
            "81\n",
            "2020-11-18 18:02:08\n",
            "1329122735776288770\n",
            "False\n",
            "Odisha CM Naveen Patnaik designates special hospital for frontline Covid-19 workers https://t.co/TQWveX1IMM\n",
            "INDdotNews\n",
            "\n",
            "WordPress.com\n",
            "0\n",
            "718\n",
            "0\n",
            "0\n",
            "<--------------------------------------------------->\n",
            "82\n",
            "2020-11-18 18:00:10\n",
            "1329122240684650499\n",
            "False\n",
            "@Naveen_Odisha The Legendary person  Respectively Naveen Patnaik sir Best CM In India 🙏🙏🙏🙏🙏\n",
            "ActorTejaswi\n",
            "Ghatikia, Bhubaneshwar\n",
            "Twitter for Android\n",
            "0\n",
            "0\n",
            "2\n",
            "0\n",
            "<--------------------------------------------------->\n",
            "83\n",
            "2020-11-18 17:24:05\n",
            "1329113158485729280\n",
            "True\n",
            "People above 60, pregnant women, health workers to get COVID-19 vaccine on priority in Odisha\n",
            "\n",
            "#Covid_19 #COVID19 #coronavirus #OdishaNews \n",
            "\n",
            "https://t.co/V617kZ5LtE\n",
            "indiatvnews\n",
            "India\n",
            "Twitter Web App\n",
            "29\n",
            "1468577\n",
            "42\n",
            "1\n",
            "<--------------------------------------------------->\n",
            "84\n",
            "2020-11-18 17:08:22\n",
            "1329109205031268352\n",
            "False\n",
            "Health workers, pregnant women, senior citizens to get priority during Covid vaccination: Odisha CM Naveen Patnaik https://t.co/afrZ33EejB\n",
            "OdishaDiary\n",
            "Bhubaneswar\n",
            "WordPress.com\n",
            "3\n",
            "23048\n",
            "571\n",
            "0\n",
            "<--------------------------------------------------->\n",
            "85\n",
            "2020-11-18 16:55:32\n",
            "1329105973894471680\n",
            "True\n",
            "#NMFactChecker | #FactCheck: Old picture of Shah, Mamata meeting Naveen Patnaik in Odisha falsely shared as recent one \n",
            "\n",
            "#NMFactChecker #NewsMobileFactCheck #NMFactCheck #FAKENews #FactCheck\n",
            "\n",
            "@factchecknet\n",
            "\n",
            "https://t.co/1s2ZQ53VZ3\n",
            "NewsMobileIndia\n",
            "India\n",
            "TweetDeck\n",
            "1\n",
            "15951\n",
            "92\n",
            "1\n",
            "<--------------------------------------------------->\n",
            "86\n",
            "2020-11-18 16:39:50\n",
            "1329102021786529792\n",
            "False\n",
            "@Naveen_Odisha @farddept @DmKalahandi @FisheriesGoI Many congratulations to @farddept &amp; @DmKalahandi #Odisha \n",
            "@Naveen_Odisha @Naveen #Patnaik\n",
            "DrAmit_Singh25\n",
            "Heidelberg, Germany,  Odisha\n",
            "Twitter Web App\n",
            "0\n",
            "19\n",
            "45\n",
            "0\n",
            "<--------------------------------------------------->\n",
            "87\n",
            "2020-11-18 16:36:40\n",
            "1329101226005258241\n",
            "True\n",
            "Odisha CM Naveen Patnaik said health workers, pregnant women and those above 60 years of age would get priority in coronavirus vaccine distribution.\n",
            "\n",
            "Reports @rupashreenanda\n",
            "\n",
            "https://t.co/9RcYfhDy1R\n",
            "news18dotcom\n",
            "India\n",
            "TweetDeck\n",
            "2\n",
            "149180\n",
            "181\n",
            "0\n",
            "<--------------------------------------------------->\n",
            "88\n",
            "2020-11-18 15:59:36\n",
            "1329091898644914176\n",
            "True\n",
            "Odisha CM Naveen Patnaik said health workers, pregnant women and persons above 65 years of age would get priority in coronavirus vaccine distribution.\n",
            "\n",
            "https://t.co/9RcYfhDy1R\n",
            "news18dotcom\n",
            "India\n",
            "TweetDeck\n",
            "2\n",
            "149180\n",
            "181\n",
            "1\n",
            "<--------------------------------------------------->\n",
            "89\n",
            "2020-11-18 15:54:00\n",
            "1329090488507371523\n",
            "True\n",
            "Hon'ble CM Sri Naveen Patnaik today said that people above sixty &amp; pregnant mothers will get priority in #COVID19 vaccine distribution along with health workers in Odisha. While reviewing Covid-19 situation with senior officials, CM announced this.\n",
            "#OdishaFightsCorona https://t.co/XHi0sA7BSe\n",
            "IPR_Odisha\n",
            "Bhubaneswar\n",
            "Twitter for Android\n",
            "227\n",
            "274111\n",
            "87\n",
            "17\n",
            "<--------------------------------------------------->\n",
            "90\n",
            "2020-11-18 15:24:28\n",
            "1329083054669787139\n",
            "False\n",
            "Pregnant mothers, people above 60 yrs to get priority in #COVID19 vaccine distribution: CM @Naveen_Odisha \n",
            "\n",
            "https://t.co/Xck34kvi1i\n",
            "PragativadiNews\n",
            "Bhubaneswar, India\n",
            "Twitter Web App\n",
            "1\n",
            "12722\n",
            "399\n",
            "1\n",
            "<--------------------------------------------------->\n",
            "91\n",
            "2020-11-18 15:14:40\n",
            "1329080591145320449\n",
            "False\n",
            "@Naveen_Odisha Whether it is disaster management or corona epidemic management, Odisha is showing the way to the country.\n",
            "Due to the Chief Minister Naveen Patnaik's visionary policy, Odisha is in a strong position to handel Covid Pandemic.\n",
            "dusta_pila\n",
            "\n",
            "Twitter for Android\n",
            "4\n",
            "21\n",
            "29\n",
            "0\n",
            "<--------------------------------------------------->\n",
            "92\n",
            "2020-11-18 15:13:20\n",
            "1329080255022211073\n",
            "False\n",
            "@Naveen_Odisha Naveen Patnaik Govrnment’s  Covid management  model and it’s result is  encouraging - Odisha is an example for the country in Covid Management due to Naveen's strong leadership and quick steps.Odisha is an example for the country in the management of corona pandemic\n",
            "Umesh91930549\n",
            "\n",
            "Twitter for Android\n",
            "5\n",
            "19\n",
            "39\n",
            "0\n",
            "<--------------------------------------------------->\n",
            "93\n",
            "2020-11-18 15:12:06\n",
            "1329079945428037634\n",
            "False\n",
            "@Naveen_Odisha Odisha is the best in covid management in India. The leadership of Chief Minister Naveen Patnaik is successfully managing COVID Pandemic in Odisha\n",
            "OdiaProud\n",
            "\n",
            "Twitter for Android\n",
            "4\n",
            "56\n",
            "134\n",
            "0\n",
            "<--------------------------------------------------->\n",
            "94\n",
            "2020-11-18 15:01:35\n",
            "1329077298885054468\n",
            "False\n",
            "Till the vaccine is ready, mask is the best prevention against COVID and we all must practice mask-wearing religiously, Chief Minister Naveen Patnaik said today.\n",
            "#Odisha #OdishaNews #OmmcomNews https://t.co/9jDjvz1aaO\n",
            "OmmcomNews\n",
            "Bhubaneshwar, India\n",
            "Twitter Web App\n",
            "0\n",
            "3499\n",
            "423\n",
            "0\n",
            "<--------------------------------------------------->\n",
            "95\n",
            "2020-11-18 14:58:36\n",
            "1329076547018395650\n",
            "False\n",
            "Chief Minister of Odisha Naveen Patnaik held a review meeting on COVID-19 situation in the state, today.\n",
            "\n",
            "\"People above 60 years and pregnant women will be given priority in vaccination along with the health workers in the state,\" he said in the meeting https://t.co/4y603LuPXT\n",
            "Indsamachar\n",
            "India\n",
            "Twitter for Android\n",
            "5\n",
            "17011\n",
            "0\n",
            "1\n",
            "<--------------------------------------------------->\n",
            "96\n",
            "2020-11-18 14:49:44\n",
            "1329074314130329601\n",
            "False\n",
            "#Telangana CM KCR has reached out to opposition leaders- Mamata Banerjee, MK Stalin, Naveen Patnaik, Akhilesh Yadav to take on the Modi govt and reverse BJP's 'anti-people policies'. A conclave is going to be organised in the 2nd week of december to chalk out a plan\n",
            "swastikadas95\n",
            "Hyderabad, India\n",
            "Twitter for Android\n",
            "2\n",
            "375\n",
            "712\n",
            "0\n",
            "<--------------------------------------------------->\n",
            "97\n",
            "2020-11-18 14:38:04\n",
            "1329071378524299268\n",
            "True\n",
            "Chief Minister of Odisha Naveen Patnaik held a review meeting on COVID-19 situation in the state, today.\n",
            "\n",
            "\"People above 60 years and pregnant women will be given priority in vaccination along with the health workers in the state,\" he said in the meeting https://t.co/TOYQKCpx9P\n",
            "ANI\n",
            "India\n",
            "Twitter Web App\n",
            "309\n",
            "4965855\n",
            "0\n",
            "16\n",
            "<--------------------------------------------------->\n",
            "98\n",
            "2020-11-18 14:30:40\n",
            "1329069519151669258\n",
            "False\n",
            "Sanjay that's like saying Naveen Patnaik tried to impress Mamta Banerjee by eating a rasagula https://t.co/wgq1kTBqzg\n",
            "akashbaghar\n",
            "Bhubaneshwar, India\n",
            "Twitter for Android\n",
            "42\n",
            "574\n",
            "1008\n",
            "3\n",
            "<--------------------------------------------------->\n",
            "99\n",
            "2020-11-18 13:42:16\n",
            "1329057335105372166\n",
            "True\n",
            "#BIG_BREAKING \n",
            "\n",
            "#Odisha Chief Minister Naveen Patnaik announces people above 60 years &amp; pregnant women along with health workers will be given priority for #Covid19 vaccination https://t.co/UB37u04yQ5\n",
            "otvnews\n",
            "Bhubaneswar, India\n",
            "Twitter Web App\n",
            "1286\n",
            "595546\n",
            "276\n",
            "61\n",
            "<--------------------------------------------------->\n",
            "100\n",
            "2020-11-18 13:31:43\n",
            "1329054680958201857\n",
            "False\n",
            "People above sixty and pregnant mothers will get priority  in vaccine distribution along with health workers in Odisha: CM Naveen Patnaik\n",
            "@Naveen_Odisha @CMO_Odisha \n",
            "#NandighoshaTV https://t.co/1js7YUZdAJ\n",
            "NandighoshaTV\n",
            "Bhubaneshwar, India\n",
            "Twitter Web App\n",
            "16\n",
            "35227\n",
            "248\n",
            "1\n",
            "<--------------------------------------------------->\n",
            "101\n",
            "2020-11-18 13:27:46\n",
            "1329053688040620033\n",
            "False\n",
            "People above 60 years and pregnant women along with health workers will get priority in #Covid vaccine distribution in #Odisha, says CM Naveen Patnaik\n",
            "AshokPradhanTOI\n",
            "Bhubaneswar, India\n",
            "Twitter Web App\n",
            "8\n",
            "5765\n",
            "601\n",
            "0\n",
            "<--------------------------------------------------->\n",
            "102\n",
            "2020-11-18 13:27:35\n",
            "1329053643748765701\n",
            "True\n",
            "People above 60 years and pregnant women along with health workers will get priority in #Covid vaccine distribution in #Odisha, says CM Naveen Patnaik\n",
            "TOIBhubaneswar\n",
            "\n",
            "Twitter Web App\n",
            "8\n",
            "10803\n",
            "8\n",
            "0\n",
            "<--------------------------------------------------->\n",
            "103\n",
            "2020-11-18 12:26:04\n",
            "1329038162048401409\n",
            "False\n",
            "@achyuta_samanta It's absolutely a great announcement by our government under the able leadership of Sj. Naveen Patnaik sir, honourable Chief Minister of Odisha to the waywarded  naxalites. @achyuta_samanta\n",
            "BinayPrasadDas3\n",
            "Cuttack, Odisha, India\n",
            "Twitter for Android\n",
            "0\n",
            "27\n",
            "274\n",
            "0\n",
            "<--------------------------------------------------->\n",
            "104\n",
            "2020-11-18 12:24:12\n",
            "1329037690277302273\n",
            "False\n",
            "@achyuta_samanta It's absolutely a proud moment for all the people of our state of Odisha that under our true leadership of Sj. Naveen Patnaik sir, honourable Chief Minister of Odisha we have been getting all sorts of better facilities gradually one after another. @achyuta_samanta\n",
            "BinayPrasadDas3\n",
            "Cuttack, Odisha, India\n",
            "Twitter for Android\n",
            "0\n",
            "27\n",
            "274\n",
            "0\n",
            "<--------------------------------------------------->\n",
            "105\n",
            "2020-11-18 12:13:19\n",
            "1329034952034271232\n",
            "False\n",
            "@achyuta_samanta It's absolutely a great initiative by our government under the able leadership of Sj. Naveen Patnaik sir, honourable Chief Minister of Odisha. @achyuta_samanta\n",
            "BinayPrasadDas3\n",
            "Cuttack, Odisha, India\n",
            "Twitter for Android\n",
            "0\n",
            "27\n",
            "274\n",
            "0\n",
            "<--------------------------------------------------->\n",
            "106\n",
            "2020-11-18 10:10:01\n",
            "1329003922174971905\n",
            "True\n",
            "Odisha’s state song ‘Bande Utkala Janani’ will be part of the school curriculum for students of Classes IX and X, an official said. A notification in this regard was issued on Friday after the proposal was approved by chief minister Naveen Patnaik.\n",
            "\n",
            "https://t.co/9BaT3adLoO\n",
            "thewire_in\n",
            "\n",
            "Buffer\n",
            "22\n",
            "939231\n",
            "213\n",
            "3\n",
            "<--------------------------------------------------->\n",
            "107\n",
            "2020-11-18 09:02:15\n",
            "1328986870601093126\n",
            "False\n",
            "How to fight a Maoist insurgency - Just give the people in the affected areas free smartphones. https://t.co/xst7x2q9ly\n",
            "Zarasophos\n",
            "\n",
            "Twitter Web App\n",
            "1\n",
            "181\n",
            "796\n",
            "0\n",
            "<--------------------------------------------------->\n",
            "108\n",
            "2020-11-18 06:51:56\n",
            "1328954074147008516\n",
            "True\n",
            "Naveen Patnaik announces Rs 115 cr to script turnaround of former Maoist-hotbed\n",
            "\n",
            "(reports @debabrata2008)\n",
            "\n",
            "https://t.co/lOWvlb3Rae https://t.co/0Y0urEKKN1\n",
            "htTweets\n",
            "India\n",
            "TweetDeck\n",
            "19\n",
            "7818563\n",
            "125\n",
            "0\n",
            "<--------------------------------------------------->\n",
            "109\n",
            "2020-11-18 06:50:46\n",
            "1328953778842832896\n",
            "True\n",
            "Naveen Patnaik announces Rs 115 cr to script turnaround of former Maoist-hotbed\n",
            "https://t.co/v3iMgvsDws\n",
            "HindustanTimes\n",
            "New Delhi, India\n",
            "ht-twitter-handler\n",
            "0\n",
            "27884\n",
            "12\n",
            "0\n",
            "<--------------------------------------------------->\n",
            "110\n",
            "2020-11-18 06:21:42\n",
            "1328946463636934656\n",
            "False\n",
            "@CMO_Odisha @IPR_Odisha NAVEEN PATNAIK INTERACTED LOCALS OF THE SWABHIMAN ANCHAL IN MALKANGIRI - Click to see also ☛  https://t.co/kTVxFcHB43\n",
            "orissabarta\n",
            "BEDA BIDYA,3rd Kalinga Nagar,,BERHAMPUR-760010,,Ganjam,Odisha\n",
            "Twitter Web App\n",
            "1\n",
            "509\n",
            "423\n",
            "0\n",
            "<--------------------------------------------------->\n",
            "111\n",
            "2020-11-18 03:12:56\n",
            "1328898961218830337\n",
            "False\n",
            "Biju started, J B followed, and Naveen Patnaik perfected the art of stealing. That is why , odisha is poor.\n",
            "#Odisha\n",
            "DurjyodhanDala1\n",
            "\n",
            "Twitter for Android\n",
            "1\n",
            "930\n",
            "3333\n",
            "0\n",
            "<--------------------------------------------------->\n",
            "112\n",
            "2020-11-18 02:48:47\n",
            "1328892884251119617\n",
            "False\n",
            "Why #smartphone? Give #employment @TOIBhubaneswar @sambad_odisha @SamajaThe\n",
            "https://t.co/nXIP9wfZ9D\n",
            "deepaktrek\n",
            "Bhubaneshwar, Odisha, India\n",
            "Twitter for Android\n",
            "0\n",
            "53\n",
            "116\n",
            "0\n",
            "<--------------------------------------------------->\n",
            "113\n",
            "2020-11-17 21:30:19\n",
            "1328812736336293888\n",
            "True\n",
            "Launching the scheme for free distribution of smartphones to all families of Swabhiman Anchal in Malkangiri district, Odisha CM Naveen Patnaik said efforts to make it a developed area of the state will continue.\n",
            "@XpressOdisha\n",
            "https://t.co/AZpNPJr7oS\n",
            "NewIndianXpress\n",
            "Chennai\n",
            "Buffer\n",
            "2\n",
            "457615\n",
            "553\n",
            "4\n",
            "<--------------------------------------------------->\n",
            "114\n",
            "2020-11-17 18:16:22\n",
            "1328763928562823170\n",
            "False\n",
            "Naveen Patnaik Announces Free Smartphones for All Households in Odisha's Naxal Hotbed https://t.co/iw94CtvGll\n",
            "Amanv88\n",
            "Allahabad, India\n",
            "IFTTT\n",
            "0\n",
            "22\n",
            "94\n",
            "0\n",
            "<--------------------------------------------------->\n",
            "115\n",
            "2020-11-17 16:17:23\n",
            "1328733983480311811\n",
            "False\n",
            "CM Naveen Patnaik announces free smartphones for all households in Naxal-affected Malkangiri district of #Odisha, says will strive to make it a developed area (PTI)\n",
            "\n",
            "• Hawk Eye\n",
            "Port Blair\n",
            "MrGladPortBlair\n",
            "Andaman Nicobar Islands, India\n",
            "Twitter for Android\n",
            "0\n",
            "1788\n",
            "194\n",
            "0\n",
            "<--------------------------------------------------->\n",
            "116\n",
            "2020-11-17 14:47:52\n",
            "1328711457291214848\n",
            "True\n",
            "Patnaik announces free smartphones for all households in Odisha's Naxal hotbed\n",
            "\n",
            "https://t.co/GztTAqp1eM https://t.co/MlnQBFCNtx\n",
            "livemint\n",
            "India\n",
            "TweetDeck\n",
            "42\n",
            "1929238\n",
            "118\n",
            "5\n",
            "<--------------------------------------------------->\n",
            "117\n",
            "2020-11-17 14:47:33\n",
            "1328711377339387905\n",
            "False\n",
            "@achyuta_samanta It's absolutely a great initiative by our government under the able leadership of Sj. Naveen Patnaik sir, honourable Chief Minister of Odisha. @achyuta_samanta\n",
            "Binaydashkiita1\n",
            "Tala Telenga Bazar, Cuttack\n",
            "Twitter Web App\n",
            "0\n",
            "37\n",
            "306\n",
            "0\n",
            "<--------------------------------------------------->\n",
            "118\n",
            "2020-11-17 14:43:54\n",
            "1328710458778370048\n",
            "True\n",
            "Odisha CM Naveen Patnaik said he wished to transform the Naxal hotbed in the 'cut-off area' of Odisha's Malkangiri district into one of the developed places of the state.\n",
            "\n",
            "https://t.co/5AUofMAk8a\n",
            "news18dotcom\n",
            "India\n",
            "TweetDeck\n",
            "2\n",
            "149180\n",
            "181\n",
            "0\n",
            "<--------------------------------------------------->\n",
            "119\n",
            "2020-11-17 14:31:04\n",
            "1328707230099591170\n",
            "True\n",
            "#Odisha Chief Minister @Naveen_Odisha Patnaik said #smartphones will be provided free of cost to all households in the region. \n",
            "\n",
            "@CMO_Odisha \n",
            "https://t.co/mZ983hIqmd\n",
            "Outlookindia\n",
            "New Delhi, India\n",
            "Twitter for Android\n",
            "1\n",
            "227104\n",
            "58\n",
            "1\n",
            "<--------------------------------------------------->\n",
            "120\n",
            "2020-11-17 14:14:42\n",
            "1328703112090009607\n",
            "True\n",
            "CM Naveen Patnaik announces free smartphones for all households in Naxal-affected Malkangiri district of #Odisha, says will strive to make it a developed area (PTI)\n",
            "TOIBhubaneswar\n",
            "\n",
            "TweetDeck\n",
            "14\n",
            "10803\n",
            "8\n",
            "2\n",
            "<--------------------------------------------------->\n",
            "121\n",
            "2020-11-17 14:13:53\n",
            "1328702903872208904\n",
            "False\n",
            "CM Naveen Patnaik announces free smartphones for all households in Naxal-affected Malkangiri district of #Odisha, says will strive to make it a developed area.\n",
            "tagnewsofficial\n",
            "Byculla, Mumbai\n",
            "Twitter for Android\n",
            "0\n",
            "61\n",
            "100\n",
            "0\n",
            "<--------------------------------------------------->\n",
            "122\n",
            "2020-11-17 14:10:05\n",
            "1328701950683013120\n",
            "True\n",
            "Naveen Patnaik is the longest-serving sitting CM in India.\n",
            "\n",
            "Take a look at other present CMs who have been serving for a long time. https://t.co/TuOhMQTs9l\n",
            "CNNnews18\n",
            "India\n",
            "Twitter Media Studio\n",
            "58\n",
            "4545147\n",
            "415\n",
            "10\n",
            "<--------------------------------------------------->\n",
            "123\n",
            "2020-11-17 14:07:19\n",
            "1328701253405134848\n",
            "True\n",
            "CM Naveen Patnaik announces free smartphones for all households in Naxal-affected Malkangiri district of #Odisha, says will strive to make it a developed area\n",
            "PTI_News\n",
            "New Delhi, India\n",
            "PTI_Tweets\n",
            "729\n",
            "3060131\n",
            "1\n",
            "36\n",
            "<--------------------------------------------------->\n",
            "124\n",
            "2020-11-17 13:35:39\n",
            "1328693284793937921\n",
            "False\n",
            "#Odisha Mining Corporation contributed Rs 20 crore to the Chief Minister's Relief Fund for Aahaar scheme. Chief Minister Naveen Patnaik appreciated the move\n",
            "Sambad_English\n",
            "Odisha\n",
            "TweetDeck\n",
            "4\n",
            "42113\n",
            "4\n",
            "0\n",
            "<--------------------------------------------------->\n",
            "125\n",
            "2020-11-17 13:19:49\n",
            "1328689298774757376\n",
            "False\n",
            "@CMO_Odisha CM Naveen Patnaik today interacted with the residents of “Swabhiman Anchal” in Malkangiri district over video conference and spoke at length of the winds of change in the district. Among other developmental programmes, Naveen launched mobile phone distribution programme.\n",
            "NarayanKailash2\n",
            "\n",
            "Twitter for Android\n",
            "2\n",
            "14\n",
            "20\n",
            "0\n",
            "<--------------------------------------------------->\n",
            "126\n",
            "2020-11-17 12:45:59\n",
            "1328680783502970880\n",
            "False\n",
            "@achyuta_samanta Definitely it's a great initiative by our government under the leadership of Sj. Naveen Patnaik sir, honourable Chief Minister of Odisha. @achyuta_samanta\n",
            "BinayPrasadDas3\n",
            "Cuttack, Odisha, India\n",
            "Twitter for Android\n",
            "2\n",
            "27\n",
            "274\n",
            "0\n",
            "<--------------------------------------------------->\n",
            "127\n",
            "2020-11-17 10:20:09\n",
            "1328644084924174337\n",
            "False\n",
            "@chitta_Bharat @BJP4India @JPNadda Yes! Naveen patnaik.  . Still naveen also doing very good job for public. .\n",
            "60dSLAj1pIA6mkw\n",
            "\n",
            "Twitter for Android\n",
            "0\n",
            "19\n",
            "72\n",
            "0\n",
            "<--------------------------------------------------->\n",
            "128\n",
            "2020-11-17 09:35:05\n",
            "1328632745036193792\n",
            "False\n",
            "Odisha CM Naveen Patnaik Interacts With People Of Swabhiman Anchal, Promises Free Smartphones\n",
            "#ChiefMinister #NaveenPatnaik #Odisha \n",
            "https://t.co/K27F7yvLaj\n",
            "Kalingatv\n",
            "Odisha, India\n",
            "Twitter Web App\n",
            "25\n",
            "90105\n",
            "179\n",
            "4\n",
            "<--------------------------------------------------->\n",
            "129\n",
            "2020-11-17 08:41:35\n",
            "1328619281068687360\n",
            "False\n",
            "CM Naveen Patnaik Remains Silent Over The Threatening And The Grabbing Of Land By Andhra Pradesh.\n",
            "#NirbhayGumaraKatha #OdishaPolitics #NavinDas #BJD #Odisha #AndhraPradesh \n",
            "https://t.co/MMVC0yiURb\n",
            "nirbhaytube\n",
            "\n",
            "Twitter Web App\n",
            "0\n",
            "14\n",
            "15\n",
            "0\n",
            "<--------------------------------------------------->\n",
            "130\n",
            "2020-11-17 08:02:15\n",
            "1328609380778983425\n",
            "False\n",
            "@CMO_Odisha @Naveen_Odisha Odisha Chief Minister Naveen Patnaik  spoke to the people of Swabhiman Anchala, erstwhile cutoff areas, in Malkangiri district and reiterated his commitment for rapid development in the region.\n",
            "JogeswarOdisha\n",
            "Nabarangapur, India\n",
            "Twitter for Android\n",
            "2\n",
            "18\n",
            "23\n",
            "0\n",
            "<--------------------------------------------------->\n",
            "131\n",
            "2020-11-17 07:26:28\n",
            "1328600376564719617\n",
            "False\n",
            "@RPTripathy @Naveen_Odisha @DRDO_India What Gandhi means to India is similar to  what Patnaik means to Odisha; to remain in power forever. I always ask myself if it is democracy why one person gets to rule for so long?! Sorry for diverging from the topic. Isn’t it boring to the same job for decades?\n",
            "sambit19\n",
            "Roblox\n",
            "Twitter for iPhone\n",
            "0\n",
            "263\n",
            "186\n",
            "0\n",
            "<--------------------------------------------------->\n",
            "132\n",
            "2020-11-17 07:13:26\n",
            "1328597097692721155\n",
            "False\n",
            "CM Shri Naveen Patnaik will interact with the people of Swabhiman Anchala of Malkangiri district and launch mobile phone distribution programme at 11:30 AM today. Watch it LIVE through our Twitter &amp; Facebook handles. https://t.co/48ukjyagVZ\n",
            "SANJAYK35706193\n",
            "\n",
            "Twitter for Android\n",
            "1\n",
            "4\n",
            "64\n",
            "0\n",
            "<--------------------------------------------------->\n",
            "133\n",
            "2020-11-17 06:50:39\n",
            "1328591360727904257\n",
            "False\n",
            "@BaluSreevidya naveen patnaik is the block for the growth of bjp in odisha\n",
            "Hari04849748\n",
            "\n",
            "Twitter for Android\n",
            "1\n",
            "494\n",
            "1201\n",
            "0\n",
            "<--------------------------------------------------->\n",
            "134\n",
            "2020-11-17 06:20:09\n",
            "1328583687198429184\n",
            "True\n",
            "#Odisha CM Naveen Patnaik interacts with the people of Swabhiman Anchal in #Malkangiri district; also launches mobile phone distribution programme.\n",
            "otvnews\n",
            "Bhubaneswar, India\n",
            "Twitter Web App\n",
            "57\n",
            "595546\n",
            "276\n",
            "2\n",
            "<--------------------------------------------------->\n",
            "135\n",
            "2020-11-17 03:25:45\n",
            "1328539797820850176\n",
            "False\n",
            "@India_Progress But after Naveen Patnaik they will also seek support from muslims..Though muslim % in odisha is still low, During recent concluded by election one of their minister abused Bjp in a muslim dominated area for vote\n",
            "soubhagyakuma14\n",
            "jajpur,odisha,🇮🇳🇮🇳🇮🇳😍😍\n",
            "Twitter for Android\n",
            "0\n",
            "115\n",
            "194\n",
            "0\n",
            "<--------------------------------------------------->\n",
            "136\n",
            "2020-11-17 02:32:16\n",
            "1328526337514979329\n",
            "False\n",
            "\"Out of sight is out of mind \"\n",
            "Once CM of Odisha Shree Naveen Patnaik ji took retirement from politics the people of odisha will bring an end to BJD !\n",
            "My forecasting never goes wrong  ! You may note down it !\n",
            "btripathybjp\n",
            "कोलकाता, /Bhadrak/ Basudevpur \n",
            "Twitter for Android\n",
            "1\n",
            "403\n",
            "1618\n",
            "0\n",
            "<--------------------------------------------------->\n",
            "137\n",
            "2020-11-16 18:26:06\n",
            "1328403991512772609\n",
            "False\n",
            "@chitraaum Take a look on this @chitraaum  naveen Patnaik Completed 20 years as the Chief minister\n",
            "MishraSpeak\n",
            "India\n",
            "Twitter for Android\n",
            "0\n",
            "49\n",
            "274\n",
            "0\n",
            "<--------------------------------------------------->\n",
            "138\n",
            "2020-11-16 17:07:50\n",
            "1328384294050381825\n",
            "False\n",
            "Naveen Patnaik Laughs Reading Your Last Sentence. https://t.co/e9cTt5apX7\n",
            "nobita_naanu\n",
            "Hampi, India\n",
            "Twitter for Android\n",
            "6\n",
            "94\n",
            "90\n",
            "1\n",
            "<--------------------------------------------------->\n",
            "139\n",
            "2020-11-16 15:27:28\n",
            "1328359036551524353\n",
            "False\n",
            "Still can't beat our CM @Naveen_Odisha Patnaik, #Odisha- 20 years 8 months\n",
            "\n",
            "Nitish Kumar takes oath as Bihar chief minister https://t.co/0oBanITRvT via @timesofindia\n",
            "Atmaprajnananda\n",
            "\n",
            "Twitter Web App\n",
            "2\n",
            "3132\n",
            "94\n",
            "1\n",
            "<--------------------------------------------------->\n",
            "140\n",
            "2020-11-16 14:53:01\n",
            "1328350365398417408\n",
            "False\n",
            "@sharmanagendar I am told Naveen Patnaik was also a similar situation first time when BJP and BJD won together. BJP has been keeping its promises (exception Mehbooba). Maya reneged on rotational CM and ditched BJP. BJP, SS recently was due to lack of clarity.\n",
            "ramanvk819\n",
            "\n",
            "Twitter Web App\n",
            "0\n",
            "352\n",
            "114\n",
            "0\n",
            "<--------------------------------------------------->\n",
            "141\n",
            "2020-11-16 14:14:08\n",
            "1328340582905778178\n",
            "False\n",
            "@pvsubramanyam Naveen Patnaik is in office since 2000.\n",
            "tarroks\n",
            "Mumbai\n",
            "Twitter for iPhone\n",
            "0\n",
            "159\n",
            "351\n",
            "0\n",
            "<--------------------------------------------------->\n",
            "142\n",
            "2020-11-16 12:48:17\n",
            "1328318976322011137\n",
            "False\n",
            "Congratulations \n",
            "@NitishKumar ji on being sworn in as the Chief Minister of #Bihar for fourth consecutive term. Wish you and the new government the very best: #Odisha CM Naveen Patnaik\n",
            "Sambad_English\n",
            "Odisha\n",
            "TweetDeck\n",
            "5\n",
            "42113\n",
            "4\n",
            "0\n",
            "<--------------------------------------------------->\n",
            "143\n",
            "2020-11-16 12:08:32\n",
            "1328308971657019398\n",
            "False\n",
            "Soon after the swearing-in ceremony of Nitish Kumar today, #Odisha Chief Minister Naveen Patnaik congratulated his Bihar counterpart and wished him and his new government all the best\n",
            "https://t.co/oBmhKOzX5T\n",
            "#OdishaNews #OmmcomNews\n",
            "OmmcomNews\n",
            "Bhubaneshwar, India\n",
            "Twitter Web App\n",
            "0\n",
            "3499\n",
            "423\n",
            "0\n",
            "<--------------------------------------------------->\n",
            "144\n",
            "2020-11-16 10:02:38\n",
            "1328277286806720512\n",
            "False\n",
            "Chief Minister of Odisha, Naveen Patnaik has launched #SechaSamadhan, a bilingual mobile application, to address the irrigation problems faced by farmers without them having to visit the offices concerned.\n",
            "ghar_info\n",
            "\n",
            "Twitter Web App\n",
            "0\n",
            "5\n",
            "12\n",
            "0\n",
            "<--------------------------------------------------->\n",
            "145\n",
            "2020-11-16 09:31:58\n",
            "1328269569631272962\n",
            "False\n",
            "On the occasion of #NationalPressDay, #Odisha Chief Minister Naveen Patnaik​ urged everyone to come together to the fourth pillar of democracy, i.e. the media, ‘free, fair and independent to speak the truth’\n",
            "#odisha #odishanews #ommcomnews\n",
            "https://t.co/ZUL8Fakd6w\n",
            "OmmcomNews\n",
            "Bhubaneshwar, India\n",
            "Twitter Web App\n",
            "0\n",
            "3499\n",
            "423\n",
            "0\n",
            "<--------------------------------------------------->\n",
            "146\n",
            "2020-11-16 09:15:42\n",
            "1328265476682616832\n",
            "True\n",
            "The mega drinking water project, sanctioned in 2015-16, was supposed to provide drinking water to 132 villages in Bhogarai. The project was inaugurated by Shri Naveen Patnaik in 2017. It was to be completed in 2019. But till date the project is incomplete. (1/2) https://t.co/TLkbJBOqn3\n",
            "NavjyotiPatnaik\n",
            "\n",
            "Twitter for Android\n",
            "13\n",
            "653\n",
            "32\n",
            "5\n",
            "<--------------------------------------------------->\n",
            "147\n",
            "2020-11-16 08:12:20\n",
            "1328249531796840449\n",
            "True\n",
            "Naveen Patnaik, Dharmendra Pradhan Wish Journalists On National Press Day\n",
            "\n",
            "#NationalPressDay\n",
            "https://t.co/B6cjgZ1ylT\n",
            "otvnews\n",
            "Bhubaneswar, India\n",
            "Twitter Web App\n",
            "43\n",
            "595546\n",
            "276\n",
            "0\n",
            "<--------------------------------------------------->\n",
            "148\n",
            "2020-11-16 04:52:35\n",
            "1328199262681776128\n",
            "False\n",
            "@Naveen_Odisha Honourable Chief Minister Mr. Naveen Patnaik addresses the media houses on the #NationalPressDay\n",
            "DeepikaBasu1\n",
            "\n",
            "TweetDeck\n",
            "0\n",
            "34\n",
            "23\n",
            "0\n",
            "<--------------------------------------------------->\n",
            "149\n",
            "2020-11-16 04:42:26\n",
            "1328196707566305282\n",
            "False\n",
            "@Naveen_Odisha Free and Fair Media is a backbone of our society. An independent media should always put citizens first and ask question on their behalf. Odisha has done that brilliantly under CM Naveen Patnaik @Naveen_Odisha @otvnews @NandighoshaTV @News18Odia @ZeeOdisha @Kalingatv\n",
            "pradyumanpal\n",
            "Orissa, India\n",
            "Twitter for Android\n",
            "0\n",
            "218\n",
            "110\n",
            "0\n",
            "<--------------------------------------------------->\n",
            "150\n",
            "2020-11-15 19:08:23\n",
            "1328052242889510914\n",
            "False\n",
            "Naveen Patnaik says government will look into Vedanta issue https://t.co/7GbJQEIFQk\n",
            "SanjDeep7\n",
            "New Delhi-Daman \n",
            "LinkedIn\n",
            "0\n",
            "575\n",
            "8\n",
            "0\n",
            "<--------------------------------------------------->\n",
            "151\n",
            "2020-11-15 19:07:17\n",
            "1328051965822046208\n",
            "False\n",
            "Naveen Patnaik says government will look into Vedanta issue \n",
            "https://t.co/0RWQH1qtgo\n",
            "BMirror\n",
            "New Delhi, India\n",
            "Twitter Web App\n",
            "0\n",
            "37\n",
            "48\n",
            "0\n",
            "<--------------------------------------------------->\n",
            "152\n",
            "2020-11-15 15:28:55\n",
            "1327997014202675201\n",
            "True\n",
            "Odisha Governor Ganeshi Lal and CM Naveen Patnaik mourned the death of iconic Bengali actor Soumitra Chatterjee and said that he will always be remembered for his stellar roles.\n",
            "\n",
            "@Naveen_Odisha #NaveenPatnaik #SoumitraChatterjee  \n",
            "\n",
            "https://t.co/HAicbmn1BV\n",
            "moneycontrolcom\n",
            "Mumbai\n",
            "Twitter Web App\n",
            "9\n",
            "963348\n",
            "294\n",
            "2\n",
            "<--------------------------------------------------->\n",
            "153\n"
          ],
          "name": "stdout"
        }
      ]
    },
    {
      "cell_type": "code",
      "metadata": {
        "id": "rnC_-x_vgzPB"
      },
      "source": [
        "import re\n",
        "import numpy as np\n",
        "\n",
        "import matplotlib.pyplot as plt\n",
        "import seaborn as sns\n",
        "\n",
        "import pandas as pd\n",
        "\n",
        "import datetime as dt\n",
        "from collections import Counter\n",
        "\n",
        "import nltk\n",
        "from nltk.tokenize import sent_tokenize\n",
        "from nltk.tokenize import TweetTokenizer\n",
        "from nltk.tokenize import word_tokenize\n",
        "from nltk.corpus import words\n",
        "from nltk.corpus import stopwords\n",
        "from nltk.stem import PorterStemmer\n",
        "from nltk.stem import WordNetLemmatizer"
      ],
      "execution_count": 65,
      "outputs": []
    },
    {
      "cell_type": "code",
      "metadata": {
        "id": "uuKwAeG2VKgp",
        "colab": {
          "base_uri": "https://localhost:8080/"
        },
        "outputId": "aff6035a-4233-4ab4-ba11-1cfff0ddddc3"
      },
      "source": [
        "df.info()"
      ],
      "execution_count": 66,
      "outputs": [
        {
          "output_type": "stream",
          "text": [
            "<class 'pandas.core.frame.DataFrame'>\n",
            "RangeIndex: 153 entries, 0 to 152\n",
            "Data columns (total 11 columns):\n",
            " #   Column     Non-Null Count  Dtype         \n",
            "---  ------     --------------  -----         \n",
            " 0   Date       153 non-null    datetime64[ns]\n",
            " 1   Tweet_id   153 non-null    int64         \n",
            " 2   Verified   153 non-null    bool          \n",
            " 3   Tweet      153 non-null    object        \n",
            " 4   User       153 non-null    object        \n",
            " 5   Location   153 non-null    object        \n",
            " 6   Source     153 non-null    object        \n",
            " 7   Likes      153 non-null    int64         \n",
            " 8   Followers  153 non-null    int64         \n",
            " 9   Following  153 non-null    int64         \n",
            " 10  Retweets   153 non-null    int64         \n",
            "dtypes: bool(1), datetime64[ns](1), int64(5), object(4)\n",
            "memory usage: 12.2+ KB\n"
          ],
          "name": "stdout"
        }
      ]
    },
    {
      "cell_type": "code",
      "metadata": {
        "id": "Yz9Mr_5bU3wO",
        "colab": {
          "base_uri": "https://localhost:8080/"
        },
        "outputId": "122fd988-5bdd-4467-9860-bdaa9db07c1c"
      },
      "source": [
        "df.shape"
      ],
      "execution_count": 67,
      "outputs": [
        {
          "output_type": "execute_result",
          "data": {
            "text/plain": [
              "(153, 11)"
            ]
          },
          "metadata": {
            "tags": []
          },
          "execution_count": 67
        }
      ]
    },
    {
      "cell_type": "code",
      "metadata": {
        "id": "U2TqiSlvU5AL"
      },
      "source": [
        "df['Date'] = df['Date'].apply(lambda x: dt.datetime.strptime(str(x),'%Y-%m-%d %H:%M:%S')) #Convert to date time format"
      ],
      "execution_count": 68,
      "outputs": []
    },
    {
      "cell_type": "code",
      "metadata": {
        "id": "iALZ0QjFX6iW",
        "colab": {
          "base_uri": "https://localhost:8080/"
        },
        "outputId": "da86da14-e2af-46b6-fab6-3f5dc8b2683f"
      },
      "source": [
        "df.dtypes"
      ],
      "execution_count": 69,
      "outputs": [
        {
          "output_type": "execute_result",
          "data": {
            "text/plain": [
              "Date         datetime64[ns]\n",
              "Tweet_id              int64\n",
              "Verified               bool\n",
              "Tweet                object\n",
              "User                 object\n",
              "Location             object\n",
              "Source               object\n",
              "Likes                 int64\n",
              "Followers             int64\n",
              "Following             int64\n",
              "Retweets              int64\n",
              "dtype: object"
            ]
          },
          "metadata": {
            "tags": []
          },
          "execution_count": 69
        }
      ]
    },
    {
      "cell_type": "code",
      "metadata": {
        "id": "QwBHDIQ7X-S-",
        "colab": {
          "base_uri": "https://localhost:8080/"
        },
        "outputId": "2a99f8f6-55cd-4c11-be10-8ce825464712"
      },
      "source": [
        "df.isnull().sum()"
      ],
      "execution_count": 70,
      "outputs": [
        {
          "output_type": "execute_result",
          "data": {
            "text/plain": [
              "Date         0\n",
              "Tweet_id     0\n",
              "Verified     0\n",
              "Tweet        0\n",
              "User         0\n",
              "Location     0\n",
              "Source       0\n",
              "Likes        0\n",
              "Followers    0\n",
              "Following    0\n",
              "Retweets     0\n",
              "dtype: int64"
            ]
          },
          "metadata": {
            "tags": []
          },
          "execution_count": 70
        }
      ]
    },
    {
      "cell_type": "code",
      "metadata": {
        "id": "PULuNP0EYKb8",
        "colab": {
          "base_uri": "https://localhost:8080/"
        },
        "outputId": "afbf31da-2374-4396-b6f8-97e9702a406e"
      },
      "source": [
        "df['Source'].value_counts()"
      ],
      "execution_count": 71,
      "outputs": [
        {
          "output_type": "execute_result",
          "data": {
            "text/plain": [
              "Twitter for Android       57\n",
              "Twitter Web App           48\n",
              "TweetDeck                 14\n",
              "Twitter for iPhone         8\n",
              "Buffer                     7\n",
              "WordPress.com              6\n",
              "LinkedIn                   3\n",
              "Twitter Media Studio       2\n",
              "ht-twitter-handler         1\n",
              "dlvr.it                    1\n",
              "Devdiscourse News Desk     1\n",
              "Cloohawk                   1\n",
              "IFTTT                      1\n",
              "PTI_Tweets                 1\n",
              "cmssocialservice           1\n",
              "Twitter for iPad           1\n",
              "Name: Source, dtype: int64"
            ]
          },
          "metadata": {
            "tags": []
          },
          "execution_count": 71
        }
      ]
    },
    {
      "cell_type": "code",
      "metadata": {
        "id": "L0yluKAMYUhm",
        "colab": {
          "base_uri": "https://localhost:8080/"
        },
        "outputId": "64d1e851-dcbc-40e1-c5c2-6523202426a3"
      },
      "source": [
        "df['Location'].nunique()"
      ],
      "execution_count": 72,
      "outputs": [
        {
          "output_type": "execute_result",
          "data": {
            "text/plain": [
              "52"
            ]
          },
          "metadata": {
            "tags": []
          },
          "execution_count": 72
        }
      ]
    },
    {
      "cell_type": "code",
      "metadata": {
        "id": "YaaScZPVYalK",
        "colab": {
          "base_uri": "https://localhost:8080/"
        },
        "outputId": "b789b892-33aa-4994-854a-856bb2d04d92"
      },
      "source": [
        "tweets_list = df['Tweet'].tolist()\n",
        "len(tweets_list)"
      ],
      "execution_count": 73,
      "outputs": [
        {
          "output_type": "execute_result",
          "data": {
            "text/plain": [
              "153"
            ]
          },
          "metadata": {
            "tags": []
          },
          "execution_count": 73
        }
      ]
    },
    {
      "cell_type": "code",
      "metadata": {
        "id": "ki_iXrJoYe8a",
        "colab": {
          "base_uri": "https://localhost:8080/"
        },
        "outputId": "a607cd5e-4a4c-441e-b7b9-3ecfad9f41dc"
      },
      "source": [
        "tweets_list_updated = set(tweets_list)\n",
        "len(tweets_list_updated)"
      ],
      "execution_count": 74,
      "outputs": [
        {
          "output_type": "execute_result",
          "data": {
            "text/plain": [
              "150"
            ]
          },
          "metadata": {
            "tags": []
          },
          "execution_count": 74
        }
      ]
    },
    {
      "cell_type": "code",
      "metadata": {
        "id": "4UT1yjfTYiLB",
        "colab": {
          "base_uri": "https://localhost:8080/"
        },
        "outputId": "efa63cdb-4353-40c5-c23b-42b9003a3b2e"
      },
      "source": [
        "tweets_list_updated  = list(tweets_list_updated)\n",
        "type(tweets_list_updated)"
      ],
      "execution_count": 75,
      "outputs": [
        {
          "output_type": "execute_result",
          "data": {
            "text/plain": [
              "list"
            ]
          },
          "metadata": {
            "tags": []
          },
          "execution_count": 75
        }
      ]
    },
    {
      "cell_type": "code",
      "metadata": {
        "id": "oOTJ2Z1IYl15",
        "colab": {
          "base_uri": "https://localhost:8080/"
        },
        "outputId": "b960f060-92ae-4f37-aebf-871cf0693e21"
      },
      "source": [
        "df['Tweet'].duplicated().sum()"
      ],
      "execution_count": 76,
      "outputs": [
        {
          "output_type": "execute_result",
          "data": {
            "text/plain": [
              "3"
            ]
          },
          "metadata": {
            "tags": []
          },
          "execution_count": 76
        }
      ]
    },
    {
      "cell_type": "code",
      "metadata": {
        "id": "iboT9Z8nYts6",
        "colab": {
          "base_uri": "https://localhost:8080/"
        },
        "outputId": "121c93af-b309-43e5-fb4f-05a677168cbb"
      },
      "source": [
        "df = df.drop_duplicates(subset = 'Tweet', keep = 'first',ignore_index = True)\n",
        "df.shape"
      ],
      "execution_count": 77,
      "outputs": [
        {
          "output_type": "execute_result",
          "data": {
            "text/plain": [
              "(150, 11)"
            ]
          },
          "metadata": {
            "tags": []
          },
          "execution_count": 77
        }
      ]
    },
    {
      "cell_type": "code",
      "metadata": {
        "id": "YtUW3NmsYw7L",
        "colab": {
          "base_uri": "https://localhost:8080/"
        },
        "outputId": "5c876eee-e1d7-448e-88df-7ad0ea5f33ab"
      },
      "source": [
        "df['Tweet'].duplicated().sum()"
      ],
      "execution_count": 78,
      "outputs": [
        {
          "output_type": "execute_result",
          "data": {
            "text/plain": [
              "0"
            ]
          },
          "metadata": {
            "tags": []
          },
          "execution_count": 78
        }
      ]
    },
    {
      "cell_type": "code",
      "metadata": {
        "id": "87iWarvlY1GV"
      },
      "source": [
        "def remove_emoji(tweet):\n",
        "    emoji_pattern = re.compile(\"[\"\n",
        "            u\"\\U0001F600-\\U0001F64F\"  # emoticons\n",
        "            u\"\\U0001F300-\\U0001F5FF\"  # symbols & pictographs\n",
        "            u\"\\U0001F680-\\U0001F6FF\"  # transport & map symbols\n",
        "            u\"\\U0001F1E0-\\U0001F1FF\"  # flags (iOS)\n",
        "                               \"]+\", flags=re.UNICODE)\n",
        "    return emoji_pattern.sub(r'', tweet)\n",
        "\n",
        "df['Processed_Tweet']=df.Tweet.apply(remove_emoji)"
      ],
      "execution_count": 79,
      "outputs": []
    },
    {
      "cell_type": "code",
      "metadata": {
        "id": "ufbUsSdyY8ZL",
        "colab": {
          "base_uri": "https://localhost:8080/"
        },
        "outputId": "1d3a8165-4d96-42e8-ed1b-f41ee3ca9230"
      },
      "source": [
        "count=0\n",
        "for i in df['Processed_Tweet']:\n",
        "    if re.match(r'^RT', i):  #remove any rows that contain RT\n",
        "        df.drop(df.loc[df['Processed_Tweet']==i].index,inplace = True)\n",
        "        count+=1\n",
        "    \n",
        "count"
      ],
      "execution_count": 80,
      "outputs": [
        {
          "output_type": "execute_result",
          "data": {
            "text/plain": [
              "0"
            ]
          },
          "metadata": {
            "tags": []
          },
          "execution_count": 80
        }
      ]
    },
    {
      "cell_type": "code",
      "metadata": {
        "id": "5xlJXmV2ZBEw",
        "colab": {
          "base_uri": "https://localhost:8080/"
        },
        "outputId": "025e69f0-f798-4df3-e7b2-fb10fb70a927"
      },
      "source": [
        "df.shape"
      ],
      "execution_count": 81,
      "outputs": [
        {
          "output_type": "execute_result",
          "data": {
            "text/plain": [
              "(150, 12)"
            ]
          },
          "metadata": {
            "tags": []
          },
          "execution_count": 81
        }
      ]
    },
    {
      "cell_type": "code",
      "metadata": {
        "id": "8dR-gpRYZGhr",
        "colab": {
          "base_uri": "https://localhost:8080/"
        },
        "outputId": "218e2cc3-a9ae-45e9-e655-3d084a8f2334"
      },
      "source": [
        "df['Processed_Tweet']"
      ],
      "execution_count": 82,
      "outputs": [
        {
          "output_type": "execute_result",
          "data": {
            "text/plain": [
              "0      @anand_mishra98 @PandaJay What after Naveen Pa...\n",
              "1      Naveen Patnaik writes to Hemant Soren for earl...\n",
              "2      Naveen Patnaik writes to Hemant Soren for earl...\n",
              "3      Naveen Patnaik writes to Hemant Soren for earl...\n",
              "4      Naveen Patnaik writes to Hemant Soren for earl...\n",
              "                             ...                        \n",
              "145    @Naveen_Odisha Honourable Chief Minister Mr. N...\n",
              "146    @Naveen_Odisha Free and Fair Media is a backbo...\n",
              "147    Naveen Patnaik says government will look into ...\n",
              "148    Naveen Patnaik says government will look into ...\n",
              "149    Odisha Governor Ganeshi Lal and CM Naveen Patn...\n",
              "Name: Processed_Tweet, Length: 150, dtype: object"
            ]
          },
          "metadata": {
            "tags": []
          },
          "execution_count": 82
        }
      ]
    },
    {
      "cell_type": "code",
      "metadata": {
        "id": "K5CezelDZKDa",
        "colab": {
          "base_uri": "https://localhost:8080/"
        },
        "outputId": "d8f30d42-5df3-411e-d4ea-085b486f245e"
      },
      "source": [
        "df['Processed_Tweet'] = [re.sub('^RT[\\s]','',i) for i in df['Processed_Tweet']]  #Remove RT substring\n",
        "df['Processed_Tweet']"
      ],
      "execution_count": 83,
      "outputs": [
        {
          "output_type": "execute_result",
          "data": {
            "text/plain": [
              "0      @anand_mishra98 @PandaJay What after Naveen Pa...\n",
              "1      Naveen Patnaik writes to Hemant Soren for earl...\n",
              "2      Naveen Patnaik writes to Hemant Soren for earl...\n",
              "3      Naveen Patnaik writes to Hemant Soren for earl...\n",
              "4      Naveen Patnaik writes to Hemant Soren for earl...\n",
              "                             ...                        \n",
              "145    @Naveen_Odisha Honourable Chief Minister Mr. N...\n",
              "146    @Naveen_Odisha Free and Fair Media is a backbo...\n",
              "147    Naveen Patnaik says government will look into ...\n",
              "148    Naveen Patnaik says government will look into ...\n",
              "149    Odisha Governor Ganeshi Lal and CM Naveen Patn...\n",
              "Name: Processed_Tweet, Length: 150, dtype: object"
            ]
          },
          "metadata": {
            "tags": []
          },
          "execution_count": 83
        }
      ]
    },
    {
      "cell_type": "code",
      "metadata": {
        "id": "gjiyro27ZOx_",
        "colab": {
          "base_uri": "https://localhost:8080/"
        },
        "outputId": "367259f3-5c3a-41fd-803c-9551268b88eb"
      },
      "source": [
        "df['Processed_Tweet'] = [re.sub('@[^\\s]+', ' ', i) for i in df['Processed_Tweet']] #remove usernames\n",
        "df['Processed_Tweet']"
      ],
      "execution_count": 85,
      "outputs": [
        {
          "output_type": "execute_result",
          "data": {
            "text/plain": [
              "0          What after Naveen Patnaik? How long will h...\n",
              "1      Naveen Patnaik writes to Hemant Soren for earl...\n",
              "2      Naveen Patnaik writes to Hemant Soren for earl...\n",
              "3      Naveen Patnaik writes to Hemant Soren for earl...\n",
              "4      Naveen Patnaik writes to Hemant Soren for earl...\n",
              "                             ...                        \n",
              "145      Honourable Chief Minister Mr. Naveen Patnaik...\n",
              "146      Free and Fair Media is a backbone of our soc...\n",
              "147    Naveen Patnaik says government will look into ...\n",
              "148    Naveen Patnaik says government will look into ...\n",
              "149    Odisha Governor Ganeshi Lal and CM Naveen Patn...\n",
              "Name: Processed_Tweet, Length: 150, dtype: object"
            ]
          },
          "metadata": {
            "tags": []
          },
          "execution_count": 85
        }
      ]
    },
    {
      "cell_type": "code",
      "metadata": {
        "id": "HedkRzD1ZS4Q",
        "colab": {
          "base_uri": "https://localhost:8080/"
        },
        "outputId": "d686f652-eb39-462e-fc0f-b5a45b8dcb11"
      },
      "source": [
        "df['Processed_Tweet'] = [re.sub('((www\\.[^\\s]+)|(https?://[^\\s]+))', '', i) for i in df['Processed_Tweet']] #Remove urls\n",
        "df['Processed_Tweet']"
      ],
      "execution_count": 86,
      "outputs": [
        {
          "output_type": "execute_result",
          "data": {
            "text/plain": [
              "0          What after Naveen Patnaik? How long will h...\n",
              "1      Naveen Patnaik writes to Hemant Soren for earl...\n",
              "2      Naveen Patnaik writes to Hemant Soren for earl...\n",
              "3      Naveen Patnaik writes to Hemant Soren for earl...\n",
              "4      Naveen Patnaik writes to Hemant Soren for earl...\n",
              "                             ...                        \n",
              "145      Honourable Chief Minister Mr. Naveen Patnaik...\n",
              "146      Free and Fair Media is a backbone of our soc...\n",
              "147    Naveen Patnaik says government will look into ...\n",
              "148    Naveen Patnaik says government will look into ...\n",
              "149    Odisha Governor Ganeshi Lal and CM Naveen Patn...\n",
              "Name: Processed_Tweet, Length: 150, dtype: object"
            ]
          },
          "metadata": {
            "tags": []
          },
          "execution_count": 86
        }
      ]
    },
    {
      "cell_type": "code",
      "metadata": {
        "id": "EmDOOVqcZXb0",
        "colab": {
          "base_uri": "https://localhost:8080/"
        },
        "outputId": "67e19372-0bbc-4511-9f6e-cd7974286395"
      },
      "source": [
        "df['Processed_Tweet'] = [re.sub(r'#([^\\s]+)', r'\\1', i) for i in df['Processed_Tweet']] # remove the # in #hashtag\n",
        "df['Processed_Tweet']"
      ],
      "execution_count": 87,
      "outputs": [
        {
          "output_type": "execute_result",
          "data": {
            "text/plain": [
              "0          What after Naveen Patnaik? How long will h...\n",
              "1      Naveen Patnaik writes to Hemant Soren for earl...\n",
              "2      Naveen Patnaik writes to Hemant Soren for earl...\n",
              "3      Naveen Patnaik writes to Hemant Soren for earl...\n",
              "4      Naveen Patnaik writes to Hemant Soren for earl...\n",
              "                             ...                        \n",
              "145      Honourable Chief Minister Mr. Naveen Patnaik...\n",
              "146      Free and Fair Media is a backbone of our soc...\n",
              "147    Naveen Patnaik says government will look into ...\n",
              "148    Naveen Patnaik says government will look into ...\n",
              "149    Odisha Governor Ganeshi Lal and CM Naveen Patn...\n",
              "Name: Processed_Tweet, Length: 150, dtype: object"
            ]
          },
          "metadata": {
            "tags": []
          },
          "execution_count": 87
        }
      ]
    },
    {
      "cell_type": "code",
      "metadata": {
        "id": "GSXJD-U6ZhW1",
        "colab": {
          "base_uri": "https://localhost:8080/"
        },
        "outputId": "940c33a5-b251-4682-b02c-7d2020d7e395"
      },
      "source": [
        "!pip install tweet-preprocessor"
      ],
      "execution_count": 88,
      "outputs": [
        {
          "output_type": "stream",
          "text": [
            "Requirement already satisfied: tweet-preprocessor in /usr/local/lib/python3.6/dist-packages (0.6.0)\n"
          ],
          "name": "stdout"
        }
      ]
    },
    {
      "cell_type": "code",
      "metadata": {
        "id": "S-GqeFH8ZcYI",
        "colab": {
          "base_uri": "https://localhost:8080/"
        },
        "outputId": "9d5316a2-7e47-4b40-a493-a79e5ec3b744"
      },
      "source": [
        "import preprocessor as p #Module for faster preprocessing specifically for tweets\n",
        "df['Processed_Tweet'] = [p.clean(i) for i in df['Processed_Tweet']]\n",
        "df['Processed_Tweet']"
      ],
      "execution_count": 89,
      "outputs": [
        {
          "output_type": "execute_result",
          "data": {
            "text/plain": [
              "0      What after Naveen Patnaik? How long will he co...\n",
              "1      Naveen Patnaik writes to Hemant Soren for earl...\n",
              "2      Naveen Patnaik writes to Hemant Soren for earl...\n",
              "3      Naveen Patnaik writes to Hemant Soren for earl...\n",
              "4      Naveen Patnaik writes to Hemant Soren for earl...\n",
              "                             ...                        \n",
              "145    Honourable Chief Minister Mr. Naveen Patnaik a...\n",
              "146    Free and Fair Media is a backbone of our socie...\n",
              "147    Naveen Patnaik says government will look into ...\n",
              "148    Naveen Patnaik says government will look into ...\n",
              "149    Odisha Governor Ganeshi Lal and CM Naveen Patn...\n",
              "Name: Processed_Tweet, Length: 150, dtype: object"
            ]
          },
          "metadata": {
            "tags": []
          },
          "execution_count": 89
        }
      ]
    },
    {
      "cell_type": "code",
      "metadata": {
        "id": "T0_7jWfXZo2E",
        "colab": {
          "base_uri": "https://localhost:8080/"
        },
        "outputId": "5ce0fef1-b122-456d-c864-5a6552a334a3"
      },
      "source": [
        "#removing unnecessary special characters, numbers, punctuations in tweets\n",
        "df.Processed_Tweet = df.Processed_Tweet.str.replace(\"[^a-zA-Z]\", \" \")\n",
        "df[\"Processed_Tweet\"]"
      ],
      "execution_count": 90,
      "outputs": [
        {
          "output_type": "execute_result",
          "data": {
            "text/plain": [
              "0      What after Naveen Patnaik  How long will he co...\n",
              "1      Naveen Patnaik writes to Hemant Soren for earl...\n",
              "2      Naveen Patnaik writes to Hemant Soren for earl...\n",
              "3      Naveen Patnaik writes to Hemant Soren for earl...\n",
              "4      Naveen Patnaik writes to Hemant Soren for earl...\n",
              "                             ...                        \n",
              "145    Honourable Chief Minister Mr  Naveen Patnaik a...\n",
              "146    Free and Fair Media is a backbone of our socie...\n",
              "147    Naveen Patnaik says government will look into ...\n",
              "148    Naveen Patnaik says government will look into ...\n",
              "149    Odisha Governor Ganeshi Lal and CM Naveen Patn...\n",
              "Name: Processed_Tweet, Length: 150, dtype: object"
            ]
          },
          "metadata": {
            "tags": []
          },
          "execution_count": 90
        }
      ]
    },
    {
      "cell_type": "code",
      "metadata": {
        "id": "3rQeZOTCZsd7",
        "colab": {
          "base_uri": "https://localhost:8080/"
        },
        "outputId": "1ac94be9-06d3-4182-bc1d-9dd0bcf50d4a"
      },
      "source": [
        "df.Processed_Tweet = [low.lower() for low in df.Processed_Tweet] #Converting into lower case\n",
        "df[\"Processed_Tweet\"]"
      ],
      "execution_count": 91,
      "outputs": [
        {
          "output_type": "execute_result",
          "data": {
            "text/plain": [
              "0      what after naveen patnaik  how long will he co...\n",
              "1      naveen patnaik writes to hemant soren for earl...\n",
              "2      naveen patnaik writes to hemant soren for earl...\n",
              "3      naveen patnaik writes to hemant soren for earl...\n",
              "4      naveen patnaik writes to hemant soren for earl...\n",
              "                             ...                        \n",
              "145    honourable chief minister mr  naveen patnaik a...\n",
              "146    free and fair media is a backbone of our socie...\n",
              "147    naveen patnaik says government will look into ...\n",
              "148    naveen patnaik says government will look into ...\n",
              "149    odisha governor ganeshi lal and cm naveen patn...\n",
              "Name: Processed_Tweet, Length: 150, dtype: object"
            ]
          },
          "metadata": {
            "tags": []
          },
          "execution_count": 91
        }
      ]
    },
    {
      "cell_type": "code",
      "metadata": {
        "id": "D1caun-KZxeX",
        "colab": {
          "base_uri": "https://localhost:8080/",
          "height": 52
        },
        "outputId": "cb659cc1-c158-4db5-d39c-230bc8e1cf26"
      },
      "source": [
        "df.Processed_Tweet =  df.Processed_Tweet.str.replace(\"amp\", \"\")\n",
        "df['Processed_Tweet'][12] #Sample tweet"
      ],
      "execution_count": 92,
      "outputs": [
        {
          "output_type": "execute_result",
          "data": {
            "application/vnd.google.colaboratory.intrinsic+json": {
              "type": "string"
            },
            "text/plain": [
              "'you have chosen the most hypocrite media personalities you could ever put your faith on  wish you good luck if you think they d raise their voice against naveen patnaik govt lutyens cabal '"
            ]
          },
          "metadata": {
            "tags": []
          },
          "execution_count": 92
        }
      ]
    },
    {
      "cell_type": "code",
      "metadata": {
        "id": "AQ7xfpqOZ7gx",
        "colab": {
          "base_uri": "https://localhost:8080/"
        },
        "outputId": "59666fc1-2446-4259-8d9d-7533e1e15483"
      },
      "source": [
        "df['User'].value_counts()"
      ],
      "execution_count": 93,
      "outputs": [
        {
          "output_type": "execute_result",
          "data": {
            "text/plain": [
              "otvnews            9\n",
              "BinayPrasadDas3    6\n",
              "OmmcomNews         5\n",
              "news18dotcom       4\n",
              "TOIBhubaneswar     3\n",
              "                  ..\n",
              "GharWapasi_        1\n",
              "NavjyotiPatnaik    1\n",
              "Umesh91930549      1\n",
              "MrGladPortBlair    1\n",
              "debesh_bjd         1\n",
              "Name: User, Length: 116, dtype: int64"
            ]
          },
          "metadata": {
            "tags": []
          },
          "execution_count": 93
        }
      ]
    },
    {
      "cell_type": "code",
      "metadata": {
        "id": "WX3ijK3eZ9CL",
        "colab": {
          "base_uri": "https://localhost:8080/"
        },
        "outputId": "567dcc0d-b750-408f-c07c-8d53170c9f69"
      },
      "source": [
        "df.query('User == \"rahul\"').Processed_Tweet.tolist()"
      ],
      "execution_count": 94,
      "outputs": [
        {
          "output_type": "execute_result",
          "data": {
            "text/plain": [
              "[]"
            ]
          },
          "metadata": {
            "tags": []
          },
          "execution_count": 94
        }
      ]
    },
    {
      "cell_type": "code",
      "metadata": {
        "id": "ZSs-7eHlZ9F5",
        "colab": {
          "base_uri": "https://localhost:8080/",
          "height": 333
        },
        "outputId": "a2b4e496-0328-4ef8-db91-596f86c83fa8"
      },
      "source": [
        "bar = sns.countplot(df['Verified'])"
      ],
      "execution_count": 95,
      "outputs": [
        {
          "output_type": "stream",
          "text": [
            "/usr/local/lib/python3.6/dist-packages/seaborn/_decorators.py:43: FutureWarning: Pass the following variable as a keyword arg: x. From version 0.12, the only valid positional argument will be `data`, and passing other arguments without an explicit keyword will result in an error or misinterpretation.\n",
            "  FutureWarning\n"
          ],
          "name": "stderr"
        },
        {
          "output_type": "display_data",
          "data": {
            "image/png": "[encoded data removed]",
            "text/plain": [
              "<Figure size 432x288 with 1 Axes>"
            ]
          },
          "metadata": {
            "tags": [],
            "needs_background": "light"
          }
        }
      ]
    },
    {
      "cell_type": "code",
      "metadata": {
        "id": "48YKJISOZ9Jm",
        "colab": {
          "base_uri": "https://localhost:8080/"
        },
        "outputId": "b0289779-1a56-4d14-a2a5-5233e0e34364"
      },
      "source": [
        "df['Verified'].value_counts()"
      ],
      "execution_count": 96,
      "outputs": [
        {
          "output_type": "execute_result",
          "data": {
            "text/plain": [
              "False    107\n",
              "True      43\n",
              "Name: Verified, dtype: int64"
            ]
          },
          "metadata": {
            "tags": []
          },
          "execution_count": 96
        }
      ]
    },
    {
      "cell_type": "code",
      "metadata": {
        "id": "qBweECkIZ9Ng",
        "colab": {
          "base_uri": "https://localhost:8080/"
        },
        "outputId": "74e64cb2-e26d-4527-d26a-f0d2d46035de"
      },
      "source": [
        "df_verified = df.query('Verified == True')\n",
        "df_verified['User'].value_counts()"
      ],
      "execution_count": 97,
      "outputs": [
        {
          "output_type": "execute_result",
          "data": {
            "text/plain": [
              "otvnews            9\n",
              "news18dotcom       4\n",
              "TOIBhubaneswar     3\n",
              "XpressOdisha       2\n",
              "thewire_in         2\n",
              "IPR_Odisha         2\n",
              "htTweets           1\n",
              "livemint           1\n",
              "EconomicTimes      1\n",
              "ANI                1\n",
              "NavjyotiPatnaik    1\n",
              "NewIndianXpress    1\n",
              "moneycontrolcom    1\n",
              "OpIndia_com        1\n",
              "AltNews            1\n",
              "NewsMobileIndia    1\n",
              "svaradarajan       1\n",
              "indiatvnews        1\n",
              "Outlookindia       1\n",
              "PTI_News           1\n",
              "TOICitiesNews      1\n",
              "HindustanTimes     1\n",
              "zoo_bear           1\n",
              "boomlive_in        1\n",
              "free_thinker       1\n",
              "debesh_bjd         1\n",
              "CNNnews18          1\n",
              "Name: User, dtype: int64"
            ]
          },
          "metadata": {
            "tags": []
          },
          "execution_count": 97
        }
      ]
    },
    {
      "cell_type": "code",
      "metadata": {
        "id": "zNnEjVTuZ9Ue",
        "colab": {
          "base_uri": "https://localhost:8080/"
        },
        "outputId": "77166b71-c391-4146-e2e7-aaf3fdad1eb6"
      },
      "source": [
        "days = df['Date'].dt.day.tolist()\n",
        "no_of_days = Counter(days)\n",
        "no_of_days"
      ],
      "execution_count": 98,
      "outputs": [
        {
          "output_type": "execute_result",
          "data": {
            "text/plain": [
              "Counter({15: 3, 16: 13, 17: 23, 18: 31, 19: 22, 20: 17, 21: 41})"
            ]
          },
          "metadata": {
            "tags": []
          },
          "execution_count": 98
        }
      ]
    },
    {
      "cell_type": "code",
      "metadata": {
        "id": "mzu51x0fZ9X4",
        "colab": {
          "base_uri": "https://localhost:8080/",
          "height": 475
        },
        "outputId": "4f307cbd-10bb-48dd-a0b0-7a3e1bbc770e"
      },
      "source": [
        "fig = plt.figure(figsize = (15,7))\n",
        "plt.bar(range(len(no_of_days)), list(no_of_days.values()), align='center', alpha = 0.5,color = 'red')\n",
        "plt.xticks(range(len(no_of_days)), list(no_of_days.keys()))\n",
        "plt.xlabel(\"Day\")\n",
        "plt.ylabel(\"Count Of Tweets\")\n",
        "plt.title(\"Count Of Extracted Tweets On Each Day\")"
      ],
      "execution_count": 99,
      "outputs": [
        {
          "output_type": "execute_result",
          "data": {
            "text/plain": [
              "Text(0.5, 1.0, 'Count Of Extracted Tweets On Each Day')"
            ]
          },
          "metadata": {
            "tags": []
          },
          "execution_count": 99
        },
        {
          "output_type": "display_data",
          "data": {
            "image/png": "[encoded data removed]",
            "text/plain": [
              "<Figure size 1080x504 with 1 Axes>"
            ]
          },
          "metadata": {
            "tags": [],
            "needs_background": "light"
          }
        }
      ]
    },
    {
      "cell_type": "code",
      "metadata": {
        "id": "Qk4k7vt2Z9cE",
        "colab": {
          "base_uri": "https://localhost:8080/"
        },
        "outputId": "ea70428a-1175-460e-9481-9d735a697ec9"
      },
      "source": [
        "hours = df['Date'].dt.hour.tolist()\n",
        "no_of_hours = Counter(hours)\n",
        "no_of_hours"
      ],
      "execution_count": 100,
      "outputs": [
        {
          "output_type": "execute_result",
          "data": {
            "text/plain": [
              "Counter({2: 3,\n",
              "         3: 10,\n",
              "         4: 6,\n",
              "         5: 3,\n",
              "         6: 10,\n",
              "         7: 3,\n",
              "         8: 4,\n",
              "         9: 6,\n",
              "         10: 8,\n",
              "         11: 3,\n",
              "         12: 8,\n",
              "         13: 11,\n",
              "         14: 20,\n",
              "         15: 12,\n",
              "         16: 11,\n",
              "         17: 13,\n",
              "         18: 9,\n",
              "         19: 6,\n",
              "         20: 1,\n",
              "         21: 2,\n",
              "         22: 1})"
            ]
          },
          "metadata": {
            "tags": []
          },
          "execution_count": 100
        }
      ]
    },
    {
      "cell_type": "code",
      "metadata": {
        "id": "FnldeKsyZ9fF",
        "colab": {
          "base_uri": "https://localhost:8080/",
          "height": 530
        },
        "outputId": "1fcf4714-39c5-4020-ddd2-7bec2e59f730"
      },
      "source": [
        "fig = plt.figure(figsize = (15,8))\n",
        "plt.bar(range(len(no_of_hours)), list(no_of_hours.values()), align='center', alpha = 0.5,color = 'red')\n",
        "plt.xticks(range(len(no_of_hours)), list(no_of_hours.keys()))\n",
        "plt.xlabel(\"Hour\")\n",
        "plt.ylabel(\"Count Of Tweets\")\n",
        "plt.title(\"Count Of Extracted Tweets On Each Hour\")"
      ],
      "execution_count": 101,
      "outputs": [
        {
          "output_type": "execute_result",
          "data": {
            "text/plain": [
              "Text(0.5, 1.0, 'Count Of Extracted Tweets On Each Hour')"
            ]
          },
          "metadata": {
            "tags": []
          },
          "execution_count": 101
        },
        {
          "output_type": "display_data",
          "data": {
            "image/png": "[encoded data removed]",
            "text/plain": [
              "<Figure size 1080x576 with 1 Axes>"
            ]
          },
          "metadata": {
            "tags": [],
            "needs_background": "light"
          }
        }
      ]
    },
    {
      "cell_type": "code",
      "metadata": {
        "id": "v2uHncb_Z9ie"
      },
      "source": [
        "from wordcloud import WordCloud\n",
        "tokenizer = TweetTokenizer()"
      ],
      "execution_count": 102,
      "outputs": []
    },
    {
      "cell_type": "code",
      "metadata": {
        "id": "ti_i96jza3EY",
        "colab": {
          "base_uri": "https://localhost:8080/"
        },
        "outputId": "acceb621-431f-4fce-d752-25c7436f2d58"
      },
      "source": [
        "import nltk\n",
        "nltk.download('stopwords')"
      ],
      "execution_count": 103,
      "outputs": [
        {
          "output_type": "stream",
          "text": [
            "[nltk_data] Downloading package stopwords to /root/nltk_data...\n",
            "[nltk_data]   Package stopwords is already up-to-date!\n"
          ],
          "name": "stdout"
        },
        {
          "output_type": "execute_result",
          "data": {
            "text/plain": [
              "True"
            ]
          },
          "metadata": {
            "tags": []
          },
          "execution_count": 103
        }
      ]
    },
    {
      "cell_type": "code",
      "metadata": {
        "id": "ryhZIIElZ9lx",
        "colab": {
          "base_uri": "https://localhost:8080/"
        },
        "outputId": "81032c05-c9b1-4827-c91a-156d80bfe0d8"
      },
      "source": [
        "stop_words = set(stopwords.words('english')) \n",
        "stop_words = list(stop_words)\n",
        "print(stop_words)"
      ],
      "execution_count": 104,
      "outputs": [
        {
          "output_type": "stream",
          "text": [
            "['my', 'him', 'has', 'under', 'against', \"hasn't\", 'between', 'this', 'was', 'ain', 'it', 'through', 'mightn', 'most', 'on', 'ours', 'me', \"she's\", \"you've\", 'in', 'doesn', 'don', 'only', 'isn', 'just', 'we', 'himself', 'their', 'there', \"mustn't\", 'her', 'because', 'had', 'haven', 'your', 'herself', 'if', 'than', 'his', 'too', \"needn't\", \"you're\", \"you'll\", 'why', 'such', 'so', \"doesn't\", 're', 'didn', 'no', 'whom', 'do', \"wasn't\", 'is', 'are', 'its', 't', 'an', 'here', \"don't\", 'he', 'by', \"wouldn't\", \"haven't\", 'shan', 'been', 'over', 'or', 'be', 'at', 'wouldn', 'hadn', 'you', 'aren', \"it's\", 'myself', 'they', 'being', 'to', 'but', 'as', 'during', 'wasn', 'should', \"you'd\", 'where', 'up', 'while', 'them', \"won't\", 'out', \"hadn't\", 'yourselves', 'those', 'how', 'ourselves', 'couldn', 'then', 'hasn', 'not', 'ma', 'few', 'what', \"that'll\", \"shan't\", \"aren't\", 'now', 'that', 'needn', 's', 'won', 'into', 'other', 'further', 'off', 'from', 'weren', 'does', 'll', 'below', 'and', 'having', \"should've\", 'for', 'itself', \"didn't\", 'mustn', 'above', 'again', \"weren't\", 'of', 'can', 'will', 'down', 'very', 'yours', \"mightn't\", 'did', 'both', 'with', 'our', 'theirs', 'when', 've', 'any', 'i', \"shouldn't\", 'y', 'nor', 'who', 'a', 'these', 'some', 'about', 'shouldn', 'all', 'same', 'once', 'each', 'have', 'the', 'more', 'were', 'o', \"isn't\", 'm', 'she', \"couldn't\", 'until', 'before', 'd', 'yourself', 'own', 'hers', 'am', 'themselves', 'after', 'doing', 'which']\n"
          ],
          "name": "stdout"
        }
      ]
    },
    {
      "cell_type": "code",
      "metadata": {
        "id": "xTHMe2yTZ9pF",
        "colab": {
          "base_uri": "https://localhost:8080/"
        },
        "outputId": "bd487c3c-1a1f-419d-e0f9-fbe6758b2a9e"
      },
      "source": [
        "df['Processed_Tweet'] = df.Processed_Tweet.apply(lambda x: ' '.join(w for w in x.split() if w not in stop_words))   #Remove stopwords\n",
        "df['Processed_Tweet']"
      ],
      "execution_count": 105,
      "outputs": [
        {
          "output_type": "execute_result",
          "data": {
            "text/plain": [
              "0      naveen patnaik long continue age must also sup...\n",
              "1      naveen patnaik writes hemant soren early compl...\n",
              "2      naveen patnaik writes hemant soren early compl...\n",
              "3      naveen patnaik writes hemant soren early compl...\n",
              "4      naveen patnaik writes hemant soren early compl...\n",
              "                             ...                        \n",
              "145    honourable chief minister mr naveen patnaik ad...\n",
              "146    free fair media backbone society independent m...\n",
              "147    naveen patnaik says government look vedanta issue\n",
              "148    naveen patnaik says government look vedanta issue\n",
              "149    odisha governor ganeshi lal cm naveen patnaik ...\n",
              "Name: Processed_Tweet, Length: 150, dtype: object"
            ]
          },
          "metadata": {
            "tags": []
          },
          "execution_count": 105
        }
      ]
    },
    {
      "cell_type": "code",
      "metadata": {
        "id": "W41lIuhjZ9su",
        "colab": {
          "base_uri": "https://localhost:8080/"
        },
        "outputId": "14902c96-c525-4b28-ef56-4693a27316ca"
      },
      "source": [
        "df['Processed_Tweet'] = df['Processed_Tweet'].apply(lambda x: tokenizer.tokenize(x))\n",
        "df['Processed_Tweet']"
      ],
      "execution_count": 106,
      "outputs": [
        {
          "output_type": "execute_result",
          "data": {
            "text/plain": [
              "0      [naveen, patnaik, long, continue, age, must, a...\n",
              "1      [naveen, patnaik, writes, hemant, soren, early...\n",
              "2      [naveen, patnaik, writes, hemant, soren, early...\n",
              "3      [naveen, patnaik, writes, hemant, soren, early...\n",
              "4      [naveen, patnaik, writes, hemant, soren, early...\n",
              "                             ...                        \n",
              "145    [honourable, chief, minister, mr, naveen, patn...\n",
              "146    [free, fair, media, backbone, society, indepen...\n",
              "147    [naveen, patnaik, says, government, look, veda...\n",
              "148    [naveen, patnaik, says, government, look, veda...\n",
              "149    [odisha, governor, ganeshi, lal, cm, naveen, p...\n",
              "Name: Processed_Tweet, Length: 150, dtype: object"
            ]
          },
          "metadata": {
            "tags": []
          },
          "execution_count": 106
        }
      ]
    },
    {
      "cell_type": "code",
      "metadata": {
        "id": "U1iyBPUlZ9wE",
        "colab": {
          "base_uri": "https://localhost:8080/"
        },
        "outputId": "afa29d19-7a1a-4c76-bca6-f1dba266e8db"
      },
      "source": [
        "def lemmatize_stemming(text):\n",
        "    stemmer=PorterStemmer()\n",
        "    return stemmer.stem(text)\n",
        "df['Processed_Tweet'] = df['Processed_Tweet'].apply(lambda x: [lemmatize_stemming(i) for i in x]) # stemming\n",
        "df['Processed_Tweet']"
      ],
      "execution_count": 107,
      "outputs": [
        {
          "output_type": "execute_result",
          "data": {
            "text/plain": [
              "0      [naveen, patnaik, long, continu, age, must, al...\n",
              "1      [naveen, patnaik, write, hemant, soren, earli,...\n",
              "2      [naveen, patnaik, write, hemant, soren, earli,...\n",
              "3      [naveen, patnaik, write, hemant, soren, earli,...\n",
              "4      [naveen, patnaik, write, hemant, soren, earli,...\n",
              "                             ...                        \n",
              "145    [honour, chief, minist, mr, naveen, patnaik, a...\n",
              "146    [free, fair, media, backbon, societi, independ...\n",
              "147    [naveen, patnaik, say, govern, look, vedanta, ...\n",
              "148    [naveen, patnaik, say, govern, look, vedanta, ...\n",
              "149    [odisha, governor, ganeshi, lal, cm, naveen, p...\n",
              "Name: Processed_Tweet, Length: 150, dtype: object"
            ]
          },
          "metadata": {
            "tags": []
          },
          "execution_count": 107
        }
      ]
    },
    {
      "cell_type": "code",
      "metadata": {
        "id": "wLB1SjaLZ9zx",
        "colab": {
          "base_uri": "https://localhost:8080/",
          "height": 774
        },
        "outputId": "38c394d5-ee20-4b5d-d216-27c03483b461"
      },
      "source": [
        "\n",
        "df['Processed_Tweet'] = df.Processed_Tweet.apply(lambda x: [i for i in x if len(i)>2])\n",
        "df"
      ],
      "execution_count": 108,
      "outputs": [
        {
          "output_type": "execute_result",
          "data": {
            "text/html": [
              "<div>\n",
              "<style scoped>\n",
              "    .dataframe tbody tr th:only-of-type {\n",
              "        vertical-align: middle;\n",
              "    }\n",
              "\n",
              "    .dataframe tbody tr th {\n",
              "        vertical-align: top;\n",
              "    }\n",
              "\n",
              "    .dataframe thead th {\n",
              "        text-align: right;\n",
              "    }\n",
              "</style>\n",
              "<table border=\"1\" class=\"dataframe\">\n",
              "  <thead>\n",
              "    <tr style=\"text-align: right;\">\n",
              "      <th></th>\n",
              "      <th>Date</th>\n",
              "      <th>Tweet_id</th>\n",
              "      <th>Verified</th>\n",
              "      <th>Tweet</th>\n",
              "      <th>User</th>\n",
              "      <th>Location</th>\n",
              "      <th>Source</th>\n",
              "      <th>Likes</th>\n",
              "      <th>Followers</th>\n",
              "      <th>Following</th>\n",
              "      <th>Retweets</th>\n",
              "      <th>Processed_Tweet</th>\n",
              "    </tr>\n",
              "  </thead>\n",
              "  <tbody>\n",
              "    <tr>\n",
              "      <th>0</th>\n",
              "      <td>2020-11-21 20:46:00</td>\n",
              "      <td>1330251135064674304</td>\n",
              "      <td>False</td>\n",
              "      <td>@anand_mishra98 @PandaJay What after Naveen Pa...</td>\n",
              "      <td>GharWapasi_</td>\n",
              "      <td>Banaras</td>\n",
              "      <td>Twitter for Android</td>\n",
              "      <td>1</td>\n",
              "      <td>5301</td>\n",
              "      <td>1098</td>\n",
              "      <td>0</td>\n",
              "      <td>[naveen, patnaik, long, continu, age, must, al...</td>\n",
              "    </tr>\n",
              "    <tr>\n",
              "      <th>1</th>\n",
              "      <td>2020-11-21 19:34:52</td>\n",
              "      <td>1330233236069474306</td>\n",
              "      <td>False</td>\n",
              "      <td>Naveen Patnaik writes to Hemant Soren for earl...</td>\n",
              "      <td>SanjDeep7</td>\n",
              "      <td>New Delhi-Daman</td>\n",
              "      <td>LinkedIn</td>\n",
              "      <td>0</td>\n",
              "      <td>575</td>\n",
              "      <td>8</td>\n",
              "      <td>0</td>\n",
              "      <td>[naveen, patnaik, write, hemant, soren, earli,...</td>\n",
              "    </tr>\n",
              "    <tr>\n",
              "      <th>2</th>\n",
              "      <td>2020-11-21 19:33:33</td>\n",
              "      <td>1330232905885507585</td>\n",
              "      <td>False</td>\n",
              "      <td>Naveen Patnaik writes to Hemant Soren for earl...</td>\n",
              "      <td>TheGlobalRealty</td>\n",
              "      <td>New Delhi, India</td>\n",
              "      <td>Twitter Web App</td>\n",
              "      <td>0</td>\n",
              "      <td>96</td>\n",
              "      <td>48</td>\n",
              "      <td>0</td>\n",
              "      <td>[naveen, patnaik, write, hemant, soren, earli,...</td>\n",
              "    </tr>\n",
              "    <tr>\n",
              "      <th>3</th>\n",
              "      <td>2020-11-21 19:22:30</td>\n",
              "      <td>1330230124147593216</td>\n",
              "      <td>False</td>\n",
              "      <td>Naveen Patnaik writes to Hemant Soren for earl...</td>\n",
              "      <td>SanjDeep7</td>\n",
              "      <td>New Delhi-Daman</td>\n",
              "      <td>LinkedIn</td>\n",
              "      <td>0</td>\n",
              "      <td>575</td>\n",
              "      <td>8</td>\n",
              "      <td>0</td>\n",
              "      <td>[naveen, patnaik, write, hemant, soren, earli,...</td>\n",
              "    </tr>\n",
              "    <tr>\n",
              "      <th>4</th>\n",
              "      <td>2020-11-21 19:21:31</td>\n",
              "      <td>1330229874284498945</td>\n",
              "      <td>False</td>\n",
              "      <td>Naveen Patnaik writes to Hemant Soren for earl...</td>\n",
              "      <td>NPM_Magazine</td>\n",
              "      <td>India</td>\n",
              "      <td>Twitter Web App</td>\n",
              "      <td>0</td>\n",
              "      <td>55</td>\n",
              "      <td>220</td>\n",
              "      <td>0</td>\n",
              "      <td>[naveen, patnaik, write, hemant, soren, earli,...</td>\n",
              "    </tr>\n",
              "    <tr>\n",
              "      <th>...</th>\n",
              "      <td>...</td>\n",
              "      <td>...</td>\n",
              "      <td>...</td>\n",
              "      <td>...</td>\n",
              "      <td>...</td>\n",
              "      <td>...</td>\n",
              "      <td>...</td>\n",
              "      <td>...</td>\n",
              "      <td>...</td>\n",
              "      <td>...</td>\n",
              "      <td>...</td>\n",
              "      <td>...</td>\n",
              "    </tr>\n",
              "    <tr>\n",
              "      <th>145</th>\n",
              "      <td>2020-11-16 04:52:35</td>\n",
              "      <td>1328199262681776128</td>\n",
              "      <td>False</td>\n",
              "      <td>@Naveen_Odisha Honourable Chief Minister Mr. N...</td>\n",
              "      <td>DeepikaBasu1</td>\n",
              "      <td></td>\n",
              "      <td>TweetDeck</td>\n",
              "      <td>0</td>\n",
              "      <td>34</td>\n",
              "      <td>23</td>\n",
              "      <td>0</td>\n",
              "      <td>[honour, chief, minist, naveen, patnaik, addre...</td>\n",
              "    </tr>\n",
              "    <tr>\n",
              "      <th>146</th>\n",
              "      <td>2020-11-16 04:42:26</td>\n",
              "      <td>1328196707566305282</td>\n",
              "      <td>False</td>\n",
              "      <td>@Naveen_Odisha Free and Fair Media is a backbo...</td>\n",
              "      <td>pradyumanpal</td>\n",
              "      <td>Orissa, India</td>\n",
              "      <td>Twitter for Android</td>\n",
              "      <td>0</td>\n",
              "      <td>218</td>\n",
              "      <td>110</td>\n",
              "      <td>0</td>\n",
              "      <td>[free, fair, media, backbon, societi, independ...</td>\n",
              "    </tr>\n",
              "    <tr>\n",
              "      <th>147</th>\n",
              "      <td>2020-11-15 19:08:23</td>\n",
              "      <td>1328052242889510914</td>\n",
              "      <td>False</td>\n",
              "      <td>Naveen Patnaik says government will look into ...</td>\n",
              "      <td>SanjDeep7</td>\n",
              "      <td>New Delhi-Daman</td>\n",
              "      <td>LinkedIn</td>\n",
              "      <td>0</td>\n",
              "      <td>575</td>\n",
              "      <td>8</td>\n",
              "      <td>0</td>\n",
              "      <td>[naveen, patnaik, say, govern, look, vedanta, ...</td>\n",
              "    </tr>\n",
              "    <tr>\n",
              "      <th>148</th>\n",
              "      <td>2020-11-15 19:07:17</td>\n",
              "      <td>1328051965822046208</td>\n",
              "      <td>False</td>\n",
              "      <td>Naveen Patnaik says government will look into ...</td>\n",
              "      <td>BMirror</td>\n",
              "      <td>New Delhi, India</td>\n",
              "      <td>Twitter Web App</td>\n",
              "      <td>0</td>\n",
              "      <td>37</td>\n",
              "      <td>48</td>\n",
              "      <td>0</td>\n",
              "      <td>[naveen, patnaik, say, govern, look, vedanta, ...</td>\n",
              "    </tr>\n",
              "    <tr>\n",
              "      <th>149</th>\n",
              "      <td>2020-11-15 15:28:55</td>\n",
              "      <td>1327997014202675201</td>\n",
              "      <td>True</td>\n",
              "      <td>Odisha Governor Ganeshi Lal and CM Naveen Patn...</td>\n",
              "      <td>moneycontrolcom</td>\n",
              "      <td>Mumbai</td>\n",
              "      <td>Twitter Web App</td>\n",
              "      <td>9</td>\n",
              "      <td>963348</td>\n",
              "      <td>294</td>\n",
              "      <td>2</td>\n",
              "      <td>[odisha, governor, ganeshi, lal, naveen, patna...</td>\n",
              "    </tr>\n",
              "  </tbody>\n",
              "</table>\n",
              "<p>150 rows × 12 columns</p>\n",
              "</div>"
            ],
            "text/plain": [
              "                   Date  ...                                    Processed_Tweet\n",
              "0   2020-11-21 20:46:00  ...  [naveen, patnaik, long, continu, age, must, al...\n",
              "1   2020-11-21 19:34:52  ...  [naveen, patnaik, write, hemant, soren, earli,...\n",
              "2   2020-11-21 19:33:33  ...  [naveen, patnaik, write, hemant, soren, earli,...\n",
              "3   2020-11-21 19:22:30  ...  [naveen, patnaik, write, hemant, soren, earli,...\n",
              "4   2020-11-21 19:21:31  ...  [naveen, patnaik, write, hemant, soren, earli,...\n",
              "..                  ...  ...                                                ...\n",
              "145 2020-11-16 04:52:35  ...  [honour, chief, minist, naveen, patnaik, addre...\n",
              "146 2020-11-16 04:42:26  ...  [free, fair, media, backbon, societi, independ...\n",
              "147 2020-11-15 19:08:23  ...  [naveen, patnaik, say, govern, look, vedanta, ...\n",
              "148 2020-11-15 19:07:17  ...  [naveen, patnaik, say, govern, look, vedanta, ...\n",
              "149 2020-11-15 15:28:55  ...  [odisha, governor, ganeshi, lal, naveen, patna...\n",
              "\n",
              "[150 rows x 12 columns]"
            ]
          },
          "metadata": {
            "tags": []
          },
          "execution_count": 108
        }
      ]
    },
    {
      "cell_type": "code",
      "metadata": {
        "id": "Jp1MddEpbN6A",
        "colab": {
          "base_uri": "https://localhost:8080/"
        },
        "outputId": "22e7f998-5648-4137-f126-7fad4037e3a9"
      },
      "source": [
        "texts = []\n",
        "texts = df.Processed_Tweet.apply(lambda x: [i for i in x] )\n",
        "all_words = []\n",
        "for i in texts:\n",
        "    all_words.append(\" \".join(i))\n",
        "text = []\n",
        "for i in texts:\n",
        "    for j in i:\n",
        "        text.append(j)\n",
        "len(text)"
      ],
      "execution_count": 109,
      "outputs": [
        {
          "output_type": "execute_result",
          "data": {
            "text/plain": [
              "2338"
            ]
          },
          "metadata": {
            "tags": []
          },
          "execution_count": 109
        }
      ]
    },
    {
      "cell_type": "code",
      "metadata": {
        "id": "jbRz6G8dbN9q",
        "colab": {
          "base_uri": "https://localhost:8080/",
          "height": 465
        },
        "outputId": "99c299f5-a7ba-42ab-c70a-a82c869b6a81"
      },
      "source": [
        "wordcloud = WordCloud(width=800, height=500, random_state=21, max_font_size=110).generate(' '.join(text))\n",
        "plt.figure(figsize = (12, 12), facecolor=\"None\") \n",
        "plt.imshow(wordcloud,interpolation='bilinear') \n",
        "plt.axis(\"off\") \n",
        "plt.title(\"WordCloud of bjp Gujrat Tweets\")\n",
        "plt.show()"
      ],
      "execution_count": 110,
      "outputs": [
        {
          "output_type": "display_data",
          "data": {
            "image/png": "[encoded data removed]",
            "text/plain": [
              "<Figure size 864x864 with 1 Axes>"
            ]
          },
          "metadata": {
            "tags": [],
            "needs_background": "light"
          }
        }
      ]
    },
    {
      "cell_type": "code",
      "metadata": {
        "id": "Y_6ferf0bOBj",
        "colab": {
          "base_uri": "https://localhost:8080/"
        },
        "outputId": "d647026e-0bf2-437e-e9a6-c0995a6cb675"
      },
      "source": [
        "from textblob import TextBlob\n",
        "pol=[]\n",
        "for Tweet in all_words:\n",
        "    blob = TextBlob(Tweet)\n",
        "    pol.append(blob.sentiment.polarity)\n",
        "len(pol)"
      ],
      "execution_count": 111,
      "outputs": [
        {
          "output_type": "execute_result",
          "data": {
            "text/plain": [
              "150"
            ]
          },
          "metadata": {
            "tags": []
          },
          "execution_count": 111
        }
      ]
    },
    {
      "cell_type": "code",
      "metadata": {
        "id": "dHvb9R2cbOHY",
        "colab": {
          "base_uri": "https://localhost:8080/"
        },
        "outputId": "3551b7aa-36f3-49c6-c81b-d9e8eba467cd"
      },
      "source": [
        "len(text)"
      ],
      "execution_count": 112,
      "outputs": [
        {
          "output_type": "execute_result",
          "data": {
            "text/plain": [
              "2338"
            ]
          },
          "metadata": {
            "tags": []
          },
          "execution_count": 112
        }
      ]
    },
    {
      "cell_type": "code",
      "metadata": {
        "id": "cu242euSbOKi",
        "colab": {
          "base_uri": "https://localhost:8080/"
        },
        "outputId": "c97c944c-d0d6-4fd1-bac1-b9ed006c37a3"
      },
      "source": [
        "positive=0\n",
        "negative=0\n",
        "neutral=0\n",
        "for i in pol:\n",
        "    if i>0:\n",
        "        positive+=1\n",
        "    elif i<0:\n",
        "        negative+=1\n",
        "    else:\n",
        "        neutral+=1\n",
        "print(\"Positive Tweets:\",positive)\n",
        "print(\"Negative Tweets:\",negative)\n",
        "print(\"Neutral Tweets\",neutral)"
      ],
      "execution_count": 113,
      "outputs": [
        {
          "output_type": "stream",
          "text": [
            "Positive Tweets: 77\n",
            "Negative Tweets: 10\n",
            "Neutral Tweets 63\n"
          ],
          "name": "stdout"
        }
      ]
    },
    {
      "cell_type": "code",
      "metadata": {
        "id": "6Q5B0aVGbOOa",
        "colab": {
          "base_uri": "https://localhost:8080/"
        },
        "outputId": "73b29d07-bb94-4948-8051-bbf21bd5ea66"
      },
      "source": [
        "import nltk\n",
        "nltk.download('vader_lexicon')"
      ],
      "execution_count": 114,
      "outputs": [
        {
          "output_type": "stream",
          "text": [
            "[nltk_data] Downloading package vader_lexicon to /root/nltk_data...\n"
          ],
          "name": "stdout"
        },
        {
          "output_type": "execute_result",
          "data": {
            "text/plain": [
              "True"
            ]
          },
          "metadata": {
            "tags": []
          },
          "execution_count": 114
        }
      ]
    },
    {
      "cell_type": "code",
      "metadata": {
        "id": "WZ2hhckbbOR4",
        "colab": {
          "base_uri": "https://localhost:8080/"
        },
        "outputId": "769648db-0baa-430d-ec29-d85db9010e82"
      },
      "source": [
        "from nltk.sentiment.vader import SentimentIntensityAnalyzer\n",
        "sid = SentimentIntensityAnalyzer()\n",
        "sentiment_scores= []\n",
        "for i in all_words:\n",
        "    sentiment_scores.append([sid.polarity_scores(i)])"
      ],
      "execution_count": 115,
      "outputs": [
        {
          "output_type": "stream",
          "text": [
            "/usr/local/lib/python3.6/dist-packages/nltk/twitter/__init__.py:20: UserWarning: The twython library has not been installed. Some functionality from the twitter package will not be available.\n",
            "  warnings.warn(\"The twython library has not been installed. \"\n"
          ],
          "name": "stderr"
        }
      ]
    },
    {
      "cell_type": "code",
      "metadata": {
        "id": "hCz4RQdabOV4",
        "colab": {
          "base_uri": "https://localhost:8080/",
          "height": 402
        },
        "outputId": "ec7fecfb-8803-4e19-f347-c94015674aab"
      },
      "source": [
        "value = []\n",
        "for i in sentiment_scores:\n",
        "    for dict1 in i:\n",
        "        value.append(list(dict1.values()))\n",
        "sentimental_score_df = pd.DataFrame(data = value, columns = ['Negative','Neutral','Positive','Compound'])\n",
        "sentimental_score_df"
      ],
      "execution_count": 116,
      "outputs": [
        {
          "output_type": "execute_result",
          "data": {
            "text/html": [
              "<div>\n",
              "<style scoped>\n",
              "    .dataframe tbody tr th:only-of-type {\n",
              "        vertical-align: middle;\n",
              "    }\n",
              "\n",
              "    .dataframe tbody tr th {\n",
              "        vertical-align: top;\n",
              "    }\n",
              "\n",
              "    .dataframe thead th {\n",
              "        text-align: right;\n",
              "    }\n",
              "</style>\n",
              "<table border=\"1\" class=\"dataframe\">\n",
              "  <thead>\n",
              "    <tr style=\"text-align: right;\">\n",
              "      <th></th>\n",
              "      <th>Negative</th>\n",
              "      <th>Neutral</th>\n",
              "      <th>Positive</th>\n",
              "      <th>Compound</th>\n",
              "    </tr>\n",
              "  </thead>\n",
              "  <tbody>\n",
              "    <tr>\n",
              "      <th>0</th>\n",
              "      <td>0.000</td>\n",
              "      <td>0.803</td>\n",
              "      <td>0.197</td>\n",
              "      <td>0.4019</td>\n",
              "    </tr>\n",
              "    <tr>\n",
              "      <th>1</th>\n",
              "      <td>0.000</td>\n",
              "      <td>1.000</td>\n",
              "      <td>0.000</td>\n",
              "      <td>0.0000</td>\n",
              "    </tr>\n",
              "    <tr>\n",
              "      <th>2</th>\n",
              "      <td>0.000</td>\n",
              "      <td>1.000</td>\n",
              "      <td>0.000</td>\n",
              "      <td>0.0000</td>\n",
              "    </tr>\n",
              "    <tr>\n",
              "      <th>3</th>\n",
              "      <td>0.000</td>\n",
              "      <td>1.000</td>\n",
              "      <td>0.000</td>\n",
              "      <td>0.0000</td>\n",
              "    </tr>\n",
              "    <tr>\n",
              "      <th>4</th>\n",
              "      <td>0.000</td>\n",
              "      <td>1.000</td>\n",
              "      <td>0.000</td>\n",
              "      <td>0.0000</td>\n",
              "    </tr>\n",
              "    <tr>\n",
              "      <th>...</th>\n",
              "      <td>...</td>\n",
              "      <td>...</td>\n",
              "      <td>...</td>\n",
              "      <td>...</td>\n",
              "    </tr>\n",
              "    <tr>\n",
              "      <th>145</th>\n",
              "      <td>0.000</td>\n",
              "      <td>0.684</td>\n",
              "      <td>0.316</td>\n",
              "      <td>0.5719</td>\n",
              "    </tr>\n",
              "    <tr>\n",
              "      <th>146</th>\n",
              "      <td>0.000</td>\n",
              "      <td>0.752</td>\n",
              "      <td>0.248</td>\n",
              "      <td>0.6808</td>\n",
              "    </tr>\n",
              "    <tr>\n",
              "      <th>147</th>\n",
              "      <td>0.000</td>\n",
              "      <td>1.000</td>\n",
              "      <td>0.000</td>\n",
              "      <td>0.0000</td>\n",
              "    </tr>\n",
              "    <tr>\n",
              "      <th>148</th>\n",
              "      <td>0.000</td>\n",
              "      <td>1.000</td>\n",
              "      <td>0.000</td>\n",
              "      <td>0.0000</td>\n",
              "    </tr>\n",
              "    <tr>\n",
              "      <th>149</th>\n",
              "      <td>0.271</td>\n",
              "      <td>0.729</td>\n",
              "      <td>0.000</td>\n",
              "      <td>-0.7717</td>\n",
              "    </tr>\n",
              "  </tbody>\n",
              "</table>\n",
              "<p>150 rows × 4 columns</p>\n",
              "</div>"
            ],
            "text/plain": [
              "     Negative  Neutral  Positive  Compound\n",
              "0       0.000    0.803     0.197    0.4019\n",
              "1       0.000    1.000     0.000    0.0000\n",
              "2       0.000    1.000     0.000    0.0000\n",
              "3       0.000    1.000     0.000    0.0000\n",
              "4       0.000    1.000     0.000    0.0000\n",
              "..        ...      ...       ...       ...\n",
              "145     0.000    0.684     0.316    0.5719\n",
              "146     0.000    0.752     0.248    0.6808\n",
              "147     0.000    1.000     0.000    0.0000\n",
              "148     0.000    1.000     0.000    0.0000\n",
              "149     0.271    0.729     0.000   -0.7717\n",
              "\n",
              "[150 rows x 4 columns]"
            ]
          },
          "metadata": {
            "tags": []
          },
          "execution_count": 116
        }
      ]
    },
    {
      "cell_type": "code",
      "metadata": {
        "id": "Ev7p5zHybOZN",
        "colab": {
          "base_uri": "https://localhost:8080/",
          "height": 195
        },
        "outputId": "09c86b37-5cdf-4ada-daf0-9be2bd2cb3cd"
      },
      "source": [
        "sentimental_score_df['val'] = sentimental_score_df['Compound'].apply(lambda x: 'Neutral' if x == 0 else ('Positive' if x > 0 else 'Negative'))\n",
        "sentimental_score_df.head()"
      ],
      "execution_count": 117,
      "outputs": [
        {
          "output_type": "execute_result",
          "data": {
            "text/html": [
              "<div>\n",
              "<style scoped>\n",
              "    .dataframe tbody tr th:only-of-type {\n",
              "        vertical-align: middle;\n",
              "    }\n",
              "\n",
              "    .dataframe tbody tr th {\n",
              "        vertical-align: top;\n",
              "    }\n",
              "\n",
              "    .dataframe thead th {\n",
              "        text-align: right;\n",
              "    }\n",
              "</style>\n",
              "<table border=\"1\" class=\"dataframe\">\n",
              "  <thead>\n",
              "    <tr style=\"text-align: right;\">\n",
              "      <th></th>\n",
              "      <th>Negative</th>\n",
              "      <th>Neutral</th>\n",
              "      <th>Positive</th>\n",
              "      <th>Compound</th>\n",
              "      <th>val</th>\n",
              "    </tr>\n",
              "  </thead>\n",
              "  <tbody>\n",
              "    <tr>\n",
              "      <th>0</th>\n",
              "      <td>0.0</td>\n",
              "      <td>0.803</td>\n",
              "      <td>0.197</td>\n",
              "      <td>0.4019</td>\n",
              "      <td>Positive</td>\n",
              "    </tr>\n",
              "    <tr>\n",
              "      <th>1</th>\n",
              "      <td>0.0</td>\n",
              "      <td>1.000</td>\n",
              "      <td>0.000</td>\n",
              "      <td>0.0000</td>\n",
              "      <td>Neutral</td>\n",
              "    </tr>\n",
              "    <tr>\n",
              "      <th>2</th>\n",
              "      <td>0.0</td>\n",
              "      <td>1.000</td>\n",
              "      <td>0.000</td>\n",
              "      <td>0.0000</td>\n",
              "      <td>Neutral</td>\n",
              "    </tr>\n",
              "    <tr>\n",
              "      <th>3</th>\n",
              "      <td>0.0</td>\n",
              "      <td>1.000</td>\n",
              "      <td>0.000</td>\n",
              "      <td>0.0000</td>\n",
              "      <td>Neutral</td>\n",
              "    </tr>\n",
              "    <tr>\n",
              "      <th>4</th>\n",
              "      <td>0.0</td>\n",
              "      <td>1.000</td>\n",
              "      <td>0.000</td>\n",
              "      <td>0.0000</td>\n",
              "      <td>Neutral</td>\n",
              "    </tr>\n",
              "  </tbody>\n",
              "</table>\n",
              "</div>"
            ],
            "text/plain": [
              "   Negative  Neutral  Positive  Compound       val\n",
              "0       0.0    0.803     0.197    0.4019  Positive\n",
              "1       0.0    1.000     0.000    0.0000   Neutral\n",
              "2       0.0    1.000     0.000    0.0000   Neutral\n",
              "3       0.0    1.000     0.000    0.0000   Neutral\n",
              "4       0.0    1.000     0.000    0.0000   Neutral"
            ]
          },
          "metadata": {
            "tags": []
          },
          "execution_count": 117
        }
      ]
    },
    {
      "cell_type": "code",
      "metadata": {
        "id": "2FmNubOLbOdG",
        "colab": {
          "base_uri": "https://localhost:8080/",
          "height": 296
        },
        "outputId": "369f7350-7293-4bf6-e557-9a69618fdb22"
      },
      "source": [
        "sent_count = pd.DataFrame.from_dict(Counter(sentimental_score_df['val']), orient = 'index').reset_index()\n",
        "sent_count.columns = ['sentiment', 'count']\n",
        "\n",
        "sns.barplot(y=\"count\", x='sentiment', data=sent_count)"
      ],
      "execution_count": 118,
      "outputs": [
        {
          "output_type": "execute_result",
          "data": {
            "text/plain": [
              "<matplotlib.axes._subplots.AxesSubplot at 0x7f9e4ab5af28>"
            ]
          },
          "metadata": {
            "tags": []
          },
          "execution_count": 118
        },
        {
          "output_type": "display_data",
          "data": {
            "image/png": "[encoded data removed]",
            "text/plain": [
              "<Figure size 432x288 with 1 Axes>"
            ]
          },
          "metadata": {
            "tags": [],
            "needs_background": "light"
          }
        }
      ]
    },
    {
      "cell_type": "code",
      "metadata": {
        "id": "dUllRCfLbOg7",
        "colab": {
          "base_uri": "https://localhost:8080/"
        },
        "outputId": "8d90b703-d5e9-425a-aea1-9ff63c60c06a"
      },
      "source": [
        "filepath = r\"/content/Election-Prediction/StatewisePolitics/Odisha/congress_odisha.csv\"\n",
        "emolex_df = pd.read_csv(filepath,  names=[\"word\", \"emotion\", \"association\"], skiprows=45, sep='\\t')\n",
        "emolex_df.head(12)\n",
        "len(emolex_df)"
      ],
      "execution_count": 121,
      "outputs": [
        {
          "output_type": "execute_result",
          "data": {
            "text/plain": [
              "204"
            ]
          },
          "metadata": {
            "tags": []
          },
          "execution_count": 121
        }
      ]
    },
    {
      "cell_type": "code",
      "metadata": {
        "id": "BpqvO-zZbOky"
      },
      "source": [
        "emotions={'positive':0, 'negative':0, 'surprise':0,'sadness':0,\n",
        "          'anger':0,'joy':0,'negative':0,'trust':0,'fear':0,'anticipation':0,'disgust':0}"
      ],
      "execution_count": 122,
      "outputs": []
    },
    {
      "cell_type": "code",
      "metadata": {
        "id": "5zvUJmULbOoU"
      },
      "source": [
        "word_emotion=dict()\n",
        "for i in range(0,204):\n",
        "    emotion=emolex_df['emotion'][i]\n",
        "    word=emolex_df['word'][i]\n",
        "    association=emolex_df['association'][i]\n",
        "    \n",
        "    if word not in word_emotion:\n",
        "        word_emotion[word]=dict()\n",
        "    word_emotion[word][emotion]=association\n"
      ],
      "execution_count": 125,
      "outputs": []
    },
    {
      "cell_type": "code",
      "metadata": {
        "id": "Mp3Thxfpg0nI",
        "colab": {
          "base_uri": "https://localhost:8080/"
        },
        "outputId": "77ee16b8-0837-4d9d-aec3-4e2a0ccc9824"
      },
      "source": [
        "from numpy import nan\n",
        "nan == nan\n"
      ],
      "execution_count": null,
      "outputs": [
        {
          "output_type": "execute_result",
          "data": {
            "text/plain": [
              "False"
            ]
          },
          "metadata": {
            "tags": []
          },
          "execution_count": 71
        }
      ]
    },
    {
      "cell_type": "code",
      "metadata": {
        "id": "mHtSZD_BbOry"
      },
      "source": [
        "for i in range(0,150):\n",
        "    text=df['Tweet'][i]\n",
        "    for j in text.split():\n",
        "        if j in word_emotion:\n",
        "            for k in word_emotion[j]:\n",
        "                emotions[k]+=word_emotion[j][k]"
      ],
      "execution_count": null,
      "outputs": []
    },
    {
      "cell_type": "code",
      "metadata": {
        "id": "IkuVbkfMbOvn",
        "colab": {
          "base_uri": "https://localhost:8080/"
        },
        "outputId": "1338227a-1cfc-4e30-c04d-f60084f6cbe6"
      },
      "source": [
        "emotions"
      ],
      "execution_count": null,
      "outputs": [
        {
          "output_type": "execute_result",
          "data": {
            "text/plain": [
              "{'anger': 0,\n",
              " 'anticipation': 0,\n",
              " 'disgust': 0,\n",
              " 'fear': 0,\n",
              " 'joy': 0,\n",
              " 'negative': 0,\n",
              " 'positive': 0,\n",
              " 'sadness': 0,\n",
              " 'surprise': 0,\n",
              " 'trust': 0}"
            ]
          },
          "metadata": {
            "tags": []
          },
          "execution_count": 75
        }
      ]
    },
    {
      "cell_type": "code",
      "metadata": {
        "id": "y1vRLg5bbOzL",
        "colab": {
          "base_uri": "https://localhost:8080/",
          "height": 355
        },
        "outputId": "6c75db3c-2263-46f7-83a5-1c34b85e60a5"
      },
      "source": [
        "plt.style.use('fivethirtyeight')\n",
        "plt.rcParams[\"figure.figsize\"] = [15,5]\n",
        "plt.bar(list(emotions.keys()),list(emotions.values()),color='red',alpha = 0.6)\n",
        "plt.xlabel('Emotions')\n",
        "plt.ylabel('Count')\n",
        "plt.title('Calculated Emotions Of Users ')\n",
        "plt.show()"
      ],
      "execution_count": null,
      "outputs": [
        {
          "output_type": "display_data",
          "data": {
            "image/png": "[encoded data removed]",
            "text/plain": [
              "<Figure size 1080x360 with 1 Axes>"
            ]
          },
          "metadata": {
            "tags": []
          }
        }
      ]
    },
    {
      "cell_type": "code",
      "metadata": {
        "id": "DBNBn2IebO22",
        "colab": {
          "base_uri": "https://localhost:8080/"
        },
        "outputId": "b281af76-5995-4b46-d6c0-6a9a106b6b5a"
      },
      "source": [
        "df.Location  = df.Location.fillna('INDIA')\n",
        "f = [i for i in df['Location'] if type(i) != str]\n",
        "f"
      ],
      "execution_count": 127,
      "outputs": [
        {
          "output_type": "execute_result",
          "data": {
            "text/plain": [
              "[]"
            ]
          },
          "metadata": {
            "tags": []
          },
          "execution_count": 127
        }
      ]
    },
    {
      "cell_type": "code",
      "metadata": {
        "id": "6p1TZITybO6f",
        "colab": {
          "base_uri": "https://localhost:8080/"
        },
        "outputId": "82816ed0-73cc-4fc9-9af1-3b5c05aaa4d2"
      },
      "source": [
        "df.Location = df.Location.apply(lambda x: x.replace('orissa','odisha'))\n",
        "df.Location.value_counts()"
      ],
      "execution_count": 128,
      "outputs": [
        {
          "output_type": "execute_result",
          "data": {
            "text/plain": [
              "                                                                 39\n",
              "India                                                            17\n",
              "Bhubaneswar, India                                               11\n",
              "Bhubaneshwar, India                                               8\n",
              "Bhubaneswar                                                       7\n",
              "New Delhi, India                                                  7\n",
              "Cuttack, Odisha, India                                            6\n",
              "Odisha, India                                                     3\n",
              "New Delhi-Daman                                                   3\n",
              "Mumbai, India                                                     2\n",
              "New Delhi                                                         2\n",
              "Mumbai                                                            2\n",
              "Odisha                                                            2\n",
              "India,odisha,swostipremium                                        2\n",
              "Ahmedabad                                                         2\n",
              "Hyderabad, India                                                  2\n",
              "Batumi, Georgia                                                   1\n",
              "Gurgaon, India                                                    1\n",
              "Nabarangapur, India                                               1\n",
              "California.                                                       1\n",
              "GREATER NOIDA                                                     1\n",
              "Koraput, India                                                    1\n",
              "Attabira, India                                                   1\n",
              "Bhubaneshwar, Odisha, India                                       1\n",
              "Heidelberg, Germany,  Odisha                                      1\n",
              "Florida, USA                                                      1\n",
              "Andaman Nicobar Islands, India                                    1\n",
              "Allahabad, India                                                  1\n",
              "Byculla, Mumbai                                                   1\n",
              "Bhopal, India                                                     1\n",
              "National Capital Region                                           1\n",
              "Bengaluru/Kolkata/Delhi/Patna                                     1\n",
              "Orissa, India                                                     1\n",
              "kendrapara                                                        1\n",
              "Hampi, India                                                      1\n",
              "jajpur,odisha,🇮🇳🇮🇳🇮🇳😍😍                                            1\n",
              "Bhagyanagar                                                       1\n",
              "Pondicherry                                                       1\n",
              "Chicago, IL                                                       1\n",
              "Bhubaneswar/Berhampur                                             1\n",
              "नयी दिल्ली, भारत                                                  1\n",
              "कोलकाता, /Bhadrak/ Basudevpur                                     1\n",
              "Ghatikia, Bhubaneshwar                                            1\n",
              "Villupuram                                                        1\n",
              "Banaras                                                           1\n",
              "Roblox                                                            1\n",
              "MLA,Chairman DPC Bargarh                                          1\n",
              "Balangir, India                                                   1\n",
              "Mysore, India                                                     1\n",
              "Chennai                                                           1\n",
              "BEDA BIDYA,3rd Kalinga Nagar,,BERHAMPUR-760010,,Ganjam,Odisha     1\n",
              "Name: Location, dtype: int64"
            ]
          },
          "metadata": {
            "tags": []
          },
          "execution_count": 128
        }
      ]
    },
    {
      "cell_type": "code",
      "metadata": {
        "id": "Ua1voDKQbO-F",
        "colab": {
          "base_uri": "https://localhost:8080/",
          "height": 774
        },
        "outputId": "14f5b1b0-e555-4a65-e5d1-449771aa6f57"
      },
      "source": [
        "locations = []\n",
        "locations_1 = []\n",
        "\n",
        "locations = [i.split(',')[-1] for i in df['Location']]\n",
        "locations_1 =  [i.split(',')[0] for i in df['Location']]\n",
        "df['Processed_Location'] = locations_1\n",
        "df"
      ],
      "execution_count": 129,
      "outputs": [
        {
          "output_type": "execute_result",
          "data": {
            "text/html": [
              "<div>\n",
              "<style scoped>\n",
              "    .dataframe tbody tr th:only-of-type {\n",
              "        vertical-align: middle;\n",
              "    }\n",
              "\n",
              "    .dataframe tbody tr th {\n",
              "        vertical-align: top;\n",
              "    }\n",
              "\n",
              "    .dataframe thead th {\n",
              "        text-align: right;\n",
              "    }\n",
              "</style>\n",
              "<table border=\"1\" class=\"dataframe\">\n",
              "  <thead>\n",
              "    <tr style=\"text-align: right;\">\n",
              "      <th></th>\n",
              "      <th>Date</th>\n",
              "      <th>Tweet_id</th>\n",
              "      <th>Verified</th>\n",
              "      <th>Tweet</th>\n",
              "      <th>User</th>\n",
              "      <th>Location</th>\n",
              "      <th>Source</th>\n",
              "      <th>Likes</th>\n",
              "      <th>Followers</th>\n",
              "      <th>Following</th>\n",
              "      <th>Retweets</th>\n",
              "      <th>Processed_Tweet</th>\n",
              "      <th>Processed_Location</th>\n",
              "    </tr>\n",
              "  </thead>\n",
              "  <tbody>\n",
              "    <tr>\n",
              "      <th>0</th>\n",
              "      <td>2020-11-21 20:46:00</td>\n",
              "      <td>1330251135064674304</td>\n",
              "      <td>False</td>\n",
              "      <td>@anand_mishra98 @PandaJay What after Naveen Pa...</td>\n",
              "      <td>GharWapasi_</td>\n",
              "      <td>Banaras</td>\n",
              "      <td>Twitter for Android</td>\n",
              "      <td>1</td>\n",
              "      <td>5301</td>\n",
              "      <td>1098</td>\n",
              "      <td>0</td>\n",
              "      <td>[naveen, patnaik, long, continu, age, must, al...</td>\n",
              "      <td>Banaras</td>\n",
              "    </tr>\n",
              "    <tr>\n",
              "      <th>1</th>\n",
              "      <td>2020-11-21 19:34:52</td>\n",
              "      <td>1330233236069474306</td>\n",
              "      <td>False</td>\n",
              "      <td>Naveen Patnaik writes to Hemant Soren for earl...</td>\n",
              "      <td>SanjDeep7</td>\n",
              "      <td>New Delhi-Daman</td>\n",
              "      <td>LinkedIn</td>\n",
              "      <td>0</td>\n",
              "      <td>575</td>\n",
              "      <td>8</td>\n",
              "      <td>0</td>\n",
              "      <td>[naveen, patnaik, write, hemant, soren, earli,...</td>\n",
              "      <td>New Delhi-Daman</td>\n",
              "    </tr>\n",
              "    <tr>\n",
              "      <th>2</th>\n",
              "      <td>2020-11-21 19:33:33</td>\n",
              "      <td>1330232905885507585</td>\n",
              "      <td>False</td>\n",
              "      <td>Naveen Patnaik writes to Hemant Soren for earl...</td>\n",
              "      <td>TheGlobalRealty</td>\n",
              "      <td>New Delhi, India</td>\n",
              "      <td>Twitter Web App</td>\n",
              "      <td>0</td>\n",
              "      <td>96</td>\n",
              "      <td>48</td>\n",
              "      <td>0</td>\n",
              "      <td>[naveen, patnaik, write, hemant, soren, earli,...</td>\n",
              "      <td>New Delhi</td>\n",
              "    </tr>\n",
              "    <tr>\n",
              "      <th>3</th>\n",
              "      <td>2020-11-21 19:22:30</td>\n",
              "      <td>1330230124147593216</td>\n",
              "      <td>False</td>\n",
              "      <td>Naveen Patnaik writes to Hemant Soren for earl...</td>\n",
              "      <td>SanjDeep7</td>\n",
              "      <td>New Delhi-Daman</td>\n",
              "      <td>LinkedIn</td>\n",
              "      <td>0</td>\n",
              "      <td>575</td>\n",
              "      <td>8</td>\n",
              "      <td>0</td>\n",
              "      <td>[naveen, patnaik, write, hemant, soren, earli,...</td>\n",
              "      <td>New Delhi-Daman</td>\n",
              "    </tr>\n",
              "    <tr>\n",
              "      <th>4</th>\n",
              "      <td>2020-11-21 19:21:31</td>\n",
              "      <td>1330229874284498945</td>\n",
              "      <td>False</td>\n",
              "      <td>Naveen Patnaik writes to Hemant Soren for earl...</td>\n",
              "      <td>NPM_Magazine</td>\n",
              "      <td>India</td>\n",
              "      <td>Twitter Web App</td>\n",
              "      <td>0</td>\n",
              "      <td>55</td>\n",
              "      <td>220</td>\n",
              "      <td>0</td>\n",
              "      <td>[naveen, patnaik, write, hemant, soren, earli,...</td>\n",
              "      <td>India</td>\n",
              "    </tr>\n",
              "    <tr>\n",
              "      <th>...</th>\n",
              "      <td>...</td>\n",
              "      <td>...</td>\n",
              "      <td>...</td>\n",
              "      <td>...</td>\n",
              "      <td>...</td>\n",
              "      <td>...</td>\n",
              "      <td>...</td>\n",
              "      <td>...</td>\n",
              "      <td>...</td>\n",
              "      <td>...</td>\n",
              "      <td>...</td>\n",
              "      <td>...</td>\n",
              "      <td>...</td>\n",
              "    </tr>\n",
              "    <tr>\n",
              "      <th>145</th>\n",
              "      <td>2020-11-16 04:52:35</td>\n",
              "      <td>1328199262681776128</td>\n",
              "      <td>False</td>\n",
              "      <td>@Naveen_Odisha Honourable Chief Minister Mr. N...</td>\n",
              "      <td>DeepikaBasu1</td>\n",
              "      <td></td>\n",
              "      <td>TweetDeck</td>\n",
              "      <td>0</td>\n",
              "      <td>34</td>\n",
              "      <td>23</td>\n",
              "      <td>0</td>\n",
              "      <td>[honour, chief, minist, naveen, patnaik, addre...</td>\n",
              "      <td></td>\n",
              "    </tr>\n",
              "    <tr>\n",
              "      <th>146</th>\n",
              "      <td>2020-11-16 04:42:26</td>\n",
              "      <td>1328196707566305282</td>\n",
              "      <td>False</td>\n",
              "      <td>@Naveen_Odisha Free and Fair Media is a backbo...</td>\n",
              "      <td>pradyumanpal</td>\n",
              "      <td>Orissa, India</td>\n",
              "      <td>Twitter for Android</td>\n",
              "      <td>0</td>\n",
              "      <td>218</td>\n",
              "      <td>110</td>\n",
              "      <td>0</td>\n",
              "      <td>[free, fair, media, backbon, societi, independ...</td>\n",
              "      <td>Orissa</td>\n",
              "    </tr>\n",
              "    <tr>\n",
              "      <th>147</th>\n",
              "      <td>2020-11-15 19:08:23</td>\n",
              "      <td>1328052242889510914</td>\n",
              "      <td>False</td>\n",
              "      <td>Naveen Patnaik says government will look into ...</td>\n",
              "      <td>SanjDeep7</td>\n",
              "      <td>New Delhi-Daman</td>\n",
              "      <td>LinkedIn</td>\n",
              "      <td>0</td>\n",
              "      <td>575</td>\n",
              "      <td>8</td>\n",
              "      <td>0</td>\n",
              "      <td>[naveen, patnaik, say, govern, look, vedanta, ...</td>\n",
              "      <td>New Delhi-Daman</td>\n",
              "    </tr>\n",
              "    <tr>\n",
              "      <th>148</th>\n",
              "      <td>2020-11-15 19:07:17</td>\n",
              "      <td>1328051965822046208</td>\n",
              "      <td>False</td>\n",
              "      <td>Naveen Patnaik says government will look into ...</td>\n",
              "      <td>BMirror</td>\n",
              "      <td>New Delhi, India</td>\n",
              "      <td>Twitter Web App</td>\n",
              "      <td>0</td>\n",
              "      <td>37</td>\n",
              "      <td>48</td>\n",
              "      <td>0</td>\n",
              "      <td>[naveen, patnaik, say, govern, look, vedanta, ...</td>\n",
              "      <td>New Delhi</td>\n",
              "    </tr>\n",
              "    <tr>\n",
              "      <th>149</th>\n",
              "      <td>2020-11-15 15:28:55</td>\n",
              "      <td>1327997014202675201</td>\n",
              "      <td>True</td>\n",
              "      <td>Odisha Governor Ganeshi Lal and CM Naveen Patn...</td>\n",
              "      <td>moneycontrolcom</td>\n",
              "      <td>Mumbai</td>\n",
              "      <td>Twitter Web App</td>\n",
              "      <td>9</td>\n",
              "      <td>963348</td>\n",
              "      <td>294</td>\n",
              "      <td>2</td>\n",
              "      <td>[odisha, governor, ganeshi, lal, naveen, patna...</td>\n",
              "      <td>Mumbai</td>\n",
              "    </tr>\n",
              "  </tbody>\n",
              "</table>\n",
              "<p>150 rows × 13 columns</p>\n",
              "</div>"
            ],
            "text/plain": [
              "                   Date  ...  Processed_Location\n",
              "0   2020-11-21 20:46:00  ...             Banaras\n",
              "1   2020-11-21 19:34:52  ...    New Delhi-Daman \n",
              "2   2020-11-21 19:33:33  ...           New Delhi\n",
              "3   2020-11-21 19:22:30  ...    New Delhi-Daman \n",
              "4   2020-11-21 19:21:31  ...               India\n",
              "..                  ...  ...                 ...\n",
              "145 2020-11-16 04:52:35  ...                    \n",
              "146 2020-11-16 04:42:26  ...              Orissa\n",
              "147 2020-11-15 19:08:23  ...    New Delhi-Daman \n",
              "148 2020-11-15 19:07:17  ...           New Delhi\n",
              "149 2020-11-15 15:28:55  ...              Mumbai\n",
              "\n",
              "[150 rows x 13 columns]"
            ]
          },
          "metadata": {
            "tags": []
          },
          "execution_count": 129
        }
      ]
    },
    {
      "cell_type": "code",
      "metadata": {
        "id": "Xcw2IMBrbPBW"
      },
      "source": [
        "df1 = df\n",
        "df1['sentiment'] = sentimental_score_df['val']"
      ],
      "execution_count": 130,
      "outputs": []
    },
    {
      "cell_type": "code",
      "metadata": {
        "id": "fk0h10D3bPEy",
        "colab": {
          "base_uri": "https://localhost:8080/",
          "height": 383
        },
        "outputId": "7fc408d8-128c-43bf-b025-7f48a7d2e63b"
      },
      "source": [
        "df1.to_csv('Location.csv',index = False)\n",
        "df1['day'] = df.Date.dt.day\n",
        "df1.head()"
      ],
      "execution_count": 131,
      "outputs": [
        {
          "output_type": "execute_result",
          "data": {
            "text/html": [
              "<div>\n",
              "<style scoped>\n",
              "    .dataframe tbody tr th:only-of-type {\n",
              "        vertical-align: middle;\n",
              "    }\n",
              "\n",
              "    .dataframe tbody tr th {\n",
              "        vertical-align: top;\n",
              "    }\n",
              "\n",
              "    .dataframe thead th {\n",
              "        text-align: right;\n",
              "    }\n",
              "</style>\n",
              "<table border=\"1\" class=\"dataframe\">\n",
              "  <thead>\n",
              "    <tr style=\"text-align: right;\">\n",
              "      <th></th>\n",
              "      <th>Date</th>\n",
              "      <th>Tweet_id</th>\n",
              "      <th>Verified</th>\n",
              "      <th>Tweet</th>\n",
              "      <th>User</th>\n",
              "      <th>Location</th>\n",
              "      <th>Source</th>\n",
              "      <th>Likes</th>\n",
              "      <th>Followers</th>\n",
              "      <th>Following</th>\n",
              "      <th>Retweets</th>\n",
              "      <th>Processed_Tweet</th>\n",
              "      <th>Processed_Location</th>\n",
              "      <th>sentiment</th>\n",
              "      <th>day</th>\n",
              "    </tr>\n",
              "  </thead>\n",
              "  <tbody>\n",
              "    <tr>\n",
              "      <th>0</th>\n",
              "      <td>2020-11-21 20:46:00</td>\n",
              "      <td>1330251135064674304</td>\n",
              "      <td>False</td>\n",
              "      <td>@anand_mishra98 @PandaJay What after Naveen Pa...</td>\n",
              "      <td>GharWapasi_</td>\n",
              "      <td>Banaras</td>\n",
              "      <td>Twitter for Android</td>\n",
              "      <td>1</td>\n",
              "      <td>5301</td>\n",
              "      <td>1098</td>\n",
              "      <td>0</td>\n",
              "      <td>[naveen, patnaik, long, continu, age, must, al...</td>\n",
              "      <td>Banaras</td>\n",
              "      <td>Positive</td>\n",
              "      <td>21</td>\n",
              "    </tr>\n",
              "    <tr>\n",
              "      <th>1</th>\n",
              "      <td>2020-11-21 19:34:52</td>\n",
              "      <td>1330233236069474306</td>\n",
              "      <td>False</td>\n",
              "      <td>Naveen Patnaik writes to Hemant Soren for earl...</td>\n",
              "      <td>SanjDeep7</td>\n",
              "      <td>New Delhi-Daman</td>\n",
              "      <td>LinkedIn</td>\n",
              "      <td>0</td>\n",
              "      <td>575</td>\n",
              "      <td>8</td>\n",
              "      <td>0</td>\n",
              "      <td>[naveen, patnaik, write, hemant, soren, earli,...</td>\n",
              "      <td>New Delhi-Daman</td>\n",
              "      <td>Neutral</td>\n",
              "      <td>21</td>\n",
              "    </tr>\n",
              "    <tr>\n",
              "      <th>2</th>\n",
              "      <td>2020-11-21 19:33:33</td>\n",
              "      <td>1330232905885507585</td>\n",
              "      <td>False</td>\n",
              "      <td>Naveen Patnaik writes to Hemant Soren for earl...</td>\n",
              "      <td>TheGlobalRealty</td>\n",
              "      <td>New Delhi, India</td>\n",
              "      <td>Twitter Web App</td>\n",
              "      <td>0</td>\n",
              "      <td>96</td>\n",
              "      <td>48</td>\n",
              "      <td>0</td>\n",
              "      <td>[naveen, patnaik, write, hemant, soren, earli,...</td>\n",
              "      <td>New Delhi</td>\n",
              "      <td>Neutral</td>\n",
              "      <td>21</td>\n",
              "    </tr>\n",
              "    <tr>\n",
              "      <th>3</th>\n",
              "      <td>2020-11-21 19:22:30</td>\n",
              "      <td>1330230124147593216</td>\n",
              "      <td>False</td>\n",
              "      <td>Naveen Patnaik writes to Hemant Soren for earl...</td>\n",
              "      <td>SanjDeep7</td>\n",
              "      <td>New Delhi-Daman</td>\n",
              "      <td>LinkedIn</td>\n",
              "      <td>0</td>\n",
              "      <td>575</td>\n",
              "      <td>8</td>\n",
              "      <td>0</td>\n",
              "      <td>[naveen, patnaik, write, hemant, soren, earli,...</td>\n",
              "      <td>New Delhi-Daman</td>\n",
              "      <td>Neutral</td>\n",
              "      <td>21</td>\n",
              "    </tr>\n",
              "    <tr>\n",
              "      <th>4</th>\n",
              "      <td>2020-11-21 19:21:31</td>\n",
              "      <td>1330229874284498945</td>\n",
              "      <td>False</td>\n",
              "      <td>Naveen Patnaik writes to Hemant Soren for earl...</td>\n",
              "      <td>NPM_Magazine</td>\n",
              "      <td>India</td>\n",
              "      <td>Twitter Web App</td>\n",
              "      <td>0</td>\n",
              "      <td>55</td>\n",
              "      <td>220</td>\n",
              "      <td>0</td>\n",
              "      <td>[naveen, patnaik, write, hemant, soren, earli,...</td>\n",
              "      <td>India</td>\n",
              "      <td>Neutral</td>\n",
              "      <td>21</td>\n",
              "    </tr>\n",
              "  </tbody>\n",
              "</table>\n",
              "</div>"
            ],
            "text/plain": [
              "                 Date             Tweet_id  ...  sentiment day\n",
              "0 2020-11-21 20:46:00  1330251135064674304  ...   Positive  21\n",
              "1 2020-11-21 19:34:52  1330233236069474306  ...    Neutral  21\n",
              "2 2020-11-21 19:33:33  1330232905885507585  ...    Neutral  21\n",
              "3 2020-11-21 19:22:30  1330230124147593216  ...    Neutral  21\n",
              "4 2020-11-21 19:21:31  1330229874284498945  ...    Neutral  21\n",
              "\n",
              "[5 rows x 15 columns]"
            ]
          },
          "metadata": {
            "tags": []
          },
          "execution_count": 131
        }
      ]
    },
    {
      "cell_type": "code",
      "metadata": {
        "id": "uRFstkWfbPIZ",
        "colab": {
          "base_uri": "https://localhost:8080/",
          "height": 350
        },
        "outputId": "9aba0d83-dc1b-430d-ccea-71c74b3ae4d3"
      },
      "source": [
        "sns.countplot(df['day'],hue = df['sentiment'])"
      ],
      "execution_count": 132,
      "outputs": [
        {
          "output_type": "stream",
          "text": [
            "/usr/local/lib/python3.6/dist-packages/seaborn/_decorators.py:43: FutureWarning: Pass the following variable as a keyword arg: x. From version 0.12, the only valid positional argument will be `data`, and passing other arguments without an explicit keyword will result in an error or misinterpretation.\n",
            "  FutureWarning\n"
          ],
          "name": "stderr"
        },
        {
          "output_type": "execute_result",
          "data": {
            "text/plain": [
              "<matplotlib.axes._subplots.AxesSubplot at 0x7f9e4aba8dd8>"
            ]
          },
          "metadata": {
            "tags": []
          },
          "execution_count": 132
        },
        {
          "output_type": "display_data",
          "data": {
            "image/png": "[encoded data removed]",
            "text/plain": [
              "<Figure size 432x288 with 1 Axes>"
            ]
          },
          "metadata": {
            "tags": [],
            "needs_background": "light"
          }
        }
      ]
    },
    {
      "cell_type": "code",
      "metadata": {
        "id": "wjrfS-i8bPLt"
      },
      "source": [
        "from sklearn.feature_extraction.text import CountVectorizer\n",
        "from sklearn.model_selection import train_test_split\n",
        "from sklearn.naive_bayes import GaussianNB\n",
        "from sklearn.naive_bayes import MultinomialNB\n",
        "from sklearn.metrics import confusion_matrix\n",
        "from sklearn.tree import DecisionTreeClassifier\n",
        "from sklearn.ensemble import RandomForestClassifier\n",
        "from sklearn.preprocessing import LabelEncoder \n",
        "from sklearn.model_selection import GridSearchCV\n",
        "from sklearn import model_selection\n",
        "\n",
        "from sklearn.model_selection import cross_val_score\n",
        "from sklearn.metrics import accuracy_score\n",
        "from sklearn.metrics import precision_score\n",
        "from sklearn.metrics import recall_score\n",
        "from sklearn.metrics import f1_score"
      ],
      "execution_count": 133,
      "outputs": []
    },
    {
      "cell_type": "code",
      "metadata": {
        "id": "g0S-olXjbPPW",
        "colab": {
          "base_uri": "https://localhost:8080/",
          "height": 774
        },
        "outputId": "79f490ce-b5cc-4852-c161-0c16afe17ad2"
      },
      "source": [
        "le = LabelEncoder() \n",
        "  \n",
        "df1['sentiment_1']= le.fit_transform(df1['sentiment'])\n",
        "df1"
      ],
      "execution_count": 134,
      "outputs": [
        {
          "output_type": "execute_result",
          "data": {
            "text/html": [
              "<div>\n",
              "<style scoped>\n",
              "    .dataframe tbody tr th:only-of-type {\n",
              "        vertical-align: middle;\n",
              "    }\n",
              "\n",
              "    .dataframe tbody tr th {\n",
              "        vertical-align: top;\n",
              "    }\n",
              "\n",
              "    .dataframe thead th {\n",
              "        text-align: right;\n",
              "    }\n",
              "</style>\n",
              "<table border=\"1\" class=\"dataframe\">\n",
              "  <thead>\n",
              "    <tr style=\"text-align: right;\">\n",
              "      <th></th>\n",
              "      <th>Date</th>\n",
              "      <th>Tweet_id</th>\n",
              "      <th>Verified</th>\n",
              "      <th>Tweet</th>\n",
              "      <th>User</th>\n",
              "      <th>Location</th>\n",
              "      <th>Source</th>\n",
              "      <th>Likes</th>\n",
              "      <th>Followers</th>\n",
              "      <th>Following</th>\n",
              "      <th>Retweets</th>\n",
              "      <th>Processed_Tweet</th>\n",
              "      <th>Processed_Location</th>\n",
              "      <th>sentiment</th>\n",
              "      <th>day</th>\n",
              "      <th>sentiment_1</th>\n",
              "    </tr>\n",
              "  </thead>\n",
              "  <tbody>\n",
              "    <tr>\n",
              "      <th>0</th>\n",
              "      <td>2020-11-21 20:46:00</td>\n",
              "      <td>1330251135064674304</td>\n",
              "      <td>False</td>\n",
              "      <td>@anand_mishra98 @PandaJay What after Naveen Pa...</td>\n",
              "      <td>GharWapasi_</td>\n",
              "      <td>Banaras</td>\n",
              "      <td>Twitter for Android</td>\n",
              "      <td>1</td>\n",
              "      <td>5301</td>\n",
              "      <td>1098</td>\n",
              "      <td>0</td>\n",
              "      <td>[naveen, patnaik, long, continu, age, must, al...</td>\n",
              "      <td>Banaras</td>\n",
              "      <td>Positive</td>\n",
              "      <td>21</td>\n",
              "      <td>2</td>\n",
              "    </tr>\n",
              "    <tr>\n",
              "      <th>1</th>\n",
              "      <td>2020-11-21 19:34:52</td>\n",
              "      <td>1330233236069474306</td>\n",
              "      <td>False</td>\n",
              "      <td>Naveen Patnaik writes to Hemant Soren for earl...</td>\n",
              "      <td>SanjDeep7</td>\n",
              "      <td>New Delhi-Daman</td>\n",
              "      <td>LinkedIn</td>\n",
              "      <td>0</td>\n",
              "      <td>575</td>\n",
              "      <td>8</td>\n",
              "      <td>0</td>\n",
              "      <td>[naveen, patnaik, write, hemant, soren, earli,...</td>\n",
              "      <td>New Delhi-Daman</td>\n",
              "      <td>Neutral</td>\n",
              "      <td>21</td>\n",
              "      <td>1</td>\n",
              "    </tr>\n",
              "    <tr>\n",
              "      <th>2</th>\n",
              "      <td>2020-11-21 19:33:33</td>\n",
              "      <td>1330232905885507585</td>\n",
              "      <td>False</td>\n",
              "      <td>Naveen Patnaik writes to Hemant Soren for earl...</td>\n",
              "      <td>TheGlobalRealty</td>\n",
              "      <td>New Delhi, India</td>\n",
              "      <td>Twitter Web App</td>\n",
              "      <td>0</td>\n",
              "      <td>96</td>\n",
              "      <td>48</td>\n",
              "      <td>0</td>\n",
              "      <td>[naveen, patnaik, write, hemant, soren, earli,...</td>\n",
              "      <td>New Delhi</td>\n",
              "      <td>Neutral</td>\n",
              "      <td>21</td>\n",
              "      <td>1</td>\n",
              "    </tr>\n",
              "    <tr>\n",
              "      <th>3</th>\n",
              "      <td>2020-11-21 19:22:30</td>\n",
              "      <td>1330230124147593216</td>\n",
              "      <td>False</td>\n",
              "      <td>Naveen Patnaik writes to Hemant Soren for earl...</td>\n",
              "      <td>SanjDeep7</td>\n",
              "      <td>New Delhi-Daman</td>\n",
              "      <td>LinkedIn</td>\n",
              "      <td>0</td>\n",
              "      <td>575</td>\n",
              "      <td>8</td>\n",
              "      <td>0</td>\n",
              "      <td>[naveen, patnaik, write, hemant, soren, earli,...</td>\n",
              "      <td>New Delhi-Daman</td>\n",
              "      <td>Neutral</td>\n",
              "      <td>21</td>\n",
              "      <td>1</td>\n",
              "    </tr>\n",
              "    <tr>\n",
              "      <th>4</th>\n",
              "      <td>2020-11-21 19:21:31</td>\n",
              "      <td>1330229874284498945</td>\n",
              "      <td>False</td>\n",
              "      <td>Naveen Patnaik writes to Hemant Soren for earl...</td>\n",
              "      <td>NPM_Magazine</td>\n",
              "      <td>India</td>\n",
              "      <td>Twitter Web App</td>\n",
              "      <td>0</td>\n",
              "      <td>55</td>\n",
              "      <td>220</td>\n",
              "      <td>0</td>\n",
              "      <td>[naveen, patnaik, write, hemant, soren, earli,...</td>\n",
              "      <td>India</td>\n",
              "      <td>Neutral</td>\n",
              "      <td>21</td>\n",
              "      <td>1</td>\n",
              "    </tr>\n",
              "    <tr>\n",
              "      <th>...</th>\n",
              "      <td>...</td>\n",
              "      <td>...</td>\n",
              "      <td>...</td>\n",
              "      <td>...</td>\n",
              "      <td>...</td>\n",
              "      <td>...</td>\n",
              "      <td>...</td>\n",
              "      <td>...</td>\n",
              "      <td>...</td>\n",
              "      <td>...</td>\n",
              "      <td>...</td>\n",
              "      <td>...</td>\n",
              "      <td>...</td>\n",
              "      <td>...</td>\n",
              "      <td>...</td>\n",
              "      <td>...</td>\n",
              "    </tr>\n",
              "    <tr>\n",
              "      <th>145</th>\n",
              "      <td>2020-11-16 04:52:35</td>\n",
              "      <td>1328199262681776128</td>\n",
              "      <td>False</td>\n",
              "      <td>@Naveen_Odisha Honourable Chief Minister Mr. N...</td>\n",
              "      <td>DeepikaBasu1</td>\n",
              "      <td></td>\n",
              "      <td>TweetDeck</td>\n",
              "      <td>0</td>\n",
              "      <td>34</td>\n",
              "      <td>23</td>\n",
              "      <td>0</td>\n",
              "      <td>[honour, chief, minist, naveen, patnaik, addre...</td>\n",
              "      <td></td>\n",
              "      <td>Positive</td>\n",
              "      <td>16</td>\n",
              "      <td>2</td>\n",
              "    </tr>\n",
              "    <tr>\n",
              "      <th>146</th>\n",
              "      <td>2020-11-16 04:42:26</td>\n",
              "      <td>1328196707566305282</td>\n",
              "      <td>False</td>\n",
              "      <td>@Naveen_Odisha Free and Fair Media is a backbo...</td>\n",
              "      <td>pradyumanpal</td>\n",
              "      <td>Orissa, India</td>\n",
              "      <td>Twitter for Android</td>\n",
              "      <td>0</td>\n",
              "      <td>218</td>\n",
              "      <td>110</td>\n",
              "      <td>0</td>\n",
              "      <td>[free, fair, media, backbon, societi, independ...</td>\n",
              "      <td>Orissa</td>\n",
              "      <td>Positive</td>\n",
              "      <td>16</td>\n",
              "      <td>2</td>\n",
              "    </tr>\n",
              "    <tr>\n",
              "      <th>147</th>\n",
              "      <td>2020-11-15 19:08:23</td>\n",
              "      <td>1328052242889510914</td>\n",
              "      <td>False</td>\n",
              "      <td>Naveen Patnaik says government will look into ...</td>\n",
              "      <td>SanjDeep7</td>\n",
              "      <td>New Delhi-Daman</td>\n",
              "      <td>LinkedIn</td>\n",
              "      <td>0</td>\n",
              "      <td>575</td>\n",
              "      <td>8</td>\n",
              "      <td>0</td>\n",
              "      <td>[naveen, patnaik, say, govern, look, vedanta, ...</td>\n",
              "      <td>New Delhi-Daman</td>\n",
              "      <td>Neutral</td>\n",
              "      <td>15</td>\n",
              "      <td>1</td>\n",
              "    </tr>\n",
              "    <tr>\n",
              "      <th>148</th>\n",
              "      <td>2020-11-15 19:07:17</td>\n",
              "      <td>1328051965822046208</td>\n",
              "      <td>False</td>\n",
              "      <td>Naveen Patnaik says government will look into ...</td>\n",
              "      <td>BMirror</td>\n",
              "      <td>New Delhi, India</td>\n",
              "      <td>Twitter Web App</td>\n",
              "      <td>0</td>\n",
              "      <td>37</td>\n",
              "      <td>48</td>\n",
              "      <td>0</td>\n",
              "      <td>[naveen, patnaik, say, govern, look, vedanta, ...</td>\n",
              "      <td>New Delhi</td>\n",
              "      <td>Neutral</td>\n",
              "      <td>15</td>\n",
              "      <td>1</td>\n",
              "    </tr>\n",
              "    <tr>\n",
              "      <th>149</th>\n",
              "      <td>2020-11-15 15:28:55</td>\n",
              "      <td>1327997014202675201</td>\n",
              "      <td>True</td>\n",
              "      <td>Odisha Governor Ganeshi Lal and CM Naveen Patn...</td>\n",
              "      <td>moneycontrolcom</td>\n",
              "      <td>Mumbai</td>\n",
              "      <td>Twitter Web App</td>\n",
              "      <td>9</td>\n",
              "      <td>963348</td>\n",
              "      <td>294</td>\n",
              "      <td>2</td>\n",
              "      <td>[odisha, governor, ganeshi, lal, naveen, patna...</td>\n",
              "      <td>Mumbai</td>\n",
              "      <td>Negative</td>\n",
              "      <td>15</td>\n",
              "      <td>0</td>\n",
              "    </tr>\n",
              "  </tbody>\n",
              "</table>\n",
              "<p>150 rows × 16 columns</p>\n",
              "</div>"
            ],
            "text/plain": [
              "                   Date             Tweet_id  ...  day sentiment_1\n",
              "0   2020-11-21 20:46:00  1330251135064674304  ...   21           2\n",
              "1   2020-11-21 19:34:52  1330233236069474306  ...   21           1\n",
              "2   2020-11-21 19:33:33  1330232905885507585  ...   21           1\n",
              "3   2020-11-21 19:22:30  1330230124147593216  ...   21           1\n",
              "4   2020-11-21 19:21:31  1330229874284498945  ...   21           1\n",
              "..                  ...                  ...  ...  ...         ...\n",
              "145 2020-11-16 04:52:35  1328199262681776128  ...   16           2\n",
              "146 2020-11-16 04:42:26  1328196707566305282  ...   16           2\n",
              "147 2020-11-15 19:08:23  1328052242889510914  ...   15           1\n",
              "148 2020-11-15 19:07:17  1328051965822046208  ...   15           1\n",
              "149 2020-11-15 15:28:55  1327997014202675201  ...   15           0\n",
              "\n",
              "[150 rows x 16 columns]"
            ]
          },
          "metadata": {
            "tags": []
          },
          "execution_count": 134
        }
      ]
    },
    {
      "cell_type": "code",
      "metadata": {
        "id": "xBc2j_RibPTh"
      },
      "source": [
        "cv = CountVectorizer(max_features = 1500)\n",
        "X = cv.fit_transform(all_words).toarray()\n",
        "y = df1['sentiment_1']"
      ],
      "execution_count": 135,
      "outputs": []
    },
    {
      "cell_type": "code",
      "metadata": {
        "id": "ePYtd2BMbPXN"
      },
      "source": [
        "X_train, X_test, y_train, y_test = train_test_split(X, y, test_size = 0.3, random_state = 0)\n",
        "# NEGATIVE == 0\n",
        "# NEUTRAL == 1\n",
        "# POSITIVE == 2"
      ],
      "execution_count": 136,
      "outputs": []
    },
    {
      "cell_type": "code",
      "metadata": {
        "id": "oTO3zF_gbPa5"
      },
      "source": [
        "#X_train, X_test, y_train, y_test = train_test_split(X_tfidf, y, test_size = 0.3, random_state = 0)"
      ],
      "execution_count": null,
      "outputs": []
    },
    {
      "cell_type": "code",
      "metadata": {
        "id": "iaFTWb0LbPfA"
      },
      "source": [
        "classifier_DT = DecisionTreeClassifier()\n",
        "classifier_DT.fit(X_train, y_train)\n",
        "y_pred_DT = classifier_DT.predict(X_test)"
      ],
      "execution_count": 137,
      "outputs": []
    },
    {
      "cell_type": "code",
      "metadata": {
        "id": "d27boANUbPi9",
        "colab": {
          "base_uri": "https://localhost:8080/"
        },
        "outputId": "fe789340-01fb-4c2a-bd48-53cb84611773"
      },
      "source": [
        "accuracy_score_DT = accuracy_score(y_test, y_pred_DT)\n",
        "precision_score_DT = precision_score(y_test, y_pred_DT , average = 'micro')\n",
        "recall_score_DT = recall_score(y_test, y_pred_DT , average = 'micro')\n",
        "f1_score_DT = f1_score(y_test, y_pred_DT , average = 'micro')\n",
        "print(\"Accuracy Score: \" , accuracy_score_DT)\n",
        "print(\"Precision Score: \" , precision_score_DT)\n",
        "print(\"Recall Score: \" , recall_score_DT)\n",
        "print(\"F1 Score: \" , f1_score_DT)"
      ],
      "execution_count": 138,
      "outputs": [
        {
          "output_type": "stream",
          "text": [
            "Accuracy Score:  0.6666666666666666\n",
            "Precision Score:  0.6666666666666666\n",
            "Recall Score:  0.6666666666666666\n",
            "F1 Score:  0.6666666666666666\n"
          ],
          "name": "stdout"
        }
      ]
    },
    {
      "cell_type": "code",
      "metadata": {
        "id": "drhy2odtbPmU",
        "colab": {
          "base_uri": "https://localhost:8080/",
          "height": 380
        },
        "outputId": "e4393251-91e6-4eb5-cb1e-c28821629326"
      },
      "source": [
        "cm_DT = confusion_matrix(y_test, y_pred_DT)\n",
        "\n",
        "      # neg # neutr  # pos\n",
        "# pos #  232   65      1397\n",
        "# neu #  87   1175     51\n",
        "# neg # 1104   82      321\n",
        "\n",
        "df_cm_DT = pd.DataFrame(cm_DT, range(3), range(3))\n",
        "plt.figure(figsize=(10,6))\n",
        "categories = ['Negative','Neutral','Positive']\n",
        "sns.set(font_scale=1.2) # for label size\n",
        "sns.heatmap(df_cm_DT, annot=True, annot_kws={\"size\": 18}, xticklabels = categories,\n",
        "            yticklabels = categories ,fmt=\"d\") # font size\n",
        "plt.ylim(0, 3)\n",
        "plt.show()"
      ],
      "execution_count": 139,
      "outputs": [
        {
          "output_type": "display_data",
          "data": {
            "image/png": "[encoded data removed]",
            "text/plain": [
              "<Figure size 720x432 with 2 Axes>"
            ]
          },
          "metadata": {
            "tags": [],
            "needs_background": "light"
          }
        }
      ]
    },
    {
      "cell_type": "code",
      "metadata": {
        "id": "K0CwHnJPko8z",
        "colab": {
          "base_uri": "https://localhost:8080/"
        },
        "outputId": "70e8d308-753b-4d02-ea37-6e4e4a550962"
      },
      "source": [
        "#Getting the parameters of the particular model \n",
        "classifier_DT.get_params().keys()"
      ],
      "execution_count": 140,
      "outputs": [
        {
          "output_type": "execute_result",
          "data": {
            "text/plain": [
              "dict_keys(['ccp_alpha', 'class_weight', 'criterion', 'max_depth', 'max_features', 'max_leaf_nodes', 'min_impurity_decrease', 'min_impurity_split', 'min_samples_leaf', 'min_samples_split', 'min_weight_fraction_leaf', 'presort', 'random_state', 'splitter'])"
            ]
          },
          "metadata": {
            "tags": []
          },
          "execution_count": 140
        }
      ]
    },
    {
      "cell_type": "code",
      "metadata": {
        "id": "zJvr_oyVkvC9"
      },
      "source": [
        "classifier_DT_opti = DecisionTreeClassifier() \n",
        "\n",
        "param_grid = {\"max_depth\" : [1,3,5,7],     #Setting the parameters for the model\n",
        "               \"criterion\" : [\"gini\",\"entropy\"],\n",
        "              \"min_samples_split\" : [2,3,4],\n",
        "              \"max_leaf_nodes\" : [7,8,9],\n",
        "              \"min_samples_leaf\": [2,3,4],\n",
        "             }"
      ],
      "execution_count": 141,
      "outputs": []
    },
    {
      "cell_type": "code",
      "metadata": {
        "id": "PuxfADWvkyNv",
        "colab": {
          "base_uri": "https://localhost:8080/"
        },
        "outputId": "1c34f2f0-59ef-4549-f6af-e34370df54ba"
      },
      "source": [
        "model_DT = model_selection.GridSearchCV(estimator=classifier_DT_opti, #GridSearch\n",
        "                                    param_grid=param_grid, \n",
        "                                        cv=10)\n",
        "model_DT.fit(X_train,y_train)\n",
        "print(model_DT.best_score_) #Gives the best score of the model\n",
        "print(model_DT.best_estimator_.get_params()) #Gives the best parameters"
      ],
      "execution_count": 142,
      "outputs": [
        {
          "output_type": "stream",
          "text": [
            "0.6536363636363636\n",
            "{'ccp_alpha': 0.0, 'class_weight': None, 'criterion': 'gini', 'max_depth': 7, 'max_features': None, 'max_leaf_nodes': 9, 'min_impurity_decrease': 0.0, 'min_impurity_split': None, 'min_samples_leaf': 2, 'min_samples_split': 2, 'min_weight_fraction_leaf': 0.0, 'presort': 'deprecated', 'random_state': None, 'splitter': 'best'}\n"
          ],
          "name": "stdout"
        }
      ]
    },
    {
      "cell_type": "code",
      "metadata": {
        "id": "gzgA0zjCkyQx",
        "colab": {
          "base_uri": "https://localhost:8080/"
        },
        "outputId": "1cd16004-5cfd-4a5f-bebe-2134141a5e3c"
      },
      "source": [
        "y_pred_model_DT = model_DT.predict(X_test)\n",
        "\n",
        "accuracy_score_model_DT = accuracy_score(y_test, y_pred_model_DT)\n",
        "precision_score_model_DT = precision_score(y_test, y_pred_model_DT , average = 'micro')\n",
        "recall_score_model_DT = recall_score(y_test, y_pred_model_DT , average = 'micro')\n",
        "f1_score_model_DT = f1_score(y_test, y_pred_model_DT , average = 'micro')\n",
        "print(\"Accuracy Score: \" , accuracy_score_model_DT)\n",
        "print(\"Precision Score: \" , precision_score_model_DT)\n",
        "print(\"Recall Score: \" , recall_score_model_DT)\n",
        "print(\"F1 Score: \" , f1_score_model_DT)"
      ],
      "execution_count": 144,
      "outputs": [
        {
          "output_type": "stream",
          "text": [
            "Accuracy Score:  0.6888888888888889\n",
            "Precision Score:  0.6888888888888889\n",
            "Recall Score:  0.6888888888888889\n",
            "F1 Score:  0.6888888888888889\n"
          ],
          "name": "stdout"
        }
      ]
    },
    {
      "cell_type": "code",
      "metadata": {
        "id": "J2nH4bFQkyUK",
        "colab": {
          "base_uri": "https://localhost:8080/",
          "height": 380
        },
        "outputId": "be83f347-de3e-4d6e-810f-fdde4ee8c865"
      },
      "source": [
        "cm_model_DT = confusion_matrix(y_test, y_pred_model_DT)\n",
        "\n",
        "df_cm_model_DT = pd.DataFrame(cm_model_DT, range(3), range(3))\n",
        "plt.figure(figsize=(10,6))\n",
        "categories = ['Negative','Neutral','Positive']\n",
        "sns.set(font_scale=1.2) # for label size\n",
        "sns.heatmap(df_cm_model_DT, annot=True, annot_kws={\"size\": 18}, xticklabels = categories,\n",
        "            yticklabels = categories ,fmt=\"d\") # font size\n",
        "plt.ylim(0, 3)\n",
        "plt.show()"
      ],
      "execution_count": 145,
      "outputs": [
        {
          "output_type": "display_data",
          "data": {
            "image/png": "[encoded data removed]",
            "text/plain": [
              "<Figure size 720x432 with 2 Axes>"
            ]
          },
          "metadata": {
            "tags": []
          }
        }
      ]
    },
    {
      "cell_type": "code",
      "metadata": {
        "id": "ngig2X9VkyYE"
      },
      "source": [
        "classifier_RF = RandomForestClassifier()\n",
        "classifier_RF.fit(X_train, y_train)\n",
        "y_pred_RF = classifier_RF.predict(X_test)"
      ],
      "execution_count": 146,
      "outputs": []
    },
    {
      "cell_type": "code",
      "metadata": {
        "id": "63-Ls52Jkyby",
        "colab": {
          "base_uri": "https://localhost:8080/"
        },
        "outputId": "05a4bd30-1580-4762-de37-40242ece0240"
      },
      "source": [
        "accuracy_score_RF = accuracy_score(y_test, y_pred_RF)\n",
        "precision_score_RF = precision_score(y_test, y_pred_RF , average = 'micro')\n",
        "recall_score_RF = recall_score(y_test, y_pred_RF, average = 'micro')\n",
        "f1_score_RF = f1_score(y_test, y_pred_RF, average = 'micro')\n",
        "print(\"Accuracy Score: \" , accuracy_score_RF)\n",
        "print(\"Precision Score: \" , precision_score_RF)\n",
        "print(\"Recall Score: \" , recall_score_RF)\n",
        "print(\"F1 Score: \" , f1_score_RF)"
      ],
      "execution_count": 147,
      "outputs": [
        {
          "output_type": "stream",
          "text": [
            "Accuracy Score:  0.6888888888888889\n",
            "Precision Score:  0.6888888888888889\n",
            "Recall Score:  0.6888888888888889\n",
            "F1 Score:  0.6888888888888889\n"
          ],
          "name": "stdout"
        }
      ]
    },
    {
      "cell_type": "code",
      "metadata": {
        "id": "YHbA5LWNkyfk",
        "colab": {
          "base_uri": "https://localhost:8080/",
          "height": 385
        },
        "outputId": "8b2950f9-9a1f-459b-eb3b-7503bc8c2948"
      },
      "source": [
        "cm_RF = confusion_matrix(y_test, y_pred_RF)\n",
        "\n",
        "df_cm_RF = pd.DataFrame(cm_RF, range(3), range(3))\n",
        "categories = ['Negative','Neutral','Positive']\n",
        "plt.figure(figsize=(10,6))\n",
        "sns.set(font_scale=1.2) # for label size\n",
        "sns.heatmap(df_cm_RF, annot=True, annot_kws={\"size\": 18}, xticklabels = categories,\n",
        "            yticklabels = categories,fmt=\"d\") # font size\n",
        "plt.ylim(0, 3)\n",
        "plt.show()"
      ],
      "execution_count": 148,
      "outputs": [
        {
          "output_type": "display_data",
          "data": {
            "image/png": "[encoded data removed]",
            "text/plain": [
              "<Figure size 720x432 with 2 Axes>"
            ]
          },
          "metadata": {
            "tags": []
          }
        }
      ]
    },
    {
      "cell_type": "code",
      "metadata": {
        "id": "E5BTMRiAkyl9",
        "colab": {
          "base_uri": "https://localhost:8080/"
        },
        "outputId": "e90526b0-4576-4bf8-fe38-67d4595d7a19"
      },
      "source": [
        "#Getting the parameters of the particular model \n",
        "classifier_RF.get_params().keys()"
      ],
      "execution_count": 149,
      "outputs": [
        {
          "output_type": "execute_result",
          "data": {
            "text/plain": [
              "dict_keys(['bootstrap', 'ccp_alpha', 'class_weight', 'criterion', 'max_depth', 'max_features', 'max_leaf_nodes', 'max_samples', 'min_impurity_decrease', 'min_impurity_split', 'min_samples_leaf', 'min_samples_split', 'min_weight_fraction_leaf', 'n_estimators', 'n_jobs', 'oob_score', 'random_state', 'verbose', 'warm_start'])"
            ]
          },
          "metadata": {
            "tags": []
          },
          "execution_count": 149
        }
      ]
    },
    {
      "cell_type": "code",
      "metadata": {
        "id": "VBmNF8XVkysq",
        "colab": {
          "base_uri": "https://localhost:8080/"
        },
        "outputId": "d3a7922a-f989-4a15-a0e1-0cb9a6eed2dc"
      },
      "source": [
        "classifier_RF_opti = RandomForestClassifier()\n",
        "param_grid = {\"n_estimators\": np.arange(100,1500,100), #Selecting the parameters\n",
        "               \"max_depth\": np.arange(1,20),\n",
        "               \"criterion\": [\"gini\",\"entropy\"], \n",
        "              }\n",
        "\n",
        "classifier_model_RF = model_selection.RandomizedSearchCV(estimator=classifier_RF_opti, #RandomizedSearch\n",
        "                                    param_distributions=param_grid,\n",
        "                                    n_iter=10,\n",
        "                                    scoring='accuracy',\n",
        "                                    verbose=10,\n",
        "                                    n_jobs=1,\n",
        "                                    cv=5)\n",
        "\n",
        "classifier_model_RF.fit(X_train,y_train)\n",
        "print(classifier_model_RF.best_score_) #Gives the best score of the model\n",
        "print(classifier_model_RF.best_estimator_.get_params()) #Gives the best parameters of the model"
      ],
      "execution_count": 150,
      "outputs": [
        {
          "output_type": "stream",
          "text": [
            "Fitting 5 folds for each of 10 candidates, totalling 50 fits\n",
            "[CV] n_estimators=1300, max_depth=12, criterion=entropy ..............\n"
          ],
          "name": "stdout"
        },
        {
          "output_type": "stream",
          "text": [
            "[Parallel(n_jobs=1)]: Using backend SequentialBackend with 1 concurrent workers.\n"
          ],
          "name": "stderr"
        },
        {
          "output_type": "stream",
          "text": [
            "[CV]  n_estimators=1300, max_depth=12, criterion=entropy, score=0.714, total=   1.9s\n",
            "[CV] n_estimators=1300, max_depth=12, criterion=entropy ..............\n"
          ],
          "name": "stdout"
        },
        {
          "output_type": "stream",
          "text": [
            "[Parallel(n_jobs=1)]: Done   1 out of   1 | elapsed:    1.9s remaining:    0.0s\n"
          ],
          "name": "stderr"
        },
        {
          "output_type": "stream",
          "text": [
            "[CV]  n_estimators=1300, max_depth=12, criterion=entropy, score=0.762, total=   1.9s\n",
            "[CV] n_estimators=1300, max_depth=12, criterion=entropy ..............\n"
          ],
          "name": "stdout"
        },
        {
          "output_type": "stream",
          "text": [
            "[Parallel(n_jobs=1)]: Done   2 out of   2 | elapsed:    3.7s remaining:    0.0s\n"
          ],
          "name": "stderr"
        },
        {
          "output_type": "stream",
          "text": [
            "[CV]  n_estimators=1300, max_depth=12, criterion=entropy, score=0.762, total=   1.8s\n",
            "[CV] n_estimators=1300, max_depth=12, criterion=entropy ..............\n"
          ],
          "name": "stdout"
        },
        {
          "output_type": "stream",
          "text": [
            "[Parallel(n_jobs=1)]: Done   3 out of   3 | elapsed:    5.6s remaining:    0.0s\n"
          ],
          "name": "stderr"
        },
        {
          "output_type": "stream",
          "text": [
            "[CV]  n_estimators=1300, max_depth=12, criterion=entropy, score=0.476, total=   1.9s\n",
            "[CV] n_estimators=1300, max_depth=12, criterion=entropy ..............\n"
          ],
          "name": "stdout"
        },
        {
          "output_type": "stream",
          "text": [
            "[Parallel(n_jobs=1)]: Done   4 out of   4 | elapsed:    7.4s remaining:    0.0s\n"
          ],
          "name": "stderr"
        },
        {
          "output_type": "stream",
          "text": [
            "[CV]  n_estimators=1300, max_depth=12, criterion=entropy, score=0.714, total=   1.8s\n",
            "[CV] n_estimators=1200, max_depth=15, criterion=gini .................\n"
          ],
          "name": "stdout"
        },
        {
          "output_type": "stream",
          "text": [
            "[Parallel(n_jobs=1)]: Done   5 out of   5 | elapsed:    9.3s remaining:    0.0s\n"
          ],
          "name": "stderr"
        },
        {
          "output_type": "stream",
          "text": [
            "[CV]  n_estimators=1200, max_depth=15, criterion=gini, score=0.714, total=   1.7s\n",
            "[CV] n_estimators=1200, max_depth=15, criterion=gini .................\n"
          ],
          "name": "stdout"
        },
        {
          "output_type": "stream",
          "text": [
            "[Parallel(n_jobs=1)]: Done   6 out of   6 | elapsed:   11.0s remaining:    0.0s\n"
          ],
          "name": "stderr"
        },
        {
          "output_type": "stream",
          "text": [
            "[CV]  n_estimators=1200, max_depth=15, criterion=gini, score=0.762, total=   1.7s\n",
            "[CV] n_estimators=1200, max_depth=15, criterion=gini .................\n"
          ],
          "name": "stdout"
        },
        {
          "output_type": "stream",
          "text": [
            "[Parallel(n_jobs=1)]: Done   7 out of   7 | elapsed:   12.7s remaining:    0.0s\n"
          ],
          "name": "stderr"
        },
        {
          "output_type": "stream",
          "text": [
            "[CV]  n_estimators=1200, max_depth=15, criterion=gini, score=0.762, total=   1.7s\n",
            "[CV] n_estimators=1200, max_depth=15, criterion=gini .................\n"
          ],
          "name": "stdout"
        },
        {
          "output_type": "stream",
          "text": [
            "[Parallel(n_jobs=1)]: Done   8 out of   8 | elapsed:   14.4s remaining:    0.0s\n"
          ],
          "name": "stderr"
        },
        {
          "output_type": "stream",
          "text": [
            "[CV]  n_estimators=1200, max_depth=15, criterion=gini, score=0.571, total=   1.8s\n",
            "[CV] n_estimators=1200, max_depth=15, criterion=gini .................\n"
          ],
          "name": "stdout"
        },
        {
          "output_type": "stream",
          "text": [
            "[Parallel(n_jobs=1)]: Done   9 out of   9 | elapsed:   16.2s remaining:    0.0s\n"
          ],
          "name": "stderr"
        },
        {
          "output_type": "stream",
          "text": [
            "[CV]  n_estimators=1200, max_depth=15, criterion=gini, score=0.714, total=   1.7s\n",
            "[CV] n_estimators=1200, max_depth=1, criterion=gini ..................\n",
            "[CV]  n_estimators=1200, max_depth=1, criterion=gini, score=0.571, total=   1.5s\n",
            "[CV] n_estimators=1200, max_depth=1, criterion=gini ..................\n",
            "[CV]  n_estimators=1200, max_depth=1, criterion=gini, score=0.571, total=   1.5s\n",
            "[CV] n_estimators=1200, max_depth=1, criterion=gini ..................\n",
            "[CV]  n_estimators=1200, max_depth=1, criterion=gini, score=0.476, total=   1.6s\n",
            "[CV] n_estimators=1200, max_depth=1, criterion=gini ..................\n",
            "[CV]  n_estimators=1200, max_depth=1, criterion=gini, score=0.476, total=   1.6s\n",
            "[CV] n_estimators=1200, max_depth=1, criterion=gini ..................\n",
            "[CV]  n_estimators=1200, max_depth=1, criterion=gini, score=0.619, total=   1.5s\n",
            "[CV] n_estimators=1000, max_depth=3, criterion=entropy ...............\n",
            "[CV]  n_estimators=1000, max_depth=3, criterion=entropy, score=0.667, total=   1.4s\n",
            "[CV] n_estimators=1000, max_depth=3, criterion=entropy ...............\n",
            "[CV]  n_estimators=1000, max_depth=3, criterion=entropy, score=0.667, total=   1.3s\n",
            "[CV] n_estimators=1000, max_depth=3, criterion=entropy ...............\n",
            "[CV]  n_estimators=1000, max_depth=3, criterion=entropy, score=0.619, total=   1.3s\n",
            "[CV] n_estimators=1000, max_depth=3, criterion=entropy ...............\n",
            "[CV]  n_estimators=1000, max_depth=3, criterion=entropy, score=0.476, total=   1.3s\n",
            "[CV] n_estimators=1000, max_depth=3, criterion=entropy ...............\n",
            "[CV]  n_estimators=1000, max_depth=3, criterion=entropy, score=0.667, total=   1.3s\n",
            "[CV] n_estimators=1400, max_depth=11, criterion=gini .................\n",
            "[CV]  n_estimators=1400, max_depth=11, criterion=gini, score=0.762, total=   1.9s\n",
            "[CV] n_estimators=1400, max_depth=11, criterion=gini .................\n",
            "[CV]  n_estimators=1400, max_depth=11, criterion=gini, score=0.762, total=   1.9s\n",
            "[CV] n_estimators=1400, max_depth=11, criterion=gini .................\n",
            "[CV]  n_estimators=1400, max_depth=11, criterion=gini, score=0.762, total=   2.0s\n",
            "[CV] n_estimators=1400, max_depth=11, criterion=gini .................\n",
            "[CV]  n_estimators=1400, max_depth=11, criterion=gini, score=0.524, total=   2.0s\n",
            "[CV] n_estimators=1400, max_depth=11, criterion=gini .................\n",
            "[CV]  n_estimators=1400, max_depth=11, criterion=gini, score=0.714, total=   1.9s\n",
            "[CV] n_estimators=1000, max_depth=4, criterion=gini ..................\n",
            "[CV]  n_estimators=1000, max_depth=4, criterion=gini, score=0.667, total=   1.3s\n",
            "[CV] n_estimators=1000, max_depth=4, criterion=gini ..................\n",
            "[CV]  n_estimators=1000, max_depth=4, criterion=gini, score=0.667, total=   1.3s\n",
            "[CV] n_estimators=1000, max_depth=4, criterion=gini ..................\n",
            "[CV]  n_estimators=1000, max_depth=4, criterion=gini, score=0.619, total=   1.4s\n",
            "[CV] n_estimators=1000, max_depth=4, criterion=gini ..................\n",
            "[CV]  n_estimators=1000, max_depth=4, criterion=gini, score=0.476, total=   1.3s\n",
            "[CV] n_estimators=1000, max_depth=4, criterion=gini ..................\n",
            "[CV]  n_estimators=1000, max_depth=4, criterion=gini, score=0.714, total=   1.4s\n",
            "[CV] n_estimators=700, max_depth=1, criterion=entropy ................\n",
            "[CV]  n_estimators=700, max_depth=1, criterion=entropy, score=0.571, total=   0.9s\n",
            "[CV] n_estimators=700, max_depth=1, criterion=entropy ................\n",
            "[CV]  n_estimators=700, max_depth=1, criterion=entropy, score=0.571, total=   0.9s\n",
            "[CV] n_estimators=700, max_depth=1, criterion=entropy ................\n",
            "[CV]  n_estimators=700, max_depth=1, criterion=entropy, score=0.476, total=   0.9s\n",
            "[CV] n_estimators=700, max_depth=1, criterion=entropy ................\n",
            "[CV]  n_estimators=700, max_depth=1, criterion=entropy, score=0.524, total=   0.9s\n",
            "[CV] n_estimators=700, max_depth=1, criterion=entropy ................\n",
            "[CV]  n_estimators=700, max_depth=1, criterion=entropy, score=0.571, total=   0.9s\n",
            "[CV] n_estimators=500, max_depth=17, criterion=entropy ...............\n",
            "[CV]  n_estimators=500, max_depth=17, criterion=entropy, score=0.762, total=   0.7s\n",
            "[CV] n_estimators=500, max_depth=17, criterion=entropy ...............\n",
            "[CV]  n_estimators=500, max_depth=17, criterion=entropy, score=0.714, total=   0.7s\n",
            "[CV] n_estimators=500, max_depth=17, criterion=entropy ...............\n",
            "[CV]  n_estimators=500, max_depth=17, criterion=entropy, score=0.762, total=   0.7s\n",
            "[CV] n_estimators=500, max_depth=17, criterion=entropy ...............\n",
            "[CV]  n_estimators=500, max_depth=17, criterion=entropy, score=0.524, total=   0.7s\n",
            "[CV] n_estimators=500, max_depth=17, criterion=entropy ...............\n",
            "[CV]  n_estimators=500, max_depth=17, criterion=entropy, score=0.762, total=   0.7s\n",
            "[CV] n_estimators=1100, max_depth=7, criterion=gini ..................\n",
            "[CV]  n_estimators=1100, max_depth=7, criterion=gini, score=0.714, total=   1.5s\n",
            "[CV] n_estimators=1100, max_depth=7, criterion=gini ..................\n",
            "[CV]  n_estimators=1100, max_depth=7, criterion=gini, score=0.762, total=   1.5s\n",
            "[CV] n_estimators=1100, max_depth=7, criterion=gini ..................\n",
            "[CV]  n_estimators=1100, max_depth=7, criterion=gini, score=0.762, total=   1.5s\n",
            "[CV] n_estimators=1100, max_depth=7, criterion=gini ..................\n",
            "[CV]  n_estimators=1100, max_depth=7, criterion=gini, score=0.476, total=   1.5s\n",
            "[CV] n_estimators=1100, max_depth=7, criterion=gini ..................\n",
            "[CV]  n_estimators=1100, max_depth=7, criterion=gini, score=0.714, total=   1.6s\n",
            "[CV] n_estimators=1000, max_depth=19, criterion=gini .................\n",
            "[CV]  n_estimators=1000, max_depth=19, criterion=gini, score=0.714, total=   1.5s\n",
            "[CV] n_estimators=1000, max_depth=19, criterion=gini .................\n",
            "[CV]  n_estimators=1000, max_depth=19, criterion=gini, score=0.762, total=   1.4s\n",
            "[CV] n_estimators=1000, max_depth=19, criterion=gini .................\n",
            "[CV]  n_estimators=1000, max_depth=19, criterion=gini, score=0.667, total=   1.4s\n",
            "[CV] n_estimators=1000, max_depth=19, criterion=gini .................\n",
            "[CV]  n_estimators=1000, max_depth=19, criterion=gini, score=0.571, total=   1.4s\n",
            "[CV] n_estimators=1000, max_depth=19, criterion=gini .................\n",
            "[CV]  n_estimators=1000, max_depth=19, criterion=gini, score=0.714, total=   1.5s\n"
          ],
          "name": "stdout"
        },
        {
          "output_type": "stream",
          "text": [
            "[Parallel(n_jobs=1)]: Done  50 out of  50 | elapsed:  1.2min finished\n"
          ],
          "name": "stderr"
        },
        {
          "output_type": "stream",
          "text": [
            "0.7047619047619047\n",
            "{'bootstrap': True, 'ccp_alpha': 0.0, 'class_weight': None, 'criterion': 'gini', 'max_depth': 15, 'max_features': 'auto', 'max_leaf_nodes': None, 'max_samples': None, 'min_impurity_decrease': 0.0, 'min_impurity_split': None, 'min_samples_leaf': 1, 'min_samples_split': 2, 'min_weight_fraction_leaf': 0.0, 'n_estimators': 1200, 'n_jobs': None, 'oob_score': False, 'random_state': None, 'verbose': 0, 'warm_start': False}\n"
          ],
          "name": "stdout"
        }
      ]
    },
    {
      "cell_type": "code",
      "metadata": {
        "id": "_HMg7RGQkyw9",
        "colab": {
          "base_uri": "https://localhost:8080/"
        },
        "outputId": "97e2178c-aee2-4791-d629-5f8abeb2dcd9"
      },
      "source": [
        "y_pred_model_RF = classifier_model_RF.predict(X_test)\n",
        "\n",
        "accuracy_score_model_RF = accuracy_score(y_test, y_pred_model_RF)\n",
        "precision_score_model_RF = precision_score(y_test, y_pred_model_RF , average = 'micro')\n",
        "recall_score_model_RF = recall_score(y_test, y_pred_model_RF , average = 'micro')\n",
        "f1_score_model_RF = f1_score(y_test, y_pred_model_RF , average = 'micro')\n",
        "print(\"Accuracy Score: \" , accuracy_score_model_RF)\n",
        "print(\"Precision Score: \" , precision_score_model_RF)\n",
        "print(\"Recall Score: \" , recall_score_model_RF)\n",
        "print(\"F1 Score: \" , f1_score_model_RF)"
      ],
      "execution_count": 151,
      "outputs": [
        {
          "output_type": "stream",
          "text": [
            "Accuracy Score:  0.6888888888888889\n",
            "Precision Score:  0.6888888888888889\n",
            "Recall Score:  0.6888888888888889\n",
            "F1 Score:  0.6888888888888889\n"
          ],
          "name": "stdout"
        }
      ]
    },
    {
      "cell_type": "code",
      "metadata": {
        "id": "Jv8KNIbcky7X",
        "colab": {
          "base_uri": "https://localhost:8080/",
          "height": 385
        },
        "outputId": "49563379-4419-4de4-babe-4b01426d252c"
      },
      "source": [
        "cm_model_RF = confusion_matrix(y_test, y_pred_model_RF)\n",
        "\n",
        "df_cm_model_RF = pd.DataFrame(cm_model_RF, range(3), range(3))\n",
        "plt.figure(figsize=(10,6))\n",
        "categories = ['Negative','Neutral','Positive']\n",
        "sns.set(font_scale=1.2) # for label size\n",
        "sns.heatmap(df_cm_model_RF, annot=True, annot_kws={\"size\": 18}, xticklabels = categories,\n",
        "            yticklabels = categories ,fmt=\"d\") # font size\n",
        "plt.ylim(0, 3)\n",
        "plt.show()"
      ],
      "execution_count": 152,
      "outputs": [
        {
          "output_type": "display_data",
          "data": {
            "image/png": "[encoded data removed]",
            "text/plain": [
              "<Figure size 720x432 with 2 Axes>"
            ]
          },
          "metadata": {
            "tags": []
          }
        }
      ]
    },
    {
      "cell_type": "code",
      "metadata": {
        "id": "DQyX1mAPky_I",
        "colab": {
          "base_uri": "https://localhost:8080/"
        },
        "outputId": "d5efa463-0411-4513-f362-07f341428b1b"
      },
      "source": [
        "classifier_NB = MultinomialNB()\n",
        "classifier_NB.fit(X_train, y_train)\n",
        "y_pred_NB = classifier_NB.predict(X_test)\n",
        "\n",
        "accuracy_score_NB = accuracy_score(y_test, y_pred_NB)\n",
        "precision_score_NB = precision_score(y_test, y_pred_NB , average = 'micro')\n",
        "recall_score_NB = recall_score(y_test, y_pred_NB, average = 'micro')\n",
        "f1_score_NB = f1_score(y_test, y_pred_NB, average = 'micro')\n",
        "print(\"Accuracy Score: \" , accuracy_score_NB)\n",
        "print(\"Precision Score: \" , precision_score_NB)\n",
        "print(\"Recall Score: \" , recall_score_NB)\n",
        "print(\"F1 Score: \" , f1_score_NB)"
      ],
      "execution_count": 153,
      "outputs": [
        {
          "output_type": "stream",
          "text": [
            "Accuracy Score:  0.6888888888888889\n",
            "Precision Score:  0.6888888888888889\n",
            "Recall Score:  0.6888888888888889\n",
            "F1 Score:  0.6888888888888889\n"
          ],
          "name": "stdout"
        }
      ]
    },
    {
      "cell_type": "code",
      "metadata": {
        "id": "9tg9p6S-kzDm",
        "colab": {
          "base_uri": "https://localhost:8080/",
          "height": 385
        },
        "outputId": "022ec6e1-23e5-413c-cfad-5d1c08f2245e"
      },
      "source": [
        "cm_NB = confusion_matrix(y_test, y_pred_NB)\n",
        "\n",
        "df_cm_NB = pd.DataFrame(cm_NB, range(3), range(3))\n",
        "plt.figure(figsize=(10,6))\n",
        "categories = ['Negative','Neutral','Positive']\n",
        "sns.set(font_scale=1.2) # for label size\n",
        "sns.heatmap(df_cm_NB, annot=True, annot_kws={\"size\": 18}, xticklabels = categories,\n",
        "            yticklabels = categories,fmt=\"d\") # font size\n",
        "plt.ylim(0, 3)\n",
        "plt.show()"
      ],
      "execution_count": 154,
      "outputs": [
        {
          "output_type": "display_data",
          "data": {
            "image/png": "[encoded data removed]",
            "text/plain": [
              "<Figure size 720x432 with 2 Axes>"
            ]
          },
          "metadata": {
            "tags": []
          }
        }
      ]
    },
    {
      "cell_type": "code",
      "metadata": {
        "id": "BTe09ktPkzKE",
        "colab": {
          "base_uri": "https://localhost:8080/"
        },
        "outputId": "d5e9761a-2633-46bf-9809-9959a66e6d12"
      },
      "source": [
        "#Getting the parameters of the particular model \n",
        "classifier_NB.get_params().keys()"
      ],
      "execution_count": 155,
      "outputs": [
        {
          "output_type": "execute_result",
          "data": {
            "text/plain": [
              "dict_keys(['alpha', 'class_prior', 'fit_prior'])"
            ]
          },
          "metadata": {
            "tags": []
          },
          "execution_count": 155
        }
      ]
    },
    {
      "cell_type": "code",
      "metadata": {
        "id": "NrTKsiC6kzOQ",
        "colab": {
          "base_uri": "https://localhost:8080/"
        },
        "outputId": "30b7b7fa-6b68-42df-a584-ca97e664f196"
      },
      "source": [
        "classifier_NB_opti = MultinomialNB() #Using the MultinomialNB\n",
        "param_grid = {'alpha':[1,2,3,4], } #Selecting the parameters\n",
        "\n",
        "classifier_model_NB = model_selection.GridSearchCV(estimator=classifier_NB_opti, #GridSearch\n",
        "                                    param_grid=param_grid,\n",
        "                                        cv=10)\n",
        "classifier_model_NB.fit(X_train,y_train)\n",
        "print(classifier_model_NB.best_score_) #Gives the best score of the model\n",
        "print(classifier_model_NB.best_estimator_.get_params()) #Gives the best parameters of the model"
      ],
      "execution_count": 156,
      "outputs": [
        {
          "output_type": "stream",
          "text": [
            "0.6663636363636364\n",
            "{'alpha': 1, 'class_prior': None, 'fit_prior': True}\n"
          ],
          "name": "stdout"
        }
      ]
    },
    {
      "cell_type": "code",
      "metadata": {
        "id": "2ypJAX2PkzR_",
        "colab": {
          "base_uri": "https://localhost:8080/"
        },
        "outputId": "229ac314-ad57-48f2-a6c2-bed1ada3aeba"
      },
      "source": [
        "y_pred_model_NB = classifier_model_NB.predict(X_test)\n",
        "\n",
        "accuracy_score_model_NB = accuracy_score(y_test, y_pred_model_NB)\n",
        "precision_score_model_NB = precision_score(y_test, y_pred_model_NB , average = 'micro')\n",
        "recall_score_model_NB = recall_score(y_test, y_pred_model_NB , average = 'micro')\n",
        "f1_score_model_NB = f1_score(y_test, y_pred_model_NB, average = 'micro')\n",
        "print(\"Accuracy Score: \" , accuracy_score_model_NB)\n",
        "print(\"Precision Score: \" , precision_score_model_NB)\n",
        "print(\"Recall Score: \" , recall_score_model_NB)\n",
        "print(\"F1 Score: \" , f1_score_model_NB)"
      ],
      "execution_count": 157,
      "outputs": [
        {
          "output_type": "stream",
          "text": [
            "Accuracy Score:  0.6888888888888889\n",
            "Precision Score:  0.6888888888888889\n",
            "Recall Score:  0.6888888888888889\n",
            "F1 Score:  0.6888888888888889\n"
          ],
          "name": "stdout"
        }
      ]
    },
    {
      "cell_type": "code",
      "metadata": {
        "id": "ZBBcB7kVkzVo",
        "colab": {
          "base_uri": "https://localhost:8080/",
          "height": 385
        },
        "outputId": "2f3b7435-75cf-4da3-b4ff-85f79a2b65db"
      },
      "source": [
        "cm_model_NB = confusion_matrix(y_test, y_pred_model_NB)\n",
        "\n",
        "df_cm_model_NB = pd.DataFrame(cm_model_NB, range(3), range(3))\n",
        "plt.figure(figsize=(10,6))\n",
        "categories = ['Negative','Neutral','Positive']\n",
        "sns.set(font_scale=1.2) # for label size\n",
        "sns.heatmap(df_cm_model_NB, annot=True, annot_kws={\"size\": 18}, xticklabels = categories,\n",
        "            yticklabels = categories ,fmt=\"d\") # font size\n",
        "plt.ylim(0, 3)\n",
        "plt.show()"
      ],
      "execution_count": 158,
      "outputs": [
        {
          "output_type": "display_data",
          "data": {
            "image/png": "[encoded data removed]",
            "text/plain": [
              "<Figure size 720x432 with 2 Axes>"
            ]
          },
          "metadata": {
            "tags": []
          }
        }
      ]
    },
    {
      "cell_type": "code",
      "metadata": {
        "id": "LI2iJixRkzZc",
        "colab": {
          "base_uri": "https://localhost:8080/",
          "height": 288
        },
        "outputId": "b60e482d-b1f7-4ad6-f13a-ad92960668e7"
      },
      "source": [
        "Accuracy = [accuracy_score_RF, accuracy_score_DT, accuracy_score_model_NB]\n",
        "Methods = ['Random_Forest', 'Decision_Trees', 'Naive_Bayes']\n",
        "Accuracy_pos = np.arange(len(Methods))\n",
        "plt.bar(Accuracy_pos, Accuracy)\n",
        "plt.xticks(Accuracy_pos, Methods)\n",
        "plt.title('Comparing Accuracy Score')\n",
        "plt.show()"
      ],
      "execution_count": 159,
      "outputs": [
        {
          "output_type": "display_data",
          "data": {
            "image/png": "[encoded data removed]",
            "text/plain": [
              "<Figure size 432x288 with 1 Axes>"
            ]
          },
          "metadata": {
            "tags": []
          }
        }
      ]
    },
    {
      "cell_type": "code",
      "metadata": {
        "id": "M1bdj4N1kzkQ",
        "colab": {
          "base_uri": "https://localhost:8080/",
          "height": 288
        },
        "outputId": "66692b98-1a93-49b6-ea55-fb6c7c40413f"
      },
      "source": [
        "Precision = [precision_score_RF, precision_score_DT, precision_score_model_NB]\n",
        "Methods = ['Random_Forest', 'Decision_Trees', 'Naive_Bayes']\n",
        "Precision_pos = np.arange(len(Methods))\n",
        "plt.bar(Precision_pos, Precision)\n",
        "plt.xticks(Precision_pos, Methods)\n",
        "plt.title('Comparing Precision Score')\n",
        "plt.show()"
      ],
      "execution_count": 160,
      "outputs": [
        {
          "output_type": "display_data",
          "data": {
            "image/png": "[encoded data removed]",
            "text/plain": [
              "<Figure size 432x288 with 1 Axes>"
            ]
          },
          "metadata": {
            "tags": []
          }
        }
      ]
    },
    {
      "cell_type": "code",
      "metadata": {
        "id": "PSP5LN84kzec",
        "colab": {
          "base_uri": "https://localhost:8080/",
          "height": 288
        },
        "outputId": "bf77aaaa-77d3-4549-922c-20bb079c5dcf"
      },
      "source": [
        "Recall = [recall_score_RF, recall_score_DT, recall_score_model_NB]\n",
        "Methods = ['Random_Forest', 'Decision_Trees', 'Naive_Bayes']\n",
        "Recall_pos = np.arange(len(Methods))\n",
        "plt.bar(Recall_pos, Recall)\n",
        "plt.xticks(Recall_pos, Methods)\n",
        "plt.title('Comparing Recall Score')\n",
        "plt.show()"
      ],
      "execution_count": 161,
      "outputs": [
        {
          "output_type": "display_data",
          "data": {
            "image/png": "[encoded data removed]",
            "text/plain": [
              "<Figure size 432x288 with 1 Axes>"
            ]
          },
          "metadata": {
            "tags": []
          }
        }
      ]
    },
    {
      "cell_type": "code",
      "metadata": {
        "id": "PFp_117WkzHO",
        "colab": {
          "base_uri": "https://localhost:8080/",
          "height": 288
        },
        "outputId": "e47c039e-e5cf-427b-ba07-ac0f397a7c67"
      },
      "source": [
        "\n",
        "F1 = [f1_score_RF,f1_score_DT,f1_score_model_NB]\n",
        "Methods = ['Random_Forest', 'Decision_Trees', 'Naive_Bayes']\n",
        "F1_pos = np.arange(len(Methods))\n",
        "plt.bar(F1_pos, F1)\n",
        "plt.xticks(F1_pos, Methods)\n",
        "plt.title('Comparing F1 Score')\n",
        "plt.show()"
      ],
      "execution_count": 162,
      "outputs": [
        {
          "output_type": "display_data",
          "data": {
            "image/png": "[encoded data removed]",
            "text/plain": [
              "<Figure size 432x288 with 1 Axes>"
            ]
          },
          "metadata": {
            "tags": []
          }
        }
      ]
    }
  ]
}