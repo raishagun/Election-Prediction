{
  "nbformat": 4,
  "nbformat_minor": 0,
  "metadata": {
    "colab": {
      "name": "Welcome To Colaboratory",
      "provenance": [],
      "collapsed_sections": [],
      "include_colab_link": true
    },
    "kernelspec": {
      "display_name": "Python 3",
      "name": "python3"
    }
  },
  "cells": [
    {
      "cell_type": "markdown",
      "metadata": {
        "id": "view-in-github",
        "colab_type": "text"
      },
      "source": [
        "<a href=\"https://colab.research.google.com/github/raishagun/Election-Prediction/blob/master/StatewisePolitics/Madhya%20Pradesh/spMP.ipynb\" target=\"_parent\"><img src=\"https://colab.research.google.com/assets/colab-badge.svg\" alt=\"Open In Colab\"/></a>"
      ]
    },
    {
      "cell_type": "code",
      "metadata": {
        "id": "kVfRDc2GgRqk",
        "colab": {
          "base_uri": "https://localhost:8080/"
        },
        "outputId": "d28f282d-ce8d-41fe-b29a-35ac82ca3ac5"
      },
      "source": [
        "!git clone https://github.com/raishagun/Election-Prediction.git"
      ],
      "execution_count": 94,
      "outputs": [
        {
          "output_type": "stream",
          "text": [
            "fatal: destination path 'Election-Prediction' already exists and is not an empty directory.\n"
          ],
          "name": "stdout"
        }
      ]
    },
    {
      "cell_type": "code",
      "metadata": {
        "id": "MrUePyosg9GN",
        "colab": {
          "base_uri": "https://localhost:8080/"
        },
        "outputId": "86ae40e5-251b-481e-ef27-421148b367af"
      },
      "source": [
        "import tweepy \n",
        "import pandas as pd\n",
        "from tweepy import OAuthHandler\n",
        "\n",
        "\n",
        "access_token=\"1289037463684489217-5PddOsmU9h5deRwOhdigvhg32FEgID\"\n",
        "access_token_secret=\"cAPevFduWkiNP3juu8WGAwZm69vgv8C4s8RPz0WE8MJFK\"\n",
        "\n",
        "consumer_key=\"DLhoHkK6uOGz3Ni9ybuoruiLm\"\n",
        "consumer_secret=\"jKyrDR68msnbmgZMNNJdSJwadGoed11imKV1jdlNYNczL9HvEk\"\n",
        "\n",
        "auth = tweepy.OAuthHandler(consumer_key, consumer_secret)  # authentication of access token and secret \n",
        "auth.set_access_token(access_token, access_token_secret) \n",
        "api = tweepy.API(auth,wait_on_rate_limit = True)\n",
        "\n",
        "\n",
        "date1 = \"2020-11-01\"  #Date from which you need to extract tweets\n",
        "date2 = \"2020-11-22\"  #Date till when you need to extract tweets\n",
        "\n",
        "date =[]\n",
        "user_id = []\n",
        "verified = []\n",
        "text = []\n",
        "user = []\n",
        "location = []\n",
        "source = []\n",
        "likes = []\n",
        "followers = []\n",
        "following = []\n",
        "retweets = []\n",
        "\n",
        "def get_tweets(date1,date2,word):\n",
        "    count = 0\n",
        "    for tweet in tweepy.Cursor(api.search , q=word,count =1000,lang=\"en\",since_id = date1,until = date2,tweet_mode = 'extended').items():\n",
        "        print(tweet.created_at)  #Date at which it was tweet\n",
        "        date.append(tweet.created_at)\n",
        "        print(tweet.id)          #Unique ID of tweet\n",
        "        user_id.append(tweet.id)\n",
        "        print(tweet.user.verified)   #If user who tweet is verified or not\n",
        "        verified.append(tweet.user.verified)\n",
        "        print(tweet.full_text)   #To get full text of the tweet\n",
        "        text.append(tweet.full_text)\n",
        "        print(tweet.user.screen_name)  #User screen name\n",
        "        user.append(tweet.user.screen_name)\n",
        "        print(tweet.user.location)     #Location from where the tweet came\n",
        "        location.append(tweet.user.location)\n",
        "        print(tweet.source)            #Which twitter application was used to tweet\n",
        "        source.append(tweet.source)\n",
        "        print(tweet.favorite_count)     #Number of likes on the tweet\n",
        "        likes.append(tweet.favorite_count)\n",
        "        print(tweet.user.followers_count)    #Number of followers of the user\n",
        "        followers.append(tweet.user.followers_count)\n",
        "        print(tweet.user.friends_count)      #Number of following by the user\n",
        "        following.append(tweet.user.friends_count)\n",
        "        print(tweet.retweet_count)               #Number of the retweets of the original tweet\n",
        "        retweets.append(tweet.retweet_count)\n",
        "    \n",
        "        print('<--------------------------------------------------->')\n",
        "        count+=1\n",
        "        print(count)\n",
        "    \n",
        "get_tweets(date1,date2,\"sp MP\"+\" -filter:retweets\") #Filtering out retweets to avoid duplication\n",
        "\n",
        "data = list(zip(date,user_id,verified,text,user,location,source,likes,followers,following,retweets))\n",
        "df = pd.DataFrame(data =data, columns =[\"Date\",\"Tweet_id\",\"Verified\",\"Tweet\",\n",
        "                                   \"User\",\"Location\",\"Source\",\"Likes\",\"Followers\",\"Following\",\"Retweets\"])\n",
        "\n",
        "           \n",
        "df.to_csv('sp_mp.csv',index = False)"
      ],
      "execution_count": 188,
      "outputs": [
        {
          "output_type": "stream",
          "text": [
            "2020-11-21 23:23:10\n",
            "1330290688978718730\n",
            "False\n",
            "@ArmoredWarlord @Croatsky Yeah but that's still too steep for the SP IMO.\n",
            "\n",
            "Like I literally don't care about any MP aspect of COD games.\n",
            "MazderVerhal\n",
            "United Kingdom\n",
            "Twitter Web App\n",
            "0\n",
            "16\n",
            "107\n",
            "0\n",
            "<--------------------------------------------------->\n",
            "1\n",
            "2020-11-21 23:18:20\n",
            "1330289473578524672\n",
            "False\n",
            "@mrdomino_ Same, it just never felt right. TF1 MP with TF2 SP would be the unbeatable GOAT\n",
            "Matty_Gregoire\n",
            "\n",
            "Twitter for Android\n",
            "3\n",
            "546\n",
            "567\n",
            "0\n",
            "<--------------------------------------------------->\n",
            "2\n",
            "2020-11-21 21:30:58\n",
            "1330262451280076802\n",
            "False\n",
            "@DoctorWnba SP is pretty nice\n",
            "MP is weak\n",
            "ZM is a 8/10\n",
            "CODZombieCringe\n",
            "\n",
            "Twitter for Android\n",
            "1\n",
            "269\n",
            "283\n",
            "0\n",
            "<--------------------------------------------------->\n",
            "3\n",
            "2020-11-21 18:50:00\n",
            "1330221946278187009\n",
            "False\n",
            "@slakaveli But Slak, how? We got that through sp to mp. The ps5 will have its own gtao, separate from storymode, completely destroying the sp to mp link. 😔\n",
            "lX_Dr_T4k3r_Xl\n",
            "Los Santos\n",
            "Twitter Web App\n",
            "1\n",
            "154\n",
            "146\n",
            "0\n",
            "<--------------------------------------------------->\n",
            "4\n",
            "2020-11-21 17:18:13\n",
            "1330198846136324096\n",
            "False\n",
            "I think Nicola must be one of the most unique leaders of a Indy movement whose soul task is that of Indy, yet all the mandates we've given 48 MP's, now we're faced with Brexit, IMB removal of powers from SP and not even a debate on Plan B, time to go Nicola you've failed\n",
            "ga11acher\n",
            "\n",
            "Twitter Web App\n",
            "20\n",
            "3844\n",
            "3160\n",
            "2\n",
            "<--------------------------------------------------->\n",
            "5\n",
            "2020-11-21 16:18:49\n",
            "1330183899452993549\n",
            "False\n",
            "Decided to try a commander draft jawn. Attacked two players at once and this shit goes wild. Keeps replaying itself but keeps crashing. Why would @MagicOnline think they could get MP games right when SP games have issues🧐🧐This is where it gets stuck🤦 https://t.co/m24oRnGBJv\n",
            "amthebroseph01\n",
            "Philadelphia, PA\n",
            "Twitter Web App\n",
            "0\n",
            "165\n",
            "75\n",
            "0\n",
            "<--------------------------------------------------->\n",
            "6\n",
            "2020-11-21 16:07:29\n",
            "1330181044730032128\n",
            "False\n",
            "Thiem and Djokovic on every SP &amp; MP this TB\n",
            "#NittoATPFinals https://t.co/tiTgGG9Jya\n",
            "Manora23\n",
            "\n",
            "Twitter for Android\n",
            "0\n",
            "1931\n",
            "367\n",
            "0\n",
            "<--------------------------------------------------->\n",
            "7\n",
            "2020-11-21 16:02:30\n",
            "1330179789664235522\n",
            "False\n",
            "They will go 5 times SP-MP-SP-MP\n",
            "eisberk\n",
            "Denizli, Türkiye\n",
            "Twitter for Android\n",
            "0\n",
            "19\n",
            "60\n",
            "0\n",
            "<--------------------------------------------------->\n",
            "8\n",
            "2020-11-21 16:00:54\n",
            "1330179389057863681\n",
            "False\n",
            "@aslam_IPS Great work by MP police Ma'am, do convey our best to the concerned SP👍👏\n",
            "bir_sahi\n",
            "Bharat\n",
            "Twitter for Android\n",
            "0\n",
            "705\n",
            "762\n",
            "0\n",
            "<--------------------------------------------------->\n",
            "9\n",
            "2020-11-21 16:00:38\n",
            "1330179323647684612\n",
            "True\n",
            "SP or MP?\n",
            "josemorgado\n",
            "Lisbon, Portugal\n",
            "Twitter Web App\n",
            "15\n",
            "58959\n",
            "1472\n",
            "1\n",
            "<--------------------------------------------------->\n",
            "10\n",
            "2020-11-21 14:15:05\n",
            "1330152757840539648\n",
            "False\n",
            "Updated Workforce Framework for Cybersecurity: NIST SP 800-181 Revision 1 https://t.co/b5IBRKhcoe\n",
            "PatrickCMiller\n",
            "Portland, OR (and airports)\n",
            "Buffer\n",
            "1\n",
            "7154\n",
            "2219\n",
            "0\n",
            "<--------------------------------------------------->\n",
            "11\n",
            "2020-11-21 13:57:15\n",
            "1330148272833433603\n",
            "False\n",
            "@dezAhhhhhhh If you're a fan of Zombies and of good SP and don't mind an MP that's a little sub-par then it's definitely worth getting.\n",
            "\n",
            "If you're only getting it for the MP then it might still be worth getting, but imo MW has a far better MP experience.\n",
            "\n",
            "It's still fun despite the issues\n",
            "PatchyCasts\n",
            "South Africa\n",
            "Twitter for Android\n",
            "1\n",
            "430\n",
            "447\n",
            "0\n",
            "<--------------------------------------------------->\n",
            "12\n",
            "2020-11-21 12:39:28\n",
            "1330128696435486721\n",
            "False\n",
            "@MukyModz Give your cat some time to play it might have the next sp to mp glitch😂😂\n",
            "GameCurrencyHub\n",
            "\n",
            "Twitter for iPhone\n",
            "0\n",
            "21\n",
            "34\n",
            "0\n",
            "<--------------------------------------------------->\n",
            "13\n",
            "2020-11-21 12:27:24\n",
            "1330125661571346434\n",
            "False\n",
            "@labour2702 @SP_Duckworth ... and anyone who disagrees with his assessment can just bugger off, which tbh is a startlingly bold strategy for a first term MP in the seat that is likely to be most at-risk for the Conservatives round here come next GE.\n",
            "tars75\n",
            "\n",
            "Twitter for Android\n",
            "2\n",
            "362\n",
            "1129\n",
            "0\n",
            "<--------------------------------------------------->\n",
            "14\n",
            "2020-11-21 10:07:36\n",
            "1330090479313154049\n",
            "False\n",
            "For Me For #Suriya\n",
            "Fav Character -  Goutham (MP), Athreya (24)\n",
            "Fav First Look - #24 \n",
            "Fav Teaser - #SooraraiPottru \n",
            "Fav Interval - #24\n",
            "Fav S Series - #Singam \n",
            "Fav Film - #Gajini #V1000, SP\n",
            "Fav Album - V1000 , SOK, Ayan , Poovellam Kettupaar \n",
            "\n",
            "I Evolved With You \n",
            "@Suriya_offl  Anna https://t.co/bcYxhrAzMi\n",
            "SuriyaVirat_fan\n",
            "Milky way Galaxy\n",
            "Twitter Web App\n",
            "0\n",
            "277\n",
            "350\n",
            "1\n",
            "<--------------------------------------------------->\n",
            "15\n",
            "2020-11-21 07:31:06\n",
            "1330051094513381378\n",
            "False\n",
            "Kindly take a notice of the issue @narendramodi @DGP_MP @NCWIndia @IG_Rewa @mohdept @rshuklabjp @SP_Rewa @RahulGandhi  @Trollkamalnath @iwdu_global @sharmarekha @ndtv @MinistryWCD\n",
            "gendawati\n",
            "\n",
            "Twitter for Android\n",
            "0\n",
            "0\n",
            "9\n",
            "0\n",
            "<--------------------------------------------------->\n",
            "16\n",
            "2020-11-21 04:55:11\n",
            "1330011857600573441\n",
            "False\n",
            "I also found the Draze in the room where we fought Jack and the Eye of Ouroboros while grinding. The Draze is a new weapon for Margarete. The Eye of Ouroboros fully restores MP/SP.\n",
            "RagebreakG\n",
            "\n",
            "Twitter Web App\n",
            "2\n",
            "2235\n",
            "156\n",
            "2\n",
            "<--------------------------------------------------->\n",
            "17\n",
            "2020-11-21 04:24:05\n",
            "1330004029393420288\n",
            "False\n",
            "@AngieTribecca @asifahmedapt Absurd logic, SP,BSP and Jayas each had one MLA in MP and they were crucial to make or break govt but still didn't get sold.\n",
            "Babu90_\n",
            "Aukat\n",
            "Twitter for Android\n",
            "4\n",
            "6098\n",
            "811\n",
            "2\n",
            "<--------------------------------------------------->\n",
            "18\n",
            "2020-11-21 04:23:38\n",
            "1330003915148910592\n",
            "False\n",
            "@ManishPandey @sp_dash68 @M_Lekhi Appreciable Work @M_Lekhi Ji\n",
            "Proud That As An MP You're serving India In a Better &amp; different Way \n",
            "Hope Mahadev Bless you with Good Health and Happiness 🙏\n",
            "iChauhanRJatin1\n",
            "New Delhi, India\n",
            "Twitter for Android\n",
            "2\n",
            "89\n",
            "814\n",
            "0\n",
            "<--------------------------------------------------->\n",
            "19\n",
            "2020-11-21 04:09:09\n",
            "1330000270760181761\n",
            "False\n",
            "@BeharwalAbhi @yadavteju @Rajlakshmiyadav @juhiesingh @Dr_AnuragYadav @RanjeetYadavSP1 @Ashishyadav_SP @Mahendra8400 @ARajesh_SP @yogita_singh13 @meamitsaifai15 @DeepakRanjanSP @nidhiyadavsp Happy Birthday 🥳 MP sahab\n",
            "Rahulgaju7\n",
            "Jasrana, Firozabad, Noida\n",
            "Twitter for iPhone\n",
            "1\n",
            "854\n",
            "442\n",
            "0\n",
            "<--------------------------------------------------->\n",
            "20\n",
            "2020-11-21 03:00:35\n",
            "1329983017071337472\n",
            "False\n",
            "@BathTunes @PonderingPanda6 @Ianblackford_MP @johncraigsax I don’t think it matters. As an SNP politician said in the SP recently: the facts are the facts are the facts. Happy to stand corrected if you can provide a source that disproves both article.\n",
            "kriswilliamsyk\n",
            "York, UK 🇬🇧 \n",
            "Twitter Web App\n",
            "1\n",
            "41\n",
            "92\n",
            "0\n",
            "<--------------------------------------------------->\n",
            "21\n",
            "2020-11-21 01:36:55\n",
            "1329961961094672384\n",
            "False\n",
            "@blaze187ace @SlashLP89 Fair enough. I play a combination of SP and MP games so yeah a single player I can be done with and move on. If you have all multiplayer, especially arcadish multiplayer (quick games like NBA, CoD, Halo etc) and you regularly play them at the same time then yes\n",
            "B_Aquaman\n",
            "\n",
            "Twitter Web App\n",
            "0\n",
            "92\n",
            "98\n",
            "0\n",
            "<--------------------------------------------------->\n",
            "22\n",
            "2020-11-21 01:21:07\n",
            "1329957982700929024\n",
            "False\n",
            "@a_teti @SP_IntRelations @EmelAkcali777 @SaraFregonese @IlhanMN @RepAOC @neepd @raymondobush @YairWallach @CfFominaya @AyoCaesar @hackneylad @Brian_Whit @Ianblackford_MP @zarahsultana @Doylech @marinacalculli @irenecaselli @Carolei_D @dhuber81 @AbuMrouj @SamehHanna4 @PeruginiNic Thank you so much, Andrea!!! ❤️\n",
            "KellyLynnKrause\n",
            "San Francisco, CA\n",
            "Twitter Web App\n",
            "2\n",
            "2717\n",
            "2836\n",
            "0\n",
            "<--------------------------------------------------->\n",
            "23\n",
            "2020-11-20 23:25:26\n",
            "1329928872633257986\n",
            "False\n",
            "@Mooch1978 While the triggers is cool, I’ll use it for SP if I hose to play. It’ll get in the way for MP.\n",
            "WindyCityGaming\n",
            "Chicago, IL\n",
            "Twitter for iPhone\n",
            "2\n",
            "107\n",
            "524\n",
            "0\n",
            "<--------------------------------------------------->\n",
            "24\n",
            "2020-11-20 22:40:16\n",
            "1329917503364091908\n",
            "False\n",
            "do you get some irate at something it throws your whole plans out of the window?? ive been spending too much time in MP games.. somethink irated me today unrelated to my gaming.. and its pushed me over into SP gaming today.\n",
            "Zario_Mario\n",
            "\n",
            "Twitter Web App\n",
            "0\n",
            "205\n",
            "865\n",
            "0\n",
            "<--------------------------------------------------->\n",
            "25\n",
            "2020-11-20 22:39:31\n",
            "1329917315438219264\n",
            "False\n",
            "@DarthChillash ... sp is excellent. MP is the best in 20 years, hands down.\n",
            "gi4ouR\n",
            "Zagreb, Republic of Croatia\n",
            "Twitter for Android\n",
            "2\n",
            "167\n",
            "866\n",
            "0\n",
            "<--------------------------------------------------->\n",
            "26\n",
            "2020-11-20 22:01:19\n",
            "1329907704849068032\n",
            "False\n",
            "@Polygon I like how patch notes listed all these crashes as \"rare\", when I had to stop playing after 2 days because this game kept repeatedly crashing so bad it would cause my brand new series x to shut off, both in SP and MP.  Never again, treyarch.\n",
            "TheDevilYouKnow\n",
            "Sacramento, CA\n",
            "Twitter for Android\n",
            "1\n",
            "257\n",
            "1483\n",
            "0\n",
            "<--------------------------------------------------->\n",
            "27\n",
            "2020-11-20 21:39:03\n",
            "1329902099526799363\n",
            "False\n",
            "Getting full stats would take about 20h if you only focus on that - MP rewards would include stats for SP, clothing items, boards and cheat characters.\n",
            "\n",
            "HIRE ME - I'M AVAILABLE\n",
            "DreamlandSoul\n",
            "Asturias, Spain\n",
            "Twitter Web App\n",
            "0\n",
            "60\n",
            "94\n",
            "0\n",
            "<--------------------------------------------------->\n",
            "28\n",
            "2020-11-20 21:39:03\n",
            "1329902098176204801\n",
            "False\n",
            "You can create a character or play as other characters from the franchise. Highly customizable clothing system like SSX3 but nothing is locked behind paywalls. Stats are mostly gone  in MP but are present in SP where each run gives you $ you can spend on stats.\n",
            "DreamlandSoul\n",
            "Asturias, Spain\n",
            "Twitter Web App\n",
            "0\n",
            "60\n",
            "94\n",
            "0\n",
            "<--------------------------------------------------->\n",
            "29\n",
            "2020-11-20 20:41:54\n",
            "1329887715731533824\n",
            "False\n",
            "@AsimTanvir “Purchasing” 3 seperate campaign files from the store nearly made my head explode 😂 loving both SP and MP so far.\n",
            "rpike1987\n",
            "Melbourne City\n",
            "Twitter for iPhone\n",
            "0\n",
            "17\n",
            "170\n",
            "0\n",
            "<--------------------------------------------------->\n",
            "30\n",
            "2020-11-20 20:18:09\n",
            "1329881741016903683\n",
            "False\n",
            "@Treyarch Just so you know. The game is constantly crashing on Series X after the update that was rolled out today. I’ve had 3 crashes in less than an hour. MP and SP.\n",
            "Mortifer4Gamers\n",
            "Athens,Greece\n",
            "Twitter Web App\n",
            "1\n",
            "52\n",
            "160\n",
            "0\n",
            "<--------------------------------------------------->\n",
            "31\n",
            "2020-11-20 19:52:23\n",
            "1329875256794869762\n",
            "False\n",
            "@TheBusDrivers2 @Verdict4489 There we go, not happy with it, just like me and Verdict. Start with that, cause I thought you were saying MP &gt; SP 100% 😂\n",
            "JuanyeTuda\n",
            "\n",
            "Twitter for iPhone\n",
            "1\n",
            "404\n",
            "272\n",
            "0\n",
            "<--------------------------------------------------->\n",
            "32\n",
            "2020-11-20 18:40:52\n",
            "1329857258033999878\n",
            "False\n",
            "The SBI Feed: Ducati's Panigale V4 SP + Goodbye to the R6, Archived: Yamaha's 2018 R World, Quin Design's Quest Helmet, Featured Rider Yamaha Erica - https://t.co/AO8NgbxELP https://t.co/ds8FUBKHQi\n",
            "SportBikesInc\n",
            "Everywhere...\n",
            "Mailchimp\n",
            "1\n",
            "3909\n",
            "652\n",
            "0\n",
            "<--------------------------------------------------->\n",
            "33\n",
            "2020-11-20 17:39:08\n",
            "1329841722604494855\n",
            "False\n",
            "Happy b day Respected MP Sir🙏🙏❤️❤️\n",
            "@yadavteju \n",
            "@Rajlakshmiyadav https://t.co/FPePrfYxC6\n",
            "Ashishyadav_SP\n",
            "Mainpuri U.P\n",
            "Twitter for Android\n",
            "112\n",
            "4402\n",
            "784\n",
            "14\n",
            "<--------------------------------------------------->\n",
            "34\n",
            "2020-11-20 17:05:11\n",
            "1329833180220821505\n",
            "False\n",
            "@IGN I just don't like GTA Online :/ Shame the MP has become the sole focus of Rockstar these days, would have been dope to see a SP DLC kick off the new gen consoles :( Oh well those days are long gone I guess.\n",
            "ther3n3gad3\n",
            "\n",
            "Twitter Web App\n",
            "1\n",
            "53\n",
            "199\n",
            "0\n",
            "<--------------------------------------------------->\n",
            "35\n",
            "2020-11-20 15:49:31\n",
            "1329814134247010304\n",
            "False\n",
            "@diovontehoward @RealBlameTruth Yeah, I was totally duped in to thinking it was gonna be an OG COD experience.\n",
            "\n",
            "I wish I had seen that interview before I bought it.  \n",
            "\n",
            "Shame as the SP was very good but the MP was complete ass.\n",
            "MiskellyCharlie\n",
            "England, United Kingdom\n",
            "Twitter Web App\n",
            "2\n",
            "59\n",
            "354\n",
            "0\n",
            "<--------------------------------------------------->\n",
            "36\n",
            "2020-11-20 15:18:13\n",
            "1329806258015178753\n",
            "False\n",
            "@yeezy2782 SP short but fun\n",
            "ZM one map but fun\n",
            "\n",
            "MP dogshit\n",
            "RileyTaugor\n",
            "1600\n",
            "Twitter Web App\n",
            "0\n",
            "16843\n",
            "161\n",
            "0\n",
            "<--------------------------------------------------->\n",
            "37\n",
            "2020-11-20 15:15:16\n",
            "1329805515765923840\n",
            "False\n",
            "@AkshayY04701918 @TheDeshBhakt @_YogendraYadav @ThePrintIndia @asadowaisi SP small regional outfit,RJD small outfit\n",
            "Wake up bro...70 and 40 MP seats\n",
            "MiM won just 2 , tat to defeating shiv sena MP.\n",
            "Tex41712771\n",
            "\n",
            "Twitter for Android\n",
            "0\n",
            "986\n",
            "2754\n",
            "0\n",
            "<--------------------------------------------------->\n",
            "38\n",
            "2020-11-20 14:58:26\n",
            "1329801281322459138\n",
            "False\n",
            "@rohini_sgh @atti_cus CM of one state, minister from other state are strongly speaking against it. Party has been speaking against it since 2010. Maybe leaders from state where this is being spoken strongly should come out strongly against it. Congress in MP and SP/BSP/Congress in UP\n",
            "Aaabshar\n",
            "\n",
            "Twitter for iPhone\n",
            "3\n",
            "9645\n",
            "1371\n",
            "0\n",
            "<--------------------------------------------------->\n",
            "39\n",
            "2020-11-20 14:28:46\n",
            "1329793813678788611\n",
            "False\n",
            "got a ps5 secured.\n",
            "\n",
            "fuck i spend way too long checking the site before, but when i fucking look at it like at the next day randomly after work there sits one single ps5 on the online store.\n",
            "\n",
            "my #2020luck is spend for this year.\n",
            "\n",
            "Also be honest did you get one for SP or MP?\n",
            "Silver0Soldier\n",
            "\n",
            "Twitter Web App\n",
            "0\n",
            "568\n",
            "258\n",
            "0\n",
            "<--------------------------------------------------->\n",
            "40\n",
            "2020-11-20 14:26:54\n",
            "1329793345066065924\n",
            "False\n",
            "A3 and mhyk competing to see who drives me insane first with how fast their sp/mp refils skdjdjfjf\n",
            "theuglyfairy\n",
            "Lost in Knights Hell\n",
            "Twitter for Android\n",
            "1\n",
            "436\n",
            "397\n",
            "0\n",
            "<--------------------------------------------------->\n",
            "41\n",
            "2020-11-20 13:55:40\n",
            "1329785484680318976\n",
            "False\n",
            "@That90sKidTV Oh hell NAW! \n",
            "\n",
            "Leave that toxic MP to Rockstar mate.. CDPR games must stay true to SP.\n",
            "ABurghouts\n",
            "Netherlands\n",
            "Twitter Web App\n",
            "2\n",
            "798\n",
            "831\n",
            "1\n",
            "<--------------------------------------------------->\n",
            "42\n",
            "2020-11-20 13:27:56\n",
            "1329778504536182784\n",
            "False\n",
            "Nice conversation 👍\n",
            "@rajnathsingh\n",
            "\n",
            "  @drnarottammisra\n",
            "   @AmitShah\n",
            "\n",
            "  @JPNadda\n",
            "@narendramodi\n",
            "@MohanBhagwat_\n",
            "@ChouhanShivraj\n",
            "\n",
            "@JM_Scindia\n",
            "\n",
            "@RewaCollector \n",
            "\n",
            "@SP_Rewa \n",
            "\n",
            "@rewacommissione \n",
            "\n",
            "@IG_Rewa \n",
            "\n",
            "@DGP_MP\n",
            "4lFRj9Vt1Y3iPKv\n",
            "मध्य प्रदेश, भारत\n",
            "Twitter for Android\n",
            "0\n",
            "0\n",
            "15\n",
            "0\n",
            "<--------------------------------------------------->\n",
            "43\n",
            "2020-11-20 13:23:54\n",
            "1329777488801632256\n",
            "False\n",
            "Respected )#\n",
            "Nice conversation 👍\n",
            "@rajnathsingh\n",
            "\n",
            "  @drnarottammisra\n",
            "   @AmitShah\n",
            "\n",
            "  @JPNadda\n",
            "@narendramodi\n",
            "@MohanBhagwat_\n",
            "@ChouhanShivraj\n",
            "\n",
            "@JM_Scindia\n",
            "\n",
            "@RewaCollector \n",
            "\n",
            "@SP_Rewa \n",
            "\n",
            "@rewacommissione \n",
            "\n",
            "@IG_Rewa \n",
            "\n",
            "@DGP_MP\n",
            "4lFRj9Vt1Y3iPKv\n",
            "मध्य प्रदेश, भारत\n",
            "Twitter for Android\n",
            "0\n",
            "0\n",
            "15\n",
            "0\n",
            "<--------------------------------------------------->\n",
            "44\n",
            "2020-11-20 13:21:18\n",
            "1329776836348309507\n",
            "False\n",
            "Respected \n",
            "@rajnathsingh\n",
            "\n",
            "  @drnarottammisra\n",
            "   @AmitShah\n",
            "\n",
            "  @JPNadda\n",
            "@narendramodi\n",
            "@MohanBhagwat_\n",
            "@ChouhanShivraj\n",
            "\n",
            "@JM_Scindia\n",
            "\n",
            "@RewaCollector \n",
            "\n",
            "@SP_Rewa \n",
            "\n",
            "@rewacommissione \n",
            "\n",
            "@IG_Rewa \n",
            "\n",
            "@DGP_MP\n",
            "4lFRj9Vt1Y3iPKv\n",
            "मध्य प्रदेश, भारत\n",
            "Twitter for Android\n",
            "0\n",
            "0\n",
            "15\n",
            "0\n",
            "<--------------------------------------------------->\n",
            "45\n",
            "2020-11-20 13:02:06\n",
            "1329772005688827904\n",
            "False\n",
            "@obpogueRK @kushUGHraa @ange1_priya Meetha Pan and Masal Pan is the same thing.\n",
            "\n",
            "What y'all seem to be confused about I'd Saada Pan and Masala Pan.\n",
            "\n",
            "SP : Chuna, Kattha, Supari, Elachi etc.\n",
            "MP : Gulkand, Variyari, Tuti fruti, cherry, kismis etc.\n",
            "\n",
            "I suggest y'all try Maghai too. They're made in a pack of 3.\n",
            "Spacemanspiif\n",
            "Earth - Planet Zorg\n",
            "Twitter Web App\n",
            "1\n",
            "73\n",
            "27\n",
            "1\n",
            "<--------------------------------------------------->\n",
            "46\n",
            "2020-11-20 12:58:31\n",
            "1329771101950537729\n",
            "False\n",
            "@infrarogue89 Uncharted 4 has MP.  TLOU2 is getting MP.  You left out GT Sport, which has MP but brought up Forza Horizon, Ghost of Tsushima has MP, TLOUR has MP (since you're bringing up older games like MCC), Killzone SF has MP, Everybody's Golf has MP.  Saying PS only has SP is wrong.\n",
            "MistahShowtime\n",
            "Arkansas\n",
            "Twitter Web App\n",
            "0\n",
            "114\n",
            "622\n",
            "0\n",
            "<--------------------------------------------------->\n",
            "47\n",
            "2020-11-20 11:44:39\n",
            "1329752511645949956\n",
            "False\n",
            "Analytics based variable Compactability Set-Point VComp-SP control solution by MPM Infosoft for improved casting outcomes - https://t.co/lCX1yJEf6Y\n",
            "mpmsandman\n",
            "Nagpur, India\n",
            "Mailchimp\n",
            "0\n",
            "180\n",
            "239\n",
            "0\n",
            "<--------------------------------------------------->\n",
            "48\n",
            "2020-11-20 11:43:46\n",
            "1329752292929761281\n",
            "False\n",
            "Analytics based variable Compactability Set-Point VComp-SP control solution by MPM Infosoft for improved casting outcomes - https://t.co/vALCHo3Rzo\n",
            "mpmsandman\n",
            "Nagpur, India\n",
            "Mailchimp\n",
            "0\n",
            "180\n",
            "239\n",
            "0\n",
            "<--------------------------------------------------->\n",
            "49\n",
            "2020-11-20 11:41:41\n",
            "1329751767626690560\n",
            "False\n",
            "Analytics based variable Compactability Set-Point VComp-SP control solution by MPM Infosoft for improved casting outcomes - https://t.co/U81cglFjL2\n",
            "mpmsandman\n",
            "Nagpur, India\n",
            "Mailchimp\n",
            "0\n",
            "180\n",
            "239\n",
            "0\n",
            "<--------------------------------------------------->\n",
            "50\n",
            "2020-11-20 11:20:46\n",
            "1329746501476765696\n",
            "False\n",
            "@infrarogue89 “An important difference between MP and SP games:”\n",
            "There, I fixed it for you...\n",
            "EliasHUE24\n",
            "Ελλάδα \n",
            "Twitter for iPhone\n",
            "5\n",
            "20\n",
            "225\n",
            "0\n",
            "<--------------------------------------------------->\n",
            "51\n",
            "2020-11-20 11:12:04\n",
            "1329744313299984390\n",
            "False\n",
            "Call of Duty: Black Ops Cold War Review: Stellar SP, Same-Old MP, Scrawny Zombies\n",
            "https://t.co/OzECN3V0fp\n",
            "D_S_O_Gaming\n",
            "\n",
            "Twitter Web App\n",
            "1\n",
            "2265\n",
            "240\n",
            "0\n",
            "<--------------------------------------------------->\n",
            "52\n",
            "2020-11-20 09:24:12\n",
            "1329717169647742976\n",
            "False\n",
            "@Thornejohny @pcgamer Not really. I bet there's actually a fair amount of people who are both into wrestling and gears, MP part of gears is like MP part of COD - whatever happens in SP, stays there. They don't make game after game to milk it, they simply add cosmetic DLC.\n",
            "kressnik\n",
            "Republic of Belarus\n",
            "Twitter Web App\n",
            "2\n",
            "27\n",
            "89\n",
            "0\n",
            "<--------------------------------------------------->\n",
            "53\n",
            "2020-11-20 07:50:45\n",
            "1329693650373193728\n",
            "False\n",
            "@Mercury2P Yeah, these are mostly SP. I'll often avoid a lot of MP too. Just need something to kill time with atm haha\n",
            "LycaonpictusG\n",
            "England, United Kingdom\n",
            "Twitter for Android\n",
            "1\n",
            "8551\n",
            "4721\n",
            "0\n",
            "<--------------------------------------------------->\n",
            "54\n",
            "2020-11-20 06:31:01\n",
            "1329673586215444481\n",
            "False\n",
            "DT Darren Chester MP: Our Australian Army is getting on with the job. Senator Jim Molan AO DSC and I were fortunate enough to meet with #YourADF from Sp… https://t.co/1MUlkyITfq https://t.co/HKgw7vvnGV\n",
            "DeletedByAusMPs\n",
            "\n",
            "Politwoops\n",
            "1\n",
            "1782\n",
            "7\n",
            "0\n",
            "<--------------------------------------------------->\n",
            "55\n",
            "2020-11-20 05:54:23\n",
            "1329664366644396032\n",
            "False\n",
            "@Funk_1hunnit @Arcade_Critic @BattlefrontGam5 @XcloudTimdog Who said it's one MP game\n",
            "Who says I like all those sp games and once the sp game is done for most people it's done for good and there's no longer any value like which would have more value Black ops 2 in gamepass or Tlou2\n",
            "GoldenVitus\n",
            "A Place \n",
            "Twitter for Android\n",
            "0\n",
            "14\n",
            "10\n",
            "0\n",
            "<--------------------------------------------------->\n",
            "56\n",
            "2020-11-20 05:20:04\n",
            "1329655729804828672\n",
            "False\n",
            "@SudarshanNewsTV @ChouhanShivraj @OfficeofSSC @CMMadhyaPradesh @CMandsaur @JansamparkMP @DGP_MP @mandsaur_sp ShameOnBhimAarmi\n",
            " How they behave, he is very old age person how BhimArmi person behave like very Shamefull....\n",
            "\n",
            "#ShameOnYou @BhimArmyChief\n",
            "GajendraGuda\n",
            " Pali,Rajasthan, India\n",
            "Twitter for Android\n",
            "0\n",
            "28\n",
            "285\n",
            "0\n",
            "<--------------------------------------------------->\n",
            "57\n",
            "2020-11-20 04:00:11\n",
            "1329635627206381573\n",
            "False\n",
            "@infrarogue89 I mean after I beat Halo, and Gears I barely play the MP. I prefer SP stories. MP is whatI play when I’m bored and don’t want to think much. I have nearly 400 hours of Final Fantasy XV and around 100 in Halo MCC. There are people who put hundreds-thousands of hours into 1 SP game\n",
            "NierEnix\n",
            "\n",
            "Twitter for iPhone\n",
            "1\n",
            "109\n",
            "186\n",
            "0\n",
            "<--------------------------------------------------->\n",
            "58\n",
            "2020-11-20 03:33:05\n",
            "1329628804772491267\n",
            "False\n",
            "@Trail_txt I’m talking about MP btw I’ll always play Halo SP with KB/M.\n",
            "bullexto1\n",
            "Fortress of Doom\n",
            "Twitter for iPhone\n",
            "0\n",
            "139\n",
            "179\n",
            "0\n",
            "<--------------------------------------------------->\n",
            "59\n",
            "2020-11-20 03:27:36\n",
            "1329627426561925121\n",
            "False\n",
            "@GoldenVitus @Arcade_Critic @BattlefrontGam5 @XcloudTimdog I'd say you get more value out of a sub playing SP games because after you play them you can go to the next. You play more games that way. Especially if they are actually good games lol. Who wants to pay a sub to play the same mp over and over?\n",
            "Funk_1hunnit\n",
            "\n",
            "Twitter for Android\n",
            "0\n",
            "101\n",
            "74\n",
            "0\n",
            "<--------------------------------------------------->\n",
            "60\n",
            "2020-11-20 03:18:59\n",
            "1329625258417012739\n",
            "False\n",
            "Very exciting project.\n",
            "\n",
            "@ScottMorrisonMP @AngusTaylorMP @PeterDutton_MP \n",
            "\n",
            "Get on board\n",
            "\n",
            " Green giants: the massive projects that could make Australia a clean energy superpower https://t.co/RsVGatUWHy\n",
            "sp_jamo\n",
            "\n",
            "Twitter Web App\n",
            "0\n",
            "93\n",
            "415\n",
            "0\n",
            "<--------------------------------------------------->\n",
            "61\n",
            "2020-11-20 02:22:00\n",
            "1329610916720111616\n",
            "False\n",
            "@CNNS_President @RailMinIndia @207Cobra @crpfindia @AmitShah @rajnathsingh @ChouhanShivraj @narendramodi @vijayrupanibjp @PiyushGoyal @ZeeNews @Republic_Bharat @TV9Bharatvarsh @rpfwrrtm @RatlamDRM @SP_RATLAM_MP @BJP4MP @MPDial100 @DGP_MP justicefor Ajitsinhparmar Crpf cammando\n",
            "ravi27111\n",
            "\n",
            "Twitter for Android\n",
            "1\n",
            "0\n",
            "40\n",
            "0\n",
            "<--------------------------------------------------->\n",
            "62\n",
            "2020-11-20 01:43:00\n",
            "1329601102652825600\n",
            "False\n",
            "@kartikeya_bh @JhaSanjay Made govt with the help of BSP,SP and independent MLAs in MP\n",
            "\n",
            "Jharkhand - they fought alone, AJSU left alliance, congress fought with JMM(congress is young partner)\n",
            "\n",
            "Maharastra - they have highest seats, they have fought in alliance with Shiv sena and they got majority together\n",
            "yuvrajpatel24\n",
            "रायगढ़, भारत\n",
            "Twitter Web App\n",
            "0\n",
            "123\n",
            "1903\n",
            "0\n",
            "<--------------------------------------------------->\n",
            "63\n",
            "2020-11-20 01:39:14\n",
            "1329600154622685186\n",
            "False\n",
            "There should be an option, to buy only the SP or the zombie mode of #CallOfDutyBlackOpsColdWar \n",
            "\n",
            "I really want to play it but because I probably wouldn't touch the mp I don't really see myself spending 60€ on a 5h campaign and maybe some rounds of killing zombies &lt;.&lt;\n",
            "SteveBnR\n",
            "Bassitenland\n",
            "Twitter Web App\n",
            "0\n",
            "57\n",
            "133\n",
            "0\n",
            "<--------------------------------------------------->\n",
            "64\n",
            "2020-11-19 23:40:04\n",
            "1329570164128456705\n",
            "False\n",
            "@SudarshanNewsTV @ChouhanShivraj @OfficeofSSC @CMMadhyaPradesh @CMandsaur @JansamparkMP @DGP_MP @mandsaur_sp Arrest him\n",
            "Guptabhanu30\n",
            "Jhansi, India\n",
            "Twitter for Android\n",
            "0\n",
            "6\n",
            "321\n",
            "0\n",
            "<--------------------------------------------------->\n",
            "65\n",
            "2020-11-19 23:23:26\n",
            "1329565982172405761\n",
            "False\n",
            "@AishwaryaMudgi1 MP bsp ka tha now he's rajyasabha MP from BJP, though we pay bulk of the revenue share that UP govt gets still we were not treated like own from SP and in some instances BJP\n",
            "hemantmehta_\n",
            "somewhere in India\n",
            "Twitter for Android\n",
            "0\n",
            "221\n",
            "334\n",
            "0\n",
            "<--------------------------------------------------->\n",
            "66\n",
            "2020-11-19 23:17:36\n",
            "1329564513998344194\n",
            "False\n",
            "@GibosWorld Yeah, I liked SP and Zombies but MP is bullshit, I’m like https://t.co/VJVVksglTu\n",
            "S3NT1N3L17\n",
            "\n",
            "Twitter for iPhone\n",
            "1\n",
            "423\n",
            "567\n",
            "0\n",
            "<--------------------------------------------------->\n",
            "67\n",
            "2020-11-19 22:58:01\n",
            "1329559585246621703\n",
            "False\n",
            "CRP Group's polyamide-based Windform SP composite #3dprinting material is ideal for functional parts for #drones and aerospace applications that require high resistance to damage, vibration and deformation. Learn more: https://t.co/KLxGi2TU3U\n",
            ".\n",
            "#sponsored @CRP_Group https://t.co/MHE8mtxwkY\n",
            "UnmannedSystem\n",
            "Global\n",
            "Buffer\n",
            "3\n",
            "27058\n",
            "5213\n",
            "0\n",
            "<--------------------------------------------------->\n",
            "68\n",
            "2020-11-19 22:43:30\n",
            "1329555930732695552\n",
            "False\n",
            "@RJSwimss @VagrantSteel @NGChez Except I'm not comparing apples to oranges, I'm saying no one is opting out of granny smith because fuji exists, they wouldn't have gotten A even if B existed.\n",
            "\n",
            "I'm not Not buying an MP game over an MP emu any more than a SP game over an SP emu. I want it or I don't, period.\n",
            "AllPerspicacity\n",
            "Waterville, ME\n",
            "Twitter Web App\n",
            "2\n",
            "404\n",
            "376\n",
            "0\n",
            "<--------------------------------------------------->\n",
            "69\n",
            "2020-11-19 22:10:22\n",
            "1329547593823739909\n",
            "False\n",
            "@MattMcMuscles @stopskeletons @DarkDataGame That would be awesome! Currently 1.0 is alpha so please wait for 2.0! All MP is being overhauled and SP episode is being added!\n",
            "\n",
            "New weapons, remade maps, modes\n",
            "\n",
            "SP will also have co-op and secrets to unlock\n",
            "scriptslash\n",
            "North Carolina, USA\n",
            "Twitter Web App\n",
            "0\n",
            "263\n",
            "337\n",
            "0\n",
            "<--------------------------------------------------->\n",
            "70\n",
            "2020-11-19 21:25:50\n",
            "1329536385821405185\n",
            "False\n",
            "@MillsTwitch So while I think there is a healthy market for single player games, it looks like MP games are fairly dominant.  I'd be surprised if it was less than 65/35 MP/SP.\n",
            "nelsonblake2\n",
            "NYC\n",
            "Twitter Web App\n",
            "1\n",
            "3330\n",
            "1792\n",
            "0\n",
            "<--------------------------------------------------->\n",
            "71\n",
            "2020-11-19 21:14:18\n",
            "1329533481882423298\n",
            "False\n",
            "70 % SP / 30% MP. \n",
            "\n",
            "At least that’s how my timeline feels. Even the people I know who play multiplayer seemingly do so sparingly. https://t.co/q9cc5d1vMK\n",
            "cosinetangent\n",
            "Pennsylvania, USA\n",
            "Twitter for iPhone\n",
            "2\n",
            "827\n",
            "789\n",
            "0\n",
            "<--------------------------------------------------->\n",
            "72\n",
            "2020-11-19 19:53:34\n",
            "1329513165948796928\n",
            "False\n",
            "@TimesPat @infrarogue89 So in this instance, would you say Nintendo offers the best all around library of games over the other 2 main platforms? They have both SP and MP games on lockdown in terms of sales and are unmatched. They excel at SP and MP games while the other 2 focus on one each excellently\n",
            "mcquack306\n",
            "Downey, California\n",
            "Twitter for iPhone\n",
            "1\n",
            "153\n",
            "303\n",
            "0\n",
            "<--------------------------------------------------->\n",
            "73\n",
            "2020-11-19 19:44:43\n",
            "1329510938727346181\n",
            "False\n",
            "@stiff_eye_lens @RoddTraft You can download it in parts for each MP/SP/Zombies though, I think each is around 40GB? Not sure exactly\n",
            "Riesenkalmer\n",
            "\n",
            "Twitter for Android\n",
            "1\n",
            "91\n",
            "864\n",
            "0\n",
            "<--------------------------------------------------->\n",
            "74\n",
            "2020-11-19 19:36:26\n",
            "1329508853902438410\n",
            "False\n",
            "@NeilHopkinson11 You and the other Corbyn cult members receiving news of your idol no longer being a Labour MP. https://t.co/NSiBCl0cvU\n",
            "sp_stratford\n",
            "UK\n",
            "Twitter Web App\n",
            "4\n",
            "313\n",
            "85\n",
            "0\n",
            "<--------------------------------------------------->\n",
            "75\n",
            "2020-11-19 19:36:02\n",
            "1329508751251042307\n",
            "False\n",
            "@RoddTraft Zombies good, MP ok, SP ok.\n",
            "TDevilfish\n",
            "\n",
            "Twitter for Android\n",
            "3\n",
            "311\n",
            "276\n",
            "0\n",
            "<--------------------------------------------------->\n",
            "76\n",
            "2020-11-19 19:31:42\n",
            "1329507663307272196\n",
            "False\n",
            "@macwalterslives Just wondering with regards the Galactic readiness and Hackett's interactions involving that how are you going to handle that with no MP? Are you going to connect it up to SP somehow or are you going to get rid of all that in ME3 for the remaster?\n",
            "sjsharp2008\n",
            "\n",
            "Twitter Web App\n",
            "0\n",
            "22\n",
            "66\n",
            "0\n",
            "<--------------------------------------------------->\n",
            "77\n",
            "2020-11-19 19:30:22\n",
            "1329507326152355841\n",
            "False\n",
            "@Phantom_Fox75 The SP and MP basically looked like different games to me. The MP was very much of the old CS style, it felt quite dated. Maybe with a bit more time with it I'd enjoy, it's going to be F2P so I'll check it out on release and hope the campaign isn't too expensive.\n",
            "SX2Gaming\n",
            "UK\n",
            "TweetDeck\n",
            "1\n",
            "167\n",
            "375\n",
            "0\n",
            "<--------------------------------------------------->\n",
            "78\n",
            "2020-11-19 18:44:21\n",
            "1329495748430360577\n",
            "False\n",
            "@resonantyoutube Please tell me it is both MP and SP because that would be so epic\n",
            "Alpha_Wolffe\n",
            "Santa Paula, CA\n",
            "Twitter for iPhone\n",
            "0\n",
            "10\n",
            "17\n",
            "0\n",
            "<--------------------------------------------------->\n",
            "79\n",
            "2020-11-19 18:22:10\n",
            "1329490163127480322\n",
            "False\n",
            "@FC_Violent Ya that’s some bs, I get it for sp, but mp?! 😂😂 ya I’m good on that lol\n",
            "donnyc99\n",
            "LV426\n",
            "Twitter for iPhone\n",
            "0\n",
            "273\n",
            "1086\n",
            "0\n",
            "<--------------------------------------------------->\n",
            "80\n",
            "2020-11-19 17:48:00\n",
            "1329481566893051904\n",
            "False\n",
            "@sailtheatlas Is anyone else having issues with gold not being accepted at the shipyard? Decided to come back to atlas, and in SP feeling it out only for the SY not to accept 25k in gold for a brig? Please tell me MP is not the same\n",
            "Justinarnott13\n",
            "\n",
            "Twitter for Android\n",
            "0\n",
            "1\n",
            "43\n",
            "0\n",
            "<--------------------------------------------------->\n",
            "81\n",
            "2020-11-19 17:27:28\n",
            "1329476397727842304\n",
            "False\n",
            "@satchmosax @gehitmusiken I want to love it, and MP is a lot of fun with friends, but SP wise it's just missing something to me. I can't wait to see what they might come up with for their next venture into the Gears universe.\n",
            "K__Med\n",
            "North Idaho\n",
            "Twitter Web App\n",
            "2\n",
            "817\n",
            "1498\n",
            "0\n",
            "<--------------------------------------------------->\n",
            "82\n",
            "2020-11-19 17:04:07\n",
            "1329470521927471109\n",
            "False\n",
            "@chemistscorner New blogger blindly claiming \"Parabens\" are banned or so.\n",
            "Natural preservatives...so on so forth\n",
            "Sp note only butyl paraben is banned. Not mp pb.\n",
            "unicAyu\n",
            "India\n",
            "Twitter for Android\n",
            "0\n",
            "160\n",
            "925\n",
            "0\n",
            "<--------------------------------------------------->\n",
            "83\n",
            "2020-11-19 16:54:44\n",
            "1329468160869883906\n",
            "False\n",
            "@slungelg_teckel I want dmo and sp to mp🙏🙏🙏\n",
            "lI_Fede_Il\n",
            "Torino, Piemonte\n",
            "Twitter for Android\n",
            "3\n",
            "1853\n",
            "419\n",
            "0\n",
            "<--------------------------------------------------->\n",
            "84\n",
            "2020-11-19 16:38:53\n",
            "1329464170706726912\n",
            "False\n",
            "@JamesDornanDev I'd say SP now and MP later\n",
            "Altervirtue\n",
            "Malaysia\n",
            "Twitter for Android\n",
            "1\n",
            "1\n",
            "129\n",
            "0\n",
            "<--------------------------------------------------->\n",
            "85\n",
            "2020-11-19 16:26:09\n",
            "1329460966992580611\n",
            "False\n",
            "@kuzuryuio For explanation and understanding  \n",
            "Stats for a average human\n",
            "80 -120 Hp\n",
            "0 -10 Mp\n",
            "30 - 50 Sp (stamina points often not use that's why explant)\n",
            "The other states are between 20 and 40.\n",
            "stamina points (often not use that's why explant)\n",
            "Classes level go up to max lv 10\n",
            "Dragonshield7\n",
            "Berlin\n",
            "Twitter Web App\n",
            "0\n",
            "29\n",
            "125\n",
            "0\n",
            "<--------------------------------------------------->\n",
            "86\n",
            "2020-11-19 16:15:31\n",
            "1329458292373024770\n",
            "False\n",
            "@JamesDornanDev That’s a tough one. The multiplayer is a far off stretch goal, but implementing online multiplayer early will make it easier to work other mechanics/elements into it. \n",
            "MP is a big selling point, but I’d ask the backers if it’s important to their interests over SP content.\n",
            "CasualKameron\n",
            "\n",
            "Twitter for iPad\n",
            "1\n",
            "222\n",
            "244\n",
            "0\n",
            "<--------------------------------------------------->\n",
            "87\n",
            "2020-11-19 16:07:46\n",
            "1329456339425308673\n",
            "False\n",
            "@kuzuryuio Titel Donat Dragon Overlord\n",
            "Name Io Kuzuryu\n",
            "True Name [                       ]\n",
            "\n",
            "Stats:\n",
            "\n",
            "Hp 1.000.000 ( 10.000.000.000. )     \n",
            "Mp   1.000       (10.000.000)\n",
            "Sp 5.000       (5.000.000)\n",
            "Dragonshield7\n",
            "Berlin\n",
            "Twitter Web App\n",
            "1\n",
            "29\n",
            "125\n",
            "0\n",
            "<--------------------------------------------------->\n",
            "88\n",
            "2020-11-19 16:03:07\n",
            "1329455172456738819\n",
            "False\n",
            "@ComicBookNOW I think that Rockstar could potentially have GTA Online continue as their MP game while making different SP games and just adding the maps to online for people to play. If they can make it happen without load screens, that would make it so much better than a GTA 6 online.\n",
            "Dunny9515\n",
            "Wisconsin\n",
            "Twitter for Android\n",
            "0\n",
            "4\n",
            "45\n",
            "0\n",
            "<--------------------------------------------------->\n",
            "89\n",
            "2020-11-19 14:26:04\n",
            "1329430749460779008\n",
            "False\n",
            "@davidjohnsonTF @mp_white11 @MHolder1_01 As a mathamecian I’d be inclined to go with @MHolder1_01 on this. If it was a 10 runner field and 8 were withdrawn the likelihood of the rule 4 affected price being worse than resulting SP is negligible.\n",
            "bowlinfishy\n",
            "Blackpool\n",
            "Twitter for iPhone\n",
            "1\n",
            "90\n",
            "186\n",
            "0\n",
            "<--------------------------------------------------->\n",
            "90\n",
            "2020-11-19 13:23:11\n",
            "1329414924184023041\n",
            "True\n",
            "The Lead-Lag Report: Some Challenges Ahead - https://t.co/PseNlYXEVL\n",
            "leadlagreport\n",
            "Click link for two weeks free\n",
            "Mailchimp\n",
            "5\n",
            "195188\n",
            "3033\n",
            "1\n",
            "<--------------------------------------------------->\n",
            "91\n",
            "2020-11-19 13:21:28\n",
            "1329414488626520067\n",
            "True\n",
            "The Lead-Lag Report: Some Challenges Ahead - https://t.co/6JnzyCeEyz\n",
            "leadlagreport\n",
            "Click link for two weeks free\n",
            "Mailchimp\n",
            "4\n",
            "195188\n",
            "3033\n",
            "0\n",
            "<--------------------------------------------------->\n",
            "92\n",
            "2020-11-19 13:06:55\n",
            "1329410828186087424\n",
            "False\n",
            "@Drexl_Raz For owning both personally i feel Xbox is a better platform/ecosystem. Better online, better controller, more options (backward comp, gamepass) and better MP exclusives (spent countless hours in Gears and Halo). PS4 has better SP exclusives tough and the reason i bough one.\n",
            "DestroWod\n",
            "Province of Quebec\n",
            "Twitter Web App\n",
            "1\n",
            "574\n",
            "1827\n",
            "0\n",
            "<--------------------------------------------------->\n",
            "93\n",
            "2020-11-19 13:00:59\n",
            "1329409337358512131\n",
            "False\n",
            "@JamesDornanDev Unless the MP is co-op (not enough games offer this), SP definitely.\n",
            "CaptainCaleb6\n",
            "PA\n",
            "Twitter for iPhone\n",
            "0\n",
            "197\n",
            "161\n",
            "0\n",
            "<--------------------------------------------------->\n",
            "94\n",
            "2020-11-19 11:10:04\n",
            "1329381423027916800\n",
            "False\n",
            "me: i'm out of mp\n",
            "mona: use an SP item!\n",
            "me: but it's so hard to find sp items\n",
            "mona: IT'S THE FINAL BATTLE!\n",
            "me: but i only have 85 of them\n",
            "joker_ebooks_\n",
            "\n",
            "twittbot.net\n",
            "0\n",
            "226\n",
            "8\n",
            "0\n",
            "<--------------------------------------------------->\n",
            "95\n",
            "2020-11-19 10:46:16\n",
            "1329375431196282880\n",
            "False\n",
            "@SP_Duckworth A former MP too\n",
            "scandifriend\n",
            "Wigan\n",
            "Twitter Web App\n",
            "1\n",
            "625\n",
            "1932\n",
            "0\n",
            "<--------------------------------------------------->\n",
            "96\n",
            "2020-11-19 10:12:12\n",
            "1329366859875905537\n",
            "False\n",
            "@SudarshanNewsTV @ChouhanShivraj @OfficeofSSC @CMMadhyaPradesh @CMandsaur @JansamparkMP @DGP_MP @mandsaur_sp What is wrong and why this is happening\n",
            "kksanbhariy10\n",
            "\n",
            "Twitter for Android\n",
            "0\n",
            "84\n",
            "412\n",
            "0\n",
            "<--------------------------------------------------->\n",
            "97\n",
            "2020-11-19 10:07:34\n",
            "1329365693687500802\n",
            "False\n",
            "Failed to pay donation in Durga puja due to penury, 14 tribal families in MP's Balaghat district facing social boycott in their village, Motegaon.\n",
            "They aren't allowed to graze cattle, denied medical &amp; health services, the families complained to SP.\n",
            "\n",
            "@newsclickin @ambedkariteIND https://t.co/BVqPbOfmx4\n",
            "KashifKakvi\n",
            "New Delhi / Bhopal / Patna\n",
            "Twitter for Android\n",
            "0\n",
            "329\n",
            "804\n",
            "0\n",
            "<--------------------------------------------------->\n",
            "98\n",
            "2020-11-19 07:42:06\n",
            "1329329085059719168\n",
            "False\n",
            "@KaptainKirk9090 I flip flop between MP and SP a lot. I've always liked Sony for their exclusives.\n",
            "K__Med\n",
            "North Idaho\n",
            "Twitter for iPhone\n",
            "1\n",
            "817\n",
            "1498\n",
            "0\n",
            "<--------------------------------------------------->\n",
            "99\n",
            "2020-11-19 07:31:51\n",
            "1329326508306001921\n",
            "False\n",
            "@betterpakistan Dear and respected professor when MP either MNA, MpA are involved in getting SHO DC, SP of their choice, even entire distt administration of his choice. U with due respect never restricted ur activities of making LAW. u Sir mostly spent ur energy in defending MS  No more words pl\n",
            "GhulamH08076557\n",
            "\n",
            "Twitter for Android\n",
            "0\n",
            "156\n",
            "289\n",
            "0\n",
            "<--------------------------------------------------->\n",
            "100\n",
            "2020-11-19 06:58:35\n",
            "1329318135279742976\n",
            "False\n",
            "Gears 5 was a decent attempt at a good exclusive by Xbox, but even with the Series X upgrades, it's SP campaign is still...meh. MP is gorgeous and fun, but Gears needs a reboot.\n",
            "K__Med\n",
            "North Idaho\n",
            "Twitter for iPhone\n",
            "5\n",
            "817\n",
            "1498\n",
            "0\n",
            "<--------------------------------------------------->\n",
            "101\n",
            "2020-11-19 05:48:10\n",
            "1329300412789211136\n",
            "False\n",
            "Respected all \"MLA\" ,\"MP\", \"DM\" &amp;\"SP\"of Neemuch (m.p.)the terror of sand mafias is high in Neemuch district, which passes through the village in a loud voice and at a high speed. No action is taken despite many complaints. Fear God, you will have to answer to them,,,,\n",
            "PUSHKARRAJPATI1\n",
            "\n",
            "Twitter Web App\n",
            "1\n",
            "2\n",
            "14\n",
            "0\n",
            "<--------------------------------------------------->\n",
            "102\n",
            "2020-11-19 05:43:10\n",
            "1329299153956917248\n",
            "False\n",
            "@SudarshanNewsTV @ChouhanShivraj @OfficeofSSC @CMMadhyaPradesh @CMandsaur @JansamparkMP @DGP_MP @mandsaur_sp Why Shiv Raj Singh Chouhan not reply this twit and another power full man\n",
            "Abhishe83363195\n",
            "Indiana, USA\n",
            "Twitter for Android\n",
            "0\n",
            "559\n",
            "840\n",
            "0\n",
            "<--------------------------------------------------->\n",
            "103\n",
            "2020-11-19 05:04:28\n",
            "1329289416813154305\n",
            "False\n",
            "@NnamzYT @SkillUpYT @ChrisRGun Haven't bought a COD for a few years, but I hear the latest one does a great job... May get it for my son (for Christmas) who has been asking for it.\n",
            "\n",
            "I don't play MP (Old age), is the SP any good?\n",
            "\n",
            "My son plays MP and I play SP with COD games.\n",
            "muzdbuz\n",
            "Australia\n",
            "Twitter for Android\n",
            "0\n",
            "161\n",
            "833\n",
            "0\n",
            "<--------------------------------------------------->\n",
            "104\n",
            "2020-11-19 04:17:53\n",
            "1329277693452435456\n",
            "False\n",
            "Wow, 6+ years ago I met an amazing group of friends and started a new career that I love.\n",
            "\n",
            "I also put on 40lbs crunching to ship this.\n",
            "\n",
            "A new engine, 5 platforms, SP+MP, largest game the studio ever made, GOTY.  Can't wait to see what that team does next! https://t.co/WiWVMZrSFv\n",
            "BlairBroon\n",
            "Los Angeles, CA\n",
            "Twitter Web App\n",
            "137\n",
            "5875\n",
            "292\n",
            "3\n",
            "<--------------------------------------------------->\n",
            "105\n",
            "2020-11-19 02:55:28\n",
            "1329256952971464704\n",
            "False\n",
            "@ChapraZila Chapra all road should be clean and green, with all beautification.\n",
            "Local MLA, MP, Judge, DM ,SP, SSP, Magistrates and municipal should contribute their valuable support to make a beautiful city. \n",
            "Chapra is not like a city even having all Govt institutions running from there.\n",
            "sanrajsingh2003\n",
            "India\n",
            "Twitter for Android\n",
            "0\n",
            "147\n",
            "134\n",
            "0\n",
            "<--------------------------------------------------->\n",
            "106\n",
            "2020-11-19 02:39:02\n",
            "1329252816880328711\n",
            "False\n",
            "@bermudez3angle word, yeah the SP games I had were literally the best I had ever had up to that point. and I was fine with the MP games being with randos, only recently did I even start playing with people I knew, I was super accustomed to the pre-internet era lol.\n",
            "ArchdukeRedcat\n",
            "Queens\n",
            "Twitter Web App\n",
            "1\n",
            "732\n",
            "3164\n",
            "0\n",
            "<--------------------------------------------------->\n",
            "107\n",
            "2020-11-19 02:34:14\n",
            "1329251609235243008\n",
            "False\n",
            "@ArchdukeRedcat Also just to be clear here: 99% the marketing doesn’t matter for me. I generally end up liking single player games more anyways. But this was like the ONE generation where the SP games I had weren’t home runs for me so MP mattered more.\n",
            "bermudez3angle\n",
            "Redmond, WA\n",
            "Twitter for iPhone\n",
            "0\n",
            "47\n",
            "142\n",
            "0\n",
            "<--------------------------------------------------->\n",
            "108\n",
            "2020-11-19 02:13:28\n",
            "1329246382088204289\n",
            "False\n",
            "@stormbr16619036 @Drift0r @Tony_Flame This little \"upgrade\" will kill the game and will make you lose lots of players.\n",
            "\n",
            "@Tony_Flame @Treyarch @DavidVonderhaar \n",
            "\n",
            "Keep it at Zombies and SP , but let console players enjoy the game fairly at MP.\n",
            "\n",
            "If we never wanted to deal with PC players , why do u think we wantd FOV...\n",
            "K1ll3rXtreme\n",
            "\n",
            "Twitter Web App\n",
            "0\n",
            "102\n",
            "217\n",
            "0\n",
            "<--------------------------------------------------->\n",
            "109\n",
            "2020-11-19 01:46:30\n",
            "1329239594592657408\n",
            "False\n",
            "Domestic bonds from Chinese state-owned-enterprises fell for a third day amid deepening concern that the companies will be unable to pay down their debts. https://t.co/TyOSNOPW6w\n",
            "Umesh_Desai\n",
            "Hong Kong\n",
            "Twitter Web App\n",
            "0\n",
            "890\n",
            "204\n",
            "0\n",
            "<--------------------------------------------------->\n",
            "110\n",
            "2020-11-18 22:13:13\n",
            "1329185921342857219\n",
            "False\n",
            "@marcos27pr @11bravo1789 The biggest selling MP games all sell the most on playstation. Call of Duty, Madden, 2K and every third party Triple A title all sell the most on playstation. And on top of all that, we get SP exclusives. All you guys have are the same tired franchises. Halo, Gears and Forza. https://t.co/3EXs479Y72\n",
            "romanklan\n",
            "Bronx, NY\n",
            "Twitter for Android\n",
            "0\n",
            "971\n",
            "933\n",
            "0\n",
            "<--------------------------------------------------->\n",
            "111\n",
            "2020-11-18 21:20:05\n",
            "1329172551617142786\n",
            "False\n",
            "@11bravo1789 @romanklan Yea because you Sony fans only like 1 type of game \n",
            "\n",
            "(Sp cinematic storyteling)\n",
            "\n",
            "Xbox fans are far more diverse. Most  xbox game have \n",
            "Sp\n",
            "Mp \n",
            "Coop \n",
            "An extra mode like hord or warzone or scape \n",
            "Map editor \n",
            "\n",
            "Sony only make sp story games whit photomode to brag fake gfx 😏\n",
            "marcos27pr\n",
            "\n",
            "Twitter for Android\n",
            "0\n",
            "67\n",
            "70\n",
            "0\n",
            "<--------------------------------------------------->\n",
            "112\n",
            "2020-11-18 20:16:36\n",
            "1329156575764819970\n",
            "False\n",
            "@Wrecks_ @charlieINTEL @Treyarch honestly, SP was fantastic, bit short but great. Zombies, likewise. But MP? Oh boy, to say that it is cheater infested, content lacking, unbalanced, unfair, utter shit is like to say nothing. Shame it is a massive stepback from Modern Warfare\n",
            "BumTheBeggar\n",
            "\n",
            "Twitter Web App\n",
            "0\n",
            "2\n",
            "54\n",
            "0\n",
            "<--------------------------------------------------->\n",
            "113\n",
            "2020-11-18 19:42:28\n",
            "1329147983103881217\n",
            "False\n",
            "@SudarshanNewsTV @ChouhanShivraj @OfficeofSSC @CMMadhyaPradesh @CMandsaur @JansamparkMP @DGP_MP @mandsaur_sp Arrest\n",
            "chandrucsky\n",
            "Yadgiri Karnataka India\n",
            "Twitter for Android\n",
            "0\n",
            "407\n",
            "4296\n",
            "0\n",
            "<--------------------------------------------------->\n",
            "114\n",
            "2020-11-18 19:20:07\n",
            "1329142360412831744\n",
            "False\n",
            "I have a genuine question! Which political party is willing to come down to the street, mobilise cadres, organise Satyagraha in MP till the ruling party relent?\n",
            "\n",
            "Congress? Left? AAP? SP/BSP? Who is fighting this travesty in the streets and not just on SM? https://t.co/QWq22UsBf6\n",
            "sandeeproy1\n",
            "NCR, and all over India\n",
            "Twitter for Android\n",
            "1\n",
            "1354\n",
            "2356\n",
            "0\n",
            "<--------------------------------------------------->\n",
            "115\n",
            "2020-11-18 18:36:46\n",
            "1329131451107962882\n",
            "False\n",
            "@lukegranders @FrontlineGamer @bdsams Brad was also correct on other things:\n",
            "-He leaked the Xbox Series S hours before it's announcement. \n",
            "-Leaked Joe Statin joining 343i\n",
            "-343i having a reshuffle (Lee's exit)\n",
            "-Original plan for Hallo Infinite was to separate SP mode from MP mode (which Phil Spencer later confirmed).\n",
            "OriszmD\n",
            "\n",
            "Twitter Web App\n",
            "0\n",
            "7\n",
            "88\n",
            "0\n",
            "<--------------------------------------------------->\n",
            "116\n",
            "2020-11-18 17:46:26\n",
            "1329118785572270080\n",
            "False\n",
            "@Komaldandare3 @SudarshanNewsTV @ChouhanShivraj @OfficeofSSC @CMMadhyaPradesh @CMandsaur @JansamparkMP @DGP_MP @mandsaur_sp What do you mean. By tum log\n",
            "ChiragMeghwal2\n",
            "Ujjain, India\n",
            "Twitter for Android\n",
            "0\n",
            "31\n",
            "79\n",
            "0\n",
            "<--------------------------------------------------->\n",
            "117\n",
            "2020-11-18 17:37:16\n",
            "1329116476851118081\n",
            "False\n",
            "@SudarshanNewsTV @ChouhanShivraj @OfficeofSSC @CMMadhyaPradesh @CMandsaur @JansamparkMP @DGP_MP @mandsaur_sp @ChouhanShivraj @CMMadhyaPradesh please look into this matter\n",
            "IamYB10\n",
            "Kanpur - India\n",
            "Twitter for Android\n",
            "0\n",
            "23\n",
            "42\n",
            "0\n",
            "<--------------------------------------------------->\n",
            "118\n",
            "2020-11-18 17:22:20\n",
            "1329112718687682560\n",
            "False\n",
            "@SudarshanNewsTV @ChouhanShivraj @OfficeofSSC @CMMadhyaPradesh @CMandsaur @JansamparkMP @DGP_MP @mandsaur_sp Must put in Jail\n",
            "yogarvind1969\n",
            "\n",
            "Twitter for iPhone\n",
            "0\n",
            "60\n",
            "167\n",
            "0\n",
            "<--------------------------------------------------->\n",
            "119\n",
            "2020-11-18 17:03:24\n",
            "1329107953111195658\n",
            "False\n",
            "@DAbbasK101 @XcloudTimdog You prove my point all single player games and by studios that sony bought not in house. It takes more skills to make a game that has both sp and mp. From that list only play ghost so to me sony games suck no variation same old boring games and cash grab\n",
            "HECTICXWORLD\n",
            "\n",
            "Twitter for Android\n",
            "0\n",
            "1\n",
            "11\n",
            "0\n",
            "<--------------------------------------------------->\n",
            "120\n",
            "2020-11-18 17:02:39\n",
            "1329107763624955904\n",
            "False\n",
            "@ChiragMeghwal2 @SudarshanNewsTV @ChouhanShivraj @OfficeofSSC @CMMadhyaPradesh @CMandsaur @JansamparkMP @DGP_MP @mandsaur_sp Ye Army likhna chhod do be\n",
            "kulbir_bisht\n",
            "India\n",
            "Twitter for Android\n",
            "1\n",
            "198\n",
            "479\n",
            "0\n",
            "<--------------------------------------------------->\n",
            "121\n",
            "2020-11-18 16:34:26\n",
            "1329100665050853382\n",
            "False\n",
            "Blog https://t.co/EdDnWbR6h5\n",
            "nelsonfreirern\n",
            "Natal - RN\n",
            "Twitter Web App\n",
            "0\n",
            "5882\n",
            "5768\n",
            "0\n",
            "<--------------------------------------------------->\n",
            "122\n",
            "2020-11-18 16:21:08\n",
            "1329097316058460160\n",
            "False\n",
            "@AndrewBowie_MP If many making a majority still vote SNP in the GE and SP election then surely that shows a will to at the very least have more devolved powers with a key message of independence making a will for independence pretty clear?\n",
            "gw_emily\n",
            "\n",
            "Twitter for Android\n",
            "0\n",
            "1698\n",
            "1390\n",
            "0\n",
            "<--------------------------------------------------->\n",
            "123\n",
            "2020-11-18 16:14:14\n",
            "1329095581126430721\n",
            "False\n",
            "@SudarshanNewsTV @ChouhanShivraj @OfficeofSSC @CMMadhyaPradesh @CMandsaur @JansamparkMP @DGP_MP @mandsaur_sp @ChouhanShivraj please  take action  on this rascal\n",
            "deepakprasad_19\n",
            "Sitamarhi, India\n",
            "Twitter for Android\n",
            "0\n",
            "9\n",
            "84\n",
            "0\n",
            "<--------------------------------------------------->\n",
            "124\n",
            "2020-11-18 15:16:27\n",
            "1329081040065892365\n",
            "False\n",
            "@Praveenkirtaniy @SudarshanNewsTV @ChouhanShivraj @OfficeofSSC @CMMadhyaPradesh @CMandsaur @JansamparkMP @DGP_MP @mandsaur_sp Not a good\n",
            "ChiragMeghwal2\n",
            "Ujjain, India\n",
            "Twitter for Android\n",
            "0\n",
            "31\n",
            "79\n",
            "0\n",
            "<--------------------------------------------------->\n",
            "125\n",
            "2020-11-18 14:54:42\n",
            "1329075565999972352\n",
            "False\n",
            "@SudarshanNewsTV @ChouhanShivraj @OfficeofSSC @CMMadhyaPradesh @CMandsaur @JansamparkMP @DGP_MP @mandsaur_sp Need strict action,,,,,, otherwise they spread hate everywhere,,,,, 😡\n",
            "JayShuk95935528\n",
            "bombey\n",
            "Twitter for Android\n",
            "0\n",
            "31\n",
            "166\n",
            "0\n",
            "<--------------------------------------------------->\n",
            "126\n",
            "2020-11-18 14:46:48\n",
            "1329073578487160832\n",
            "False\n",
            "@SudarshanNewsTV @ChouhanShivraj @OfficeofSSC @CMMadhyaPradesh @CMandsaur @JansamparkMP @DGP_MP @mandsaur_sp Is it not lynching?\n",
            "abhishe69439426\n",
            "gorakhpur, India\n",
            "Twitter for Android\n",
            "0\n",
            "93\n",
            "274\n",
            "0\n",
            "<--------------------------------------------------->\n",
            "127\n",
            "2020-11-18 13:07:46\n",
            "1329048654192259074\n",
            "False\n",
            "@DAbbasK101 @XcloudTimdog That's called buying studios sony did, Microsoft has started buying more studios, I have a good one for sony should make MP enough with SP where is Sorcom already.\n",
            "HECTICXWORLD\n",
            "\n",
            "Twitter for Android\n",
            "0\n",
            "1\n",
            "11\n",
            "0\n",
            "<--------------------------------------------------->\n",
            "128\n",
            "2020-11-18 12:01:40\n",
            "1329032019561549824\n",
            "False\n",
            "@SisterUnity @JasonSCampbell We use Yukon gold. Cook in heavily salted water to season inside. Use a ricer. Heat up whole milk and butter with SP and lightly blend in until the texture and taste you like. \n",
            "\n",
            "Not a specialty of mine. MP is more of a gravy vehicle\n",
            "AliceRitter8\n",
            "\n",
            "Twitter for iPhone\n",
            "1\n",
            "114\n",
            "489\n",
            "0\n",
            "<--------------------------------------------------->\n",
            "129\n",
            "2020-11-18 11:50:00\n",
            "1329029082655363072\n",
            "False\n",
            "#KirloskarBrothers Limited (#KBL) has launched a new range of energy-efficient, low maintenance SP Coupled pump-sets designed for #effluenttreatment plants and #dewatering applications. @KBLPumps\n",
            "https://t.co/qCur4RWvn0\n",
            "b2bpurchase\n",
            "\n",
            "SocialPilot.co\n",
            "0\n",
            "626\n",
            "562\n",
            "0\n",
            "<--------------------------------------------------->\n",
            "130\n",
            "2020-11-18 11:10:15\n",
            "1329019079953354753\n",
            "False\n",
            "@So_Kurrupt That’s probably true - haven’t touched MP yet, but SP storyline is pretty fun.\n",
            "S3NT1N3L17\n",
            "\n",
            "Twitter for iPhone\n",
            "0\n",
            "423\n",
            "567\n",
            "0\n",
            "<--------------------------------------------------->\n",
            "131\n",
            "2020-11-18 10:47:38\n",
            "1329013387942977538\n",
            "False\n",
            "Manhattan Portage × PEANUTS\n",
            "\n",
            "https://t.co/C7RKAh4hP5 https://t.co/gKk9hsDiv7\n",
            "mp_japan_\n",
            "Tokyo\n",
            "Twitter for iPhone\n",
            "4\n",
            "5340\n",
            "29\n",
            "2\n",
            "<--------------------------------------------------->\n",
            "132\n",
            "2020-11-18 10:47:12\n",
            "1329013280128561152\n",
            "False\n",
            "@charlieINTEL To this day, I have played countless CoD Campaigns (as the MP of every CoD does not interest me at all) and IW had such a fun SP Campaign, I gotta say. Also, the Trailer was badass.\n",
            "WarTex_FM\n",
            "Hell\n",
            "Twitter Web App\n",
            "0\n",
            "180\n",
            "66\n",
            "0\n",
            "<--------------------------------------------------->\n",
            "133\n",
            "2020-11-18 10:12:22\n",
            "1329004513286451201\n",
            "False\n",
            "From September 2019, John Howell MP became a consultant for SP Broadway in Radcot on £800 per month, for 2 hours work.\n",
            "JHowellmp\n",
            "Henley constituency. \n",
            "Twitter Web App\n",
            "3\n",
            "100\n",
            "7\n",
            "0\n",
            "<--------------------------------------------------->\n",
            "134\n",
            "2020-11-18 09:12:26\n",
            "1328989429206290432\n",
            "False\n",
            "@KrisSekMNT @atptour To be honest, I think one should be allowed to applaud a double fault. One is allowed to applaud other faults, so why not a double. It is all so arbitrary, this \"gentlemen\" thing in tennis. Just applaud an important point. A DF that causes a BP or an SP or even an MP is that.\n",
            "Steph73_NL\n",
            "\n",
            "Twitter Web App\n",
            "0\n",
            "753\n",
            "174\n",
            "0\n",
            "<--------------------------------------------------->\n",
            "135\n",
            "2020-11-18 08:39:16\n",
            "1328981085087178752\n",
            "False\n",
            "Tit for tat solution for AIMIM menace is to put up Congress, SP, BSP , Communist, TMC,RJD, AAP, TRC, TDP, YSRC, DMK, AIDMK, etc candidates from Muslim community in all AIMIM contesting Assemblies and MP constituencies in future, there by one NonMuslim community candidate will win\n",
            "mohidden_abbas\n",
            "\n",
            "Twitter for Android\n",
            "0\n",
            "3\n",
            "10\n",
            "0\n",
            "<--------------------------------------------------->\n",
            "136\n",
            "2020-11-18 07:25:11\n",
            "1328962440525213702\n",
            "False\n",
            "My parody account making statements about S P Broadway. John Howell MP gets paid by SP Broadway. https://t.co/39sBzofcgz\n",
            "JHowellmp\n",
            "Henley constituency. \n",
            "Twitter for iPad\n",
            "2\n",
            "100\n",
            "7\n",
            "2\n",
            "<--------------------------------------------------->\n",
            "137\n",
            "2020-11-18 03:34:57\n",
            "1328904500837486594\n",
            "False\n",
            "@Piping4Ua Inter branch rivalry has also been the catalyst of many barroom brawls. But we all end up in the same holding tank by the MP’s &amp; SP’s Till the duty officer comes &amp; springs ya. #GoodTimes\n",
            "GFD_63\n",
            "Elkton MD/Eastern NC 🇺🇸\n",
            "Twitter for iPad\n",
            "1\n",
            "2127\n",
            "2199\n",
            "0\n",
            "<--------------------------------------------------->\n",
            "138\n",
            "2020-11-18 02:52:27\n",
            "1328893804410068992\n",
            "False\n",
            "@Treyarch I understand a buggy launch, but I'm hitting showstopper level bugs in MP and SP! I have to literally pull the power plug out of my ps4 to get things back to normal. Wtf is this quality #coldwar #backtomodernwarfareigo\n",
            "Savik_F\n",
            "Hawaii, USA\n",
            "Twitter for Android\n",
            "2\n",
            "58\n",
            "123\n",
            "0\n",
            "<--------------------------------------------------->\n",
            "139\n",
            "2020-11-18 02:34:08\n",
            "1328889194442338304\n",
            "False\n",
            "Nike Dunk Low 'Ceramic' drops this Thursday, November 19th 🇨🇦\n",
            "\n",
            "RaffLes:\n",
            "\n",
            "Exclucity - https://t.co/bF6C1HCHBu\n",
            "OTH - https://t.co/K2zBi0zSA4\n",
            "Less 17 - https://t.co/0Q6Tin65dI\n",
            "Nomad - https://t.co/c3RuBCwfRA\n",
            "Livestock - https://t.co/A6imlYxRDs https://t.co/UIZ4zYIKq4\n",
            "CDNnotify\n",
            "\n",
            "Twitter Web App\n",
            "22\n",
            "6083\n",
            "129\n",
            "2\n",
            "<--------------------------------------------------->\n",
            "140\n",
            "2020-11-18 01:49:37\n",
            "1328877991108100096\n",
            "False\n",
            "A record rally in high-yield China bonds ground to a crushing halt Tuesday as a report that issuers were cancelling sales amid a spate of payment defaults sparked a selloff. https://t.co/LGdwq1eMV4\n",
            "Umesh_Desai\n",
            "Hong Kong\n",
            "Twitter Web App\n",
            "1\n",
            "890\n",
            "204\n",
            "0\n",
            "<--------------------------------------------------->\n",
            "141\n",
            "2020-11-18 01:35:04\n",
            "1328874332660129795\n",
            "False\n",
            "@TafferKing451 @DUSKdev I just binged these solo Legendary. \n",
            "\n",
            "Halo 3 - First half is a dream. Second half is fine. \n",
            "ODST - Chill Vibes. Smooth Jazz. Easiest one.\n",
            "Reach - Middle of the road SP. MP shines brighter.\n",
            "Halo - Hard, but rewarding\n",
            "Halo 2 - Fuck Halo 2. I cried at least 100 times.\n",
            "VladimereLhore\n",
            "\n",
            "Twitter Web App\n",
            "0\n",
            "221\n",
            "223\n",
            "0\n",
            "<--------------------------------------------------->\n",
            "142\n",
            "2020-11-17 23:14:29\n",
            "1328838951935700992\n",
            "False\n",
            "@Agosto2342 @FATALENIGMA me too. I’m in no hurry to play most SP games, there’s a handful that are an exception like cyber punk, and i did but AC Valhalla for my SX, but it’s worth it to wait for deals. MP games on the other hand, if you wait for sales you’re too far behind the curve\n",
            "Kribwalker\n",
            "\n",
            "Twitter for iPhone\n",
            "0\n",
            "20\n",
            "188\n",
            "0\n",
            "<--------------------------------------------------->\n",
            "143\n",
            "2020-11-17 22:54:44\n",
            "1328833980712546305\n",
            "False\n",
            "@gamesyouloved It's so good.\n",
            "\n",
            "The story for the sp and the characters is some of the best I've seen.\n",
            "\n",
            "The mp is ok if a bit of a grind.\n",
            "\n",
            "I will be stopping soon and switching to Creed valhalla.\n",
            "\n",
            "I like to think you won't regret finishing rdr2. 👍\n",
            "Stiggy_Wiggy\n",
            "\n",
            "Twitter for Android\n",
            "1\n",
            "13\n",
            "52\n",
            "0\n",
            "<--------------------------------------------------->\n",
            "144\n",
            "2020-11-17 22:48:38\n",
            "1328832447316897799\n",
            "False\n",
            "@ItsCsteph @cherfy @thepaulkramer @VakaVG @CallofDuty The point is, cod is bought and played for mp so if that aint good people may look towards the sp but if its freaking 6 hours for the price of full blown game then its isnt worth it.\n",
            "Thegamer9610\n",
            "\n",
            "Twitter for Android\n",
            "0\n",
            "28\n",
            "62\n",
            "0\n",
            "<--------------------------------------------------->\n",
            "145\n",
            "2020-11-17 22:44:46\n",
            "1328831474964029440\n",
            "False\n",
            "@k3rmity_YT 20 width SP, 40 width MP\n",
            "Reichyboi\n",
            "Waifu Lane\n",
            "Twitter Web App\n",
            "0\n",
            "171\n",
            "432\n",
            "0\n",
            "<--------------------------------------------------->\n",
            "146\n",
            "2020-11-17 18:08:01\n",
            "1328761826058842113\n",
            "False\n",
            "@Lady_Arsenic_ That's awesome, when I get mine I think I'll have it off for MP and on for SP\n",
            "The_1uan\n",
            "Boston, MA\n",
            "Twitter for iPhone\n",
            "0\n",
            "888\n",
            "1389\n",
            "0\n",
            "<--------------------------------------------------->\n",
            "147\n",
            "2020-11-17 17:35:54\n",
            "1328753744322957315\n",
            "False\n",
            "Canada\n",
            "Exclucity https://t.co/hA4HVI0OQ8\n",
            "Livestock https://t.co/YDg9QiD6kw\n",
            "OTH https://t.co/RQWD3f0T79\n",
            "Less 17 https://t.co/syDaUK1d7F https://t.co/hWkBWThCUE\n",
            "sneakerhuddle\n",
            "\n",
            "Twitter Web App\n",
            "2\n",
            "27437\n",
            "32\n",
            "0\n",
            "<--------------------------------------------------->\n",
            "148\n",
            "2020-11-17 17:10:51\n",
            "1328747441001259017\n",
            "False\n",
            "Halo: The Master Chief Collection Series X/S update available today\n",
            "\n",
            "- 120 FPS (SP and MP on both consoles)\n",
            "- 4K on Series X, 1080p on Series S\n",
            "- Improved split-screen\n",
            "- adjustable FOV\n",
            "\n",
            "https://t.co/dQcFczdW3t https://t.co/6AlhS6sLjU\n",
            "Nibellion\n",
            "\n",
            "TweetDeck\n",
            "1580\n",
            "206135\n",
            "528\n",
            "117\n",
            "<--------------------------------------------------->\n",
            "149\n",
            "2020-11-17 17:06:28\n",
            "1328746336590577665\n",
            "False\n",
            "@Maldo19 Great question! Going from super basic reasons to nuanced ones.\n",
            "1. Dev didn’t study our published portfolio &amp; pitched us ideas w/ no commonality to existing games in the portfolio. Eg. asking Ysbryd, which has done primarily SP narrative-driven games, to publish a MP sports game?\n",
            "briankwek\n",
            "Pitch me: hello at ysbryd.net\n",
            "Twitter for iPhone\n",
            "1\n",
            "1581\n",
            "1299\n",
            "0\n",
            "<--------------------------------------------------->\n",
            "150\n",
            "2020-11-17 17:06:03\n",
            "1328746232357871616\n",
            "False\n",
            "@Saziyakh @asmatasleem11 @POY_Community @Nargis_Ansari74 @Anuradha_Patel9 @aadhiIya @fighterMamta @ProfNoorul @Poojameena110 @JAafia @_garrywalia @abpbihar @ThePrintIndia @thewire_in @IndiaToday @PTI_News @News18Bihar @PIB_Patna @sagarikaghose @BDUTT @sardesairajdeep @maryashakil 5. Suspending all the officers, who shown dereliction in the duty\n",
            "6. Visiting the victims by Local CI, DSP, SP, DM&amp;HO, Women commission chairman, Home minister, Women welfare minister, local MLA. MP, Minister 3/\n",
            "itsshaikhussain\n",
            "\n",
            "Twitter Web App\n",
            "0\n",
            "70\n",
            "432\n",
            "0\n",
            "<--------------------------------------------------->\n",
            "151\n",
            "2020-11-17 16:16:03\n",
            "1328733649534119937\n",
            "False\n",
            "@MrMojoRising137 Yea love the game, mp is keeping me away from sp, will get back to sp soon tho\n",
            "spaceninjauk\n",
            "Birmingham UK\n",
            "Twitter for Android\n",
            "0\n",
            "278\n",
            "41\n",
            "0\n",
            "<--------------------------------------------------->\n",
            "152\n",
            "2020-11-17 15:59:30\n",
            "1328729486314057731\n",
            "True\n",
            "The Lead-Lag Report: Weekly Risk Signals - https://t.co/GPMQ4kKlYz\n",
            "leadlagreport\n",
            "Click link for two weeks free\n",
            "Mailchimp\n",
            "4\n",
            "195188\n",
            "3033\n",
            "0\n",
            "<--------------------------------------------------->\n",
            "153\n",
            "2020-11-17 15:56:38\n",
            "1328728763811688449\n",
            "True\n",
            "The Lead-Lag Report: Weekly Risk Signals - https://t.co/zUQCQnoZs8\n",
            "leadlagreport\n",
            "Click link for two weeks free\n",
            "Mailchimp\n",
            "2\n",
            "195188\n",
            "3033\n",
            "0\n",
            "<--------------------------------------------------->\n",
            "154\n",
            "2020-11-17 15:22:53\n",
            "1328720270341926913\n",
            "False\n",
            "@BigGreyDonut Borderlands gives vertical and horizontal split screen for at least two players. H2A campaign has full 16:9 2 player split screen but that's the closest we got to full optimisation. Tell me if there are black bars on 3,odst,reach,4 SP and MP and h2a mp\n",
            "TheScritzCure\n",
            "Uranus\n",
            "Twitter for Android\n",
            "0\n",
            "26\n",
            "162\n",
            "0\n",
            "<--------------------------------------------------->\n",
            "155\n",
            "2020-11-17 13:40:28\n",
            "1328694494993162241\n",
            "False\n",
            "@SQUiD_1337 For me caring about graphics in MP games is overrated. I care about gameplay and getting as many frames as I can. With SP games I care very much about graphics but other than that it's a cap\n",
            "The_1uan\n",
            "Boston, MA\n",
            "Twitter for iPhone\n",
            "0\n",
            "888\n",
            "1389\n",
            "0\n",
            "<--------------------------------------------------->\n",
            "156\n",
            "2020-11-17 11:33:36\n",
            "1328662570006409222\n",
            "False\n",
            "@duncanm @SP_Duckworth As a standard constituency MP, he had no right to release a public statement that a) pre-empted anything the Party may wish to have implemented/commented on and b) could be considered to bring the Party into disrepute. There's a hierarchy in Party structures - he should know that\n",
            "tars75\n",
            "\n",
            "Twitter for Android\n",
            "1\n",
            "362\n",
            "1129\n",
            "0\n",
            "<--------------------------------------------------->\n",
            "157\n",
            "2020-11-17 11:10:54\n",
            "1328656857892859906\n",
            "False\n",
            "@DeLimaJnr1 @blackboomclap @_darrelsalary99 @Mr_Ceyram Ooh so you’re giving a meaning to suit you interesting. Hon. Inusah Fuseni(NDC MP) says in the performance report available to Parliament, monies were released to pay the basic salaries of SP Amidu. Emoluments here are the profits of employment like the allowances etc.\n",
            "AsimenuElikem\n",
            "Sunyani, Ghana\n",
            "Twitter for iPhone\n",
            "1\n",
            "359\n",
            "106\n",
            "0\n",
            "<--------------------------------------------------->\n",
            "158\n",
            "2020-11-17 10:24:12\n",
            "1328645105281019906\n",
            "False\n",
            "@punkpuffin @80_mcswan Sadly I think you maybe right. Funny thing is if there is no SP Labour ends up with 1 MP and even less influence in Scotland.\n",
            "JakeBal75447087\n",
            "Scotland\n",
            "Twitter for Android\n",
            "1\n",
            "201\n",
            "291\n",
            "0\n",
            "<--------------------------------------------------->\n",
            "159\n",
            "2020-11-17 07:27:44\n",
            "1328600694862082049\n",
            "False\n",
            "@CloudyCanine I know that feeling!  I switch between MP and SP games because sometimes I just cant stand other people lmao.\n",
            "Tempo_Arcanine\n",
            "Seattle, WA\n",
            "Twitter for Android\n",
            "1\n",
            "210\n",
            "598\n",
            "0\n",
            "<--------------------------------------------------->\n",
            "160\n",
            "2020-11-17 06:55:23\n",
            "1328592552208060416\n",
            "True\n",
            "#Breaking | West Bengal Governor @jdhankhar1 slams Police for ‘acting politically’ on the behest of the state govt. \n",
            "\n",
            "‘Treatment meted out @WBPolice to MP Jagannath Sarkar at last rite ceremony of martyr Subodh Ghosh is gross dereliction of duty by SP and DM’, he says. https://t.co/VZ1i69hSMG\n",
            "TimesNow\n",
            "India\n",
            "Twitter Web App\n",
            "74\n",
            "9893714\n",
            "372\n",
            "10\n",
            "<--------------------------------------------------->\n",
            "161\n",
            "2020-11-17 06:51:28\n",
            "1328591568455020544\n",
            "False\n",
            "@DeionCooke @JeremyPenter I'm having a blast. zombies may be more fun for me than mp atm though. You can level your weapons in zombie mode and in SP (i think). so you can go back into MP with some weapons at least.\n",
            "KontrolStyle0\n",
            "www.youtube.com/kontrolstyle0\n",
            "TweetDeck\n",
            "0\n",
            "27\n",
            "88\n",
            "0\n",
            "<--------------------------------------------------->\n",
            "162\n",
            "2020-11-17 04:43:25\n",
            "1328559341746745344\n",
            "False\n",
            "Cold War should've just dropped any major character model from SP into the MP as Operators. I don't really see why not outside of \"but muh voice acting\" and shit which doesn't seem like a big issue to solve.\n",
            "Gunboken\n",
            "\n",
            "TweetDeck\n",
            "0\n",
            "193\n",
            "214\n",
            "0\n",
            "<--------------------------------------------------->\n",
            "163\n",
            "2020-11-17 04:02:10\n",
            "1328548963008581632\n",
            "False\n",
            "@toastedsoldier @the_ricter @Stallion83 Remember if the game supports it you can choose to dl the whole game, or parts of it. Like if you don't play SP, no need to DL. Same goes for if you dont like MP, no need to DL.\n",
            "Jameron4evaSean\n",
            "Orlando, Florida\n",
            "Twitter for Android\n",
            "0\n",
            "548\n",
            "1716\n",
            "0\n",
            "<--------------------------------------------------->\n",
            "164\n",
            "2020-11-17 02:22:11\n",
            "1328523801936596993\n",
            "True\n",
            "Police “Political neutrality” @MamataOfficial in flames !\n",
            "\n",
            "Treatment meted out @WBPolice to MP Jagannath Sarkar at last rite ceremony of martyr Sh.Subodh Ghosh at Palassy crematorium, Nadia is gross dereliction of duty by SP and DM #Nadia\n",
            "\n",
            "Sought report from ACS @HomeBengal DGP https://t.co/ReD1pNmhKt\n",
            "jdhankhar1\n",
            "Rajbhavan ,kolkata, india\n",
            "Twitter for iPhone\n",
            "356\n",
            "210883\n",
            "257\n",
            "108\n",
            "<--------------------------------------------------->\n",
            "165\n",
            "2020-11-17 02:05:20\n",
            "1328519558337081344\n",
            "False\n",
            "Man, you can tell how covid hit Cod development. This game kinda looks.... Unfinished mp and sp wise. For sure a hard pass for me.\n",
            "Feralkitsune\n",
            "Texas\n",
            "Flamingo for Android\n",
            "0\n",
            "62\n",
            "361\n",
            "0\n",
            "<--------------------------------------------------->\n",
            "166\n",
            "2020-11-17 02:01:37\n",
            "1328518626341580801\n",
            "False\n",
            "Chinese corporate and municipal bonds rose for a record 17th day Monday amid encouraging economic news and after the central bank pumped money into the financial system while holding down rates. https://t.co/NyWTrFXQ8k\n",
            "Umesh_Desai\n",
            "Hong Kong\n",
            "Twitter Web App\n",
            "0\n",
            "890\n",
            "204\n",
            "0\n",
            "<--------------------------------------------------->\n",
            "167\n",
            "2020-11-16 23:39:46\n",
            "1328482929039773696\n",
            "False\n",
            "@NewtiaofTarth I was actually hella good at the SP/campaign, but in MP I always got caught by stuff that was like, outside my field of vision.\n",
            "CheyenneGames\n",
            "NA\n",
            "Twitter Web App\n",
            "3\n",
            "92\n",
            "195\n",
            "0\n",
            "<--------------------------------------------------->\n",
            "168\n",
            "2020-11-16 22:04:31\n",
            "1328458958605004805\n",
            "False\n",
            "@Madz_MG @VDZEMedia 4k 6fpsis awesome, and enough for that kind of sp game. Mp fps, that's a whole different ballgame...\n",
            "boersc\n",
            "The Netherlands\n",
            "Twitter for Android\n",
            "0\n",
            "887\n",
            "2165\n",
            "0\n",
            "<--------------------------------------------------->\n",
            "169\n",
            "2020-11-16 21:44:23\n",
            "1328453890908499969\n",
            "False\n",
            "Problem with Cold War is the single player is so fucking good I'm pissed it's almost over. The MP sucks currently but the SP blows Modern Warfare out of the water.\n",
            "MetroidSkittles\n",
            "\n",
            "Twitter for iPhone\n",
            "0\n",
            "321\n",
            "625\n",
            "0\n",
            "<--------------------------------------------------->\n",
            "170\n",
            "2020-11-16 21:41:50\n",
            "1328453247204548611\n",
            "False\n",
            "@Jojoteesend @Ianblackford_MP @BorisJohnson It did to begin with. But even the Salmond enquiry has shown that politicians throughout the UK can’t truly be trusted. There is plenty of murky going ons in the SP. that’s part of my disappointment also, but again I haven’t said get rid\n",
            "g_trader_\n",
            "\n",
            "Twitter for iPhone\n",
            "0\n",
            "214\n",
            "1170\n",
            "0\n",
            "<--------------------------------------------------->\n",
            "171\n",
            "2020-11-16 18:15:46\n",
            "1328401390889099266\n",
            "False\n",
            "@DerB0lshevik I think it is state wise, like in UP they vote for SP/BSP,\n",
            "\n",
            "Rajasthan, MP, Maharashtra, chattisgarh- Congress\n",
            "\n",
            "WB - TMC\n",
            "\n",
            "TELANGANA - Owaisi\n",
            "SaifKha41565817\n",
            "\n",
            "Twitter for Android\n",
            "0\n",
            "196\n",
            "337\n",
            "0\n",
            "<--------------------------------------------------->\n",
            "172\n",
            "2020-11-16 17:55:56\n",
            "1328396400456036357\n",
            "False\n",
            "@jonbellini It's just the original trilogy remastered with updated graphics so it'll run on current consoles (PC folks get to benefit too so that's nice). Sadly no new MP, they say this is SP only, though original ME3MP is still going strong! https://t.co/BCaM3xGnxs\n",
            "dstrawberrygirl\n",
            "Boston, MA\n",
            "Twitter Web App\n",
            "0\n",
            "1571\n",
            "2068\n",
            "0\n",
            "<--------------------------------------------------->\n",
            "173\n",
            "2020-11-16 17:53:04\n",
            "1328395675940384768\n",
            "False\n",
            "SIUE Art and Design Sp 21 course options - https://t.co/Bqtxq86Fkq https://t.co/OaZEa1znWO\n",
            "SIUE_art\n",
            "Southern Illinois University Edwardsville\n",
            "Mailchimp\n",
            "2\n",
            "252\n",
            "23\n",
            "0\n",
            "<--------------------------------------------------->\n",
            "174\n",
            "2020-11-16 17:18:19\n",
            "1328386932712361986\n",
            "False\n",
            "@liffeh02 zombies is hella fun, mp is ok but the mp5 is annoyingly op and sbmm still exists\n",
            "\n",
            "havent played the sp yet\n",
            "mohshiin\n",
            "North Carolina, USA\n",
            "Twitter for Android\n",
            "0\n",
            "954\n",
            "1585\n",
            "0\n",
            "<--------------------------------------------------->\n",
            "175\n",
            "2020-11-16 17:03:42\n",
            "1328383252889890818\n",
            "False\n",
            "$ETMC $EEMMF\n",
            "\n",
            "A lithium project down the road from me...SP has tripled in three weeks.\n",
            "\n",
            "\"..estimated production of 20,000 tonnes per year of battery-quality lithium hydroxide monohydrate (“lithium hydroxide” or “LHM”) over a 20-year period. \"\n",
            "\n",
            "https://t.co/sN5H3yFpHO\n",
            "CDNGreenTrader\n",
            "Edmonton\n",
            "Twitter Web App\n",
            "0\n",
            "79\n",
            "99\n",
            "0\n",
            "<--------------------------------------------------->\n",
            "176\n",
            "2020-11-16 16:38:01\n",
            "1328376790524506115\n",
            "False\n",
            "@knightcthulhu yes deffo!! esp as a lot of people like mp so it's fine to include it, but i just wish it wasn't a requirement for a plat :/ especially in sp games\n",
            "vengerbergs\n",
            "🎮 ac valhalla ps5\n",
            "Twitter Web App\n",
            "0\n",
            "124\n",
            "78\n",
            "0\n",
            "<--------------------------------------------------->\n",
            "177\n",
            "2020-11-16 16:18:57\n",
            "1328371993742282754\n",
            "False\n",
            "@joymorrissey @BorisJohnson Your idol Boris showed his failure of leadership, when he refused to discipline Cummings after his Castle Barnard eye test drive.\n",
            "\n",
            "He then allowed Cummings, who is NOT a MP and NOT a civil servant, but a political appointee, to make a weak press conference from No. 10!\n",
            "sp_stratford\n",
            "UK\n",
            "Twitter Web App\n",
            "0\n",
            "313\n",
            "85\n",
            "0\n",
            "<--------------------------------------------------->\n",
            "178\n",
            "2020-11-16 16:04:10\n",
            "1328368271977046016\n",
            "False\n",
            "@Ianblackford_MP @BorisJohnson Mr Blackford, could you give your opinion on the NG, SSE and SP agreement to help in the effort of ensuring a UK wide carbon neutral industry by 2050? Great news that the UK companies can work together for the benefit of UK subjects.\n",
            "Mirosla14972955\n",
            "\n",
            "Twitter for Android\n",
            "0\n",
            "4\n",
            "13\n",
            "0\n",
            "<--------------------------------------------------->\n",
            "179\n",
            "2020-11-16 15:39:48\n",
            "1328362137551515648\n",
            "False\n",
            "@Tomi_Tapio I really loved BF4 MP. I’m thinking just SP for this one tho. Don’t have the time to get into MP\n",
            "K_Alex1\n",
            "New York\n",
            "Twitter for iPhone\n",
            "0\n",
            "2269\n",
            "1991\n",
            "0\n",
            "<--------------------------------------------------->\n",
            "180\n",
            "2020-11-16 15:20:00\n",
            "1328357155741851649\n",
            "False\n",
            "📢 The second #ClearFarm #newsletter is now out! Have a look via this link: https://t.co/d1bm5HImb1\n",
            "\n",
            "#AnimalWelfare #SmartFarm #PrecisionLivestockFarming #research #EUproject \n",
            "@EIPAGRI_SP https://t.co/auvY0j01lR\n",
            "ClearFarmEU\n",
            "\n",
            "TweetDeck\n",
            "8\n",
            "397\n",
            "238\n",
            "6\n",
            "<--------------------------------------------------->\n",
            "181\n",
            "2020-11-16 14:38:00\n",
            "1328346586317950981\n",
            "False\n",
            "@TamikuzTheFirst @Drexl_Raz Mass Effect multiplayer is great. I disagree that they should have scrapped it. It was a success among the community in ME3. It's not like games can't have both good sp and good mp.\n",
            "GloriousKev\n",
            "Seahawk country\n",
            "Twitter Web App\n",
            "2\n",
            "2016\n",
            "650\n",
            "0\n",
            "<--------------------------------------------------->\n",
            "182\n",
            "2020-11-16 13:08:43\n",
            "1328324119063109635\n",
            "False\n",
            "@bluejay_712 Rise of Nations is an old RTS from 2001 and is still my most played game every single year. Straightforward and fun with lots of room for strategy and “big brain plays” SP or MP. For story, the original Halo trilogy or ME trilogy wins (usually with light mods in ME3)\n",
            "JoeF6\n",
            "\n",
            "Twitter Web App\n",
            "0\n",
            "48\n",
            "134\n",
            "0\n",
            "<--------------------------------------------------->\n",
            "183\n",
            "2020-11-16 12:56:05\n",
            "1328320938685894658\n",
            "False\n",
            "@GraceBrodie @ChrisMcEleny @Ianblackford_MP @NicolaSturgeon Well, if it’s a plebiscite I’m definitely getting a pleb if I do snp/snp. \n",
            "\n",
            "But is a vote for another indy supporting party on the list a plebiscite?\n",
            "\n",
            "Only makes sense in constituency terms and the mandate is already there from last Westminster and last SP elections.\n",
            "politchic1\n",
            "Paisley, Scotland\n",
            "Twitter for iPhone\n",
            "1\n",
            "214\n",
            "88\n",
            "0\n",
            "<--------------------------------------------------->\n",
            "184\n",
            "2020-11-16 12:24:52\n",
            "1328313083895406602\n",
            "False\n",
            "@PowerGPUcom @FromRagsToGP Gears 5 uses dynamic resolution scaling in SP and MP so it's not 4K 120 all of the time.\n",
            "EdwardTurvey\n",
            "Shadow Moses Island\n",
            "Twitter for Android\n",
            "2\n",
            "56\n",
            "99\n",
            "0\n",
            "<--------------------------------------------------->\n",
            "185\n",
            "2020-11-16 11:01:45\n",
            "1328292166515388416\n",
            "False\n",
            "@Brandon31810753 @oskool_g SP XSX  locked 60FPS same like PS5\n",
            "on MP some tuber tested PS5 better \n",
            "other tuber XSX actually 120 locked too\n",
            "so there is many biased thing, sure my post will be see as biased too \n",
            "\n",
            "judge yourself PC vs XSX vs PS5\n",
            "https://t.co/QGrojGBoP6\n",
            "blueisviolet\n",
            "Indonesia\n",
            "Twitter Web App\n",
            "7\n",
            "4490\n",
            "2381\n",
            "1\n",
            "<--------------------------------------------------->\n",
            "186\n",
            "2020-11-16 08:53:09\n",
            "1328259803223904256\n",
            "False\n",
            "@BrokenGamezHDR_ Yeah but what happens when you've got a range of MP games and a few SP you still haven't beat? You're then fucked.\n",
            "Madz_MG\n",
            "North London, United Kingdom\n",
            "Twitter for Android\n",
            "0\n",
            "456\n",
            "156\n",
            "0\n",
            "<--------------------------------------------------->\n",
            "187\n",
            "2020-11-16 07:10:50\n",
            "1328234052961275907\n",
            "False\n",
            "@PrimisSniper @oskool_g on SP only +- 1 FPS on MP later test showed 120FPS lockec too, all of this without even VRS/Mesh shader etc yet\n",
            "i am not based on any industry ref but aggregate on many youtube streamer or capture as mostly they unaware=Just hobby=not biased\n",
            "https://t.co/pN3a7lXKUg\n",
            "blueisviolet\n",
            "Indonesia\n",
            "Twitter Web App\n",
            "7\n",
            "4490\n",
            "2381\n",
            "1\n",
            "<--------------------------------------------------->\n",
            "188\n",
            "2020-11-16 04:40:45\n",
            "1328196285036367872\n",
            "False\n",
            "@NoahJ456 Best MP: MW2 or Halo Reach \n",
            "Best SP: Fallout 4 or GTAV\n",
            "Von_5722\n",
            "\n",
            "Twitter for iPhone\n",
            "0\n",
            "16\n",
            "64\n",
            "0\n",
            "<--------------------------------------------------->\n",
            "189\n",
            "2020-11-16 03:20:32\n",
            "1328176096945135617\n",
            "False\n",
            "/coldwar.exe sunday funday, maybe some zombies, some sp and some mp... I dunno, we'll see where the night takes us!\n",
            "\n",
            "#coldwar #wordofmouthcampaign\n",
            "https://t.co/fqJWrCjYfX\n",
            "iw_miked\n",
            "SoCAL\n",
            "Twitter Web App\n",
            "13\n",
            "5928\n",
            "273\n",
            "0\n",
            "<--------------------------------------------------->\n",
            "190\n",
            "2020-11-16 01:58:52\n",
            "1328155543148617729\n",
            "False\n",
            "\"Deep learning-based classification of fine hand movements from low frequency EEG. (arXiv:2011.06791v1 [eess.SP])\" #arXiv https://t.co/o2qF23hkFm\n",
            "helioRocha_\n",
            "\n",
            "IFTTT\n",
            "0\n",
            "630\n",
            "404\n",
            "0\n",
            "<--------------------------------------------------->\n",
            "191\n",
            "2020-11-15 22:55:36\n",
            "1328109423420727296\n",
            "False\n",
            "When i play cold war mp i like to use the mp5 and m16. Just sp i can feel like a good player\n",
            "maxnutley\n",
            "\n",
            "Twitter for Android\n",
            "0\n",
            "13\n",
            "50\n",
            "0\n",
            "<--------------------------------------------------->\n",
            "192\n",
            "2020-11-15 21:34:13\n",
            "1328088942864961536\n",
            "False\n",
            "How would you rank swedish and dutch parties by how much you approve of them/have a favourable view on? — Sweden: most favourite - S, C, V, MP, M, KD, L, SD - least\n",
            "Netherlands: most favourite - PvdA, GL, CU, CDA, SP, D66, VVD, PVV https://t.co/vxnbgkC5YG\n",
            "Nassreddin2002\n",
            "Hilversum, Nederland\n",
            "Twitter Web App\n",
            "0\n",
            "155\n",
            "404\n",
            "1\n",
            "<--------------------------------------------------->\n",
            "193\n",
            "2020-11-15 20:46:53\n",
            "1328077033407123462\n",
            "False\n",
            "@K_Glitcher @Max_1382_ Its not fake since he never said its sp mp keep that in mind😂 first think then say stuff but wait you haven’t been doing that all week so I won’t expect you to do it now\n",
            "bosje3455\n",
            "Play station (get it?😂)\n",
            "Twitter for iPhone\n",
            "0\n",
            "644\n",
            "27\n",
            "0\n",
            "<--------------------------------------------------->\n",
            "194\n",
            "2020-11-15 20:33:28\n",
            "1328073654815559680\n",
            "False\n",
            "@bruhdude35 @SkyesXP @krisszmossz Cause you joking about a single player game not having MP. Gears has SP but mainly known for MP\n",
            "Gamer4Doggo\n",
            "\n",
            "Twitter for iPhone\n",
            "1\n",
            "518\n",
            "271\n",
            "0\n",
            "<--------------------------------------------------->\n",
            "195\n",
            "2020-11-15 17:22:55\n",
            "1328025700276740097\n",
            "False\n",
            "@mukeshmarda @rkmarar9 @judedavid21 In UP let SP fight alone and let some Congress leaders fight in SP Brands.\n",
            "Coz don't let 1% of vote diverted to BJP coz of symbol.\n",
            "And fight the MP elections in your own brand with the support of regional party like SP, JDS,RJD they will fight in the brand of Congress.\n",
            "softsto38135836\n",
            "Shillong\n",
            "Twitter for Android\n",
            "3\n",
            "252\n",
            "602\n",
            "2\n",
            "<--------------------------------------------------->\n",
            "196\n",
            "2020-11-15 16:00:36\n",
            "1328004986203119616\n",
            "False\n",
            "@saptagiriulaka hope you have seen the video . As the local MP , kindly take this matter with  SP koraput .\n",
            "\n",
            "Please support doctors &amp; health workers . https://t.co/hcHHGxilsx\n",
            "indian_2030\n",
            "Twitter\n",
            "Twitter for Android\n",
            "1\n",
            "209\n",
            "507\n",
            "0\n",
            "<--------------------------------------------------->\n",
            "197\n",
            "2020-11-15 14:20:15\n",
            "1327979730881003521\n",
            "False\n",
            "@ClunkSpider @deathloop @ArkaneStudios Or both sp and mp, not sure. \n",
            "But its a multiplayer game for sure\n",
            "ayushkalia23\n",
            "Ludhiana, India\n",
            "Twitter for Android\n",
            "0\n",
            "385\n",
            "461\n",
            "0\n",
            "<--------------------------------------------------->\n",
            "198\n",
            "2020-11-15 13:45:32\n",
            "1327970994733031429\n",
            "False\n",
            "@Treyarch Playing on Xbox One X W/ mouse and keyboard. Game freeze when selecting weapon class in Zombies upgrade menu. Frame rate issues in cutscenes in SP, MP and Zombies. ESC wont pause the game sometimes in MP and Zombies. Scope reticles appear low res/grainy.♥️ing game tho!!\n",
            "cody_vaughan\n",
            "\n",
            "Twitter for Android\n",
            "0\n",
            "26\n",
            "35\n",
            "0\n",
            "<--------------------------------------------------->\n",
            "199\n",
            "2020-11-15 13:33:48\n",
            "1327968042328989696\n",
            "False\n",
            "@ben_a_williams_ No this game crashes far more then BO4. I crashed only in time zombies for BO4. Cold War, crashed in SP, MP and zombies. It’s beyond annoying how much it fucking crashes\n",
            "So12rovv\n",
            "Dauntless Code TCAASF\n",
            "Twitter for iPhone\n",
            "0\n",
            "194\n",
            "724\n",
            "0\n",
            "<--------------------------------------------------->\n",
            "200\n"
          ],
          "name": "stdout"
        }
      ]
    },
    {
      "cell_type": "code",
      "metadata": {
        "id": "rnC_-x_vgzPB"
      },
      "source": [
        "import re\n",
        "import numpy as np\n",
        "\n",
        "import matplotlib.pyplot as plt\n",
        "import seaborn as sns\n",
        "\n",
        "import pandas as pd\n",
        "\n",
        "import datetime as dt\n",
        "from collections import Counter\n",
        "\n",
        "import nltk\n",
        "from nltk.tokenize import sent_tokenize\n",
        "from nltk.tokenize import TweetTokenizer\n",
        "from nltk.tokenize import word_tokenize\n",
        "from nltk.corpus import words\n",
        "from nltk.corpus import stopwords\n",
        "from nltk.stem import PorterStemmer\n",
        "from nltk.stem import WordNetLemmatizer"
      ],
      "execution_count": 189,
      "outputs": []
    },
    {
      "cell_type": "code",
      "metadata": {
        "id": "uuKwAeG2VKgp",
        "colab": {
          "base_uri": "https://localhost:8080/"
        },
        "outputId": "adf7e467-0d92-4bf1-f5ea-02e7a3571584"
      },
      "source": [
        "df.info()"
      ],
      "execution_count": 190,
      "outputs": [
        {
          "output_type": "stream",
          "text": [
            "<class 'pandas.core.frame.DataFrame'>\n",
            "RangeIndex: 200 entries, 0 to 199\n",
            "Data columns (total 11 columns):\n",
            " #   Column     Non-Null Count  Dtype         \n",
            "---  ------     --------------  -----         \n",
            " 0   Date       200 non-null    datetime64[ns]\n",
            " 1   Tweet_id   200 non-null    int64         \n",
            " 2   Verified   200 non-null    bool          \n",
            " 3   Tweet      200 non-null    object        \n",
            " 4   User       200 non-null    object        \n",
            " 5   Location   200 non-null    object        \n",
            " 6   Source     200 non-null    object        \n",
            " 7   Likes      200 non-null    int64         \n",
            " 8   Followers  200 non-null    int64         \n",
            " 9   Following  200 non-null    int64         \n",
            " 10  Retweets   200 non-null    int64         \n",
            "dtypes: bool(1), datetime64[ns](1), int64(5), object(4)\n",
            "memory usage: 15.9+ KB\n"
          ],
          "name": "stdout"
        }
      ]
    },
    {
      "cell_type": "code",
      "metadata": {
        "id": "Yz9Mr_5bU3wO",
        "colab": {
          "base_uri": "https://localhost:8080/"
        },
        "outputId": "fddc286a-167c-48d3-8aea-2ee8112a2b3e"
      },
      "source": [
        "df.shape"
      ],
      "execution_count": 191,
      "outputs": [
        {
          "output_type": "execute_result",
          "data": {
            "text/plain": [
              "(200, 11)"
            ]
          },
          "metadata": {
            "tags": []
          },
          "execution_count": 191
        }
      ]
    },
    {
      "cell_type": "code",
      "metadata": {
        "id": "U2TqiSlvU5AL"
      },
      "source": [
        "df['Date'] = df['Date'].apply(lambda x: dt.datetime.strptime(str(x),'%Y-%m-%d %H:%M:%S')) #Convert to date time format"
      ],
      "execution_count": 192,
      "outputs": []
    },
    {
      "cell_type": "code",
      "metadata": {
        "id": "iALZ0QjFX6iW",
        "colab": {
          "base_uri": "https://localhost:8080/"
        },
        "outputId": "db0b437a-7c88-4daf-8428-254361dea0cc"
      },
      "source": [
        "df.dtypes"
      ],
      "execution_count": 193,
      "outputs": [
        {
          "output_type": "execute_result",
          "data": {
            "text/plain": [
              "Date         datetime64[ns]\n",
              "Tweet_id              int64\n",
              "Verified               bool\n",
              "Tweet                object\n",
              "User                 object\n",
              "Location             object\n",
              "Source               object\n",
              "Likes                 int64\n",
              "Followers             int64\n",
              "Following             int64\n",
              "Retweets              int64\n",
              "dtype: object"
            ]
          },
          "metadata": {
            "tags": []
          },
          "execution_count": 193
        }
      ]
    },
    {
      "cell_type": "code",
      "metadata": {
        "id": "QwBHDIQ7X-S-",
        "colab": {
          "base_uri": "https://localhost:8080/"
        },
        "outputId": "9e695bba-79b4-48b1-a218-164107d4cc63"
      },
      "source": [
        "df.isnull().sum()"
      ],
      "execution_count": 194,
      "outputs": [
        {
          "output_type": "execute_result",
          "data": {
            "text/plain": [
              "Date         0\n",
              "Tweet_id     0\n",
              "Verified     0\n",
              "Tweet        0\n",
              "User         0\n",
              "Location     0\n",
              "Source       0\n",
              "Likes        0\n",
              "Followers    0\n",
              "Following    0\n",
              "Retweets     0\n",
              "dtype: int64"
            ]
          },
          "metadata": {
            "tags": []
          },
          "execution_count": 194
        }
      ]
    },
    {
      "cell_type": "code",
      "metadata": {
        "id": "PULuNP0EYKb8",
        "colab": {
          "base_uri": "https://localhost:8080/"
        },
        "outputId": "fbbcd0f7-beca-4a4a-a773-39aa63c9f9e8"
      },
      "source": [
        "df['Source'].value_counts()"
      ],
      "execution_count": 195,
      "outputs": [
        {
          "output_type": "execute_result",
          "data": {
            "text/plain": [
              "Twitter for Android     73\n",
              "Twitter Web App         66\n",
              "Twitter for iPhone      37\n",
              "Mailchimp                9\n",
              "TweetDeck                5\n",
              "Twitter for iPad         3\n",
              "Buffer                   2\n",
              "twittbot.net             1\n",
              "IFTTT                    1\n",
              "SocialPilot.co           1\n",
              "Flamingo for Android     1\n",
              "Politwoops               1\n",
              "Name: Source, dtype: int64"
            ]
          },
          "metadata": {
            "tags": []
          },
          "execution_count": 195
        }
      ]
    },
    {
      "cell_type": "code",
      "metadata": {
        "id": "L0yluKAMYUhm",
        "colab": {
          "base_uri": "https://localhost:8080/"
        },
        "outputId": "2ae36140-e847-4a53-ec8e-148740406ce1"
      },
      "source": [
        "df['Location'].nunique()"
      ],
      "execution_count": 196,
      "outputs": [
        {
          "output_type": "execute_result",
          "data": {
            "text/plain": [
              "111"
            ]
          },
          "metadata": {
            "tags": []
          },
          "execution_count": 196
        }
      ]
    },
    {
      "cell_type": "code",
      "metadata": {
        "id": "YaaScZPVYalK",
        "colab": {
          "base_uri": "https://localhost:8080/"
        },
        "outputId": "ccfd853a-12cc-4a8c-c88d-281b19167c38"
      },
      "source": [
        "tweets_list = df['Tweet'].tolist()\n",
        "len(tweets_list)"
      ],
      "execution_count": 197,
      "outputs": [
        {
          "output_type": "execute_result",
          "data": {
            "text/plain": [
              "200"
            ]
          },
          "metadata": {
            "tags": []
          },
          "execution_count": 197
        }
      ]
    },
    {
      "cell_type": "code",
      "metadata": {
        "id": "ki_iXrJoYe8a",
        "colab": {
          "base_uri": "https://localhost:8080/"
        },
        "outputId": "4c9d9809-a34f-4d9b-9872-fb0f9392e1ad"
      },
      "source": [
        "tweets_list_updated = set(tweets_list)\n",
        "len(tweets_list_updated)\n"
      ],
      "execution_count": 198,
      "outputs": [
        {
          "output_type": "execute_result",
          "data": {
            "text/plain": [
              "200"
            ]
          },
          "metadata": {
            "tags": []
          },
          "execution_count": 198
        }
      ]
    },
    {
      "cell_type": "code",
      "metadata": {
        "id": "4UT1yjfTYiLB",
        "colab": {
          "base_uri": "https://localhost:8080/"
        },
        "outputId": "693b93e5-d00d-4c25-dc37-1c8750a7ffd4"
      },
      "source": [
        "tweets_list_updated  = list(tweets_list_updated)\n",
        "type(tweets_list_updated)"
      ],
      "execution_count": 199,
      "outputs": [
        {
          "output_type": "execute_result",
          "data": {
            "text/plain": [
              "list"
            ]
          },
          "metadata": {
            "tags": []
          },
          "execution_count": 199
        }
      ]
    },
    {
      "cell_type": "code",
      "metadata": {
        "id": "oOTJ2Z1IYl15",
        "colab": {
          "base_uri": "https://localhost:8080/"
        },
        "outputId": "ffbda58d-3af0-4243-ec7a-52cf5f4d7351"
      },
      "source": [
        "df['Tweet'].duplicated().sum()"
      ],
      "execution_count": 200,
      "outputs": [
        {
          "output_type": "execute_result",
          "data": {
            "text/plain": [
              "0"
            ]
          },
          "metadata": {
            "tags": []
          },
          "execution_count": 200
        }
      ]
    },
    {
      "cell_type": "code",
      "metadata": {
        "id": "iboT9Z8nYts6",
        "colab": {
          "base_uri": "https://localhost:8080/"
        },
        "outputId": "b01a66c2-031f-49a7-db41-d372a63de9d7"
      },
      "source": [
        "df = df.drop_duplicates(subset = 'Tweet', keep = 'first',ignore_index = True)\n",
        "df.shape"
      ],
      "execution_count": 201,
      "outputs": [
        {
          "output_type": "execute_result",
          "data": {
            "text/plain": [
              "(200, 11)"
            ]
          },
          "metadata": {
            "tags": []
          },
          "execution_count": 201
        }
      ]
    },
    {
      "cell_type": "code",
      "metadata": {
        "id": "YtUW3NmsYw7L",
        "colab": {
          "base_uri": "https://localhost:8080/"
        },
        "outputId": "21b57576-0a3a-4b22-b5fb-9b4a87f4dcc6"
      },
      "source": [
        "df['Tweet'].duplicated().sum()"
      ],
      "execution_count": 202,
      "outputs": [
        {
          "output_type": "execute_result",
          "data": {
            "text/plain": [
              "0"
            ]
          },
          "metadata": {
            "tags": []
          },
          "execution_count": 202
        }
      ]
    },
    {
      "cell_type": "code",
      "metadata": {
        "id": "87iWarvlY1GV"
      },
      "source": [
        "def remove_emoji(tweet):\n",
        "    emoji_pattern = re.compile(\"[\"\n",
        "            u\"\\U0001F600-\\U0001F64F\"  # emoticons\n",
        "            u\"\\U0001F300-\\U0001F5FF\"  # symbols & pictographs\n",
        "            u\"\\U0001F680-\\U0001F6FF\"  # transport & map symbols\n",
        "            u\"\\U0001F1E0-\\U0001F1FF\"  # flags (iOS)\n",
        "                               \"]+\", flags=re.UNICODE)\n",
        "    return emoji_pattern.sub(r'', tweet)\n",
        "\n",
        "df['Processed_Tweet']=df.Tweet.apply(remove_emoji)"
      ],
      "execution_count": 203,
      "outputs": []
    },
    {
      "cell_type": "code",
      "metadata": {
        "id": "ufbUsSdyY8ZL",
        "colab": {
          "base_uri": "https://localhost:8080/"
        },
        "outputId": "3052e647-2fc5-4931-8c12-f82c0a8852b5"
      },
      "source": [
        "count=0\n",
        "for i in df['Processed_Tweet']:\n",
        "    if re.match(r'^RT', i):  #remove any rows that contain RT\n",
        "        df.drop(df.loc[df['Processed_Tweet']==i].index,inplace = True)\n",
        "        count+=1\n",
        "    \n",
        "count"
      ],
      "execution_count": 204,
      "outputs": [
        {
          "output_type": "execute_result",
          "data": {
            "text/plain": [
              "0"
            ]
          },
          "metadata": {
            "tags": []
          },
          "execution_count": 204
        }
      ]
    },
    {
      "cell_type": "code",
      "metadata": {
        "id": "5xlJXmV2ZBEw",
        "colab": {
          "base_uri": "https://localhost:8080/"
        },
        "outputId": "58b9d4df-eb6a-4718-f3fe-de04f352326f"
      },
      "source": [
        "df.shape"
      ],
      "execution_count": 205,
      "outputs": [
        {
          "output_type": "execute_result",
          "data": {
            "text/plain": [
              "(200, 12)"
            ]
          },
          "metadata": {
            "tags": []
          },
          "execution_count": 205
        }
      ]
    },
    {
      "cell_type": "code",
      "metadata": {
        "id": "8dR-gpRYZGhr",
        "colab": {
          "base_uri": "https://localhost:8080/"
        },
        "outputId": "39402836-e07d-4242-ef54-e46c3477dab9"
      },
      "source": [
        "df['Processed_Tweet']"
      ],
      "execution_count": 206,
      "outputs": [
        {
          "output_type": "execute_result",
          "data": {
            "text/plain": [
              "0      @ArmoredWarlord @Croatsky Yeah but that's stil...\n",
              "1      @mrdomino_ Same, it just never felt right. TF1...\n",
              "2      @DoctorWnba SP is pretty nice\\nMP is weak\\nZM ...\n",
              "3      @slakaveli But Slak, how? We got that through ...\n",
              "4      I think Nicola must be one of the most unique ...\n",
              "                             ...                        \n",
              "195    @mukeshmarda @rkmarar9 @judedavid21 In UP let ...\n",
              "196    @saptagiriulaka hope you have seen the video ....\n",
              "197    @ClunkSpider @deathloop @ArkaneStudios Or both...\n",
              "198    @Treyarch Playing on Xbox One X W/ mouse and k...\n",
              "199    @ben_a_williams_ No this game crashes far more...\n",
              "Name: Processed_Tweet, Length: 200, dtype: object"
            ]
          },
          "metadata": {
            "tags": []
          },
          "execution_count": 206
        }
      ]
    },
    {
      "cell_type": "code",
      "metadata": {
        "id": "K5CezelDZKDa",
        "colab": {
          "base_uri": "https://localhost:8080/"
        },
        "outputId": "e8f2b9a4-02ca-457f-8f64-fd2840d1a52e"
      },
      "source": [
        "df['Processed_Tweet'] = [re.sub('^RT[\\s]','',i) for i in df['Processed_Tweet']]  #Remove RT substring\n",
        "df['Processed_Tweet']"
      ],
      "execution_count": 207,
      "outputs": [
        {
          "output_type": "execute_result",
          "data": {
            "text/plain": [
              "0      @ArmoredWarlord @Croatsky Yeah but that's stil...\n",
              "1      @mrdomino_ Same, it just never felt right. TF1...\n",
              "2      @DoctorWnba SP is pretty nice\\nMP is weak\\nZM ...\n",
              "3      @slakaveli But Slak, how? We got that through ...\n",
              "4      I think Nicola must be one of the most unique ...\n",
              "                             ...                        \n",
              "195    @mukeshmarda @rkmarar9 @judedavid21 In UP let ...\n",
              "196    @saptagiriulaka hope you have seen the video ....\n",
              "197    @ClunkSpider @deathloop @ArkaneStudios Or both...\n",
              "198    @Treyarch Playing on Xbox One X W/ mouse and k...\n",
              "199    @ben_a_williams_ No this game crashes far more...\n",
              "Name: Processed_Tweet, Length: 200, dtype: object"
            ]
          },
          "metadata": {
            "tags": []
          },
          "execution_count": 207
        }
      ]
    },
    {
      "cell_type": "code",
      "metadata": {
        "id": "gjiyro27ZOx_",
        "colab": {
          "base_uri": "https://localhost:8080/"
        },
        "outputId": "80c324a2-9ee8-4386-bfa9-d74dcb714446"
      },
      "source": [
        "df['Processed_Tweet'] = [re.sub('@[^\\s]+', ' ', i) for i in df['Processed_Tweet']] #remove usernames\n",
        "df['Processed_Tweet']"
      ],
      "execution_count": 208,
      "outputs": [
        {
          "output_type": "execute_result",
          "data": {
            "text/plain": [
              "0          Yeah but that's still too steep for the SP...\n",
              "1        Same, it just never felt right. TF1 MP with ...\n",
              "2            SP is pretty nice\\nMP is weak\\nZM is a 8/10\n",
              "3        But Slak, how? We got that through sp to mp....\n",
              "4      I think Nicola must be one of the most unique ...\n",
              "                             ...                        \n",
              "195          In UP let SP fight alone and let some Co...\n",
              "196      hope you have seen the video . As the local ...\n",
              "197          Or both sp and mp, not sure. \\nBut its a...\n",
              "198      Playing on Xbox One X W/ mouse and keyboard....\n",
              "199      No this game crashes far more then BO4. I cr...\n",
              "Name: Processed_Tweet, Length: 200, dtype: object"
            ]
          },
          "metadata": {
            "tags": []
          },
          "execution_count": 208
        }
      ]
    },
    {
      "cell_type": "code",
      "metadata": {
        "id": "HedkRzD1ZS4Q",
        "colab": {
          "base_uri": "https://localhost:8080/"
        },
        "outputId": "ca8cb3ac-cac8-45ad-89eb-b46da5bbc691"
      },
      "source": [
        "df['Processed_Tweet'] = [re.sub('((www\\.[^\\s]+)|(https?://[^\\s]+))', '', i) for i in df['Processed_Tweet']] #Remove urls\n",
        "df['Processed_Tweet']"
      ],
      "execution_count": 209,
      "outputs": [
        {
          "output_type": "execute_result",
          "data": {
            "text/plain": [
              "0          Yeah but that's still too steep for the SP...\n",
              "1        Same, it just never felt right. TF1 MP with ...\n",
              "2            SP is pretty nice\\nMP is weak\\nZM is a 8/10\n",
              "3        But Slak, how? We got that through sp to mp....\n",
              "4      I think Nicola must be one of the most unique ...\n",
              "                             ...                        \n",
              "195          In UP let SP fight alone and let some Co...\n",
              "196      hope you have seen the video . As the local ...\n",
              "197          Or both sp and mp, not sure. \\nBut its a...\n",
              "198      Playing on Xbox One X W/ mouse and keyboard....\n",
              "199      No this game crashes far more then BO4. I cr...\n",
              "Name: Processed_Tweet, Length: 200, dtype: object"
            ]
          },
          "metadata": {
            "tags": []
          },
          "execution_count": 209
        }
      ]
    },
    {
      "cell_type": "code",
      "metadata": {
        "id": "EmDOOVqcZXb0",
        "colab": {
          "base_uri": "https://localhost:8080/"
        },
        "outputId": "2a786a2c-9a32-4277-c9f2-86353aed9c10"
      },
      "source": [
        "df['Processed_Tweet'] = [re.sub(r'#([^\\s]+)', r'\\1', i) for i in df['Processed_Tweet']] # remove the # in #hashtag\n",
        "df['Processed_Tweet']"
      ],
      "execution_count": 210,
      "outputs": [
        {
          "output_type": "execute_result",
          "data": {
            "text/plain": [
              "0          Yeah but that's still too steep for the SP...\n",
              "1        Same, it just never felt right. TF1 MP with ...\n",
              "2            SP is pretty nice\\nMP is weak\\nZM is a 8/10\n",
              "3        But Slak, how? We got that through sp to mp....\n",
              "4      I think Nicola must be one of the most unique ...\n",
              "                             ...                        \n",
              "195          In UP let SP fight alone and let some Co...\n",
              "196      hope you have seen the video . As the local ...\n",
              "197          Or both sp and mp, not sure. \\nBut its a...\n",
              "198      Playing on Xbox One X W/ mouse and keyboard....\n",
              "199      No this game crashes far more then BO4. I cr...\n",
              "Name: Processed_Tweet, Length: 200, dtype: object"
            ]
          },
          "metadata": {
            "tags": []
          },
          "execution_count": 210
        }
      ]
    },
    {
      "cell_type": "code",
      "metadata": {
        "id": "GSXJD-U6ZhW1",
        "colab": {
          "base_uri": "https://localhost:8080/"
        },
        "outputId": "c0992292-0830-4fc0-aa9f-95036c9eaac3"
      },
      "source": [
        "!pip install tweet-preprocessor"
      ],
      "execution_count": 211,
      "outputs": [
        {
          "output_type": "stream",
          "text": [
            "Requirement already satisfied: tweet-preprocessor in /usr/local/lib/python3.6/dist-packages (0.6.0)\n"
          ],
          "name": "stdout"
        }
      ]
    },
    {
      "cell_type": "code",
      "metadata": {
        "id": "S-GqeFH8ZcYI",
        "colab": {
          "base_uri": "https://localhost:8080/"
        },
        "outputId": "5fa60738-3332-4576-ef23-6482717cdc5e"
      },
      "source": [
        "import preprocessor as p #Module for faster preprocessing specifically for tweets\n",
        "df['Processed_Tweet'] = [p.clean(i) for i in df['Processed_Tweet']]\n",
        "df['Processed_Tweet']"
      ],
      "execution_count": 212,
      "outputs": [
        {
          "output_type": "execute_result",
          "data": {
            "text/plain": [
              "0      Yeah but that's still too steep for the SP IMO...\n",
              "1      Same, it just never felt right. TF1 MP with TF...\n",
              "2                 SP is pretty niceMP is weakZM is a /10\n",
              "3      But Slak, how? We got that through sp to mp. T...\n",
              "4      I think Nicola must be one of the most unique ...\n",
              "                             ...                        \n",
              "195    In UP let SP fight alone and let some Congress...\n",
              "196    hope you have seen the video . As the local MP...\n",
              "197    Or both sp and mp, not sure. But its a multipl...\n",
              "198    Playing on Xbox One X W/ mouse and keyboard. G...\n",
              "199    No this game crashes far more then BO4. I cras...\n",
              "Name: Processed_Tweet, Length: 200, dtype: object"
            ]
          },
          "metadata": {
            "tags": []
          },
          "execution_count": 212
        }
      ]
    },
    {
      "cell_type": "code",
      "metadata": {
        "id": "T0_7jWfXZo2E",
        "colab": {
          "base_uri": "https://localhost:8080/"
        },
        "outputId": "41d934f8-453d-4b1b-edf8-2617de7944d1"
      },
      "source": [
        "#removing unnecessary special characters, numbers, punctuations in tweets\n",
        "df.Processed_Tweet = df.Processed_Tweet.str.replace(\"[^a-zA-Z]\", \" \")\n",
        "df[\"Processed_Tweet\"]"
      ],
      "execution_count": 213,
      "outputs": [
        {
          "output_type": "execute_result",
          "data": {
            "text/plain": [
              "0      Yeah but that s still too steep for the SP IMO...\n",
              "1      Same  it just never felt right  TF  MP with TF...\n",
              "2                 SP is pretty niceMP is weakZM is a    \n",
              "3      But Slak  how  We got that through sp to mp  T...\n",
              "4      I think Nicola must be one of the most unique ...\n",
              "                             ...                        \n",
              "195    In UP let SP fight alone and let some Congress...\n",
              "196    hope you have seen the video   As the local MP...\n",
              "197    Or both sp and mp  not sure  But its a multipl...\n",
              "198    Playing on Xbox One X W  mouse and keyboard  G...\n",
              "199    No this game crashes far more then BO   I cras...\n",
              "Name: Processed_Tweet, Length: 200, dtype: object"
            ]
          },
          "metadata": {
            "tags": []
          },
          "execution_count": 213
        }
      ]
    },
    {
      "cell_type": "code",
      "metadata": {
        "id": "3rQeZOTCZsd7",
        "colab": {
          "base_uri": "https://localhost:8080/"
        },
        "outputId": "22419b76-ecd5-47d4-9539-0f497451b464"
      },
      "source": [
        "df.Processed_Tweet = [low.lower() for low in df.Processed_Tweet] #Converting into lower case\n",
        "df[\"Processed_Tweet\"]"
      ],
      "execution_count": 214,
      "outputs": [
        {
          "output_type": "execute_result",
          "data": {
            "text/plain": [
              "0      yeah but that s still too steep for the sp imo...\n",
              "1      same  it just never felt right  tf  mp with tf...\n",
              "2                 sp is pretty nicemp is weakzm is a    \n",
              "3      but slak  how  we got that through sp to mp  t...\n",
              "4      i think nicola must be one of the most unique ...\n",
              "                             ...                        \n",
              "195    in up let sp fight alone and let some congress...\n",
              "196    hope you have seen the video   as the local mp...\n",
              "197    or both sp and mp  not sure  but its a multipl...\n",
              "198    playing on xbox one x w  mouse and keyboard  g...\n",
              "199    no this game crashes far more then bo   i cras...\n",
              "Name: Processed_Tweet, Length: 200, dtype: object"
            ]
          },
          "metadata": {
            "tags": []
          },
          "execution_count": 214
        }
      ]
    },
    {
      "cell_type": "code",
      "metadata": {
        "id": "D1caun-KZxeX",
        "colab": {
          "base_uri": "https://localhost:8080/",
          "height": 35
        },
        "outputId": "e4535538-fa8a-436c-f8c1-55f84f5a95cc"
      },
      "source": [
        "df.Processed_Tweet =  df.Processed_Tweet.str.replace(\"amp\", \"\")\n",
        "df['Processed_Tweet'][12] #Sample tweet"
      ],
      "execution_count": 215,
      "outputs": [
        {
          "output_type": "execute_result",
          "data": {
            "application/vnd.google.colaboratory.intrinsic+json": {
              "type": "string"
            },
            "text/plain": [
              "'give your cat some time to play it might have the next sp to mp glitch'"
            ]
          },
          "metadata": {
            "tags": []
          },
          "execution_count": 215
        }
      ]
    },
    {
      "cell_type": "code",
      "metadata": {
        "id": "AQ7xfpqOZ7gx",
        "colab": {
          "base_uri": "https://localhost:8080/"
        },
        "outputId": "4db99ea7-0e85-4132-8af0-bfff169bc471"
      },
      "source": [
        "df['User'].value_counts()"
      ],
      "execution_count": 216,
      "outputs": [
        {
          "output_type": "execute_result",
          "data": {
            "text/plain": [
              "leadlagreport      4\n",
              "mpmsandman         3\n",
              "K__Med             3\n",
              "Umesh_Desai        3\n",
              "4lFRj9Vt1Y3iPKv    3\n",
              "                  ..\n",
              "WindyCityGaming    1\n",
              "boersc             1\n",
              "RileyTaugor        1\n",
              "So12rovv           1\n",
              "Dunny9515          1\n",
              "Name: User, Length: 179, dtype: int64"
            ]
          },
          "metadata": {
            "tags": []
          },
          "execution_count": 216
        }
      ]
    },
    {
      "cell_type": "code",
      "metadata": {
        "id": "WX3ijK3eZ9CL",
        "colab": {
          "base_uri": "https://localhost:8080/"
        },
        "outputId": "102835f2-b6dd-4d06-99c7-884600376dd8"
      },
      "source": [
        "df.query('User == \"jacketrose86\"').Processed_Tweet.tolist()"
      ],
      "execution_count": 217,
      "outputs": [
        {
          "output_type": "execute_result",
          "data": {
            "text/plain": [
              "[]"
            ]
          },
          "metadata": {
            "tags": []
          },
          "execution_count": 217
        }
      ]
    },
    {
      "cell_type": "code",
      "metadata": {
        "id": "ZSs-7eHlZ9F5",
        "colab": {
          "base_uri": "https://localhost:8080/",
          "height": 346
        },
        "outputId": "12115c8a-0b74-4e1c-d012-cdab80e546ef"
      },
      "source": [
        "bar = sns.countplot(df['Verified'])"
      ],
      "execution_count": 218,
      "outputs": [
        {
          "output_type": "stream",
          "text": [
            "/usr/local/lib/python3.6/dist-packages/seaborn/_decorators.py:43: FutureWarning: Pass the following variable as a keyword arg: x. From version 0.12, the only valid positional argument will be `data`, and passing other arguments without an explicit keyword will result in an error or misinterpretation.\n",
            "  FutureWarning\n"
          ],
          "name": "stderr"
        },
        {
          "output_type": "display_data",
          "data": {
            "image/png": "[encoded data removed]",
            "text/plain": [
              "<Figure size 432x288 with 1 Axes>"
            ]
          },
          "metadata": {
            "tags": []
          }
        }
      ]
    },
    {
      "cell_type": "code",
      "metadata": {
        "id": "48YKJISOZ9Jm",
        "colab": {
          "base_uri": "https://localhost:8080/"
        },
        "outputId": "074a5ab6-4197-49a9-b6fe-041f2f2304e0"
      },
      "source": [
        "df['Verified'].value_counts()"
      ],
      "execution_count": 219,
      "outputs": [
        {
          "output_type": "execute_result",
          "data": {
            "text/plain": [
              "False    193\n",
              "True       7\n",
              "Name: Verified, dtype: int64"
            ]
          },
          "metadata": {
            "tags": []
          },
          "execution_count": 219
        }
      ]
    },
    {
      "cell_type": "code",
      "metadata": {
        "id": "qBweECkIZ9Ng",
        "colab": {
          "base_uri": "https://localhost:8080/"
        },
        "outputId": "773ff12c-bbec-4a2e-9bc3-30fd4182635c"
      },
      "source": [
        "df_verified = df.query('Verified == True')\n",
        "df_verified['User'].value_counts()"
      ],
      "execution_count": 220,
      "outputs": [
        {
          "output_type": "execute_result",
          "data": {
            "text/plain": [
              "leadlagreport    4\n",
              "TimesNow         1\n",
              "jdhankhar1       1\n",
              "josemorgado      1\n",
              "Name: User, dtype: int64"
            ]
          },
          "metadata": {
            "tags": []
          },
          "execution_count": 220
        }
      ]
    },
    {
      "cell_type": "code",
      "metadata": {
        "id": "zNnEjVTuZ9Ue",
        "colab": {
          "base_uri": "https://localhost:8080/"
        },
        "outputId": "e4d9b1df-9db5-4a03-c4f0-315696745a69"
      },
      "source": [
        "days = df['Date'].dt.day.tolist()\n",
        "no_of_days = Counter(days)\n",
        "no_of_days"
      ],
      "execution_count": 221,
      "outputs": [
        {
          "output_type": "execute_result",
          "data": {
            "text/plain": [
              "Counter({15: 9, 16: 24, 17: 25, 18: 32, 19: 46, 20: 41, 21: 23})"
            ]
          },
          "metadata": {
            "tags": []
          },
          "execution_count": 221
        }
      ]
    },
    {
      "cell_type": "code",
      "metadata": {
        "id": "mzu51x0fZ9X4",
        "colab": {
          "base_uri": "https://localhost:8080/",
          "height": 467
        },
        "outputId": "ebb5e27c-ff2c-4f44-c3dc-ec2b8384d00a"
      },
      "source": [
        "fig = plt.figure(figsize = (15,7))\n",
        "plt.bar(range(len(no_of_days)), list(no_of_days.values()), align='center', alpha = 0.5,color = 'red')\n",
        "plt.xticks(range(len(no_of_days)), list(no_of_days.keys()))\n",
        "plt.xlabel(\"Day\")\n",
        "plt.ylabel(\"Count Of Tweets\")\n",
        "plt.title(\"Count Of Extracted Tweets On Each Day\")"
      ],
      "execution_count": 222,
      "outputs": [
        {
          "output_type": "execute_result",
          "data": {
            "text/plain": [
              "Text(0.5, 1.0, 'Count Of Extracted Tweets On Each Day')"
            ]
          },
          "metadata": {
            "tags": []
          },
          "execution_count": 222
        },
        {
          "output_type": "display_data",
          "data": {
            "image/png": "[encoded data removed]",
            "text/plain": [
              "<Figure size 1080x504 with 1 Axes>"
            ]
          },
          "metadata": {
            "tags": []
          }
        }
      ]
    },
    {
      "cell_type": "code",
      "metadata": {
        "id": "Qk4k7vt2Z9cE",
        "colab": {
          "base_uri": "https://localhost:8080/"
        },
        "outputId": "e92027af-e8d4-4621-8466-a71659684be0"
      },
      "source": [
        "hours = df['Date'].dt.hour.tolist()\n",
        "no_of_hours = Counter(hours)\n",
        "no_of_hours"
      ],
      "execution_count": 223,
      "outputs": [
        {
          "output_type": "execute_result",
          "data": {
            "text/plain": [
              "Counter({1: 8,\n",
              "         2: 10,\n",
              "         3: 6,\n",
              "         4: 9,\n",
              "         5: 5,\n",
              "         6: 4,\n",
              "         7: 7,\n",
              "         8: 2,\n",
              "         9: 2,\n",
              "         10: 8,\n",
              "         11: 11,\n",
              "         12: 6,\n",
              "         13: 15,\n",
              "         14: 9,\n",
              "         15: 9,\n",
              "         16: 19,\n",
              "         17: 20,\n",
              "         18: 7,\n",
              "         19: 9,\n",
              "         20: 5,\n",
              "         21: 9,\n",
              "         22: 12,\n",
              "         23: 8})"
            ]
          },
          "metadata": {
            "tags": []
          },
          "execution_count": 223
        }
      ]
    },
    {
      "cell_type": "code",
      "metadata": {
        "id": "FnldeKsyZ9fF",
        "colab": {
          "base_uri": "https://localhost:8080/",
          "height": 512
        },
        "outputId": "0640dde0-567c-4017-c51f-0ffd40b5c155"
      },
      "source": [
        "fig = plt.figure(figsize = (15,8))\n",
        "plt.bar(range(len(no_of_hours)), list(no_of_hours.values()), align='center', alpha = 0.5,color = 'red')\n",
        "plt.xticks(range(len(no_of_hours)), list(no_of_hours.keys()))\n",
        "plt.xlabel(\"Hour\")\n",
        "plt.ylabel(\"Count Of Tweets\")\n",
        "plt.title(\"Count Of Extracted Tweets On Each Hour\")"
      ],
      "execution_count": 224,
      "outputs": [
        {
          "output_type": "execute_result",
          "data": {
            "text/plain": [
              "Text(0.5, 1.0, 'Count Of Extracted Tweets On Each Hour')"
            ]
          },
          "metadata": {
            "tags": []
          },
          "execution_count": 224
        },
        {
          "output_type": "display_data",
          "data": {
            "image/png": "[encoded data removed]",
            "text/plain": [
              "<Figure size 1080x576 with 1 Axes>"
            ]
          },
          "metadata": {
            "tags": []
          }
        }
      ]
    },
    {
      "cell_type": "code",
      "metadata": {
        "id": "v2uHncb_Z9ie"
      },
      "source": [
        "from wordcloud import WordCloud\n",
        "tokenizer = TweetTokenizer()"
      ],
      "execution_count": 225,
      "outputs": []
    },
    {
      "cell_type": "code",
      "metadata": {
        "id": "ti_i96jza3EY",
        "colab": {
          "base_uri": "https://localhost:8080/"
        },
        "outputId": "c6c155b0-b367-442c-ea4f-dea82116f8d0"
      },
      "source": [
        "import nltk\n",
        "nltk.download('stopwords')"
      ],
      "execution_count": 226,
      "outputs": [
        {
          "output_type": "stream",
          "text": [
            "[nltk_data] Downloading package stopwords to /root/nltk_data...\n",
            "[nltk_data]   Package stopwords is already up-to-date!\n"
          ],
          "name": "stdout"
        },
        {
          "output_type": "execute_result",
          "data": {
            "text/plain": [
              "True"
            ]
          },
          "metadata": {
            "tags": []
          },
          "execution_count": 226
        }
      ]
    },
    {
      "cell_type": "code",
      "metadata": {
        "id": "ryhZIIElZ9lx",
        "colab": {
          "base_uri": "https://localhost:8080/"
        },
        "outputId": "2e90bad2-88c3-46dc-a9fa-cb719e7a7105"
      },
      "source": [
        "stop_words = set(stopwords.words('english')) \n",
        "stop_words = list(stop_words)\n",
        "print(stop_words)"
      ],
      "execution_count": 227,
      "outputs": [
        {
          "output_type": "stream",
          "text": [
            "[\"hasn't\", \"should've\", 'was', 'aren', 'than', \"wouldn't\", 'of', 'over', 'out', 'are', 'some', 'above', 'been', \"aren't\", 'be', 'so', 'yours', \"shan't\", 'o', 'then', 's', 'now', \"won't\", 'me', 'its', 'any', 'my', 'for', 'doing', \"you've\", 'just', 'did', 'before', \"hadn't\", 'the', 'other', 'while', 'further', 'we', 'a', 'himself', 'too', \"mustn't\", 'their', 'needn', 'how', 'had', 'here', 'which', \"weren't\", \"that'll\", 'these', 'whom', 'i', 'couldn', 'can', 'each', 'only', 'has', 'if', 've', 'wasn', 'most', 'yourself', 'during', 'who', 'does', 'not', 'don', 'ain', 'it', 'd', 'haven', \"wasn't\", 'below', \"doesn't\", 'down', 'wouldn', \"you're\", 'what', 'being', 'an', 'on', 'where', 'hers', 'into', 'his', 'them', 't', 'when', 'ma', 'from', 'once', 'with', 'weren', \"haven't\", 'ours', \"isn't\", 'again', 'didn', 'off', 'to', 'few', 'isn', 'nor', 'between', 'as', 'she', 'those', 'were', 'at', 'hadn', 'own', 'and', 'is', 'yourselves', 'themselves', 're', 'myself', 'until', 'he', 'after', 'shan', 'same', 'having', \"don't\", 'her', 'do', 'or', 'will', 'all', 'should', \"mightn't\", 'against', 'm', \"it's\", 'more', 'about', 'our', \"you'd\", 'have', 'there', 'but', 'you', \"needn't\", 'shouldn', 'they', 'under', 'such', 'this', 'doesn', 'that', 'in', 'through', \"shouldn't\", 'by', 'your', \"didn't\", 'him', 'very', \"couldn't\", 'y', 'why', 'because', 'll', 'am', 'no', 'mightn', 'theirs', 'ourselves', 'hasn', \"she's\", 'won', 'itself', 'both', \"you'll\", 'mustn', 'up', 'herself']\n"
          ],
          "name": "stdout"
        }
      ]
    },
    {
      "cell_type": "code",
      "metadata": {
        "id": "xTHMe2yTZ9pF",
        "colab": {
          "base_uri": "https://localhost:8080/"
        },
        "outputId": "57f4d2d8-e553-47e8-d959-d8d984fa52ae"
      },
      "source": [
        "df['Processed_Tweet'] = df.Processed_Tweet.apply(lambda x: ' '.join(w for w in x.split() if w not in stop_words))   #Remove stopwords\n",
        "df['Processed_Tweet']"
      ],
      "execution_count": 228,
      "outputs": [
        {
          "output_type": "execute_result",
          "data": {
            "text/plain": [
              "0      yeah still steep sp imo like literally care mp...\n",
              "1      never felt right tf mp tf sp would unbeatable ...\n",
              "2                                sp pretty nicemp weakzm\n",
              "3      slak got sp mp ps gtao separate storymode comp...\n",
              "4      think nicola must one unique leaders indy move...\n",
              "                             ...                        \n",
              "195    let sp fight alone let congress leaders fight ...\n",
              "196    hope seen video local mp kindly take matter sp...\n",
              "197                     sp mp sure multiplayer game sure\n",
              "198    playing xbox one x w mouse keyboard game freez...\n",
              "199    game crashes far bo crashed time zombies bo co...\n",
              "Name: Processed_Tweet, Length: 200, dtype: object"
            ]
          },
          "metadata": {
            "tags": []
          },
          "execution_count": 228
        }
      ]
    },
    {
      "cell_type": "code",
      "metadata": {
        "id": "W41lIuhjZ9su",
        "colab": {
          "base_uri": "https://localhost:8080/"
        },
        "outputId": "796850dc-7d67-41d6-9888-f58fd3ec0b3d"
      },
      "source": [
        "df['Processed_Tweet'] = df['Processed_Tweet'].apply(lambda x: tokenizer.tokenize(x))\n",
        "df['Processed_Tweet']"
      ],
      "execution_count": 229,
      "outputs": [
        {
          "output_type": "execute_result",
          "data": {
            "text/plain": [
              "0      [yeah, still, steep, sp, imo, like, literally,...\n",
              "1      [never, felt, right, tf, mp, tf, sp, would, un...\n",
              "2                           [sp, pretty, nicemp, weakzm]\n",
              "3      [slak, got, sp, mp, ps, gtao, separate, storym...\n",
              "4      [think, nicola, must, one, unique, leaders, in...\n",
              "                             ...                        \n",
              "195    [let, sp, fight, alone, let, congress, leaders...\n",
              "196    [hope, seen, video, local, mp, kindly, take, m...\n",
              "197              [sp, mp, sure, multiplayer, game, sure]\n",
              "198    [playing, xbox, one, x, w, mouse, keyboard, ga...\n",
              "199    [game, crashes, far, bo, crashed, time, zombie...\n",
              "Name: Processed_Tweet, Length: 200, dtype: object"
            ]
          },
          "metadata": {
            "tags": []
          },
          "execution_count": 229
        }
      ]
    },
    {
      "cell_type": "code",
      "metadata": {
        "id": "U1iyBPUlZ9wE",
        "colab": {
          "base_uri": "https://localhost:8080/"
        },
        "outputId": "cc806e5a-c640-496f-ddc9-0cb44d1c562f"
      },
      "source": [
        "def lemmatize_stemming(text):\n",
        "    stemmer=PorterStemmer()\n",
        "    return stemmer.stem(text)\n",
        "df['Processed_Tweet'] = df['Processed_Tweet'].apply(lambda x: [lemmatize_stemming(i) for i in x]) # stemming\n",
        "df['Processed_Tweet']"
      ],
      "execution_count": 230,
      "outputs": [
        {
          "output_type": "execute_result",
          "data": {
            "text/plain": [
              "0      [yeah, still, steep, sp, imo, like, liter, car...\n",
              "1      [never, felt, right, tf, mp, tf, sp, would, un...\n",
              "2                           [sp, pretti, nicemp, weakzm]\n",
              "3      [slak, got, sp, mp, ps, gtao, separ, storymod,...\n",
              "4      [think, nicola, must, one, uniqu, leader, indi...\n",
              "                             ...                        \n",
              "195    [let, sp, fight, alon, let, congress, leader, ...\n",
              "196    [hope, seen, video, local, mp, kindli, take, m...\n",
              "197                [sp, mp, sure, multiplay, game, sure]\n",
              "198    [play, xbox, one, x, w, mous, keyboard, game, ...\n",
              "199    [game, crash, far, bo, crash, time, zombi, bo,...\n",
              "Name: Processed_Tweet, Length: 200, dtype: object"
            ]
          },
          "metadata": {
            "tags": []
          },
          "execution_count": 230
        }
      ]
    },
    {
      "cell_type": "code",
      "metadata": {
        "id": "wLB1SjaLZ9zx",
        "colab": {
          "base_uri": "https://localhost:8080/",
          "height": 834
        },
        "outputId": "f456d125-6e84-4aef-9552-dd58e363441c"
      },
      "source": [
        "\n",
        "df['Processed_Tweet'] = df.Processed_Tweet.apply(lambda x: [i for i in x if len(i)>2])\n",
        "df"
      ],
      "execution_count": 231,
      "outputs": [
        {
          "output_type": "execute_result",
          "data": {
            "text/html": [
              "<div>\n",
              "<style scoped>\n",
              "    .dataframe tbody tr th:only-of-type {\n",
              "        vertical-align: middle;\n",
              "    }\n",
              "\n",
              "    .dataframe tbody tr th {\n",
              "        vertical-align: top;\n",
              "    }\n",
              "\n",
              "    .dataframe thead th {\n",
              "        text-align: right;\n",
              "    }\n",
              "</style>\n",
              "<table border=\"1\" class=\"dataframe\">\n",
              "  <thead>\n",
              "    <tr style=\"text-align: right;\">\n",
              "      <th></th>\n",
              "      <th>Date</th>\n",
              "      <th>Tweet_id</th>\n",
              "      <th>Verified</th>\n",
              "      <th>Tweet</th>\n",
              "      <th>User</th>\n",
              "      <th>Location</th>\n",
              "      <th>Source</th>\n",
              "      <th>Likes</th>\n",
              "      <th>Followers</th>\n",
              "      <th>Following</th>\n",
              "      <th>Retweets</th>\n",
              "      <th>Processed_Tweet</th>\n",
              "    </tr>\n",
              "  </thead>\n",
              "  <tbody>\n",
              "    <tr>\n",
              "      <th>0</th>\n",
              "      <td>2020-11-21 23:23:10</td>\n",
              "      <td>1330290688978718730</td>\n",
              "      <td>False</td>\n",
              "      <td>@ArmoredWarlord @Croatsky Yeah but that's stil...</td>\n",
              "      <td>MazderVerhal</td>\n",
              "      <td>United Kingdom</td>\n",
              "      <td>Twitter Web App</td>\n",
              "      <td>0</td>\n",
              "      <td>16</td>\n",
              "      <td>107</td>\n",
              "      <td>0</td>\n",
              "      <td>[yeah, still, steep, imo, like, liter, care, a...</td>\n",
              "    </tr>\n",
              "    <tr>\n",
              "      <th>1</th>\n",
              "      <td>2020-11-21 23:18:20</td>\n",
              "      <td>1330289473578524672</td>\n",
              "      <td>False</td>\n",
              "      <td>@mrdomino_ Same, it just never felt right. TF1...</td>\n",
              "      <td>Matty_Gregoire</td>\n",
              "      <td></td>\n",
              "      <td>Twitter for Android</td>\n",
              "      <td>3</td>\n",
              "      <td>546</td>\n",
              "      <td>567</td>\n",
              "      <td>0</td>\n",
              "      <td>[never, felt, right, would, unbeat, goat]</td>\n",
              "    </tr>\n",
              "    <tr>\n",
              "      <th>2</th>\n",
              "      <td>2020-11-21 21:30:58</td>\n",
              "      <td>1330262451280076802</td>\n",
              "      <td>False</td>\n",
              "      <td>@DoctorWnba SP is pretty nice\\nMP is weak\\nZM ...</td>\n",
              "      <td>CODZombieCringe</td>\n",
              "      <td></td>\n",
              "      <td>Twitter for Android</td>\n",
              "      <td>1</td>\n",
              "      <td>269</td>\n",
              "      <td>283</td>\n",
              "      <td>0</td>\n",
              "      <td>[pretti, nicemp, weakzm]</td>\n",
              "    </tr>\n",
              "    <tr>\n",
              "      <th>3</th>\n",
              "      <td>2020-11-21 18:50:00</td>\n",
              "      <td>1330221946278187009</td>\n",
              "      <td>False</td>\n",
              "      <td>@slakaveli But Slak, how? We got that through ...</td>\n",
              "      <td>lX_Dr_T4k3r_Xl</td>\n",
              "      <td>Los Santos</td>\n",
              "      <td>Twitter Web App</td>\n",
              "      <td>1</td>\n",
              "      <td>154</td>\n",
              "      <td>146</td>\n",
              "      <td>0</td>\n",
              "      <td>[slak, got, gtao, separ, storymod, complet, de...</td>\n",
              "    </tr>\n",
              "    <tr>\n",
              "      <th>4</th>\n",
              "      <td>2020-11-21 17:18:13</td>\n",
              "      <td>1330198846136324096</td>\n",
              "      <td>False</td>\n",
              "      <td>I think Nicola must be one of the most unique ...</td>\n",
              "      <td>ga11acher</td>\n",
              "      <td></td>\n",
              "      <td>Twitter Web App</td>\n",
              "      <td>20</td>\n",
              "      <td>3844</td>\n",
              "      <td>3160</td>\n",
              "      <td>2</td>\n",
              "      <td>[think, nicola, must, one, uniqu, leader, indi...</td>\n",
              "    </tr>\n",
              "    <tr>\n",
              "      <th>...</th>\n",
              "      <td>...</td>\n",
              "      <td>...</td>\n",
              "      <td>...</td>\n",
              "      <td>...</td>\n",
              "      <td>...</td>\n",
              "      <td>...</td>\n",
              "      <td>...</td>\n",
              "      <td>...</td>\n",
              "      <td>...</td>\n",
              "      <td>...</td>\n",
              "      <td>...</td>\n",
              "      <td>...</td>\n",
              "    </tr>\n",
              "    <tr>\n",
              "      <th>195</th>\n",
              "      <td>2020-11-15 17:22:55</td>\n",
              "      <td>1328025700276740097</td>\n",
              "      <td>False</td>\n",
              "      <td>@mukeshmarda @rkmarar9 @judedavid21 In UP let ...</td>\n",
              "      <td>softsto38135836</td>\n",
              "      <td>Shillong</td>\n",
              "      <td>Twitter for Android</td>\n",
              "      <td>3</td>\n",
              "      <td>252</td>\n",
              "      <td>602</td>\n",
              "      <td>2</td>\n",
              "      <td>[let, fight, alon, let, congress, leader, figh...</td>\n",
              "    </tr>\n",
              "    <tr>\n",
              "      <th>196</th>\n",
              "      <td>2020-11-15 16:00:36</td>\n",
              "      <td>1328004986203119616</td>\n",
              "      <td>False</td>\n",
              "      <td>@saptagiriulaka hope you have seen the video ....</td>\n",
              "      <td>indian_2030</td>\n",
              "      <td>Twitter</td>\n",
              "      <td>Twitter for Android</td>\n",
              "      <td>1</td>\n",
              "      <td>209</td>\n",
              "      <td>507</td>\n",
              "      <td>0</td>\n",
              "      <td>[hope, seen, video, local, kindli, take, matte...</td>\n",
              "    </tr>\n",
              "    <tr>\n",
              "      <th>197</th>\n",
              "      <td>2020-11-15 14:20:15</td>\n",
              "      <td>1327979730881003521</td>\n",
              "      <td>False</td>\n",
              "      <td>@ClunkSpider @deathloop @ArkaneStudios Or both...</td>\n",
              "      <td>ayushkalia23</td>\n",
              "      <td>Ludhiana, India</td>\n",
              "      <td>Twitter for Android</td>\n",
              "      <td>0</td>\n",
              "      <td>385</td>\n",
              "      <td>461</td>\n",
              "      <td>0</td>\n",
              "      <td>[sure, multiplay, game, sure]</td>\n",
              "    </tr>\n",
              "    <tr>\n",
              "      <th>198</th>\n",
              "      <td>2020-11-15 13:45:32</td>\n",
              "      <td>1327970994733031429</td>\n",
              "      <td>False</td>\n",
              "      <td>@Treyarch Playing on Xbox One X W/ mouse and k...</td>\n",
              "      <td>cody_vaughan</td>\n",
              "      <td></td>\n",
              "      <td>Twitter for Android</td>\n",
              "      <td>0</td>\n",
              "      <td>26</td>\n",
              "      <td>35</td>\n",
              "      <td>0</td>\n",
              "      <td>[play, xbox, one, mous, keyboard, game, freez,...</td>\n",
              "    </tr>\n",
              "    <tr>\n",
              "      <th>199</th>\n",
              "      <td>2020-11-15 13:33:48</td>\n",
              "      <td>1327968042328989696</td>\n",
              "      <td>False</td>\n",
              "      <td>@ben_a_williams_ No this game crashes far more...</td>\n",
              "      <td>So12rovv</td>\n",
              "      <td>Dauntless Code TCAASF</td>\n",
              "      <td>Twitter for iPhone</td>\n",
              "      <td>0</td>\n",
              "      <td>194</td>\n",
              "      <td>724</td>\n",
              "      <td>0</td>\n",
              "      <td>[game, crash, far, crash, time, zombi, cold, w...</td>\n",
              "    </tr>\n",
              "  </tbody>\n",
              "</table>\n",
              "<p>200 rows × 12 columns</p>\n",
              "</div>"
            ],
            "text/plain": [
              "                   Date  ...                                    Processed_Tweet\n",
              "0   2020-11-21 23:23:10  ...  [yeah, still, steep, imo, like, liter, care, a...\n",
              "1   2020-11-21 23:18:20  ...          [never, felt, right, would, unbeat, goat]\n",
              "2   2020-11-21 21:30:58  ...                           [pretti, nicemp, weakzm]\n",
              "3   2020-11-21 18:50:00  ...  [slak, got, gtao, separ, storymod, complet, de...\n",
              "4   2020-11-21 17:18:13  ...  [think, nicola, must, one, uniqu, leader, indi...\n",
              "..                  ...  ...                                                ...\n",
              "195 2020-11-15 17:22:55  ...  [let, fight, alon, let, congress, leader, figh...\n",
              "196 2020-11-15 16:00:36  ...  [hope, seen, video, local, kindli, take, matte...\n",
              "197 2020-11-15 14:20:15  ...                      [sure, multiplay, game, sure]\n",
              "198 2020-11-15 13:45:32  ...  [play, xbox, one, mous, keyboard, game, freez,...\n",
              "199 2020-11-15 13:33:48  ...  [game, crash, far, crash, time, zombi, cold, w...\n",
              "\n",
              "[200 rows x 12 columns]"
            ]
          },
          "metadata": {
            "tags": []
          },
          "execution_count": 231
        }
      ]
    },
    {
      "cell_type": "code",
      "metadata": {
        "id": "Jp1MddEpbN6A",
        "colab": {
          "base_uri": "https://localhost:8080/"
        },
        "outputId": "dc8f3d23-7c58-42b1-ae2c-7ab8850ef7f5"
      },
      "source": [
        "texts = []\n",
        "texts = df.Processed_Tweet.apply(lambda x: [i for i in x] )\n",
        "all_words = []\n",
        "for i in texts:\n",
        "    all_words.append(\" \".join(i))\n",
        "text = []\n",
        "for i in texts:\n",
        "    for j in i:\n",
        "        text.append(j)\n",
        "len(text)"
      ],
      "execution_count": 232,
      "outputs": [
        {
          "output_type": "execute_result",
          "data": {
            "text/plain": [
              "2810"
            ]
          },
          "metadata": {
            "tags": []
          },
          "execution_count": 232
        }
      ]
    },
    {
      "cell_type": "code",
      "metadata": {
        "id": "jbRz6G8dbN9q",
        "colab": {
          "base_uri": "https://localhost:8080/",
          "height": 466
        },
        "outputId": "cfdf5944-0f33-4fe7-9480-c98bdbe767ad"
      },
      "source": [
        "wordcloud = WordCloud(width=800, height=500, random_state=21, max_font_size=110).generate(' '.join(text))\n",
        "plt.figure(figsize = (12, 12), facecolor=\"None\") \n",
        "plt.imshow(wordcloud,interpolation='bilinear') \n",
        "plt.axis(\"off\") \n",
        "plt.title(\"WordCloud of sp MP Tweets\")\n",
        "plt.show()"
      ],
      "execution_count": 234,
      "outputs": [
        {
          "output_type": "display_data",
          "data": {
            "image/png": "[encoded data removed]",
            "text/plain": [
              "<Figure size 864x864 with 1 Axes>"
            ]
          },
          "metadata": {
            "tags": [],
            "needs_background": "light"
          }
        }
      ]
    },
    {
      "cell_type": "code",
      "metadata": {
        "id": "Y_6ferf0bOBj",
        "colab": {
          "base_uri": "https://localhost:8080/"
        },
        "outputId": "16cc1142-e32d-445b-816b-53a51352f3a8"
      },
      "source": [
        "from textblob import TextBlob\n",
        "pol=[]\n",
        "for Tweet in all_words:\n",
        "    blob = TextBlob(Tweet)\n",
        "    pol.append(blob.sentiment.polarity)\n",
        "len(pol)"
      ],
      "execution_count": 235,
      "outputs": [
        {
          "output_type": "execute_result",
          "data": {
            "text/plain": [
              "200"
            ]
          },
          "metadata": {
            "tags": []
          },
          "execution_count": 235
        }
      ]
    },
    {
      "cell_type": "code",
      "metadata": {
        "id": "dHvb9R2cbOHY",
        "colab": {
          "base_uri": "https://localhost:8080/"
        },
        "outputId": "2dd4c429-d9f2-42a4-84be-9a28b9775d2b"
      },
      "source": [
        "len(text)"
      ],
      "execution_count": 236,
      "outputs": [
        {
          "output_type": "execute_result",
          "data": {
            "text/plain": [
              "2810"
            ]
          },
          "metadata": {
            "tags": []
          },
          "execution_count": 236
        }
      ]
    },
    {
      "cell_type": "code",
      "metadata": {
        "id": "cu242euSbOKi",
        "colab": {
          "base_uri": "https://localhost:8080/"
        },
        "outputId": "30483b76-6b96-44d1-ba7a-60ec4480ca5e"
      },
      "source": [
        "positive=0\n",
        "negative=0\n",
        "neutral=0\n",
        "for i in pol:\n",
        "    if i>0:\n",
        "        positive+=1\n",
        "    elif i<0:\n",
        "        negative+=1\n",
        "    else:\n",
        "        neutral+=1\n",
        "print(\"Positive Tweets:\",positive)\n",
        "print(\"Negative Tweets:\",negative)\n",
        "print(\"Neutral Tweets\",neutral)"
      ],
      "execution_count": 237,
      "outputs": [
        {
          "output_type": "stream",
          "text": [
            "Positive Tweets: 76\n",
            "Negative Tweets: 66\n",
            "Neutral Tweets 58\n"
          ],
          "name": "stdout"
        }
      ]
    },
    {
      "cell_type": "code",
      "metadata": {
        "id": "6Q5B0aVGbOOa",
        "colab": {
          "base_uri": "https://localhost:8080/"
        },
        "outputId": "f44f154c-ecf6-40b0-9f82-465360d792a0"
      },
      "source": [
        "import nltk\n",
        "nltk.download('vader_lexicon')"
      ],
      "execution_count": 238,
      "outputs": [
        {
          "output_type": "stream",
          "text": [
            "[nltk_data] Downloading package vader_lexicon to /root/nltk_data...\n",
            "[nltk_data]   Package vader_lexicon is already up-to-date!\n"
          ],
          "name": "stdout"
        },
        {
          "output_type": "execute_result",
          "data": {
            "text/plain": [
              "True"
            ]
          },
          "metadata": {
            "tags": []
          },
          "execution_count": 238
        }
      ]
    },
    {
      "cell_type": "code",
      "metadata": {
        "id": "WZ2hhckbbOR4"
      },
      "source": [
        "from nltk.sentiment.vader import SentimentIntensityAnalyzer\n",
        "sid = SentimentIntensityAnalyzer()\n",
        "sentiment_scores= []\n",
        "for i in all_words:\n",
        "    sentiment_scores.append([sid.polarity_scores(i)])"
      ],
      "execution_count": 239,
      "outputs": []
    },
    {
      "cell_type": "code",
      "metadata": {
        "id": "hCz4RQdabOV4",
        "colab": {
          "base_uri": "https://localhost:8080/",
          "height": 415
        },
        "outputId": "cbfd8629-93b8-4bdc-be63-373b726bfa3c"
      },
      "source": [
        "value = []\n",
        "for i in sentiment_scores:\n",
        "    for dict1 in i:\n",
        "        value.append(list(dict1.values()))\n",
        "sentimental_score_df = pd.DataFrame(data = value, columns = ['Negative','Neutral','Positive','Compound'])\n",
        "sentimental_score_df"
      ],
      "execution_count": 240,
      "outputs": [
        {
          "output_type": "execute_result",
          "data": {
            "text/html": [
              "<div>\n",
              "<style scoped>\n",
              "    .dataframe tbody tr th:only-of-type {\n",
              "        vertical-align: middle;\n",
              "    }\n",
              "\n",
              "    .dataframe tbody tr th {\n",
              "        vertical-align: top;\n",
              "    }\n",
              "\n",
              "    .dataframe thead th {\n",
              "        text-align: right;\n",
              "    }\n",
              "</style>\n",
              "<table border=\"1\" class=\"dataframe\">\n",
              "  <thead>\n",
              "    <tr style=\"text-align: right;\">\n",
              "      <th></th>\n",
              "      <th>Negative</th>\n",
              "      <th>Neutral</th>\n",
              "      <th>Positive</th>\n",
              "      <th>Compound</th>\n",
              "    </tr>\n",
              "  </thead>\n",
              "  <tbody>\n",
              "    <tr>\n",
              "      <th>0</th>\n",
              "      <td>0.000</td>\n",
              "      <td>0.470</td>\n",
              "      <td>0.530</td>\n",
              "      <td>0.7845</td>\n",
              "    </tr>\n",
              "    <tr>\n",
              "      <th>1</th>\n",
              "      <td>0.000</td>\n",
              "      <td>1.000</td>\n",
              "      <td>0.000</td>\n",
              "      <td>0.0000</td>\n",
              "    </tr>\n",
              "    <tr>\n",
              "      <th>2</th>\n",
              "      <td>0.000</td>\n",
              "      <td>1.000</td>\n",
              "      <td>0.000</td>\n",
              "      <td>0.0000</td>\n",
              "    </tr>\n",
              "    <tr>\n",
              "      <th>3</th>\n",
              "      <td>0.333</td>\n",
              "      <td>0.667</td>\n",
              "      <td>0.000</td>\n",
              "      <td>-0.5423</td>\n",
              "    </tr>\n",
              "    <tr>\n",
              "      <th>4</th>\n",
              "      <td>0.123</td>\n",
              "      <td>0.877</td>\n",
              "      <td>0.000</td>\n",
              "      <td>-0.5423</td>\n",
              "    </tr>\n",
              "    <tr>\n",
              "      <th>...</th>\n",
              "      <td>...</td>\n",
              "      <td>...</td>\n",
              "      <td>...</td>\n",
              "      <td>...</td>\n",
              "    </tr>\n",
              "    <tr>\n",
              "      <th>195</th>\n",
              "      <td>0.292</td>\n",
              "      <td>0.562</td>\n",
              "      <td>0.146</td>\n",
              "      <td>-0.6369</td>\n",
              "    </tr>\n",
              "    <tr>\n",
              "      <th>196</th>\n",
              "      <td>0.000</td>\n",
              "      <td>0.599</td>\n",
              "      <td>0.401</td>\n",
              "      <td>0.6908</td>\n",
              "    </tr>\n",
              "    <tr>\n",
              "      <th>197</th>\n",
              "      <td>0.000</td>\n",
              "      <td>0.303</td>\n",
              "      <td>0.697</td>\n",
              "      <td>0.5574</td>\n",
              "    </tr>\n",
              "    <tr>\n",
              "      <th>198</th>\n",
              "      <td>0.120</td>\n",
              "      <td>0.812</td>\n",
              "      <td>0.067</td>\n",
              "      <td>-0.2263</td>\n",
              "    </tr>\n",
              "    <tr>\n",
              "      <th>199</th>\n",
              "      <td>0.725</td>\n",
              "      <td>0.275</td>\n",
              "      <td>0.000</td>\n",
              "      <td>-0.9643</td>\n",
              "    </tr>\n",
              "  </tbody>\n",
              "</table>\n",
              "<p>200 rows × 4 columns</p>\n",
              "</div>"
            ],
            "text/plain": [
              "     Negative  Neutral  Positive  Compound\n",
              "0       0.000    0.470     0.530    0.7845\n",
              "1       0.000    1.000     0.000    0.0000\n",
              "2       0.000    1.000     0.000    0.0000\n",
              "3       0.333    0.667     0.000   -0.5423\n",
              "4       0.123    0.877     0.000   -0.5423\n",
              "..        ...      ...       ...       ...\n",
              "195     0.292    0.562     0.146   -0.6369\n",
              "196     0.000    0.599     0.401    0.6908\n",
              "197     0.000    0.303     0.697    0.5574\n",
              "198     0.120    0.812     0.067   -0.2263\n",
              "199     0.725    0.275     0.000   -0.9643\n",
              "\n",
              "[200 rows x 4 columns]"
            ]
          },
          "metadata": {
            "tags": []
          },
          "execution_count": 240
        }
      ]
    },
    {
      "cell_type": "code",
      "metadata": {
        "id": "Ev7p5zHybOZN",
        "colab": {
          "base_uri": "https://localhost:8080/",
          "height": 202
        },
        "outputId": "6ea9cef9-b046-4a0d-cb9c-a6d8186b3b1d"
      },
      "source": [
        "sentimental_score_df['val'] = sentimental_score_df['Compound'].apply(lambda x: 'Neutral' if x == 0 else ('Positive' if x > 0 else 'Negative'))\n",
        "sentimental_score_df.head()"
      ],
      "execution_count": 241,
      "outputs": [
        {
          "output_type": "execute_result",
          "data": {
            "text/html": [
              "<div>\n",
              "<style scoped>\n",
              "    .dataframe tbody tr th:only-of-type {\n",
              "        vertical-align: middle;\n",
              "    }\n",
              "\n",
              "    .dataframe tbody tr th {\n",
              "        vertical-align: top;\n",
              "    }\n",
              "\n",
              "    .dataframe thead th {\n",
              "        text-align: right;\n",
              "    }\n",
              "</style>\n",
              "<table border=\"1\" class=\"dataframe\">\n",
              "  <thead>\n",
              "    <tr style=\"text-align: right;\">\n",
              "      <th></th>\n",
              "      <th>Negative</th>\n",
              "      <th>Neutral</th>\n",
              "      <th>Positive</th>\n",
              "      <th>Compound</th>\n",
              "      <th>val</th>\n",
              "    </tr>\n",
              "  </thead>\n",
              "  <tbody>\n",
              "    <tr>\n",
              "      <th>0</th>\n",
              "      <td>0.000</td>\n",
              "      <td>0.470</td>\n",
              "      <td>0.53</td>\n",
              "      <td>0.7845</td>\n",
              "      <td>Positive</td>\n",
              "    </tr>\n",
              "    <tr>\n",
              "      <th>1</th>\n",
              "      <td>0.000</td>\n",
              "      <td>1.000</td>\n",
              "      <td>0.00</td>\n",
              "      <td>0.0000</td>\n",
              "      <td>Neutral</td>\n",
              "    </tr>\n",
              "    <tr>\n",
              "      <th>2</th>\n",
              "      <td>0.000</td>\n",
              "      <td>1.000</td>\n",
              "      <td>0.00</td>\n",
              "      <td>0.0000</td>\n",
              "      <td>Neutral</td>\n",
              "    </tr>\n",
              "    <tr>\n",
              "      <th>3</th>\n",
              "      <td>0.333</td>\n",
              "      <td>0.667</td>\n",
              "      <td>0.00</td>\n",
              "      <td>-0.5423</td>\n",
              "      <td>Negative</td>\n",
              "    </tr>\n",
              "    <tr>\n",
              "      <th>4</th>\n",
              "      <td>0.123</td>\n",
              "      <td>0.877</td>\n",
              "      <td>0.00</td>\n",
              "      <td>-0.5423</td>\n",
              "      <td>Negative</td>\n",
              "    </tr>\n",
              "  </tbody>\n",
              "</table>\n",
              "</div>"
            ],
            "text/plain": [
              "   Negative  Neutral  Positive  Compound       val\n",
              "0     0.000    0.470      0.53    0.7845  Positive\n",
              "1     0.000    1.000      0.00    0.0000   Neutral\n",
              "2     0.000    1.000      0.00    0.0000   Neutral\n",
              "3     0.333    0.667      0.00   -0.5423  Negative\n",
              "4     0.123    0.877      0.00   -0.5423  Negative"
            ]
          },
          "metadata": {
            "tags": []
          },
          "execution_count": 241
        }
      ]
    },
    {
      "cell_type": "code",
      "metadata": {
        "id": "2FmNubOLbOdG",
        "colab": {
          "base_uri": "https://localhost:8080/",
          "height": 307
        },
        "outputId": "987ed3dc-f6c4-4a9c-b2d3-03dea4259408"
      },
      "source": [
        "sent_count = pd.DataFrame.from_dict(Counter(sentimental_score_df['val']), orient = 'index').reset_index()\n",
        "sent_count.columns = ['sentiment', 'count']\n",
        "\n",
        "sns.barplot(y=\"count\", x='sentiment', data=sent_count)"
      ],
      "execution_count": 242,
      "outputs": [
        {
          "output_type": "execute_result",
          "data": {
            "text/plain": [
              "<matplotlib.axes._subplots.AxesSubplot at 0x7fb13b116438>"
            ]
          },
          "metadata": {
            "tags": []
          },
          "execution_count": 242
        },
        {
          "output_type": "display_data",
          "data": {
            "image/png": "[encoded data removed]",
            "text/plain": [
              "<Figure size 432x288 with 1 Axes>"
            ]
          },
          "metadata": {
            "tags": []
          }
        }
      ]
    },
    {
      "cell_type": "code",
      "metadata": {
        "id": "dUllRCfLbOg7",
        "colab": {
          "base_uri": "https://localhost:8080/"
        },
        "outputId": "07285ea4-48ea-41e2-9ee0-9d8201a153b8"
      },
      "source": [
        "filepath = r\"/content/Election-Prediction/StatewisePolitics/Madhya Pradesh/sp_mp.csv\"\n",
        "emolex_df = pd.read_csv(filepath,  names=[\"word\", \"emotion\", \"association\"], skiprows=45, sep='\\t')\n",
        "emolex_df.head(12)\n",
        "len(emolex_df)"
      ],
      "execution_count": 243,
      "outputs": [
        {
          "output_type": "execute_result",
          "data": {
            "text/plain": [
              "354"
            ]
          },
          "metadata": {
            "tags": []
          },
          "execution_count": 243
        }
      ]
    },
    {
      "cell_type": "code",
      "metadata": {
        "id": "BpqvO-zZbOky"
      },
      "source": [
        "emotions={'positive':0, 'negative':0, 'surprise':0,'sadness':0,\n",
        "          'anger':0,'joy':0,'negative':0,'trust':0,'fear':0,'anticipation':0,'disgust':0}"
      ],
      "execution_count": 244,
      "outputs": []
    },
    {
      "cell_type": "code",
      "metadata": {
        "id": "5zvUJmULbOoU"
      },
      "source": [
        "word_emotion=dict()\n",
        "for i in range(0,354):\n",
        "    emotion=emolex_df['emotion'][i]\n",
        "    word=emolex_df['word'][i]\n",
        "    association=emolex_df['association'][i]\n",
        "    \n",
        "    if word not in word_emotion:\n",
        "        word_emotion[word]=dict()\n",
        "    word_emotion[word][emotion]=association\n"
      ],
      "execution_count": 245,
      "outputs": []
    },
    {
      "cell_type": "code",
      "metadata": {
        "id": "Mp3Thxfpg0nI",
        "colab": {
          "base_uri": "https://localhost:8080/"
        },
        "outputId": "ced2afba-9ae6-4b8e-9925-2ab45c0356c5"
      },
      "source": [
        "from numpy import nan\n",
        "nan == nan\n"
      ],
      "execution_count": 60,
      "outputs": [
        {
          "output_type": "execute_result",
          "data": {
            "text/plain": [
              "False"
            ]
          },
          "metadata": {
            "tags": []
          },
          "execution_count": 60
        }
      ]
    },
    {
      "cell_type": "code",
      "metadata": {
        "id": "mHtSZD_BbOry",
        "colab": {
          "base_uri": "https://localhost:8080/",
          "height": 197
        },
        "outputId": "838ad7ba-4826-46a7-bb0a-d65fcb27a3e7"
      },
      "source": [
        "for i in range(0,155):\n",
        "    text=df['Tweet'][i]\n",
        "    for j in text.split():\n",
        "        if j in word_emotion:\n",
        "            for k in word_emotion[j]:\n",
        "                emotions[k]+=word_emotion[j][k]"
      ],
      "execution_count": null,
      "outputs": [
        {
          "output_type": "error",
          "ename": "KeyError",
          "evalue": "ignored",
          "traceback": [
            "\u001b[0;31m---------------------------------------------------------------------------\u001b[0m",
            "\u001b[0;31mKeyError\u001b[0m                                  Traceback (most recent call last)",
            "\u001b[0;32m<ipython-input-74-9d00725fd2c3>\u001b[0m in \u001b[0;36m<module>\u001b[0;34m()\u001b[0m\n\u001b[1;32m      4\u001b[0m         \u001b[0;32mif\u001b[0m \u001b[0mj\u001b[0m \u001b[0;32min\u001b[0m \u001b[0mword_emotion\u001b[0m\u001b[0;34m:\u001b[0m\u001b[0;34m\u001b[0m\u001b[0;34m\u001b[0m\u001b[0m\n\u001b[1;32m      5\u001b[0m             \u001b[0;32mfor\u001b[0m \u001b[0mk\u001b[0m \u001b[0;32min\u001b[0m \u001b[0mword_emotion\u001b[0m\u001b[0;34m[\u001b[0m\u001b[0mj\u001b[0m\u001b[0;34m]\u001b[0m\u001b[0;34m:\u001b[0m\u001b[0;34m\u001b[0m\u001b[0;34m\u001b[0m\u001b[0m\n\u001b[0;32m----> 6\u001b[0;31m                 \u001b[0memotions\u001b[0m\u001b[0;34m[\u001b[0m\u001b[0mk\u001b[0m\u001b[0;34m]\u001b[0m\u001b[0;34m+=\u001b[0m\u001b[0mword_emotion\u001b[0m\u001b[0;34m[\u001b[0m\u001b[0mj\u001b[0m\u001b[0;34m]\u001b[0m\u001b[0;34m[\u001b[0m\u001b[0mk\u001b[0m\u001b[0;34m]\u001b[0m\u001b[0;34m\u001b[0m\u001b[0;34m\u001b[0m\u001b[0m\n\u001b[0m",
            "\u001b[0;31mKeyError\u001b[0m: nan"
          ]
        }
      ]
    },
    {
      "cell_type": "code",
      "metadata": {
        "id": "IkuVbkfMbOvn",
        "colab": {
          "base_uri": "https://localhost:8080/"
        },
        "outputId": "1338227a-1cfc-4e30-c04d-f60084f6cbe6"
      },
      "source": [
        "emotions"
      ],
      "execution_count": null,
      "outputs": [
        {
          "output_type": "execute_result",
          "data": {
            "text/plain": [
              "{'anger': 0,\n",
              " 'anticipation': 0,\n",
              " 'disgust': 0,\n",
              " 'fear': 0,\n",
              " 'joy': 0,\n",
              " 'negative': 0,\n",
              " 'positive': 0,\n",
              " 'sadness': 0,\n",
              " 'surprise': 0,\n",
              " 'trust': 0}"
            ]
          },
          "metadata": {
            "tags": []
          },
          "execution_count": 75
        }
      ]
    },
    {
      "cell_type": "code",
      "metadata": {
        "id": "y1vRLg5bbOzL",
        "colab": {
          "base_uri": "https://localhost:8080/",
          "height": 355
        },
        "outputId": "6c75db3c-2263-46f7-83a5-1c34b85e60a5"
      },
      "source": [
        "plt.style.use('fivethirtyeight')\n",
        "plt.rcParams[\"figure.figsize\"] = [15,5]\n",
        "plt.bar(list(emotions.keys()),list(emotions.values()),color='red',alpha = 0.6)\n",
        "plt.xlabel('Emotions')\n",
        "plt.ylabel('Count')\n",
        "plt.title('Calculated Emotions Of Users ')\n",
        "plt.show()"
      ],
      "execution_count": null,
      "outputs": [
        {
          "output_type": "display_data",
          "data": {
            "image/png": "[encoded data removed]",
            "text/plain": [
              "<Figure size 1080x360 with 1 Axes>"
            ]
          },
          "metadata": {
            "tags": []
          }
        }
      ]
    },
    {
      "cell_type": "code",
      "metadata": {
        "id": "DBNBn2IebO22",
        "colab": {
          "base_uri": "https://localhost:8080/"
        },
        "outputId": "d9b170ac-145b-44a2-948a-76be360b3589"
      },
      "source": [
        "df.Location  = df.Location.fillna('INDIA')\n",
        "f = [i for i in df['Location'] if type(i) != str]\n",
        "f"
      ],
      "execution_count": null,
      "outputs": [
        {
          "output_type": "execute_result",
          "data": {
            "text/plain": [
              "[]"
            ]
          },
          "metadata": {
            "tags": []
          },
          "execution_count": 65
        }
      ]
    },
    {
      "cell_type": "code",
      "metadata": {
        "id": "6p1TZITybO6f",
        "colab": {
          "base_uri": "https://localhost:8080/"
        },
        "outputId": "7dc32267-c67a-4046-9572-3fd1a17e8550"
      },
      "source": [
        "df.Location = df.Location.apply(lambda x: x.replace('United States','USA'))\n",
        "df.Location.value_counts()"
      ],
      "execution_count": null,
      "outputs": [
        {
          "output_type": "execute_result",
          "data": {
            "text/plain": [
              "                    1357\n",
              "India                317\n",
              "Hyderabad, India      86\n",
              "Mumbai, India         78\n",
              "New Delhi, India      77\n",
              "                    ... \n",
              "DC/Cape Town           1\n",
              "भारत                   1\n",
              "Hell, MI               1\n",
              "Puri, India            1\n",
              "Why?                   1\n",
              "Name: Location, Length: 931, dtype: int64"
            ]
          },
          "metadata": {
            "tags": []
          },
          "execution_count": 66
        }
      ]
    },
    {
      "cell_type": "code",
      "metadata": {
        "id": "Ua1voDKQbO-F",
        "colab": {
          "base_uri": "https://localhost:8080/",
          "height": 851
        },
        "outputId": "81f63d4b-2e19-4fa0-f08d-075610c949cf"
      },
      "source": [
        "locations = []\n",
        "locations_1 = []\n",
        "\n",
        "locations = [i.split(',')[-1] for i in df['Location']]\n",
        "locations_1 =  [i.split(',')[0] for i in df['Location']]\n",
        "df['Processed_Location'] = locations_1\n",
        "df"
      ],
      "execution_count": null,
      "outputs": [
        {
          "output_type": "execute_result",
          "data": {
            "text/html": [
              "<div>\n",
              "<style scoped>\n",
              "    .dataframe tbody tr th:only-of-type {\n",
              "        vertical-align: middle;\n",
              "    }\n",
              "\n",
              "    .dataframe tbody tr th {\n",
              "        vertical-align: top;\n",
              "    }\n",
              "\n",
              "    .dataframe thead th {\n",
              "        text-align: right;\n",
              "    }\n",
              "</style>\n",
              "<table border=\"1\" class=\"dataframe\">\n",
              "  <thead>\n",
              "    <tr style=\"text-align: right;\">\n",
              "      <th></th>\n",
              "      <th>Date</th>\n",
              "      <th>Tweet_id</th>\n",
              "      <th>Verified</th>\n",
              "      <th>Tweet</th>\n",
              "      <th>User</th>\n",
              "      <th>Location</th>\n",
              "      <th>Source</th>\n",
              "      <th>Likes</th>\n",
              "      <th>Followers</th>\n",
              "      <th>Following</th>\n",
              "      <th>Retweets</th>\n",
              "      <th>Processed_Tweet</th>\n",
              "      <th>Processed_Location</th>\n",
              "    </tr>\n",
              "  </thead>\n",
              "  <tbody>\n",
              "    <tr>\n",
              "      <th>0</th>\n",
              "      <td>2020-11-21 23:36:37</td>\n",
              "      <td>1330294072947437568</td>\n",
              "      <td>False</td>\n",
              "      <td>#BJP &amp;amp; #AIADMK tie-up to continue for 2021...</td>\n",
              "      <td>vipulananda</td>\n",
              "      <td>Colombo, Sri Lanka</td>\n",
              "      <td>Twitter for iPhone</td>\n",
              "      <td>0</td>\n",
              "      <td>2973</td>\n",
              "      <td>5001</td>\n",
              "      <td>0</td>\n",
              "      <td>[bjp, aiadmk, tie, continu, tamil, nadu, poll]</td>\n",
              "      <td>Colombo</td>\n",
              "    </tr>\n",
              "    <tr>\n",
              "      <th>1</th>\n",
              "      <td>2020-11-21 23:33:21</td>\n",
              "      <td>1330293250847088646</td>\n",
              "      <td>False</td>\n",
              "      <td>@my_prema @MyNameIsSenthil @King_Of_Lanka @New...</td>\n",
              "      <td>Meyy_Chennai</td>\n",
              "      <td>Chennai, India</td>\n",
              "      <td>Twitter for Android</td>\n",
              "      <td>1</td>\n",
              "      <td>143</td>\n",
              "      <td>343</td>\n",
              "      <td>1</td>\n",
              "      <td>[proof, singl, case, till, date, corrupt, guy,...</td>\n",
              "      <td>Chennai</td>\n",
              "    </tr>\n",
              "    <tr>\n",
              "      <th>2</th>\n",
              "      <td>2020-11-21 23:28:15</td>\n",
              "      <td>1330291967260057608</td>\n",
              "      <td>False</td>\n",
              "      <td>The ground worker in fact is in unenviable pos...</td>\n",
              "      <td>mainkaunhoon_</td>\n",
              "      <td></td>\n",
              "      <td>Twitter Web App</td>\n",
              "      <td>0</td>\n",
              "      <td>41</td>\n",
              "      <td>5</td>\n",
              "      <td>0</td>\n",
              "      <td>[ground, worker, fact, unenvi, posit, sibal, s...</td>\n",
              "      <td></td>\n",
              "    </tr>\n",
              "    <tr>\n",
              "      <th>3</th>\n",
              "      <td>2020-11-21 23:25:43</td>\n",
              "      <td>1330291330124312590</td>\n",
              "      <td>False</td>\n",
              "      <td>@KTRTRS @KTRTRS Sir, just ask BJP MP #KishanRe...</td>\n",
              "      <td>Hyderabadmpost</td>\n",
              "      <td>Hyderabad</td>\n",
              "      <td>FS Poster</td>\n",
              "      <td>0</td>\n",
              "      <td>38</td>\n",
              "      <td>236</td>\n",
              "      <td>0</td>\n",
              "      <td>[sir, ask, bjp, kishanreddi, secunderabad, use...</td>\n",
              "      <td>Hyderabad</td>\n",
              "    </tr>\n",
              "    <tr>\n",
              "      <th>4</th>\n",
              "      <td>2020-11-21 23:19:03</td>\n",
              "      <td>1330289654227218438</td>\n",
              "      <td>False</td>\n",
              "      <td>#winner #Manipur Power through knowledge site:...</td>\n",
              "      <td>FutureWorldCen</td>\n",
              "      <td>UK</td>\n",
              "      <td>Tweet Suite</td>\n",
              "      <td>0</td>\n",
              "      <td>3685</td>\n",
              "      <td>4791</td>\n",
              "      <td>0</td>\n",
              "      <td>[winner, manipur, power, knowledg, site, local...</td>\n",
              "      <td>UK</td>\n",
              "    </tr>\n",
              "    <tr>\n",
              "      <th>...</th>\n",
              "      <td>...</td>\n",
              "      <td>...</td>\n",
              "      <td>...</td>\n",
              "      <td>...</td>\n",
              "      <td>...</td>\n",
              "      <td>...</td>\n",
              "      <td>...</td>\n",
              "      <td>...</td>\n",
              "      <td>...</td>\n",
              "      <td>...</td>\n",
              "      <td>...</td>\n",
              "      <td>...</td>\n",
              "      <td>...</td>\n",
              "    </tr>\n",
              "    <tr>\n",
              "      <th>3693</th>\n",
              "      <td>2020-11-15 12:03:45</td>\n",
              "      <td>1327945380315549696</td>\n",
              "      <td>False</td>\n",
              "      <td>Something good coming up in your way Sushil Mo...</td>\n",
              "      <td>pallzie</td>\n",
              "      <td>India</td>\n",
              "      <td>Twitter for Android</td>\n",
              "      <td>4</td>\n",
              "      <td>188</td>\n",
              "      <td>57</td>\n",
              "      <td>0</td>\n",
              "      <td>[someth, good, come, way, sushil, modi, deputi...</td>\n",
              "      <td>India</td>\n",
              "    </tr>\n",
              "    <tr>\n",
              "      <th>3694</th>\n",
              "      <td>2020-11-15 11:56:22</td>\n",
              "      <td>1327943523212038147</td>\n",
              "      <td>False</td>\n",
              "      <td>@Mr_Siddharth There is a predictable sickening...</td>\n",
              "      <td>S_K_Raman</td>\n",
              "      <td>India</td>\n",
              "      <td>Twitter for iPhone</td>\n",
              "      <td>0</td>\n",
              "      <td>441</td>\n",
              "      <td>666</td>\n",
              "      <td>0</td>\n",
              "      <td>[predict, sicken, chain, event, anti, hindu, e...</td>\n",
              "      <td>India</td>\n",
              "    </tr>\n",
              "    <tr>\n",
              "      <th>3695</th>\n",
              "      <td>2020-11-15 11:56:20</td>\n",
              "      <td>1327943515343527938</td>\n",
              "      <td>False</td>\n",
              "      <td>@BJP4India @bandisanjay_bjp @JPNadda @byadavbj...</td>\n",
              "      <td>KalakotaAbhine1</td>\n",
              "      <td>Hyderabad, India</td>\n",
              "      <td>Twitter for Android</td>\n",
              "      <td>0</td>\n",
              "      <td>23</td>\n",
              "      <td>48</td>\n",
              "      <td>0</td>\n",
              "      <td>[sir, pleas, help, back, work, help, famili, d...</td>\n",
              "      <td>Hyderabad</td>\n",
              "    </tr>\n",
              "    <tr>\n",
              "      <th>3696</th>\n",
              "      <td>2020-11-15 11:55:46</td>\n",
              "      <td>1327943372183461891</td>\n",
              "      <td>False</td>\n",
              "      <td>Talks were on that BJP will go for the UP mode...</td>\n",
              "      <td>Saysniha</td>\n",
              "      <td>भारत गणराज्य</td>\n",
              "      <td>Twitter for iPhone</td>\n",
              "      <td>4</td>\n",
              "      <td>965</td>\n",
              "      <td>291</td>\n",
              "      <td>0</td>\n",
              "      <td>[talk, bjp, model, toh, hai, chatukaar, tere, ...</td>\n",
              "      <td>भारत गणराज्य</td>\n",
              "    </tr>\n",
              "    <tr>\n",
              "      <th>3697</th>\n",
              "      <td>2020-11-15 11:55:02</td>\n",
              "      <td>1327943186187096066</td>\n",
              "      <td>False</td>\n",
              "      <td>@ntdgrlnxtdoor BJP had one point in manifesto ...</td>\n",
              "      <td>wrist_spinner</td>\n",
              "      <td>Bangalore, India</td>\n",
              "      <td>Twitter Web App</td>\n",
              "      <td>0</td>\n",
              "      <td>29</td>\n",
              "      <td>360</td>\n",
              "      <td>0</td>\n",
              "      <td>[bjp, one, point, manifesto, pass, legisl, reg...</td>\n",
              "      <td>Bangalore</td>\n",
              "    </tr>\n",
              "  </tbody>\n",
              "</table>\n",
              "<p>3698 rows × 13 columns</p>\n",
              "</div>"
            ],
            "text/plain": [
              "                    Date  ...  Processed_Location\n",
              "0    2020-11-21 23:36:37  ...             Colombo\n",
              "1    2020-11-21 23:33:21  ...             Chennai\n",
              "2    2020-11-21 23:28:15  ...                    \n",
              "3    2020-11-21 23:25:43  ...           Hyderabad\n",
              "4    2020-11-21 23:19:03  ...                  UK\n",
              "...                  ...  ...                 ...\n",
              "3693 2020-11-15 12:03:45  ...               India\n",
              "3694 2020-11-15 11:56:22  ...               India\n",
              "3695 2020-11-15 11:56:20  ...           Hyderabad\n",
              "3696 2020-11-15 11:55:46  ...        भारत गणराज्य\n",
              "3697 2020-11-15 11:55:02  ...           Bangalore\n",
              "\n",
              "[3698 rows x 13 columns]"
            ]
          },
          "metadata": {
            "tags": []
          },
          "execution_count": 67
        }
      ]
    },
    {
      "cell_type": "code",
      "metadata": {
        "id": "Xcw2IMBrbPBW"
      },
      "source": [
        "df1 = df\n",
        "df1['sentiment'] = sentimental_score_df['val']"
      ],
      "execution_count": 246,
      "outputs": []
    },
    {
      "cell_type": "code",
      "metadata": {
        "id": "fk0h10D3bPEy",
        "colab": {
          "base_uri": "https://localhost:8080/",
          "height": 395
        },
        "outputId": "50f5da58-bca9-4a4f-891b-d19c7c53650b"
      },
      "source": [
        "df1.to_csv('Location.csv',index = False)\n",
        "df1['day'] = df.Date.dt.day\n",
        "df1.head()"
      ],
      "execution_count": 247,
      "outputs": [
        {
          "output_type": "execute_result",
          "data": {
            "text/html": [
              "<div>\n",
              "<style scoped>\n",
              "    .dataframe tbody tr th:only-of-type {\n",
              "        vertical-align: middle;\n",
              "    }\n",
              "\n",
              "    .dataframe tbody tr th {\n",
              "        vertical-align: top;\n",
              "    }\n",
              "\n",
              "    .dataframe thead th {\n",
              "        text-align: right;\n",
              "    }\n",
              "</style>\n",
              "<table border=\"1\" class=\"dataframe\">\n",
              "  <thead>\n",
              "    <tr style=\"text-align: right;\">\n",
              "      <th></th>\n",
              "      <th>Date</th>\n",
              "      <th>Tweet_id</th>\n",
              "      <th>Verified</th>\n",
              "      <th>Tweet</th>\n",
              "      <th>User</th>\n",
              "      <th>Location</th>\n",
              "      <th>Source</th>\n",
              "      <th>Likes</th>\n",
              "      <th>Followers</th>\n",
              "      <th>Following</th>\n",
              "      <th>Retweets</th>\n",
              "      <th>Processed_Tweet</th>\n",
              "      <th>sentiment</th>\n",
              "      <th>day</th>\n",
              "    </tr>\n",
              "  </thead>\n",
              "  <tbody>\n",
              "    <tr>\n",
              "      <th>0</th>\n",
              "      <td>2020-11-21 23:23:10</td>\n",
              "      <td>1330290688978718730</td>\n",
              "      <td>False</td>\n",
              "      <td>@ArmoredWarlord @Croatsky Yeah but that's stil...</td>\n",
              "      <td>MazderVerhal</td>\n",
              "      <td>United Kingdom</td>\n",
              "      <td>Twitter Web App</td>\n",
              "      <td>0</td>\n",
              "      <td>16</td>\n",
              "      <td>107</td>\n",
              "      <td>0</td>\n",
              "      <td>[yeah, still, steep, imo, like, liter, care, a...</td>\n",
              "      <td>Positive</td>\n",
              "      <td>21</td>\n",
              "    </tr>\n",
              "    <tr>\n",
              "      <th>1</th>\n",
              "      <td>2020-11-21 23:18:20</td>\n",
              "      <td>1330289473578524672</td>\n",
              "      <td>False</td>\n",
              "      <td>@mrdomino_ Same, it just never felt right. TF1...</td>\n",
              "      <td>Matty_Gregoire</td>\n",
              "      <td></td>\n",
              "      <td>Twitter for Android</td>\n",
              "      <td>3</td>\n",
              "      <td>546</td>\n",
              "      <td>567</td>\n",
              "      <td>0</td>\n",
              "      <td>[never, felt, right, would, unbeat, goat]</td>\n",
              "      <td>Neutral</td>\n",
              "      <td>21</td>\n",
              "    </tr>\n",
              "    <tr>\n",
              "      <th>2</th>\n",
              "      <td>2020-11-21 21:30:58</td>\n",
              "      <td>1330262451280076802</td>\n",
              "      <td>False</td>\n",
              "      <td>@DoctorWnba SP is pretty nice\\nMP is weak\\nZM ...</td>\n",
              "      <td>CODZombieCringe</td>\n",
              "      <td></td>\n",
              "      <td>Twitter for Android</td>\n",
              "      <td>1</td>\n",
              "      <td>269</td>\n",
              "      <td>283</td>\n",
              "      <td>0</td>\n",
              "      <td>[pretti, nicemp, weakzm]</td>\n",
              "      <td>Neutral</td>\n",
              "      <td>21</td>\n",
              "    </tr>\n",
              "    <tr>\n",
              "      <th>3</th>\n",
              "      <td>2020-11-21 18:50:00</td>\n",
              "      <td>1330221946278187009</td>\n",
              "      <td>False</td>\n",
              "      <td>@slakaveli But Slak, how? We got that through ...</td>\n",
              "      <td>lX_Dr_T4k3r_Xl</td>\n",
              "      <td>Los Santos</td>\n",
              "      <td>Twitter Web App</td>\n",
              "      <td>1</td>\n",
              "      <td>154</td>\n",
              "      <td>146</td>\n",
              "      <td>0</td>\n",
              "      <td>[slak, got, gtao, separ, storymod, complet, de...</td>\n",
              "      <td>Negative</td>\n",
              "      <td>21</td>\n",
              "    </tr>\n",
              "    <tr>\n",
              "      <th>4</th>\n",
              "      <td>2020-11-21 17:18:13</td>\n",
              "      <td>1330198846136324096</td>\n",
              "      <td>False</td>\n",
              "      <td>I think Nicola must be one of the most unique ...</td>\n",
              "      <td>ga11acher</td>\n",
              "      <td></td>\n",
              "      <td>Twitter Web App</td>\n",
              "      <td>20</td>\n",
              "      <td>3844</td>\n",
              "      <td>3160</td>\n",
              "      <td>2</td>\n",
              "      <td>[think, nicola, must, one, uniqu, leader, indi...</td>\n",
              "      <td>Negative</td>\n",
              "      <td>21</td>\n",
              "    </tr>\n",
              "  </tbody>\n",
              "</table>\n",
              "</div>"
            ],
            "text/plain": [
              "                 Date             Tweet_id  ...  sentiment day\n",
              "0 2020-11-21 23:23:10  1330290688978718730  ...   Positive  21\n",
              "1 2020-11-21 23:18:20  1330289473578524672  ...    Neutral  21\n",
              "2 2020-11-21 21:30:58  1330262451280076802  ...    Neutral  21\n",
              "3 2020-11-21 18:50:00  1330221946278187009  ...   Negative  21\n",
              "4 2020-11-21 17:18:13  1330198846136324096  ...   Negative  21\n",
              "\n",
              "[5 rows x 14 columns]"
            ]
          },
          "metadata": {
            "tags": []
          },
          "execution_count": 247
        }
      ]
    },
    {
      "cell_type": "code",
      "metadata": {
        "id": "uRFstkWfbPIZ",
        "colab": {
          "base_uri": "https://localhost:8080/",
          "height": 361
        },
        "outputId": "45e1ead4-35c1-475f-baba-fd2f42e055ab"
      },
      "source": [
        "sns.countplot(df['day'],hue = df['sentiment'])"
      ],
      "execution_count": 248,
      "outputs": [
        {
          "output_type": "stream",
          "text": [
            "/usr/local/lib/python3.6/dist-packages/seaborn/_decorators.py:43: FutureWarning: Pass the following variable as a keyword arg: x. From version 0.12, the only valid positional argument will be `data`, and passing other arguments without an explicit keyword will result in an error or misinterpretation.\n",
            "  FutureWarning\n"
          ],
          "name": "stderr"
        },
        {
          "output_type": "execute_result",
          "data": {
            "text/plain": [
              "<matplotlib.axes._subplots.AxesSubplot at 0x7fb13b8a3cf8>"
            ]
          },
          "metadata": {
            "tags": []
          },
          "execution_count": 248
        },
        {
          "output_type": "display_data",
          "data": {
            "image/png": "[encoded data removed]",
            "text/plain": [
              "<Figure size 432x288 with 1 Axes>"
            ]
          },
          "metadata": {
            "tags": []
          }
        }
      ]
    },
    {
      "cell_type": "code",
      "metadata": {
        "id": "wjrfS-i8bPLt"
      },
      "source": [
        "from sklearn.feature_extraction.text import CountVectorizer\n",
        "from sklearn.model_selection import train_test_split\n",
        "from sklearn.naive_bayes import GaussianNB\n",
        "from sklearn.naive_bayes import MultinomialNB\n",
        "from sklearn.metrics import confusion_matrix\n",
        "from sklearn.tree import DecisionTreeClassifier\n",
        "from sklearn.ensemble import RandomForestClassifier\n",
        "from sklearn.preprocessing import LabelEncoder \n",
        "from sklearn.model_selection import GridSearchCV\n",
        "from sklearn import model_selection\n",
        "\n",
        "from sklearn.model_selection import cross_val_score\n",
        "from sklearn.metrics import accuracy_score\n",
        "from sklearn.metrics import precision_score\n",
        "from sklearn.metrics import recall_score\n",
        "from sklearn.metrics import f1_score"
      ],
      "execution_count": 249,
      "outputs": []
    },
    {
      "cell_type": "code",
      "metadata": {
        "id": "g0S-olXjbPPW",
        "colab": {
          "base_uri": "https://localhost:8080/",
          "height": 834
        },
        "outputId": "1e1ea66f-6c6e-4de3-d029-1ec569a9bdef"
      },
      "source": [
        "le = LabelEncoder() \n",
        "  \n",
        "df1['sentiment_1']= le.fit_transform(df1['sentiment'])\n",
        "df1"
      ],
      "execution_count": 250,
      "outputs": [
        {
          "output_type": "execute_result",
          "data": {
            "text/html": [
              "<div>\n",
              "<style scoped>\n",
              "    .dataframe tbody tr th:only-of-type {\n",
              "        vertical-align: middle;\n",
              "    }\n",
              "\n",
              "    .dataframe tbody tr th {\n",
              "        vertical-align: top;\n",
              "    }\n",
              "\n",
              "    .dataframe thead th {\n",
              "        text-align: right;\n",
              "    }\n",
              "</style>\n",
              "<table border=\"1\" class=\"dataframe\">\n",
              "  <thead>\n",
              "    <tr style=\"text-align: right;\">\n",
              "      <th></th>\n",
              "      <th>Date</th>\n",
              "      <th>Tweet_id</th>\n",
              "      <th>Verified</th>\n",
              "      <th>Tweet</th>\n",
              "      <th>User</th>\n",
              "      <th>Location</th>\n",
              "      <th>Source</th>\n",
              "      <th>Likes</th>\n",
              "      <th>Followers</th>\n",
              "      <th>Following</th>\n",
              "      <th>Retweets</th>\n",
              "      <th>Processed_Tweet</th>\n",
              "      <th>sentiment</th>\n",
              "      <th>day</th>\n",
              "      <th>sentiment_1</th>\n",
              "    </tr>\n",
              "  </thead>\n",
              "  <tbody>\n",
              "    <tr>\n",
              "      <th>0</th>\n",
              "      <td>2020-11-21 23:23:10</td>\n",
              "      <td>1330290688978718730</td>\n",
              "      <td>False</td>\n",
              "      <td>@ArmoredWarlord @Croatsky Yeah but that's stil...</td>\n",
              "      <td>MazderVerhal</td>\n",
              "      <td>United Kingdom</td>\n",
              "      <td>Twitter Web App</td>\n",
              "      <td>0</td>\n",
              "      <td>16</td>\n",
              "      <td>107</td>\n",
              "      <td>0</td>\n",
              "      <td>[yeah, still, steep, imo, like, liter, care, a...</td>\n",
              "      <td>Positive</td>\n",
              "      <td>21</td>\n",
              "      <td>2</td>\n",
              "    </tr>\n",
              "    <tr>\n",
              "      <th>1</th>\n",
              "      <td>2020-11-21 23:18:20</td>\n",
              "      <td>1330289473578524672</td>\n",
              "      <td>False</td>\n",
              "      <td>@mrdomino_ Same, it just never felt right. TF1...</td>\n",
              "      <td>Matty_Gregoire</td>\n",
              "      <td></td>\n",
              "      <td>Twitter for Android</td>\n",
              "      <td>3</td>\n",
              "      <td>546</td>\n",
              "      <td>567</td>\n",
              "      <td>0</td>\n",
              "      <td>[never, felt, right, would, unbeat, goat]</td>\n",
              "      <td>Neutral</td>\n",
              "      <td>21</td>\n",
              "      <td>1</td>\n",
              "    </tr>\n",
              "    <tr>\n",
              "      <th>2</th>\n",
              "      <td>2020-11-21 21:30:58</td>\n",
              "      <td>1330262451280076802</td>\n",
              "      <td>False</td>\n",
              "      <td>@DoctorWnba SP is pretty nice\\nMP is weak\\nZM ...</td>\n",
              "      <td>CODZombieCringe</td>\n",
              "      <td></td>\n",
              "      <td>Twitter for Android</td>\n",
              "      <td>1</td>\n",
              "      <td>269</td>\n",
              "      <td>283</td>\n",
              "      <td>0</td>\n",
              "      <td>[pretti, nicemp, weakzm]</td>\n",
              "      <td>Neutral</td>\n",
              "      <td>21</td>\n",
              "      <td>1</td>\n",
              "    </tr>\n",
              "    <tr>\n",
              "      <th>3</th>\n",
              "      <td>2020-11-21 18:50:00</td>\n",
              "      <td>1330221946278187009</td>\n",
              "      <td>False</td>\n",
              "      <td>@slakaveli But Slak, how? We got that through ...</td>\n",
              "      <td>lX_Dr_T4k3r_Xl</td>\n",
              "      <td>Los Santos</td>\n",
              "      <td>Twitter Web App</td>\n",
              "      <td>1</td>\n",
              "      <td>154</td>\n",
              "      <td>146</td>\n",
              "      <td>0</td>\n",
              "      <td>[slak, got, gtao, separ, storymod, complet, de...</td>\n",
              "      <td>Negative</td>\n",
              "      <td>21</td>\n",
              "      <td>0</td>\n",
              "    </tr>\n",
              "    <tr>\n",
              "      <th>4</th>\n",
              "      <td>2020-11-21 17:18:13</td>\n",
              "      <td>1330198846136324096</td>\n",
              "      <td>False</td>\n",
              "      <td>I think Nicola must be one of the most unique ...</td>\n",
              "      <td>ga11acher</td>\n",
              "      <td></td>\n",
              "      <td>Twitter Web App</td>\n",
              "      <td>20</td>\n",
              "      <td>3844</td>\n",
              "      <td>3160</td>\n",
              "      <td>2</td>\n",
              "      <td>[think, nicola, must, one, uniqu, leader, indi...</td>\n",
              "      <td>Negative</td>\n",
              "      <td>21</td>\n",
              "      <td>0</td>\n",
              "    </tr>\n",
              "    <tr>\n",
              "      <th>...</th>\n",
              "      <td>...</td>\n",
              "      <td>...</td>\n",
              "      <td>...</td>\n",
              "      <td>...</td>\n",
              "      <td>...</td>\n",
              "      <td>...</td>\n",
              "      <td>...</td>\n",
              "      <td>...</td>\n",
              "      <td>...</td>\n",
              "      <td>...</td>\n",
              "      <td>...</td>\n",
              "      <td>...</td>\n",
              "      <td>...</td>\n",
              "      <td>...</td>\n",
              "      <td>...</td>\n",
              "    </tr>\n",
              "    <tr>\n",
              "      <th>195</th>\n",
              "      <td>2020-11-15 17:22:55</td>\n",
              "      <td>1328025700276740097</td>\n",
              "      <td>False</td>\n",
              "      <td>@mukeshmarda @rkmarar9 @judedavid21 In UP let ...</td>\n",
              "      <td>softsto38135836</td>\n",
              "      <td>Shillong</td>\n",
              "      <td>Twitter for Android</td>\n",
              "      <td>3</td>\n",
              "      <td>252</td>\n",
              "      <td>602</td>\n",
              "      <td>2</td>\n",
              "      <td>[let, fight, alon, let, congress, leader, figh...</td>\n",
              "      <td>Negative</td>\n",
              "      <td>15</td>\n",
              "      <td>0</td>\n",
              "    </tr>\n",
              "    <tr>\n",
              "      <th>196</th>\n",
              "      <td>2020-11-15 16:00:36</td>\n",
              "      <td>1328004986203119616</td>\n",
              "      <td>False</td>\n",
              "      <td>@saptagiriulaka hope you have seen the video ....</td>\n",
              "      <td>indian_2030</td>\n",
              "      <td>Twitter</td>\n",
              "      <td>Twitter for Android</td>\n",
              "      <td>1</td>\n",
              "      <td>209</td>\n",
              "      <td>507</td>\n",
              "      <td>0</td>\n",
              "      <td>[hope, seen, video, local, kindli, take, matte...</td>\n",
              "      <td>Positive</td>\n",
              "      <td>15</td>\n",
              "      <td>2</td>\n",
              "    </tr>\n",
              "    <tr>\n",
              "      <th>197</th>\n",
              "      <td>2020-11-15 14:20:15</td>\n",
              "      <td>1327979730881003521</td>\n",
              "      <td>False</td>\n",
              "      <td>@ClunkSpider @deathloop @ArkaneStudios Or both...</td>\n",
              "      <td>ayushkalia23</td>\n",
              "      <td>Ludhiana, India</td>\n",
              "      <td>Twitter for Android</td>\n",
              "      <td>0</td>\n",
              "      <td>385</td>\n",
              "      <td>461</td>\n",
              "      <td>0</td>\n",
              "      <td>[sure, multiplay, game, sure]</td>\n",
              "      <td>Positive</td>\n",
              "      <td>15</td>\n",
              "      <td>2</td>\n",
              "    </tr>\n",
              "    <tr>\n",
              "      <th>198</th>\n",
              "      <td>2020-11-15 13:45:32</td>\n",
              "      <td>1327970994733031429</td>\n",
              "      <td>False</td>\n",
              "      <td>@Treyarch Playing on Xbox One X W/ mouse and k...</td>\n",
              "      <td>cody_vaughan</td>\n",
              "      <td></td>\n",
              "      <td>Twitter for Android</td>\n",
              "      <td>0</td>\n",
              "      <td>26</td>\n",
              "      <td>35</td>\n",
              "      <td>0</td>\n",
              "      <td>[play, xbox, one, mous, keyboard, game, freez,...</td>\n",
              "      <td>Negative</td>\n",
              "      <td>15</td>\n",
              "      <td>0</td>\n",
              "    </tr>\n",
              "    <tr>\n",
              "      <th>199</th>\n",
              "      <td>2020-11-15 13:33:48</td>\n",
              "      <td>1327968042328989696</td>\n",
              "      <td>False</td>\n",
              "      <td>@ben_a_williams_ No this game crashes far more...</td>\n",
              "      <td>So12rovv</td>\n",
              "      <td>Dauntless Code TCAASF</td>\n",
              "      <td>Twitter for iPhone</td>\n",
              "      <td>0</td>\n",
              "      <td>194</td>\n",
              "      <td>724</td>\n",
              "      <td>0</td>\n",
              "      <td>[game, crash, far, crash, time, zombi, cold, w...</td>\n",
              "      <td>Negative</td>\n",
              "      <td>15</td>\n",
              "      <td>0</td>\n",
              "    </tr>\n",
              "  </tbody>\n",
              "</table>\n",
              "<p>200 rows × 15 columns</p>\n",
              "</div>"
            ],
            "text/plain": [
              "                   Date             Tweet_id  ...  day sentiment_1\n",
              "0   2020-11-21 23:23:10  1330290688978718730  ...   21           2\n",
              "1   2020-11-21 23:18:20  1330289473578524672  ...   21           1\n",
              "2   2020-11-21 21:30:58  1330262451280076802  ...   21           1\n",
              "3   2020-11-21 18:50:00  1330221946278187009  ...   21           0\n",
              "4   2020-11-21 17:18:13  1330198846136324096  ...   21           0\n",
              "..                  ...                  ...  ...  ...         ...\n",
              "195 2020-11-15 17:22:55  1328025700276740097  ...   15           0\n",
              "196 2020-11-15 16:00:36  1328004986203119616  ...   15           2\n",
              "197 2020-11-15 14:20:15  1327979730881003521  ...   15           2\n",
              "198 2020-11-15 13:45:32  1327970994733031429  ...   15           0\n",
              "199 2020-11-15 13:33:48  1327968042328989696  ...   15           0\n",
              "\n",
              "[200 rows x 15 columns]"
            ]
          },
          "metadata": {
            "tags": []
          },
          "execution_count": 250
        }
      ]
    },
    {
      "cell_type": "code",
      "metadata": {
        "id": "xBc2j_RibPTh"
      },
      "source": [
        "cv = CountVectorizer(max_features = 1500)\n",
        "X = cv.fit_transform(all_words).toarray()\n",
        "y = df1['sentiment_1']"
      ],
      "execution_count": 251,
      "outputs": []
    },
    {
      "cell_type": "code",
      "metadata": {
        "id": "ePYtd2BMbPXN"
      },
      "source": [
        "X_train, X_test, y_train, y_test = train_test_split(X, y, test_size = 0.3, random_state = 0)\n",
        "# NEGATIVE == 0\n",
        "# NEUTRAL == 1\n",
        "# POSITIVE == 2"
      ],
      "execution_count": 252,
      "outputs": []
    },
    {
      "cell_type": "code",
      "metadata": {
        "id": "oTO3zF_gbPa5"
      },
      "source": [
        "#X_train, X_test, y_train, y_test = train_test_split(X_tfidf, y, test_size = 0.3, random_state = 0)"
      ],
      "execution_count": 253,
      "outputs": []
    },
    {
      "cell_type": "code",
      "metadata": {
        "id": "iaFTWb0LbPfA"
      },
      "source": [
        "classifier_DT = DecisionTreeClassifier()\n",
        "classifier_DT.fit(X_train, y_train)\n",
        "y_pred_DT = classifier_DT.predict(X_test)"
      ],
      "execution_count": 254,
      "outputs": []
    },
    {
      "cell_type": "code",
      "metadata": {
        "id": "d27boANUbPi9",
        "colab": {
          "base_uri": "https://localhost:8080/"
        },
        "outputId": "1c402ba8-8a3a-4f7e-c099-d422eea83f40"
      },
      "source": [
        "accuracy_score_DT = accuracy_score(y_test, y_pred_DT)\n",
        "precision_score_DT = precision_score(y_test, y_pred_DT , average = 'micro')\n",
        "recall_score_DT = recall_score(y_test, y_pred_DT , average = 'micro')\n",
        "f1_score_DT = f1_score(y_test, y_pred_DT , average = 'micro')\n",
        "print(\"Accuracy Score: \" , accuracy_score_DT)\n",
        "print(\"Precision Score: \" , precision_score_DT)\n",
        "print(\"Recall Score: \" , recall_score_DT)\n",
        "print(\"F1 Score: \" , f1_score_DT)"
      ],
      "execution_count": 255,
      "outputs": [
        {
          "output_type": "stream",
          "text": [
            "Accuracy Score:  0.38333333333333336\n",
            "Precision Score:  0.38333333333333336\n",
            "Recall Score:  0.38333333333333336\n",
            "F1 Score:  0.38333333333333336\n"
          ],
          "name": "stdout"
        }
      ]
    },
    {
      "cell_type": "code",
      "metadata": {
        "id": "drhy2odtbPmU",
        "colab": {
          "base_uri": "https://localhost:8080/",
          "height": 385
        },
        "outputId": "c92e17ee-6dc2-46de-f2ce-0f24d32c5588"
      },
      "source": [
        "cm_DT = confusion_matrix(y_test, y_pred_DT)\n",
        "\n",
        "      # neg # neutr  # pos\n",
        "# pos #  232   65      1397\n",
        "# neu #  87   1175     51\n",
        "# neg # 1104   82      321\n",
        "\n",
        "df_cm_DT = pd.DataFrame(cm_DT, range(3), range(3))\n",
        "plt.figure(figsize=(10,6))\n",
        "categories = ['Negative','Neutral','Positive']\n",
        "sns.set(font_scale=1.2) # for label size\n",
        "sns.heatmap(df_cm_DT, annot=True, annot_kws={\"size\": 18}, xticklabels = categories,\n",
        "            yticklabels = categories ,fmt=\"d\") # font size\n",
        "plt.ylim(0, 3)\n",
        "plt.show()"
      ],
      "execution_count": 256,
      "outputs": [
        {
          "output_type": "display_data",
          "data": {
            "image/png": "[encoded data removed]",
            "text/plain": [
              "<Figure size 720x432 with 2 Axes>"
            ]
          },
          "metadata": {
            "tags": []
          }
        }
      ]
    },
    {
      "cell_type": "code",
      "metadata": {
        "id": "K0CwHnJPko8z",
        "colab": {
          "base_uri": "https://localhost:8080/"
        },
        "outputId": "cb50cb3d-9bd3-4469-fdf2-1534282a09b2"
      },
      "source": [
        "#Getting the parameters of the particular model \n",
        "classifier_DT.get_params().keys()"
      ],
      "execution_count": 257,
      "outputs": [
        {
          "output_type": "execute_result",
          "data": {
            "text/plain": [
              "dict_keys(['ccp_alpha', 'class_weight', 'criterion', 'max_depth', 'max_features', 'max_leaf_nodes', 'min_impurity_decrease', 'min_impurity_split', 'min_samples_leaf', 'min_samples_split', 'min_weight_fraction_leaf', 'presort', 'random_state', 'splitter'])"
            ]
          },
          "metadata": {
            "tags": []
          },
          "execution_count": 257
        }
      ]
    },
    {
      "cell_type": "code",
      "metadata": {
        "id": "zJvr_oyVkvC9"
      },
      "source": [
        "classifier_DT_opti = DecisionTreeClassifier() \n",
        "\n",
        "param_grid = {\"max_depth\" : [1,3,5,7],     #Setting the parameters for the model\n",
        "               \"criterion\" : [\"gini\",\"entropy\"],\n",
        "              \"min_samples_split\" : [2,3,4],\n",
        "              \"max_leaf_nodes\" : [7,8,9],\n",
        "              \"min_samples_leaf\": [2,3,4],\n",
        "             }"
      ],
      "execution_count": 258,
      "outputs": []
    },
    {
      "cell_type": "code",
      "metadata": {
        "id": "PuxfADWvkyNv",
        "colab": {
          "base_uri": "https://localhost:8080/"
        },
        "outputId": "4332f735-7d30-422f-bedc-5ff3cb15b04e"
      },
      "source": [
        "model_DT = model_selection.GridSearchCV(estimator=classifier_DT_opti, #GridSearch\n",
        "                                    param_grid=param_grid, \n",
        "                                        cv=10)\n",
        "model_DT.fit(X_train,y_train)\n",
        "print(model_DT.best_score_) #Gives the best score of the model\n",
        "print(model_DT.best_estimator_.get_params()) #Gives the best parameters"
      ],
      "execution_count": 259,
      "outputs": [
        {
          "output_type": "stream",
          "text": [
            "0.5142857142857143\n",
            "{'ccp_alpha': 0.0, 'class_weight': None, 'criterion': 'entropy', 'max_depth': 7, 'max_features': None, 'max_leaf_nodes': 8, 'min_impurity_decrease': 0.0, 'min_impurity_split': None, 'min_samples_leaf': 3, 'min_samples_split': 2, 'min_weight_fraction_leaf': 0.0, 'presort': 'deprecated', 'random_state': None, 'splitter': 'best'}\n"
          ],
          "name": "stdout"
        }
      ]
    },
    {
      "cell_type": "code",
      "metadata": {
        "id": "gzgA0zjCkyQx",
        "colab": {
          "base_uri": "https://localhost:8080/"
        },
        "outputId": "4502f93c-d4c6-4859-e891-126132329e74"
      },
      "source": [
        "y_pred_model_DT = model_DT.predict(X_test)\n",
        "\n",
        "accuracy_score_model_DT = accuracy_score(y_test, y_pred_model_DT)\n",
        "precision_score_model_DT = precision_score(y_test, y_pred_model_DT , average = 'micro')\n",
        "recall_score_model_DT = recall_score(y_test, y_pred_model_DT , average = 'micro')\n",
        "f1_score_model_DT = f1_score(y_test, y_pred_model_DT , average = 'micro')\n",
        "print(\"Accuracy Score: \" , accuracy_score_model_DT)\n",
        "print(\"Precision Score: \" , precision_score_model_DT)\n",
        "print(\"Recall Score: \" , recall_score_model_DT)\n",
        "print(\"F1 Score: \" , f1_score_model_DT)"
      ],
      "execution_count": 260,
      "outputs": [
        {
          "output_type": "stream",
          "text": [
            "Accuracy Score:  0.4166666666666667\n",
            "Precision Score:  0.4166666666666667\n",
            "Recall Score:  0.4166666666666667\n",
            "F1 Score:  0.4166666666666667\n"
          ],
          "name": "stdout"
        }
      ]
    },
    {
      "cell_type": "code",
      "metadata": {
        "id": "J2nH4bFQkyUK",
        "colab": {
          "base_uri": "https://localhost:8080/",
          "height": 380
        },
        "outputId": "56d95124-8795-4264-a032-aadefc0c4ff6"
      },
      "source": [
        "cm_model_DT = confusion_matrix(y_test, y_pred_model_DT)\n",
        "\n",
        "df_cm_model_DT = pd.DataFrame(cm_model_DT, range(3), range(3))\n",
        "plt.figure(figsize=(10,6))\n",
        "categories = ['Negative','Neutral','Positive']\n",
        "sns.set(font_scale=1.2) # for label size\n",
        "sns.heatmap(df_cm_model_DT, annot=True, annot_kws={\"size\": 18}, xticklabels = categories,\n",
        "            yticklabels = categories ,fmt=\"d\") # font size\n",
        "plt.ylim(0, 3)\n",
        "plt.show()"
      ],
      "execution_count": 261,
      "outputs": [
        {
          "output_type": "display_data",
          "data": {
            "image/png": "[encoded data removed]",
            "text/plain": [
              "<Figure size 720x432 with 2 Axes>"
            ]
          },
          "metadata": {
            "tags": []
          }
        }
      ]
    },
    {
      "cell_type": "code",
      "metadata": {
        "id": "ngig2X9VkyYE"
      },
      "source": [
        "classifier_RF = RandomForestClassifier()\n",
        "classifier_RF.fit(X_train, y_train)\n",
        "y_pred_RF = classifier_RF.predict(X_test)"
      ],
      "execution_count": 262,
      "outputs": []
    },
    {
      "cell_type": "code",
      "metadata": {
        "id": "63-Ls52Jkyby",
        "colab": {
          "base_uri": "https://localhost:8080/"
        },
        "outputId": "b7948c91-3020-43cd-e555-ae8f022d5a69"
      },
      "source": [
        "accuracy_score_RF = accuracy_score(y_test, y_pred_RF)\n",
        "precision_score_RF = precision_score(y_test, y_pred_RF , average = 'micro')\n",
        "recall_score_RF = recall_score(y_test, y_pred_RF, average = 'micro')\n",
        "f1_score_RF = f1_score(y_test, y_pred_RF, average = 'micro')\n",
        "print(\"Accuracy Score: \" , accuracy_score_RF)\n",
        "print(\"Precision Score: \" , precision_score_RF)\n",
        "print(\"Recall Score: \" , recall_score_RF)\n",
        "print(\"F1 Score: \" , f1_score_RF)"
      ],
      "execution_count": 263,
      "outputs": [
        {
          "output_type": "stream",
          "text": [
            "Accuracy Score:  0.5166666666666667\n",
            "Precision Score:  0.5166666666666667\n",
            "Recall Score:  0.5166666666666667\n",
            "F1 Score:  0.5166666666666667\n"
          ],
          "name": "stdout"
        }
      ]
    },
    {
      "cell_type": "code",
      "metadata": {
        "id": "YHbA5LWNkyfk",
        "colab": {
          "base_uri": "https://localhost:8080/",
          "height": 380
        },
        "outputId": "c5f808c3-8f4d-4d40-909d-c8e24765952a"
      },
      "source": [
        "cm_RF = confusion_matrix(y_test, y_pred_RF)\n",
        "\n",
        "df_cm_RF = pd.DataFrame(cm_RF, range(3), range(3))\n",
        "categories = ['Negative','Neutral','Positive']\n",
        "plt.figure(figsize=(10,6))\n",
        "sns.set(font_scale=1.2) # for label size\n",
        "sns.heatmap(df_cm_RF, annot=True, annot_kws={\"size\": 18}, xticklabels = categories,\n",
        "            yticklabels = categories,fmt=\"d\") # font size\n",
        "plt.ylim(0, 3)\n",
        "plt.show()"
      ],
      "execution_count": 264,
      "outputs": [
        {
          "output_type": "display_data",
          "data": {
            "image/png": "[encoded data removed]",
            "text/plain": [
              "<Figure size 720x432 with 2 Axes>"
            ]
          },
          "metadata": {
            "tags": []
          }
        }
      ]
    },
    {
      "cell_type": "code",
      "metadata": {
        "id": "E5BTMRiAkyl9",
        "colab": {
          "base_uri": "https://localhost:8080/"
        },
        "outputId": "37342ba6-4e1c-4119-f05c-ebabe3879118"
      },
      "source": [
        "#Getting the parameters of the particular model \n",
        "classifier_RF.get_params().keys()"
      ],
      "execution_count": 265,
      "outputs": [
        {
          "output_type": "execute_result",
          "data": {
            "text/plain": [
              "dict_keys(['bootstrap', 'ccp_alpha', 'class_weight', 'criterion', 'max_depth', 'max_features', 'max_leaf_nodes', 'max_samples', 'min_impurity_decrease', 'min_impurity_split', 'min_samples_leaf', 'min_samples_split', 'min_weight_fraction_leaf', 'n_estimators', 'n_jobs', 'oob_score', 'random_state', 'verbose', 'warm_start'])"
            ]
          },
          "metadata": {
            "tags": []
          },
          "execution_count": 265
        }
      ]
    },
    {
      "cell_type": "code",
      "metadata": {
        "id": "VBmNF8XVkysq",
        "colab": {
          "base_uri": "https://localhost:8080/"
        },
        "outputId": "6e58dcb5-61e2-4035-e7ba-2fc7aca30303"
      },
      "source": [
        "classifier_RF_opti = RandomForestClassifier()\n",
        "param_grid = {\"n_estimators\": np.arange(100,1500,100), #Selecting the parameters\n",
        "               \"max_depth\": np.arange(1,20),\n",
        "               \"criterion\": [\"gini\",\"entropy\"], \n",
        "              }\n",
        "\n",
        "classifier_model_RF = model_selection.RandomizedSearchCV(estimator=classifier_RF_opti, #RandomizedSearch\n",
        "                                    param_distributions=param_grid,\n",
        "                                    n_iter=10,\n",
        "                                    scoring='accuracy',\n",
        "                                    verbose=10,\n",
        "                                    n_jobs=1,\n",
        "                                    cv=5)\n",
        "\n",
        "classifier_model_RF.fit(X_train,y_train)\n",
        "print(classifier_model_RF.best_score_) #Gives the best score of the model\n",
        "print(classifier_model_RF.best_estimator_.get_params()) #Gives the best parameters of the model"
      ],
      "execution_count": 266,
      "outputs": [
        {
          "output_type": "stream",
          "text": [
            "Fitting 5 folds for each of 10 candidates, totalling 50 fits\n",
            "[CV] n_estimators=100, max_depth=10, criterion=gini ..................\n",
            "[CV]  n_estimators=100, max_depth=10, criterion=gini, score=0.429, total=   0.2s\n",
            "[CV] n_estimators=100, max_depth=10, criterion=gini ..................\n"
          ],
          "name": "stdout"
        },
        {
          "output_type": "stream",
          "text": [
            "[Parallel(n_jobs=1)]: Using backend SequentialBackend with 1 concurrent workers.\n",
            "[Parallel(n_jobs=1)]: Done   1 out of   1 | elapsed:    0.2s remaining:    0.0s\n"
          ],
          "name": "stderr"
        },
        {
          "output_type": "stream",
          "text": [
            "[CV]  n_estimators=100, max_depth=10, criterion=gini, score=0.536, total=   0.2s\n",
            "[CV] n_estimators=100, max_depth=10, criterion=gini ..................\n",
            "[CV]  n_estimators=100, max_depth=10, criterion=gini, score=0.464, total=   0.1s\n",
            "[CV] n_estimators=100, max_depth=10, criterion=gini ..................\n"
          ],
          "name": "stdout"
        },
        {
          "output_type": "stream",
          "text": [
            "[Parallel(n_jobs=1)]: Done   2 out of   2 | elapsed:    0.3s remaining:    0.0s\n",
            "[Parallel(n_jobs=1)]: Done   3 out of   3 | elapsed:    0.5s remaining:    0.0s\n"
          ],
          "name": "stderr"
        },
        {
          "output_type": "stream",
          "text": [
            "[CV]  n_estimators=100, max_depth=10, criterion=gini, score=0.500, total=   0.2s\n",
            "[CV] n_estimators=100, max_depth=10, criterion=gini ..................\n",
            "[CV]  n_estimators=100, max_depth=10, criterion=gini, score=0.500, total=   0.1s\n",
            "[CV] n_estimators=500, max_depth=19, criterion=entropy ...............\n"
          ],
          "name": "stdout"
        },
        {
          "output_type": "stream",
          "text": [
            "[Parallel(n_jobs=1)]: Done   4 out of   4 | elapsed:    0.6s remaining:    0.0s\n",
            "[Parallel(n_jobs=1)]: Done   5 out of   5 | elapsed:    0.8s remaining:    0.0s\n"
          ],
          "name": "stderr"
        },
        {
          "output_type": "stream",
          "text": [
            "[CV]  n_estimators=500, max_depth=19, criterion=entropy, score=0.643, total=   0.8s\n",
            "[CV] n_estimators=500, max_depth=19, criterion=entropy ...............\n"
          ],
          "name": "stdout"
        },
        {
          "output_type": "stream",
          "text": [
            "[Parallel(n_jobs=1)]: Done   6 out of   6 | elapsed:    1.6s remaining:    0.0s\n"
          ],
          "name": "stderr"
        },
        {
          "output_type": "stream",
          "text": [
            "[CV]  n_estimators=500, max_depth=19, criterion=entropy, score=0.464, total=   0.8s\n",
            "[CV] n_estimators=500, max_depth=19, criterion=entropy ...............\n"
          ],
          "name": "stdout"
        },
        {
          "output_type": "stream",
          "text": [
            "[Parallel(n_jobs=1)]: Done   7 out of   7 | elapsed:    2.4s remaining:    0.0s\n"
          ],
          "name": "stderr"
        },
        {
          "output_type": "stream",
          "text": [
            "[CV]  n_estimators=500, max_depth=19, criterion=entropy, score=0.429, total=   0.8s\n",
            "[CV] n_estimators=500, max_depth=19, criterion=entropy ...............\n"
          ],
          "name": "stdout"
        },
        {
          "output_type": "stream",
          "text": [
            "[Parallel(n_jobs=1)]: Done   8 out of   8 | elapsed:    3.2s remaining:    0.0s\n"
          ],
          "name": "stderr"
        },
        {
          "output_type": "stream",
          "text": [
            "[CV]  n_estimators=500, max_depth=19, criterion=entropy, score=0.643, total=   0.8s\n",
            "[CV] n_estimators=500, max_depth=19, criterion=entropy ...............\n"
          ],
          "name": "stdout"
        },
        {
          "output_type": "stream",
          "text": [
            "[Parallel(n_jobs=1)]: Done   9 out of   9 | elapsed:    4.0s remaining:    0.0s\n"
          ],
          "name": "stderr"
        },
        {
          "output_type": "stream",
          "text": [
            "[CV]  n_estimators=500, max_depth=19, criterion=entropy, score=0.500, total=   0.8s\n",
            "[CV] n_estimators=200, max_depth=12, criterion=entropy ...............\n",
            "[CV]  n_estimators=200, max_depth=12, criterion=entropy, score=0.429, total=   0.3s\n",
            "[CV] n_estimators=200, max_depth=12, criterion=entropy ...............\n",
            "[CV]  n_estimators=200, max_depth=12, criterion=entropy, score=0.536, total=   0.3s\n",
            "[CV] n_estimators=200, max_depth=12, criterion=entropy ...............\n",
            "[CV]  n_estimators=200, max_depth=12, criterion=entropy, score=0.464, total=   0.3s\n",
            "[CV] n_estimators=200, max_depth=12, criterion=entropy ...............\n",
            "[CV]  n_estimators=200, max_depth=12, criterion=entropy, score=0.500, total=   0.3s\n",
            "[CV] n_estimators=200, max_depth=12, criterion=entropy ...............\n",
            "[CV]  n_estimators=200, max_depth=12, criterion=entropy, score=0.500, total=   0.3s\n",
            "[CV] n_estimators=200, max_depth=10, criterion=entropy ...............\n",
            "[CV]  n_estimators=200, max_depth=10, criterion=entropy, score=0.429, total=   0.3s\n",
            "[CV] n_estimators=200, max_depth=10, criterion=entropy ...............\n",
            "[CV]  n_estimators=200, max_depth=10, criterion=entropy, score=0.536, total=   0.3s\n",
            "[CV] n_estimators=200, max_depth=10, criterion=entropy ...............\n",
            "[CV]  n_estimators=200, max_depth=10, criterion=entropy, score=0.464, total=   0.3s\n",
            "[CV] n_estimators=200, max_depth=10, criterion=entropy ...............\n",
            "[CV]  n_estimators=200, max_depth=10, criterion=entropy, score=0.500, total=   0.3s\n",
            "[CV] n_estimators=200, max_depth=10, criterion=entropy ...............\n",
            "[CV]  n_estimators=200, max_depth=10, criterion=entropy, score=0.500, total=   0.3s\n",
            "[CV] n_estimators=800, max_depth=6, criterion=entropy ................\n",
            "[CV]  n_estimators=800, max_depth=6, criterion=entropy, score=0.429, total=   1.2s\n",
            "[CV] n_estimators=800, max_depth=6, criterion=entropy ................\n",
            "[CV]  n_estimators=800, max_depth=6, criterion=entropy, score=0.464, total=   1.2s\n",
            "[CV] n_estimators=800, max_depth=6, criterion=entropy ................\n",
            "[CV]  n_estimators=800, max_depth=6, criterion=entropy, score=0.464, total=   1.1s\n",
            "[CV] n_estimators=800, max_depth=6, criterion=entropy ................\n",
            "[CV]  n_estimators=800, max_depth=6, criterion=entropy, score=0.464, total=   1.2s\n",
            "[CV] n_estimators=800, max_depth=6, criterion=entropy ................\n",
            "[CV]  n_estimators=800, max_depth=6, criterion=entropy, score=0.500, total=   1.3s\n",
            "[CV] n_estimators=1000, max_depth=16, criterion=gini .................\n",
            "[CV]  n_estimators=1000, max_depth=16, criterion=gini, score=0.464, total=   1.5s\n",
            "[CV] n_estimators=1000, max_depth=16, criterion=gini .................\n",
            "[CV]  n_estimators=1000, max_depth=16, criterion=gini, score=0.536, total=   1.5s\n",
            "[CV] n_estimators=1000, max_depth=16, criterion=gini .................\n",
            "[CV]  n_estimators=1000, max_depth=16, criterion=gini, score=0.464, total=   1.5s\n",
            "[CV] n_estimators=1000, max_depth=16, criterion=gini .................\n",
            "[CV]  n_estimators=1000, max_depth=16, criterion=gini, score=0.536, total=   1.5s\n",
            "[CV] n_estimators=1000, max_depth=16, criterion=gini .................\n",
            "[CV]  n_estimators=1000, max_depth=16, criterion=gini, score=0.500, total=   1.5s\n",
            "[CV] n_estimators=600, max_depth=18, criterion=gini ..................\n",
            "[CV]  n_estimators=600, max_depth=18, criterion=gini, score=0.500, total=   0.9s\n",
            "[CV] n_estimators=600, max_depth=18, criterion=gini ..................\n",
            "[CV]  n_estimators=600, max_depth=18, criterion=gini, score=0.500, total=   0.9s\n",
            "[CV] n_estimators=600, max_depth=18, criterion=gini ..................\n",
            "[CV]  n_estimators=600, max_depth=18, criterion=gini, score=0.464, total=   0.9s\n",
            "[CV] n_estimators=600, max_depth=18, criterion=gini ..................\n",
            "[CV]  n_estimators=600, max_depth=18, criterion=gini, score=0.571, total=   0.9s\n",
            "[CV] n_estimators=600, max_depth=18, criterion=gini ..................\n",
            "[CV]  n_estimators=600, max_depth=18, criterion=gini, score=0.536, total=   0.9s\n",
            "[CV] n_estimators=100, max_depth=2, criterion=gini ...................\n",
            "[CV]  n_estimators=100, max_depth=2, criterion=gini, score=0.429, total=   0.1s\n",
            "[CV] n_estimators=100, max_depth=2, criterion=gini ...................\n",
            "[CV]  n_estimators=100, max_depth=2, criterion=gini, score=0.464, total=   0.2s\n",
            "[CV] n_estimators=100, max_depth=2, criterion=gini ...................\n",
            "[CV]  n_estimators=100, max_depth=2, criterion=gini, score=0.464, total=   0.1s\n",
            "[CV] n_estimators=100, max_depth=2, criterion=gini ...................\n",
            "[CV]  n_estimators=100, max_depth=2, criterion=gini, score=0.464, total=   0.1s\n",
            "[CV] n_estimators=100, max_depth=2, criterion=gini ...................\n",
            "[CV]  n_estimators=100, max_depth=2, criterion=gini, score=0.464, total=   0.1s\n",
            "[CV] n_estimators=1400, max_depth=3, criterion=gini ..................\n",
            "[CV]  n_estimators=1400, max_depth=3, criterion=gini, score=0.429, total=   1.9s\n",
            "[CV] n_estimators=1400, max_depth=3, criterion=gini ..................\n",
            "[CV]  n_estimators=1400, max_depth=3, criterion=gini, score=0.464, total=   1.9s\n",
            "[CV] n_estimators=1400, max_depth=3, criterion=gini ..................\n",
            "[CV]  n_estimators=1400, max_depth=3, criterion=gini, score=0.464, total=   1.9s\n",
            "[CV] n_estimators=1400, max_depth=3, criterion=gini ..................\n",
            "[CV]  n_estimators=1400, max_depth=3, criterion=gini, score=0.464, total=   1.9s\n",
            "[CV] n_estimators=1400, max_depth=3, criterion=gini ..................\n",
            "[CV]  n_estimators=1400, max_depth=3, criterion=gini, score=0.500, total=   1.9s\n",
            "[CV] n_estimators=400, max_depth=2, criterion=entropy ................\n",
            "[CV]  n_estimators=400, max_depth=2, criterion=entropy, score=0.429, total=   0.5s\n",
            "[CV] n_estimators=400, max_depth=2, criterion=entropy ................\n",
            "[CV]  n_estimators=400, max_depth=2, criterion=entropy, score=0.464, total=   0.5s\n",
            "[CV] n_estimators=400, max_depth=2, criterion=entropy ................\n",
            "[CV]  n_estimators=400, max_depth=2, criterion=entropy, score=0.464, total=   0.5s\n",
            "[CV] n_estimators=400, max_depth=2, criterion=entropy ................\n",
            "[CV]  n_estimators=400, max_depth=2, criterion=entropy, score=0.464, total=   0.5s\n",
            "[CV] n_estimators=400, max_depth=2, criterion=entropy ................\n",
            "[CV]  n_estimators=400, max_depth=2, criterion=entropy, score=0.464, total=   0.6s\n"
          ],
          "name": "stdout"
        },
        {
          "output_type": "stream",
          "text": [
            "[Parallel(n_jobs=1)]: Done  50 out of  50 | elapsed:   38.9s finished\n"
          ],
          "name": "stderr"
        },
        {
          "output_type": "stream",
          "text": [
            "0.5357142857142858\n",
            "{'bootstrap': True, 'ccp_alpha': 0.0, 'class_weight': None, 'criterion': 'entropy', 'max_depth': 19, 'max_features': 'auto', 'max_leaf_nodes': None, 'max_samples': None, 'min_impurity_decrease': 0.0, 'min_impurity_split': None, 'min_samples_leaf': 1, 'min_samples_split': 2, 'min_weight_fraction_leaf': 0.0, 'n_estimators': 500, 'n_jobs': None, 'oob_score': False, 'random_state': None, 'verbose': 0, 'warm_start': False}\n"
          ],
          "name": "stdout"
        }
      ]
    },
    {
      "cell_type": "code",
      "metadata": {
        "id": "_HMg7RGQkyw9",
        "colab": {
          "base_uri": "https://localhost:8080/"
        },
        "outputId": "3e9724f6-b07d-424f-cb2a-00f60cfdfe7b"
      },
      "source": [
        "y_pred_model_RF = classifier_model_RF.predict(X_test)\n",
        "\n",
        "accuracy_score_model_RF = accuracy_score(y_test, y_pred_model_RF)\n",
        "precision_score_model_RF = precision_score(y_test, y_pred_model_RF , average = 'micro')\n",
        "recall_score_model_RF = recall_score(y_test, y_pred_model_RF , average = 'micro')\n",
        "f1_score_model_RF = f1_score(y_test, y_pred_model_RF , average = 'micro')\n",
        "print(\"Accuracy Score: \" , accuracy_score_model_RF)\n",
        "print(\"Precision Score: \" , precision_score_model_RF)\n",
        "print(\"Recall Score: \" , recall_score_model_RF)\n",
        "print(\"F1 Score: \" , f1_score_model_RF)"
      ],
      "execution_count": 267,
      "outputs": [
        {
          "output_type": "stream",
          "text": [
            "Accuracy Score:  0.5666666666666667\n",
            "Precision Score:  0.5666666666666667\n",
            "Recall Score:  0.5666666666666667\n",
            "F1 Score:  0.5666666666666667\n"
          ],
          "name": "stdout"
        }
      ]
    },
    {
      "cell_type": "code",
      "metadata": {
        "id": "Jv8KNIbcky7X",
        "colab": {
          "base_uri": "https://localhost:8080/",
          "height": 385
        },
        "outputId": "7bea747b-edd8-4149-f13f-b03a91bb65ac"
      },
      "source": [
        "cm_model_RF = confusion_matrix(y_test, y_pred_model_RF)\n",
        "\n",
        "df_cm_model_RF = pd.DataFrame(cm_model_RF, range(3), range(3))\n",
        "plt.figure(figsize=(10,6))\n",
        "categories = ['Negative','Neutral','Positive']\n",
        "sns.set(font_scale=1.2) # for label size\n",
        "sns.heatmap(df_cm_model_RF, annot=True, annot_kws={\"size\": 18}, xticklabels = categories,\n",
        "            yticklabels = categories ,fmt=\"d\") # font size\n",
        "plt.ylim(0, 3)\n",
        "plt.show()"
      ],
      "execution_count": 268,
      "outputs": [
        {
          "output_type": "display_data",
          "data": {
            "image/png": "[encoded data removed]",
            "text/plain": [
              "<Figure size 720x432 with 2 Axes>"
            ]
          },
          "metadata": {
            "tags": []
          }
        }
      ]
    },
    {
      "cell_type": "code",
      "metadata": {
        "id": "DQyX1mAPky_I",
        "colab": {
          "base_uri": "https://localhost:8080/"
        },
        "outputId": "7ffa670e-86fa-49f0-c7a7-03f03a727c7b"
      },
      "source": [
        "classifier_NB = MultinomialNB()\n",
        "classifier_NB.fit(X_train, y_train)\n",
        "y_pred_NB = classifier_NB.predict(X_test)\n",
        "\n",
        "accuracy_score_NB = accuracy_score(y_test, y_pred_NB)\n",
        "precision_score_NB = precision_score(y_test, y_pred_NB , average = 'micro')\n",
        "recall_score_NB = recall_score(y_test, y_pred_NB, average = 'micro')\n",
        "f1_score_NB = f1_score(y_test, y_pred_NB, average = 'micro')\n",
        "print(\"Accuracy Score: \" , accuracy_score_NB)\n",
        "print(\"Precision Score: \" , precision_score_NB)\n",
        "print(\"Recall Score: \" , recall_score_NB)\n",
        "print(\"F1 Score: \" , f1_score_NB)"
      ],
      "execution_count": 269,
      "outputs": [
        {
          "output_type": "stream",
          "text": [
            "Accuracy Score:  0.6333333333333333\n",
            "Precision Score:  0.6333333333333333\n",
            "Recall Score:  0.6333333333333333\n",
            "F1 Score:  0.6333333333333333\n"
          ],
          "name": "stdout"
        }
      ]
    },
    {
      "cell_type": "code",
      "metadata": {
        "id": "9tg9p6S-kzDm",
        "colab": {
          "base_uri": "https://localhost:8080/",
          "height": 385
        },
        "outputId": "5e546ea6-fac1-44ca-c11b-729a4539c002"
      },
      "source": [
        "cm_NB = confusion_matrix(y_test, y_pred_NB)\n",
        "\n",
        "df_cm_NB = pd.DataFrame(cm_NB, range(3), range(3))\n",
        "plt.figure(figsize=(10,6))\n",
        "categories = ['Negative','Neutral','Positive']\n",
        "sns.set(font_scale=1.2) # for label size\n",
        "sns.heatmap(df_cm_NB, annot=True, annot_kws={\"size\": 18}, xticklabels = categories,\n",
        "            yticklabels = categories,fmt=\"d\") # font size\n",
        "plt.ylim(0, 3)\n",
        "plt.show()"
      ],
      "execution_count": 270,
      "outputs": [
        {
          "output_type": "display_data",
          "data": {
            "image/png": "[encoded data removed]",
            "text/plain": [
              "<Figure size 720x432 with 2 Axes>"
            ]
          },
          "metadata": {
            "tags": []
          }
        }
      ]
    },
    {
      "cell_type": "code",
      "metadata": {
        "id": "BTe09ktPkzKE",
        "colab": {
          "base_uri": "https://localhost:8080/"
        },
        "outputId": "ceed5e98-7550-4ce0-afeb-639883242a75"
      },
      "source": [
        "#Getting the parameters of the particular model \n",
        "classifier_NB.get_params().keys()"
      ],
      "execution_count": 271,
      "outputs": [
        {
          "output_type": "execute_result",
          "data": {
            "text/plain": [
              "dict_keys(['alpha', 'class_prior', 'fit_prior'])"
            ]
          },
          "metadata": {
            "tags": []
          },
          "execution_count": 271
        }
      ]
    },
    {
      "cell_type": "code",
      "metadata": {
        "id": "NrTKsiC6kzOQ",
        "colab": {
          "base_uri": "https://localhost:8080/"
        },
        "outputId": "1c02d12e-43ca-41cd-f0d3-abfd39ca29df"
      },
      "source": [
        "classifier_NB_opti = MultinomialNB() #Using the MultinomialNB\n",
        "param_grid = {'alpha':[1,2,3,4], } #Selecting the parameters\n",
        "\n",
        "classifier_model_NB = model_selection.GridSearchCV(estimator=classifier_NB_opti, #GridSearch\n",
        "                                    param_grid=param_grid,\n",
        "                                        cv=10)\n",
        "classifier_model_NB.fit(X_train,y_train)\n",
        "print(classifier_model_NB.best_score_) #Gives the best score of the model\n",
        "print(classifier_model_NB.best_estimator_.get_params()) #Gives the best parameters of the model"
      ],
      "execution_count": 272,
      "outputs": [
        {
          "output_type": "stream",
          "text": [
            "0.5928571428571429\n",
            "{'alpha': 1, 'class_prior': None, 'fit_prior': True}\n"
          ],
          "name": "stdout"
        }
      ]
    },
    {
      "cell_type": "code",
      "metadata": {
        "id": "2ypJAX2PkzR_",
        "colab": {
          "base_uri": "https://localhost:8080/"
        },
        "outputId": "b5c39712-5147-4df8-e5ed-1448652ec27c"
      },
      "source": [
        "y_pred_model_NB = classifier_model_NB.predict(X_test)\n",
        "\n",
        "accuracy_score_model_NB = accuracy_score(y_test, y_pred_model_NB)\n",
        "precision_score_model_NB = precision_score(y_test, y_pred_model_NB , average = 'micro')\n",
        "recall_score_model_NB = recall_score(y_test, y_pred_model_NB , average = 'micro')\n",
        "f1_score_model_NB = f1_score(y_test, y_pred_model_NB, average = 'micro')\n",
        "print(\"Accuracy Score: \" , accuracy_score_model_NB)\n",
        "print(\"Precision Score: \" , precision_score_model_NB)\n",
        "print(\"Recall Score: \" , recall_score_model_NB)\n",
        "print(\"F1 Score: \" , f1_score_model_NB)"
      ],
      "execution_count": 273,
      "outputs": [
        {
          "output_type": "stream",
          "text": [
            "Accuracy Score:  0.6333333333333333\n",
            "Precision Score:  0.6333333333333333\n",
            "Recall Score:  0.6333333333333333\n",
            "F1 Score:  0.6333333333333333\n"
          ],
          "name": "stdout"
        }
      ]
    },
    {
      "cell_type": "code",
      "metadata": {
        "id": "ZBBcB7kVkzVo",
        "colab": {
          "base_uri": "https://localhost:8080/",
          "height": 385
        },
        "outputId": "26d8214f-14c9-4c70-cdfd-89ab859e0323"
      },
      "source": [
        "cm_model_NB = confusion_matrix(y_test, y_pred_model_NB)\n",
        "\n",
        "df_cm_model_NB = pd.DataFrame(cm_model_NB, range(3), range(3))\n",
        "plt.figure(figsize=(10,6))\n",
        "categories = ['Negative','Neutral','Positive']\n",
        "sns.set(font_scale=1.2) # for label size\n",
        "sns.heatmap(df_cm_model_NB, annot=True, annot_kws={\"size\": 18}, xticklabels = categories,\n",
        "            yticklabels = categories ,fmt=\"d\") # font size\n",
        "plt.ylim(0, 3)\n",
        "plt.show()"
      ],
      "execution_count": 274,
      "outputs": [
        {
          "output_type": "display_data",
          "data": {
            "image/png": "[encoded data removed]",
            "text/plain": [
              "<Figure size 720x432 with 2 Axes>"
            ]
          },
          "metadata": {
            "tags": []
          }
        }
      ]
    },
    {
      "cell_type": "code",
      "metadata": {
        "id": "LI2iJixRkzZc",
        "colab": {
          "base_uri": "https://localhost:8080/",
          "height": 288
        },
        "outputId": "eb91b765-b445-41a3-eea2-d68b773ee9d4"
      },
      "source": [
        "Accuracy = [accuracy_score_RF, accuracy_score_DT, accuracy_score_model_NB]\n",
        "Methods = ['Random_Forest', 'Decision_Trees', 'Naive_Bayes']\n",
        "Accuracy_pos = np.arange(len(Methods))\n",
        "plt.bar(Accuracy_pos, Accuracy)\n",
        "plt.xticks(Accuracy_pos, Methods)\n",
        "plt.title('Comparing Accuracy Score')\n",
        "plt.show()"
      ],
      "execution_count": 275,
      "outputs": [
        {
          "output_type": "display_data",
          "data": {
            "image/png": "[encoded data removed]",
            "text/plain": [
              "<Figure size 432x288 with 1 Axes>"
            ]
          },
          "metadata": {
            "tags": []
          }
        }
      ]
    },
    {
      "cell_type": "code",
      "metadata": {
        "id": "M1bdj4N1kzkQ",
        "colab": {
          "base_uri": "https://localhost:8080/",
          "height": 288
        },
        "outputId": "e9ef45db-529c-4062-de16-bc6eb5234b28"
      },
      "source": [
        "Precision = [precision_score_RF, precision_score_DT, precision_score_model_NB]\n",
        "Methods = ['Random_Forest', 'Decision_Trees', 'Naive_Bayes']\n",
        "Precision_pos = np.arange(len(Methods))\n",
        "plt.bar(Precision_pos, Precision)\n",
        "plt.xticks(Precision_pos, Methods)\n",
        "plt.title('Comparing Precision Score')\n",
        "plt.show()"
      ],
      "execution_count": 276,
      "outputs": [
        {
          "output_type": "display_data",
          "data": {
            "image/png": "[encoded data removed]",
            "text/plain": [
              "<Figure size 432x288 with 1 Axes>"
            ]
          },
          "metadata": {
            "tags": []
          }
        }
      ]
    },
    {
      "cell_type": "code",
      "metadata": {
        "id": "PSP5LN84kzec",
        "colab": {
          "base_uri": "https://localhost:8080/",
          "height": 288
        },
        "outputId": "e5d9c28c-1117-4760-a380-5a6c67dc092d"
      },
      "source": [
        "Recall = [recall_score_RF, recall_score_DT, recall_score_model_NB]\n",
        "Methods = ['Random_Forest', 'Decision_Trees', 'Naive_Bayes']\n",
        "Recall_pos = np.arange(len(Methods))\n",
        "plt.bar(Recall_pos, Recall)\n",
        "plt.xticks(Recall_pos, Methods)\n",
        "plt.title('Comparing Recall Score')\n",
        "plt.show()"
      ],
      "execution_count": 277,
      "outputs": [
        {
          "output_type": "display_data",
          "data": {
            "image/png": "[encoded data removed]",
            "text/plain": [
              "<Figure size 432x288 with 1 Axes>"
            ]
          },
          "metadata": {
            "tags": []
          }
        }
      ]
    },
    {
      "cell_type": "code",
      "metadata": {
        "id": "PFp_117WkzHO",
        "colab": {
          "base_uri": "https://localhost:8080/",
          "height": 288
        },
        "outputId": "8413c297-65b3-4fd9-8189-c9905b51709b"
      },
      "source": [
        "\n",
        "F1 = [f1_score_RF,f1_score_DT,f1_score_model_NB]\n",
        "Methods = ['Random_Forest', 'Decision_Trees', 'Naive_Bayes']\n",
        "F1_pos = np.arange(len(Methods))\n",
        "plt.bar(F1_pos, F1)\n",
        "plt.xticks(F1_pos, Methods)\n",
        "plt.title('Comparing F1 Score')\n",
        "plt.show()"
      ],
      "execution_count": 278,
      "outputs": [
        {
          "output_type": "display_data",
          "data": {
            "image/png": "[encoded data removed]",
            "text/plain": [
              "<Figure size 432x288 with 1 Axes>"
            ]
          },
          "metadata": {
            "tags": []
          }
        }
      ]
    }
  ]
}